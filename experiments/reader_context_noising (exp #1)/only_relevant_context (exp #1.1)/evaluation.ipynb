{
 "cells": [
  {
   "cell_type": "code",
   "execution_count": 1,
   "metadata": {},
   "outputs": [
    {
     "name": "stderr",
     "output_type": "stream",
     "text": [
      "/trinity/home/team06/workspace/mikhail_workspace/mikhail_venv/lib/python3.10/site-packages/tqdm/auto.py:21: TqdmWarning: IProgress not found. Please update jupyter and ipywidgets. See https://ipywidgets.readthedocs.io/en/stable/user_install.html\n",
      "  from .autonotebook import tqdm as notebook_tqdm\n"
     ]
    }
   ],
   "source": [
    "import sys\n",
    "#BASE_DIR = \"/home/dzigen/Desktop/ITMO/smiles2024/RAG-project-SMILES-2024-\"\n",
    "BASE_DIR = \"/trinity/home/team06/workspace/mikhail_workspace/rag_project\"\n",
    "sys.path.insert(0, BASE_DIR)\n",
    "\n",
    "from src.Reader import LLM_Model\n",
    "from src.utils import ReaderMetrics, save_reader_trial_log, prepare_reader_configs, load_benchmarks_df\n",
    "from src.utils import evaluate_reader"
   ]
  },
  {
   "cell_type": "code",
   "execution_count": 2,
   "metadata": {},
   "outputs": [],
   "source": [
    "# !!! TO CHANGE !!!\n",
    "TRIAL = 3\n",
    "BENCHMARKS_MAXSIZE = 500\n",
    "BENCHMARKS_INFO = {'mtssquad': {'table': 'v1'}}\n",
    "\n",
    "READER_PARAMS = {\n",
    "    'prompts': {\n",
    "        \"assistant\": \"Отвечай на вопросы, используя информацию из текстов в списке ниже:\",\n",
    "        \"system\": \"Ты вопросно-ответная система. Все ответы генерируй на русском языке. По вопросам отвечай кратко, чётко и конкретно. Не генерируй излишнюю информацию.\",\n",
    "    },\n",
    "    'gen': {'max_new_tokens': 512, 'eos_token_id': 79097},\n",
    "    'data_operate': {'batch_size': 8, 'num_workers':8}\n",
    "    }\n",
    "\n",
    "BERTSCORE_MODEL_PATH = \"ru_electra_medium\"\n",
    "# !!! TO CHANGE !!!\n",
    "\n",
    "SAVE_LOGDIR = f'./logs/trial{TRIAL}'\n",
    "SAVE_HYPERPARAMS = f'{SAVE_LOGDIR}/hyperparams.json'\n",
    "SAVE_READERCACHE = f'{SAVE_LOGDIR}/reader_cache.json'"
   ]
  },
  {
   "cell_type": "code",
   "execution_count": 3,
   "metadata": {},
   "outputs": [],
   "source": [
    "banchmarks_path = {}\n",
    "for name, version in BENCHMARKS_INFO.items():\n",
    "    banchmarks_path[name] = {\n",
    "        'table': f\"{BASE_DIR}/data/{name}/tables/{version['table']}/benchmark.csv\",\n",
    "    }"
   ]
  },
  {
   "cell_type": "code",
   "execution_count": 4,
   "metadata": {},
   "outputs": [],
   "source": [
    "benchmarks_df = load_benchmarks_df(banchmarks_path, BENCHMARKS_MAXSIZE)"
   ]
  },
  {
   "cell_type": "code",
   "execution_count": 5,
   "metadata": {},
   "outputs": [
    {
     "name": "stdout",
     "output_type": "stream",
     "text": [
      "Loading Meteor...\n",
      "Loading ExactMatch\n"
     ]
    }
   ],
   "source": [
    "reader_config = prepare_reader_configs(READER_PARAMS)\n",
    "reader_metrics = ReaderMetrics(base_dir=BASE_DIR, model_path=BERTSCORE_MODEL_PATH)"
   ]
  },
  {
   "cell_type": "code",
   "execution_count": 6,
   "metadata": {},
   "outputs": [
    {
     "name": "stderr",
     "output_type": "stream",
     "text": [
      "Loading checkpoint shards: 100%|██████████| 4/4 [03:30<00:00, 52.73s/it]\n"
     ]
    }
   ],
   "source": [
    "READER = LLM_Model(reader_config)"
   ]
  },
  {
   "cell_type": "code",
   "execution_count": 7,
   "metadata": {},
   "outputs": [],
   "source": [
    "contexts = {name: [reader_config.prompts.assistant + \"\\n\\n\" + \"\\n\\n\".join([f'{i+1}. {doc}' for i, doc in enumerate(docs)]) \n",
    "                                                                      for docs in df['contexts'].to_list()] for name, df in benchmarks_df.items()}"
   ]
  },
  {
   "cell_type": "code",
   "execution_count": 8,
   "metadata": {},
   "outputs": [
    {
     "name": "stderr",
     "output_type": "stream",
     "text": [
      "  0%|          | 0/500 [00:00<?, ?it/s]/trinity/home/team06/workspace/mikhail_workspace/mikhail_venv/lib/python3.10/site-packages/numpy/core/fromnumeric.py:3504: RuntimeWarning: Mean of empty slice.\n",
      "  return _methods._mean(a, axis=axis, dtype=dtype,\n",
      "/trinity/home/team06/workspace/mikhail_workspace/mikhail_venv/lib/python3.10/site-packages/numpy/core/_methods.py:129: RuntimeWarning: invalid value encountered in scalar divide\n",
      "  ret = ret.dtype.type(ret / rcount)\n",
      "100%|██████████| 500/500 [21:40<00:00,  2.60s/it, BLEU2=0.367, BLEU1=0.45, ExactMatch=0.04, METEOR=0.629, BertScore=nan]     \n"
     ]
    }
   ],
   "source": [
    "reader_scores, reader_cache = evaluate_reader(benchmarks_df, READER, reader_metrics, contexts)"
   ]
  },
  {
   "cell_type": "code",
   "execution_count": 9,
   "metadata": {},
   "outputs": [],
   "source": [
    "save_reader_trial_log(SAVE_LOGDIR, reader_scores, SAVE_HYPERPARAMS, SAVE_READERCACHE, \n",
    "                      reader_cache, BENCHMARKS_INFO, BENCHMARKS_MAXSIZE, READER_PARAMS)"
   ]
  },
  {
   "cell_type": "code",
   "execution_count": null,
   "metadata": {},
   "outputs": [],
   "source": []
  }
 ],
 "metadata": {
  "kernelspec": {
   "display_name": "mikhail_venv",
   "language": "python",
   "name": "mikhail_venv"
  },
  "language_info": {
   "codemirror_mode": {
    "name": "ipython",
    "version": 3
   },
   "file_extension": ".py",
   "mimetype": "text/x-python",
   "name": "python",
   "nbconvert_exporter": "python",
   "pygments_lexer": "ipython3",
   "version": "3.10.9"
  }
 },
 "nbformat": 4,
 "nbformat_minor": 4
}
