{
 "cells": [
  {
   "cell_type": "code",
   "execution_count": 1,
   "metadata": {},
   "outputs": [],
   "source": [
    "import sys\n",
    "BASE_DIR = \"/home/dzigen/Desktop/ITMO/smiles2024/RAG-project-SMILES-2024-\"\n",
    "sys.path.insert(0, BASE_DIR)\n",
    "\n",
    "from src.utils import evaluate_retriever\n",
    "from src.utils import RetrieverMetrics, save_retriever_trial_log, prepare_retriever_configs, load_benchmarks_df"
   ]
  },
  {
   "cell_type": "code",
   "execution_count": 2,
   "metadata": {},
   "outputs": [],
   "source": [
    "# !!! TO CHANGE !!!\n",
    "TRIAL = 1\n",
    "BENCHMARKS_MAXSIZE = 5000\n",
    "BENCHMARKS_INFO = {'mtssquad': {'db': 'v2', 'table': 'v1'}}\n",
    "\n",
    "RETRIEVER_PARAMS = {\n",
    "    \"model_path\": \"/home/dzigen/Desktop/nlp_models/intfloat/multilingual-e5-small\",\n",
    "    \"densedb_kwargs\": {'metadata': {\"hnsw:space\": \"ip\"}},\n",
    "    \"model_kwargs\": {'device':'cuda'},\n",
    "    \"encode_kwargs\": {'normalize_embeddings': True, 'prompt': 'query: '},\n",
    "    \"params\": {'fetch_k': 50, 'threshold': -1, 'max_k': 3}\n",
    "}\n",
    "# !!! TO CHANGE !!!\n",
    "\n",
    "SAVE_LOGDIR = f'./logs/trial{TRIAL}'\n",
    "SAVE_HYPERPARAMS = f'{SAVE_LOGDIR}/hyperparams.json'\n",
    "SAVE_RETRIEVERCACHE = f'{SAVE_LOGDIR}/retriever_cache.json'"
   ]
  },
  {
   "cell_type": "code",
   "execution_count": 3,
   "metadata": {},
   "outputs": [],
   "source": [
    "retrivers_config, benchmarks_path = prepare_retriever_configs(BASE_DIR, BENCHMARKS_INFO, RETRIEVER_PARAMS)\n",
    "metrics = RetrieverMetrics()"
   ]
  },
  {
   "cell_type": "code",
   "execution_count": 4,
   "metadata": {},
   "outputs": [],
   "source": [
    "benchmarks_df = load_benchmarks_df(benchmarks_path, BENCHMARKS_MAXSIZE)"
   ]
  },
  {
   "cell_type": "code",
   "execution_count": 5,
   "metadata": {},
   "outputs": [
    {
     "name": "stderr",
     "output_type": "stream",
     "text": [
      "No sentence-transformers model found with name /home/dzigen/Desktop/nlp_models/intfloat/multilingual-e5-small. Creating a new one with mean pooling.\n"
     ]
    },
    {
     "name": "stdout",
     "output_type": "stream",
     "text": [
      "mtssquad\n"
     ]
    },
    {
     "name": "stderr",
     "output_type": "stream",
     "text": [
      "  0%|          | 0/5000 [00:00<?, ?it/s]/home/dzigen/Desktop/ITMO/smiles2024/RAG-project-SMILES-2024-/src/utils/evaluation_metrics.py:37: RuntimeWarning: invalid value encountered in scalar divide\n",
      "  return (2 * self.precision(pred_cands, gold_cands, k) * self.recall(pred_cands, gold_cands, k)) / (self.precision(pred_cands, gold_cands, k) + self.recall(pred_cands, gold_cands, k))\n",
      "100%|██████████| 5000/5000 [00:58<00:00, 85.94it/s, MRR=1, mAP=1, Recall=1, Precision=0.333, F1=0.5]\n"
     ]
    }
   ],
   "source": [
    "retriever_scores, retriever_cache, _ = evaluate_retriever(benchmarks_df, retrivers_config, metrics)"
   ]
  },
  {
   "cell_type": "code",
   "execution_count": 6,
   "metadata": {},
   "outputs": [],
   "source": [
    "save_retriever_trial_log(SAVE_LOGDIR, retriever_scores, SAVE_HYPERPARAMS, SAVE_RETRIEVERCACHE,\n",
    "                         retriever_cache, BENCHMARKS_INFO, BENCHMARKS_MAXSIZE, RETRIEVER_PARAMS)"
   ]
  },
  {
   "cell_type": "code",
   "execution_count": null,
   "metadata": {},
   "outputs": [],
   "source": []
  }
 ],
 "metadata": {
  "kernelspec": {
   "display_name": ".nlp_venv",
   "language": "python",
   "name": "python3"
  },
  "language_info": {
   "codemirror_mode": {
    "name": "ipython",
    "version": 3
   },
   "file_extension": ".py",
   "mimetype": "text/x-python",
   "name": "python",
   "nbconvert_exporter": "python",
   "pygments_lexer": "ipython3",
   "version": "3.10.12"
  },
  "orig_nbformat": 4
 },
 "nbformat": 4,
 "nbformat_minor": 2
}
