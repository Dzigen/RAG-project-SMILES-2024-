{
 "cells": [
  {
   "cell_type": "code",
   "execution_count": 1,
   "metadata": {},
   "outputs": [],
   "source": [
    "import sys\n",
    "sys.path.insert(0, \"/home/dzigen/Desktop/ITMO/smiles2024/RAG-project-SMILES-2024-\")\n",
    "\n",
    "import pandas as pd \n",
    "import ast\n",
    "import numpy as np\n",
    "import json\n",
    "from tqdm import tqdm\n",
    "import os\n",
    "\n",
    "from src.Retriever import ThresholdRetriever, ThresholdRetrieverConfig\n",
    "from src.utils import RetrieverMetrics"
   ]
  },
  {
   "cell_type": "code",
   "execution_count": 2,
   "metadata": {},
   "outputs": [],
   "source": [
    "# !!! TO CHANGE !!!\n",
    "SAVE_LOGFILE = './logs/trial2.json'\n",
    "BENCHMARKS_INFO = {'mtssquad': {'db': 'v1', 'table': 'v1'}}\n",
    "\n",
    "CUSTOM_ARGS = {\n",
    "    \"model_path\": \"/home/dzigen/Desktop/nlp_models/intfloat/multilingual-e5-small\",\n",
    "    \"densedb_kwargs\": {'metadata': {\"hnsw:space\": \"l2\"}},\n",
    "    \"model_kwargs\": {'device':'cuda'},\n",
    "    \"encode_kwargs\": {'normalize_embeddings': False, 'prompt': 'query: '},\n",
    "    \"params\": {'fetch_k': 50, 'threshold': 8.0, 'max_k': 3}\n",
    "}\n",
    "\n",
    "\n",
    "BENCHES_SIZE = 1000\n",
    "# !!! TO CHANGE !!!"
   ]
  },
  {
   "cell_type": "code",
   "execution_count": 3,
   "metadata": {},
   "outputs": [],
   "source": [
    "banchmark_paths = {}\n",
    "for name, version in BENCHMARKS_INFO.items():\n",
    "    banchmark_paths[name] = {\n",
    "        'table': f\"../../data/{name}/tables/{version['table']}/benchmark.csv\",\n",
    "        'dense_db': f\"../../data/{name}/dbs/{version['db']}/densedb\"\n",
    "    }\n",
    "\n",
    "benchmark_config = {}\n",
    "for name, paths in banchmark_paths.items():\n",
    "    \n",
    "    CUSTOM_ARGS['densedb_path'] = banchmark_paths[name]['dense_db']\n",
    "    CUSTOM_ARGS['densedb_kwargs']['name'] = name\n",
    "\n",
    "    config = ThresholdRetrieverConfig(**CUSTOM_ARGS)\n",
    "\n",
    "    benchmark_config[name] = config"
   ]
  },
  {
   "cell_type": "code",
   "execution_count": 4,
   "metadata": {},
   "outputs": [],
   "source": [
    "# загрузить benchmark-датасет\n",
    "benchmarks_df = {}\n",
    "for name, bench_path in banchmark_paths.items():\n",
    "    benchmarks_df[name] = pd.read_csv(banchmark_paths[name]['table'], sep=';').iloc[:BENCHES_SIZE,:]\n",
    "    benchmarks_df[name]['chunk_ids'] = benchmarks_df[name]['chunk_ids'].map(lambda v: ast.literal_eval(v)) \n",
    "    benchmarks_df[name]['contexts'] = benchmarks_df[name]['contexts'].map(lambda v: ast.literal_eval(v)) \n",
    "\n",
    "# инифицализировать класс с метриками\n",
    "metrics = RetrieverMetrics()"
   ]
  },
  {
   "cell_type": "code",
   "execution_count": 5,
   "metadata": {},
   "outputs": [
    {
     "name": "stderr",
     "output_type": "stream",
     "text": [
      "No sentence-transformers model found with name /home/dzigen/Desktop/nlp_models/intfloat/multilingual-e5-small. Creating a new one with mean pooling.\n"
     ]
    }
   ],
   "source": [
    "# инициализировать ретриверов\n",
    "retrievers = {name: ThresholdRetriever(b_config) for name, b_config in benchmark_config.items()}"
   ]
  },
  {
   "cell_type": "code",
   "execution_count": 6,
   "metadata": {},
   "outputs": [
    {
     "name": "stdout",
     "output_type": "stream",
     "text": [
      "mtssquad\n"
     ]
    },
    {
     "name": "stderr",
     "output_type": "stream",
     "text": [
      "100%|██████████| 1000/1000 [00:11<00:00, 85.22it/s]\n"
     ]
    },
    {
     "name": "stdout",
     "output_type": "stream",
     "text": [
      "MRR:  0.8014998900000001\n",
      "median Recall:  1.0\n",
      "median Precision:  0.33333\n",
      "median F1:  0.499996249990625\n"
     ]
    },
    {
     "name": "stderr",
     "output_type": "stream",
     "text": [
      "/home/dzigen/Desktop/ITMO/smiles2024/RAG-project-SMILES-2024-/src/utils/evaluation_metrics.py:37: RuntimeWarning: invalid value encountered in scalar divide\n",
      "  return (2 * self.precision(pred_cands, gold_cands, k) * self.recall(pred_cands, gold_cands, k)) / (self.precision(pred_cands, gold_cands, k) + self.recall(pred_cands, gold_cands, k))\n"
     ]
    }
   ],
   "source": [
    "def get_relevant_chunk_ids(df, retriever):\n",
    "    relevant_chunk_ids = []\n",
    "    for i in tqdm(range(df.shape[0])):\n",
    "        output = retriever.invoke(df['question'][i])\n",
    "        relevant_chunk_ids.append(list(map(lambda item: item[2]['chunk_id'], output)))\n",
    "    \n",
    "    return relevant_chunk_ids\n",
    "\n",
    "\n",
    "benchmarks_score = {}\n",
    "for i, name in enumerate(benchmarks_df.keys()):\n",
    "    print(name)\n",
    "    # для каждого запроса получить список релевантных чанков\n",
    "    bench_pred_chunk_ids = get_relevant_chunk_ids(benchmarks_df[name], retrievers[name])\n",
    "    bench_golden_chunk_ids = benchmarks_df[name]['chunk_ids'].to_list()\n",
    "\n",
    "    mrr_score = metrics.MRR(bench_pred_chunk_ids, bench_golden_chunk_ids)\n",
    "    print(\"MRR: \", mrr_score)\n",
    "    \n",
    "    recall = [metrics.recall(relevant_ids, golden_ids, k=benchmark_config[name].params['max_k']) \n",
    "              for relevant_ids, golden_ids in zip(bench_pred_chunk_ids, bench_golden_chunk_ids)]\n",
    "    print(\"median Recall: \", np.median(recall))\n",
    "\n",
    "    precision = [metrics.precision(relevant_ids, golden_ids, k=benchmark_config[name].params['max_k']) \n",
    "                 for relevant_ids, golden_ids in zip(bench_pred_chunk_ids, bench_golden_chunk_ids)]\n",
    "    print(\"median Precision: \", np.median(precision))\n",
    "\n",
    "    f1 = list(map(lambda v: 0 if np.isnan(v) else v, [metrics.f1_score(relevant_ids, golden_ids, k=benchmark_config[name].params['max_k']) \n",
    "          for relevant_ids, golden_ids in zip(bench_pred_chunk_ids, bench_golden_chunk_ids)]))\n",
    "    print(\"median F1: \", np.median(f1))\n",
    "\n",
    "    # посчитать метрики \n",
    "    score = {\n",
    "        'MRR': mrr_score,\n",
    "        f'Recall@{benchmark_config[name].params[\"max_k\"]}': np.median(recall),\n",
    "        f'Precision@{benchmark_config[name].params[\"max_k\"]}': np.median(precision),\n",
    "        f'F1@{benchmark_config[name].params[\"max_k\"]}': np.median(f1)\n",
    "    }\n",
    "\n",
    "    benchmarks_score[name] = score"
   ]
  },
  {
   "cell_type": "code",
   "execution_count": 7,
   "metadata": {},
   "outputs": [],
   "source": [
    "# сохранить результат\n",
    "if os.path.exists(SAVE_LOGFILE):\n",
    "    print(\"Файл существует!\")\n",
    "    raise ValueError\n",
    "\n",
    "log_data = {'info': BENCHMARKS_INFO,\n",
    "            'hyperp': {'args': CUSTOM_ARGS, 'benchmark_sizes': BENCHES_SIZE},\n",
    "            'scores': benchmarks_score}\n",
    "\n",
    "with open(SAVE_LOGFILE, 'w', encoding='utf-8') as fd:\n",
    "    fd.write(json.dumps(log_data, indent=1))"
   ]
  },
  {
   "cell_type": "code",
   "execution_count": null,
   "metadata": {},
   "outputs": [],
   "source": []
  }
 ],
 "metadata": {
  "kernelspec": {
   "display_name": ".nlp_venv",
   "language": "python",
   "name": "python3"
  },
  "language_info": {
   "codemirror_mode": {
    "name": "ipython",
    "version": 3
   },
   "file_extension": ".py",
   "mimetype": "text/x-python",
   "name": "python",
   "nbconvert_exporter": "python",
   "pygments_lexer": "ipython3",
   "version": "3.10.12"
  },
  "orig_nbformat": 4
 },
 "nbformat": 4,
 "nbformat_minor": 2
}
