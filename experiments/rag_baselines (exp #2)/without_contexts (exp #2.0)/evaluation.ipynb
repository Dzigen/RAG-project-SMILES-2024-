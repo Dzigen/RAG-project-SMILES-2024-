{
 "cells": [
  {
   "cell_type": "code",
   "execution_count": 1,
   "metadata": {},
   "outputs": [],
   "source": [
    "import sys\n",
    "BASE_DIR = \"/home/dzigen/Desktop/ITMO/smiles2024/RAG-project-SMILES-2024-\"\n",
    "sys.path.insert(0, BASE_DIR)\n",
    "\n",
    "\n",
    "from src.Reader import LLM_model\n",
    "from src.utils import ReaderMetrics, save_reader_trial_log, prepare_reader_configs, load_benchmarks_df\n",
    "from src.utils import evaluate_reader"
   ]
  },
  {
   "cell_type": "code",
   "execution_count": 10,
   "metadata": {},
   "outputs": [],
   "source": [
    "# !!! TO CHANGE !!!\n",
    "TRIAL = 1\n",
    "BENCHMARKS_MAXSIZE = 1000\n",
    "BENCHMARKS_INFO = {'mtssquad': {'table': 'v1'}}\n",
    "\n",
    "READER_PARAMS = {\n",
    "    \"temperature\": 0.2,\n",
    "    \"top_k\": 40,\n",
    "    \"top_p\": 0.95,\n",
    "    \"min_p\": 0.05,\n",
    "    \"typical_p\": 1,\n",
    "    \"max_tokens\": -1,\n",
    "    \"assistant_prompt\": \"Отвечай на ответы, используя информацию из текстов в списке ниже:\",\n",
    "    \"system_prompt\": \"Ты вопросно-ответная система. Все ответы генерируй на русском языке. По вопросам отвечай чётко и конкретно.\"\n",
    "}\n",
    "# !!! TO CHANGE !!!\n",
    "\n",
    "SAVE_LOGDIR = f'./logs/trial{TRIAL}'\n",
    "SAVE_HYPERPARAMS = f'{SAVE_LOGDIR}/hyperparams.json'\n",
    "SAVE_READERCACHE = f'{SAVE_LOGDIR}/reader_cache.json'"
   ]
  },
  {
   "cell_type": "code",
   "execution_count": 3,
   "metadata": {},
   "outputs": [],
   "source": [
    "banchmarks_path = {}\n",
    "for name, version in BENCHMARKS_INFO.items():\n",
    "    banchmarks_path[name] = {\n",
    "        'table': f\"{BASE_DIR}/data/{name}/tables/{version['table']}/benchmark.csv\",\n",
    "    }"
   ]
  },
  {
   "cell_type": "code",
   "execution_count": 4,
   "metadata": {},
   "outputs": [],
   "source": [
    "benchmarks_df = load_benchmarks_df(banchmarks_path, BENCHMARKS_MAXSIZE)"
   ]
  },
  {
   "cell_type": "code",
   "execution_count": 11,
   "metadata": {},
   "outputs": [
    {
     "name": "stdout",
     "output_type": "stream",
     "text": [
      "Loading Meteor...\n",
      "Loading ExactMatch\n"
     ]
    }
   ],
   "source": [
    "hardw_c, hyperp_c = prepare_reader_configs(READER_PARAMS)\n",
    "reader_metrics = ReaderMetrics(base_dir=BASE_DIR)"
   ]
  },
  {
   "cell_type": "code",
   "execution_count": 8,
   "metadata": {},
   "outputs": [],
   "source": [
    "READER = LLM_model(hardw_c, hyperp_c)"
   ]
  },
  {
   "cell_type": "code",
   "execution_count": null,
   "metadata": {},
   "outputs": [],
   "source": [
    "reader_scores, reader_cache = evaluate_reader(benchmarks_df, READER, reader_metrics, [])_"
   ]
  },
  {
   "cell_type": "code",
   "execution_count": null,
   "metadata": {},
   "outputs": [],
   "source": [
    "save_reader_trial_log(SAVE_LOGDIR, reader_scores, SAVE_HYPERPARAMS, SAVE_READERCACHE, \n",
    "                      reader_cache, BENCHMARKS_INFO, BENCHMARKS_MAXSIZE, READER_PARAMS,)"
   ]
  }
 ],
 "metadata": {
  "kernelspec": {
   "display_name": ".nlp_venv",
   "language": "python",
   "name": "python3"
  },
  "language_info": {
   "codemirror_mode": {
    "name": "ipython",
    "version": 3
   },
   "file_extension": ".py",
   "mimetype": "text/x-python",
   "name": "python",
   "nbconvert_exporter": "python",
   "pygments_lexer": "ipython3",
   "version": "3.10.12"
  },
  "orig_nbformat": 4
 },
 "nbformat": 4,
 "nbformat_minor": 2
}
