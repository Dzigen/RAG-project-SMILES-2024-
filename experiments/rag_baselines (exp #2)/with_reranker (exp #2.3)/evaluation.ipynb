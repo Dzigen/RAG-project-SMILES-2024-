{
 "cells": [
  {
   "cell_type": "code",
   "execution_count": 1,
   "metadata": {},
   "outputs": [
    {
     "name": "stderr",
     "output_type": "stream",
     "text": [
      "/trinity/home/team06/workspace/mikhail_workspace/mikhail_venv/lib/python3.10/site-packages/tqdm/auto.py:21: TqdmWarning: IProgress not found. Please update jupyter and ipywidgets. See https://ipywidgets.readthedocs.io/en/stable/user_install.html\n",
      "  from .autonotebook import tqdm as notebook_tqdm\n"
     ]
    }
   ],
   "source": [
    "import sys\n",
    "#BASE_DIR = \"/home/dzigen/Desktop/ITMO/smiles2024/RAG-project-SMILES-2024-\"\n",
    "BASE_DIR = \"/trinity/home/team06/workspace/mikhail_workspace/rag_project\"\n",
    "sys.path.insert(0, BASE_DIR)\n",
    "\n",
    "import pandas as pd \n",
    "import ast\n",
    "import numpy as np\n",
    "import json\n",
    "from tqdm import tqdm\n",
    "from IPython.display import clear_output\n",
    "import os\n",
    "\n",
    "from src.Retriever import RerankRetriever\n",
    "from src.Scorer import SimilarityScorerConfig\n",
    "from src.Reader import LLM_Model\n",
    "from src.utils import ReaderMetrics, RetrieverMetrics, save_rag_trial_log, prepare_rerankretriever_configs, prepare_reader_configs, load_benchmarks_df\n",
    "from src.utils import evaluate_retriever, evaluate_reader"
   ]
  },
  {
   "cell_type": "code",
   "execution_count": 2,
   "metadata": {},
   "outputs": [],
   "source": [
    "# !!! TO CHANGE !!!\n",
    "TRIAL = 1\n",
    "BENCHMARKS_MAXSIZE = 500\n",
    "BENCHMARKS_INFO = {'mtssquad': {'db': 'v2', 'table': 'v1'}}\n",
    "\n",
    "# Retriever part\n",
    "RETRIEVER_PARAMS = {\n",
    "    \"stage1_retriever_config\": {\n",
    "        \"model_path\": f\"{BASE_DIR}/models/intfloat/multilingual-e5-small\",\n",
    "        \"densedb_kwargs\": {'metadata': {\"hnsw:space\": \"ip\"}},\n",
    "        \"model_kwargs\": {'device':'cuda'},\n",
    "        \"encode_kwargs\": {'normalize_embeddings': True, 'prompt': 'query: '},\n",
    "        \"params\": {'fetch_k': 50, 'threshold': 0.23, 'max_k': 10}},\n",
    "    \"scorer_config\": {\n",
    "        \"system_prompt\": '''Ты - экспертная система, задача которой - оценить релевантность контекста по отношению к данному вопросу. На вход поступает вопрос и контекст в текстовом формате, твоя задача - вернуть одну из двух меток: \"{cert_label}\" - в контексте содержится информация, которая может быть использована для верного ответа на данный вопрос и \"{uncert_label}\" - в контексте не содержится информации, которая может быть использована для верного ответа на данный вопрос. Не пиши ничего другого, кроме предсказываемой метки релевантности: \"{cert_label}\" либо \"{uncert_label}\". \n",
    "\n",
    "Примеры: \n",
    "\n",
    "Вопрос: По просьбе Мадонны поменяли аранжировщика на более опытного?\n",
    "Контекст: [' Everybody , как и хотела Мадонна, выпускают синглом. При нулевом бюджете на раскрутку фото певицы решают не помещать на обложке, чтобы не отпугнуть цветную аудиторию якобы негритянской диско-соул-певицы . Everybody поднимается на 3-е место в чарте Hot Dance Club Songs, а потом на 107 место в основном, немного не дотянув до первой сотни Hot 100 журнала Billboard[91]. Менеджмент считает это отличным результатом, учитывая нулевые затраты на пиар, и хочет убедиться, что взлёт Everybody не случаен. По просьбе Мадонны вместо Каминса берут более опытного штатного аранжировщика Warner Bros. Records Регги Лукаса (англ.)русск.. Второй сингл Burning Up тоже достигает в чарте танцевальных хитов 3-го места, повторив успех Everybody . И только после этого Мадонне позволяют арендовать студию для записи первого альбома[91].']\n",
    "Метка: {cert_label}\n",
    "\n",
    "Вопрос: Для чего осуществляется деятельность официальных органов по получению и применению финансовых средств?\n",
    "Контекст: [' Общественные финансы связываются с деятельностью государства (или местной власти), заключающейся в получении и применении средств, необходимых для выполнения надлежащих функций[51], с процессом и механизмом формирования и использования государственных ресурсов, балансом доходов и расходов, соответствующим административным контролем[3]. Некоторые авторы[52] также подчёркивают, что предмет общественных финансов лежит на границе между экономикой и политикой, а также отмечают, что в современных обществах доходы и расходы органов государственной власти состоят, почти исключительно, из денежных поступлений.']\n",
    "Метка: {cert_label}\n",
    "\n",
    "Вопрос: Кто запретил Нансену высадиться на побережье Гренландии?\n",
    "Контекст: ['29 февраля 1892 года столетие со дня рождения Россини было отмечено должным образом во Флоренции, но горожане, любившие его музыку, ощущали неловкость оттого, что на могиле Россини в Санта-Кроче все ещё не было подходящего памятника. На первом открытом конкурсе, состоявшемся в 1897 году, комиссия не сочла ни один проект приемлемым. На втором конкурсе, который состоялся в следующем году, новая комиссия одобрила проект Джузеппе Кассиоли. Получившийся в результате монумент был открыт 23 июня 1902 года. Поставленный на фоне северной стены Санта-Кроче, он содержит надпись: Джоаккино Россини . У его основания три датированных картуша гласят: Пезаро , Флоренция , Париж , таким образом, официально отрицая справедливые притязания Болоньи на то, что она внесла свою значительную лепту в длительную славу Россини.']\n",
    "Метка: {uncert_label}\n",
    "\n",
    "Вопрос: Кто в 1536 году был губернатором провинции Санта-Марта?\n",
    "Контекст: ['9 (21) мая владыка Иннокентий заложил в Усть-Зейской станице храм в честь Благовещения Пресвятой Богородицы (по имени этого храма был впоследствии назван город). 12 (24) мая начались переговоры между представителями Цинской империи и чиновниками российского внешнеполитического ведомства во главе с Н. Н. Муравьёвым. Переговоры велись 5 дней, сопровождаясь многочисленными церемониями по китайским и русским обычаям. 16 (28) мая 1858 года был подписан Айгунский договор, по условиям которого весь левый берег Амура признавался российским.']\n",
    "Метка: {uncert_label}''',\n",
    "    \"user_prompt_template\": \"Вопрос: {q}\\nДокумент: {c}\\nМетка: \",\n",
    "    \"cert_label\": \"1\",\n",
    "    \"uncert_label\": \"0\",\n",
    "    \"gen\": {'max_new_tokens': 20, 'eos_token_id': 79097},\n",
    "    \"batch_size\": 8\n",
    "    }\n",
    "}\n",
    "\n",
    "\n",
    "# Reader part\n",
    "READER_PARAMS = {\n",
    "    'prompts': {\n",
    "        \"assistant\": 'Отвечай на вопросы, используя информацию из текстов в списке ниже. Если ты не уверена в релевантности данных текстов по отношению к заданному вопросу, то сгенерируй следующий ответ: \"У меня нет ответа на ваш вопрос.\".',\n",
    "        \"system\": \"Ты вопросно-ответная система. Все ответы генерируй на русском языке. По вопросам отвечай кратко, чётко и конкретно. Не генерируй излишнюю информацию.\",\n",
    "    },\n",
    "    'gen': {'max_new_tokens': 512, 'eos_token_id': 79097},\n",
    "    'data_operate': {'batch_size': 1}\n",
    "    }\n",
    "\n",
    "\n",
    "ADDITIONAL_PARAMS = {\n",
    "    'topk_score_list': 3\n",
    "}\n",
    "\n",
    "BERTSCORE_MODEL_PATH = \"ru_electra_medium\"\n",
    "# !!! TO CHANGE !!!\n",
    "\n",
    "SAVE_LOGDIR = f'./logs/trial{TRIAL}'\n",
    "SAVE_HYPERPARAMS = f'{SAVE_LOGDIR}/hyperparams.json'\n",
    "SAVE_READERCACHE = f'{SAVE_LOGDIR}/reader_cache.json'\n",
    "SAVE_RETRIEVERCACHE = f'{SAVE_LOGDIR}/retriever_cache.json'"
   ]
  },
  {
   "cell_type": "markdown",
   "metadata": {},
   "source": [
    "##### Configure Reader-part"
   ]
  },
  {
   "cell_type": "code",
   "execution_count": 3,
   "metadata": {},
   "outputs": [
    {
     "name": "stderr",
     "output_type": "stream",
     "text": [
      "Loading checkpoint shards: 100%|██████████| 4/4 [03:41<00:00, 55.28s/it]\n"
     ]
    }
   ],
   "source": [
    "reader_config = prepare_reader_configs(READER_PARAMS)\n",
    "READER = LLM_Model(reader_config)"
   ]
  },
  {
   "cell_type": "code",
   "execution_count": 4,
   "metadata": {},
   "outputs": [],
   "source": [
    "sim_score_config = SimilarityScorerConfig()"
   ]
  },
  {
   "cell_type": "code",
   "execution_count": 5,
   "metadata": {},
   "outputs": [
    {
     "name": "stdout",
     "output_type": "stream",
     "text": [
      "Loading Meteor...\n",
      "Loading ExactMatch\n"
     ]
    }
   ],
   "source": [
    "reader_metrics = ReaderMetrics(BASE_DIR, BERTSCORE_MODEL_PATH, sim_score_config, READER)"
   ]
  },
  {
   "cell_type": "markdown",
   "metadata": {},
   "source": [
    "##### Configure Retriever-part"
   ]
  },
  {
   "cell_type": "code",
   "execution_count": 6,
   "metadata": {},
   "outputs": [],
   "source": [
    "retrievers_config, benchmarks_path = prepare_rerankretriever_configs(BASE_DIR, BENCHMARKS_INFO, RETRIEVER_PARAMS)\n",
    "retriever_metrics = RetrieverMetrics()"
   ]
  },
  {
   "cell_type": "code",
   "execution_count": 7,
   "metadata": {},
   "outputs": [],
   "source": [
    "benchmarks_df = load_benchmarks_df(benchmarks_path, BENCHMARKS_MAXSIZE)"
   ]
  },
  {
   "cell_type": "code",
   "execution_count": 8,
   "metadata": {},
   "outputs": [
    {
     "name": "stderr",
     "output_type": "stream",
     "text": [
      "No sentence-transformers model found with name /trinity/home/team06/workspace/mikhail_workspace/rag_project/models/intfloat/multilingual-e5-small. Creating a new one with mean pooling.\n"
     ]
    }
   ],
   "source": [
    "RETRIEVERS = {name: RerankRetriever(config, READER) for name, config in retrievers_config.items()}"
   ]
  },
  {
   "cell_type": "markdown",
   "metadata": {},
   "source": [
    "##### Evaluating pipeline"
   ]
  },
  {
   "cell_type": "code",
   "execution_count": 9,
   "metadata": {},
   "outputs": [
    {
     "name": "stdout",
     "output_type": "stream",
     "text": [
      "mtssquad\n"
     ]
    },
    {
     "name": "stderr",
     "output_type": "stream",
     "text": [
      "  0%|          | 0/500 [00:00<?, ?it/s]"
     ]
    },
    {
     "name": "stdout",
     "output_type": "stream",
     "text": [
      "uncert raw len:  1\n",
      "uncert raw len:  1\n",
      "uncert raw len:  1\n",
      "uncert raw len:  1\n",
      "uncert raw len:  1\n",
      "uncert raw len:  1\n",
      "uncert raw len:  1\n",
      "uncert raw len:  1\n"
     ]
    },
    {
     "name": "stderr",
     "output_type": "stream",
     "text": [
      "/trinity/home/team06/workspace/mikhail_workspace/rag_project/src/utils/evaluation_metrics.py:42: RuntimeWarning: invalid value encountered in scalar divide\n",
      "  return (2 * self.precision(pred_cands, gold_cands, k) * self.recall(pred_cands, gold_cands, k)) / (self.precision(pred_cands, gold_cands, k) + self.recall(pred_cands, gold_cands, k))\n",
      "/trinity/home/team06/workspace/mikhail_workspace/mikhail_venv/lib/python3.10/site-packages/numpy/core/fromnumeric.py:3504: RuntimeWarning: Mean of empty slice.\n",
      "  return _methods._mean(a, axis=axis, dtype=dtype,\n",
      "/trinity/home/team06/workspace/mikhail_workspace/mikhail_venv/lib/python3.10/site-packages/numpy/core/_methods.py:129: RuntimeWarning: invalid value encountered in scalar divide\n",
      "  ret = ret.dtype.type(ret / rcount)\n",
      "  0%|          | 1/500 [00:16<2:13:24, 16.04s/it, MRR=0, mAP=0, Recall=0, Precision=0, F1=0, NoRelContextScore=nan]"
     ]
    },
    {
     "name": "stdout",
     "output_type": "stream",
     "text": [
      "uncert raw len:  1\n",
      "uncert raw len:  1\n",
      "10 0\n",
      "uncert raw len:  1\n",
      "uncert raw len:  1\n",
      "uncert raw len:  1\n",
      "uncert raw len:  1\n",
      "uncert raw len:  1\n",
      "uncert raw len:  1\n",
      "uncert raw len:  1\n",
      "uncert raw len:  1\n"
     ]
    },
    {
     "name": "stderr",
     "output_type": "stream",
     "text": [
      "  0%|          | 2/500 [00:19<1:10:13,  8.46s/it, MRR=0, mAP=0, Recall=0, Precision=0, F1=0, NoRelContextScore=nan]"
     ]
    },
    {
     "name": "stdout",
     "output_type": "stream",
     "text": [
      "uncert raw len:  1\n",
      "uncert raw len:  1\n",
      "10 0\n",
      "uncert raw len:  1\n",
      "uncert raw len:  1\n",
      "uncert raw len:  1\n",
      "uncert raw len:  1\n",
      "uncert raw len:  1\n",
      "uncert raw len:  1\n",
      "uncert raw len:  1\n",
      "uncert raw len:  1\n"
     ]
    },
    {
     "name": "stderr",
     "output_type": "stream",
     "text": [
      "  1%|          | 3/500 [00:22<50:09,  6.05s/it, MRR=0, mAP=0, Recall=0, Precision=0, F1=0, NoRelContextScore=nan]  "
     ]
    },
    {
     "name": "stdout",
     "output_type": "stream",
     "text": [
      "uncert raw len:  1\n",
      "uncert raw len:  1\n",
      "10 0\n",
      "uncert raw len:  1\n",
      "uncert raw len:  1\n",
      "uncert raw len:  1\n",
      "uncert raw len:  1\n",
      "uncert raw len:  1\n",
      "uncert raw len:  1\n",
      "uncert raw len:  1\n",
      "uncert raw len:  1\n"
     ]
    },
    {
     "name": "stderr",
     "output_type": "stream",
     "text": [
      "  1%|          | 4/500 [00:25<40:04,  4.85s/it, MRR=0, mAP=0, Recall=0, Precision=0, F1=0, NoRelContextScore=nan]"
     ]
    },
    {
     "name": "stdout",
     "output_type": "stream",
     "text": [
      "uncert raw len:  1\n",
      "uncert raw len:  1\n",
      "10 0\n",
      "uncert raw len:  1\n",
      "uncert raw len:  1\n",
      "uncert raw len:  1\n",
      "uncert raw len:  1\n",
      "uncert raw len:  1\n",
      "uncert raw len:  1\n",
      "uncert raw len:  1\n",
      "uncert raw len:  1\n"
     ]
    },
    {
     "name": "stderr",
     "output_type": "stream",
     "text": [
      "  1%|          | 5/500 [00:28<34:34,  4.19s/it, MRR=0, mAP=0, Recall=0, Precision=0, F1=0, NoRelContextScore=nan]"
     ]
    },
    {
     "name": "stdout",
     "output_type": "stream",
     "text": [
      "uncert raw len:  1\n",
      "uncert raw len:  1\n",
      "10 0\n",
      "uncert raw len:  1\n",
      "uncert raw len:  1\n",
      "uncert raw len:  1\n",
      "uncert raw len:  1\n",
      "uncert raw len:  1\n",
      "uncert raw len:  1\n",
      "uncert raw len:  1\n",
      "uncert raw len:  1\n"
     ]
    },
    {
     "name": "stderr",
     "output_type": "stream",
     "text": [
      "  1%|          | 6/500 [00:31<32:27,  3.94s/it, MRR=0, mAP=0, Recall=0, Precision=0, F1=0, NoRelContextScore=nan]"
     ]
    },
    {
     "name": "stdout",
     "output_type": "stream",
     "text": [
      "uncert raw len:  1\n",
      "uncert raw len:  1\n",
      "10 0\n",
      "uncert raw len:  1\n",
      "uncert raw len:  1\n",
      "uncert raw len:  1\n",
      "uncert raw len:  1\n",
      "uncert raw len:  1\n",
      "uncert raw len:  1\n",
      "uncert raw len:  1\n",
      "uncert raw len:  1\n"
     ]
    },
    {
     "name": "stderr",
     "output_type": "stream",
     "text": [
      "  1%|▏         | 7/500 [00:34<29:59,  3.65s/it, MRR=0, mAP=0, Recall=0, Precision=0, F1=0, NoRelContextScore=nan]"
     ]
    },
    {
     "name": "stdout",
     "output_type": "stream",
     "text": [
      "uncert raw len:  1\n",
      "uncert raw len:  1\n",
      "10 0\n",
      "uncert raw len:  1\n",
      "uncert raw len:  1\n",
      "uncert raw len:  1\n",
      "uncert raw len:  1\n",
      "uncert raw len:  1\n",
      "uncert raw len:  1\n",
      "uncert raw len:  1\n",
      "uncert raw len:  1\n"
     ]
    },
    {
     "name": "stderr",
     "output_type": "stream",
     "text": [
      "  2%|▏         | 8/500 [00:38<28:39,  3.49s/it, MRR=0, mAP=0, Recall=0, Precision=0, F1=0, NoRelContextScore=nan]"
     ]
    },
    {
     "name": "stdout",
     "output_type": "stream",
     "text": [
      "uncert raw len:  1\n",
      "uncert raw len:  1\n",
      "10 0\n",
      "uncert raw len:  1\n",
      "uncert raw len:  1\n",
      "uncert raw len:  1\n",
      "uncert raw len:  1\n",
      "uncert raw len:  1\n",
      "uncert raw len:  1\n",
      "uncert raw len:  1\n",
      "uncert raw len:  1\n"
     ]
    },
    {
     "name": "stderr",
     "output_type": "stream",
     "text": [
      "  2%|▏         | 9/500 [00:41<27:41,  3.38s/it, MRR=0, mAP=0, Recall=0, Precision=0, F1=0, NoRelContextScore=nan]"
     ]
    },
    {
     "name": "stdout",
     "output_type": "stream",
     "text": [
      "uncert raw len:  1\n",
      "uncert raw len:  1\n",
      "10 0\n",
      "uncert raw len:  1\n",
      "uncert raw len:  1\n",
      "uncert raw len:  1\n",
      "uncert raw len:  1\n",
      "uncert raw len:  1\n",
      "uncert raw len:  1\n",
      "uncert raw len:  1\n",
      "uncert raw len:  1\n"
     ]
    },
    {
     "name": "stderr",
     "output_type": "stream",
     "text": [
      "  2%|▏         | 10/500 [00:44<26:48,  3.28s/it, MRR=0, mAP=0, Recall=0, Precision=0, F1=0, NoRelContextScore=nan]You seem to be using the pipelines sequentially on GPU. In order to maximize efficiency please use a dataset\n"
     ]
    },
    {
     "name": "stdout",
     "output_type": "stream",
     "text": [
      "uncert raw len:  1\n",
      "uncert raw len:  1\n",
      "10 0\n",
      "uncert raw len:  1\n",
      "uncert raw len:  1\n",
      "uncert raw len:  1\n",
      "uncert raw len:  1\n",
      "uncert raw len:  1\n",
      "uncert raw len:  1\n",
      "uncert raw len:  1\n",
      "uncert raw len:  1\n"
     ]
    },
    {
     "name": "stderr",
     "output_type": "stream",
     "text": [
      "  2%|▏         | 11/500 [00:48<28:30,  3.50s/it, MRR=0, mAP=0, Recall=0, Precision=0, F1=0, NoRelContextScore=nan]"
     ]
    },
    {
     "name": "stdout",
     "output_type": "stream",
     "text": [
      "uncert raw len:  1\n",
      "uncert raw len:  1\n",
      "10 0\n",
      "uncert raw len:  1\n",
      "uncert raw len:  1\n",
      "uncert raw len:  1\n",
      "uncert raw len:  1\n",
      "uncert raw len:  1\n",
      "uncert raw len:  1\n",
      "uncert raw len:  1\n",
      "uncert raw len:  1\n"
     ]
    },
    {
     "name": "stderr",
     "output_type": "stream",
     "text": [
      "  2%|▏         | 12/500 [00:51<27:37,  3.40s/it, MRR=0, mAP=0, Recall=0, Precision=0, F1=0, NoRelContextScore=nan]"
     ]
    },
    {
     "name": "stdout",
     "output_type": "stream",
     "text": [
      "uncert raw len:  1\n",
      "uncert raw len:  1\n",
      "10 0\n",
      "uncert raw len:  1\n",
      "uncert raw len:  1\n",
      "uncert raw len:  1\n",
      "uncert raw len:  1\n",
      "uncert raw len:  1\n",
      "uncert raw len:  1\n",
      "uncert raw len:  1\n",
      "uncert raw len:  1\n"
     ]
    },
    {
     "name": "stderr",
     "output_type": "stream",
     "text": [
      "  3%|▎         | 13/500 [00:54<26:49,  3.30s/it, MRR=0, mAP=0, Recall=0, Precision=0, F1=0, NoRelContextScore=nan]"
     ]
    },
    {
     "name": "stdout",
     "output_type": "stream",
     "text": [
      "uncert raw len:  1\n",
      "uncert raw len:  1\n",
      "10 0\n",
      "uncert raw len:  1\n",
      "uncert raw len:  1\n",
      "uncert raw len:  1\n",
      "uncert raw len:  1\n",
      "uncert raw len:  1\n",
      "uncert raw len:  1\n",
      "uncert raw len:  1\n",
      "uncert raw len:  1\n"
     ]
    },
    {
     "name": "stderr",
     "output_type": "stream",
     "text": [
      "  3%|▎         | 14/500 [00:57<26:25,  3.26s/it, MRR=0, mAP=0, Recall=0, Precision=0, F1=0, NoRelContextScore=nan]"
     ]
    },
    {
     "name": "stdout",
     "output_type": "stream",
     "text": [
      "uncert raw len:  1\n",
      "uncert raw len:  1\n",
      "10 0\n",
      "uncert raw len:  1\n",
      "uncert raw len:  1\n",
      "uncert raw len:  1\n",
      "uncert raw len:  1\n",
      "uncert raw len:  1\n",
      "uncert raw len:  1\n",
      "uncert raw len:  1\n",
      "uncert raw len:  1\n"
     ]
    },
    {
     "name": "stderr",
     "output_type": "stream",
     "text": [
      "  3%|▎         | 15/500 [01:00<25:50,  3.20s/it, MRR=0, mAP=0, Recall=0, Precision=0, F1=0, NoRelContextScore=nan]"
     ]
    },
    {
     "name": "stdout",
     "output_type": "stream",
     "text": [
      "uncert raw len:  1\n",
      "uncert raw len:  1\n",
      "10 0\n",
      "uncert raw len:  1\n",
      "uncert raw len:  1\n",
      "uncert raw len:  1\n",
      "uncert raw len:  1\n",
      "uncert raw len:  1\n",
      "uncert raw len:  1\n",
      "uncert raw len:  1\n",
      "uncert raw len:  1\n"
     ]
    },
    {
     "name": "stderr",
     "output_type": "stream",
     "text": [
      "  3%|▎         | 16/500 [01:03<25:34,  3.17s/it, MRR=0, mAP=0, Recall=0, Precision=0, F1=0, NoRelContextScore=nan]"
     ]
    },
    {
     "name": "stdout",
     "output_type": "stream",
     "text": [
      "uncert raw len:  1\n",
      "uncert raw len:  1\n",
      "10 0\n",
      "uncert raw len:  1\n",
      "uncert raw len:  1\n",
      "uncert raw len:  1\n",
      "uncert raw len:  1\n",
      "uncert raw len:  1\n",
      "uncert raw len:  1\n",
      "uncert raw len:  1\n",
      "uncert raw len:  1\n"
     ]
    },
    {
     "name": "stderr",
     "output_type": "stream",
     "text": [
      "  3%|▎         | 17/500 [01:06<25:28,  3.16s/it, MRR=0, mAP=0, Recall=0, Precision=0, F1=0, NoRelContextScore=nan]"
     ]
    },
    {
     "name": "stdout",
     "output_type": "stream",
     "text": [
      "uncert raw len:  1\n",
      "uncert raw len:  1\n",
      "10 0\n",
      "uncert raw len:  1\n",
      "uncert raw len:  1\n",
      "uncert raw len:  1\n",
      "uncert raw len:  1\n",
      "uncert raw len:  1\n",
      "uncert raw len:  1\n",
      "uncert raw len:  1\n",
      "uncert raw len:  1\n"
     ]
    },
    {
     "name": "stderr",
     "output_type": "stream",
     "text": [
      "  4%|▎         | 18/500 [01:09<24:58,  3.11s/it, MRR=0, mAP=0, Recall=0, Precision=0, F1=0, NoRelContextScore=nan]"
     ]
    },
    {
     "name": "stdout",
     "output_type": "stream",
     "text": [
      "uncert raw len:  1\n",
      "uncert raw len:  1\n",
      "10 0\n",
      "uncert raw len:  1\n",
      "uncert raw len:  1\n",
      "uncert raw len:  1\n",
      "uncert raw len:  1\n",
      "uncert raw len:  1\n",
      "uncert raw len:  1\n",
      "uncert raw len:  1\n",
      "uncert raw len:  1\n"
     ]
    },
    {
     "name": "stderr",
     "output_type": "stream",
     "text": [
      "  4%|▍         | 19/500 [01:13<25:20,  3.16s/it, MRR=0, mAP=0, Recall=0, Precision=0, F1=0, NoRelContextScore=nan]"
     ]
    },
    {
     "name": "stdout",
     "output_type": "stream",
     "text": [
      "uncert raw len:  1\n",
      "uncert raw len:  1\n",
      "10 0\n",
      "uncert raw len:  1\n",
      "uncert raw len:  1\n",
      "uncert raw len:  1\n",
      "uncert raw len:  1\n",
      "uncert raw len:  1\n",
      "uncert raw len:  1\n",
      "uncert raw len:  1\n",
      "uncert raw len:  1\n"
     ]
    },
    {
     "name": "stderr",
     "output_type": "stream",
     "text": [
      "  4%|▍         | 20/500 [01:16<25:19,  3.17s/it, MRR=0, mAP=0, Recall=0, Precision=0, F1=0, NoRelContextScore=nan]"
     ]
    },
    {
     "name": "stdout",
     "output_type": "stream",
     "text": [
      "uncert raw len:  1\n",
      "uncert raw len:  1\n",
      "10 0\n",
      "uncert raw len:  1\n",
      "uncert raw len:  1\n",
      "uncert raw len:  1\n",
      "uncert raw len:  1\n",
      "uncert raw len:  1\n",
      "uncert raw len:  1\n",
      "uncert raw len:  1\n",
      "uncert raw len:  1\n"
     ]
    },
    {
     "name": "stderr",
     "output_type": "stream",
     "text": [
      "  4%|▍         | 21/500 [01:19<25:08,  3.15s/it, MRR=0, mAP=0, Recall=0, Precision=0, F1=0, NoRelContextScore=nan]"
     ]
    },
    {
     "name": "stdout",
     "output_type": "stream",
     "text": [
      "uncert raw len:  1\n",
      "uncert raw len:  1\n",
      "10 0\n",
      "uncert raw len:  1\n",
      "uncert raw len:  1\n",
      "uncert raw len:  1\n",
      "uncert raw len:  1\n",
      "uncert raw len:  1\n",
      "uncert raw len:  1\n",
      "uncert raw len:  1\n",
      "uncert raw len:  1\n"
     ]
    },
    {
     "name": "stderr",
     "output_type": "stream",
     "text": [
      "  4%|▍         | 22/500 [01:22<25:25,  3.19s/it, MRR=0, mAP=0, Recall=0, Precision=0, F1=0, NoRelContextScore=nan]"
     ]
    },
    {
     "name": "stdout",
     "output_type": "stream",
     "text": [
      "uncert raw len:  1\n",
      "uncert raw len:  1\n",
      "10 0\n",
      "uncert raw len:  1\n",
      "uncert raw len:  1\n",
      "uncert raw len:  1\n",
      "uncert raw len:  1\n",
      "uncert raw len:  1\n",
      "uncert raw len:  1\n",
      "uncert raw len:  1\n",
      "uncert raw len:  1\n"
     ]
    },
    {
     "name": "stderr",
     "output_type": "stream",
     "text": [
      "  5%|▍         | 23/500 [01:25<24:44,  3.11s/it, MRR=0, mAP=0, Recall=0, Precision=0, F1=0, NoRelContextScore=nan]"
     ]
    },
    {
     "name": "stdout",
     "output_type": "stream",
     "text": [
      "uncert raw len:  1\n",
      "uncert raw len:  1\n",
      "10 0\n",
      "uncert raw len:  1\n",
      "uncert raw len:  1\n",
      "uncert raw len:  1\n",
      "uncert raw len:  1\n",
      "uncert raw len:  1\n",
      "uncert raw len:  1\n",
      "uncert raw len:  1\n",
      "uncert raw len:  1\n"
     ]
    },
    {
     "name": "stderr",
     "output_type": "stream",
     "text": [
      "  5%|▍         | 24/500 [01:28<24:30,  3.09s/it, MRR=0, mAP=0, Recall=0, Precision=0, F1=0, NoRelContextScore=nan]"
     ]
    },
    {
     "name": "stdout",
     "output_type": "stream",
     "text": [
      "uncert raw len:  1\n",
      "uncert raw len:  1\n",
      "10 0\n",
      "uncert raw len:  1\n",
      "uncert raw len:  1\n",
      "uncert raw len:  1\n",
      "uncert raw len:  1\n",
      "uncert raw len:  1\n",
      "uncert raw len:  1\n",
      "uncert raw len:  1\n",
      "uncert raw len:  1\n"
     ]
    },
    {
     "name": "stderr",
     "output_type": "stream",
     "text": [
      "  5%|▌         | 25/500 [01:31<24:06,  3.05s/it, MRR=0, mAP=0, Recall=0, Precision=0, F1=0, NoRelContextScore=nan]"
     ]
    },
    {
     "name": "stdout",
     "output_type": "stream",
     "text": [
      "uncert raw len:  1\n",
      "uncert raw len:  1\n",
      "10 0\n",
      "uncert raw len:  1\n",
      "uncert raw len:  1\n",
      "uncert raw len:  1\n",
      "uncert raw len:  1\n",
      "uncert raw len:  1\n",
      "uncert raw len:  1\n",
      "uncert raw len:  1\n",
      "uncert raw len:  1\n"
     ]
    },
    {
     "name": "stderr",
     "output_type": "stream",
     "text": [
      "  5%|▌         | 26/500 [01:34<23:52,  3.02s/it, MRR=0, mAP=0, Recall=0, Precision=0, F1=0, NoRelContextScore=nan]"
     ]
    },
    {
     "name": "stdout",
     "output_type": "stream",
     "text": [
      "uncert raw len:  1\n",
      "uncert raw len:  1\n",
      "10 0\n",
      "uncert raw len:  1\n",
      "uncert raw len:  1\n",
      "uncert raw len:  1\n",
      "uncert raw len:  1\n",
      "uncert raw len:  1\n",
      "uncert raw len:  1\n",
      "uncert raw len:  1\n",
      "uncert raw len:  1\n"
     ]
    },
    {
     "name": "stderr",
     "output_type": "stream",
     "text": [
      "  5%|▌         | 27/500 [01:37<24:11,  3.07s/it, MRR=0, mAP=0, Recall=0, Precision=0, F1=0, NoRelContextScore=nan]"
     ]
    },
    {
     "name": "stdout",
     "output_type": "stream",
     "text": [
      "uncert raw len:  1\n",
      "uncert raw len:  1\n",
      "10 0\n",
      "uncert raw len:  1\n",
      "uncert raw len:  1\n",
      "uncert raw len:  1\n",
      "uncert raw len:  1\n",
      "uncert raw len:  1\n",
      "uncert raw len:  1\n",
      "uncert raw len:  1\n",
      "uncert raw len:  1\n"
     ]
    },
    {
     "name": "stderr",
     "output_type": "stream",
     "text": [
      "  6%|▌         | 28/500 [01:40<23:53,  3.04s/it, MRR=0, mAP=0, Recall=0, Precision=0, F1=0, NoRelContextScore=nan]"
     ]
    },
    {
     "name": "stdout",
     "output_type": "stream",
     "text": [
      "uncert raw len:  1\n",
      "uncert raw len:  1\n",
      "10 0\n",
      "uncert raw len:  1\n",
      "uncert raw len:  1\n",
      "uncert raw len:  1\n",
      "uncert raw len:  1\n",
      "uncert raw len:  1\n",
      "uncert raw len:  1\n",
      "uncert raw len:  1\n",
      "uncert raw len:  1\n"
     ]
    },
    {
     "name": "stderr",
     "output_type": "stream",
     "text": [
      "  6%|▌         | 29/500 [01:43<24:03,  3.06s/it, MRR=0, mAP=0, Recall=0, Precision=0, F1=0, NoRelContextScore=nan]"
     ]
    },
    {
     "name": "stdout",
     "output_type": "stream",
     "text": [
      "uncert raw len:  1\n",
      "uncert raw len:  1\n",
      "10 0\n",
      "uncert raw len:  1\n",
      "uncert raw len:  1\n",
      "uncert raw len:  1\n",
      "uncert raw len:  1\n",
      "uncert raw len:  1\n",
      "uncert raw len:  1\n",
      "uncert raw len:  1\n",
      "uncert raw len:  1\n"
     ]
    },
    {
     "name": "stderr",
     "output_type": "stream",
     "text": [
      "  6%|▌         | 30/500 [01:47<24:01,  3.07s/it, MRR=0, mAP=0, Recall=0, Precision=0, F1=0, NoRelContextScore=nan]"
     ]
    },
    {
     "name": "stdout",
     "output_type": "stream",
     "text": [
      "uncert raw len:  1\n",
      "uncert raw len:  1\n",
      "10 0\n",
      "uncert raw len:  1\n",
      "uncert raw len:  1\n",
      "uncert raw len:  1\n",
      "uncert raw len:  1\n",
      "uncert raw len:  1\n",
      "uncert raw len:  1\n",
      "uncert raw len:  1\n",
      "uncert raw len:  1\n"
     ]
    },
    {
     "name": "stderr",
     "output_type": "stream",
     "text": [
      "  6%|▌         | 31/500 [01:50<24:17,  3.11s/it, MRR=0, mAP=0, Recall=0, Precision=0, F1=0, NoRelContextScore=nan]"
     ]
    },
    {
     "name": "stdout",
     "output_type": "stream",
     "text": [
      "uncert raw len:  1\n",
      "uncert raw len:  1\n",
      "10 0\n",
      "uncert raw len:  1\n",
      "uncert raw len:  1\n",
      "uncert raw len:  1\n",
      "uncert raw len:  1\n",
      "uncert raw len:  1\n",
      "uncert raw len:  1\n",
      "uncert raw len:  1\n",
      "uncert raw len:  1\n"
     ]
    },
    {
     "name": "stderr",
     "output_type": "stream",
     "text": [
      "  6%|▋         | 32/500 [01:53<24:09,  3.10s/it, MRR=0, mAP=0, Recall=0, Precision=0, F1=0, NoRelContextScore=nan]"
     ]
    },
    {
     "name": "stdout",
     "output_type": "stream",
     "text": [
      "uncert raw len:  1\n",
      "uncert raw len:  1\n",
      "10 0\n",
      "uncert raw len:  1\n",
      "uncert raw len:  1\n",
      "uncert raw len:  1\n",
      "uncert raw len:  1\n",
      "uncert raw len:  1\n",
      "uncert raw len:  1\n",
      "uncert raw len:  1\n",
      "uncert raw len:  1\n"
     ]
    },
    {
     "name": "stderr",
     "output_type": "stream",
     "text": [
      "  7%|▋         | 33/500 [01:56<24:09,  3.10s/it, MRR=0, mAP=0, Recall=0, Precision=0, F1=0, NoRelContextScore=nan]"
     ]
    },
    {
     "name": "stdout",
     "output_type": "stream",
     "text": [
      "uncert raw len:  1\n",
      "uncert raw len:  1\n",
      "10 0\n",
      "uncert raw len:  1\n",
      "uncert raw len:  1\n",
      "uncert raw len:  1\n",
      "uncert raw len:  1\n",
      "uncert raw len:  1\n",
      "uncert raw len:  1\n",
      "uncert raw len:  1\n",
      "uncert raw len:  1\n"
     ]
    },
    {
     "name": "stderr",
     "output_type": "stream",
     "text": [
      "  7%|▋         | 34/500 [01:59<24:25,  3.14s/it, MRR=0, mAP=0, Recall=0, Precision=0, F1=0, NoRelContextScore=nan]"
     ]
    },
    {
     "name": "stdout",
     "output_type": "stream",
     "text": [
      "uncert raw len:  1\n",
      "uncert raw len:  1\n",
      "10 0\n",
      "uncert raw len:  1\n",
      "uncert raw len:  1\n",
      "uncert raw len:  1\n",
      "uncert raw len:  1\n",
      "uncert raw len:  1\n",
      "uncert raw len:  1\n",
      "uncert raw len:  1\n",
      "uncert raw len:  1\n"
     ]
    },
    {
     "name": "stderr",
     "output_type": "stream",
     "text": [
      "  7%|▋         | 35/500 [02:02<24:37,  3.18s/it, MRR=0, mAP=0, Recall=0, Precision=0, F1=0, NoRelContextScore=nan]"
     ]
    },
    {
     "name": "stdout",
     "output_type": "stream",
     "text": [
      "uncert raw len:  1\n",
      "uncert raw len:  1\n",
      "10 0\n",
      "uncert raw len:  1\n",
      "uncert raw len:  1\n",
      "uncert raw len:  1\n",
      "uncert raw len:  1\n",
      "uncert raw len:  1\n",
      "uncert raw len:  1\n",
      "uncert raw len:  1\n",
      "uncert raw len:  1\n"
     ]
    },
    {
     "name": "stderr",
     "output_type": "stream",
     "text": [
      "  7%|▋         | 36/500 [02:06<24:47,  3.21s/it, MRR=0, mAP=0, Recall=0, Precision=0, F1=0, NoRelContextScore=nan]"
     ]
    },
    {
     "name": "stdout",
     "output_type": "stream",
     "text": [
      "uncert raw len:  1\n",
      "uncert raw len:  1\n",
      "10 0\n",
      "uncert raw len:  1\n",
      "uncert raw len:  1\n",
      "uncert raw len:  1\n",
      "uncert raw len:  1\n",
      "uncert raw len:  1\n",
      "uncert raw len:  1\n",
      "uncert raw len:  1\n",
      "uncert raw len:  1\n"
     ]
    },
    {
     "name": "stderr",
     "output_type": "stream",
     "text": [
      "  7%|▋         | 37/500 [02:09<24:21,  3.16s/it, MRR=0, mAP=0, Recall=0, Precision=0, F1=0, NoRelContextScore=nan]"
     ]
    },
    {
     "name": "stdout",
     "output_type": "stream",
     "text": [
      "uncert raw len:  1\n",
      "uncert raw len:  1\n",
      "10 0\n",
      "uncert raw len:  1\n",
      "uncert raw len:  1\n",
      "uncert raw len:  1\n",
      "uncert raw len:  1\n",
      "uncert raw len:  1\n",
      "uncert raw len:  1\n",
      "uncert raw len:  1\n",
      "uncert raw len:  1\n"
     ]
    },
    {
     "name": "stderr",
     "output_type": "stream",
     "text": [
      "  8%|▊         | 38/500 [02:12<24:21,  3.16s/it, MRR=0, mAP=0, Recall=0, Precision=0, F1=0, NoRelContextScore=nan]"
     ]
    },
    {
     "name": "stdout",
     "output_type": "stream",
     "text": [
      "uncert raw len:  1\n",
      "uncert raw len:  1\n",
      "10 0\n",
      "uncert raw len:  1\n",
      "uncert raw len:  1\n",
      "uncert raw len:  1\n",
      "uncert raw len:  1\n",
      "uncert raw len:  1\n",
      "uncert raw len:  1\n",
      "uncert raw len:  1\n",
      "uncert raw len:  1\n"
     ]
    },
    {
     "name": "stderr",
     "output_type": "stream",
     "text": [
      "  8%|▊         | 39/500 [02:15<24:21,  3.17s/it, MRR=0, mAP=0, Recall=0, Precision=0, F1=0, NoRelContextScore=nan]"
     ]
    },
    {
     "name": "stdout",
     "output_type": "stream",
     "text": [
      "uncert raw len:  1\n",
      "uncert raw len:  1\n",
      "10 0\n",
      "uncert raw len:  1\n",
      "uncert raw len:  1\n",
      "uncert raw len:  1\n",
      "uncert raw len:  1\n",
      "uncert raw len:  1\n",
      "uncert raw len:  1\n",
      "uncert raw len:  1\n",
      "uncert raw len:  1\n"
     ]
    },
    {
     "name": "stderr",
     "output_type": "stream",
     "text": [
      "  8%|▊         | 40/500 [02:18<23:49,  3.11s/it, MRR=0, mAP=0, Recall=0, Precision=0, F1=0, NoRelContextScore=nan]"
     ]
    },
    {
     "name": "stdout",
     "output_type": "stream",
     "text": [
      "uncert raw len:  1\n",
      "uncert raw len:  1\n",
      "10 0\n",
      "uncert raw len:  1\n",
      "uncert raw len:  1\n",
      "uncert raw len:  1\n",
      "uncert raw len:  1\n",
      "uncert raw len:  1\n",
      "uncert raw len:  1\n",
      "uncert raw len:  1\n",
      "uncert raw len:  1\n"
     ]
    },
    {
     "name": "stderr",
     "output_type": "stream",
     "text": [
      "  8%|▊         | 41/500 [02:21<23:42,  3.10s/it, MRR=0, mAP=0, Recall=0, Precision=0, F1=0, NoRelContextScore=nan]"
     ]
    },
    {
     "name": "stdout",
     "output_type": "stream",
     "text": [
      "uncert raw len:  1\n",
      "uncert raw len:  1\n",
      "10 0\n",
      "uncert raw len:  1\n",
      "uncert raw len:  1\n",
      "uncert raw len:  1\n",
      "uncert raw len:  1\n",
      "uncert raw len:  1\n",
      "uncert raw len:  1\n",
      "uncert raw len:  1\n",
      "uncert raw len:  1\n"
     ]
    },
    {
     "name": "stderr",
     "output_type": "stream",
     "text": [
      "  8%|▊         | 42/500 [02:24<23:25,  3.07s/it, MRR=0, mAP=0, Recall=0, Precision=0, F1=0, NoRelContextScore=nan]"
     ]
    },
    {
     "name": "stdout",
     "output_type": "stream",
     "text": [
      "uncert raw len:  1\n",
      "uncert raw len:  1\n",
      "10 0\n",
      "uncert raw len:  1\n",
      "uncert raw len:  1\n",
      "uncert raw len:  1\n",
      "uncert raw len:  1\n",
      "uncert raw len:  1\n",
      "uncert raw len:  1\n",
      "uncert raw len:  1\n",
      "uncert raw len:  1\n"
     ]
    },
    {
     "name": "stderr",
     "output_type": "stream",
     "text": [
      "  9%|▊         | 43/500 [02:27<23:08,  3.04s/it, MRR=0, mAP=0, Recall=0, Precision=0, F1=0, NoRelContextScore=nan]"
     ]
    },
    {
     "name": "stdout",
     "output_type": "stream",
     "text": [
      "uncert raw len:  1\n",
      "uncert raw len:  1\n",
      "10 0\n",
      "uncert raw len:  1\n",
      "uncert raw len:  1\n",
      "uncert raw len:  1\n",
      "uncert raw len:  1\n",
      "uncert raw len:  1\n",
      "uncert raw len:  1\n",
      "uncert raw len:  1\n",
      "uncert raw len:  1\n"
     ]
    },
    {
     "name": "stderr",
     "output_type": "stream",
     "text": [
      "  9%|▉         | 44/500 [02:30<22:56,  3.02s/it, MRR=0, mAP=0, Recall=0, Precision=0, F1=0, NoRelContextScore=nan]"
     ]
    },
    {
     "name": "stdout",
     "output_type": "stream",
     "text": [
      "uncert raw len:  1\n",
      "uncert raw len:  1\n",
      "10 0\n",
      "uncert raw len:  1\n",
      "uncert raw len:  1\n",
      "uncert raw len:  1\n",
      "uncert raw len:  1\n",
      "uncert raw len:  1\n",
      "uncert raw len:  1\n",
      "uncert raw len:  1\n",
      "uncert raw len:  1\n"
     ]
    },
    {
     "name": "stderr",
     "output_type": "stream",
     "text": [
      "  9%|▉         | 45/500 [02:33<22:49,  3.01s/it, MRR=0, mAP=0, Recall=0, Precision=0, F1=0, NoRelContextScore=nan]"
     ]
    },
    {
     "name": "stdout",
     "output_type": "stream",
     "text": [
      "uncert raw len:  1\n",
      "uncert raw len:  1\n",
      "10 0\n",
      "uncert raw len:  1\n",
      "uncert raw len:  1\n",
      "uncert raw len:  1\n",
      "uncert raw len:  1\n",
      "uncert raw len:  1\n",
      "uncert raw len:  1\n",
      "uncert raw len:  1\n",
      "uncert raw len:  1\n"
     ]
    },
    {
     "name": "stderr",
     "output_type": "stream",
     "text": [
      "  9%|▉         | 46/500 [02:36<22:51,  3.02s/it, MRR=0, mAP=0, Recall=0, Precision=0, F1=0, NoRelContextScore=nan]"
     ]
    },
    {
     "name": "stdout",
     "output_type": "stream",
     "text": [
      "uncert raw len:  1\n",
      "uncert raw len:  1\n",
      "10 0\n",
      "uncert raw len:  1\n",
      "uncert raw len:  1\n",
      "uncert raw len:  1\n",
      "uncert raw len:  1\n",
      "uncert raw len:  1\n",
      "uncert raw len:  1\n",
      "uncert raw len:  1\n",
      "uncert raw len:  1\n"
     ]
    },
    {
     "name": "stderr",
     "output_type": "stream",
     "text": [
      "  9%|▉         | 47/500 [02:39<23:00,  3.05s/it, MRR=0, mAP=0, Recall=0, Precision=0, F1=0, NoRelContextScore=nan]"
     ]
    },
    {
     "name": "stdout",
     "output_type": "stream",
     "text": [
      "uncert raw len:  1\n",
      "uncert raw len:  1\n",
      "10 0\n",
      "uncert raw len:  1\n",
      "uncert raw len:  1\n",
      "uncert raw len:  1\n",
      "uncert raw len:  1\n",
      "uncert raw len:  1\n",
      "uncert raw len:  1\n",
      "uncert raw len:  1\n",
      "uncert raw len:  1\n"
     ]
    },
    {
     "name": "stderr",
     "output_type": "stream",
     "text": [
      " 10%|▉         | 48/500 [02:42<22:42,  3.01s/it, MRR=0, mAP=0, Recall=0, Precision=0, F1=0, NoRelContextScore=nan]"
     ]
    },
    {
     "name": "stdout",
     "output_type": "stream",
     "text": [
      "uncert raw len:  1\n",
      "uncert raw len:  1\n",
      "10 0\n",
      "uncert raw len:  1\n",
      "uncert raw len:  1\n",
      "uncert raw len:  1\n",
      "uncert raw len:  1\n",
      "uncert raw len:  1\n",
      "uncert raw len:  1\n",
      "uncert raw len:  1\n",
      "uncert raw len:  1\n"
     ]
    },
    {
     "name": "stderr",
     "output_type": "stream",
     "text": [
      " 10%|▉         | 49/500 [02:45<22:32,  3.00s/it, MRR=0, mAP=0, Recall=0, Precision=0, F1=0, NoRelContextScore=nan]"
     ]
    },
    {
     "name": "stdout",
     "output_type": "stream",
     "text": [
      "uncert raw len:  1\n",
      "uncert raw len:  1\n",
      "10 0\n",
      "uncert raw len:  1\n",
      "uncert raw len:  1\n",
      "uncert raw len:  1\n",
      "uncert raw len:  1\n",
      "uncert raw len:  1\n",
      "uncert raw len:  1\n",
      "uncert raw len:  1\n",
      "uncert raw len:  1\n"
     ]
    },
    {
     "name": "stderr",
     "output_type": "stream",
     "text": [
      " 10%|█         | 50/500 [02:48<22:40,  3.02s/it, MRR=0, mAP=0, Recall=0, Precision=0, F1=0, NoRelContextScore=nan]"
     ]
    },
    {
     "name": "stdout",
     "output_type": "stream",
     "text": [
      "uncert raw len:  1\n",
      "uncert raw len:  1\n",
      "10 0\n",
      "uncert raw len:  1\n",
      "uncert raw len:  1\n",
      "uncert raw len:  1\n",
      "uncert raw len:  1\n",
      "uncert raw len:  1\n",
      "uncert raw len:  1\n",
      "uncert raw len:  1\n",
      "uncert raw len:  1\n"
     ]
    },
    {
     "name": "stderr",
     "output_type": "stream",
     "text": [
      " 10%|█         | 51/500 [02:51<23:00,  3.07s/it, MRR=0, mAP=0, Recall=0, Precision=0, F1=0, NoRelContextScore=nan]"
     ]
    },
    {
     "name": "stdout",
     "output_type": "stream",
     "text": [
      "uncert raw len:  1\n",
      "uncert raw len:  1\n",
      "10 0\n",
      "uncert raw len:  1\n",
      "uncert raw len:  1\n",
      "uncert raw len:  1\n",
      "uncert raw len:  1\n",
      "uncert raw len:  1\n",
      "uncert raw len:  1\n",
      "uncert raw len:  1\n",
      "uncert raw len:  1\n"
     ]
    },
    {
     "name": "stderr",
     "output_type": "stream",
     "text": [
      " 10%|█         | 52/500 [02:54<22:46,  3.05s/it, MRR=0, mAP=0, Recall=0, Precision=0, F1=0, NoRelContextScore=nan]"
     ]
    },
    {
     "name": "stdout",
     "output_type": "stream",
     "text": [
      "uncert raw len:  1\n",
      "uncert raw len:  1\n",
      "10 0\n",
      "uncert raw len:  1\n",
      "uncert raw len:  1\n",
      "uncert raw len:  1\n",
      "uncert raw len:  1\n",
      "uncert raw len:  1\n",
      "uncert raw len:  1\n",
      "uncert raw len:  1\n",
      "uncert raw len:  1\n"
     ]
    },
    {
     "name": "stderr",
     "output_type": "stream",
     "text": [
      " 11%|█         | 53/500 [02:57<22:45,  3.06s/it, MRR=0, mAP=0, Recall=0, Precision=0, F1=0, NoRelContextScore=nan]"
     ]
    },
    {
     "name": "stdout",
     "output_type": "stream",
     "text": [
      "uncert raw len:  1\n",
      "uncert raw len:  1\n",
      "10 0\n",
      "uncert raw len:  1\n",
      "uncert raw len:  1\n",
      "uncert raw len:  1\n",
      "uncert raw len:  1\n",
      "uncert raw len:  1\n",
      "uncert raw len:  1\n",
      "uncert raw len:  1\n",
      "uncert raw len:  1\n"
     ]
    },
    {
     "name": "stderr",
     "output_type": "stream",
     "text": [
      " 11%|█         | 54/500 [03:01<22:47,  3.07s/it, MRR=0, mAP=0, Recall=0, Precision=0, F1=0, NoRelContextScore=nan]"
     ]
    },
    {
     "name": "stdout",
     "output_type": "stream",
     "text": [
      "uncert raw len:  1\n",
      "uncert raw len:  1\n",
      "10 0\n",
      "uncert raw len:  1\n",
      "uncert raw len:  1\n",
      "uncert raw len:  1\n",
      "uncert raw len:  1\n",
      "uncert raw len:  1\n",
      "uncert raw len:  1\n",
      "uncert raw len:  1\n",
      "uncert raw len:  1\n"
     ]
    },
    {
     "name": "stderr",
     "output_type": "stream",
     "text": [
      " 11%|█         | 55/500 [03:04<22:35,  3.05s/it, MRR=0, mAP=0, Recall=0, Precision=0, F1=0, NoRelContextScore=nan]"
     ]
    },
    {
     "name": "stdout",
     "output_type": "stream",
     "text": [
      "uncert raw len:  1\n",
      "uncert raw len:  1\n",
      "10 0\n",
      "uncert raw len:  1\n",
      "uncert raw len:  1\n",
      "uncert raw len:  1\n",
      "uncert raw len:  1\n",
      "uncert raw len:  1\n",
      "uncert raw len:  1\n",
      "uncert raw len:  1\n",
      "uncert raw len:  1\n"
     ]
    },
    {
     "name": "stderr",
     "output_type": "stream",
     "text": [
      " 11%|█         | 56/500 [03:06<22:16,  3.01s/it, MRR=0, mAP=0, Recall=0, Precision=0, F1=0, NoRelContextScore=nan]"
     ]
    },
    {
     "name": "stdout",
     "output_type": "stream",
     "text": [
      "uncert raw len:  1\n",
      "uncert raw len:  1\n",
      "10 0\n",
      "uncert raw len:  1\n",
      "uncert raw len:  1\n",
      "uncert raw len:  1\n",
      "uncert raw len:  1\n",
      "uncert raw len:  1\n",
      "uncert raw len:  1\n",
      "uncert raw len:  1\n",
      "uncert raw len:  1\n"
     ]
    },
    {
     "name": "stderr",
     "output_type": "stream",
     "text": [
      " 11%|█▏        | 57/500 [03:10<22:43,  3.08s/it, MRR=0, mAP=0, Recall=0, Precision=0, F1=0, NoRelContextScore=nan]"
     ]
    },
    {
     "name": "stdout",
     "output_type": "stream",
     "text": [
      "uncert raw len:  1\n",
      "uncert raw len:  1\n",
      "10 0\n",
      "uncert raw len:  1\n",
      "uncert raw len:  1\n",
      "uncert raw len:  1\n",
      "uncert raw len:  1\n",
      "uncert raw len:  1\n",
      "uncert raw len:  1\n",
      "uncert raw len:  1\n",
      "uncert raw len:  1\n"
     ]
    },
    {
     "name": "stderr",
     "output_type": "stream",
     "text": [
      " 12%|█▏        | 58/500 [03:13<23:02,  3.13s/it, MRR=0, mAP=0, Recall=0, Precision=0, F1=0, NoRelContextScore=nan]"
     ]
    },
    {
     "name": "stdout",
     "output_type": "stream",
     "text": [
      "uncert raw len:  1\n",
      "uncert raw len:  1\n",
      "10 0\n",
      "uncert raw len:  1\n",
      "uncert raw len:  1\n",
      "uncert raw len:  1\n",
      "uncert raw len:  1\n",
      "uncert raw len:  1\n",
      "uncert raw len:  1\n",
      "uncert raw len:  1\n",
      "uncert raw len:  1\n"
     ]
    },
    {
     "name": "stderr",
     "output_type": "stream",
     "text": [
      " 12%|█▏        | 59/500 [03:16<22:59,  3.13s/it, MRR=0, mAP=0, Recall=0, Precision=0, F1=0, NoRelContextScore=nan]"
     ]
    },
    {
     "name": "stdout",
     "output_type": "stream",
     "text": [
      "uncert raw len:  1\n",
      "uncert raw len:  1\n",
      "10 0\n",
      "uncert raw len:  1\n",
      "uncert raw len:  1\n",
      "uncert raw len:  1\n",
      "uncert raw len:  1\n",
      "uncert raw len:  1\n",
      "uncert raw len:  1\n",
      "uncert raw len:  1\n",
      "uncert raw len:  1\n"
     ]
    },
    {
     "name": "stderr",
     "output_type": "stream",
     "text": [
      " 12%|█▏        | 60/500 [03:19<22:31,  3.07s/it, MRR=0, mAP=0, Recall=0, Precision=0, F1=0, NoRelContextScore=nan]"
     ]
    },
    {
     "name": "stdout",
     "output_type": "stream",
     "text": [
      "uncert raw len:  1\n",
      "uncert raw len:  1\n",
      "10 0\n",
      "uncert raw len:  1\n",
      "uncert raw len:  1\n",
      "uncert raw len:  1\n",
      "uncert raw len:  1\n",
      "uncert raw len:  1\n",
      "uncert raw len:  1\n",
      "uncert raw len:  1\n",
      "uncert raw len:  1\n"
     ]
    },
    {
     "name": "stderr",
     "output_type": "stream",
     "text": [
      " 12%|█▏        | 61/500 [03:22<22:26,  3.07s/it, MRR=0, mAP=0, Recall=0, Precision=0, F1=0, NoRelContextScore=nan]"
     ]
    },
    {
     "name": "stdout",
     "output_type": "stream",
     "text": [
      "uncert raw len:  1\n",
      "uncert raw len:  1\n",
      "10 0\n",
      "uncert raw len:  1\n",
      "uncert raw len:  1\n",
      "uncert raw len:  1\n",
      "uncert raw len:  1\n",
      "uncert raw len:  1\n",
      "uncert raw len:  1\n",
      "uncert raw len:  1\n",
      "uncert raw len:  1\n"
     ]
    },
    {
     "name": "stderr",
     "output_type": "stream",
     "text": [
      " 12%|█▏        | 62/500 [03:25<22:27,  3.08s/it, MRR=0, mAP=0, Recall=0, Precision=0, F1=0, NoRelContextScore=nan]"
     ]
    },
    {
     "name": "stdout",
     "output_type": "stream",
     "text": [
      "uncert raw len:  1\n",
      "uncert raw len:  1\n",
      "10 0\n",
      "uncert raw len:  1\n",
      "uncert raw len:  1\n",
      "uncert raw len:  1\n",
      "uncert raw len:  1\n",
      "uncert raw len:  1\n",
      "uncert raw len:  1\n",
      "uncert raw len:  1\n",
      "uncert raw len:  1\n"
     ]
    },
    {
     "name": "stderr",
     "output_type": "stream",
     "text": [
      " 13%|█▎        | 63/500 [03:28<22:33,  3.10s/it, MRR=0, mAP=0, Recall=0, Precision=0, F1=0, NoRelContextScore=nan]"
     ]
    },
    {
     "name": "stdout",
     "output_type": "stream",
     "text": [
      "uncert raw len:  1\n",
      "uncert raw len:  1\n",
      "10 0\n",
      "uncert raw len:  1\n",
      "uncert raw len:  1\n",
      "uncert raw len:  1\n",
      "uncert raw len:  1\n",
      "uncert raw len:  1\n",
      "uncert raw len:  1\n",
      "uncert raw len:  1\n",
      "uncert raw len:  1\n"
     ]
    },
    {
     "name": "stderr",
     "output_type": "stream",
     "text": [
      " 13%|█▎        | 64/500 [03:31<22:35,  3.11s/it, MRR=0, mAP=0, Recall=0, Precision=0, F1=0, NoRelContextScore=nan]"
     ]
    },
    {
     "name": "stdout",
     "output_type": "stream",
     "text": [
      "uncert raw len:  1\n",
      "uncert raw len:  1\n",
      "10 0\n",
      "uncert raw len:  1\n",
      "uncert raw len:  1\n",
      "uncert raw len:  1\n",
      "uncert raw len:  1\n",
      "uncert raw len:  1\n",
      "uncert raw len:  1\n",
      "uncert raw len:  1\n",
      "uncert raw len:  1\n"
     ]
    },
    {
     "name": "stderr",
     "output_type": "stream",
     "text": [
      " 13%|█▎        | 65/500 [03:35<22:28,  3.10s/it, MRR=0, mAP=0, Recall=0, Precision=0, F1=0, NoRelContextScore=nan]"
     ]
    },
    {
     "name": "stdout",
     "output_type": "stream",
     "text": [
      "uncert raw len:  1\n",
      "uncert raw len:  1\n",
      "10 0\n",
      "uncert raw len:  1\n",
      "uncert raw len:  1\n",
      "uncert raw len:  1\n",
      "uncert raw len:  1\n",
      "uncert raw len:  1\n",
      "uncert raw len:  1\n",
      "uncert raw len:  1\n",
      "uncert raw len:  1\n"
     ]
    },
    {
     "name": "stderr",
     "output_type": "stream",
     "text": [
      " 13%|█▎        | 66/500 [03:38<22:26,  3.10s/it, MRR=0, mAP=0, Recall=0, Precision=0, F1=0, NoRelContextScore=nan]"
     ]
    },
    {
     "name": "stdout",
     "output_type": "stream",
     "text": [
      "uncert raw len:  1\n",
      "uncert raw len:  1\n",
      "10 0\n",
      "uncert raw len:  1\n",
      "uncert raw len:  1\n",
      "uncert raw len:  1\n",
      "uncert raw len:  1\n",
      "uncert raw len:  1\n",
      "uncert raw len:  1\n",
      "uncert raw len:  1\n",
      "uncert raw len:  1\n"
     ]
    },
    {
     "name": "stderr",
     "output_type": "stream",
     "text": [
      " 13%|█▎        | 67/500 [03:41<23:09,  3.21s/it, MRR=0, mAP=0, Recall=0, Precision=0, F1=0, NoRelContextScore=nan]"
     ]
    },
    {
     "name": "stdout",
     "output_type": "stream",
     "text": [
      "uncert raw len:  1\n",
      "uncert raw len:  1\n",
      "10 0\n",
      "uncert raw len:  1\n",
      "uncert raw len:  1\n",
      "uncert raw len:  1\n",
      "uncert raw len:  1\n",
      "uncert raw len:  1\n",
      "uncert raw len:  1\n",
      "uncert raw len:  1\n",
      "uncert raw len:  1\n"
     ]
    },
    {
     "name": "stderr",
     "output_type": "stream",
     "text": [
      " 14%|█▎        | 68/500 [03:44<22:51,  3.17s/it, MRR=0, mAP=0, Recall=0, Precision=0, F1=0, NoRelContextScore=nan]"
     ]
    },
    {
     "name": "stdout",
     "output_type": "stream",
     "text": [
      "uncert raw len:  1\n",
      "uncert raw len:  1\n",
      "10 0\n",
      "uncert raw len:  1\n",
      "uncert raw len:  1\n",
      "uncert raw len:  1\n",
      "uncert raw len:  1\n",
      "uncert raw len:  1\n",
      "uncert raw len:  1\n",
      "uncert raw len:  1\n",
      "uncert raw len:  1\n"
     ]
    },
    {
     "name": "stderr",
     "output_type": "stream",
     "text": [
      " 14%|█▍        | 69/500 [03:47<22:41,  3.16s/it, MRR=0, mAP=0, Recall=0, Precision=0, F1=0, NoRelContextScore=nan]"
     ]
    },
    {
     "name": "stdout",
     "output_type": "stream",
     "text": [
      "uncert raw len:  1\n",
      "uncert raw len:  1\n",
      "10 0\n",
      "uncert raw len:  1\n",
      "uncert raw len:  1\n",
      "uncert raw len:  1\n",
      "uncert raw len:  1\n",
      "uncert raw len:  1\n",
      "uncert raw len:  1\n",
      "uncert raw len:  1\n",
      "uncert raw len:  1\n"
     ]
    },
    {
     "name": "stderr",
     "output_type": "stream",
     "text": [
      " 14%|█▍        | 70/500 [03:51<24:09,  3.37s/it, MRR=0, mAP=0, Recall=0, Precision=0, F1=0, NoRelContextScore=nan]"
     ]
    },
    {
     "name": "stdout",
     "output_type": "stream",
     "text": [
      "uncert raw len:  1\n",
      "uncert raw len:  1\n",
      "10 0\n",
      "uncert raw len:  1\n",
      "uncert raw len:  1\n",
      "uncert raw len:  1\n",
      "uncert raw len:  1\n",
      "uncert raw len:  1\n",
      "uncert raw len:  1\n",
      "uncert raw len:  1\n",
      "uncert raw len:  1\n"
     ]
    },
    {
     "name": "stderr",
     "output_type": "stream",
     "text": [
      " 14%|█▍        | 71/500 [03:55<23:58,  3.35s/it, MRR=0, mAP=0, Recall=0, Precision=0, F1=0, NoRelContextScore=nan]"
     ]
    },
    {
     "name": "stdout",
     "output_type": "stream",
     "text": [
      "uncert raw len:  1\n",
      "uncert raw len:  1\n",
      "10 0\n",
      "uncert raw len:  1\n",
      "uncert raw len:  1\n",
      "uncert raw len:  1\n",
      "uncert raw len:  1\n",
      "uncert raw len:  1\n",
      "uncert raw len:  1\n",
      "uncert raw len:  1\n",
      "uncert raw len:  1\n"
     ]
    },
    {
     "name": "stderr",
     "output_type": "stream",
     "text": [
      " 14%|█▍        | 72/500 [03:58<24:06,  3.38s/it, MRR=0, mAP=0, Recall=0, Precision=0, F1=0, NoRelContextScore=nan]"
     ]
    },
    {
     "name": "stdout",
     "output_type": "stream",
     "text": [
      "uncert raw len:  1\n",
      "uncert raw len:  1\n",
      "10 0\n",
      "uncert raw len:  1\n",
      "uncert raw len:  1\n",
      "uncert raw len:  1\n",
      "uncert raw len:  1\n",
      "uncert raw len:  1\n",
      "uncert raw len:  1\n",
      "uncert raw len:  1\n",
      "uncert raw len:  1\n"
     ]
    },
    {
     "name": "stderr",
     "output_type": "stream",
     "text": [
      " 15%|█▍        | 73/500 [04:01<24:08,  3.39s/it, MRR=0, mAP=0, Recall=0, Precision=0, F1=0, NoRelContextScore=nan]"
     ]
    },
    {
     "name": "stdout",
     "output_type": "stream",
     "text": [
      "uncert raw len:  1\n",
      "uncert raw len:  1\n",
      "10 0\n",
      "uncert raw len:  1\n",
      "uncert raw len:  1\n",
      "uncert raw len:  1\n",
      "uncert raw len:  1\n",
      "uncert raw len:  1\n",
      "uncert raw len:  1\n",
      "uncert raw len:  1\n",
      "uncert raw len:  1\n"
     ]
    },
    {
     "name": "stderr",
     "output_type": "stream",
     "text": [
      " 15%|█▍        | 74/500 [04:05<24:01,  3.38s/it, MRR=0, mAP=0, Recall=0, Precision=0, F1=0, NoRelContextScore=nan]"
     ]
    },
    {
     "name": "stdout",
     "output_type": "stream",
     "text": [
      "uncert raw len:  1\n",
      "uncert raw len:  1\n",
      "10 0\n",
      "uncert raw len:  1\n",
      "uncert raw len:  1\n",
      "uncert raw len:  1\n",
      "uncert raw len:  1\n",
      "uncert raw len:  1\n",
      "uncert raw len:  1\n",
      "uncert raw len:  1\n",
      "uncert raw len:  1\n"
     ]
    },
    {
     "name": "stderr",
     "output_type": "stream",
     "text": [
      " 15%|█▌        | 75/500 [04:08<23:20,  3.30s/it, MRR=0, mAP=0, Recall=0, Precision=0, F1=0, NoRelContextScore=nan]"
     ]
    },
    {
     "name": "stdout",
     "output_type": "stream",
     "text": [
      "uncert raw len:  1\n",
      "uncert raw len:  1\n",
      "10 0\n",
      "uncert raw len:  1\n",
      "uncert raw len:  1\n",
      "uncert raw len:  1\n",
      "uncert raw len:  1\n",
      "uncert raw len:  1\n",
      "uncert raw len:  1\n",
      "uncert raw len:  1\n",
      "uncert raw len:  1\n"
     ]
    },
    {
     "name": "stderr",
     "output_type": "stream",
     "text": [
      " 15%|█▌        | 76/500 [04:11<23:00,  3.26s/it, MRR=0, mAP=0, Recall=0, Precision=0, F1=0, NoRelContextScore=nan]"
     ]
    },
    {
     "name": "stdout",
     "output_type": "stream",
     "text": [
      "uncert raw len:  1\n",
      "uncert raw len:  1\n",
      "10 0\n",
      "uncert raw len:  1\n",
      "uncert raw len:  1\n",
      "uncert raw len:  1\n",
      "uncert raw len:  1\n",
      "uncert raw len:  1\n",
      "uncert raw len:  1\n",
      "uncert raw len:  1\n",
      "uncert raw len:  1\n"
     ]
    },
    {
     "name": "stderr",
     "output_type": "stream",
     "text": [
      " 15%|█▌        | 77/500 [04:14<23:00,  3.26s/it, MRR=0, mAP=0, Recall=0, Precision=0, F1=0, NoRelContextScore=nan]"
     ]
    },
    {
     "name": "stdout",
     "output_type": "stream",
     "text": [
      "uncert raw len:  1\n",
      "uncert raw len:  1\n",
      "10 0\n",
      "uncert raw len:  1\n",
      "uncert raw len:  1\n",
      "uncert raw len:  1\n",
      "uncert raw len:  1\n",
      "uncert raw len:  1\n",
      "uncert raw len:  1\n",
      "uncert raw len:  1\n",
      "uncert raw len:  1\n"
     ]
    },
    {
     "name": "stderr",
     "output_type": "stream",
     "text": [
      " 16%|█▌        | 78/500 [04:17<22:38,  3.22s/it, MRR=0, mAP=0, Recall=0, Precision=0, F1=0, NoRelContextScore=nan]"
     ]
    },
    {
     "name": "stdout",
     "output_type": "stream",
     "text": [
      "uncert raw len:  1\n",
      "uncert raw len:  1\n",
      "10 0\n",
      "uncert raw len:  1\n",
      "uncert raw len:  1\n",
      "uncert raw len:  1\n",
      "uncert raw len:  1\n",
      "uncert raw len:  1\n",
      "uncert raw len:  1\n",
      "uncert raw len:  1\n",
      "uncert raw len:  1\n"
     ]
    },
    {
     "name": "stderr",
     "output_type": "stream",
     "text": [
      " 16%|█▌        | 79/500 [04:21<22:28,  3.20s/it, MRR=0, mAP=0, Recall=0, Precision=0, F1=0, NoRelContextScore=nan]"
     ]
    },
    {
     "name": "stdout",
     "output_type": "stream",
     "text": [
      "uncert raw len:  1\n",
      "uncert raw len:  1\n",
      "10 0\n",
      "uncert raw len:  1\n",
      "uncert raw len:  1\n",
      "uncert raw len:  1\n",
      "uncert raw len:  1\n",
      "uncert raw len:  1\n",
      "uncert raw len:  1\n",
      "uncert raw len:  1\n",
      "uncert raw len:  1\n"
     ]
    },
    {
     "name": "stderr",
     "output_type": "stream",
     "text": [
      " 16%|█▌        | 80/500 [04:24<22:04,  3.15s/it, MRR=0, mAP=0, Recall=0, Precision=0, F1=0, NoRelContextScore=nan]"
     ]
    },
    {
     "name": "stdout",
     "output_type": "stream",
     "text": [
      "uncert raw len:  1\n",
      "uncert raw len:  1\n",
      "10 0\n",
      "uncert raw len:  1\n",
      "uncert raw len:  1\n",
      "uncert raw len:  1\n",
      "uncert raw len:  1\n",
      "uncert raw len:  1\n",
      "uncert raw len:  1\n",
      "uncert raw len:  1\n",
      "uncert raw len:  1\n"
     ]
    },
    {
     "name": "stderr",
     "output_type": "stream",
     "text": [
      " 16%|█▌        | 81/500 [04:27<21:43,  3.11s/it, MRR=0, mAP=0, Recall=0, Precision=0, F1=0, NoRelContextScore=nan]"
     ]
    },
    {
     "name": "stdout",
     "output_type": "stream",
     "text": [
      "uncert raw len:  1\n",
      "uncert raw len:  1\n",
      "10 0\n",
      "uncert raw len:  1\n",
      "uncert raw len:  1\n",
      "uncert raw len:  1\n",
      "uncert raw len:  1\n",
      "uncert raw len:  1\n",
      "uncert raw len:  1\n",
      "uncert raw len:  1\n",
      "uncert raw len:  1\n"
     ]
    },
    {
     "name": "stderr",
     "output_type": "stream",
     "text": [
      " 16%|█▋        | 82/500 [04:30<22:11,  3.19s/it, MRR=0, mAP=0, Recall=0, Precision=0, F1=0, NoRelContextScore=nan]"
     ]
    },
    {
     "name": "stdout",
     "output_type": "stream",
     "text": [
      "uncert raw len:  1\n",
      "uncert raw len:  1\n",
      "10 0\n",
      "uncert raw len:  1\n",
      "uncert raw len:  1\n",
      "uncert raw len:  1\n",
      "uncert raw len:  1\n",
      "uncert raw len:  1\n",
      "uncert raw len:  1\n",
      "uncert raw len:  1\n",
      "uncert raw len:  1\n"
     ]
    },
    {
     "name": "stderr",
     "output_type": "stream",
     "text": [
      " 17%|█▋        | 83/500 [04:33<22:25,  3.23s/it, MRR=0, mAP=0, Recall=0, Precision=0, F1=0, NoRelContextScore=nan]"
     ]
    },
    {
     "name": "stdout",
     "output_type": "stream",
     "text": [
      "uncert raw len:  1\n",
      "uncert raw len:  1\n",
      "10 0\n",
      "uncert raw len:  1\n",
      "uncert raw len:  1\n",
      "uncert raw len:  1\n",
      "uncert raw len:  1\n",
      "uncert raw len:  1\n",
      "uncert raw len:  1\n",
      "uncert raw len:  1\n",
      "uncert raw len:  1\n"
     ]
    },
    {
     "name": "stderr",
     "output_type": "stream",
     "text": [
      " 17%|█▋        | 84/500 [04:37<22:48,  3.29s/it, MRR=0, mAP=0, Recall=0, Precision=0, F1=0, NoRelContextScore=nan]"
     ]
    },
    {
     "name": "stdout",
     "output_type": "stream",
     "text": [
      "uncert raw len:  1\n",
      "uncert raw len:  1\n",
      "10 0\n",
      "uncert raw len:  1\n",
      "uncert raw len:  1\n",
      "uncert raw len:  1\n",
      "uncert raw len:  1\n",
      "uncert raw len:  1\n",
      "uncert raw len:  1\n",
      "uncert raw len:  1\n",
      "uncert raw len:  1\n"
     ]
    },
    {
     "name": "stderr",
     "output_type": "stream",
     "text": [
      " 17%|█▋        | 85/500 [04:40<23:07,  3.34s/it, MRR=0, mAP=0, Recall=0, Precision=0, F1=0, NoRelContextScore=nan]"
     ]
    },
    {
     "name": "stdout",
     "output_type": "stream",
     "text": [
      "uncert raw len:  1\n",
      "uncert raw len:  1\n",
      "10 0\n",
      "uncert raw len:  1\n",
      "uncert raw len:  1\n",
      "uncert raw len:  1\n",
      "uncert raw len:  1\n",
      "uncert raw len:  1\n",
      "uncert raw len:  1\n",
      "uncert raw len:  1\n",
      "uncert raw len:  1\n"
     ]
    },
    {
     "name": "stderr",
     "output_type": "stream",
     "text": [
      " 17%|█▋        | 86/500 [04:44<23:06,  3.35s/it, MRR=0, mAP=0, Recall=0, Precision=0, F1=0, NoRelContextScore=nan]"
     ]
    },
    {
     "name": "stdout",
     "output_type": "stream",
     "text": [
      "uncert raw len:  1\n",
      "uncert raw len:  1\n",
      "10 0\n",
      "uncert raw len:  1\n",
      "uncert raw len:  1\n",
      "uncert raw len:  1\n",
      "uncert raw len:  1\n",
      "uncert raw len:  1\n",
      "uncert raw len:  1\n",
      "uncert raw len:  1\n",
      "uncert raw len:  1\n"
     ]
    },
    {
     "name": "stderr",
     "output_type": "stream",
     "text": [
      " 17%|█▋        | 87/500 [04:47<23:28,  3.41s/it, MRR=0, mAP=0, Recall=0, Precision=0, F1=0, NoRelContextScore=nan]"
     ]
    },
    {
     "name": "stdout",
     "output_type": "stream",
     "text": [
      "uncert raw len:  1\n",
      "uncert raw len:  1\n",
      "10 0\n",
      "uncert raw len:  1\n",
      "uncert raw len:  1\n",
      "uncert raw len:  1\n",
      "uncert raw len:  1\n",
      "uncert raw len:  1\n",
      "uncert raw len:  1\n",
      "uncert raw len:  1\n",
      "uncert raw len:  1\n"
     ]
    },
    {
     "name": "stderr",
     "output_type": "stream",
     "text": [
      " 18%|█▊        | 88/500 [04:51<23:35,  3.44s/it, MRR=0, mAP=0, Recall=0, Precision=0, F1=0, NoRelContextScore=nan]"
     ]
    },
    {
     "name": "stdout",
     "output_type": "stream",
     "text": [
      "uncert raw len:  1\n",
      "uncert raw len:  1\n",
      "10 0\n",
      "uncert raw len:  1\n",
      "uncert raw len:  1\n",
      "uncert raw len:  1\n",
      "uncert raw len:  1\n",
      "uncert raw len:  1\n",
      "uncert raw len:  1\n",
      "uncert raw len:  1\n",
      "uncert raw len:  1\n"
     ]
    },
    {
     "name": "stderr",
     "output_type": "stream",
     "text": [
      " 18%|█▊        | 89/500 [04:54<22:48,  3.33s/it, MRR=0, mAP=0, Recall=0, Precision=0, F1=0, NoRelContextScore=nan]"
     ]
    },
    {
     "name": "stdout",
     "output_type": "stream",
     "text": [
      "uncert raw len:  1\n",
      "uncert raw len:  1\n",
      "10 0\n",
      "uncert raw len:  1\n",
      "uncert raw len:  1\n",
      "uncert raw len:  1\n",
      "uncert raw len:  1\n",
      "uncert raw len:  1\n",
      "uncert raw len:  1\n",
      "uncert raw len:  1\n",
      "uncert raw len:  1\n"
     ]
    },
    {
     "name": "stderr",
     "output_type": "stream",
     "text": [
      " 18%|█▊        | 90/500 [04:57<22:08,  3.24s/it, MRR=0, mAP=0, Recall=0, Precision=0, F1=0, NoRelContextScore=nan]"
     ]
    },
    {
     "name": "stdout",
     "output_type": "stream",
     "text": [
      "uncert raw len:  1\n",
      "uncert raw len:  1\n",
      "10 0\n",
      "uncert raw len:  1\n",
      "uncert raw len:  1\n",
      "uncert raw len:  1\n",
      "uncert raw len:  1\n",
      "uncert raw len:  1\n",
      "uncert raw len:  1\n",
      "uncert raw len:  1\n",
      "uncert raw len:  1\n"
     ]
    },
    {
     "name": "stderr",
     "output_type": "stream",
     "text": [
      " 18%|█▊        | 91/500 [05:00<21:34,  3.17s/it, MRR=0, mAP=0, Recall=0, Precision=0, F1=0, NoRelContextScore=nan]"
     ]
    },
    {
     "name": "stdout",
     "output_type": "stream",
     "text": [
      "uncert raw len:  1\n",
      "uncert raw len:  1\n",
      "10 0\n",
      "uncert raw len:  1\n",
      "uncert raw len:  1\n",
      "uncert raw len:  1\n",
      "uncert raw len:  1\n",
      "uncert raw len:  1\n",
      "uncert raw len:  1\n",
      "uncert raw len:  1\n",
      "uncert raw len:  1\n"
     ]
    },
    {
     "name": "stderr",
     "output_type": "stream",
     "text": [
      " 18%|█▊        | 92/500 [05:03<21:10,  3.11s/it, MRR=0, mAP=0, Recall=0, Precision=0, F1=0, NoRelContextScore=nan]"
     ]
    },
    {
     "name": "stdout",
     "output_type": "stream",
     "text": [
      "uncert raw len:  1\n",
      "uncert raw len:  1\n",
      "10 0\n",
      "uncert raw len:  1\n",
      "uncert raw len:  1\n",
      "uncert raw len:  1\n",
      "uncert raw len:  1\n",
      "uncert raw len:  1\n",
      "uncert raw len:  1\n",
      "uncert raw len:  1\n",
      "uncert raw len:  1\n"
     ]
    },
    {
     "name": "stderr",
     "output_type": "stream",
     "text": [
      " 19%|█▊        | 93/500 [05:06<21:10,  3.12s/it, MRR=0, mAP=0, Recall=0, Precision=0, F1=0, NoRelContextScore=nan]"
     ]
    },
    {
     "name": "stdout",
     "output_type": "stream",
     "text": [
      "uncert raw len:  1\n",
      "uncert raw len:  1\n",
      "10 0\n",
      "uncert raw len:  1\n",
      "uncert raw len:  1\n",
      "uncert raw len:  1\n",
      "uncert raw len:  1\n",
      "uncert raw len:  1\n",
      "uncert raw len:  1\n",
      "uncert raw len:  1\n",
      "uncert raw len:  1\n"
     ]
    },
    {
     "name": "stderr",
     "output_type": "stream",
     "text": [
      " 19%|█▉        | 94/500 [05:09<21:05,  3.12s/it, MRR=0, mAP=0, Recall=0, Precision=0, F1=0, NoRelContextScore=nan]"
     ]
    },
    {
     "name": "stdout",
     "output_type": "stream",
     "text": [
      "uncert raw len:  1\n",
      "uncert raw len:  1\n",
      "10 0\n",
      "uncert raw len:  1\n",
      "uncert raw len:  1\n",
      "uncert raw len:  1\n",
      "uncert raw len:  1\n",
      "uncert raw len:  1\n",
      "uncert raw len:  1\n",
      "uncert raw len:  1\n",
      "uncert raw len:  1\n"
     ]
    },
    {
     "name": "stderr",
     "output_type": "stream",
     "text": [
      " 19%|█▉        | 95/500 [05:12<20:49,  3.09s/it, MRR=0, mAP=0, Recall=0, Precision=0, F1=0, NoRelContextScore=nan]"
     ]
    },
    {
     "name": "stdout",
     "output_type": "stream",
     "text": [
      "uncert raw len:  1\n",
      "uncert raw len:  1\n",
      "10 0\n",
      "uncert raw len:  1\n",
      "uncert raw len:  1\n",
      "uncert raw len:  1\n",
      "uncert raw len:  1\n",
      "uncert raw len:  1\n",
      "uncert raw len:  1\n",
      "uncert raw len:  1\n",
      "uncert raw len:  1\n"
     ]
    },
    {
     "name": "stderr",
     "output_type": "stream",
     "text": [
      " 19%|█▉        | 96/500 [05:15<20:26,  3.04s/it, MRR=0, mAP=0, Recall=0, Precision=0, F1=0, NoRelContextScore=nan]"
     ]
    },
    {
     "name": "stdout",
     "output_type": "stream",
     "text": [
      "uncert raw len:  1\n",
      "uncert raw len:  1\n",
      "10 0\n",
      "uncert raw len:  1\n",
      "uncert raw len:  1\n",
      "uncert raw len:  1\n",
      "uncert raw len:  1\n",
      "uncert raw len:  1\n",
      "uncert raw len:  1\n",
      "uncert raw len:  1\n",
      "uncert raw len:  1\n"
     ]
    },
    {
     "name": "stderr",
     "output_type": "stream",
     "text": [
      " 19%|█▉        | 97/500 [05:18<20:25,  3.04s/it, MRR=0, mAP=0, Recall=0, Precision=0, F1=0, NoRelContextScore=nan]"
     ]
    },
    {
     "name": "stdout",
     "output_type": "stream",
     "text": [
      "uncert raw len:  1\n",
      "uncert raw len:  1\n",
      "10 0\n"
     ]
    },
    {
     "name": "stderr",
     "output_type": "stream",
     "text": [
      " 19%|█▉        | 97/500 [05:20<22:13,  3.31s/it, MRR=0, mAP=0, Recall=0, Precision=0, F1=0, NoRelContextScore=nan]\n"
     ]
    },
    {
     "ename": "KeyboardInterrupt",
     "evalue": "",
     "output_type": "error",
     "traceback": [
      "\u001b[0;31m---------------------------------------------------------------------------\u001b[0m",
      "\u001b[0;31mKeyboardInterrupt\u001b[0m                         Traceback (most recent call last)",
      "Cell \u001b[0;32mIn[9], line 1\u001b[0m\n\u001b[0;32m----> 1\u001b[0m retriever_scores, retriever_cache, predicted_chunks, cache_relevant_flags \u001b[38;5;241m=\u001b[39m \u001b[43mevaluate_retriever\u001b[49m\u001b[43m(\u001b[49m\n\u001b[1;32m      2\u001b[0m \u001b[43m    \u001b[49m\u001b[43mbenchmarks_df\u001b[49m\u001b[43m,\u001b[49m\u001b[43m \u001b[49m\u001b[43mRETRIEVERS\u001b[49m\u001b[43m,\u001b[49m\u001b[43m \u001b[49m\u001b[43mretriever_metrics\u001b[49m\u001b[43m,\u001b[49m\u001b[43m \u001b[49m\u001b[43mshow_step\u001b[49m\u001b[38;5;241;43m=\u001b[39;49m\u001b[38;5;241;43m5\u001b[39;49m\u001b[43m,\u001b[49m\u001b[43m \u001b[49m\u001b[43mtopk_score_list\u001b[49m\u001b[38;5;241;43m=\u001b[39;49m\u001b[43mADDITIONAL_PARAMS\u001b[49m\u001b[43m[\u001b[49m\u001b[38;5;124;43m'\u001b[39;49m\u001b[38;5;124;43mtopk_score_list\u001b[39;49m\u001b[38;5;124;43m'\u001b[39;49m\u001b[43m]\u001b[49m\u001b[43m)\u001b[49m\n",
      "File \u001b[0;32m~/mikhail_workspace/rag_project/src/utils/evaluate_parts.py:91\u001b[0m, in \u001b[0;36mevaluate_retriever\u001b[0;34m(benchmarks_df, retrievers, metrics, show_step, topk_score_list)\u001b[0m\n\u001b[1;32m     89\u001b[0m process \u001b[38;5;241m=\u001b[39m tqdm(\u001b[38;5;28mrange\u001b[39m(benchmarks_df[name]\u001b[38;5;241m.\u001b[39mshape[\u001b[38;5;241m0\u001b[39m])) \n\u001b[1;32m     90\u001b[0m \u001b[38;5;28;01mfor\u001b[39;00m i \u001b[38;5;129;01min\u001b[39;00m process:\n\u001b[0;32m---> 91\u001b[0m     predicted_chunks \u001b[38;5;241m=\u001b[39m \u001b[43mretrievers\u001b[49m\u001b[43m[\u001b[49m\u001b[43mname\u001b[49m\u001b[43m]\u001b[49m\u001b[38;5;241;43m.\u001b[39;49m\u001b[43minvoke\u001b[49m\u001b[43m(\u001b[49m\u001b[43mbenchmarks_df\u001b[49m\u001b[43m[\u001b[49m\u001b[43mname\u001b[49m\u001b[43m]\u001b[49m\u001b[43m[\u001b[49m\u001b[38;5;124;43m'\u001b[39;49m\u001b[38;5;124;43mquestion\u001b[39;49m\u001b[38;5;124;43m'\u001b[39;49m\u001b[43m]\u001b[49m\u001b[43m[\u001b[49m\u001b[43mi\u001b[49m\u001b[43m]\u001b[49m\u001b[43m)\u001b[49m\n\u001b[1;32m     92\u001b[0m     predicted_chunk_ids \u001b[38;5;241m=\u001b[39m \u001b[38;5;28mlist\u001b[39m(\u001b[38;5;28mmap\u001b[39m(\u001b[38;5;28;01mlambda\u001b[39;00m item: item[\u001b[38;5;241m2\u001b[39m][\u001b[38;5;124m'\u001b[39m\u001b[38;5;124mchunk_id\u001b[39m\u001b[38;5;124m'\u001b[39m], predicted_chunks))\n\u001b[1;32m     93\u001b[0m     target_chunk_ids \u001b[38;5;241m=\u001b[39m benchmarks_df[name][\u001b[38;5;124m'\u001b[39m\u001b[38;5;124mchunk_ids\u001b[39m\u001b[38;5;124m'\u001b[39m][i]\n",
      "File \u001b[0;32m~/mikhail_workspace/rag_project/src/Retriever/RerankRetriever.py:22\u001b[0m, in \u001b[0;36mRerankRetriever.invoke\u001b[0;34m(self, query)\u001b[0m\n\u001b[1;32m     20\u001b[0m \u001b[38;5;28;01mdef\u001b[39;00m \u001b[38;5;21minvoke\u001b[39m(\u001b[38;5;28mself\u001b[39m, query: \u001b[38;5;28mstr\u001b[39m):\n\u001b[1;32m     21\u001b[0m     stage1_relevant_docs \u001b[38;5;241m=\u001b[39m \u001b[38;5;28mself\u001b[39m\u001b[38;5;241m.\u001b[39mstage1_retriever\u001b[38;5;241m.\u001b[39minvoke(query)\n\u001b[0;32m---> 22\u001b[0m     stage2_relevant_docs \u001b[38;5;241m=\u001b[39m \u001b[38;5;28;43mself\u001b[39;49m\u001b[38;5;241;43m.\u001b[39;49m\u001b[43mrerank\u001b[49m\u001b[43m(\u001b[49m\u001b[43mquery\u001b[49m\u001b[43m,\u001b[49m\u001b[43m \u001b[49m\u001b[43mstage1_relevant_docs\u001b[49m\u001b[43m)\u001b[49m\n\u001b[1;32m     24\u001b[0m     \u001b[38;5;28mprint\u001b[39m(\u001b[38;5;28mlen\u001b[39m(stage1_relevant_docs), \u001b[38;5;28mlen\u001b[39m(stage2_relevant_docs))\n\u001b[1;32m     26\u001b[0m     \u001b[38;5;28;01mreturn\u001b[39;00m stage2_relevant_docs\n",
      "File \u001b[0;32m~/mikhail_workspace/rag_project/src/Retriever/RerankRetriever.py:16\u001b[0m, in \u001b[0;36mRerankRetriever.rerank\u001b[0;34m(self, query, docs)\u001b[0m\n\u001b[1;32m     15\u001b[0m \u001b[38;5;28;01mdef\u001b[39;00m \u001b[38;5;21mrerank\u001b[39m(\u001b[38;5;28mself\u001b[39m, query: \u001b[38;5;28mstr\u001b[39m, docs: List[List[\u001b[38;5;28mobject\u001b[39m]]):\n\u001b[0;32m---> 16\u001b[0m     predicted_scores \u001b[38;5;241m=\u001b[39m \u001b[38;5;28;43mself\u001b[39;49m\u001b[38;5;241;43m.\u001b[39;49m\u001b[43mscorer\u001b[49m\u001b[38;5;241;43m.\u001b[39;49m\u001b[43mpredict\u001b[49m\u001b[43m(\u001b[49m\u001b[43mquery\u001b[49m\u001b[43m,\u001b[49m\u001b[43m \u001b[49m\u001b[38;5;28;43mlist\u001b[39;49m\u001b[43m(\u001b[49m\u001b[38;5;28;43mmap\u001b[39;49m\u001b[43m(\u001b[49m\u001b[38;5;28;43;01mlambda\u001b[39;49;00m\u001b[43m \u001b[49m\u001b[43mdoc\u001b[49m\u001b[43m:\u001b[49m\u001b[43m \u001b[49m\u001b[43mdoc\u001b[49m\u001b[43m[\u001b[49m\u001b[38;5;241;43m1\u001b[39;49m\u001b[43m]\u001b[49m\u001b[43m,\u001b[49m\u001b[43m \u001b[49m\u001b[43mdocs\u001b[49m\u001b[43m)\u001b[49m\u001b[43m)\u001b[49m\u001b[43m)\u001b[49m\n\u001b[1;32m     17\u001b[0m     relevant_docs \u001b[38;5;241m=\u001b[39m [doc \u001b[38;5;28;01mfor\u001b[39;00m i, doc \u001b[38;5;129;01min\u001b[39;00m \u001b[38;5;28menumerate\u001b[39m(docs) \u001b[38;5;28;01mif\u001b[39;00m predicted_scores[i] \u001b[38;5;241m==\u001b[39m \u001b[38;5;28mself\u001b[39m\u001b[38;5;241m.\u001b[39mscorer\u001b[38;5;241m.\u001b[39mconfig\u001b[38;5;241m.\u001b[39mcert_label]\n\u001b[1;32m     18\u001b[0m     \u001b[38;5;28;01mreturn\u001b[39;00m relevant_docs\n",
      "File \u001b[0;32m~/mikhail_workspace/rag_project/src/Scorer/document_uncertainty.py:20\u001b[0m, in \u001b[0;36mLLM_UncertaintyScorer.predict\u001b[0;34m(self, query, contexts)\u001b[0m\n\u001b[1;32m     16\u001b[0m output \u001b[38;5;241m=\u001b[39m \u001b[38;5;28mself\u001b[39m\u001b[38;5;241m.\u001b[39mreader\u001b[38;5;241m.\u001b[39mgenerate(user_prompts, system_prompt\u001b[38;5;241m=\u001b[39m\u001b[38;5;28mself\u001b[39m\u001b[38;5;241m.\u001b[39msystem_prompt, \n\u001b[1;32m     17\u001b[0m                               gen_params\u001b[38;5;241m=\u001b[39m\u001b[38;5;28mself\u001b[39m\u001b[38;5;241m.\u001b[39mconfig\u001b[38;5;241m.\u001b[39mgen, batch_size\u001b[38;5;241m=\u001b[39m\u001b[38;5;28mself\u001b[39m\u001b[38;5;241m.\u001b[39mconfig\u001b[38;5;241m.\u001b[39mbatch_size)\n\u001b[1;32m     19\u001b[0m predicted_scores \u001b[38;5;241m=\u001b[39m []\n\u001b[0;32m---> 20\u001b[0m \u001b[38;5;28;01mfor\u001b[39;00m raw_score \u001b[38;5;129;01min\u001b[39;00m output:\n\u001b[1;32m     21\u001b[0m     \u001b[38;5;28mprint\u001b[39m(\u001b[38;5;124m\"\u001b[39m\u001b[38;5;124muncert raw len: \u001b[39m\u001b[38;5;124m\"\u001b[39m, \u001b[38;5;28mlen\u001b[39m(raw_score))\n\u001b[1;32m     23\u001b[0m     score \u001b[38;5;241m=\u001b[39m raw_score[\u001b[38;5;241m0\u001b[39m]\u001b[38;5;241m.\u001b[39mlower()\n",
      "File \u001b[0;32m~/mikhail_workspace/rag_project/src/Reader/llm_local.py:54\u001b[0m, in \u001b[0;36mLLM_Model.post_proc\u001b[0;34m(self, running_pipe)\u001b[0m\n\u001b[1;32m     53\u001b[0m \u001b[38;5;28;01mdef\u001b[39;00m \u001b[38;5;21mpost_proc\u001b[39m(\u001b[38;5;28mself\u001b[39m, running_pipe):\n\u001b[0;32m---> 54\u001b[0m     \u001b[38;5;28;01mfor\u001b[39;00m out \u001b[38;5;129;01min\u001b[39;00m running_pipe:\n\u001b[1;32m     55\u001b[0m         proc_out \u001b[38;5;241m=\u001b[39m [item[\u001b[38;5;124m'\u001b[39m\u001b[38;5;124mgenerated_text\u001b[39m\u001b[38;5;124m'\u001b[39m]\u001b[38;5;241m.\u001b[39mstrip() \u001b[38;5;28;01mfor\u001b[39;00m item \u001b[38;5;129;01min\u001b[39;00m out]\n\u001b[1;32m     56\u001b[0m         \u001b[38;5;28;01myield\u001b[39;00m proc_out\n",
      "File \u001b[0;32m~/mikhail_workspace/mikhail_venv/lib/python3.10/site-packages/transformers/pipelines/pt_utils.py:124\u001b[0m, in \u001b[0;36mPipelineIterator.__next__\u001b[0;34m(self)\u001b[0m\n\u001b[1;32m    121\u001b[0m     \u001b[38;5;28;01mreturn\u001b[39;00m \u001b[38;5;28mself\u001b[39m\u001b[38;5;241m.\u001b[39mloader_batch_item()\n\u001b[1;32m    123\u001b[0m \u001b[38;5;66;03m# We're out of items within a batch\u001b[39;00m\n\u001b[0;32m--> 124\u001b[0m item \u001b[38;5;241m=\u001b[39m \u001b[38;5;28;43mnext\u001b[39;49m\u001b[43m(\u001b[49m\u001b[38;5;28;43mself\u001b[39;49m\u001b[38;5;241;43m.\u001b[39;49m\u001b[43miterator\u001b[49m\u001b[43m)\u001b[49m\n\u001b[1;32m    125\u001b[0m processed \u001b[38;5;241m=\u001b[39m \u001b[38;5;28mself\u001b[39m\u001b[38;5;241m.\u001b[39minfer(item, \u001b[38;5;241m*\u001b[39m\u001b[38;5;241m*\u001b[39m\u001b[38;5;28mself\u001b[39m\u001b[38;5;241m.\u001b[39mparams)\n\u001b[1;32m    126\u001b[0m \u001b[38;5;66;03m# We now have a batch of \"inferred things\".\u001b[39;00m\n",
      "File \u001b[0;32m~/mikhail_workspace/mikhail_venv/lib/python3.10/site-packages/transformers/pipelines/pt_utils.py:125\u001b[0m, in \u001b[0;36mPipelineIterator.__next__\u001b[0;34m(self)\u001b[0m\n\u001b[1;32m    123\u001b[0m \u001b[38;5;66;03m# We're out of items within a batch\u001b[39;00m\n\u001b[1;32m    124\u001b[0m item \u001b[38;5;241m=\u001b[39m \u001b[38;5;28mnext\u001b[39m(\u001b[38;5;28mself\u001b[39m\u001b[38;5;241m.\u001b[39miterator)\n\u001b[0;32m--> 125\u001b[0m processed \u001b[38;5;241m=\u001b[39m \u001b[38;5;28;43mself\u001b[39;49m\u001b[38;5;241;43m.\u001b[39;49m\u001b[43minfer\u001b[49m\u001b[43m(\u001b[49m\u001b[43mitem\u001b[49m\u001b[43m,\u001b[49m\u001b[43m \u001b[49m\u001b[38;5;241;43m*\u001b[39;49m\u001b[38;5;241;43m*\u001b[39;49m\u001b[38;5;28;43mself\u001b[39;49m\u001b[38;5;241;43m.\u001b[39;49m\u001b[43mparams\u001b[49m\u001b[43m)\u001b[49m\n\u001b[1;32m    126\u001b[0m \u001b[38;5;66;03m# We now have a batch of \"inferred things\".\u001b[39;00m\n\u001b[1;32m    127\u001b[0m \u001b[38;5;28;01mif\u001b[39;00m \u001b[38;5;28mself\u001b[39m\u001b[38;5;241m.\u001b[39mloader_batch_size \u001b[38;5;129;01mis\u001b[39;00m \u001b[38;5;129;01mnot\u001b[39;00m \u001b[38;5;28;01mNone\u001b[39;00m:\n\u001b[1;32m    128\u001b[0m     \u001b[38;5;66;03m# Try to infer the size of the batch\u001b[39;00m\n",
      "File \u001b[0;32m~/mikhail_workspace/mikhail_venv/lib/python3.10/site-packages/transformers/pipelines/base.py:1164\u001b[0m, in \u001b[0;36mPipeline.forward\u001b[0;34m(self, model_inputs, **forward_params)\u001b[0m\n\u001b[1;32m   1162\u001b[0m     \u001b[38;5;28;01mwith\u001b[39;00m inference_context():\n\u001b[1;32m   1163\u001b[0m         model_inputs \u001b[38;5;241m=\u001b[39m \u001b[38;5;28mself\u001b[39m\u001b[38;5;241m.\u001b[39m_ensure_tensor_on_device(model_inputs, device\u001b[38;5;241m=\u001b[39m\u001b[38;5;28mself\u001b[39m\u001b[38;5;241m.\u001b[39mdevice)\n\u001b[0;32m-> 1164\u001b[0m         model_outputs \u001b[38;5;241m=\u001b[39m \u001b[38;5;28;43mself\u001b[39;49m\u001b[38;5;241;43m.\u001b[39;49m\u001b[43m_forward\u001b[49m\u001b[43m(\u001b[49m\u001b[43mmodel_inputs\u001b[49m\u001b[43m,\u001b[49m\u001b[43m \u001b[49m\u001b[38;5;241;43m*\u001b[39;49m\u001b[38;5;241;43m*\u001b[39;49m\u001b[43mforward_params\u001b[49m\u001b[43m)\u001b[49m\n\u001b[1;32m   1165\u001b[0m         model_outputs \u001b[38;5;241m=\u001b[39m \u001b[38;5;28mself\u001b[39m\u001b[38;5;241m.\u001b[39m_ensure_tensor_on_device(model_outputs, device\u001b[38;5;241m=\u001b[39mtorch\u001b[38;5;241m.\u001b[39mdevice(\u001b[38;5;124m\"\u001b[39m\u001b[38;5;124mcpu\u001b[39m\u001b[38;5;124m\"\u001b[39m))\n\u001b[1;32m   1166\u001b[0m \u001b[38;5;28;01melse\u001b[39;00m:\n",
      "File \u001b[0;32m~/mikhail_workspace/mikhail_venv/lib/python3.10/site-packages/transformers/pipelines/text_generation.py:351\u001b[0m, in \u001b[0;36mTextGenerationPipeline._forward\u001b[0;34m(self, model_inputs, **generate_kwargs)\u001b[0m\n\u001b[1;32m    348\u001b[0m         generate_kwargs[\u001b[38;5;124m\"\u001b[39m\u001b[38;5;124mmin_length\u001b[39m\u001b[38;5;124m\"\u001b[39m] \u001b[38;5;241m+\u001b[39m\u001b[38;5;241m=\u001b[39m prefix_length\n\u001b[1;32m    350\u001b[0m \u001b[38;5;66;03m# BS x SL\u001b[39;00m\n\u001b[0;32m--> 351\u001b[0m generated_sequence \u001b[38;5;241m=\u001b[39m \u001b[38;5;28;43mself\u001b[39;49m\u001b[38;5;241;43m.\u001b[39;49m\u001b[43mmodel\u001b[49m\u001b[38;5;241;43m.\u001b[39;49m\u001b[43mgenerate\u001b[49m\u001b[43m(\u001b[49m\u001b[43minput_ids\u001b[49m\u001b[38;5;241;43m=\u001b[39;49m\u001b[43minput_ids\u001b[49m\u001b[43m,\u001b[49m\u001b[43m \u001b[49m\u001b[43mattention_mask\u001b[49m\u001b[38;5;241;43m=\u001b[39;49m\u001b[43mattention_mask\u001b[49m\u001b[43m,\u001b[49m\u001b[43m \u001b[49m\u001b[38;5;241;43m*\u001b[39;49m\u001b[38;5;241;43m*\u001b[39;49m\u001b[43mgenerate_kwargs\u001b[49m\u001b[43m)\u001b[49m\n\u001b[1;32m    352\u001b[0m out_b \u001b[38;5;241m=\u001b[39m generated_sequence\u001b[38;5;241m.\u001b[39mshape[\u001b[38;5;241m0\u001b[39m]\n\u001b[1;32m    353\u001b[0m \u001b[38;5;28;01mif\u001b[39;00m \u001b[38;5;28mself\u001b[39m\u001b[38;5;241m.\u001b[39mframework \u001b[38;5;241m==\u001b[39m \u001b[38;5;124m\"\u001b[39m\u001b[38;5;124mpt\u001b[39m\u001b[38;5;124m\"\u001b[39m:\n",
      "File \u001b[0;32m~/mikhail_workspace/mikhail_venv/lib/python3.10/site-packages/torch/utils/_contextlib.py:116\u001b[0m, in \u001b[0;36mcontext_decorator.<locals>.decorate_context\u001b[0;34m(*args, **kwargs)\u001b[0m\n\u001b[1;32m    113\u001b[0m \u001b[38;5;129m@functools\u001b[39m\u001b[38;5;241m.\u001b[39mwraps(func)\n\u001b[1;32m    114\u001b[0m \u001b[38;5;28;01mdef\u001b[39;00m \u001b[38;5;21mdecorate_context\u001b[39m(\u001b[38;5;241m*\u001b[39margs, \u001b[38;5;241m*\u001b[39m\u001b[38;5;241m*\u001b[39mkwargs):\n\u001b[1;32m    115\u001b[0m     \u001b[38;5;28;01mwith\u001b[39;00m ctx_factory():\n\u001b[0;32m--> 116\u001b[0m         \u001b[38;5;28;01mreturn\u001b[39;00m \u001b[43mfunc\u001b[49m\u001b[43m(\u001b[49m\u001b[38;5;241;43m*\u001b[39;49m\u001b[43margs\u001b[49m\u001b[43m,\u001b[49m\u001b[43m \u001b[49m\u001b[38;5;241;43m*\u001b[39;49m\u001b[38;5;241;43m*\u001b[39;49m\u001b[43mkwargs\u001b[49m\u001b[43m)\u001b[49m\n",
      "File \u001b[0;32m~/mikhail_workspace/mikhail_venv/lib/python3.10/site-packages/transformers/generation/utils.py:2024\u001b[0m, in \u001b[0;36mGenerationMixin.generate\u001b[0;34m(self, inputs, generation_config, logits_processor, stopping_criteria, prefix_allowed_tokens_fn, synced_gpus, assistant_model, streamer, negative_prompt_ids, negative_prompt_attention_mask, **kwargs)\u001b[0m\n\u001b[1;32m   2016\u001b[0m     input_ids, model_kwargs \u001b[38;5;241m=\u001b[39m \u001b[38;5;28mself\u001b[39m\u001b[38;5;241m.\u001b[39m_expand_inputs_for_generation(\n\u001b[1;32m   2017\u001b[0m         input_ids\u001b[38;5;241m=\u001b[39minput_ids,\n\u001b[1;32m   2018\u001b[0m         expand_size\u001b[38;5;241m=\u001b[39mgeneration_config\u001b[38;5;241m.\u001b[39mnum_return_sequences,\n\u001b[1;32m   2019\u001b[0m         is_encoder_decoder\u001b[38;5;241m=\u001b[39m\u001b[38;5;28mself\u001b[39m\u001b[38;5;241m.\u001b[39mconfig\u001b[38;5;241m.\u001b[39mis_encoder_decoder,\n\u001b[1;32m   2020\u001b[0m         \u001b[38;5;241m*\u001b[39m\u001b[38;5;241m*\u001b[39mmodel_kwargs,\n\u001b[1;32m   2021\u001b[0m     )\n\u001b[1;32m   2023\u001b[0m     \u001b[38;5;66;03m# 13. run sample (it degenerates to greedy search when `generation_config.do_sample=False`)\u001b[39;00m\n\u001b[0;32m-> 2024\u001b[0m     result \u001b[38;5;241m=\u001b[39m \u001b[38;5;28;43mself\u001b[39;49m\u001b[38;5;241;43m.\u001b[39;49m\u001b[43m_sample\u001b[49m\u001b[43m(\u001b[49m\n\u001b[1;32m   2025\u001b[0m \u001b[43m        \u001b[49m\u001b[43minput_ids\u001b[49m\u001b[43m,\u001b[49m\n\u001b[1;32m   2026\u001b[0m \u001b[43m        \u001b[49m\u001b[43mlogits_processor\u001b[49m\u001b[38;5;241;43m=\u001b[39;49m\u001b[43mprepared_logits_processor\u001b[49m\u001b[43m,\u001b[49m\n\u001b[1;32m   2027\u001b[0m \u001b[43m        \u001b[49m\u001b[43mlogits_warper\u001b[49m\u001b[38;5;241;43m=\u001b[39;49m\u001b[43mprepared_logits_warper\u001b[49m\u001b[43m,\u001b[49m\n\u001b[1;32m   2028\u001b[0m \u001b[43m        \u001b[49m\u001b[43mstopping_criteria\u001b[49m\u001b[38;5;241;43m=\u001b[39;49m\u001b[43mprepared_stopping_criteria\u001b[49m\u001b[43m,\u001b[49m\n\u001b[1;32m   2029\u001b[0m \u001b[43m        \u001b[49m\u001b[43mgeneration_config\u001b[49m\u001b[38;5;241;43m=\u001b[39;49m\u001b[43mgeneration_config\u001b[49m\u001b[43m,\u001b[49m\n\u001b[1;32m   2030\u001b[0m \u001b[43m        \u001b[49m\u001b[43msynced_gpus\u001b[49m\u001b[38;5;241;43m=\u001b[39;49m\u001b[43msynced_gpus\u001b[49m\u001b[43m,\u001b[49m\n\u001b[1;32m   2031\u001b[0m \u001b[43m        \u001b[49m\u001b[43mstreamer\u001b[49m\u001b[38;5;241;43m=\u001b[39;49m\u001b[43mstreamer\u001b[49m\u001b[43m,\u001b[49m\n\u001b[1;32m   2032\u001b[0m \u001b[43m        \u001b[49m\u001b[38;5;241;43m*\u001b[39;49m\u001b[38;5;241;43m*\u001b[39;49m\u001b[43mmodel_kwargs\u001b[49m\u001b[43m,\u001b[49m\n\u001b[1;32m   2033\u001b[0m \u001b[43m    \u001b[49m\u001b[43m)\u001b[49m\n\u001b[1;32m   2035\u001b[0m \u001b[38;5;28;01melif\u001b[39;00m generation_mode \u001b[38;5;129;01min\u001b[39;00m (GenerationMode\u001b[38;5;241m.\u001b[39mBEAM_SAMPLE, GenerationMode\u001b[38;5;241m.\u001b[39mBEAM_SEARCH):\n\u001b[1;32m   2036\u001b[0m     \u001b[38;5;66;03m# 11. prepare logits warper\u001b[39;00m\n\u001b[1;32m   2037\u001b[0m     prepared_logits_warper \u001b[38;5;241m=\u001b[39m (\n\u001b[1;32m   2038\u001b[0m         \u001b[38;5;28mself\u001b[39m\u001b[38;5;241m.\u001b[39m_get_logits_warper(generation_config, device\u001b[38;5;241m=\u001b[39minput_ids\u001b[38;5;241m.\u001b[39mdevice)\n\u001b[1;32m   2039\u001b[0m         \u001b[38;5;28;01mif\u001b[39;00m generation_config\u001b[38;5;241m.\u001b[39mdo_sample\n\u001b[1;32m   2040\u001b[0m         \u001b[38;5;28;01melse\u001b[39;00m \u001b[38;5;28;01mNone\u001b[39;00m\n\u001b[1;32m   2041\u001b[0m     )\n",
      "File \u001b[0;32m~/mikhail_workspace/mikhail_venv/lib/python3.10/site-packages/transformers/generation/utils.py:3032\u001b[0m, in \u001b[0;36mGenerationMixin._sample\u001b[0;34m(self, input_ids, logits_processor, stopping_criteria, generation_config, synced_gpus, streamer, logits_warper, **model_kwargs)\u001b[0m\n\u001b[1;32m   3030\u001b[0m \u001b[38;5;28;01mif\u001b[39;00m streamer \u001b[38;5;129;01mis\u001b[39;00m \u001b[38;5;129;01mnot\u001b[39;00m \u001b[38;5;28;01mNone\u001b[39;00m:\n\u001b[1;32m   3031\u001b[0m     streamer\u001b[38;5;241m.\u001b[39mput(next_tokens\u001b[38;5;241m.\u001b[39mcpu())\n\u001b[0;32m-> 3032\u001b[0m model_kwargs \u001b[38;5;241m=\u001b[39m \u001b[38;5;28;43mself\u001b[39;49m\u001b[38;5;241;43m.\u001b[39;49m\u001b[43m_update_model_kwargs_for_generation\u001b[49m\u001b[43m(\u001b[49m\n\u001b[1;32m   3033\u001b[0m \u001b[43m    \u001b[49m\u001b[43moutputs\u001b[49m\u001b[43m,\u001b[49m\n\u001b[1;32m   3034\u001b[0m \u001b[43m    \u001b[49m\u001b[43mmodel_kwargs\u001b[49m\u001b[43m,\u001b[49m\n\u001b[1;32m   3035\u001b[0m \u001b[43m    \u001b[49m\u001b[43mis_encoder_decoder\u001b[49m\u001b[38;5;241;43m=\u001b[39;49m\u001b[38;5;28;43mself\u001b[39;49m\u001b[38;5;241;43m.\u001b[39;49m\u001b[43mconfig\u001b[49m\u001b[38;5;241;43m.\u001b[39;49m\u001b[43mis_encoder_decoder\u001b[49m\u001b[43m,\u001b[49m\n\u001b[1;32m   3036\u001b[0m \u001b[43m\u001b[49m\u001b[43m)\u001b[49m\n\u001b[1;32m   3038\u001b[0m unfinished_sequences \u001b[38;5;241m=\u001b[39m unfinished_sequences \u001b[38;5;241m&\u001b[39m \u001b[38;5;241m~\u001b[39mstopping_criteria(input_ids, scores)\n\u001b[1;32m   3039\u001b[0m this_peer_finished \u001b[38;5;241m=\u001b[39m unfinished_sequences\u001b[38;5;241m.\u001b[39mmax() \u001b[38;5;241m==\u001b[39m \u001b[38;5;241m0\u001b[39m\n",
      "File \u001b[0;32m~/mikhail_workspace/mikhail_venv/lib/python3.10/site-packages/transformers/generation/utils.py:696\u001b[0m, in \u001b[0;36mGenerationMixin._update_model_kwargs_for_generation\u001b[0;34m(self, outputs, model_kwargs, is_encoder_decoder, num_new_tokens)\u001b[0m\n\u001b[1;32m    694\u001b[0m \u001b[38;5;28;01melse\u001b[39;00m:\n\u001b[1;32m    695\u001b[0m     past_positions \u001b[38;5;241m=\u001b[39m model_kwargs\u001b[38;5;241m.\u001b[39mpop(\u001b[38;5;124m\"\u001b[39m\u001b[38;5;124mcache_position\u001b[39m\u001b[38;5;124m\"\u001b[39m)\n\u001b[0;32m--> 696\u001b[0m     new_positions \u001b[38;5;241m=\u001b[39m \u001b[43mtorch\u001b[49m\u001b[38;5;241;43m.\u001b[39;49m\u001b[43marange\u001b[49m\u001b[43m(\u001b[49m\n\u001b[1;32m    697\u001b[0m \u001b[43m        \u001b[49m\u001b[43mpast_positions\u001b[49m\u001b[43m[\u001b[49m\u001b[38;5;241;43m-\u001b[39;49m\u001b[38;5;241;43m1\u001b[39;49m\u001b[43m]\u001b[49m\u001b[43m \u001b[49m\u001b[38;5;241;43m+\u001b[39;49m\u001b[43m \u001b[49m\u001b[38;5;241;43m1\u001b[39;49m\u001b[43m,\u001b[49m\u001b[43m \u001b[49m\u001b[43mpast_positions\u001b[49m\u001b[43m[\u001b[49m\u001b[38;5;241;43m-\u001b[39;49m\u001b[38;5;241;43m1\u001b[39;49m\u001b[43m]\u001b[49m\u001b[43m \u001b[49m\u001b[38;5;241;43m+\u001b[39;49m\u001b[43m \u001b[49m\u001b[43mnum_new_tokens\u001b[49m\u001b[43m \u001b[49m\u001b[38;5;241;43m+\u001b[39;49m\u001b[43m \u001b[49m\u001b[38;5;241;43m1\u001b[39;49m\u001b[43m,\u001b[49m\u001b[43m \u001b[49m\u001b[43mdtype\u001b[49m\u001b[38;5;241;43m=\u001b[39;49m\u001b[43mpast_positions\u001b[49m\u001b[38;5;241;43m.\u001b[39;49m\u001b[43mdtype\u001b[49m\n\u001b[1;32m    698\u001b[0m \u001b[43m    \u001b[49m\u001b[43m)\u001b[49m\u001b[38;5;241m.\u001b[39mto(past_positions\u001b[38;5;241m.\u001b[39mdevice)\n\u001b[1;32m    699\u001b[0m     model_kwargs[\u001b[38;5;124m\"\u001b[39m\u001b[38;5;124mcache_position\u001b[39m\u001b[38;5;124m\"\u001b[39m] \u001b[38;5;241m=\u001b[39m torch\u001b[38;5;241m.\u001b[39mcat((past_positions, new_positions))\n\u001b[1;32m    700\u001b[0m \u001b[38;5;28;01mreturn\u001b[39;00m model_kwargs\n",
      "\u001b[0;31mKeyboardInterrupt\u001b[0m: "
     ]
    }
   ],
   "source": [
    "retriever_scores, retriever_cache, predicted_chunks, cache_relevant_flags = evaluate_retriever(\n",
    "    benchmarks_df, RETRIEVERS, retriever_metrics, show_step=5, topk_score_list=ADDITIONAL_PARAMS['topk_score_list'])"
   ]
  },
  {
   "cell_type": "code",
   "execution_count": null,
   "metadata": {},
   "outputs": [],
   "source": [
    "contexts = {name: [reader_config.prompts.assistant + \"\\n\\n\" + \"\\n\\n\".join([f'{i+1}. {doc[1]}' for i, doc in enumerate(docs)]) \n",
    "                                                                      for docs in chunks] for name, chunks in predicted_chunks.items()}"
   ]
  },
  {
   "cell_type": "code",
   "execution_count": 13,
   "metadata": {},
   "outputs": [
    {
     "name": "stderr",
     "output_type": "stream",
     "text": [
      "  0%|          | 0/1000 [00:00<?, ?it/s]/trinity/home/team06/workspace/mikhail_workspace/mikhail_venv/lib/python3.10/site-packages/numpy/core/fromnumeric.py:3504: RuntimeWarning: Mean of empty slice.\n",
      "  return _methods._mean(a, axis=axis, dtype=dtype,\n",
      "/trinity/home/team06/workspace/mikhail_workspace/mikhail_venv/lib/python3.10/site-packages/numpy/core/_methods.py:129: RuntimeWarning: invalid value encountered in scalar divide\n",
      "  ret = ret.dtype.type(ret / rcount)\n",
      "  1%|          | 10/1000 [01:19<3:03:00, 11.09s/it, BLEU2=0.258, BLEU1=0.328, ExactMatch=0, METEOR=0.539, BertScore=nan]You seem to be using the pipelines sequentially on GPU. In order to maximize efficiency please use a dataset\n",
      "100%|██████████| 1000/1000 [1:01:16<00:00,  3.68s/it, BLEU2=0.206, BLEU1=0.257, ExactMatch=0.013, METEOR=0.403, BertScore=nan] \n"
     ]
    }
   ],
   "source": [
    "reader_scores, reader_cache = evaluate_reader(benchmarks_df, READER, reader_metrics, contexts)"
   ]
  },
  {
   "cell_type": "code",
   "execution_count": 14,
   "metadata": {},
   "outputs": [],
   "source": [
    "save_rag_trial_log(SAVE_LOGDIR, reader_scores, retriever_scores, \n",
    "                   SAVE_HYPERPARAMS, SAVE_READERCACHE, SAVE_RETRIEVERCACHE,\n",
    "                   reader_cache, retriever_cache_ids, BENCHMARKS_INFO, BENCHMARKS_MAXSIZE,\n",
    "                   READER_PARAMS, RETRIEVER_PARAMS)"
   ]
  },
  {
   "cell_type": "code",
   "execution_count": null,
   "metadata": {},
   "outputs": [],
   "source": []
  }
 ],
 "metadata": {
  "kernelspec": {
   "display_name": "mikhail_venv",
   "language": "python",
   "name": "mikhail_venv"
  },
  "language_info": {
   "codemirror_mode": {
    "name": "ipython",
    "version": 3
   },
   "file_extension": ".py",
   "mimetype": "text/x-python",
   "name": "python",
   "nbconvert_exporter": "python",
   "pygments_lexer": "ipython3",
   "version": "3.10.9"
  }
 },
 "nbformat": 4,
 "nbformat_minor": 4
}
