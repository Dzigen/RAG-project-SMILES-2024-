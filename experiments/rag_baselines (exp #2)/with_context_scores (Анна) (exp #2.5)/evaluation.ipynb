{
 "cells": [
  {
   "cell_type": "code",
   "execution_count": 1,
   "metadata": {},
   "outputs": [
    {
     "name": "stderr",
     "output_type": "stream",
     "text": [
      "/trinity/home/team06/workspace/mikhail_workspace/mikhail_venv/lib/python3.10/site-packages/tqdm/auto.py:21: TqdmWarning: IProgress not found. Please update jupyter and ipywidgets. See https://ipywidgets.readthedocs.io/en/stable/user_install.html\n",
      "  from .autonotebook import tqdm as notebook_tqdm\n"
     ]
    }
   ],
   "source": [
    "import sys\n",
    "#BASE_DIR = \"/home/dzigen/Desktop/ITMO/smiles2024/RAG-project-SMILES-2024-\"\n",
    "BASE_DIR = \"/trinity/home/team06/workspace/mikhail_workspace/rag_project\"\n",
    "sys.path.insert(0, BASE_DIR)\n",
    "\n",
    "import pandas as pd \n",
    "import ast\n",
    "import numpy as np\n",
    "import json\n",
    "from tqdm import tqdm\n",
    "from IPython.display import clear_output\n",
    "import os\n",
    "from typing import Dict, List\n",
    "\n",
    "from src.Retriever import ThresholdRetriever\n",
    "from src.Scorer import SimilarityScorerConfig\n",
    "from src.Reader import LLM_Model\n",
    "from src.utils import ReaderMetrics, RetrieverMetrics, save_rag_trial_log, prepare_thresholdretriever_configs, prepare_reader_configs, load_benchmarks_df\n",
    "from src.utils import evaluate_retriever, evaluate_reader"
   ]
  },
  {
   "cell_type": "code",
   "execution_count": 2,
   "metadata": {},
   "outputs": [],
   "source": [
    "# !!! TO CHANGE !!!\n",
    "TRIAL = 1\n",
    "BENCHMARKS_MAXSIZE = 500\n",
    "BENCHMARKS_INFO = {'mtssquad': {'db': 'v3', 'table': 'v2'}}\n",
    "\n",
    "# Retriever part\n",
    "RETRIEVER_PARAMS = {\n",
    "    \"model_path\": f\"{BASE_DIR}/models/intfloat/multilingual-e5-small\",\n",
    "    \"densedb_kwargs\": {'metadata': {\"hnsw:space\": \"ip\"}},\n",
    "    \"model_kwargs\": {'device':'cuda'},\n",
    "    \"encode_kwargs\": {'normalize_embeddings': True, 'prompt': 'query: '},\n",
    "    \"params\": {'fetch_k': 50, 'threshold': 0.23, 'max_k': 3}\n",
    "}\n",
    "\n",
    "# Reader part\n",
    "READER_PARAMS = {\n",
    "    'prompts': {\n",
    "        \"assistant\": 'Отвечай на вопросы, используя информацию из текстов в списке ниже. Каждому тексту в начале в квадратных скобках поставлена в соответствие вещественная оценка его синтаксической сложности: в диапазоне от 0.0 (низкая сложность) до 1.0 (высокая сложность). Учитывай эти данные. Тексты с более низкой оценкой содержат меньше дополнительной информации и из них легче извлечь релевантную информацию, если такая есть. Если оценка кажется тебе слишком высокой, а другие тексты нерелевантны запросу,  то сгенерируй следующий ответ: \"У меня нет ответа на ваш вопрос.\".',\n",
    "        \"system\": \"Ты вопросно-ответная система. Все ответы генерируй на русском языке. По вопросам отвечай кратко, чётко и конкретно. Не генерируй излишнюю информацию.\",\n",
    "    },\n",
    "    'gen': {'max_new_tokens': 512, 'eos_token_id': 79097},\n",
    "    'data_operate': {'batch_size': 1}\n",
    "    }\n",
    "\n",
    "ADDITIONAL_PARAMS = {\n",
    "    'topk_score_list': 3\n",
    "}\n",
    "\n",
    "BERTSCORE_MODEL_PATH = \"ru_electra_medium\"\n",
    "# !!! TO CHANGE !!!\n",
    "\n",
    "SAVE_LOGDIR = f'./logs/trial{TRIAL}'\n",
    "SAVE_HYPERPARAMS = f'{SAVE_LOGDIR}/hyperparams.json'\n",
    "SAVE_READERCACHE = f'{SAVE_LOGDIR}/reader_cache.json'\n",
    "SAVE_RETRIEVERCACHE = f'{SAVE_LOGDIR}/retriever_cache.json'"
   ]
  },
  {
   "cell_type": "markdown",
   "metadata": {},
   "source": [
    "##### Configure Retriever-part"
   ]
  },
  {
   "cell_type": "code",
   "execution_count": 3,
   "metadata": {},
   "outputs": [],
   "source": [
    "retrievers_config, benchmarks_path = prepare_thresholdretriever_configs(BASE_DIR, BENCHMARKS_INFO, RETRIEVER_PARAMS)\n",
    "retriever_metrics = RetrieverMetrics()"
   ]
  },
  {
   "cell_type": "code",
   "execution_count": 4,
   "metadata": {},
   "outputs": [],
   "source": [
    "benchmarks_df = load_benchmarks_df(benchmarks_path, BENCHMARKS_MAXSIZE)"
   ]
  },
  {
   "cell_type": "markdown",
   "metadata": {},
   "source": [
    "##### Configure Reader-part"
   ]
  },
  {
   "cell_type": "code",
   "execution_count": 5,
   "metadata": {
    "scrolled": true
   },
   "outputs": [
    {
     "name": "stderr",
     "output_type": "stream",
     "text": [
      "Loading checkpoint shards: 100%|██████████| 4/4 [03:38<00:00, 54.70s/it]\n"
     ]
    }
   ],
   "source": [
    "reader_config = prepare_reader_configs(READER_PARAMS)\n",
    "READER = LLM_Model(reader_config)"
   ]
  },
  {
   "cell_type": "code",
   "execution_count": 6,
   "metadata": {},
   "outputs": [
    {
     "name": "stdout",
     "output_type": "stream",
     "text": [
      "Loading Meteor...\n",
      "Loading ExactMatch\n"
     ]
    }
   ],
   "source": [
    "sim_score_config = SimilarityScorerConfig()\n",
    "reader_metrics = ReaderMetrics(BASE_DIR, BERTSCORE_MODEL_PATH, sim_score_config, READER)"
   ]
  },
  {
   "cell_type": "code",
   "execution_count": 7,
   "metadata": {},
   "outputs": [
    {
     "name": "stderr",
     "output_type": "stream",
     "text": [
      "No sentence-transformers model found with name /trinity/home/team06/workspace/mikhail_workspace/rag_project/models/intfloat/multilingual-e5-small. Creating a new one with mean pooling.\n"
     ]
    }
   ],
   "source": [
    "RETRIEVERS = {name: ThresholdRetriever(config) for name, config in retrievers_config.items()}"
   ]
  },
  {
   "cell_type": "markdown",
   "metadata": {},
   "source": [
    "##### Evaluating pipeline"
   ]
  },
  {
   "cell_type": "code",
   "execution_count": 8,
   "metadata": {
    "scrolled": true
   },
   "outputs": [
    {
     "name": "stdout",
     "output_type": "stream",
     "text": [
      "mtssquad\n"
     ]
    },
    {
     "name": "stderr",
     "output_type": "stream",
     "text": [
      "  0%|          | 0/500 [00:00<?, ?it/s]/trinity/home/team06/workspace/mikhail_workspace/rag_project/src/utils/evaluation_metrics.py:42: RuntimeWarning: invalid value encountered in scalar divide\n",
      "  return (2 * self.precision(pred_cands, gold_cands, k) * self.recall(pred_cands, gold_cands, k)) / (self.precision(pred_cands, gold_cands, k) + self.recall(pred_cands, gold_cands, k))\n",
      "/trinity/home/team06/workspace/mikhail_workspace/mikhail_venv/lib/python3.10/site-packages/numpy/core/fromnumeric.py:3504: RuntimeWarning: Mean of empty slice.\n",
      "  return _methods._mean(a, axis=axis, dtype=dtype,\n",
      "/trinity/home/team06/workspace/mikhail_workspace/mikhail_venv/lib/python3.10/site-packages/numpy/core/_methods.py:129: RuntimeWarning: invalid value encountered in scalar divide\n",
      "  ret = ret.dtype.type(ret / rcount)\n",
      "100%|██████████| 500/500 [00:11<00:00, 42.26it/s, MRR=0.778, mAP=0.778, Recall=0.839, Precision=0.28, F1=0.419, NoRelContextScore=nan] \n"
     ]
    }
   ],
   "source": [
    "retriever_scores, retriever_cache_ids, predicted_chunks, cache_relevant_flags = evaluate_retriever(\n",
    "    benchmarks_df, RETRIEVERS, retriever_metrics, show_step=5, topk_score_list=ADDITIONAL_PARAMS['topk_score_list'])"
   ]
  },
  {
   "cell_type": "code",
   "execution_count": 14,
   "metadata": {},
   "outputs": [],
   "source": [
    "contexts = {name: [reader_config.prompts.assistant + \"\\n\\n\" + \"\\n\\n\".join([f\"{i+1}. [{round(doc[2]['anna_score'], 3)}] {doc[1]}\" for i, doc in enumerate(docs)]) \n",
    "                                                                      for docs in chunks] for name, chunks in predicted_chunks.items()}"
   ]
  },
  {
   "cell_type": "code",
   "execution_count": 18,
   "metadata": {
    "scrolled": true
   },
   "outputs": [
    {
     "name": "stderr",
     "output_type": "stream",
     "text": [
      "0it [00:00, ?it/s]"
     ]
    },
    {
     "name": "stdout",
     "output_type": "stream",
     "text": [
      "answer raw len:  0 1\n"
     ]
    },
    {
     "name": "stderr",
     "output_type": "stream",
     "text": [
      "1it [00:09,  9.37s/it, BLEU2=nan, BLEU1=nan, ExactMatch=nan, METEOR=nan, BertScore=nan, StubScore=0]"
     ]
    },
    {
     "name": "stdout",
     "output_type": "stream",
     "text": [
      "sim raw len:  1\n",
      "False\n",
      "Нет, Мадонна не просила изменить аранжировку песни.\n",
      "Да, по просьбе Мадонны заменили аранжировщика Каминса на более опытного штатного аранжировщика Warner Bros. Records Регги Лукаса.\n",
      "[0]\n",
      "answer raw len:  1 1\n"
     ]
    },
    {
     "name": "stderr",
     "output_type": "stream",
     "text": [
      "2it [00:11,  5.32s/it, BLEU2=nan, BLEU1=nan, ExactMatch=nan, METEOR=nan, BertScore=nan, StubScore=0]"
     ]
    },
    {
     "name": "stdout",
     "output_type": "stream",
     "text": [
      "sim raw len:  1\n",
      "False\n",
      "\"Everybody\"\n",
      "Песню Мадонны \"Everybody\" выпускают в качестве сингла.\n",
      "[0, 0]\n",
      "answer raw len:  2 1\n"
     ]
    },
    {
     "name": "stderr",
     "output_type": "stream",
     "text": [
      "3it [00:14,  4.23s/it, BLEU2=0.701, BLEU1=0.818, ExactMatch=0, METEOR=0.965, BertScore=nan, StubScore=0]"
     ]
    },
    {
     "name": "stdout",
     "output_type": "stream",
     "text": [
      "True\n",
      "\"Everybody\" поднимается на 3-е место в чарте Hot Dance Club Songs.\n",
      "На 3-е место Everybody поднимается в чарте Hot Dance Club Songs.\n",
      "[0, 0]\n"
     ]
    },
    {
     "name": "stderr",
     "output_type": "stream",
     "text": [
      "4it [00:18,  3.83s/it, BLEU2=0.397, BLEU1=0.465, ExactMatch=0, METEOR=0.746, BertScore=nan, StubScore=0]"
     ]
    },
    {
     "name": "stdout",
     "output_type": "stream",
     "text": [
      "answer raw len:  3 1\n",
      "True\n",
      "При нулевом бюджете на рекламу было принято решение не размещать фото певицы на обложке, чтобы не отпугнуть цветную аудиторию, которая могла бы подумать, что она негритянская диско-соул-певица.\n",
      "Чтобы не отпугнуть цветную аудиторию якобы негритянской диско-соул-певицы.\n",
      "[0, 0]\n"
     ]
    },
    {
     "name": "stderr",
     "output_type": "stream",
     "text": [
      "5it [00:19,  3.10s/it, BLEU2=0.368, BLEU1=0.438, ExactMatch=0, METEOR=0.639, BertScore=nan, StubScore=0]"
     ]
    },
    {
     "name": "stdout",
     "output_type": "stream",
     "text": [
      "answer raw len:  4 1\n",
      "True\n",
      "При нулевом бюджете на продвижение, обложка альбома \"True Story\" не содержит фотографии певицы.\n",
      "При нулевом бюджете на раскрутку фото певицы решают не помещать на обложке.\n",
      "[0, 0]\n"
     ]
    },
    {
     "name": "stderr",
     "output_type": "stream",
     "text": [
      "6it [00:21,  2.74s/it, BLEU2=0.341, BLEU1=0.41, ExactMatch=0, METEOR=0.648, BertScore=nan, StubScore=0] "
     ]
    },
    {
     "name": "stdout",
     "output_type": "stream",
     "text": [
      "answer raw len:  5 1\n",
      "True\n",
      "Альбом \"The Times They Are A-Changing\" был выпущен в начале 1964 года.\n",
      "В начале 1964 года вышел новый альбом протестных песен Дилана The Times They Are A-Changing.\n",
      "[0, 0]\n"
     ]
    },
    {
     "name": "stderr",
     "output_type": "stream",
     "text": [
      "7it [00:23,  2.51s/it, BLEU2=0.306, BLEU1=0.382, ExactMatch=0, METEOR=0.616, BertScore=nan, StubScore=0]"
     ]
    },
    {
     "name": "stdout",
     "output_type": "stream",
     "text": [
      "answer raw len:  6 1\n",
      "True\n",
      "Любители фолк-музыки в США были сильно впечатлены альбомом Freewheelin' Bob Dylan.\n",
      "Freewheelin’ Bob Dylan произвёл большое впечатление на любителей фолк-музыки в США.\n",
      "[0, 0]\n"
     ]
    },
    {
     "name": "stderr",
     "output_type": "stream",
     "text": [
      "8it [00:28,  3.31s/it, BLEU2=0.303, BLEU1=0.378, ExactMatch=0, METEOR=0.598, BertScore=nan, StubScore=0]"
     ]
    },
    {
     "name": "stdout",
     "output_type": "stream",
     "text": [
      "answer raw len:  7 1\n",
      "True\n",
      "Джордж Харрисон заявил, что он и Битлз \"изнашивали\" альбом Freewheelin' Bob Dylan до дыр.\n",
      "Кумиры британской публики The Beatles заслушали альбом Freewheelin Bob Dylan до дыр.\n",
      "[0, 0]\n",
      "answer raw len:  8 1\n"
     ]
    },
    {
     "name": "stderr",
     "output_type": "stream",
     "text": [
      "9it [00:34,  4.07s/it, BLEU2=0.303, BLEU1=0.378, ExactMatch=0, METEOR=0.598, BertScore=nan, StubScore=0]"
     ]
    },
    {
     "name": "stdout",
     "output_type": "stream",
     "text": [
      "sim raw len:  1\n",
      "False\n",
      "Некоторые группы, такие как Blood, Sweat and Tears, Chicago и другие, взяли за основу звучание биг-бэндов, ритм-энд-блюз и различные направления рок-музыки.\n",
      "По примеру Дилана битлы стали экспериментировать с песнями и усложнять свой репертуар.\n",
      "[0, 0, 0]\n"
     ]
    },
    {
     "name": "stderr",
     "output_type": "stream",
     "text": [
      "10it [00:37,  3.63s/it, BLEU2=0.316, BLEU1=0.383, ExactMatch=0, METEOR=0.643, BertScore=nan, StubScore=0]"
     ]
    },
    {
     "name": "stdout",
     "output_type": "stream",
     "text": [
      "answer raw len:  9 1\n",
      "True\n",
      "Слова песен Дилана становятся все более литературными и суггестивными под влиянием чтения Джона Китса и Артюра Рембо.\n",
      "Под влиянием чтения Джона Китса и Артюра Рембо.\n",
      "[0, 0, 0]\n"
     ]
    },
    {
     "name": "stderr",
     "output_type": "stream",
     "text": [
      "11it [00:39,  3.09s/it, BLEU2=0.296, BLEU1=0.358, ExactMatch=0, METEOR=0.634, BertScore=nan, StubScore=0]"
     ]
    },
    {
     "name": "stdout",
     "output_type": "stream",
     "text": [
      "answer raw len:  10 1\n",
      "True\n",
      "Первый англоязычный театр, который получил награду Канадского института искусств молодежи, - это Театр для молодежи Манитобы.\n",
      "Манитобский театр юного зрителя получил награду Канадского Института Искусств Молодёжи.\n",
      "[0, 0, 0]\n"
     ]
    },
    {
     "name": "stderr",
     "output_type": "stream",
     "text": [
      "12it [00:40,  2.59s/it, BLEU2=0.309, BLEU1=0.374, ExactMatch=0, METEOR=0.628, BertScore=nan, StubScore=0]"
     ]
    },
    {
     "name": "stdout",
     "output_type": "stream",
     "text": [
      "answer raw len:  11 1\n",
      "True\n",
      "Название старейшего франкоязычного театра в Канаде - Le Cercle Molière.\n",
      "Старейший франкоязычный театр в Канаде называется Le Cercle Molière.\n",
      "[0, 0, 0]\n"
     ]
    },
    {
     "name": "stderr",
     "output_type": "stream",
     "text": [
      "13it [00:42,  2.40s/it, BLEU2=0.322, BLEU1=0.383, ExactMatch=0, METEOR=0.634, BertScore=nan, StubScore=0]"
     ]
    },
    {
     "name": "stdout",
     "output_type": "stream",
     "text": [
      "answer raw len:  12 1\n",
      "True\n",
      "Театр, который является старейшим в Канаде англоязычным региональным театром, - это Театр Виннипега.\n",
      "Театральный центр Манитобы является старейшим в Канаде англоязычным региональным театром.\n",
      "[0, 0, 0]\n",
      "answer raw len:  13 1\n"
     ]
    },
    {
     "name": "stderr",
     "output_type": "stream",
     "text": [
      "14it [00:47,  3.25s/it, BLEU2=0.322, BLEU1=0.383, ExactMatch=0, METEOR=0.634, BertScore=nan, StubScore=0]"
     ]
    },
    {
     "name": "stdout",
     "output_type": "stream",
     "text": [
      "sim raw len:  1\n",
      "False\n",
      "Первые телеграфные столбы были установлены в 1832 году, когда российский ученый Павел Львович Шиллинг создал первый электромагнитный телеграф.\n",
      "Нет информации\n",
      "[0, 0, 0, 0]\n"
     ]
    },
    {
     "name": "stderr",
     "output_type": "stream",
     "text": [
      "15it [00:49,  2.81s/it, BLEU2=0.333, BLEU1=0.389, ExactMatch=0, METEOR=0.626, BertScore=nan, StubScore=0]"
     ]
    },
    {
     "name": "stdout",
     "output_type": "stream",
     "text": [
      "answer raw len:  14 1\n",
      "True\n",
      "Художественная галерея Виннипега насчитывает более 20 000 произведений.\n",
      "Художественная галерея Виннипега насчитывает более 20 тысяч работ манитобских и канадских художников.\n",
      "[0, 0, 0, 0]\n"
     ]
    },
    {
     "name": "stderr",
     "output_type": "stream",
     "text": [
      "16it [00:50,  2.37s/it, BLEU2=0.344, BLEU1=0.402, ExactMatch=0, METEOR=0.628, BertScore=nan, StubScore=0]"
     ]
    },
    {
     "name": "stdout",
     "output_type": "stream",
     "text": [
      "answer raw len:  15 1\n",
      "True\n",
      "В Театре для молодежи Манитобы ставят пьесы для детей и подростков.\n",
      "В Манитобском театре юного зрителя играют пьесы для детей и подростков.\n",
      "[0, 0, 0, 0]\n"
     ]
    },
    {
     "name": "stderr",
     "output_type": "stream",
     "text": [
      "17it [00:51,  1.88s/it, BLEU2=0.335, BLEU1=0.39, ExactMatch=0, METEOR=0.62, BertScore=nan, StubScore=0]  "
     ]
    },
    {
     "name": "stdout",
     "output_type": "stream",
     "text": [
      "answer raw len:  16 1\n",
      "True\n",
      "В образе Леонардо да Винчи.\n",
      "На фреске Афинская школа Платон написан в образе Леонардо да Винчи.\n",
      "[0, 0, 0, 0]\n"
     ]
    },
    {
     "name": "stderr",
     "output_type": "stream",
     "text": [
      "18it [00:53,  1.90s/it, BLEU2=0.311, BLEU1=0.362, ExactMatch=0, METEOR=0.581, BertScore=nan, StubScore=0]"
     ]
    },
    {
     "name": "stdout",
     "output_type": "stream",
     "text": [
      "answer raw len:  17 1\n",
      "True\n",
      "[0.05] Рафаэль изобразил Леонардо да Винчи в образе Платона в композиции \"Афинская школа\".\n",
      "Птолемей очень похож на автора фрески.\n",
      "[0, 0, 0, 0]\n"
     ]
    },
    {
     "name": "stderr",
     "output_type": "stream",
     "text": [
      "19it [00:59,  2.99s/it, BLEU2=0.304, BLEU1=0.359, ExactMatch=0, METEOR=0.568, BertScore=nan, StubScore=0]"
     ]
    },
    {
     "name": "stdout",
     "output_type": "stream",
     "text": [
      "answer raw len:  18 1\n",
      "True\n",
      "На фреске \"Афинская школа\" изображены древние философы, многие из которых изображены с чертами своих современников. Некоторые известные философы, представленные на фреске, включают Платона, Леонардо да Винчи, Гераклита, Микеланджело, Птолемея и других.\n",
      "На фреске Афинская школа представлены древние философы, многим из которых Рафаэль придал черты своих современников, например, Платон написан в образе Леонардо да Винчи, Гераклит в образе Микеланджело, а стоящий у правого края Птолемей очень похож на автора фрески.\n",
      "[0, 0, 0, 0]\n"
     ]
    },
    {
     "name": "stderr",
     "output_type": "stream",
     "text": [
      "20it [01:00,  2.52s/it, BLEU2=0.336, BLEU1=0.392, ExactMatch=0, METEOR=0.59, BertScore=nan, StubScore=0] "
     ]
    },
    {
     "name": "stdout",
     "output_type": "stream",
     "text": [
      "answer raw len:  19 1\n",
      "True\n",
      "На фреске \"Афинская школа\" Рафаэля изображено около 50 персонажей.\n",
      "На фреске \"Афинская школа\" Рафаэля присутствует около 50 персонажей.\n",
      "[0, 0, 0, 0]\n"
     ]
    },
    {
     "name": "stderr",
     "output_type": "stream",
     "text": [
      "21it [01:01,  2.09s/it, BLEU2=0.316, BLEU1=0.369, ExactMatch=0, METEOR=0.559, BertScore=nan, StubScore=0]"
     ]
    },
    {
     "name": "stdout",
     "output_type": "stream",
     "text": [
      "answer raw len:  20 1\n",
      "True\n",
      "Рафаэль использовал черты Леонардо да Винчи при написании Платона.\n",
      "Гераклит написан в образе Микеланджело.\n",
      "[0, 0, 0, 0]\n"
     ]
    },
    {
     "name": "stderr",
     "output_type": "stream",
     "text": [
      "22it [01:03,  2.15s/it, BLEU2=0.324, BLEU1=0.381, ExactMatch=0, METEOR=0.566, BertScore=nan, StubScore=0]"
     ]
    },
    {
     "name": "stdout",
     "output_type": "stream",
     "text": [
      "answer raw len:  21 1\n",
      "True\n",
      "Бхагавад-гита учит, что корень всех страданий - это возбужденный эгоистическими желаниями ум.\n",
      "Кришна учит, что корнем всех страданий является возбуждённый эгоистическими желаниями ум.\n",
      "[0, 0, 0, 0]\n"
     ]
    },
    {
     "name": "stderr",
     "output_type": "stream",
     "text": [
      "23it [01:05,  1.87s/it, BLEU2=0.36, BLEU1=0.413, ExactMatch=0.0526, METEOR=0.589, BertScore=nan, StubScore=0]"
     ]
    },
    {
     "name": "stdout",
     "output_type": "stream",
     "text": [
      "answer raw len:  22 1\n",
      "True\n",
      "Согласно Бхагавад-гите, все действия должны быть посвящены Богу.\n",
      "Согласно Бхагавад-гите, все действия должны быть посвящены Богу.\n",
      "[0, 0, 0, 0]\n"
     ]
    },
    {
     "name": "stderr",
     "output_type": "stream",
     "text": [
      "24it [01:07,  2.02s/it, BLEU2=0.354, BLEU1=0.408, ExactMatch=0.05, METEOR=0.591, BertScore=nan, StubScore=0] "
     ]
    },
    {
     "name": "stdout",
     "output_type": "stream",
     "text": [
      "answer raw len:  23 1\n",
      "True\n",
      "Согласно Бхагавадгите, пламя желаний можно усмирить, контролируя ум через самодисциплину и участие в возвышающей духовной деятельности.\n",
      "Согласно Бхагавадгите, усмирить пламя желаний можно посредством самодисциплины.\n",
      "[0, 0, 0, 0]\n"
     ]
    },
    {
     "name": "stderr",
     "output_type": "stream",
     "text": [
      "25it [01:09,  2.00s/it, BLEU2=0.372, BLEU1=0.425, ExactMatch=0.0476, METEOR=0.604, BertScore=nan, StubScore=0]"
     ]
    },
    {
     "name": "stdout",
     "output_type": "stream",
     "text": [
      "answer raw len:  24 1\n",
      "True\n",
      "Бхагавад-гита описывает йогу как контроль ума, искусство деятельности и осознание высшей природы души.\n",
      "Бхагавадгита описывает йогу как контроль ума, искусство деятельности, осознание высшей природы души.\n",
      "[0, 0, 0, 0]\n"
     ]
    },
    {
     "name": "stderr",
     "output_type": "stream",
     "text": [
      "26it [01:12,  2.18s/it, BLEU2=0.392, BLEU1=0.444, ExactMatch=0.0455, METEOR=0.616, BertScore=nan, StubScore=0]"
     ]
    },
    {
     "name": "stdout",
     "output_type": "stream",
     "text": [
      "answer raw len:  25 1\n",
      "True\n",
      "Согласно Бхагавад-гите, высшая цель - это освобождение ума и разума от материальной деятельности и их сосредоточение на духовном уровне через посвящение всех действий Богу.\n",
      "Согласно Бхагавад-гите, высшей целью является освобождение ума и разума от материальной деятельности и их сосредоточение на духовном уровне через посвящение всех действий Богу.\n",
      "[0, 0, 0, 0]\n",
      "answer raw len:  26 1\n"
     ]
    },
    {
     "name": "stderr",
     "output_type": "stream",
     "text": [
      "27it [01:15,  2.47s/it, BLEU2=0.392, BLEU1=0.444, ExactMatch=0.0455, METEOR=0.616, BertScore=nan, StubScore=0]"
     ]
    },
    {
     "name": "stdout",
     "output_type": "stream",
     "text": [
      "sim raw len:  1\n",
      "False\n",
      "В Ингушетии, Россия, находится много населенных пунктов.\n",
      "В области земель Колхиды.\n",
      "[0, 0, 0, 0, 0]\n"
     ]
    },
    {
     "name": "stderr",
     "output_type": "stream",
     "text": [
      "28it [01:16,  2.08s/it, BLEU2=0.388, BLEU1=0.442, ExactMatch=0.0435, METEOR=0.62, BertScore=nan, StubScore=0] "
     ]
    },
    {
     "name": "stdout",
     "output_type": "stream",
     "text": [
      "answer raw len:  27 1\n",
      "True\n",
      "На греческом языке укрепление называлось Котиаион.\n",
      "Укрепление на греческом языке в то время называлось Котиаион.\n",
      "[0, 0, 0, 0, 0]\n"
     ]
    },
    {
     "name": "stderr",
     "output_type": "stream",
     "text": [
      "29it [01:17,  1.90s/it, BLEU2=0.372, BLEU1=0.424, ExactMatch=0.0417, METEOR=0.604, BertScore=nan, StubScore=0]"
     ]
    },
    {
     "name": "stdout",
     "output_type": "stream",
     "text": [
      "answer raw len:  28 1\n",
      "True\n",
      "Река, протекающая через Кутаиси, называется Риони.\n",
      "В Кутаиси протекает река Рион.\n",
      "[0, 0, 0, 0, 0]\n"
     ]
    },
    {
     "name": "stderr",
     "output_type": "stream",
     "text": [
      "30it [01:19,  1.77s/it, BLEU2=0.368, BLEU1=0.42, ExactMatch=0.04, METEOR=0.612, BertScore=nan, StubScore=0]   "
     ]
    },
    {
     "name": "stdout",
     "output_type": "stream",
     "text": [
      "answer raw len:  29 1\n",
      "True\n",
      "В охране вместе с лазами принимали участие и римские солдаты, хотя их было очень мало.\n",
      "Римские воины принимали участие в охране вместе с лазами.\n",
      "[0, 0, 0, 0, 0]\n"
     ]
    },
    {
     "name": "stderr",
     "output_type": "stream",
     "text": [
      "31it [01:21,  1.82s/it, BLEU2=0.371, BLEU1=0.423, ExactMatch=0.0385, METEOR=0.621, BertScore=nan, StubScore=0]"
     ]
    },
    {
     "name": "stdout",
     "output_type": "stream",
     "text": [
      "answer raw len:  30 1\n",
      "True\n",
      "Фильм \"Абсолютные новички\" вышел в 1986 году.\n",
      "Рок-музыкальный фильм Абсолютные новички вышел в 1986 году.\n",
      "[0, 0, 0, 0, 0]\n"
     ]
    },
    {
     "name": "stderr",
     "output_type": "stream",
     "text": [
      "32it [01:24,  2.10s/it, BLEU2=0.378, BLEU1=0.432, ExactMatch=0.037, METEOR=0.623, BertScore=nan, StubScore=0] "
     ]
    },
    {
     "name": "stdout",
     "output_type": "stream",
     "text": [
      "answer raw len:  31 1\n",
      "True\n",
      "Дэвид Боуи сыграл короля гоблинов Джарета в фильме \"Лабиринт\" в 1986 году.\n",
      "Дэвид Боуи снялся в роли короля гоблинов Джарета в фильме Лабиринт.\n",
      "[0, 0, 0, 0, 0]\n"
     ]
    },
    {
     "name": "stderr",
     "output_type": "stream",
     "text": [
      "33it [01:26,  2.16s/it, BLEU2=0.388, BLEU1=0.445, ExactMatch=0.0357, METEOR=0.636, BertScore=nan, StubScore=0]"
     ]
    },
    {
     "name": "stdout",
     "output_type": "stream",
     "text": [
      "answer raw len:  32 1\n",
      "True\n",
      "Фильм Мартина Скорсезе \"Последнее искушение Христа\" вышел в 1988 году.\n",
      "Фильм Мартина Скорсезе Последнее искушение Христа вышел в 1988 году.\n",
      "[0, 0, 0, 0, 0]\n"
     ]
    },
    {
     "name": "stderr",
     "output_type": "stream",
     "text": [
      "34it [01:29,  2.49s/it, BLEU2=0.39, BLEU1=0.448, ExactMatch=0.0345, METEOR=0.646, BertScore=nan, StubScore=0] "
     ]
    },
    {
     "name": "stdout",
     "output_type": "stream",
     "text": [
      "answer raw len:  33 1\n",
      "True\n",
      "Дэвид Боуи сыграл Понтия Пилата в фильме Мартина Скорсезе \"Последнее искушение Христа\" в 1988 году.\n",
      "В фильме Мартина Скорсезе Последнее искушение Христа Дэвид Боуи сыграл Понтия Пилата.\n",
      "[0, 0, 0, 0, 0]\n"
     ]
    },
    {
     "name": "stderr",
     "output_type": "stream",
     "text": [
      "35it [01:34,  3.18s/it, BLEU2=0.395, BLEU1=0.453, ExactMatch=0.0333, METEOR=0.649, BertScore=nan, StubScore=0]"
     ]
    },
    {
     "name": "stdout",
     "output_type": "stream",
     "text": [
      "answer raw len:  34 1\n",
      "True\n",
      "Дэвид Боуи рассматривался на роль Джокера в фильме Тима Бертона и Сэма Хэмма \"Бэтмен\" в 1989 году. Однако роль в итоге досталась Джеку Николсону.\n",
      "Дэвида Боуи рассматривали на роль Джокера в фильме Тима Бёртона и Сэма Хэмма \"Бэтмен\" в 1989 году.\n",
      "[0, 0, 0, 0, 0]\n"
     ]
    },
    {
     "name": "stderr",
     "output_type": "stream",
     "text": [
      "36it [01:36,  2.75s/it, BLEU2=0.394, BLEU1=0.453, ExactMatch=0.0323, METEOR=0.65, BertScore=nan, StubScore=0] "
     ]
    },
    {
     "name": "stdout",
     "output_type": "stream",
     "text": [
      "answer raw len:  35 1\n",
      "True\n",
      "Самым совершенным произведением Вергилия по чистоте и поэтической завершенности является \"Георгики\".\n",
      "Георгики считаются самым совершенным по чистоте и поэтической законченности стиха произведением.\n",
      "[0, 0, 0, 0, 0]\n"
     ]
    },
    {
     "name": "stderr",
     "output_type": "stream",
     "text": [
      "37it [01:36,  2.17s/it, BLEU2=0.382, BLEU1=0.454, ExactMatch=0.0312, METEOR=0.644, BertScore=nan, StubScore=0]"
     ]
    },
    {
     "name": "stdout",
     "output_type": "stream",
     "text": [
      "answer raw len:  36 1\n",
      "True\n",
      "Георгики выступают против распространения атеизма.\n",
      "Георгики служат протестом против республики атеизма.\n",
      "[0, 0, 0, 0, 0]\n"
     ]
    },
    {
     "name": "stderr",
     "output_type": "stream",
     "text": [
      "38it [01:38,  1.93s/it, BLEU2=0.374, BLEU1=0.445, ExactMatch=0.0303, METEOR=0.633, BertScore=nan, StubScore=0]"
     ]
    },
    {
     "name": "stdout",
     "output_type": "stream",
     "text": [
      "answer raw len:  37 1\n",
      "True\n",
      "Поэт часто сравнивает детали сельскохозяйственной жизни с военной жизнью.\n",
      "Земледелие в глазах Вергилия - святая война людей против земли, и он часто сравнивает подробности земледельческого быта с военной жизнью.\n",
      "[0, 0, 0, 0, 0]\n"
     ]
    },
    {
     "name": "stderr",
     "output_type": "stream",
     "text": [
      "39it [01:40,  1.89s/it, BLEU2=0.363, BLEU1=0.439, ExactMatch=0.0294, METEOR=0.621, BertScore=nan, StubScore=0]"
     ]
    },
    {
     "name": "stdout",
     "output_type": "stream",
     "text": [
      "answer raw len:  38 1\n",
      "True\n",
      "[0.06] Характер Вергилия наиболее ярко проявился в \"Георгиках\".\n",
      "Характер поэта глубже всего отразился в Георгиках.\n",
      "[0, 0, 0, 0, 0]\n"
     ]
    },
    {
     "name": "stderr",
     "output_type": "stream",
     "text": [
      "40it [01:41,  1.76s/it, BLEU2=0.365, BLEU1=0.441, ExactMatch=0.0286, METEOR=0.623, BertScore=nan, StubScore=0]"
     ]
    },
    {
     "name": "stdout",
     "output_type": "stream",
     "text": [
      "answer raw len:  39 1\n",
      "True\n",
      "В глазах Вергилия, землядельческий труд - это священная война людей против земли.\n",
      "Земледелие, в глазах Вергилия, есть святая война людей против земли.\n",
      "[0, 0, 0, 0, 0]\n",
      "answer raw len:  40 1\n"
     ]
    },
    {
     "name": "stderr",
     "output_type": "stream",
     "text": [
      "41it [01:45,  2.37s/it, BLEU2=0.365, BLEU1=0.441, ExactMatch=0.0286, METEOR=0.623, BertScore=nan, StubScore=0]"
     ]
    },
    {
     "name": "stdout",
     "output_type": "stream",
     "text": [
      "sim raw len:  1\n",
      "False\n",
      "В данном тексте не упоминается А.Ф. Самойлов или какое-либо понятие, введенное им.\n",
      "А.Ф. Самойлов ввел понятие \"власть воли\".\n",
      "[0, 0, 0, 0, 0, 0]\n"
     ]
    },
    {
     "name": "stderr",
     "output_type": "stream",
     "text": [
      "42it [01:45,  1.83s/it, BLEU2=0.355, BLEU1=0.429, ExactMatch=0.0278, METEOR=0.607, BertScore=nan, StubScore=0]"
     ]
    },
    {
     "name": "stdout",
     "output_type": "stream",
     "text": [
      "answer raw len:  41 1\n",
      "True\n",
      "У меня нет ответа на ваш вопрос.\n",
      "Состояние комы означает резкое ограничение параметров жизни или даже отсутствие жизни.\n",
      "[0, 0, 0, 0, 0, 0]\n"
     ]
    },
    {
     "name": "stderr",
     "output_type": "stream",
     "text": [
      "43it [02:08,  8.20s/it, BLEU2=0.345, BLEU1=0.418, ExactMatch=0.027, METEOR=0.593, BertScore=nan, StubScore=0] "
     ]
    },
    {
     "name": "stdout",
     "output_type": "stream",
     "text": [
      "answer raw len:  42 1\n",
      "True\n",
      "1. [0.03] Жизнь - это замкнутый круг рефлекторной деятельности. Разрыв этого круга в любом месте (состояние комы) означает резкое ограничение параметров жизни или даже отсутствие жизни.\n",
      "\n",
      "2. [0.07] Жизнь - это основное понятие биологии - активная форма существования материи, в некотором смысле высшая по сравнению с её физической и химической формами существования[1][2][3]; совокупность физических и химических процессов, протекающих в клетке, позволяющих осуществлять обмен веществ и её деление (вне клетки жизнь не существует, вирусы проявляют свойства живой материи только после переноса генетического материала в клетку).\n",
      "\n",
      "3. [0.05] Проблема критериев прогресса считается одной из сложнейших в науках об обществе. Некоторые исследователи считают, что таких критериев не существует[13]. Трудности с определением критериев прогресса вызваны тем, что прогресс понимается только как улучшение жизни населения. В истории же человечества часто бывало так, что при явном движении вперед подавляющему большинству населения жить становилось хуже. Наиболее ярким примером такого рода является переход от охоты и собирательства к земледелию. Пища становилась бедной белками и значительно более однообразной, труд более монотонным и тяжелым, в результате всего этого комплекса факторов продолжительность жизни у ранних земледельцев была существенно меньше, чем у охотников и собирателей.[14]\n",
      "Причинами, от которых зависит жизнь, являются: состояние внешней среды, власти воли индивидуума, внутренних вегетативных начал организма, неподвластных власти воли.\n",
      "[0, 0, 0, 0, 0, 0]\n"
     ]
    },
    {
     "name": "stderr",
     "output_type": "stream",
     "text": [
      "44it [02:11,  6.60s/it, BLEU2=0.338, BLEU1=0.409, ExactMatch=0.0263, METEOR=0.581, BertScore=nan, StubScore=0]"
     ]
    },
    {
     "name": "stdout",
     "output_type": "stream",
     "text": [
      "answer raw len:  43 1\n",
      "True\n",
      "Жизнь - это активная форма существования материи, характеризующаяся различными физическими и химическими процессами, происходящими в живых организмах. Это включает в себя способность живых организмов приспосабливаться к окружающей среде и формировать разнообразие живых организмов через размножение.\n",
      "Жизнь - это замкнутый круг рефлекторной деятельности, который зависит от состояния внешней среды, власти воли индивидуума, внутренних вегетативных начал организма, неподвластных власти воли.\n",
      "[0, 0, 0, 0, 0, 0]\n",
      "answer raw len:  44 1\n"
     ]
    },
    {
     "name": "stderr",
     "output_type": "stream",
     "text": [
      "45it [02:13,  5.19s/it, BLEU2=0.338, BLEU1=0.409, ExactMatch=0.0263, METEOR=0.581, BertScore=nan, StubScore=0.143]"
     ]
    },
    {
     "name": "stdout",
     "output_type": "stream",
     "text": [
      "sim raw len:  1\n",
      "False\n",
      "У меня нет ответа на ваш вопрос.\n",
      "Уолтера Кёнига не пригласили для озвучивания персонажа в фильме.\n",
      "[0, 0, 0, 0, 0, 0, 1]\n"
     ]
    },
    {
     "name": "stderr",
     "output_type": "stream",
     "text": [
      "46it [02:17,  4.61s/it, BLEU2=0.337, BLEU1=0.407, ExactMatch=0.0256, METEOR=0.585, BertScore=nan, StubScore=0.143]"
     ]
    },
    {
     "name": "stdout",
     "output_type": "stream",
     "text": [
      "answer raw len:  45 1\n",
      "True\n",
      "Звёздный путь: Анимационный сериал (Star Trek: The Animated Series) - это анимационный сериал, созданный Filmation и вдохновленный Оригинальным сериалом Звёздного пути.\n",
      "На английском Звёздный путь: Анимационный сериал звучит Star Trek: The Animated Series.\n",
      "[0, 0, 0, 0, 0, 0, 1]\n",
      "answer raw len:  46 1\n"
     ]
    },
    {
     "name": "stderr",
     "output_type": "stream",
     "text": [
      "47it [02:24,  5.47s/it, BLEU2=0.337, BLEU1=0.407, ExactMatch=0.0256, METEOR=0.585, BertScore=nan, StubScore=0.125]"
     ]
    },
    {
     "name": "stdout",
     "output_type": "stream",
     "text": [
      "sim raw len:  1\n",
      "False\n",
      "В тексте не упоминается конкретный сценарий, над которым работали люди. Однако в нем говорится о работе братьев Люмьер, Луи и Огюста, над созданием и улучшением технологии кино. Они работали вместе с инженером по имени Жюль Карпантье над созданием проекционного аппарата для демонстрации их фильмов.\n",
      "Известные зарубежные фантасты того времени были подключены к работе над сценарием.\n",
      "[0, 0, 0, 0, 0, 0, 1, 0]\n"
     ]
    },
    {
     "name": "stderr",
     "output_type": "stream",
     "text": [
      "48it [02:27,  4.78s/it, BLEU2=0.333, BLEU1=0.402, ExactMatch=0.025, METEOR=0.586, BertScore=nan, StubScore=0.125] "
     ]
    },
    {
     "name": "stdout",
     "output_type": "stream",
     "text": [
      "answer raw len:  47 1\n",
      "True\n",
      "Звёздный путь: Анимационный сериал был создан на основе оригинального сериала Звёздного пути и включал в себя двухсезонный анимационный фильм с 22 получасовыми эпизодами.\n",
      "Звёздный путь: Анимационный сериал создан по мотивам Оригинального сериала.\n",
      "[0, 0, 0, 0, 0, 0, 1, 0]\n"
     ]
    },
    {
     "name": "stderr",
     "output_type": "stream",
     "text": [
      "49it [02:28,  3.67s/it, BLEU2=0.334, BLEU1=0.403, ExactMatch=0.0244, METEOR=0.585, BertScore=nan, StubScore=0.125]"
     ]
    },
    {
     "name": "stdout",
     "output_type": "stream",
     "text": [
      "answer raw len:  48 1\n",
      "True\n",
      "Звёздный путь: Анимационный сериал состоит из двух сезонов.\n",
      "Звёздный путь: Анимационный сериал включает в себя два сезона.\n",
      "[0, 0, 0, 0, 0, 0, 1, 0]\n"
     ]
    },
    {
     "name": "stderr",
     "output_type": "stream",
     "text": [
      "50it [02:30,  2.96s/it, BLEU2=0.34, BLEU1=0.407, ExactMatch=0.0238, METEOR=0.588, BertScore=nan, StubScore=0.125] "
     ]
    },
    {
     "name": "stdout",
     "output_type": "stream",
     "text": [
      "answer raw len:  49 1\n",
      "True\n",
      "Имя звездолета исследовательской миссии в Star Trek: Phase II - USS Enterprise.\n",
      "Звездолет исследовательской миссии в Star Trek: Phase II называется Энтерпрайз.\n",
      "[0, 0, 0, 0, 0, 0, 1, 0]\n"
     ]
    },
    {
     "name": "stderr",
     "output_type": "stream",
     "text": [
      "51it [02:31,  2.41s/it, BLEU2=0.341, BLEU1=0.409, ExactMatch=0.0233, METEOR=0.592, BertScore=nan, StubScore=0.125]"
     ]
    },
    {
     "name": "stdout",
     "output_type": "stream",
     "text": [
      "answer raw len:  50 1\n",
      "True\n",
      "Компания Paramount Television Network задумала Star Trek: Phase II.\n",
      "Star Trek: Phase II был задуман компанией Paramount Television Network.\n",
      "[0, 0, 0, 0, 0, 0, 1, 0]\n"
     ]
    },
    {
     "name": "stderr",
     "output_type": "stream",
     "text": [
      "52it [02:33,  2.45s/it, BLEU2=0.34, BLEU1=0.407, ExactMatch=0.0227, METEOR=0.594, BertScore=nan, StubScore=0.125] "
     ]
    },
    {
     "name": "stdout",
     "output_type": "stream",
     "text": [
      "answer raw len:  51 1\n",
      "True\n",
      "Фаза 2 должна была стать продолжением оригинального сериала \"Звёздный путь\" и рассказать о ещё одной пятилетней исследовательской миссии корабля \"Энтерпрайз\".\n",
      "Согласно сценарию, Фаза 2 должна была стать продолжением Оригинального сериала.\n",
      "[0, 0, 0, 0, 0, 0, 1, 0]\n"
     ]
    },
    {
     "name": "stderr",
     "output_type": "stream",
     "text": [
      "53it [02:35,  2.26s/it, BLEU2=0.352, BLEU1=0.418, ExactMatch=0.0222, METEOR=0.602, BertScore=nan, StubScore=0.125]"
     ]
    },
    {
     "name": "stdout",
     "output_type": "stream",
     "text": [
      "answer raw len:  52 1\n",
      "True\n",
      "Сценарий для 12 эпизодов Star Trek: Phase II был готов в 1978 году.\n",
      "Сценарий 12 эпизодов Star Trek: Phase II был готов в 1978 году.\n",
      "[0, 0, 0, 0, 0, 0, 1, 0]\n"
     ]
    },
    {
     "name": "stderr",
     "output_type": "stream",
     "text": [
      "54it [02:37,  2.14s/it, BLEU2=0.344, BLEU1=0.411, ExactMatch=0.0217, METEOR=0.599, BertScore=nan, StubScore=0.125]"
     ]
    },
    {
     "name": "stdout",
     "output_type": "stream",
     "text": [
      "answer raw len:  53 1\n",
      "True\n",
      "Листья чая, цветки зверобоя и шафран используются для окрашивания меда в процессе производства.\n",
      "Для окрашивания искусственного мёда.\n",
      "[0, 0, 0, 0, 0, 0, 1, 0]\n"
     ]
    },
    {
     "name": "stderr",
     "output_type": "stream",
     "text": [
      "55it [02:39,  2.04s/it, BLEU2=0.344, BLEU1=0.411, ExactMatch=0.0213, METEOR=0.599, BertScore=nan, StubScore=0.125]"
     ]
    },
    {
     "name": "stdout",
     "output_type": "stream",
     "text": [
      "answer raw len:  54 1\n",
      "True\n",
      "Искусственный мед также может быть произведен из сока арбуза, дыни и других сахаросодержащих веществ.\n",
      "Ещё искусственный мёд производят из сока арбузов, дыни и других сахаристых веществ.\n",
      "[0, 0, 0, 0, 0, 0, 1, 0]\n"
     ]
    },
    {
     "name": "stderr",
     "output_type": "stream",
     "text": [
      "56it [02:41,  2.18s/it, BLEU2=0.35, BLEU1=0.417, ExactMatch=0.0208, METEOR=0.604, BertScore=nan, StubScore=0.125] "
     ]
    },
    {
     "name": "stdout",
     "output_type": "stream",
     "text": [
      "answer raw len:  55 1\n",
      "True\n",
      "При добавлении небольшого количества натурального пчелиного мёда к искусственному мёду, он будет иметь слабый аромат и содержать небольшое количество ферментов.\n",
      "При добавлении натурального пчелиного мёда искусственный мёд будет иметь слабый аромат и содержать небольшое количество ферментов.\n",
      "[0, 0, 0, 0, 0, 0, 1, 0]\n"
     ]
    },
    {
     "name": "stderr",
     "output_type": "stream",
     "text": [
      "57it [02:48,  3.51s/it, BLEU2=0.344, BLEU1=0.411, ExactMatch=0.0204, METEOR=0.6, BertScore=nan, StubScore=0.125] "
     ]
    },
    {
     "name": "stdout",
     "output_type": "stream",
     "text": [
      "answer raw len:  56 1\n",
      "True\n",
      "Искусственный мёд производится через процесс, называемый инверсией сахарозы. Этот процесс включает в себя инвертирование сахарозы, которая является сахаром, содержащимся в сахарной свекле или тростнике, в глюкозу и фруктозу. Инверсия выполняется в слабокислой среде, обычно с добавлением лимонной кислоты и других добавок. После инвертирования сахара его можно использовать для производства искусственного мёда.\n",
      "При помощи инверсии сахарозы в слабокислой среде (добавки лимонной кислоты и пр.).\n",
      "[0, 0, 0, 0, 0, 0, 1, 0]\n"
     ]
    },
    {
     "name": "stderr",
     "output_type": "stream",
     "text": [
      "58it [02:50,  2.99s/it, BLEU2=0.348, BLEU1=0.415, ExactMatch=0.02, METEOR=0.603, BertScore=nan, StubScore=0.125]"
     ]
    },
    {
     "name": "stdout",
     "output_type": "stream",
     "text": [
      "answer raw len:  57 1\n",
      "True\n",
      "Искусственный мёд не содержит ферментов и не обладает ароматом, характерным для натурального мёда.\n",
      "Искусственный мёд не имеет ферментов и не обладает ароматом, свойственным натуральному.\n",
      "[0, 0, 0, 0, 0, 0, 1, 0]\n"
     ]
    },
    {
     "name": "stderr",
     "output_type": "stream",
     "text": [
      "59it [02:53,  3.17s/it, BLEU2=0.348, BLEU1=0.414, ExactMatch=0.0196, METEOR=0.604, BertScore=nan, StubScore=0.125]"
     ]
    },
    {
     "name": "stdout",
     "output_type": "stream",
     "text": [
      "answer raw len:  58 1\n",
      "True\n",
      "История Рима, опубликованная в трех томах в 1854, 1855 и 1856 годах, описывает историю Рима до падения республики и начала правления Юлия Цезаря.\n",
      "В Истории Рима описана римская история до падения республики и начала правления Юлия Цезаря ?\n",
      "[0, 0, 0, 0, 0, 0, 1, 0]\n"
     ]
    },
    {
     "name": "stderr",
     "output_type": "stream",
     "text": [
      "60it [02:54,  2.43s/it, BLEU2=0.35, BLEU1=0.419, ExactMatch=0.0192, METEOR=0.608, BertScore=nan, StubScore=0.125] "
     ]
    },
    {
     "name": "stdout",
     "output_type": "stream",
     "text": [
      "answer raw len:  59 1\n",
      "True\n",
      "История Рима была опубликована в 20 томах.\n",
      "История Рима опубликована в четырёх томах.\n",
      "[0, 0, 0, 0, 0, 0, 1, 0]\n",
      "answer raw len:  60 1\n"
     ]
    },
    {
     "name": "stderr",
     "output_type": "stream",
     "text": [
      "61it [02:57,  2.75s/it, BLEU2=0.35, BLEU1=0.419, ExactMatch=0.0192, METEOR=0.608, BertScore=nan, StubScore=0.111]"
     ]
    },
    {
     "name": "stdout",
     "output_type": "stream",
     "text": [
      "sim raw len:  1\n",
      "False\n",
      "В данном тексте нет информации о том, к кому Моммзен испытывал уважение.\n",
      "Моммзен очень уважал Цезаря.\n",
      "[0, 0, 0, 0, 0, 0, 1, 0, 0]\n"
     ]
    },
    {
     "name": "stderr",
     "output_type": "stream",
     "text": [
      "62it [02:58,  2.25s/it, BLEU2=0.363, BLEU1=0.43, ExactMatch=0.0377, METEOR=0.615, BertScore=nan, StubScore=0.111]"
     ]
    },
    {
     "name": "stdout",
     "output_type": "stream",
     "text": [
      "answer raw len:  61 1\n",
      "True\n",
      "Моммзен сравнил политику Древнего Рима с состоянием государства в его время.\n",
      "Моммзен сравнил политику Древнего Рима с состоянием государства в его время.\n",
      "[0, 0, 0, 0, 0, 0, 1, 0, 0]\n"
     ]
    },
    {
     "name": "stderr",
     "output_type": "stream",
     "text": [
      "63it [03:00,  2.10s/it, BLEU2=0.368, BLEU1=0.437, ExactMatch=0.037, METEOR=0.62, BertScore=nan, StubScore=0.111] "
     ]
    },
    {
     "name": "stdout",
     "output_type": "stream",
     "text": [
      "answer raw len:  62 1\n",
      "True\n",
      "В пятом томе \"Истории Рима\" Моммзена описывались римские провинции во времена ранней империи.\n",
      "В пятом томе Истории Рима Моммзена описывались римские провинции во время ранней империи.\n",
      "[0, 0, 0, 0, 0, 0, 1, 0, 0]\n"
     ]
    },
    {
     "name": "stderr",
     "output_type": "stream",
     "text": [
      "64it [03:02,  1.98s/it, BLEU2=0.364, BLEU1=0.432, ExactMatch=0.0364, METEOR=0.623, BertScore=nan, StubScore=0.111]"
     ]
    },
    {
     "name": "stdout",
     "output_type": "stream",
     "text": [
      "answer raw len:  63 1\n",
      "True\n",
      "Один из анилина, который давал синевато-красный оттенок, - это фуксин.\n",
      "Фуксин давал синевато-красный оттенок.\n",
      "[0, 0, 0, 0, 0, 0, 1, 0, 0]\n"
     ]
    },
    {
     "name": "stderr",
     "output_type": "stream",
     "text": [
      "You seem to be using the pipelines sequentially on GPU. In order to maximize efficiency please use a dataset\n"
     ]
    },
    {
     "name": "stdout",
     "output_type": "stream",
     "text": [
      "answer raw len:  64 1\n"
     ]
    },
    {
     "name": "stderr",
     "output_type": "stream",
     "text": [
      "65it [03:06,  2.70s/it, BLEU2=0.364, BLEU1=0.432, ExactMatch=0.0364, METEOR=0.623, BertScore=nan, StubScore=0.1]  "
     ]
    },
    {
     "name": "stdout",
     "output_type": "stream",
     "text": [
      "sim raw len:  1\n",
      "False\n",
      "[0.05] Ультрамарин - это пигмент, который был синтезирован в 13 веке.\n",
      "В Средние века был синтезирован ультрамарин.\n",
      "[0, 0, 0, 0, 0, 0, 1, 0, 0, 0]\n",
      "answer raw len:  65 1\n"
     ]
    },
    {
     "name": "stderr",
     "output_type": "stream",
     "text": [
      "66it [03:11,  3.24s/it, BLEU2=0.364, BLEU1=0.432, ExactMatch=0.0364, METEOR=0.623, BertScore=nan, StubScore=0.0909]"
     ]
    },
    {
     "name": "stdout",
     "output_type": "stream",
     "text": [
      "sim raw len:  1\n",
      "False\n",
      "Натуральный индиго происходит из растения, называемого индигофера, которое выращивается в Индии.\n",
      "Натуральное индиго было привезено из Америки.\n",
      "[0, 0, 0, 0, 0, 0, 1, 0, 0, 0, 0]\n"
     ]
    },
    {
     "name": "stderr",
     "output_type": "stream",
     "text": [
      "67it [03:13,  2.94s/it, BLEU2=0.372, BLEU1=0.44, ExactMatch=0.0357, METEOR=0.63, BertScore=nan, StubScore=0.0909]  "
     ]
    },
    {
     "name": "stdout",
     "output_type": "stream",
     "text": [
      "answer raw len:  66 1\n",
      "True\n",
      "В конце XIX века после появления анилиновых красителей живописная палитра обогатилась несколькими синими красителями.\n",
      "После появления анилиновых красителей в конце XIX века живописная палитра обогатилась несколькими синими красителями.\n",
      "[0, 0, 0, 0, 0, 0, 1, 0, 0, 0, 0]\n"
     ]
    },
    {
     "name": "stderr",
     "output_type": "stream",
     "text": [
      "68it [03:14,  2.43s/it, BLEU2=0.372, BLEU1=0.44, ExactMatch=0.0351, METEOR=0.634, BertScore=nan, StubScore=0.0909]"
     ]
    },
    {
     "name": "stdout",
     "output_type": "stream",
     "text": [
      "answer raw len:  67 1\n",
      "True\n",
      "Практически единственным природным синим пигментом была ляпис-лазурь.\n",
      "Ляпис-лазурь являлась практически единственным природным синим пигментом.\n",
      "[0, 0, 0, 0, 0, 0, 1, 0, 0, 0, 0]\n"
     ]
    },
    {
     "name": "stderr",
     "output_type": "stream",
     "text": [
      "69it [03:16,  2.16s/it, BLEU2=0.368, BLEU1=0.437, ExactMatch=0.0345, METEOR=0.628, BertScore=nan, StubScore=0.0909]"
     ]
    },
    {
     "name": "stdout",
     "output_type": "stream",
     "text": [
      "answer raw len:  68 1\n",
      "True\n",
      "На северо-восточном углу кладбища в Клайпеде сохранились несколько надгробных камней.\n",
      "В северо-восточном углу клайпедского кладбища уцелели могилы немцев и мемелендеров.\n",
      "[0, 0, 0, 0, 0, 0, 1, 0, 0, 0, 0]\n"
     ]
    },
    {
     "name": "stderr",
     "output_type": "stream",
     "text": [
      "70it [03:19,  2.48s/it, BLEU2=0.37, BLEU1=0.439, ExactMatch=0.0339, METEOR=0.631, BertScore=nan, StubScore=0.0909] "
     ]
    },
    {
     "name": "stdout",
     "output_type": "stream",
     "text": [
      "answer raw len:  69 1\n",
      "True\n",
      "Уникальные железные кресты, которые были вывезены мародерами с разрушенного кладбища, были возвращены государству после обретения независимости и сейчас находятся в Музее кузнечного дела.\n",
      "Уникальные железные кресты, которые были вынесены мародерами с разрушенного кладбища, находятся в Музее кузнечных изделий.\n",
      "[0, 0, 0, 0, 0, 0, 1, 0, 0, 0, 0]\n"
     ]
    },
    {
     "name": "stderr",
     "output_type": "stream",
     "text": [
      "71it [03:21,  2.33s/it, BLEU2=0.364, BLEU1=0.437, ExactMatch=0.0333, METEOR=0.632, BertScore=nan, StubScore=0.0909]"
     ]
    },
    {
     "name": "stdout",
     "output_type": "stream",
     "text": [
      "answer raw len:  70 1\n",
      "True\n",
      "До 1977 года на одном из кладбищ в Клайпеде хоронили немцев и мемеленцев.\n",
      "Немцев и мемелендеров хоронили на кладбищах до 1977 года.\n",
      "[0, 0, 0, 0, 0, 0, 1, 0, 0, 0, 0]\n"
     ]
    },
    {
     "name": "stderr",
     "output_type": "stream",
     "text": [
      "72it [03:22,  1.87s/it, BLEU2=0.358, BLEU1=0.429, ExactMatch=0.0328, METEOR=0.622, BertScore=nan, StubScore=0.0909]"
     ]
    },
    {
     "name": "stdout",
     "output_type": "stream",
     "text": [
      "answer raw len:  71 1\n",
      "True\n",
      "У меня нет ответа на ваш вопрос.\n",
      "За отсутствием средств властям Клайпеды сегодня не удается восстановить разрушенное кладбище.\n",
      "[0, 0, 0, 0, 0, 0, 1, 0, 0, 0, 0]\n",
      "answer raw len:  72 1\n"
     ]
    },
    {
     "name": "stderr",
     "output_type": "stream",
     "text": [
      "73it [03:33,  4.66s/it, BLEU2=0.358, BLEU1=0.429, ExactMatch=0.0328, METEOR=0.622, BertScore=nan, StubScore=0.0833]"
     ]
    },
    {
     "name": "stdout",
     "output_type": "stream",
     "text": [
      "sim raw len:  1\n",
      "False\n",
      "В предоставленном тексте не упоминаются конкретные музыканты, которые сформировали английский рок. Однако в нем упоминаются группы, такие как The Beatles, The Nice, Moody Blues, Iron Butterfly, Led Zeppelin, Deep Purple, Black Sabbath, Queen, Uriah Heep, Genesis и Blue Oyster Cult, которые оказали влияние на развитие различных поджанров рок-музыки, включая хард-рок и прогрессивный рок.\n",
      "Клифф Ричард, Лонни Донеган, Джонни Кидд сформировали английский рок.\n",
      "[0, 0, 0, 0, 0, 0, 1, 0, 0, 0, 0, 0]\n"
     ]
    },
    {
     "name": "stderr",
     "output_type": "stream",
     "text": [
      "74it [03:37,  4.46s/it, BLEU2=0.352, BLEU1=0.422, ExactMatch=0.0323, METEOR=0.613, BertScore=nan, StubScore=0.0833]"
     ]
    },
    {
     "name": "stdout",
     "output_type": "stream",
     "text": [
      "answer raw len:  73 1\n",
      "True\n",
      "Название первой группы, которая сформулировала русский рок, - \"Time Machines\" (на латинице, во множественном числе, по аналогии с The Beatles, The Rolling Stones и другими западными группами).\n",
      "Группа называется Машина времени.\n",
      "[0, 0, 0, 0, 0, 0, 1, 0, 0, 0, 0, 0]\n",
      "answer raw len:  74 1\n"
     ]
    },
    {
     "name": "stderr",
     "output_type": "stream",
     "text": [
      "75it [03:40,  3.96s/it, BLEU2=0.352, BLEU1=0.422, ExactMatch=0.0323, METEOR=0.613, BertScore=nan, StubScore=0.0769]"
     ]
    },
    {
     "name": "stdout",
     "output_type": "stream",
     "text": [
      "sim raw len:  1\n",
      "False\n",
      "[0.03]\n",
      "Машина времени дала начало настоящему русскому року.\n",
      "[0, 0, 0, 0, 0, 0, 1, 0, 0, 0, 0, 0, 0]\n",
      "answer raw len:  75 1\n"
     ]
    },
    {
     "name": "stderr",
     "output_type": "stream",
     "text": [
      "76it [03:48,  5.34s/it, BLEU2=0.352, BLEU1=0.422, ExactMatch=0.0323, METEOR=0.613, BertScore=nan, StubScore=0.0714]"
     ]
    },
    {
     "name": "stdout",
     "output_type": "stream",
     "text": [
      "sim raw len:  1\n",
      "False\n",
      "Машина времени смогла найти и ухватить успех и популярность в период с 1976 по 1986 год. Они стали лауреатами фестиваля \"Песни молодежи Таллинна\" в 1976 году и начали гастролировать по стране. Группа также записала музыку и песни для нескольких фильмов и мультсериала.\n",
      "Темой или пафосом русского рока стало то, что удалось найти, ухватить Машине времени.\n",
      "[0, 0, 0, 0, 0, 0, 1, 0, 0, 0, 0, 0, 0, 0]\n"
     ]
    },
    {
     "name": "stderr",
     "output_type": "stream",
     "text": [
      "77it [03:54,  5.50s/it, BLEU2=0.349, BLEU1=0.42, ExactMatch=0.0317, METEOR=0.611, BertScore=nan, StubScore=0.0714] "
     ]
    },
    {
     "name": "stdout",
     "output_type": "stream",
     "text": [
      "answer raw len:  76 1\n",
      "True\n",
      "Рокеры в Москве, России и Прибалтике в СССР до \"Машины времени\" занимались в основном эпигонством, то есть они пытались копировать и подражать звучанию и стилю известных групп, таких как \"Битлз\" и \"Роллинг Стоунз\", вместо того чтобы развивать и создавать своё собственное уникальное звучание и стиль.\n",
      "Рокеры в Москве, и в России, и в Прибалтике в СССР до Машины времени занимались более или менее эпигонством.\n",
      "[0, 0, 0, 0, 0, 0, 1, 0, 0, 0, 0, 0, 0, 0]\n"
     ]
    },
    {
     "name": "stderr",
     "output_type": "stream",
     "text": [
      "78it [03:57,  4.73s/it, BLEU2=0.348, BLEU1=0.418, ExactMatch=0.0312, METEOR=0.614, BertScore=nan, StubScore=0.0714]"
     ]
    },
    {
     "name": "stdout",
     "output_type": "stream",
     "text": [
      "answer raw len:  77 1\n",
      "True\n",
      "У Микеланджело была круглая голова с квадратным лбом, морщинистая, с сильно выраженными бровями.\n",
      "У Микеланджело была круглая голова.\n",
      "[0, 0, 0, 0, 0, 0, 1, 0, 0, 0, 0, 0, 0, 0]\n"
     ]
    },
    {
     "name": "stderr",
     "output_type": "stream",
     "text": [
      "79it [03:58,  3.71s/it, BLEU2=0.352, BLEU1=0.424, ExactMatch=0.0308, METEOR=0.617, BertScore=nan, StubScore=0.0714]"
     ]
    },
    {
     "name": "stdout",
     "output_type": "stream",
     "text": [
      "answer raw len:  78 1\n",
      "True\n",
      "У Микеланджело были редкие бакенбарды.\n",
      "У Микеланджело были жиденькие бакенбарды.\n",
      "[0, 0, 0, 0, 0, 0, 1, 0, 0, 0, 0, 0, 0, 0]\n"
     ]
    },
    {
     "name": "stderr",
     "output_type": "stream",
     "text": [
      "80it [04:00,  3.17s/it, BLEU2=0.353, BLEU1=0.425, ExactMatch=0.0303, METEOR=0.62, BertScore=nan, StubScore=0.0714] "
     ]
    },
    {
     "name": "stdout",
     "output_type": "stream",
     "text": [
      "answer raw len:  79 1\n",
      "True\n",
      "Глаза Микеланджело были усеяны желтыми и голубыми пятнами.\n",
      "Желтыми и голубыми крапинками были усеяны глаза Микеланджело.\n",
      "[0, 0, 0, 0, 0, 0, 1, 0, 0, 0, 0, 0, 0, 0]\n"
     ]
    },
    {
     "name": "stderr",
     "output_type": "stream",
     "text": [
      "81it [04:02,  2.85s/it, BLEU2=0.358, BLEU1=0.431, ExactMatch=0.0299, METEOR=0.624, BertScore=nan, StubScore=0.0714]"
     ]
    },
    {
     "name": "stdout",
     "output_type": "stream",
     "text": [
      "answer raw len:  80 1\n",
      "True\n",
      "У Микеланджело были светло-карие глаза, с желтыми и голубыми пятнами.\n",
      "У Микеланджело были светло-карие глаза, усеянные желтыми и голубыми крапинками.\n",
      "[0, 0, 0, 0, 0, 0, 1, 0, 0, 0, 0, 0, 0, 0]\n"
     ]
    },
    {
     "name": "stderr",
     "output_type": "stream",
     "text": [
      "82it [04:05,  2.60s/it, BLEU2=0.357, BLEU1=0.429, ExactMatch=0.0294, METEOR=0.626, BertScore=nan, StubScore=0.0714]"
     ]
    },
    {
     "name": "stdout",
     "output_type": "stream",
     "text": [
      "answer raw len:  81 1\n",
      "True\n",
      "Цвет глаз Микеланджело постоянно менялся, с желтыми и голубыми пятнами.\n",
      "Цвет глаз Микеланджело менялся постоянно.\n",
      "[0, 0, 0, 0, 0, 0, 1, 0, 0, 0, 0, 0, 0, 0]\n"
     ]
    },
    {
     "name": "stderr",
     "output_type": "stream",
     "text": [
      "83it [04:08,  2.99s/it, BLEU2=0.352, BLEU1=0.423, ExactMatch=0.029, METEOR=0.618, BertScore=nan, StubScore=0.0714] "
     ]
    },
    {
     "name": "stdout",
     "output_type": "stream",
     "text": [
      "answer raw len:  82 1\n",
      "True\n",
      "Ранние композиции \"Машины\" имели хорошо отлаженную аранжировку, включающую в себя смесь рока, кантри, городских романсов, традиционной музыки и эстрадной музыки.\n",
      "Оформленная аранжировка была найдена в ранних композициях „Машины“.\n",
      "[0, 0, 0, 0, 0, 0, 1, 0, 0, 0, 0, 0, 0, 0]\n"
     ]
    },
    {
     "name": "stderr",
     "output_type": "stream",
     "text": [
      "84it [04:14,  3.64s/it, BLEU2=0.348, BLEU1=0.419, ExactMatch=0.0286, METEOR=0.614, BertScore=nan, StubScore=0.0714]"
     ]
    },
    {
     "name": "stdout",
     "output_type": "stream",
     "text": [
      "answer raw len:  83 1\n",
      "True\n",
      "Ранние композиции \"Машины\" были оформлены как готовые изделия, с полностью оформленной аранжировкой, взаимодействием куплетов и профессиональной вокальной подачей. Они включали в себя элементы рока, блюза, кантри и расстроенного банджо.\n",
      "Ранние композиции „Машины“ были готовым продуктом.\n",
      "[0, 0, 0, 0, 0, 0, 1, 0, 0, 0, 0, 0, 0, 0]\n"
     ]
    },
    {
     "name": "stderr",
     "output_type": "stream",
     "text": [
      "85it [04:16,  3.38s/it, BLEU2=0.345, BLEU1=0.416, ExactMatch=0.0282, METEOR=0.61, BertScore=nan, StubScore=0.0714] "
     ]
    },
    {
     "name": "stdout",
     "output_type": "stream",
     "text": [
      "answer raw len:  84 1\n",
      "True\n",
      "Ранние вещицы \"Машины\" выглядели как полностью оформленные композиции с аранжировками, куплетами и исполнительским мастерством.\n",
      "Ранние вещицы „Машины“ формально выглядели зрелыми композициями.\n",
      "[0, 0, 0, 0, 0, 0, 1, 0, 0, 0, 0, 0, 0, 0]\n"
     ]
    },
    {
     "name": "stderr",
     "output_type": "stream",
     "text": [
      "86it [04:17,  2.52s/it, BLEU2=0.34, BLEU1=0.41, ExactMatch=0.0278, METEOR=0.602, BertScore=nan, StubScore=0.0714] "
     ]
    },
    {
     "name": "stdout",
     "output_type": "stream",
     "text": [
      "answer raw len:  85 1\n",
      "True\n",
      "Машина Времени.\n",
      "Андрей во многом „задал фасон“ всего русского рока.\n",
      "[0, 0, 0, 0, 0, 0, 1, 0, 0, 0, 0, 0, 0, 0]\n"
     ]
    },
    {
     "name": "stderr",
     "output_type": "stream",
     "text": [
      "87it [04:20,  2.66s/it, BLEU2=0.341, BLEU1=0.411, ExactMatch=0.0274, METEOR=0.6, BertScore=nan, StubScore=0.0714]"
     ]
    },
    {
     "name": "stdout",
     "output_type": "stream",
     "text": [
      "answer raw len:  86 1\n",
      "True\n",
      "Ранние композиции \"Продавец счастья\", \"Солдат\" и \"Миллионеры\" были сформированы как зрелые композиции группой \"Машина времени\".\n",
      "Ранние композиции \"Машины времени\" - \"Продавец счастья\", \"Солдат\" и \"Миллионеры\" - формально выглядели зрелыми композициями.\n",
      "[0, 0, 0, 0, 0, 0, 1, 0, 0, 0, 0, 0, 0, 0]\n"
     ]
    },
    {
     "name": "stderr",
     "output_type": "stream",
     "text": [
      "88it [04:21,  2.21s/it, BLEU2=0.34, BLEU1=0.411, ExactMatch=0.027, METEOR=0.603, BertScore=nan, StubScore=0.0714]"
     ]
    },
    {
     "name": "stdout",
     "output_type": "stream",
     "text": [
      "answer raw len:  87 1\n",
      "True\n",
      "Национальная команда Уругвая является лидером уругвайского футбола.\n",
      "Команда Насьональ является лидером Уругвайского футбола.\n",
      "[0, 0, 0, 0, 0, 0, 1, 0, 0, 0, 0, 0, 0, 0]\n"
     ]
    },
    {
     "name": "stderr",
     "output_type": "stream",
     "text": [
      "89it [04:22,  1.83s/it, BLEU2=0.337, BLEU1=0.408, ExactMatch=0.0267, METEOR=0.599, BertScore=nan, StubScore=0.0714]"
     ]
    },
    {
     "name": "stdout",
     "output_type": "stream",
     "text": [
      "answer raw len:  88 1\n",
      "True\n",
      "Пеньярол имеет наибольшее количество участий в финале.\n",
      "Команда Пеньяроль является рекордсменом по числу участий в финале\n",
      "[0, 0, 0, 0, 0, 0, 1, 0, 0, 0, 0, 0, 0, 0]\n"
     ]
    },
    {
     "name": "stderr",
     "output_type": "stream",
     "text": [
      "90it [04:24,  1.75s/it, BLEU2=0.342, BLEU1=0.413, ExactMatch=0.0263, METEOR=0.603, BertScore=nan, StubScore=0.0714]"
     ]
    },
    {
     "name": "stdout",
     "output_type": "stream",
     "text": [
      "answer raw len:  89 1\n",
      "True\n",
      "Национальная команда Уругвая возглавляет сводную Кубка Либертадорес за всю историю турнира.\n",
      "Команда Насьональ возглавляет сводную Кубка Либертадорес за всю историю турнира.\n",
      "[0, 0, 0, 0, 0, 0, 1, 0, 0, 0, 0, 0, 0, 0]\n"
     ]
    },
    {
     "name": "stderr",
     "output_type": "stream",
     "text": [
      "91it [04:25,  1.74s/it, BLEU2=0.34, BLEU1=0.41, ExactMatch=0.026, METEOR=0.604, BertScore=nan, StubScore=0.0714]   "
     ]
    },
    {
     "name": "stdout",
     "output_type": "stream",
     "text": [
      "answer raw len:  90 1\n",
      "True\n",
      "Националь и Пеньяроль выиграли в общей сложности 94 чемпионата Уругвая из 114.\n",
      "Команды выиграли 94 чемпионата Уругвая.\n",
      "[0, 0, 0, 0, 0, 0, 1, 0, 0, 0, 0, 0, 0, 0]\n"
     ]
    },
    {
     "name": "stderr",
     "output_type": "stream",
     "text": [
      "92it [04:26,  1.52s/it, BLEU2=0.34, BLEU1=0.41, ExactMatch=0.0256, METEOR=0.605, BertScore=nan, StubScore=0.0714]"
     ]
    },
    {
     "name": "stdout",
     "output_type": "stream",
     "text": [
      "answer raw len:  91 1\n",
      "True\n",
      "В Уругвае было 114 футбольных чемпионатов.\n",
      "Всего в Уругвае было 114 чемпионатов по футболу.\n",
      "[0, 0, 0, 0, 0, 0, 1, 0, 0, 0, 0, 0, 0, 0]\n"
     ]
    },
    {
     "name": "stderr",
     "output_type": "stream",
     "text": [
      "93it [04:29,  1.96s/it, BLEU2=0.338, BLEU1=0.408, ExactMatch=0.0253, METEOR=0.602, BertScore=nan, StubScore=0.0714]"
     ]
    },
    {
     "name": "stdout",
     "output_type": "stream",
     "text": [
      "answer raw len:  92 1\n",
      "True\n",
      "Национальное Рейтинговое Агентство отмечает улучшение качества активов, увеличение диверсификации портфеля заемщиков и направлений инвестирования, а также рост эффективности бизнеса в ПАО КБ Уральский банк реконструкции и развития.\n",
      "Национальное Рейтинговое Агентство отмечает улучшение показателей качества кредитов, сохранение невысокого уровня просроченной задолженности и ограниченную концентрацию портфеля на крупных заемщиках.\n",
      "[0, 0, 0, 0, 0, 0, 1, 0, 0, 0, 0, 0, 0, 0]\n"
     ]
    },
    {
     "name": "stderr",
     "output_type": "stream",
     "text": [
      "94it [04:32,  2.12s/it, BLEU2=0.341, BLEU1=0.412, ExactMatch=0.025, METEOR=0.606, BertScore=nan, StubScore=0.0714] "
     ]
    },
    {
     "name": "stdout",
     "output_type": "stream",
     "text": [
      "answer raw len:  93 1\n",
      "True\n",
      "Рейтинговое агентство \"Национальное Рейтинговое Агентство\" подтвердило рейтинг кредитоспособности ПАО КБ \"Уральский банк реконструкции и развития\" на уровне \"АА\" по национальной шкале.\n",
      "Национальное Рейтинговое Агентство подтвердило рейтинг кредитоспособности ПАО КБ Уральский банк реконструкции и развития на уровне АА по национальной шкале.\n",
      "[0, 0, 0, 0, 0, 0, 1, 0, 0, 0, 0, 0, 0, 0]\n"
     ]
    },
    {
     "name": "stderr",
     "output_type": "stream",
     "text": [
      "95it [04:34,  2.09s/it, BLEU2=0.338, BLEU1=0.409, ExactMatch=0.0247, METEOR=0.608, BertScore=nan, StubScore=0.0714]"
     ]
    },
    {
     "name": "stdout",
     "output_type": "stream",
     "text": [
      "answer raw len:  94 1\n",
      "True\n",
      "Национальное Рейтинговое Агентство подтвердило рейтинг кредитоспособности ПАО КБ Уральский банк реконструкции и развития на уровне \"АА\" по национальной шкале.\n",
      "На уровне АА по национальной шкале.\n",
      "[0, 0, 0, 0, 0, 0, 1, 0, 0, 0, 0, 0, 0, 0]\n"
     ]
    },
    {
     "name": "stderr",
     "output_type": "stream",
     "text": [
      "96it [04:34,  1.66s/it, BLEU2=0.337, BLEU1=0.407, ExactMatch=0.0244, METEOR=0.606, BertScore=nan, StubScore=0.0714]"
     ]
    },
    {
     "name": "stdout",
     "output_type": "stream",
     "text": [
      "answer raw len:  95 1\n",
      "True\n",
      "ПАО КБ Уральский банк реконструкции и развития\n",
      "Национальное Рейтинговое Агентство подтвердило рейтинг ПАО КБ Уральский банк реконструкции и развития на уровне АА по национальной шкале.\n",
      "[0, 0, 0, 0, 0, 0, 1, 0, 0, 0, 0, 0, 0, 0]\n"
     ]
    },
    {
     "name": "stderr",
     "output_type": "stream",
     "text": [
      "97it [04:44,  3.90s/it, BLEU2=0.333, BLEU1=0.403, ExactMatch=0.0241, METEOR=0.603, BertScore=nan, StubScore=0.0714]"
     ]
    },
    {
     "name": "stdout",
     "output_type": "stream",
     "text": [
      "answer raw len:  96 1\n",
      "True\n",
      "Согласно тексту 1, факторы, которые положительно влияют на рейтинг банка, включают в себя:\n",
      "\n",
      "1. Успешную реализацию принятой долгосрочной стратегии.\n",
      "2. Сбалансированную структуру активов и обязательств.\n",
      "3. Высокую диверсификацию клиентской базы.\n",
      "4. Усиление рыночных позиций.\n",
      "5. Рост эффективности бизнеса.\n",
      "6. Качество активов банка остается стабильным и улучшается.\n",
      "7. Диверсификация портфеля по заемщикам и направлениям инвестирования.\n",
      "8. Увеличение процентной маржи.\n",
      "9. Успешное снижение доли просроченной задолженности.\n",
      "10. Низкий уровень просроченной задолженности.\n",
      "11. Адекватная и достаточная текущая ликвидность.\n",
      "Успешная реализация принятой долгосрочной стратегии, сбалансированная структура активов и обязательств, высокая диверсификация клиентской базы, усиливающиеся рыночные позиции и растущая эффективность бизнеса.\n",
      "[0, 0, 0, 0, 0, 0, 1, 0, 0, 0, 0, 0, 0, 0]\n"
     ]
    },
    {
     "name": "stderr",
     "output_type": "stream",
     "text": [
      "98it [04:53,  5.70s/it, BLEU2=0.33, BLEU1=0.399, ExactMatch=0.0238, METEOR=0.598, BertScore=nan, StubScore=0.0714] "
     ]
    },
    {
     "name": "stdout",
     "output_type": "stream",
     "text": [
      "answer raw len:  97 1\n",
      "True\n",
      "После завершения работы над своим последним крупным произведением, романом \"Обрыв\", жизнь Ивана Александровича Гончарова стала трудной. Он был болен и одинок, часто впадал в депрессию. Несмотря на то, что он когда-то мечтал написать еще один роман, если здоровье позволит, он не приступил к этому из-за медленного темпа работы и трудностей с пониманием современных событий. Гончаров ушел в отставку с должности цензора и стал членом совета по делам печати, где активно защищал правительственные устои от нигилизма и других прогрессивных идей.\n",
      "После окончания работы над произведением жизнь Гончарова сложилась очень трудно.\n",
      "[0, 0, 0, 0, 0, 0, 1, 0, 0, 0, 0, 0, 0, 0]\n"
     ]
    },
    {
     "name": "stderr",
     "output_type": "stream",
     "text": [
      "99it [04:55,  4.38s/it, BLEU2=0.328, BLEU1=0.397, ExactMatch=0.0235, METEOR=0.6, BertScore=nan, StubScore=0.0714] "
     ]
    },
    {
     "name": "stdout",
     "output_type": "stream",
     "text": [
      "answer raw len:  98 1\n",
      "True\n",
      "[0.03] Обрыв стал последним крупным художественным произведением Гончарова.\n",
      "Обрыв стал последним.\n",
      "[0, 0, 0, 0, 0, 0, 1, 0, 0, 0, 0, 0, 0, 0]\n"
     ]
    },
    {
     "name": "stderr",
     "output_type": "stream",
     "text": [
      "100it [05:01,  4.93s/it, BLEU2=0.324, BLEU1=0.393, ExactMatch=0.0233, METEOR=0.594, BertScore=nan, StubScore=0.0714]"
     ]
    },
    {
     "name": "stdout",
     "output_type": "stream",
     "text": [
      "answer raw len:  99 1\n",
      "True\n",
      "Романы Гончарова были посвящены различным этапам исторического развития России. Первый роман, \"Обыкновенная история\", отражал борьбу между реализмом и романтизмом, которая была существенной коллизией русской жизни. Второй роман, \"Обломов\", изображал угасание крепостничества через образ Обломова. Наконец, третий роман, \"Обрыв\", завершил трилогию, представляя еще один этап исторического развития России.\n",
      "Изображению дореформенной России, которую Гончаров хорошо знал и понимал.\n",
      "[0, 0, 0, 0, 0, 0, 1, 0, 0, 0, 0, 0, 0, 0]\n"
     ]
    },
    {
     "name": "stderr",
     "output_type": "stream",
     "text": [
      "101it [05:03,  4.15s/it, BLEU2=0.321, BLEU1=0.39, ExactMatch=0.023, METEOR=0.592, BertScore=nan, StubScore=0.0714]  "
     ]
    },
    {
     "name": "stdout",
     "output_type": "stream",
     "text": [
      "answer raw len:  100 1\n",
      "True\n",
      "Официальные органы используют финансовые ресурсы для выполнения своих обязанностей и функций, которые включают в себя получение и применение финансовых средств, управление доходами и расходами, а также осуществление административного контроля.\n",
      "Деятельность официальных органов по получению и применению финансовых средств осуществляется для выполнения надлежащих функций.\n",
      "[0, 0, 0, 0, 0, 0, 1, 0, 0, 0, 0, 0, 0, 0]\n"
     ]
    },
    {
     "name": "stderr",
     "output_type": "stream",
     "text": [
      "102it [05:05,  3.28s/it, BLEU2=0.328, BLEU1=0.396, ExactMatch=0.0227, METEOR=0.595, BertScore=nan, StubScore=0.0714]"
     ]
    },
    {
     "name": "stdout",
     "output_type": "stream",
     "text": [
      "answer raw len:  101 1\n",
      "True\n",
      "Согласно некоторым авторам, предмет общественных финансов находится на границе между экономикой и политикой.\n",
      "Согласно некоторым авторам, предмет общественных финансов лежит на границе между экономикой и политикой.\n",
      "[0, 0, 0, 0, 0, 0, 1, 0, 0, 0, 0, 0, 0, 0]\n"
     ]
    },
    {
     "name": "stderr",
     "output_type": "stream",
     "text": [
      "103it [05:06,  2.73s/it, BLEU2=0.326, BLEU1=0.394, ExactMatch=0.0225, METEOR=0.595, BertScore=nan, StubScore=0.0714]"
     ]
    },
    {
     "name": "stdout",
     "output_type": "stream",
     "text": [
      "answer raw len:  102 1\n",
      "True\n",
      "Общественные финансы связаны с деятельностью государственных или местных органов власти, которые получают и используют средства для выполнения своих обязанностей.\n",
      "Общественные финансы связываются с деятельностью государства или местной власти.\n",
      "[0, 0, 0, 0, 0, 0, 1, 0, 0, 0, 0, 0, 0, 0]\n"
     ]
    },
    {
     "name": "stderr",
     "output_type": "stream",
     "text": [
      "104it [05:07,  2.24s/it, BLEU2=0.324, BLEU1=0.394, ExactMatch=0.0222, METEOR=0.596, BertScore=nan, StubScore=0.0714]"
     ]
    },
    {
     "name": "stdout",
     "output_type": "stream",
     "text": [
      "answer raw len:  103 1\n",
      "True\n",
      "В конце XIX века русский витраж претерпел значительные изменения.\n",
      "Русский витраж претерпел особые изменения в конце девятнадцатого века.\n",
      "[0, 0, 0, 0, 0, 0, 1, 0, 0, 0, 0, 0, 0, 0]\n"
     ]
    },
    {
     "name": "stderr",
     "output_type": "stream",
     "text": [
      "105it [05:10,  2.45s/it, BLEU2=0.325, BLEU1=0.394, ExactMatch=0.022, METEOR=0.594, BertScore=nan, StubScore=0.0714] "
     ]
    },
    {
     "name": "stdout",
     "output_type": "stream",
     "text": [
      "answer raw len:  104 1\n",
      "True\n",
      "Современное витражное стекло может быть изготовлено с использованием различных техник и иметь различные свойства. Оно может быть прозрачным или непрозрачным, однотонным или смесью различных цветов и текстур.\n",
      "Современное витражное стекло может быть прозрачным и глухим, однородного цвета и смесью различных цветов и оттенков одного цвета, гладким и с разнообразной фактурой.\n",
      "[0, 0, 0, 0, 0, 0, 1, 0, 0, 0, 0, 0, 0, 0]\n"
     ]
    },
    {
     "name": "stderr",
     "output_type": "stream",
     "text": [
      "106it [05:15,  3.07s/it, BLEU2=0.329, BLEU1=0.399, ExactMatch=0.0217, METEOR=0.597, BertScore=nan, StubScore=0.0714]"
     ]
    },
    {
     "name": "stdout",
     "output_type": "stream",
     "text": [
      "answer raw len:  105 1\n",
      "True\n",
      "Символом русского витража XIX века было художественное остекление Торгового дома братьев Елисеевых на Невском проспекте. Эта витражная композиция в огромном окне-экране главного фасада выражала идеи богатства страны, национальной идентичности и включенности России в общеевропейскую культуру.\n",
      "Символом русского витража 19-ого века стала многофигурная композиция в огромном окне-экране главного фасада Торгового дома братьев Елисеевых на Невском проспекте. Она выражала идеи богатства страны, национальной самобытности и включенности России в общеевропейскую культуру.\n",
      "[0, 0, 0, 0, 0, 0, 1, 0, 0, 0, 0, 0, 0, 0]\n"
     ]
    },
    {
     "name": "stderr",
     "output_type": "stream",
     "text": [
      "107it [05:17,  2.89s/it, BLEU2=0.331, BLEU1=0.401, ExactMatch=0.0215, METEOR=0.6, BertScore=nan, StubScore=0.0714]  "
     ]
    },
    {
     "name": "stdout",
     "output_type": "stream",
     "text": [
      "answer raw len:  106 1\n",
      "True\n",
      "Программным произведением, отражающим русское витражное искусство в XIX веке, было художественное остекление Торгового дома братьев Елисеевых на Невском проспекте.\n",
      "Художественное остекление Торгового дома братьев Елисеевых на Невском проспекте отразило русское витражное искусство в 19-ом веке.\n",
      "[0, 0, 0, 0, 0, 0, 1, 0, 0, 0, 0, 0, 0, 0]\n",
      "answer raw len:  107 1\n"
     ]
    },
    {
     "name": "stderr",
     "output_type": "stream",
     "text": [
      "108it [05:25,  4.35s/it, BLEU2=0.331, BLEU1=0.401, ExactMatch=0.0215, METEOR=0.6, BertScore=nan, StubScore=0.0667]"
     ]
    },
    {
     "name": "stdout",
     "output_type": "stream",
     "text": [
      "sim raw len:  1\n",
      "False\n",
      "В 19 веке значительный вклад в развитие русского витража внес Императорский стекольный завод. По указанию императора Николая I завод освоил производство разноцветных стекол и начал выпускать витражи, первоначально в виде однотонных стекол, образующих простые геометрические узоры в оконных переплетах.\n",
      "Джон Ла Фарж и Луис Тиффани внесли значительный вклад в развитие русского витража в 19-ом веке.\n",
      "[0, 0, 0, 0, 0, 0, 1, 0, 0, 0, 0, 0, 0, 0, 0]\n"
     ]
    },
    {
     "name": "stderr",
     "output_type": "stream",
     "text": [
      "109it [05:26,  3.50s/it, BLEU2=0.33, BLEU1=0.399, ExactMatch=0.0213, METEOR=0.599, BertScore=nan, StubScore=0.0667]"
     ]
    },
    {
     "name": "stdout",
     "output_type": "stream",
     "text": [
      "answer raw len:  108 1\n",
      "True\n",
      "По теории Монтеня, преподавание должно проводиться двумя способами: через беседу и с помощью книг.\n",
      "То путём собеседования, то с помощью книг должно проводится преподавание, по теории Монтеня.\n",
      "[0, 0, 0, 0, 0, 0, 1, 0, 0, 0, 0, 0, 0, 0, 0]\n",
      "answer raw len:  109 1\n"
     ]
    },
    {
     "name": "stderr",
     "output_type": "stream",
     "text": [
      "110it [05:34,  4.72s/it, BLEU2=0.33, BLEU1=0.399, ExactMatch=0.0213, METEOR=0.599, BertScore=nan, StubScore=0.0625]"
     ]
    },
    {
     "name": "stdout",
     "output_type": "stream",
     "text": [
      "sim raw len:  1\n",
      "False\n",
      "В тексте 2 упоминается, что будет создан специальный реестр авторов, у которых есть веб-сайты или страницы в социальных сетях, которые посещают более 3000 человек в день. Эти авторы будут проинформированы, что они обязаны проверять достоверность информации, которую размещают, соблюдать правила предвыборной агитации и маркировать свои издания в соответствии с возрастными категориями.\n",
      "Наставник будет указывать необходимых для прочтения авторов книг.\n",
      "[0, 0, 0, 0, 0, 0, 1, 0, 0, 0, 0, 0, 0, 0, 0, 0]\n"
     ]
    },
    {
     "name": "stderr",
     "output_type": "stream",
     "text": [
      "111it [05:36,  4.06s/it, BLEU2=0.328, BLEU1=0.398, ExactMatch=0.0211, METEOR=0.596, BertScore=nan, StubScore=0.0625]"
     ]
    },
    {
     "name": "stdout",
     "output_type": "stream",
     "text": [
      "answer raw len:  110 1\n",
      "True\n",
      "Основы логики, физики, геометрии и риторики должны быть изучены молодым людям, чтобы стать лучше и умнее.\n",
      "Необходимо ознакомить юношу с основами логики, физики, геометрии и риторики.\n",
      "[0, 0, 0, 0, 0, 0, 1, 0, 0, 0, 0, 0, 0, 0, 0, 0]\n"
     ]
    },
    {
     "name": "stderr",
     "output_type": "stream",
     "text": [
      "112it [05:42,  4.54s/it, BLEU2=0.326, BLEU1=0.394, ExactMatch=0.0208, METEOR=0.594, BertScore=nan, StubScore=0.0625]"
     ]
    },
    {
     "name": "stdout",
     "output_type": "stream",
     "text": [
      "answer raw len:  111 1\n",
      "True\n",
      "В тексте 1 Мишель Монтень предлагает, что душа обучаемого должна быть привита благородному любопытству и побуждать его узнавать обо всем без исключения. Он также рекомендует знакомить обучаемого с различными областями знаний, такими как логика, физика, геометрия и риторика, чтобы помочь ему стать лучше и умнее.\n",
      "Благородная любознательность должна быть привита душе обучаемого.\n",
      "[0, 0, 0, 0, 0, 0, 1, 0, 0, 0, 0, 0, 0, 0, 0, 0]\n",
      "answer raw len:  112 1\n"
     ]
    },
    {
     "name": "stderr",
     "output_type": "stream",
     "text": [
      "113it [05:45,  4.22s/it, BLEU2=0.326, BLEU1=0.394, ExactMatch=0.0208, METEOR=0.594, BertScore=nan, StubScore=0.0588]"
     ]
    },
    {
     "name": "stdout",
     "output_type": "stream",
     "text": [
      "sim raw len:  1\n",
      "False\n",
      "В статье рассматривается педагогическая теория, разработанная Джоном Локком.\n",
      "В статье рассматривалась педагогическая теория Мишеля Монтеня.\n",
      "[0, 0, 0, 0, 0, 0, 1, 0, 0, 0, 0, 0, 0, 0, 0, 0, 0]\n"
     ]
    },
    {
     "name": "stderr",
     "output_type": "stream",
     "text": [
      "114it [05:47,  3.44s/it, BLEU2=0.327, BLEU1=0.396, ExactMatch=0.0206, METEOR=0.595, BertScore=nan, StubScore=0.0588]"
     ]
    },
    {
     "name": "stdout",
     "output_type": "stream",
     "text": [
      "answer raw len:  113 1\n",
      "True\n",
      "Существует несколько типов элементов вторичной структуры, включая стебель-петли, петли и псевдоузлы.\n",
      "Бывают типы элементов вторичной структуры: стебель-петли, петли и псевдоузлы.\n",
      "[0, 0, 0, 0, 0, 0, 1, 0, 0, 0, 0, 0, 0, 0, 0, 0, 0]\n"
     ]
    },
    {
     "name": "stderr",
     "output_type": "stream",
     "text": [
      "115it [05:52,  3.82s/it, BLEU2=0.326, BLEU1=0.394, ExactMatch=0.0204, METEOR=0.595, BertScore=nan, StubScore=0.0588]"
     ]
    },
    {
     "name": "stdout",
     "output_type": "stream",
     "text": [
      "answer raw len:  114 1\n",
      "True\n",
      "[0.05] Эффективные программы для предсказания вторичной структуры РНК и белков включают в себя mfold для предсказания вторичной структуры РНК и различные методы предсказания пространственной структуры белков, такие как гомологическое моделирование, молекулярное докирование и предсказание взаимодействий белок-белок.\n",
      "Для предсказания вторичной структуры РНК и белков существуют эффективные программы, такие как mfold.\n",
      "[0, 0, 0, 0, 0, 0, 1, 0, 0, 0, 0, 0, 0, 0, 0, 0, 0]\n"
     ]
    },
    {
     "name": "stderr",
     "output_type": "stream",
     "text": [
      "116it [05:55,  3.57s/it, BLEU2=0.325, BLEU1=0.393, ExactMatch=0.0202, METEOR=0.596, BertScore=nan, StubScore=0.0588]"
     ]
    },
    {
     "name": "stdout",
     "output_type": "stream",
     "text": [
      "answer raw len:  115 1\n",
      "True\n",
      "Рабочая форма одноцепочечной молекулы РНК обладает структурой, которая позволяет ей существовать в А-конформации, с глубокой и узкой большой бороздкой и неглубокой и широкой малой бороздкой.\n",
      "Рабочая форма одноцепочечной молекулы РНК обладает третичной структурой.\n",
      "[0, 0, 0, 0, 0, 0, 1, 0, 0, 0, 0, 0, 0, 0, 0, 0, 0]\n"
     ]
    },
    {
     "name": "stderr",
     "output_type": "stream",
     "text": [
      "117it [05:56,  2.99s/it, BLEU2=0.325, BLEU1=0.393, ExactMatch=0.02, METEOR=0.597, BertScore=nan, StubScore=0.0588]  "
     ]
    },
    {
     "name": "stdout",
     "output_type": "stream",
     "text": [
      "answer raw len:  116 1\n",
      "True\n",
      "Третичная структура белка формируется на основе элементов вторичной структуры, образованных водородными связями внутри одной молекулы.\n",
      "На основе элементов вторичной структуры, образуемой с помощью водородных связей внутри одной молекулы.\n",
      "[0, 0, 0, 0, 0, 0, 1, 0, 0, 0, 0, 0, 0, 0, 0, 0, 0]\n"
     ]
    },
    {
     "name": "stderr",
     "output_type": "stream",
     "text": [
      "118it [05:58,  2.67s/it, BLEU2=0.324, BLEU1=0.392, ExactMatch=0.0198, METEOR=0.598, BertScore=nan, StubScore=0.0588]"
     ]
    },
    {
     "name": "stdout",
     "output_type": "stream",
     "text": [
      "answer raw len:  117 1\n",
      "True\n",
      "Типы элементов структуры, которые включают стебли-петли, петли и псевдоузлы, - это вторичная структура молекулы РНК.\n",
      "Стебель-петли, петли и псевдоузлы типы элементов вторичной структуры РНК.\n",
      "[0, 0, 0, 0, 0, 0, 1, 0, 0, 0, 0, 0, 0, 0, 0, 0, 0]\n"
     ]
    },
    {
     "name": "stderr",
     "output_type": "stream",
     "text": [
      "119it [06:00,  2.35s/it, BLEU2=0.32, BLEU1=0.388, ExactMatch=0.0196, METEOR=0.595, BertScore=nan, StubScore=0.0588] "
     ]
    },
    {
     "name": "stdout",
     "output_type": "stream",
     "text": [
      "answer raw len:  118 1\n",
      "True\n",
      "Герцен был назван \"предтечей народничества\" или \"основоположником\" этой идеологии.\n",
      "Народники называли Герцена основоположником, предтечей народничества.\n",
      "[0, 0, 0, 0, 0, 0, 1, 0, 0, 0, 0, 0, 0, 0, 0, 0, 0]\n"
     ]
    },
    {
     "name": "stderr",
     "output_type": "stream",
     "text": [
      "120it [06:03,  2.50s/it, BLEU2=0.324, BLEU1=0.392, ExactMatch=0.0194, METEOR=0.598, BertScore=nan, StubScore=0.0588]"
     ]
    },
    {
     "name": "stdout",
     "output_type": "stream",
     "text": [
      "answer raw len:  119 1\n",
      "True\n",
      "Одной из главных целей крестьянского социализма была освобождение крестьян от земли без выкупа, ликвидация помещичьего землевладения, введение крестьянского общинного самоуправления, независимого от местных властей, и демократизация страны.\n",
      "Одной из главных целей крестьянского социализма было освобождение крестьян с землей без выкупа, ликвидация помещичьего землевладения и введение крестьянского общинного самоуправления, независимого от местных властей.\n",
      "[0, 0, 0, 0, 0, 0, 1, 0, 0, 0, 0, 0, 0, 0, 0, 0, 0]\n"
     ]
    },
    {
     "name": "stderr",
     "output_type": "stream",
     "text": [
      "121it [06:04,  2.09s/it, BLEU2=0.323, BLEU1=0.391, ExactMatch=0.0192, METEOR=0.595, BertScore=nan, StubScore=0.0588]"
     ]
    },
    {
     "name": "stdout",
     "output_type": "stream",
     "text": [
      "answer raw len:  120 1\n",
      "True\n",
      "Русский социализм Герцен называл \"крестьянским социализмом\".\n",
      "Русский социализм Герцена получил название крестьянского социализма.\n",
      "[0, 0, 0, 0, 0, 0, 1, 0, 0, 0, 0, 0, 0, 0, 0, 0, 0]\n",
      "answer raw len:  121 1\n"
     ]
    },
    {
     "name": "stderr",
     "output_type": "stream",
     "text": [
      "122it [06:11,  3.53s/it, BLEU2=0.323, BLEU1=0.391, ExactMatch=0.0192, METEOR=0.595, BertScore=nan, StubScore=0.0556]"
     ]
    },
    {
     "name": "stdout",
     "output_type": "stream",
     "text": [
      "sim raw len:  1\n",
      "False\n",
      "В 1870-х годах термин \"народничество\" относился к различным течениям общественного движения. Одним из таких течений было \"грубое шовинистическое движение\", которое иногда называли \"народничеством\".\n",
      "Предтечей народничества называли Александра Герцена.\n",
      "[0, 0, 0, 0, 0, 0, 1, 0, 0, 0, 0, 0, 0, 0, 0, 0, 0, 0]\n"
     ]
    },
    {
     "name": "stderr",
     "output_type": "stream",
     "text": [
      "123it [06:14,  3.38s/it, BLEU2=0.321, BLEU1=0.389, ExactMatch=0.019, METEOR=0.595, BertScore=nan, StubScore=0.0556] "
     ]
    },
    {
     "name": "stdout",
     "output_type": "stream",
     "text": [
      "answer raw len:  122 1\n",
      "True\n",
      "Русский социализм Герцен был направлен на освобождение крестьян от земли без выкупа, ликвидацию помещичьего землевладения, введение крестьянского общинного самоуправления, независимого от местных властей, и демократизацию страны.\n",
      "Русский социализм Герцена был направлен на крестьянство.\n",
      "[0, 0, 0, 0, 0, 0, 1, 0, 0, 0, 0, 0, 0, 0, 0, 0, 0, 0]\n"
     ]
    },
    {
     "name": "stderr",
     "output_type": "stream",
     "text": [
      "124it [06:16,  2.86s/it, BLEU2=0.324, BLEU1=0.391, ExactMatch=0.0189, METEOR=0.597, BertScore=nan, StubScore=0.0556]"
     ]
    },
    {
     "name": "stdout",
     "output_type": "stream",
     "text": [
      "answer raw len:  123 1\n",
      "True\n",
      "Сериал \"Секретные материалы\" относится к жанру научной фантастики.\n",
      "Телесериал Секретные материалы относится к жанру научной фантастики.\n",
      "[0, 0, 0, 0, 0, 0, 1, 0, 0, 0, 0, 0, 0, 0, 0, 0, 0, 0]\n"
     ]
    },
    {
     "name": "stderr",
     "output_type": "stream",
     "text": [
      "125it [06:17,  2.57s/it, BLEU2=0.326, BLEU1=0.392, ExactMatch=0.0187, METEOR=0.599, BertScore=nan, StubScore=0.0556]"
     ]
    },
    {
     "name": "stdout",
     "output_type": "stream",
     "text": [
      "answer raw len:  124 1\n",
      "True\n",
      "Сериал \"Секретные материалы\" стартовал 10 сентября 1993 года.\n",
      "Показ телесериала Секретные материалы стартовал 10 сентября 1993 года.\n",
      "[0, 0, 0, 0, 0, 0, 1, 0, 0, 0, 0, 0, 0, 0, 0, 0, 0, 0]\n"
     ]
    },
    {
     "name": "stderr",
     "output_type": "stream",
     "text": [
      "126it [06:19,  2.29s/it, BLEU2=0.323, BLEU1=0.39, ExactMatch=0.0185, METEOR=0.597, BertScore=nan, StubScore=0.0556] "
     ]
    },
    {
     "name": "stdout",
     "output_type": "stream",
     "text": [
      "answer raw len:  125 1\n",
      "True\n",
      "В сериале \"Секретные материалы\" было снято 202 эпизода.\n",
      "Было отснято 202 серии телесериала Секретные материалы.\n",
      "[0, 0, 0, 0, 0, 0, 1, 0, 0, 0, 0, 0, 0, 0, 0, 0, 0, 0]\n"
     ]
    },
    {
     "name": "stderr",
     "output_type": "stream",
     "text": [
      "127it [06:21,  2.21s/it, BLEU2=0.321, BLEU1=0.389, ExactMatch=0.0183, METEOR=0.596, BertScore=nan, StubScore=0.0556]"
     ]
    },
    {
     "name": "stdout",
     "output_type": "stream",
     "text": [
      "answer raw len:  126 1\n",
      "True\n",
      "[0.05] Фрэнк Спотниц написал около 50 эпизодов сериала.\n",
      "Около 50 эпизодов было написано Фрэнком Спотницом.\n",
      "[0, 0, 0, 0, 0, 0, 1, 0, 0, 0, 0, 0, 0, 0, 0, 0, 0, 0]\n"
     ]
    },
    {
     "name": "stderr",
     "output_type": "stream",
     "text": [
      "128it [06:23,  1.98s/it, BLEU2=0.324, BLEU1=0.392, ExactMatch=0.0182, METEOR=0.599, BertScore=nan, StubScore=0.0556]"
     ]
    },
    {
     "name": "stdout",
     "output_type": "stream",
     "text": [
      "answer raw len:  127 1\n",
      "True\n",
      "Сериал \"Секретные материалы\" стал хитом на канале Fox.\n",
      "Сериал \"Секретные материалы\" стал хитом канал Fox.\n",
      "[0, 0, 0, 0, 0, 0, 1, 0, 0, 0, 0, 0, 0, 0, 0, 0, 0, 0]\n",
      "answer raw len:  128 1\n"
     ]
    },
    {
     "name": "stderr",
     "output_type": "stream",
     "text": [
      "129it [06:37,  5.76s/it, BLEU2=0.324, BLEU1=0.392, ExactMatch=0.0182, METEOR=0.599, BertScore=nan, StubScore=0.0526]"
     ]
    },
    {
     "name": "stdout",
     "output_type": "stream",
     "text": [
      "sim raw len:  1\n",
      "False\n",
      "Культурные мероприятия, такие как концерты, а также световые и звуковые шоу, проходят в различных местах по всему городу. Некоторые из них включают:\n",
      "\n",
      "1. Музыкальный театр\n",
      "2. Драматический театр\n",
      "3. Замковый театр\n",
      "4. Выставочные залы и галереи\n",
      "5. Хоры\n",
      "6. Оркестры\n",
      "7. Музыкальные ансамбли\n",
      "8. Джазовый клуб\n",
      "9. Культурные центры и студии\n",
      "\n",
      "Кроме того, в Клайпеде есть музеи, такие как Морской музей и шоу дельфинов, Музей часов и Музей кузнечного дела, Картинная галерея, а также Исторические музеи, такие как Исторический музей Малой Литвы и Клайпедский замок. Эти места предлагают разнообразные культурные впечатления и мероприятия для жителей и гостей города.\n",
      "Культурные мероприятия проходят в старой венецианской крепости Палео Фрурио.\n",
      "[0, 0, 0, 0, 0, 0, 1, 0, 0, 0, 0, 0, 0, 0, 0, 0, 0, 0, 0]\n",
      "answer raw len:  129 1\n"
     ]
    },
    {
     "name": "stderr",
     "output_type": "stream",
     "text": [
      "130it [06:41,  5.13s/it, BLEU2=0.324, BLEU1=0.392, ExactMatch=0.0182, METEOR=0.599, BertScore=nan, StubScore=0.05]  "
     ]
    },
    {
     "name": "stdout",
     "output_type": "stream",
     "text": [
      "sim raw len:  1\n",
      "False\n",
      "В каком году был построен и открыт для публики первый в мире подземный железнодорожный вокзал?\n",
      "Отреставрированный интерьер используется для проведения культурных мероприятий, таких как концерты, и звуковых и световых шоу.\n",
      "[0, 0, 0, 0, 0, 0, 1, 0, 0, 0, 0, 0, 0, 0, 0, 0, 0, 0, 0, 0]\n",
      "answer raw len:  130 1\n"
     ]
    },
    {
     "name": "stderr",
     "output_type": "stream",
     "text": [
      "131it [06:44,  4.62s/it, BLEU2=0.324, BLEU1=0.392, ExactMatch=0.0182, METEOR=0.599, BertScore=nan, StubScore=0.0476]"
     ]
    },
    {
     "name": "stdout",
     "output_type": "stream",
     "text": [
      "sim raw len:  1\n",
      "False\n",
      "[0.02] Позади головки находится так называемая средняя часть сперматозоида.\n",
      "У подножия креста расположена церковь св. Георгия.\n",
      "[0, 0, 0, 0, 0, 0, 1, 0, 0, 0, 0, 0, 0, 0, 0, 0, 0, 0, 0, 0, 0]\n",
      "answer raw len:  131 1\n"
     ]
    },
    {
     "name": "stderr",
     "output_type": "stream",
     "text": [
      "132it [06:49,  4.68s/it, BLEU2=0.324, BLEU1=0.392, ExactMatch=0.0182, METEOR=0.599, BertScore=nan, StubScore=0.0909]"
     ]
    },
    {
     "name": "stdout",
     "output_type": "stream",
     "text": [
      "sim raw len:  1\n",
      "False\n",
      "Керкира, также известная как Коркира, - это греческое название острова Корфу, расположенного в Ионическом море. Это популярное туристическое направление, известное своими прекрасными пляжами, богатой историей и архитектурными достопримечательностями.\n",
      "Нет информациия\n",
      "[0, 0, 0, 0, 0, 0, 1, 0, 0, 0, 0, 0, 0, 0, 0, 0, 0, 0, 0, 0, 0, 1]\n"
     ]
    },
    {
     "name": "stderr",
     "output_type": "stream",
     "text": [
      "133it [06:50,  3.60s/it, BLEU2=0.327, BLEU1=0.394, ExactMatch=0.018, METEOR=0.6, BertScore=nan, StubScore=0.0909]   "
     ]
    },
    {
     "name": "stdout",
     "output_type": "stream",
     "text": [
      "answer raw len:  132 1\n",
      "True\n",
      "Слава к The Beatles пришла в Великобритании.\n",
      "Первая слава к The Beatles пришла в Ливерпуле.\n",
      "[0, 0, 0, 0, 0, 0, 1, 0, 0, 0, 0, 0, 0, 0, 0, 0, 0, 0, 0, 0, 0, 1]\n"
     ]
    },
    {
     "name": "stderr",
     "output_type": "stream",
     "text": [
      "134it [06:53,  3.30s/it, BLEU2=0.325, BLEU1=0.391, ExactMatch=0.0179, METEOR=0.598, BertScore=nan, StubScore=0.0909]"
     ]
    },
    {
     "name": "stdout",
     "output_type": "stream",
     "text": [
      "answer raw len:  133 1\n",
      "True\n",
      "В 1967 году Пол Маккартни взял на себя руководство группой The Beatles после смерти их менеджера Брайана Эпштейна.\n",
      "Лидером группы The Beatles стал Леннон.\n",
      "[0, 0, 0, 0, 0, 0, 1, 0, 0, 0, 0, 0, 0, 0, 0, 0, 0, 0, 0, 0, 0, 1]\n"
     ]
    },
    {
     "name": "stderr",
     "output_type": "stream",
     "text": [
      "135it [06:54,  2.61s/it, BLEU2=0.322, BLEU1=0.388, ExactMatch=0.0177, METEOR=0.594, BertScore=nan, StubScore=0.0909]"
     ]
    },
    {
     "name": "stdout",
     "output_type": "stream",
     "text": [
      "answer raw len:  134 1\n",
      "True\n",
      "В середине 1950-х годов.\n",
      "The Beatles прославились в Ливерпуле весной 1963.\n",
      "[0, 0, 0, 0, 0, 0, 1, 0, 0, 0, 0, 0, 0, 0, 0, 0, 0, 0, 0, 0, 0, 1]\n"
     ]
    },
    {
     "name": "stderr",
     "output_type": "stream",
     "text": [
      "136it [06:55,  2.26s/it, BLEU2=0.325, BLEU1=0.391, ExactMatch=0.0175, METEOR=0.595, BertScore=nan, StubScore=0.0909]"
     ]
    },
    {
     "name": "stdout",
     "output_type": "stream",
     "text": [
      "answer raw len:  135 1\n",
      "True\n",
      "В 1964 году к Битлз пришла мировая слава.\n",
      "В 1964 году к The Beatles пришла мировая слава.\n",
      "[0, 0, 0, 0, 0, 0, 1, 0, 0, 0, 0, 0, 0, 0, 0, 0, 0, 0, 0, 0, 0, 1]\n"
     ]
    },
    {
     "name": "stderr",
     "output_type": "stream",
     "text": [
      "137it [06:56,  1.90s/it, BLEU2=0.322, BLEU1=0.388, ExactMatch=0.0174, METEOR=0.592, BertScore=nan, StubScore=0.0909]"
     ]
    },
    {
     "name": "stdout",
     "output_type": "stream",
     "text": [
      "answer raw len:  136 1\n",
      "True\n",
      "Октябрь 1963 года.\n",
      "В октябре 1963 года о The Beatles знала уже вся Британия.\n",
      "[0, 0, 0, 0, 0, 0, 1, 0, 0, 0, 0, 0, 0, 0, 0, 0, 0, 0, 0, 0, 0, 1]\n"
     ]
    },
    {
     "name": "stderr",
     "output_type": "stream",
     "text": [
      "138it [06:59,  2.26s/it, BLEU2=0.326, BLEU1=0.391, ExactMatch=0.0172, METEOR=0.594, BertScore=nan, StubScore=0.0909]"
     ]
    },
    {
     "name": "stdout",
     "output_type": "stream",
     "text": [
      "answer raw len:  137 1\n",
      "True\n",
      "Торонто провел свою первую игру в сезоне 1917/18 против Монреаль Уондерерс 19 декабря 1917 года.\n",
      "Торонто провел свою первую игру в Национальной хоккейной лиге в сезоне 1917/18 против Монреаль Уондерерс 19 декабря 1917 года.\n",
      "[0, 0, 0, 0, 0, 0, 1, 0, 0, 0, 0, 0, 0, 0, 0, 0, 0, 0, 0, 0, 0, 1]\n",
      "answer raw len:  138 1\n"
     ]
    },
    {
     "name": "stderr",
     "output_type": "stream",
     "text": [
      "139it [07:03,  2.62s/it, BLEU2=0.326, BLEU1=0.391, ExactMatch=0.0172, METEOR=0.594, BertScore=nan, StubScore=0.087] "
     ]
    },
    {
     "name": "stdout",
     "output_type": "stream",
     "text": [
      "sim raw len:  1\n",
      "False\n",
      "В статье не приводится информация о том, какие команды остались в лиге.\n",
      "Монреаль Канадиенс, Оттава Сенаторз и Торонто остались в лиге.\n",
      "[0, 0, 0, 0, 0, 0, 1, 0, 0, 0, 0, 0, 0, 0, 0, 0, 0, 0, 0, 0, 0, 1, 0]\n"
     ]
    },
    {
     "name": "stderr",
     "output_type": "stream",
     "text": [
      "140it [07:06,  2.69s/it, BLEU2=0.33, BLEU1=0.395, ExactMatch=0.0171, METEOR=0.597, BertScore=nan, StubScore=0.087] "
     ]
    },
    {
     "name": "stdout",
     "output_type": "stream",
     "text": [
      "answer raw len:  139 1\n",
      "True\n",
      "Первая игра Торонто в Национальной хоккейной лиге в сезоне 1917/18 состоялась 19 декабря 1917 года.\n",
      "Первая игра Торонто в Национальной хоккейной лиге в сезоне 1917/18 была 19 декабря 1917.\n",
      "[0, 0, 0, 0, 0, 0, 1, 0, 0, 0, 0, 0, 0, 0, 0, 0, 0, 0, 0, 0, 0, 1, 0]\n"
     ]
    },
    {
     "name": "stderr",
     "output_type": "stream",
     "text": [
      "141it [07:08,  2.63s/it, BLEU2=0.332, BLEU1=0.397, ExactMatch=0.0169, METEOR=0.6, BertScore=nan, StubScore=0.087] "
     ]
    },
    {
     "name": "stdout",
     "output_type": "stream",
     "text": [
      "answer raw len:  140 1\n",
      "True\n",
      "Торонто забил 9 шайб в игре против Монреаль Уондерерс 19 декабря 1917 года.\n",
      "В игре против Монреаль Уондерерс 19 декабря 1917 Торонто забил девять шайб.\n",
      "[0, 0, 0, 0, 0, 0, 1, 0, 0, 0, 0, 0, 0, 0, 0, 0, 0, 0, 0, 0, 0, 1, 0]\n"
     ]
    },
    {
     "name": "stderr",
     "output_type": "stream",
     "text": [
      "142it [07:10,  2.45s/it, BLEU2=0.336, BLEU1=0.401, ExactMatch=0.0168, METEOR=0.602, BertScore=nan, StubScore=0.087]"
     ]
    },
    {
     "name": "stdout",
     "output_type": "stream",
     "text": [
      "answer raw len:  141 1\n",
      "True\n",
      "Торонто провел свою первую игру в Национальной хоккейной лиге в сезоне 1917-18.\n",
      "Торонто провел первую игру в Национальной хоккейной лиге в сезоне 1917/18.\n",
      "[0, 0, 0, 0, 0, 0, 1, 0, 0, 0, 0, 0, 0, 0, 0, 0, 0, 0, 0, 0, 0, 1, 0]\n"
     ]
    },
    {
     "name": "stderr",
     "output_type": "stream",
     "text": [
      "143it [07:12,  2.33s/it, BLEU2=0.339, BLEU1=0.403, ExactMatch=0.0167, METEOR=0.603, BertScore=nan, StubScore=0.087]"
     ]
    },
    {
     "name": "stdout",
     "output_type": "stream",
     "text": [
      "answer raw len:  142 1\n",
      "True\n",
      "Тяжелый звук краут-рока, наряду с работами Брайана Ино, оказал значительное влияние на рок-музыку.\n",
      "Тяжелое звучание краут-рока, наряду с работами Брайана Ино, оказало большое влияние на рок-музыку.\n",
      "[0, 0, 0, 0, 0, 0, 1, 0, 0, 0, 0, 0, 0, 0, 0, 0, 0, 0, 0, 0, 0, 1, 0]\n"
     ]
    },
    {
     "name": "stderr",
     "output_type": "stream",
     "text": [
      "144it [07:13,  2.01s/it, BLEU2=0.342, BLEU1=0.407, ExactMatch=0.0165, METEOR=0.606, BertScore=nan, StubScore=0.087]"
     ]
    },
    {
     "name": "stdout",
     "output_type": "stream",
     "text": [
      "answer raw len:  143 1\n",
      "True\n",
      "Брайан Ино был клавишником группы Roxy Music.\n",
      "Брайан Ино был клавишником Roxy Music.\n",
      "[0, 0, 0, 0, 0, 0, 1, 0, 0, 0, 0, 0, 0, 0, 0, 0, 0, 0, 0, 0, 0, 1, 0]\n"
     ]
    },
    {
     "name": "stderr",
     "output_type": "stream",
     "text": [
      "145it [07:16,  2.09s/it, BLEU2=0.344, BLEU1=0.41, ExactMatch=0.0164, METEOR=0.609, BertScore=nan, StubScore=0.087] "
     ]
    },
    {
     "name": "stdout",
     "output_type": "stream",
     "text": [
      "answer raw len:  144 1\n",
      "True\n",
      "Фильм \"Заводной апельсин\" был выпущен с саундтреком американского композитора Венди Карлоза в 1971 году.\n",
      "Фильм Заводной апельсин был выпущен в 1971 году с саундтреком американского композитора Венди Карлоса.\n",
      "[0, 0, 0, 0, 0, 0, 1, 0, 0, 0, 0, 0, 0, 0, 0, 0, 0, 0, 0, 0, 0, 1, 0]\n"
     ]
    },
    {
     "name": "stderr",
     "output_type": "stream",
     "text": [
      "146it [07:18,  2.18s/it, BLEU2=0.345, BLEU1=0.412, ExactMatch=0.0163, METEOR=0.611, BertScore=nan, StubScore=0.087]"
     ]
    },
    {
     "name": "stdout",
     "output_type": "stream",
     "text": [
      "answer raw len:  145 1\n",
      "True\n",
      "Фильм, который был выпущен в 1971 году с саундтреком американского композитора Венди Карлоза, - \"Заводной апельсин\".\n",
      "Фильм Заводной апельсин в 1971 году был выпущен с саундтреком американского композитора Венди Карлоса.\n",
      "[0, 0, 0, 0, 0, 0, 1, 0, 0, 0, 0, 0, 0, 0, 0, 0, 0, 0, 0, 0, 0, 1, 0]\n"
     ]
    },
    {
     "name": "stderr",
     "output_type": "stream",
     "text": [
      "147it [07:21,  2.26s/it, BLEU2=0.345, BLEU1=0.412, ExactMatch=0.0161, METEOR=0.612, BertScore=nan, StubScore=0.087]"
     ]
    },
    {
     "name": "stdout",
     "output_type": "stream",
     "text": [
      "answer raw len:  146 1\n",
      "True\n",
      "Саймон Рейнольдс, музыкальный журналист, назвал саундтрек из фильма \"Заводной апельсин\" источником вдохновения.\n",
      "Музыкальный журналист Саймон Рейнольдс назвал саундтрек из фильма Заводной апельсин своим вдохновением.\n",
      "[0, 0, 0, 0, 0, 0, 1, 0, 0, 0, 0, 0, 0, 0, 0, 0, 0, 0, 0, 0, 0, 1, 0]\n",
      "answer raw len:  147 1\n"
     ]
    },
    {
     "name": "stderr",
     "output_type": "stream",
     "text": [
      "148it [07:24,  2.73s/it, BLEU2=0.345, BLEU1=0.412, ExactMatch=0.0161, METEOR=0.612, BertScore=nan, StubScore=0.0833]"
     ]
    },
    {
     "name": "stdout",
     "output_type": "stream",
     "text": [
      "sim raw len:  1\n",
      "False\n",
      "Да, \"Машина времени\" была группой в 1980 году.\n",
      "Да, уже была группа „Машина времени“ в 1980-м году.\n",
      "[0, 0, 0, 0, 0, 0, 1, 0, 0, 0, 0, 0, 0, 0, 0, 0, 0, 0, 0, 0, 0, 1, 0, 0]\n",
      "answer raw len:  148 1\n"
     ]
    },
    {
     "name": "stderr",
     "output_type": "stream",
     "text": [
      "149it [07:30,  3.63s/it, BLEU2=0.345, BLEU1=0.412, ExactMatch=0.0161, METEOR=0.612, BertScore=nan, StubScore=0.08]  "
     ]
    },
    {
     "name": "stdout",
     "output_type": "stream",
     "text": [
      "sim raw len:  1\n",
      "False\n",
      "Я не могу ответить на ваш вопрос, так как предоставленная информация не упоминает ни одной рок-группы, которая \"более порочна\" или имеет более провокационный имидж.\n",
      "„Локомотив ГТ“ разъезжал с концертами.\n",
      "[0, 0, 0, 0, 0, 0, 1, 0, 0, 0, 0, 0, 0, 0, 0, 0, 0, 0, 0, 0, 0, 1, 0, 0, 0]\n",
      "answer raw len:  149 1\n"
     ]
    },
    {
     "name": "stderr",
     "output_type": "stream",
     "text": [
      "150it [07:34,  3.65s/it, BLEU2=0.345, BLEU1=0.412, ExactMatch=0.0161, METEOR=0.612, BertScore=nan, StubScore=0.0769]"
     ]
    },
    {
     "name": "stdout",
     "output_type": "stream",
     "text": [
      "sim raw len:  1\n",
      "False\n",
      "\"Машина времени\" была уже сформирована в 1972 году.\n",
      "Шел 1980-й год.\n",
      "[0, 0, 0, 0, 0, 0, 1, 0, 0, 0, 0, 0, 0, 0, 0, 0, 0, 0, 0, 0, 0, 1, 0, 0, 0, 0]\n",
      "answer raw len:  150 1\n"
     ]
    },
    {
     "name": "stderr",
     "output_type": "stream",
     "text": [
      "151it [07:45,  6.06s/it, BLEU2=0.345, BLEU1=0.412, ExactMatch=0.0161, METEOR=0.612, BertScore=nan, StubScore=0.111] "
     ]
    },
    {
     "name": "stdout",
     "output_type": "stream",
     "text": [
      "sim raw len:  1\n",
      "False\n",
      "В 1980 году музыка была разнообразной и развивалась в различных направлениях. Некоторые популярные жанры включали панк-рок, альтернативный рок, синти-поп и пост-панк. Панк-рок и альтернативный рок были известны своими экспериментами с поиском новых звучаний электрогитары, в то время как синти-поп был ритмичной, легкой электронной музыкой, в которой использовались синтезаторы. Популярные группы того времени включали Pet Shop Boys, Depeche Mode, Spandau Ballet и Duran Duran.\n",
      "В 1980 году слушали западную музыку.\n",
      "[0, 0, 0, 0, 0, 0, 1, 0, 0, 0, 0, 0, 0, 0, 0, 0, 0, 0, 0, 0, 0, 1, 0, 0, 0, 0, 1]\n",
      "answer raw len:  151 1\n"
     ]
    },
    {
     "name": "stderr",
     "output_type": "stream",
     "text": [
      "152it [07:59,  8.41s/it, BLEU2=0.345, BLEU1=0.412, ExactMatch=0.0161, METEOR=0.612, BertScore=nan, StubScore=0.107]"
     ]
    },
    {
     "name": "stdout",
     "output_type": "stream",
     "text": [
      "sim raw len:  1\n",
      "False\n",
      "Машина времени была советской рок-группой, которая существует уже более четырех десятилетий. Они начали как советские \"Битлз\" и со временем превратились в российских \"Роллинг Стоунз\". Их музыка стала саундтреком к истории Советского Союза и России второй половины прошлого века. Они известны своим уникальным подходом к рок-музыке, исполняя собственные композиции вместо кавер-версий популярных англоязычных хитов. Их песни часто затрагивают острые и актуальные темы, критикуя карьеризм, приспособленчество и социальную пассивность, в то же время утверждая человеческое и духовное начало.\n",
      "Это был такой ВИА, только немного позлее и чуть-чуть помоднее, чем ряд других.\n",
      "[0, 0, 0, 0, 0, 0, 1, 0, 0, 0, 0, 0, 0, 0, 0, 0, 0, 0, 0, 0, 0, 1, 0, 0, 0, 0, 1, 0]\n"
     ]
    },
    {
     "name": "stderr",
     "output_type": "stream",
     "text": [
      "153it [08:01,  6.32s/it, BLEU2=0.346, BLEU1=0.412, ExactMatch=0.016, METEOR=0.612, BertScore=nan, StubScore=0.107] "
     ]
    },
    {
     "name": "stdout",
     "output_type": "stream",
     "text": [
      "answer raw len:  152 1\n",
      "True\n",
      "Банк \"Югра\" лишился лицензии на осуществление банковских операций 28 июля 2017 года.\n",
      "28 июля 2017 года у Югры была отозвана лицензия на осуществление банковских операций.\n",
      "[0, 0, 0, 0, 0, 0, 1, 0, 0, 0, 0, 0, 0, 0, 0, 0, 0, 0, 0, 0, 0, 1, 0, 0, 0, 0, 1, 0]\n"
     ]
    },
    {
     "name": "stderr",
     "output_type": "stream",
     "text": [
      "154it [08:09,  6.74s/it, BLEU2=0.349, BLEU1=0.415, ExactMatch=0.0159, METEOR=0.615, BertScore=nan, StubScore=0.107]"
     ]
    },
    {
     "name": "stdout",
     "output_type": "stream",
     "text": [
      "answer raw len:  153 1\n",
      "True\n",
      "Штаб-квартира банка \"Югра\" находится в Москве.\n",
      "Штаб-квартира банка Югра находится в Москве.\n",
      "[0, 0, 0, 0, 0, 0, 1, 0, 0, 0, 0, 0, 0, 0, 0, 0, 0, 0, 0, 0, 0, 1, 0, 0, 0, 0, 1, 0]\n"
     ]
    },
    {
     "name": "stderr",
     "output_type": "stream",
     "text": [
      "155it [08:10,  5.22s/it, BLEU2=0.351, BLEU1=0.417, ExactMatch=0.0157, METEOR=0.618, BertScore=nan, StubScore=0.107]"
     ]
    },
    {
     "name": "stdout",
     "output_type": "stream",
     "text": [
      "answer raw len:  154 1\n",
      "True\n",
      "Банк \"Югра\" занимал 30-е место по размеру активов среди российских банков на июль 2016 года.\n",
      "По размеру активов среди российских банков на июль 2016 года Югра занимал 30-е место.\n",
      "[0, 0, 0, 0, 0, 0, 1, 0, 0, 0, 0, 0, 0, 0, 0, 0, 0, 0, 0, 0, 0, 1, 0, 0, 0, 0, 1, 0]\n",
      "answer raw len:  155 1\n"
     ]
    },
    {
     "name": "stderr",
     "output_type": "stream",
     "text": [
      "156it [08:14,  4.92s/it, BLEU2=0.351, BLEU1=0.417, ExactMatch=0.0157, METEOR=0.618, BertScore=nan, StubScore=0.138]"
     ]
    },
    {
     "name": "stdout",
     "output_type": "stream",
     "text": [
      "sim raw len:  1\n",
      "False\n",
      "Полное название Югра - Югра.\n",
      "Полное наименование — Публичное акционерное общество банк Югра.\n",
      "[0, 0, 0, 0, 0, 0, 1, 0, 0, 0, 0, 0, 0, 0, 0, 0, 0, 0, 0, 0, 0, 1, 0, 0, 0, 0, 1, 0, 1]\n",
      "answer raw len:  156 1\n"
     ]
    },
    {
     "name": "stderr",
     "output_type": "stream",
     "text": [
      "157it [09:19, 22.79s/it, BLEU2=0.351, BLEU1=0.417, ExactMatch=0.0157, METEOR=0.618, BertScore=nan, StubScore=0.133]"
     ]
    },
    {
     "name": "stdout",
     "output_type": "stream",
     "text": [
      "sim raw len:  1\n",
      "False\n",
      "1. [0.03] Ягура (яп. やぐら), Четвёртый Мидзукаге (яп. 四代目水影 Ёндаймэ Мидзукаге) — бывший дзюдзюри-ниндзя из клана Гэнин, однако, когда и кем был извлечён бидзю, неизвестно[26]. Он был одним из немногих, кто полностью контролировал своего бидзю[27]. Во время его правления, деревня, в которой он жил, стала известна как Деревня Кровавого Тумана (яп. 血霧の里 Тигири-но сато) из-за варварского выпускного экзамена в Академии ниндзя, на котором один ниндзя должен был вступить в смертельный бой с другим. В один из моментов было обнаружено, что Ягурой кто-то управляет с помощью генджуцу. Позже выяснилось, что этим занимался Тоби[28].\n",
      "\n",
      "2. [0.07] Югославы — общее название для всех народов Югославии, включающее сербов — 8,1 миллиона человек (39,7 % всего населения; данные переписи 1971 года), хорватов — 4,5 миллиона (около 22 %), словенцев — 1,7 миллиона, мусульман (этнических) — 1,65 миллиона, македонцев — 1,2 миллиона, черногорцев — 0,5 миллиона.[6] Под югославами также могут пониматься южные славяне и изредка югословены (этноним югословены изредка использовался в советской и российской научной литературе начиная с 1980-х годов, но более массовым был и продолжает использоваться этноним — югослав). Например, в изданном в 1988 году издательством Советская энциклопедия историко-этнографическом справочнике Народы мира югославские народы характеризовались как новая этническая общность, возникшая в условиях социалистической Югославии [7]. Но в массовых изданиях для названия народов Югославии и как энтоним как правило употребляется — югославские народы[8]. В энциклопедии 1999 года Народы и религии мира, подготовленной Институтом этнологии и антропологии РАН на основе вышеупомянутого советского справочника, в связи с распадом Югославии статьи о югославских народах уже нет[7], хотя часть из них продолжает называть\n",
      "Это российский частный банк.\n",
      "[0, 0, 0, 0, 0, 0, 1, 0, 0, 0, 0, 0, 0, 0, 0, 0, 0, 0, 0, 0, 0, 1, 0, 0, 0, 0, 1, 0, 1, 0]\n"
     ]
    },
    {
     "name": "stderr",
     "output_type": "stream",
     "text": [
      "158it [09:25, 17.81s/it, BLEU2=0.348, BLEU1=0.415, ExactMatch=0.0156, METEOR=0.615, BertScore=nan, StubScore=0.133]"
     ]
    },
    {
     "name": "stdout",
     "output_type": "stream",
     "text": [
      "answer raw len:  157 1\n",
      "True\n",
      "Макаревич пел в стиле, который ближе к литературной песне, такой как Окуджава и Наталья Матвеева, чем к року. Его поэтическая стихия была более рефлексивной и менее резкой или эмоциональной, чем у Высоцкого, который, по моему мнению, был ближе к ритму и темпу рок-музыки.\n",
      "Макаревич пел честно и последовательно о самом злободневном.\n",
      "[0, 0, 0, 0, 0, 0, 1, 0, 0, 0, 0, 0, 0, 0, 0, 0, 0, 0, 0, 0, 0, 1, 0, 0, 0, 0, 1, 0, 1, 0]\n",
      "answer raw len:  158 1\n"
     ]
    },
    {
     "name": "stderr",
     "output_type": "stream",
     "text": [
      "159it [09:30, 13.86s/it, BLEU2=0.348, BLEU1=0.415, ExactMatch=0.0156, METEOR=0.615, BertScore=nan, StubScore=0.129]"
     ]
    },
    {
     "name": "stdout",
     "output_type": "stream",
     "text": [
      "sim raw len:  1\n",
      "False\n",
      "[0.03] Полифония - это музыкальный стиль, который характеризуется равноправным развитием нескольких мелодических линий в композиции.\n",
      "Сейчас нужен более жёсткий, энергичный музыкальный язык.\n",
      "[0, 0, 0, 0, 0, 0, 1, 0, 0, 0, 0, 0, 0, 0, 0, 0, 0, 0, 0, 0, 0, 1, 0, 0, 0, 0, 1, 0, 1, 0, 0]\n"
     ]
    },
    {
     "name": "stderr",
     "output_type": "stream",
     "text": [
      "160it [09:33, 10.80s/it, BLEU2=0.346, BLEU1=0.412, ExactMatch=0.0155, METEOR=0.613, BertScore=nan, StubScore=0.129]"
     ]
    },
    {
     "name": "stdout",
     "output_type": "stream",
     "text": [
      "answer raw len:  159 1\n",
      "True\n",
      "Макаревич пел о различных темах, включая социальные вопросы, самопознание и личные переживания. Его песни часто затрагивали актуальные проблемы и демонстрировали его способность к честному и последовательному повествованию.\n",
      "Макаревич пел о самом злободневном.\n",
      "[0, 0, 0, 0, 0, 0, 1, 0, 0, 0, 0, 0, 0, 0, 0, 0, 0, 0, 0, 0, 0, 1, 0, 0, 0, 0, 1, 0, 1, 0, 0]\n"
     ]
    },
    {
     "name": "stderr",
     "output_type": "stream",
     "text": [
      "161it [09:35,  7.97s/it, BLEU2=0.348, BLEU1=0.414, ExactMatch=0.0154, METEOR=0.614, BertScore=nan, StubScore=0.129]"
     ]
    },
    {
     "name": "stdout",
     "output_type": "stream",
     "text": [
      "answer raw len:  160 1\n",
      "True\n",
      "Рок-музыка не имеет ничего общего с бессмысленной пустой эстрадой.\n",
      "Рок-музыка, в доказательстве Макаревича, ничего общего не имеет с бессмысленной пустой эстрадой.\n",
      "[0, 0, 0, 0, 0, 0, 1, 0, 0, 0, 0, 0, 0, 0, 0, 0, 0, 0, 0, 0, 0, 1, 0, 0, 0, 0, 1, 0, 1, 0, 0]\n",
      "answer raw len:  161 1\n"
     ]
    },
    {
     "name": "stderr",
     "output_type": "stream",
     "text": [
      "162it [09:38,  6.49s/it, BLEU2=0.348, BLEU1=0.414, ExactMatch=0.0154, METEOR=0.614, BertScore=nan, StubScore=0.125]"
     ]
    },
    {
     "name": "stdout",
     "output_type": "stream",
     "text": [
      "sim raw len:  1\n",
      "False\n",
      "\"У меня нет ответа на ваш вопрос.\"\n",
      "Опыт „Машины времени“ незаменим для начинающих рок-музыкантов.\n",
      "[0, 0, 0, 0, 0, 0, 1, 0, 0, 0, 0, 0, 0, 0, 0, 0, 0, 0, 0, 0, 0, 1, 0, 0, 0, 0, 1, 0, 1, 0, 0, 0]\n"
     ]
    },
    {
     "name": "stderr",
     "output_type": "stream",
     "text": [
      "163it [09:40,  5.35s/it, BLEU2=0.348, BLEU1=0.413, ExactMatch=0.0153, METEOR=0.612, BertScore=nan, StubScore=0.125]"
     ]
    },
    {
     "name": "stdout",
     "output_type": "stream",
     "text": [
      "answer raw len:  162 1\n",
      "True\n",
      "\"Опыт мисс Энн Дафффилд\" написан в стиле Шерлока Холмса.\n",
      "Рассказ „The Singularge Experience of Miss Anne Duffield“ написан в стиле Шерлока Холмса.\n",
      "[0, 0, 0, 0, 0, 0, 1, 0, 0, 0, 0, 0, 0, 0, 0, 0, 0, 0, 0, 0, 0, 1, 0, 0, 0, 0, 1, 0, 1, 0, 0, 0]\n",
      "answer raw len:  163 1\n"
     ]
    },
    {
     "name": "stderr",
     "output_type": "stream",
     "text": [
      "164it [09:47,  5.83s/it, BLEU2=0.348, BLEU1=0.413, ExactMatch=0.0153, METEOR=0.612, BertScore=nan, StubScore=0.121]"
     ]
    },
    {
     "name": "stdout",
     "output_type": "stream",
     "text": [
      "sim raw len:  1\n",
      "False\n",
      "В XIX веке город Вильно превратился в крупный центр книгопечатания на литовском языке латиницей, после чего книги контрабандой перевозились в соседние территории Российской Литвы, где использовалась кириллица, а латиница была запрещена.\n",
      "Половина книг на судне была на французском, половина — на английском языках.\n",
      "[0, 0, 0, 0, 0, 0, 1, 0, 0, 0, 0, 0, 0, 0, 0, 0, 0, 0, 0, 0, 0, 1, 0, 0, 0, 0, 1, 0, 1, 0, 0, 0, 0]\n"
     ]
    },
    {
     "name": "stderr",
     "output_type": "stream",
     "text": [
      "165it [09:50,  4.71s/it, BLEU2=0.348, BLEU1=0.414, ExactMatch=0.0152, METEOR=0.612, BertScore=nan, StubScore=0.121]"
     ]
    },
    {
     "name": "stdout",
     "output_type": "stream",
     "text": [
      "answer raw len:  164 1\n",
      "True\n",
      "Джон Леннон провел три недели на Таити, читая рассказы о Шерлоке Холмсе.\n",
      "Джон Леннон провел три недели на Таити за чтением рассказов про Шерлока Холмса.\n",
      "[0, 0, 0, 0, 0, 0, 1, 0, 0, 0, 0, 0, 0, 0, 0, 0, 0, 0, 0, 0, 0, 1, 0, 0, 0, 0, 1, 0, 1, 0, 0, 0, 0]\n"
     ]
    },
    {
     "name": "stderr",
     "output_type": "stream",
     "text": [
      "166it [09:53,  4.23s/it, BLEU2=0.347, BLEU1=0.413, ExactMatch=0.015, METEOR=0.61, BertScore=nan, StubScore=0.121]  "
     ]
    },
    {
     "name": "stdout",
     "output_type": "stream",
     "text": [
      "answer raw len:  165 1\n",
      "True\n",
      "Джон Леннон написал рассказ о Шемроке Уомблсе после трех недель чтения на Таити о Шерлоке Холмсе.\n",
      "Джон Леннон написал рассказ „The Singularge Experience of Miss Anne Duffield“.\n",
      "[0, 0, 0, 0, 0, 0, 1, 0, 0, 0, 0, 0, 0, 0, 0, 0, 0, 0, 0, 0, 0, 1, 0, 0, 0, 0, 1, 0, 1, 0, 0, 0, 0]\n"
     ]
    },
    {
     "name": "stderr",
     "output_type": "stream",
     "text": [
      "167it [09:53,  3.13s/it, BLEU2=0.345, BLEU1=0.411, ExactMatch=0.0149, METEOR=0.608, BertScore=nan, StubScore=0.121]"
     ]
    },
    {
     "name": "stdout",
     "output_type": "stream",
     "text": [
      "answer raw len:  166 1\n",
      "True\n",
      "Джон Леннон\n",
      "Это вспоминал Джон Леннон.\n",
      "[0, 0, 0, 0, 0, 0, 1, 0, 0, 0, 0, 0, 0, 0, 0, 0, 0, 0, 0, 0, 0, 1, 0, 0, 0, 0, 1, 0, 1, 0, 0, 0, 0]\n"
     ]
    },
    {
     "name": "stderr",
     "output_type": "stream",
     "text": [
      "168it [09:55,  2.67s/it, BLEU2=0.344, BLEU1=0.411, ExactMatch=0.0148, METEOR=0.607, BertScore=nan, StubScore=0.121]"
     ]
    },
    {
     "name": "stdout",
     "output_type": "stream",
     "text": [
      "answer raw len:  167 1\n",
      "True\n",
      "Группа \"Машина времени\" впервые гастролировала в крупном городе Ленинграде в 1981 году.\n",
      "Первые большие гастроли группы Машина времени были в городе Ленинград в 1981 году.\n",
      "[0, 0, 0, 0, 0, 0, 1, 0, 0, 0, 0, 0, 0, 0, 0, 0, 0, 0, 0, 0, 0, 1, 0, 0, 0, 0, 1, 0, 1, 0, 0, 0, 0]\n"
     ]
    },
    {
     "name": "stderr",
     "output_type": "stream",
     "text": [
      "169it [10:00,  3.35s/it, BLEU2=0.343, BLEU1=0.41, ExactMatch=0.0147, METEOR=0.606, BertScore=nan, StubScore=0.121] "
     ]
    },
    {
     "name": "stdout",
     "output_type": "stream",
     "text": [
      "answer raw len:  168 1\n",
      "True\n",
      "Автор текста описывает концерт группы \"Машина времени\" в 1981 году как \"произведение искусства\", которое оказало значительное влияние на его жизненный путь. Он также упоминает, что группа олицетворяла для него мечту и звезду, к которой он стремился.\n",
      "Автор текста описывает свое впечатление от концерта группы Машина времени в 81-м году как \"совершеннейший шок\", потому что он увидел не просто рок-концерт, не просто какое-то музыкальное представление, а это было \"какое-то вообще произведение искусства\".\n",
      "[0, 0, 0, 0, 0, 0, 1, 0, 0, 0, 0, 0, 0, 0, 0, 0, 0, 0, 0, 0, 0, 1, 0, 0, 0, 0, 1, 0, 1, 0, 0, 0, 0]\n"
     ]
    },
    {
     "name": "stderr",
     "output_type": "stream",
     "text": [
      "170it [10:01,  2.84s/it, BLEU2=0.343, BLEU1=0.41, ExactMatch=0.0146, METEOR=0.606, BertScore=nan, StubScore=0.121]"
     ]
    },
    {
     "name": "stdout",
     "output_type": "stream",
     "text": [
      "answer raw len:  169 1\n",
      "True\n",
      "Машина времени имела свои первые большие гастроли в Ленинграде в 1981 году.\n",
      "В 81-м году у группы Машина времени были первые большие гастроли в Ленинграде.\n",
      "[0, 0, 0, 0, 0, 0, 1, 0, 0, 0, 0, 0, 0, 0, 0, 0, 0, 0, 0, 0, 0, 1, 0, 0, 0, 0, 1, 0, 1, 0, 0, 0, 0]\n",
      "answer raw len:  170 1\n"
     ]
    },
    {
     "name": "stderr",
     "output_type": "stream",
     "text": [
      "171it [10:05,  3.16s/it, BLEU2=0.343, BLEU1=0.41, ExactMatch=0.0146, METEOR=0.606, BertScore=nan, StubScore=0.118]"
     ]
    },
    {
     "name": "stdout",
     "output_type": "stream",
     "text": [
      "sim raw len:  1\n",
      "False\n",
      "В тексте не упоминается, откуда были друзья автора, которые ходили с ним на концерт.\n",
      "Товарищи автора, ходившие с ним на концерт были из театрального института.\n",
      "[0, 0, 0, 0, 0, 0, 1, 0, 0, 0, 0, 0, 0, 0, 0, 0, 0, 0, 0, 0, 0, 1, 0, 0, 0, 0, 1, 0, 1, 0, 0, 0, 0, 0]\n",
      "answer raw len:  171 1\n"
     ]
    },
    {
     "name": "stderr",
     "output_type": "stream",
     "text": [
      "172it [10:09,  3.45s/it, BLEU2=0.343, BLEU1=0.41, ExactMatch=0.0146, METEOR=0.606, BertScore=nan, StubScore=0.114]"
     ]
    },
    {
     "name": "stdout",
     "output_type": "stream",
     "text": [
      "sim raw len:  1\n",
      "False\n",
      "Группа \"Машина времени\" выступила на концерте 81 года, который стал для автора определяющим.\n",
      "Концерт 81 года группы Машина времени для автора определил его жизненный путь, так как он впервые увидел людей, играющих на гитарах и поющих песни, и они олицетворяли собой некую мечту, к которой он стремился.\n",
      "[0, 0, 0, 0, 0, 0, 1, 0, 0, 0, 0, 0, 0, 0, 0, 0, 0, 0, 0, 0, 0, 1, 0, 0, 0, 0, 1, 0, 1, 0, 0, 0, 0, 0, 0]\n",
      "answer raw len:  172 1\n"
     ]
    },
    {
     "name": "stderr",
     "output_type": "stream",
     "text": [
      "173it [10:14,  3.64s/it, BLEU2=0.343, BLEU1=0.41, ExactMatch=0.0146, METEOR=0.606, BertScore=nan, StubScore=0.111]"
     ]
    },
    {
     "name": "stdout",
     "output_type": "stream",
     "text": [
      "sim raw len:  1\n",
      "False\n",
      "Ранние песни Макаревича включали \"Право, кого ты хотел удивить?\" и \"Кого ты хотел удивить?\".\n",
      "Ранние песни Макаревича были в основном чисто лирическими или шуточными.\n",
      "[0, 0, 0, 0, 0, 0, 1, 0, 0, 0, 0, 0, 0, 0, 0, 0, 0, 0, 0, 0, 0, 1, 0, 0, 0, 0, 1, 0, 1, 0, 0, 0, 0, 0, 0, 0]\n"
     ]
    },
    {
     "name": "stderr",
     "output_type": "stream",
     "text": [
      "174it [10:18,  3.83s/it, BLEU2=0.341, BLEU1=0.408, ExactMatch=0.0145, METEOR=0.605, BertScore=nan, StubScore=0.111]"
     ]
    },
    {
     "name": "stdout",
     "output_type": "stream",
     "text": [
      "answer raw len:  173 1\n",
      "True\n",
      "\"Машина времени\" ориентировалась на собственный репертуар и отличалась от других групп тем, что не исполняла англоязычные хиты, а сосредотачивалась на передаче смысла песен и стимулировании аудитории к размышлениям и обсуждениям.\n",
      "„Машина времени“ ориентировалась на собственный репертуар.\n",
      "[0, 0, 0, 0, 0, 0, 1, 0, 0, 0, 0, 0, 0, 0, 0, 0, 0, 0, 0, 0, 0, 1, 0, 0, 0, 0, 1, 0, 1, 0, 0, 0, 0, 0, 0, 0]\n",
      "answer raw len:  174 1\n"
     ]
    },
    {
     "name": "stderr",
     "output_type": "stream",
     "text": [
      "175it [10:35,  7.76s/it, BLEU2=0.341, BLEU1=0.408, ExactMatch=0.0145, METEOR=0.605, BertScore=nan, StubScore=0.135]"
     ]
    },
    {
     "name": "stdout",
     "output_type": "stream",
     "text": [
      "sim raw len:  1\n",
      "False\n",
      "Машина времени стала уникальным явлением в отечественной рок-музыке, существуя уже четыре десятилетия и развиваясь со временем. Они начали как советские \"Битлз\" и в итоге превратились в российских \"Роллинг Стоунз\", став брендом, связывающим поколения. Их дискография, наполненная множеством хитов, стала саундтреком к советской и российской истории второй половины прошлого века.\n",
      "\n",
      "Истоки группы уходят в битловскую эпоху, и их творчество всегда отличалось гуманизмом, ценностью, которую они последовательно отстаивали. Они сделали рок-культуру доступной для широкой аудитории, сосредоточившись на простых человеческих ценностях и искренних эмоциях. Их влияние на российскую рок-музыку было огромным, и они служат примером для тех, кто начинает играть рок сегодня, напоминая им о важности уважения традиций и корней.\n",
      "\"Машина времени\" стала заметным явлением на нашей эстраде благодаря своему уникальному подходу к исполнению и собственному репертуару.\n",
      "[0, 0, 0, 0, 0, 0, 1, 0, 0, 0, 0, 0, 0, 0, 0, 0, 0, 0, 0, 0, 0, 1, 0, 0, 0, 0, 1, 0, 1, 0, 0, 0, 0, 0, 0, 0, 1]\n"
     ]
    },
    {
     "name": "stderr",
     "output_type": "stream",
     "text": [
      "176it [10:37,  6.22s/it, BLEU2=0.342, BLEU1=0.408, ExactMatch=0.0144, METEOR=0.606, BertScore=nan, StubScore=0.135]"
     ]
    },
    {
     "name": "stdout",
     "output_type": "stream",
     "text": [
      "answer raw len:  175 1\n",
      "True\n",
      "\"Машина времени\" заставляла свою аудиторию задуматься, спорить и, возможно, даже переосмысливать темы, затронутые в их песнях.\n",
      "\"Машина времени\" заставляла аудиторию задуматься, и, возможно, даже поспорить.\n",
      "[0, 0, 0, 0, 0, 0, 1, 0, 0, 0, 0, 0, 0, 0, 0, 0, 0, 0, 0, 0, 0, 1, 0, 0, 0, 0, 1, 0, 1, 0, 0, 0, 0, 0, 0, 0, 1]\n"
     ]
    },
    {
     "name": "stderr",
     "output_type": "stream",
     "text": [
      "177it [10:39,  4.79s/it, BLEU2=0.339, BLEU1=0.408, ExactMatch=0.0143, METEOR=0.604, BertScore=nan, StubScore=0.135]"
     ]
    },
    {
     "name": "stdout",
     "output_type": "stream",
     "text": [
      "answer raw len:  176 1\n",
      "True\n",
      "\"Машина времени\" не исполняла англоязычные хиты.\n",
      "Ансамбль не исполнял англоязычные шлягеры.\n",
      "[0, 0, 0, 0, 0, 0, 1, 0, 0, 0, 0, 0, 0, 0, 0, 0, 0, 0, 0, 0, 0, 1, 0, 0, 0, 0, 1, 0, 1, 0, 0, 0, 0, 0, 0, 0, 1]\n",
      "answer raw len:  177 1\n"
     ]
    },
    {
     "name": "stderr",
     "output_type": "stream",
     "text": [
      "178it [10:41,  4.16s/it, BLEU2=0.339, BLEU1=0.408, ExactMatch=0.0143, METEOR=0.604, BertScore=nan, StubScore=0.132]"
     ]
    },
    {
     "name": "stdout",
     "output_type": "stream",
     "text": [
      "sim raw len:  1\n",
      "False\n",
      "[0.03]\n",
      "Группа Машина времени исполняла песни в манере фолк-рок.\n",
      "[0, 0, 0, 0, 0, 0, 1, 0, 0, 0, 0, 0, 0, 0, 0, 0, 0, 0, 0, 0, 0, 1, 0, 0, 0, 0, 1, 0, 1, 0, 0, 0, 0, 0, 0, 0, 1, 0]\n",
      "answer raw len:  178 1\n"
     ]
    },
    {
     "name": "stderr",
     "output_type": "stream",
     "text": [
      "179it [10:46,  4.41s/it, BLEU2=0.339, BLEU1=0.408, ExactMatch=0.0143, METEOR=0.604, BertScore=nan, StubScore=0.128]"
     ]
    },
    {
     "name": "stdout",
     "output_type": "stream",
     "text": [
      "sim raw len:  1\n",
      "False\n",
      "Как назывался альбом, в котором были представлены кавер-версии песен англоязычных групп и исполнителей, а также собственные песни на английском языке, написанные участниками группы?\n",
      "Максимально близкое к оригиналу воспроизведение англоязычных композиций зарубежных групп и исполнителей называлось \"фирмой\".\n",
      "[0, 0, 0, 0, 0, 0, 1, 0, 0, 0, 0, 0, 0, 0, 0, 0, 0, 0, 0, 0, 0, 1, 0, 0, 0, 0, 1, 0, 1, 0, 0, 0, 0, 0, 0, 0, 1, 0, 0]\n"
     ]
    },
    {
     "name": "stderr",
     "output_type": "stream",
     "text": [
      "180it [10:50,  4.01s/it, BLEU2=0.337, BLEU1=0.407, ExactMatch=0.0142, METEOR=0.604, BertScore=nan, StubScore=0.128]"
     ]
    },
    {
     "name": "stdout",
     "output_type": "stream",
     "text": [
      "answer raw len:  179 1\n",
      "True\n",
      "Одной из первых групп, которая начала исполнять свои собственные песни на русском языке, стала \"Машина времени\" с Андреем Макаревичем во главе.\n",
      "Группа \"Машина времени\", одной из первых, стала исполнять cвои cобcтвенные пеcни на руccком языке.\n",
      "[0, 0, 0, 0, 0, 0, 1, 0, 0, 0, 0, 0, 0, 0, 0, 0, 0, 0, 0, 0, 0, 1, 0, 0, 0, 0, 1, 0, 1, 0, 0, 0, 0, 0, 0, 0, 1, 0, 0]\n"
     ]
    },
    {
     "name": "stderr",
     "output_type": "stream",
     "text": [
      "181it [10:52,  3.64s/it, BLEU2=0.338, BLEU1=0.408, ExactMatch=0.0141, METEOR=0.604, BertScore=nan, StubScore=0.128]"
     ]
    },
    {
     "name": "stdout",
     "output_type": "stream",
     "text": [
      "answer raw len:  180 1\n",
      "True\n",
      "В середине 70-х годов технический и профессиональный уровень многих отечественных рок-музыкантов начал заметно повышаться.\n",
      "К середине 70-х общий техничеcкий и профеccиональный уровень многих отечеcтвенных рок-музыкантов начал заметно повышаться.\n",
      "[0, 0, 0, 0, 0, 0, 1, 0, 0, 0, 0, 0, 0, 0, 0, 0, 0, 0, 0, 0, 0, 1, 0, 0, 0, 0, 1, 0, 1, 0, 0, 0, 0, 0, 0, 0, 1, 0, 0]\n"
     ]
    },
    {
     "name": "stderr",
     "output_type": "stream",
     "text": [
      "182it [10:55,  3.24s/it, BLEU2=0.337, BLEU1=0.408, ExactMatch=0.014, METEOR=0.602, BertScore=nan, StubScore=0.128] "
     ]
    },
    {
     "name": "stdout",
     "output_type": "stream",
     "text": [
      "answer raw len:  181 1\n",
      "True\n",
      "Андрей Макаревич был лидером московской школы, который был близок к поэтической лирике с уклоном в символизм.\n",
      "Лидеры моcковcкой школы, такие как А. Градский или А. Макаревич, были ближе к поэтичеcкой лирике c уклоном в символизм.\n",
      "[0, 0, 0, 0, 0, 0, 1, 0, 0, 0, 0, 0, 0, 0, 0, 0, 0, 0, 0, 0, 0, 1, 0, 0, 0, 0, 1, 0, 1, 0, 0, 0, 0, 0, 0, 0, 1, 0, 0]\n",
      "answer raw len:  182 1\n"
     ]
    },
    {
     "name": "stderr",
     "output_type": "stream",
     "text": [
      "183it [11:03,  4.78s/it, BLEU2=0.337, BLEU1=0.408, ExactMatch=0.014, METEOR=0.602, BertScore=nan, StubScore=0.125]"
     ]
    },
    {
     "name": "stdout",
     "output_type": "stream",
     "text": [
      "sim raw len:  1\n",
      "False\n",
      "Инструментальный базис песен \"Машины времени\" был важен для того, чтобы донести до аудитории смысл песен и позволить слушателям задуматься и, возможно, даже поспорить. Ансамбль не исполнял англоязычные хиты и ориентировался исключительно на свой собственный репертуар, что отличало их от многих других любительских рок-групп того времени.\n",
      "Чтобы довести до сознания слушателей „текстовую“ надстройку.\n",
      "[0, 0, 0, 0, 0, 0, 1, 0, 0, 0, 0, 0, 0, 0, 0, 0, 0, 0, 0, 0, 0, 1, 0, 0, 0, 0, 1, 0, 1, 0, 0, 0, 0, 0, 0, 0, 1, 0, 0, 0]\n"
     ]
    },
    {
     "name": "stderr",
     "output_type": "stream",
     "text": [
      "184it [11:05,  3.99s/it, BLEU2=0.337, BLEU1=0.407, ExactMatch=0.0139, METEOR=0.603, BertScore=nan, StubScore=0.125]"
     ]
    },
    {
     "name": "stdout",
     "output_type": "stream",
     "text": [
      "answer raw len:  183 1\n",
      "True\n",
      "Поэтическая стихия Макаревича ближе к литературной песне (Окуджава, Н. Матвеева), чем к року.\n",
      "Поэтическая стихия Макаревича близка к литературной песне.\n",
      "[0, 0, 0, 0, 0, 0, 1, 0, 0, 0, 0, 0, 0, 0, 0, 0, 0, 0, 0, 0, 0, 1, 0, 0, 0, 0, 1, 0, 1, 0, 0, 0, 0, 0, 0, 0, 1, 0, 0, 0]\n",
      "answer raw len:  184 1\n"
     ]
    },
    {
     "name": "stderr",
     "output_type": "stream",
     "text": [
      "185it [11:23,  8.05s/it, BLEU2=0.337, BLEU1=0.407, ExactMatch=0.0139, METEOR=0.603, BertScore=nan, StubScore=0.122]"
     ]
    },
    {
     "name": "stdout",
     "output_type": "stream",
     "text": [
      "sim raw len:  1\n",
      "False\n",
      "Машина времени сыграла значительную роль в формировании российской рок-культуры и оставила неизгладимый след в отечественной истории музыки. Их музыка стала саундтреком к советской эпохе, и их песни были популярны по всей стране. Группа смогла записать новые песни и много гастролировать в период с 1981 по 1986 год, несмотря на то, что была популярной. Они также внесли свой вклад в кино и телевизионные проекты, такие как \"Скорость\", \"Тайна черных дроздов\", \"Двойной обгон\", \"Капитан Пилигрима\", \"Прорыв\" и \"Обезьянки\". В целом, музыка Машины времени сыграла ключевую роль в определении и влиянии на российскую рок-сцену.\n",
      "Музыка у Машины времени играет явно подчиненную роль.\n",
      "[0, 0, 0, 0, 0, 0, 1, 0, 0, 0, 0, 0, 0, 0, 0, 0, 0, 0, 0, 0, 0, 1, 0, 0, 0, 0, 1, 0, 1, 0, 0, 0, 0, 0, 0, 0, 1, 0, 0, 0, 0]\n"
     ]
    },
    {
     "name": "stderr",
     "output_type": "stream",
     "text": [
      "186it [11:25,  6.30s/it, BLEU2=0.336, BLEU1=0.406, ExactMatch=0.0138, METEOR=0.604, BertScore=nan, StubScore=0.122]"
     ]
    },
    {
     "name": "stdout",
     "output_type": "stream",
     "text": [
      "answer raw len:  185 1\n",
      "True\n",
      "Резкие, эмоциональные, конкретные стихи В. Высоцкого соответствуют ритму и темпу рок-музыки.\n",
      "Стихи В. Высоцкого соответствуют рок-музыке.\n",
      "[0, 0, 0, 0, 0, 0, 1, 0, 0, 0, 0, 0, 0, 0, 0, 0, 0, 0, 0, 0, 0, 1, 0, 0, 0, 0, 1, 0, 1, 0, 0, 0, 0, 0, 0, 0, 1, 0, 0, 0, 0]\n",
      "answer raw len:  186 1\n"
     ]
    },
    {
     "name": "stderr",
     "output_type": "stream",
     "text": [
      "187it [11:27,  4.97s/it, BLEU2=0.336, BLEU1=0.406, ExactMatch=0.0138, METEOR=0.604, BertScore=nan, StubScore=0.143]"
     ]
    },
    {
     "name": "stdout",
     "output_type": "stream",
     "text": [
      "sim raw len:  1\n",
      "False\n",
      "У меня нет ответа на ваш вопрос.\n",
      "Музыкальная стихия \"Машины времени\" - не чистый рок, а некая смесь рока, кантри, \"городских романсов\" и даже традиционной, образца \"Самоцветов\", ВИА-эстрады.\n",
      "[0, 0, 0, 0, 0, 0, 1, 0, 0, 0, 0, 0, 0, 0, 0, 0, 0, 0, 0, 0, 0, 1, 0, 0, 0, 0, 1, 0, 1, 0, 0, 0, 0, 0, 0, 0, 1, 0, 0, 0, 0, 1]\n",
      "answer raw len:  187 1\n"
     ]
    },
    {
     "name": "stderr",
     "output_type": "stream",
     "text": [
      "188it [11:38,  6.90s/it, BLEU2=0.336, BLEU1=0.406, ExactMatch=0.0138, METEOR=0.604, BertScore=nan, StubScore=0.14] "
     ]
    },
    {
     "name": "stdout",
     "output_type": "stream",
     "text": [
      "sim raw len:  1\n",
      "False\n",
      "К сегодняшнему дню Макар и его товарищи превратились в отдельных музыкантов и артистов, которые продолжают свою карьеру в музыкальной индустрии. Андрей Макаревич, лидер группы, в основном занимается сольной карьерой, а также является лидером группы \"Макар\". Другие участники, такие как Александр Кутиков, Алексей Романов, Сергей Кавагоэ, Валерий Енин, Сергей Савин, Сергей Северин, Александр Бутузов, Сергей Короткин и Владимир Заборовский, также занимаются своими собственными музыкальными проектами и карьерами.\n",
      "Макар с товарищами к сегодняшнему дню превратились в российских „роллингов“.\n",
      "[0, 0, 0, 0, 0, 0, 1, 0, 0, 0, 0, 0, 0, 0, 0, 0, 0, 0, 0, 0, 0, 1, 0, 0, 0, 0, 1, 0, 1, 0, 0, 0, 0, 0, 0, 0, 1, 0, 0, 0, 0, 1, 0]\n",
      "answer raw len:  188 1\n"
     ]
    },
    {
     "name": "stderr",
     "output_type": "stream",
     "text": [
      "189it [11:49,  8.10s/it, BLEU2=0.336, BLEU1=0.406, ExactMatch=0.0138, METEOR=0.604, BertScore=nan, StubScore=0.136]"
     ]
    },
    {
     "name": "stdout",
     "output_type": "stream",
     "text": [
      "sim raw len:  1\n",
      "False\n",
      "Машина времени начиналась как любительская группа в Москве в 1971 году. Состав группы был нестабильным, и в первые годы в ней было несколько участников, включая Андрея Макаревича, Сергея Кавагоэ, Александра Кутикова, Михаила Капитановского и Юрия Борзова. Группа выступала в бит-клубе и на различных мероприятиях, таких как фестиваль Таллинские песни молодежи в 1976 году.\n",
      "Деятельность участники группы Машина времени начинали как советские „битлы“.\n",
      "[0, 0, 0, 0, 0, 0, 1, 0, 0, 0, 0, 0, 0, 0, 0, 0, 0, 0, 0, 0, 0, 1, 0, 0, 0, 0, 1, 0, 1, 0, 0, 0, 0, 0, 0, 0, 1, 0, 0, 0, 0, 1, 0, 0]\n"
     ]
    },
    {
     "name": "stderr",
     "output_type": "stream",
     "text": [
      "190it [11:51,  6.27s/it, BLEU2=0.334, BLEU1=0.404, ExactMatch=0.0137, METEOR=0.602, BertScore=nan, StubScore=0.136]"
     ]
    },
    {
     "name": "stdout",
     "output_type": "stream",
     "text": [
      "answer raw len:  189 1\n",
      "True\n",
      "\"Время\" - это телевизионная программа, которая является ровесником группы \"Машина времени\".\n",
      "Телепрограмма „Время“ ровесница группы Машина времени.\n",
      "[0, 0, 0, 0, 0, 0, 1, 0, 0, 0, 0, 0, 0, 0, 0, 0, 0, 0, 0, 0, 0, 1, 0, 0, 0, 0, 1, 0, 1, 0, 0, 0, 0, 0, 0, 0, 1, 0, 0, 0, 0, 1, 0, 0]\n",
      "answer raw len:  190 1\n"
     ]
    },
    {
     "name": "stderr",
     "output_type": "stream",
     "text": [
      "191it [12:00,  7.13s/it, BLEU2=0.334, BLEU1=0.404, ExactMatch=0.0137, METEOR=0.602, BertScore=nan, StubScore=0.133]"
     ]
    },
    {
     "name": "stdout",
     "output_type": "stream",
     "text": [
      "sim raw len:  1\n",
      "False\n",
      "Группа \"Машина времени\" была создана в 1972 году. Чтобы рассчитать количество лет с момента образования группы до настоящего времени, вычтите год образования из текущего года:\n",
      "\n",
      "2022 (текущий год) - 1972 (год образования) = 50 лет\n",
      "\n",
      "Группа \"Машина времени\" существует уже 50 лет.\n",
      "Группе Машина времени четыре десятилетия.\n",
      "[0, 0, 0, 0, 0, 0, 1, 0, 0, 0, 0, 0, 0, 0, 0, 0, 0, 0, 0, 0, 0, 1, 0, 0, 0, 0, 1, 0, 1, 0, 0, 0, 0, 0, 0, 0, 1, 0, 0, 0, 0, 1, 0, 0, 0]\n",
      "answer raw len:  191 1\n"
     ]
    },
    {
     "name": "stderr",
     "output_type": "stream",
     "text": [
      "192it [12:05,  6.45s/it, BLEU2=0.334, BLEU1=0.404, ExactMatch=0.0137, METEOR=0.602, BertScore=nan, StubScore=0.13] "
     ]
    },
    {
     "name": "stdout",
     "output_type": "stream",
     "text": [
      "sim raw len:  1\n",
      "False\n",
      "В 1969 году группа записала альбом Time Machines, состоящий из одиннадцати англоязычных песен, написанных участниками группы.\n",
      "Дискография и хиты группы \"Машина времени\" стали саундтреком к советско-российской истории второй половины прошлого века.\n",
      "[0, 0, 0, 0, 0, 0, 1, 0, 0, 0, 0, 0, 0, 0, 0, 0, 0, 0, 0, 0, 0, 1, 0, 0, 0, 0, 1, 0, 1, 0, 0, 0, 0, 0, 0, 0, 1, 0, 0, 0, 0, 1, 0, 0, 0, 0]\n"
     ]
    },
    {
     "name": "stderr",
     "output_type": "stream",
     "text": [
      "193it [12:08,  5.26s/it, BLEU2=0.335, BLEU1=0.405, ExactMatch=0.0136, METEOR=0.604, BertScore=nan, StubScore=0.13]"
     ]
    },
    {
     "name": "stdout",
     "output_type": "stream",
     "text": [
      "answer raw len:  192 1\n",
      "True\n",
      "В течение более полугода, с 23 марта по 23 сентября, вся Россия облекается в белый цвет снежного покрова.\n",
      "В течение более полугода вся Россия облекается в белый цвет снежного савана.\n",
      "[0, 0, 0, 0, 0, 0, 1, 0, 0, 0, 0, 0, 0, 0, 0, 0, 0, 0, 0, 0, 0, 1, 0, 0, 0, 0, 1, 0, 1, 0, 0, 0, 0, 0, 0, 0, 1, 0, 0, 0, 0, 1, 0, 0, 0, 0]\n"
     ]
    },
    {
     "name": "stderr",
     "output_type": "stream",
     "text": [
      "194it [12:10,  4.52s/it, BLEU2=0.337, BLEU1=0.407, ExactMatch=0.0135, METEOR=0.604, BertScore=nan, StubScore=0.13]"
     ]
    },
    {
     "name": "stdout",
     "output_type": "stream",
     "text": [
      "answer raw len:  193 1\n",
      "True\n",
      "Особое совещание под председательством К. Н. Посьета в 1896 году обсуждало вопрос о создании российского национального флага.\n",
      "Особое совещание под председательством К. Н. Посьета в 1896 году было для обсуждения вопроса о российском национальном флаге.\n",
      "[0, 0, 0, 0, 0, 0, 1, 0, 0, 0, 0, 0, 0, 0, 0, 0, 0, 0, 0, 0, 0, 1, 0, 0, 0, 0, 1, 0, 1, 0, 0, 0, 0, 0, 0, 0, 1, 0, 0, 0, 0, 1, 0, 0, 0, 0]\n"
     ]
    },
    {
     "name": "stderr",
     "output_type": "stream",
     "text": [
      "195it [12:12,  3.56s/it, BLEU2=0.334, BLEU1=0.404, ExactMatch=0.0134, METEOR=0.601, BertScore=nan, StubScore=0.13]"
     ]
    },
    {
     "name": "stdout",
     "output_type": "stream",
     "text": [
      "answer raw len:  194 1\n",
      "True\n",
      "[0.16] Белый цвет ассоциируется с уважением в народе.\n",
      "Исходя из поговорок видно уважение народа к белому цвету.\n",
      "[0, 0, 0, 0, 0, 0, 1, 0, 0, 0, 0, 0, 0, 0, 0, 0, 0, 0, 0, 0, 0, 1, 0, 0, 0, 0, 1, 0, 1, 0, 0, 0, 0, 0, 0, 0, 1, 0, 0, 0, 0, 1, 0, 0, 0, 0]\n"
     ]
    },
    {
     "name": "stderr",
     "output_type": "stream",
     "text": [
      "196it [12:13,  3.01s/it, BLEU2=0.334, BLEU1=0.404, ExactMatch=0.0133, METEOR=0.601, BertScore=nan, StubScore=0.13]"
     ]
    },
    {
     "name": "stdout",
     "output_type": "stream",
     "text": [
      "answer raw len:  195 1\n",
      "True\n",
      "Цвета, необходимые для эмблематического представления внешнего вида России, - белый, синий и красный.\n",
      "Для эмблематического выражения наружного вида России необходимо употребить цвета: белый, синий и красный.\n",
      "[0, 0, 0, 0, 0, 0, 1, 0, 0, 0, 0, 0, 0, 0, 0, 0, 0, 0, 0, 0, 0, 1, 0, 0, 0, 0, 1, 0, 1, 0, 0, 0, 0, 0, 0, 0, 1, 0, 0, 0, 0, 1, 0, 0, 0, 0]\n"
     ]
    },
    {
     "name": "stderr",
     "output_type": "stream",
     "text": [
      "197it [12:18,  3.37s/it, BLEU2=0.332, BLEU1=0.402, ExactMatch=0.0132, METEOR=0.598, BertScore=nan, StubScore=0.13]"
     ]
    },
    {
     "name": "stdout",
     "output_type": "stream",
     "text": [
      "answer raw len:  196 1\n",
      "True\n",
      "Какой цвет был определен в качестве эмблематического выражения внешнего вида России на основе уважения народа к белому цвету и других факторов, как это было решено на Особом совещании под председательством К. Н. Посьета в 1896 году?\n",
      "Белый цвет снежного савана, в который вся Россия облекается в течение более полугода.\n",
      "[0, 0, 0, 0, 0, 0, 1, 0, 0, 0, 0, 0, 0, 0, 0, 0, 0, 0, 0, 0, 0, 1, 0, 0, 0, 0, 1, 0, 1, 0, 0, 0, 0, 0, 0, 0, 1, 0, 0, 0, 0, 1, 0, 0, 0, 0]\n",
      "answer raw len:  197 1\n"
     ]
    },
    {
     "name": "stderr",
     "output_type": "stream",
     "text": [
      "198it [12:22,  3.58s/it, BLEU2=0.332, BLEU1=0.402, ExactMatch=0.0132, METEOR=0.598, BertScore=nan, StubScore=0.128]"
     ]
    },
    {
     "name": "stdout",
     "output_type": "stream",
     "text": [
      "sim raw len:  1\n",
      "False\n",
      "Людские души естественным образом тянутся к пути, присущему их материальной природе, и идут противно их духовной природе.\n",
      "К простому человеческому добру и платят долгой и искренней памятью его носителям.\n",
      "[0, 0, 0, 0, 0, 0, 1, 0, 0, 0, 0, 0, 0, 0, 0, 0, 0, 0, 0, 0, 0, 1, 0, 0, 0, 0, 1, 0, 1, 0, 0, 0, 0, 0, 0, 0, 1, 0, 0, 0, 0, 1, 0, 0, 0, 0, 0]\n",
      "answer raw len:  198 1\n"
     ]
    },
    {
     "name": "stderr",
     "output_type": "stream",
     "text": [
      "199it [12:24,  3.07s/it, BLEU2=0.332, BLEU1=0.402, ExactMatch=0.0132, METEOR=0.598, BertScore=nan, StubScore=0.146]"
     ]
    },
    {
     "name": "stdout",
     "output_type": "stream",
     "text": [
      "sim raw len:  1\n",
      "False\n",
      "У меня нет ответа на ваш вопрос.\n",
      "Песня А. Макаревича о непостоянстве называется \" Я с детства склонен к перемене мест\".\n",
      "[0, 0, 0, 0, 0, 0, 1, 0, 0, 0, 0, 0, 0, 0, 0, 0, 0, 0, 0, 0, 0, 1, 0, 0, 0, 0, 1, 0, 1, 0, 0, 0, 0, 0, 0, 0, 1, 0, 0, 0, 0, 1, 0, 0, 0, 0, 0, 1]\n"
     ]
    },
    {
     "name": "stderr",
     "output_type": "stream",
     "text": [
      "200it [12:27,  3.21s/it, BLEU2=0.331, BLEU1=0.401, ExactMatch=0.0132, METEOR=0.599, BertScore=nan, StubScore=0.146]"
     ]
    },
    {
     "name": "stdout",
     "output_type": "stream",
     "text": [
      "answer raw len:  199 1\n",
      "True\n",
      "Леннон и Маккартни привнесли гуманистическое искусство в рок-культуру, которое было отмечено экспериментами, новаторством и приверженностью принципам, таким как доброта и искренность.\n",
      "Леннон и Маккартни привнесли в рок-культуру гуманистическое искусство.\n",
      "[0, 0, 0, 0, 0, 0, 1, 0, 0, 0, 0, 0, 0, 0, 0, 0, 0, 0, 0, 0, 0, 1, 0, 0, 0, 0, 1, 0, 1, 0, 0, 0, 0, 0, 0, 0, 1, 0, 0, 0, 0, 1, 0, 0, 0, 0, 0, 1]\n"
     ]
    },
    {
     "name": "stderr",
     "output_type": "stream",
     "text": [
      "201it [12:28,  2.57s/it, BLEU2=0.329, BLEU1=0.399, ExactMatch=0.0131, METEOR=0.595, BertScore=nan, StubScore=0.146]"
     ]
    },
    {
     "name": "stdout",
     "output_type": "stream",
     "text": [
      "answer raw len:  200 1\n",
      "True\n",
      "[0.09] Гуманизм.\n",
      "Музыкальное наследие „Машины времени“ привержено до сих пор гуманизму.\n",
      "[0, 0, 0, 0, 0, 0, 1, 0, 0, 0, 0, 0, 0, 0, 0, 0, 0, 0, 0, 0, 0, 1, 0, 0, 0, 0, 1, 0, 1, 0, 0, 0, 0, 0, 0, 0, 1, 0, 0, 0, 0, 1, 0, 0, 0, 0, 0, 1]\n"
     ]
    },
    {
     "name": "stderr",
     "output_type": "stream",
     "text": [
      "202it [12:38,  4.71s/it, BLEU2=0.327, BLEU1=0.397, ExactMatch=0.013, METEOR=0.592, BertScore=nan, StubScore=0.146] "
     ]
    },
    {
     "name": "stdout",
     "output_type": "stream",
     "text": [
      "answer raw len:  201 1\n",
      "True\n",
      "\"Машина времени\" была возведена на пьедестал как \"неприкасаемая\" группа в нашей рок-культуре благодаря интеграции гуманистического искусства. Они были первыми, кто последовательно интегрировал принципы гуманизма в рок-культуру, обеспечивая себе бессмертие и порождая благодарных последователей. Их подход, ориентированный на собственный репертуар, отличал их от других любительских рок-групп того времени, и они стремились донести до аудитории смысл песен, побуждая их думать и спорить.\n",
      "На „неприкасаемый“ пьедестал возвела „Машину времени“ интеграция в нашу рок-культуру гумманистического искусства.\n",
      "[0, 0, 0, 0, 0, 0, 1, 0, 0, 0, 0, 0, 0, 0, 0, 0, 0, 0, 0, 0, 0, 1, 0, 0, 0, 0, 1, 0, 1, 0, 0, 0, 0, 0, 0, 0, 1, 0, 0, 0, 0, 1, 0, 0, 0, 0, 0, 1]\n"
     ]
    },
    {
     "name": "stderr",
     "output_type": "stream",
     "text": [
      "203it [12:40,  3.95s/it, BLEU2=0.328, BLEU1=0.397, ExactMatch=0.0129, METEOR=0.593, BertScore=nan, StubScore=0.146]"
     ]
    },
    {
     "name": "stdout",
     "output_type": "stream",
     "text": [
      "answer raw len:  202 1\n",
      "True\n",
      "Телесериал, основанный на фильмах о Шерлоке Холмсе, был снят в 2000 году.\n",
      "Телесериал по мотивам фильма о Шерлоке Холмсе снят в 2000 году.\n",
      "[0, 0, 0, 0, 0, 0, 1, 0, 0, 0, 0, 0, 0, 0, 0, 0, 0, 0, 0, 0, 0, 1, 0, 0, 0, 0, 1, 0, 1, 0, 0, 0, 0, 0, 0, 0, 1, 0, 0, 0, 0, 1, 0, 0, 0, 0, 0, 1]\n"
     ]
    },
    {
     "name": "stderr",
     "output_type": "stream",
     "text": [
      "204it [12:42,  3.41s/it, BLEU2=0.329, BLEU1=0.399, ExactMatch=0.0128, METEOR=0.595, BertScore=nan, StubScore=0.146]"
     ]
    },
    {
     "name": "stdout",
     "output_type": "stream",
     "text": [
      "answer raw len:  203 1\n",
      "True\n",
      "Василий Ливанов был награжден Орденом Британской империи за роли в фильмах о Шерлоке Холмсе.\n",
      "Василий Ливанов за роли в фильмах о Шерлоке Холмсе отмечен орденом Британской империи.\n",
      "[0, 0, 0, 0, 0, 0, 1, 0, 0, 0, 0, 0, 0, 0, 0, 0, 0, 0, 0, 0, 0, 1, 0, 0, 0, 0, 1, 0, 1, 0, 0, 0, 0, 0, 0, 0, 1, 0, 0, 0, 0, 1, 0, 0, 0, 0, 0, 1]\n"
     ]
    },
    {
     "name": "stderr",
     "output_type": "stream",
     "text": [
      "205it [12:45,  3.16s/it, BLEU2=0.329, BLEU1=0.399, ExactMatch=0.0127, METEOR=0.595, BertScore=nan, StubScore=0.146]"
     ]
    },
    {
     "name": "stdout",
     "output_type": "stream",
     "text": [
      "answer raw len:  204 1\n",
      "True\n",
      "Название телесериала, основанного на фильмах о Шерлоке Холмсе, - \"Воспоминания о Шерлоке Холмсе\".\n",
      "Телесериал, снятый по мотивам фильма о Шерлоке Холмсе носит название \"Воспоминания о Шерлоке Холмсе\".\n",
      "[0, 0, 0, 0, 0, 0, 1, 0, 0, 0, 0, 0, 0, 0, 0, 0, 0, 0, 0, 0, 0, 1, 0, 0, 0, 0, 1, 0, 1, 0, 0, 0, 0, 0, 0, 0, 1, 0, 0, 0, 0, 1, 0, 0, 0, 0, 0, 1]\n"
     ]
    },
    {
     "name": "stderr",
     "output_type": "stream",
     "text": [
      "206it [12:47,  2.79s/it, BLEU2=0.329, BLEU1=0.399, ExactMatch=0.0127, METEOR=0.595, BertScore=nan, StubScore=0.146]"
     ]
    },
    {
     "name": "stdout",
     "output_type": "stream",
     "text": [
      "answer raw len:  205 1\n",
      "True\n",
      "Василий Ливанов был награжден Орденом Британской империи 23 февраля 2006 года.\n",
      "Василий Ливанов награждён орденом Британской империи за роли в фильмах о Шерлоке Холмсе 23 февраля 2006 года.\n",
      "[0, 0, 0, 0, 0, 0, 1, 0, 0, 0, 0, 0, 0, 0, 0, 0, 0, 0, 0, 0, 0, 1, 0, 0, 0, 0, 1, 0, 1, 0, 0, 0, 0, 0, 0, 0, 1, 0, 0, 0, 0, 1, 0, 0, 0, 0, 0, 1]\n"
     ]
    },
    {
     "name": "stderr",
     "output_type": "stream",
     "text": [
      "207it [12:48,  2.44s/it, BLEU2=0.331, BLEU1=0.402, ExactMatch=0.0126, METEOR=0.598, BertScore=nan, StubScore=0.146]"
     ]
    },
    {
     "name": "stdout",
     "output_type": "stream",
     "text": [
      "answer raw len:  206 1\n",
      "True\n",
      "В советских фильмах о Шерлоке Холмсе главные роли исполнили Василий Ливанов и Виталий Соломин.\n",
      "Василий Ливанов и Виталий Соломин исполнили главные роли в советских фильмах о Шерлоке Холмсе.\n",
      "[0, 0, 0, 0, 0, 0, 1, 0, 0, 0, 0, 0, 0, 0, 0, 0, 0, 0, 0, 0, 0, 1, 0, 0, 0, 0, 1, 0, 1, 0, 0, 0, 0, 0, 0, 0, 1, 0, 0, 0, 0, 1, 0, 0, 0, 0, 0, 1]\n"
     ]
    },
    {
     "name": "stderr",
     "output_type": "stream",
     "text": [
      "208it [12:58,  4.54s/it, BLEU2=0.329, BLEU1=0.4, ExactMatch=0.0125, METEOR=0.596, BertScore=nan, StubScore=0.146]  "
     ]
    },
    {
     "name": "stdout",
     "output_type": "stream",
     "text": [
      "answer raw len:  207 1\n",
      "True\n",
      "В тексте упоминаются внутренние части кратеров Эндимион, Юлий Цезарь, Витрувий, Питат, Гиппас, Тарутий, Теофил, Паррот, Флемстид, Архимед, Птолемей, Аристид, Вихман, Кеплер, Укерт, Эвклид, Прокл, Гиппарх, Местинг А, Мерсенн и Аристарх.\n",
      "Внутренние части и центральный пик кратера Аристарх.\n",
      "[0, 0, 0, 0, 0, 0, 1, 0, 0, 0, 0, 0, 0, 0, 0, 0, 0, 0, 0, 0, 0, 1, 0, 0, 0, 0, 1, 0, 1, 0, 0, 0, 0, 0, 0, 0, 1, 0, 0, 0, 0, 1, 0, 0, 0, 0, 0, 1]\n"
     ]
    },
    {
     "name": "stderr",
     "output_type": "stream",
     "text": [
      "209it [13:00,  3.80s/it, BLEU2=0.329, BLEU1=0.399, ExactMatch=0.0124, METEOR=0.597, BertScore=nan, StubScore=0.146]"
     ]
    },
    {
     "name": "stdout",
     "output_type": "stream",
     "text": [
      "answer raw len:  208 1\n",
      "True\n",
      "Часть кратера Архимед, упомянутая в тексте под 3½°, - это его внутренние части.\n",
      "Внутренняя часть кратера Архимед упоминается в тексте под 3½°.\n",
      "[0, 0, 0, 0, 0, 0, 1, 0, 0, 0, 0, 0, 0, 0, 0, 0, 0, 0, 0, 0, 0, 1, 0, 0, 0, 0, 1, 0, 1, 0, 0, 0, 0, 0, 0, 0, 1, 0, 0, 0, 0, 1, 0, 0, 0, 0, 0, 1]\n"
     ]
    },
    {
     "name": "stderr",
     "output_type": "stream",
     "text": [
      "210it [13:03,  3.50s/it, BLEU2=0.33, BLEU1=0.4, ExactMatch=0.0123, METEOR=0.599, BertScore=nan, StubScore=0.146]   "
     ]
    },
    {
     "name": "stdout",
     "output_type": "stream",
     "text": [
      "answer raw len:  209 1\n",
      "True\n",
      "Пик, упомянутый в тексте вместе с кратерами Теэтет и Зонгрен, - это пик Ла-Гира.\n",
      "Ла-Гира упоминается в тексте вместе с кратерами Теэтет и Зонгрен.\n",
      "[0, 0, 0, 0, 0, 0, 1, 0, 0, 0, 0, 0, 0, 0, 0, 0, 0, 0, 0, 0, 0, 1, 0, 0, 0, 0, 1, 0, 1, 0, 0, 0, 0, 0, 0, 0, 1, 0, 0, 0, 0, 1, 0, 0, 0, 0, 0, 1]\n"
     ]
    },
    {
     "name": "stderr",
     "output_type": "stream",
     "text": [
      "211it [13:05,  3.30s/it, BLEU2=0.33, BLEU1=0.4, ExactMatch=0.0123, METEOR=0.599, BertScore=nan, StubScore=0.146]"
     ]
    },
    {
     "name": "stdout",
     "output_type": "stream",
     "text": [
      "answer raw len:  210 1\n",
      "True\n",
      "Второй кратер, упомянутый в тексте вместе с кратером Гримальди, - это кратер Риччиоли.\n",
      "Риччоли упоминается в тексте вместе с кратером Гримальди.\n",
      "[0, 0, 0, 0, 0, 0, 1, 0, 0, 0, 0, 0, 0, 0, 0, 0, 0, 0, 0, 0, 0, 1, 0, 0, 0, 0, 1, 0, 1, 0, 0, 0, 0, 0, 0, 0, 1, 0, 0, 0, 0, 1, 0, 0, 0, 0, 0, 1]\n"
     ]
    },
    {
     "name": "stderr",
     "output_type": "stream",
     "text": [
      "212it [13:08,  3.07s/it, BLEU2=0.329, BLEU1=0.399, ExactMatch=0.0122, METEOR=0.599, BertScore=nan, StubScore=0.146]"
     ]
    },
    {
     "name": "stdout",
     "output_type": "stream",
     "text": [
      "answer raw len:  211 1\n",
      "True\n",
      "В тексте с оценкой 4.5° упоминаются поверхности вокруг кратеров Аристилл, Центральный бассейн и Коперник.\n",
      "Поверхность вокруг кратеров Аристилл, Центрального залива.\n",
      "[0, 0, 0, 0, 0, 0, 1, 0, 0, 0, 0, 0, 0, 0, 0, 0, 0, 0, 0, 0, 0, 1, 0, 0, 0, 0, 1, 0, 1, 0, 0, 0, 0, 0, 0, 0, 1, 0, 0, 0, 0, 1, 0, 0, 0, 0, 0, 1]\n"
     ]
    },
    {
     "name": "stderr",
     "output_type": "stream",
     "text": [
      "213it [13:09,  2.42s/it, BLEU2=0.328, BLEU1=0.397, ExactMatch=0.0121, METEOR=0.597, BertScore=nan, StubScore=0.146]"
     ]
    },
    {
     "name": "stdout",
     "output_type": "stream",
     "text": [
      "answer raw len:  212 1\n",
      "True\n",
      "1 апреля 1778 года\n",
      "Ла Файет присоединился 1 апреля 1778 года к главным силам Вашингтона.\n",
      "[0, 0, 0, 0, 0, 0, 1, 0, 0, 0, 0, 0, 0, 0, 0, 0, 0, 0, 0, 0, 0, 1, 0, 0, 0, 0, 1, 0, 1, 0, 0, 0, 0, 0, 0, 0, 1, 0, 0, 0, 0, 1, 0, 0, 0, 0, 0, 1]\n"
     ]
    },
    {
     "name": "stderr",
     "output_type": "stream",
     "text": [
      "214it [13:10,  1.96s/it, BLEU2=0.326, BLEU1=0.395, ExactMatch=0.012, METEOR=0.594, BertScore=nan, StubScore=0.146] "
     ]
    },
    {
     "name": "stdout",
     "output_type": "stream",
     "text": [
      "answer raw len:  213 1\n",
      "True\n",
      "1 апреля 1778 года\n",
      "Ла Файет присоединился в Вэлли-Фодж к главным силам Вашингтона.\n",
      "[0, 0, 0, 0, 0, 0, 1, 0, 0, 0, 0, 0, 0, 0, 0, 0, 0, 0, 0, 0, 0, 1, 0, 0, 0, 0, 1, 0, 1, 0, 0, 0, 0, 0, 0, 0, 1, 0, 0, 0, 0, 1, 0, 0, 0, 0, 0, 1]\n"
     ]
    },
    {
     "name": "stderr",
     "output_type": "stream",
     "text": [
      "215it [13:11,  1.69s/it, BLEU2=0.324, BLEU1=0.393, ExactMatch=0.012, METEOR=0.592, BertScore=nan, StubScore=0.146]"
     ]
    },
    {
     "name": "stdout",
     "output_type": "stream",
     "text": [
      "answer raw len:  214 1\n",
      "True\n",
      "18 мая 1778 года.\n",
      "18 мая 1778 года Вашингтон доверил Ла Файету руководство операцией, имевшей целью провести разведку боем в районе Филадельфии\n",
      "[0, 0, 0, 0, 0, 0, 1, 0, 0, 0, 0, 0, 0, 0, 0, 0, 0, 0, 0, 0, 0, 1, 0, 0, 0, 0, 1, 0, 1, 0, 0, 0, 0, 0, 0, 0, 1, 0, 0, 0, 0, 1, 0, 0, 0, 0, 0, 1]\n"
     ]
    },
    {
     "name": "stderr",
     "output_type": "stream",
     "text": [
      "216it [13:12,  1.45s/it, BLEU2=0.322, BLEU1=0.39, ExactMatch=0.0119, METEOR=0.589, BertScore=nan, StubScore=0.146]"
     ]
    },
    {
     "name": "stdout",
     "output_type": "stream",
     "text": [
      "answer raw len:  215 1\n",
      "True\n",
      "У меня нет ответа на ваш вопрос.\n",
      "Генерал Потер опоздал к назначенному сроку.\n",
      "[0, 0, 0, 0, 0, 0, 1, 0, 0, 0, 0, 0, 0, 0, 0, 0, 0, 0, 0, 0, 0, 1, 0, 0, 0, 0, 1, 0, 1, 0, 0, 0, 0, 0, 0, 0, 1, 0, 0, 0, 0, 1, 0, 0, 0, 0, 0, 1]\n"
     ]
    },
    {
     "name": "stderr",
     "output_type": "stream",
     "text": [
      "217it [13:13,  1.54s/it, BLEU2=0.321, BLEU1=0.39, ExactMatch=0.0118, METEOR=0.588, BertScore=nan, StubScore=0.146]"
     ]
    },
    {
     "name": "stdout",
     "output_type": "stream",
     "text": [
      "answer raw len:  216 1\n",
      "True\n",
      "20 мая в дивизии Лафайета было 3 500 человек.\n",
      "2500 человек при 5 орудиях было в дивизии Ла Файета 20 мая.\n",
      "[0, 0, 0, 0, 0, 0, 1, 0, 0, 0, 0, 0, 0, 0, 0, 0, 0, 0, 0, 0, 0, 1, 0, 0, 0, 0, 1, 0, 1, 0, 0, 0, 0, 0, 0, 0, 1, 0, 0, 0, 0, 1, 0, 0, 0, 0, 0, 1]\n"
     ]
    },
    {
     "name": "stderr",
     "output_type": "stream",
     "text": [
      "218it [13:15,  1.63s/it, BLEU2=0.322, BLEU1=0.39, ExactMatch=0.0118, METEOR=0.589, BertScore=nan, StubScore=0.146]"
     ]
    },
    {
     "name": "stdout",
     "output_type": "stream",
     "text": [
      "answer raw len:  217 1\n",
      "True\n",
      "1 июля 2014 года городская газета Северодвинска \"Северный рабочий\" объявила конкурс на создание флага и герба города.\n",
      "Газета Северный рабочий в 2014 году объявила состязание на создание флага и герба города.\n",
      "[0, 0, 0, 0, 0, 0, 1, 0, 0, 0, 0, 0, 0, 0, 0, 0, 0, 0, 0, 0, 0, 1, 0, 0, 0, 0, 1, 0, 1, 0, 0, 0, 0, 0, 0, 0, 1, 0, 0, 0, 0, 1, 0, 0, 0, 0, 0, 1]\n"
     ]
    },
    {
     "name": "stderr",
     "output_type": "stream",
     "text": [
      "219it [13:18,  1.95s/it, BLEU2=0.322, BLEU1=0.39, ExactMatch=0.0117, METEOR=0.59, BertScore=nan, StubScore=0.146] "
     ]
    },
    {
     "name": "stdout",
     "output_type": "stream",
     "text": [
      "answer raw len:  218 1\n",
      "True\n",
      "Комиссия, принимающая идеи для создания флага и герба города Северодвинска в 2014 году, была создана городским управлением культуры и общественных связей.\n",
      "Комиссия была создана городским управлением культуры и общественных связей.\n",
      "[0, 0, 0, 0, 0, 0, 1, 0, 0, 0, 0, 0, 0, 0, 0, 0, 0, 0, 0, 0, 0, 1, 0, 0, 0, 0, 1, 0, 1, 0, 0, 0, 0, 0, 0, 0, 1, 0, 0, 0, 0, 1, 0, 0, 0, 0, 0, 1]\n"
     ]
    },
    {
     "name": "stderr",
     "output_type": "stream",
     "text": [
      "220it [13:21,  2.11s/it, BLEU2=0.322, BLEU1=0.391, ExactMatch=0.0116, METEOR=0.591, BertScore=nan, StubScore=0.146]"
     ]
    },
    {
     "name": "stdout",
     "output_type": "stream",
     "text": [
      "answer raw len:  219 1\n",
      "True\n",
      "Решение о проведении конкурса на создание герба и флага города Северодвинска было принято депутатами города во время их последней сессии перед летними каникулами в 2014 году.\n",
      "Решение об организации конкурса по созданию герба и флага города Северодвинска в 2014 году было принято депутатами Северодвинска.\n",
      "[0, 0, 0, 0, 0, 0, 1, 0, 0, 0, 0, 0, 0, 0, 0, 0, 0, 0, 0, 0, 0, 1, 0, 0, 0, 0, 1, 0, 1, 0, 0, 0, 0, 0, 0, 0, 1, 0, 0, 0, 0, 1, 0, 0, 0, 0, 0, 1]\n"
     ]
    },
    {
     "name": "stderr",
     "output_type": "stream",
     "text": [
      "221it [13:22,  1.84s/it, BLEU2=0.321, BLEU1=0.39, ExactMatch=0.0116, METEOR=0.589, BertScore=nan, StubScore=0.146] "
     ]
    },
    {
     "name": "stdout",
     "output_type": "stream",
     "text": [
      "answer raw len:  220 1\n",
      "True\n",
      "Когда был объявлен конкурс на создание герба и флага города Северодвинска?\n",
      "Конкурс по созданию герба и флага города Северодвинска проходил с 14 июля по 14 октября 2014 года.\n",
      "[0, 0, 0, 0, 0, 0, 1, 0, 0, 0, 0, 0, 0, 0, 0, 0, 0, 0, 0, 0, 0, 1, 0, 0, 0, 0, 1, 0, 1, 0, 0, 0, 0, 0, 0, 0, 1, 0, 0, 0, 0, 1, 0, 0, 0, 0, 0, 1]\n"
     ]
    },
    {
     "name": "stderr",
     "output_type": "stream",
     "text": [
      "222it [13:26,  2.58s/it, BLEU2=0.321, BLEU1=0.39, ExactMatch=0.0115, METEOR=0.59, BertScore=nan, StubScore=0.146] "
     ]
    },
    {
     "name": "stdout",
     "output_type": "stream",
     "text": [
      "answer raw len:  221 1\n",
      "True\n",
      "В 2014 году в Северодвинске было проведено состязание по созданию герба и флага. Соревнование было организовано городским управлением культуры и общественных связей, и в нем могли принять участие как отдельные авторы, так и коллективы.\n",
      "В конкурсе по созданию герба и флага Северодвинска в 2014 году приняли участие как отдельные творцы, так и коллективы.\n",
      "[0, 0, 0, 0, 0, 0, 1, 0, 0, 0, 0, 0, 0, 0, 0, 0, 0, 0, 0, 0, 0, 1, 0, 0, 0, 0, 1, 0, 1, 0, 0, 0, 0, 0, 0, 0, 1, 0, 0, 0, 0, 1, 0, 0, 0, 0, 0, 1]\n"
     ]
    },
    {
     "name": "stderr",
     "output_type": "stream",
     "text": [
      "223it [13:45,  7.60s/it, BLEU2=0.32, BLEU1=0.388, ExactMatch=0.0114, METEOR=0.588, BertScore=nan, StubScore=0.146]"
     ]
    },
    {
     "name": "stdout",
     "output_type": "stream",
     "text": [
      "answer raw len:  222 1\n",
      "True\n",
      "Первый мая отмечается как национальный праздник в нескольких странах, включая Австрию, Албанию, Аргентину, Армению, Арубу, Бангладеш, Бельгию, Болгарию, Боснию и Герцеговину, Бразилию, Вьетнам, Гонконг, Доминиканскую Республику, Египет, Замбию, Замбию, Индию, Иорданию, Казахстан, Камерун, Кению, Киргизию, Китай, Колумбию, Коста-Рику, Кот-д'Ивуар, Кубу, Латвию, Литву, Малайзию, Маврикий, Мексику, Молдову, Мьянму, Нигерию, Пакистан, Парагвай, Перу, Польшу, Португалию, Россию, Румынию, Сербию, Сингапур, Сирию, Словакию, Словению, Таиланд, Турцию, Украину, Эквадор, Эстонию, Южную Корею, Южную Африку, Израиль, Японию, а также в некоторых штатах США.\n",
      "1 мая отмечается в перечне стран как национальный праздник.\n",
      "[0, 0, 0, 0, 0, 0, 1, 0, 0, 0, 0, 0, 0, 0, 0, 0, 0, 0, 0, 0, 0, 1, 0, 0, 0, 0, 1, 0, 1, 0, 0, 0, 0, 0, 0, 0, 1, 0, 0, 0, 0, 1, 0, 0, 0, 0, 0, 1]\n"
     ]
    },
    {
     "name": "stderr",
     "output_type": "stream",
     "text": [
      "224it [13:47,  5.83s/it, BLEU2=0.323, BLEU1=0.391, ExactMatch=0.0114, METEOR=0.59, BertScore=nan, StubScore=0.146]"
     ]
    },
    {
     "name": "stdout",
     "output_type": "stream",
     "text": [
      "answer raw len:  223 1\n",
      "True\n",
      "Греция, Гондурас и Германия отмечают 1 мая как национальный праздник.\n",
      "Да, Греция, Гондурас и Германия отмечают 1 мая как национальный праздник.\n",
      "[0, 0, 0, 0, 0, 0, 1, 0, 0, 0, 0, 0, 0, 0, 0, 0, 0, 0, 0, 0, 0, 1, 0, 0, 0, 0, 1, 0, 1, 0, 0, 0, 0, 0, 0, 0, 1, 0, 0, 0, 0, 1, 0, 0, 0, 0, 0, 1]\n"
     ]
    },
    {
     "name": "stderr",
     "output_type": "stream",
     "text": [
      "225it [13:49,  4.69s/it, BLEU2=0.323, BLEU1=0.391, ExactMatch=0.0113, METEOR=0.59, BertScore=nan, StubScore=0.146]"
     ]
    },
    {
     "name": "stdout",
     "output_type": "stream",
     "text": [
      "answer raw len:  224 1\n",
      "True\n",
      "Да, 1 мая отмечается как национальный праздник в КНДР, на Кубе и на Филиппинах.\n",
      "Да, КНДР, Куба и Филиппины отмечают 1 мая как национальный праздник.\n",
      "[0, 0, 0, 0, 0, 0, 1, 0, 0, 0, 0, 0, 0, 0, 0, 0, 0, 0, 0, 0, 0, 1, 0, 0, 0, 0, 1, 0, 1, 0, 0, 0, 0, 0, 0, 0, 1, 0, 0, 0, 0, 1, 0, 0, 0, 0, 0, 1]\n"
     ]
    },
    {
     "name": "stderr",
     "output_type": "stream",
     "text": [
      "226it [13:51,  3.77s/it, BLEU2=0.323, BLEU1=0.392, ExactMatch=0.0112, METEOR=0.591, BertScore=nan, StubScore=0.146]"
     ]
    },
    {
     "name": "stdout",
     "output_type": "stream",
     "text": [
      "answer raw len:  225 1\n",
      "True\n",
      "Да, 1 мая отмечается как национальный праздник в Чили, Хорватии и Российской Федерации.\n",
      "Да, Чили, Хорватия и Российская Федерация отмечают 1 мая как национальный праздник.\n",
      "[0, 0, 0, 0, 0, 0, 1, 0, 0, 0, 0, 0, 0, 0, 0, 0, 0, 0, 0, 0, 0, 1, 0, 0, 0, 0, 1, 0, 1, 0, 0, 0, 0, 0, 0, 0, 1, 0, 0, 0, 0, 1, 0, 0, 0, 0, 0, 1]\n"
     ]
    },
    {
     "name": "stderr",
     "output_type": "stream",
     "text": [
      "227it [13:53,  3.22s/it, BLEU2=0.326, BLEU1=0.396, ExactMatch=0.0168, METEOR=0.593, BertScore=nan, StubScore=0.146]"
     ]
    },
    {
     "name": "stdout",
     "output_type": "stream",
     "text": [
      "answer raw len:  226 1\n",
      "True\n",
      "Да, Южная Корея, Эквадор и Шри-Ланка отмечают 1 мая как национальный праздник.\n",
      "Да, Южная Корея, Эквадор и Шри-Ланка отмечают 1 мая как национальный праздник.\n",
      "[0, 0, 0, 0, 0, 0, 1, 0, 0, 0, 0, 0, 0, 0, 0, 0, 0, 0, 0, 0, 0, 1, 0, 0, 0, 0, 1, 0, 1, 0, 0, 0, 0, 0, 0, 0, 1, 0, 0, 0, 0, 1, 0, 0, 0, 0, 0, 1]\n"
     ]
    },
    {
     "name": "stderr",
     "output_type": "stream",
     "text": [
      "228it [13:55,  3.09s/it, BLEU2=0.328, BLEU1=0.398, ExactMatch=0.0167, METEOR=0.595, BertScore=nan, StubScore=0.146]"
     ]
    },
    {
     "name": "stdout",
     "output_type": "stream",
     "text": [
      "answer raw len:  227 1\n",
      "True\n",
      "Мадонна впервые публично раскритиковала убийство леопарда сыновьями Трампа за два месяца до президентских выборов в США.\n",
      "За два месяц до президентских выборов в США Мадонна впервые публично раскритиковала убийство леопарда сыновьями Трампа.\n",
      "[0, 0, 0, 0, 0, 0, 1, 0, 0, 0, 0, 0, 0, 0, 0, 0, 0, 0, 0, 0, 0, 1, 0, 0, 0, 0, 1, 0, 1, 0, 0, 0, 0, 0, 0, 0, 1, 0, 0, 0, 0, 1, 0, 0, 0, 0, 0, 1]\n"
     ]
    },
    {
     "name": "stderr",
     "output_type": "stream",
     "text": [
      "229it [14:00,  3.54s/it, BLEU2=0.328, BLEU1=0.397, ExactMatch=0.0166, METEOR=0.596, BertScore=nan, StubScore=0.146]"
     ]
    },
    {
     "name": "stdout",
     "output_type": "stream",
     "text": [
      "answer raw len:  228 1\n",
      "True\n",
      "1 сентября 2016 года Мадонна публично раскритиковала убийство леопарда сыновьями Трампа и призвала своих подписчиков в Instagram голосовать за Хиллари Клинтон, свою дальнюю родственницу по материнской линии.\n",
      "Мадонна призвала голосовать за Хиллари Клинтон 1 сентября 2016 года в своём Instagram-аккаунте.\n",
      "[0, 0, 0, 0, 0, 0, 1, 0, 0, 0, 0, 0, 0, 0, 0, 0, 0, 0, 0, 0, 0, 1, 0, 0, 0, 0, 1, 0, 1, 0, 0, 0, 0, 0, 0, 0, 1, 0, 0, 0, 0, 1, 0, 0, 0, 0, 0, 1]\n"
     ]
    },
    {
     "name": "stderr",
     "output_type": "stream",
     "text": [
      "230it [14:02,  3.16s/it, BLEU2=0.329, BLEU1=0.399, ExactMatch=0.0165, METEOR=0.596, BertScore=nan, StubScore=0.146]"
     ]
    },
    {
     "name": "stdout",
     "output_type": "stream",
     "text": [
      "answer raw len:  229 1\n",
      "True\n",
      "Некоторые политики восприняли слова Мадонны как серьезное предвыборное обещание, данное во время ее концерта в Нью-Йорке.\n",
      "Некоторые политики с подачи СМИ восприняли шуточные слова Мадонны как серьёзное предвыборное обещание, данное якобы во время её концерта в Нью-Йорке.\n",
      "[0, 0, 0, 0, 0, 0, 1, 0, 0, 0, 0, 0, 0, 0, 0, 0, 0, 0, 0, 0, 0, 1, 0, 0, 0, 0, 1, 0, 1, 0, 0, 0, 0, 0, 0, 0, 1, 0, 0, 0, 0, 1, 0, 0, 0, 0, 0, 1]\n"
     ]
    },
    {
     "name": "stderr",
     "output_type": "stream",
     "text": [
      "231it [14:04,  2.81s/it, BLEU2=0.331, BLEU1=0.401, ExactMatch=0.0164, METEOR=0.598, BertScore=nan, StubScore=0.146]"
     ]
    },
    {
     "name": "stdout",
     "output_type": "stream",
     "text": [
      "answer raw len:  230 1\n",
      "True\n",
      "Мадонна дала концерт в поддержку своего кандидата в президенты США 6 ноября 2016 года.\n",
      "6 ноября Мадонна дала концерт в поддержку своего кандидата в президенты США.\n",
      "[0, 0, 0, 0, 0, 0, 1, 0, 0, 0, 0, 0, 0, 0, 0, 0, 0, 0, 0, 0, 0, 1, 0, 0, 0, 0, 1, 0, 1, 0, 0, 0, 0, 0, 0, 0, 1, 0, 0, 0, 0, 1, 0, 0, 0, 0, 0, 1]\n"
     ]
    },
    {
     "name": "stderr",
     "output_type": "stream",
     "text": [
      "232it [14:06,  2.52s/it, BLEU2=0.331, BLEU1=0.401, ExactMatch=0.0163, METEOR=0.598, BertScore=nan, StubScore=0.146]"
     ]
    },
    {
     "name": "stdout",
     "output_type": "stream",
     "text": [
      "answer raw len:  231 1\n",
      "True\n",
      "Альбом Elton John's Christmas Party изначально был выпущен через сеть кофеен Starbucks.\n",
      "Сборник Elton John s Christmas Party первоначально продавался через сеть кафе Старбакс.\n",
      "[0, 0, 0, 0, 0, 0, 1, 0, 0, 0, 0, 0, 0, 0, 0, 0, 0, 0, 0, 0, 0, 1, 0, 0, 0, 0, 1, 0, 1, 0, 0, 0, 0, 0, 0, 0, 1, 0, 0, 0, 0, 1, 0, 0, 0, 0, 0, 1]\n"
     ]
    },
    {
     "name": "stderr",
     "output_type": "stream",
     "text": [
      "233it [14:08,  2.43s/it, BLEU2=0.333, BLEU1=0.403, ExactMatch=0.0162, METEOR=0.599, BertScore=nan, StubScore=0.146]"
     ]
    },
    {
     "name": "stdout",
     "output_type": "stream",
     "text": [
      "answer raw len:  232 1\n",
      "True\n",
      "Альбом Elton John's Christmas Party был выпущен в широкую продажу 10 октября 2006 года.\n",
      "Альбом Elton John s Christmas Party поступил в широкую продажу 10 октября 2006 года.\n",
      "[0, 0, 0, 0, 0, 0, 1, 0, 0, 0, 0, 0, 0, 0, 0, 0, 0, 0, 0, 0, 0, 1, 0, 0, 0, 0, 1, 0, 1, 0, 0, 0, 0, 0, 0, 0, 1, 0, 0, 0, 0, 1, 0, 0, 0, 0, 0, 1]\n"
     ]
    },
    {
     "name": "stderr",
     "output_type": "stream",
     "text": [
      "234it [14:09,  1.99s/it, BLEU2=0.332, BLEU1=0.401, ExactMatch=0.0161, METEOR=0.598, BertScore=nan, StubScore=0.146]"
     ]
    },
    {
     "name": "stdout",
     "output_type": "stream",
     "text": [
      "answer raw len:  233 1\n",
      "True\n",
      "10 ноября 2005 года.\n",
      "Сборник Elton John s Christmas Party вышел 10 ноября 2005.\n",
      "[0, 0, 0, 0, 0, 0, 1, 0, 0, 0, 0, 0, 0, 0, 0, 0, 0, 0, 0, 0, 0, 1, 0, 0, 0, 0, 1, 0, 1, 0, 0, 0, 0, 0, 0, 0, 1, 0, 0, 0, 0, 1, 0, 0, 0, 0, 0, 1]\n"
     ]
    },
    {
     "name": "stderr",
     "output_type": "stream",
     "text": [
      "235it [14:12,  2.22s/it, BLEU2=0.331, BLEU1=0.401, ExactMatch=0.016, METEOR=0.598, BertScore=nan, StubScore=0.146] "
     ]
    },
    {
     "name": "stdout",
     "output_type": "stream",
     "text": [
      "answer raw len:  234 1\n",
      "True\n",
      "Два доллара от каждой продажи сборника \"Elton John's Christmas Party\" шли в его фонд по борьбе со СПИДом (Elton John AIDS Foundation).\n",
      "В благотворительную организацию по борьбе со СПИДом Elton John AIDS Foundation.\n",
      "[0, 0, 0, 0, 0, 0, 1, 0, 0, 0, 0, 0, 0, 0, 0, 0, 0, 0, 0, 0, 0, 1, 0, 0, 0, 0, 1, 0, 1, 0, 0, 0, 0, 0, 0, 0, 1, 0, 0, 0, 0, 1, 0, 0, 0, 0, 0, 1]\n"
     ]
    },
    {
     "name": "stderr",
     "output_type": "stream",
     "text": [
      "236it [14:13,  1.96s/it, BLEU2=0.33, BLEU1=0.399, ExactMatch=0.016, METEOR=0.597, BertScore=nan, StubScore=0.146] "
     ]
    },
    {
     "name": "stdout",
     "output_type": "stream",
     "text": [
      "answer raw len:  235 1\n",
      "True\n",
      "В Elton John s Christmas Party было 21 композиция.\n",
      "В сборник Elton John s Christmas Party, выпущенный 10 ноября 2005 года, входили 21 композиция. Однако 6 песен из первоначального списка (куда входила 21 композиция) были исключены.\n",
      "[0, 0, 0, 0, 0, 0, 1, 0, 0, 0, 0, 0, 0, 0, 0, 0, 0, 0, 0, 0, 0, 1, 0, 0, 0, 0, 1, 0, 1, 0, 0, 0, 0, 0, 0, 0, 1, 0, 0, 0, 0, 1, 0, 0, 0, 0, 0, 1]\n"
     ]
    },
    {
     "name": "stderr",
     "output_type": "stream",
     "text": [
      "237it [14:18,  2.64s/it, BLEU2=0.328, BLEU1=0.397, ExactMatch=0.0159, METEOR=0.595, BertScore=nan, StubScore=0.146]"
     ]
    },
    {
     "name": "stdout",
     "output_type": "stream",
     "text": [
      "answer raw len:  236 1\n",
      "True\n",
      "Нерон прыгает из будущего в 11-й фильм \"Звёздный путь\", и его действия влияют на судьбы главных персонажей. Он меняет их судьбы, заставляя их события не совпадать с тем будущим, откуда он прыгнул.\n",
      "Меняет судьбы главных героев.\n",
      "[0, 0, 0, 0, 0, 0, 1, 0, 0, 0, 0, 0, 0, 0, 0, 0, 0, 0, 0, 0, 0, 1, 0, 0, 0, 0, 1, 0, 1, 0, 0, 0, 0, 0, 0, 0, 1, 0, 0, 0, 0, 1, 0, 0, 0, 0, 0, 1]\n"
     ]
    },
    {
     "name": "stderr",
     "output_type": "stream",
     "text": [
      "238it [14:25,  3.95s/it, BLEU2=0.327, BLEU1=0.396, ExactMatch=0.0158, METEOR=0.595, BertScore=nan, StubScore=0.146]"
     ]
    },
    {
     "name": "stdout",
     "output_type": "stream",
     "text": [
      "answer raw len:  237 1\n",
      "True\n",
      "Основной сюжетной линией одиннадцатого фильма \"Звёздный путь\" является начало карьеры Джеймса Кирка и Спока, но в то же время нельзя сказать, что он является приквелом к Оригинальному сериалу, так как события в фильме связаны с прыжком во времени Нерона, который меняет судьбы главных героев. Фильм рассказывает о том, как персонажи сталкиваются с новыми вызовами и приключениями в альтернативной временной линии.\n",
      "Главная сюжетная линия одиннадцатого фильма \"Звёздный путь\" связана с прыжком из будущего Нерона, который меняет судьбы главных героев.\n",
      "[0, 0, 0, 0, 0, 0, 1, 0, 0, 0, 0, 0, 0, 0, 0, 0, 0, 0, 0, 0, 0, 1, 0, 0, 0, 0, 1, 0, 1, 0, 0, 0, 0, 0, 0, 0, 1, 0, 0, 0, 0, 1, 0, 0, 0, 0, 0, 1]\n"
     ]
    },
    {
     "name": "stderr",
     "output_type": "stream",
     "text": [
      "239it [14:34,  5.52s/it, BLEU2=0.326, BLEU1=0.395, ExactMatch=0.0157, METEOR=0.592, BertScore=nan, StubScore=0.146]"
     ]
    },
    {
     "name": "stdout",
     "output_type": "stream",
     "text": [
      "answer raw len:  238 1\n",
      "True\n",
      "В 11-м фильме \"Звёздный путь\" \"Звёздный путь\" (2009) персонажи сталкиваются с последствиями нарушения временного континуума. Нерона, антагониста из будущего, прыгает в прошлое, чтобы изменить судьбы главных персонажей, в частности, Джеймса Кирка и Спока. Это приводит к альтернативной временной линии, где события в фильме не совпадают с оригинальным сериалом. В результате будущее, которое ожидает персонажей, отличается от того, что было бы в оригинальной временной линии.\n",
      "Их будущее сложится иначе и не сможет совпасть с тем будущим, откуда пришёл Нерон.\n",
      "[0, 0, 0, 0, 0, 0, 1, 0, 0, 0, 0, 0, 0, 0, 0, 0, 0, 0, 0, 0, 0, 1, 0, 0, 0, 0, 1, 0, 1, 0, 0, 0, 0, 0, 0, 0, 1, 0, 0, 0, 0, 1, 0, 0, 0, 0, 0, 1]\n"
     ]
    },
    {
     "name": "stderr",
     "output_type": "stream",
     "text": [
      "240it [14:36,  4.61s/it, BLEU2=0.326, BLEU1=0.395, ExactMatch=0.0156, METEOR=0.593, BertScore=nan, StubScore=0.146]"
     ]
    },
    {
     "name": "stdout",
     "output_type": "stream",
     "text": [
      "answer raw len:  239 1\n",
      "True\n",
      "11-й полнометражный фильм \"Звёздный путь\" (англ. Star Trek) вышел на экраны 7 мая 2009 года.\n",
      "Премьера 11-го полнометражного фильма Звёздный путь (англ. Star Trek) состоялась 7 мая 2009 года.\n",
      "[0, 0, 0, 0, 0, 0, 1, 0, 0, 0, 0, 0, 0, 0, 0, 0, 0, 0, 0, 0, 0, 1, 0, 0, 0, 0, 1, 0, 1, 0, 0, 0, 0, 0, 0, 0, 1, 0, 0, 0, 0, 1, 0, 0, 0, 0, 0, 1]\n"
     ]
    },
    {
     "name": "stderr",
     "output_type": "stream",
     "text": [
      "241it [14:38,  3.86s/it, BLEU2=0.327, BLEU1=0.396, ExactMatch=0.0155, METEOR=0.595, BertScore=nan, StubScore=0.146]"
     ]
    },
    {
     "name": "stdout",
     "output_type": "stream",
     "text": [
      "answer raw len:  240 1\n",
      "True\n",
      "Сценарий к одиннадцатому полнометражному фильму \"Звёздный путь\" написали Роберто Орси и Алекс Курцман.\n",
      "Роберто Орси и Алекс Курцман написали сценарий к одиннадцатому полнометражному фильму Звёздный путь.\n",
      "[0, 0, 0, 0, 0, 0, 1, 0, 0, 0, 0, 0, 0, 0, 0, 0, 0, 0, 0, 0, 0, 1, 0, 0, 0, 0, 1, 0, 1, 0, 0, 0, 0, 0, 0, 0, 1, 0, 0, 0, 0, 1, 0, 0, 0, 0, 0, 1]\n"
     ]
    },
    {
     "name": "stderr",
     "output_type": "stream",
     "text": [
      "242it [14:40,  3.16s/it, BLEU2=0.326, BLEU1=0.395, ExactMatch=0.0155, METEOR=0.593, BertScore=nan, StubScore=0.146]"
     ]
    },
    {
     "name": "stdout",
     "output_type": "stream",
     "text": [
      "answer raw len:  241 1\n",
      "True\n",
      "11-13 (24-26) октября 1917 года.\n",
      "Большевизированный Петросовет провел областной I Съезд Советов Северной области 11—13 (24—26) октября 1917.\n",
      "[0, 0, 0, 0, 0, 0, 1, 0, 0, 0, 0, 0, 0, 0, 0, 0, 0, 0, 0, 0, 0, 1, 0, 0, 0, 0, 1, 0, 1, 0, 0, 0, 0, 0, 0, 0, 1, 0, 0, 0, 0, 1, 0, 0, 0, 0, 0, 1]\n"
     ]
    },
    {
     "name": "stderr",
     "output_type": "stream",
     "text": [
      "243it [14:42,  2.75s/it, BLEU2=0.327, BLEU1=0.396, ExactMatch=0.0154, METEOR=0.595, BertScore=nan, StubScore=0.146]"
     ]
    },
    {
     "name": "stdout",
     "output_type": "stream",
     "text": [
      "answer raw len:  242 1\n",
      "True\n",
      "На областной I Съезд Советов Северной области были включены делегаты Балтийского флота, Петрограда и Финляндии.\n",
      "Делегаты Балтийского флота, Петрограда и Финляндии были включены в областной I Съезд Советов Северной области.\n",
      "[0, 0, 0, 0, 0, 0, 1, 0, 0, 0, 0, 0, 0, 0, 0, 0, 0, 0, 0, 0, 0, 1, 0, 0, 0, 0, 1, 0, 1, 0, 0, 0, 0, 0, 0, 0, 1, 0, 0, 0, 0, 1, 0, 0, 0, 0, 0, 1]\n"
     ]
    },
    {
     "name": "stderr",
     "output_type": "stream",
     "text": [
      "244it [14:45,  2.96s/it, BLEU2=0.328, BLEU1=0.397, ExactMatch=0.0153, METEOR=0.597, BertScore=nan, StubScore=0.146]"
     ]
    },
    {
     "name": "stdout",
     "output_type": "stream",
     "text": [
      "answer raw len:  243 1\n",
      "True\n",
      "По мнению Ричарда Пайпса, эсеро-меньшевистский Центральный исполнительный комитет (ВЦИК) объявил областной I Съезд Советов Северной области незаконным.\n",
      "Эсеро-меньшевистский ВЦИК объявил областной I Съезд Советов Северной области незаконным.\n",
      "[0, 0, 0, 0, 0, 0, 1, 0, 0, 0, 0, 0, 0, 0, 0, 0, 0, 0, 0, 0, 0, 1, 0, 0, 0, 0, 1, 0, 1, 0, 0, 0, 0, 0, 0, 0, 1, 0, 0, 0, 0, 1, 0, 0, 0, 0, 0, 1]\n"
     ]
    },
    {
     "name": "stderr",
     "output_type": "stream",
     "text": [
      "245it [14:49,  3.09s/it, BLEU2=0.328, BLEU1=0.397, ExactMatch=0.0152, METEOR=0.598, BertScore=nan, StubScore=0.146]"
     ]
    },
    {
     "name": "stdout",
     "output_type": "stream",
     "text": [
      "answer raw len:  244 1\n",
      "True\n",
      "11-13 (24-26) октября 1917 года большевизированный Петросовет провел областной I Съезд Советов Северной области, в который вошли делегаты Балтийского флота, Петрограда и Финляндии.\n",
      "Большевизированный петросовет 11—13 (24—26) октября 1917 провел областной I Съезд Советов Северной области.\n",
      "[0, 0, 0, 0, 0, 0, 1, 0, 0, 0, 0, 0, 0, 0, 0, 0, 0, 0, 0, 0, 0, 1, 0, 0, 0, 0, 1, 0, 1, 0, 0, 0, 0, 0, 0, 0, 1, 0, 0, 0, 0, 1, 0, 0, 0, 0, 0, 1]\n"
     ]
    },
    {
     "name": "stderr",
     "output_type": "stream",
     "text": [
      "246it [14:51,  2.94s/it, BLEU2=0.329, BLEU1=0.398, ExactMatch=0.0152, METEOR=0.599, BertScore=nan, StubScore=0.146]"
     ]
    },
    {
     "name": "stdout",
     "output_type": "stream",
     "text": [
      "answer raw len:  245 1\n",
      "True\n",
      "31 декабря 1796 года (11 января 1797 года) было утверждено новое административно-территориальное деление Курской губернии.\n",
      "Новое административно-территориальное деление Курской губернии было утверждено 31 декабря 1796 (11 января 1797) года.\n",
      "[0, 0, 0, 0, 0, 0, 1, 0, 0, 0, 0, 0, 0, 0, 0, 0, 0, 0, 0, 0, 0, 1, 0, 0, 0, 0, 1, 0, 1, 0, 0, 0, 0, 0, 0, 0, 1, 0, 0, 0, 0, 1, 0, 0, 0, 0, 0, 1]\n"
     ]
    },
    {
     "name": "stderr",
     "output_type": "stream",
     "text": [
      "247it [14:52,  2.40s/it, BLEU2=0.328, BLEU1=0.396, ExactMatch=0.0151, METEOR=0.598, BertScore=nan, StubScore=0.146]"
     ]
    },
    {
     "name": "stdout",
     "output_type": "stream",
     "text": [
      "answer raw len:  246 1\n",
      "True\n",
      "12 (23) декабря 1796 года.\n",
      "Указом императора Павла I большинство наместничеств, в том числе и Курское, были упразднены в 12 (23) декабря 1796 года.\n",
      "[0, 0, 0, 0, 0, 0, 1, 0, 0, 0, 0, 0, 0, 0, 0, 0, 0, 0, 0, 0, 0, 1, 0, 0, 0, 0, 1, 0, 1, 0, 0, 0, 0, 0, 0, 0, 1, 0, 0, 0, 0, 1, 0, 0, 0, 0, 0, 1]\n"
     ]
    },
    {
     "name": "stderr",
     "output_type": "stream",
     "text": [
      "248it [15:07,  6.10s/it, BLEU2=0.326, BLEU1=0.394, ExactMatch=0.015, METEOR=0.595, BertScore=nan, StubScore=0.146] "
     ]
    },
    {
     "name": "stdout",
     "output_type": "stream",
     "text": [
      "answer raw len:  247 1\n",
      "True\n",
      "После Великих реформ помещичьи усадьбы в уездах пришли в упадок, а земледелие в уезде было заброшено из-за плохого качества почвы. Развивались садоводство и кустарное ремесло, прежде всего вязание, затем изготовление мебели, игрушек и т. д. Один из промыслов в Звенигороде стал известен на всю страну - это производство струнных музыкальных инструментов, инициатором которого был крестьянин села Шихово Емельянов. Из промышленности в уезде было больше всего суконных фабрик, затем кожевенные и кирпичные заводы и ткацкие фабрики. Промышленность давала пропитание 3% населения уезда, а кустарное ремесло - 9%.\n",
      "Общее число уездов Харьковского наместничества сократилось до 10.\n",
      "[0, 0, 0, 0, 0, 0, 1, 0, 0, 0, 0, 0, 0, 0, 0, 0, 0, 0, 0, 0, 0, 1, 0, 0, 0, 0, 1, 0, 1, 0, 0, 0, 0, 0, 0, 0, 1, 0, 0, 0, 0, 1, 0, 0, 0, 0, 0, 1]\n"
     ]
    },
    {
     "name": "stderr",
     "output_type": "stream",
     "text": [
      "249it [15:14,  6.28s/it, BLEU2=0.325, BLEU1=0.393, ExactMatch=0.0149, METEOR=0.595, BertScore=nan, StubScore=0.146]"
     ]
    },
    {
     "name": "stdout",
     "output_type": "stream",
     "text": [
      "answer raw len:  248 1\n",
      "True\n",
      "В 1796 году, 31 декабря (11 января 1797 года), было утверждено новое административно-территориальное деление Курской губернии. К Курской губернии были присоединены территории упраздненного Харьковского наместничества, включая города Хотмыжск и Мирополье. В Харьковском наместничестве эти города были уездными, но после передачи Курской губернии соответствующие уезды были упразднены.\n",
      "К Курской губернии отошёл территории упразднённого Харьковского наместничества.\n",
      "[0, 0, 0, 0, 0, 0, 1, 0, 0, 0, 0, 0, 0, 0, 0, 0, 0, 0, 0, 0, 0, 1, 0, 0, 0, 0, 1, 0, 1, 0, 0, 0, 0, 0, 0, 0, 1, 0, 0, 0, 0, 1, 0, 0, 0, 0, 0, 1]\n"
     ]
    },
    {
     "name": "stderr",
     "output_type": "stream",
     "text": [
      "250it [15:16,  5.15s/it, BLEU2=0.323, BLEU1=0.391, ExactMatch=0.0149, METEOR=0.593, BertScore=nan, StubScore=0.146]"
     ]
    },
    {
     "name": "stdout",
     "output_type": "stream",
     "text": [
      "answer raw len:  249 1\n",
      "True\n",
      "31 декабря 1796 года (11 января 1797 года) было установлено новое административно-территориальное деление Курской губернии.\n",
      "Срок исполнения нового разделения на губернии был до мая 1797 года.\n",
      "[0, 0, 0, 0, 0, 0, 1, 0, 0, 0, 0, 0, 0, 0, 0, 0, 0, 0, 0, 0, 0, 1, 0, 0, 0, 0, 1, 0, 1, 0, 0, 0, 0, 0, 0, 0, 1, 0, 0, 0, 0, 1, 0, 0, 0, 0, 0, 1]\n"
     ]
    },
    {
     "name": "stderr",
     "output_type": "stream",
     "text": [
      "251it [15:18,  4.15s/it, BLEU2=0.323, BLEU1=0.391, ExactMatch=0.0148, METEOR=0.592, BertScore=nan, StubScore=0.146]"
     ]
    },
    {
     "name": "stdout",
     "output_type": "stream",
     "text": [
      "answer raw len:  250 1\n",
      "True\n",
      "Название первого пилотируемого космического корабля, созданного С. П. Королёвым, было \"Восток-1\".\n",
      "Первый пилотируемый космический корабль, созданный С. П. Королёвым, назывался Восток-1.\n",
      "[0, 0, 0, 0, 0, 0, 1, 0, 0, 0, 0, 0, 0, 0, 0, 0, 0, 0, 0, 0, 0, 1, 0, 0, 0, 0, 1, 0, 1, 0, 0, 0, 0, 0, 0, 0, 1, 0, 0, 0, 0, 1, 0, 0, 0, 0, 0, 1]\n"
     ]
    },
    {
     "name": "stderr",
     "output_type": "stream",
     "text": [
      "252it [15:19,  3.15s/it, BLEU2=0.322, BLEU1=0.389, ExactMatch=0.0147, METEOR=0.591, BertScore=nan, StubScore=0.146]"
     ]
    },
    {
     "name": "stdout",
     "output_type": "stream",
     "text": [
      "answer raw len:  251 1\n",
      "True\n",
      "12 апреля 1961 года.\n",
      "12 апреля 1961 г С. П. Королёв снова поражает мировую общественность.\n",
      "[0, 0, 0, 0, 0, 0, 1, 0, 0, 0, 0, 0, 0, 0, 0, 0, 0, 0, 0, 0, 0, 1, 0, 0, 0, 0, 1, 0, 1, 0, 0, 0, 0, 0, 0, 0, 1, 0, 0, 0, 0, 1, 0, 0, 0, 0, 0, 1]\n"
     ]
    },
    {
     "name": "stderr",
     "output_type": "stream",
     "text": [
      "253it [15:20,  2.68s/it, BLEU2=0.322, BLEU1=0.39, ExactMatch=0.0146, METEOR=0.591, BertScore=nan, StubScore=0.146] "
     ]
    },
    {
     "name": "stdout",
     "output_type": "stream",
     "text": [
      "answer raw len:  252 1\n",
      "True\n",
      "[0.05] Первый человек в СССР, который полетел в космос, был Юрий Алексеевич Гагарин.\n",
      "Юрия Алексеевича Гагарина был первым человеком в СССР, который полетел в космос.\n",
      "[0, 0, 0, 0, 0, 0, 1, 0, 0, 0, 0, 0, 0, 0, 0, 0, 0, 0, 0, 0, 0, 1, 0, 0, 0, 0, 1, 0, 1, 0, 0, 0, 0, 0, 0, 0, 1, 0, 0, 0, 0, 1, 0, 0, 0, 0, 0, 1]\n"
     ]
    },
    {
     "name": "stderr",
     "output_type": "stream",
     "text": [
      "254it [15:23,  2.72s/it, BLEU2=0.322, BLEU1=0.389, ExactMatch=0.0146, METEOR=0.591, BertScore=nan, StubScore=0.146]"
     ]
    },
    {
     "name": "stdout",
     "output_type": "stream",
     "text": [
      "answer raw len:  253 1\n",
      "True\n",
      "12 апреля 1961 года первый космонавт СССР, Юрий Алексеевич Гагарин, отправился в космос на корабле \"Восток-1\", созданном под руководством Сергея Павловича Королёва.\n",
      "Юрий Гагарин отправился в космос на корабле \"Восток-1\" по околоземной орбите.\n",
      "[0, 0, 0, 0, 0, 0, 1, 0, 0, 0, 0, 0, 0, 0, 0, 0, 0, 0, 0, 0, 0, 1, 0, 0, 0, 0, 1, 0, 1, 0, 0, 0, 0, 0, 0, 0, 1, 0, 0, 0, 0, 1, 0, 0, 0, 0, 0, 1]\n"
     ]
    },
    {
     "name": "stderr",
     "output_type": "stream",
     "text": [
      "255it [15:25,  2.41s/it, BLEU2=0.321, BLEU1=0.389, ExactMatch=0.0145, METEOR=0.591, BertScore=nan, StubScore=0.146]"
     ]
    },
    {
     "name": "stdout",
     "output_type": "stream",
     "text": [
      "answer raw len:  254 1\n",
      "True\n",
      "Первый космический корабль С.П. Королёва, \"Восток-1\", сделал один виток вокруг Земли.\n",
      "Один витков сделал Первый космический корабль С.П.Королева.\n",
      "[0, 0, 0, 0, 0, 0, 1, 0, 0, 0, 0, 0, 0, 0, 0, 0, 0, 0, 0, 0, 0, 1, 0, 0, 0, 0, 1, 0, 1, 0, 0, 0, 0, 0, 0, 0, 1, 0, 0, 0, 0, 1, 0, 0, 0, 0, 0, 1]\n"
     ]
    },
    {
     "name": "stderr",
     "output_type": "stream",
     "text": [
      "256it [15:26,  2.03s/it, BLEU2=0.321, BLEU1=0.389, ExactMatch=0.0144, METEOR=0.592, BertScore=nan, StubScore=0.146]"
     ]
    },
    {
     "name": "stdout",
     "output_type": "stream",
     "text": [
      "answer raw len:  255 1\n",
      "True\n",
      "Машина времени начала запись нового альбома в 2001 году.\n",
      "Машина времени приступила в 2001 году к записи нового альбома.\n",
      "[0, 0, 0, 0, 0, 0, 1, 0, 0, 0, 0, 0, 0, 0, 0, 0, 0, 0, 0, 0, 0, 1, 0, 0, 0, 0, 1, 0, 1, 0, 0, 0, 0, 0, 0, 0, 1, 0, 0, 0, 0, 1, 0, 0, 0, 0, 0, 1]\n"
     ]
    },
    {
     "name": "stderr",
     "output_type": "stream",
     "text": [
      "257it [15:30,  2.71s/it, BLEU2=0.32, BLEU1=0.388, ExactMatch=0.0144, METEOR=0.591, BertScore=nan, StubScore=0.146] "
     ]
    },
    {
     "name": "stdout",
     "output_type": "stream",
     "text": [
      "answer raw len:  256 1\n",
      "True\n",
      "Альбом \"Spinning in the Wheel\" был переименован в \"Lights Out\" после того, как его название было изменено с \"Spinning in the Wheel\" на \"Place Where the Light's Out\".\n",
      "Название альбома \"Спиной к концу света\" было изменено на \"Место, где свет\".\n",
      "[0, 0, 0, 0, 0, 0, 1, 0, 0, 0, 0, 0, 0, 0, 0, 0, 0, 0, 0, 0, 0, 1, 0, 0, 0, 0, 1, 0, 1, 0, 0, 0, 0, 0, 0, 0, 1, 0, 0, 0, 0, 1, 0, 0, 0, 0, 0, 1]\n"
     ]
    },
    {
     "name": "stderr",
     "output_type": "stream",
     "text": [
      "258it [15:32,  2.45s/it, BLEU2=0.322, BLEU1=0.39, ExactMatch=0.0143, METEOR=0.592, BertScore=nan, StubScore=0.146]"
     ]
    },
    {
     "name": "stdout",
     "output_type": "stream",
     "text": [
      "answer raw len:  257 1\n",
      "True\n",
      "Презентация нового веб-проекта группы \"Машина времени\" состоялась 27 февраля 2001 года.\n",
      "Презентация нового Web-проекта группы Машина времени состоялась 27 февраля 2001 года.\n",
      "[0, 0, 0, 0, 0, 0, 1, 0, 0, 0, 0, 0, 0, 0, 0, 0, 0, 0, 0, 0, 0, 1, 0, 0, 0, 0, 1, 0, 1, 0, 0, 0, 0, 0, 0, 0, 1, 0, 0, 0, 0, 1, 0, 0, 0, 0, 0, 1]\n"
     ]
    },
    {
     "name": "stderr",
     "output_type": "stream",
     "text": [
      "259it [15:33,  1.93s/it, BLEU2=0.32, BLEU1=0.388, ExactMatch=0.0142, METEOR=0.591, BertScore=nan, StubScore=0.146]"
     ]
    },
    {
     "name": "stdout",
     "output_type": "stream",
     "text": [
      "answer raw len:  258 1\n",
      "True\n",
      "Макаревич и Державин.\n",
      "Макаревич и Державин появлялись на форуме сайта первые полгода.\n",
      "[0, 0, 0, 0, 0, 0, 1, 0, 0, 0, 0, 0, 0, 0, 0, 0, 0, 0, 0, 0, 0, 1, 0, 0, 0, 0, 1, 0, 1, 0, 0, 0, 0, 0, 0, 0, 1, 0, 0, 0, 0, 1, 0, 0, 0, 0, 0, 1]\n"
     ]
    },
    {
     "name": "stderr",
     "output_type": "stream",
     "text": [
      "260it [15:36,  2.30s/it, BLEU2=0.322, BLEU1=0.39, ExactMatch=0.0142, METEOR=0.593, BertScore=nan, StubScore=0.146]"
     ]
    },
    {
     "name": "stdout",
     "output_type": "stream",
     "text": [
      "answer raw len:  259 1\n",
      "True\n",
      "Официальный сайт группы \"Машина времени\" должен был стать единственным местом, где можно было получить достоверную и свежую информацию о группе и ее участниках, а также единственным официальным посредником между группой и прессой.\n",
      "Официальный сайт группы Машина времени будет единственным местом, где можно получить достоверную и свежую информацию о группе и её музыкантах, а также единственным официальным посредником между группой и прессой.\n",
      "[0, 0, 0, 0, 0, 0, 1, 0, 0, 0, 0, 0, 0, 0, 0, 0, 0, 0, 0, 0, 0, 1, 0, 0, 0, 0, 1, 0, 1, 0, 0, 0, 0, 0, 0, 0, 1, 0, 0, 0, 0, 1, 0, 0, 0, 0, 0, 1]\n",
      "answer raw len:  260 1\n"
     ]
    },
    {
     "name": "stderr",
     "output_type": "stream",
     "text": [
      "261it [15:41,  2.99s/it, BLEU2=0.322, BLEU1=0.39, ExactMatch=0.0142, METEOR=0.593, BertScore=nan, StubScore=0.143]"
     ]
    },
    {
     "name": "stdout",
     "output_type": "stream",
     "text": [
      "sim raw len:  1\n",
      "False\n",
      "Нансен останавливался в здании школы в течение шести лет, с 1887 по 1893 год.\n",
      "В течении недельного визита в Дагестан Нансен останавливался в здании школы.\n",
      "[0, 0, 0, 0, 0, 0, 1, 0, 0, 0, 0, 0, 0, 0, 0, 0, 0, 0, 0, 0, 0, 1, 0, 0, 0, 0, 1, 0, 1, 0, 0, 0, 0, 0, 0, 0, 1, 0, 0, 0, 0, 1, 0, 0, 0, 0, 0, 1, 0]\n"
     ]
    },
    {
     "name": "stderr",
     "output_type": "stream",
     "text": [
      "262it [15:46,  3.65s/it, BLEU2=0.322, BLEU1=0.39, ExactMatch=0.0141, METEOR=0.594, BertScore=nan, StubScore=0.143]"
     ]
    },
    {
     "name": "stdout",
     "output_type": "stream",
     "text": [
      "answer raw len:  261 1\n",
      "True\n",
      "Фритьоф Нансен подробно описал свой визит в Дагестан в книге \"Через Кавказ на Волгу\" (норвежский: \"Gjennem Kaukasus til Volga\"), которая была опубликована в 1929 году на норвежском, немецком и английском языках.\n",
      "В книге \"Через Кавказ на Волгу\" Фритьоф Нансен подробно описал свой визит в Дагестан.\n",
      "[0, 0, 0, 0, 0, 0, 1, 0, 0, 0, 0, 0, 0, 0, 0, 0, 0, 0, 0, 0, 0, 1, 0, 0, 0, 0, 1, 0, 1, 0, 0, 0, 0, 0, 0, 0, 1, 0, 0, 0, 0, 1, 0, 0, 0, 0, 0, 1, 0]\n"
     ]
    },
    {
     "name": "stderr",
     "output_type": "stream",
     "text": [
      "263it [15:48,  3.21s/it, BLEU2=0.323, BLEU1=0.39, ExactMatch=0.014, METEOR=0.593, BertScore=nan, StubScore=0.143] "
     ]
    },
    {
     "name": "stdout",
     "output_type": "stream",
     "text": [
      "answer raw len:  262 1\n",
      "True\n",
      "В 1925 году Фритьоф Нансен посетил Дагестан и описал его как очень интересную страну с большими экономическими возможностями.\n",
      "Отзывы Нансена о Дагестане были положительными, так как он описывал его как интересную страну с большими экономическими возможностями.\n",
      "[0, 0, 0, 0, 0, 0, 1, 0, 0, 0, 0, 0, 0, 0, 0, 0, 0, 0, 0, 0, 0, 1, 0, 0, 0, 0, 1, 0, 1, 0, 0, 0, 0, 0, 0, 0, 1, 0, 0, 0, 0, 1, 0, 0, 0, 0, 0, 1, 0]\n"
     ]
    },
    {
     "name": "stderr",
     "output_type": "stream",
     "text": [
      "264it [15:49,  2.49s/it, BLEU2=0.322, BLEU1=0.389, ExactMatch=0.014, METEOR=0.592, BertScore=nan, StubScore=0.143]"
     ]
    },
    {
     "name": "stdout",
     "output_type": "stream",
     "text": [
      "answer raw len:  263 1\n",
      "True\n",
      "14 апреля 2012 года.\n",
      "Указ об открытии мемориальной плиты на школе в Махачкале подписан 14 апреля 2012 года.\n",
      "[0, 0, 0, 0, 0, 0, 1, 0, 0, 0, 0, 0, 0, 0, 0, 0, 0, 0, 0, 0, 0, 1, 0, 0, 0, 0, 1, 0, 1, 0, 0, 0, 0, 0, 0, 0, 1, 0, 0, 0, 0, 1, 0, 0, 0, 0, 0, 1, 0]\n"
     ]
    },
    {
     "name": "stderr",
     "output_type": "stream",
     "text": [
      "265it [15:51,  2.46s/it, BLEU2=0.323, BLEU1=0.39, ExactMatch=0.0139, METEOR=0.593, BertScore=nan, StubScore=0.143]"
     ]
    },
    {
     "name": "stdout",
     "output_type": "stream",
     "text": [
      "answer raw len:  264 1\n",
      "True\n",
      "Фритьоф Нансен остановился в доме № 10 по улице Горького в Махачкале в 1925 году.\n",
      "В здании № 10 по улице Горького в Махачкале в 1925 году останавливался Фритьоф Нансен.\n",
      "[0, 0, 0, 0, 0, 0, 1, 0, 0, 0, 0, 0, 0, 0, 0, 0, 0, 0, 0, 0, 0, 1, 0, 0, 0, 0, 1, 0, 1, 0, 0, 0, 0, 0, 0, 0, 1, 0, 0, 0, 0, 1, 0, 0, 0, 0, 0, 1, 0]\n"
     ]
    },
    {
     "name": "stderr",
     "output_type": "stream",
     "text": [
      "266it [15:58,  3.67s/it, BLEU2=0.322, BLEU1=0.389, ExactMatch=0.0138, METEOR=0.593, BertScore=nan, StubScore=0.143]"
     ]
    },
    {
     "name": "stdout",
     "output_type": "stream",
     "text": [
      "answer raw len:  265 1\n",
      "True\n",
      "[0.05] Тело певца было кремировано 14 января 2016 года в ходе частной церемонии в Нью-Йорке[148]. Прах музыканта был похоронен в секретном месте, известном только его родственникам (позже стало известно, что это Бали, церемония прошла в соответствии с буддийским ритуалом)[149].\n",
      "Прах Дэвида Боуи был захоронен на острове Бали в соответствии с буддийским ритуалом.\n",
      "[0, 0, 0, 0, 0, 0, 1, 0, 0, 0, 0, 0, 0, 0, 0, 0, 0, 0, 0, 0, 0, 1, 0, 0, 0, 0, 1, 0, 1, 0, 0, 0, 0, 0, 0, 0, 1, 0, 0, 0, 0, 1, 0, 0, 0, 0, 0, 1, 0]\n",
      "answer raw len:  266 1\n"
     ]
    },
    {
     "name": "stderr",
     "output_type": "stream",
     "text": [
      "267it [16:02,  3.91s/it, BLEU2=0.322, BLEU1=0.389, ExactMatch=0.0138, METEOR=0.593, BertScore=nan, StubScore=0.16] "
     ]
    },
    {
     "name": "stdout",
     "output_type": "stream",
     "text": [
      "sim raw len:  1\n",
      "False\n",
      "Продажи песен и альбомов музыканта в США за первую неделю после его смерти, согласно Billboard, выросли.\n",
      "Продажи песен и альбомов музыканта в США, за первую неделю после смерти, по информации Billboard, выросли более чем на 5000%.\n",
      "[0, 0, 0, 0, 0, 0, 1, 0, 0, 0, 0, 0, 0, 0, 0, 0, 0, 0, 0, 0, 0, 1, 0, 0, 0, 0, 1, 0, 1, 0, 0, 0, 0, 0, 0, 0, 1, 0, 0, 0, 0, 1, 0, 0, 0, 0, 0, 1, 0, 1]\n"
     ]
    },
    {
     "name": "stderr",
     "output_type": "stream",
     "text": [
      "268it [16:11,  5.41s/it, BLEU2=0.321, BLEU1=0.388, ExactMatch=0.0138, METEOR=0.593, BertScore=nan, StubScore=0.16]"
     ]
    },
    {
     "name": "stdout",
     "output_type": "stream",
     "text": [
      "answer raw len:  267 1\n",
      "True\n",
      "После смерти певца его тело было кремировано на частной церемонии в Нью-Йорке, а его прах был захоронен в секретном месте, известном только его родственникам. Он был похоронен на Бали, и церемония прошла в соответствии с буддийским ритуалом. Дэвид хотел, чтобы его помнили за его поступки при жизни, а не как памятник. Он не хотел, чтобы его жизнь была увековечена чем-то вроде надгробия. Кроме того, появилась информация, что существует большая коллекция неизданных работ Боуи, которая будет выпускаться в течение многих лет.\n",
      "После смерти певца появилась информация, что существует большая коллекция его неизданных произведений, которая будет выпускаться в течение многих лет.\n",
      "[0, 0, 0, 0, 0, 0, 1, 0, 0, 0, 0, 0, 0, 0, 0, 0, 0, 0, 0, 0, 0, 1, 0, 0, 0, 0, 1, 0, 1, 0, 0, 0, 0, 0, 0, 0, 1, 0, 0, 0, 0, 1, 0, 0, 0, 0, 0, 1, 0, 1]\n"
     ]
    },
    {
     "name": "stderr",
     "output_type": "stream",
     "text": [
      "269it [16:12,  4.11s/it, BLEU2=0.32, BLEU1=0.387, ExactMatch=0.0137, METEOR=0.592, BertScore=nan, StubScore=0.16] "
     ]
    },
    {
     "name": "stdout",
     "output_type": "stream",
     "text": [
      "answer raw len:  268 1\n",
      "True\n",
      "14 января 2016 года.\n",
      "14 января 2016 года тело певца было кремировано в ходе частной церемонии в Нью-Йорке.\n",
      "[0, 0, 0, 0, 0, 0, 1, 0, 0, 0, 0, 0, 0, 0, 0, 0, 0, 0, 0, 0, 0, 1, 0, 0, 0, 0, 1, 0, 1, 0, 0, 0, 0, 0, 0, 0, 1, 0, 0, 0, 0, 1, 0, 0, 0, 0, 0, 1, 0, 1]\n"
     ]
    },
    {
     "name": "stderr",
     "output_type": "stream",
     "text": [
      "270it [16:17,  4.45s/it, BLEU2=0.319, BLEU1=0.385, ExactMatch=0.0136, METEOR=0.59, BertScore=nan, StubScore=0.16]"
     ]
    },
    {
     "name": "stdout",
     "output_type": "stream",
     "text": [
      "answer raw len:  269 1\n",
      "True\n",
      "Место захоронения праха Дэвида Боуи - секретное место, известное только его семье. Он был кремирован 14 января 2016 года в Нью-Йорке и его прах был похоронен на Бали, в соответствии с буддийским ритуалом.\n",
      "Это место известно только его родственникам.\n",
      "[0, 0, 0, 0, 0, 0, 1, 0, 0, 0, 0, 0, 0, 0, 0, 0, 0, 0, 0, 0, 0, 1, 0, 0, 0, 0, 1, 0, 1, 0, 0, 0, 0, 0, 0, 0, 1, 0, 0, 0, 0, 1, 0, 0, 0, 0, 0, 1, 0, 1]\n"
     ]
    },
    {
     "name": "stderr",
     "output_type": "stream",
     "text": [
      "271it [16:19,  3.62s/it, BLEU2=0.319, BLEU1=0.386, ExactMatch=0.0136, METEOR=0.592, BertScore=nan, StubScore=0.16]"
     ]
    },
    {
     "name": "stdout",
     "output_type": "stream",
     "text": [
      "answer raw len:  270 1\n",
      "True\n",
      "Лётчики, которые обнаружили вражеский аэроплан, были поручик Покровский и корнет Плонский.\n",
      "Поручик Покровский и корнет Плонский обнаружили вражеский аэроплан.\n",
      "[0, 0, 0, 0, 0, 0, 1, 0, 0, 0, 0, 0, 0, 0, 0, 0, 0, 0, 0, 0, 0, 1, 0, 0, 0, 0, 1, 0, 1, 0, 0, 0, 0, 0, 0, 0, 1, 0, 0, 0, 0, 1, 0, 0, 0, 0, 0, 1, 0, 1]\n"
     ]
    },
    {
     "name": "stderr",
     "output_type": "stream",
     "text": [
      "272it [16:20,  2.94s/it, BLEU2=0.32, BLEU1=0.386, ExactMatch=0.0135, METEOR=0.592, BertScore=nan, StubScore=0.16] "
     ]
    },
    {
     "name": "stdout",
     "output_type": "stream",
     "text": [
      "answer raw len:  271 1\n",
      "True\n",
      "15 июля во время разведки у пилотов было только оружие - пистолеты Маузер.\n",
      "У лётчиков 15-го июля во время разведки были только пистолеты Маузер.\n",
      "[0, 0, 0, 0, 0, 0, 1, 0, 0, 0, 0, 0, 0, 0, 0, 0, 0, 0, 0, 0, 0, 1, 0, 0, 0, 0, 1, 0, 1, 0, 0, 0, 0, 0, 0, 0, 1, 0, 0, 0, 0, 1, 0, 0, 0, 0, 0, 1, 0, 1]\n"
     ]
    },
    {
     "name": "stderr",
     "output_type": "stream",
     "text": [
      "273it [16:22,  2.49s/it, BLEU2=0.322, BLEU1=0.388, ExactMatch=0.0135, METEOR=0.593, BertScore=nan, StubScore=0.16]"
     ]
    },
    {
     "name": "stdout",
     "output_type": "stream",
     "text": [
      "answer raw len:  272 1\n",
      "True\n",
      "Поручик Покровский и корнет Плонский увидели вражеский аэроплан во время разведки.\n",
      "Поручик Покровский и корнет Плонский увидел вражеский аэроплан во время розведки.\n",
      "[0, 0, 0, 0, 0, 0, 1, 0, 0, 0, 0, 0, 0, 0, 0, 0, 0, 0, 0, 0, 0, 1, 0, 0, 0, 0, 1, 0, 1, 0, 0, 0, 0, 0, 0, 0, 1, 0, 0, 0, 0, 1, 0, 0, 0, 0, 0, 1, 0, 1]\n"
     ]
    },
    {
     "name": "stderr",
     "output_type": "stream",
     "text": [
      "274it [16:24,  2.44s/it, BLEU2=0.321, BLEU1=0.388, ExactMatch=0.0134, METEOR=0.592, BertScore=nan, StubScore=0.16]"
     ]
    },
    {
     "name": "stdout",
     "output_type": "stream",
     "text": [
      "answer raw len:  273 1\n",
      "True\n",
      "Поручик Покровский и корнет Плонский были награждены орденом Святого Георгия 4-й степени.\n",
      "Наградили поручика Покровского и корнета Плонского орденами Св. Георгия 4-й степени.\n",
      "[0, 0, 0, 0, 0, 0, 1, 0, 0, 0, 0, 0, 0, 0, 0, 0, 0, 0, 0, 0, 0, 1, 0, 0, 0, 0, 1, 0, 1, 0, 0, 0, 0, 0, 0, 0, 1, 0, 0, 0, 0, 1, 0, 0, 0, 0, 0, 1, 0, 1]\n"
     ]
    },
    {
     "name": "stderr",
     "output_type": "stream",
     "text": [
      "275it [16:26,  2.35s/it, BLEU2=0.32, BLEU1=0.387, ExactMatch=0.0133, METEOR=0.59, BertScore=nan, StubScore=0.16]  "
     ]
    },
    {
     "name": "stdout",
     "output_type": "stream",
     "text": [
      "answer raw len:  274 1\n",
      "True\n",
      "Лётчики, которые атаковали и заставили австрийский аэроплан опуститься, были награждены орденом Святого Георгия 4-й степени.\n",
      "Австрийский аэроплан Авиатик (бортовой номер 31-13) достался призом в совершенно неповрежденном состоянии вместе с двумя лётчиками из 7-й авиароты.\n",
      "[0, 0, 0, 0, 0, 0, 1, 0, 0, 0, 0, 0, 0, 0, 0, 0, 0, 0, 0, 0, 0, 1, 0, 0, 0, 0, 1, 0, 1, 0, 0, 0, 0, 0, 0, 0, 1, 0, 0, 0, 0, 1, 0, 0, 0, 0, 0, 1, 0, 1]\n"
     ]
    },
    {
     "name": "stderr",
     "output_type": "stream",
     "text": [
      "276it [16:27,  1.94s/it, BLEU2=0.318, BLEU1=0.385, ExactMatch=0.0133, METEOR=0.589, BertScore=nan, StubScore=0.16]"
     ]
    },
    {
     "name": "stdout",
     "output_type": "stream",
     "text": [
      "answer raw len:  275 1\n",
      "True\n",
      "16 апреля 1962 года.\n",
      "Постановление ЦК КПСС и Совета министров СССР о разработке ракетно-космического комплекса Союз вышло 16 апреля 1962 году.\n",
      "[0, 0, 0, 0, 0, 0, 1, 0, 0, 0, 0, 0, 0, 0, 0, 0, 0, 0, 0, 0, 0, 1, 0, 0, 0, 0, 1, 0, 1, 0, 0, 0, 0, 0, 0, 0, 1, 0, 0, 0, 0, 1, 0, 0, 0, 0, 0, 1, 0, 1]\n"
     ]
    },
    {
     "name": "stderr",
     "output_type": "stream",
     "text": [
      "277it [16:31,  2.38s/it, BLEU2=0.318, BLEU1=0.384, ExactMatch=0.0132, METEOR=0.588, BertScore=nan, StubScore=0.16]"
     ]
    },
    {
     "name": "stdout",
     "output_type": "stream",
     "text": [
      "answer raw len:  276 1\n",
      "True\n",
      "Ракета-космический комплекс \"Союз\" разрабатывался для пилотируемого облета Луны в рамках постановления ЦК КПСС и Совета министров СССР от 16 апреля 1962 года.\n",
      "Ракетно-космического комплекса Союз разрабатывался для пилотируемого облёта Луны.\n",
      "[0, 0, 0, 0, 0, 0, 1, 0, 0, 0, 0, 0, 0, 0, 0, 0, 0, 0, 0, 0, 0, 1, 0, 0, 0, 0, 1, 0, 1, 0, 0, 0, 0, 0, 0, 0, 1, 0, 0, 0, 0, 1, 0, 0, 0, 0, 0, 1, 0, 1]\n"
     ]
    },
    {
     "name": "stderr",
     "output_type": "stream",
     "text": [
      "278it [16:34,  2.77s/it, BLEU2=0.316, BLEU1=0.383, ExactMatch=0.0132, METEOR=0.587, BertScore=nan, StubScore=0.16]"
     ]
    },
    {
     "name": "stdout",
     "output_type": "stream",
     "text": [
      "answer raw len:  277 1\n",
      "True\n",
      "На основе проекта 7К-ОК разрабатывался военный корабль \"Союз-Р\" (Разведчик), а затем на его основе - \"Союз-ВИ\" (Военный исследователь).\n",
      "На базе 7К начали делать 7К-ОК — многоцелевой трёхместный орбитальный корабль (ОК).\n",
      "[0, 0, 0, 0, 0, 0, 1, 0, 0, 0, 0, 0, 0, 0, 0, 0, 0, 0, 0, 0, 0, 1, 0, 0, 0, 0, 1, 0, 1, 0, 0, 0, 0, 0, 0, 0, 1, 0, 0, 0, 0, 1, 0, 0, 0, 0, 0, 1, 0, 1]\n"
     ]
    },
    {
     "name": "stderr",
     "output_type": "stream",
     "text": [
      "279it [16:36,  2.33s/it, BLEU2=0.317, BLEU1=0.383, ExactMatch=0.0131, METEOR=0.587, BertScore=nan, StubScore=0.16]"
     ]
    },
    {
     "name": "stdout",
     "output_type": "stream",
     "text": [
      "answer raw len:  278 1\n",
      "True\n",
      "Программа \"Север\" планировала облет Луны после закрытия программы А.\n",
      "По программе Север планировался облет Луны после закрытия проекта А.\n",
      "[0, 0, 0, 0, 0, 0, 1, 0, 0, 0, 0, 0, 0, 0, 0, 0, 0, 0, 0, 0, 0, 1, 0, 0, 0, 0, 1, 0, 1, 0, 0, 0, 0, 0, 0, 0, 1, 0, 0, 0, 0, 1, 0, 0, 0, 0, 0, 1, 0, 1]\n"
     ]
    },
    {
     "name": "stderr",
     "output_type": "stream",
     "text": [
      "280it [16:39,  2.53s/it, BLEU2=0.316, BLEU1=0.383, ExactMatch=0.013, METEOR=0.587, BertScore=nan, StubScore=0.16] "
     ]
    },
    {
     "name": "stdout",
     "output_type": "stream",
     "text": [
      "answer raw len:  279 1\n",
      "True\n",
      "Установка для облета Луны по программе А должна была состоять из космического корабля и разгонных блоков 7К, 9К, 11К.\n",
      "Связка из 7К, 9К, 11К должна была отправиться к Луне по программе А.\n",
      "[0, 0, 0, 0, 0, 0, 1, 0, 0, 0, 0, 0, 0, 0, 0, 0, 0, 0, 0, 0, 0, 1, 0, 0, 0, 0, 1, 0, 1, 0, 0, 0, 0, 0, 0, 0, 1, 0, 0, 0, 0, 1, 0, 0, 0, 0, 0, 1, 0, 1]\n"
     ]
    },
    {
     "name": "stderr",
     "output_type": "stream",
     "text": [
      "281it [16:40,  2.19s/it, BLEU2=0.317, BLEU1=0.384, ExactMatch=0.013, METEOR=0.588, BertScore=nan, StubScore=0.16]"
     ]
    },
    {
     "name": "stdout",
     "output_type": "stream",
     "text": [
      "answer raw len:  280 1\n",
      "True\n",
      "Ялмар Йохансен считался самым опытным лыжником и каюром в экспедиции.\n",
      "Самым опытным лыжником и каюром в экспедиции считали Ялмара Йохансена.\n",
      "[0, 0, 0, 0, 0, 0, 1, 0, 0, 0, 0, 0, 0, 0, 0, 0, 0, 0, 0, 0, 0, 1, 0, 0, 0, 0, 1, 0, 1, 0, 0, 0, 0, 0, 0, 0, 1, 0, 0, 0, 0, 1, 0, 0, 0, 0, 0, 1, 0, 1]\n"
     ]
    },
    {
     "name": "stderr",
     "output_type": "stream",
     "text": [
      "282it [16:43,  2.52s/it, BLEU2=0.318, BLEU1=0.386, ExactMatch=0.0129, METEOR=0.589, BertScore=nan, StubScore=0.16]"
     ]
    },
    {
     "name": "stdout",
     "output_type": "stream",
     "text": [
      "answer raw len:  281 1\n",
      "True\n",
      "В ноябре 1894 года Фрам находился в 750 километрах от мыса Флигели и примерно в 780 километрах от Северного полюса.\n",
      "Фрам в ноябре 1894 года находился в 750 км от мыса Флигели и на расстоянии примерно 780 км от Северного полюса.\n",
      "[0, 0, 0, 0, 0, 0, 1, 0, 0, 0, 0, 0, 0, 0, 0, 0, 0, 0, 0, 0, 0, 1, 0, 0, 0, 0, 1, 0, 1, 0, 0, 0, 0, 0, 0, 0, 1, 0, 0, 0, 0, 1, 0, 0, 0, 0, 0, 1, 0, 1]\n",
      "answer raw len:  282 1\n"
     ]
    },
    {
     "name": "stderr",
     "output_type": "stream",
     "text": [
      "283it [16:47,  2.75s/it, BLEU2=0.318, BLEU1=0.386, ExactMatch=0.0129, METEOR=0.589, BertScore=nan, StubScore=0.157]"
     ]
    },
    {
     "name": "stdout",
     "output_type": "stream",
     "text": [
      "sim raw len:  1\n",
      "False\n",
      "В тексте не указано конкретное время, отведенное для достижения полюса.\n",
      "Для достижения полюса отводилось 50 суток.\n",
      "[0, 0, 0, 0, 0, 0, 1, 0, 0, 0, 0, 0, 0, 0, 0, 0, 0, 0, 0, 0, 0, 1, 0, 0, 0, 0, 1, 0, 1, 0, 0, 0, 0, 0, 0, 0, 1, 0, 0, 0, 0, 1, 0, 0, 0, 0, 0, 1, 0, 1, 0]\n"
     ]
    },
    {
     "name": "stderr",
     "output_type": "stream",
     "text": [
      "284it [16:48,  2.26s/it, BLEU2=0.321, BLEU1=0.388, ExactMatch=0.0172, METEOR=0.59, BertScore=nan, StubScore=0.157] "
     ]
    },
    {
     "name": "stdout",
     "output_type": "stream",
     "text": [
      "answer raw len:  283 1\n",
      "True\n",
      "Нансен планировал отправить в поход 28 собак.\n",
      "Нансен планировал отправить в поход 28 собак.\n",
      "[0, 0, 0, 0, 0, 0, 1, 0, 0, 0, 0, 0, 0, 0, 0, 0, 0, 0, 0, 0, 0, 1, 0, 0, 0, 0, 1, 0, 1, 0, 0, 0, 0, 0, 0, 0, 1, 0, 0, 0, 0, 1, 0, 0, 0, 0, 0, 1, 0, 1, 0]\n"
     ]
    },
    {
     "name": "stderr",
     "output_type": "stream",
     "text": [
      "285it [16:50,  2.21s/it, BLEU2=0.322, BLEU1=0.389, ExactMatch=0.0171, METEOR=0.591, BertScore=nan, StubScore=0.157]"
     ]
    },
    {
     "name": "stdout",
     "output_type": "stream",
     "text": [
      "answer raw len:  284 1\n",
      "True\n",
      "16 ноября 1894 года Нансен объявил команде, что покинет судно в будущем году.\n",
      "Нансен объявил команде, что покидает судно в будущем году.\n",
      "[0, 0, 0, 0, 0, 0, 1, 0, 0, 0, 0, 0, 0, 0, 0, 0, 0, 0, 0, 0, 0, 1, 0, 0, 0, 0, 1, 0, 1, 0, 0, 0, 0, 0, 0, 0, 1, 0, 0, 0, 0, 1, 0, 0, 0, 0, 0, 1, 0, 1, 0]\n"
     ]
    },
    {
     "name": "stderr",
     "output_type": "stream",
     "text": [
      "286it [16:51,  1.93s/it, BLEU2=0.323, BLEU1=0.39, ExactMatch=0.017, METEOR=0.592, BertScore=nan, StubScore=0.157]  "
     ]
    },
    {
     "name": "stdout",
     "output_type": "stream",
     "text": [
      "answer raw len:  285 1\n",
      "True\n",
      "Нефтеюганский район был образован в 1980 году.\n",
      "Нефтеюганский район с центром в городе Нефтеюганске был образован в 1980 году.\n",
      "[0, 0, 0, 0, 0, 0, 1, 0, 0, 0, 0, 0, 0, 0, 0, 0, 0, 0, 0, 0, 0, 1, 0, 0, 0, 0, 1, 0, 1, 0, 0, 0, 0, 0, 0, 0, 1, 0, 0, 0, 0, 1, 0, 0, 0, 0, 0, 1, 0, 1, 0]\n"
     ]
    },
    {
     "name": "stderr",
     "output_type": "stream",
     "text": [
      "287it [16:54,  2.30s/it, BLEU2=0.325, BLEU1=0.392, ExactMatch=0.0169, METEOR=0.593, BertScore=nan, StubScore=0.157]"
     ]
    },
    {
     "name": "stdout",
     "output_type": "stream",
     "text": [
      "answer raw len:  286 1\n",
      "True\n",
      "В январе 1968 года город Нефтеюганск встречал особого гостя - члена Политбюро ЦК КПСС, Председателя Совета Министров СССР Алексея Николаевича Косыгина.\n",
      "В январе 1968 года город Нефтеюганск встречал особого гостя — члена Политбюро ЦК КПСС, Председателя Совета Министров СССР Алексея Николаевича Косыгина.\n",
      "[0, 0, 0, 0, 0, 0, 1, 0, 0, 0, 0, 0, 0, 0, 0, 0, 0, 0, 0, 0, 0, 1, 0, 0, 0, 0, 1, 0, 1, 0, 0, 0, 0, 0, 0, 0, 1, 0, 0, 0, 0, 1, 0, 0, 0, 0, 0, 1, 0, 1, 0]\n"
     ]
    },
    {
     "name": "stderr",
     "output_type": "stream",
     "text": [
      "288it [16:55,  1.90s/it, BLEU2=0.324, BLEU1=0.39, ExactMatch=0.0169, METEOR=0.592, BertScore=nan, StubScore=0.157] "
     ]
    },
    {
     "name": "stdout",
     "output_type": "stream",
     "text": [
      "answer raw len:  287 1\n",
      "True\n",
      "16 октября 1967 года.\n",
      "Президиум Верховного Совета РСФСР издал Указ О преобразовании рабочего посёлка Нефтеюганск Сургутского района Ханты-Мансийского национального округа, Тюменской области в город окружного подчинения 16 октября 1967 года.\n",
      "[0, 0, 0, 0, 0, 0, 1, 0, 0, 0, 0, 0, 0, 0, 0, 0, 0, 0, 0, 0, 0, 1, 0, 0, 0, 0, 1, 0, 1, 0, 0, 0, 0, 0, 0, 0, 1, 0, 0, 0, 0, 1, 0, 0, 0, 0, 0, 1, 0, 1, 0]\n"
     ]
    },
    {
     "name": "stderr",
     "output_type": "stream",
     "text": [
      "289it [16:57,  1.94s/it, BLEU2=0.325, BLEU1=0.392, ExactMatch=0.0168, METEOR=0.593, BertScore=nan, StubScore=0.157]"
     ]
    },
    {
     "name": "stdout",
     "output_type": "stream",
     "text": [
      "answer raw len:  288 1\n",
      "True\n",
      "Первые каменные дома были построены в Нефтеюганске в конце 1960-х годов.\n",
      "Первые каменные дома в Нефтеюганске были построены в конце 1960-х.\n",
      "[0, 0, 0, 0, 0, 0, 1, 0, 0, 0, 0, 0, 0, 0, 0, 0, 0, 0, 0, 0, 0, 1, 0, 0, 0, 0, 1, 0, 1, 0, 0, 0, 0, 0, 0, 0, 1, 0, 0, 0, 0, 1, 0, 0, 0, 0, 0, 1, 0, 1, 0]\n"
     ]
    },
    {
     "name": "stderr",
     "output_type": "stream",
     "text": [
      "290it [16:59,  1.95s/it, BLEU2=0.325, BLEU1=0.392, ExactMatch=0.0167, METEOR=0.593, BertScore=nan, StubScore=0.157]"
     ]
    },
    {
     "name": "stdout",
     "output_type": "stream",
     "text": [
      "answer raw len:  289 1\n",
      "True\n",
      "Мост, открытый в 1984 году, находится на протоке Юганская Обь.\n",
      "Мост в 1984 году был открыт через протоку Юганская Обь.\n",
      "[0, 0, 0, 0, 0, 0, 1, 0, 0, 0, 0, 0, 0, 0, 0, 0, 0, 0, 0, 0, 0, 1, 0, 0, 0, 0, 1, 0, 1, 0, 0, 0, 0, 0, 0, 0, 1, 0, 0, 0, 0, 1, 0, 0, 0, 0, 0, 1, 0, 1, 0]\n"
     ]
    },
    {
     "name": "stderr",
     "output_type": "stream",
     "text": [
      "291it [17:01,  1.73s/it, BLEU2=0.324, BLEU1=0.391, ExactMatch=0.0167, METEOR=0.592, BertScore=nan, StubScore=0.157]"
     ]
    },
    {
     "name": "stdout",
     "output_type": "stream",
     "text": [
      "answer raw len:  290 1\n",
      "True\n",
      "В каких городах народники-деревенщики организовали кружки?\n",
      "Народники-деревенщики организовали кружки в Петербурге, Москве, Туле и Харькове.\n",
      "[0, 0, 0, 0, 0, 0, 1, 0, 0, 0, 0, 0, 0, 0, 0, 0, 0, 0, 0, 0, 0, 1, 0, 0, 0, 0, 1, 0, 1, 0, 0, 0, 0, 0, 0, 0, 1, 0, 0, 0, 0, 1, 0, 0, 0, 0, 0, 1, 0, 1, 0]\n",
      "answer raw len:  291 1\n"
     ]
    },
    {
     "name": "stderr",
     "output_type": "stream",
     "text": [
      "292it [17:04,  2.34s/it, BLEU2=0.324, BLEU1=0.391, ExactMatch=0.0167, METEOR=0.592, BertScore=nan, StubScore=0.154]"
     ]
    },
    {
     "name": "stdout",
     "output_type": "stream",
     "text": [
      "sim raw len:  1\n",
      "False\n",
      "В 1883 году была создана группа \"Освобождение труда\".\n",
      "Группа Освобождение труда была создана в 1883 году.\n",
      "[0, 0, 0, 0, 0, 0, 1, 0, 0, 0, 0, 0, 0, 0, 0, 0, 0, 0, 0, 0, 0, 1, 0, 0, 0, 0, 1, 0, 1, 0, 0, 0, 0, 0, 0, 0, 1, 0, 0, 0, 0, 1, 0, 0, 0, 0, 0, 1, 0, 1, 0, 0]\n"
     ]
    },
    {
     "name": "stderr",
     "output_type": "stream",
     "text": [
      "293it [17:06,  2.28s/it, BLEU2=0.324, BLEU1=0.392, ExactMatch=0.0166, METEOR=0.592, BertScore=nan, StubScore=0.154]"
     ]
    },
    {
     "name": "stdout",
     "output_type": "stream",
     "text": [
      "answer raw len:  292 1\n",
      "True\n",
      "Название газеты для рабочих и крестьян, изданной в смоленской типографии, было \"Зерно\".\n",
      "Газета для рабочих и крестьян, издаваемая в смоленской типографии называлась Зерно.\n",
      "[0, 0, 0, 0, 0, 0, 1, 0, 0, 0, 0, 0, 0, 0, 0, 0, 0, 0, 0, 0, 0, 1, 0, 0, 0, 0, 1, 0, 1, 0, 0, 0, 0, 0, 0, 0, 1, 0, 0, 0, 0, 1, 0, 0, 0, 0, 0, 1, 0, 1, 0, 0]\n"
     ]
    },
    {
     "name": "stderr",
     "output_type": "stream",
     "text": [
      "294it [17:08,  2.10s/it, BLEU2=0.324, BLEU1=0.391, ExactMatch=0.0165, METEOR=0.591, BertScore=nan, StubScore=0.154]"
     ]
    },
    {
     "name": "stdout",
     "output_type": "stream",
     "text": [
      "answer raw len:  293 1\n",
      "True\n",
      "Плеханов, Засулич, Дейч и Стефанович эмигрировали в Швейцарию.\n",
      "Плеханов, Засулич, Дейч и Стефанович эмигрировали в Швейцарию, где, ознакомившись с марксистскими идеями, создали в 1883 в Женеве группу Освобождение труда.\n",
      "[0, 0, 0, 0, 0, 0, 1, 0, 0, 0, 0, 0, 0, 0, 0, 0, 0, 0, 0, 0, 0, 1, 0, 0, 0, 0, 1, 0, 1, 0, 0, 0, 0, 0, 0, 0, 1, 0, 0, 0, 0, 1, 0, 0, 0, 0, 0, 1, 0, 1, 0, 0]\n"
     ]
    },
    {
     "name": "stderr",
     "output_type": "stream",
     "text": [
      "295it [17:13,  2.94s/it, BLEU2=0.323, BLEU1=0.389, ExactMatch=0.0165, METEOR=0.591, BertScore=nan, StubScore=0.154]"
     ]
    },
    {
     "name": "stdout",
     "output_type": "stream",
     "text": [
      "answer raw len:  294 1\n",
      "True\n",
      "В тексте 1 говорится, что группа народников-деревенщиков (Плеханов, Засулич, Дейч, Аптекман, Я. В. Стефанович и др.) получили часть денег и типографию в Смоленске. Однако вскоре типография была разгромлена.\n",
      "Типография в Смоленске была разгромлена.\n",
      "[0, 0, 0, 0, 0, 0, 1, 0, 0, 0, 0, 0, 0, 0, 0, 0, 0, 0, 0, 0, 0, 1, 0, 0, 0, 0, 1, 0, 1, 0, 0, 0, 0, 0, 0, 0, 1, 0, 0, 0, 0, 1, 0, 0, 0, 0, 0, 1, 0, 1, 0, 0]\n"
     ]
    },
    {
     "name": "stderr",
     "output_type": "stream",
     "text": [
      "296it [17:15,  2.72s/it, BLEU2=0.321, BLEU1=0.388, ExactMatch=0.0164, METEOR=0.59, BertScore=nan, StubScore=0.154] "
     ]
    },
    {
     "name": "stdout",
     "output_type": "stream",
     "text": [
      "answer raw len:  295 1\n",
      "True\n",
      "В Усть-Зейской станице Н. Н. Муравьев был встречен благодарственным молебном, проведенным архиепископом Иннокентием.\n",
      "Встретили Н.Н. Муравьёва в Усть-Зейскую станице немедленным служением благодарственного молебна Архиепископом Иннокентием.\n",
      "[0, 0, 0, 0, 0, 0, 1, 0, 0, 0, 0, 0, 0, 0, 0, 0, 0, 0, 0, 0, 0, 1, 0, 0, 0, 0, 1, 0, 1, 0, 0, 0, 0, 0, 0, 0, 1, 0, 0, 0, 0, 1, 0, 0, 0, 0, 0, 1, 0, 1, 0, 0]\n"
     ]
    },
    {
     "name": "stderr",
     "output_type": "stream",
     "text": [
      "297it [17:21,  3.64s/it, BLEU2=0.322, BLEU1=0.39, ExactMatch=0.0163, METEOR=0.591, BertScore=nan, StubScore=0.154]"
     ]
    },
    {
     "name": "stdout",
     "output_type": "stream",
     "text": [
      "answer raw len:  296 1\n",
      "True\n",
      "Во время торжественного приема, устроенного в честь подписания договора, Н.Н. Муравьев поздравил всех участников такими словами: \"Товарищи! Поздравляю вас! Не напрасно мы трудились: Амур стал достоянием России. Святая православная церковь молится за вас! Россия - благодарит! Да здравствует император Александр и да процветает под его кровом вновь приобретенная страна. Ура!\"\n",
      "Н.Н. Муравьёв во время торжественного приёма, устроенного по поводу подписания договора произнес: \"Товарищи! Поздравляю вас! Не тщетно трудились мы: Амур сделался достоянием России. Святая православная церковь молится за вас! Россия — благодарит! Да здравствует император Александр и процветает под кровом его вновь приобретённая страна. Ура!\"\n",
      "[0, 0, 0, 0, 0, 0, 1, 0, 0, 0, 0, 0, 0, 0, 0, 0, 0, 0, 0, 0, 0, 1, 0, 0, 0, 0, 1, 0, 1, 0, 0, 0, 0, 0, 0, 0, 1, 0, 0, 0, 0, 1, 0, 0, 0, 0, 0, 1, 0, 1, 0, 0]\n"
     ]
    },
    {
     "name": "stderr",
     "output_type": "stream",
     "text": [
      "298it [17:22,  2.73s/it, BLEU2=0.321, BLEU1=0.388, ExactMatch=0.0163, METEOR=0.591, BertScore=nan, StubScore=0.154]"
     ]
    },
    {
     "name": "stdout",
     "output_type": "stream",
     "text": [
      "answer raw len:  297 1\n",
      "True\n",
      "17 (29) мая.\n",
      "Н.Н. Муравьёв вернулся в Усть-Зейскую станицу 17 (29) мая.\n",
      "[0, 0, 0, 0, 0, 0, 1, 0, 0, 0, 0, 0, 0, 0, 0, 0, 0, 0, 0, 0, 0, 1, 0, 0, 0, 0, 1, 0, 1, 0, 0, 0, 0, 0, 0, 0, 1, 0, 0, 0, 0, 1, 0, 0, 0, 0, 0, 1, 0, 1, 0, 0]\n"
     ]
    },
    {
     "name": "stderr",
     "output_type": "stream",
     "text": [
      "299it [17:23,  2.31s/it, BLEU2=0.321, BLEU1=0.388, ExactMatch=0.0162, METEOR=0.59, BertScore=nan, StubScore=0.154] "
     ]
    },
    {
     "name": "stdout",
     "output_type": "stream",
     "text": [
      "answer raw len:  298 1\n",
      "True\n",
      "[0.01] Н. Н. Муравьёв устроил прием по случаю подписания договора.\n",
      "Прием Н.Н. Муравьёва устроен по поводу подписания договора.\n",
      "[0, 0, 0, 0, 0, 0, 1, 0, 0, 0, 0, 0, 0, 0, 0, 0, 0, 0, 0, 0, 0, 1, 0, 0, 0, 0, 1, 0, 1, 0, 0, 0, 0, 0, 0, 0, 1, 0, 0, 0, 0, 1, 0, 0, 0, 0, 0, 1, 0, 1, 0, 0]\n"
     ]
    },
    {
     "name": "stderr",
     "output_type": "stream",
     "text": [
      "300it [17:23,  1.75s/it, BLEU2=0.319, BLEU1=0.387, ExactMatch=0.0161, METEOR=0.588, BertScore=nan, StubScore=0.154]"
     ]
    },
    {
     "name": "stdout",
     "output_type": "stream",
     "text": [
      "answer raw len:  299 1\n",
      "True\n",
      "[0.03]\n",
      "Миссия Н.Н. Муравьёва. Проходила во времена правления императора Александра.\n",
      "[0, 0, 0, 0, 0, 0, 1, 0, 0, 0, 0, 0, 0, 0, 0, 0, 0, 0, 0, 0, 0, 1, 0, 0, 0, 0, 1, 0, 1, 0, 0, 0, 0, 0, 0, 0, 1, 0, 0, 0, 0, 1, 0, 0, 0, 0, 0, 1, 0, 1, 0, 0]\n",
      "answer raw len:  300 1\n"
     ]
    },
    {
     "name": "stderr",
     "output_type": "stream",
     "text": [
      "301it [17:25,  1.81s/it, BLEU2=0.319, BLEU1=0.387, ExactMatch=0.0161, METEOR=0.588, BertScore=nan, StubScore=0.17] "
     ]
    },
    {
     "name": "stdout",
     "output_type": "stream",
     "text": [
      "sim raw len:  1\n",
      "False\n",
      "У меня нет ответа на ваш вопрос.\n",
      "В декабре 1923 года Ш. Х. Сюнчелей возглавлял Академический центр при СНК Башкирской АССР.\n",
      "[0, 0, 0, 0, 0, 0, 1, 0, 0, 0, 0, 0, 0, 0, 0, 0, 0, 0, 0, 0, 0, 1, 0, 0, 0, 0, 1, 0, 1, 0, 0, 0, 0, 0, 0, 0, 1, 0, 0, 0, 0, 1, 0, 0, 0, 0, 0, 1, 0, 1, 0, 0, 1]\n"
     ]
    },
    {
     "name": "stderr",
     "output_type": "stream",
     "text": [
      "302it [17:27,  1.88s/it, BLEU2=0.322, BLEU1=0.389, ExactMatch=0.0201, METEOR=0.589, BertScore=nan, StubScore=0.17]"
     ]
    },
    {
     "name": "stdout",
     "output_type": "stream",
     "text": [
      "answer raw len:  301 1\n",
      "True\n",
      "Постановление \"О литературном языке башкир\" было издано 20 февраля 1924 года.\n",
      "Постановление \"О литературном языке башкир\" было издано 20 февраля 1924 года.\n",
      "[0, 0, 0, 0, 0, 0, 1, 0, 0, 0, 0, 0, 0, 0, 0, 0, 0, 0, 0, 0, 0, 1, 0, 0, 0, 0, 1, 0, 1, 0, 0, 0, 0, 0, 0, 0, 1, 0, 0, 0, 0, 1, 0, 0, 0, 0, 0, 1, 0, 1, 0, 0, 1]\n"
     ]
    },
    {
     "name": "stderr",
     "output_type": "stream",
     "text": [
      "303it [17:28,  1.61s/it, BLEU2=0.321, BLEU1=0.388, ExactMatch=0.02, METEOR=0.588, BertScore=nan, StubScore=0.17]  "
     ]
    },
    {
     "name": "stdout",
     "output_type": "stream",
     "text": [
      "answer raw len:  302 1\n",
      "True\n",
      "17 декабря 1923 года.\n",
      "Решение о взятии куваканского наречия за основу башкирского литературного языка было принято 17 декабря 1923 года.\n",
      "[0, 0, 0, 0, 0, 0, 1, 0, 0, 0, 0, 0, 0, 0, 0, 0, 0, 0, 0, 0, 0, 1, 0, 0, 0, 0, 1, 0, 1, 0, 0, 0, 0, 0, 0, 0, 1, 0, 0, 0, 0, 1, 0, 0, 0, 0, 0, 1, 0, 1, 0, 0, 1]\n",
      "answer raw len:  303 1\n"
     ]
    },
    {
     "name": "stderr",
     "output_type": "stream",
     "text": [
      "304it [17:44,  5.78s/it, BLEU2=0.321, BLEU1=0.388, ExactMatch=0.02, METEOR=0.588, BertScore=nan, StubScore=0.167]"
     ]
    },
    {
     "name": "stdout",
     "output_type": "stream",
     "text": [
      "sim raw len:  1\n",
      "False\n",
      "[0.08] В 1922 году была создана специальная комиссия по разработке алфавита и орфографии литературного башкирского языка, в состав которой входили С. Уфалы, Ш. Худайбердин, Г. Шонаси, С. Рамиев, Х. Каримов, Ш. Манатов, Д. Юлтый. 18 февраля 1923 года согласно декрету СНК БАССР была создана Центральная комиссия по реализации башкирского языка под руководством Ш. А. Худайбердина, занимавшаяся, в том числе, решением вопроса о создании литературного языка. Сам Ш. А. Худайбердин был сторонником признания литературной нормой юрматинского диалекта.\n",
      "Автором постановления \"О литературном языке башкир\" является Башнаркомпрос.\n",
      "[0, 0, 0, 0, 0, 0, 1, 0, 0, 0, 0, 0, 0, 0, 0, 0, 0, 0, 0, 0, 0, 1, 0, 0, 0, 0, 1, 0, 1, 0, 0, 0, 0, 0, 0, 0, 1, 0, 0, 0, 0, 1, 0, 0, 0, 0, 0, 1, 0, 1, 0, 0, 1, 0]\n",
      "answer raw len:  304 1\n"
     ]
    },
    {
     "name": "stderr",
     "output_type": "stream",
     "text": [
      "305it [18:00,  8.80s/it, BLEU2=0.321, BLEU1=0.388, ExactMatch=0.02, METEOR=0.588, BertScore=nan, StubScore=0.164]"
     ]
    },
    {
     "name": "stdout",
     "output_type": "stream",
     "text": [
      "sim raw len:  1\n",
      "False\n",
      "[0.08] В 1922 году была создана специальная комиссия по разработке алфавита и орфографии литературного башкирского языка, в состав которой входили С. Уфалы, Ш. Худайбердин, Г. Шонаси, С. Рамиев, Х. Каримов, Ш. Манатов, Д. Юлтый. 18 февраля 1923 года согласно декрету СНК БАССР была создана Центральная комиссия по реализации башкирского языка под руководством Ш. А. Худайбердина, занимавшаяся, в том числе, решением вопроса о создании литературного языка. Сам Ш. А. Худайбердин был сторонником признания литературной нормой юрматинского диалекта.\n",
      "Башкирский литературный язык сформировался на основе куваканского и юрматынского диалектов.\n",
      "[0, 0, 0, 0, 0, 0, 1, 0, 0, 0, 0, 0, 0, 0, 0, 0, 0, 0, 0, 0, 0, 1, 0, 0, 0, 0, 1, 0, 1, 0, 0, 0, 0, 0, 0, 0, 1, 0, 0, 0, 0, 1, 0, 0, 0, 0, 0, 1, 0, 1, 0, 0, 1, 0, 0]\n",
      "answer raw len:  305 1\n"
     ]
    },
    {
     "name": "stderr",
     "output_type": "stream",
     "text": [
      "306it [18:04,  7.34s/it, BLEU2=0.321, BLEU1=0.388, ExactMatch=0.02, METEOR=0.588, BertScore=nan, StubScore=0.161]"
     ]
    },
    {
     "name": "stdout",
     "output_type": "stream",
     "text": [
      "sim raw len:  1\n",
      "False\n",
      "Телевизионная версия \"The Great Gatsby\" длится 180 минут.\n",
      "Длительность телеверсии — 52 минуты.\n",
      "[0, 0, 0, 0, 0, 0, 1, 0, 0, 0, 0, 0, 0, 0, 0, 0, 0, 0, 0, 0, 0, 1, 0, 0, 0, 0, 1, 0, 1, 0, 0, 0, 0, 0, 0, 0, 1, 0, 0, 0, 0, 1, 0, 0, 0, 0, 0, 1, 0, 1, 0, 0, 1, 0, 0, 0]\n"
     ]
    },
    {
     "name": "stderr",
     "output_type": "stream",
     "text": [
      "307it [18:06,  5.82s/it, BLEU2=0.32, BLEU1=0.387, ExactMatch=0.0199, METEOR=0.589, BertScore=nan, StubScore=0.161]"
     ]
    },
    {
     "name": "stdout",
     "output_type": "stream",
     "text": [
      "answer raw len:  306 1\n",
      "True\n",
      "Песня, исполненная по просьбе фанатов, - \"My Death\", которая была исполнена на концерте 18 июня.\n",
      "По просьбе фанатов была исполнена песня Жака Бреля My Death.\n",
      "[0, 0, 0, 0, 0, 0, 1, 0, 0, 0, 0, 0, 0, 0, 0, 0, 0, 0, 0, 0, 0, 1, 0, 0, 0, 0, 1, 0, 1, 0, 0, 0, 0, 0, 0, 0, 1, 0, 0, 0, 0, 1, 0, 0, 0, 0, 0, 1, 0, 1, 0, 0, 1, 0, 0, 0]\n"
     ]
    },
    {
     "name": "stderr",
     "output_type": "stream",
     "text": [
      "308it [18:07,  4.38s/it, BLEU2=0.323, BLEU1=0.389, ExactMatch=0.0238, METEOR=0.59, BertScore=nan, StubScore=0.161]"
     ]
    },
    {
     "name": "stdout",
     "output_type": "stream",
     "text": [
      "answer raw len:  307 1\n",
      "True\n",
      "Концерт был записан телеканалом ОРТ.\n",
      "Концерт был записан телеканалом ОРТ.\n",
      "[0, 0, 0, 0, 0, 0, 1, 0, 0, 0, 0, 0, 0, 0, 0, 0, 0, 0, 0, 0, 0, 1, 0, 0, 0, 0, 1, 0, 1, 0, 0, 0, 0, 0, 0, 0, 1, 0, 0, 0, 0, 1, 0, 0, 0, 0, 0, 1, 0, 1, 0, 0, 1, 0, 0, 0]\n"
     ]
    },
    {
     "name": "stderr",
     "output_type": "stream",
     "text": [
      "309it [18:09,  3.56s/it, BLEU2=0.326, BLEU1=0.392, ExactMatch=0.0277, METEOR=0.592, BertScore=nan, StubScore=0.161]"
     ]
    },
    {
     "name": "stdout",
     "output_type": "stream",
     "text": [
      "answer raw len:  308 1\n",
      "True\n",
      "Концерт, на котором пел Дэвид Боуи, состоялся 18 июня.\n",
      "Концерт, на котором пел Дэвид Боуи, состоялся 18 июня.\n",
      "[0, 0, 0, 0, 0, 0, 1, 0, 0, 0, 0, 0, 0, 0, 0, 0, 0, 0, 0, 0, 0, 1, 0, 0, 0, 0, 1, 0, 1, 0, 0, 0, 0, 0, 0, 0, 1, 0, 0, 0, 0, 1, 0, 0, 0, 0, 0, 1, 0, 1, 0, 0, 1, 0, 0, 0]\n"
     ]
    },
    {
     "name": "stderr",
     "output_type": "stream",
     "text": [
      "310it [18:13,  3.82s/it, BLEU2=0.324, BLEU1=0.391, ExactMatch=0.0276, METEOR=0.591, BertScore=nan, StubScore=0.161]"
     ]
    },
    {
     "name": "stdout",
     "output_type": "stream",
     "text": [
      "answer raw len:  309 1\n",
      "True\n",
      "\"My Death\" исполнялась во время тура \"Outside\" в 1973 году, а также во время тура \"1985: The Never-Ending Tour\" в 1986 году.\n",
      "My Death исполнялась на концертах тура Outside.\n",
      "[0, 0, 0, 0, 0, 0, 1, 0, 0, 0, 0, 0, 0, 0, 0, 0, 0, 0, 0, 0, 0, 1, 0, 0, 0, 0, 1, 0, 1, 0, 0, 0, 0, 0, 0, 0, 1, 0, 0, 0, 0, 1, 0, 0, 0, 0, 0, 1, 0, 1, 0, 0, 1, 0, 0, 0]\n"
     ]
    },
    {
     "name": "stderr",
     "output_type": "stream",
     "text": [
      "311it [18:14,  3.09s/it, BLEU2=0.323, BLEU1=0.39, ExactMatch=0.0275, METEOR=0.591, BertScore=nan, StubScore=0.161] "
     ]
    },
    {
     "name": "stdout",
     "output_type": "stream",
     "text": [
      "answer raw len:  310 1\n",
      "True\n",
      "Название гостиницы, где располагалось издательство \"Скорпион\", было \"Метрополь\".\n",
      "Гостиница, где размещалось издательство Скорпион, называлась Метрополь.\n",
      "[0, 0, 0, 0, 0, 0, 1, 0, 0, 0, 0, 0, 0, 0, 0, 0, 0, 0, 0, 0, 0, 1, 0, 0, 0, 0, 1, 0, 1, 0, 0, 0, 0, 0, 0, 0, 1, 0, 0, 0, 0, 1, 0, 0, 0, 0, 0, 1, 0, 1, 0, 0, 1, 0, 0, 0]\n"
     ]
    },
    {
     "name": "stderr",
     "output_type": "stream",
     "text": [
      "312it [18:15,  2.41s/it, BLEU2=0.323, BLEU1=0.389, ExactMatch=0.0273, METEOR=0.59, BertScore=nan, StubScore=0.161]"
     ]
    },
    {
     "name": "stdout",
     "output_type": "stream",
     "text": [
      "answer raw len:  311 1\n",
      "True\n",
      "18 октября 1903 года.\n",
      "Голосование комиссии по присуждению Пушкинской премии состоялось 18 октября 1903 года.\n",
      "[0, 0, 0, 0, 0, 0, 1, 0, 0, 0, 0, 0, 0, 0, 0, 0, 0, 0, 0, 0, 0, 1, 0, 0, 0, 0, 1, 0, 1, 0, 0, 0, 0, 0, 0, 0, 1, 0, 0, 0, 0, 1, 0, 0, 0, 0, 0, 1, 0, 1, 0, 0, 1, 0, 0, 0]\n",
      "answer raw len:  312 1\n"
     ]
    },
    {
     "name": "stderr",
     "output_type": "stream",
     "text": [
      "313it [18:19,  2.86s/it, BLEU2=0.323, BLEU1=0.389, ExactMatch=0.0273, METEOR=0.59, BertScore=nan, StubScore=0.158]"
     ]
    },
    {
     "name": "stdout",
     "output_type": "stream",
     "text": [
      "sim raw len:  1\n",
      "False\n",
      "Вторая часть Нобелевской премии по литературе была присуждена Бобу Дилану в 2016 году.\n",
      "Вторая часть премии досталась переводчику Петру Вейнбергу.\n",
      "[0, 0, 0, 0, 0, 0, 1, 0, 0, 0, 0, 0, 0, 0, 0, 0, 0, 0, 0, 0, 0, 1, 0, 0, 0, 0, 1, 0, 1, 0, 0, 0, 0, 0, 0, 0, 1, 0, 0, 0, 0, 1, 0, 0, 0, 0, 0, 1, 0, 1, 0, 0, 1, 0, 0, 0, 0]\n"
     ]
    },
    {
     "name": "stderr",
     "output_type": "stream",
     "text": [
      "314it [18:20,  2.18s/it, BLEU2=0.325, BLEU1=0.392, ExactMatch=0.0311, METEOR=0.592, BertScore=nan, StubScore=0.158]"
     ]
    },
    {
     "name": "stdout",
     "output_type": "stream",
     "text": [
      "answer raw len:  313 1\n",
      "True\n",
      "Бунин получил восемь избирательных голосов.\n",
      "Бунин получил восемь избирательных голосов.\n",
      "[0, 0, 0, 0, 0, 0, 1, 0, 0, 0, 0, 0, 0, 0, 0, 0, 0, 0, 0, 0, 0, 1, 0, 0, 0, 0, 1, 0, 1, 0, 0, 0, 0, 0, 0, 0, 1, 0, 0, 0, 0, 1, 0, 0, 0, 0, 0, 1, 0, 1, 0, 0, 1, 0, 0, 0, 0]\n"
     ]
    },
    {
     "name": "stderr",
     "output_type": "stream",
     "text": [
      "315it [18:21,  1.82s/it, BLEU2=0.325, BLEU1=0.391, ExactMatch=0.031, METEOR=0.591, BertScore=nan, StubScore=0.158] "
     ]
    },
    {
     "name": "stdout",
     "output_type": "stream",
     "text": [
      "answer raw len:  314 1\n",
      "True\n",
      "Что способствовало укреплению репутации Бунина как литератора?\n",
      "Репутацию Бунина как литератора укрепила Пушкинская премия.\n",
      "[0, 0, 0, 0, 0, 0, 1, 0, 0, 0, 0, 0, 0, 0, 0, 0, 0, 0, 0, 0, 0, 1, 0, 0, 0, 0, 1, 0, 1, 0, 0, 0, 0, 0, 0, 0, 1, 0, 0, 0, 0, 1, 0, 0, 0, 0, 0, 1, 0, 1, 0, 0, 1, 0, 0, 0, 0]\n"
     ]
    },
    {
     "name": "stderr",
     "output_type": "stream",
     "text": [
      "316it [18:21,  1.40s/it, BLEU2=0.324, BLEU1=0.39, ExactMatch=0.0309, METEOR=0.591, BertScore=nan, StubScore=0.158]"
     ]
    },
    {
     "name": "stdout",
     "output_type": "stream",
     "text": [
      "answer raw len:  315 1\n",
      "True\n",
      "3 апреля.\n",
      "Слушание дела началось 3 апреля.\n",
      "[0, 0, 0, 0, 0, 0, 1, 0, 0, 0, 0, 0, 0, 0, 0, 0, 0, 0, 0, 0, 0, 1, 0, 0, 0, 0, 1, 0, 1, 0, 0, 0, 0, 0, 0, 0, 1, 0, 0, 0, 0, 1, 0, 0, 0, 0, 0, 1, 0, 1, 0, 0, 1, 0, 0, 0, 0]\n"
     ]
    },
    {
     "name": "stderr",
     "output_type": "stream",
     "text": [
      "317it [18:23,  1.46s/it, BLEU2=0.327, BLEU1=0.393, ExactMatch=0.0346, METEOR=0.592, BertScore=nan, StubScore=0.158]"
     ]
    },
    {
     "name": "stdout",
     "output_type": "stream",
     "text": [
      "answer raw len:  316 1\n",
      "True\n",
      "Оскар Уайльд обвинил маркиза Куинсберри в клевете.\n",
      "Оскар Уайльд обвинил маркиза Куинсберри в клевете.\n",
      "[0, 0, 0, 0, 0, 0, 1, 0, 0, 0, 0, 0, 0, 0, 0, 0, 0, 0, 0, 0, 0, 1, 0, 0, 0, 0, 1, 0, 1, 0, 0, 0, 0, 0, 0, 0, 1, 0, 0, 0, 0, 1, 0, 0, 0, 0, 0, 1, 0, 1, 0, 0, 1, 0, 0, 0, 0]\n"
     ]
    },
    {
     "name": "stderr",
     "output_type": "stream",
     "text": [
      "318it [18:24,  1.35s/it, BLEU2=0.326, BLEU1=0.392, ExactMatch=0.0345, METEOR=0.591, BertScore=nan, StubScore=0.158]"
     ]
    },
    {
     "name": "stdout",
     "output_type": "stream",
     "text": [
      "answer raw len:  317 1\n",
      "True\n",
      "18 февраля 1895 года.\n",
      "Куинсберри написал записку Оскару Уайльду в клубе Элбемарл 18 февраля 1895 года.\n",
      "[0, 0, 0, 0, 0, 0, 1, 0, 0, 0, 0, 0, 0, 0, 0, 0, 0, 0, 0, 0, 0, 1, 0, 0, 0, 0, 1, 0, 1, 0, 0, 0, 0, 0, 0, 0, 1, 0, 0, 0, 0, 1, 0, 0, 0, 0, 0, 1, 0, 1, 0, 0, 1, 0, 0, 0, 0]\n"
     ]
    },
    {
     "name": "stderr",
     "output_type": "stream",
     "text": [
      "319it [18:25,  1.27s/it, BLEU2=0.326, BLEU1=0.391, ExactMatch=0.0344, METEOR=0.591, BertScore=nan, StubScore=0.158]"
     ]
    },
    {
     "name": "stdout",
     "output_type": "stream",
     "text": [
      "answer raw len:  318 1\n",
      "True\n",
      "18 февраля 1895 года.\n",
      "Оскар Уайльд получил записку Куинсберри 28 февраля 1895 года.\n",
      "[0, 0, 0, 0, 0, 0, 1, 0, 0, 0, 0, 0, 0, 0, 0, 0, 0, 0, 0, 0, 0, 1, 0, 0, 0, 0, 1, 0, 1, 0, 0, 0, 0, 0, 0, 0, 1, 0, 0, 0, 0, 1, 0, 0, 0, 0, 0, 1, 0, 1, 0, 0, 1, 0, 0, 0, 0]\n"
     ]
    },
    {
     "name": "stderr",
     "output_type": "stream",
     "text": [
      "320it [18:27,  1.39s/it, BLEU2=0.327, BLEU1=0.393, ExactMatch=0.0342, METEOR=0.592, BertScore=nan, StubScore=0.158]"
     ]
    },
    {
     "name": "stdout",
     "output_type": "stream",
     "text": [
      "answer raw len:  319 1\n",
      "True\n",
      "В зале суда присутствовали только мужчины из-за безнравственности рассматриваемых доказательств.\n",
      "В зале суда присутствовали только мужчины по причине безнравственности рассматриваемых доказательств.\n",
      "[0, 0, 0, 0, 0, 0, 1, 0, 0, 0, 0, 0, 0, 0, 0, 0, 0, 0, 0, 0, 0, 1, 0, 0, 0, 0, 1, 0, 1, 0, 0, 0, 0, 0, 0, 0, 1, 0, 0, 0, 0, 1, 0, 0, 0, 0, 0, 1, 0, 1, 0, 0, 1, 0, 0, 0, 0]\n"
     ]
    },
    {
     "name": "stderr",
     "output_type": "stream",
     "text": [
      "321it [18:27,  1.18s/it, BLEU2=0.326, BLEU1=0.391, ExactMatch=0.0341, METEOR=0.59, BertScore=nan, StubScore=0.158] "
     ]
    },
    {
     "name": "stdout",
     "output_type": "stream",
     "text": [
      "answer raw len:  320 1\n",
      "True\n",
      "1870-е годы\n",
      "Беспредельное народолюбие выдвигают на первый план 1870-е годы.\n",
      "[0, 0, 0, 0, 0, 0, 1, 0, 0, 0, 0, 0, 0, 0, 0, 0, 0, 0, 0, 0, 0, 1, 0, 0, 0, 0, 1, 0, 1, 0, 0, 0, 0, 0, 0, 0, 1, 0, 0, 0, 0, 1, 0, 0, 0, 0, 0, 1, 0, 1, 0, 0, 1, 0, 0, 0, 0]\n"
     ]
    },
    {
     "name": "stderr",
     "output_type": "stream",
     "text": [
      "322it [18:29,  1.29s/it, BLEU2=0.325, BLEU1=0.39, ExactMatch=0.034, METEOR=0.589, BertScore=nan, StubScore=0.158] "
     ]
    },
    {
     "name": "stdout",
     "output_type": "stream",
     "text": [
      "answer raw len:  321 1\n",
      "True\n",
      "[0.08] Общество пропаганды возглавлял Михаил Александрович Натансон.\n",
      "Большое общество пропаганды возглавлялось М. А. Натансоном.\n",
      "[0, 0, 0, 0, 0, 0, 1, 0, 0, 0, 0, 0, 0, 0, 0, 0, 0, 0, 0, 0, 0, 1, 0, 0, 0, 0, 1, 0, 1, 0, 0, 0, 0, 0, 0, 0, 1, 0, 0, 0, 0, 1, 0, 0, 0, 0, 0, 1, 0, 1, 0, 0, 1, 0, 0, 0, 0]\n"
     ]
    },
    {
     "name": "stderr",
     "output_type": "stream",
     "text": [
      "323it [18:31,  1.45s/it, BLEU2=0.325, BLEU1=0.39, ExactMatch=0.0338, METEOR=0.588, BertScore=nan, StubScore=0.158]"
     ]
    },
    {
     "name": "stdout",
     "output_type": "stream",
     "text": [
      "answer raw len:  322 1\n",
      "True\n",
      "Кружки народничества начали действовать в крупных городах России в 1870-х годах.\n",
      "Несколько десятков народнических кружков в крупных городах России действовало с конца 1860-х.\n",
      "[0, 0, 0, 0, 0, 0, 1, 0, 0, 0, 0, 0, 0, 0, 0, 0, 0, 0, 0, 0, 0, 1, 0, 0, 0, 0, 1, 0, 1, 0, 0, 0, 0, 0, 0, 0, 1, 0, 0, 0, 0, 1, 0, 0, 0, 0, 0, 1, 0, 1, 0, 0, 1, 0, 0, 0, 0]\n"
     ]
    },
    {
     "name": "stderr",
     "output_type": "stream",
     "text": [
      "324it [18:33,  1.68s/it, BLEU2=0.325, BLEU1=0.391, ExactMatch=0.0337, METEOR=0.589, BertScore=nan, StubScore=0.158]"
     ]
    },
    {
     "name": "stdout",
     "output_type": "stream",
     "text": [
      "answer raw len:  323 1\n",
      "True\n",
      "Один из народнических кружков был создан С. Л. Перовской в 1871 году.\n",
      "Создателем одного из народнических кружков был С. Л. Перовской.\n",
      "[0, 0, 0, 0, 0, 0, 1, 0, 0, 0, 0, 0, 0, 0, 0, 0, 0, 0, 0, 0, 0, 1, 0, 0, 0, 0, 1, 0, 1, 0, 0, 0, 0, 0, 0, 0, 1, 0, 0, 0, 0, 1, 0, 0, 0, 0, 0, 1, 0, 1, 0, 0, 1, 0, 0, 0, 0]\n"
     ]
    },
    {
     "name": "stderr",
     "output_type": "stream",
     "text": [
      "325it [18:34,  1.57s/it, BLEU2=0.327, BLEU1=0.392, ExactMatch=0.0336, METEOR=0.59, BertScore=nan, StubScore=0.158] "
     ]
    },
    {
     "name": "stdout",
     "output_type": "stream",
     "text": [
      "answer raw len:  324 1\n",
      "True\n",
      "Выражение \"покаянные дворяне\" принадлежит Николаю Константиновичу Михайловскому.\n",
      "Выражение \"кающиеся дворяне\" принадлежит Николаю Константиновичу Михайловскому.\n",
      "[0, 0, 0, 0, 0, 0, 1, 0, 0, 0, 0, 0, 0, 0, 0, 0, 0, 0, 0, 0, 0, 1, 0, 0, 0, 0, 1, 0, 1, 0, 0, 0, 0, 0, 0, 0, 1, 0, 0, 0, 0, 1, 0, 0, 0, 0, 0, 1, 0, 1, 0, 0, 1, 0, 0, 0, 0]\n"
     ]
    },
    {
     "name": "stderr",
     "output_type": "stream",
     "text": [
      "326it [18:38,  2.17s/it, BLEU2=0.326, BLEU1=0.392, ExactMatch=0.0335, METEOR=0.59, BertScore=nan, StubScore=0.158]"
     ]
    },
    {
     "name": "stdout",
     "output_type": "stream",
     "text": [
      "answer raw len:  325 1\n",
      "True\n",
      "19 сентября 1890 года Шаляпин дебютировал в опере Монюшко \"Галька\", где он получил сольную партию Стольника, заменив внезапно заболевшего артиста.\n",
      "Шаляпин поучил сольную партию в опере Монюшко Галька.\n",
      "[0, 0, 0, 0, 0, 0, 1, 0, 0, 0, 0, 0, 0, 0, 0, 0, 0, 0, 0, 0, 0, 1, 0, 0, 0, 0, 1, 0, 1, 0, 0, 0, 0, 0, 0, 0, 1, 0, 0, 0, 0, 1, 0, 0, 0, 0, 0, 1, 0, 1, 0, 0, 1, 0, 0, 0, 0]\n"
     ]
    },
    {
     "name": "stderr",
     "output_type": "stream",
     "text": [
      "327it [18:39,  1.86s/it, BLEU2=0.326, BLEU1=0.392, ExactMatch=0.0333, METEOR=0.589, BertScore=nan, StubScore=0.158]"
     ]
    },
    {
     "name": "stdout",
     "output_type": "stream",
     "text": [
      "answer raw len:  326 1\n",
      "True\n",
      "Шаляпин начал работать в хоре оперетты в Уфе.\n",
      "В Уфе он начинал работать в хоре опереточной труппы.\n",
      "[0, 0, 0, 0, 0, 0, 1, 0, 0, 0, 0, 0, 0, 0, 0, 0, 0, 0, 0, 0, 0, 1, 0, 0, 0, 0, 1, 0, 1, 0, 0, 0, 0, 0, 0, 0, 1, 0, 0, 0, 0, 1, 0, 0, 0, 0, 0, 1, 0, 1, 0, 0, 1, 0, 0, 0, 0]\n"
     ]
    },
    {
     "name": "stderr",
     "output_type": "stream",
     "text": [
      "328it [18:40,  1.54s/it, BLEU2=0.326, BLEU1=0.391, ExactMatch=0.0332, METEOR=0.589, BertScore=nan, StubScore=0.158]"
     ]
    },
    {
     "name": "stdout",
     "output_type": "stream",
     "text": [
      "answer raw len:  327 1\n",
      "True\n",
      "19 сентября 1890 года.\n",
      "Шаляпин переехал из Казани в Уфу 19 сентября 1890 года.\n",
      "[0, 0, 0, 0, 0, 0, 1, 0, 0, 0, 0, 0, 0, 0, 0, 0, 0, 0, 0, 0, 0, 1, 0, 0, 0, 0, 1, 0, 1, 0, 0, 0, 0, 0, 0, 0, 1, 0, 0, 0, 0, 1, 0, 0, 0, 0, 0, 1, 0, 1, 0, 0, 1, 0, 0, 0, 0]\n"
     ]
    },
    {
     "name": "stderr",
     "output_type": "stream",
     "text": [
      "329it [18:42,  1.71s/it, BLEU2=0.327, BLEU1=0.392, ExactMatch=0.0331, METEOR=0.59, BertScore=nan, StubScore=0.158] "
     ]
    },
    {
     "name": "stdout",
     "output_type": "stream",
     "text": [
      "answer raw len:  328 1\n",
      "True\n",
      "Шаляпин начал работать в хоре оперетты под руководством С. Я. Семёнова-Самарского.\n",
      "Шаляпин начинал работать в хоре опереточной труппы под руководством С. Я. Семёнова-Самарского.\n",
      "[0, 0, 0, 0, 0, 0, 1, 0, 0, 0, 0, 0, 0, 0, 0, 0, 0, 0, 0, 0, 0, 1, 0, 0, 0, 0, 1, 0, 1, 0, 0, 0, 0, 0, 0, 0, 1, 0, 0, 0, 0, 1, 0, 0, 0, 0, 0, 1, 0, 1, 0, 0, 1, 0, 0, 0, 0]\n"
     ]
    },
    {
     "name": "stderr",
     "output_type": "stream",
     "text": [
      "330it [18:45,  2.25s/it, BLEU2=0.327, BLEU1=0.392, ExactMatch=0.033, METEOR=0.59, BertScore=nan, StubScore=0.158] "
     ]
    },
    {
     "name": "stdout",
     "output_type": "stream",
     "text": [
      "answer raw len:  329 1\n",
      "True\n",
      "Шаляпин упал на сцене, потому что сел не на тот стул, случайно промахнувшись мимо него. С тех пор он всегда внимательно следил за стульями на сцене, чтобы больше не промахнуться.\n",
      "Шаляпин упал на сцене, потому что сел мимо стула.\n",
      "[0, 0, 0, 0, 0, 0, 1, 0, 0, 0, 0, 0, 0, 0, 0, 0, 0, 0, 0, 0, 0, 1, 0, 0, 0, 0, 1, 0, 1, 0, 0, 0, 0, 0, 0, 0, 1, 0, 0, 0, 0, 1, 0, 0, 0, 0, 0, 1, 0, 1, 0, 0, 1, 0, 0, 0, 0]\n",
      "answer raw len:  330 1\n"
     ]
    },
    {
     "name": "stderr",
     "output_type": "stream",
     "text": [
      "331it [18:49,  2.57s/it, BLEU2=0.327, BLEU1=0.392, ExactMatch=0.033, METEOR=0.59, BertScore=nan, StubScore=0.155]"
     ]
    },
    {
     "name": "stdout",
     "output_type": "stream",
     "text": [
      "sim raw len:  1\n",
      "False\n",
      "Альбом называется \"Aladdin Sane\".\n",
      "Альбом назывался The Captain & The Kid.\n",
      "[0, 0, 0, 0, 0, 0, 1, 0, 0, 0, 0, 0, 0, 0, 0, 0, 0, 0, 0, 0, 0, 1, 0, 0, 0, 0, 1, 0, 1, 0, 0, 0, 0, 0, 0, 0, 1, 0, 0, 0, 0, 1, 0, 0, 0, 0, 0, 1, 0, 1, 0, 0, 1, 0, 0, 0, 0, 0]\n",
      "answer raw len:  331 1\n"
     ]
    },
    {
     "name": "stderr",
     "output_type": "stream",
     "text": [
      "332it [18:51,  2.37s/it, BLEU2=0.327, BLEU1=0.392, ExactMatch=0.033, METEOR=0.59, BertScore=nan, StubScore=0.169]"
     ]
    },
    {
     "name": "stdout",
     "output_type": "stream",
     "text": [
      "sim raw len:  1\n",
      "False\n",
      "У меня нет ответа на ваш вопрос.\n",
      "Мировые продажи альбома на настоящий момент составляют примерно 3,5 млн копий.\n",
      "[0, 0, 0, 0, 0, 0, 1, 0, 0, 0, 0, 0, 0, 0, 0, 0, 0, 0, 0, 0, 0, 1, 0, 0, 0, 0, 1, 0, 1, 0, 0, 0, 0, 0, 0, 0, 1, 0, 0, 0, 0, 1, 0, 0, 0, 0, 0, 1, 0, 1, 0, 0, 1, 0, 0, 0, 0, 0, 1]\n"
     ]
    },
    {
     "name": "stderr",
     "output_type": "stream",
     "text": [
      "333it [18:52,  2.24s/it, BLEU2=0.328, BLEU1=0.394, ExactMatch=0.0328, METEOR=0.591, BertScore=nan, StubScore=0.169]"
     ]
    },
    {
     "name": "stdout",
     "output_type": "stream",
     "text": [
      "answer raw len:  332 1\n",
      "True\n",
      "Элтон Джон и Берни Топин выпустили еще один совместный диск 19 сентября 2006 года.\n",
      "Элтон Джон и Берни Топин выпустили очередной совместный диск 19 сентября 2006 года.\n",
      "[0, 0, 0, 0, 0, 0, 1, 0, 0, 0, 0, 0, 0, 0, 0, 0, 0, 0, 0, 0, 0, 1, 0, 0, 0, 0, 1, 0, 1, 0, 0, 0, 0, 0, 0, 0, 1, 0, 0, 0, 0, 1, 0, 0, 0, 0, 0, 1, 0, 1, 0, 0, 1, 0, 0, 0, 0, 0, 1]\n",
      "answer raw len:  333 1\n"
     ]
    },
    {
     "name": "stderr",
     "output_type": "stream",
     "text": [
      "334it [18:58,  3.18s/it, BLEU2=0.328, BLEU1=0.394, ExactMatch=0.0328, METEOR=0.591, BertScore=nan, StubScore=0.167]"
     ]
    },
    {
     "name": "stdout",
     "output_type": "stream",
     "text": [
      "sim raw len:  1\n",
      "False\n",
      "В альбоме \"Toy\" было запланировано 13 песен, но он так и не был выпущен, поэтому в итоге не было выпущено ни одной песни.\n",
      "В альбоме было 10 песен.\n",
      "[0, 0, 0, 0, 0, 0, 1, 0, 0, 0, 0, 0, 0, 0, 0, 0, 0, 0, 0, 0, 0, 1, 0, 0, 0, 0, 1, 0, 1, 0, 0, 0, 0, 0, 0, 0, 1, 0, 0, 0, 0, 1, 0, 0, 0, 0, 0, 1, 0, 1, 0, 0, 1, 0, 0, 0, 0, 0, 1, 0]\n",
      "answer raw len:  334 1\n"
     ]
    },
    {
     "name": "stderr",
     "output_type": "stream",
     "text": [
      "335it [19:05,  4.24s/it, BLEU2=0.328, BLEU1=0.394, ExactMatch=0.0328, METEOR=0.591, BertScore=nan, StubScore=0.164]"
     ]
    },
    {
     "name": "stdout",
     "output_type": "stream",
     "text": [
      "sim raw len:  1\n",
      "False\n",
      "1. [0.08] Компакт-диски изначально использовались для хранения аудиозаписей в цифровом виде (известных как CD-Audio), а затем стали широко использоваться для хранения любых данных (файлов) в двоичном виде (CD-ROM).\n",
      "На диск были помещены одновременно фотографии Элтона Джона и Берни Топина.\n",
      "[0, 0, 0, 0, 0, 0, 1, 0, 0, 0, 0, 0, 0, 0, 0, 0, 0, 0, 0, 0, 0, 1, 0, 0, 0, 0, 1, 0, 1, 0, 0, 0, 0, 0, 0, 0, 1, 0, 0, 0, 0, 1, 0, 0, 0, 0, 0, 1, 0, 1, 0, 0, 1, 0, 0, 0, 0, 0, 1, 0, 0]\n"
     ]
    },
    {
     "name": "stderr",
     "output_type": "stream",
     "text": [
      "336it [19:07,  3.57s/it, BLEU2=0.329, BLEU1=0.395, ExactMatch=0.0327, METEOR=0.592, BertScore=nan, StubScore=0.164]"
     ]
    },
    {
     "name": "stdout",
     "output_type": "stream",
     "text": [
      "answer raw len:  335 1\n",
      "True\n",
      "Пруст работал над сборником \"Против Сент-Бева\" весной и летом 1908 года.\n",
      "Сборник над которым работал Пруст весной и летом 1908 года назывался \"Против Сент-Бёва\".\n",
      "[0, 0, 0, 0, 0, 0, 1, 0, 0, 0, 0, 0, 0, 0, 0, 0, 0, 0, 0, 0, 0, 1, 0, 0, 0, 0, 1, 0, 1, 0, 0, 0, 0, 0, 0, 0, 1, 0, 0, 0, 0, 1, 0, 0, 0, 0, 0, 1, 0, 1, 0, 0, 1, 0, 0, 0, 0, 0, 1, 0, 0]\n"
     ]
    },
    {
     "name": "stderr",
     "output_type": "stream",
     "text": [
      "337it [19:07,  2.61s/it, BLEU2=0.328, BLEU1=0.393, ExactMatch=0.0326, METEOR=0.589, BertScore=nan, StubScore=0.164]"
     ]
    },
    {
     "name": "stdout",
     "output_type": "stream",
     "text": [
      "answer raw len:  336 1\n",
      "True\n",
      "1904\n",
      "Самым важным для формирования Пруста как писателя был 1908 год.\n",
      "[0, 0, 0, 0, 0, 0, 1, 0, 0, 0, 0, 0, 0, 0, 0, 0, 0, 0, 0, 0, 0, 1, 0, 0, 0, 0, 1, 0, 1, 0, 0, 0, 0, 0, 0, 0, 1, 0, 0, 0, 0, 1, 0, 0, 0, 0, 0, 1, 0, 1, 0, 0, 1, 0, 0, 0, 0, 0, 1, 0, 0]\n"
     ]
    },
    {
     "name": "stderr",
     "output_type": "stream",
     "text": [
      "338it [19:09,  2.38s/it, BLEU2=0.329, BLEU1=0.395, ExactMatch=0.0325, METEOR=0.591, BertScore=nan, StubScore=0.164]"
     ]
    },
    {
     "name": "stdout",
     "output_type": "stream",
     "text": [
      "answer raw len:  337 1\n",
      "True\n",
      "Пруст хотел опубликовать в различных журналах пародии на других писателей, чтобы отточить свой собственный стиль.\n",
      "Публикуя в различных журналах пародии на других писателей, Пруст хотел отточить свой собственный стиль.\n",
      "[0, 0, 0, 0, 0, 0, 1, 0, 0, 0, 0, 0, 0, 0, 0, 0, 0, 0, 0, 0, 0, 1, 0, 0, 0, 0, 1, 0, 1, 0, 0, 0, 0, 0, 0, 0, 1, 0, 0, 0, 0, 1, 0, 0, 0, 0, 0, 1, 0, 1, 0, 0, 1, 0, 0, 0, 0, 0, 1, 0, 0]\n"
     ]
    },
    {
     "name": "stderr",
     "output_type": "stream",
     "text": [
      "339it [19:11,  2.18s/it, BLEU2=0.331, BLEU1=0.397, ExactMatch=0.0324, METEOR=0.592, BertScore=nan, StubScore=0.164]"
     ]
    },
    {
     "name": "stdout",
     "output_type": "stream",
     "text": [
      "answer raw len:  338 1\n",
      "True\n",
      "В первой половине 1908 года Пруст опубликовал в различных журналах пародии на других писателей.\n",
      "В первой половине года Пруст опубликовал в различных журналах пародии на других писателей.\n",
      "[0, 0, 0, 0, 0, 0, 1, 0, 0, 0, 0, 0, 0, 0, 0, 0, 0, 0, 0, 0, 0, 1, 0, 0, 0, 0, 1, 0, 1, 0, 0, 0, 0, 0, 0, 0, 1, 0, 0, 0, 0, 1, 0, 0, 0, 0, 0, 1, 0, 1, 0, 0, 1, 0, 0, 0, 0, 0, 1, 0, 0]\n"
     ]
    },
    {
     "name": "stderr",
     "output_type": "stream",
     "text": [
      "340it [19:11,  1.68s/it, BLEU2=0.33, BLEU1=0.395, ExactMatch=0.0323, METEOR=0.59, BertScore=nan, StubScore=0.164]  "
     ]
    },
    {
     "name": "stdout",
     "output_type": "stream",
     "text": [
      "answer raw len:  339 1\n",
      "True\n",
      "1956\n",
      "Совместно с Independent Television Network Би-би-си стало вещать в 1956 году.\n",
      "[0, 0, 0, 0, 0, 0, 1, 0, 0, 0, 0, 0, 0, 0, 0, 0, 0, 0, 0, 0, 0, 1, 0, 0, 0, 0, 1, 0, 1, 0, 0, 0, 0, 0, 0, 0, 1, 0, 0, 0, 0, 1, 0, 0, 0, 0, 0, 1, 0, 1, 0, 0, 1, 0, 0, 0, 0, 0, 1, 0, 0]\n"
     ]
    },
    {
     "name": "stderr",
     "output_type": "stream",
     "text": [
      "341it [19:11,  1.31s/it, BLEU2=0.329, BLEU1=0.394, ExactMatch=0.0321, METEOR=0.588, BertScore=nan, StubScore=0.164]"
     ]
    },
    {
     "name": "stdout",
     "output_type": "stream",
     "text": [
      "answer raw len:  340 1\n",
      "True\n",
      "1937\n",
      "Первая телевизионная трансляция теннисного мачта на уимблдоне была в 1937 году.\n",
      "[0, 0, 0, 0, 0, 0, 1, 0, 0, 0, 0, 0, 0, 0, 0, 0, 0, 0, 0, 0, 0, 1, 0, 0, 0, 0, 1, 0, 1, 0, 0, 0, 0, 0, 0, 0, 1, 0, 0, 0, 0, 1, 0, 0, 0, 0, 0, 1, 0, 1, 0, 0, 1, 0, 0, 0, 0, 0, 1, 0, 0]\n"
     ]
    },
    {
     "name": "stderr",
     "output_type": "stream",
     "text": [
      "342it [19:15,  1.83s/it, BLEU2=0.328, BLEU1=0.393, ExactMatch=0.032, METEOR=0.587, BertScore=nan, StubScore=0.164] "
     ]
    },
    {
     "name": "stdout",
     "output_type": "stream",
     "text": [
      "answer raw len:  341 1\n",
      "True\n",
      "Би-би-си вела прямую телевизионную трансляцию матча первого раунда между Банни Остин и ирландцем Джорджем Роджерсом.\n",
      "Первую трансляцию теннисного матча вела Би-би-си.\n",
      "[0, 0, 0, 0, 0, 0, 1, 0, 0, 0, 0, 0, 0, 0, 0, 0, 0, 0, 0, 0, 0, 1, 0, 0, 0, 0, 1, 0, 1, 0, 0, 0, 0, 0, 0, 0, 1, 0, 0, 0, 0, 1, 0, 0, 0, 0, 0, 1, 0, 1, 0, 0, 1, 0, 0, 0, 0, 0, 1, 0, 0]\n",
      "answer raw len:  342 1\n"
     ]
    },
    {
     "name": "stderr",
     "output_type": "stream",
     "text": [
      "343it [19:19,  2.68s/it, BLEU2=0.328, BLEU1=0.393, ExactMatch=0.032, METEOR=0.587, BertScore=nan, StubScore=0.161]"
     ]
    },
    {
     "name": "stdout",
     "output_type": "stream",
     "text": [
      "sim raw len:  1\n",
      "False\n",
      "В 1939 году Италия стала абсолютным чемпионом на Чемпионате мира по футболу, который проходил во Франции.\n",
      "Абсолютными чемпионами в 1939 году стали Элис Марбл и Бобби Риггс.\n",
      "[0, 0, 0, 0, 0, 0, 1, 0, 0, 0, 0, 0, 0, 0, 0, 0, 0, 0, 0, 0, 0, 1, 0, 0, 0, 0, 1, 0, 1, 0, 0, 0, 0, 0, 0, 0, 1, 0, 0, 0, 0, 1, 0, 0, 0, 0, 0, 1, 0, 1, 0, 0, 1, 0, 0, 0, 0, 0, 1, 0, 0, 0]\n"
     ]
    },
    {
     "name": "stderr",
     "output_type": "stream",
     "text": [
      "344it [19:26,  3.87s/it, BLEU2=0.327, BLEU1=0.392, ExactMatch=0.0319, METEOR=0.587, BertScore=nan, StubScore=0.161]"
     ]
    },
    {
     "name": "stdout",
     "output_type": "stream",
     "text": [
      "answer raw len:  343 1\n",
      "True\n",
      "1937 год стал не только годом последней победы британцев на межвоенном Уимблдоне, но и первым трансляцией теннисного матча по телевидению: BBC вела прямую телевизионную трансляцию матча первого раунда между Банни Остин и ирландцем Джорджем Роджерсом[36].\n",
      "Впервые Би-би-си транслировался матч между Банни Остином и ирландцем Джорджем Роджерсом.\n",
      "[0, 0, 0, 0, 0, 0, 1, 0, 0, 0, 0, 0, 0, 0, 0, 0, 0, 0, 0, 0, 0, 1, 0, 0, 0, 0, 1, 0, 1, 0, 0, 0, 0, 0, 0, 0, 1, 0, 0, 0, 0, 1, 0, 0, 0, 0, 0, 1, 0, 1, 0, 0, 1, 0, 0, 0, 0, 0, 1, 0, 0, 0]\n"
     ]
    },
    {
     "name": "stderr",
     "output_type": "stream",
     "text": [
      "345it [19:28,  3.26s/it, BLEU2=0.328, BLEU1=0.394, ExactMatch=0.0318, METEOR=0.587, BertScore=nan, StubScore=0.161]"
     ]
    },
    {
     "name": "stdout",
     "output_type": "stream",
     "text": [
      "answer raw len:  344 1\n",
      "True\n",
      "1974 году Шукшин принял приглашение сниматься в фильме режиссера Сергея Бондарчука.\n",
      "В 1974 году Шукшин принял приглашение сниматься в фильме С. Ф. Бондарчука.\n",
      "[0, 0, 0, 0, 0, 0, 1, 0, 0, 0, 0, 0, 0, 0, 0, 0, 0, 0, 0, 0, 0, 1, 0, 0, 0, 0, 1, 0, 1, 0, 0, 0, 0, 0, 0, 0, 1, 0, 0, 0, 0, 1, 0, 0, 0, 0, 0, 1, 0, 1, 0, 0, 1, 0, 0, 0, 0, 0, 1, 0, 0, 0]\n",
      "answer raw len:  345 1\n"
     ]
    },
    {
     "name": "stderr",
     "output_type": "stream",
     "text": [
      "346it [19:30,  2.99s/it, BLEU2=0.328, BLEU1=0.394, ExactMatch=0.0318, METEOR=0.587, BertScore=nan, StubScore=0.175]"
     ]
    },
    {
     "name": "stdout",
     "output_type": "stream",
     "text": [
      "sim raw len:  1\n",
      "False\n",
      "У меня нет ответа на ваш вопрос.\n",
      "Сборник рассказов, опубликованный в 1973-1974 годах называется характеры.\n",
      "[0, 0, 0, 0, 0, 0, 1, 0, 0, 0, 0, 0, 0, 0, 0, 0, 0, 0, 0, 0, 0, 1, 0, 0, 0, 0, 1, 0, 1, 0, 0, 0, 0, 0, 0, 0, 1, 0, 0, 0, 0, 1, 0, 0, 0, 0, 0, 1, 0, 1, 0, 0, 1, 0, 0, 0, 0, 0, 1, 0, 0, 0, 1]\n"
     ]
    },
    {
     "name": "stderr",
     "output_type": "stream",
     "text": [
      "347it [19:32,  2.83s/it, BLEU2=0.328, BLEU1=0.394, ExactMatch=0.0317, METEOR=0.588, BertScore=nan, StubScore=0.175]"
     ]
    },
    {
     "name": "stdout",
     "output_type": "stream",
     "text": [
      "answer raw len:  346 1\n",
      "True\n",
      "Фильм Шукшина, выпущенный в 1973-1974 годах, называется \"Калина красная\".\n",
      "Фильм Шукшина \"Калина красная\" вышел в 1973-1974 годах.\n",
      "[0, 0, 0, 0, 0, 0, 1, 0, 0, 0, 0, 0, 0, 0, 0, 0, 0, 0, 0, 0, 0, 1, 0, 0, 0, 0, 1, 0, 1, 0, 0, 0, 0, 0, 0, 0, 1, 0, 0, 0, 0, 1, 0, 0, 0, 0, 0, 1, 0, 1, 0, 0, 1, 0, 0, 0, 0, 0, 1, 0, 0, 0, 1]\n"
     ]
    },
    {
     "name": "stderr",
     "output_type": "stream",
     "text": [
      "348it [19:36,  2.90s/it, BLEU2=0.328, BLEU1=0.394, ExactMatch=0.0316, METEOR=0.589, BertScore=nan, StubScore=0.175]"
     ]
    },
    {
     "name": "stdout",
     "output_type": "stream",
     "text": [
      "answer raw len:  347 1\n",
      "True\n",
      "Фильм, выпущенный в 1973-1974 годах, назывался \"Калина красная\" и получил первый приз на Всесоюзном кинофестивале.\n",
      "Фильм, вышедший в 1973-1974 годах получил первый приз ВКФ.\n",
      "[0, 0, 0, 0, 0, 0, 1, 0, 0, 0, 0, 0, 0, 0, 0, 0, 0, 0, 0, 0, 0, 1, 0, 0, 0, 0, 1, 0, 1, 0, 0, 0, 0, 0, 0, 0, 1, 0, 0, 0, 0, 1, 0, 0, 0, 0, 0, 1, 0, 1, 0, 0, 1, 0, 0, 0, 0, 0, 1, 0, 0, 0, 1]\n"
     ]
    },
    {
     "name": "stderr",
     "output_type": "stream",
     "text": [
      "349it [19:40,  3.22s/it, BLEU2=0.327, BLEU1=0.393, ExactMatch=0.0315, METEOR=0.589, BertScore=nan, StubScore=0.175]"
     ]
    },
    {
     "name": "stdout",
     "output_type": "stream",
     "text": [
      "answer raw len:  348 1\n",
      "True\n",
      "Пьеса, которую режиссер Г. А. Товстоногов готовил к постановке на сцене Ленинградского академического драматического театра имени А. П. Горького (ЛАБДТ), называлась \"Энергичные люди\".\n",
      "На сцене ЛАБДТ режиссёр Г. А. Товстоногов готовил постановку пьесы Энергичные люди.\n",
      "[0, 0, 0, 0, 0, 0, 1, 0, 0, 0, 0, 0, 0, 0, 0, 0, 0, 0, 0, 0, 0, 1, 0, 0, 0, 0, 1, 0, 1, 0, 0, 0, 0, 0, 0, 0, 1, 0, 0, 0, 0, 1, 0, 0, 0, 0, 0, 1, 0, 1, 0, 0, 1, 0, 0, 0, 0, 0, 1, 0, 0, 0, 1]\n"
     ]
    },
    {
     "name": "stderr",
     "output_type": "stream",
     "text": [
      "350it [19:41,  2.77s/it, BLEU2=0.326, BLEU1=0.392, ExactMatch=0.0314, METEOR=0.588, BertScore=nan, StubScore=0.175]"
     ]
    },
    {
     "name": "stdout",
     "output_type": "stream",
     "text": [
      "answer raw len:  349 1\n",
      "True\n",
      "Стивен Спилберг стал соучредителем кинокомпании Amblin Entertainment в 1984 году.\n",
      "Спилберг создал компанию Amblin Entertainment.\n",
      "[0, 0, 0, 0, 0, 0, 1, 0, 0, 0, 0, 0, 0, 0, 0, 0, 0, 0, 0, 0, 0, 1, 0, 0, 0, 0, 1, 0, 1, 0, 0, 0, 0, 0, 0, 0, 1, 0, 0, 0, 0, 1, 0, 0, 0, 0, 0, 1, 0, 1, 0, 0, 1, 0, 0, 0, 0, 0, 1, 0, 0, 0, 1]\n"
     ]
    },
    {
     "name": "stderr",
     "output_type": "stream",
     "text": [
      "351it [19:44,  2.70s/it, BLEU2=0.327, BLEU1=0.394, ExactMatch=0.0312, METEOR=0.589, BertScore=nan, StubScore=0.175]"
     ]
    },
    {
     "name": "stdout",
     "output_type": "stream",
     "text": [
      "answer raw len:  350 1\n",
      "True\n",
      "Фильмы \"Назад в будущее\" и \"Кто подставил кролика Роджера\" были сняты Робертом Земекисом.\n",
      "Фильмы Назад в будущее и Кто подставил кролика Роджера были сняты Робертом Земекисом.\n",
      "[0, 0, 0, 0, 0, 0, 1, 0, 0, 0, 0, 0, 0, 0, 0, 0, 0, 0, 0, 0, 0, 1, 0, 0, 0, 0, 1, 0, 1, 0, 0, 0, 0, 0, 0, 0, 1, 0, 0, 0, 0, 1, 0, 0, 0, 0, 0, 1, 0, 1, 0, 0, 1, 0, 0, 0, 0, 0, 1, 0, 0, 0, 1]\n"
     ]
    },
    {
     "name": "stderr",
     "output_type": "stream",
     "text": [
      "352it [19:45,  2.34s/it, BLEU2=0.328, BLEU1=0.395, ExactMatch=0.0311, METEOR=0.59, BertScore=nan, StubScore=0.175] "
     ]
    },
    {
     "name": "stdout",
     "output_type": "stream",
     "text": [
      "answer raw len:  351 1\n",
      "True\n",
      "Кинокомпания Amblin Entertainment была основана в 1984 году.\n",
      "Кинокомпания Amblin Entertainment появилась в 1984 году.\n",
      "[0, 0, 0, 0, 0, 0, 1, 0, 0, 0, 0, 0, 0, 0, 0, 0, 0, 0, 0, 0, 0, 1, 0, 0, 0, 0, 1, 0, 1, 0, 0, 0, 0, 0, 0, 0, 1, 0, 0, 0, 0, 1, 0, 0, 0, 0, 0, 1, 0, 1, 0, 0, 1, 0, 0, 0, 0, 0, 1, 0, 0, 0, 1]\n"
     ]
    },
    {
     "name": "stderr",
     "output_type": "stream",
     "text": [
      "353it [19:46,  1.92s/it, BLEU2=0.327, BLEU1=0.394, ExactMatch=0.031, METEOR=0.59, BertScore=nan, StubScore=0.175] "
     ]
    },
    {
     "name": "stdout",
     "output_type": "stream",
     "text": [
      "answer raw len:  352 1\n",
      "True\n",
      "Стивен Спилберг участвовал в производстве более ста фильмов.\n",
      "При участии Спилберга было выпущено более ста фильмов\n",
      "[0, 0, 0, 0, 0, 0, 1, 0, 0, 0, 0, 0, 0, 0, 0, 0, 0, 0, 0, 0, 0, 1, 0, 0, 0, 0, 1, 0, 1, 0, 0, 0, 0, 0, 0, 0, 1, 0, 0, 0, 0, 1, 0, 0, 0, 0, 0, 1, 0, 1, 0, 0, 1, 0, 0, 0, 0, 0, 1, 0, 0, 0, 1]\n"
     ]
    },
    {
     "name": "stderr",
     "output_type": "stream",
     "text": [
      "354it [19:50,  2.55s/it, BLEU2=0.327, BLEU1=0.394, ExactMatch=0.0309, METEOR=0.589, BertScore=nan, StubScore=0.175]"
     ]
    },
    {
     "name": "stdout",
     "output_type": "stream",
     "text": [
      "answer raw len:  353 1\n",
      "True\n",
      "1980-е годы были временем экспериментов и создания фильмов с другим настроем для Стивена Спилберга. Он также активно занимался продюсированием, владея кинокомпанией Amblin Entertainment, которая помогла начать карьеру другим известным режиссерам.\n",
      "1980-е годы для Спилберга были площадкой для новых экспериментов и создания картин совсем другого плана.\n",
      "[0, 0, 0, 0, 0, 0, 1, 0, 0, 0, 0, 0, 0, 0, 0, 0, 0, 0, 0, 0, 0, 1, 0, 0, 0, 0, 1, 0, 1, 0, 0, 0, 0, 0, 0, 0, 1, 0, 0, 0, 0, 1, 0, 0, 0, 0, 0, 1, 0, 1, 0, 0, 1, 0, 0, 0, 0, 0, 1, 0, 0, 0, 1]\n"
     ]
    },
    {
     "name": "stderr",
     "output_type": "stream",
     "text": [
      "355it [19:53,  2.51s/it, BLEU2=0.327, BLEU1=0.394, ExactMatch=0.0308, METEOR=0.589, BertScore=nan, StubScore=0.175]"
     ]
    },
    {
     "name": "stdout",
     "output_type": "stream",
     "text": [
      "answer raw len:  354 1\n",
      "True\n",
      "В каком стиле была организована праздничная вечеринка по случаю 50-летия Элтона Джона?\n",
      "Праздничная вечеринка по случаю пятидесятилетия Элтона Джона была организована в стиле Людовика IV.\n",
      "[0, 0, 0, 0, 0, 0, 1, 0, 0, 0, 0, 0, 0, 0, 0, 0, 0, 0, 0, 0, 0, 1, 0, 0, 0, 0, 1, 0, 1, 0, 0, 0, 0, 0, 0, 0, 1, 0, 0, 0, 0, 1, 0, 0, 0, 0, 0, 1, 0, 1, 0, 0, 1, 0, 0, 0, 0, 0, 1, 0, 0, 0, 1]\n"
     ]
    },
    {
     "name": "stderr",
     "output_type": "stream",
     "text": [
      "356it [19:56,  2.62s/it, BLEU2=0.327, BLEU1=0.395, ExactMatch=0.0307, METEOR=0.59, BertScore=nan, StubScore=0.175] "
     ]
    },
    {
     "name": "stdout",
     "output_type": "stream",
     "text": [
      "answer raw len:  355 1\n",
      "True\n",
      "Элтон Джон потерял двух близких друзей в конце 1997 года: дизайнера Джанни Версаче и принцессу Диану.\n",
      "В конце 1997 года Элтон Джон потерял двух очень близких друзей: Джанни Версачи и принцессу Диану.\n",
      "[0, 0, 0, 0, 0, 0, 1, 0, 0, 0, 0, 0, 0, 0, 0, 0, 0, 0, 0, 0, 0, 1, 0, 0, 0, 0, 1, 0, 1, 0, 0, 0, 0, 0, 0, 0, 1, 0, 0, 0, 0, 1, 0, 0, 0, 0, 0, 1, 0, 1, 0, 0, 1, 0, 0, 0, 0, 0, 1, 0, 0, 0, 1]\n"
     ]
    },
    {
     "name": "stderr",
     "output_type": "stream",
     "text": [
      "357it [19:57,  2.39s/it, BLEU2=0.329, BLEU1=0.397, ExactMatch=0.0306, METEOR=0.591, BertScore=nan, StubScore=0.175]"
     ]
    },
    {
     "name": "stdout",
     "output_type": "stream",
     "text": [
      "answer raw len:  356 1\n",
      "True\n",
      "1997 год стал для Элтона Джона годом взлетов и падений.\n",
      "1997 год стал для Элтона Джона годом взлетов и неприятностей.\n",
      "[0, 0, 0, 0, 0, 0, 1, 0, 0, 0, 0, 0, 0, 0, 0, 0, 0, 0, 0, 0, 0, 1, 0, 0, 0, 0, 1, 0, 1, 0, 0, 0, 0, 0, 0, 0, 1, 0, 0, 0, 0, 1, 0, 0, 0, 0, 0, 1, 0, 1, 0, 0, 1, 0, 0, 0, 0, 0, 1, 0, 0, 0, 1]\n"
     ]
    },
    {
     "name": "stderr",
     "output_type": "stream",
     "text": [
      "358it [20:01,  2.61s/it, BLEU2=0.329, BLEU1=0.397, ExactMatch=0.0305, METEOR=0.591, BertScore=nan, StubScore=0.175]"
     ]
    },
    {
     "name": "stdout",
     "output_type": "stream",
     "text": [
      "answer raw len:  357 1\n",
      "True\n",
      "Элтон Джон вместе с тремя оставшимися участниками группы Queen принял участие в представлении 17 января 1997 года в Париже.\n",
      "17 января 1997 года Элтон Джон с тремя оставшимися членами группы Queen принял участие в представлении, которое было вторым и последним случаем после смерти Фредди Меркьюри, когда остальные члены группы Queen собрались вместе на сцене.\n",
      "[0, 0, 0, 0, 0, 0, 1, 0, 0, 0, 0, 0, 0, 0, 0, 0, 0, 0, 0, 0, 0, 1, 0, 0, 0, 0, 1, 0, 1, 0, 0, 0, 0, 0, 0, 0, 1, 0, 0, 0, 0, 1, 0, 0, 0, 0, 0, 1, 0, 1, 0, 0, 1, 0, 0, 0, 0, 0, 1, 0, 0, 0, 1]\n"
     ]
    },
    {
     "name": "stderr",
     "output_type": "stream",
     "text": [
      "359it [20:03,  2.46s/it, BLEU2=0.329, BLEU1=0.396, ExactMatch=0.0304, METEOR=0.591, BertScore=nan, StubScore=0.175]"
     ]
    },
    {
     "name": "stdout",
     "output_type": "stream",
     "text": [
      "answer raw len:  358 1\n",
      "True\n",
      "В тексте не указано точное количество друзей, которые присутствовали на вечеринке по случаю пятидесятилетия Элтона Джона.\n",
      "500 друзей Элтона Джона приняли участие в вечеринке по случаю его 50-летнего юбилея.\n",
      "[0, 0, 0, 0, 0, 0, 1, 0, 0, 0, 0, 0, 0, 0, 0, 0, 0, 0, 0, 0, 0, 1, 0, 0, 0, 0, 1, 0, 1, 0, 0, 0, 0, 0, 0, 0, 1, 0, 0, 0, 0, 1, 0, 0, 0, 0, 0, 1, 0, 1, 0, 0, 1, 0, 0, 0, 0, 0, 1, 0, 0, 0, 1]\n"
     ]
    },
    {
     "name": "stderr",
     "output_type": "stream",
     "text": [
      "360it [20:06,  2.74s/it, BLEU2=0.328, BLEU1=0.396, ExactMatch=0.0303, METEOR=0.59, BertScore=nan, StubScore=0.175] "
     ]
    },
    {
     "name": "stdout",
     "output_type": "stream",
     "text": [
      "answer raw len:  359 1\n",
      "True\n",
      "В Сирии и Египте мечеть и аудитория расположены в открытых ложах, выходящих на двор, в то время как в Малой Азии дворик медресе обычно покрыт большим куполом.\n",
      "В Средней Азии мечеть и аудитория расположены в корпусе здания, по обе стороны портала (находящегося на оси главного фасада).\n",
      "[0, 0, 0, 0, 0, 0, 1, 0, 0, 0, 0, 0, 0, 0, 0, 0, 0, 0, 0, 0, 0, 1, 0, 0, 0, 0, 1, 0, 1, 0, 0, 0, 0, 0, 0, 0, 1, 0, 0, 0, 0, 1, 0, 0, 0, 0, 0, 1, 0, 1, 0, 0, 1, 0, 0, 0, 0, 0, 1, 0, 0, 0, 1]\n"
     ]
    },
    {
     "name": "stderr",
     "output_type": "stream",
     "text": [
      "361it [20:08,  2.36s/it, BLEU2=0.329, BLEU1=0.396, ExactMatch=0.0302, METEOR=0.59, BertScore=nan, StubScore=0.175]"
     ]
    },
    {
     "name": "stdout",
     "output_type": "stream",
     "text": [
      "answer raw len:  360 1\n",
      "True\n",
      "В Малой Азии дворик медресе покрыт большими куполами.\n",
      "В Малой Азии дворик медресе обычно покрывается большим куполом.\n",
      "[0, 0, 0, 0, 0, 0, 1, 0, 0, 0, 0, 0, 0, 0, 0, 0, 0, 0, 0, 0, 0, 1, 0, 0, 0, 0, 1, 0, 1, 0, 0, 0, 0, 0, 0, 0, 1, 0, 0, 0, 0, 1, 0, 0, 0, 0, 0, 1, 0, 1, 0, 0, 1, 0, 0, 0, 0, 0, 1, 0, 0, 0, 1]\n",
      "answer raw len:  361 1\n"
     ]
    },
    {
     "name": "stderr",
     "output_type": "stream",
     "text": [
      "362it [20:11,  2.82s/it, BLEU2=0.329, BLEU1=0.396, ExactMatch=0.0302, METEOR=0.59, BertScore=nan, StubScore=0.172]"
     ]
    },
    {
     "name": "stdout",
     "output_type": "stream",
     "text": [
      "sim raw len:  1\n",
      "False\n",
      "Своды в Азии служат естественными границами и географическими особенностями, разделяющими различные регионы и страны.\n",
      "Своды в Азии служат перекрытиями.\n",
      "[0, 0, 0, 0, 0, 0, 1, 0, 0, 0, 0, 0, 0, 0, 0, 0, 0, 0, 0, 0, 0, 1, 0, 0, 0, 0, 1, 0, 1, 0, 0, 0, 0, 0, 0, 0, 1, 0, 0, 0, 0, 1, 0, 0, 0, 0, 0, 1, 0, 1, 0, 0, 1, 0, 0, 0, 0, 0, 1, 0, 0, 0, 1, 0]\n",
      "answer raw len:  362 1\n"
     ]
    },
    {
     "name": "stderr",
     "output_type": "stream",
     "text": [
      "363it [20:21,  4.73s/it, BLEU2=0.329, BLEU1=0.396, ExactMatch=0.0302, METEOR=0.59, BertScore=nan, StubScore=0.169]"
     ]
    },
    {
     "name": "stdout",
     "output_type": "stream",
     "text": [
      "sim raw len:  1\n",
      "False\n",
      "В Северной Африке в качестве перекрытий используются купольные конструкции под названием гумбаз. Эти конструкции широко применялись при строительстве различных сооружений, таких как сардобы, караван-сараи, мавзолеи, усыпальницы, бани и другие. Искусство строительства купольных перекрытий достигло исключительного совершенства в Азии, а затем проникло в некоторые районы Африки.\n",
      "В Северной Африке в качестве перекрытий используются стропильные крыши с черепичными кровлями.\n",
      "[0, 0, 0, 0, 0, 0, 1, 0, 0, 0, 0, 0, 0, 0, 0, 0, 0, 0, 0, 0, 0, 1, 0, 0, 0, 0, 1, 0, 1, 0, 0, 0, 0, 0, 0, 0, 1, 0, 0, 0, 0, 1, 0, 0, 0, 0, 0, 1, 0, 1, 0, 0, 1, 0, 0, 0, 0, 0, 1, 0, 0, 0, 1, 0, 0]\n"
     ]
    },
    {
     "name": "stderr",
     "output_type": "stream",
     "text": [
      "364it [20:23,  3.89s/it, BLEU2=0.329, BLEU1=0.397, ExactMatch=0.0301, METEOR=0.589, BertScore=nan, StubScore=0.169]"
     ]
    },
    {
     "name": "stdout",
     "output_type": "stream",
     "text": [
      "answer raw len:  363 1\n",
      "True\n",
      "1-2-этажное здание медресе включает в себя общежитие, мечеть и аудиторию.\n",
      "1—2-этажное здание медресе включает расположенные вокруг прямоугольного двора общежитие, мечеть, аудиторию.\n",
      "[0, 0, 0, 0, 0, 0, 1, 0, 0, 0, 0, 0, 0, 0, 0, 0, 0, 0, 0, 0, 0, 1, 0, 0, 0, 0, 1, 0, 1, 0, 0, 0, 0, 0, 0, 0, 1, 0, 0, 0, 0, 1, 0, 0, 0, 0, 0, 1, 0, 1, 0, 0, 1, 0, 0, 0, 0, 0, 1, 0, 0, 0, 1, 0, 0]\n",
      "answer raw len:  364 1\n"
     ]
    },
    {
     "name": "stderr",
     "output_type": "stream",
     "text": [
      "365it [20:30,  5.09s/it, BLEU2=0.329, BLEU1=0.397, ExactMatch=0.0301, METEOR=0.589, BertScore=nan, StubScore=0.167]"
     ]
    },
    {
     "name": "stdout",
     "output_type": "stream",
     "text": [
      "sim raw len:  1\n",
      "False\n",
      "Нет, не все слова и обороты заимствованы из диалектов. Обогащение языка синонимами происходит через различные процессы, включая скрещивание говоров при консолидации национального языка и территориальное распределение слов в разговорной речи. Однако это не означает, что все слова и обороты заимствованы из диалектов.\n",
      "Слова и обороты у диалектов заимствовались с небольшими лингвистическими исключениями.\n",
      "[0, 0, 0, 0, 0, 0, 1, 0, 0, 0, 0, 0, 0, 0, 0, 0, 0, 0, 0, 0, 0, 1, 0, 0, 0, 0, 1, 0, 1, 0, 0, 0, 0, 0, 0, 0, 1, 0, 0, 0, 0, 1, 0, 0, 0, 0, 0, 1, 0, 1, 0, 0, 1, 0, 0, 0, 0, 0, 1, 0, 0, 0, 1, 0, 0, 0]\n"
     ]
    },
    {
     "name": "stderr",
     "output_type": "stream",
     "text": [
      "366it [20:36,  5.16s/it, BLEU2=0.328, BLEU1=0.396, ExactMatch=0.03, METEOR=0.589, BertScore=nan, StubScore=0.167]  "
     ]
    },
    {
     "name": "stdout",
     "output_type": "stream",
     "text": [
      "answer raw len:  365 1\n",
      "True\n",
      "[0.11] 2 марта 1924 года комиссия при Академии наук Башнаркомпроса решила заимствовать четыре варианта множественного числа из куваканского диалекта: -цар/-цэр, -дар/-дэр, -лар/-лэр, -лар/-лэр.\n",
      "В литературный язык варианты множественного числа внесли из куваканского диалекта.\n",
      "[0, 0, 0, 0, 0, 0, 1, 0, 0, 0, 0, 0, 0, 0, 0, 0, 0, 0, 0, 0, 0, 1, 0, 0, 0, 0, 1, 0, 1, 0, 0, 0, 0, 0, 0, 0, 1, 0, 0, 0, 0, 1, 0, 0, 0, 0, 0, 1, 0, 1, 0, 0, 1, 0, 0, 0, 0, 0, 1, 0, 0, 0, 1, 0, 0, 0]\n"
     ]
    },
    {
     "name": "stderr",
     "output_type": "stream",
     "text": [
      "367it [20:41,  5.06s/it, BLEU2=0.327, BLEU1=0.395, ExactMatch=0.0299, METEOR=0.588, BertScore=nan, StubScore=0.167]"
     ]
    },
    {
     "name": "stdout",
     "output_type": "stream",
     "text": [
      "answer raw len:  366 1\n",
      "True\n",
      "[0.11] 2 марта 1924 года на заседании комиссии при Академии Башнаркомпроса было решено заимствовать словообразовательные аффиксы из куваканского диалекта и юрматинского диалекта.\n",
      "Словообразующие аффиксы заимствовали из юрматынского диалекта.\n",
      "[0, 0, 0, 0, 0, 0, 1, 0, 0, 0, 0, 0, 0, 0, 0, 0, 0, 0, 0, 0, 0, 1, 0, 0, 0, 0, 1, 0, 1, 0, 0, 0, 0, 0, 0, 0, 1, 0, 0, 0, 0, 1, 0, 0, 0, 0, 0, 1, 0, 1, 0, 0, 1, 0, 0, 0, 0, 0, 1, 0, 0, 0, 1, 0, 0, 0]\n"
     ]
    },
    {
     "name": "stderr",
     "output_type": "stream",
     "text": [
      "368it [20:42,  3.90s/it, BLEU2=0.327, BLEU1=0.395, ExactMatch=0.0298, METEOR=0.589, BertScore=nan, StubScore=0.167]"
     ]
    },
    {
     "name": "stdout",
     "output_type": "stream",
     "text": [
      "answer raw len:  367 1\n",
      "True\n",
      "Северо-западные башкиры предпочли использовать татарский язык.\n",
      "Татарский диалект предпочли использовать северо-западные башкиры.\n",
      "[0, 0, 0, 0, 0, 0, 1, 0, 0, 0, 0, 0, 0, 0, 0, 0, 0, 0, 0, 0, 0, 1, 0, 0, 0, 0, 1, 0, 1, 0, 0, 0, 0, 0, 0, 0, 1, 0, 0, 0, 0, 1, 0, 0, 0, 0, 0, 1, 0, 1, 0, 0, 1, 0, 0, 0, 0, 0, 1, 0, 0, 0, 1, 0, 0, 0]\n"
     ]
    },
    {
     "name": "stderr",
     "output_type": "stream",
     "text": [
      "369it [20:43,  3.08s/it, BLEU2=0.326, BLEU1=0.394, ExactMatch=0.0297, METEOR=0.588, BertScore=nan, StubScore=0.167]"
     ]
    },
    {
     "name": "stdout",
     "output_type": "stream",
     "text": [
      "answer raw len:  368 1\n",
      "True\n",
      "Когда было принято решение о внесении изменений в литературный язык?\n",
      "2 марта 1924 года было решено привнести изменения в литературный язык.\n",
      "[0, 0, 0, 0, 0, 0, 1, 0, 0, 0, 0, 0, 0, 0, 0, 0, 0, 0, 0, 0, 0, 1, 0, 0, 0, 0, 1, 0, 1, 0, 0, 0, 0, 0, 0, 0, 1, 0, 0, 0, 0, 1, 0, 0, 0, 0, 0, 1, 0, 1, 0, 0, 1, 0, 0, 0, 0, 0, 1, 0, 0, 0, 1, 0, 0, 0]\n"
     ]
    },
    {
     "name": "stderr",
     "output_type": "stream",
     "text": [
      "370it [20:44,  2.38s/it, BLEU2=0.326, BLEU1=0.393, ExactMatch=0.0296, METEOR=0.587, BertScore=nan, StubScore=0.167]"
     ]
    },
    {
     "name": "stdout",
     "output_type": "stream",
     "text": [
      "answer raw len:  369 1\n",
      "True\n",
      "2 марта 1932 года.\n",
      "2 марта 1932 года является датой преобразования посёлка в город Сокол.\n",
      "[0, 0, 0, 0, 0, 0, 1, 0, 0, 0, 0, 0, 0, 0, 0, 0, 0, 0, 0, 0, 0, 1, 0, 0, 0, 0, 1, 0, 1, 0, 0, 0, 0, 0, 0, 0, 1, 0, 0, 0, 0, 1, 0, 0, 0, 0, 0, 1, 0, 1, 0, 0, 1, 0, 0, 0, 0, 0, 1, 0, 0, 0, 1, 0, 0, 0]\n"
     ]
    },
    {
     "name": "stderr",
     "output_type": "stream",
     "text": [
      "371it [20:57,  5.64s/it, BLEU2=0.325, BLEU1=0.393, ExactMatch=0.0295, METEOR=0.587, BertScore=nan, StubScore=0.167]"
     ]
    },
    {
     "name": "stdout",
     "output_type": "stream",
     "text": [
      "answer raw len:  370 1\n",
      "True\n",
      "Соответствующая информация из текста: \"1 июня 1932 года в черту города включены завод Свердлова с поселком (Печаткино), лесопильный завод № 40 с поселком (Малютино), лесопогрузочный пункт Севлеспрома с железнодорожной веткой, завод по производству сухого молока с пионерским поселком, село Воскресенье, деревни Бердинка, Енца, Пирогово, Лещевка, Россоха, Анциферовка, Шатенево и Овсецово.\"\n",
      "\n",
      "Таким образом, дата присоединения завода Свердлова к городу Сокол - 1 июня 1932 года.\n",
      "1 июня 1932 года является датой присоединения завода Свердлова к городу Сокол.\n",
      "[0, 0, 0, 0, 0, 0, 1, 0, 0, 0, 0, 0, 0, 0, 0, 0, 0, 0, 0, 0, 0, 1, 0, 0, 0, 0, 1, 0, 1, 0, 0, 0, 0, 0, 0, 0, 1, 0, 0, 0, 0, 1, 0, 0, 0, 0, 0, 1, 0, 1, 0, 0, 1, 0, 0, 0, 0, 0, 1, 0, 0, 0, 1, 0, 0, 0]\n"
     ]
    },
    {
     "name": "stderr",
     "output_type": "stream",
     "text": [
      "372it [20:58,  4.31s/it, BLEU2=0.326, BLEU1=0.393, ExactMatch=0.0294, METEOR=0.588, BertScore=nan, StubScore=0.167]"
     ]
    },
    {
     "name": "stdout",
     "output_type": "stream",
     "text": [
      "answer raw len:  371 1\n",
      "True\n",
      "Станция Сухона была интегрирована в границу города Сокол.\n",
      "в границу города Сокол была интегрирована станция Сухона.\n",
      "[0, 0, 0, 0, 0, 0, 1, 0, 0, 0, 0, 0, 0, 0, 0, 0, 0, 0, 0, 0, 0, 1, 0, 0, 0, 0, 1, 0, 1, 0, 0, 0, 0, 0, 0, 0, 1, 0, 0, 0, 0, 1, 0, 0, 0, 0, 0, 1, 0, 1, 0, 0, 1, 0, 0, 0, 0, 0, 1, 0, 0, 0, 1, 0, 0, 0]\n"
     ]
    },
    {
     "name": "stderr",
     "output_type": "stream",
     "text": [
      "373it [21:01,  3.80s/it, BLEU2=0.326, BLEU1=0.394, ExactMatch=0.0293, METEOR=0.589, BertScore=nan, StubScore=0.167]"
     ]
    },
    {
     "name": "stdout",
     "output_type": "stream",
     "text": [
      "answer raw len:  372 1\n",
      "True\n",
      "Деревня, которая была включена в состав города Сокола вместе с лесопильным заводом № 40 с поселком (Малютино), называется Малютино.\n",
      "Вместе с лесопильным заводом № 40 с поселком (Малютино) в состав города Сокола было включено село Воскресенье.\n",
      "[0, 0, 0, 0, 0, 0, 1, 0, 0, 0, 0, 0, 0, 0, 0, 0, 0, 0, 0, 0, 0, 1, 0, 0, 0, 0, 1, 0, 1, 0, 0, 0, 0, 0, 0, 0, 1, 0, 0, 0, 0, 1, 0, 0, 0, 0, 0, 1, 0, 1, 0, 0, 1, 0, 0, 0, 0, 0, 1, 0, 0, 0, 1, 0, 0, 0]\n"
     ]
    },
    {
     "name": "stderr",
     "output_type": "stream",
     "text": [
      "374it [21:01,  2.89s/it, BLEU2=0.325, BLEU1=0.393, ExactMatch=0.0292, METEOR=0.587, BertScore=nan, StubScore=0.167]"
     ]
    },
    {
     "name": "stdout",
     "output_type": "stream",
     "text": [
      "answer raw len:  373 1\n",
      "True\n",
      "1 марта 1932 года.\n",
      "Постановлением Президиума ВЦИК посёлок был преобразован в город Сокол.\n",
      "[0, 0, 0, 0, 0, 0, 1, 0, 0, 0, 0, 0, 0, 0, 0, 0, 0, 0, 0, 0, 0, 1, 0, 0, 0, 0, 1, 0, 1, 0, 0, 0, 0, 0, 0, 0, 1, 0, 0, 0, 0, 1, 0, 0, 0, 0, 0, 1, 0, 1, 0, 0, 1, 0, 0, 0, 0, 0, 1, 0, 0, 0, 1, 0, 0, 0]\n"
     ]
    },
    {
     "name": "stderr",
     "output_type": "stream",
     "text": [
      "375it [21:04,  2.87s/it, BLEU2=0.325, BLEU1=0.393, ExactMatch=0.0291, METEOR=0.588, BertScore=nan, StubScore=0.167]"
     ]
    },
    {
     "name": "stdout",
     "output_type": "stream",
     "text": [
      "answer raw len:  374 1\n",
      "True\n",
      "В русском лагере Шейх Али-хан был пленником младшего сына кубинского хана Фатали-хана, Гасан-хана.\n",
      "Шейх Али-хан в русском лагере был почётным пленником .\n",
      "[0, 0, 0, 0, 0, 0, 1, 0, 0, 0, 0, 0, 0, 0, 0, 0, 0, 0, 0, 0, 0, 1, 0, 0, 0, 0, 1, 0, 1, 0, 0, 0, 0, 0, 0, 0, 1, 0, 0, 0, 0, 1, 0, 0, 0, 0, 0, 1, 0, 1, 0, 0, 1, 0, 0, 0, 0, 0, 1, 0, 0, 0, 1, 0, 0, 0]\n"
     ]
    },
    {
     "name": "stderr",
     "output_type": "stream",
     "text": [
      "376it [21:05,  2.30s/it, BLEU2=0.325, BLEU1=0.392, ExactMatch=0.029, METEOR=0.587, BertScore=nan, StubScore=0.167] "
     ]
    },
    {
     "name": "stdout",
     "output_type": "stream",
     "text": [
      "answer raw len:  375 1\n",
      "True\n",
      "10 мая 1796 года.\n",
      "2 мая 1796 Валериан Зубов подошел к Дербенту.\n",
      "[0, 0, 0, 0, 0, 0, 1, 0, 0, 0, 0, 0, 0, 0, 0, 0, 0, 0, 0, 0, 0, 1, 0, 0, 0, 0, 1, 0, 1, 0, 0, 0, 0, 0, 0, 0, 1, 0, 0, 0, 0, 1, 0, 0, 0, 0, 0, 1, 0, 1, 0, 0, 1, 0, 0, 0, 0, 0, 1, 0, 0, 0, 1, 0, 0, 0]\n",
      "answer raw len:  376 1\n"
     ]
    },
    {
     "name": "stderr",
     "output_type": "stream",
     "text": [
      "377it [21:07,  2.22s/it, BLEU2=0.325, BLEU1=0.392, ExactMatch=0.029, METEOR=0.587, BertScore=nan, StubScore=0.179]"
     ]
    },
    {
     "name": "stdout",
     "output_type": "stream",
     "text": [
      "sim raw len:  1\n",
      "False\n",
      "У меня нет ответа на ваш вопрос.\n",
      "10 мая на крепостной стене был выкинут белый флаг.\n",
      "[0, 0, 0, 0, 0, 0, 1, 0, 0, 0, 0, 0, 0, 0, 0, 0, 0, 0, 0, 0, 0, 1, 0, 0, 0, 0, 1, 0, 1, 0, 0, 0, 0, 0, 0, 0, 1, 0, 0, 0, 0, 1, 0, 0, 0, 0, 0, 1, 0, 1, 0, 0, 1, 0, 0, 0, 0, 0, 1, 0, 0, 0, 1, 0, 0, 0, 1]\n"
     ]
    },
    {
     "name": "stderr",
     "output_type": "stream",
     "text": [
      "378it [21:10,  2.40s/it, BLEU2=0.325, BLEU1=0.393, ExactMatch=0.0289, METEOR=0.587, BertScore=nan, StubScore=0.179]"
     ]
    },
    {
     "name": "stdout",
     "output_type": "stream",
     "text": [
      "answer raw len:  377 1\n",
      "True\n",
      "В 1799 году младший сын кубинского хана Фатали-хана был провозглашен дербентским ханом.\n",
      "В 1799 году дербентским ханом провозгласили младшего сына кубинского хана Фатали-хана — Гасана.\n",
      "[0, 0, 0, 0, 0, 0, 1, 0, 0, 0, 0, 0, 0, 0, 0, 0, 0, 0, 0, 0, 0, 1, 0, 0, 0, 0, 1, 0, 1, 0, 0, 0, 0, 0, 0, 0, 1, 0, 0, 0, 0, 1, 0, 0, 0, 0, 0, 1, 0, 1, 0, 0, 1, 0, 0, 0, 0, 0, 1, 0, 0, 0, 1, 0, 0, 0, 1]\n"
     ]
    },
    {
     "name": "stderr",
     "output_type": "stream",
     "text": [
      "379it [21:12,  2.26s/it, BLEU2=0.325, BLEU1=0.393, ExactMatch=0.0288, METEOR=0.587, BertScore=nan, StubScore=0.179]"
     ]
    },
    {
     "name": "stdout",
     "output_type": "stream",
     "text": [
      "answer raw len:  378 1\n",
      "True\n",
      "Шейх Али Хан явился в русский лагерь после того, как был выставлен белый флаг.\n",
      "После белого флага в русский лагерь явился Хан Шейх Али-хан.\n",
      "[0, 0, 0, 0, 0, 0, 1, 0, 0, 0, 0, 0, 0, 0, 0, 0, 0, 0, 0, 0, 0, 1, 0, 0, 0, 0, 1, 0, 1, 0, 0, 0, 0, 0, 0, 0, 1, 0, 0, 0, 0, 1, 0, 0, 0, 0, 0, 1, 0, 1, 0, 0, 1, 0, 0, 0, 0, 0, 1, 0, 0, 0, 1, 0, 0, 0, 1]\n"
     ]
    },
    {
     "name": "stderr",
     "output_type": "stream",
     "text": [
      "380it [21:16,  2.68s/it, BLEU2=0.325, BLEU1=0.393, ExactMatch=0.0288, METEOR=0.587, BertScore=nan, StubScore=0.179]"
     ]
    },
    {
     "name": "stdout",
     "output_type": "stream",
     "text": [
      "answer raw len:  379 1\n",
      "True\n",
      "Влияние колхицина, колцемида, винбластина, винкристина, аценафтена, нокодазола, метанола и других статмокинетических ядов приводит к повреждению митотического аппарата.\n",
      "Повреждение митотического аппарата происходит вследствие воздействия статмокинетических ядов (колхицина, колцемида, винбластина, винкристина, аценафтена, нокодазол, метанола и др.).\n",
      "[0, 0, 0, 0, 0, 0, 1, 0, 0, 0, 0, 0, 0, 0, 0, 0, 0, 0, 0, 0, 0, 1, 0, 0, 0, 0, 1, 0, 1, 0, 0, 0, 0, 0, 0, 0, 1, 0, 0, 0, 0, 1, 0, 0, 0, 0, 0, 1, 0, 1, 0, 0, 1, 0, 0, 0, 0, 0, 1, 0, 0, 0, 1, 0, 0, 0, 1]\n"
     ]
    },
    {
     "name": "stderr",
     "output_type": "stream",
     "text": [
      "381it [21:18,  2.50s/it, BLEU2=0.325, BLEU1=0.394, ExactMatch=0.0287, METEOR=0.588, BertScore=nan, StubScore=0.179]"
     ]
    },
    {
     "name": "stdout",
     "output_type": "stream",
     "text": [
      "answer raw len:  380 1\n",
      "True\n",
      "Митоз задерживается на стадии метафазы из-за воздействия статмокинетических ядов.\n",
      "В результате воздействия статмокинетических ядов митоз задерживается на стадии метафазы.\n",
      "[0, 0, 0, 0, 0, 0, 1, 0, 0, 0, 0, 0, 0, 0, 0, 0, 0, 0, 0, 0, 0, 1, 0, 0, 0, 0, 1, 0, 1, 0, 0, 0, 0, 0, 0, 0, 1, 0, 0, 0, 0, 1, 0, 0, 0, 0, 0, 1, 0, 1, 0, 0, 1, 0, 0, 0, 0, 0, 1, 0, 0, 0, 1, 0, 0, 0, 1]\n"
     ]
    },
    {
     "name": "stderr",
     "output_type": "stream",
     "text": [
      "382it [21:19,  2.10s/it, BLEU2=0.327, BLEU1=0.396, ExactMatch=0.0317, METEOR=0.589, BertScore=nan, StubScore=0.179]"
     ]
    },
    {
     "name": "stdout",
     "output_type": "stream",
     "text": [
      "answer raw len:  381 1\n",
      "True\n",
      "Колхициновый митоз связан с повреждением митотического аппарата.\n",
      "Колхициновый митоз связан с повреждением митотического аппарата.\n",
      "[0, 0, 0, 0, 0, 0, 1, 0, 0, 0, 0, 0, 0, 0, 0, 0, 0, 0, 0, 0, 0, 1, 0, 0, 0, 0, 1, 0, 1, 0, 0, 0, 0, 0, 0, 0, 1, 0, 0, 0, 0, 1, 0, 0, 0, 0, 0, 1, 0, 1, 0, 0, 1, 0, 0, 0, 0, 0, 1, 0, 0, 0, 1, 0, 0, 0, 1]\n",
      "answer raw len:  382 1\n"
     ]
    },
    {
     "name": "stderr",
     "output_type": "stream",
     "text": [
      "383it [21:55, 12.37s/it, BLEU2=0.327, BLEU1=0.396, ExactMatch=0.0317, METEOR=0.589, BertScore=nan, StubScore=0.176]"
     ]
    },
    {
     "name": "stdout",
     "output_type": "stream",
     "text": [
      "sim raw len:  1\n",
      "False\n",
      "1. [0.04] Хромосомные и хроматидные мосты образуются в результате фрагментации хромосом. При воссоединении фрагментов, содержащих центромер, образуется дицентрическая хромосома, которая в ходе анафазы растягивается между противоположными полюсами деления, образуя мост. Хромосомный (обычно двойной) мост возникает в результате воссоединения фрагментов хромосом, каждый из которых образован двумя хроматидами с центромерной областью. Хроматидный (обычно одиночный) мост возникает в результате воссоединения двух фрагментов отдельных хроматид с центромерной областью.\n",
      "\n",
      "2. [0.06] Хромосомные перестройки (хромосомные аберрации) - это мутации, которые изменяют структуру хромосом. Они могут возникнуть спонтанно или в результате внешних воздействий, таких как ионизирующее излучение, химические мутагены, вирусная инфекция и другие. В результате хромосомной перестройки может быть потерян или дублирован фрагмент хромосомы (делеция и дупликация соответственно), фрагмент хромосомы может быть перенесен на другую хромосому (транслокация) или он может изменить свою ориентацию в составе хромосомы на 180° (инверсия). Существуют и другие типы хромосомных перестроек.\n",
      "\n",
      "3. [0.05] Фрагментация и пульверизация хромосом возникают в опухолевых клетках, при вирусной инфекции, в результате воздействия на нормальные клетки ионизирующего излучения или мутагенов. Фрагменты могут быть одиночными, парными и множественными. Те из них, которые лишены центромерного участка, не участвуют в метакинезе и, соответственно, не расходятся к полюсам деления в анафазе. При массовой фрагментации хромосом (пульверизации) большинство фрагментов также беспорядочно рассеиваются в цитоплазме и не участвуют в метакинезе.\n",
      "В результате фрагментации или отставания хромосом образуются микроядра.\n",
      "[0, 0, 0, 0, 0, 0, 1, 0, 0, 0, 0, 0, 0, 0, 0, 0, 0, 0, 0, 0, 0, 1, 0, 0, 0, 0, 1, 0, 1, 0, 0, 0, 0, 0, 0, 0, 1, 0, 0, 0, 0, 1, 0, 0, 0, 0, 0, 1, 0, 1, 0, 0, 1, 0, 0, 0, 0, 0, 1, 0, 0, 0, 1, 0, 0, 0, 1, 0]\n"
     ]
    },
    {
     "name": "stderr",
     "output_type": "stream",
     "text": [
      "384it [21:59,  9.66s/it, BLEU2=0.326, BLEU1=0.395, ExactMatch=0.0316, METEOR=0.588, BertScore=nan, StubScore=0.176]"
     ]
    },
    {
     "name": "stdout",
     "output_type": "stream",
     "text": [
      "answer raw len:  383 1\n",
      "True\n",
      "Увеличение спирализации хромосом, что приводит к их укорачиванию и утолщению, а иногда к набуханию и слипанию хромосом.\n",
      "Действие статмокинетических ядов усиливает спирализацию хромосом.\n",
      "[0, 0, 0, 0, 0, 0, 1, 0, 0, 0, 0, 0, 0, 0, 0, 0, 0, 0, 0, 0, 0, 1, 0, 0, 0, 0, 1, 0, 1, 0, 0, 0, 0, 0, 0, 0, 1, 0, 0, 0, 0, 1, 0, 0, 0, 0, 0, 1, 0, 1, 0, 0, 1, 0, 0, 0, 0, 0, 1, 0, 0, 0, 1, 0, 0, 0, 1, 0]\n"
     ]
    },
    {
     "name": "stderr",
     "output_type": "stream",
     "text": [
      "385it [22:00,  7.22s/it, BLEU2=0.328, BLEU1=0.396, ExactMatch=0.0315, METEOR=0.589, BertScore=nan, StubScore=0.176]"
     ]
    },
    {
     "name": "stdout",
     "output_type": "stream",
     "text": [
      "answer raw len:  384 1\n",
      "True\n",
      "12 книг Лавкрафта были изданы в издательствах Москвы, Киева, Екатеринбурга и Нижнего Новгорода.\n",
      "12 книг Лавкрафта было издано в издательствах Москвы, Киева, Екатеринбурга и Нижнего Новгорода.\n",
      "[0, 0, 0, 0, 0, 0, 1, 0, 0, 0, 0, 0, 0, 0, 0, 0, 0, 0, 0, 0, 0, 1, 0, 0, 0, 0, 1, 0, 1, 0, 0, 0, 0, 0, 0, 0, 1, 0, 0, 0, 0, 1, 0, 0, 0, 0, 0, 1, 0, 1, 0, 0, 1, 0, 0, 0, 0, 0, 1, 0, 0, 0, 1, 0, 0, 0, 1, 0]\n"
     ]
    },
    {
     "name": "stderr",
     "output_type": "stream",
     "text": [
      "386it [22:01,  5.42s/it, BLEU2=0.33, BLEU1=0.398, ExactMatch=0.0346, METEOR=0.59, BertScore=nan, StubScore=0.176]  "
     ]
    },
    {
     "name": "stdout",
     "output_type": "stream",
     "text": [
      "answer raw len:  385 1\n",
      "True\n",
      "Коллектив переводчиков из Екатеринбурга сформировался вокруг литературного агентства Kubin Ltd.\n",
      "Коллектив переводчиков из Екатеринбурга сформировался вокруг литературного агентства Kubin Ltd.\n",
      "[0, 0, 0, 0, 0, 0, 1, 0, 0, 0, 0, 0, 0, 0, 0, 0, 0, 0, 0, 0, 0, 1, 0, 0, 0, 0, 1, 0, 1, 0, 0, 0, 0, 0, 0, 0, 1, 0, 0, 0, 0, 1, 0, 0, 0, 0, 0, 1, 0, 1, 0, 0, 1, 0, 0, 0, 0, 0, 1, 0, 0, 0, 1, 0, 0, 0, 1, 0]\n",
      "answer raw len:  386 1\n"
     ]
    },
    {
     "name": "stderr",
     "output_type": "stream",
     "text": [
      "387it [22:09,  6.21s/it, BLEU2=0.33, BLEU1=0.398, ExactMatch=0.0346, METEOR=0.59, BertScore=nan, StubScore=0.174]"
     ]
    },
    {
     "name": "stdout",
     "output_type": "stream",
     "text": [
      "sim raw len:  1\n",
      "False\n",
      "[0.03] Переводческая команда из Екатеринбурга отвечает за перевод и интерпретацию смыслов с одного языка (исходного языка [ИЯ]) на другой язык (целевой язык [ПЯ]). Они работают с различными типами переводов, включая письменный перевод, устный перевод (синхронный и последовательный), а также автоматизированный перевод с использованием компьютеров и программного обеспечения.\n",
      "Команда переводчиков из Екатеринбурга ответственна за издание 7-томной Энциклопедии читателя.\n",
      "[0, 0, 0, 0, 0, 0, 1, 0, 0, 0, 0, 0, 0, 0, 0, 0, 0, 0, 0, 0, 0, 1, 0, 0, 0, 0, 1, 0, 1, 0, 0, 0, 0, 0, 0, 0, 1, 0, 0, 0, 0, 1, 0, 0, 0, 0, 0, 1, 0, 1, 0, 0, 1, 0, 0, 0, 0, 0, 1, 0, 0, 0, 1, 0, 0, 0, 1, 0, 0]\n"
     ]
    },
    {
     "name": "stderr",
     "output_type": "stream",
     "text": [
      "388it [22:12,  5.14s/it, BLEU2=0.331, BLEU1=0.399, ExactMatch=0.0345, METEOR=0.591, BertScore=nan, StubScore=0.174]"
     ]
    },
    {
     "name": "stdout",
     "output_type": "stream",
     "text": [
      "answer raw len:  387 1\n",
      "True\n",
      "Коллектив переводчиков из Екатеринбурга подготовил полное 4-томное собрание сочинений Лавкрафта для издательства \"Фолиум\" (1991-1993).\n",
      "Коллектив переводчиков из Екатеринбурга подготовил для издательства Форум полное 4-томное собрание сочинений Лавкрафта.\n",
      "[0, 0, 0, 0, 0, 0, 1, 0, 0, 0, 0, 0, 0, 0, 0, 0, 0, 0, 0, 0, 0, 1, 0, 0, 0, 0, 1, 0, 1, 0, 0, 0, 0, 0, 0, 0, 1, 0, 0, 0, 0, 1, 0, 0, 0, 0, 0, 1, 0, 1, 0, 0, 1, 0, 0, 0, 0, 0, 1, 0, 0, 0, 1, 0, 0, 0, 1, 0, 0]\n"
     ]
    },
    {
     "name": "stderr",
     "output_type": "stream",
     "text": [
      "389it [22:14,  4.24s/it, BLEU2=0.333, BLEU1=0.401, ExactMatch=0.0344, METEOR=0.592, BertScore=nan, StubScore=0.174]"
     ]
    },
    {
     "name": "stdout",
     "output_type": "stream",
     "text": [
      "answer raw len:  388 1\n",
      "True\n",
      "Игорь Богданов, Василий Дорогокупля, Фёдор Еремеев и Олег Мичковский опубликовали 12 книг Лавкрафта.\n",
      "Игорь Богданов, Василий Дорогокупля, Фёдор Еремеев и Олег Мичковский издали 12 книг Лавкрафта.\n",
      "[0, 0, 0, 0, 0, 0, 1, 0, 0, 0, 0, 0, 0, 0, 0, 0, 0, 0, 0, 0, 0, 1, 0, 0, 0, 0, 1, 0, 1, 0, 0, 0, 0, 0, 0, 0, 1, 0, 0, 0, 0, 1, 0, 0, 0, 0, 0, 1, 0, 1, 0, 0, 1, 0, 0, 0, 0, 0, 1, 0, 0, 0, 1, 0, 0, 0, 1, 0, 0]\n"
     ]
    },
    {
     "name": "stderr",
     "output_type": "stream",
     "text": [
      "390it [22:16,  3.61s/it, BLEU2=0.333, BLEU1=0.401, ExactMatch=0.0343, METEOR=0.592, BertScore=nan, StubScore=0.174]"
     ]
    },
    {
     "name": "stdout",
     "output_type": "stream",
     "text": [
      "answer raw len:  389 1\n",
      "True\n",
      "Войска республиканцев, напавшие на Алькасар, состояли из анархистов и марксистов.\n",
      "Республиканские войска при осаде Алькасара состояли из анархистов и марксистов.\n",
      "[0, 0, 0, 0, 0, 0, 1, 0, 0, 0, 0, 0, 0, 0, 0, 0, 0, 0, 0, 0, 0, 1, 0, 0, 0, 0, 1, 0, 1, 0, 0, 0, 0, 0, 0, 0, 1, 0, 0, 0, 0, 1, 0, 0, 0, 0, 0, 1, 0, 1, 0, 0, 1, 0, 0, 0, 0, 0, 1, 0, 0, 0, 1, 0, 0, 0, 1, 0, 0]\n"
     ]
    },
    {
     "name": "stderr",
     "output_type": "stream",
     "text": [
      "391it [22:18,  2.95s/it, BLEU2=0.333, BLEU1=0.402, ExactMatch=0.0342, METEOR=0.592, BertScore=nan, StubScore=0.174]"
     ]
    },
    {
     "name": "stdout",
     "output_type": "stream",
     "text": [
      "answer raw len:  390 1\n",
      "True\n",
      "Оборона Алькасара продолжалась 70 дней.\n",
      "Оборона Алькасара длилась 70 суток.\n",
      "[0, 0, 0, 0, 0, 0, 1, 0, 0, 0, 0, 0, 0, 0, 0, 0, 0, 0, 0, 0, 0, 1, 0, 0, 0, 0, 1, 0, 1, 0, 0, 0, 0, 0, 0, 0, 1, 0, 0, 0, 0, 1, 0, 0, 0, 0, 0, 1, 0, 1, 0, 0, 1, 0, 0, 0, 0, 0, 1, 0, 0, 0, 1, 0, 0, 0, 1, 0, 0]\n"
     ]
    },
    {
     "name": "stderr",
     "output_type": "stream",
     "text": [
      "392it [22:20,  2.74s/it, BLEU2=0.335, BLEU1=0.403, ExactMatch=0.0341, METEOR=0.593, BertScore=nan, StubScore=0.174]"
     ]
    },
    {
     "name": "stdout",
     "output_type": "stream",
     "text": [
      "answer raw len:  391 1\n",
      "True\n",
      "Оборона Алькасара началась во время гражданской войны в Испании 20 июля 1936 года.\n",
      "Оборона Алькасара в ходе гражданской войны в Испании началась 20 июля 1936 года.\n",
      "[0, 0, 0, 0, 0, 0, 1, 0, 0, 0, 0, 0, 0, 0, 0, 0, 0, 0, 0, 0, 0, 1, 0, 0, 0, 0, 1, 0, 1, 0, 0, 0, 0, 0, 0, 0, 1, 0, 0, 0, 0, 1, 0, 0, 0, 0, 0, 1, 0, 1, 0, 0, 1, 0, 0, 0, 0, 0, 1, 0, 0, 0, 1, 0, 0, 0, 1, 0, 0]\n"
     ]
    },
    {
     "name": "stderr",
     "output_type": "stream",
     "text": [
      "393it [22:22,  2.45s/it, BLEU2=0.335, BLEU1=0.403, ExactMatch=0.034, METEOR=0.594, BertScore=nan, StubScore=0.174] "
     ]
    },
    {
     "name": "stdout",
     "output_type": "stream",
     "text": [
      "answer raw len:  392 1\n",
      "True\n",
      "[0.05] Полковник Москардо командовал курсантами военного училища во время обороны Алькасара.\n",
      "Во время обороны Алькасара курсантами военного училища командовал Москардо.\n",
      "[0, 0, 0, 0, 0, 0, 1, 0, 0, 0, 0, 0, 0, 0, 0, 0, 0, 0, 0, 0, 0, 1, 0, 0, 0, 0, 1, 0, 1, 0, 0, 0, 0, 0, 0, 0, 1, 0, 0, 0, 0, 1, 0, 0, 0, 0, 0, 1, 0, 1, 0, 0, 1, 0, 0, 0, 0, 0, 1, 0, 0, 0, 1, 0, 0, 0, 1, 0, 0]\n"
     ]
    },
    {
     "name": "stderr",
     "output_type": "stream",
     "text": [
      "394it [22:23,  2.06s/it, BLEU2=0.334, BLEU1=0.403, ExactMatch=0.0338, METEOR=0.594, BertScore=nan, StubScore=0.174]"
     ]
    },
    {
     "name": "stdout",
     "output_type": "stream",
     "text": [
      "answer raw len:  393 1\n",
      "True\n",
      "Сторонники Франко обороняли Алькасар.\n",
      "Алькасар обороняли сторонники Франко.\n",
      "[0, 0, 0, 0, 0, 0, 1, 0, 0, 0, 0, 0, 0, 0, 0, 0, 0, 0, 0, 0, 0, 1, 0, 0, 0, 0, 1, 0, 1, 0, 0, 0, 0, 0, 0, 0, 1, 0, 0, 0, 0, 1, 0, 0, 0, 0, 0, 1, 0, 1, 0, 0, 1, 0, 0, 0, 0, 0, 1, 0, 0, 0, 1, 0, 0, 0, 1, 0, 0]\n",
      "answer raw len:  394 1\n"
     ]
    },
    {
     "name": "stderr",
     "output_type": "stream",
     "text": [
      "395it [22:25,  2.07s/it, BLEU2=0.334, BLEU1=0.403, ExactMatch=0.0338, METEOR=0.594, BertScore=nan, StubScore=0.186]"
     ]
    },
    {
     "name": "stdout",
     "output_type": "stream",
     "text": [
      "sim raw len:  1\n",
      "False\n",
      "У меня нет ответа на ваш вопрос.\n",
      "Легендарное телешоу называлась Top of the Pops.\n",
      "[0, 0, 0, 0, 0, 0, 1, 0, 0, 0, 0, 0, 0, 0, 0, 0, 0, 0, 0, 0, 0, 1, 0, 0, 0, 0, 1, 0, 1, 0, 0, 0, 0, 0, 0, 0, 1, 0, 0, 0, 0, 1, 0, 0, 0, 0, 0, 1, 0, 1, 0, 0, 1, 0, 0, 0, 0, 0, 1, 0, 0, 0, 1, 0, 0, 0, 1, 0, 0, 1]\n"
     ]
    },
    {
     "name": "stderr",
     "output_type": "stream",
     "text": [
      "396it [22:27,  2.12s/it, BLEU2=0.333, BLEU1=0.402, ExactMatch=0.0337, METEOR=0.592, BertScore=nan, StubScore=0.186]"
     ]
    },
    {
     "name": "stdout",
     "output_type": "stream",
     "text": [
      "answer raw len:  395 1\n",
      "True\n",
      "Телевизионное шоу \"Challenge of the Scrapheap\" было показано на 4 канале Британского телевидения.\n",
      "Запись телешоу показал Би-Би-Си 2\n",
      "[0, 0, 0, 0, 0, 0, 1, 0, 0, 0, 0, 0, 0, 0, 0, 0, 0, 0, 0, 0, 0, 1, 0, 0, 0, 0, 1, 0, 1, 0, 0, 0, 0, 0, 0, 0, 1, 0, 0, 0, 0, 1, 0, 0, 0, 0, 0, 1, 0, 1, 0, 0, 1, 0, 0, 0, 0, 0, 1, 0, 0, 0, 1, 0, 0, 0, 1, 0, 0, 1]\n"
     ]
    },
    {
     "name": "stderr",
     "output_type": "stream",
     "text": [
      "397it [22:32,  3.02s/it, BLEU2=0.333, BLEU1=0.402, ExactMatch=0.0336, METEOR=0.593, BertScore=nan, StubScore=0.186]"
     ]
    },
    {
     "name": "stdout",
     "output_type": "stream",
     "text": [
      "answer raw len:  396 1\n",
      "True\n",
      "1. [0.07] 21 декабря 2011 года на телеканале BBC 2 была показана видеозапись выступления Боуи на легендарном телешоу Top of the Pops, которое было записано 4 января 1973 года.\n",
      "Видеозапись выступления Боуи на легендарном телешоу Top of the Pops была показана 21 декабря 2011 года.\n",
      "[0, 0, 0, 0, 0, 0, 1, 0, 0, 0, 0, 0, 0, 0, 0, 0, 0, 0, 0, 0, 0, 1, 0, 0, 0, 0, 1, 0, 1, 0, 0, 0, 0, 0, 0, 0, 1, 0, 0, 0, 0, 1, 0, 0, 0, 0, 0, 1, 0, 1, 0, 0, 1, 0, 0, 0, 0, 0, 1, 0, 0, 0, 1, 0, 0, 0, 1, 0, 0, 1]\n"
     ]
    },
    {
     "name": "stderr",
     "output_type": "stream",
     "text": [
      "398it [22:35,  2.96s/it, BLEU2=0.334, BLEU1=0.403, ExactMatch=0.0335, METEOR=0.594, BertScore=nan, StubScore=0.186]"
     ]
    },
    {
     "name": "stdout",
     "output_type": "stream",
     "text": [
      "answer raw len:  397 1\n",
      "True\n",
      "Запись выступления Боуи на легендарном телешоу Top of the Pops была сделана 4 января 1973 года.\n",
      "Запись выступления Боуи на легендарном телешоу была сделана 4 января 1973 года.\n",
      "[0, 0, 0, 0, 0, 0, 1, 0, 0, 0, 0, 0, 0, 0, 0, 0, 0, 0, 0, 0, 0, 1, 0, 0, 0, 0, 1, 0, 1, 0, 0, 0, 0, 0, 0, 0, 1, 0, 0, 0, 0, 1, 0, 0, 0, 0, 0, 1, 0, 1, 0, 0, 1, 0, 0, 0, 0, 0, 1, 0, 0, 0, 1, 0, 0, 0, 1, 0, 0, 1]\n",
      "answer raw len:  398 1\n"
     ]
    },
    {
     "name": "stderr",
     "output_type": "stream",
     "text": [
      "399it [22:41,  3.72s/it, BLEU2=0.334, BLEU1=0.403, ExactMatch=0.0335, METEOR=0.594, BertScore=nan, StubScore=0.183]"
     ]
    },
    {
     "name": "stdout",
     "output_type": "stream",
     "text": [
      "sim raw len:  1\n",
      "False\n",
      "В 1937 году Би-би-си вела прямую телевизионную трансляцию теннисного матча между Банни Остин и ирландцем Джорджем Роджерсом.\n",
      "Оператором Би-Би-Си был Джон Хеншелл.\n",
      "[0, 0, 0, 0, 0, 0, 1, 0, 0, 0, 0, 0, 0, 0, 0, 0, 0, 0, 0, 0, 0, 1, 0, 0, 0, 0, 1, 0, 1, 0, 0, 0, 0, 0, 0, 0, 1, 0, 0, 0, 0, 1, 0, 0, 0, 0, 0, 1, 0, 1, 0, 0, 1, 0, 0, 0, 0, 0, 1, 0, 0, 0, 1, 0, 0, 0, 1, 0, 0, 1, 0]\n",
      "answer raw len:  399 1\n"
     ]
    },
    {
     "name": "stderr",
     "output_type": "stream",
     "text": [
      "400it [22:43,  3.23s/it, BLEU2=0.334, BLEU1=0.403, ExactMatch=0.0335, METEOR=0.594, BertScore=nan, StubScore=0.194]"
     ]
    },
    {
     "name": "stdout",
     "output_type": "stream",
     "text": [
      "sim raw len:  1\n",
      "False\n",
      "У меня нет ответа на ваш вопрос.\n",
      "О том что испытывает непрестанную боль, ужас и ярость при чтении каждой газеты, осенью 1918 года Бунин сообщил в письме Абраму Дорману.\n",
      "[0, 0, 0, 0, 0, 0, 1, 0, 0, 0, 0, 0, 0, 0, 0, 0, 0, 0, 0, 0, 0, 1, 0, 0, 0, 0, 1, 0, 1, 0, 0, 0, 0, 0, 0, 0, 1, 0, 0, 0, 0, 1, 0, 0, 0, 0, 0, 1, 0, 1, 0, 0, 1, 0, 0, 0, 0, 0, 1, 0, 0, 0, 1, 0, 0, 0, 1, 0, 0, 1, 0, 1]\n",
      "answer raw len:  400 1\n"
     ]
    },
    {
     "name": "stderr",
     "output_type": "stream",
     "text": [
      "401it [22:45,  3.06s/it, BLEU2=0.334, BLEU1=0.403, ExactMatch=0.0335, METEOR=0.594, BertScore=nan, StubScore=0.192]"
     ]
    },
    {
     "name": "stdout",
     "output_type": "stream",
     "text": [
      "sim raw len:  1\n",
      "False\n",
      "Иван Алексеевич Бунин\n",
      "После проживания на даче, чета Буниных переместилась в особняк Евгения Буковецкого.\n",
      "[0, 0, 0, 0, 0, 0, 1, 0, 0, 0, 0, 0, 0, 0, 0, 0, 0, 0, 0, 0, 0, 1, 0, 0, 0, 0, 1, 0, 1, 0, 0, 0, 0, 0, 0, 0, 1, 0, 0, 0, 0, 1, 0, 0, 0, 0, 0, 1, 0, 1, 0, 0, 1, 0, 0, 0, 0, 0, 1, 0, 0, 0, 1, 0, 0, 0, 1, 0, 0, 1, 0, 1, 0]\n"
     ]
    },
    {
     "name": "stderr",
     "output_type": "stream",
     "text": [
      "402it [22:47,  2.58s/it, BLEU2=0.334, BLEU1=0.403, ExactMatch=0.0334, METEOR=0.594, BertScore=nan, StubScore=0.192]"
     ]
    },
    {
     "name": "stdout",
     "output_type": "stream",
     "text": [
      "answer raw len:  401 1\n",
      "True\n",
      "Дача, где жили Иван Алексеевич и Вера Николаевна, находилась в городе Сочи.\n",
      "Дача, в которой жили Иван Алексеевич и Вера Николаевна располагалась за Большим Фонтаном.\n",
      "[0, 0, 0, 0, 0, 0, 1, 0, 0, 0, 0, 0, 0, 0, 0, 0, 0, 0, 0, 0, 0, 1, 0, 0, 0, 0, 1, 0, 1, 0, 0, 0, 0, 0, 0, 0, 1, 0, 0, 0, 0, 1, 0, 0, 0, 0, 0, 1, 0, 1, 0, 0, 1, 0, 0, 0, 0, 0, 1, 0, 0, 0, 1, 0, 0, 0, 1, 0, 0, 1, 0, 1, 0]\n"
     ]
    },
    {
     "name": "stderr",
     "output_type": "stream",
     "text": [
      "403it [22:49,  2.30s/it, BLEU2=0.335, BLEU1=0.404, ExactMatch=0.0333, METEOR=0.595, BertScore=nan, StubScore=0.192]"
     ]
    },
    {
     "name": "stdout",
     "output_type": "stream",
     "text": [
      "answer raw len:  402 1\n",
      "True\n",
      "Иван Алексеевич и Вера Николаевна покинули Москву 21 мая 1918 года.\n",
      "Иван Алексеевич и Вера Николаевна уехали из Москвы 21 мая 1918 года.\n",
      "[0, 0, 0, 0, 0, 0, 1, 0, 0, 0, 0, 0, 0, 0, 0, 0, 0, 0, 0, 0, 0, 1, 0, 0, 0, 0, 1, 0, 1, 0, 0, 0, 0, 0, 0, 0, 1, 0, 0, 0, 0, 1, 0, 0, 0, 0, 0, 1, 0, 1, 0, 0, 1, 0, 0, 0, 0, 0, 1, 0, 0, 0, 1, 0, 0, 0, 1, 0, 0, 1, 0, 1, 0]\n"
     ]
    },
    {
     "name": "stderr",
     "output_type": "stream",
     "text": [
      "404it [22:50,  2.07s/it, BLEU2=0.336, BLEU1=0.405, ExactMatch=0.0332, METEOR=0.595, BertScore=nan, StubScore=0.192]"
     ]
    },
    {
     "name": "stdout",
     "output_type": "stream",
     "text": [
      "answer raw len:  403 1\n",
      "True\n",
      "Иван Алексеевич и Вера Николаевна отправились в Одессу после отъезда из Москвы.\n",
      "Иван Алексеевич и Вера Николаевна после отьезда из Москвы направились до Одессы.\n",
      "[0, 0, 0, 0, 0, 0, 1, 0, 0, 0, 0, 0, 0, 0, 0, 0, 0, 0, 0, 0, 0, 1, 0, 0, 0, 0, 1, 0, 1, 0, 0, 0, 0, 0, 0, 0, 1, 0, 0, 0, 0, 1, 0, 0, 0, 0, 0, 1, 0, 1, 0, 0, 1, 0, 0, 0, 0, 0, 1, 0, 0, 0, 1, 0, 0, 0, 1, 0, 0, 1, 0, 1, 0]\n"
     ]
    },
    {
     "name": "stderr",
     "output_type": "stream",
     "text": [
      "405it [22:53,  2.19s/it, BLEU2=0.335, BLEU1=0.405, ExactMatch=0.0331, METEOR=0.595, BertScore=nan, StubScore=0.192]"
     ]
    },
    {
     "name": "stdout",
     "output_type": "stream",
     "text": [
      "answer raw len:  404 1\n",
      "True\n",
      "Мадонна использовала ненормативную лексику в адрес противников Марша женщин, который состоялся 21 января 2017 года.\n",
      "Мадонна нецензурно выражалась в адрес в адреса противников Марша женщин.\n",
      "[0, 0, 0, 0, 0, 0, 1, 0, 0, 0, 0, 0, 0, 0, 0, 0, 0, 0, 0, 0, 0, 1, 0, 0, 0, 0, 1, 0, 1, 0, 0, 0, 0, 0, 0, 0, 1, 0, 0, 0, 0, 1, 0, 0, 0, 0, 0, 1, 0, 1, 0, 0, 1, 0, 0, 0, 0, 0, 1, 0, 0, 0, 1, 0, 0, 0, 1, 0, 0, 1, 0, 1, 0]\n"
     ]
    },
    {
     "name": "stderr",
     "output_type": "stream",
     "text": [
      "406it [22:54,  2.01s/it, BLEU2=0.336, BLEU1=0.405, ExactMatch=0.033, METEOR=0.595, BertScore=nan, StubScore=0.192] "
     ]
    },
    {
     "name": "stdout",
     "output_type": "stream",
     "text": [
      "answer raw len:  405 1\n",
      "True\n",
      "Массовый митинг против Дональда Трампа состоялся 21 января 2017 года.\n",
      "Массовая акция протеста против Дональда Трампа была 21 января 2017 года.\n",
      "[0, 0, 0, 0, 0, 0, 1, 0, 0, 0, 0, 0, 0, 0, 0, 0, 0, 0, 0, 0, 0, 1, 0, 0, 0, 0, 1, 0, 1, 0, 0, 0, 0, 0, 0, 0, 1, 0, 0, 0, 0, 1, 0, 0, 0, 0, 0, 1, 0, 1, 0, 0, 1, 0, 0, 0, 0, 0, 1, 0, 0, 0, 1, 0, 0, 0, 1, 0, 0, 1, 0, 1, 0]\n",
      "answer raw len:  406 1\n"
     ]
    },
    {
     "name": "stderr",
     "output_type": "stream",
     "text": [
      "407it [23:02,  3.70s/it, BLEU2=0.336, BLEU1=0.405, ExactMatch=0.033, METEOR=0.595, BertScore=nan, StubScore=0.189]"
     ]
    },
    {
     "name": "stdout",
     "output_type": "stream",
     "text": [
      "sim raw len:  1\n",
      "False\n",
      "Мадонна столкнулась с критикой из-за своего творчества 1990-х годов, которое было воспринято негативно прессой и обществом. Ее часто критиковали за темы, которые она затрагивала в своих песнях и клипах, включая расизм, половую дискриминацию, религию, политику, секс и насилие в семье.\n",
      "Мадонну критиковали за мат и высказанные вслух антипатриотичные размышления о взрыве Белого дома.\n",
      "[0, 0, 0, 0, 0, 0, 1, 0, 0, 0, 0, 0, 0, 0, 0, 0, 0, 0, 0, 0, 0, 1, 0, 0, 0, 0, 1, 0, 1, 0, 0, 0, 0, 0, 0, 0, 1, 0, 0, 0, 0, 1, 0, 0, 0, 0, 0, 1, 0, 1, 0, 0, 1, 0, 0, 0, 0, 0, 1, 0, 0, 0, 1, 0, 0, 0, 1, 0, 0, 1, 0, 1, 0, 0]\n",
      "answer raw len:  407 1\n"
     ]
    },
    {
     "name": "stderr",
     "output_type": "stream",
     "text": [
      "408it [23:04,  3.15s/it, BLEU2=0.336, BLEU1=0.405, ExactMatch=0.033, METEOR=0.595, BertScore=nan, StubScore=0.2]  "
     ]
    },
    {
     "name": "stdout",
     "output_type": "stream",
     "text": [
      "sim raw len:  1\n",
      "False\n",
      "У меня нет ответа на ваш вопрос.\n",
      "В выступлении поле речи были песни Express Yourself и Human Nature.\n",
      "[0, 0, 0, 0, 0, 0, 1, 0, 0, 0, 0, 0, 0, 0, 0, 0, 0, 0, 0, 0, 0, 1, 0, 0, 0, 0, 1, 0, 1, 0, 0, 0, 0, 0, 0, 0, 1, 0, 0, 0, 0, 1, 0, 0, 0, 0, 0, 1, 0, 1, 0, 0, 1, 0, 0, 0, 0, 0, 1, 0, 0, 0, 1, 0, 0, 0, 1, 0, 0, 1, 0, 1, 0, 0, 1]\n"
     ]
    },
    {
     "name": "stderr",
     "output_type": "stream",
     "text": [
      "409it [23:04,  2.43s/it, BLEU2=0.336, BLEU1=0.406, ExactMatch=0.0329, METEOR=0.595, BertScore=nan, StubScore=0.2]"
     ]
    },
    {
     "name": "stdout",
     "output_type": "stream",
     "text": [
      "answer raw len:  408 1\n",
      "True\n",
      "Массовый протест был против Дональда Трампа.\n",
      "Массовая акция протеста была против Дональда Трампа.\n",
      "[0, 0, 0, 0, 0, 0, 1, 0, 0, 0, 0, 0, 0, 0, 0, 0, 0, 0, 0, 0, 0, 1, 0, 0, 0, 0, 1, 0, 1, 0, 0, 0, 0, 0, 0, 0, 1, 0, 0, 0, 0, 1, 0, 0, 0, 0, 0, 1, 0, 1, 0, 0, 1, 0, 0, 0, 0, 0, 1, 0, 0, 0, 1, 0, 0, 0, 1, 0, 0, 1, 0, 1, 0, 0, 1]\n"
     ]
    },
    {
     "name": "stderr",
     "output_type": "stream",
     "text": [
      "410it [23:06,  2.21s/it, BLEU2=0.337, BLEU1=0.407, ExactMatch=0.0328, METEOR=0.596, BertScore=nan, StubScore=0.2]"
     ]
    },
    {
     "name": "stdout",
     "output_type": "stream",
     "text": [
      "answer raw len:  409 1\n",
      "True\n",
      "Герб города Белозерск был утвержден 22 мая 1972 года.\n",
      "Герб города Белозерска утвержден 22 мая 1972 года.\n",
      "[0, 0, 0, 0, 0, 0, 1, 0, 0, 0, 0, 0, 0, 0, 0, 0, 0, 0, 0, 0, 0, 1, 0, 0, 0, 0, 1, 0, 1, 0, 0, 0, 0, 0, 0, 0, 1, 0, 0, 0, 0, 1, 0, 0, 0, 0, 0, 1, 0, 1, 0, 0, 1, 0, 0, 0, 0, 0, 1, 0, 0, 0, 1, 0, 0, 0, 1, 0, 0, 1, 0, 1, 0, 0, 1]\n"
     ]
    },
    {
     "name": "stderr",
     "output_type": "stream",
     "text": [
      "411it [23:09,  2.26s/it, BLEU2=0.339, BLEU1=0.408, ExactMatch=0.0327, METEOR=0.597, BertScore=nan, StubScore=0.2]"
     ]
    },
    {
     "name": "stdout",
     "output_type": "stream",
     "text": [
      "answer raw len:  410 1\n",
      "True\n",
      "Герб и флаг Белозерского муниципального района и города Белозерска были утверждены 12 октября 2001 года.\n",
      "Герб и флаг Белозерского муниципального района были утверждены 12 октября 2001 года.\n",
      "[0, 0, 0, 0, 0, 0, 1, 0, 0, 0, 0, 0, 0, 0, 0, 0, 0, 0, 0, 0, 0, 1, 0, 0, 0, 0, 1, 0, 1, 0, 0, 0, 0, 0, 0, 0, 1, 0, 0, 0, 0, 1, 0, 0, 0, 0, 0, 1, 0, 1, 0, 0, 1, 0, 0, 0, 0, 0, 1, 0, 0, 0, 1, 0, 0, 0, 1, 0, 0, 1, 0, 1, 0, 0, 1]\n"
     ]
    },
    {
     "name": "stderr",
     "output_type": "stream",
     "text": [
      "412it [23:10,  2.10s/it, BLEU2=0.34, BLEU1=0.409, ExactMatch=0.0326, METEOR=0.598, BertScore=nan, StubScore=0.2] "
     ]
    },
    {
     "name": "stdout",
     "output_type": "stream",
     "text": [
      "answer raw len:  411 1\n",
      "True\n",
      "Автор реконструкции герба Белозерского муниципального района и города Белозерска - Олег Свириденко.\n",
      "Автор реконструкции герба Белозерского муниципального района и города Белозерска Олег Свириденко.\n",
      "[0, 0, 0, 0, 0, 0, 1, 0, 0, 0, 0, 0, 0, 0, 0, 0, 0, 0, 0, 0, 0, 1, 0, 0, 0, 0, 1, 0, 1, 0, 0, 0, 0, 0, 0, 0, 1, 0, 0, 0, 0, 1, 0, 0, 0, 0, 0, 1, 0, 1, 0, 0, 1, 0, 0, 0, 0, 0, 1, 0, 0, 0, 1, 0, 0, 0, 1, 0, 0, 1, 0, 1, 0, 0, 1]\n"
     ]
    },
    {
     "name": "stderr",
     "output_type": "stream",
     "text": [
      "413it [23:13,  2.17s/it, BLEU2=0.339, BLEU1=0.409, ExactMatch=0.0325, METEOR=0.597, BertScore=nan, StubScore=0.2]"
     ]
    },
    {
     "name": "stdout",
     "output_type": "stream",
     "text": [
      "answer raw len:  412 1\n",
      "True\n",
      "[0.05] Автор герба — архитектор, главный инженер отдела капитального строительства Севмаша Н. С. Яковлев.\n",
      "Автор герба Белозерска П. Горячев.\n",
      "[0, 0, 0, 0, 0, 0, 1, 0, 0, 0, 0, 0, 0, 0, 0, 0, 0, 0, 0, 0, 0, 1, 0, 0, 0, 0, 1, 0, 1, 0, 0, 0, 0, 0, 0, 0, 1, 0, 0, 0, 0, 1, 0, 0, 0, 0, 0, 1, 0, 1, 0, 0, 1, 0, 0, 0, 0, 0, 1, 0, 0, 0, 1, 0, 0, 0, 1, 0, 0, 1, 0, 1, 0, 0, 1]\n",
      "answer raw len:  413 1\n"
     ]
    },
    {
     "name": "stderr",
     "output_type": "stream",
     "text": [
      "414it [23:18,  3.02s/it, BLEU2=0.339, BLEU1=0.409, ExactMatch=0.0325, METEOR=0.597, BertScore=nan, StubScore=0.197]"
     ]
    },
    {
     "name": "stdout",
     "output_type": "stream",
     "text": [
      "sim raw len:  1\n",
      "False\n",
      "Я не могу ответить на ваш вопрос, так как предоставленная информация не содержит информации о номере герба в Государственном геральдическом реестре Российской Федерации.\n",
      "В Государственный Геральдический регистр Российской Федерации герб внесён под № 1222.\n",
      "[0, 0, 0, 0, 0, 0, 1, 0, 0, 0, 0, 0, 0, 0, 0, 0, 0, 0, 0, 0, 0, 1, 0, 0, 0, 0, 1, 0, 1, 0, 0, 0, 0, 0, 0, 0, 1, 0, 0, 0, 0, 1, 0, 0, 0, 0, 0, 1, 0, 1, 0, 0, 1, 0, 0, 0, 0, 0, 1, 0, 0, 0, 1, 0, 0, 0, 1, 0, 0, 1, 0, 1, 0, 0, 1, 0]\n"
     ]
    },
    {
     "name": "stderr",
     "output_type": "stream",
     "text": [
      "415it [23:20,  2.78s/it, BLEU2=0.34, BLEU1=0.409, ExactMatch=0.0324, METEOR=0.598, BertScore=nan, StubScore=0.197] "
     ]
    },
    {
     "name": "stdout",
     "output_type": "stream",
     "text": [
      "answer raw len:  414 1\n",
      "True\n",
      "Группа \"Машина времени\" приняла участие в Международном фестивале \"Музыканты мира - детям Чернобыля\" в 1991 году.\n",
      "В Международном фестивале Музыканты мира детям Чернобыля в Минске группа Машина времени приняла участие в 1991 году.\n",
      "[0, 0, 0, 0, 0, 0, 1, 0, 0, 0, 0, 0, 0, 0, 0, 0, 0, 0, 0, 0, 0, 1, 0, 0, 0, 0, 1, 0, 1, 0, 0, 0, 0, 0, 0, 0, 1, 0, 0, 0, 0, 1, 0, 0, 0, 0, 0, 1, 0, 1, 0, 0, 1, 0, 0, 0, 0, 0, 1, 0, 0, 0, 1, 0, 0, 0, 1, 0, 0, 1, 0, 1, 0, 0, 1, 0]\n"
     ]
    },
    {
     "name": "stderr",
     "output_type": "stream",
     "text": [
      "416it [23:22,  2.74s/it, BLEU2=0.341, BLEU1=0.41, ExactMatch=0.0324, METEOR=0.599, BertScore=nan, StubScore=0.197]"
     ]
    },
    {
     "name": "stdout",
     "output_type": "stream",
     "text": [
      "answer raw len:  415 1\n",
      "True\n",
      "Макаревич поддержал Бориса Ельцина, когда выступал на баррикадах 20 августа 1991 года перед защитниками Белого дома.\n",
      "Выступая на баррикадах 20 августа 1991 года перед защитниками Белого дома, Макаревич поддержал Бориса Ельцина.\n",
      "[0, 0, 0, 0, 0, 0, 1, 0, 0, 0, 0, 0, 0, 0, 0, 0, 0, 0, 0, 0, 0, 1, 0, 0, 0, 0, 1, 0, 1, 0, 0, 0, 0, 0, 0, 0, 1, 0, 0, 0, 0, 1, 0, 0, 0, 0, 0, 1, 0, 1, 0, 0, 1, 0, 0, 0, 0, 0, 1, 0, 0, 0, 1, 0, 0, 0, 1, 0, 0, 1, 0, 1, 0, 0, 1, 0]\n"
     ]
    },
    {
     "name": "stderr",
     "output_type": "stream",
     "text": [
      "417it [23:24,  2.37s/it, BLEU2=0.341, BLEU1=0.41, ExactMatch=0.0323, METEOR=0.6, BertScore=nan, StubScore=0.197]  "
     ]
    },
    {
     "name": "stdout",
     "output_type": "stream",
     "text": [
      "answer raw len:  416 1\n",
      "True\n",
      "Александр Кутиков стал продюсером группы \"Машина времени\" в 1991 году.\n",
      "В 1991 году продюсером группы Машина времени стал Александр Кутиков.\n",
      "[0, 0, 0, 0, 0, 0, 1, 0, 0, 0, 0, 0, 0, 0, 0, 0, 0, 0, 0, 0, 0, 1, 0, 0, 0, 0, 1, 0, 1, 0, 0, 0, 0, 0, 0, 0, 1, 0, 0, 0, 0, 1, 0, 0, 0, 0, 0, 1, 0, 1, 0, 0, 1, 0, 0, 0, 0, 0, 1, 0, 0, 0, 1, 0, 0, 0, 1, 0, 0, 1, 0, 1, 0, 0, 1, 0]\n"
     ]
    },
    {
     "name": "stderr",
     "output_type": "stream",
     "text": [
      "418it [23:26,  2.20s/it, BLEU2=0.341, BLEU1=0.41, ExactMatch=0.0322, METEOR=0.6, BertScore=nan, StubScore=0.197]"
     ]
    },
    {
     "name": "stdout",
     "output_type": "stream",
     "text": [
      "answer raw len:  417 1\n",
      "True\n",
      "Машина времени зависела от государственного монополистического предприятия под названием Мелодия до 1991 года.\n",
      "Группа Машина времени до 1991 года зависила от государственного монополиста фирмы Мелодия.\n",
      "[0, 0, 0, 0, 0, 0, 1, 0, 0, 0, 0, 0, 0, 0, 0, 0, 0, 0, 0, 0, 0, 1, 0, 0, 0, 0, 1, 0, 1, 0, 0, 0, 0, 0, 0, 0, 1, 0, 0, 0, 0, 1, 0, 0, 0, 0, 0, 1, 0, 1, 0, 0, 1, 0, 0, 0, 0, 0, 1, 0, 0, 0, 1, 0, 0, 0, 1, 0, 0, 1, 0, 1, 0, 0, 1, 0]\n"
     ]
    },
    {
     "name": "stderr",
     "output_type": "stream",
     "text": [
      "419it [23:27,  1.92s/it, BLEU2=0.341, BLEU1=0.411, ExactMatch=0.0321, METEOR=0.6, BertScore=nan, StubScore=0.197]"
     ]
    },
    {
     "name": "stdout",
     "output_type": "stream",
     "text": [
      "answer raw len:  418 1\n",
      "True\n",
      "Машина времени приняла участие в Благотворительной акции солидарности с программой \"Взгляд\".\n",
      "В 1991 году группа Машина времени приняла участие в Благотворительной акции солидарности с программой Взгляд.\n",
      "[0, 0, 0, 0, 0, 0, 1, 0, 0, 0, 0, 0, 0, 0, 0, 0, 0, 0, 0, 0, 0, 1, 0, 0, 0, 0, 1, 0, 1, 0, 0, 0, 0, 0, 0, 0, 1, 0, 0, 0, 0, 1, 0, 0, 0, 0, 0, 1, 0, 1, 0, 0, 1, 0, 0, 0, 0, 0, 1, 0, 0, 0, 1, 0, 0, 0, 1, 0, 0, 1, 0, 1, 0, 0, 1, 0]\n"
     ]
    },
    {
     "name": "stderr",
     "output_type": "stream",
     "text": [
      "420it [23:30,  2.13s/it, BLEU2=0.341, BLEU1=0.411, ExactMatch=0.032, METEOR=0.601, BertScore=nan, StubScore=0.197]"
     ]
    },
    {
     "name": "stdout",
     "output_type": "stream",
     "text": [
      "answer raw len:  419 1\n",
      "True\n",
      "[0.04] 23 июня 1894 года, на конгрессе в Сорбонне, было принято историческое решение о возрождении Олимпийских игр.\n",
      "Решение по возрождению Олимпийских игр было принято на конгрессе в Сорбонне.\n",
      "[0, 0, 0, 0, 0, 0, 1, 0, 0, 0, 0, 0, 0, 0, 0, 0, 0, 0, 0, 0, 0, 1, 0, 0, 0, 0, 1, 0, 1, 0, 0, 0, 0, 0, 0, 0, 1, 0, 0, 0, 0, 1, 0, 0, 0, 0, 0, 1, 0, 1, 0, 0, 1, 0, 0, 0, 0, 0, 1, 0, 0, 0, 1, 0, 0, 0, 1, 0, 0, 1, 0, 1, 0, 0, 1, 0]\n"
     ]
    },
    {
     "name": "stderr",
     "output_type": "stream",
     "text": [
      "421it [23:30,  1.72s/it, BLEU2=0.342, BLEU1=0.412, ExactMatch=0.0319, METEOR=0.601, BertScore=nan, StubScore=0.197]"
     ]
    },
    {
     "name": "stdout",
     "output_type": "stream",
     "text": [
      "answer raw len:  420 1\n",
      "True\n",
      "Олимпийские игры проводятся каждые четыре года.\n",
      "Олимпийские игры проходят каждые четыре года.\n",
      "[0, 0, 0, 0, 0, 0, 1, 0, 0, 0, 0, 0, 0, 0, 0, 0, 0, 0, 0, 0, 0, 1, 0, 0, 0, 0, 1, 0, 1, 0, 0, 0, 0, 0, 0, 0, 1, 0, 0, 0, 0, 1, 0, 0, 0, 0, 0, 1, 0, 1, 0, 0, 1, 0, 0, 0, 0, 0, 1, 0, 0, 0, 1, 0, 0, 0, 1, 0, 0, 1, 0, 1, 0, 0, 1, 0]\n"
     ]
    },
    {
     "name": "stderr",
     "output_type": "stream",
     "text": [
      "422it [23:32,  1.78s/it, BLEU2=0.344, BLEU1=0.413, ExactMatch=0.0318, METEOR=0.602, BertScore=nan, StubScore=0.197]"
     ]
    },
    {
     "name": "stdout",
     "output_type": "stream",
     "text": [
      "answer raw len:  421 1\n",
      "True\n",
      "Старания Кубертена по возрождению Олимпийских игр увенчались успехом 23 июня 1894 года.\n",
      "Старания Кубертена по возрождению Олимпийских игр увенчались успехом 23 июня 1894.\n",
      "[0, 0, 0, 0, 0, 0, 1, 0, 0, 0, 0, 0, 0, 0, 0, 0, 0, 0, 0, 0, 0, 1, 0, 0, 0, 0, 1, 0, 1, 0, 0, 0, 0, 0, 0, 0, 1, 0, 0, 0, 0, 1, 0, 0, 0, 0, 0, 1, 0, 1, 0, 0, 1, 0, 0, 0, 0, 0, 1, 0, 0, 0, 1, 0, 0, 0, 1, 0, 0, 1, 0, 1, 0, 0, 1, 0]\n"
     ]
    },
    {
     "name": "stderr",
     "output_type": "stream",
     "text": [
      "423it [23:33,  1.57s/it, BLEU2=0.343, BLEU1=0.414, ExactMatch=0.0317, METEOR=0.603, BertScore=nan, StubScore=0.197]"
     ]
    },
    {
     "name": "stdout",
     "output_type": "stream",
     "text": [
      "answer raw len:  422 1\n",
      "True\n",
      "Деметриус Викелас был избран президентом Олимпийского комитета.\n",
      "Президентом Олимпийского комитета был избран Деметриус Викелас.\n",
      "[0, 0, 0, 0, 0, 0, 1, 0, 0, 0, 0, 0, 0, 0, 0, 0, 0, 0, 0, 0, 0, 1, 0, 0, 0, 0, 1, 0, 1, 0, 0, 0, 0, 0, 0, 0, 1, 0, 0, 0, 0, 1, 0, 0, 0, 0, 0, 1, 0, 1, 0, 0, 1, 0, 0, 0, 0, 0, 1, 0, 0, 0, 1, 0, 0, 0, 1, 0, 0, 1, 0, 1, 0, 0, 1, 0]\n"
     ]
    },
    {
     "name": "stderr",
     "output_type": "stream",
     "text": [
      "424it [23:41,  3.39s/it, BLEU2=0.343, BLEU1=0.413, ExactMatch=0.0316, METEOR=0.603, BertScore=nan, StubScore=0.197]"
     ]
    },
    {
     "name": "stdout",
     "output_type": "stream",
     "text": [
      "answer raw len:  423 1\n",
      "True\n",
      "[0.04] 23 июня 1894 года старания Кубертена увенчались успехом. На конгрессе в Сорбонне было принято историческое решение: поскольку нет сомнений в преимуществах, которые приносит возрождение Олимпийских игр, как в спортивном, так и в международном плане, Олимпийские игры должны быть возрождены на основе, которые соответствуют требованиям современной жизни. Также был создан Международный олимпийский комитет (МОК), в котором Кубертен занял должность генерального секретаря.\n",
      "Первым должность генерального секретаря МОК занял Кубертен.\n",
      "[0, 0, 0, 0, 0, 0, 1, 0, 0, 0, 0, 0, 0, 0, 0, 0, 0, 0, 0, 0, 0, 1, 0, 0, 0, 0, 1, 0, 1, 0, 0, 0, 0, 0, 0, 0, 1, 0, 0, 0, 0, 1, 0, 0, 0, 0, 0, 1, 0, 1, 0, 0, 1, 0, 0, 0, 0, 0, 1, 0, 0, 0, 1, 0, 0, 0, 1, 0, 0, 1, 0, 1, 0, 0, 1, 0]\n"
     ]
    },
    {
     "name": "stderr",
     "output_type": "stream",
     "text": [
      "425it [23:42,  2.51s/it, BLEU2=0.342, BLEU1=0.412, ExactMatch=0.0315, METEOR=0.601, BertScore=nan, StubScore=0.197]"
     ]
    },
    {
     "name": "stdout",
     "output_type": "stream",
     "text": [
      "answer raw len:  424 1\n",
      "True\n",
      "27 мая.\n",
      "Норвежское правительство передало свои полномочия стортингу 7 июня.\n",
      "[0, 0, 0, 0, 0, 0, 1, 0, 0, 0, 0, 0, 0, 0, 0, 0, 0, 0, 0, 0, 0, 1, 0, 0, 0, 0, 1, 0, 1, 0, 0, 0, 0, 0, 0, 0, 1, 0, 0, 0, 0, 1, 0, 0, 0, 0, 0, 1, 0, 1, 0, 0, 1, 0, 0, 0, 0, 0, 1, 0, 0, 0, 1, 0, 0, 0, 1, 0, 0, 1, 0, 1, 0, 0, 1, 0]\n"
     ]
    },
    {
     "name": "stderr",
     "output_type": "stream",
     "text": [
      "426it [23:43,  2.13s/it, BLEU2=0.342, BLEU1=0.413, ExactMatch=0.0314, METEOR=0.602, BertScore=nan, StubScore=0.197]"
     ]
    },
    {
     "name": "stdout",
     "output_type": "stream",
     "text": [
      "answer raw len:  425 1\n",
      "True\n",
      "Кабинет министров Норвегии подал в отставку 27 мая.\n",
      "Норвежский кабинет министров подал в отставку 27 мая.\n",
      "[0, 0, 0, 0, 0, 0, 1, 0, 0, 0, 0, 0, 0, 0, 0, 0, 0, 0, 0, 0, 0, 1, 0, 0, 0, 0, 1, 0, 1, 0, 0, 0, 0, 0, 0, 0, 1, 0, 0, 0, 0, 1, 0, 0, 0, 0, 0, 1, 0, 1, 0, 0, 1, 0, 0, 0, 0, 0, 1, 0, 0, 0, 1, 0, 0, 0, 1, 0, 0, 1, 0, 1, 0, 0, 1, 0]\n"
     ]
    },
    {
     "name": "stderr",
     "output_type": "stream",
     "text": [
      "427it [23:45,  2.02s/it, BLEU2=0.342, BLEU1=0.412, ExactMatch=0.0313, METEOR=0.601, BertScore=nan, StubScore=0.197]"
     ]
    },
    {
     "name": "stdout",
     "output_type": "stream",
     "text": [
      "answer raw len:  426 1\n",
      "True\n",
      "Стортинг принял решение о создании отдельной норвежской консульской службы 23 мая.\n",
      "Стортинг постановил создать отдельную норвежскую консульскую службу 23 мая.\n",
      "[0, 0, 0, 0, 0, 0, 1, 0, 0, 0, 0, 0, 0, 0, 0, 0, 0, 0, 0, 0, 0, 1, 0, 0, 0, 0, 1, 0, 1, 0, 0, 0, 0, 0, 0, 0, 1, 0, 0, 0, 0, 1, 0, 0, 0, 0, 0, 1, 0, 1, 0, 0, 1, 0, 0, 0, 0, 0, 1, 0, 0, 0, 1, 0, 0, 0, 1, 0, 0, 1, 0, 1, 0, 0, 1, 0]\n"
     ]
    },
    {
     "name": "stderr",
     "output_type": "stream",
     "text": [
      "428it [23:46,  1.75s/it, BLEU2=0.342, BLEU1=0.412, ExactMatch=0.0312, METEOR=0.601, BertScore=nan, StubScore=0.197]"
     ]
    },
    {
     "name": "stdout",
     "output_type": "stream",
     "text": [
      "answer raw len:  427 1\n",
      "True\n",
      "Нет, король Оскар II не ратифицировал закон.\n",
      "Король Оскар II отказался ратифицировать закон.\n",
      "[0, 0, 0, 0, 0, 0, 1, 0, 0, 0, 0, 0, 0, 0, 0, 0, 0, 0, 0, 0, 0, 1, 0, 0, 0, 0, 1, 0, 1, 0, 0, 0, 0, 0, 0, 0, 1, 0, 0, 0, 0, 1, 0, 0, 0, 0, 0, 1, 0, 1, 0, 0, 1, 0, 0, 0, 0, 0, 1, 0, 0, 0, 1, 0, 0, 0, 1, 0, 0, 1, 0, 1, 0, 0, 1, 0]\n"
     ]
    },
    {
     "name": "stderr",
     "output_type": "stream",
     "text": [
      "429it [23:48,  2.04s/it, BLEU2=0.342, BLEU1=0.413, ExactMatch=0.0312, METEOR=0.602, BertScore=nan, StubScore=0.197]"
     ]
    },
    {
     "name": "stdout",
     "output_type": "stream",
     "text": [
      "answer raw len:  428 1\n",
      "True\n",
      "Стортинг направил в Стокгольм отчет о произошедшем, а также просьбу, чтобы король Норвегии стал одним из принцев Бернадоттов.\n",
      "Стортинг направил в Стокгольм отчёт о произошедшем и просьбу, чтобы королём Норвегии стал один из принцев Бернадотов.\n",
      "[0, 0, 0, 0, 0, 0, 1, 0, 0, 0, 0, 0, 0, 0, 0, 0, 0, 0, 0, 0, 0, 1, 0, 0, 0, 0, 1, 0, 1, 0, 0, 0, 0, 0, 0, 0, 1, 0, 0, 0, 0, 1, 0, 0, 0, 0, 0, 1, 0, 1, 0, 0, 1, 0, 0, 0, 0, 0, 1, 0, 0, 0, 1, 0, 0, 0, 1, 0, 0, 1, 0, 1, 0, 0, 1, 0]\n"
     ]
    },
    {
     "name": "stderr",
     "output_type": "stream",
     "text": [
      "430it [23:50,  1.89s/it, BLEU2=0.342, BLEU1=0.413, ExactMatch=0.0311, METEOR=0.602, BertScore=nan, StubScore=0.197]"
     ]
    },
    {
     "name": "stdout",
     "output_type": "stream",
     "text": [
      "answer raw len:  429 1\n",
      "True\n",
      "Венесуэла обещала увеличить поставки нефти в Китай до 1 миллиона баррелей в день.\n",
      "Венесуэла гарантировала поставлять в Китай до 1 млн баррели нефти в сутки.\n",
      "[0, 0, 0, 0, 0, 0, 1, 0, 0, 0, 0, 0, 0, 0, 0, 0, 0, 0, 0, 0, 0, 1, 0, 0, 0, 0, 1, 0, 1, 0, 0, 0, 0, 0, 0, 0, 1, 0, 0, 0, 0, 1, 0, 0, 0, 0, 0, 1, 0, 1, 0, 0, 1, 0, 0, 0, 0, 0, 1, 0, 0, 0, 1, 0, 0, 0, 1, 0, 0, 1, 0, 1, 0, 0, 1, 0]\n"
     ]
    },
    {
     "name": "stderr",
     "output_type": "stream",
     "text": [
      "431it [23:53,  2.34s/it, BLEU2=0.342, BLEU1=0.413, ExactMatch=0.031, METEOR=0.602, BertScore=nan, StubScore=0.197] "
     ]
    },
    {
     "name": "stdout",
     "output_type": "stream",
     "text": [
      "answer raw len:  430 1\n",
      "True\n",
      "Основная цель плана по расширению Панамского канала заключается в модернизации канала для пропуска нефтяных танкеров водоизмещением до 130 000 тонн, что значительно сократит время доставки венесуэльской нефти в Китай.\n",
      "Основная задача плана о расширении Панамского канала заключается в снижении времени доставки венесуэльской нефти в Китай.\n",
      "[0, 0, 0, 0, 0, 0, 1, 0, 0, 0, 0, 0, 0, 0, 0, 0, 0, 0, 0, 0, 0, 1, 0, 0, 0, 0, 1, 0, 1, 0, 0, 0, 0, 0, 0, 0, 1, 0, 0, 0, 0, 1, 0, 0, 0, 0, 0, 1, 0, 1, 0, 0, 1, 0, 0, 0, 0, 0, 1, 0, 0, 0, 1, 0, 0, 0, 1, 0, 0, 1, 0, 1, 0, 0, 1, 0]\n"
     ]
    },
    {
     "name": "stderr",
     "output_type": "stream",
     "text": [
      "432it [23:57,  2.70s/it, BLEU2=0.342, BLEU1=0.412, ExactMatch=0.0309, METEOR=0.602, BertScore=nan, StubScore=0.197]"
     ]
    },
    {
     "name": "stdout",
     "output_type": "stream",
     "text": [
      "answer raw len:  431 1\n",
      "True\n",
      "1. [0.04] 23 октября 2006 года в Панаме был проведен референдум о расширении Панамского канала, который был поддержан 79% населения.\n",
      "79 % населения приняло план о расширении Панамского канала.\n",
      "[0, 0, 0, 0, 0, 0, 1, 0, 0, 0, 0, 0, 0, 0, 0, 0, 0, 0, 0, 0, 0, 1, 0, 0, 0, 0, 1, 0, 1, 0, 0, 0, 0, 0, 0, 0, 1, 0, 0, 0, 0, 1, 0, 0, 0, 0, 0, 1, 0, 1, 0, 0, 1, 0, 0, 0, 0, 0, 1, 0, 0, 0, 1, 0, 0, 0, 1, 0, 0, 1, 0, 1, 0, 0, 1, 0]\n"
     ]
    },
    {
     "name": "stderr",
     "output_type": "stream",
     "text": [
      "433it [23:59,  2.45s/it, BLEU2=0.342, BLEU1=0.413, ExactMatch=0.0308, METEOR=0.603, BertScore=nan, StubScore=0.197]"
     ]
    },
    {
     "name": "stdout",
     "output_type": "stream",
     "text": [
      "answer raw len:  432 1\n",
      "True\n",
      "Референдум о расширении Панамского канала завершился 23 октября 2006 года.\n",
      "23 октября 2006 года завершился референдум о расширении Панамского канала.\n",
      "[0, 0, 0, 0, 0, 0, 1, 0, 0, 0, 0, 0, 0, 0, 0, 0, 0, 0, 0, 0, 0, 1, 0, 0, 0, 0, 1, 0, 1, 0, 0, 0, 0, 0, 0, 0, 1, 0, 0, 0, 0, 1, 0, 0, 0, 0, 0, 1, 0, 1, 0, 0, 1, 0, 0, 0, 0, 0, 1, 0, 0, 0, 1, 0, 0, 0, 1, 0, 0, 1, 0, 1, 0, 0, 1, 0]\n"
     ]
    },
    {
     "name": "stderr",
     "output_type": "stream",
     "text": [
      "434it [24:08,  4.38s/it, BLEU2=0.342, BLEU1=0.412, ExactMatch=0.0307, METEOR=0.602, BertScore=nan, StubScore=0.197]"
     ]
    },
    {
     "name": "stdout",
     "output_type": "stream",
     "text": [
      "answer raw len:  433 1\n",
      "True\n",
      "План расширения Панамского канала был поддержан из-за его потенциала сократить время доставки венесуэльской нефти в Китай. Расширение должно было увеличить пропускную способность канала, позволяя проходить нефтяным танкерам водоизмещением до 130 000 тонн, что привело бы к более быстрому и эффективному маршруту для транспортировки нефти из Венесуэлы в Китай. Это было особенно важно, поскольку Венесуэла обещала увеличить поставки нефти в Китай до 1 миллиона баррелей в день.\n",
      "Расширение Панамского канала стало возможным благодаря усилиям китайских бизнес-структур, управляющих каналом, и обещанию Венесуэлы увеличить поставки нефти в Китай к 2016 году.\n",
      "[0, 0, 0, 0, 0, 0, 1, 0, 0, 0, 0, 0, 0, 0, 0, 0, 0, 0, 0, 0, 0, 1, 0, 0, 0, 0, 1, 0, 1, 0, 0, 0, 0, 0, 0, 0, 1, 0, 0, 0, 0, 1, 0, 0, 0, 0, 0, 1, 0, 1, 0, 0, 1, 0, 0, 0, 0, 0, 1, 0, 0, 0, 1, 0, 0, 0, 1, 0, 0, 1, 0, 1, 0, 0, 1, 0]\n"
     ]
    },
    {
     "name": "stderr",
     "output_type": "stream",
     "text": [
      "435it [24:12,  4.36s/it, BLEU2=0.342, BLEU1=0.413, ExactMatch=0.0306, METEOR=0.602, BertScore=nan, StubScore=0.197]"
     ]
    },
    {
     "name": "stdout",
     "output_type": "stream",
     "text": [
      "answer raw len:  434 1\n",
      "True\n",
      "Архивная запись Дэвида Боуи, которая была сделана в качестве промо-материала к альбому Pin Ups, впервые была показана на BBC Radio 6 23 октября 2013 года.\n",
      "23 октября 2013 года, на радиостанции BBC Radio 6 состоялась премьера архивной записи Дэвида Боуи, которую записали как промоматериал к альбому Pin Ups.\n",
      "[0, 0, 0, 0, 0, 0, 1, 0, 0, 0, 0, 0, 0, 0, 0, 0, 0, 0, 0, 0, 0, 1, 0, 0, 0, 0, 1, 0, 1, 0, 0, 0, 0, 0, 0, 0, 1, 0, 0, 0, 0, 1, 0, 0, 0, 0, 0, 1, 0, 1, 0, 0, 1, 0, 0, 0, 0, 0, 1, 0, 0, 0, 1, 0, 0, 0, 1, 0, 0, 1, 0, 1, 0, 0, 1, 0]\n"
     ]
    },
    {
     "name": "stderr",
     "output_type": "stream",
     "text": [
      "436it [24:15,  4.11s/it, BLEU2=0.342, BLEU1=0.413, ExactMatch=0.0306, METEOR=0.602, BertScore=nan, StubScore=0.197]"
     ]
    },
    {
     "name": "stdout",
     "output_type": "stream",
     "text": [
      "answer raw len:  435 1\n",
      "True\n",
      "Найджел Рив, куратор бэк-каталога Дэвида Боуи, обнаружил архивную запись, которая была сделана в качестве промо-материала к альбому Pin Ups.\n",
      "Найджел Рив, куратор бэк-каталога Боуи, нашел архивную запись Дэвида Боуи, которую записали как промоматериал к альбому Pin Ups.\n",
      "[0, 0, 0, 0, 0, 0, 1, 0, 0, 0, 0, 0, 0, 0, 0, 0, 0, 0, 0, 0, 0, 1, 0, 0, 0, 0, 1, 0, 1, 0, 0, 0, 0, 0, 0, 0, 1, 0, 0, 0, 0, 1, 0, 0, 0, 0, 0, 1, 0, 1, 0, 0, 1, 0, 0, 0, 0, 0, 1, 0, 0, 0, 1, 0, 0, 0, 1, 0, 0, 1, 0, 1, 0, 0, 1, 0]\n"
     ]
    },
    {
     "name": "stderr",
     "output_type": "stream",
     "text": [
      "437it [24:19,  4.09s/it, BLEU2=0.342, BLEU1=0.413, ExactMatch=0.0305, METEOR=0.603, BertScore=nan, StubScore=0.197]"
     ]
    },
    {
     "name": "stdout",
     "output_type": "stream",
     "text": [
      "answer raw len:  436 1\n",
      "True\n",
      "Архивная запись Дэвида Боуи, которая была записана как промоматериал к альбому Pin Ups, впервые была размещена на BBC Radio 6 23 октября 2013 года.\n",
      "На радиостанции BBC Radio 6 впервые разместили архивную запись Дэвида Боуи, которую записали как промоматериал к альбому Pin Ups.\n",
      "[0, 0, 0, 0, 0, 0, 1, 0, 0, 0, 0, 0, 0, 0, 0, 0, 0, 0, 0, 0, 0, 1, 0, 0, 0, 0, 1, 0, 1, 0, 0, 0, 0, 0, 0, 0, 1, 0, 0, 0, 0, 1, 0, 0, 0, 0, 0, 1, 0, 1, 0, 0, 1, 0, 0, 0, 0, 0, 1, 0, 0, 0, 1, 0, 0, 0, 1, 0, 0, 1, 0, 1, 0, 0, 1, 0]\n"
     ]
    },
    {
     "name": "stderr",
     "output_type": "stream",
     "text": [
      "438it [24:23,  3.96s/it, BLEU2=0.342, BLEU1=0.413, ExactMatch=0.0304, METEOR=0.602, BertScore=nan, StubScore=0.197]"
     ]
    },
    {
     "name": "stdout",
     "output_type": "stream",
     "text": [
      "answer raw len:  437 1\n",
      "True\n",
      "В радиопередаче, записанной Дэвидом Боуи в 1973 году в качестве промоматериала к альбому Pin Ups, звучит 5 песен.\n",
      "Пять песен в исполнении Дэвида Боуи включает в себя шуточная радиопередача, записанная музыкантом в 1973 году как промоматериал к альбому Pin Ups.\n",
      "[0, 0, 0, 0, 0, 0, 1, 0, 0, 0, 0, 0, 0, 0, 0, 0, 0, 0, 0, 0, 0, 1, 0, 0, 0, 0, 1, 0, 1, 0, 0, 0, 0, 0, 0, 0, 1, 0, 0, 0, 0, 1, 0, 0, 0, 0, 0, 1, 0, 1, 0, 0, 1, 0, 0, 0, 0, 0, 1, 0, 0, 0, 1, 0, 0, 0, 1, 0, 0, 1, 0, 1, 0, 0, 1, 0]\n"
     ]
    },
    {
     "name": "stderr",
     "output_type": "stream",
     "text": [
      "439it [24:28,  4.13s/it, BLEU2=0.343, BLEU1=0.414, ExactMatch=0.0303, METEOR=0.603, BertScore=nan, StubScore=0.197]"
     ]
    },
    {
     "name": "stdout",
     "output_type": "stream",
     "text": [
      "answer raw len:  438 1\n",
      "True\n",
      "На подкассете, на которой хранилась радиопередача, записанная музыкантом в 1973 году в качестве промо-материала к альбому Pin Ups, было написано просто \"Radio show\".\n",
      "На подкассетнике, на котором хранилась радиопередача, записанная музыкантом в 1973 году как промоматериал к альбому Pin Ups, было написано \"Радиошоу\".\n",
      "[0, 0, 0, 0, 0, 0, 1, 0, 0, 0, 0, 0, 0, 0, 0, 0, 0, 0, 0, 0, 0, 1, 0, 0, 0, 0, 1, 0, 1, 0, 0, 0, 0, 0, 0, 0, 1, 0, 0, 0, 0, 1, 0, 0, 0, 0, 0, 1, 0, 1, 0, 0, 1, 0, 0, 0, 0, 0, 1, 0, 0, 0, 1, 0, 0, 0, 1, 0, 0, 1, 0, 1, 0, 0, 1, 0]\n"
     ]
    },
    {
     "name": "stderr",
     "output_type": "stream",
     "text": [
      "440it [24:29,  3.29s/it, BLEU2=0.342, BLEU1=0.413, ExactMatch=0.0302, METEOR=0.601, BertScore=nan, StubScore=0.197]"
     ]
    },
    {
     "name": "stdout",
     "output_type": "stream",
     "text": [
      "answer raw len:  439 1\n",
      "True\n",
      "Название пилотного эпизода \"Звёздный путь\" - \"Клетка\".\n",
      "Пилотный эпизод Звёздного пути назывался The Cage (Клетка).\n",
      "[0, 0, 0, 0, 0, 0, 1, 0, 0, 0, 0, 0, 0, 0, 0, 0, 0, 0, 0, 0, 0, 1, 0, 0, 0, 0, 1, 0, 1, 0, 0, 0, 0, 0, 0, 0, 1, 0, 0, 0, 0, 1, 0, 0, 0, 0, 0, 1, 0, 1, 0, 0, 1, 0, 0, 0, 0, 0, 1, 0, 0, 0, 1, 0, 0, 0, 1, 0, 0, 1, 0, 1, 0, 0, 1, 0]\n"
     ]
    },
    {
     "name": "stderr",
     "output_type": "stream",
     "text": [
      "441it [24:32,  3.30s/it, BLEU2=0.342, BLEU1=0.412, ExactMatch=0.0301, METEOR=0.601, BertScore=nan, StubScore=0.197]"
     ]
    },
    {
     "name": "stdout",
     "output_type": "stream",
     "text": [
      "answer raw len:  440 1\n",
      "True\n",
      "26 августа 1965 года NBC заказала второй пилотный эпизод \"Звёздный путь: Оригинальный сериал\" под названием \"Где никто не ступал\" (Where No One Has Gone Before).\n",
      "26 августа 1965 года NBC заказывала второй пилотный эпизод Звёздного пути.\n",
      "[0, 0, 0, 0, 0, 0, 1, 0, 0, 0, 0, 0, 0, 0, 0, 0, 0, 0, 0, 0, 0, 1, 0, 0, 0, 0, 1, 0, 1, 0, 0, 0, 0, 0, 0, 0, 1, 0, 0, 0, 0, 1, 0, 0, 0, 0, 0, 1, 0, 1, 0, 0, 1, 0, 0, 0, 0, 0, 1, 0, 0, 0, 1, 0, 0, 0, 1, 0, 0, 1, 0, 1, 0, 0, 1, 0]\n"
     ]
    },
    {
     "name": "stderr",
     "output_type": "stream",
     "text": [
      "442it [24:35,  2.98s/it, BLEU2=0.342, BLEU1=0.413, ExactMatch=0.0301, METEOR=0.602, BertScore=nan, StubScore=0.197]"
     ]
    },
    {
     "name": "stdout",
     "output_type": "stream",
     "text": [
      "answer raw len:  441 1\n",
      "True\n",
      "Пилотный эпизод сериала \"Звёздный путь: Оригинальный сериал\" вышел 24 июня 1964 года.\n",
      "24 июня 1964 года вышел пилотный эпизод сериала Звёздный путь: Оригинальный сериал.\n",
      "[0, 0, 0, 0, 0, 0, 1, 0, 0, 0, 0, 0, 0, 0, 0, 0, 0, 0, 0, 0, 0, 1, 0, 0, 0, 0, 1, 0, 1, 0, 0, 0, 0, 0, 0, 0, 1, 0, 0, 0, 0, 1, 0, 0, 0, 0, 0, 1, 0, 1, 0, 0, 1, 0, 0, 0, 0, 0, 1, 0, 0, 0, 1, 0, 0, 0, 1, 0, 0, 1, 0, 1, 0, 0, 1, 0]\n"
     ]
    },
    {
     "name": "stderr",
     "output_type": "stream",
     "text": [
      "443it [24:36,  2.62s/it, BLEU2=0.341, BLEU1=0.413, ExactMatch=0.03, METEOR=0.602, BertScore=nan, StubScore=0.197]  "
     ]
    },
    {
     "name": "stdout",
     "output_type": "stream",
     "text": [
      "answer raw len:  442 1\n",
      "True\n",
      "В пилотной серии \"Звёздный путь\" роль капитана Кристофера Пайка исполнил Джеффри Хантер.\n",
      "Пилотная серия Звёздного пути вышла с Джеффри Хантером в роли капитана Кристофера Пайка.\n",
      "[0, 0, 0, 0, 0, 0, 1, 0, 0, 0, 0, 0, 0, 0, 0, 0, 0, 0, 0, 0, 0, 1, 0, 0, 0, 0, 1, 0, 1, 0, 0, 0, 0, 0, 0, 0, 1, 0, 0, 0, 0, 1, 0, 0, 0, 0, 0, 1, 0, 1, 0, 0, 1, 0, 0, 0, 0, 0, 1, 0, 0, 0, 1, 0, 0, 0, 1, 0, 0, 1, 0, 1, 0, 0, 1, 0]\n"
     ]
    },
    {
     "name": "stderr",
     "output_type": "stream",
     "text": [
      "444it [24:38,  2.23s/it, BLEU2=0.341, BLEU1=0.413, ExactMatch=0.0299, METEOR=0.602, BertScore=nan, StubScore=0.197]"
     ]
    },
    {
     "name": "stdout",
     "output_type": "stream",
     "text": [
      "answer raw len:  443 1\n",
      "True\n",
      "Беккерель сообщил о своем открытии на заседании Академии наук Парижа.\n",
      "Беккерель доложил о своём открытии на заседании Парижской Академии наук.\n",
      "[0, 0, 0, 0, 0, 0, 1, 0, 0, 0, 0, 0, 0, 0, 0, 0, 0, 0, 0, 0, 0, 1, 0, 0, 0, 0, 1, 0, 1, 0, 0, 0, 0, 0, 0, 0, 1, 0, 0, 0, 0, 1, 0, 0, 0, 0, 0, 1, 0, 1, 0, 0, 1, 0, 0, 0, 0, 0, 1, 0, 0, 0, 1, 0, 0, 0, 1, 0, 0, 1, 0, 1, 0, 0, 1, 0]\n",
      "answer raw len:  444 1\n"
     ]
    },
    {
     "name": "stderr",
     "output_type": "stream",
     "text": [
      "445it [24:39,  2.12s/it, BLEU2=0.341, BLEU1=0.413, ExactMatch=0.0299, METEOR=0.602, BertScore=nan, StubScore=0.195]"
     ]
    },
    {
     "name": "stdout",
     "output_type": "stream",
     "text": [
      "sim raw len:  1\n",
      "False\n",
      "В тексте 3.\n",
      "Очередной опыт с небольшими изменениями был подготовлен в лаборатории Беккереля.\n",
      "[0, 0, 0, 0, 0, 0, 1, 0, 0, 0, 0, 0, 0, 0, 0, 0, 0, 0, 0, 0, 0, 1, 0, 0, 0, 0, 1, 0, 1, 0, 0, 0, 0, 0, 0, 0, 1, 0, 0, 0, 0, 1, 0, 0, 0, 0, 0, 1, 0, 1, 0, 0, 1, 0, 0, 0, 0, 0, 1, 0, 0, 0, 1, 0, 0, 0, 1, 0, 0, 1, 0, 1, 0, 0, 1, 0, 0]\n",
      "answer raw len:  445 1\n"
     ]
    },
    {
     "name": "stderr",
     "output_type": "stream",
     "text": [
      "446it [24:44,  2.71s/it, BLEU2=0.341, BLEU1=0.413, ExactMatch=0.0299, METEOR=0.602, BertScore=nan, StubScore=0.205]"
     ]
    },
    {
     "name": "stdout",
     "output_type": "stream",
     "text": [
      "sim raw len:  1\n",
      "False\n",
      "Сообщение о присуждении Бунину Нобелевской премии было сделано по телефону из Стокгольма.\n",
      "24 февраля 1896 года на заседании Французской академии наук было сделано сообщение об излучении, производимых фосфоресценцией.\n",
      "[0, 0, 0, 0, 0, 0, 1, 0, 0, 0, 0, 0, 0, 0, 0, 0, 0, 0, 0, 0, 0, 1, 0, 0, 0, 0, 1, 0, 1, 0, 0, 0, 0, 0, 0, 0, 1, 0, 0, 0, 0, 1, 0, 0, 0, 0, 0, 1, 0, 1, 0, 0, 1, 0, 0, 0, 0, 0, 1, 0, 0, 0, 1, 0, 0, 0, 1, 0, 0, 1, 0, 1, 0, 0, 1, 0, 0, 1]\n"
     ]
    },
    {
     "name": "stderr",
     "output_type": "stream",
     "text": [
      "447it [24:45,  2.38s/it, BLEU2=0.343, BLEU1=0.414, ExactMatch=0.0298, METEOR=0.603, BertScore=nan, StubScore=0.205]"
     ]
    },
    {
     "name": "stdout",
     "output_type": "stream",
     "text": [
      "answer raw len:  446 1\n",
      "True\n",
      "Беккерель проявил пластинку, на которой лежала урановая соль, 1 марта.\n",
      "1 марта Беккерель проявил пластинку, на которой лежала урановая соль.\n",
      "[0, 0, 0, 0, 0, 0, 1, 0, 0, 0, 0, 0, 0, 0, 0, 0, 0, 0, 0, 0, 0, 1, 0, 0, 0, 0, 1, 0, 1, 0, 0, 0, 0, 0, 0, 0, 1, 0, 0, 0, 0, 1, 0, 0, 0, 0, 0, 1, 0, 1, 0, 0, 1, 0, 0, 0, 0, 0, 1, 0, 0, 0, 1, 0, 0, 0, 1, 0, 0, 1, 0, 1, 0, 0, 1, 0, 0, 1]\n"
     ]
    },
    {
     "name": "stderr",
     "output_type": "stream",
     "text": [
      "448it [24:46,  1.93s/it, BLEU2=0.342, BLEU1=0.413, ExactMatch=0.0297, METEOR=0.602, BertScore=nan, StubScore=0.205]"
     ]
    },
    {
     "name": "stdout",
     "output_type": "stream",
     "text": [
      "answer raw len:  447 1\n",
      "True\n",
      "2 марта 1896 года.\n",
      "24 февраля 1896 года было сделано сообщение Об излучении, производимых фосфоресценцией.\n",
      "[0, 0, 0, 0, 0, 0, 1, 0, 0, 0, 0, 0, 0, 0, 0, 0, 0, 0, 0, 0, 0, 1, 0, 0, 0, 0, 1, 0, 1, 0, 0, 0, 0, 0, 0, 0, 1, 0, 0, 0, 0, 1, 0, 0, 0, 0, 0, 1, 0, 1, 0, 0, 1, 0, 0, 0, 0, 0, 1, 0, 0, 0, 1, 0, 0, 0, 1, 0, 0, 1, 0, 1, 0, 0, 1, 0, 0, 1]\n"
     ]
    },
    {
     "name": "stderr",
     "output_type": "stream",
     "text": [
      "449it [24:50,  2.39s/it, BLEU2=0.341, BLEU1=0.413, ExactMatch=0.0296, METEOR=0.601, BertScore=nan, StubScore=0.205]"
     ]
    },
    {
     "name": "stdout",
     "output_type": "stream",
     "text": [
      "answer raw len:  448 1\n",
      "True\n",
      "24 февраля 2015 года международное рейтинговое агентство Standard & Poor's понизило долгосрочный и краткосрочный кредитный рейтинг ПАО КБ УБРиР до уровня B- и C соответственно и изменило прогноз на стабильный.\n",
      "Cуверенный кредитный рейтинг Российской Федерации по обязательствам в иностранной валюте на момент 24 февраля 2015 г. был понижен до уровня BB+/B.\n",
      "[0, 0, 0, 0, 0, 0, 1, 0, 0, 0, 0, 0, 0, 0, 0, 0, 0, 0, 0, 0, 0, 1, 0, 0, 0, 0, 1, 0, 1, 0, 0, 0, 0, 0, 0, 0, 1, 0, 0, 0, 0, 1, 0, 0, 0, 0, 0, 1, 0, 1, 0, 0, 1, 0, 0, 0, 0, 0, 1, 0, 0, 0, 1, 0, 0, 0, 1, 0, 0, 1, 0, 1, 0, 0, 1, 0, 0, 1]\n"
     ]
    },
    {
     "name": "stderr",
     "output_type": "stream",
     "text": [
      "450it [24:51,  2.15s/it, BLEU2=0.343, BLEU1=0.414, ExactMatch=0.0296, METEOR=0.602, BertScore=nan, StubScore=0.205]"
     ]
    },
    {
     "name": "stdout",
     "output_type": "stream",
     "text": [
      "answer raw len:  449 1\n",
      "True\n",
      "Оценка отраслевых и страновых рисков банковского сектора Российской Федерации была снижена до 8.\n",
      "Оценка отраслевых и страновых рисков банковского сектора Российской Федерации была понижена до 8.\n",
      "[0, 0, 0, 0, 0, 0, 1, 0, 0, 0, 0, 0, 0, 0, 0, 0, 0, 0, 0, 0, 0, 1, 0, 0, 0, 0, 1, 0, 1, 0, 0, 0, 0, 0, 0, 0, 1, 0, 0, 0, 0, 1, 0, 0, 0, 0, 0, 1, 0, 1, 0, 0, 1, 0, 0, 0, 0, 0, 1, 0, 0, 0, 1, 0, 0, 0, 1, 0, 0, 1, 0, 1, 0, 0, 1, 0, 0, 1]\n"
     ]
    },
    {
     "name": "stderr",
     "output_type": "stream",
     "text": [
      "451it [24:55,  2.73s/it, BLEU2=0.344, BLEU1=0.415, ExactMatch=0.0295, METEOR=0.603, BertScore=nan, StubScore=0.205]"
     ]
    },
    {
     "name": "stdout",
     "output_type": "stream",
     "text": [
      "answer raw len:  450 1\n",
      "True\n",
      "24 февраля 2015 года международное рейтинговое агентство Standard & Poor's понизило долгосрочный и краткосрочный кредитный рейтинг ПАО КБ УБРиР до уровня B- и C соответственно и изменило прогноз на стабильный.\n",
      "Международное рейтинговое агентство S&P 24 февраля 2015 г. понизило долгосрочный и краткосрочный кредитный рейтинг ПАО КБ УБРиР до уровня B- и C соответственно и изменило прогноз на Стабильный.\n",
      "[0, 0, 0, 0, 0, 0, 1, 0, 0, 0, 0, 0, 0, 0, 0, 0, 0, 0, 0, 0, 0, 1, 0, 0, 0, 0, 1, 0, 1, 0, 0, 0, 0, 0, 0, 0, 1, 0, 0, 0, 0, 1, 0, 0, 0, 0, 0, 1, 0, 1, 0, 0, 1, 0, 0, 0, 0, 0, 1, 0, 0, 0, 1, 0, 0, 0, 1, 0, 0, 1, 0, 1, 0, 0, 1, 0, 0, 1]\n"
     ]
    },
    {
     "name": "stderr",
     "output_type": "stream",
     "text": [
      "452it [24:56,  2.12s/it, BLEU2=0.343, BLEU1=0.414, ExactMatch=0.0294, METEOR=0.602, BertScore=nan, StubScore=0.205]"
     ]
    },
    {
     "name": "stdout",
     "output_type": "stream",
     "text": [
      "answer raw len:  451 1\n",
      "True\n",
      "24 февраля 2015 года.\n",
      "24 февраля 2015 г. международное рейтинговое Standard & Poor’s понизило долгосрочный и краткосрочный кредитный рейтинг ПАО КБ УБРиР до уровня B- и C соответственно и изменило прогноз на Стабильный.\n",
      "[0, 0, 0, 0, 0, 0, 1, 0, 0, 0, 0, 0, 0, 0, 0, 0, 0, 0, 0, 0, 0, 1, 0, 0, 0, 0, 1, 0, 1, 0, 0, 0, 0, 0, 0, 0, 1, 0, 0, 0, 0, 1, 0, 0, 0, 0, 0, 1, 0, 1, 0, 0, 1, 0, 0, 0, 0, 0, 1, 0, 0, 0, 1, 0, 0, 0, 1, 0, 0, 1, 0, 1, 0, 0, 1, 0, 0, 1]\n"
     ]
    },
    {
     "name": "stderr",
     "output_type": "stream",
     "text": [
      "453it [25:04,  4.03s/it, BLEU2=0.343, BLEU1=0.414, ExactMatch=0.0293, METEOR=0.602, BertScore=nan, StubScore=0.205]"
     ]
    },
    {
     "name": "stdout",
     "output_type": "stream",
     "text": [
      "answer raw len:  452 1\n",
      "True\n",
      "16 апреля 2014 года международное рейтинговое агентство Standard & Poor’s понизило долгосрочный и краткосрочный кредитный рейтинг ПАО КБ УБРиР до уровня B- и C соответственно и изменило прогноз на стабильный. Понижение кредитного рейтинга было вызвано понижением суверенного кредитного рейтинга Российской Федерации по обязательствам в иностранной валюте до BB+/B, снижением оценки отраслевых и страновых рисков банковского сектора Российской Федерации до 8 и снижением базовой оценки банков, работающих в Российской Федерации, до bb-.\n",
      "Пересмотр рейтинга международным рейтинговым агентством Standard & Poor’s по отношению к ПАО КБ УБРиР обусловлен понижением суверенного кредитного рейтинга Российской Федерации по обязательствам в иностранной валюте до BB+/B, понижением оценки отраслевых и страновых рисков банковского сектора Российской Федерации до 8 и понижением базового уровня рейтинга банков, действующих в Российской Федерации, до bb-.\n",
      "[0, 0, 0, 0, 0, 0, 1, 0, 0, 0, 0, 0, 0, 0, 0, 0, 0, 0, 0, 0, 0, 1, 0, 0, 0, 0, 1, 0, 1, 0, 0, 0, 0, 0, 0, 0, 1, 0, 0, 0, 0, 1, 0, 0, 0, 0, 0, 1, 0, 1, 0, 0, 1, 0, 0, 0, 0, 0, 1, 0, 0, 0, 1, 0, 0, 0, 1, 0, 0, 1, 0, 1, 0, 0, 1, 0, 0, 1]\n"
     ]
    },
    {
     "name": "stderr",
     "output_type": "stream",
     "text": [
      "454it [25:06,  3.30s/it, BLEU2=0.342, BLEU1=0.414, ExactMatch=0.0293, METEOR=0.601, BertScore=nan, StubScore=0.205]"
     ]
    },
    {
     "name": "stdout",
     "output_type": "stream",
     "text": [
      "answer raw len:  453 1\n",
      "True\n",
      "Лицензирование предпринимательской деятельности появилось в Российской Федерации 25 декабря 1990 года.\n",
      "1990 в РФ появиась лицензия на предпринимательскую деятельность.\n",
      "[0, 0, 0, 0, 0, 0, 1, 0, 0, 0, 0, 0, 0, 0, 0, 0, 0, 0, 0, 0, 0, 1, 0, 0, 0, 0, 1, 0, 1, 0, 0, 0, 0, 0, 0, 0, 1, 0, 0, 0, 0, 1, 0, 0, 0, 0, 0, 1, 0, 1, 0, 0, 1, 0, 0, 0, 0, 0, 1, 0, 0, 0, 1, 0, 0, 0, 1, 0, 0, 1, 0, 1, 0, 0, 1, 0, 0, 1]\n"
     ]
    },
    {
     "name": "stderr",
     "output_type": "stream",
     "text": [
      "455it [25:07,  2.55s/it, BLEU2=0.342, BLEU1=0.413, ExactMatch=0.0292, METEOR=0.6, BertScore=nan, StubScore=0.205]  "
     ]
    },
    {
     "name": "stdout",
     "output_type": "stream",
     "text": [
      "answer raw len:  454 1\n",
      "True\n",
      "25 декабря 1990 года.\n",
      "25 декабря 1990 года - точная дата, когда появилось понятие о лицензировании предпринимательской деятельности.\n",
      "[0, 0, 0, 0, 0, 0, 1, 0, 0, 0, 0, 0, 0, 0, 0, 0, 0, 0, 0, 0, 0, 1, 0, 0, 0, 0, 1, 0, 1, 0, 0, 0, 0, 0, 0, 0, 1, 0, 0, 0, 0, 1, 0, 0, 0, 0, 0, 1, 0, 1, 0, 0, 1, 0, 0, 0, 0, 0, 1, 0, 0, 0, 1, 0, 0, 0, 1, 0, 0, 1, 0, 1, 0, 0, 1, 0, 0, 1]\n"
     ]
    },
    {
     "name": "stderr",
     "output_type": "stream",
     "text": [
      "456it [25:08,  2.27s/it, BLEU2=0.342, BLEU1=0.413, ExactMatch=0.0291, METEOR=0.6, BertScore=nan, StubScore=0.205]"
     ]
    },
    {
     "name": "stdout",
     "output_type": "stream",
     "text": [
      "answer raw len:  455 1\n",
      "True\n",
      "4 пункт статьи 21 Закона РСФСР О предприятиях и предпринимательской деятельности.\n",
      "4 пункт ст. 21 Закона РСФСР О предприятиях и предпринимательской деятельности назывался \"Лицензирование отдельных видов предпринимательской деятельности\".\n",
      "[0, 0, 0, 0, 0, 0, 1, 0, 0, 0, 0, 0, 0, 0, 0, 0, 0, 0, 0, 0, 0, 1, 0, 0, 0, 0, 1, 0, 1, 0, 0, 0, 0, 0, 0, 0, 1, 0, 0, 0, 0, 1, 0, 0, 0, 0, 0, 1, 0, 1, 0, 0, 1, 0, 0, 0, 0, 0, 1, 0, 0, 0, 1, 0, 0, 0, 1, 0, 0, 1, 0, 1, 0, 0, 1, 0, 0, 1]\n"
     ]
    },
    {
     "name": "stderr",
     "output_type": "stream",
     "text": [
      "457it [25:43, 11.84s/it, BLEU2=0.341, BLEU1=0.412, ExactMatch=0.029, METEOR=0.599, BertScore=nan, StubScore=0.205]"
     ]
    },
    {
     "name": "stdout",
     "output_type": "stream",
     "text": [
      "answer raw len:  456 1\n",
      "True\n",
      "1. [0.03] 25 декабря 1990 года появилось понятие лицензирования предпринимательской деятельности. Согласно 4 пункту статьи 21 Закона РСФСР \"О предприятиях и предпринимательской деятельности\" начала действовать норма, предусматривающая такое лицензирование. Предполагалось, что перечень видов предпринимательской деятельности, подлежащих лицензированию, будет определен правительством Российской Федерации.\n",
      "\n",
      "2. [0.1] ОКВЭД 2 - это Общероссийский классификатор видов экономической деятельности ОК 029-2014, который пришел на смену двум ОКВЭД (ОК 029-201 и ОК 029-2007), которые были отменены с 1 января 2015 года. Этот классификатор был принят и введен в действие Приказом Федерального агентства по техническому регулированию и метрологии от 31 января 2014 года N 14-ст. Дата введения в действие классификатора - с 1 февраля 2014 года, но с правом досрочного применения в правоотношениях, возникших с 1 января 2014 года. Виды деятельности сгруппированы в 21 разделе.\n",
      "\n",
      "3. [0.04] ОКВЭД 2 - это часть Единой системы классификации и кодирования технико-экономической и социальной информации РФ (ЕСКК). Он был создан на основе официальной русской версии Статистической классификации видов экономической деятельности в Европейском экономическом сообществе (КДЕС). Принят постановлением Госстандарта от 6 ноября 2001 года, введен в действие с 1 января 2003 года. Он заменил Общесоюзный классификатор отраслей народного хозяйства (ОКОНХ) и части I и IV Общероссийского классификатора видов экономической деятельности, продукции и услуг (ОКДП), касающиеся экономической деятельности.\n",
      "Предполагалось, что перечень видов предпринимательской деятельности, подлежащих лицензированию после 25 декабря 1990 в РСФСР будет определен Правительством Российской Федерации.\n",
      "[0, 0, 0, 0, 0, 0, 1, 0, 0, 0, 0, 0, 0, 0, 0, 0, 0, 0, 0, 0, 0, 1, 0, 0, 0, 0, 1, 0, 1, 0, 0, 0, 0, 0, 0, 0, 1, 0, 0, 0, 0, 1, 0, 0, 0, 0, 0, 1, 0, 1, 0, 0, 1, 0, 0, 0, 0, 0, 1, 0, 0, 0, 1, 0, 0, 0, 1, 0, 0, 1, 0, 1, 0, 0, 1, 0, 0, 1]\n",
      "answer raw len:  457 1\n",
      "True\n",
      "1. [0.03] 25 декабря 1990 года появилось понятие лицензирования предпринимательской деятельности. Согласно 4 пункту статьи 21 Закона РСФСР \"О предприятиях и предпринимательской деятельности\" начала действовать норма, предусматривающая такое лицензирование. Эта норма устанавливала, что отдельные виды деятельности предпринимателей в Российской Федерации могут осуществляться только на основании лицензии (специального разрешения компетентных органов). Предполагалось, что перечень видов предпринимательской деятельности, подлежащих лицензированию, будет определяться Правительством Российской Федерации.\n",
      "\n",
      "2. [0.12] Федеральный закон \"О государственном регулировании торговой деятельности в Российской Федерации\" № 381-ФЗ от 28 декабря 2009 года (Закон о торговле) вступил в силу с 1 февраля 2010 года. Закон направлен на упорядочение отношений, связанных с организацией торговой деятельности на территории Российской Федерации, в целях создания прозрачного и предсказуемого порядка осуществления торговой деятельности, устранения недобросовестных практик и давления на контрагентов со стороны торговых сетей и поставщиков, а также устранения излишних административных барьеров в торговле, поддержки малого и среднего бизнеса в сфере торговли и производства продовольственных товаров.\n",
      "\n",
      "3. [0.06] Условия для обособления оперативного учёта от инвентарного сложились лишь в тот момент, когда усложнение технологических процессов на производстве в начале XX века привело к бурному развитию нормативного учёта затрат, калькуляции себестоимости и, как следствие, к появлению управленческого учёта. Как самостоятельная форма хозяйственного учёта оперативно-технический учёт впервые возник в СССР при попытках советских экономистов разработать принципиально новый метод управления издержками, коренным образом отличающийся от системы стандарт-кост, которая практиковалась в англо-саксонских странах. Это был нормативный учёт, изначально, с конца 1920-х гг. по 1938 г., применявшийся в массовом машиностроении в виде подетально-операционного метода калькулирования [3]. В таком значении оперативный учёт указан в решениях XVI конференции ВКП(б) (1929 г.), когда было поставлено требование установления единства бухгалтерского, оперативного и статистического учёта [4]. В последующий советский период оперативный учёт охватывал регистрацию событий в хозяйственной жизни предприятий.\n",
      "Согласно 4 пункту ст. 21 Закона РСФСР О предприятиях и предпринимательской деятельности предпринимательская деятельность в Российской Федерации должна была осуществляться на основании лицензии (специального разрешения компетентных органов).\n",
      "[0, 0, 0, 0, 0, 0, 1, 0, 0, 0, 0, 0, 0, 0, 0, 0, 0, 0, 0, 0, 0, 1, 0, 0, 0, 0, 1, 0, 1, 0, 0, 0, 0, 0, 0, 0, 1, 0, 0, 0, 0, 1, 0, 0, 0, 0, 0, 1, 0, 1, 0, 0, 1, 0, 0, 0, 0, 0, 1, 0, 0, 0, 1, 0, 0, 0, 1, 0, 0, 1, 0, 1, 0, 0, 1, 0, 0, 1]\n"
     ]
    },
    {
     "name": "stderr",
     "output_type": "stream",
     "text": [
      "459it [26:25, 14.93s/it, BLEU2=0.341, BLEU1=0.412, ExactMatch=0.0289, METEOR=0.599, BertScore=nan, StubScore=0.205]"
     ]
    },
    {
     "name": "stdout",
     "output_type": "stream",
     "text": [
      "answer raw len:  458 1\n",
      "True\n",
      "Игорь Хомич работал в группе Калинов Мост во время записи альбома \"Sva\".\n",
      "В период записи альбома SWA Игорь Хомич работал в группе Калинов Мост.\n",
      "[0, 0, 0, 0, 0, 0, 1, 0, 0, 0, 0, 0, 0, 0, 0, 0, 0, 0, 0, 0, 0, 1, 0, 0, 0, 0, 1, 0, 1, 0, 0, 0, 0, 0, 0, 0, 1, 0, 0, 0, 0, 1, 0, 0, 0, 0, 0, 1, 0, 1, 0, 0, 1, 0, 0, 0, 0, 0, 1, 0, 0, 0, 1, 0, 0, 0, 1, 0, 0, 1, 0, 1, 0, 0, 1, 0, 0, 1]\n",
      "answer raw len:  459 1\n"
     ]
    },
    {
     "name": "stderr",
     "output_type": "stream",
     "text": [
      "460it [26:29, 11.67s/it, BLEU2=0.341, BLEU1=0.412, ExactMatch=0.0289, METEOR=0.599, BertScore=nan, StubScore=0.203]"
     ]
    },
    {
     "name": "stdout",
     "output_type": "stream",
     "text": [
      "sim raw len:  1\n",
      "False\n",
      "Е. Маргулис покинул группу \"Машина времени\" в 1979 году.\n",
      "25 июня 2012 Е. Маргулис покинул группу Машина времени.\n",
      "[0, 0, 0, 0, 0, 0, 1, 0, 0, 0, 0, 0, 0, 0, 0, 0, 0, 0, 0, 0, 0, 1, 0, 0, 0, 0, 1, 0, 1, 0, 0, 0, 0, 0, 0, 0, 1, 0, 0, 0, 0, 1, 0, 0, 0, 0, 0, 1, 0, 1, 0, 0, 1, 0, 0, 0, 0, 0, 1, 0, 0, 0, 1, 0, 0, 0, 1, 0, 0, 1, 0, 1, 0, 0, 1, 0, 0, 1, 0]\n",
      "answer raw len:  460 1\n"
     ]
    },
    {
     "name": "stderr",
     "output_type": "stream",
     "text": [
      "461it [26:33,  9.38s/it, BLEU2=0.341, BLEU1=0.412, ExactMatch=0.0289, METEOR=0.599, BertScore=nan, StubScore=0.2]  "
     ]
    },
    {
     "name": "stdout",
     "output_type": "stream",
     "text": [
      "sim raw len:  1\n",
      "False\n",
      "Первый концерт с участием Игоря Хомича в группе \"Машина времени\" состоялся в 1980 году.\n",
      "Первые выступления группы Машина времени при участии Игоря Хомича состоялись 1 сентября 2012 г.\n",
      "[0, 0, 0, 0, 0, 0, 1, 0, 0, 0, 0, 0, 0, 0, 0, 0, 0, 0, 0, 0, 0, 1, 0, 0, 0, 0, 1, 0, 1, 0, 0, 0, 0, 0, 0, 0, 1, 0, 0, 0, 0, 1, 0, 0, 0, 0, 0, 1, 0, 1, 0, 0, 1, 0, 0, 0, 0, 0, 1, 0, 0, 0, 1, 0, 0, 0, 1, 0, 0, 1, 0, 1, 0, 0, 1, 0, 0, 1, 0, 0]\n"
     ]
    },
    {
     "name": "stderr",
     "output_type": "stream",
     "text": [
      "462it [26:36,  7.25s/it, BLEU2=0.341, BLEU1=0.412, ExactMatch=0.0288, METEOR=0.6, BertScore=nan, StubScore=0.2]  "
     ]
    },
    {
     "name": "stdout",
     "output_type": "stream",
     "text": [
      "answer raw len:  461 1\n",
      "True\n",
      "Игорь Хомич занял вакантное место гитариста в группе \"Машина времени\" после ухода Маргулиса.\n",
      "Вакантное место гитариста в группе Машина времени после ухода Маргулиса занял Игорь Хомич.\n",
      "[0, 0, 0, 0, 0, 0, 1, 0, 0, 0, 0, 0, 0, 0, 0, 0, 0, 0, 0, 0, 0, 1, 0, 0, 0, 0, 1, 0, 1, 0, 0, 0, 0, 0, 0, 0, 1, 0, 0, 0, 0, 1, 0, 0, 0, 0, 0, 1, 0, 1, 0, 0, 1, 0, 0, 0, 0, 0, 1, 0, 0, 0, 1, 0, 0, 0, 1, 0, 0, 1, 0, 1, 0, 0, 1, 0, 0, 1, 0, 0]\n"
     ]
    },
    {
     "name": "stderr",
     "output_type": "stream",
     "text": [
      "463it [26:38,  5.69s/it, BLEU2=0.341, BLEU1=0.413, ExactMatch=0.0287, METEOR=0.6, BertScore=nan, StubScore=0.2]"
     ]
    },
    {
     "name": "stdout",
     "output_type": "stream",
     "text": [
      "answer raw len:  462 1\n",
      "True\n",
      "Евгений Маргулис покинул группу \"Машина времени\" 25 июня 2012 года.\n",
      "25 июня 2012 года группу Машина времени покинул Е. Маргулис.\n",
      "[0, 0, 0, 0, 0, 0, 1, 0, 0, 0, 0, 0, 0, 0, 0, 0, 0, 0, 0, 0, 0, 1, 0, 0, 0, 0, 1, 0, 1, 0, 0, 0, 0, 0, 0, 0, 1, 0, 0, 0, 0, 1, 0, 0, 0, 0, 0, 1, 0, 1, 0, 0, 1, 0, 0, 0, 0, 0, 1, 0, 0, 0, 1, 0, 0, 0, 1, 0, 0, 1, 0, 1, 0, 0, 1, 0, 0, 1, 0, 0]\n"
     ]
    },
    {
     "name": "stderr",
     "output_type": "stream",
     "text": [
      "464it [26:39,  4.45s/it, BLEU2=0.341, BLEU1=0.412, ExactMatch=0.0286, METEOR=0.6, BertScore=nan, StubScore=0.2]"
     ]
    },
    {
     "name": "stdout",
     "output_type": "stream",
     "text": [
      "answer raw len:  463 1\n",
      "True\n",
      "Провал грунта на железнодорожной станции Березники имел глубину 20 метров.\n",
      "На территории вокзала образовался новый провал земляного полотна глубиной 20 метров.\n",
      "[0, 0, 0, 0, 0, 0, 1, 0, 0, 0, 0, 0, 0, 0, 0, 0, 0, 0, 0, 0, 0, 1, 0, 0, 0, 0, 1, 0, 1, 0, 0, 0, 0, 0, 0, 0, 1, 0, 0, 0, 0, 1, 0, 0, 0, 0, 0, 1, 0, 1, 0, 0, 1, 0, 0, 0, 0, 0, 1, 0, 0, 0, 1, 0, 0, 0, 1, 0, 0, 1, 0, 1, 0, 0, 1, 0, 0, 1, 0, 0]\n"
     ]
    },
    {
     "name": "stderr",
     "output_type": "stream",
     "text": [
      "465it [26:41,  3.72s/it, BLEU2=0.34, BLEU1=0.411, ExactMatch=0.0286, METEOR=0.599, BertScore=nan, StubScore=0.2]"
     ]
    },
    {
     "name": "stdout",
     "output_type": "stream",
     "text": [
      "answer raw len:  464 1\n",
      "True\n",
      "Провал грунта на железнодорожной станции Березники имел размеры 100 на 40 метров.\n",
      "Провал был шириной около 50 метров и протяжённостью около 50 метров.\n",
      "[0, 0, 0, 0, 0, 0, 1, 0, 0, 0, 0, 0, 0, 0, 0, 0, 0, 0, 0, 0, 0, 1, 0, 0, 0, 0, 1, 0, 1, 0, 0, 0, 0, 0, 0, 0, 1, 0, 0, 0, 0, 1, 0, 0, 0, 0, 0, 1, 0, 1, 0, 0, 1, 0, 0, 0, 0, 0, 1, 0, 0, 0, 1, 0, 0, 0, 1, 0, 0, 1, 0, 1, 0, 0, 1, 0, 0, 1, 0, 0]\n"
     ]
    },
    {
     "name": "stderr",
     "output_type": "stream",
     "text": [
      "466it [26:43,  3.09s/it, BLEU2=0.34, BLEU1=0.412, ExactMatch=0.0285, METEOR=0.599, BertScore=nan, StubScore=0.2]"
     ]
    },
    {
     "name": "stdout",
     "output_type": "stream",
     "text": [
      "answer raw len:  465 1\n",
      "True\n",
      "Провал грунта на территории вокзала произошел 25 ноября 2010 года.\n",
      "25 ноября 2010 на территории вокзала образовался новый провал земляного полотна.\n",
      "[0, 0, 0, 0, 0, 0, 1, 0, 0, 0, 0, 0, 0, 0, 0, 0, 0, 0, 0, 0, 0, 1, 0, 0, 0, 0, 1, 0, 1, 0, 0, 0, 0, 0, 0, 0, 1, 0, 0, 0, 0, 1, 0, 0, 0, 0, 0, 1, 0, 1, 0, 0, 1, 0, 0, 0, 0, 0, 1, 0, 0, 0, 1, 0, 0, 0, 1, 0, 0, 1, 0, 1, 0, 0, 1, 0, 0, 1, 0, 0]\n"
     ]
    },
    {
     "name": "stderr",
     "output_type": "stream",
     "text": [
      "467it [26:44,  2.54s/it, BLEU2=0.34, BLEU1=0.412, ExactMatch=0.0284, METEOR=0.599, BertScore=nan, StubScore=0.2]"
     ]
    },
    {
     "name": "stdout",
     "output_type": "stream",
     "text": [
      "answer raw len:  466 1\n",
      "True\n",
      "Провал образовался недалеко от железнодорожного вокзала в городе Березники.\n",
      "Провал образовался на станции Березники.\n",
      "[0, 0, 0, 0, 0, 0, 1, 0, 0, 0, 0, 0, 0, 0, 0, 0, 0, 0, 0, 0, 0, 1, 0, 0, 0, 0, 1, 0, 1, 0, 0, 0, 0, 0, 0, 0, 1, 0, 0, 0, 0, 1, 0, 0, 0, 0, 0, 1, 0, 1, 0, 0, 1, 0, 0, 0, 0, 0, 1, 0, 0, 0, 1, 0, 0, 0, 1, 0, 0, 1, 0, 1, 0, 0, 1, 0, 0, 1, 0, 0]\n"
     ]
    },
    {
     "name": "stderr",
     "output_type": "stream",
     "text": [
      "468it [26:59,  6.25s/it, BLEU2=0.339, BLEU1=0.411, ExactMatch=0.0284, METEOR=0.598, BertScore=nan, StubScore=0.2]"
     ]
    },
    {
     "name": "stdout",
     "output_type": "stream",
     "text": [
      "answer raw len:  467 1\n",
      "True\n",
      "1. [0.04] 25 ноября 2010 года в городе на территории железнодорожного вокзала образовался провал глубиной 20 метров, шириной 50 метров и длиной 50 метров. В него провалился один из железнодорожных вагонов.\n",
      "\n",
      "2. [0.05] На Курейской плотине в 1993 году резко возрос фильтрационный расход через насыпь, что привело к вымыванию мелкозернистого грунта и образованию провала.\n",
      "\n",
      "3. [0.04] В середине октября 2006 года одна из шахт БКРУ-1 ОАО \"Уралкалий\" была затоплена, а в середине лета (конец июля 2007 года) над выработками образовался провал.\n",
      "В него провалился один из вагонов железнодорожного состава.\n",
      "[0, 0, 0, 0, 0, 0, 1, 0, 0, 0, 0, 0, 0, 0, 0, 0, 0, 0, 0, 0, 0, 1, 0, 0, 0, 0, 1, 0, 1, 0, 0, 0, 0, 0, 0, 0, 1, 0, 0, 0, 0, 1, 0, 0, 0, 0, 0, 1, 0, 1, 0, 0, 1, 0, 0, 0, 0, 0, 1, 0, 0, 0, 1, 0, 0, 0, 1, 0, 0, 1, 0, 1, 0, 0, 1, 0, 0, 1, 0, 0]\n"
     ]
    },
    {
     "name": "stderr",
     "output_type": "stream",
     "text": [
      "469it [27:00,  4.84s/it, BLEU2=0.34, BLEU1=0.412, ExactMatch=0.0283, METEOR=0.599, BertScore=nan, StubScore=0.2] "
     ]
    },
    {
     "name": "stdout",
     "output_type": "stream",
     "text": [
      "answer raw len:  468 1\n",
      "True\n",
      "Омская губерния РСФСР существовала в 1919-1925 годах.\n",
      "Омская губерния РСФСР существовала в 1919—1925 гг.\n",
      "[0, 0, 0, 0, 0, 0, 1, 0, 0, 0, 0, 0, 0, 0, 0, 0, 0, 0, 0, 0, 0, 1, 0, 0, 0, 0, 1, 0, 1, 0, 0, 0, 0, 0, 0, 0, 1, 0, 0, 0, 0, 1, 0, 0, 0, 0, 0, 1, 0, 1, 0, 0, 1, 0, 0, 0, 0, 0, 1, 0, 0, 0, 1, 0, 0, 0, 1, 0, 0, 1, 0, 1, 0, 0, 1, 0, 0, 1, 0, 0]\n"
     ]
    },
    {
     "name": "stderr",
     "output_type": "stream",
     "text": [
      "470it [27:03,  4.09s/it, BLEU2=0.34, BLEU1=0.412, ExactMatch=0.0282, METEOR=0.599, BertScore=nan, StubScore=0.2]"
     ]
    },
    {
     "name": "stdout",
     "output_type": "stream",
     "text": [
      "answer raw len:  469 1\n",
      "True\n",
      "В городе Петропавловск вышло постановление Чрезвычайной Полномочной Комиссии КазЦИК о приеме и организации Акмолинской губернии с административным центром.\n",
      "Постановление Чрезвычайной полномочной комиссии КазЦИК о приёме и организации Акмолинской губернии с административным центром вышло в городе Петропавловск.\n",
      "[0, 0, 0, 0, 0, 0, 1, 0, 0, 0, 0, 0, 0, 0, 0, 0, 0, 0, 0, 0, 0, 1, 0, 0, 0, 0, 1, 0, 1, 0, 0, 0, 0, 0, 0, 0, 1, 0, 0, 0, 0, 1, 0, 0, 0, 0, 0, 1, 0, 1, 0, 0, 1, 0, 0, 0, 0, 0, 1, 0, 0, 0, 1, 0, 0, 0, 1, 0, 0, 1, 0, 1, 0, 0, 1, 0, 0, 1, 0, 0]\n"
     ]
    },
    {
     "name": "stderr",
     "output_type": "stream",
     "text": [
      "471it [27:05,  3.55s/it, BLEU2=0.34, BLEU1=0.411, ExactMatch=0.0281, METEOR=0.598, BertScore=nan, StubScore=0.2]"
     ]
    },
    {
     "name": "stdout",
     "output_type": "stream",
     "text": [
      "answer raw len:  470 1\n",
      "True\n",
      "[0.03] Последующее название Автономной Киргизской Республики было Казахская Автономная Советская Социалистическая Республика.\n",
      "Впоследствии Автономную Киргизскую республику назвали как казакская АССР.\n",
      "[0, 0, 0, 0, 0, 0, 1, 0, 0, 0, 0, 0, 0, 0, 0, 0, 0, 0, 0, 0, 0, 1, 0, 0, 0, 0, 1, 0, 1, 0, 0, 0, 0, 0, 0, 0, 1, 0, 0, 0, 0, 1, 0, 0, 0, 0, 0, 1, 0, 1, 0, 0, 1, 0, 0, 0, 0, 0, 1, 0, 0, 0, 1, 0, 0, 0, 1, 0, 0, 1, 0, 1, 0, 0, 1, 0, 0, 1, 0, 0]\n"
     ]
    },
    {
     "name": "stderr",
     "output_type": "stream",
     "text": [
      "472it [27:08,  3.30s/it, BLEU2=0.341, BLEU1=0.412, ExactMatch=0.0281, METEOR=0.599, BertScore=nan, StubScore=0.2]"
     ]
    },
    {
     "name": "stdout",
     "output_type": "stream",
     "text": [
      "answer raw len:  471 1\n",
      "True\n",
      "Декрет ВЦИК и СНК РСФСР об образовании Автономной Киргизской Республики был подписан 26 августа 1920 года.\n",
      "26 августа 1920 года был подписан декрет ВЦИК и СНК РСФСР об образовании Автономной Киргизской республики.\n",
      "[0, 0, 0, 0, 0, 0, 1, 0, 0, 0, 0, 0, 0, 0, 0, 0, 0, 0, 0, 0, 0, 1, 0, 0, 0, 0, 1, 0, 1, 0, 0, 0, 0, 0, 0, 0, 1, 0, 0, 0, 0, 1, 0, 0, 0, 0, 0, 1, 0, 1, 0, 0, 1, 0, 0, 0, 0, 0, 1, 0, 0, 0, 1, 0, 0, 0, 1, 0, 0, 1, 0, 1, 0, 0, 1, 0, 0, 1, 0, 0]\n"
     ]
    },
    {
     "name": "stderr",
     "output_type": "stream",
     "text": [
      "473it [27:11,  3.27s/it, BLEU2=0.341, BLEU1=0.413, ExactMatch=0.028, METEOR=0.6, BertScore=nan, StubScore=0.2]   "
     ]
    },
    {
     "name": "stdout",
     "output_type": "stream",
     "text": [
      "answer raw len:  472 1\n",
      "True\n",
      "Постановление Чрезвычайной Полномочной Комиссии КазЦИК о принятии и организации Акмолинской губернии с административным центром в городе Петропавловск было выпущено 26 апреля 1921 года.\n",
      "26 апреля 1921 года вышло постановление Чрезвычайной полномочной комиссии КазЦИК о приёме и организации Акмолинской губернии с административным центром в городе Петропавловск.\n",
      "[0, 0, 0, 0, 0, 0, 1, 0, 0, 0, 0, 0, 0, 0, 0, 0, 0, 0, 0, 0, 0, 1, 0, 0, 0, 0, 1, 0, 1, 0, 0, 0, 0, 0, 0, 0, 1, 0, 0, 0, 0, 1, 0, 0, 0, 0, 0, 1, 0, 1, 0, 0, 1, 0, 0, 0, 0, 0, 1, 0, 0, 0, 1, 0, 0, 0, 1, 0, 0, 1, 0, 1, 0, 0, 1, 0, 0, 1, 0, 0]\n"
     ]
    },
    {
     "name": "stderr",
     "output_type": "stream",
     "text": [
      "474it [27:12,  2.70s/it, BLEU2=0.34, BLEU1=0.412, ExactMatch=0.0279, METEOR=0.599, BertScore=nan, StubScore=0.2]"
     ]
    },
    {
     "name": "stdout",
     "output_type": "stream",
     "text": [
      "answer raw len:  473 1\n",
      "True\n",
      "Маркиз де Лафайет получил звание бригадного генерала.\n",
      "Маркизу де Ла Файету присвоили чин Генерал-майора.\n",
      "[0, 0, 0, 0, 0, 0, 1, 0, 0, 0, 0, 0, 0, 0, 0, 0, 0, 0, 0, 0, 0, 1, 0, 0, 0, 0, 1, 0, 1, 0, 0, 0, 0, 0, 0, 0, 1, 0, 0, 0, 0, 1, 0, 0, 0, 0, 0, 1, 0, 1, 0, 0, 1, 0, 0, 0, 0, 0, 1, 0, 0, 0, 1, 0, 0, 0, 1, 0, 0, 1, 0, 1, 0, 0, 1, 0, 0, 1, 0, 0]\n"
     ]
    },
    {
     "name": "stderr",
     "output_type": "stream",
     "text": [
      "475it [27:15,  2.53s/it, BLEU2=0.341, BLEU1=0.413, ExactMatch=0.0278, METEOR=0.599, BertScore=nan, StubScore=0.2]"
     ]
    },
    {
     "name": "stdout",
     "output_type": "stream",
     "text": [
      "answer raw len:  474 1\n",
      "True\n",
      "Конгресс принял услуги маркиза де Лафайета 31 июля 1777 года.\n",
      "Конгресс постановил принять услуги маркиза де Ла Файета 31 июля 1777 года.\n",
      "[0, 0, 0, 0, 0, 0, 1, 0, 0, 0, 0, 0, 0, 0, 0, 0, 0, 0, 0, 0, 0, 1, 0, 0, 0, 0, 1, 0, 1, 0, 0, 0, 0, 0, 0, 0, 1, 0, 0, 0, 0, 1, 0, 0, 0, 0, 0, 1, 0, 1, 0, 0, 1, 0, 0, 0, 0, 0, 1, 0, 0, 0, 1, 0, 0, 0, 1, 0, 0, 1, 0, 1, 0, 0, 1, 0, 0, 1, 0, 0]\n"
     ]
    },
    {
     "name": "stderr",
     "output_type": "stream",
     "text": [
      "476it [27:19,  3.01s/it, BLEU2=0.341, BLEU1=0.412, ExactMatch=0.0278, METEOR=0.599, BertScore=nan, StubScore=0.2]"
     ]
    },
    {
     "name": "stdout",
     "output_type": "stream",
     "text": [
      "answer raw len:  475 1\n",
      "True\n",
      "Маркиз де Лафайет ступил на американскую землю 15 июня 1777 года в бухте Джорджтауна, недалеко от города Чарльстон, штат Южная Каролина.\n",
      "15 июня 1777 года маркиз де Ла Файе ступил на американскую землю.\n",
      "[0, 0, 0, 0, 0, 0, 1, 0, 0, 0, 0, 0, 0, 0, 0, 0, 0, 0, 0, 0, 0, 1, 0, 0, 0, 0, 1, 0, 1, 0, 0, 0, 0, 0, 0, 0, 1, 0, 0, 0, 0, 1, 0, 0, 0, 0, 0, 1, 0, 1, 0, 0, 1, 0, 0, 0, 0, 0, 1, 0, 0, 0, 1, 0, 0, 0, 1, 0, 0, 1, 0, 1, 0, 0, 1, 0, 0, 1, 0, 0]\n"
     ]
    },
    {
     "name": "stderr",
     "output_type": "stream",
     "text": [
      "477it [27:21,  2.87s/it, BLEU2=0.34, BLEU1=0.412, ExactMatch=0.0277, METEOR=0.599, BertScore=nan, StubScore=0.2] "
     ]
    },
    {
     "name": "stdout",
     "output_type": "stream",
     "text": [
      "answer raw len:  476 1\n",
      "True\n",
      "Маркиз де Лафайет отплыл к берегам Америки 26 апреля 1777 года.\n",
      "26 апреля 1777 года маркиз де Ла Файет с другими 15 французскими офицерами отплыл на корабле Виктуар из испанского порта Пасахес к берегам Америки.\n",
      "[0, 0, 0, 0, 0, 0, 1, 0, 0, 0, 0, 0, 0, 0, 0, 0, 0, 0, 0, 0, 0, 1, 0, 0, 0, 0, 1, 0, 1, 0, 0, 0, 0, 0, 0, 0, 1, 0, 0, 0, 0, 1, 0, 0, 0, 0, 0, 1, 0, 1, 0, 0, 1, 0, 0, 0, 0, 0, 1, 0, 0, 0, 1, 0, 0, 0, 1, 0, 0, 1, 0, 1, 0, 0, 1, 0, 0, 1, 0, 0]\n"
     ]
    },
    {
     "name": "stderr",
     "output_type": "stream",
     "text": [
      "478it [27:24,  2.73s/it, BLEU2=0.341, BLEU1=0.413, ExactMatch=0.0276, METEOR=0.599, BertScore=nan, StubScore=0.2]"
     ]
    },
    {
     "name": "stdout",
     "output_type": "stream",
     "text": [
      "answer raw len:  477 1\n",
      "True\n",
      "Маркиз де Лафайет прибыл в Филадельфию 27 июля 1777 года.\n",
      "Маркиз де Ла Файет прибыл в Филадельфию 27 июля 1777 года.\n",
      "[0, 0, 0, 0, 0, 0, 1, 0, 0, 0, 0, 0, 0, 0, 0, 0, 0, 0, 0, 0, 0, 1, 0, 0, 0, 0, 1, 0, 1, 0, 0, 0, 0, 0, 0, 0, 1, 0, 0, 0, 0, 1, 0, 0, 0, 0, 0, 1, 0, 1, 0, 0, 1, 0, 0, 0, 0, 0, 1, 0, 0, 0, 1, 0, 0, 0, 1, 0, 0, 1, 0, 1, 0, 0, 1, 0, 0, 1, 0, 0]\n"
     ]
    },
    {
     "name": "stderr",
     "output_type": "stream",
     "text": [
      "479it [27:26,  2.65s/it, BLEU2=0.341, BLEU1=0.413, ExactMatch=0.0276, METEOR=0.6, BertScore=nan, StubScore=0.2]  "
     ]
    },
    {
     "name": "stdout",
     "output_type": "stream",
     "text": [
      "answer raw len:  478 1\n",
      "True\n",
      "Активное жилищное строительство велось в Виттенберге с 1957 по 1963 год.\n",
      "В 1957—1963 годах в Виттенберге велось активное жилищное строительство.\n",
      "[0, 0, 0, 0, 0, 0, 1, 0, 0, 0, 0, 0, 0, 0, 0, 0, 0, 0, 0, 0, 0, 1, 0, 0, 0, 0, 1, 0, 1, 0, 0, 0, 0, 0, 0, 0, 1, 0, 0, 0, 0, 1, 0, 0, 0, 0, 0, 1, 0, 1, 0, 0, 1, 0, 0, 0, 0, 0, 1, 0, 0, 0, 1, 0, 0, 0, 1, 0, 0, 1, 0, 1, 0, 0, 1, 0, 0, 1, 0, 0]\n"
     ]
    },
    {
     "name": "stderr",
     "output_type": "stream",
     "text": [
      "480it [27:29,  2.64s/it, BLEU2=0.341, BLEU1=0.413, ExactMatch=0.0275, METEOR=0.6, BertScore=nan, StubScore=0.2]"
     ]
    },
    {
     "name": "stdout",
     "output_type": "stream",
     "text": [
      "answer raw len:  479 1\n",
      "True\n",
      "5 декабря 1989 года 6-я гвардейская танковая дивизия была выведена из Виттенберга в рамках Горбачевской односторонней эвакуации советских войск.\n",
      "Из Виттенберга была выведена 6-я гвардейская танковая дивизия ВС СССР.\n",
      "[0, 0, 0, 0, 0, 0, 1, 0, 0, 0, 0, 0, 0, 0, 0, 0, 0, 0, 0, 0, 0, 1, 0, 0, 0, 0, 1, 0, 1, 0, 0, 0, 0, 0, 0, 0, 1, 0, 0, 0, 0, 1, 0, 0, 0, 0, 0, 1, 0, 1, 0, 0, 1, 0, 0, 0, 0, 0, 1, 0, 0, 0, 1, 0, 0, 0, 1, 0, 0, 1, 0, 1, 0, 0, 1, 0, 0, 1, 0, 0]\n"
     ]
    },
    {
     "name": "stderr",
     "output_type": "stream",
     "text": [
      "481it [27:31,  2.59s/it, BLEU2=0.341, BLEU1=0.413, ExactMatch=0.0274, METEOR=0.6, BertScore=nan, StubScore=0.2]"
     ]
    },
    {
     "name": "stdout",
     "output_type": "stream",
     "text": [
      "answer raw len:  480 1\n",
      "True\n",
      "Советские власти организовали восстановительные работы в Виттенберге, включая восстановление взорванного моста через Эльбу с помощью инженерных войск Красной Армии.\n",
      "Советские власти в Виттенберге организовали работы по восстановлению взорванного моста через Эльбу.\n",
      "[0, 0, 0, 0, 0, 0, 1, 0, 0, 0, 0, 0, 0, 0, 0, 0, 0, 0, 0, 0, 0, 1, 0, 0, 0, 0, 1, 0, 1, 0, 0, 0, 0, 0, 0, 0, 1, 0, 0, 0, 0, 1, 0, 0, 0, 0, 0, 1, 0, 1, 0, 0, 1, 0, 0, 0, 0, 0, 1, 0, 0, 0, 1, 0, 0, 0, 1, 0, 0, 1, 0, 1, 0, 0, 1, 0, 0, 1, 0, 0]\n"
     ]
    },
    {
     "name": "stderr",
     "output_type": "stream",
     "text": [
      "482it [27:33,  2.35s/it, BLEU2=0.341, BLEU1=0.414, ExactMatch=0.0274, METEOR=0.601, BertScore=nan, StubScore=0.2]"
     ]
    },
    {
     "name": "stdout",
     "output_type": "stream",
     "text": [
      "answer raw len:  481 1\n",
      "True\n",
      "Виттенберг был занят Красной Армией 26 апреля 1945 года.\n",
      "26 апреля 1945 года Виттенберг был занят Красной армией.\n",
      "[0, 0, 0, 0, 0, 0, 1, 0, 0, 0, 0, 0, 0, 0, 0, 0, 0, 0, 0, 0, 0, 1, 0, 0, 0, 0, 1, 0, 1, 0, 0, 0, 0, 0, 0, 0, 1, 0, 0, 0, 0, 1, 0, 0, 0, 0, 0, 1, 0, 1, 0, 0, 1, 0, 0, 0, 0, 0, 1, 0, 0, 0, 1, 0, 0, 0, 1, 0, 0, 1, 0, 1, 0, 0, 1, 0, 0, 1, 0, 0]\n"
     ]
    },
    {
     "name": "stderr",
     "output_type": "stream",
     "text": [
      "483it [27:35,  2.25s/it, BLEU2=0.342, BLEU1=0.414, ExactMatch=0.0273, METEOR=0.602, BertScore=nan, StubScore=0.2]"
     ]
    },
    {
     "name": "stdout",
     "output_type": "stream",
     "text": [
      "answer raw len:  482 1\n",
      "True\n",
      "Работы по восстановлению взорванного моста через Эльбу в Виттенберге были организованы советскими войсками.\n",
      "Работы по восстановлению взорванного моста через Эльбу в Виттенберге были организованы силами инженерных войск РККА.\n",
      "[0, 0, 0, 0, 0, 0, 1, 0, 0, 0, 0, 0, 0, 0, 0, 0, 0, 0, 0, 0, 0, 1, 0, 0, 0, 0, 1, 0, 1, 0, 0, 0, 0, 0, 0, 0, 1, 0, 0, 0, 0, 1, 0, 0, 0, 0, 0, 1, 0, 1, 0, 0, 1, 0, 0, 0, 0, 0, 1, 0, 0, 0, 1, 0, 0, 0, 1, 0, 0, 1, 0, 1, 0, 0, 1, 0, 0, 1, 0, 0]\n"
     ]
    },
    {
     "name": "stderr",
     "output_type": "stream",
     "text": [
      "484it [27:37,  2.15s/it, BLEU2=0.342, BLEU1=0.414, ExactMatch=0.0272, METEOR=0.602, BertScore=nan, StubScore=0.2]"
     ]
    },
    {
     "name": "stdout",
     "output_type": "stream",
     "text": [
      "answer raw len:  483 1\n",
      "True\n",
      "В 2011 году в Спитаке была открыта больница имени Нансена.\n",
      "Больница имени Нансена была открыта в Спитаке.\n",
      "[0, 0, 0, 0, 0, 0, 1, 0, 0, 0, 0, 0, 0, 0, 0, 0, 0, 0, 0, 0, 0, 1, 0, 0, 0, 0, 1, 0, 1, 0, 0, 0, 0, 0, 0, 0, 1, 0, 0, 0, 0, 1, 0, 0, 0, 0, 0, 1, 0, 1, 0, 0, 1, 0, 0, 0, 0, 0, 1, 0, 0, 0, 1, 0, 0, 0, 1, 0, 0, 1, 0, 1, 0, 0, 1, 0, 0, 1, 0, 0]\n"
     ]
    },
    {
     "name": "stderr",
     "output_type": "stream",
     "text": [
      "485it [27:39,  2.06s/it, BLEU2=0.344, BLEU1=0.416, ExactMatch=0.0296, METEOR=0.603, BertScore=nan, StubScore=0.2]"
     ]
    },
    {
     "name": "stdout",
     "output_type": "stream",
     "text": [
      "answer raw len:  484 1\n",
      "True\n",
      "В рамках мероприятия в Ереване был открыт памятник Фритьофу Нансену.\n",
      "В рамках мероприятия в Ереване был открыт памятник Фритьофу Нансену.\n",
      "[0, 0, 0, 0, 0, 0, 1, 0, 0, 0, 0, 0, 0, 0, 0, 0, 0, 0, 0, 0, 0, 1, 0, 0, 0, 0, 1, 0, 1, 0, 0, 0, 0, 0, 0, 0, 1, 0, 0, 0, 0, 1, 0, 0, 0, 0, 0, 1, 0, 1, 0, 0, 1, 0, 0, 0, 0, 0, 1, 0, 0, 0, 1, 0, 0, 0, 1, 0, 0, 1, 0, 1, 0, 0, 1, 0, 0, 1, 0, 0]\n"
     ]
    },
    {
     "name": "stderr",
     "output_type": "stream",
     "text": [
      "486it [27:43,  2.68s/it, BLEU2=0.344, BLEU1=0.416, ExactMatch=0.0296, METEOR=0.604, BertScore=nan, StubScore=0.2]"
     ]
    },
    {
     "name": "stdout",
     "output_type": "stream",
     "text": [
      "answer raw len:  485 1\n",
      "True\n",
      "14 апреля 2012 года было объявлено о том, что в Армении в городе Гюмри будет открыт дом-музей, посвященный норвежскому гуманисту Фритьофу Нансену.\n",
      "26 января 2011 года было объявлено о том, что в Армении в городе Гюмри будет открыт дом-музей, посвящённый норвежскому гуманисту.\n",
      "[0, 0, 0, 0, 0, 0, 1, 0, 0, 0, 0, 0, 0, 0, 0, 0, 0, 0, 0, 0, 0, 1, 0, 0, 0, 0, 1, 0, 1, 0, 0, 0, 0, 0, 0, 0, 1, 0, 0, 0, 0, 1, 0, 0, 0, 0, 0, 1, 0, 1, 0, 0, 1, 0, 0, 0, 0, 0, 1, 0, 0, 0, 1, 0, 0, 0, 1, 0, 0, 1, 0, 1, 0, 0, 1, 0, 0, 1, 0, 0]\n"
     ]
    },
    {
     "name": "stderr",
     "output_type": "stream",
     "text": [
      "487it [27:45,  2.64s/it, BLEU2=0.345, BLEU1=0.417, ExactMatch=0.0295, METEOR=0.604, BertScore=nan, StubScore=0.2]"
     ]
    },
    {
     "name": "stdout",
     "output_type": "stream",
     "text": [
      "answer raw len:  486 1\n",
      "True\n",
      "В ноябре 2011 года в Армении широко отмечали 150-летие Нансена.\n",
      "В 2011 году в Армении широко праздновалось 150-летие Фритьофа Нансена.\n",
      "[0, 0, 0, 0, 0, 0, 1, 0, 0, 0, 0, 0, 0, 0, 0, 0, 0, 0, 0, 0, 0, 1, 0, 0, 0, 0, 1, 0, 1, 0, 0, 0, 0, 0, 0, 0, 1, 0, 0, 0, 0, 1, 0, 0, 0, 0, 0, 1, 0, 1, 0, 0, 1, 0, 0, 0, 0, 0, 1, 0, 0, 0, 1, 0, 0, 0, 1, 0, 0, 1, 0, 1, 0, 0, 1, 0, 0, 1, 0, 0]\n"
     ]
    },
    {
     "name": "stderr",
     "output_type": "stream",
     "text": [
      "488it [27:48,  2.56s/it, BLEU2=0.345, BLEU1=0.417, ExactMatch=0.0294, METEOR=0.604, BertScore=nan, StubScore=0.2]"
     ]
    },
    {
     "name": "stdout",
     "output_type": "stream",
     "text": [
      "answer raw len:  487 1\n",
      "True\n",
      "Президент Армении вручил Марит Грев паспорт с особым проживанием в Республике Армения.\n",
      "После открытия памятника Фритьофу Нансену президент Армении вручил Марит Грев паспорт статуса специального проживания в Республике Армения.\n",
      "[0, 0, 0, 0, 0, 0, 1, 0, 0, 0, 0, 0, 0, 0, 0, 0, 0, 0, 0, 0, 0, 1, 0, 0, 0, 0, 1, 0, 1, 0, 0, 0, 0, 0, 0, 0, 1, 0, 0, 0, 0, 1, 0, 0, 0, 0, 0, 1, 0, 1, 0, 0, 1, 0, 0, 0, 0, 0, 1, 0, 0, 0, 1, 0, 0, 0, 1, 0, 0, 1, 0, 1, 0, 0, 1, 0, 0, 1, 0, 0]\n"
     ]
    },
    {
     "name": "stderr",
     "output_type": "stream",
     "text": [
      "489it [27:49,  2.26s/it, BLEU2=0.346, BLEU1=0.419, ExactMatch=0.0318, METEOR=0.605, BertScore=nan, StubScore=0.2]"
     ]
    },
    {
     "name": "stdout",
     "output_type": "stream",
     "text": [
      "answer raw len:  488 1\n",
      "True\n",
      "Брюллов посетил Испанию в 1850 году.\n",
      "Брюллов посетил Испанию в 1850 году.\n",
      "[0, 0, 0, 0, 0, 0, 1, 0, 0, 0, 0, 0, 0, 0, 0, 0, 0, 0, 0, 0, 0, 1, 0, 0, 0, 0, 1, 0, 1, 0, 0, 0, 0, 0, 0, 0, 1, 0, 0, 0, 0, 1, 0, 0, 0, 0, 0, 1, 0, 1, 0, 0, 1, 0, 0, 0, 0, 0, 1, 0, 0, 0, 1, 0, 0, 0, 1, 0, 0, 1, 0, 1, 0, 0, 1, 0, 0, 1, 0, 0]\n"
     ]
    },
    {
     "name": "stderr",
     "output_type": "stream",
     "text": [
      "490it [27:52,  2.32s/it, BLEU2=0.346, BLEU1=0.419, ExactMatch=0.0317, METEOR=0.605, BertScore=nan, StubScore=0.2]"
     ]
    },
    {
     "name": "stdout",
     "output_type": "stream",
     "text": [
      "answer raw len:  489 1\n",
      "True\n",
      "Последний шедевр художника Брюллова - \"Портрет Микеланджело Ланчи\", созданный в 1851 году.\n",
      "Последним шедевром художника стал портрет его старого знакомого археолога Микеланджело Ланчи, созданный в 1851 году.\n",
      "[0, 0, 0, 0, 0, 0, 1, 0, 0, 0, 0, 0, 0, 0, 0, 0, 0, 0, 0, 0, 0, 1, 0, 0, 0, 0, 1, 0, 1, 0, 0, 0, 0, 0, 0, 0, 1, 0, 0, 0, 0, 1, 0, 0, 0, 0, 0, 1, 0, 1, 0, 0, 1, 0, 0, 0, 0, 0, 1, 0, 0, 0, 1, 0, 0, 0, 1, 0, 0, 1, 0, 1, 0, 0, 1, 0, 0, 1, 0, 0]\n"
     ]
    },
    {
     "name": "stderr",
     "output_type": "stream",
     "text": [
      "491it [27:54,  2.18s/it, BLEU2=0.348, BLEU1=0.42, ExactMatch=0.0341, METEOR=0.606, BertScore=nan, StubScore=0.2] "
     ]
    },
    {
     "name": "stdout",
     "output_type": "stream",
     "text": [
      "answer raw len:  490 1\n",
      "True\n",
      "Брюллов покинул Россию по настоянию врачей 27 апреля 1849 года.\n",
      "Брюллов покинул Россию по настоянию врачей 27 апреля 1849 года.\n",
      "[0, 0, 0, 0, 0, 0, 1, 0, 0, 0, 0, 0, 0, 0, 0, 0, 0, 0, 0, 0, 0, 1, 0, 0, 0, 0, 1, 0, 1, 0, 0, 0, 0, 0, 0, 0, 1, 0, 0, 0, 0, 1, 0, 0, 0, 0, 0, 1, 0, 1, 0, 0, 1, 0, 0, 0, 0, 0, 1, 0, 0, 0, 1, 0, 0, 0, 1, 0, 0, 1, 0, 1, 0, 0, 1, 0, 0, 1, 0, 0]\n"
     ]
    },
    {
     "name": "stderr",
     "output_type": "stream",
     "text": [
      "492it [27:56,  2.13s/it, BLEU2=0.348, BLEU1=0.421, ExactMatch=0.034, METEOR=0.606, BertScore=nan, StubScore=0.2]"
     ]
    },
    {
     "name": "stdout",
     "output_type": "stream",
     "text": [
      "answer raw len:  491 1\n",
      "True\n",
      "Брюллов отправился на остров Мадейра лечиться 27 апреля 1849 года.\n",
      "27 апреля 1849 года Брюллов отправился лечится на остров Мадейра.\n",
      "[0, 0, 0, 0, 0, 0, 1, 0, 0, 0, 0, 0, 0, 0, 0, 0, 0, 0, 0, 0, 0, 1, 0, 0, 0, 0, 1, 0, 1, 0, 0, 0, 0, 0, 0, 0, 1, 0, 0, 0, 0, 1, 0, 0, 0, 0, 0, 1, 0, 1, 0, 0, 1, 0, 0, 0, 0, 0, 1, 0, 0, 0, 1, 0, 0, 0, 1, 0, 0, 1, 0, 1, 0, 0, 1, 0, 0, 1, 0, 0]\n"
     ]
    },
    {
     "name": "stderr",
     "output_type": "stream",
     "text": [
      "493it [27:58,  2.18s/it, BLEU2=0.35, BLEU1=0.422, ExactMatch=0.0363, METEOR=0.607, BertScore=nan, StubScore=0.2]"
     ]
    },
    {
     "name": "stdout",
     "output_type": "stream",
     "text": [
      "answer raw len:  492 1\n",
      "True\n",
      "В 1850 году Брюллов познакомился с соратником Гарибальди А. Титтони.\n",
      "В 1850 году Брюллов познакомился с соратником Гарибальди А. Титтони.\n",
      "[0, 0, 0, 0, 0, 0, 1, 0, 0, 0, 0, 0, 0, 0, 0, 0, 0, 0, 0, 0, 0, 1, 0, 0, 0, 0, 1, 0, 1, 0, 0, 0, 0, 0, 0, 0, 1, 0, 0, 0, 0, 1, 0, 0, 0, 0, 0, 1, 0, 1, 0, 0, 1, 0, 0, 0, 0, 0, 1, 0, 0, 0, 1, 0, 0, 0, 1, 0, 0, 1, 0, 1, 0, 0, 1, 0, 0, 1, 0, 0]\n"
     ]
    },
    {
     "name": "stderr",
     "output_type": "stream",
     "text": [
      "494it [28:00,  2.04s/it, BLEU2=0.35, BLEU1=0.422, ExactMatch=0.0362, METEOR=0.608, BertScore=nan, StubScore=0.2]"
     ]
    },
    {
     "name": "stdout",
     "output_type": "stream",
     "text": [
      "answer raw len:  493 1\n",
      "True\n",
      "В ссылке Александр Грин написал \"Жизнь Гнора\" и \"Синий каскад Теллури\".\n",
      "В ссылке Грин написал Жизнь Гнора и Синий каскад Теллури.\n",
      "[0, 0, 0, 0, 0, 0, 1, 0, 0, 0, 0, 0, 0, 0, 0, 0, 0, 0, 0, 0, 0, 1, 0, 0, 0, 0, 1, 0, 1, 0, 0, 0, 0, 0, 0, 0, 1, 0, 0, 0, 0, 1, 0, 0, 0, 0, 0, 1, 0, 1, 0, 0, 1, 0, 0, 0, 0, 0, 1, 0, 0, 0, 1, 0, 0, 0, 1, 0, 0, 1, 0, 1, 0, 0, 1, 0, 0, 1, 0, 0]\n"
     ]
    },
    {
     "name": "stderr",
     "output_type": "stream",
     "text": [
      "495it [28:04,  2.85s/it, BLEU2=0.349, BLEU1=0.422, ExactMatch=0.0361, METEOR=0.607, BertScore=nan, StubScore=0.2]"
     ]
    },
    {
     "name": "stdout",
     "output_type": "stream",
     "text": [
      "answer raw len:  494 1\n",
      "True\n",
      "Слово \"Гринландия\" было придумано литературоведом К. Зелинским для обозначения вымышленной страны, описанной в произведениях А. Грина, таких как \"Дьявол в оранжевом\" и \"Стрелок из Зурбагана\".\n",
      "Вымышленная страна, сформированная в произведениях А. Грина названа Гринландия.\n",
      "[0, 0, 0, 0, 0, 0, 1, 0, 0, 0, 0, 0, 0, 0, 0, 0, 0, 0, 0, 0, 0, 1, 0, 0, 0, 0, 1, 0, 1, 0, 0, 0, 0, 0, 0, 0, 1, 0, 0, 0, 0, 1, 0, 0, 0, 0, 0, 1, 0, 1, 0, 0, 1, 0, 0, 0, 0, 0, 1, 0, 0, 0, 1, 0, 0, 0, 1, 0, 0, 1, 0, 1, 0, 0, 1, 0, 0, 1, 0, 0]\n"
     ]
    },
    {
     "name": "stderr",
     "output_type": "stream",
     "text": [
      "496it [28:07,  2.71s/it, BLEU2=0.35, BLEU1=0.422, ExactMatch=0.0361, METEOR=0.608, BertScore=nan, StubScore=0.2] "
     ]
    },
    {
     "name": "stdout",
     "output_type": "stream",
     "text": [
      "answer raw len:  495 1\n",
      "True\n",
      "Полиция узнала, что писатель Грин - это беглый ссыльный Гриневский 27 июля 1910 года.\n",
      "27 июля 1910 года полиция наконец обнаружила, что писатель Грин — это беглый ссыльный Гриневский.\n",
      "[0, 0, 0, 0, 0, 0, 1, 0, 0, 0, 0, 0, 0, 0, 0, 0, 0, 0, 0, 0, 0, 1, 0, 0, 0, 0, 1, 0, 1, 0, 0, 0, 0, 0, 0, 0, 1, 0, 0, 0, 0, 1, 0, 0, 0, 0, 0, 1, 0, 1, 0, 0, 1, 0, 0, 0, 0, 0, 1, 0, 0, 0, 1, 0, 0, 0, 1, 0, 0, 1, 0, 1, 0, 0, 1, 0, 0, 1, 0, 0]\n"
     ]
    },
    {
     "name": "stderr",
     "output_type": "stream",
     "text": [
      "497it [28:09,  2.47s/it, BLEU2=0.349, BLEU1=0.422, ExactMatch=0.036, METEOR=0.608, BertScore=nan, StubScore=0.2]"
     ]
    },
    {
     "name": "stdout",
     "output_type": "stream",
     "text": [
      "answer raw len:  496 1\n",
      "True\n",
      "Александр Гриневский вернулся в Санкт-Петербург с Верой в мае 1912 года.\n",
      "В мае 1912 года семья Гриневских вернулась в Санкт-Петербург после ссылки.\n",
      "[0, 0, 0, 0, 0, 0, 1, 0, 0, 0, 0, 0, 0, 0, 0, 0, 0, 0, 0, 0, 0, 1, 0, 0, 0, 0, 1, 0, 1, 0, 0, 0, 0, 0, 0, 0, 1, 0, 0, 0, 0, 1, 0, 0, 0, 0, 0, 1, 0, 1, 0, 0, 1, 0, 0, 0, 0, 0, 1, 0, 0, 0, 1, 0, 0, 0, 1, 0, 0, 1, 0, 1, 0, 0, 1, 0, 0, 1, 0, 0]\n"
     ]
    },
    {
     "name": "stderr",
     "output_type": "stream",
     "text": [
      "498it [28:10,  2.19s/it, BLEU2=0.35, BLEU1=0.422, ExactMatch=0.0359, METEOR=0.608, BertScore=nan, StubScore=0.2]"
     ]
    },
    {
     "name": "stdout",
     "output_type": "stream",
     "text": [
      "answer raw len:  497 1\n",
      "True\n",
      "Александр Грин был сослан в Пинегу, Архангельскую губернию, после третьего ареста.\n",
      "После третьего ареста писатель Александр Грин был сослан в Пинегу Архангельской губернии.\n",
      "[0, 0, 0, 0, 0, 0, 1, 0, 0, 0, 0, 0, 0, 0, 0, 0, 0, 0, 0, 0, 0, 1, 0, 0, 0, 0, 1, 0, 1, 0, 0, 0, 0, 0, 0, 0, 1, 0, 0, 0, 0, 1, 0, 0, 0, 0, 0, 1, 0, 1, 0, 0, 1, 0, 0, 0, 0, 0, 1, 0, 0, 0, 1, 0, 0, 0, 1, 0, 0, 1, 0, 1, 0, 0, 1, 0, 0, 1, 0, 0]\n"
     ]
    },
    {
     "name": "stderr",
     "output_type": "stream",
     "text": [
      "499it [28:19,  4.29s/it, BLEU2=0.349, BLEU1=0.422, ExactMatch=0.0358, METEOR=0.608, BertScore=nan, StubScore=0.2]"
     ]
    },
    {
     "name": "stdout",
     "output_type": "stream",
     "text": [
      "answer raw len:  498 1\n",
      "True\n",
      "Отвечаю на вопрос: [0.04] 27 июня Викинг оказался затерт сплошными ледяными полями, начался дрейф. Шхуна была снесена на запад, иногда оказывалась на расстоянии 12-13 миль от гренландского побережья. Исследуя айсберги в начале июля, Нансен обнаружил, что они могут переносить значительные количества минерального материала, что дает представление о геологическом строении неизведанных областей Гренландии.\n",
      "\n",
      "Ответ: Нансен.\n",
      "О том, что айсберги могут переносить значительные количества минерального материала, дающего представление о геологическом строении неисследованных областей Гренландии, обнаружил Фритьоф Нансен.\n",
      "[0, 0, 0, 0, 0, 0, 1, 0, 0, 0, 0, 0, 0, 0, 0, 0, 0, 0, 0, 0, 0, 1, 0, 0, 0, 0, 1, 0, 1, 0, 0, 0, 0, 0, 0, 0, 1, 0, 0, 0, 0, 1, 0, 0, 0, 0, 0, 1, 0, 1, 0, 0, 1, 0, 0, 0, 0, 0, 1, 0, 0, 0, 1, 0, 0, 0, 1, 0, 0, 1, 0, 1, 0, 0, 1, 0, 0, 1, 0, 0]\n"
     ]
    },
    {
     "name": "stderr",
     "output_type": "stream",
     "text": [
      "500it [28:21,  3.40s/it, BLEU2=0.349, BLEU1=0.422, ExactMatch=0.0357, METEOR=0.608, BertScore=nan, StubScore=0.2]"
     ]
    },
    {
     "name": "stdout",
     "output_type": "stream",
     "text": [
      "answer raw len:  499 1\n",
      "True\n",
      "27 июня Викинг оказался заперт в сплошных льдах и начался дрейф.\n",
      "27 июня Викинг Нансена оказался затёрт сплошными ледовыми полями, начался незапланированный дрейф.\n",
      "[0, 0, 0, 0, 0, 0, 1, 0, 0, 0, 0, 0, 0, 0, 0, 0, 0, 0, 0, 0, 0, 1, 0, 0, 0, 0, 1, 0, 1, 0, 0, 0, 0, 0, 0, 0, 1, 0, 0, 0, 0, 1, 0, 0, 0, 0, 0, 1, 0, 1, 0, 0, 1, 0, 0, 0, 0, 0, 1, 0, 0, 0, 1, 0, 0, 0, 1, 0, 0, 1, 0, 1, 0, 0, 1, 0, 0, 1, 0, 0]\n"
     ]
    },
    {
     "name": "stderr",
     "output_type": "stream",
     "text": [
      "\n"
     ]
    }
   ],
   "source": [
    "reader_scores, reader_cache = evaluate_reader(benchmarks_df, READER, reader_metrics, contexts, show_step=1, cache_relevant_flags=cache_relevant_flags)"
   ]
  },
  {
   "cell_type": "code",
   "execution_count": 19,
   "metadata": {},
   "outputs": [],
   "source": [
    "save_rag_trial_log(SAVE_LOGDIR, reader_scores, retriever_scores, \n",
    "                   SAVE_HYPERPARAMS, SAVE_READERCACHE, SAVE_RETRIEVERCACHE,\n",
    "                   reader_cache, retriever_cache_ids, BENCHMARKS_INFO, BENCHMARKS_MAXSIZE,\n",
    "                   READER_PARAMS, RETRIEVER_PARAMS, ADDITIONAL_PARAMS)"
   ]
  },
  {
   "cell_type": "code",
   "execution_count": 20,
   "metadata": {},
   "outputs": [],
   "source": [
    "import gc\n",
    "import torch\n",
    "\n",
    "gc.collect()\n",
    "torch.cuda.empty_cache()"
   ]
  },
  {
   "cell_type": "code",
   "execution_count": null,
   "metadata": {},
   "outputs": [],
   "source": []
  }
 ],
 "metadata": {
  "kernelspec": {
   "display_name": "mikhail_venv",
   "language": "python",
   "name": "mikhail_venv"
  },
  "language_info": {
   "codemirror_mode": {
    "name": "ipython",
    "version": 3
   },
   "file_extension": ".py",
   "mimetype": "text/x-python",
   "name": "python",
   "nbconvert_exporter": "python",
   "pygments_lexer": "ipython3",
   "version": "3.10.9"
  }
 },
 "nbformat": 4,
 "nbformat_minor": 4
}
