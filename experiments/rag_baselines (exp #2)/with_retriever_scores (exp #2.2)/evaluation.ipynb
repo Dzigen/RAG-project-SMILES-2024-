{
 "cells": [
  {
   "cell_type": "code",
   "execution_count": 1,
   "metadata": {},
   "outputs": [
    {
     "name": "stderr",
     "output_type": "stream",
     "text": [
      "/trinity/home/team06/workspace/mikhail_workspace/mikhail_venv/lib/python3.10/site-packages/tqdm/auto.py:21: TqdmWarning: IProgress not found. Please update jupyter and ipywidgets. See https://ipywidgets.readthedocs.io/en/stable/user_install.html\n",
      "  from .autonotebook import tqdm as notebook_tqdm\n"
     ]
    }
   ],
   "source": [
    "import sys\n",
    "#BASE_DIR = \"/home/dzigen/Desktop/ITMO/smiles2024/RAG-project-SMILES-2024-\"\n",
    "BASE_DIR = \"/trinity/home/team06/workspace/mikhail_workspace/rag_project\"\n",
    "sys.path.insert(0, BASE_DIR)\n",
    "\n",
    "import pandas as pd \n",
    "import ast\n",
    "import numpy as np\n",
    "import json\n",
    "from tqdm import tqdm\n",
    "from IPython.display import clear_output\n",
    "import os\n",
    "from typing import Dict, List\n",
    "\n",
    "from src.Retriever import ThresholdRetriever\n",
    "from src.Scorer import SimilarityScorerConfig\n",
    "from src.Reader import LLM_Model\n",
    "from src.utils import ReaderMetrics, RetrieverMetrics, save_rag_trial_log, prepare_thresholdretriever_configs, prepare_reader_configs, load_benchmarks_df\n",
    "from src.utils import evaluate_retriever, evaluate_reader"
   ]
  },
  {
   "cell_type": "code",
   "execution_count": 15,
   "metadata": {},
   "outputs": [],
   "source": [
    "# !!! TO CHANGE !!!\n",
    "TRIAL = 3\n",
    "BENCHMARKS_MAXSIZE = 500\n",
    "BENCHMARKS_INFO = {'mtssquad': {'db': 'v2', 'table': 'v1'}}\n",
    "\n",
    "# Retriever part\n",
    "RETRIEVER_PARAMS = {\n",
    "    \"model_path\": f\"{BASE_DIR}/models/intfloat/multilingual-e5-small\",\n",
    "    \"densedb_kwargs\": {'metadata': {\"hnsw:space\": \"ip\"}},\n",
    "    \"model_kwargs\": {'device':'cuda'},\n",
    "    \"encode_kwargs\": {'normalize_embeddings': True, 'prompt': 'query: '},\n",
    "    \"params\": {'fetch_k': 50, 'threshold': 0.23, 'max_k': 3}\n",
    "}\n",
    "\n",
    "# Reader part\n",
    "READER_PARAMS = {\n",
    "    'prompts': {\n",
    "        \"assistant\": 'Отвечай на вопросы, используя информацию из текстов в списке ниже. Каждому тексту в начале в квадратных скобках поставлена в соответствие вещественная оценка его семантической близости к вопросу: в диапозоне от 0.0 (высокая близость) до 1.0 (низкая близость). Используй эту информацию. Выбирай тексты c достаточно высокими оценками близости для генерации ответа на их основе. Если на основании указанных оценок близости ты не уверена в релевантности данных текстов по отношению к заданному вопросу, то сгенерируй следующий ответ: \"У меня нет ответа на ваш вопрос.\".',\n",
    "        \"system\": \"Ты вопросно-ответная система. Все ответы генерируй на русском языке. По вопросам отвечай кратко, чётко и конкретно. Не генерируй излишнюю информацию.\",\n",
    "    },\n",
    "    'gen': {'max_new_tokens': 512, 'eos_token_id': 79097},\n",
    "    'data_operate': {'batch_size': 1}\n",
    "    }\n",
    "\n",
    "ADDITIONAL_PARAMS = {\n",
    "    'topk_score_list': 3\n",
    "}\n",
    "\n",
    "BERTSCORE_MODEL_PATH = \"ru_electra_medium\"\n",
    "# !!! TO CHANGE !!!\n",
    "\n",
    "SAVE_LOGDIR = f'./logs/trial{TRIAL}'\n",
    "SAVE_HYPERPARAMS = f'{SAVE_LOGDIR}/hyperparams.json'\n",
    "SAVE_READERCACHE = f'{SAVE_LOGDIR}/reader_cache.json'\n",
    "SAVE_RETRIEVERCACHE = f'{SAVE_LOGDIR}/retriever_cache.json'"
   ]
  },
  {
   "cell_type": "markdown",
   "metadata": {},
   "source": [
    "##### Configure Retriever-part"
   ]
  },
  {
   "cell_type": "code",
   "execution_count": 3,
   "metadata": {},
   "outputs": [],
   "source": [
    "retrievers_config, benchmarks_path = prepare_thresholdretriever_configs(BASE_DIR, BENCHMARKS_INFO, RETRIEVER_PARAMS)\n",
    "retriever_metrics = RetrieverMetrics()"
   ]
  },
  {
   "cell_type": "code",
   "execution_count": 4,
   "metadata": {},
   "outputs": [],
   "source": [
    "benchmarks_df = load_benchmarks_df(benchmarks_path, BENCHMARKS_MAXSIZE)"
   ]
  },
  {
   "cell_type": "markdown",
   "metadata": {},
   "source": [
    "##### Configure Reader-part"
   ]
  },
  {
   "cell_type": "code",
   "execution_count": 1,
   "metadata": {},
   "outputs": [
    {
     "ename": "NameError",
     "evalue": "name 'prepare_reader_configs' is not defined",
     "output_type": "error",
     "traceback": [
      "\u001b[0;31m---------------------------------------------------------------------------\u001b[0m",
      "\u001b[0;31mNameError\u001b[0m                                 Traceback (most recent call last)",
      "Cell \u001b[0;32mIn[1], line 1\u001b[0m\n\u001b[0;32m----> 1\u001b[0m reader_config \u001b[38;5;241m=\u001b[39m \u001b[43mprepare_reader_configs\u001b[49m(READER_PARAMS)\n\u001b[1;32m      2\u001b[0m reader_metrics \u001b[38;5;241m=\u001b[39m ReaderMetrics(base_dir\u001b[38;5;241m=\u001b[39mBASE_DIR, model_path\u001b[38;5;241m=\u001b[39mBERTSCORE_MODEL_PATH)\n",
      "\u001b[0;31mNameError\u001b[0m: name 'prepare_reader_configs' is not defined"
     ]
    }
   ],
   "source": [
    "reader_config = prepare_reader_configs(READER_PARAMS)\n",
    "READER = LLM_Model(reader_config)"
   ]
  },
  {
   "cell_type": "code",
   "execution_count": 6,
   "metadata": {},
   "outputs": [],
   "source": [
    "sim_score_config = SimilarityScorerConfig()\n",
    "reader_metrics = ReaderMetrics(BASE_DIR, BERTSCORE_MODEL_PATH, sim_score_config, READER)"
   ]
  },
  {
   "cell_type": "code",
   "execution_count": 8,
   "metadata": {},
   "outputs": [
    {
     "name": "stderr",
     "output_type": "stream",
     "text": [
      "No sentence-transformers model found with name /trinity/home/team06/workspace/mikhail_workspace/rag_project/models/intfloat/multilingual-e5-small. Creating a new one with mean pooling.\n"
     ]
    }
   ],
   "source": [
    "RETRIEVERS = {name: ThresholdRetriever(config) for name, config in retrievers_config.items()}"
   ]
  },
  {
   "cell_type": "markdown",
   "metadata": {},
   "source": [
    "##### Evaluating pipeline"
   ]
  },
  {
   "cell_type": "code",
   "execution_count": 12,
   "metadata": {
    "scrolled": true
   },
   "outputs": [
    {
     "name": "stdout",
     "output_type": "stream",
     "text": [
      "mtssquad\n"
     ]
    },
    {
     "name": "stderr",
     "output_type": "stream",
     "text": [
      "100%|██████████| 500/500 [00:08<00:00, 62.45it/s, MRR=0.778, mAP=0.778, Recall=0.839, Precision=0.28, F1=0.419, NoRelContextScore=nan] \n"
     ]
    }
   ],
   "source": [
    "retriever_scores, retriever_cache_ids, predicted_chunks, cache_relevant_flags = evaluate_retriever(\n",
    "    benchmarks_df, RETRIEVERS, retriever_metrics, show_step=5, topk_score_list=ADDITIONAL_PARAMS['topk_score_list'])"
   ]
  },
  {
   "cell_type": "code",
   "execution_count": 21,
   "metadata": {},
   "outputs": [],
   "source": [
    "contexts = {name: [reader_config.prompts.assistant + \"\\n\\n\" + \"\\n\\n\".join([f'{i+1}. [{round(doc[0], 3)}] {doc[1]}' for i, doc in enumerate(docs)]) \n",
    "                                                                      for docs in chunks] for name, chunks in predicted_chunks.items()}"
   ]
  },
  {
   "cell_type": "code",
   "execution_count": 31,
   "metadata": {
    "scrolled": true
   },
   "outputs": [
    {
     "name": "stderr",
     "output_type": "stream",
     "text": [
      "0it [00:00, ?it/s]You seem to be using the pipelines sequentially on GPU. In order to maximize efficiency please use a dataset\n"
     ]
    },
    {
     "name": "stdout",
     "output_type": "stream",
     "text": [
      "False\n",
      "У меня нет ответа на ваш вопрос.\n",
      "Да, по просьбе Мадонны заменили аранжировщика Каминса на более опытного штатного аранжировщика Warner Bros. Records Регги Лукаса.\n"
     ]
    },
    {
     "name": "stderr",
     "output_type": "stream",
     "text": [
      "1it [00:04,  4.48s/it, BLEU2=nan, BLEU1=nan, ExactMatch=nan, METEOR=nan, BertScore=nan, StubScore=1]"
     ]
    },
    {
     "name": "stdout",
     "output_type": "stream",
     "text": [
      "[1]\n",
      "False\n",
      "\"Everybody\"\n",
      "Песню Мадонны \"Everybody\" выпускают в качестве сингла.\n"
     ]
    },
    {
     "name": "stderr",
     "output_type": "stream",
     "text": [
      "2it [00:06,  3.32s/it, BLEU2=nan, BLEU1=nan, ExactMatch=nan, METEOR=nan, BertScore=nan, StubScore=0.5]"
     ]
    },
    {
     "name": "stdout",
     "output_type": "stream",
     "text": [
      "[1, 0]\n"
     ]
    },
    {
     "name": "stderr",
     "output_type": "stream",
     "text": [
      "3it [00:08,  2.60s/it, BLEU2=0.603, BLEU1=0.727, ExactMatch=0, METEOR=0.976, BertScore=nan, StubScore=0.5]"
     ]
    },
    {
     "name": "stdout",
     "output_type": "stream",
     "text": [
      "True\n",
      "\"Everybody поднимается на 3-е место в чарте Hot Dance Club Songs.\"\n",
      "На 3-е место Everybody поднимается в чарте Hot Dance Club Songs.\n",
      "[1, 0]\n"
     ]
    },
    {
     "name": "stderr",
     "output_type": "stream",
     "text": [
      "4it [00:11,  2.82s/it, BLEU2=0.35, BLEU1=0.421, ExactMatch=0, METEOR=0.753, BertScore=nan, StubScore=0.5] "
     ]
    },
    {
     "name": "stdout",
     "output_type": "stream",
     "text": [
      "True\n",
      "При нулевом бюджете на рекламу было принято решение не размещать фото певицы на обложке, чтобы не отпугнуть цветную аудиторию, которая может подумать, что она негритянская диско-соул-певица.\n",
      "Чтобы не отпугнуть цветную аудиторию якобы негритянской диско-соул-певицы.\n",
      "[1, 0]\n"
     ]
    },
    {
     "name": "stderr",
     "output_type": "stream",
     "text": [
      "5it [00:16,  3.64s/it, BLEU2=0.233, BLEU1=0.311, ExactMatch=0, METEOR=0.566, BertScore=nan, StubScore=0.5]"
     ]
    },
    {
     "name": "stdout",
     "output_type": "stream",
     "text": [
      "True\n",
      "В тексте 1 упоминается, что фотографии Мадонны не были размещены на обложке сингла \"Everybody\", потому что она хотела избежать отпугивания цветной аудитории якобы негритянского диско-соул-певца. Однако в тексте не упоминается бюджет на раскрутку.\n",
      "При нулевом бюджете на раскрутку фото певицы решают не помещать на обложке.\n",
      "[1, 0]\n"
     ]
    },
    {
     "name": "stderr",
     "output_type": "stream",
     "text": [
      "6it [00:19,  3.11s/it, BLEU2=0.24, BLEU1=0.315, ExactMatch=0, METEOR=0.593, BertScore=nan, StubScore=0.5] "
     ]
    },
    {
     "name": "stdout",
     "output_type": "stream",
     "text": [
      "True\n",
      "Альбом \"The Times They Are A-Changing\" был выпущен в начале 1964 года.\n",
      "В начале 1964 года вышел новый альбом протестных песен Дилана The Times They Are A-Changing.\n",
      "[1, 0]\n"
     ]
    },
    {
     "name": "stderr",
     "output_type": "stream",
     "text": [
      "7it [00:22,  3.16s/it, BLEU2=0.274, BLEU1=0.342, ExactMatch=0, METEOR=0.628, BertScore=nan, StubScore=0.5]"
     ]
    },
    {
     "name": "stdout",
     "output_type": "stream",
     "text": [
      "True\n",
      "Джордж Харрисон, гитарист группы The Beatles, заявил, что альбом Freewheelin' Bob Dylan произвел большое впечатление на любителей фолк-музыки в США.\n",
      "Freewheelin’ Bob Dylan произвёл большое впечатление на любителей фолк-музыки в США.\n",
      "[1, 0]\n"
     ]
    },
    {
     "name": "stderr",
     "output_type": "stream",
     "text": [
      "8it [00:28,  3.98s/it, BLEU2=0.228, BLEU1=0.326, ExactMatch=0, METEOR=0.602, BertScore=nan, StubScore=0.5]"
     ]
    },
    {
     "name": "stdout",
     "output_type": "stream",
     "text": [
      "True\n",
      "Джордж Харрисон, по его словам, \"переслушал до дыр\" альбом Freewheelin' Bob Dylan.\n",
      "Кумиры британской публики The Beatles заслушали альбом Freewheelin Bob Dylan до дыр.\n",
      "[1, 0]\n",
      "False\n",
      "Некоторые группы, такие как Blood, Sweat and Tears, Chicago и другие, взяли за основу звучание биг-бэнда, ритм-энд-блюз и различные направления рок-музыки.\n",
      "По примеру Дилана битлы стали экспериментировать с песнями и усложнять свой репертуар.\n"
     ]
    },
    {
     "name": "stderr",
     "output_type": "stream",
     "text": [
      "9it [00:33,  4.52s/it, BLEU2=0.228, BLEU1=0.326, ExactMatch=0, METEOR=0.602, BertScore=nan, StubScore=0.333]"
     ]
    },
    {
     "name": "stdout",
     "output_type": "stream",
     "text": [
      "[1, 0, 0]\n"
     ]
    },
    {
     "name": "stderr",
     "output_type": "stream",
     "text": [
      "10it [00:36,  3.89s/it, BLEU2=0.252, BLEU1=0.339, ExactMatch=0, METEOR=0.646, BertScore=nan, StubScore=0.333]"
     ]
    },
    {
     "name": "stdout",
     "output_type": "stream",
     "text": [
      "True\n",
      "Слова песен Дилана становятся все более литературными и утонченными под влиянием чтения Джона Китса и Артюра Рембо.\n",
      "Под влиянием чтения Джона Китса и Артюра Рембо.\n",
      "[1, 0, 0]\n"
     ]
    },
    {
     "name": "stderr",
     "output_type": "stream",
     "text": [
      "11it [00:36,  2.88s/it, BLEU2=0.22, BLEU1=0.296, ExactMatch=0, METEOR=0.577, BertScore=nan, StubScore=0.333] "
     ]
    },
    {
     "name": "stdout",
     "output_type": "stream",
     "text": [
      "True\n",
      "Театр для молодежи Манитобы.\n",
      "Манитобский театр юного зрителя получил награду Канадского Института Искусств Молодёжи.\n",
      "[1, 0, 0]\n"
     ]
    },
    {
     "name": "stderr",
     "output_type": "stream",
     "text": [
      "12it [00:38,  2.44s/it, BLEU2=0.241, BLEU1=0.319, ExactMatch=0, METEOR=0.578, BertScore=nan, StubScore=0.333]"
     ]
    },
    {
     "name": "stdout",
     "output_type": "stream",
     "text": [
      "True\n",
      "Название старейшего франкоязычного театра в Канаде - Le Cercle Molière.\n",
      "Старейший франкоязычный театр в Канаде называется Le Cercle Molière.\n",
      "[1, 0, 0]\n"
     ]
    },
    {
     "name": "stderr",
     "output_type": "stream",
     "text": [
      "13it [00:41,  2.69s/it, BLEU2=0.217, BLEU1=0.29, ExactMatch=0, METEOR=0.527, BertScore=nan, StubScore=0.333] "
     ]
    },
    {
     "name": "stdout",
     "output_type": "stream",
     "text": [
      "True\n",
      "Театр \"The Manitoba Theatre for Youth\" - первый театр для молодежи на английском языке, который получил награду Канадского института молодежи в искусстве, и в нем ставятся пьесы для детей и подростков.\n",
      "Театральный центр Манитобы является старейшим в Канаде англоязычным региональным театром.\n",
      "[1, 0, 0]\n",
      "False\n",
      "В 1832 году Павел Львович Шиллинг создал первый электромагнитный телеграф в России.\n",
      "Нет информации\n"
     ]
    },
    {
     "name": "stderr",
     "output_type": "stream",
     "text": [
      "14it [00:45,  3.20s/it, BLEU2=0.217, BLEU1=0.29, ExactMatch=0, METEOR=0.527, BertScore=nan, StubScore=0.25] "
     ]
    },
    {
     "name": "stdout",
     "output_type": "stream",
     "text": [
      "[1, 0, 0, 0]\n"
     ]
    },
    {
     "name": "stderr",
     "output_type": "stream",
     "text": [
      "15it [00:47,  2.77s/it, BLEU2=0.238, BLEU1=0.305, ExactMatch=0, METEOR=0.529, BertScore=nan, StubScore=0.25]"
     ]
    },
    {
     "name": "stdout",
     "output_type": "stream",
     "text": [
      "True\n",
      "Художественная галерея Виннипега насчитывает более 20 000 картин.\n",
      "Художественная галерея Виннипега насчитывает более 20 тысяч работ манитобских и канадских художников.\n",
      "[1, 0, 0, 0]\n"
     ]
    },
    {
     "name": "stderr",
     "output_type": "stream",
     "text": [
      "16it [00:49,  2.37s/it, BLEU2=0.257, BLEU1=0.325, ExactMatch=0, METEOR=0.539, BertScore=nan, StubScore=0.25]"
     ]
    },
    {
     "name": "stdout",
     "output_type": "stream",
     "text": [
      "True\n",
      "В Театре для молодежи Манитобы ставятся пьесы для детей и подростков.\n",
      "В Манитобском театре юного зрителя играют пьесы для детей и подростков.\n",
      "[1, 0, 0, 0]\n"
     ]
    },
    {
     "name": "stderr",
     "output_type": "stream",
     "text": [
      "17it [00:49,  1.87s/it, BLEU2=0.255, BLEU1=0.319, ExactMatch=0, METEOR=0.538, BertScore=nan, StubScore=0.25]"
     ]
    },
    {
     "name": "stdout",
     "output_type": "stream",
     "text": [
      "True\n",
      "В образе Леонардо да Винчи.\n",
      "На фреске Афинская школа Платон написан в образе Леонардо да Винчи.\n",
      "[1, 0, 0, 0]\n"
     ]
    },
    {
     "name": "stderr",
     "output_type": "stream",
     "text": [
      "18it [00:50,  1.51s/it, BLEU2=0.237, BLEU1=0.306, ExactMatch=0, METEOR=0.51, BertScore=nan, StubScore=0.25] "
     ]
    },
    {
     "name": "stdout",
     "output_type": "stream",
     "text": [
      "True\n",
      "У меня нет ответа на ваш вопрос.\n",
      "Птолемей очень похож на автора фрески.\n",
      "[1, 0, 0, 0]\n"
     ]
    },
    {
     "name": "stderr",
     "output_type": "stream",
     "text": [
      "19it [00:55,  2.45s/it, BLEU2=0.235, BLEU1=0.306, ExactMatch=0, METEOR=0.506, BertScore=nan, StubScore=0.25]"
     ]
    },
    {
     "name": "stdout",
     "output_type": "stream",
     "text": [
      "True\n",
      "На фреске \"Афинская школа\" изображены древние философы, многие из которых изображены с чертами своих современников, такие как Леонардо да Винчи, изображенный как Платон, и Микеланджело, изображенный как Гераклит.\n",
      "На фреске Афинская школа представлены древние философы, многим из которых Рафаэль придал черты своих современников, например, Платон написан в образе Леонардо да Винчи, Гераклит в образе Микеланджело, а стоящий у правого края Птолемей очень похож на автора фрески.\n",
      "[1, 0, 0, 0]\n"
     ]
    },
    {
     "name": "stderr",
     "output_type": "stream",
     "text": [
      "20it [00:56,  2.14s/it, BLEU2=0.272, BLEU1=0.342, ExactMatch=0, METEOR=0.532, BertScore=nan, StubScore=0.25]"
     ]
    },
    {
     "name": "stdout",
     "output_type": "stream",
     "text": [
      "True\n",
      "На фреске \"Афинская школа\" Рафаэля изображено около 50 персонажей.\n",
      "На фреске \"Афинская школа\" Рафаэля присутствует около 50 персонажей.\n",
      "[1, 0, 0, 0]\n"
     ]
    },
    {
     "name": "stderr",
     "output_type": "stream",
     "text": [
      "21it [00:57,  1.83s/it, BLEU2=0.256, BLEU1=0.322, ExactMatch=0, METEOR=0.505, BertScore=nan, StubScore=0.25]"
     ]
    },
    {
     "name": "stdout",
     "output_type": "stream",
     "text": [
      "True\n",
      "Рафаэль использовал черты Леонардо да Винчи при написании Платона.\n",
      "Гераклит написан в образе Микеланджело.\n",
      "[1, 0, 0, 0]\n"
     ]
    },
    {
     "name": "stderr",
     "output_type": "stream",
     "text": [
      "22it [00:58,  1.51s/it, BLEU2=0.241, BLEU1=0.304, ExactMatch=0, METEOR=0.479, BertScore=nan, StubScore=0.25]"
     ]
    },
    {
     "name": "stdout",
     "output_type": "stream",
     "text": [
      "True\n",
      "Бхагавад-гита.\n",
      "Кришна учит, что корнем всех страданий является возбуждённый эгоистическими желаниями ум.\n",
      "[1, 0, 0, 0]\n"
     ]
    },
    {
     "name": "stderr",
     "output_type": "stream",
     "text": [
      "23it [00:59,  1.43s/it, BLEU2=0.281, BLEU1=0.341, ExactMatch=0.0526, METEOR=0.507, BertScore=nan, StubScore=0.25]"
     ]
    },
    {
     "name": "stdout",
     "output_type": "stream",
     "text": [
      "True\n",
      "Согласно Бхагавад-гите, все действия должны быть посвящены Богу.\n",
      "Согласно Бхагавад-гите, все действия должны быть посвящены Богу.\n",
      "[1, 0, 0, 0]\n"
     ]
    },
    {
     "name": "stderr",
     "output_type": "stream",
     "text": [
      "24it [01:02,  1.72s/it, BLEU2=0.28, BLEU1=0.339, ExactMatch=0.05, METEOR=0.514, BertScore=nan, StubScore=0.25]   "
     ]
    },
    {
     "name": "stdout",
     "output_type": "stream",
     "text": [
      "True\n",
      "Согласно Бхагавадгите, пламя желаний можно усмирить, контролируя ум через самодисциплину и участие в возвышающей духовной деятельности.\n",
      "Согласно Бхагавадгите, усмирить пламя желаний можно посредством самодисциплины.\n",
      "[1, 0, 0, 0]\n"
     ]
    },
    {
     "name": "stderr",
     "output_type": "stream",
     "text": [
      "25it [01:04,  1.79s/it, BLEU2=0.301, BLEU1=0.36, ExactMatch=0.0476, METEOR=0.53, BertScore=nan, StubScore=0.25]"
     ]
    },
    {
     "name": "stdout",
     "output_type": "stream",
     "text": [
      "True\n",
      "Бхагавад-гита описывает йогу как контроль ума, искусство деятельности и осознание высшей природы души.\n",
      "Бхагавадгита описывает йогу как контроль ума, искусство деятельности, осознание высшей природы души.\n",
      "[1, 0, 0, 0]\n"
     ]
    },
    {
     "name": "stderr",
     "output_type": "stream",
     "text": [
      "26it [01:06,  2.04s/it, BLEU2=0.324, BLEU1=0.381, ExactMatch=0.0455, METEOR=0.546, BertScore=nan, StubScore=0.25]"
     ]
    },
    {
     "name": "stdout",
     "output_type": "stream",
     "text": [
      "True\n",
      "Согласно Бхагавад-гите, высшая цель - это освобождение ума и разума от материальной деятельности и их сосредоточение на духовном уровне через посвящение всех действий Богу.\n",
      "Согласно Бхагавад-гите, высшей целью является освобождение ума и разума от материальной деятельности и их сосредоточение на духовном уровне через посвящение всех действий Богу.\n",
      "[1, 0, 0, 0]\n",
      "False\n",
      "В России много населенных пунктов, особенно в Северо-Западном регионе.\n",
      "В области земель Колхиды.\n"
     ]
    },
    {
     "name": "stderr",
     "output_type": "stream",
     "text": [
      "27it [01:09,  2.37s/it, BLEU2=0.324, BLEU1=0.381, ExactMatch=0.0455, METEOR=0.546, BertScore=nan, StubScore=0.2] "
     ]
    },
    {
     "name": "stdout",
     "output_type": "stream",
     "text": [
      "[1, 0, 0, 0, 0]\n"
     ]
    },
    {
     "name": "stderr",
     "output_type": "stream",
     "text": [
      "28it [01:11,  2.19s/it, BLEU2=0.323, BLEU1=0.382, ExactMatch=0.0435, METEOR=0.54, BertScore=nan, StubScore=0.2] "
     ]
    },
    {
     "name": "stdout",
     "output_type": "stream",
     "text": [
      "True\n",
      "Укрепление в то время называли Котиаион, как упоминается в тексте.\n",
      "Укрепление на греческом языке в то время называлось Котиаион.\n",
      "[1, 0, 0, 0, 0]\n"
     ]
    },
    {
     "name": "stderr",
     "output_type": "stream",
     "text": [
      "29it [01:13,  1.98s/it, BLEU2=0.309, BLEU1=0.366, ExactMatch=0.0417, METEOR=0.527, BertScore=nan, StubScore=0.2]"
     ]
    },
    {
     "name": "stdout",
     "output_type": "stream",
     "text": [
      "True\n",
      "Река, протекающая через Кутаиси, называется Риони.\n",
      "В Кутаиси протекает река Рион.\n",
      "[1, 0, 0, 0, 0]\n"
     ]
    },
    {
     "name": "stderr",
     "output_type": "stream",
     "text": [
      "30it [01:14,  1.70s/it, BLEU2=0.329, BLEU1=0.387, ExactMatch=0.04, METEOR=0.542, BertScore=nan, StubScore=0.2]  "
     ]
    },
    {
     "name": "stdout",
     "output_type": "stream",
     "text": [
      "True\n",
      "Римские солдаты принимали участие в охране вместе с лазами.\n",
      "Римские воины принимали участие в охране вместе с лазами.\n",
      "[1, 0, 0, 0, 0]\n"
     ]
    },
    {
     "name": "stderr",
     "output_type": "stream",
     "text": [
      "31it [01:16,  1.77s/it, BLEU2=0.335, BLEU1=0.391, ExactMatch=0.0385, METEOR=0.554, BertScore=nan, StubScore=0.2]"
     ]
    },
    {
     "name": "stdout",
     "output_type": "stream",
     "text": [
      "True\n",
      "Фильм \"Абсолютные новички\" вышел в 1986 году.\n",
      "Рок-музыкальный фильм Абсолютные новички вышел в 1986 году.\n",
      "[1, 0, 0, 0, 0]\n"
     ]
    },
    {
     "name": "stderr",
     "output_type": "stream",
     "text": [
      "32it [01:19,  2.27s/it, BLEU2=0.336, BLEU1=0.394, ExactMatch=0.037, METEOR=0.557, BertScore=nan, StubScore=0.2] "
     ]
    },
    {
     "name": "stdout",
     "output_type": "stream",
     "text": [
      "True\n",
      "Дэвид Боуи сыграл короля гоблинов Джарета в фильме \"Лабиринт\", который был снят Джимом Хенсоном в 1986 году.\n",
      "Дэвид Боуи снялся в роли короля гоблинов Джарета в фильме Лабиринт.\n",
      "[1, 0, 0, 0, 0]\n"
     ]
    },
    {
     "name": "stderr",
     "output_type": "stream",
     "text": [
      "33it [01:19,  1.74s/it, BLEU2=0.324, BLEU1=0.38, ExactMatch=0.0357, METEOR=0.539, BertScore=nan, StubScore=0.2]"
     ]
    },
    {
     "name": "stdout",
     "output_type": "stream",
     "text": [
      "True\n",
      "1988\n",
      "Фильм Мартина Скорсезе Последнее искушение Христа вышел в 1988 году.\n",
      "[1, 0, 0, 0, 0]\n"
     ]
    },
    {
     "name": "stderr",
     "output_type": "stream",
     "text": [
      "34it [01:23,  2.19s/it, BLEU2=0.328, BLEU1=0.385, ExactMatch=0.0345, METEOR=0.553, BertScore=nan, StubScore=0.2]"
     ]
    },
    {
     "name": "stdout",
     "output_type": "stream",
     "text": [
      "True\n",
      "Дэвид Боуи сыграл Понтия Пилата в фильме Мартина Скорсезе \"Последнее искушение Христа\" в 1988 году.\n",
      "В фильме Мартина Скорсезе Последнее искушение Христа Дэвид Боуи сыграл Понтия Пилата.\n",
      "[1, 0, 0, 0, 0]\n"
     ]
    },
    {
     "name": "stderr",
     "output_type": "stream",
     "text": [
      "35it [01:26,  2.63s/it, BLEU2=0.342, BLEU1=0.4, ExactMatch=0.0333, METEOR=0.563, BertScore=nan, StubScore=0.2]  "
     ]
    },
    {
     "name": "stdout",
     "output_type": "stream",
     "text": [
      "True\n",
      "Дэвид Боуи рассматривался на роль Джокера в фильме Тима Бертона и Сэма Хэмма \"Бэтмен\" в 1989 году.\n",
      "Дэвида Боуи рассматривали на роль Джокера в фильме Тима Бёртона и Сэма Хэмма \"Бэтмен\" в 1989 году.\n",
      "[1, 0, 0, 0, 0]\n"
     ]
    },
    {
     "name": "stderr",
     "output_type": "stream",
     "text": [
      "36it [01:27,  1.93s/it, BLEU2=0.331, BLEU1=0.387, ExactMatch=0.0323, METEOR=0.546, BertScore=nan, StubScore=0.2]"
     ]
    },
    {
     "name": "stdout",
     "output_type": "stream",
     "text": [
      "True\n",
      "Георгики\n",
      "Георгики считаются самым совершенным по чистоте и поэтической законченности стиха произведением.\n",
      "[1, 0, 0, 0, 0]\n"
     ]
    },
    {
     "name": "stderr",
     "output_type": "stream",
     "text": [
      "37it [01:27,  1.55s/it, BLEU2=0.321, BLEU1=0.375, ExactMatch=0.0312, METEOR=0.531, BertScore=nan, StubScore=0.2]"
     ]
    },
    {
     "name": "stdout",
     "output_type": "stream",
     "text": [
      "True\n",
      "У меня нет ответа на ваш вопрос.\n",
      "Георгики служат протестом против республики атеизма.\n",
      "[1, 0, 0, 0, 0]\n"
     ]
    },
    {
     "name": "stderr",
     "output_type": "stream",
     "text": [
      "38it [01:29,  1.50s/it, BLEU2=0.315, BLEU1=0.369, ExactMatch=0.0303, METEOR=0.524, BertScore=nan, StubScore=0.2]"
     ]
    },
    {
     "name": "stdout",
     "output_type": "stream",
     "text": [
      "True\n",
      "Поэт часто сравнивает детали сельскохозяйственной жизни с военной жизнью.\n",
      "Земледелие в глазах Вергилия - святая война людей против земли, и он часто сравнивает подробности земледельческого быта с военной жизнью.\n",
      "[1, 0, 0, 0, 0]\n"
     ]
    },
    {
     "name": "stderr",
     "output_type": "stream",
     "text": [
      "39it [01:31,  1.61s/it, BLEU2=0.306, BLEU1=0.365, ExactMatch=0.0294, METEOR=0.515, BertScore=nan, StubScore=0.2]"
     ]
    },
    {
     "name": "stdout",
     "output_type": "stream",
     "text": [
      "True\n",
      "[0.134] Характер Вергилия наиболее ярко проявился в \"Георгиках\".\n",
      "Характер поэта глубже всего отразился в Георгиках.\n",
      "[1, 0, 0, 0, 0]\n"
     ]
    },
    {
     "name": "stderr",
     "output_type": "stream",
     "text": [
      "40it [01:32,  1.52s/it, BLEU2=0.311, BLEU1=0.37, ExactMatch=0.0286, METEOR=0.52, BertScore=nan, StubScore=0.2]  "
     ]
    },
    {
     "name": "stdout",
     "output_type": "stream",
     "text": [
      "True\n",
      "В глазах Вергилия, земляделие - это священная война людей против земли.\n",
      "Земледелие, в глазах Вергилия, есть святая война людей против земли.\n",
      "[1, 0, 0, 0, 0]\n",
      "False\n",
      "У меня нет ответа на ваш вопрос.\n",
      "А.Ф. Самойлов ввел понятие \"власть воли\".\n"
     ]
    },
    {
     "name": "stderr",
     "output_type": "stream",
     "text": [
      "41it [01:34,  1.63s/it, BLEU2=0.311, BLEU1=0.37, ExactMatch=0.0286, METEOR=0.52, BertScore=nan, StubScore=0.333]"
     ]
    },
    {
     "name": "stdout",
     "output_type": "stream",
     "text": [
      "[1, 0, 0, 0, 0, 1]\n"
     ]
    },
    {
     "name": "stderr",
     "output_type": "stream",
     "text": [
      "42it [01:34,  1.31s/it, BLEU2=0.302, BLEU1=0.36, ExactMatch=0.0278, METEOR=0.507, BertScore=nan, StubScore=0.333]"
     ]
    },
    {
     "name": "stdout",
     "output_type": "stream",
     "text": [
      "True\n",
      "У меня нет ответа на ваш вопрос.\n",
      "Состояние комы означает резкое ограничение параметров жизни или даже отсутствие жизни.\n",
      "[1, 0, 0, 0, 0, 1]\n"
     ]
    },
    {
     "name": "stderr",
     "output_type": "stream",
     "text": [
      "43it [01:39,  2.35s/it, BLEU2=0.299, BLEU1=0.357, ExactMatch=0.027, METEOR=0.508, BertScore=nan, StubScore=0.333]"
     ]
    },
    {
     "name": "stdout",
     "output_type": "stream",
     "text": [
      "True\n",
      "Жизнь - это замкнутый круг рефлекторной деятельности. Разрыв этого круга в любом месте (состояние комы) означает резкое ограничение параметров жизни или даже отсутствие жизни. Причины, от которых зависит жизнь, включают состояние внешней среды, власть воли индивидуума и внутренние вегетативные начала организма, неподвластные власти воли.\n",
      "Причинами, от которых зависит жизнь, являются: состояние внешней среды, власти воли индивидуума, внутренних вегетативных начал организма, неподвластных власти воли.\n",
      "[1, 0, 0, 0, 0, 1]\n"
     ]
    },
    {
     "name": "stderr",
     "output_type": "stream",
     "text": [
      "44it [01:43,  2.90s/it, BLEU2=0.292, BLEU1=0.349, ExactMatch=0.0263, METEOR=0.5, BertScore=nan, StubScore=0.333] "
     ]
    },
    {
     "name": "stdout",
     "output_type": "stream",
     "text": [
      "True\n",
      "Жизнь - это активная форма существования материи, характеризующаяся различными процессами, происходящими в клетке, такими как обмен веществ и деление. Это совокупность физических и химических процессов, которые позволяют живым организмам приспосабливаться к окружающей среде и формировать разнообразие живых существ. Основной атрибут живой материи - это генетическая информация, используемая для репликации.\n",
      "Жизнь - это замкнутый круг рефлекторной деятельности, который зависит от состояния внешней среды, власти воли индивидуума, внутренних вегетативных начал организма, неподвластных власти воли.\n",
      "[1, 0, 0, 0, 0, 1]\n",
      "False\n",
      "У меня нет ответа на ваш вопрос.\n",
      "Уолтера Кёнига не пригласили для озвучивания персонажа в фильме.\n"
     ]
    },
    {
     "name": "stderr",
     "output_type": "stream",
     "text": [
      "45it [01:45,  2.60s/it, BLEU2=0.292, BLEU1=0.349, ExactMatch=0.0263, METEOR=0.5, BertScore=nan, StubScore=0.429]"
     ]
    },
    {
     "name": "stdout",
     "output_type": "stream",
     "text": [
      "[1, 0, 0, 0, 0, 1, 1]\n"
     ]
    },
    {
     "name": "stderr",
     "output_type": "stream",
     "text": [
      "46it [01:49,  2.96s/it, BLEU2=0.29, BLEU1=0.347, ExactMatch=0.0256, METEOR=0.505, BertScore=nan, StubScore=0.429]"
     ]
    },
    {
     "name": "stdout",
     "output_type": "stream",
     "text": [
      "True\n",
      "Звёздный путь: Анимационный сериал (Star Trek: The Animated Series) - это анимационный фильм, созданный Filmation на основе оригинального сериала Звёздный путь и включающий два сезона (22 получасовых эпизода).\n",
      "На английском Звёздный путь: Анимационный сериал звучит Star Trek: The Animated Series.\n",
      "[1, 0, 0, 0, 0, 1, 1]\n",
      "False\n",
      "В тексте 1 упоминается, что \"Вместе с Люмьер над новой техникой работал инженер Жюль Карпантье, который сконструировал первый проекционный аппарат для демонстрации их фильмов.\"\n",
      "Известные зарубежные фантасты того времени были подключены к работе над сценарием.\n"
     ]
    },
    {
     "name": "stderr",
     "output_type": "stream",
     "text": [
      "47it [01:55,  3.74s/it, BLEU2=0.29, BLEU1=0.347, ExactMatch=0.0256, METEOR=0.505, BertScore=nan, StubScore=0.375]"
     ]
    },
    {
     "name": "stdout",
     "output_type": "stream",
     "text": [
      "[1, 0, 0, 0, 0, 1, 1, 0]\n"
     ]
    },
    {
     "name": "stderr",
     "output_type": "stream",
     "text": [
      "48it [01:58,  3.54s/it, BLEU2=0.287, BLEU1=0.343, ExactMatch=0.025, METEOR=0.507, BertScore=nan, StubScore=0.375]"
     ]
    },
    {
     "name": "stdout",
     "output_type": "stream",
     "text": [
      "True\n",
      "Звёздный путь: Анимационный сериал был создан на основе оригинального сериала Звёздного пути и включал в себя двухсезонный анимационный фильм, состоящий из 22 эпизодов.\n",
      "Звёздный путь: Анимационный сериал создан по мотивам Оригинального сериала.\n",
      "[1, 0, 0, 0, 0, 1, 1, 0]\n"
     ]
    },
    {
     "name": "stderr",
     "output_type": "stream",
     "text": [
      "49it [02:01,  3.47s/it, BLEU2=0.283, BLEU1=0.339, ExactMatch=0.0244, METEOR=0.506, BertScore=nan, StubScore=0.375]"
     ]
    },
    {
     "name": "stdout",
     "output_type": "stream",
     "text": [
      "True\n",
      "1. [0.081] Звездный путь: Анимационный сериал - это анимационный фильм, созданный Filmation по мотивам Оригинального сериала и включающий два сезона (22 получасовых эпизода).\n",
      "Звёздный путь: Анимационный сериал включает в себя два сезона.\n",
      "[1, 0, 0, 0, 0, 1, 1, 0]\n"
     ]
    },
    {
     "name": "stderr",
     "output_type": "stream",
     "text": [
      "50it [02:02,  2.66s/it, BLEU2=0.277, BLEU1=0.331, ExactMatch=0.0238, METEOR=0.495, BertScore=nan, StubScore=0.375]"
     ]
    },
    {
     "name": "stdout",
     "output_type": "stream",
     "text": [
      "True\n",
      "Энтерпрайз (USS Enterprise)\n",
      "Звездолет исследовательской миссии в Star Trek: Phase II называется Энтерпрайз.\n",
      "[1, 0, 0, 0, 0, 1, 1, 0]\n"
     ]
    },
    {
     "name": "stderr",
     "output_type": "stream",
     "text": [
      "51it [02:02,  2.09s/it, BLEU2=0.27, BLEU1=0.324, ExactMatch=0.0233, METEOR=0.484, BertScore=nan, StubScore=0.375] "
     ]
    },
    {
     "name": "stdout",
     "output_type": "stream",
     "text": [
      "True\n",
      "Парамаунт Телевижн.\n",
      "Star Trek: Phase II был задуман компанией Paramount Television Network.\n",
      "[1, 0, 0, 0, 0, 1, 1, 0]\n"
     ]
    },
    {
     "name": "stderr",
     "output_type": "stream",
     "text": [
      "52it [02:05,  2.23s/it, BLEU2=0.271, BLEU1=0.323, ExactMatch=0.0227, METEOR=0.489, BertScore=nan, StubScore=0.375]"
     ]
    },
    {
     "name": "stdout",
     "output_type": "stream",
     "text": [
      "True\n",
      "Фаза 2 должна была стать продолжением оригинального сериала \"Звёздный путь\" и рассказать о ещё одной пятилетней исследовательской миссии корабля \"Энтерпрайз\".\n",
      "Согласно сценарию, Фаза 2 должна была стать продолжением Оригинального сериала.\n",
      "[1, 0, 0, 0, 0, 1, 1, 0]\n"
     ]
    },
    {
     "name": "stderr",
     "output_type": "stream",
     "text": [
      "53it [02:07,  2.11s/it, BLEU2=0.273, BLEU1=0.326, ExactMatch=0.0222, METEOR=0.49, BertScore=nan, StubScore=0.375] "
     ]
    },
    {
     "name": "stdout",
     "output_type": "stream",
     "text": [
      "True\n",
      "Пилот для Звездного пути: Фаза II был готов к съемкам в 1978 году.\n",
      "Сценарий 12 эпизодов Star Trek: Phase II был готов в 1978 году.\n",
      "[1, 0, 0, 0, 0, 1, 1, 0]\n"
     ]
    },
    {
     "name": "stderr",
     "output_type": "stream",
     "text": [
      "54it [02:08,  1.95s/it, BLEU2=0.267, BLEU1=0.321, ExactMatch=0.0217, METEOR=0.489, BertScore=nan, StubScore=0.375]"
     ]
    },
    {
     "name": "stdout",
     "output_type": "stream",
     "text": [
      "True\n",
      "Листья чая, цветки зверобоя и шафран используются для окрашивания меда.\n",
      "Для окрашивания искусственного мёда.\n",
      "[1, 0, 0, 0, 0, 1, 1, 0]\n"
     ]
    },
    {
     "name": "stderr",
     "output_type": "stream",
     "text": [
      "55it [02:10,  1.91s/it, BLEU2=0.265, BLEU1=0.322, ExactMatch=0.0213, METEOR=0.488, BertScore=nan, StubScore=0.375]"
     ]
    },
    {
     "name": "stdout",
     "output_type": "stream",
     "text": [
      "True\n",
      "Искусственный мед также может быть произведен из арбузного, дынного сока и других сахаросодержащих веществ.\n",
      "Ещё искусственный мёд производят из сока арбузов, дыни и других сахаристых веществ.\n",
      "[1, 0, 0, 0, 0, 1, 1, 0]\n"
     ]
    },
    {
     "name": "stderr",
     "output_type": "stream",
     "text": [
      "56it [02:13,  2.19s/it, BLEU2=0.272, BLEU1=0.329, ExactMatch=0.0208, METEOR=0.496, BertScore=nan, StubScore=0.375]"
     ]
    },
    {
     "name": "stdout",
     "output_type": "stream",
     "text": [
      "True\n",
      "Добавление натурального пчелиного мёда к искусственному мёду приведет к тому, что искусственный мёд будет иметь слабый аромат и содержать небольшое количество ферментов.\n",
      "При добавлении натурального пчелиного мёда искусственный мёд будет иметь слабый аромат и содержать небольшое количество ферментов.\n",
      "[1, 0, 0, 0, 0, 1, 1, 0]\n"
     ]
    },
    {
     "name": "stderr",
     "output_type": "stream",
     "text": [
      "57it [02:19,  3.33s/it, BLEU2=0.268, BLEU1=0.324, ExactMatch=0.0204, METEOR=0.492, BertScore=nan, StubScore=0.375]"
     ]
    },
    {
     "name": "stdout",
     "output_type": "stream",
     "text": [
      "True\n",
      "Искусственный мёд производится через процесс, называемый инверсией сахарозы, который включает в себя инвертирование сахарозы в слабокислую среду, обычно с добавлением лимонной кислоты и других добавок. Этот процесс используется для создания мёда из свекловичного или тростникового сахара, кукурузы, арбузного, дынного сока и других сахаросодержащих материалов.\n",
      "При помощи инверсии сахарозы в слабокислой среде (добавки лимонной кислоты и пр.).\n",
      "[1, 0, 0, 0, 0, 1, 1, 0]\n"
     ]
    },
    {
     "name": "stderr",
     "output_type": "stream",
     "text": [
      "58it [02:21,  2.87s/it, BLEU2=0.274, BLEU1=0.33, ExactMatch=0.02, METEOR=0.497, BertScore=nan, StubScore=0.375]   "
     ]
    },
    {
     "name": "stdout",
     "output_type": "stream",
     "text": [
      "True\n",
      "Искусственный мёд не содержит ферментов и не обладает ароматом, характерным для натурального мёда.\n",
      "Искусственный мёд не имеет ферментов и не обладает ароматом, свойственным натуральному.\n",
      "[1, 0, 0, 0, 0, 1, 1, 0]\n"
     ]
    },
    {
     "name": "stderr",
     "output_type": "stream",
     "text": [
      "59it [02:25,  3.13s/it, BLEU2=0.275, BLEU1=0.33, ExactMatch=0.0196, METEOR=0.5, BertScore=nan, StubScore=0.375]"
     ]
    },
    {
     "name": "stdout",
     "output_type": "stream",
     "text": [
      "True\n",
      "\"История Рима\", опубликованная в трех томах в 1854, 1855 и 1856 годах, описывает историю Рима до падения республики и начала правления Юлия Цезаря.\n",
      "В Истории Рима описана римская история до падения республики и начала правления Юлия Цезаря ?\n",
      "[1, 0, 0, 0, 0, 1, 1, 0]\n"
     ]
    },
    {
     "name": "stderr",
     "output_type": "stream",
     "text": [
      "60it [02:27,  2.87s/it, BLEU2=0.273, BLEU1=0.329, ExactMatch=0.0192, METEOR=0.5, BertScore=nan, StubScore=0.375]"
     ]
    },
    {
     "name": "stdout",
     "output_type": "stream",
     "text": [
      "True\n",
      "1. [0.129] История Рима была опубликована в трех томах в 1854, 1855 и 1856 годах.\n",
      "История Рима опубликована в четырёх томах.\n",
      "[1, 0, 0, 0, 0, 1, 1, 0]\n",
      "False\n",
      "У меня нет ответа на ваш вопрос.\n",
      "Моммзен очень уважал Цезаря.\n"
     ]
    },
    {
     "name": "stderr",
     "output_type": "stream",
     "text": [
      "61it [02:29,  2.57s/it, BLEU2=0.273, BLEU1=0.329, ExactMatch=0.0192, METEOR=0.5, BertScore=nan, StubScore=0.444]"
     ]
    },
    {
     "name": "stdout",
     "output_type": "stream",
     "text": [
      "[1, 0, 0, 0, 0, 1, 1, 0, 1]\n"
     ]
    },
    {
     "name": "stderr",
     "output_type": "stream",
     "text": [
      "62it [02:30,  2.23s/it, BLEU2=0.281, BLEU1=0.336, ExactMatch=0.0189, METEOR=0.508, BertScore=nan, StubScore=0.444]"
     ]
    },
    {
     "name": "stdout",
     "output_type": "stream",
     "text": [
      "True\n",
      "В своей работе \"История Рима\" Моммзен сравнил политику Древнего Рима с состоянием государства в его время.\n",
      "Моммзен сравнил политику Древнего Рима с состоянием государства в его время.\n",
      "[1, 0, 0, 0, 0, 1, 1, 0, 1]\n"
     ]
    },
    {
     "name": "stderr",
     "output_type": "stream",
     "text": [
      "63it [02:32,  2.02s/it, BLEU2=0.29, BLEU1=0.345, ExactMatch=0.0185, METEOR=0.516, BertScore=nan, StubScore=0.444] "
     ]
    },
    {
     "name": "stdout",
     "output_type": "stream",
     "text": [
      "True\n",
      "В пятом томе истории Рима Моммзена описывались римские провинции во времена ранней империи.\n",
      "В пятом томе Истории Рима Моммзена описывались римские провинции во время ранней империи.\n",
      "[1, 0, 0, 0, 0, 1, 1, 0, 1]\n"
     ]
    },
    {
     "name": "stderr",
     "output_type": "stream",
     "text": [
      "64it [02:33,  1.94s/it, BLEU2=0.287, BLEU1=0.343, ExactMatch=0.0182, METEOR=0.521, BertScore=nan, StubScore=0.444]"
     ]
    },
    {
     "name": "stdout",
     "output_type": "stream",
     "text": [
      "True\n",
      "Один из анилина, который давал синевато-красный оттенок, - это фуксин.\n",
      "Фуксин давал синевато-красный оттенок.\n",
      "[1, 0, 0, 0, 0, 1, 1, 0, 1]\n",
      "False\n",
      "У меня нет ответа на ваш вопрос.\n",
      "В Средние века был синтезирован ультрамарин.\n"
     ]
    },
    {
     "name": "stderr",
     "output_type": "stream",
     "text": [
      "65it [02:35,  1.93s/it, BLEU2=0.287, BLEU1=0.343, ExactMatch=0.0182, METEOR=0.521, BertScore=nan, StubScore=0.5]  "
     ]
    },
    {
     "name": "stdout",
     "output_type": "stream",
     "text": [
      "[1, 0, 0, 0, 0, 1, 1, 0, 1, 1]\n",
      "False\n",
      "У меня нет ответа на ваш вопрос.\n",
      "Натуральное индиго было привезено из Америки.\n"
     ]
    },
    {
     "name": "stderr",
     "output_type": "stream",
     "text": [
      "66it [02:37,  1.97s/it, BLEU2=0.287, BLEU1=0.343, ExactMatch=0.0182, METEOR=0.521, BertScore=nan, StubScore=0.545]"
     ]
    },
    {
     "name": "stdout",
     "output_type": "stream",
     "text": [
      "[1, 0, 0, 0, 0, 1, 1, 0, 1, 1, 1]\n"
     ]
    },
    {
     "name": "stderr",
     "output_type": "stream",
     "text": [
      "67it [02:40,  2.06s/it, BLEU2=0.296, BLEU1=0.352, ExactMatch=0.0179, METEOR=0.529, BertScore=nan, StubScore=0.545]"
     ]
    },
    {
     "name": "stdout",
     "output_type": "stream",
     "text": [
      "True\n",
      "В конце XIX века после появления анилиновых красителей живописная палитра обогатилась несколькими синими красителями.\n",
      "После появления анилиновых красителей в конце XIX века живописная палитра обогатилась несколькими синими красителями.\n",
      "[1, 0, 0, 0, 0, 1, 1, 0, 1, 1, 1]\n"
     ]
    },
    {
     "name": "stderr",
     "output_type": "stream",
     "text": [
      "68it [02:41,  1.82s/it, BLEU2=0.297, BLEU1=0.353, ExactMatch=0.0175, METEOR=0.535, BertScore=nan, StubScore=0.545]"
     ]
    },
    {
     "name": "stdout",
     "output_type": "stream",
     "text": [
      "True\n",
      "Практически единственным природным синим пигментом была ляпис-лазурь.\n",
      "Ляпис-лазурь являлась практически единственным природным синим пигментом.\n",
      "[1, 0, 0, 0, 0, 1, 1, 0, 1, 1, 1]\n"
     ]
    },
    {
     "name": "stderr",
     "output_type": "stream",
     "text": [
      "69it [02:43,  1.73s/it, BLEU2=0.295, BLEU1=0.352, ExactMatch=0.0172, METEOR=0.531, BertScore=nan, StubScore=0.545]"
     ]
    },
    {
     "name": "stdout",
     "output_type": "stream",
     "text": [
      "True\n",
      "На северо-восточном углу кладбища в Клайпеде сохранились несколько надгробных камней.\n",
      "В северо-восточном углу клайпедского кладбища уцелели могилы немцев и мемелендеров.\n",
      "[1, 0, 0, 0, 0, 1, 1, 0, 1, 1, 1]\n"
     ]
    },
    {
     "name": "stderr",
     "output_type": "stream",
     "text": [
      "70it [02:46,  2.19s/it, BLEU2=0.298, BLEU1=0.355, ExactMatch=0.0169, METEOR=0.536, BertScore=nan, StubScore=0.545]"
     ]
    },
    {
     "name": "stdout",
     "output_type": "stream",
     "text": [
      "True\n",
      "Уникальные железные кресты, которые были вывезены мародерами с разрушенного кладбища, были возвращены государству после обретения независимости и сейчас находятся в Музее кузнечного дела.\n",
      "Уникальные железные кресты, которые были вынесены мародерами с разрушенного кладбища, находятся в Музее кузнечных изделий.\n",
      "[1, 0, 0, 0, 0, 1, 1, 0, 1, 1, 1]\n"
     ]
    },
    {
     "name": "stderr",
     "output_type": "stream",
     "text": [
      "71it [02:48,  2.12s/it, BLEU2=0.293, BLEU1=0.354, ExactMatch=0.0167, METEOR=0.538, BertScore=nan, StubScore=0.545]"
     ]
    },
    {
     "name": "stdout",
     "output_type": "stream",
     "text": [
      "True\n",
      "До 1977 года на одном из кладбищ в Клайпеде хоронили немцев и мемеленцев.\n",
      "Немцев и мемелендеров хоронили на кладбищах до 1977 года.\n",
      "[1, 0, 0, 0, 0, 1, 1, 0, 1, 1, 1]\n"
     ]
    },
    {
     "name": "stderr",
     "output_type": "stream",
     "text": [
      "72it [02:49,  1.73s/it, BLEU2=0.288, BLEU1=0.349, ExactMatch=0.0164, METEOR=0.53, BertScore=nan, StubScore=0.545] "
     ]
    },
    {
     "name": "stdout",
     "output_type": "stream",
     "text": [
      "True\n",
      "У меня нет ответа на ваш вопрос.\n",
      "За отсутствием средств властям Клайпеды сегодня не удается восстановить разрушенное кладбище.\n",
      "[1, 0, 0, 0, 0, 1, 1, 0, 1, 1, 1]\n",
      "False\n",
      "1. [0.139] Прогрессивный рок зародился из множества музыкальных течений в конце 1960-х. Поздние Битлз, под руководством своего продюсера Джорджа Мартина, начали обогащать свою музыку, сочетая традиционный рок с элементами классической и восточной музыки. Такие группы, как The Nice и Moody Blues, начали сознательно сочетать рок с европейской классикой, создавая длинные композиции с продуманными структурами. Хотя они не дошли до настоящего синтеза рока и классики, их творчество стало важным шагом в артизации рока. Эти группы иногда называют прото-прогрессивным роком и считают этот жанр переходным между психоделией и прогрессивным роком.\n",
      "\n",
      "2. [0.147] Хард-рок зародился в конце 1960-х в Великобритании и США. Такие музыканты, как Джимми Хендрикс, сыграли решающую роль в появлении хард-рока, выработав совершенно новый подход к гитарной музыке. Затем появились ранние хард-рок группы, такие как Iron Butterfly. Хард-рок достиг своего наибольшего развития в первой половине 1970-х годов с музыкой таких групп, как Led Zeppelin, Deep Purple, Black Sabbath и других. В хард-роке впервые центральную роль стала играть гитара и гитарист, вся музыка строится вокруг его риффов и соло. Хард-рок породил таких выдающихся гитаристов, как Ричи Блэкмор, Тони Айомми и Джимми Пейдж. Влияние на развитие жанра также оказали прогрессив-рок группы, такие как Queen, Uriah Heep, Genesis и Blue Oyster Cult, с их длинными, сложными гитарными соло.\n",
      "Клифф Ричард, Лонни Донеган, Джонни Кидд сформировали английский рок.\n"
     ]
    },
    {
     "name": "stderr",
     "output_type": "stream",
     "text": [
      "73it [03:36, 15.36s/it, BLEU2=0.288, BLEU1=0.349, ExactMatch=0.0164, METEOR=0.53, BertScore=nan, StubScore=0.5]  "
     ]
    },
    {
     "name": "stdout",
     "output_type": "stream",
     "text": [
      "[1, 0, 0, 0, 0, 1, 1, 0, 1, 1, 1, 0]\n"
     ]
    },
    {
     "name": "stderr",
     "output_type": "stream",
     "text": [
      "74it [03:36, 10.93s/it, BLEU2=0.284, BLEU1=0.346, ExactMatch=0.0161, METEOR=0.531, BertScore=nan, StubScore=0.5]"
     ]
    },
    {
     "name": "stdout",
     "output_type": "stream",
     "text": [
      "True\n",
      "Машина Времени.\n",
      "Группа называется Машина времени.\n",
      "[1, 0, 0, 0, 0, 1, 1, 0, 1, 1, 1, 0]\n",
      "False\n",
      "[0.17]\n",
      "Машина времени дала начало настоящему русскому року.\n"
     ]
    },
    {
     "name": "stderr",
     "output_type": "stream",
     "text": [
      "75it [03:39,  8.49s/it, BLEU2=0.284, BLEU1=0.346, ExactMatch=0.0161, METEOR=0.531, BertScore=nan, StubScore=0.462]"
     ]
    },
    {
     "name": "stdout",
     "output_type": "stream",
     "text": [
      "[1, 0, 0, 0, 0, 1, 1, 0, 1, 1, 1, 0, 0]\n",
      "False\n",
      "Машина времени нашла и ухватила возможность записывать новые песни, гастролировать по стране и приобретать оборудование.\n",
      "Темой или пафосом русского рока стало то, что удалось найти, ухватить Машине времени.\n"
     ]
    },
    {
     "name": "stderr",
     "output_type": "stream",
     "text": [
      "76it [03:43,  7.24s/it, BLEU2=0.284, BLEU1=0.346, ExactMatch=0.0161, METEOR=0.531, BertScore=nan, StubScore=0.429]"
     ]
    },
    {
     "name": "stdout",
     "output_type": "stream",
     "text": [
      "[1, 0, 0, 0, 0, 1, 1, 0, 1, 1, 1, 0, 0, 0]\n"
     ]
    },
    {
     "name": "stderr",
     "output_type": "stream",
     "text": [
      "77it [03:48,  6.55s/it, BLEU2=0.282, BLEU1=0.345, ExactMatch=0.0159, METEOR=0.53, BertScore=nan, StubScore=0.429] "
     ]
    },
    {
     "name": "stdout",
     "output_type": "stream",
     "text": [
      "True\n",
      "Рокеры в Москве, России и Прибалтике в СССР до \"Машины времени\" занимались в основном эпигонством, перенимая стили и мотивы существующих групп, вместо того чтобы развивать и определять свой собственный уникальный стиль и тему, которые позже стали характерными для \"Машины времени\".\n",
      "Рокеры в Москве, и в России, и в Прибалтике в СССР до Машины времени занимались более или менее эпигонством.\n",
      "[1, 0, 0, 0, 0, 1, 1, 0, 1, 1, 1, 0, 0, 0]\n"
     ]
    },
    {
     "name": "stderr",
     "output_type": "stream",
     "text": [
      "78it [03:51,  5.47s/it, BLEU2=0.282, BLEU1=0.344, ExactMatch=0.0156, METEOR=0.535, BertScore=nan, StubScore=0.429]"
     ]
    },
    {
     "name": "stdout",
     "output_type": "stream",
     "text": [
      "True\n",
      "У Микеланджело была круглая голова с квадратным лбом, морщинистая, с сильно выраженными бровями.\n",
      "У Микеланджело была круглая голова.\n",
      "[1, 0, 0, 0, 0, 1, 1, 0, 1, 1, 1, 0, 0, 0]\n"
     ]
    },
    {
     "name": "stderr",
     "output_type": "stream",
     "text": [
      "79it [03:54,  4.55s/it, BLEU2=0.282, BLEU1=0.344, ExactMatch=0.0154, METEOR=0.537, BertScore=nan, StubScore=0.429]"
     ]
    },
    {
     "name": "stdout",
     "output_type": "stream",
     "text": [
      "True\n",
      "У Микеланджело были тонкие бакенбарды и раздвоенная, негустая бородка.\n",
      "У Микеланджело были жиденькие бакенбарды.\n",
      "[1, 0, 0, 0, 0, 1, 1, 0, 1, 1, 1, 0, 0, 0]\n"
     ]
    },
    {
     "name": "stderr",
     "output_type": "stream",
     "text": [
      "80it [03:55,  3.55s/it, BLEU2=0.28, BLEU1=0.342, ExactMatch=0.0152, METEOR=0.536, BertScore=nan, StubScore=0.429] "
     ]
    },
    {
     "name": "stdout",
     "output_type": "stream",
     "text": [
      "True\n",
      "Усеянные желтыми и голубыми пятнами.\n",
      "Желтыми и голубыми крапинками были усеяны глаза Микеланджело.\n",
      "[1, 0, 0, 0, 0, 1, 1, 0, 1, 1, 1, 0, 0, 0]\n"
     ]
    },
    {
     "name": "stderr",
     "output_type": "stream",
     "text": [
      "81it [03:58,  3.28s/it, BLEU2=0.284, BLEU1=0.346, ExactMatch=0.0149, METEOR=0.539, BertScore=nan, StubScore=0.429]"
     ]
    },
    {
     "name": "stdout",
     "output_type": "stream",
     "text": [
      "True\n",
      "У Микеланджело были светло-карие глаза, которые постоянно меняли цвет, с желтыми и голубыми пятнами.\n",
      "У Микеланджело были светло-карие глаза, усеянные желтыми и голубыми крапинками.\n",
      "[1, 0, 0, 0, 0, 1, 1, 0, 1, 1, 1, 0, 0, 0]\n"
     ]
    },
    {
     "name": "stderr",
     "output_type": "stream",
     "text": [
      "82it [04:00,  2.90s/it, BLEU2=0.284, BLEU1=0.345, ExactMatch=0.0147, METEOR=0.543, BertScore=nan, StubScore=0.429]"
     ]
    },
    {
     "name": "stdout",
     "output_type": "stream",
     "text": [
      "True\n",
      "Цвет глаз Микеланджело постоянно менялся, с желтыми и голубыми пятнами.\n",
      "Цвет глаз Микеланджело менялся постоянно.\n",
      "[1, 0, 0, 0, 0, 1, 1, 0, 1, 1, 1, 0, 0, 0]\n"
     ]
    },
    {
     "name": "stderr",
     "output_type": "stream",
     "text": [
      "83it [04:02,  2.84s/it, BLEU2=0.279, BLEU1=0.34, ExactMatch=0.0145, METEOR=0.536, BertScore=nan, StubScore=0.429] "
     ]
    },
    {
     "name": "stdout",
     "output_type": "stream",
     "text": [
      "True\n",
      "Ранние композиции \"Машины\" имели некую смесь рока, кантри, городских романсов и традиционной эстрадной музыки.\n",
      "Оформленная аранжировка была найдена в ранних композициях „Машины“.\n",
      "[1, 0, 0, 0, 0, 1, 1, 0, 1, 1, 1, 0, 0, 0]\n"
     ]
    },
    {
     "name": "stderr",
     "output_type": "stream",
     "text": [
      "84it [04:08,  3.68s/it, BLEU2=0.276, BLEU1=0.336, ExactMatch=0.0143, METEOR=0.533, BertScore=nan, StubScore=0.429]"
     ]
    },
    {
     "name": "stdout",
     "output_type": "stream",
     "text": [
      "True\n",
      "Ранние композиции \"Машины\" были оформлены как готовые изделия, с полностью оформленной аранжировкой, взаимодействием куплетов и профессиональной вокальной подачей. Они включали в себя элементы агрессии, меланхолии и кантри-рока, а также расстроенное банджо.\n",
      "Ранние композиции „Машины“ были готовым продуктом.\n",
      "[1, 0, 0, 0, 0, 1, 1, 0, 1, 1, 1, 0, 0, 0]\n"
     ]
    },
    {
     "name": "stderr",
     "output_type": "stream",
     "text": [
      "85it [04:10,  3.05s/it, BLEU2=0.276, BLEU1=0.337, ExactMatch=0.0141, METEOR=0.531, BertScore=nan, StubScore=0.429]"
     ]
    },
    {
     "name": "stdout",
     "output_type": "stream",
     "text": [
      "True\n",
      "Ранние вещицы \"Машины\" выглядели как полностью оформленные произведения.\n",
      "Ранние вещицы „Машины“ формально выглядели зрелыми композициями.\n",
      "[1, 0, 0, 0, 0, 1, 1, 0, 1, 1, 1, 0, 0, 0]\n"
     ]
    },
    {
     "name": "stderr",
     "output_type": "stream",
     "text": [
      "86it [04:10,  2.29s/it, BLEU2=0.272, BLEU1=0.332, ExactMatch=0.0139, METEOR=0.524, BertScore=nan, StubScore=0.429]"
     ]
    },
    {
     "name": "stdout",
     "output_type": "stream",
     "text": [
      "True\n",
      "Машина Времени.\n",
      "Андрей во многом „задал фасон“ всего русского рока.\n",
      "[1, 0, 0, 0, 0, 1, 1, 0, 1, 1, 1, 0, 0, 0]\n"
     ]
    },
    {
     "name": "stderr",
     "output_type": "stream",
     "text": [
      "87it [04:10,  1.74s/it, BLEU2=0.268, BLEU1=0.328, ExactMatch=0.0137, METEOR=0.517, BertScore=nan, StubScore=0.429]"
     ]
    },
    {
     "name": "stdout",
     "output_type": "stream",
     "text": [
      "True\n",
      "Машина времени.\n",
      "Ранние композиции \"Машины времени\" - \"Продавец счастья\", \"Солдат\" и \"Миллионеры\" - формально выглядели зрелыми композициями.\n",
      "[1, 0, 0, 0, 0, 1, 1, 0, 1, 1, 1, 0, 0, 0]\n"
     ]
    },
    {
     "name": "stderr",
     "output_type": "stream",
     "text": [
      "88it [04:11,  1.41s/it, BLEU2=0.264, BLEU1=0.323, ExactMatch=0.0135, METEOR=0.511, BertScore=nan, StubScore=0.429]"
     ]
    },
    {
     "name": "stdout",
     "output_type": "stream",
     "text": [
      "True\n",
      "Национальный и Пеньяроль.\n",
      "Команда Насьональ является лидером Уругвайского футбола.\n",
      "[1, 0, 0, 0, 0, 1, 1, 0, 1, 1, 1, 0, 0, 0]\n"
     ]
    },
    {
     "name": "stderr",
     "output_type": "stream",
     "text": [
      "89it [04:14,  1.76s/it, BLEU2=0.262, BLEU1=0.32, ExactMatch=0.0133, METEOR=0.508, BertScore=nan, StubScore=0.429] "
     ]
    },
    {
     "name": "stdout",
     "output_type": "stream",
     "text": [
      "True\n",
      "\"Уимблдонский теннисный клуб\" - это команда, которая имеет наибольшее количество участий в финалах, с 13 титулами во всех категориях.\n",
      "Команда Пеньяроль является рекордсменом по числу участий в финале\n",
      "[1, 0, 0, 0, 0, 1, 1, 0, 1, 1, 1, 0, 0, 0]\n"
     ]
    },
    {
     "name": "stderr",
     "output_type": "stream",
     "text": [
      "90it [04:14,  1.42s/it, BLEU2=0.258, BLEU1=0.316, ExactMatch=0.0132, METEOR=0.502, BertScore=nan, StubScore=0.429]"
     ]
    },
    {
     "name": "stdout",
     "output_type": "stream",
     "text": [
      "True\n",
      "Национальная команда Уругвая.\n",
      "Команда Насьональ возглавляет сводную Кубка Либертадорес за всю историю турнира.\n",
      "[1, 0, 0, 0, 0, 1, 1, 0, 1, 1, 1, 0, 0, 0]\n"
     ]
    },
    {
     "name": "stderr",
     "output_type": "stream",
     "text": [
      "91it [04:15,  1.08s/it, BLEU2=0.255, BLEU1=0.312, ExactMatch=0.013, METEOR=0.496, BertScore=nan, StubScore=0.429] "
     ]
    },
    {
     "name": "stdout",
     "output_type": "stream",
     "text": [
      "True\n",
      "114\n",
      "Команды выиграли 94 чемпионата Уругвая.\n",
      "[1, 0, 0, 0, 0, 1, 1, 0, 1, 1, 1, 0, 0, 0]\n"
     ]
    },
    {
     "name": "stderr",
     "output_type": "stream",
     "text": [
      "92it [04:16,  1.06s/it, BLEU2=0.256, BLEU1=0.313, ExactMatch=0.0128, METEOR=0.498, BertScore=nan, StubScore=0.429]"
     ]
    },
    {
     "name": "stdout",
     "output_type": "stream",
     "text": [
      "True\n",
      "В Уругвае было 114 футбольных чемпионатов.\n",
      "Всего в Уругвае было 114 чемпионатов по футболу.\n",
      "[1, 0, 0, 0, 0, 1, 1, 0, 1, 1, 1, 0, 0, 0]\n"
     ]
    },
    {
     "name": "stderr",
     "output_type": "stream",
     "text": [
      "93it [04:18,  1.56s/it, BLEU2=0.255, BLEU1=0.312, ExactMatch=0.0127, METEOR=0.496, BertScore=nan, StubScore=0.429]"
     ]
    },
    {
     "name": "stdout",
     "output_type": "stream",
     "text": [
      "True\n",
      "Национальное Рейтинговое Агентство отмечает улучшение качества активов, увеличение диверсификации портфеля заемщиков и направлений инвестирования, а также рост процентной маржи в ПАО КБ Уральский банк реконструкции и развития.\n",
      "Национальное Рейтинговое Агентство отмечает улучшение показателей качества кредитов, сохранение невысокого уровня просроченной задолженности и ограниченную концентрацию портфеля на крупных заемщиках.\n",
      "[1, 0, 0, 0, 0, 1, 1, 0, 1, 1, 1, 0, 0, 0]\n"
     ]
    },
    {
     "name": "stderr",
     "output_type": "stream",
     "text": [
      "94it [04:21,  1.92s/it, BLEU2=0.262, BLEU1=0.318, ExactMatch=0.0125, METEOR=0.502, BertScore=nan, StubScore=0.429]"
     ]
    },
    {
     "name": "stdout",
     "output_type": "stream",
     "text": [
      "True\n",
      "[0.061] Рейтинговое агентство \"Национальное Рейтинговое Агентство\" подтвердило рейтинг кредитоспособности ПАО КБ Уральский банк реконструкции и развития на уровне АА по национальной шкале.\n",
      "Национальное Рейтинговое Агентство подтвердило рейтинг кредитоспособности ПАО КБ Уральский банк реконструкции и развития на уровне АА по национальной шкале.\n",
      "[1, 0, 0, 0, 0, 1, 1, 0, 1, 1, 1, 0, 0, 0]\n"
     ]
    },
    {
     "name": "stderr",
     "output_type": "stream",
     "text": [
      "95it [04:23,  1.93s/it, BLEU2=0.261, BLEU1=0.318, ExactMatch=0.0123, METEOR=0.506, BertScore=nan, StubScore=0.429]"
     ]
    },
    {
     "name": "stdout",
     "output_type": "stream",
     "text": [
      "True\n",
      "Национальное Рейтинговое Агентство подтвердило рейтинг кредитоспособности ПАО КБ Уральский банк реконструкции и развития на уровне АА по национальной шкале.\n",
      "На уровне АА по национальной шкале.\n",
      "[1, 0, 0, 0, 0, 1, 1, 0, 1, 1, 1, 0, 0, 0]\n"
     ]
    },
    {
     "name": "stderr",
     "output_type": "stream",
     "text": [
      "96it [04:26,  2.22s/it, BLEU2=0.268, BLEU1=0.324, ExactMatch=0.0122, METEOR=0.512, BertScore=nan, StubScore=0.429]"
     ]
    },
    {
     "name": "stdout",
     "output_type": "stream",
     "text": [
      "True\n",
      "1. [0.123] Национальное Рейтинговое Агентство подтвердило рейтинг кредитоспособности ПАО КБ Уральский банк реконструкции и развития на уровне АА по национальной шкале.\n",
      "Национальное Рейтинговое Агентство подтвердило рейтинг ПАО КБ Уральский банк реконструкции и развития на уровне АА по национальной шкале.\n",
      "[1, 0, 0, 0, 0, 1, 1, 0, 1, 1, 1, 0, 0, 0]\n"
     ]
    },
    {
     "name": "stderr",
     "output_type": "stream",
     "text": [
      "97it [04:29,  2.49s/it, BLEU2=0.274, BLEU1=0.329, ExactMatch=0.012, METEOR=0.517, BertScore=nan, StubScore=0.429] "
     ]
    },
    {
     "name": "stdout",
     "output_type": "stream",
     "text": [
      "True\n",
      "1. [0.135] Успешная реализация принятой долгосрочной стратегии, сбалансированная структура активов и обязательств, высокая диверсификация клиентской базы, усиливающиеся рыночные позиции и растущая эффективность бизнеса положительно влияют на рейтинг банка.\n",
      "Успешная реализация принятой долгосрочной стратегии, сбалансированная структура активов и обязательств, высокая диверсификация клиентской базы, усиливающиеся рыночные позиции и растущая эффективность бизнеса.\n",
      "[1, 0, 0, 0, 0, 1, 1, 0, 1, 1, 1, 0, 0, 0]\n"
     ]
    },
    {
     "name": "stderr",
     "output_type": "stream",
     "text": [
      "98it [04:35,  3.65s/it, BLEU2=0.271, BLEU1=0.326, ExactMatch=0.0119, METEOR=0.514, BertScore=nan, StubScore=0.429]"
     ]
    },
    {
     "name": "stdout",
     "output_type": "stream",
     "text": [
      "True\n",
      "После завершения работы над своим последним крупным произведением, романом \"Обрыв\", Иван Александрович Гончаров столкнулся с трудной жизнью. Он был болен и одинок, часто впадал в депрессию. Несмотря на то, что он был талантливым писателем, он не смог быстро реагировать на события современной жизни и не имел физических или моральных сил для изучения происходящих процессов.\n",
      "После окончания работы над произведением жизнь Гончарова сложилась очень трудно.\n",
      "[1, 0, 0, 0, 0, 1, 1, 0, 1, 1, 1, 0, 0, 0]\n"
     ]
    },
    {
     "name": "stderr",
     "output_type": "stream",
     "text": [
      "99it [04:36,  2.86s/it, BLEU2=0.267, BLEU1=0.322, ExactMatch=0.0118, METEOR=0.512, BertScore=nan, StubScore=0.429]"
     ]
    },
    {
     "name": "stdout",
     "output_type": "stream",
     "text": [
      "True\n",
      "\"Обрыв\" был последним крупным художественным произведением Гончарова.\n",
      "Обрыв стал последним.\n",
      "[1, 0, 0, 0, 0, 1, 1, 0, 1, 1, 1, 0, 0, 0]\n"
     ]
    },
    {
     "name": "stderr",
     "output_type": "stream",
     "text": [
      "100it [04:43,  3.90s/it, BLEU2=0.264, BLEU1=0.318, ExactMatch=0.0116, METEOR=0.507, BertScore=nan, StubScore=0.429]"
     ]
    },
    {
     "name": "stdout",
     "output_type": "stream",
     "text": [
      "True\n",
      "Романы Гончарова были посвящены различным этапам исторического развития России. Первый роман, \"Обыкновенная история\", отражал борьбу между реализмом и романтизмом, которая была существенной коллизией русской жизни. Второй роман, \"Обломов\", изображал угасание эпохи крепостничества через образ Обломова. Наконец, третий роман, \"Обрыв\", завершил трилогию, представляя еще один этап исторического развития России.\n",
      "Изображению дореформенной России, которую Гончаров хорошо знал и понимал.\n",
      "[1, 0, 0, 0, 0, 1, 1, 0, 1, 1, 1, 0, 0, 0]\n"
     ]
    },
    {
     "name": "stderr",
     "output_type": "stream",
     "text": [
      "101it [04:45,  3.35s/it, BLEU2=0.262, BLEU1=0.317, ExactMatch=0.0115, METEOR=0.505, BertScore=nan, StubScore=0.429]"
     ]
    },
    {
     "name": "stdout",
     "output_type": "stream",
     "text": [
      "True\n",
      "1. [0.112] Общественные финансы связаны с деятельностью правительства или местных властей, которая включает получение и использование средств, необходимых для выполнения соответствующих функций.\n",
      "Деятельность официальных органов по получению и применению финансовых средств осуществляется для выполнения надлежащих функций.\n",
      "[1, 0, 0, 0, 0, 1, 1, 0, 1, 1, 1, 0, 0, 0]\n"
     ]
    },
    {
     "name": "stderr",
     "output_type": "stream",
     "text": [
      "102it [04:46,  2.72s/it, BLEU2=0.269, BLEU1=0.324, ExactMatch=0.0114, METEOR=0.51, BertScore=nan, StubScore=0.429] "
     ]
    },
    {
     "name": "stdout",
     "output_type": "stream",
     "text": [
      "True\n",
      "Согласно некоторым авторам, предмет общественных финансов находится на границе между экономикой и политикой.\n",
      "Согласно некоторым авторам, предмет общественных финансов лежит на границе между экономикой и политикой.\n",
      "[1, 0, 0, 0, 0, 1, 1, 0, 1, 1, 1, 0, 0, 0]\n"
     ]
    },
    {
     "name": "stderr",
     "output_type": "stream",
     "text": [
      "103it [04:59,  5.74s/it, BLEU2=0.267, BLEU1=0.32, ExactMatch=0.0112, METEOR=0.506, BertScore=nan, StubScore=0.429]"
     ]
    },
    {
     "name": "stdout",
     "output_type": "stream",
     "text": [
      "True\n",
      "1. [0.107] Общественные финансы связаны с деятельностью правительства или местных властей, которые получают и используют средства для выполнения своих функций. Они включают в себя процесс и механизм формирования и использования государственных ресурсов, а также баланс доходов и расходов, а также административный контроль.\n",
      "\n",
      "2. [0.166] Общественные финансы также включают в себя вопросы капитала, прибыли, доходов и расходов предприятий и частных лиц. В результате, термин финансы стал охватывать более широкий спектр тем, чем изначально, включая вопросы капитала, прибыли, доходов и расходов для предприятий и частных лиц.\n",
      "\n",
      "3. [0.167] Социальный институт, связанный с общественными финансами, представляет собой совокупность организаций, учреждений и лиц, которые действуют в рамках таких учреждений, как университеты, министерства или государственные комитеты, которые имеют определенные материальные средства и выполняют определенные социальные функции.\n",
      "Общественные финансы связываются с деятельностью государства или местной власти.\n",
      "[1, 0, 0, 0, 0, 1, 1, 0, 1, 1, 1, 0, 0, 0]\n"
     ]
    },
    {
     "name": "stderr",
     "output_type": "stream",
     "text": [
      "104it [05:00,  4.35s/it, BLEU2=0.266, BLEU1=0.321, ExactMatch=0.0111, METEOR=0.508, BertScore=nan, StubScore=0.429]"
     ]
    },
    {
     "name": "stdout",
     "output_type": "stream",
     "text": [
      "True\n",
      "В конце XIX века русский витраж претерпел значительные изменения.\n",
      "Русский витраж претерпел особые изменения в конце девятнадцатого века.\n",
      "[1, 0, 0, 0, 0, 1, 1, 0, 1, 1, 1, 0, 0, 0]\n"
     ]
    },
    {
     "name": "stderr",
     "output_type": "stream",
     "text": [
      "105it [05:03,  3.93s/it, BLEU2=0.267, BLEU1=0.322, ExactMatch=0.011, METEOR=0.507, BertScore=nan, StubScore=0.429] "
     ]
    },
    {
     "name": "stdout",
     "output_type": "stream",
     "text": [
      "True\n",
      "Современное витражное стекло может быть изготовлено с использованием различных техник и иметь различные свойства. Оно может быть прозрачным или непрозрачным, однотонным или смесью различных цветов и текстур.\n",
      "Современное витражное стекло может быть прозрачным и глухим, однородного цвета и смесью различных цветов и оттенков одного цвета, гладким и с разнообразной фактурой.\n",
      "[1, 0, 0, 0, 0, 1, 1, 0, 1, 1, 1, 0, 0, 0]\n"
     ]
    },
    {
     "name": "stderr",
     "output_type": "stream",
     "text": [
      "106it [05:06,  3.79s/it, BLEU2=0.264, BLEU1=0.319, ExactMatch=0.0109, METEOR=0.502, BertScore=nan, StubScore=0.429]"
     ]
    },
    {
     "name": "stdout",
     "output_type": "stream",
     "text": [
      "True\n",
      "[0.126] Русские витражи конца XIX - начала XX веков отражали основные принципы стиля модерн[10]. Основой его художественной и декоративной практики было подражание природным формам во всем их разнообразии.\n",
      "Символом русского витража 19-ого века стала многофигурная композиция в огромном окне-экране главного фасада Торгового дома братьев Елисеевых на Невском проспекте. Она выражала идеи богатства страны, национальной самобытности и включенности России в общеевропейскую культуру.\n",
      "[1, 0, 0, 0, 0, 1, 1, 0, 1, 1, 1, 0, 0, 0]\n"
     ]
    },
    {
     "name": "stderr",
     "output_type": "stream",
     "text": [
      "107it [05:09,  3.41s/it, BLEU2=0.267, BLEU1=0.322, ExactMatch=0.0108, METEOR=0.506, BertScore=nan, StubScore=0.429]"
     ]
    },
    {
     "name": "stdout",
     "output_type": "stream",
     "text": [
      "True\n",
      "Программным произведением, отражающим русское витражное искусство в XIX веке, стало художественное остекление Торгового дома братьев Елисеевых на Невском проспекте.\n",
      "Художественное остекление Торгового дома братьев Елисеевых на Невском проспекте отразило русское витражное искусство в 19-ом веке.\n",
      "[1, 0, 0, 0, 0, 1, 1, 0, 1, 1, 1, 0, 0, 0]\n",
      "False\n",
      "В 19 веке Императорский стекольный завод сыграл значительную роль в развитии русского витража. Под руководством Николая I завод начал производить одноцветные стеклянные пластины без росписи. Позже они начали экспериментировать с разноцветными стеклами и простыми геометрическими узорами, создавая витражи, которые использовались в различных зданиях в России.\n",
      "Джон Ла Фарж и Луис Тиффани внесли значительный вклад в развитие русского витража в 19-ом веке.\n"
     ]
    },
    {
     "name": "stderr",
     "output_type": "stream",
     "text": [
      "108it [05:17,  4.80s/it, BLEU2=0.267, BLEU1=0.322, ExactMatch=0.0108, METEOR=0.506, BertScore=nan, StubScore=0.4]  "
     ]
    },
    {
     "name": "stdout",
     "output_type": "stream",
     "text": [
      "[1, 0, 0, 0, 0, 1, 1, 0, 1, 1, 1, 0, 0, 0, 0]\n"
     ]
    },
    {
     "name": "stderr",
     "output_type": "stream",
     "text": [
      "109it [05:19,  3.85s/it, BLEU2=0.266, BLEU1=0.321, ExactMatch=0.0106, METEOR=0.505, BertScore=nan, StubScore=0.4]"
     ]
    },
    {
     "name": "stdout",
     "output_type": "stream",
     "text": [
      "True\n",
      "Согласно теории образования Монтеня, преподавание должно проводиться двумя способами: через беседы и с помощью книг.\n",
      "То путём собеседования, то с помощью книг должно проводится преподавание, по теории Монтеня.\n",
      "[1, 0, 0, 0, 0, 1, 1, 0, 1, 1, 1, 0, 0, 0, 0]\n",
      "False\n",
      "В апреле 2014 года Государственная Дума России приняла закон, который приравнивает блогеров и популярных пользователей социальных сетей к средствам массовой информации. С 1 августа 2014 года будет создан специальный реестр авторов, чьи площадки ежедневно посещают более 3000 человек. После этого соответствующие этому требованию блогеры будут проинформированы, что, начиная с этого момента, они обязаны проверять достоверность публикуемой информации, соблюдать правила предвыборной агитации и маркировать свои издания по возрастной категории.\n",
      "Наставник будет указывать необходимых для прочтения авторов книг.\n"
     ]
    },
    {
     "name": "stderr",
     "output_type": "stream",
     "text": [
      "110it [05:28,  5.47s/it, BLEU2=0.266, BLEU1=0.321, ExactMatch=0.0106, METEOR=0.505, BertScore=nan, StubScore=0.375]"
     ]
    },
    {
     "name": "stdout",
     "output_type": "stream",
     "text": [
      "[1, 0, 0, 0, 0, 1, 1, 0, 1, 1, 1, 0, 0, 0, 0, 0]\n"
     ]
    },
    {
     "name": "stderr",
     "output_type": "stream",
     "text": [
      "111it [05:29,  4.24s/it, BLEU2=0.269, BLEU1=0.323, ExactMatch=0.0105, METEOR=0.508, BertScore=nan, StubScore=0.375]"
     ]
    },
    {
     "name": "stdout",
     "output_type": "stream",
     "text": [
      "True\n",
      "С основами логики, физики, геометрии и риторики.\n",
      "Необходимо ознакомить юношу с основами логики, физики, геометрии и риторики.\n",
      "[1, 0, 0, 0, 0, 1, 1, 0, 1, 1, 1, 0, 0, 0, 0, 0]\n"
     ]
    },
    {
     "name": "stderr",
     "output_type": "stream",
     "text": [
      "112it [05:40,  6.28s/it, BLEU2=0.266, BLEU1=0.32, ExactMatch=0.0104, METEOR=0.503, BertScore=nan, StubScore=0.375] "
     ]
    },
    {
     "name": "stdout",
     "output_type": "stream",
     "text": [
      "True\n",
      "[0.142] Пусть его душа будет привита благородным любопытством; пусть он стремится узнать всё без исключения; пусть он исследует всё, что только встретится ему на пути, будь то здание, фонтан, человек, поле битвы, на котором происходили древние сражения, или места, где проходили Цезарь или Карл Великий. После того как юноше будет разъяснено, что именно ему нужно, чтобы стать лучше и умнее, его следует познакомить с основами логики, физики, геометрии и риторики; и, какую бы из этих наук он ни выбрал, он быстро достигнет успехов, если его ум уже развит.\n",
      "Благородная любознательность должна быть привита душе обучаемого.\n",
      "[1, 0, 0, 0, 0, 1, 1, 0, 1, 1, 1, 0, 0, 0, 0, 0]\n",
      "False\n",
      "В статье рассматривается педагогическая теория, разработанная Яном Амосом Коменским.\n",
      "В статье рассматривалась педагогическая теория Мишеля Монтеня.\n"
     ]
    },
    {
     "name": "stderr",
     "output_type": "stream",
     "text": [
      "113it [05:44,  5.49s/it, BLEU2=0.266, BLEU1=0.32, ExactMatch=0.0104, METEOR=0.503, BertScore=nan, StubScore=0.353]"
     ]
    },
    {
     "name": "stdout",
     "output_type": "stream",
     "text": [
      "[1, 0, 0, 0, 0, 1, 1, 0, 1, 1, 1, 0, 0, 0, 0, 0, 0]\n"
     ]
    },
    {
     "name": "stderr",
     "output_type": "stream",
     "text": [
      "114it [05:49,  5.46s/it, BLEU2=0.264, BLEU1=0.318, ExactMatch=0.0103, METEOR=0.504, BertScore=nan, StubScore=0.353]"
     ]
    },
    {
     "name": "stdout",
     "output_type": "stream",
     "text": [
      "True\n",
      "1. [0.123] Рабочая форма одноцепочечной молекулы РНК, как и у белков, часто обладает третичной структурой. Третичная структура образуется из элементов вторичной структуры, образованных водородными связями внутри одной молекулы. Различают несколько типов элементов вторичной структуры - стебель-петли, петли и псевдоузлы[20].\n",
      "Бывают типы элементов вторичной структуры: стебель-петли, петли и псевдоузлы.\n",
      "[1, 0, 0, 0, 0, 1, 1, 0, 1, 1, 1, 0, 0, 0, 0, 0, 0]\n"
     ]
    },
    {
     "name": "stderr",
     "output_type": "stream",
     "text": [
      "115it [05:51,  4.42s/it, BLEU2=0.266, BLEU1=0.32, ExactMatch=0.0102, METEOR=0.506, BertScore=nan, StubScore=0.353] "
     ]
    },
    {
     "name": "stdout",
     "output_type": "stream",
     "text": [
      "True\n",
      "1. [0.115] Эффективные программы для предсказания вторичной структуры РНК и белков включают mfold.\n",
      "Для предсказания вторичной структуры РНК и белков существуют эффективные программы, такие как mfold.\n",
      "[1, 0, 0, 0, 0, 1, 1, 0, 1, 1, 1, 0, 0, 0, 0, 0, 0]\n"
     ]
    },
    {
     "name": "stderr",
     "output_type": "stream",
     "text": [
      "116it [05:57,  4.68s/it, BLEU2=0.265, BLEU1=0.319, ExactMatch=0.0101, METEOR=0.507, BertScore=nan, StubScore=0.353]"
     ]
    },
    {
     "name": "stdout",
     "output_type": "stream",
     "text": [
      "True\n",
      "1. [0.078] Рабочая форма одноцепочечной молекулы РНК, как и у белков, часто обладает третичной структурой. Третичная структура образуется из элементов вторичной структуры, образованных водородными связями внутри одной молекулы. Существуют различные типы элементов вторичной структуры, такие как стебель-петли, петли и псевдоузлы.\n",
      "Рабочая форма одноцепочечной молекулы РНК обладает третичной структурой.\n",
      "[1, 0, 0, 0, 0, 1, 1, 0, 1, 1, 1, 0, 0, 0, 0, 0, 0]\n"
     ]
    },
    {
     "name": "stderr",
     "output_type": "stream",
     "text": [
      "117it [05:58,  3.75s/it, BLEU2=0.267, BLEU1=0.321, ExactMatch=0.01, METEOR=0.509, BertScore=nan, StubScore=0.353]  "
     ]
    },
    {
     "name": "stdout",
     "output_type": "stream",
     "text": [
      "True\n",
      "Третичная структура образуется на основе элементов вторичной структуры, образованных водородными связями внутри одной молекулы.\n",
      "На основе элементов вторичной структуры, образуемой с помощью водородных связей внутри одной молекулы.\n",
      "[1, 0, 0, 0, 0, 1, 1, 0, 1, 1, 1, 0, 0, 0, 0, 0, 0]\n"
     ]
    },
    {
     "name": "stderr",
     "output_type": "stream",
     "text": [
      "118it [06:04,  4.35s/it, BLEU2=0.265, BLEU1=0.319, ExactMatch=0.0099, METEOR=0.51, BertScore=nan, StubScore=0.353]"
     ]
    },
    {
     "name": "stdout",
     "output_type": "stream",
     "text": [
      "True\n",
      "1. [0.12] Рабочая форма одноцепочечной молекулы РНК, как и у белков, часто обладает третичной структурой. Третичная структура образуется на основе элементов вторичной структуры, образованных водородными связями внутри одной молекулы. Различают несколько типов элементов вторичной структуры — стебель-петли, петли и псевдоузлы[20].\n",
      "Стебель-петли, петли и псевдоузлы типы элементов вторичной структуры РНК.\n",
      "[1, 0, 0, 0, 0, 1, 1, 0, 1, 1, 1, 0, 0, 0, 0, 0, 0]\n"
     ]
    },
    {
     "name": "stderr",
     "output_type": "stream",
     "text": [
      "119it [06:12,  5.42s/it, BLEU2=0.263, BLEU1=0.316, ExactMatch=0.0098, METEOR=0.506, BertScore=nan, StubScore=0.353]"
     ]
    },
    {
     "name": "stdout",
     "output_type": "stream",
     "text": [
      "True\n",
      "[0.162] Идеология народничества основывалась на системе самобытности и самобытном пути развития России к социализму, минуя капитализм[неуказанный источник]. Объективными условиями появления этой идеи в России стали слабое развитие капитализма и наличие крестьянской общинной собственности на землю. Основы этой русской социалистической идеи были сформулированы на рубеже 1840-50-х годов А. И. Герценом.\n",
      "Народники называли Герцена основоположником, предтечей народничества.\n",
      "[1, 0, 0, 0, 0, 1, 1, 0, 1, 1, 1, 0, 0, 0, 0, 0, 0]\n"
     ]
    },
    {
     "name": "stderr",
     "output_type": "stream",
     "text": [
      "120it [06:15,  4.66s/it, BLEU2=0.265, BLEU1=0.318, ExactMatch=0.00971, METEOR=0.508, BertScore=nan, StubScore=0.353]"
     ]
    },
    {
     "name": "stdout",
     "output_type": "stream",
     "text": [
      "True\n",
      "Одна из главных целей крестьянского социализма заключалась в освобождении крестьян от земли без выкупа, ликвидации помещичьего землевладения, введении крестьянского общинного самоуправления, независимого от местных властей, и демократизации страны.\n",
      "Одной из главных целей крестьянского социализма было освобождение крестьян с землей без выкупа, ликвидация помещичьего землевладения и введение крестьянского общинного самоуправления, независимого от местных властей.\n",
      "[1, 0, 0, 0, 0, 1, 1, 0, 1, 1, 1, 0, 0, 0, 0, 0, 0]\n"
     ]
    },
    {
     "name": "stderr",
     "output_type": "stream",
     "text": [
      "121it [06:16,  3.61s/it, BLEU2=0.264, BLEU1=0.318, ExactMatch=0.00962, METEOR=0.506, BertScore=nan, StubScore=0.353]"
     ]
    },
    {
     "name": "stdout",
     "output_type": "stream",
     "text": [
      "True\n",
      "Русский социализм Герцен называли \"крестьянским социализмом\".\n",
      "Русский социализм Герцена получил название крестьянского социализма.\n",
      "[1, 0, 0, 0, 0, 1, 1, 0, 1, 1, 1, 0, 0, 0, 0, 0, 0]\n",
      "False\n",
      "В 1870-х годах термин \"народничество\" относился к различным течениям общественного движения. Одним из таких течений было \"грубое шовинистическое и разнузданное инстинкты толпы\", которое иногда называли народничеством.\n",
      "Предтечей народничества называли Александра Герцена.\n"
     ]
    },
    {
     "name": "stderr",
     "output_type": "stream",
     "text": [
      "122it [06:23,  4.79s/it, BLEU2=0.264, BLEU1=0.318, ExactMatch=0.00962, METEOR=0.506, BertScore=nan, StubScore=0.333]"
     ]
    },
    {
     "name": "stdout",
     "output_type": "stream",
     "text": [
      "[1, 0, 0, 0, 0, 1, 1, 0, 1, 1, 1, 0, 0, 0, 0, 0, 0, 0]\n"
     ]
    },
    {
     "name": "stderr",
     "output_type": "stream",
     "text": [
      "123it [06:27,  4.44s/it, BLEU2=0.263, BLEU1=0.316, ExactMatch=0.00952, METEOR=0.506, BertScore=nan, StubScore=0.333]"
     ]
    },
    {
     "name": "stdout",
     "output_type": "stream",
     "text": [
      "True\n",
      "Русский социализм Герцен был направлен на освобождение крестьян от земли без выкупа, ликвидацию помещичьего землевладения, введение крестьянского общинного самоуправления, независимого от местных властей, демократизацию страны, развитие индивидуальных прав и сохранение неделимости земли.\n",
      "Русский социализм Герцена был направлен на крестьянство.\n",
      "[1, 0, 0, 0, 0, 1, 1, 0, 1, 1, 1, 0, 0, 0, 0, 0, 0, 0]\n"
     ]
    },
    {
     "name": "stderr",
     "output_type": "stream",
     "text": [
      "124it [06:29,  3.61s/it, BLEU2=0.266, BLEU1=0.319, ExactMatch=0.00943, METEOR=0.51, BertScore=nan, StubScore=0.333] "
     ]
    },
    {
     "name": "stdout",
     "output_type": "stream",
     "text": [
      "True\n",
      "Сериал \"Секретные материалы\" относится к жанру научной фантастики.\n",
      "Телесериал Секретные материалы относится к жанру научной фантастики.\n",
      "[1, 0, 0, 0, 0, 1, 1, 0, 1, 1, 1, 0, 0, 0, 0, 0, 0, 0]\n"
     ]
    },
    {
     "name": "stderr",
     "output_type": "stream",
     "text": [
      "125it [06:31,  3.11s/it, BLEU2=0.268, BLEU1=0.321, ExactMatch=0.00935, METEOR=0.512, BertScore=nan, StubScore=0.333]"
     ]
    },
    {
     "name": "stdout",
     "output_type": "stream",
     "text": [
      "True\n",
      "Сериал \"Секретные материалы\" стартовал 10 сентября 1993 года.\n",
      "Показ телесериала Секретные материалы стартовал 10 сентября 1993 года.\n",
      "[1, 0, 0, 0, 0, 1, 1, 0, 1, 1, 1, 0, 0, 0, 0, 0, 0, 0]\n"
     ]
    },
    {
     "name": "stderr",
     "output_type": "stream",
     "text": [
      "126it [06:32,  2.64s/it, BLEU2=0.266, BLEU1=0.32, ExactMatch=0.00926, METEOR=0.509, BertScore=nan, StubScore=0.333] "
     ]
    },
    {
     "name": "stdout",
     "output_type": "stream",
     "text": [
      "True\n",
      "В \"Секретных материалах\" было снято 202 эпизода.\n",
      "Было отснято 202 серии телесериала Секретные материалы.\n",
      "[1, 0, 0, 0, 0, 1, 1, 0, 1, 1, 1, 0, 0, 0, 0, 0, 0, 0]\n"
     ]
    },
    {
     "name": "stderr",
     "output_type": "stream",
     "text": [
      "127it [06:34,  2.29s/it, BLEU2=0.265, BLEU1=0.319, ExactMatch=0.00917, METEOR=0.509, BertScore=nan, StubScore=0.333]"
     ]
    },
    {
     "name": "stdout",
     "output_type": "stream",
     "text": [
      "True\n",
      "Фрэнк Спотниц написал около 50 эпизодов сериала.\n",
      "Около 50 эпизодов было написано Фрэнком Спотницом.\n",
      "[1, 0, 0, 0, 0, 1, 1, 0, 1, 1, 1, 0, 0, 0, 0, 0, 0, 0]\n"
     ]
    },
    {
     "name": "stderr",
     "output_type": "stream",
     "text": [
      "128it [06:35,  2.04s/it, BLEU2=0.269, BLEU1=0.323, ExactMatch=0.00909, METEOR=0.512, BertScore=nan, StubScore=0.333]"
     ]
    },
    {
     "name": "stdout",
     "output_type": "stream",
     "text": [
      "True\n",
      "Сериал \"Секретные материалы\" стал хитом на канале Fox.\n",
      "Сериал \"Секретные материалы\" стал хитом канал Fox.\n",
      "[1, 0, 0, 0, 0, 1, 1, 0, 1, 1, 1, 0, 0, 0, 0, 0, 0, 0]\n",
      "False\n",
      "В городе есть несколько мест, где проходят культурные мероприятия, такие как концерты, а также звуковые и световые шоу. Некоторые из этих мест включают:\n",
      "\n",
      "1. Музыкальный театр: это место известно проведением различных музыкальных мероприятий и концертов, а также здесь проходят звуковые и световые шоу.\n",
      "\n",
      "2. Драматический театр: это еще одно место, где проходят культурные мероприятия, такие как концерты, а также звуковые и световые шоу.\n",
      "\n",
      "3. Замковый театр: это место известно проведением культурных мероприятий, таких как концерты, а также здесь проходят звуковые и световые шоу.\n",
      "\n",
      "4. Музыкальные ансамбли: в городе есть 11 оркестров и 47 музыкальных ансамблей, которые выступают в различных местах, включая концертные залы и открытые площадки, где проходят звуковые и световые шоу.\n",
      "\n",
      "5. Джазовый клуб: это место, где проходят концерты живой музыки, а также здесь проходят звуковые и световые шоу.\n",
      "\n",
      "6. Культурные центры и студии: в городе есть несколько культурных центров и студий, где проходят концерты, а также здесь проходят звуковые и световые шоу.\n",
      "\n",
      "7. Выставочные залы и галереи: в более чем 10 выставочных залах и галеях города проходят культурные мероприятия, такие как концерты, а также здесь проходят звуковые и световые шоу.\n",
      "\n",
      "8. Рестораны и кафе: в многочисленных ресторанах и кафе города можно насладиться традиционными блюдами литовской и европейской кухни, а также замечательными сортами местного пива, а также здесь проходят звуковые и световые шоу.\n",
      "\n",
      "В целом, в городе есть множество мест, где проходят культурные мероприятия, такие как концерты, а также звуковые и световые шоу, что делает его отличным местом для любителей культуры.\n",
      "Культурные мероприятия проходят в старой венецианской крепости Палео Фрурио.\n"
     ]
    },
    {
     "name": "stderr",
     "output_type": "stream",
     "text": [
      "129it [07:07, 10.98s/it, BLEU2=0.269, BLEU1=0.323, ExactMatch=0.00909, METEOR=0.512, BertScore=nan, StubScore=0.368]"
     ]
    },
    {
     "name": "stdout",
     "output_type": "stream",
     "text": [
      "[1, 0, 0, 0, 0, 1, 1, 0, 1, 1, 1, 0, 0, 0, 0, 0, 0, 0, 1]\n",
      "False\n",
      "У меня нет ответа на ваш вопрос.\n",
      "Отреставрированный интерьер используется для проведения культурных мероприятий, таких как концерты, и звуковых и световых шоу.\n"
     ]
    },
    {
     "name": "stderr",
     "output_type": "stream",
     "text": [
      "130it [07:09,  8.25s/it, BLEU2=0.269, BLEU1=0.323, ExactMatch=0.00909, METEOR=0.512, BertScore=nan, StubScore=0.4]  "
     ]
    },
    {
     "name": "stdout",
     "output_type": "stream",
     "text": [
      "[1, 0, 0, 0, 0, 1, 1, 0, 1, 1, 1, 0, 0, 0, 0, 0, 0, 0, 1, 1]\n",
      "False\n",
      "У меня нет ответа на ваш вопрос.\n",
      "У подножия креста расположена церковь св. Георгия.\n"
     ]
    },
    {
     "name": "stderr",
     "output_type": "stream",
     "text": [
      "131it [07:11,  6.32s/it, BLEU2=0.269, BLEU1=0.323, ExactMatch=0.00909, METEOR=0.512, BertScore=nan, StubScore=0.429]"
     ]
    },
    {
     "name": "stdout",
     "output_type": "stream",
     "text": [
      "[1, 0, 0, 0, 0, 1, 1, 0, 1, 1, 1, 0, 0, 0, 0, 0, 0, 0, 1, 1, 1]\n",
      "False\n",
      "Керкира - это греческое название острова Коркира, который находится в Ионическом море. Он известен своим историческим значением, так как был связан с богом Посейдоном и богиней Асоп. Название Керкира было дано острову Посейдоном, который влюбился в Керкиру, дочь Асопа и речной нимфы Метопы. У них был ребенок по имени Феак, и население острова стало называться феаками.\n",
      "Нет информациия\n"
     ]
    },
    {
     "name": "stderr",
     "output_type": "stream",
     "text": [
      "132it [07:20,  7.19s/it, BLEU2=0.269, BLEU1=0.323, ExactMatch=0.00909, METEOR=0.512, BertScore=nan, StubScore=0.455]"
     ]
    },
    {
     "name": "stdout",
     "output_type": "stream",
     "text": [
      "[1, 0, 0, 0, 0, 1, 1, 0, 1, 1, 1, 0, 0, 0, 0, 0, 0, 0, 1, 1, 1, 1]\n"
     ]
    },
    {
     "name": "stderr",
     "output_type": "stream",
     "text": [
      "133it [07:23,  5.98s/it, BLEU2=0.267, BLEU1=0.322, ExactMatch=0.00901, METEOR=0.511, BertScore=nan, StubScore=0.455]"
     ]
    },
    {
     "name": "stdout",
     "output_type": "stream",
     "text": [
      "True\n",
      "В 1963 году The Beatles стали хорошо известны в Ливерпуле, но в 1964 году они достигли мировой славы.\n",
      "Первая слава к The Beatles пришла в Ливерпуле.\n",
      "[1, 0, 0, 0, 0, 1, 1, 0, 1, 1, 1, 0, 0, 0, 0, 0, 0, 0, 1, 1, 1, 1]\n"
     ]
    },
    {
     "name": "stderr",
     "output_type": "stream",
     "text": [
      "134it [07:26,  4.92s/it, BLEU2=0.266, BLEU1=0.32, ExactMatch=0.00893, METEOR=0.509, BertScore=nan, StubScore=0.455] "
     ]
    },
    {
     "name": "stdout",
     "output_type": "stream",
     "text": [
      "True\n",
      "В 1967 году Пол Маккартни взял на себя руководство группой The Beatles после смерти Брайана Эпштейна.\n",
      "Лидером группы The Beatles стал Леннон.\n",
      "[1, 0, 0, 0, 0, 1, 1, 0, 1, 1, 1, 0, 0, 0, 0, 0, 0, 0, 1, 1, 1, 1]\n"
     ]
    },
    {
     "name": "stderr",
     "output_type": "stream",
     "text": [
      "135it [07:26,  3.56s/it, BLEU2=0.264, BLEU1=0.317, ExactMatch=0.00885, METEOR=0.505, BertScore=nan, StubScore=0.455]"
     ]
    },
    {
     "name": "stdout",
     "output_type": "stream",
     "text": [
      "True\n",
      "1963\n",
      "The Beatles прославились в Ливерпуле весной 1963.\n",
      "[1, 0, 0, 0, 0, 1, 1, 0, 1, 1, 1, 0, 0, 0, 0, 0, 0, 0, 1, 1, 1, 1]\n"
     ]
    },
    {
     "name": "stderr",
     "output_type": "stream",
     "text": [
      "136it [07:27,  2.93s/it, BLEU2=0.267, BLEU1=0.321, ExactMatch=0.00877, METEOR=0.508, BertScore=nan, StubScore=0.455]"
     ]
    },
    {
     "name": "stdout",
     "output_type": "stream",
     "text": [
      "True\n",
      "В 1964 году к Битлз пришла мировая слава.\n",
      "В 1964 году к The Beatles пришла мировая слава.\n",
      "[1, 0, 0, 0, 0, 1, 1, 0, 1, 1, 1, 0, 0, 0, 0, 0, 0, 0, 1, 1, 1, 1]\n"
     ]
    },
    {
     "name": "stderr",
     "output_type": "stream",
     "text": [
      "137it [07:28,  2.37s/it, BLEU2=0.265, BLEU1=0.319, ExactMatch=0.0087, METEOR=0.506, BertScore=nan, StubScore=0.455] "
     ]
    },
    {
     "name": "stdout",
     "output_type": "stream",
     "text": [
      "True\n",
      "Октябрь 1963 года.\n",
      "В октябре 1963 года о The Beatles знала уже вся Британия.\n",
      "[1, 0, 0, 0, 0, 1, 1, 0, 1, 1, 1, 0, 0, 0, 0, 0, 0, 0, 1, 1, 1, 1]\n"
     ]
    },
    {
     "name": "stderr",
     "output_type": "stream",
     "text": [
      "138it [07:32,  2.59s/it, BLEU2=0.269, BLEU1=0.323, ExactMatch=0.00862, METEOR=0.508, BertScore=nan, StubScore=0.455]"
     ]
    },
    {
     "name": "stdout",
     "output_type": "stream",
     "text": [
      "True\n",
      "Торонто провел свою первую игру в сезоне 1917/18 против Монреаль Уондерерс 19 декабря 1917 года.\n",
      "Торонто провел свою первую игру в Национальной хоккейной лиге в сезоне 1917/18 против Монреаль Уондерерс 19 декабря 1917 года.\n",
      "[1, 0, 0, 0, 0, 1, 1, 0, 1, 1, 1, 0, 0, 0, 0, 0, 0, 0, 1, 1, 1, 1]\n",
      "False\n",
      "В сезоне 2001/02 лондонский клуб Уимблдон переехал в Милтон-Кейнс.\n",
      "Монреаль Канадиенс, Оттава Сенаторз и Торонто остались в лиге.\n"
     ]
    },
    {
     "name": "stderr",
     "output_type": "stream",
     "text": [
      "139it [07:36,  3.21s/it, BLEU2=0.269, BLEU1=0.323, ExactMatch=0.00862, METEOR=0.508, BertScore=nan, StubScore=0.435]"
     ]
    },
    {
     "name": "stdout",
     "output_type": "stream",
     "text": [
      "[1, 0, 0, 0, 0, 1, 1, 0, 1, 1, 1, 0, 0, 0, 0, 0, 0, 0, 1, 1, 1, 1, 0]\n"
     ]
    },
    {
     "name": "stderr",
     "output_type": "stream",
     "text": [
      "140it [07:39,  3.11s/it, BLEU2=0.274, BLEU1=0.327, ExactMatch=0.00855, METEOR=0.512, BertScore=nan, StubScore=0.435]"
     ]
    },
    {
     "name": "stdout",
     "output_type": "stream",
     "text": [
      "True\n",
      "Первая игра Торонто в Национальной хоккейной лиге в сезоне 1917/18 состоялась 19 декабря 1917 года.\n",
      "Первая игра Торонто в Национальной хоккейной лиге в сезоне 1917/18 была 19 декабря 1917.\n",
      "[1, 0, 0, 0, 0, 1, 1, 0, 1, 1, 1, 0, 0, 0, 0, 0, 0, 0, 1, 1, 1, 1, 0]\n"
     ]
    },
    {
     "name": "stderr",
     "output_type": "stream",
     "text": [
      "141it [07:42,  2.93s/it, BLEU2=0.277, BLEU1=0.33, ExactMatch=0.00847, METEOR=0.515, BertScore=nan, StubScore=0.435] "
     ]
    },
    {
     "name": "stdout",
     "output_type": "stream",
     "text": [
      "True\n",
      "Торонто забил 9 шайб в игре против Монреаль Уондерерс 19 декабря 1917 года.\n",
      "В игре против Монреаль Уондерерс 19 декабря 1917 Торонто забил девять шайб.\n",
      "[1, 0, 0, 0, 0, 1, 1, 0, 1, 1, 1, 0, 0, 0, 0, 0, 0, 0, 1, 1, 1, 1, 0]\n"
     ]
    },
    {
     "name": "stderr",
     "output_type": "stream",
     "text": [
      "142it [07:44,  2.66s/it, BLEU2=0.281, BLEU1=0.334, ExactMatch=0.0084, METEOR=0.518, BertScore=nan, StubScore=0.435]"
     ]
    },
    {
     "name": "stdout",
     "output_type": "stream",
     "text": [
      "True\n",
      "Торонто провел свою первую игру в Национальной хоккейной лиге в сезоне 1917-18.\n",
      "Торонто провел первую игру в Национальной хоккейной лиге в сезоне 1917/18.\n",
      "[1, 0, 0, 0, 0, 1, 1, 0, 1, 1, 1, 0, 0, 0, 0, 0, 0, 0, 1, 1, 1, 1, 0]\n"
     ]
    },
    {
     "name": "stderr",
     "output_type": "stream",
     "text": [
      "143it [07:46,  2.50s/it, BLEU2=0.284, BLEU1=0.338, ExactMatch=0.00833, METEOR=0.521, BertScore=nan, StubScore=0.435]"
     ]
    },
    {
     "name": "stdout",
     "output_type": "stream",
     "text": [
      "True\n",
      "Тяжелый звук краут-рока, наряду с работами Брайана Ино, оказал большое влияние на рок-музыку.\n",
      "Тяжелое звучание краут-рока, наряду с работами Брайана Ино, оказало большое влияние на рок-музыку.\n",
      "[1, 0, 0, 0, 0, 1, 1, 0, 1, 1, 1, 0, 0, 0, 0, 0, 0, 0, 1, 1, 1, 1, 0]\n"
     ]
    },
    {
     "name": "stderr",
     "output_type": "stream",
     "text": [
      "144it [07:47,  2.13s/it, BLEU2=0.288, BLEU1=0.342, ExactMatch=0.00826, METEOR=0.524, BertScore=nan, StubScore=0.435]"
     ]
    },
    {
     "name": "stdout",
     "output_type": "stream",
     "text": [
      "True\n",
      "Брайан Ино был клавишником группы Roxy Music.\n",
      "Брайан Ино был клавишником Roxy Music.\n",
      "[1, 0, 0, 0, 0, 1, 1, 0, 1, 1, 1, 0, 0, 0, 0, 0, 0, 0, 1, 1, 1, 1, 0]\n"
     ]
    },
    {
     "name": "stderr",
     "output_type": "stream",
     "text": [
      "145it [07:47,  1.60s/it, BLEU2=0.286, BLEU1=0.339, ExactMatch=0.0082, METEOR=0.52, BertScore=nan, StubScore=0.435]  "
     ]
    },
    {
     "name": "stdout",
     "output_type": "stream",
     "text": [
      "True\n",
      "1971\n",
      "Фильм Заводной апельсин был выпущен в 1971 году с саундтреком американского композитора Венди Карлоса.\n",
      "[1, 0, 0, 0, 0, 1, 1, 0, 1, 1, 1, 0, 0, 0, 0, 0, 0, 0, 1, 1, 1, 1, 0]\n"
     ]
    },
    {
     "name": "stderr",
     "output_type": "stream",
     "text": [
      "146it [07:50,  1.85s/it, BLEU2=0.288, BLEU1=0.341, ExactMatch=0.00813, METEOR=0.523, BertScore=nan, StubScore=0.435]"
     ]
    },
    {
     "name": "stdout",
     "output_type": "stream",
     "text": [
      "True\n",
      "Фильм, который был выпущен в 1971 году с саундтреком американского композитора Венди Карлоза, - \"Заводной апельсин\".\n",
      "Фильм Заводной апельсин в 1971 году был выпущен с саундтреком американского композитора Венди Карлоса.\n",
      "[1, 0, 0, 0, 0, 1, 1, 0, 1, 1, 1, 0, 0, 0, 0, 0, 0, 0, 1, 1, 1, 1, 0]\n"
     ]
    },
    {
     "name": "stderr",
     "output_type": "stream",
     "text": [
      "147it [07:52,  2.03s/it, BLEU2=0.288, BLEU1=0.342, ExactMatch=0.00806, METEOR=0.525, BertScore=nan, StubScore=0.435]"
     ]
    },
    {
     "name": "stdout",
     "output_type": "stream",
     "text": [
      "True\n",
      "Саймон Рейнольдс, музыкальный журналист, назвал саундтрек из фильма \"Заводной апельсин\" источником вдохновения.\n",
      "Музыкальный журналист Саймон Рейнольдс назвал саундтрек из фильма Заводной апельсин своим вдохновением.\n",
      "[1, 0, 0, 0, 0, 1, 1, 0, 1, 1, 1, 0, 0, 0, 0, 0, 0, 0, 1, 1, 1, 1, 0]\n",
      "False\n",
      "1. [0.141] В 1980 году группа \"Машина времени\" продолжала набирать популярность и успех. Они записали музыку и песни для нескольких фильмов и мультсериала, а также участвовали в новогодних огоньках. Однако внутри группы возник конфликт между участниками Андреем Макаревичем и Сергеем Кавагоэ, который привел к уходу Кавагоэ. Несмотря на это, \"Машина времени\" продолжала выступать и создавать музыку.\n",
      "Да, уже была группа „Машина времени“ в 1980-м году.\n"
     ]
    },
    {
     "name": "stderr",
     "output_type": "stream",
     "text": [
      "148it [08:04,  5.07s/it, BLEU2=0.288, BLEU1=0.342, ExactMatch=0.00806, METEOR=0.525, BertScore=nan, StubScore=0.417]"
     ]
    },
    {
     "name": "stdout",
     "output_type": "stream",
     "text": [
      "[1, 0, 0, 0, 0, 1, 1, 0, 1, 1, 1, 0, 0, 0, 0, 0, 0, 0, 1, 1, 1, 1, 0, 0]\n",
      "False\n",
      "Я не могу ответить на ваш вопрос, так как ни в одном из предоставленных текстов не упоминаются рок-группы, которые \"более порочны\" или гастролируют.\n",
      "„Локомотив ГТ“ разъезжал с концертами.\n"
     ]
    },
    {
     "name": "stderr",
     "output_type": "stream",
     "text": [
      "149it [08:10,  5.19s/it, BLEU2=0.288, BLEU1=0.342, ExactMatch=0.00806, METEOR=0.525, BertScore=nan, StubScore=0.4]  "
     ]
    },
    {
     "name": "stdout",
     "output_type": "stream",
     "text": [
      "[1, 0, 0, 0, 0, 1, 1, 0, 1, 1, 1, 0, 0, 0, 0, 0, 0, 0, 1, 1, 1, 1, 0, 0, 0]\n",
      "False\n",
      "\"Машина времени\" была уже на месте в 1972 году.\n",
      "Шел 1980-й год.\n"
     ]
    },
    {
     "name": "stderr",
     "output_type": "stream",
     "text": [
      "150it [08:14,  4.74s/it, BLEU2=0.288, BLEU1=0.342, ExactMatch=0.00806, METEOR=0.525, BertScore=nan, StubScore=0.385]"
     ]
    },
    {
     "name": "stdout",
     "output_type": "stream",
     "text": [
      "[1, 0, 0, 0, 0, 1, 1, 0, 1, 1, 1, 0, 0, 0, 0, 0, 0, 0, 1, 1, 1, 1, 0, 0, 0, 0]\n",
      "False\n",
      "В 1980 году музыка развивалась в различных направлениях, включая панк-рок, альтернативный рок и синти-поп. Панк-рок и альтернативный рок экспериментировали с новыми звуками электрогитары, в то время как синти-поп стал популярным жанром, использующим синтезаторные звуки. Некоторые известные группы того времени включали Joy Division, Sonic Youth и Machine Time.\n",
      "В 1980 году слушали западную музыку.\n"
     ]
    },
    {
     "name": "stderr",
     "output_type": "stream",
     "text": [
      "151it [08:23,  6.06s/it, BLEU2=0.288, BLEU1=0.342, ExactMatch=0.00806, METEOR=0.525, BertScore=nan, StubScore=0.407]"
     ]
    },
    {
     "name": "stdout",
     "output_type": "stream",
     "text": [
      "[1, 0, 0, 0, 0, 1, 1, 0, 1, 1, 1, 0, 0, 0, 0, 0, 0, 0, 1, 1, 1, 1, 0, 0, 0, 0, 1]\n",
      "False\n",
      "\"Машина времени\" была рок-группой, которая начала свое существование в 1970-х годах. Они были известны своим самостоятельным подходом к музыке, исполняя собственные композиции вместо кавер-версий популярных англоязычных хитов. Со временем их музыка эволюционировала, отражая более серьезные темы и социальные проблемы. Группа существует уже более четырех десятилетий и стала культовым явлением в российской рок-музыке.\n",
      "Это был такой ВИА, только немного позлее и чуть-чуть помоднее, чем ряд других.\n"
     ]
    },
    {
     "name": "stderr",
     "output_type": "stream",
     "text": [
      "152it [08:33,  7.46s/it, BLEU2=0.288, BLEU1=0.342, ExactMatch=0.00806, METEOR=0.525, BertScore=nan, StubScore=0.393]"
     ]
    },
    {
     "name": "stdout",
     "output_type": "stream",
     "text": [
      "[1, 0, 0, 0, 0, 1, 1, 0, 1, 1, 1, 0, 0, 0, 0, 0, 0, 0, 1, 1, 1, 1, 0, 0, 0, 0, 1, 0]\n"
     ]
    },
    {
     "name": "stderr",
     "output_type": "stream",
     "text": [
      "153it [08:35,  5.66s/it, BLEU2=0.289, BLEU1=0.343, ExactMatch=0.008, METEOR=0.526, BertScore=nan, StubScore=0.393]  "
     ]
    },
    {
     "name": "stdout",
     "output_type": "stream",
     "text": [
      "True\n",
      "Банк \"Югра\" лишился лицензии на осуществление банковских операций 28 июля 2017 года.\n",
      "28 июля 2017 года у Югры была отозвана лицензия на осуществление банковских операций.\n",
      "[1, 0, 0, 0, 0, 1, 1, 0, 1, 1, 1, 0, 0, 0, 0, 0, 0, 0, 1, 1, 1, 1, 0, 0, 0, 0, 1, 0]\n"
     ]
    },
    {
     "name": "stderr",
     "output_type": "stream",
     "text": [
      "154it [08:36,  4.27s/it, BLEU2=0.293, BLEU1=0.347, ExactMatch=0.00794, METEOR=0.529, BertScore=nan, StubScore=0.393]"
     ]
    },
    {
     "name": "stdout",
     "output_type": "stream",
     "text": [
      "True\n",
      "Штаб-квартира банка \"Югра\" находится в Москве.\n",
      "Штаб-квартира банка Югра находится в Москве.\n",
      "[1, 0, 0, 0, 0, 1, 1, 0, 1, 1, 1, 0, 0, 0, 0, 0, 0, 0, 1, 1, 1, 1, 0, 0, 0, 0, 1, 0]\n"
     ]
    },
    {
     "name": "stderr",
     "output_type": "stream",
     "text": [
      "155it [08:38,  3.50s/it, BLEU2=0.295, BLEU1=0.349, ExactMatch=0.00787, METEOR=0.533, BertScore=nan, StubScore=0.393]"
     ]
    },
    {
     "name": "stdout",
     "output_type": "stream",
     "text": [
      "True\n",
      "Банк \"Югра\" занимал 30-е место по размеру активов среди российских банков на июль 2016 года.\n",
      "По размеру активов среди российских банков на июль 2016 года Югра занимал 30-е место.\n",
      "[1, 0, 0, 0, 0, 1, 1, 0, 1, 1, 1, 0, 0, 0, 0, 0, 0, 0, 1, 1, 1, 1, 0, 0, 0, 0, 1, 0]\n",
      "False\n",
      "У меня нет ответа на ваш вопрос.\n",
      "Полное наименование — Публичное акционерное общество банк Югра.\n"
     ]
    },
    {
     "name": "stderr",
     "output_type": "stream",
     "text": [
      "156it [08:40,  3.08s/it, BLEU2=0.295, BLEU1=0.349, ExactMatch=0.00787, METEOR=0.533, BertScore=nan, StubScore=0.414]"
     ]
    },
    {
     "name": "stdout",
     "output_type": "stream",
     "text": [
      "[1, 0, 0, 0, 0, 1, 1, 0, 1, 1, 1, 0, 0, 0, 0, 0, 0, 0, 1, 1, 1, 1, 0, 0, 0, 0, 1, 0, 1]\n",
      "False\n",
      "1. [0.2] Югославы — общее название для всех народов Югославии, включающее сербов, хорватов, словенцев, мусульман, македонцев, черногорцев и юговенцев. Югославы также могут относиться к южным славянам и иногда к югословенцам.\n",
      "Это российский частный банк.\n"
     ]
    },
    {
     "name": "stderr",
     "output_type": "stream",
     "text": [
      "157it [08:48,  4.63s/it, BLEU2=0.295, BLEU1=0.349, ExactMatch=0.00787, METEOR=0.533, BertScore=nan, StubScore=0.4]  "
     ]
    },
    {
     "name": "stdout",
     "output_type": "stream",
     "text": [
      "[1, 0, 0, 0, 0, 1, 1, 0, 1, 1, 1, 0, 0, 0, 0, 0, 0, 0, 1, 1, 1, 1, 0, 0, 0, 0, 1, 0, 1, 0]\n"
     ]
    },
    {
     "name": "stderr",
     "output_type": "stream",
     "text": [
      "158it [08:49,  3.47s/it, BLEU2=0.293, BLEU1=0.347, ExactMatch=0.00781, METEOR=0.529, BertScore=nan, StubScore=0.4]"
     ]
    },
    {
     "name": "stdout",
     "output_type": "stream",
     "text": [
      "True\n",
      "У меня нет ответа на ваш вопрос.\n",
      "Макаревич пел честно и последовательно о самом злободневном.\n",
      "[1, 0, 0, 0, 0, 1, 1, 0, 1, 1, 1, 0, 0, 0, 0, 0, 0, 0, 1, 1, 1, 1, 0, 0, 0, 0, 1, 0, 1, 0]\n",
      "False\n",
      "[0.159] Прогрессивный рок (англ. Progressive rock, также известный как прог-рок, прогрессив и прог) - это стиль рок-музыки, характеризующийся усложнением музыкальных форм и творческим обогащением рок-музыки через диалог с другими направлениями музыкального искусства: академической музыкой, джазом, народной музыкой (европейской и восточной) и авангардом.\n",
      "Сейчас нужен более жёсткий, энергичный музыкальный язык.\n"
     ]
    },
    {
     "name": "stderr",
     "output_type": "stream",
     "text": [
      "159it [08:58,  5.35s/it, BLEU2=0.293, BLEU1=0.347, ExactMatch=0.00781, METEOR=0.529, BertScore=nan, StubScore=0.387]"
     ]
    },
    {
     "name": "stdout",
     "output_type": "stream",
     "text": [
      "[1, 0, 0, 0, 0, 1, 1, 0, 1, 1, 1, 0, 0, 0, 0, 0, 0, 0, 1, 1, 1, 1, 0, 0, 0, 0, 1, 0, 1, 0, 0]\n"
     ]
    },
    {
     "name": "stderr",
     "output_type": "stream",
     "text": [
      "160it [09:03,  5.03s/it, BLEU2=0.291, BLEU1=0.345, ExactMatch=0.00775, METEOR=0.528, BertScore=nan, StubScore=0.387]"
     ]
    },
    {
     "name": "stdout",
     "output_type": "stream",
     "text": [
      "True\n",
      "Макаревич пел о самых актуальных и повседневных темах, доказывая, что рок-музыка не имеет ничего общего с бессмысленной эстрадой. Его песни затрагивали различные темы, такие как социальные вопросы, личные переживания и даже юмор.\n",
      "Макаревич пел о самом злободневном.\n",
      "[1, 0, 0, 0, 0, 1, 1, 0, 1, 1, 1, 0, 0, 0, 0, 0, 0, 0, 1, 1, 1, 1, 0, 0, 0, 0, 1, 0, 1, 0, 0]\n"
     ]
    },
    {
     "name": "stderr",
     "output_type": "stream",
     "text": [
      "161it [09:09,  5.29s/it, BLEU2=0.29, BLEU1=0.344, ExactMatch=0.00769, METEOR=0.529, BertScore=nan, StubScore=0.387] "
     ]
    },
    {
     "name": "stdout",
     "output_type": "stream",
     "text": [
      "True\n",
      "[0.152] Я и мои сверстники выросли на песнях Андрея Макаревича. Для нас \"Машина времени\" - явление не только музыкальное, но и социальное. Макаревич пел честно и последовательно о самом насущном и доказал, что рок-музыка ничего общего не имеет с бессмысленной пустой эстрадой.\n",
      "Рок-музыка, в доказательстве Макаревича, ничего общего не имеет с бессмысленной пустой эстрадой.\n",
      "[1, 0, 0, 0, 0, 1, 1, 0, 1, 1, 1, 0, 0, 0, 0, 0, 0, 0, 1, 1, 1, 1, 0, 0, 0, 0, 1, 0, 1, 0, 0]\n",
      "False\n",
      "У меня нет ответа на ваш вопрос.\n",
      "Опыт „Машины времени“ незаменим для начинающих рок-музыкантов.\n"
     ]
    },
    {
     "name": "stderr",
     "output_type": "stream",
     "text": [
      "162it [09:11,  4.30s/it, BLEU2=0.29, BLEU1=0.344, ExactMatch=0.00769, METEOR=0.529, BertScore=nan, StubScore=0.406]"
     ]
    },
    {
     "name": "stdout",
     "output_type": "stream",
     "text": [
      "[1, 0, 0, 0, 0, 1, 1, 0, 1, 1, 1, 0, 0, 0, 0, 0, 0, 0, 1, 1, 1, 1, 0, 0, 0, 0, 1, 0, 1, 0, 0, 1]\n"
     ]
    },
    {
     "name": "stderr",
     "output_type": "stream",
     "text": [
      "163it [09:14,  4.08s/it, BLEU2=0.291, BLEU1=0.344, ExactMatch=0.00763, METEOR=0.528, BertScore=nan, StubScore=0.406]"
     ]
    },
    {
     "name": "stdout",
     "output_type": "stream",
     "text": [
      "True\n",
      "\"Опыт мисс Энн Дафффилд\" написан в стиле Шерлока Холмса.\n",
      "Рассказ „The Singularge Experience of Miss Anne Duffield“ написан в стиле Шерлока Холмса.\n",
      "[1, 0, 0, 0, 0, 1, 1, 0, 1, 1, 1, 0, 0, 0, 0, 0, 0, 0, 1, 1, 1, 1, 0, 0, 0, 0, 1, 0, 1, 0, 0, 1]\n",
      "False\n",
      "1. Литовская литература была написана на двух типах языков: на жемайтском и сувалкском диалектах литовского языка с орфографией (sz, cz, ł), распространенной на территории бывшего Великого княжества Литовского, и на местном диалекте литовского языка, который использовал готический шрифт, использование ß, ṣ, ℑ, ℭ и др., использование заглавной буквы в существительных, именах и собственных именах, а также буквы ě.\n",
      "\n",
      "2. Шотландская литература включала в себя множество языков, включая английский, шотландский гэльский, скотс, бретонский, французский, латинский и многие другие языки, на которых когда-либо писали в пределах границ современной Шотландии.\n",
      "\n",
      "3. Фламандская литература имела два течения: одно писало на французском, а другое на нидерландском. Самое известное произведение из первого течения - \"Легенда о Тиле Уленшпигеле и Ламме Гудзаке\" Шарля де Костера, написанная на фламандском языке.\n",
      "Половина книг на судне была на французском, половина — на английском языках.\n"
     ]
    },
    {
     "name": "stderr",
     "output_type": "stream",
     "text": [
      "164it [09:41, 10.75s/it, BLEU2=0.291, BLEU1=0.344, ExactMatch=0.00763, METEOR=0.528, BertScore=nan, StubScore=0.394]"
     ]
    },
    {
     "name": "stdout",
     "output_type": "stream",
     "text": [
      "[1, 0, 0, 0, 0, 1, 1, 0, 1, 1, 1, 0, 0, 0, 0, 0, 0, 0, 1, 1, 1, 1, 0, 0, 0, 0, 1, 0, 1, 0, 0, 1, 0]\n"
     ]
    },
    {
     "name": "stderr",
     "output_type": "stream",
     "text": [
      "165it [09:43,  8.16s/it, BLEU2=0.292, BLEU1=0.345, ExactMatch=0.00758, METEOR=0.529, BertScore=nan, StubScore=0.394]"
     ]
    },
    {
     "name": "stdout",
     "output_type": "stream",
     "text": [
      "True\n",
      "Джон Леннон провел три недели на Таити, читая рассказы о Шерлоке Холмсе.\n",
      "Джон Леннон провел три недели на Таити за чтением рассказов про Шерлока Холмса.\n",
      "[1, 0, 0, 0, 0, 1, 1, 0, 1, 1, 1, 0, 0, 0, 0, 0, 0, 0, 1, 1, 1, 1, 0, 0, 0, 0, 1, 0, 1, 0, 0, 1, 0]\n"
     ]
    },
    {
     "name": "stderr",
     "output_type": "stream",
     "text": [
      "166it [09:46,  6.66s/it, BLEU2=0.291, BLEU1=0.344, ExactMatch=0.00752, METEOR=0.527, BertScore=nan, StubScore=0.394]"
     ]
    },
    {
     "name": "stdout",
     "output_type": "stream",
     "text": [
      "True\n",
      "Джон Леннон написал рассказ о Шемроке Уомблсе после трех недель чтения на Таити о Шерлоке Холмсе.\n",
      "Джон Леннон написал рассказ „The Singularge Experience of Miss Anne Duffield“.\n",
      "[1, 0, 0, 0, 0, 1, 1, 0, 1, 1, 1, 0, 0, 0, 0, 0, 0, 0, 1, 1, 1, 1, 0, 0, 0, 0, 1, 0, 1, 0, 0, 1, 0]\n"
     ]
    },
    {
     "name": "stderr",
     "output_type": "stream",
     "text": [
      "167it [09:46,  4.87s/it, BLEU2=0.292, BLEU1=0.344, ExactMatch=0.00746, METEOR=0.528, BertScore=nan, StubScore=0.394]"
     ]
    },
    {
     "name": "stdout",
     "output_type": "stream",
     "text": [
      "True\n",
      "Джон Леннон.\n",
      "Это вспоминал Джон Леннон.\n",
      "[1, 0, 0, 0, 0, 1, 1, 0, 1, 1, 1, 0, 0, 0, 0, 0, 0, 0, 1, 1, 1, 1, 0, 0, 0, 0, 1, 0, 1, 0, 0, 1, 0]\n"
     ]
    },
    {
     "name": "stderr",
     "output_type": "stream",
     "text": [
      "168it [09:48,  3.88s/it, BLEU2=0.292, BLEU1=0.344, ExactMatch=0.00741, METEOR=0.528, BertScore=nan, StubScore=0.394]"
     ]
    },
    {
     "name": "stdout",
     "output_type": "stream",
     "text": [
      "True\n",
      "Группа \"Машина времени\" впервые гастролировала в крупном городе Ленинграде в 1981 году.\n",
      "Первые большие гастроли группы Машина времени были в городе Ленинград в 1981 году.\n",
      "[1, 0, 0, 0, 0, 1, 1, 0, 1, 1, 1, 0, 0, 0, 0, 0, 0, 0, 1, 1, 1, 1, 0, 0, 0, 0, 1, 0, 1, 0, 0, 1, 0]\n"
     ]
    },
    {
     "name": "stderr",
     "output_type": "stream",
     "text": [
      "169it [09:50,  3.22s/it, BLEU2=0.29, BLEU1=0.342, ExactMatch=0.00735, METEOR=0.526, BertScore=nan, StubScore=0.394] "
     ]
    },
    {
     "name": "stdout",
     "output_type": "stream",
     "text": [
      "True\n",
      "Я испытал шок, потому что увидел не просто рок-концерт, а произведение искусства.\n",
      "Автор текста описывает свое впечатление от концерта группы Машина времени в 81-м году как \"совершеннейший шок\", потому что он увидел не просто рок-концерт, не просто какое-то музыкальное представление, а это было \"какое-то вообще произведение искусства\".\n",
      "[1, 0, 0, 0, 0, 1, 1, 0, 1, 1, 1, 0, 0, 0, 0, 0, 0, 0, 1, 1, 1, 1, 0, 0, 0, 0, 1, 0, 1, 0, 0, 1, 0]\n"
     ]
    },
    {
     "name": "stderr",
     "output_type": "stream",
     "text": [
      "170it [09:51,  2.75s/it, BLEU2=0.291, BLEU1=0.343, ExactMatch=0.0073, METEOR=0.526, BertScore=nan, StubScore=0.394]"
     ]
    },
    {
     "name": "stdout",
     "output_type": "stream",
     "text": [
      "True\n",
      "Машина времени имела свои первые большие гастроли в Ленинграде в 1981 году.\n",
      "В 81-м году у группы Машина времени были первые большие гастроли в Ленинграде.\n",
      "[1, 0, 0, 0, 0, 1, 1, 0, 1, 1, 1, 0, 0, 0, 0, 0, 0, 0, 1, 1, 1, 1, 0, 0, 0, 0, 1, 0, 1, 0, 0, 1, 0]\n",
      "False\n",
      "1\n",
      "Товарищи автора, ходившие с ним на концерт были из театрального института.\n"
     ]
    },
    {
     "name": "stderr",
     "output_type": "stream",
     "text": [
      "171it [09:54,  2.63s/it, BLEU2=0.291, BLEU1=0.343, ExactMatch=0.0073, METEOR=0.526, BertScore=nan, StubScore=0.382]"
     ]
    },
    {
     "name": "stdout",
     "output_type": "stream",
     "text": [
      "[1, 0, 0, 0, 0, 1, 1, 0, 1, 1, 1, 0, 0, 0, 0, 0, 0, 0, 1, 1, 1, 1, 0, 0, 0, 0, 1, 0, 1, 0, 0, 1, 0, 0]\n",
      "False\n",
      "Группа \"Машина времени\" выступила на концерте 81 года, который стал поворотным моментом для автора.\n",
      "Концерт 81 года группы Машина времени для автора определил его жизненный путь, так как он впервые увидел людей, играющих на гитарах и поющих песни, и они олицетворяли собой некую мечту, к которой он стремился.\n"
     ]
    },
    {
     "name": "stderr",
     "output_type": "stream",
     "text": [
      "172it [09:58,  3.10s/it, BLEU2=0.291, BLEU1=0.343, ExactMatch=0.0073, METEOR=0.526, BertScore=nan, StubScore=0.371]"
     ]
    },
    {
     "name": "stdout",
     "output_type": "stream",
     "text": [
      "[1, 0, 0, 0, 0, 1, 1, 0, 1, 1, 1, 0, 0, 0, 0, 0, 0, 0, 1, 1, 1, 1, 0, 0, 0, 0, 1, 0, 1, 0, 0, 1, 0, 0, 0]\n",
      "False\n",
      "Ранние песни Макаревича включали \"Право, кого ты хотел удивить?\", \"Кого ты хотел удивить?\", \"Свеча\", \"Будет день\", \"Хрустальный город\", \"Поворот\", \"Не дай себя обмануть\", \"Это может случиться с тобой\", \"Я не хочу быть героем\", \"Кто-то ждет\", \"Я хочу, чтобы ты знал\", \"Я хочу, чтобы ты знал\", \"Я хочу, чтобы ты знал\", \"Я хочу, чтобы ты знал\", \"Я хочу, чтобы ты знал\", \"Я хочу, чтобы ты знал\", \"Я хочу, чтобы ты знал\", \"Я хочу, чтобы ты знал\", \"Я хочу, чтобы ты знал\", \"Я хочу, чтобы ты знал\", \"Я хочу, чтобы ты знал\", \"Я хочу, чтобы ты знал\", \"Я хочу, чтобы ты знал\", \"Я хочу, чтобы ты знал\", \"Я хочу, чтобы ты знал\", \"Я хочу, чтобы ты знал\", \"Я хочу, чтобы ты знал\", \"Я хочу, чтобы ты знал\", \"Я хочу, чтобы ты знал\", \"Я хочу, чтобы ты знал\", \"Я хочу, чтобы ты знал\", \"Я хочу, чтобы ты знал\", \"Я хочу, чтобы ты знал\", \"Я хочу, чтобы ты знал\", \"Я хочу, чтобы ты знал\", \"Я хочу, чтобы ты знал\", \"Я хочу, чтобы ты знал\", \"Я хочу,чтобы ты знал\", \"Я хочу, чтобы ты знал\", \"Я хочу, чтобы ты знал\", \"Я хочу, чтобы ты знал\", \"Я хочу, чтобы ты знал\", \"Я хочу, чтобы ты знал\", \"Я хочу, чтобы ты знал\", \"Я хочу, чтобы ты знал\", \"Я хочу, чтобы ты знал\", \"Я хочу, чтобы ты знал\", \"Я хочу, чтобы ты знал\", \"Я хочу,чтобы ты знал\", \"Я хочу, чтобы ты знал\", \"Я хочу, чтобы ты знал\", \"Я хочу, чтобы ты знал\", \"Я хочу,чтобы ты знал\", \"Я хочу, чтобы ты знал\", \"Я хочу,чтобы ты знал\", \"Я хочу,чтобы ты знал\", \"Я хочу,чтобы ты знал\", \"Я хочу,чтобы ты знал\", \"Я хочу,чтобы ты знал\", \"Я хочу,чтобы ты знал\", \"Я хочу,чтобы ты знал\", \"Я хочу,чтобы ты знал\", \"Я хочу,чтобы ты знал\", \"Я хочу,чтобы ты знал\", \"Я хочу,чтобы ты знал\", \"Я\n",
      "Ранние песни Макаревича были в основном чисто лирическими или шуточными.\n"
     ]
    },
    {
     "name": "stderr",
     "output_type": "stream",
     "text": [
      "173it [10:49, 17.42s/it, BLEU2=0.291, BLEU1=0.343, ExactMatch=0.0073, METEOR=0.526, BertScore=nan, StubScore=0.361]"
     ]
    },
    {
     "name": "stdout",
     "output_type": "stream",
     "text": [
      "[1, 0, 0, 0, 0, 1, 1, 0, 1, 1, 1, 0, 0, 0, 0, 0, 0, 0, 1, 1, 1, 1, 0, 0, 0, 0, 1, 0, 1, 0, 0, 1, 0, 0, 0, 0]\n"
     ]
    },
    {
     "name": "stderr",
     "output_type": "stream",
     "text": [
      "174it [10:54, 13.66s/it, BLEU2=0.289, BLEU1=0.341, ExactMatch=0.00725, METEOR=0.526, BertScore=nan, StubScore=0.361]"
     ]
    },
    {
     "name": "stdout",
     "output_type": "stream",
     "text": [
      "True\n",
      "\"Машина времени\" ориентировалась на собственный репертуар и самостоятельный подход, отличающий их от многих других любительских групп Москвы. Они стремились донести до аудитории смысл песен и вызвать размышления и дискуссии, вместо того чтобы просто развлекать их знакомыми рок-боевиками.\n",
      "„Машина времени“ ориентировалась на собственный репертуар.\n",
      "[1, 0, 0, 0, 0, 1, 1, 0, 1, 1, 1, 0, 0, 0, 0, 0, 0, 0, 1, 1, 1, 1, 0, 0, 0, 0, 1, 0, 1, 0, 0, 1, 0, 0, 0, 0]\n",
      "False\n",
      "\"Машина времени\" стала уникальным явлением в отечественной рок-музыке, существуя уже четыре десятилетия и развиваясь со временем. Они начали как советские \"Битлз\" и превратились в российских \"Роллинг Стоунз\", став иконами российской рок-культуры. Их дискография, наполненная хитами, стала саундтреком к советской и российской истории второй половины прошлого века. Группа воплощает в себе гуманистические принципы, которые впервые были внедрены в рок-культуру Джоном Ленноном и Полом Маккартни, и их наследие обеспечило им \"неприкасаемый\" статус в российской рок-музыке.\n",
      "\"Машина времени\" стала заметным явлением на нашей эстраде благодаря своему уникальному подходу к исполнению и собственному репертуару.\n"
     ]
    },
    {
     "name": "stderr",
     "output_type": "stream",
     "text": [
      "175it [11:07, 13.59s/it, BLEU2=0.289, BLEU1=0.341, ExactMatch=0.00725, METEOR=0.526, BertScore=nan, StubScore=0.378]"
     ]
    },
    {
     "name": "stdout",
     "output_type": "stream",
     "text": [
      "[1, 0, 0, 0, 0, 1, 1, 0, 1, 1, 1, 0, 0, 0, 0, 0, 0, 0, 1, 1, 1, 1, 0, 0, 0, 0, 1, 0, 1, 0, 0, 1, 0, 0, 0, 0, 1]\n"
     ]
    },
    {
     "name": "stderr",
     "output_type": "stream",
     "text": [
      "176it [11:09, 10.04s/it, BLEU2=0.289, BLEU1=0.342, ExactMatch=0.00719, METEOR=0.527, BertScore=nan, StubScore=0.378]"
     ]
    },
    {
     "name": "stdout",
     "output_type": "stream",
     "text": [
      "True\n",
      "\"Машина времени\" заставляла свою аудиторию задуматься, спорить и определять свое место в жизни.\n",
      "\"Машина времени\" заставляла аудиторию задуматься, и, возможно, даже поспорить.\n",
      "[1, 0, 0, 0, 0, 1, 1, 0, 1, 1, 1, 0, 0, 0, 0, 0, 0, 0, 1, 1, 1, 1, 0, 0, 0, 0, 1, 0, 1, 0, 0, 1, 0, 0, 0, 0, 1]\n"
     ]
    },
    {
     "name": "stderr",
     "output_type": "stream",
     "text": [
      "177it [11:10,  7.47s/it, BLEU2=0.287, BLEU1=0.342, ExactMatch=0.00714, METEOR=0.525, BertScore=nan, StubScore=0.378]"
     ]
    },
    {
     "name": "stdout",
     "output_type": "stream",
     "text": [
      "True\n",
      "\"Машина времени\" не исполняла англоязычные хиты.\n",
      "Ансамбль не исполнял англоязычные шлягеры.\n",
      "[1, 0, 0, 0, 0, 1, 1, 0, 1, 1, 1, 0, 0, 0, 0, 0, 0, 0, 1, 1, 1, 1, 0, 0, 0, 0, 1, 0, 1, 0, 0, 1, 0, 0, 0, 0, 1]\n",
      "False\n",
      "У меня нет ответа на ваш вопрос.\n",
      "Группа Машина времени исполняла песни в манере фолк-рок.\n"
     ]
    },
    {
     "name": "stderr",
     "output_type": "stream",
     "text": [
      "178it [11:12,  5.78s/it, BLEU2=0.287, BLEU1=0.342, ExactMatch=0.00714, METEOR=0.525, BertScore=nan, StubScore=0.395]"
     ]
    },
    {
     "name": "stdout",
     "output_type": "stream",
     "text": [
      "[1, 0, 0, 0, 0, 1, 1, 0, 1, 1, 1, 0, 0, 0, 0, 0, 0, 0, 1, 1, 1, 1, 0, 0, 0, 0, 1, 0, 1, 0, 0, 1, 0, 0, 0, 0, 1, 1]\n",
      "False\n",
      "Группа, которая наиболее близко соответствовала оригиналу в исполнении англоязычных песен зарубежных групп и исполнителей, была The Beatles.\n",
      "Максимально близкое к оригиналу воспроизведение англоязычных композиций зарубежных групп и исполнителей называлось \"фирмой\".\n"
     ]
    },
    {
     "name": "stderr",
     "output_type": "stream",
     "text": [
      "179it [11:16,  5.30s/it, BLEU2=0.287, BLEU1=0.342, ExactMatch=0.00714, METEOR=0.525, BertScore=nan, StubScore=0.385]"
     ]
    },
    {
     "name": "stdout",
     "output_type": "stream",
     "text": [
      "[1, 0, 0, 0, 0, 1, 1, 0, 1, 1, 1, 0, 0, 0, 0, 0, 0, 0, 1, 1, 1, 1, 0, 0, 0, 0, 1, 0, 1, 0, 0, 1, 0, 0, 0, 0, 1, 1, 0]\n"
     ]
    },
    {
     "name": "stderr",
     "output_type": "stream",
     "text": [
      "180it [11:17,  3.83s/it, BLEU2=0.285, BLEU1=0.339, ExactMatch=0.00709, METEOR=0.522, BertScore=nan, StubScore=0.385]"
     ]
    },
    {
     "name": "stdout",
     "output_type": "stream",
     "text": [
      "True\n",
      "Машина времени\n",
      "Группа \"Машина времени\", одной из первых, стала исполнять cвои cобcтвенные пеcни на руccком языке.\n",
      "[1, 0, 0, 0, 0, 1, 1, 0, 1, 1, 1, 0, 0, 0, 0, 0, 0, 0, 1, 1, 1, 1, 0, 0, 0, 0, 1, 0, 1, 0, 0, 1, 0, 0, 0, 0, 1, 1, 0]\n"
     ]
    },
    {
     "name": "stderr",
     "output_type": "stream",
     "text": [
      "181it [11:18,  3.03s/it, BLEU2=0.283, BLEU1=0.337, ExactMatch=0.00704, METEOR=0.52, BertScore=nan, StubScore=0.385] "
     ]
    },
    {
     "name": "stdout",
     "output_type": "stream",
     "text": [
      "True\n",
      "В середине 70-х годов.\n",
      "К середине 70-х общий техничеcкий и профеccиональный уровень многих отечеcтвенных рок-музыкантов начал заметно повышаться.\n",
      "[1, 0, 0, 0, 0, 1, 1, 0, 1, 1, 1, 0, 0, 0, 0, 0, 0, 0, 1, 1, 1, 1, 0, 0, 0, 0, 1, 0, 1, 0, 0, 1, 0, 0, 0, 0, 1, 1, 0]\n"
     ]
    },
    {
     "name": "stderr",
     "output_type": "stream",
     "text": [
      "182it [11:20,  2.82s/it, BLEU2=0.283, BLEU1=0.337, ExactMatch=0.00699, METEOR=0.519, BertScore=nan, StubScore=0.385]"
     ]
    },
    {
     "name": "stdout",
     "output_type": "stream",
     "text": [
      "True\n",
      "Андрей Макаревич был лидером московской школы, который был близок к поэтической лирике с уклоном в символизм.\n",
      "Лидеры моcковcкой школы, такие как А. Градский или А. Макаревич, были ближе к поэтичеcкой лирике c уклоном в символизм.\n",
      "[1, 0, 0, 0, 0, 1, 1, 0, 1, 1, 1, 0, 0, 0, 0, 0, 0, 0, 1, 1, 1, 1, 0, 0, 0, 0, 1, 0, 1, 0, 0, 1, 0, 0, 0, 0, 1, 1, 0]\n",
      "False\n",
      "В песнях \"Машины времени\" инструментальный базис используется для передачи смысла и эмоций песен, а также для создания уникального музыкального стиля, который отличает их от других рок-групп.\n",
      "Чтобы довести до сознания слушателей „текстовую“ надстройку.\n"
     ]
    },
    {
     "name": "stderr",
     "output_type": "stream",
     "text": [
      "183it [11:26,  3.65s/it, BLEU2=0.283, BLEU1=0.337, ExactMatch=0.00699, METEOR=0.519, BertScore=nan, StubScore=0.375]"
     ]
    },
    {
     "name": "stdout",
     "output_type": "stream",
     "text": [
      "[1, 0, 0, 0, 0, 1, 1, 0, 1, 1, 1, 0, 0, 0, 0, 0, 0, 0, 1, 1, 1, 1, 0, 0, 0, 0, 1, 0, 1, 0, 0, 1, 0, 0, 0, 0, 1, 1, 0, 0]\n"
     ]
    },
    {
     "name": "stderr",
     "output_type": "stream",
     "text": [
      "184it [11:29,  3.42s/it, BLEU2=0.282, BLEU1=0.336, ExactMatch=0.00694, METEOR=0.52, BertScore=nan, StubScore=0.375] "
     ]
    },
    {
     "name": "stdout",
     "output_type": "stream",
     "text": [
      "True\n",
      "[0.138] ... поэтическая стихия Макаревича ближе к литературной песне (Окуджава, Н. Матвеева), чем к року.\n",
      "Поэтическая стихия Макаревича близка к литературной песне.\n",
      "[1, 0, 0, 0, 0, 1, 1, 0, 1, 1, 1, 0, 0, 0, 0, 0, 0, 0, 1, 1, 1, 1, 0, 0, 0, 0, 1, 0, 1, 0, 0, 1, 0, 0, 0, 0, 1, 1, 0, 0]\n",
      "False\n",
      "Машина времени сыграла значительную роль в формировании российской рок-культуры и оставила неизгладимый след в отечественной музыке. Их музыка стала саундтреком к истории второй половины прошлого века, и их песни были популярны во всесоюзном масштабе. Группа смогла записать новые песни и гастролировать по стране в период с 1981 по 1986 год, несмотря на двойственное положение, когда им приходилось исполнять песни советских композиторов, хотя они этого не делали. Они также записали музыку для различных фильмов и мультсериала.\n",
      "Музыка у Машины времени играет явно подчиненную роль.\n"
     ]
    },
    {
     "name": "stderr",
     "output_type": "stream",
     "text": [
      "185it [11:42,  6.24s/it, BLEU2=0.282, BLEU1=0.336, ExactMatch=0.00694, METEOR=0.52, BertScore=nan, StubScore=0.39] "
     ]
    },
    {
     "name": "stdout",
     "output_type": "stream",
     "text": [
      "[1, 0, 0, 0, 0, 1, 1, 0, 1, 1, 1, 0, 0, 0, 0, 0, 0, 0, 1, 1, 1, 1, 0, 0, 0, 0, 1, 0, 1, 0, 0, 1, 0, 0, 0, 0, 1, 1, 0, 0, 1]\n"
     ]
    },
    {
     "name": "stderr",
     "output_type": "stream",
     "text": [
      "186it [11:44,  5.20s/it, BLEU2=0.282, BLEU1=0.336, ExactMatch=0.0069, METEOR=0.521, BertScore=nan, StubScore=0.39]"
     ]
    },
    {
     "name": "stdout",
     "output_type": "stream",
     "text": [
      "True\n",
      "[0.162] Резкие, эмоциональные, конкретные стихи В. Высоцкого соответствуют ритму и темпу рок-музыки.\n",
      "Стихи В. Высоцкого соответствуют рок-музыке.\n",
      "[1, 0, 0, 0, 0, 1, 1, 0, 1, 1, 1, 0, 0, 0, 0, 0, 0, 0, 1, 1, 1, 1, 0, 0, 0, 0, 1, 0, 1, 0, 0, 1, 0, 0, 0, 0, 1, 1, 0, 0, 1]\n",
      "False\n",
      "У меня нет ответа на ваш вопрос.\n",
      "Музыкальная стихия \"Машины времени\" - не чистый рок, а некая смесь рока, кантри, \"городских романсов\" и даже традиционной, образца \"Самоцветов\", ВИА-эстрады.\n"
     ]
    },
    {
     "name": "stderr",
     "output_type": "stream",
     "text": [
      "187it [11:46,  4.23s/it, BLEU2=0.282, BLEU1=0.336, ExactMatch=0.0069, METEOR=0.521, BertScore=nan, StubScore=0.405]"
     ]
    },
    {
     "name": "stdout",
     "output_type": "stream",
     "text": [
      "[1, 0, 0, 0, 0, 1, 1, 0, 1, 1, 1, 0, 0, 0, 0, 0, 0, 0, 1, 1, 1, 1, 0, 0, 0, 0, 1, 0, 1, 0, 0, 1, 0, 0, 0, 0, 1, 1, 0, 0, 1, 1]\n",
      "False\n",
      "У меня нет ответа на ваш вопрос.\n",
      "Макар с товарищами к сегодняшнему дню превратились в российских „роллингов“.\n"
     ]
    },
    {
     "name": "stderr",
     "output_type": "stream",
     "text": [
      "188it [11:48,  3.55s/it, BLEU2=0.282, BLEU1=0.336, ExactMatch=0.0069, METEOR=0.521, BertScore=nan, StubScore=0.419]"
     ]
    },
    {
     "name": "stdout",
     "output_type": "stream",
     "text": [
      "[1, 0, 0, 0, 0, 1, 1, 0, 1, 1, 1, 0, 0, 0, 0, 0, 0, 0, 1, 1, 1, 1, 0, 0, 0, 0, 1, 0, 1, 0, 0, 1, 0, 0, 0, 0, 1, 1, 0, 0, 1, 1, 1]\n",
      "False\n",
      "Машина времени начала свою деятельность как любительская группа в Москве в 1971 году. Состав группы был нестабильным, и менялся несколько раз. Первоначальными участниками были Андрей Макаревич (гитара и вокал), Сергей Кавагоэ (бас-гитара), Юрий Ильченко (вокал) и Игорь Мазаев (ударные). После ухода Ильченко и Мазаева, в группе остались Макаревич, Кавагоэ и Александр Кутиков (бас-гитара). Позже, в 1972 году, Кутиков был призван в армию, и Кавагоэ временно занял место барабанщика, пока не вернулся Кутиков. В первые годы группа выступала в бит-клубах и на различных мероприятиях.\n",
      "Деятельность участники группы Машина времени начинали как советские „битлы“.\n"
     ]
    },
    {
     "name": "stderr",
     "output_type": "stream",
     "text": [
      "189it [12:06,  7.77s/it, BLEU2=0.282, BLEU1=0.336, ExactMatch=0.0069, METEOR=0.521, BertScore=nan, StubScore=0.409]"
     ]
    },
    {
     "name": "stdout",
     "output_type": "stream",
     "text": [
      "[1, 0, 0, 0, 0, 1, 1, 0, 1, 1, 1, 0, 0, 0, 0, 0, 0, 0, 1, 1, 1, 1, 0, 0, 0, 0, 1, 0, 1, 0, 0, 1, 0, 0, 0, 0, 1, 1, 0, 0, 1, 1, 1, 0]\n"
     ]
    },
    {
     "name": "stderr",
     "output_type": "stream",
     "text": [
      "190it [12:08,  6.04s/it, BLEU2=0.28, BLEU1=0.334, ExactMatch=0.00685, METEOR=0.52, BertScore=nan, StubScore=0.409] "
     ]
    },
    {
     "name": "stdout",
     "output_type": "stream",
     "text": [
      "True\n",
      "\"Время\" - это телевизионная программа, которая является ровесником группы \"Машина времени\".\n",
      "Телепрограмма „Время“ ровесница группы Машина времени.\n",
      "[1, 0, 0, 0, 0, 1, 1, 0, 1, 1, 1, 0, 0, 0, 0, 0, 0, 0, 1, 1, 1, 1, 0, 0, 0, 0, 1, 0, 1, 0, 0, 1, 0, 0, 0, 0, 1, 1, 0, 0, 1, 1, 1, 0]\n",
      "False\n",
      "1975\n",
      "Группе Машина времени четыре десятилетия.\n"
     ]
    },
    {
     "name": "stderr",
     "output_type": "stream",
     "text": [
      "191it [12:10,  5.02s/it, BLEU2=0.28, BLEU1=0.334, ExactMatch=0.00685, METEOR=0.52, BertScore=nan, StubScore=0.4]  "
     ]
    },
    {
     "name": "stdout",
     "output_type": "stream",
     "text": [
      "[1, 0, 0, 0, 0, 1, 1, 0, 1, 1, 1, 0, 0, 0, 0, 0, 0, 0, 1, 1, 1, 1, 0, 0, 0, 0, 1, 0, 1, 0, 0, 1, 0, 0, 0, 0, 1, 1, 0, 0, 1, 1, 1, 0, 0]\n",
      "False\n",
      "[0.16] У певицы много рекордов чартов и хитов, занявших первые места в главных музыкальных чартах, включая песни, такие как Like a Virgin (1984), La Isla Bonita (1986), Like a Prayer (1989), Vogue (1990), Frozen (1998), Music (2000), Hung Up (2005) и 4 Minutes (2008)[10][11].\n",
      "Дискография и хиты группы \"Машина времени\" стали саундтреком к советско-российской истории второй половины прошлого века.\n"
     ]
    },
    {
     "name": "stderr",
     "output_type": "stream",
     "text": [
      "192it [12:23,  7.14s/it, BLEU2=0.28, BLEU1=0.334, ExactMatch=0.00685, METEOR=0.52, BertScore=nan, StubScore=0.413]"
     ]
    },
    {
     "name": "stdout",
     "output_type": "stream",
     "text": [
      "[1, 0, 0, 0, 0, 1, 1, 0, 1, 1, 1, 0, 0, 0, 0, 0, 0, 0, 1, 1, 1, 1, 0, 0, 0, 0, 1, 0, 1, 0, 0, 1, 0, 0, 0, 0, 1, 1, 0, 0, 1, 1, 1, 0, 0, 1]\n"
     ]
    },
    {
     "name": "stderr",
     "output_type": "stream",
     "text": [
      "193it [12:23,  5.23s/it, BLEU2=0.278, BLEU1=0.332, ExactMatch=0.0068, METEOR=0.517, BertScore=nan, StubScore=0.413]"
     ]
    },
    {
     "name": "stdout",
     "output_type": "stream",
     "text": [
      "True\n",
      "У меня нет ответа на ваш вопрос.\n",
      "В течение более полугода вся Россия облекается в белый цвет снежного савана.\n",
      "[1, 0, 0, 0, 0, 1, 1, 0, 1, 1, 1, 0, 0, 0, 0, 0, 0, 0, 1, 1, 1, 1, 0, 0, 0, 0, 1, 0, 1, 0, 0, 1, 0, 0, 0, 0, 1, 1, 0, 0, 1, 1, 1, 0, 0, 1]\n"
     ]
    },
    {
     "name": "stderr",
     "output_type": "stream",
     "text": [
      "194it [12:27,  4.63s/it, BLEU2=0.281, BLEU1=0.335, ExactMatch=0.00676, METEOR=0.518, BertScore=nan, StubScore=0.413]"
     ]
    },
    {
     "name": "stdout",
     "output_type": "stream",
     "text": [
      "True\n",
      "[0.163] Особое совещание под председательством К. Н. Посьета в 1896 году обсуждало вопрос о российском национальном флаге.\n",
      "Особое совещание под председательством К. Н. Посьета в 1896 году было для обсуждения вопроса о российском национальном флаге.\n",
      "[1, 0, 0, 0, 0, 1, 1, 0, 1, 1, 1, 0, 0, 0, 0, 0, 0, 0, 1, 1, 1, 1, 0, 0, 0, 0, 1, 0, 1, 0, 0, 1, 0, 0, 0, 0, 1, 1, 0, 0, 1, 1, 1, 0, 0, 1]\n"
     ]
    },
    {
     "name": "stderr",
     "output_type": "stream",
     "text": [
      "195it [12:28,  3.73s/it, BLEU2=0.28, BLEU1=0.335, ExactMatch=0.00671, METEOR=0.518, BertScore=nan, StubScore=0.413] "
     ]
    },
    {
     "name": "stdout",
     "output_type": "stream",
     "text": [
      "True\n",
      "Цвет, к которому, согласно поговоркам, видно уважение народа, - белый.\n",
      "Исходя из поговорок видно уважение народа к белому цвету.\n",
      "[1, 0, 0, 0, 0, 1, 1, 0, 1, 1, 1, 0, 0, 0, 0, 0, 0, 0, 1, 1, 1, 1, 0, 0, 0, 0, 1, 0, 1, 0, 0, 1, 0, 0, 0, 0, 1, 1, 0, 0, 1, 1, 1, 0, 0, 1]\n"
     ]
    },
    {
     "name": "stderr",
     "output_type": "stream",
     "text": [
      "196it [12:30,  3.19s/it, BLEU2=0.28, BLEU1=0.336, ExactMatch=0.00667, METEOR=0.519, BertScore=nan, StubScore=0.413]"
     ]
    },
    {
     "name": "stdout",
     "output_type": "stream",
     "text": [
      "True\n",
      "Цвета, которые необходимо использовать для эмблематического представления внешнего вида России, - белый, синий и красный.\n",
      "Для эмблематического выражения наружного вида России необходимо употребить цвета: белый, синий и красный.\n",
      "[1, 0, 0, 0, 0, 1, 1, 0, 1, 1, 1, 0, 0, 0, 0, 0, 0, 0, 1, 1, 1, 1, 0, 0, 0, 0, 1, 0, 1, 0, 0, 1, 0, 0, 0, 0, 1, 1, 0, 0, 1, 1, 1, 0, 0, 1]\n"
     ]
    },
    {
     "name": "stderr",
     "output_type": "stream",
     "text": [
      "197it [12:33,  3.08s/it, BLEU2=0.279, BLEU1=0.334, ExactMatch=0.00662, METEOR=0.516, BertScore=nan, StubScore=0.413]"
     ]
    },
    {
     "name": "stdout",
     "output_type": "stream",
     "text": [
      "True\n",
      "Какой цвет был определен в качестве эмблематического выражения внешнего вида России на основе решения Особого совещания 1896 года под председательством К. Н. Посьета?\n",
      "Белый цвет снежного савана, в который вся Россия облекается в течение более полугода.\n",
      "[1, 0, 0, 0, 0, 1, 1, 0, 1, 1, 1, 0, 0, 0, 0, 0, 0, 0, 1, 1, 1, 1, 0, 0, 0, 0, 1, 0, 1, 0, 0, 1, 0, 0, 0, 0, 1, 1, 0, 0, 1, 1, 1, 0, 0, 1]\n",
      "False\n",
      "Люди естественным образом тянутся к пути, присущему их материальному я, и противному их абсолютному я, как это описано в текстах 1 и 2.\n",
      "К простому человеческому добру и платят долгой и искренней памятью его носителям.\n"
     ]
    },
    {
     "name": "stderr",
     "output_type": "stream",
     "text": [
      "198it [12:38,  3.58s/it, BLEU2=0.279, BLEU1=0.334, ExactMatch=0.00662, METEOR=0.516, BertScore=nan, StubScore=0.404]"
     ]
    },
    {
     "name": "stdout",
     "output_type": "stream",
     "text": [
      "[1, 0, 0, 0, 0, 1, 1, 0, 1, 1, 1, 0, 0, 0, 0, 0, 0, 0, 1, 1, 1, 1, 0, 0, 0, 0, 1, 0, 1, 0, 0, 1, 0, 0, 0, 0, 1, 1, 0, 0, 1, 1, 1, 0, 0, 1, 0]\n",
      "False\n",
      "[0.171] В этом составе в 1969 году была сделана первая запись Time Machines, состоявшая из одиннадцати англоязычных песен, написанных участниками группы. Только одна песня из этого альбома — This Happened to Me — впоследствии, в 1996 г., была издана на сборнике Неизданное.\n",
      "Песня А. Макаревича о непостоянстве называется \" Я с детства склонен к перемене мест\".\n"
     ]
    },
    {
     "name": "stderr",
     "output_type": "stream",
     "text": [
      "199it [12:47,  5.17s/it, BLEU2=0.279, BLEU1=0.334, ExactMatch=0.00662, METEOR=0.516, BertScore=nan, StubScore=0.396]"
     ]
    },
    {
     "name": "stdout",
     "output_type": "stream",
     "text": [
      "[1, 0, 0, 0, 0, 1, 1, 0, 1, 1, 1, 0, 0, 0, 0, 0, 0, 0, 1, 1, 1, 1, 0, 0, 0, 0, 1, 0, 1, 0, 0, 1, 0, 0, 0, 0, 1, 1, 0, 0, 1, 1, 1, 0, 0, 1, 0, 0]\n"
     ]
    },
    {
     "name": "stderr",
     "output_type": "stream",
     "text": [
      "200it [12:49,  4.36s/it, BLEU2=0.277, BLEU1=0.333, ExactMatch=0.00658, METEOR=0.515, BertScore=nan, StubScore=0.396]"
     ]
    },
    {
     "name": "stdout",
     "output_type": "stream",
     "text": [
      "True\n",
      "\"Машина времени\" также несет в себе дух гуманизма, который был характерен для творчества Леннона и Маккартни.\n",
      "Леннон и Маккартни привнесли в рок-культуру гуманистическое искусство.\n",
      "[1, 0, 0, 0, 0, 1, 1, 0, 1, 1, 1, 0, 0, 0, 0, 0, 0, 0, 1, 1, 1, 1, 0, 0, 0, 0, 1, 0, 1, 0, 0, 1, 0, 0, 0, 0, 1, 1, 0, 0, 1, 1, 1, 0, 0, 1, 0, 0]\n"
     ]
    },
    {
     "name": "stderr",
     "output_type": "stream",
     "text": [
      "201it [12:53,  4.26s/it, BLEU2=0.275, BLEU1=0.33, ExactMatch=0.00654, METEOR=0.512, BertScore=nan, StubScore=0.396] "
     ]
    },
    {
     "name": "stdout",
     "output_type": "stream",
     "text": [
      "True\n",
      "Машина времени по-прежнему придерживается гуманистического принципа битловской эпохи, который заключается в интеграции его принципов в рок-культуру и продвижении человеческого достоинства и духовного начала в своей музыке.\n",
      "Музыкальное наследие „Машины времени“ привержено до сих пор гуманизму.\n",
      "[1, 0, 0, 0, 0, 1, 1, 0, 1, 1, 1, 0, 0, 0, 0, 0, 0, 0, 1, 1, 1, 1, 0, 0, 0, 0, 1, 0, 1, 0, 0, 1, 0, 0, 0, 0, 1, 1, 0, 0, 1, 1, 1, 0, 0, 1, 0, 0]\n"
     ]
    },
    {
     "name": "stderr",
     "output_type": "stream",
     "text": [
      "202it [12:59,  4.75s/it, BLEU2=0.273, BLEU1=0.329, ExactMatch=0.00649, METEOR=0.51, BertScore=nan, StubScore=0.396]"
     ]
    },
    {
     "name": "stdout",
     "output_type": "stream",
     "text": [
      "True\n",
      "\"Машина времени\" была возведена на пьедестал благодаря интеграции гуманистического искусства в их рок-культуру. Это произошло потому, что они были первыми, кто последовательно интегрировал принципы гуманизма в рок-культуру, что обеспечило им бессмертие и создало преданных последователей.\n",
      "На „неприкасаемый“ пьедестал возвела „Машину времени“ интеграция в нашу рок-культуру гумманистического искусства.\n",
      "[1, 0, 0, 0, 0, 1, 1, 0, 1, 1, 1, 0, 0, 0, 0, 0, 0, 0, 1, 1, 1, 1, 0, 0, 0, 0, 1, 0, 1, 0, 0, 1, 0, 0, 0, 0, 1, 1, 0, 0, 1, 1, 1, 0, 0, 1, 0, 0]\n"
     ]
    },
    {
     "name": "stderr",
     "output_type": "stream",
     "text": [
      "203it [12:59,  3.44s/it, BLEU2=0.271, BLEU1=0.326, ExactMatch=0.00645, METEOR=0.506, BertScore=nan, StubScore=0.396]"
     ]
    },
    {
     "name": "stdout",
     "output_type": "stream",
     "text": [
      "True\n",
      "1979\n",
      "Телесериал по мотивам фильма о Шерлоке Холмсе снят в 2000 году.\n",
      "[1, 0, 0, 0, 0, 1, 1, 0, 1, 1, 1, 0, 0, 0, 0, 0, 0, 0, 1, 1, 1, 1, 0, 0, 0, 0, 1, 0, 1, 0, 0, 1, 0, 0, 0, 0, 1, 1, 0, 0, 1, 1, 1, 0, 0, 1, 0, 0]\n"
     ]
    },
    {
     "name": "stderr",
     "output_type": "stream",
     "text": [
      "204it [13:00,  2.57s/it, BLEU2=0.27, BLEU1=0.324, ExactMatch=0.00641, METEOR=0.504, BertScore=nan, StubScore=0.396] "
     ]
    },
    {
     "name": "stdout",
     "output_type": "stream",
     "text": [
      "True\n",
      "Орден Британской империи\n",
      "Василий Ливанов за роли в фильмах о Шерлоке Холмсе отмечен орденом Британской империи.\n",
      "[1, 0, 0, 0, 0, 1, 1, 0, 1, 1, 1, 0, 0, 0, 0, 0, 0, 0, 1, 1, 1, 1, 0, 0, 0, 0, 1, 0, 1, 0, 0, 1, 0, 0, 0, 0, 1, 1, 0, 0, 1, 1, 1, 0, 0, 1, 0, 0]\n"
     ]
    },
    {
     "name": "stderr",
     "output_type": "stream",
     "text": [
      "205it [13:02,  2.58s/it, BLEU2=0.27, BLEU1=0.325, ExactMatch=0.00637, METEOR=0.505, BertScore=nan, StubScore=0.396]"
     ]
    },
    {
     "name": "stdout",
     "output_type": "stream",
     "text": [
      "True\n",
      "Название телесериала, основанного на фильме о Шерлоке Холмсе, - \"Воспоминания о Шерлоке Холмсе\".\n",
      "Телесериал, снятый по мотивам фильма о Шерлоке Холмсе носит название \"Воспоминания о Шерлоке Холмсе\".\n",
      "[1, 0, 0, 0, 0, 1, 1, 0, 1, 1, 1, 0, 0, 0, 0, 0, 0, 0, 1, 1, 1, 1, 0, 0, 0, 0, 1, 0, 1, 0, 0, 1, 0, 0, 0, 0, 1, 1, 0, 0, 1, 1, 1, 0, 0, 1, 0, 0]\n"
     ]
    },
    {
     "name": "stderr",
     "output_type": "stream",
     "text": [
      "206it [13:04,  2.39s/it, BLEU2=0.271, BLEU1=0.326, ExactMatch=0.00633, METEOR=0.505, BertScore=nan, StubScore=0.396]"
     ]
    },
    {
     "name": "stdout",
     "output_type": "stream",
     "text": [
      "True\n",
      "Василий Ливанов был награжден Орденом Британской империи 23 февраля 2006 года.\n",
      "Василий Ливанов награждён орденом Британской империи за роли в фильмах о Шерлоке Холмсе 23 февраля 2006 года.\n",
      "[1, 0, 0, 0, 0, 1, 1, 0, 1, 1, 1, 0, 0, 0, 0, 0, 0, 0, 1, 1, 1, 1, 0, 0, 0, 0, 1, 0, 1, 0, 0, 1, 0, 0, 0, 0, 1, 1, 0, 0, 1, 1, 1, 0, 0, 1, 0, 0]\n"
     ]
    },
    {
     "name": "stderr",
     "output_type": "stream",
     "text": [
      "207it [13:06,  2.24s/it, BLEU2=0.273, BLEU1=0.329, ExactMatch=0.00629, METEOR=0.508, BertScore=nan, StubScore=0.396]"
     ]
    },
    {
     "name": "stdout",
     "output_type": "stream",
     "text": [
      "True\n",
      "В советских фильмах о Шерлоке Холмсе главные роли исполнили Василий Ливанов и Виталий Соломин.\n",
      "Василий Ливанов и Виталий Соломин исполнили главные роли в советских фильмах о Шерлоке Холмсе.\n",
      "[1, 0, 0, 0, 0, 1, 1, 0, 1, 1, 1, 0, 0, 0, 0, 0, 0, 0, 1, 1, 1, 1, 0, 0, 0, 0, 1, 0, 1, 0, 0, 1, 0, 0, 0, 0, 1, 1, 0, 0, 1, 1, 1, 0, 0, 1, 0, 0]\n"
     ]
    },
    {
     "name": "stderr",
     "output_type": "stream",
     "text": [
      "208it [13:17,  4.83s/it, BLEU2=0.272, BLEU1=0.327, ExactMatch=0.00625, METEOR=0.508, BertScore=nan, StubScore=0.396]"
     ]
    },
    {
     "name": "stdout",
     "output_type": "stream",
     "text": [
      "True\n",
      "Внутренние части кратеров Эндимион, Юлий Цезарь, Витрувий, Питат, Гиппас, Тарутий, Теофил, Паррот, Флемстид, Архимед, Птолемей, Центральный бассейн, Араго, Буллиальд, Пикар, Тимохарис, Коперник, Прокл, Гиппарх, Местинг А, Мерсенн, Аристарх и центральный пик Аристарха упоминаются в тексте.\n",
      "Внутренние части и центральный пик кратера Аристарх.\n",
      "[1, 0, 0, 0, 0, 1, 1, 0, 1, 1, 1, 0, 0, 0, 0, 0, 0, 0, 1, 1, 1, 1, 0, 0, 0, 0, 1, 0, 1, 0, 0, 1, 0, 0, 0, 0, 1, 1, 0, 0, 1, 1, 1, 0, 0, 1, 0, 0]\n"
     ]
    },
    {
     "name": "stderr",
     "output_type": "stream",
     "text": [
      "209it [13:19,  3.85s/it, BLEU2=0.27, BLEU1=0.327, ExactMatch=0.00621, METEOR=0.509, BertScore=nan, StubScore=0.396] "
     ]
    },
    {
     "name": "stdout",
     "output_type": "stream",
     "text": [
      "True\n",
      "В тексте с оценкой 3½° упоминается внутренний участок кратера Архимед.\n",
      "Внутренняя часть кратера Архимед упоминается в тексте под 3½°.\n",
      "[1, 0, 0, 0, 0, 1, 1, 0, 1, 1, 1, 0, 0, 0, 0, 0, 0, 0, 1, 1, 1, 1, 0, 0, 0, 0, 1, 0, 1, 0, 0, 1, 0, 0, 0, 0, 1, 1, 0, 0, 1, 1, 1, 0, 0, 1, 0, 0]\n"
     ]
    },
    {
     "name": "stderr",
     "output_type": "stream",
     "text": [
      "210it [13:21,  3.33s/it, BLEU2=0.274, BLEU1=0.33, ExactMatch=0.00617, METEOR=0.511, BertScore=nan, StubScore=0.396]"
     ]
    },
    {
     "name": "stdout",
     "output_type": "stream",
     "text": [
      "True\n",
      "Пик Ласирис упоминается в тексте вместе с кратерами Теэтет и Зонгрен.\n",
      "Ла-Гира упоминается в тексте вместе с кратерами Теэтет и Зонгрен.\n",
      "[1, 0, 0, 0, 0, 1, 1, 0, 1, 1, 1, 0, 0, 0, 0, 0, 0, 0, 1, 1, 1, 1, 0, 0, 0, 0, 1, 0, 1, 0, 0, 1, 0, 0, 0, 0, 1, 1, 0, 0, 1, 1, 1, 0, 0, 1, 0, 0]\n"
     ]
    },
    {
     "name": "stderr",
     "output_type": "stream",
     "text": [
      "211it [13:24,  3.19s/it, BLEU2=0.274, BLEU1=0.331, ExactMatch=0.00613, METEOR=0.512, BertScore=nan, StubScore=0.396]"
     ]
    },
    {
     "name": "stdout",
     "output_type": "stream",
     "text": [
      "True\n",
      "Второй кратер, упомянутый в тексте вместе с кратером Гримальди, - это кратер Риччиоли.\n",
      "Риччоли упоминается в тексте вместе с кратером Гримальди.\n",
      "[1, 0, 0, 0, 0, 1, 1, 0, 1, 1, 1, 0, 0, 0, 0, 0, 0, 0, 1, 1, 1, 1, 0, 0, 0, 0, 1, 0, 1, 0, 0, 1, 0, 0, 0, 0, 1, 1, 0, 0, 1, 1, 1, 0, 0, 1, 0, 0]\n"
     ]
    },
    {
     "name": "stderr",
     "output_type": "stream",
     "text": [
      "212it [13:27,  3.07s/it, BLEU2=0.274, BLEU1=0.33, ExactMatch=0.0061, METEOR=0.512, BertScore=nan, StubScore=0.396]  "
     ]
    },
    {
     "name": "stdout",
     "output_type": "stream",
     "text": [
      "True\n",
      "В тексте с оценкой 4.5° упоминаются поверхности вокруг кратеров Аристилл, Центральный бассейн, Коперник и Пикар.\n",
      "Поверхность вокруг кратеров Аристилл, Центрального залива.\n",
      "[1, 0, 0, 0, 0, 1, 1, 0, 1, 1, 1, 0, 0, 0, 0, 0, 0, 0, 1, 1, 1, 1, 0, 0, 0, 0, 1, 0, 1, 0, 0, 1, 0, 0, 0, 0, 1, 1, 0, 0, 1, 1, 1, 0, 0, 1, 0, 0]\n"
     ]
    },
    {
     "name": "stderr",
     "output_type": "stream",
     "text": [
      "213it [13:27,  2.42s/it, BLEU2=0.273, BLEU1=0.329, ExactMatch=0.00606, METEOR=0.511, BertScore=nan, StubScore=0.396]"
     ]
    },
    {
     "name": "stdout",
     "output_type": "stream",
     "text": [
      "True\n",
      "1 апреля 1778 года\n",
      "Ла Файет присоединился 1 апреля 1778 года к главным силам Вашингтона.\n",
      "[1, 0, 0, 0, 0, 1, 1, 0, 1, 1, 1, 0, 0, 0, 0, 0, 0, 0, 1, 1, 1, 1, 0, 0, 0, 0, 1, 0, 1, 0, 0, 1, 0, 0, 0, 0, 1, 1, 0, 0, 1, 1, 1, 0, 0, 1, 0, 0]\n"
     ]
    },
    {
     "name": "stderr",
     "output_type": "stream",
     "text": [
      "214it [13:28,  1.96s/it, BLEU2=0.271, BLEU1=0.327, ExactMatch=0.00602, METEOR=0.508, BertScore=nan, StubScore=0.396]"
     ]
    },
    {
     "name": "stdout",
     "output_type": "stream",
     "text": [
      "True\n",
      "1 апреля 1778 года\n",
      "Ла Файет присоединился в Вэлли-Фодж к главным силам Вашингтона.\n",
      "[1, 0, 0, 0, 0, 1, 1, 0, 1, 1, 1, 0, 0, 0, 0, 0, 0, 0, 1, 1, 1, 1, 0, 0, 0, 0, 1, 0, 1, 0, 0, 1, 0, 0, 0, 0, 1, 1, 0, 0, 1, 1, 1, 0, 0, 1, 0, 0]\n"
     ]
    },
    {
     "name": "stderr",
     "output_type": "stream",
     "text": [
      "215it [13:31,  2.27s/it, BLEU2=0.273, BLEU1=0.329, ExactMatch=0.00599, METEOR=0.509, BertScore=nan, StubScore=0.396]"
     ]
    },
    {
     "name": "stdout",
     "output_type": "stream",
     "text": [
      "True\n",
      "18 мая 1778 года Вашингтон доверил Лафайету руководство операцией, направленной на проведение разведки боем в районе Филадельфии.\n",
      "18 мая 1778 года Вашингтон доверил Ла Файету руководство операцией, имевшей целью провести разведку боем в районе Филадельфии\n",
      "[1, 0, 0, 0, 0, 1, 1, 0, 1, 1, 1, 0, 0, 0, 0, 0, 0, 0, 1, 1, 1, 1, 0, 0, 0, 0, 1, 0, 1, 0, 0, 1, 0, 0, 0, 0, 1, 1, 0, 0, 1, 1, 1, 0, 0, 1, 0, 0]\n"
     ]
    },
    {
     "name": "stderr",
     "output_type": "stream",
     "text": [
      "216it [13:32,  1.86s/it, BLEU2=0.271, BLEU1=0.327, ExactMatch=0.00595, METEOR=0.507, BertScore=nan, StubScore=0.396]"
     ]
    },
    {
     "name": "stdout",
     "output_type": "stream",
     "text": [
      "True\n",
      "У меня нет ответа на ваш вопрос.\n",
      "Генерал Потер опоздал к назначенному сроку.\n",
      "[1, 0, 0, 0, 0, 1, 1, 0, 1, 1, 1, 0, 0, 0, 0, 0, 0, 0, 1, 1, 1, 1, 0, 0, 0, 0, 1, 0, 1, 0, 0, 1, 0, 0, 0, 0, 1, 1, 0, 0, 1, 1, 1, 0, 0, 1, 0, 0]\n"
     ]
    },
    {
     "name": "stderr",
     "output_type": "stream",
     "text": [
      "217it [13:35,  2.00s/it, BLEU2=0.272, BLEU1=0.328, ExactMatch=0.00592, METEOR=0.507, BertScore=nan, StubScore=0.396]"
     ]
    },
    {
     "name": "stdout",
     "output_type": "stream",
     "text": [
      "True\n",
      "20 мая 1778 года в дивизии Ла Файета было 3 500 человек.\n",
      "2500 человек при 5 орудиях было в дивизии Ла Файета 20 мая.\n",
      "[1, 0, 0, 0, 0, 1, 1, 0, 1, 1, 1, 0, 0, 0, 0, 0, 0, 0, 1, 1, 1, 1, 0, 0, 0, 0, 1, 0, 1, 0, 0, 1, 0, 0, 0, 0, 1, 1, 0, 0, 1, 1, 1, 0, 0, 1, 0, 0]\n"
     ]
    },
    {
     "name": "stderr",
     "output_type": "stream",
     "text": [
      "218it [13:36,  1.96s/it, BLEU2=0.273, BLEU1=0.329, ExactMatch=0.00588, METEOR=0.509, BertScore=nan, StubScore=0.396]"
     ]
    },
    {
     "name": "stdout",
     "output_type": "stream",
     "text": [
      "True\n",
      "1 июля 2014 года городская газета Северодвинска \"Северный рабочий\" объявила конкурс на создание флага и герба города.\n",
      "Газета Северный рабочий в 2014 году объявила состязание на создание флага и герба города.\n",
      "[1, 0, 0, 0, 0, 1, 1, 0, 1, 1, 1, 0, 0, 0, 0, 0, 0, 0, 1, 1, 1, 1, 0, 0, 0, 0, 1, 0, 1, 0, 0, 1, 0, 0, 0, 0, 1, 1, 0, 0, 1, 1, 1, 0, 0, 1, 0, 0]\n"
     ]
    },
    {
     "name": "stderr",
     "output_type": "stream",
     "text": [
      "219it [13:39,  2.18s/it, BLEU2=0.273, BLEU1=0.329, ExactMatch=0.00585, METEOR=0.511, BertScore=nan, StubScore=0.396]"
     ]
    },
    {
     "name": "stdout",
     "output_type": "stream",
     "text": [
      "True\n",
      "Комиссия, принимающая идеи для создания флага и герба города Северодвинска в 2014 году, была создана городским управлением культуры и общественных связей.\n",
      "Комиссия была создана городским управлением культуры и общественных связей.\n",
      "[1, 0, 0, 0, 0, 1, 1, 0, 1, 1, 1, 0, 0, 0, 0, 0, 0, 0, 1, 1, 1, 1, 0, 0, 0, 0, 1, 0, 1, 0, 0, 1, 0, 0, 0, 0, 1, 1, 0, 0, 1, 1, 1, 0, 0, 1, 0, 0]\n"
     ]
    },
    {
     "name": "stderr",
     "output_type": "stream",
     "text": [
      "220it [13:42,  2.53s/it, BLEU2=0.273, BLEU1=0.329, ExactMatch=0.00581, METEOR=0.511, BertScore=nan, StubScore=0.396]"
     ]
    },
    {
     "name": "stdout",
     "output_type": "stream",
     "text": [
      "True\n",
      "1 июля 2014 года городская газета \"Северный рабочий\" объявила о проведении конкурса на создание герба и флага города Северодвинска. Решение о проведении конкурса было принято депутатами Северодвинска на их последней сессии перед летними каникулами.\n",
      "Решение об организации конкурса по созданию герба и флага города Северодвинска в 2014 году было принято депутатами Северодвинска.\n",
      "[1, 0, 0, 0, 0, 1, 1, 0, 1, 1, 1, 0, 0, 0, 0, 0, 0, 0, 1, 1, 1, 1, 0, 0, 0, 0, 1, 0, 1, 0, 0, 1, 0, 0, 0, 0, 1, 1, 0, 0, 1, 1, 1, 0, 0, 1, 0, 0]\n"
     ]
    },
    {
     "name": "stderr",
     "output_type": "stream",
     "text": [
      "221it [13:43,  2.03s/it, BLEU2=0.271, BLEU1=0.327, ExactMatch=0.00578, METEOR=0.51, BertScore=nan, StubScore=0.396] "
     ]
    },
    {
     "name": "stdout",
     "output_type": "stream",
     "text": [
      "True\n",
      "1 июля 2014 года.\n",
      "Конкурс по созданию герба и флага города Северодвинска проходил с 14 июля по 14 октября 2014 года.\n",
      "[1, 0, 0, 0, 0, 1, 1, 0, 1, 1, 1, 0, 0, 0, 0, 0, 0, 0, 1, 1, 1, 1, 0, 0, 0, 0, 1, 0, 1, 0, 0, 1, 0, 0, 0, 0, 1, 1, 0, 0, 1, 1, 1, 0, 0, 1, 0, 0]\n"
     ]
    },
    {
     "name": "stderr",
     "output_type": "stream",
     "text": [
      "222it [13:46,  2.17s/it, BLEU2=0.272, BLEU1=0.328, ExactMatch=0.00575, METEOR=0.51, BertScore=nan, StubScore=0.396]"
     ]
    },
    {
     "name": "stdout",
     "output_type": "stream",
     "text": [
      "True\n",
      "В 2014 году в Северодвинске было проведено соревнование по созданию герба и флага среди отдельных художников и коллективов.\n",
      "В конкурсе по созданию герба и флага Северодвинска в 2014 году приняли участие как отдельные творцы, так и коллективы.\n",
      "[1, 0, 0, 0, 0, 1, 1, 0, 1, 1, 1, 0, 0, 0, 0, 0, 0, 0, 1, 1, 1, 1, 0, 0, 0, 0, 1, 0, 1, 0, 0, 1, 0, 0, 0, 0, 1, 1, 0, 0, 1, 1, 1, 0, 0, 1, 0, 0]\n"
     ]
    },
    {
     "name": "stderr",
     "output_type": "stream",
     "text": [
      "223it [14:07,  7.87s/it, BLEU2=0.271, BLEU1=0.327, ExactMatch=0.00571, METEOR=0.508, BertScore=nan, StubScore=0.396]"
     ]
    },
    {
     "name": "stdout",
     "output_type": "stream",
     "text": [
      "True\n",
      "1 мая отмечается как национальный праздник в нескольких странах, включая Австрию, Албанию, Аргентину, Армению, Арубу, Бангладеш, Бельгию, Болгарию, Боснию и Герцеговину, Бразилию, Вьетнам, Гонконг, Доминиканскую Республику, Египет, Замбию, Замбию, Индию, Иорданию, Казахстан, Камерун, Кению, Киргизию, Китай, Корею, Колумбию, Коста-Рику, Кубу, Латвию, Литву, Малайзию, Мальта, Марокко, Мексику, Молдову, Мьянму, Нигерию, Пакистан, Парагвай, Перу, Польшу, Португалию, Россию, Румынию, Сербию, Сингапур, Сирию, Словакию, Словению, Таиланд, Турцию, Украину, Уругвай, Филиппины, Финляндию, Францию, Хорватию, Чили, Черногорию, Чехию, Швецию, Эстонию, Южную Африку, Южную Корею, а также в некоторых частях Германии.\n",
      "1 мая отмечается в перечне стран как национальный праздник.\n",
      "[1, 0, 0, 0, 0, 1, 1, 0, 1, 1, 1, 0, 0, 0, 0, 0, 0, 0, 1, 1, 1, 1, 0, 0, 0, 0, 1, 0, 1, 0, 0, 1, 0, 0, 0, 0, 1, 1, 0, 0, 1, 1, 1, 0, 0, 1, 0, 0]\n"
     ]
    },
    {
     "name": "stderr",
     "output_type": "stream",
     "text": [
      "224it [14:09,  6.01s/it, BLEU2=0.274, BLEU1=0.33, ExactMatch=0.00568, METEOR=0.51, BertScore=nan, StubScore=0.396]  "
     ]
    },
    {
     "name": "stdout",
     "output_type": "stream",
     "text": [
      "True\n",
      "Греция, Гондурас и Германия отмечают 1 мая как национальный праздник.\n",
      "Да, Греция, Гондурас и Германия отмечают 1 мая как национальный праздник.\n",
      "[1, 0, 0, 0, 0, 1, 1, 0, 1, 1, 1, 0, 0, 0, 0, 0, 0, 0, 1, 1, 1, 1, 0, 0, 0, 0, 1, 0, 1, 0, 0, 1, 0, 0, 0, 0, 1, 1, 0, 0, 1, 1, 1, 0, 0, 1, 0, 0]\n"
     ]
    },
    {
     "name": "stderr",
     "output_type": "stream",
     "text": [
      "225it [14:11,  4.82s/it, BLEU2=0.274, BLEU1=0.331, ExactMatch=0.00565, METEOR=0.512, BertScore=nan, StubScore=0.396]"
     ]
    },
    {
     "name": "stdout",
     "output_type": "stream",
     "text": [
      "True\n",
      "Да, 1 мая отмечается как национальный праздник в КНДР, на Кубе и на Филиппинах.\n",
      "Да, КНДР, Куба и Филиппины отмечают 1 мая как национальный праздник.\n",
      "[1, 0, 0, 0, 0, 1, 1, 0, 1, 1, 1, 0, 0, 0, 0, 0, 0, 0, 1, 1, 1, 1, 0, 0, 0, 0, 1, 0, 1, 0, 0, 1, 0, 0, 0, 0, 1, 1, 0, 0, 1, 1, 1, 0, 0, 1, 0, 0]\n"
     ]
    },
    {
     "name": "stderr",
     "output_type": "stream",
     "text": [
      "226it [14:12,  3.80s/it, BLEU2=0.275, BLEU1=0.332, ExactMatch=0.00562, METEOR=0.512, BertScore=nan, StubScore=0.396]"
     ]
    },
    {
     "name": "stdout",
     "output_type": "stream",
     "text": [
      "True\n",
      "1 мая отмечается как национальный праздник в Чили, Хорватии и Российской Федерации.\n",
      "Да, Чили, Хорватия и Российская Федерация отмечают 1 мая как национальный праздник.\n",
      "[1, 0, 0, 0, 0, 1, 1, 0, 1, 1, 1, 0, 0, 0, 0, 0, 0, 0, 1, 1, 1, 1, 0, 0, 0, 0, 1, 0, 1, 0, 0, 1, 0, 0, 0, 0, 1, 1, 0, 0, 1, 1, 1, 0, 0, 1, 0, 0]\n"
     ]
    },
    {
     "name": "stderr",
     "output_type": "stream",
     "text": [
      "227it [14:14,  3.22s/it, BLEU2=0.275, BLEU1=0.333, ExactMatch=0.00559, METEOR=0.512, BertScore=nan, StubScore=0.396]"
     ]
    },
    {
     "name": "stdout",
     "output_type": "stream",
     "text": [
      "True\n",
      "1 мая отмечается как национальный праздник в Южной Корее, Эквадоре и Шри-Ланке.\n",
      "Да, Южная Корея, Эквадор и Шри-Ланка отмечают 1 мая как национальный праздник.\n",
      "[1, 0, 0, 0, 0, 1, 1, 0, 1, 1, 1, 0, 0, 0, 0, 0, 0, 0, 1, 1, 1, 1, 0, 0, 0, 0, 1, 0, 1, 0, 0, 1, 0, 0, 0, 0, 1, 1, 0, 0, 1, 1, 1, 0, 0, 1, 0, 0]\n"
     ]
    },
    {
     "name": "stderr",
     "output_type": "stream",
     "text": [
      "228it [14:17,  3.08s/it, BLEU2=0.277, BLEU1=0.335, ExactMatch=0.00556, METEOR=0.514, BertScore=nan, StubScore=0.396]"
     ]
    },
    {
     "name": "stdout",
     "output_type": "stream",
     "text": [
      "True\n",
      "Мадонна впервые публично раскритиковала убийство леопарда сыновьями Трампа за два месяца до президентских выборов в США.\n",
      "За два месяц до президентских выборов в США Мадонна впервые публично раскритиковала убийство леопарда сыновьями Трампа.\n",
      "[1, 0, 0, 0, 0, 1, 1, 0, 1, 1, 1, 0, 0, 0, 0, 0, 0, 0, 1, 1, 1, 1, 0, 0, 0, 0, 1, 0, 1, 0, 0, 1, 0, 0, 0, 0, 1, 1, 0, 0, 1, 1, 1, 0, 0, 1, 0, 0]\n"
     ]
    },
    {
     "name": "stderr",
     "output_type": "stream",
     "text": [
      "229it [14:21,  3.54s/it, BLEU2=0.277, BLEU1=0.335, ExactMatch=0.00552, METEOR=0.515, BertScore=nan, StubScore=0.396]"
     ]
    },
    {
     "name": "stdout",
     "output_type": "stream",
     "text": [
      "True\n",
      "1 сентября 2016 года Мадонна публично раскритиковала убийство леопарда сыновьями Трампа и призвала своих подписчиков в Instagram голосовать за Хиллари Клинтон, свою дальнюю кузину по матери.\n",
      "Мадонна призвала голосовать за Хиллари Клинтон 1 сентября 2016 года в своём Instagram-аккаунте.\n",
      "[1, 0, 0, 0, 0, 1, 1, 0, 1, 1, 1, 0, 0, 0, 0, 0, 0, 0, 1, 1, 1, 1, 0, 0, 0, 0, 1, 0, 1, 0, 0, 1, 0, 0, 0, 0, 1, 1, 0, 0, 1, 1, 1, 0, 0, 1, 0, 0]\n"
     ]
    },
    {
     "name": "stderr",
     "output_type": "stream",
     "text": [
      "230it [14:24,  3.17s/it, BLEU2=0.278, BLEU1=0.337, ExactMatch=0.00549, METEOR=0.516, BertScore=nan, StubScore=0.396]"
     ]
    },
    {
     "name": "stdout",
     "output_type": "stream",
     "text": [
      "True\n",
      "Некоторые политики восприняли слова Мадонны как серьезное предвыборное обещание, данное во время ее концерта в Нью-Йорке.\n",
      "Некоторые политики с подачи СМИ восприняли шуточные слова Мадонны как серьёзное предвыборное обещание, данное якобы во время её концерта в Нью-Йорке.\n",
      "[1, 0, 0, 0, 0, 1, 1, 0, 1, 1, 1, 0, 0, 0, 0, 0, 0, 0, 1, 1, 1, 1, 0, 0, 0, 0, 1, 0, 1, 0, 0, 1, 0, 0, 0, 0, 1, 1, 0, 0, 1, 1, 1, 0, 0, 1, 0, 0]\n"
     ]
    },
    {
     "name": "stderr",
     "output_type": "stream",
     "text": [
      "231it [14:25,  2.66s/it, BLEU2=0.281, BLEU1=0.34, ExactMatch=0.00546, METEOR=0.519, BertScore=nan, StubScore=0.396] "
     ]
    },
    {
     "name": "stdout",
     "output_type": "stream",
     "text": [
      "True\n",
      "Мадонна дала концерт в поддержку своего кандидата в президенты США 6 ноября.\n",
      "6 ноября Мадонна дала концерт в поддержку своего кандидата в президенты США.\n",
      "[1, 0, 0, 0, 0, 1, 1, 0, 1, 1, 1, 0, 0, 0, 0, 0, 0, 0, 1, 1, 1, 1, 0, 0, 0, 0, 1, 0, 1, 0, 0, 1, 0, 0, 0, 0, 1, 1, 0, 0, 1, 1, 1, 0, 0, 1, 0, 0]\n"
     ]
    },
    {
     "name": "stderr",
     "output_type": "stream",
     "text": [
      "232it [14:27,  2.42s/it, BLEU2=0.281, BLEU1=0.34, ExactMatch=0.00543, METEOR=0.519, BertScore=nan, StubScore=0.396]"
     ]
    },
    {
     "name": "stdout",
     "output_type": "stream",
     "text": [
      "True\n",
      "Альбом Elton John's Christmas Party изначально был выпущен через сеть кофеен Starbucks.\n",
      "Сборник Elton John s Christmas Party первоначально продавался через сеть кафе Старбакс.\n",
      "[1, 0, 0, 0, 0, 1, 1, 0, 1, 1, 1, 0, 0, 0, 0, 0, 0, 0, 1, 1, 1, 1, 0, 0, 0, 0, 1, 0, 1, 0, 0, 1, 0, 0, 0, 0, 1, 1, 0, 0, 1, 1, 1, 0, 0, 1, 0, 0]\n"
     ]
    },
    {
     "name": "stderr",
     "output_type": "stream",
     "text": [
      "233it [14:28,  1.98s/it, BLEU2=0.28, BLEU1=0.339, ExactMatch=0.00541, METEOR=0.518, BertScore=nan, StubScore=0.396]"
     ]
    },
    {
     "name": "stdout",
     "output_type": "stream",
     "text": [
      "True\n",
      "10 октября 2006 года.\n",
      "Альбом Elton John s Christmas Party поступил в широкую продажу 10 октября 2006 года.\n",
      "[1, 0, 0, 0, 0, 1, 1, 0, 1, 1, 1, 0, 0, 0, 0, 0, 0, 0, 1, 1, 1, 1, 0, 0, 0, 0, 1, 0, 1, 0, 0, 1, 0, 0, 0, 0, 1, 1, 0, 0, 1, 1, 1, 0, 0, 1, 0, 0]\n"
     ]
    },
    {
     "name": "stderr",
     "output_type": "stream",
     "text": [
      "234it [14:29,  1.68s/it, BLEU2=0.279, BLEU1=0.337, ExactMatch=0.00538, METEOR=0.517, BertScore=nan, StubScore=0.396]"
     ]
    },
    {
     "name": "stdout",
     "output_type": "stream",
     "text": [
      "True\n",
      "10 ноября 2005 года.\n",
      "Сборник Elton John s Christmas Party вышел 10 ноября 2005.\n",
      "[1, 0, 0, 0, 0, 1, 1, 0, 1, 1, 1, 0, 0, 0, 0, 0, 0, 0, 1, 1, 1, 1, 0, 0, 0, 0, 1, 0, 1, 0, 0, 1, 0, 0, 0, 0, 1, 1, 0, 0, 1, 1, 1, 0, 0, 1, 0, 0]\n"
     ]
    },
    {
     "name": "stderr",
     "output_type": "stream",
     "text": [
      "235it [14:31,  1.83s/it, BLEU2=0.279, BLEU1=0.337, ExactMatch=0.00535, METEOR=0.518, BertScore=nan, StubScore=0.396]"
     ]
    },
    {
     "name": "stdout",
     "output_type": "stream",
     "text": [
      "True\n",
      "Два доллара от каждой продажи сборника шли в фонд Элтона Джона по борьбе со СПИДом (Elton John AIDS Foundation).\n",
      "В благотворительную организацию по борьбе со СПИДом Elton John AIDS Foundation.\n",
      "[1, 0, 0, 0, 0, 1, 1, 0, 1, 1, 1, 0, 0, 0, 0, 0, 0, 0, 1, 1, 1, 1, 0, 0, 0, 0, 1, 0, 1, 0, 0, 1, 0, 0, 0, 0, 1, 1, 0, 0, 1, 1, 1, 0, 0, 1, 0, 0]\n"
     ]
    },
    {
     "name": "stderr",
     "output_type": "stream",
     "text": [
      "236it [14:32,  1.69s/it, BLEU2=0.278, BLEU1=0.336, ExactMatch=0.00532, METEOR=0.517, BertScore=nan, StubScore=0.396]"
     ]
    },
    {
     "name": "stdout",
     "output_type": "stream",
     "text": [
      "True\n",
      "В Elton John s Christmas Party было 21 композиция.\n",
      "В сборник Elton John s Christmas Party, выпущенный 10 ноября 2005 года, входили 21 композиция. Однако 6 песен из первоначального списка (куда входила 21 композиция) были исключены.\n",
      "[1, 0, 0, 0, 0, 1, 1, 0, 1, 1, 1, 0, 0, 0, 0, 0, 0, 0, 1, 1, 1, 1, 0, 0, 0, 0, 1, 0, 1, 0, 0, 1, 0, 0, 0, 0, 1, 1, 0, 0, 1, 1, 1, 0, 0, 1, 0, 0]\n"
     ]
    },
    {
     "name": "stderr",
     "output_type": "stream",
     "text": [
      "237it [14:38,  2.75s/it, BLEU2=0.276, BLEU1=0.334, ExactMatch=0.00529, METEOR=0.515, BertScore=nan, StubScore=0.396]"
     ]
    },
    {
     "name": "stdout",
     "output_type": "stream",
     "text": [
      "True\n",
      "В 11-м фильме \"Звёздный путь\" Нерон путешествует во времени из будущего, чтобы отомстить экипажу \"Энтерпрайза\". Его действия приводят к тому, что главные герои сталкиваются с альтернативной временной линией, где их судьбы отличаются от оригинальной временной линии.\n",
      "Меняет судьбы главных героев.\n",
      "[1, 0, 0, 0, 0, 1, 1, 0, 1, 1, 1, 0, 0, 0, 0, 0, 0, 0, 1, 1, 1, 1, 0, 0, 0, 0, 1, 0, 1, 0, 0, 1, 0, 0, 0, 0, 1, 1, 0, 0, 1, 1, 1, 0, 0, 1, 0, 0]\n"
     ]
    },
    {
     "name": "stderr",
     "output_type": "stream",
     "text": [
      "238it [14:45,  4.05s/it, BLEU2=0.275, BLEU1=0.334, ExactMatch=0.00526, METEOR=0.515, BertScore=nan, StubScore=0.396]"
     ]
    },
    {
     "name": "stdout",
     "output_type": "stream",
     "text": [
      "True\n",
      "11-й полнометражный фильм \"Звёздный путь\" - это начало приключений молодого Джеймса Кирка и Спока, но в то же время нельзя сказать, что это приквел к Оригинальному сериалу, так как события в фильме связаны с прыжком во времени Нерона, который меняет судьбы главных героев. Таким образом, делается намёк на то, что это не приквел, а альтернативная временная линия.\n",
      "Главная сюжетная линия одиннадцатого фильма \"Звёздный путь\" связана с прыжком из будущего Нерона, который меняет судьбы главных героев.\n",
      "[1, 0, 0, 0, 0, 1, 1, 0, 1, 1, 1, 0, 0, 0, 0, 0, 0, 0, 1, 1, 1, 1, 0, 0, 0, 0, 1, 0, 1, 0, 0, 1, 0, 0, 0, 0, 1, 1, 0, 0, 1, 1, 1, 0, 0, 1, 0, 0]\n"
     ]
    },
    {
     "name": "stderr",
     "output_type": "stream",
     "text": [
      "239it [14:53,  5.25s/it, BLEU2=0.274, BLEU1=0.332, ExactMatch=0.00524, METEOR=0.512, BertScore=nan, StubScore=0.396]"
     ]
    },
    {
     "name": "stdout",
     "output_type": "stream",
     "text": [
      "True\n",
      "В 11-м фильме \"Звёздный путь\" \"Звёздный путь\" (2009) персонажи сталкиваются с последствиями нарушения временного континуума. Нерона, антагониста из альтернативной временной линии, прыгают в эту временную линию, что приводит к изменениям в судьбах главных персонажей. Фильм намекает на то, что это не приквел, а альтернативная временная линия, где события будут отличаться от оригинального сериала.\n",
      "Их будущее сложится иначе и не сможет совпасть с тем будущим, откуда пришёл Нерон.\n",
      "[1, 0, 0, 0, 0, 1, 1, 0, 1, 1, 1, 0, 0, 0, 0, 0, 0, 0, 1, 1, 1, 1, 0, 0, 0, 0, 1, 0, 1, 0, 0, 1, 0, 0, 0, 0, 1, 1, 0, 0, 1, 1, 1, 0, 0, 1, 0, 0]\n"
     ]
    },
    {
     "name": "stderr",
     "output_type": "stream",
     "text": [
      "240it [14:55,  4.38s/it, BLEU2=0.274, BLEU1=0.332, ExactMatch=0.00521, METEOR=0.513, BertScore=nan, StubScore=0.396]"
     ]
    },
    {
     "name": "stdout",
     "output_type": "stream",
     "text": [
      "True\n",
      "11-й полнометражный фильм \"Звёздный путь\" (Star Trek) вышел в прокат 7 мая 2009 года.\n",
      "Премьера 11-го полнометражного фильма Звёздный путь (англ. Star Trek) состоялась 7 мая 2009 года.\n",
      "[1, 0, 0, 0, 0, 1, 1, 0, 1, 1, 1, 0, 0, 0, 0, 0, 0, 0, 1, 1, 1, 1, 0, 0, 0, 0, 1, 0, 1, 0, 0, 1, 0, 0, 0, 0, 1, 1, 0, 0, 1, 1, 1, 0, 0, 1, 0, 0]\n"
     ]
    },
    {
     "name": "stderr",
     "output_type": "stream",
     "text": [
      "241it [14:57,  3.70s/it, BLEU2=0.276, BLEU1=0.334, ExactMatch=0.00518, METEOR=0.515, BertScore=nan, StubScore=0.396]"
     ]
    },
    {
     "name": "stdout",
     "output_type": "stream",
     "text": [
      "True\n",
      "Сценарий к одиннадцатому полнометражному фильму \"Звёздный путь\" написали Роберто Орси и Алекс Курцман.\n",
      "Роберто Орси и Алекс Курцман написали сценарий к одиннадцатому полнометражному фильму Звёздный путь.\n",
      "[1, 0, 0, 0, 0, 1, 1, 0, 1, 1, 1, 0, 0, 0, 0, 0, 0, 0, 1, 1, 1, 1, 0, 0, 0, 0, 1, 0, 1, 0, 0, 1, 0, 0, 0, 0, 1, 1, 0, 0, 1, 1, 1, 0, 0, 1, 0, 0]\n"
     ]
    },
    {
     "name": "stderr",
     "output_type": "stream",
     "text": [
      "242it [14:59,  3.05s/it, BLEU2=0.274, BLEU1=0.332, ExactMatch=0.00515, METEOR=0.514, BertScore=nan, StubScore=0.396]"
     ]
    },
    {
     "name": "stdout",
     "output_type": "stream",
     "text": [
      "True\n",
      "11-13 (24-26) октября 1917 года.\n",
      "Большевизированный Петросовет провел областной I Съезд Советов Северной области 11—13 (24—26) октября 1917.\n",
      "[1, 0, 0, 0, 0, 1, 1, 0, 1, 1, 1, 0, 0, 0, 0, 0, 0, 0, 1, 1, 1, 1, 0, 0, 0, 0, 1, 0, 1, 0, 0, 1, 0, 0, 0, 0, 1, 1, 0, 0, 1, 1, 1, 0, 0, 1, 0, 0]\n"
     ]
    },
    {
     "name": "stderr",
     "output_type": "stream",
     "text": [
      "243it [15:03,  3.31s/it, BLEU2=0.275, BLEU1=0.333, ExactMatch=0.00513, METEOR=0.516, BertScore=nan, StubScore=0.396]"
     ]
    },
    {
     "name": "stdout",
     "output_type": "stream",
     "text": [
      "True\n",
      "11-13 (24-26) октября 1917 большевизированный Петросовет провел областной I Съезд Советов Северной области, в который вошли делегаты Балтийского флота, Петрограда и Финляндии.\n",
      "Делегаты Балтийского флота, Петрограда и Финляндии были включены в областной I Съезд Советов Северной области.\n",
      "[1, 0, 0, 0, 0, 1, 1, 0, 1, 1, 1, 0, 0, 0, 0, 0, 0, 0, 1, 1, 1, 1, 0, 0, 0, 0, 1, 0, 1, 0, 0, 1, 0, 0, 0, 0, 1, 1, 0, 0, 1, 1, 1, 0, 0, 1, 0, 0]\n"
     ]
    },
    {
     "name": "stderr",
     "output_type": "stream",
     "text": [
      "244it [15:04,  2.72s/it, BLEU2=0.278, BLEU1=0.336, ExactMatch=0.0051, METEOR=0.518, BertScore=nan, StubScore=0.396] "
     ]
    },
    {
     "name": "stdout",
     "output_type": "stream",
     "text": [
      "True\n",
      "ВЦИК объявил областной I Съезд Советов Северной области незаконным.\n",
      "Эсеро-меньшевистский ВЦИК объявил областной I Съезд Советов Северной области незаконным.\n",
      "[1, 0, 0, 0, 0, 1, 1, 0, 1, 1, 1, 0, 0, 0, 0, 0, 0, 0, 1, 1, 1, 1, 0, 0, 0, 0, 1, 0, 1, 0, 0, 1, 0, 0, 0, 0, 1, 1, 0, 0, 1, 1, 1, 0, 0, 1, 0, 0]\n"
     ]
    },
    {
     "name": "stderr",
     "output_type": "stream",
     "text": [
      "245it [15:08,  2.95s/it, BLEU2=0.278, BLEU1=0.336, ExactMatch=0.00508, METEOR=0.519, BertScore=nan, StubScore=0.396]"
     ]
    },
    {
     "name": "stdout",
     "output_type": "stream",
     "text": [
      "True\n",
      "11-13 (24-26) октября 1917 года большевизированный Петросовет провел областной I Съезд Советов Северной области, в который вошли делегаты Балтийского флота, Петрограда и Финляндии.\n",
      "Большевизированный петросовет 11—13 (24—26) октября 1917 провел областной I Съезд Советов Северной области.\n",
      "[1, 0, 0, 0, 0, 1, 1, 0, 1, 1, 1, 0, 0, 0, 0, 0, 0, 0, 1, 1, 1, 1, 0, 0, 0, 0, 1, 0, 1, 0, 0, 1, 0, 0, 0, 0, 1, 1, 0, 0, 1, 1, 1, 0, 0, 1, 0, 0]\n"
     ]
    },
    {
     "name": "stderr",
     "output_type": "stream",
     "text": [
      "246it [15:10,  2.85s/it, BLEU2=0.279, BLEU1=0.338, ExactMatch=0.00505, METEOR=0.521, BertScore=nan, StubScore=0.396]"
     ]
    },
    {
     "name": "stdout",
     "output_type": "stream",
     "text": [
      "True\n",
      "31 декабря 1796 года (11 января 1797 года) было утверждено новое административно-территориальное деление Курской губернии.\n",
      "Новое административно-территориальное деление Курской губернии было утверждено 31 декабря 1796 (11 января 1797) года.\n",
      "[1, 0, 0, 0, 0, 1, 1, 0, 1, 1, 1, 0, 0, 0, 0, 0, 0, 0, 1, 1, 1, 1, 0, 0, 0, 0, 1, 0, 1, 0, 0, 1, 0, 0, 0, 0, 1, 1, 0, 0, 1, 1, 1, 0, 0, 1, 0, 0]\n"
     ]
    },
    {
     "name": "stderr",
     "output_type": "stream",
     "text": [
      "247it [15:13,  2.75s/it, BLEU2=0.281, BLEU1=0.339, ExactMatch=0.00503, METEOR=0.523, BertScore=nan, StubScore=0.396]"
     ]
    },
    {
     "name": "stdout",
     "output_type": "stream",
     "text": [
      "True\n",
      "12 (23) декабря 1796 года указом императора Павла I большинство наместничеств, включая Курское, были упразднены.\n",
      "Указом императора Павла I большинство наместничеств, в том числе и Курское, были упразднены в 12 (23) декабря 1796 года.\n",
      "[1, 0, 0, 0, 0, 1, 1, 0, 1, 1, 1, 0, 0, 0, 0, 0, 0, 0, 1, 1, 1, 1, 0, 0, 0, 0, 1, 0, 1, 0, 0, 1, 0, 0, 0, 0, 1, 1, 0, 0, 1, 1, 1, 0, 0, 1, 0, 0]\n"
     ]
    },
    {
     "name": "stderr",
     "output_type": "stream",
     "text": [
      "248it [15:20,  4.06s/it, BLEU2=0.279, BLEU1=0.337, ExactMatch=0.005, METEOR=0.521, BertScore=nan, StubScore=0.396]  "
     ]
    },
    {
     "name": "stdout",
     "output_type": "stream",
     "text": [
      "True\n",
      "31 декабря 1796 года (11 января 1797 года) было утверждено новое административно-территориальное деление Курской губернии. В результате упразднения наместничества большинство уездов, включая уезды Харьковского наместничества, были сокращены. Однако в тексте не указано точное количество сокращенных уездов.\n",
      "Общее число уездов Харьковского наместничества сократилось до 10.\n",
      "[1, 0, 0, 0, 0, 1, 1, 0, 1, 1, 1, 0, 0, 0, 0, 0, 0, 0, 1, 1, 1, 1, 0, 0, 0, 0, 1, 0, 1, 0, 0, 1, 0, 0, 0, 0, 1, 1, 0, 0, 1, 1, 1, 0, 0, 1, 0, 0]\n"
     ]
    },
    {
     "name": "stderr",
     "output_type": "stream",
     "text": [
      "249it [15:29,  5.48s/it, BLEU2=0.278, BLEU1=0.336, ExactMatch=0.00498, METEOR=0.521, BertScore=nan, StubScore=0.396]"
     ]
    },
    {
     "name": "stdout",
     "output_type": "stream",
     "text": [
      "True\n",
      "12 (23) декабря 1796 года указом императора Павла I большинство наместничеств, включая Курское, были упразднены. 31 декабря 1796 (11 января 1797) года было утверждено новое административно-территориальное деление Курской губернии. К Курской губернии отошли территории упраздненного Харьковского наместничества, включая города Хотмыжск и Мирополье. В Харьковском наместничестве эти города были уездными, и после передачи Курской губернии соответствующие уезды были упразднены.\n",
      "К Курской губернии отошёл территории упразднённого Харьковского наместничества.\n",
      "[1, 0, 0, 0, 0, 1, 1, 0, 1, 1, 1, 0, 0, 0, 0, 0, 0, 0, 1, 1, 1, 1, 0, 0, 0, 0, 1, 0, 1, 0, 0, 1, 0, 0, 0, 0, 1, 1, 0, 0, 1, 1, 1, 0, 0, 1, 0, 0]\n"
     ]
    },
    {
     "name": "stderr",
     "output_type": "stream",
     "text": [
      "250it [15:31,  4.59s/it, BLEU2=0.277, BLEU1=0.335, ExactMatch=0.00495, METEOR=0.519, BertScore=nan, StubScore=0.396]"
     ]
    },
    {
     "name": "stdout",
     "output_type": "stream",
     "text": [
      "True\n",
      "31 декабря 1796 года (11 января 1797 года) было утверждено новое административно-территориальное деление Курской губернии.\n",
      "Срок исполнения нового разделения на губернии был до мая 1797 года.\n",
      "[1, 0, 0, 0, 0, 1, 1, 0, 1, 1, 1, 0, 0, 0, 0, 0, 0, 0, 1, 1, 1, 1, 0, 0, 0, 0, 1, 0, 1, 0, 0, 1, 0, 0, 0, 0, 1, 1, 0, 0, 1, 1, 1, 0, 0, 1, 0, 0]\n"
     ]
    },
    {
     "name": "stderr",
     "output_type": "stream",
     "text": [
      "251it [15:32,  3.45s/it, BLEU2=0.275, BLEU1=0.333, ExactMatch=0.00493, METEOR=0.517, BertScore=nan, StubScore=0.396]"
     ]
    },
    {
     "name": "stdout",
     "output_type": "stream",
     "text": [
      "True\n",
      "12 апреля 1961 года.\n",
      "Первый пилотируемый космический корабль, созданный С. П. Королёвым, назывался Восток-1.\n",
      "[1, 0, 0, 0, 0, 1, 1, 0, 1, 1, 1, 0, 0, 0, 0, 0, 0, 0, 1, 1, 1, 1, 0, 0, 0, 0, 1, 0, 1, 0, 0, 1, 0, 0, 0, 0, 1, 1, 0, 0, 1, 1, 1, 0, 0, 1, 0, 0]\n"
     ]
    },
    {
     "name": "stderr",
     "output_type": "stream",
     "text": [
      "252it [15:33,  2.70s/it, BLEU2=0.275, BLEU1=0.332, ExactMatch=0.0049, METEOR=0.516, BertScore=nan, StubScore=0.396] "
     ]
    },
    {
     "name": "stdout",
     "output_type": "stream",
     "text": [
      "True\n",
      "12 апреля 1961 года.\n",
      "12 апреля 1961 г С. П. Королёв снова поражает мировую общественность.\n",
      "[1, 0, 0, 0, 0, 1, 1, 0, 1, 1, 1, 0, 0, 0, 0, 0, 0, 0, 1, 1, 1, 1, 0, 0, 0, 0, 1, 0, 1, 0, 0, 1, 0, 0, 0, 0, 1, 1, 0, 0, 1, 1, 1, 0, 0, 1, 0, 0]\n"
     ]
    },
    {
     "name": "stderr",
     "output_type": "stream",
     "text": [
      "253it [15:34,  2.13s/it, BLEU2=0.273, BLEU1=0.331, ExactMatch=0.00488, METEOR=0.514, BertScore=nan, StubScore=0.396]"
     ]
    },
    {
     "name": "stdout",
     "output_type": "stream",
     "text": [
      "True\n",
      "12 апреля 1961 года.\n",
      "Юрия Алексеевича Гагарина был первым человеком в СССР, который полетел в космос.\n",
      "[1, 0, 0, 0, 0, 1, 1, 0, 1, 1, 1, 0, 0, 0, 0, 0, 0, 0, 1, 1, 1, 1, 0, 0, 0, 0, 1, 0, 1, 0, 0, 1, 0, 0, 0, 0, 1, 1, 0, 0, 1, 1, 1, 0, 0, 1, 0, 0]\n"
     ]
    },
    {
     "name": "stderr",
     "output_type": "stream",
     "text": [
      "254it [15:36,  2.34s/it, BLEU2=0.273, BLEU1=0.33, ExactMatch=0.00485, METEOR=0.515, BertScore=nan, StubScore=0.396] "
     ]
    },
    {
     "name": "stdout",
     "output_type": "stream",
     "text": [
      "True\n",
      "12 апреля 1961 года первый космонавт СССР, Юрий Алексеевич Гагарин, отправился в космос на корабле \"Восток-1\", созданном под руководством Сергея Павловича Королёва.\n",
      "Юрий Гагарин отправился в космос на корабле \"Восток-1\" по околоземной орбите.\n",
      "[1, 0, 0, 0, 0, 1, 1, 0, 1, 1, 1, 0, 0, 0, 0, 0, 0, 0, 1, 1, 1, 1, 0, 0, 0, 0, 1, 0, 1, 0, 0, 1, 0, 0, 0, 0, 1, 1, 0, 0, 1, 1, 1, 0, 0, 1, 0, 0]\n"
     ]
    },
    {
     "name": "stderr",
     "output_type": "stream",
     "text": [
      "255it [15:38,  2.05s/it, BLEU2=0.273, BLEU1=0.33, ExactMatch=0.00483, METEOR=0.515, BertScore=nan, StubScore=0.396]"
     ]
    },
    {
     "name": "stdout",
     "output_type": "stream",
     "text": [
      "True\n",
      "Первый космический корабль, созданный С.П. Королёвым, сделал один виток.\n",
      "Один витков сделал Первый космический корабль С.П.Королева.\n",
      "[1, 0, 0, 0, 0, 1, 1, 0, 1, 1, 1, 0, 0, 0, 0, 0, 0, 0, 1, 1, 1, 1, 0, 0, 0, 0, 1, 0, 1, 0, 0, 1, 0, 0, 0, 0, 1, 1, 0, 0, 1, 1, 1, 0, 0, 1, 0, 0]\n"
     ]
    },
    {
     "name": "stderr",
     "output_type": "stream",
     "text": [
      "256it [15:39,  1.78s/it, BLEU2=0.273, BLEU1=0.331, ExactMatch=0.00481, METEOR=0.516, BertScore=nan, StubScore=0.396]"
     ]
    },
    {
     "name": "stdout",
     "output_type": "stream",
     "text": [
      "True\n",
      "Машина времени начала запись нового альбома в 2001 году.\n",
      "Машина времени приступила в 2001 году к записи нового альбома.\n",
      "[1, 0, 0, 0, 0, 1, 1, 0, 1, 1, 1, 0, 0, 0, 0, 0, 0, 0, 1, 1, 1, 1, 0, 0, 0, 0, 1, 0, 1, 0, 0, 1, 0, 0, 0, 0, 1, 1, 0, 0, 1, 1, 1, 0, 0, 1, 0, 0]\n"
     ]
    },
    {
     "name": "stderr",
     "output_type": "stream",
     "text": [
      "257it [15:42,  2.16s/it, BLEU2=0.273, BLEU1=0.331, ExactMatch=0.00478, METEOR=0.516, BertScore=nan, StubScore=0.396]"
     ]
    },
    {
     "name": "stdout",
     "output_type": "stream",
     "text": [
      "True\n",
      "Название альбома \"Spinning Wheel\" было изменено на \"Place Where the Light Is\" после того, как он был записан в студии.\n",
      "Название альбома \"Спиной к концу света\" было изменено на \"Место, где свет\".\n",
      "[1, 0, 0, 0, 0, 1, 1, 0, 1, 1, 1, 0, 0, 0, 0, 0, 0, 0, 1, 1, 1, 1, 0, 0, 0, 0, 1, 0, 1, 0, 0, 1, 0, 0, 0, 0, 1, 1, 0, 0, 1, 1, 1, 0, 0, 1, 0, 0]\n"
     ]
    },
    {
     "name": "stderr",
     "output_type": "stream",
     "text": [
      "258it [15:44,  2.07s/it, BLEU2=0.274, BLEU1=0.333, ExactMatch=0.00476, METEOR=0.518, BertScore=nan, StubScore=0.396]"
     ]
    },
    {
     "name": "stdout",
     "output_type": "stream",
     "text": [
      "True\n",
      "Презентация нового веб-проекта группы \"Машина времени\" состоялась 27 февраля 2001 года.\n",
      "Презентация нового Web-проекта группы Машина времени состоялась 27 февраля 2001 года.\n",
      "[1, 0, 0, 0, 0, 1, 1, 0, 1, 1, 1, 0, 0, 0, 0, 0, 0, 0, 1, 1, 1, 1, 0, 0, 0, 0, 1, 0, 1, 0, 0, 1, 0, 0, 0, 0, 1, 1, 0, 0, 1, 1, 1, 0, 0, 1, 0, 0]\n"
     ]
    },
    {
     "name": "stderr",
     "output_type": "stream",
     "text": [
      "259it [15:45,  1.66s/it, BLEU2=0.273, BLEU1=0.331, ExactMatch=0.00474, METEOR=0.517, BertScore=nan, StubScore=0.396]"
     ]
    },
    {
     "name": "stdout",
     "output_type": "stream",
     "text": [
      "True\n",
      "Макаревич и Державин.\n",
      "Макаревич и Державин появлялись на форуме сайта первые полгода.\n",
      "[1, 0, 0, 0, 0, 1, 1, 0, 1, 1, 1, 0, 0, 0, 0, 0, 0, 0, 1, 1, 1, 1, 0, 0, 0, 0, 1, 0, 1, 0, 0, 1, 0, 0, 0, 0, 1, 1, 0, 0, 1, 1, 1, 0, 0, 1, 0, 0]\n"
     ]
    },
    {
     "name": "stderr",
     "output_type": "stream",
     "text": [
      "260it [15:48,  2.12s/it, BLEU2=0.275, BLEU1=0.333, ExactMatch=0.00472, METEOR=0.519, BertScore=nan, StubScore=0.396]"
     ]
    },
    {
     "name": "stdout",
     "output_type": "stream",
     "text": [
      "True\n",
      "Официальный сайт группы \"Машина времени\" должен был стать единственным местом, где можно было получить достоверную и свежую информацию о группе и ее участниках, а также единственным официальным посредником между группой и прессой.\n",
      "Официальный сайт группы Машина времени будет единственным местом, где можно получить достоверную и свежую информацию о группе и её музыкантах, а также единственным официальным посредником между группой и прессой.\n",
      "[1, 0, 0, 0, 0, 1, 1, 0, 1, 1, 1, 0, 0, 0, 0, 0, 0, 0, 1, 1, 1, 1, 0, 0, 0, 0, 1, 0, 1, 0, 0, 1, 0, 0, 0, 0, 1, 1, 0, 0, 1, 1, 1, 0, 0, 1, 0, 0]\n",
      "False\n",
      "В тексте не упоминается конкретная продолжительность времени, которое Нансен провел в школе.\n",
      "В течении недельного визита в Дагестан Нансен останавливался в здании школы.\n"
     ]
    },
    {
     "name": "stderr",
     "output_type": "stream",
     "text": [
      "261it [15:52,  2.63s/it, BLEU2=0.275, BLEU1=0.333, ExactMatch=0.00472, METEOR=0.519, BertScore=nan, StubScore=0.388]"
     ]
    },
    {
     "name": "stdout",
     "output_type": "stream",
     "text": [
      "[1, 0, 0, 0, 0, 1, 1, 0, 1, 1, 1, 0, 0, 0, 0, 0, 0, 0, 1, 1, 1, 1, 0, 0, 0, 0, 1, 0, 1, 0, 0, 1, 0, 0, 0, 0, 1, 1, 0, 0, 1, 1, 1, 0, 0, 1, 0, 0, 0]\n"
     ]
    },
    {
     "name": "stderr",
     "output_type": "stream",
     "text": [
      "262it [15:58,  3.67s/it, BLEU2=0.274, BLEU1=0.332, ExactMatch=0.00469, METEOR=0.518, BertScore=nan, StubScore=0.388]"
     ]
    },
    {
     "name": "stdout",
     "output_type": "stream",
     "text": [
      "True\n",
      "14 апреля 2012 года глава Дагестана Магомедсалам Магомедов подписал указ об открытии мемориальной доски на здании № 10 по улице Горького в Махачкале, напоминающей, что именно в этом доме в 1925 году останавливался Фритьоф Нансен во время его недельного визита в Дагестан.\n",
      "В книге \"Через Кавказ на Волгу\" Фритьоф Нансен подробно описал свой визит в Дагестан.\n",
      "[1, 0, 0, 0, 0, 1, 1, 0, 1, 1, 1, 0, 0, 0, 0, 0, 0, 0, 1, 1, 1, 1, 0, 0, 0, 0, 1, 0, 1, 0, 0, 1, 0, 0, 0, 0, 1, 1, 0, 0, 1, 1, 1, 0, 0, 1, 0, 0, 0]\n"
     ]
    },
    {
     "name": "stderr",
     "output_type": "stream",
     "text": [
      "263it [15:58,  2.77s/it, BLEU2=0.273, BLEU1=0.331, ExactMatch=0.00467, METEOR=0.516, BertScore=nan, StubScore=0.388]"
     ]
    },
    {
     "name": "stdout",
     "output_type": "stream",
     "text": [
      "True\n",
      "У меня нет ответа на ваш вопрос.\n",
      "Отзывы Нансена о Дагестане были положительными, так как он описывал его как интересную страну с большими экономическими возможностями.\n",
      "[1, 0, 0, 0, 0, 1, 1, 0, 1, 1, 1, 0, 0, 0, 0, 0, 0, 0, 1, 1, 1, 1, 0, 0, 0, 0, 1, 0, 1, 0, 0, 1, 0, 0, 0, 0, 1, 1, 0, 0, 1, 1, 1, 0, 0, 1, 0, 0, 0]\n"
     ]
    },
    {
     "name": "stderr",
     "output_type": "stream",
     "text": [
      "264it [15:59,  2.18s/it, BLEU2=0.272, BLEU1=0.33, ExactMatch=0.00465, METEOR=0.515, BertScore=nan, StubScore=0.388] "
     ]
    },
    {
     "name": "stdout",
     "output_type": "stream",
     "text": [
      "True\n",
      "14 апреля 2012 года.\n",
      "Указ об открытии мемориальной плиты на школе в Махачкале подписан 14 апреля 2012 года.\n",
      "[1, 0, 0, 0, 0, 1, 1, 0, 1, 1, 1, 0, 0, 0, 0, 0, 0, 0, 1, 1, 1, 1, 0, 0, 0, 0, 1, 0, 1, 0, 0, 1, 0, 0, 0, 0, 1, 1, 0, 0, 1, 1, 1, 0, 0, 1, 0, 0, 0]\n"
     ]
    },
    {
     "name": "stderr",
     "output_type": "stream",
     "text": [
      "265it [16:02,  2.25s/it, BLEU2=0.274, BLEU1=0.331, ExactMatch=0.00463, METEOR=0.517, BertScore=nan, StubScore=0.388]"
     ]
    },
    {
     "name": "stdout",
     "output_type": "stream",
     "text": [
      "True\n",
      "Фритьоф Нансен остановился в доме № 10 по улице Горького в Махачкале в 1925 году.\n",
      "В здании № 10 по улице Горького в Махачкале в 1925 году останавливался Фритьоф Нансен.\n",
      "[1, 0, 0, 0, 0, 1, 1, 0, 1, 1, 1, 0, 0, 0, 0, 0, 0, 0, 1, 1, 1, 1, 0, 0, 0, 0, 1, 0, 1, 0, 0, 1, 0, 0, 0, 0, 1, 1, 0, 0, 1, 1, 1, 0, 0, 1, 0, 0, 0]\n"
     ]
    },
    {
     "name": "stderr",
     "output_type": "stream",
     "text": [
      "266it [16:08,  3.34s/it, BLEU2=0.273, BLEU1=0.33, ExactMatch=0.00461, METEOR=0.516, BertScore=nan, StubScore=0.388] "
     ]
    },
    {
     "name": "stdout",
     "output_type": "stream",
     "text": [
      "True\n",
      "14 января 2016 года тело певца было кремировано в ходе частной церемонии в Нью-Йорке[148]. Прах музыканта был похоронен в секретном месте, известном только его родственникам (позже стало известно, что это Бали, церемония прошла в соответствии с буддийским ритуалом)[149].\n",
      "Прах Дэвида Боуи был захоронен на острове Бали в соответствии с буддийским ритуалом.\n",
      "[1, 0, 0, 0, 0, 1, 1, 0, 1, 1, 1, 0, 0, 0, 0, 0, 0, 0, 1, 1, 1, 1, 0, 0, 0, 0, 1, 0, 1, 0, 0, 1, 0, 0, 0, 0, 1, 1, 0, 0, 1, 1, 1, 0, 0, 1, 0, 0, 0]\n",
      "False\n",
      "Продажи песен и альбомов музыканта в США выросли в первую неделю после его смерти, согласно чартам Billboard.\n",
      "Продажи песен и альбомов музыканта в США, за первую неделю после смерти, по информации Billboard, выросли более чем на 5000%.\n"
     ]
    },
    {
     "name": "stderr",
     "output_type": "stream",
     "text": [
      "267it [16:12,  3.72s/it, BLEU2=0.273, BLEU1=0.33, ExactMatch=0.00461, METEOR=0.516, BertScore=nan, StubScore=0.4]  "
     ]
    },
    {
     "name": "stdout",
     "output_type": "stream",
     "text": [
      "[1, 0, 0, 0, 0, 1, 1, 0, 1, 1, 1, 0, 0, 0, 0, 0, 0, 0, 1, 1, 1, 1, 0, 0, 0, 0, 1, 0, 1, 0, 0, 1, 0, 0, 0, 0, 1, 1, 0, 0, 1, 1, 1, 0, 0, 1, 0, 0, 0, 1]\n"
     ]
    },
    {
     "name": "stderr",
     "output_type": "stream",
     "text": [
      "268it [16:26,  6.67s/it, BLEU2=0.272, BLEU1=0.33, ExactMatch=0.00459, METEOR=0.517, BertScore=nan, StubScore=0.4]"
     ]
    },
    {
     "name": "stdout",
     "output_type": "stream",
     "text": [
      "True\n",
      "14 января 2016 года тело певца было кремировано в ходе частной церемонии в Нью-Йорке[148]. Пепел музыканта был похоронен в секретном месте, известном только его семье (позже выяснилось, что это Бали)[149]. Как и его близкий друг Фредди Меркьюри, Дэвид решил не иметь могилы или памятника. Он хотел, чтобы его помнили за его поступки при жизни, а не как памятник. Самым важным для него было сохранение его творческого наследия. Он не хотел, чтобы его жизнь была увековечена чем-то вроде надгробия, как сказал газете The Mirror источник, близкий к семье музыканта. Также появилась информация, что существует большая коллекция неизданных произведений Боуи, которая будет выпускаться в течение многих лет[150].\n",
      "После смерти певца появилась информация, что существует большая коллекция его неизданных произведений, которая будет выпускаться в течение многих лет.\n",
      "[1, 0, 0, 0, 0, 1, 1, 0, 1, 1, 1, 0, 0, 0, 0, 0, 0, 0, 1, 1, 1, 1, 0, 0, 0, 0, 1, 0, 1, 0, 0, 1, 0, 0, 0, 0, 1, 1, 0, 0, 1, 1, 1, 0, 0, 1, 0, 0, 0, 1]\n"
     ]
    },
    {
     "name": "stderr",
     "output_type": "stream",
     "text": [
      "269it [16:27,  4.99s/it, BLEU2=0.271, BLEU1=0.328, ExactMatch=0.00457, METEOR=0.516, BertScore=nan, StubScore=0.4]"
     ]
    },
    {
     "name": "stdout",
     "output_type": "stream",
     "text": [
      "True\n",
      "14 января 2016 года.\n",
      "14 января 2016 года тело певца было кремировано в ходе частной церемонии в Нью-Йорке.\n",
      "[1, 0, 0, 0, 0, 1, 1, 0, 1, 1, 1, 0, 0, 0, 0, 0, 0, 0, 1, 1, 1, 1, 0, 0, 0, 0, 1, 0, 1, 0, 0, 1, 0, 0, 0, 0, 1, 1, 0, 0, 1, 1, 1, 0, 0, 1, 0, 0, 0, 1]\n"
     ]
    },
    {
     "name": "stderr",
     "output_type": "stream",
     "text": [
      "270it [16:28,  3.91s/it, BLEU2=0.27, BLEU1=0.327, ExactMatch=0.00455, METEOR=0.514, BertScore=nan, StubScore=0.4] "
     ]
    },
    {
     "name": "stdout",
     "output_type": "stream",
     "text": [
      "True\n",
      "Место захоронения праха Дэвида Боуи находится на острове Бали.\n",
      "Это место известно только его родственникам.\n",
      "[1, 0, 0, 0, 0, 1, 1, 0, 1, 1, 1, 0, 0, 0, 0, 0, 0, 0, 1, 1, 1, 1, 0, 0, 0, 0, 1, 0, 1, 0, 0, 1, 0, 0, 0, 0, 1, 1, 0, 0, 1, 1, 1, 0, 0, 1, 0, 0, 0, 1]\n"
     ]
    },
    {
     "name": "stderr",
     "output_type": "stream",
     "text": [
      "271it [16:30,  3.24s/it, BLEU2=0.27, BLEU1=0.327, ExactMatch=0.00452, METEOR=0.516, BertScore=nan, StubScore=0.4]"
     ]
    },
    {
     "name": "stdout",
     "output_type": "stream",
     "text": [
      "True\n",
      "Лётчики, которые обнаружили вражеский аэроплан, были поручик Покровский и корнет Плонский.\n",
      "Поручик Покровский и корнет Плонский обнаружили вражеский аэроплан.\n",
      "[1, 0, 0, 0, 0, 1, 1, 0, 1, 1, 1, 0, 0, 0, 0, 0, 0, 0, 1, 1, 1, 1, 0, 0, 0, 0, 1, 0, 1, 0, 0, 1, 0, 0, 0, 0, 1, 1, 0, 0, 1, 1, 1, 0, 0, 1, 0, 0, 0, 1]\n"
     ]
    },
    {
     "name": "stderr",
     "output_type": "stream",
     "text": [
      "272it [16:31,  2.69s/it, BLEU2=0.271, BLEU1=0.328, ExactMatch=0.0045, METEOR=0.517, BertScore=nan, StubScore=0.4]"
     ]
    },
    {
     "name": "stdout",
     "output_type": "stream",
     "text": [
      "True\n",
      "15 июля во время разведки у пилотов было только оружие - пистолеты Маузер.\n",
      "У лётчиков 15-го июля во время разведки были только пистолеты Маузер.\n",
      "[1, 0, 0, 0, 0, 1, 1, 0, 1, 1, 1, 0, 0, 0, 0, 0, 0, 0, 1, 1, 1, 1, 0, 0, 0, 0, 1, 0, 1, 0, 0, 1, 0, 0, 0, 0, 1, 1, 0, 0, 1, 1, 1, 0, 0, 1, 0, 0, 0, 1]\n"
     ]
    },
    {
     "name": "stderr",
     "output_type": "stream",
     "text": [
      "273it [16:34,  2.72s/it, BLEU2=0.271, BLEU1=0.328, ExactMatch=0.00448, METEOR=0.518, BertScore=nan, StubScore=0.4]"
     ]
    },
    {
     "name": "stdout",
     "output_type": "stream",
     "text": [
      "True\n",
      "15 июля во время разведки к востоку от Золотой Липы летчики 2-го Сибирского корпусного авиаотряда поручик Покровский и корнет Плонский заметили вражеский самолет.\n",
      "Поручик Покровский и корнет Плонский увидел вражеский аэроплан во время розведки.\n",
      "[1, 0, 0, 0, 0, 1, 1, 0, 1, 1, 1, 0, 0, 0, 0, 0, 0, 0, 1, 1, 1, 1, 0, 0, 0, 0, 1, 0, 1, 0, 0, 1, 0, 0, 0, 0, 1, 1, 0, 0, 1, 1, 1, 0, 0, 1, 0, 0, 0, 1]\n"
     ]
    },
    {
     "name": "stderr",
     "output_type": "stream",
     "text": [
      "274it [16:38,  3.10s/it, BLEU2=0.27, BLEU1=0.327, ExactMatch=0.00446, METEOR=0.517, BertScore=nan, StubScore=0.4] "
     ]
    },
    {
     "name": "stdout",
     "output_type": "stream",
     "text": [
      "True\n",
      "Поручик Покровский и корнет Плонский были награждены орденом Святого Георгия 4-й степени за атаку и принуждение австрийского самолета к посадке во время разведки 15 июля.\n",
      "Наградили поручика Покровского и корнета Плонского орденами Св. Георгия 4-й степени.\n",
      "[1, 0, 0, 0, 0, 1, 1, 0, 1, 1, 1, 0, 0, 0, 0, 0, 0, 0, 1, 1, 1, 1, 0, 0, 0, 0, 1, 0, 1, 0, 0, 1, 0, 0, 0, 0, 1, 1, 0, 0, 1, 1, 1, 0, 0, 1, 0, 0, 0, 1]\n"
     ]
    },
    {
     "name": "stderr",
     "output_type": "stream",
     "text": [
      "275it [16:40,  2.81s/it, BLEU2=0.269, BLEU1=0.326, ExactMatch=0.00444, METEOR=0.515, BertScore=nan, StubScore=0.4]"
     ]
    },
    {
     "name": "stdout",
     "output_type": "stream",
     "text": [
      "True\n",
      "Лётчики, которые атаковали и заставили австрийский аэроплан опуститься, были награждены орденом Святого Георгия 4-й степени.\n",
      "Австрийский аэроплан Авиатик (бортовой номер 31-13) достался призом в совершенно неповрежденном состоянии вместе с двумя лётчиками из 7-й авиароты.\n",
      "[1, 0, 0, 0, 0, 1, 1, 0, 1, 1, 1, 0, 0, 0, 0, 0, 0, 0, 1, 1, 1, 1, 0, 0, 0, 0, 1, 0, 1, 0, 0, 1, 0, 0, 0, 0, 1, 1, 0, 0, 1, 1, 1, 0, 0, 1, 0, 0, 0, 1]\n"
     ]
    },
    {
     "name": "stderr",
     "output_type": "stream",
     "text": [
      "276it [16:41,  2.27s/it, BLEU2=0.268, BLEU1=0.325, ExactMatch=0.00442, METEOR=0.514, BertScore=nan, StubScore=0.4]"
     ]
    },
    {
     "name": "stdout",
     "output_type": "stream",
     "text": [
      "True\n",
      "16 апреля 1962 года.\n",
      "Постановление ЦК КПСС и Совета министров СССР о разработке ракетно-космического комплекса Союз вышло 16 апреля 1962 году.\n",
      "[1, 0, 0, 0, 0, 1, 1, 0, 1, 1, 1, 0, 0, 0, 0, 0, 0, 0, 1, 1, 1, 1, 0, 0, 0, 0, 1, 0, 1, 0, 0, 1, 0, 0, 0, 0, 1, 1, 0, 0, 1, 1, 1, 0, 0, 1, 0, 0, 0, 1]\n"
     ]
    },
    {
     "name": "stderr",
     "output_type": "stream",
     "text": [
      "277it [16:47,  3.32s/it, BLEU2=0.267, BLEU1=0.324, ExactMatch=0.00441, METEOR=0.514, BertScore=nan, StubScore=0.4]"
     ]
    },
    {
     "name": "stdout",
     "output_type": "stream",
     "text": [
      "True\n",
      "16 апреля 1962 года было выпущено постановление ЦК КПСС и Совета министров СССР о разработке ракетно-космического комплекса \"Союз\" для пилотируемого облета Луны. Комплекс \"Союз\" начал разрабатываться в 1962 году в ОКБ-1 как корабль советской программы облета Луны.\n",
      "Ракетно-космического комплекса Союз разрабатывался для пилотируемого облёта Луны.\n",
      "[1, 0, 0, 0, 0, 1, 1, 0, 1, 1, 1, 0, 0, 0, 0, 0, 0, 0, 1, 1, 1, 1, 0, 0, 0, 0, 1, 0, 1, 0, 0, 1, 0, 0, 0, 0, 1, 1, 0, 0, 1, 1, 1, 0, 0, 1, 0, 0, 0, 1]\n"
     ]
    },
    {
     "name": "stderr",
     "output_type": "stream",
     "text": [
      "278it [16:51,  3.46s/it, BLEU2=0.266, BLEU1=0.323, ExactMatch=0.00439, METEOR=0.513, BertScore=nan, StubScore=0.4]"
     ]
    },
    {
     "name": "stdout",
     "output_type": "stream",
     "text": [
      "True\n",
      "На основе проекта 7К-ОК разрабатывался военный корабль \"Союз-Р\" (Разведчик), а затем на его основе - \"Союз-ВИ\" (Военный исследователь).\n",
      "На базе 7К начали делать 7К-ОК — многоцелевой трёхместный орбитальный корабль (ОК).\n",
      "[1, 0, 0, 0, 0, 1, 1, 0, 1, 1, 1, 0, 0, 0, 0, 0, 0, 0, 1, 1, 1, 1, 0, 0, 0, 0, 1, 0, 1, 0, 0, 1, 0, 0, 0, 0, 1, 1, 0, 0, 1, 1, 1, 0, 0, 1, 0, 0, 0, 1]\n"
     ]
    },
    {
     "name": "stderr",
     "output_type": "stream",
     "text": [
      "279it [16:52,  2.95s/it, BLEU2=0.265, BLEU1=0.323, ExactMatch=0.00437, METEOR=0.512, BertScore=nan, StubScore=0.4]"
     ]
    },
    {
     "name": "stdout",
     "output_type": "stream",
     "text": [
      "True\n",
      "Программа \"Север\" - это программа облета Луны, которая была разработана после закрытия программы А.\n",
      "По программе Север планировался облет Луны после закрытия проекта А.\n",
      "[1, 0, 0, 0, 0, 1, 1, 0, 1, 1, 1, 0, 0, 0, 0, 0, 0, 0, 1, 1, 1, 1, 0, 0, 0, 0, 1, 0, 1, 0, 0, 1, 0, 0, 0, 0, 1, 1, 0, 0, 1, 1, 1, 0, 0, 1, 0, 0, 0, 1]\n"
     ]
    },
    {
     "name": "stderr",
     "output_type": "stream",
     "text": [
      "280it [17:02,  4.96s/it, BLEU2=0.264, BLEU1=0.322, ExactMatch=0.00435, METEOR=0.512, BertScore=nan, StubScore=0.4]"
     ]
    },
    {
     "name": "stdout",
     "output_type": "stream",
     "text": [
      "True\n",
      "16 апреля 1962 года вышло постановление ЦК КПСС и Совета министров СССР о разработке ракетно-космического комплекса \"Союз\" для пилотируемого облета Луны. Комплекс \"Союз\" начал разрабатываться в 1962 году в ОКБ-1 как корабль советской программы облета Луны. Первоначально предполагалось, что связка из космического корабля и разгонных блоков 7К, 9К, 11К будет отправлена на Луну в рамках программы А.\n",
      "Связка из 7К, 9К, 11К должна была отправиться к Луне по программе А.\n",
      "[1, 0, 0, 0, 0, 1, 1, 0, 1, 1, 1, 0, 0, 0, 0, 0, 0, 0, 1, 1, 1, 1, 0, 0, 0, 0, 1, 0, 1, 0, 0, 1, 0, 0, 0, 0, 1, 1, 0, 0, 1, 1, 1, 0, 0, 1, 0, 0, 0, 1]\n"
     ]
    },
    {
     "name": "stderr",
     "output_type": "stream",
     "text": [
      "281it [17:04,  3.89s/it, BLEU2=0.265, BLEU1=0.322, ExactMatch=0.00433, METEOR=0.513, BertScore=nan, StubScore=0.4]"
     ]
    },
    {
     "name": "stdout",
     "output_type": "stream",
     "text": [
      "True\n",
      "Ялмар Йохансен считался самым опытным лыжником и каюром в экспедиции.\n",
      "Самым опытным лыжником и каюром в экспедиции считали Ялмара Йохансена.\n",
      "[1, 0, 0, 0, 0, 1, 1, 0, 1, 1, 1, 0, 0, 0, 0, 0, 0, 0, 1, 1, 1, 1, 0, 0, 0, 0, 1, 0, 1, 0, 0, 1, 0, 0, 0, 0, 1, 1, 0, 0, 1, 1, 1, 0, 0, 1, 0, 0, 0, 1]\n"
     ]
    },
    {
     "name": "stderr",
     "output_type": "stream",
     "text": [
      "282it [17:07,  3.74s/it, BLEU2=0.266, BLEU1=0.324, ExactMatch=0.00431, METEOR=0.513, BertScore=nan, StubScore=0.4]"
     ]
    },
    {
     "name": "stdout",
     "output_type": "stream",
     "text": [
      "True\n",
      "В ноябре 1894 года Фрам находился в 750 километрах от мыса Флигли и примерно в 780 километрах от Северного полюса.\n",
      "Фрам в ноябре 1894 года находился в 750 км от мыса Флигели и на расстоянии примерно 780 км от Северного полюса.\n",
      "[1, 0, 0, 0, 0, 1, 1, 0, 1, 1, 1, 0, 0, 0, 0, 0, 0, 0, 1, 1, 1, 1, 0, 0, 0, 0, 1, 0, 1, 0, 0, 1, 0, 0, 0, 0, 1, 1, 0, 0, 1, 1, 1, 0, 0, 1, 0, 0, 0, 1]\n",
      "False\n",
      "У меня нет ответа на ваш вопрос.\n",
      "Для достижения полюса отводилось 50 суток.\n"
     ]
    },
    {
     "name": "stderr",
     "output_type": "stream",
     "text": [
      "283it [17:09,  3.20s/it, BLEU2=0.266, BLEU1=0.324, ExactMatch=0.00431, METEOR=0.513, BertScore=nan, StubScore=0.412]"
     ]
    },
    {
     "name": "stdout",
     "output_type": "stream",
     "text": [
      "[1, 0, 0, 0, 0, 1, 1, 0, 1, 1, 1, 0, 0, 0, 0, 0, 0, 0, 1, 1, 1, 1, 0, 0, 0, 0, 1, 0, 1, 0, 0, 1, 0, 0, 0, 0, 1, 1, 0, 0, 1, 1, 1, 0, 0, 1, 0, 0, 0, 1, 1]\n"
     ]
    },
    {
     "name": "stderr",
     "output_type": "stream",
     "text": [
      "284it [17:17,  4.62s/it, BLEU2=0.265, BLEU1=0.323, ExactMatch=0.00429, METEOR=0.513, BertScore=nan, StubScore=0.412]"
     ]
    },
    {
     "name": "stdout",
     "output_type": "stream",
     "text": [
      "True\n",
      "16 ноября 1894 года Нансен объявил команде, что он покинет судно в будущем году. Фрам находился в 750 км от мыса Флигели и примерно в 780 км от Северного полюса. Нансен рассчитывал, что в поход пойдут два человека, 28 собак с грузом 1050 кг (по 37,5 кг на собаку).\n",
      "Нансен планировал отправить в поход 28 собак.\n",
      "[1, 0, 0, 0, 0, 1, 1, 0, 1, 1, 1, 0, 0, 0, 0, 0, 0, 0, 1, 1, 1, 1, 0, 0, 0, 0, 1, 0, 1, 0, 0, 1, 0, 0, 0, 0, 1, 1, 0, 0, 1, 1, 1, 0, 0, 1, 0, 0, 0, 1, 1]\n"
     ]
    },
    {
     "name": "stderr",
     "output_type": "stream",
     "text": [
      "285it [17:19,  3.86s/it, BLEU2=0.266, BLEU1=0.325, ExactMatch=0.00427, METEOR=0.514, BertScore=nan, StubScore=0.412]"
     ]
    },
    {
     "name": "stdout",
     "output_type": "stream",
     "text": [
      "True\n",
      "16 ноября 1894 года Нансен объявил команде, что покинет судно в будущем году.\n",
      "Нансен объявил команде, что покидает судно в будущем году.\n",
      "[1, 0, 0, 0, 0, 1, 1, 0, 1, 1, 1, 0, 0, 0, 0, 0, 0, 0, 1, 1, 1, 1, 0, 0, 0, 0, 1, 0, 1, 0, 0, 1, 0, 0, 0, 0, 1, 1, 0, 0, 1, 1, 1, 0, 0, 1, 0, 0, 0, 1, 1]\n"
     ]
    },
    {
     "name": "stderr",
     "output_type": "stream",
     "text": [
      "286it [17:21,  3.30s/it, BLEU2=0.268, BLEU1=0.326, ExactMatch=0.00426, METEOR=0.516, BertScore=nan, StubScore=0.412]"
     ]
    },
    {
     "name": "stdout",
     "output_type": "stream",
     "text": [
      "True\n",
      "В 1980 году был образован Нефтеюганский район с центром в городе Нефтеюганск.\n",
      "Нефтеюганский район с центром в городе Нефтеюганске был образован в 1980 году.\n",
      "[1, 0, 0, 0, 0, 1, 1, 0, 1, 1, 1, 0, 0, 0, 0, 0, 0, 0, 1, 1, 1, 1, 0, 0, 0, 0, 1, 0, 1, 0, 0, 1, 0, 0, 0, 0, 1, 1, 0, 0, 1, 1, 1, 0, 0, 1, 0, 0, 0, 1, 1]\n"
     ]
    },
    {
     "name": "stderr",
     "output_type": "stream",
     "text": [
      "287it [17:24,  3.26s/it, BLEU2=0.271, BLEU1=0.329, ExactMatch=0.00424, METEOR=0.518, BertScore=nan, StubScore=0.412]"
     ]
    },
    {
     "name": "stdout",
     "output_type": "stream",
     "text": [
      "True\n",
      "В январе 1968 года город Нефтеюганск встречал особого гостя - члена Политбюро ЦК КПСС, Председателя Совета Министров СССР Алексея Николаевича Косыгина.\n",
      "В январе 1968 года город Нефтеюганск встречал особого гостя — члена Политбюро ЦК КПСС, Председателя Совета Министров СССР Алексея Николаевича Косыгина.\n",
      "[1, 0, 0, 0, 0, 1, 1, 0, 1, 1, 1, 0, 0, 0, 0, 0, 0, 0, 1, 1, 1, 1, 0, 0, 0, 0, 1, 0, 1, 0, 0, 1, 0, 0, 0, 0, 1, 1, 0, 0, 1, 1, 1, 0, 0, 1, 0, 0, 0, 1, 1]\n"
     ]
    },
    {
     "name": "stderr",
     "output_type": "stream",
     "text": [
      "288it [17:25,  2.57s/it, BLEU2=0.27, BLEU1=0.328, ExactMatch=0.00422, METEOR=0.516, BertScore=nan, StubScore=0.412] "
     ]
    },
    {
     "name": "stdout",
     "output_type": "stream",
     "text": [
      "True\n",
      "16 октября 1967 года.\n",
      "Президиум Верховного Совета РСФСР издал Указ О преобразовании рабочего посёлка Нефтеюганск Сургутского района Ханты-Мансийского национального округа, Тюменской области в город окружного подчинения 16 октября 1967 года.\n",
      "[1, 0, 0, 0, 0, 1, 1, 0, 1, 1, 1, 0, 0, 0, 0, 0, 0, 0, 1, 1, 1, 1, 0, 0, 0, 0, 1, 0, 1, 0, 0, 1, 0, 0, 0, 0, 1, 1, 0, 0, 1, 1, 1, 0, 0, 1, 0, 0, 0, 1, 1]\n"
     ]
    },
    {
     "name": "stderr",
     "output_type": "stream",
     "text": [
      "289it [17:26,  2.12s/it, BLEU2=0.269, BLEU1=0.327, ExactMatch=0.0042, METEOR=0.516, BertScore=nan, StubScore=0.412]"
     ]
    },
    {
     "name": "stdout",
     "output_type": "stream",
     "text": [
      "True\n",
      "В конце 1960-х годов.\n",
      "Первые каменные дома в Нефтеюганске были построены в конце 1960-х.\n",
      "[1, 0, 0, 0, 0, 1, 1, 0, 1, 1, 1, 0, 0, 0, 0, 0, 0, 0, 1, 1, 1, 1, 0, 0, 0, 0, 1, 0, 1, 0, 0, 1, 0, 0, 0, 0, 1, 1, 0, 0, 1, 1, 1, 0, 0, 1, 0, 0, 0, 1, 1]\n"
     ]
    },
    {
     "name": "stderr",
     "output_type": "stream",
     "text": [
      "290it [17:28,  2.08s/it, BLEU2=0.269, BLEU1=0.327, ExactMatch=0.00418, METEOR=0.516, BertScore=nan, StubScore=0.412]"
     ]
    },
    {
     "name": "stdout",
     "output_type": "stream",
     "text": [
      "True\n",
      "Мост, открытый в 1984 году, находится в протоке Юганская Обь.\n",
      "Мост в 1984 году был открыт через протоку Юганская Обь.\n",
      "[1, 0, 0, 0, 0, 1, 1, 0, 1, 1, 1, 0, 0, 0, 0, 0, 0, 0, 1, 1, 1, 1, 0, 0, 0, 0, 1, 0, 1, 0, 0, 1, 0, 0, 0, 0, 1, 1, 0, 0, 1, 1, 1, 0, 0, 1, 0, 0, 0, 1, 1]\n"
     ]
    },
    {
     "name": "stderr",
     "output_type": "stream",
     "text": [
      "291it [17:28,  1.58s/it, BLEU2=0.268, BLEU1=0.325, ExactMatch=0.00417, METEOR=0.514, BertScore=nan, StubScore=0.412]"
     ]
    },
    {
     "name": "stdout",
     "output_type": "stream",
     "text": [
      "True\n",
      "16.\n",
      "Народники-деревенщики организовали кружки в Петербурге, Москве, Туле и Харькове.\n",
      "[1, 0, 0, 0, 0, 1, 1, 0, 1, 1, 1, 0, 0, 0, 0, 0, 0, 0, 1, 1, 1, 1, 0, 0, 0, 0, 1, 0, 1, 0, 0, 1, 0, 0, 0, 0, 1, 1, 0, 0, 1, 1, 1, 0, 0, 1, 0, 0, 0, 1, 1]\n",
      "False\n",
      "В 1883 году была создана группа \"Освобождение труда\".\n",
      "Группа Освобождение труда была создана в 1883 году.\n"
     ]
    },
    {
     "name": "stderr",
     "output_type": "stream",
     "text": [
      "292it [17:32,  2.27s/it, BLEU2=0.268, BLEU1=0.325, ExactMatch=0.00417, METEOR=0.514, BertScore=nan, StubScore=0.404]"
     ]
    },
    {
     "name": "stdout",
     "output_type": "stream",
     "text": [
      "[1, 0, 0, 0, 0, 1, 1, 0, 1, 1, 1, 0, 0, 0, 0, 0, 0, 0, 1, 1, 1, 1, 0, 0, 0, 0, 1, 0, 1, 0, 0, 1, 0, 0, 0, 0, 1, 1, 0, 0, 1, 1, 1, 0, 0, 1, 0, 0, 0, 1, 1, 0]\n"
     ]
    },
    {
     "name": "stderr",
     "output_type": "stream",
     "text": [
      "293it [17:34,  2.21s/it, BLEU2=0.266, BLEU1=0.324, ExactMatch=0.00415, METEOR=0.512, BertScore=nan, StubScore=0.404]"
     ]
    },
    {
     "name": "stdout",
     "output_type": "stream",
     "text": [
      "True\n",
      "[0.154] Газета Зерно (1880-1881)\n",
      "Газета для рабочих и крестьян, издаваемая в смоленской типографии называлась Зерно.\n",
      "[1, 0, 0, 0, 0, 1, 1, 0, 1, 1, 1, 0, 0, 0, 0, 0, 0, 0, 1, 1, 1, 1, 0, 0, 0, 0, 1, 0, 1, 0, 0, 1, 0, 0, 0, 0, 1, 1, 0, 0, 1, 1, 1, 0, 0, 1, 0, 0, 0, 1, 1, 0]\n"
     ]
    },
    {
     "name": "stderr",
     "output_type": "stream",
     "text": [
      "294it [17:36,  2.09s/it, BLEU2=0.266, BLEU1=0.324, ExactMatch=0.00413, METEOR=0.511, BertScore=nan, StubScore=0.404]"
     ]
    },
    {
     "name": "stdout",
     "output_type": "stream",
     "text": [
      "True\n",
      "Плеханов, Засулич, Дейч и Стефанович эмигрировали в Швейцарию.\n",
      "Плеханов, Засулич, Дейч и Стефанович эмигрировали в Швейцарию, где, ознакомившись с марксистскими идеями, создали в 1883 в Женеве группу Освобождение труда.\n",
      "[1, 0, 0, 0, 0, 1, 1, 0, 1, 1, 1, 0, 0, 0, 0, 0, 0, 0, 1, 1, 1, 1, 0, 0, 0, 0, 1, 0, 1, 0, 0, 1, 0, 0, 0, 0, 1, 1, 0, 0, 1, 1, 1, 0, 0, 1, 0, 0, 0, 1, 1, 0]\n"
     ]
    },
    {
     "name": "stderr",
     "output_type": "stream",
     "text": [
      "295it [17:42,  3.17s/it, BLEU2=0.265, BLEU1=0.323, ExactMatch=0.00412, METEOR=0.511, BertScore=nan, StubScore=0.404]"
     ]
    },
    {
     "name": "stdout",
     "output_type": "stream",
     "text": [
      "True\n",
      "В 1880-1881 годах группа народников-деревенщиков (Плеханов, Засулич, Дейч, Аптекман, Я. В. Стефанович и др.) получили часть денег и типографию в Смоленске, где издавали газету \"Зерно\" для рабочих и крестьян. Однако вскоре газета была разгромлена.\n",
      "Типография в Смоленске была разгромлена.\n",
      "[1, 0, 0, 0, 0, 1, 1, 0, 1, 1, 1, 0, 0, 0, 0, 0, 0, 0, 1, 1, 1, 1, 0, 0, 0, 0, 1, 0, 1, 0, 0, 1, 0, 0, 0, 0, 1, 1, 0, 0, 1, 1, 1, 0, 0, 1, 0, 0, 0, 1, 1, 0]\n"
     ]
    },
    {
     "name": "stderr",
     "output_type": "stream",
     "text": [
      "296it [17:51,  4.93s/it, BLEU2=0.264, BLEU1=0.322, ExactMatch=0.0041, METEOR=0.51, BertScore=nan, StubScore=0.404]  "
     ]
    },
    {
     "name": "stdout",
     "output_type": "stream",
     "text": [
      "True\n",
      "17 (29) мая Н. Н. Муравьев торжественно вернулся в Усть-Зейскую станицу. Архиепископ Иннокентий отслужил благодарственный молебен, и на следующий день был устроен торжественный прием в честь подписания договора. На приеме Муравьев поздравил всех присутствующих, сказав: \"Товарищи! Поздравляю вас! Не напрасно трудились мы: Амур сделался достоянием России. Святая православная церковь молится за вас! Россия - благодарит! Да здравствует император Александр и да процветает под кровом его вновь приобретенная страна. Ура!\"\n",
      "Встретили Н.Н. Муравьёва в Усть-Зейскую станице немедленным служением благодарственного молебна Архиепископом Иннокентием.\n",
      "[1, 0, 0, 0, 0, 1, 1, 0, 1, 1, 1, 0, 0, 0, 0, 0, 0, 0, 1, 1, 1, 1, 0, 0, 0, 0, 1, 0, 1, 0, 0, 1, 0, 0, 0, 0, 1, 1, 0, 0, 1, 1, 1, 0, 0, 1, 0, 0, 0, 1, 1, 0]\n"
     ]
    },
    {
     "name": "stderr",
     "output_type": "stream",
     "text": [
      "297it [17:57,  5.20s/it, BLEU2=0.265, BLEU1=0.323, ExactMatch=0.00408, METEOR=0.511, BertScore=nan, StubScore=0.404]"
     ]
    },
    {
     "name": "stdout",
     "output_type": "stream",
     "text": [
      "True\n",
      "Во время торжественного приема, устроенного в честь подписания договора, Н. Н. Муравьев поздравил всех участников такими словами: \"Товарищи! Поздравляю вас! Не напрасно мы трудились: Амур стал достоянием России. Святая православная церковь молится за вас! Россия - благодарит! Да здравствует император Александр и да процветает под его кровом вновь приобретенная страна. Ура!\"\n",
      "Н.Н. Муравьёв во время торжественного приёма, устроенного по поводу подписания договора произнес: \"Товарищи! Поздравляю вас! Не тщетно трудились мы: Амур сделался достоянием России. Святая православная церковь молится за вас! Россия — благодарит! Да здравствует император Александр и процветает под кровом его вновь приобретённая страна. Ура!\"\n",
      "[1, 0, 0, 0, 0, 1, 1, 0, 1, 1, 1, 0, 0, 0, 0, 0, 0, 0, 1, 1, 1, 1, 0, 0, 0, 0, 1, 0, 1, 0, 0, 1, 0, 0, 0, 0, 1, 1, 0, 0, 1, 1, 1, 0, 0, 1, 0, 0, 0, 1, 1, 0]\n"
     ]
    },
    {
     "name": "stderr",
     "output_type": "stream",
     "text": [
      "298it [17:57,  3.83s/it, BLEU2=0.265, BLEU1=0.322, ExactMatch=0.00407, METEOR=0.511, BertScore=nan, StubScore=0.404]"
     ]
    },
    {
     "name": "stdout",
     "output_type": "stream",
     "text": [
      "True\n",
      "17 (29) мая.\n",
      "Н.Н. Муравьёв вернулся в Усть-Зейскую станицу 17 (29) мая.\n",
      "[1, 0, 0, 0, 0, 1, 1, 0, 1, 1, 1, 0, 0, 0, 0, 0, 0, 0, 1, 1, 1, 1, 0, 0, 0, 0, 1, 0, 1, 0, 0, 1, 0, 0, 0, 0, 1, 1, 0, 0, 1, 1, 1, 0, 0, 1, 0, 0, 0, 1, 1, 0]\n"
     ]
    },
    {
     "name": "stderr",
     "output_type": "stream",
     "text": [
      "299it [18:08,  5.76s/it, BLEU2=0.263, BLEU1=0.321, ExactMatch=0.00405, METEOR=0.509, BertScore=nan, StubScore=0.404]"
     ]
    },
    {
     "name": "stdout",
     "output_type": "stream",
     "text": [
      "True\n",
      "[0.156] В 1857 году, по Амуру прибыли еще сто человек забайкальских казаков (семей), чтобы поселиться здесь постоянно. Таким образом, к весне 1858 года на берегах Амура уже жили русские люди. Эта благоприятная обстановка позволила документально закрепить эти территории за Российской империей. Эта почетная миссия была возложена на генерал-губернатора Н. Н. Муравьева. 5 (17) мая 1858 года он прибыл в Усть-Зейскую станицу (нынешний Благовещенск). Его сопровождал архиепископ Камчатский, Курильский и Алеутский Иннокентий (Вениаминов).\n",
      "Прием Н.Н. Муравьёва устроен по поводу подписания договора.\n",
      "[1, 0, 0, 0, 0, 1, 1, 0, 1, 1, 1, 0, 0, 0, 0, 0, 0, 0, 1, 1, 1, 1, 0, 0, 0, 0, 1, 0, 1, 0, 0, 1, 0, 0, 0, 0, 1, 1, 0, 0, 1, 1, 1, 0, 0, 1, 0, 0, 0, 1, 1, 0]\n"
     ]
    },
    {
     "name": "stderr",
     "output_type": "stream",
     "text": [
      "300it [18:08,  4.20s/it, BLEU2=0.262, BLEU1=0.319, ExactMatch=0.00403, METEOR=0.507, BertScore=nan, StubScore=0.404]"
     ]
    },
    {
     "name": "stdout",
     "output_type": "stream",
     "text": [
      "True\n",
      "Я не могу ответить на ваш вопрос.\n",
      "Миссия Н.Н. Муравьёва. Проходила во времена правления императора Александра.\n",
      "[1, 0, 0, 0, 0, 1, 1, 0, 1, 1, 1, 0, 0, 0, 0, 0, 0, 0, 1, 1, 1, 1, 0, 0, 0, 0, 1, 0, 1, 0, 0, 1, 0, 0, 0, 0, 1, 1, 0, 0, 1, 1, 1, 0, 0, 1, 0, 0, 0, 1, 1, 0]\n",
      "False\n",
      "У меня нет ответа на ваш вопрос.\n",
      "В декабре 1923 года Ш. Х. Сюнчелей возглавлял Академический центр при СНК Башкирской АССР.\n"
     ]
    },
    {
     "name": "stderr",
     "output_type": "stream",
     "text": [
      "301it [18:10,  3.53s/it, BLEU2=0.262, BLEU1=0.319, ExactMatch=0.00403, METEOR=0.507, BertScore=nan, StubScore=0.415]"
     ]
    },
    {
     "name": "stdout",
     "output_type": "stream",
     "text": [
      "[1, 0, 0, 0, 0, 1, 1, 0, 1, 1, 1, 0, 0, 0, 0, 0, 0, 0, 1, 1, 1, 1, 0, 0, 0, 0, 1, 0, 1, 0, 0, 1, 0, 0, 0, 0, 1, 1, 0, 0, 1, 1, 1, 0, 0, 1, 0, 0, 0, 1, 1, 0, 1]\n"
     ]
    },
    {
     "name": "stderr",
     "output_type": "stream",
     "text": [
      "302it [18:11,  2.76s/it, BLEU2=0.262, BLEU1=0.319, ExactMatch=0.00402, METEOR=0.507, BertScore=nan, StubScore=0.415]"
     ]
    },
    {
     "name": "stdout",
     "output_type": "stream",
     "text": [
      "True\n",
      "20 февраля 1924 года.\n",
      "Постановление \"О литературном языке башкир\" было издано 20 февраля 1924 года.\n",
      "[1, 0, 0, 0, 0, 1, 1, 0, 1, 1, 1, 0, 0, 0, 0, 0, 0, 0, 1, 1, 1, 1, 0, 0, 0, 0, 1, 0, 1, 0, 0, 1, 0, 0, 0, 0, 1, 1, 0, 0, 1, 1, 1, 0, 0, 1, 0, 0, 0, 1, 1, 0, 1]\n"
     ]
    },
    {
     "name": "stderr",
     "output_type": "stream",
     "text": [
      "303it [18:12,  2.22s/it, BLEU2=0.261, BLEU1=0.318, ExactMatch=0.004, METEOR=0.505, BertScore=nan, StubScore=0.415]  "
     ]
    },
    {
     "name": "stdout",
     "output_type": "stream",
     "text": [
      "True\n",
      "20 февраля 1924 года.\n",
      "Решение о взятии куваканского наречия за основу башкирского литературного языка было принято 17 декабря 1923 года.\n",
      "[1, 0, 0, 0, 0, 1, 1, 0, 1, 1, 1, 0, 0, 0, 0, 0, 0, 0, 1, 1, 1, 1, 0, 0, 0, 0, 1, 0, 1, 0, 0, 1, 0, 0, 0, 0, 1, 1, 0, 0, 1, 1, 1, 0, 0, 1, 0, 0, 0, 1, 1, 0, 1]\n",
      "False\n",
      "Я не могу дать ответ на этот вопрос, так как в предоставленных текстах не упоминается автор постановления о литературном языке башкирского.\n",
      "Автором постановления \"О литературном языке башкир\" является Башнаркомпрос.\n"
     ]
    },
    {
     "name": "stderr",
     "output_type": "stream",
     "text": [
      "304it [18:17,  2.88s/it, BLEU2=0.261, BLEU1=0.318, ExactMatch=0.004, METEOR=0.505, BertScore=nan, StubScore=0.407]"
     ]
    },
    {
     "name": "stdout",
     "output_type": "stream",
     "text": [
      "[1, 0, 0, 0, 0, 1, 1, 0, 1, 1, 1, 0, 0, 0, 0, 0, 0, 0, 1, 1, 1, 1, 0, 0, 0, 0, 1, 0, 1, 0, 0, 1, 0, 0, 0, 0, 1, 1, 0, 0, 1, 1, 1, 0, 0, 1, 0, 0, 0, 1, 1, 0, 1, 0]\n",
      "False\n",
      "У меня нет ответа на ваш вопрос.\n",
      "Башкирский литературный язык сформировался на основе куваканского и юрматынского диалектов.\n"
     ]
    },
    {
     "name": "stderr",
     "output_type": "stream",
     "text": [
      "305it [18:19,  2.61s/it, BLEU2=0.261, BLEU1=0.318, ExactMatch=0.004, METEOR=0.505, BertScore=nan, StubScore=0.418]"
     ]
    },
    {
     "name": "stdout",
     "output_type": "stream",
     "text": [
      "[1, 0, 0, 0, 0, 1, 1, 0, 1, 1, 1, 0, 0, 0, 0, 0, 0, 0, 1, 1, 1, 1, 0, 0, 0, 0, 1, 0, 1, 0, 0, 1, 0, 0, 0, 0, 1, 1, 0, 0, 1, 1, 1, 0, 0, 1, 0, 0, 0, 1, 1, 0, 1, 0, 1]\n",
      "False\n",
      "Телевизионная версия \"The Greatest Showman\" длится 1 час 52 минуты.\n",
      "Длительность телеверсии — 52 минуты.\n"
     ]
    },
    {
     "name": "stderr",
     "output_type": "stream",
     "text": [
      "306it [18:23,  3.08s/it, BLEU2=0.261, BLEU1=0.318, ExactMatch=0.004, METEOR=0.505, BertScore=nan, StubScore=0.411]"
     ]
    },
    {
     "name": "stdout",
     "output_type": "stream",
     "text": [
      "[1, 0, 0, 0, 0, 1, 1, 0, 1, 1, 1, 0, 0, 0, 0, 0, 0, 0, 1, 1, 1, 1, 0, 0, 0, 0, 1, 0, 1, 0, 0, 1, 0, 0, 0, 0, 1, 1, 0, 0, 1, 1, 1, 0, 0, 1, 0, 0, 0, 1, 1, 0, 1, 0, 1, 0]\n"
     ]
    },
    {
     "name": "stderr",
     "output_type": "stream",
     "text": [
      "307it [18:24,  2.63s/it, BLEU2=0.261, BLEU1=0.317, ExactMatch=0.00398, METEOR=0.504, BertScore=nan, StubScore=0.411]"
     ]
    },
    {
     "name": "stdout",
     "output_type": "stream",
     "text": [
      "True\n",
      "18 июня на концерте прозвучала песня Жака Бреля \"Moi Mort\".\n",
      "По просьбе фанатов была исполнена песня Жака Бреля My Death.\n",
      "[1, 0, 0, 0, 0, 1, 1, 0, 1, 1, 1, 0, 0, 0, 0, 0, 0, 0, 1, 1, 1, 1, 0, 0, 0, 0, 1, 0, 1, 0, 0, 1, 0, 0, 0, 0, 1, 1, 0, 0, 1, 1, 1, 0, 0, 1, 0, 0, 0, 1, 1, 0, 1, 0, 1, 0]\n"
     ]
    },
    {
     "name": "stderr",
     "output_type": "stream",
     "text": [
      "308it [18:32,  4.22s/it, BLEU2=0.26, BLEU1=0.316, ExactMatch=0.00397, METEOR=0.503, BertScore=nan, StubScore=0.411] "
     ]
    },
    {
     "name": "stdout",
     "output_type": "stream",
     "text": [
      "True\n",
      "18 июня состоялся концерт. На нем по просьбе фанатов была исполнена песня Жака Бреля \"Моя смерть\", которая также исполнялась на некоторых концертах тура \"Outside\" (впервые с 1973 года) и прозвучала в необычной обработке, напоминающей стиль альбома 1.Outside. Канал ОРТ записал телеверсию концерта, которая длилась 52 минуты, что на 25 минут короче полной версии.\n",
      "Концерт был записан телеканалом ОРТ.\n",
      "[1, 0, 0, 0, 0, 1, 1, 0, 1, 1, 1, 0, 0, 0, 0, 0, 0, 0, 1, 1, 1, 1, 0, 0, 0, 0, 1, 0, 1, 0, 0, 1, 0, 0, 0, 0, 1, 1, 0, 0, 1, 1, 1, 0, 0, 1, 0, 0, 0, 1, 1, 0, 1, 0, 1, 0]\n"
     ]
    },
    {
     "name": "stderr",
     "output_type": "stream",
     "text": [
      "309it [18:33,  3.09s/it, BLEU2=0.259, BLEU1=0.315, ExactMatch=0.00395, METEOR=0.502, BertScore=nan, StubScore=0.411]"
     ]
    },
    {
     "name": "stdout",
     "output_type": "stream",
     "text": [
      "True\n",
      "18 июня.\n",
      "Концерт, на котором пел Дэвид Боуи, состоялся 18 июня.\n",
      "[1, 0, 0, 0, 0, 1, 1, 0, 1, 1, 1, 0, 0, 0, 0, 0, 0, 0, 1, 1, 1, 1, 0, 0, 0, 0, 1, 0, 1, 0, 0, 1, 0, 0, 0, 0, 1, 1, 0, 0, 1, 1, 1, 0, 0, 1, 0, 0, 0, 1, 1, 0, 1, 0, 1, 0]\n"
     ]
    },
    {
     "name": "stderr",
     "output_type": "stream",
     "text": [
      "310it [18:33,  2.40s/it, BLEU2=0.258, BLEU1=0.314, ExactMatch=0.00394, METEOR=0.5, BertScore=nan, StubScore=0.411]  "
     ]
    },
    {
     "name": "stdout",
     "output_type": "stream",
     "text": [
      "True\n",
      "У меня нет ответа на ваш вопрос.\n",
      "My Death исполнялась на концертах тура Outside.\n",
      "[1, 0, 0, 0, 0, 1, 1, 0, 1, 1, 1, 0, 0, 0, 0, 0, 0, 0, 1, 1, 1, 1, 0, 0, 0, 0, 1, 0, 1, 0, 0, 1, 0, 0, 0, 0, 1, 1, 0, 0, 1, 1, 1, 0, 0, 1, 0, 0, 0, 1, 1, 0, 1, 0, 1, 0]\n"
     ]
    },
    {
     "name": "stderr",
     "output_type": "stream",
     "text": [
      "311it [18:35,  2.12s/it, BLEU2=0.257, BLEU1=0.314, ExactMatch=0.00392, METEOR=0.499, BertScore=nan, StubScore=0.411]"
     ]
    },
    {
     "name": "stdout",
     "output_type": "stream",
     "text": [
      "True\n",
      "Отель, в котором располагалось издательство \"Скорпион\", назывался \"Бристоль\".\n",
      "Гостиница, где размещалось издательство Скорпион, называлась Метрополь.\n",
      "[1, 0, 0, 0, 0, 1, 1, 0, 1, 1, 1, 0, 0, 0, 0, 0, 0, 0, 1, 1, 1, 1, 0, 0, 0, 0, 1, 0, 1, 0, 0, 1, 0, 0, 0, 0, 1, 1, 0, 0, 1, 1, 1, 0, 0, 1, 0, 0, 0, 1, 1, 0, 1, 0, 1, 0]\n"
     ]
    },
    {
     "name": "stderr",
     "output_type": "stream",
     "text": [
      "312it [18:36,  1.73s/it, BLEU2=0.257, BLEU1=0.313, ExactMatch=0.00391, METEOR=0.499, BertScore=nan, StubScore=0.411]"
     ]
    },
    {
     "name": "stdout",
     "output_type": "stream",
     "text": [
      "True\n",
      "18 октября 1903 года.\n",
      "Голосование комиссии по присуждению Пушкинской премии состоялось 18 октября 1903 года.\n",
      "[1, 0, 0, 0, 0, 1, 1, 0, 1, 1, 1, 0, 0, 0, 0, 0, 0, 0, 1, 1, 1, 1, 0, 0, 0, 0, 1, 0, 1, 0, 0, 1, 0, 0, 0, 0, 1, 1, 0, 0, 1, 1, 1, 0, 0, 1, 0, 0, 0, 1, 1, 0, 1, 0, 1, 0]\n",
      "False\n",
      "Второй частью Нобелевской премии по литературе был удостоен Боб Дилан.\n",
      "Вторая часть премии досталась переводчику Петру Вейнбергу.\n"
     ]
    },
    {
     "name": "stderr",
     "output_type": "stream",
     "text": [
      "313it [18:39,  2.15s/it, BLEU2=0.257, BLEU1=0.313, ExactMatch=0.00391, METEOR=0.499, BertScore=nan, StubScore=0.404]"
     ]
    },
    {
     "name": "stdout",
     "output_type": "stream",
     "text": [
      "[1, 0, 0, 0, 0, 1, 1, 0, 1, 1, 1, 0, 0, 0, 0, 0, 0, 0, 1, 1, 1, 1, 0, 0, 0, 0, 1, 0, 1, 0, 0, 1, 0, 0, 0, 0, 1, 1, 0, 0, 1, 1, 1, 0, 0, 1, 0, 0, 0, 1, 1, 0, 1, 0, 1, 0, 0]\n"
     ]
    },
    {
     "name": "stderr",
     "output_type": "stream",
     "text": [
      "314it [18:39,  1.69s/it, BLEU2=0.26, BLEU1=0.316, ExactMatch=0.00778, METEOR=0.501, BertScore=nan, StubScore=0.404] "
     ]
    },
    {
     "name": "stdout",
     "output_type": "stream",
     "text": [
      "True\n",
      "Бунин получил восемь избирательных голосов.\n",
      "Бунин получил восемь избирательных голосов.\n",
      "[1, 0, 0, 0, 0, 1, 1, 0, 1, 1, 1, 0, 0, 0, 0, 0, 0, 0, 1, 1, 1, 1, 0, 0, 0, 0, 1, 0, 1, 0, 0, 1, 0, 0, 0, 0, 1, 1, 0, 0, 1, 1, 1, 0, 0, 1, 0, 0, 0, 1, 1, 0, 1, 0, 1, 0, 0]\n"
     ]
    },
    {
     "name": "stderr",
     "output_type": "stream",
     "text": [
      "315it [18:42,  1.93s/it, BLEU2=0.259, BLEU1=0.315, ExactMatch=0.00775, METEOR=0.501, BertScore=nan, StubScore=0.404]"
     ]
    },
    {
     "name": "stdout",
     "output_type": "stream",
     "text": [
      "True\n",
      "18 октября 1903 года голосование комиссии по присуждению Пушкинской премии укрепило репутацию Бунина как литератора.\n",
      "Репутацию Бунина как литератора укрепила Пушкинская премия.\n",
      "[1, 0, 0, 0, 0, 1, 1, 0, 1, 1, 1, 0, 0, 0, 0, 0, 0, 0, 1, 1, 1, 1, 0, 0, 0, 0, 1, 0, 1, 0, 0, 1, 0, 0, 0, 0, 1, 1, 0, 0, 1, 1, 1, 0, 0, 1, 0, 0, 0, 1, 1, 0, 1, 0, 1, 0, 0]\n"
     ]
    },
    {
     "name": "stderr",
     "output_type": "stream",
     "text": [
      "316it [18:42,  1.48s/it, BLEU2=0.259, BLEU1=0.315, ExactMatch=0.00772, METEOR=0.501, BertScore=nan, StubScore=0.404]"
     ]
    },
    {
     "name": "stdout",
     "output_type": "stream",
     "text": [
      "True\n",
      "3 апреля.\n",
      "Слушание дела началось 3 апреля.\n",
      "[1, 0, 0, 0, 0, 1, 1, 0, 1, 1, 1, 0, 0, 0, 0, 0, 0, 0, 1, 1, 1, 1, 0, 0, 0, 0, 1, 0, 1, 0, 0, 1, 0, 0, 0, 0, 1, 1, 0, 0, 1, 1, 1, 0, 0, 1, 0, 0, 0, 1, 1, 0, 1, 0, 1, 0, 0]\n"
     ]
    },
    {
     "name": "stderr",
     "output_type": "stream",
     "text": [
      "317it [18:44,  1.51s/it, BLEU2=0.262, BLEU1=0.317, ExactMatch=0.0115, METEOR=0.503, BertScore=nan, StubScore=0.404] "
     ]
    },
    {
     "name": "stdout",
     "output_type": "stream",
     "text": [
      "True\n",
      "Оскар Уайльд обвинил маркиза Куинсберри в клевете.\n",
      "Оскар Уайльд обвинил маркиза Куинсберри в клевете.\n",
      "[1, 0, 0, 0, 0, 1, 1, 0, 1, 1, 1, 0, 0, 0, 0, 0, 0, 0, 1, 1, 1, 1, 0, 0, 0, 0, 1, 0, 1, 0, 0, 1, 0, 0, 0, 0, 1, 1, 0, 0, 1, 1, 1, 0, 0, 1, 0, 0, 0, 1, 1, 0, 1, 0, 1, 0, 0]\n"
     ]
    },
    {
     "name": "stderr",
     "output_type": "stream",
     "text": [
      "318it [18:45,  1.39s/it, BLEU2=0.261, BLEU1=0.317, ExactMatch=0.0115, METEOR=0.503, BertScore=nan, StubScore=0.404]"
     ]
    },
    {
     "name": "stdout",
     "output_type": "stream",
     "text": [
      "True\n",
      "18 февраля 1895 года.\n",
      "Куинсберри написал записку Оскару Уайльду в клубе Элбемарл 18 февраля 1895 года.\n",
      "[1, 0, 0, 0, 0, 1, 1, 0, 1, 1, 1, 0, 0, 0, 0, 0, 0, 0, 1, 1, 1, 1, 0, 0, 0, 0, 1, 0, 1, 0, 0, 1, 0, 0, 0, 0, 1, 1, 0, 0, 1, 1, 1, 0, 0, 1, 0, 0, 0, 1, 1, 0, 1, 0, 1, 0, 0]\n"
     ]
    },
    {
     "name": "stderr",
     "output_type": "stream",
     "text": [
      "319it [18:46,  1.30s/it, BLEU2=0.261, BLEU1=0.316, ExactMatch=0.0115, METEOR=0.503, BertScore=nan, StubScore=0.404]"
     ]
    },
    {
     "name": "stdout",
     "output_type": "stream",
     "text": [
      "True\n",
      "18 февраля 1895 года.\n",
      "Оскар Уайльд получил записку Куинсберри 28 февраля 1895 года.\n",
      "[1, 0, 0, 0, 0, 1, 1, 0, 1, 1, 1, 0, 0, 0, 0, 0, 0, 0, 1, 1, 1, 1, 0, 0, 0, 0, 1, 0, 1, 0, 0, 1, 0, 0, 0, 0, 1, 1, 0, 0, 1, 1, 1, 0, 0, 1, 0, 0, 0, 1, 1, 0, 1, 0, 1, 0, 0]\n"
     ]
    },
    {
     "name": "stderr",
     "output_type": "stream",
     "text": [
      "320it [18:48,  1.41s/it, BLEU2=0.263, BLEU1=0.318, ExactMatch=0.0114, METEOR=0.504, BertScore=nan, StubScore=0.404]"
     ]
    },
    {
     "name": "stdout",
     "output_type": "stream",
     "text": [
      "True\n",
      "В зале суда присутствовали только мужчины из-за безнравственности рассматриваемых доказательств.\n",
      "В зале суда присутствовали только мужчины по причине безнравственности рассматриваемых доказательств.\n",
      "[1, 0, 0, 0, 0, 1, 1, 0, 1, 1, 1, 0, 0, 0, 0, 0, 0, 0, 1, 1, 1, 1, 0, 0, 0, 0, 1, 0, 1, 0, 0, 1, 0, 0, 0, 0, 1, 1, 0, 0, 1, 1, 1, 0, 0, 1, 0, 0, 0, 1, 1, 0, 1, 0, 1, 0, 0]\n"
     ]
    },
    {
     "name": "stderr",
     "output_type": "stream",
     "text": [
      "321it [18:49,  1.20s/it, BLEU2=0.262, BLEU1=0.317, ExactMatch=0.0114, METEOR=0.503, BertScore=nan, StubScore=0.404]"
     ]
    },
    {
     "name": "stdout",
     "output_type": "stream",
     "text": [
      "True\n",
      "1870-е годы\n",
      "Беспредельное народолюбие выдвигают на первый план 1870-е годы.\n",
      "[1, 0, 0, 0, 0, 1, 1, 0, 1, 1, 1, 0, 0, 0, 0, 0, 0, 0, 1, 1, 1, 1, 0, 0, 0, 0, 1, 0, 1, 0, 0, 1, 0, 0, 0, 0, 1, 1, 0, 0, 1, 1, 1, 0, 0, 1, 0, 0, 0, 1, 1, 0, 1, 0, 1, 0, 0]\n"
     ]
    },
    {
     "name": "stderr",
     "output_type": "stream",
     "text": [
      "322it [18:50,  1.33s/it, BLEU2=0.261, BLEU1=0.316, ExactMatch=0.0113, METEOR=0.502, BertScore=nan, StubScore=0.404]"
     ]
    },
    {
     "name": "stdout",
     "output_type": "stream",
     "text": [
      "True\n",
      "[0.184] Общество пропаганды возглавлял Михаил Александрович Натансон.\n",
      "Большое общество пропаганды возглавлялось М. А. Натансоном.\n",
      "[1, 0, 0, 0, 0, 1, 1, 0, 1, 1, 1, 0, 0, 0, 0, 0, 0, 0, 1, 1, 1, 1, 0, 0, 0, 0, 1, 0, 1, 0, 0, 1, 0, 0, 0, 0, 1, 1, 0, 0, 1, 1, 1, 0, 0, 1, 0, 0, 0, 1, 1, 0, 1, 0, 1, 0, 0]\n"
     ]
    },
    {
     "name": "stderr",
     "output_type": "stream",
     "text": [
      "323it [18:52,  1.55s/it, BLEU2=0.262, BLEU1=0.317, ExactMatch=0.0113, METEOR=0.503, BertScore=nan, StubScore=0.404]"
     ]
    },
    {
     "name": "stdout",
     "output_type": "stream",
     "text": [
      "True\n",
      "В конце 1860-х годов в крупных городах России действовало несколько десятков народнических кружков.\n",
      "Несколько десятков народнических кружков в крупных городах России действовало с конца 1860-х.\n",
      "[1, 0, 0, 0, 0, 1, 1, 0, 1, 1, 1, 0, 0, 0, 0, 0, 0, 0, 1, 1, 1, 1, 0, 0, 0, 0, 1, 0, 1, 0, 0, 1, 0, 0, 0, 0, 1, 1, 0, 0, 1, 1, 1, 0, 0, 1, 0, 0, 0, 1, 1, 0, 1, 0, 1, 0, 0]\n"
     ]
    },
    {
     "name": "stderr",
     "output_type": "stream",
     "text": [
      "324it [18:55,  1.76s/it, BLEU2=0.262, BLEU1=0.318, ExactMatch=0.0112, METEOR=0.504, BertScore=nan, StubScore=0.404]"
     ]
    },
    {
     "name": "stdout",
     "output_type": "stream",
     "text": [
      "True\n",
      "Один из народнических кружков был создан С. Л. Перовской в 1871 году.\n",
      "Создателем одного из народнических кружков был С. Л. Перовской.\n",
      "[1, 0, 0, 0, 0, 1, 1, 0, 1, 1, 1, 0, 0, 0, 0, 0, 0, 0, 1, 1, 1, 1, 0, 0, 0, 0, 1, 0, 1, 0, 0, 1, 0, 0, 0, 0, 1, 1, 0, 0, 1, 1, 1, 0, 0, 1, 0, 0, 0, 1, 1, 0, 1, 0, 1, 0, 0]\n"
     ]
    },
    {
     "name": "stderr",
     "output_type": "stream",
     "text": [
      "325it [18:57,  1.91s/it, BLEU2=0.261, BLEU1=0.317, ExactMatch=0.0112, METEOR=0.503, BertScore=nan, StubScore=0.404]"
     ]
    },
    {
     "name": "stdout",
     "output_type": "stream",
     "text": [
      "True\n",
      "1870-е годы были временем, когда многие дворяне испытывали чувство вины за свои прошлые действия и стремились исправить свои ошибки перед народом.\n",
      "Выражение \"кающиеся дворяне\" принадлежит Николаю Константиновичу Михайловскому.\n",
      "[1, 0, 0, 0, 0, 1, 1, 0, 1, 1, 1, 0, 0, 0, 0, 0, 0, 0, 1, 1, 1, 1, 0, 0, 0, 0, 1, 0, 1, 0, 0, 1, 0, 0, 0, 0, 1, 1, 0, 0, 1, 1, 1, 0, 0, 1, 0, 0, 0, 1, 1, 0, 1, 0, 1, 0, 0]\n"
     ]
    },
    {
     "name": "stderr",
     "output_type": "stream",
     "text": [
      "326it [19:00,  2.38s/it, BLEU2=0.261, BLEU1=0.317, ExactMatch=0.0112, METEOR=0.503, BertScore=nan, StubScore=0.404]"
     ]
    },
    {
     "name": "stdout",
     "output_type": "stream",
     "text": [
      "True\n",
      "19 сентября 1890 года Шаляпин дебютировал в опере Монюшко \"Галька\", заменив внезапно заболевшего артиста и исполнив сольную партию Стольника.\n",
      "Шаляпин поучил сольную партию в опере Монюшко Галька.\n",
      "[1, 0, 0, 0, 0, 1, 1, 0, 1, 1, 1, 0, 0, 0, 0, 0, 0, 0, 1, 1, 1, 1, 0, 0, 0, 0, 1, 0, 1, 0, 0, 1, 0, 0, 0, 0, 1, 1, 0, 0, 1, 1, 1, 0, 0, 1, 0, 0, 0, 1, 1, 0, 1, 0, 1, 0, 0]\n"
     ]
    },
    {
     "name": "stderr",
     "output_type": "stream",
     "text": [
      "327it [19:01,  2.03s/it, BLEU2=0.261, BLEU1=0.317, ExactMatch=0.0111, METEOR=0.503, BertScore=nan, StubScore=0.404]"
     ]
    },
    {
     "name": "stdout",
     "output_type": "stream",
     "text": [
      "True\n",
      "Шаляпин начал работать в хоре оперетты в Уфе.\n",
      "В Уфе он начинал работать в хоре опереточной труппы.\n",
      "[1, 0, 0, 0, 0, 1, 1, 0, 1, 1, 1, 0, 0, 0, 0, 0, 0, 0, 1, 1, 1, 1, 0, 0, 0, 0, 1, 0, 1, 0, 0, 1, 0, 0, 0, 0, 1, 1, 0, 0, 1, 1, 1, 0, 0, 1, 0, 0, 0, 1, 1, 0, 1, 0, 1, 0, 0]\n"
     ]
    },
    {
     "name": "stderr",
     "output_type": "stream",
     "text": [
      "328it [19:02,  1.66s/it, BLEU2=0.261, BLEU1=0.316, ExactMatch=0.0111, METEOR=0.502, BertScore=nan, StubScore=0.404]"
     ]
    },
    {
     "name": "stdout",
     "output_type": "stream",
     "text": [
      "True\n",
      "19 сентября 1890 года.\n",
      "Шаляпин переехал из Казани в Уфу 19 сентября 1890 года.\n",
      "[1, 0, 0, 0, 0, 1, 1, 0, 1, 1, 1, 0, 0, 0, 0, 0, 0, 0, 1, 1, 1, 1, 0, 0, 0, 0, 1, 0, 1, 0, 0, 1, 0, 0, 0, 0, 1, 1, 0, 0, 1, 1, 1, 0, 0, 1, 0, 0, 0, 1, 1, 0, 1, 0, 1, 0, 0]\n"
     ]
    },
    {
     "name": "stderr",
     "output_type": "stream",
     "text": [
      "329it [19:05,  2.03s/it, BLEU2=0.262, BLEU1=0.317, ExactMatch=0.011, METEOR=0.503, BertScore=nan, StubScore=0.404] "
     ]
    },
    {
     "name": "stdout",
     "output_type": "stream",
     "text": [
      "True\n",
      "19 сентября 1890 года Шаляпин начал работать в хоре оперетты под руководством С. Я. Семёнова-Самарского.\n",
      "Шаляпин начинал работать в хоре опереточной труппы под руководством С. Я. Семёнова-Самарского.\n",
      "[1, 0, 0, 0, 0, 1, 1, 0, 1, 1, 1, 0, 0, 0, 0, 0, 0, 0, 1, 1, 1, 1, 0, 0, 0, 0, 1, 0, 1, 0, 0, 1, 0, 0, 0, 0, 1, 1, 0, 0, 1, 1, 1, 0, 0, 1, 0, 0, 0, 1, 1, 0, 1, 0, 1, 0, 0]\n"
     ]
    },
    {
     "name": "stderr",
     "output_type": "stream",
     "text": [
      "330it [19:09,  2.48s/it, BLEU2=0.262, BLEU1=0.317, ExactMatch=0.011, METEOR=0.504, BertScore=nan, StubScore=0.404]"
     ]
    },
    {
     "name": "stdout",
     "output_type": "stream",
     "text": [
      "True\n",
      "Шаляпин упал на сцене, потому что сел не на тот стул, случайно промахнувшись мимо него. С тех пор он всегда внимательно следил за стульями на сцене, чтобы больше не промахнуться.\n",
      "Шаляпин упал на сцене, потому что сел мимо стула.\n",
      "[1, 0, 0, 0, 0, 1, 1, 0, 1, 1, 1, 0, 0, 0, 0, 0, 0, 0, 1, 1, 1, 1, 0, 0, 0, 0, 1, 0, 1, 0, 0, 1, 0, 0, 0, 0, 1, 1, 0, 0, 1, 1, 1, 0, 0, 1, 0, 0, 0, 1, 1, 0, 1, 0, 1, 0, 0]\n",
      "False\n",
      "Альбом называется \"Aladdin Sane\".\n",
      "Альбом назывался The Captain & The Kid.\n"
     ]
    },
    {
     "name": "stderr",
     "output_type": "stream",
     "text": [
      "331it [19:12,  2.74s/it, BLEU2=0.262, BLEU1=0.317, ExactMatch=0.011, METEOR=0.504, BertScore=nan, StubScore=0.397]"
     ]
    },
    {
     "name": "stdout",
     "output_type": "stream",
     "text": [
      "[1, 0, 0, 0, 0, 1, 1, 0, 1, 1, 1, 0, 0, 0, 0, 0, 0, 0, 1, 1, 1, 1, 0, 0, 0, 0, 1, 0, 1, 0, 0, 1, 0, 0, 0, 0, 1, 1, 0, 0, 1, 1, 1, 0, 0, 1, 0, 0, 0, 1, 1, 0, 1, 0, 1, 0, 0, 0]\n",
      "False\n",
      "У меня нет ответа на ваш вопрос.\n",
      "Мировые продажи альбома на настоящий момент составляют примерно 3,5 млн копий.\n"
     ]
    },
    {
     "name": "stderr",
     "output_type": "stream",
     "text": [
      "332it [19:14,  2.51s/it, BLEU2=0.262, BLEU1=0.317, ExactMatch=0.011, METEOR=0.504, BertScore=nan, StubScore=0.407]"
     ]
    },
    {
     "name": "stdout",
     "output_type": "stream",
     "text": [
      "[1, 0, 0, 0, 0, 1, 1, 0, 1, 1, 1, 0, 0, 0, 0, 0, 0, 0, 1, 1, 1, 1, 0, 0, 0, 0, 1, 0, 1, 0, 0, 1, 0, 0, 0, 0, 1, 1, 0, 0, 1, 1, 1, 0, 0, 1, 0, 0, 0, 1, 1, 0, 1, 0, 1, 0, 0, 0, 1]\n"
     ]
    },
    {
     "name": "stderr",
     "output_type": "stream",
     "text": [
      "333it [19:15,  2.00s/it, BLEU2=0.261, BLEU1=0.317, ExactMatch=0.0109, METEOR=0.504, BertScore=nan, StubScore=0.407]"
     ]
    },
    {
     "name": "stdout",
     "output_type": "stream",
     "text": [
      "True\n",
      "19 сентября 2006 года.\n",
      "Элтон Джон и Берни Топин выпустили очередной совместный диск 19 сентября 2006 года.\n",
      "[1, 0, 0, 0, 0, 1, 1, 0, 1, 1, 1, 0, 0, 0, 0, 0, 0, 0, 1, 1, 1, 1, 0, 0, 0, 0, 1, 0, 1, 0, 0, 1, 0, 0, 0, 0, 1, 1, 0, 0, 1, 1, 1, 0, 0, 1, 0, 0, 0, 1, 1, 0, 1, 0, 1, 0, 0, 0, 1]\n",
      "False\n",
      "В альбоме \"Toy\" было запланировано 13 песен, но он так и не был выпущен.\n",
      "В альбоме было 10 песен.\n"
     ]
    },
    {
     "name": "stderr",
     "output_type": "stream",
     "text": [
      "334it [19:19,  2.74s/it, BLEU2=0.261, BLEU1=0.317, ExactMatch=0.0109, METEOR=0.504, BertScore=nan, StubScore=0.4]  "
     ]
    },
    {
     "name": "stdout",
     "output_type": "stream",
     "text": [
      "[1, 0, 0, 0, 0, 1, 1, 0, 1, 1, 1, 0, 0, 0, 0, 0, 0, 0, 1, 1, 1, 1, 0, 0, 0, 0, 1, 0, 1, 0, 0, 1, 0, 0, 0, 0, 1, 1, 0, 0, 1, 1, 1, 0, 0, 1, 0, 0, 0, 1, 1, 0, 1, 0, 1, 0, 0, 0, 1, 0]\n",
      "False\n",
      "[0.167]\n",
      "На диск были помещены одновременно фотографии Элтона Джона и Берни Топина.\n"
     ]
    },
    {
     "name": "stderr",
     "output_type": "stream",
     "text": [
      "335it [19:22,  2.76s/it, BLEU2=0.261, BLEU1=0.317, ExactMatch=0.0109, METEOR=0.504, BertScore=nan, StubScore=0.393]"
     ]
    },
    {
     "name": "stdout",
     "output_type": "stream",
     "text": [
      "[1, 0, 0, 0, 0, 1, 1, 0, 1, 1, 1, 0, 0, 0, 0, 0, 0, 0, 1, 1, 1, 1, 0, 0, 0, 0, 1, 0, 1, 0, 0, 1, 0, 0, 0, 0, 1, 1, 0, 0, 1, 1, 1, 0, 0, 1, 0, 0, 0, 1, 1, 0, 1, 0, 1, 0, 0, 0, 1, 0, 0]\n"
     ]
    },
    {
     "name": "stderr",
     "output_type": "stream",
     "text": [
      "336it [19:24,  2.55s/it, BLEU2=0.262, BLEU1=0.318, ExactMatch=0.0109, METEOR=0.504, BertScore=nan, StubScore=0.393]"
     ]
    },
    {
     "name": "stdout",
     "output_type": "stream",
     "text": [
      "True\n",
      "Пруст работал над сборником \"Против Сен-Бева\" весной и летом 1908 года.\n",
      "Сборник над которым работал Пруст весной и летом 1908 года назывался \"Против Сент-Бёва\".\n",
      "[1, 0, 0, 0, 0, 1, 1, 0, 1, 1, 1, 0, 0, 0, 0, 0, 0, 0, 1, 1, 1, 1, 0, 0, 0, 0, 1, 0, 1, 0, 0, 1, 0, 0, 0, 0, 1, 1, 0, 0, 1, 1, 1, 0, 0, 1, 0, 0, 0, 1, 1, 0, 1, 0, 1, 0, 0, 0, 1, 0, 0]\n"
     ]
    },
    {
     "name": "stderr",
     "output_type": "stream",
     "text": [
      "337it [19:25,  2.12s/it, BLEU2=0.263, BLEU1=0.319, ExactMatch=0.0109, METEOR=0.506, BertScore=nan, StubScore=0.393]"
     ]
    },
    {
     "name": "stdout",
     "output_type": "stream",
     "text": [
      "True\n",
      "1908 год был важным для формирования Пруста как писателя.\n",
      "Самым важным для формирования Пруста как писателя был 1908 год.\n",
      "[1, 0, 0, 0, 0, 1, 1, 0, 1, 1, 1, 0, 0, 0, 0, 0, 0, 0, 1, 1, 1, 1, 0, 0, 0, 0, 1, 0, 1, 0, 0, 1, 0, 0, 0, 0, 1, 1, 0, 0, 1, 1, 1, 0, 0, 1, 0, 0, 0, 1, 1, 0, 1, 0, 1, 0, 0, 0, 1, 0, 0]\n"
     ]
    },
    {
     "name": "stderr",
     "output_type": "stream",
     "text": [
      "338it [19:27,  2.05s/it, BLEU2=0.265, BLEU1=0.321, ExactMatch=0.0108, METEOR=0.507, BertScore=nan, StubScore=0.393]"
     ]
    },
    {
     "name": "stdout",
     "output_type": "stream",
     "text": [
      "True\n",
      "Пруст хотел опубликовать в различных журналах пародии на других писателей, чтобы отточить свой собственный стиль.\n",
      "Публикуя в различных журналах пародии на других писателей, Пруст хотел отточить свой собственный стиль.\n",
      "[1, 0, 0, 0, 0, 1, 1, 0, 1, 1, 1, 0, 0, 0, 0, 0, 0, 0, 1, 1, 1, 1, 0, 0, 0, 0, 1, 0, 1, 0, 0, 1, 0, 0, 0, 0, 1, 1, 0, 0, 1, 1, 1, 0, 0, 1, 0, 0, 0, 1, 1, 0, 1, 0, 1, 0, 0, 0, 1, 0, 0]\n"
     ]
    },
    {
     "name": "stderr",
     "output_type": "stream",
     "text": [
      "339it [19:29,  1.97s/it, BLEU2=0.267, BLEU1=0.323, ExactMatch=0.0108, METEOR=0.509, BertScore=nan, StubScore=0.393]"
     ]
    },
    {
     "name": "stdout",
     "output_type": "stream",
     "text": [
      "True\n",
      "В первой половине 1908 года Пруст опубликовал в различных журналах пародии на других писателей.\n",
      "В первой половине года Пруст опубликовал в различных журналах пародии на других писателей.\n",
      "[1, 0, 0, 0, 0, 1, 1, 0, 1, 1, 1, 0, 0, 0, 0, 0, 0, 0, 1, 1, 1, 1, 0, 0, 0, 0, 1, 0, 1, 0, 0, 1, 0, 0, 0, 0, 1, 1, 0, 0, 1, 1, 1, 0, 0, 1, 0, 0, 0, 1, 1, 0, 1, 0, 1, 0, 0, 0, 1, 0, 0]\n"
     ]
    },
    {
     "name": "stderr",
     "output_type": "stream",
     "text": [
      "340it [19:29,  1.53s/it, BLEU2=0.266, BLEU1=0.322, ExactMatch=0.0108, METEOR=0.507, BertScore=nan, StubScore=0.393]"
     ]
    },
    {
     "name": "stdout",
     "output_type": "stream",
     "text": [
      "True\n",
      "1956\n",
      "Совместно с Independent Television Network Би-би-си стало вещать в 1956 году.\n",
      "[1, 0, 0, 0, 0, 1, 1, 0, 1, 1, 1, 0, 0, 0, 0, 0, 0, 0, 1, 1, 1, 1, 0, 0, 0, 0, 1, 0, 1, 0, 0, 1, 0, 0, 0, 0, 1, 1, 0, 0, 1, 1, 1, 0, 0, 1, 0, 0, 0, 1, 1, 0, 1, 0, 1, 0, 0, 0, 1, 0, 0]\n"
     ]
    },
    {
     "name": "stderr",
     "output_type": "stream",
     "text": [
      "341it [19:30,  1.21s/it, BLEU2=0.265, BLEU1=0.321, ExactMatch=0.0107, METEOR=0.506, BertScore=nan, StubScore=0.393]"
     ]
    },
    {
     "name": "stdout",
     "output_type": "stream",
     "text": [
      "True\n",
      "1937\n",
      "Первая телевизионная трансляция теннисного мачта на уимблдоне была в 1937 году.\n",
      "[1, 0, 0, 0, 0, 1, 1, 0, 1, 1, 1, 0, 0, 0, 0, 0, 0, 0, 1, 1, 1, 1, 0, 0, 0, 0, 1, 0, 1, 0, 0, 1, 0, 0, 0, 0, 1, 1, 0, 0, 1, 1, 1, 0, 0, 1, 0, 0, 0, 1, 1, 0, 1, 0, 1, 0, 0, 0, 1, 0, 0]\n"
     ]
    },
    {
     "name": "stderr",
     "output_type": "stream",
     "text": [
      "342it [19:36,  2.69s/it, BLEU2=0.264, BLEU1=0.32, ExactMatch=0.0107, METEOR=0.505, BertScore=nan, StubScore=0.393] "
     ]
    },
    {
     "name": "stdout",
     "output_type": "stream",
     "text": [
      "True\n",
      "1937 год стал не только годом последней победы британцев на межвоенном Уимблдоне, но и первым годом телевизионной трансляции теннисного матча: BBC вела прямую трансляцию игры первого раунда между Банни Остин и ирландцем Джорджем Роджерсом[36].\n",
      "Первую трансляцию теннисного матча вела Би-би-си.\n",
      "[1, 0, 0, 0, 0, 1, 1, 0, 1, 1, 1, 0, 0, 0, 0, 0, 0, 0, 1, 1, 1, 1, 0, 0, 0, 0, 1, 0, 1, 0, 0, 1, 0, 0, 0, 0, 1, 1, 0, 0, 1, 1, 1, 0, 0, 1, 0, 0, 0, 1, 1, 0, 1, 0, 1, 0, 0, 0, 1, 0, 0]\n",
      "False\n",
      "У меня нет ответа на ваш вопрос.\n",
      "Абсолютными чемпионами в 1939 году стали Элис Марбл и Бобби Риггс.\n"
     ]
    },
    {
     "name": "stderr",
     "output_type": "stream",
     "text": [
      "343it [19:38,  2.48s/it, BLEU2=0.264, BLEU1=0.32, ExactMatch=0.0107, METEOR=0.505, BertScore=nan, StubScore=0.403]"
     ]
    },
    {
     "name": "stdout",
     "output_type": "stream",
     "text": [
      "[1, 0, 0, 0, 0, 1, 1, 0, 1, 1, 1, 0, 0, 0, 0, 0, 0, 0, 1, 1, 1, 1, 0, 0, 0, 0, 1, 0, 1, 0, 0, 1, 0, 0, 0, 0, 1, 1, 0, 0, 1, 1, 1, 0, 0, 1, 0, 0, 0, 1, 1, 0, 1, 0, 1, 0, 0, 0, 1, 0, 0, 1]\n"
     ]
    },
    {
     "name": "stderr",
     "output_type": "stream",
     "text": [
      "344it [19:45,  3.74s/it, BLEU2=0.264, BLEU1=0.319, ExactMatch=0.0106, METEOR=0.505, BertScore=nan, StubScore=0.403]"
     ]
    },
    {
     "name": "stdout",
     "output_type": "stream",
     "text": [
      "True\n",
      "1937 год стал не только годом последней победы британцев на межвоенном Уимблдоне, но и первым трансляцией теннисного матча по телевидению: BBC вела прямую телевизионную трансляцию матча первого раунда между Банни Остин и ирландцем Джорджем Роджерсом[36].\n",
      "Впервые Би-би-си транслировался матч между Банни Остином и ирландцем Джорджем Роджерсом.\n",
      "[1, 0, 0, 0, 0, 1, 1, 0, 1, 1, 1, 0, 0, 0, 0, 0, 0, 0, 1, 1, 1, 1, 0, 0, 0, 0, 1, 0, 1, 0, 0, 1, 0, 0, 0, 0, 1, 1, 0, 0, 1, 1, 1, 0, 0, 1, 0, 0, 0, 1, 1, 0, 1, 0, 1, 0, 0, 0, 1, 0, 0, 1]\n"
     ]
    },
    {
     "name": "stderr",
     "output_type": "stream",
     "text": [
      "345it [19:47,  3.20s/it, BLEU2=0.265, BLEU1=0.321, ExactMatch=0.0106, METEOR=0.506, BertScore=nan, StubScore=0.403]"
     ]
    },
    {
     "name": "stdout",
     "output_type": "stream",
     "text": [
      "True\n",
      "1974 году Шукшин принял приглашение сниматься в фильме режиссёра Георгия Данелии.\n",
      "В 1974 году Шукшин принял приглашение сниматься в фильме С. Ф. Бондарчука.\n",
      "[1, 0, 0, 0, 0, 1, 1, 0, 1, 1, 1, 0, 0, 0, 0, 0, 0, 0, 1, 1, 1, 1, 0, 0, 0, 0, 1, 0, 1, 0, 0, 1, 0, 0, 0, 0, 1, 1, 0, 0, 1, 1, 1, 0, 0, 1, 0, 0, 0, 1, 1, 0, 1, 0, 1, 0, 0, 0, 1, 0, 0, 1]\n",
      "False\n",
      "У меня нет ответа на ваш вопрос.\n",
      "Сборник рассказов, опубликованный в 1973-1974 годах называется характеры.\n"
     ]
    },
    {
     "name": "stderr",
     "output_type": "stream",
     "text": [
      "346it [19:49,  2.87s/it, BLEU2=0.265, BLEU1=0.321, ExactMatch=0.0106, METEOR=0.506, BertScore=nan, StubScore=0.413]"
     ]
    },
    {
     "name": "stdout",
     "output_type": "stream",
     "text": [
      "[1, 0, 0, 0, 0, 1, 1, 0, 1, 1, 1, 0, 0, 0, 0, 0, 0, 0, 1, 1, 1, 1, 0, 0, 0, 0, 1, 0, 1, 0, 0, 1, 0, 0, 0, 0, 1, 1, 0, 0, 1, 1, 1, 0, 0, 1, 0, 0, 0, 1, 1, 0, 1, 0, 1, 0, 0, 0, 1, 0, 0, 1, 1]\n"
     ]
    },
    {
     "name": "stderr",
     "output_type": "stream",
     "text": [
      "347it [19:50,  2.54s/it, BLEU2=0.264, BLEU1=0.32, ExactMatch=0.0106, METEOR=0.504, BertScore=nan, StubScore=0.413] "
     ]
    },
    {
     "name": "stdout",
     "output_type": "stream",
     "text": [
      "True\n",
      "1973-1974 годы стали очень плодотворными для Шукшина.\n",
      "Фильм Шукшина \"Калина красная\" вышел в 1973-1974 годах.\n",
      "[1, 0, 0, 0, 0, 1, 1, 0, 1, 1, 1, 0, 0, 0, 0, 0, 0, 0, 1, 1, 1, 1, 0, 0, 0, 0, 1, 0, 1, 0, 0, 1, 0, 0, 0, 0, 1, 1, 0, 0, 1, 1, 1, 0, 0, 1, 0, 0, 0, 1, 1, 0, 1, 0, 1, 0, 0, 0, 1, 0, 0, 1, 1]\n"
     ]
    },
    {
     "name": "stderr",
     "output_type": "stream",
     "text": [
      "348it [19:54,  2.71s/it, BLEU2=0.264, BLEU1=0.32, ExactMatch=0.0105, METEOR=0.505, BertScore=nan, StubScore=0.413]"
     ]
    },
    {
     "name": "stdout",
     "output_type": "stream",
     "text": [
      "True\n",
      "Фильм, выпущенный в 1973-1974 годах, назывался \"Калина красная\" и получил первый приз на Всесоюзном кинофестивале.\n",
      "Фильм, вышедший в 1973-1974 годах получил первый приз ВКФ.\n",
      "[1, 0, 0, 0, 0, 1, 1, 0, 1, 1, 1, 0, 0, 0, 0, 0, 0, 0, 1, 1, 1, 1, 0, 0, 0, 0, 1, 0, 1, 0, 0, 1, 0, 0, 0, 0, 1, 1, 0, 0, 1, 1, 1, 0, 0, 1, 0, 0, 0, 1, 1, 0, 1, 0, 1, 0, 0, 0, 1, 0, 0, 1, 1]\n"
     ]
    },
    {
     "name": "stderr",
     "output_type": "stream",
     "text": [
      "349it [19:57,  3.04s/it, BLEU2=0.264, BLEU1=0.32, ExactMatch=0.0105, METEOR=0.505, BertScore=nan, StubScore=0.413]"
     ]
    },
    {
     "name": "stdout",
     "output_type": "stream",
     "text": [
      "True\n",
      "Пьеса, которую режиссер Г. А. Товстоногов готовил на сцене Ленинградского академического драматического театра имени А. П. Горького (ЛАБДТ), называлась \"Энергичные люди\".\n",
      "На сцене ЛАБДТ режиссёр Г. А. Товстоногов готовил постановку пьесы Энергичные люди.\n",
      "[1, 0, 0, 0, 0, 1, 1, 0, 1, 1, 1, 0, 0, 0, 0, 0, 0, 0, 1, 1, 1, 1, 0, 0, 0, 0, 1, 0, 1, 0, 0, 1, 0, 0, 0, 0, 1, 1, 0, 0, 1, 1, 1, 0, 0, 1, 0, 0, 0, 1, 1, 0, 1, 0, 1, 0, 0, 0, 1, 0, 0, 1, 1]\n"
     ]
    },
    {
     "name": "stderr",
     "output_type": "stream",
     "text": [
      "350it [19:59,  2.64s/it, BLEU2=0.263, BLEU1=0.319, ExactMatch=0.0105, METEOR=0.505, BertScore=nan, StubScore=0.413]"
     ]
    },
    {
     "name": "stdout",
     "output_type": "stream",
     "text": [
      "True\n",
      "Стивен Спилберг стал соучредителем кинокомпании Amblin Entertainment в 1984 году.\n",
      "Спилберг создал компанию Amblin Entertainment.\n",
      "[1, 0, 0, 0, 0, 1, 1, 0, 1, 1, 1, 0, 0, 0, 0, 0, 0, 0, 1, 1, 1, 1, 0, 0, 0, 0, 1, 0, 1, 0, 0, 1, 0, 0, 0, 0, 1, 1, 0, 0, 1, 1, 1, 0, 0, 1, 0, 0, 0, 1, 1, 0, 1, 0, 1, 0, 0, 0, 1, 0, 0, 1, 1]\n"
     ]
    },
    {
     "name": "stderr",
     "output_type": "stream",
     "text": [
      "351it [20:09,  4.80s/it, BLEU2=0.262, BLEU1=0.319, ExactMatch=0.0104, METEOR=0.505, BertScore=nan, StubScore=0.413]"
     ]
    },
    {
     "name": "stdout",
     "output_type": "stream",
     "text": [
      "True\n",
      "1980-е годы стали для Стивена Спилберга временем экспериментов и создания фильмов, которые отличались от его предыдущих работ. Он также активно занимался продюсированием и помог начать карьеру нескольким известным режиссерам, таким как Джо Данте, Джон Лэндис, Тоуб Хупер, Роберт Земекис и Дж. Миллер. Спилберг был связан с производством более ста фильмов, включая \"Назад в будущее\" и \"Кто подставил кролика Роджера\", которые были сняты Робертом Земекисом.\n",
      "Фильмы Назад в будущее и Кто подставил кролика Роджера были сняты Робертом Земекисом.\n",
      "[1, 0, 0, 0, 0, 1, 1, 0, 1, 1, 1, 0, 0, 0, 0, 0, 0, 0, 1, 1, 1, 1, 0, 0, 0, 0, 1, 0, 1, 0, 0, 1, 0, 0, 0, 0, 1, 1, 0, 0, 1, 1, 1, 0, 0, 1, 0, 0, 0, 1, 1, 0, 1, 0, 1, 0, 0, 0, 1, 0, 0, 1, 1]\n"
     ]
    },
    {
     "name": "stderr",
     "output_type": "stream",
     "text": [
      "352it [20:11,  4.00s/it, BLEU2=0.263, BLEU1=0.319, ExactMatch=0.0104, METEOR=0.507, BertScore=nan, StubScore=0.413]"
     ]
    },
    {
     "name": "stdout",
     "output_type": "stream",
     "text": [
      "True\n",
      "Кинокомпания Amblin Entertainment была основана в 1984 году Стивеном Спилбергом.\n",
      "Кинокомпания Amblin Entertainment появилась в 1984 году.\n",
      "[1, 0, 0, 0, 0, 1, 1, 0, 1, 1, 1, 0, 0, 0, 0, 0, 0, 0, 1, 1, 1, 1, 0, 0, 0, 0, 1, 0, 1, 0, 0, 1, 0, 0, 0, 0, 1, 1, 0, 0, 1, 1, 1, 0, 0, 1, 0, 0, 0, 1, 1, 0, 1, 0, 1, 0, 0, 0, 1, 0, 0, 1, 1]\n"
     ]
    },
    {
     "name": "stderr",
     "output_type": "stream",
     "text": [
      "353it [20:58, 16.76s/it, BLEU2=0.262, BLEU1=0.318, ExactMatch=0.0103, METEOR=0.505, BertScore=nan, StubScore=0.413]"
     ]
    },
    {
     "name": "stdout",
     "output_type": "stream",
     "text": [
      "True\n",
      "1980-е годы были для Спилберга временем экспериментов и создания фильмов, которые отличались от его предыдущих работ. Он также много работал в качестве продюсера, владея кинокомпанией Amblin Entertainment, которая помогла начать карьеру другим известным режиссерам, таким как Джо Данте, Джон Лэндис, Тоуб Хупер, Роберт Земекис и Дж. Миллер. При участии Спилберга было выпущено более ста фильмов, включая \"Назад в будущее\", \"Кто подставил кролика Роджера\", \"Гремлины\", \"Близкие контакты третьей степени\", \"Инопланетянин\", \"Индиана Джонс\", \"Парк Юрского периода\", \"Спасти рядового Райана\", \"Амистад\", \"Спасти рядового Райана\", \"Блеск\", \"Война миров\", \"Спасти рядового Райана\", \"Терминал\", \"Поймай того, кто сбежал\", \"Мунлайт\", \"Империя Солнца\", \"Инопланетянин\", \"Список Шиндлера\", \"Спасти рядового Райана\", \"Амистад\", \"Блеск\", \"Война миров\", \"Спасти рядового Райана\", \"Блеск\", \"Империя Солнца\", \"Инопланетянин\", \"Спасти рядового Райана\", \"Терминал\", \"Поймай того, кто сбежал\", \"Мунлайт\", \"Империя Солнца\", \"Инопланетянин\", \"Спасти рядового Райана\", \"Амистад\", \"Блеск\", \"Война миров\", \"Спасти рядового Райана\", \"Блеск\", \"Империя Солнца\", \"Инопланетянин\", \"Спасти рядового Райана\", \"Терминал\", \"Поймай того, кто сбежал\", \"Мунлайт\", \"Империя Солнца\", \"Инопланетянин\", \"Спасти рядового Райана\", \"Амистад\", \"Блеск\", \"Война миров\", \"Спасти рядового Райана\", \"Блеск\", \"Империя Солнца\", \"Инопланетянин\", \"Спасти рядового Райана\", \"Терминал\", \"Поймай того, кто сбежал\", \"Мунлайт\", \"Империя Солнца\", \"Инопланетянин\", \"Спасти рядового Райана\", \"Амистад\",\n",
      "При участии Спилберга было выпущено более ста фильмов\n",
      "[1, 0, 0, 0, 0, 1, 1, 0, 1, 1, 1, 0, 0, 0, 0, 0, 0, 0, 1, 1, 1, 1, 0, 0, 0, 0, 1, 0, 1, 0, 0, 1, 0, 0, 0, 0, 1, 1, 0, 0, 1, 1, 1, 0, 0, 1, 0, 0, 0, 1, 1, 0, 1, 0, 1, 0, 0, 0, 1, 0, 0, 1, 1]\n"
     ]
    },
    {
     "name": "stderr",
     "output_type": "stream",
     "text": [
      "354it [21:01, 12.76s/it, BLEU2=0.262, BLEU1=0.318, ExactMatch=0.0103, METEOR=0.505, BertScore=nan, StubScore=0.413]"
     ]
    },
    {
     "name": "stdout",
     "output_type": "stream",
     "text": [
      "True\n",
      "В 1980-х годах для Стивена Спилберга были временем экспериментов и создания фильмов, которые отличались от его предыдущих работ. Он также стал продюсером и помог начать карьеру другим известным режиссерам.\n",
      "1980-е годы для Спилберга были площадкой для новых экспериментов и создания картин совсем другого плана.\n",
      "[1, 0, 0, 0, 0, 1, 1, 0, 1, 1, 1, 0, 0, 0, 0, 0, 0, 0, 1, 1, 1, 1, 0, 0, 0, 0, 1, 0, 1, 0, 0, 1, 0, 0, 0, 0, 1, 1, 0, 0, 1, 1, 1, 0, 0, 1, 0, 0, 0, 1, 1, 0, 1, 0, 1, 0, 0, 0, 1, 0, 0, 1, 1]\n"
     ]
    },
    {
     "name": "stderr",
     "output_type": "stream",
     "text": [
      "355it [21:03,  9.60s/it, BLEU2=0.261, BLEU1=0.317, ExactMatch=0.0103, METEOR=0.504, BertScore=nan, StubScore=0.413]"
     ]
    },
    {
     "name": "stdout",
     "output_type": "stream",
     "text": [
      "True\n",
      "1997 год был отмечен для Элтона Джона серией взлетов и падений.\n",
      "Праздничная вечеринка по случаю пятидесятилетия Элтона Джона была организована в стиле Людовика IV.\n",
      "[1, 0, 0, 0, 0, 1, 1, 0, 1, 1, 1, 0, 0, 0, 0, 0, 0, 0, 1, 1, 1, 1, 0, 0, 0, 0, 1, 0, 1, 0, 0, 1, 0, 0, 0, 0, 1, 1, 0, 0, 1, 1, 1, 0, 0, 1, 0, 0, 0, 1, 1, 0, 1, 0, 1, 0, 0, 0, 1, 0, 0, 1, 1]\n"
     ]
    },
    {
     "name": "stderr",
     "output_type": "stream",
     "text": [
      "356it [21:06,  7.58s/it, BLEU2=0.262, BLEU1=0.319, ExactMatch=0.0102, METEOR=0.505, BertScore=nan, StubScore=0.413]"
     ]
    },
    {
     "name": "stdout",
     "output_type": "stream",
     "text": [
      "True\n",
      "Элтон Джон потерял двух близких друзей в конце 1997 года: дизайнера Джанни Версаче и принцессу Диану.\n",
      "В конце 1997 года Элтон Джон потерял двух очень близких друзей: Джанни Версачи и принцессу Диану.\n",
      "[1, 0, 0, 0, 0, 1, 1, 0, 1, 1, 1, 0, 0, 0, 0, 0, 0, 0, 1, 1, 1, 1, 0, 0, 0, 0, 1, 0, 1, 0, 0, 1, 0, 0, 0, 0, 1, 1, 0, 0, 1, 1, 1, 0, 0, 1, 0, 0, 0, 1, 1, 0, 1, 0, 1, 0, 0, 0, 1, 0, 0, 1, 1]\n"
     ]
    },
    {
     "name": "stderr",
     "output_type": "stream",
     "text": [
      "357it [21:08,  5.87s/it, BLEU2=0.264, BLEU1=0.321, ExactMatch=0.0102, METEOR=0.506, BertScore=nan, StubScore=0.413]"
     ]
    },
    {
     "name": "stdout",
     "output_type": "stream",
     "text": [
      "True\n",
      "1997 год стал для Элтона Джона годом взлетов и падений.\n",
      "1997 год стал для Элтона Джона годом взлетов и неприятностей.\n",
      "[1, 0, 0, 0, 0, 1, 1, 0, 1, 1, 1, 0, 0, 0, 0, 0, 0, 0, 1, 1, 1, 1, 0, 0, 0, 0, 1, 0, 1, 0, 0, 1, 0, 0, 0, 0, 1, 1, 0, 0, 1, 1, 1, 0, 0, 1, 0, 0, 0, 1, 1, 0, 1, 0, 1, 0, 0, 0, 1, 0, 0, 1, 1]\n"
     ]
    },
    {
     "name": "stderr",
     "output_type": "stream",
     "text": [
      "358it [21:09,  4.46s/it, BLEU2=0.263, BLEU1=0.32, ExactMatch=0.0102, METEOR=0.505, BertScore=nan, StubScore=0.413] "
     ]
    },
    {
     "name": "stdout",
     "output_type": "stream",
     "text": [
      "True\n",
      "17 января 1997 года.\n",
      "17 января 1997 года Элтон Джон с тремя оставшимися членами группы Queen принял участие в представлении, которое было вторым и последним случаем после смерти Фредди Меркьюри, когда остальные члены группы Queen собрались вместе на сцене.\n",
      "[1, 0, 0, 0, 0, 1, 1, 0, 1, 1, 1, 0, 0, 0, 0, 0, 0, 0, 1, 1, 1, 1, 0, 0, 0, 0, 1, 0, 1, 0, 0, 1, 0, 0, 0, 0, 1, 1, 0, 0, 1, 1, 1, 0, 0, 1, 0, 0, 0, 1, 1, 0, 1, 0, 1, 0, 0, 0, 1, 0, 0, 1, 1]\n"
     ]
    },
    {
     "name": "stderr",
     "output_type": "stream",
     "text": [
      "359it [21:14,  4.46s/it, BLEU2=0.263, BLEU1=0.319, ExactMatch=0.0101, METEOR=0.504, BertScore=nan, StubScore=0.413]"
     ]
    },
    {
     "name": "stdout",
     "output_type": "stream",
     "text": [
      "True\n",
      "1997 год был знаменательным для Элтона Джона. В начале года он отпраздновал свой 50-летний юбилей грандиозным праздником, на который было приглашено 500 самых близких друзей.\n",
      "500 друзей Элтона Джона приняли участие в вечеринке по случаю его 50-летнего юбилея.\n",
      "[1, 0, 0, 0, 0, 1, 1, 0, 1, 1, 1, 0, 0, 0, 0, 0, 0, 0, 1, 1, 1, 1, 0, 0, 0, 0, 1, 0, 1, 0, 0, 1, 0, 0, 0, 0, 1, 1, 0, 0, 1, 1, 1, 0, 0, 1, 0, 0, 0, 1, 1, 0, 1, 0, 1, 0, 0, 0, 1, 0, 0, 1, 1]\n"
     ]
    },
    {
     "name": "stderr",
     "output_type": "stream",
     "text": [
      "360it [21:15,  3.46s/it, BLEU2=0.262, BLEU1=0.318, ExactMatch=0.0101, METEOR=0.503, BertScore=nan, StubScore=0.413]"
     ]
    },
    {
     "name": "stdout",
     "output_type": "stream",
     "text": [
      "True\n",
      "В Сирии и Египте они занимают открытые во дворе лоджии.\n",
      "В Средней Азии мечеть и аудитория расположены в корпусе здания, по обе стороны портала (находящегося на оси главного фасада).\n",
      "[1, 0, 0, 0, 0, 1, 1, 0, 1, 1, 1, 0, 0, 0, 0, 0, 0, 0, 1, 1, 1, 1, 0, 0, 0, 0, 1, 0, 1, 0, 0, 1, 0, 0, 0, 0, 1, 1, 0, 0, 1, 1, 1, 0, 0, 1, 0, 0, 0, 1, 1, 0, 1, 0, 1, 0, 0, 0, 1, 0, 0, 1, 1]\n"
     ]
    },
    {
     "name": "stderr",
     "output_type": "stream",
     "text": [
      "361it [21:16,  2.88s/it, BLEU2=0.263, BLEU1=0.319, ExactMatch=0.0101, METEOR=0.503, BertScore=nan, StubScore=0.413]"
     ]
    },
    {
     "name": "stdout",
     "output_type": "stream",
     "text": [
      "True\n",
      "В Малой Азии дворик медресе покрыт большими куполами.\n",
      "В Малой Азии дворик медресе обычно покрывается большим куполом.\n",
      "[1, 0, 0, 0, 0, 1, 1, 0, 1, 1, 1, 0, 0, 0, 0, 0, 0, 0, 1, 1, 1, 1, 0, 0, 0, 0, 1, 0, 1, 0, 0, 1, 0, 0, 0, 0, 1, 1, 0, 0, 1, 1, 1, 0, 0, 1, 0, 0, 0, 1, 1, 0, 1, 0, 1, 0, 0, 0, 1, 0, 0, 1, 1]\n",
      "False\n",
      "У меня нет ответа на ваш вопрос.\n",
      "Своды в Азии служат перекрытиями.\n"
     ]
    },
    {
     "name": "stderr",
     "output_type": "stream",
     "text": [
      "362it [21:18,  2.59s/it, BLEU2=0.263, BLEU1=0.319, ExactMatch=0.0101, METEOR=0.503, BertScore=nan, StubScore=0.422]"
     ]
    },
    {
     "name": "stdout",
     "output_type": "stream",
     "text": [
      "[1, 0, 0, 0, 0, 1, 1, 0, 1, 1, 1, 0, 0, 0, 0, 0, 0, 0, 1, 1, 1, 1, 0, 0, 0, 0, 1, 0, 1, 0, 0, 1, 0, 0, 0, 0, 1, 1, 0, 0, 1, 1, 1, 0, 0, 1, 0, 0, 0, 1, 1, 0, 1, 0, 1, 0, 0, 0, 1, 0, 0, 1, 1, 1]\n",
      "False\n",
      "В Северной Африке купольные конструкции под названием гумбаз использовались в качестве перекрытий для различных сооружений, таких как сардобы, караван-сараи, мавзолеи, усыпальницы, бани и многие другие.\n",
      "В Северной Африке в качестве перекрытий используются стропильные крыши с черепичными кровлями.\n"
     ]
    },
    {
     "name": "stderr",
     "output_type": "stream",
     "text": [
      "363it [21:25,  3.71s/it, BLEU2=0.263, BLEU1=0.319, ExactMatch=0.0101, METEOR=0.503, BertScore=nan, StubScore=0.415]"
     ]
    },
    {
     "name": "stdout",
     "output_type": "stream",
     "text": [
      "[1, 0, 0, 0, 0, 1, 1, 0, 1, 1, 1, 0, 0, 0, 0, 0, 0, 0, 1, 1, 1, 1, 0, 0, 0, 0, 1, 0, 1, 0, 0, 1, 0, 0, 0, 0, 1, 1, 0, 0, 1, 1, 1, 0, 0, 1, 0, 0, 0, 1, 1, 0, 1, 0, 1, 0, 0, 0, 1, 0, 0, 1, 1, 1, 0]\n"
     ]
    },
    {
     "name": "stderr",
     "output_type": "stream",
     "text": [
      "364it [21:27,  3.38s/it, BLEU2=0.263, BLEU1=0.319, ExactMatch=0.01, METEOR=0.503, BertScore=nan, StubScore=0.415]  "
     ]
    },
    {
     "name": "stdout",
     "output_type": "stream",
     "text": [
      "True\n",
      "1-2-этажное здание медресе включает в себя общежитие, мечеть, аудиторию и обычно расположено в прямоугольном дворе.\n",
      "1—2-этажное здание медресе включает расположенные вокруг прямоугольного двора общежитие, мечеть, аудиторию.\n",
      "[1, 0, 0, 0, 0, 1, 1, 0, 1, 1, 1, 0, 0, 0, 0, 0, 0, 0, 1, 1, 1, 1, 0, 0, 0, 0, 1, 0, 1, 0, 0, 1, 0, 0, 0, 0, 1, 1, 0, 0, 1, 1, 1, 0, 0, 1, 0, 0, 0, 1, 1, 0, 1, 0, 1, 0, 0, 0, 1, 0, 0, 1, 1, 1, 0]\n",
      "False\n",
      "У меня нет ответа на ваш вопрос.\n",
      "Слова и обороты у диалектов заимствовались с небольшими лингвистическими исключениями.\n"
     ]
    },
    {
     "name": "stderr",
     "output_type": "stream",
     "text": [
      "365it [21:29,  2.95s/it, BLEU2=0.263, BLEU1=0.319, ExactMatch=0.01, METEOR=0.503, BertScore=nan, StubScore=0.424]"
     ]
    },
    {
     "name": "stdout",
     "output_type": "stream",
     "text": [
      "[1, 0, 0, 0, 0, 1, 1, 0, 1, 1, 1, 0, 0, 0, 0, 0, 0, 0, 1, 1, 1, 1, 0, 0, 0, 0, 1, 0, 1, 0, 0, 1, 0, 0, 0, 0, 1, 1, 0, 0, 1, 1, 1, 0, 0, 1, 0, 0, 0, 1, 1, 0, 1, 0, 1, 0, 0, 0, 1, 0, 0, 1, 1, 1, 0, 1]\n"
     ]
    },
    {
     "name": "stderr",
     "output_type": "stream",
     "text": [
      "366it [21:33,  3.35s/it, BLEU2=0.262, BLEU1=0.318, ExactMatch=0.01, METEOR=0.502, BertScore=nan, StubScore=0.424]"
     ]
    },
    {
     "name": "stdout",
     "output_type": "stream",
     "text": [
      "True\n",
      "17 декабря 1923 года Академический центр при СНК Башкирской АССР во главе с Ш. Х. Сюнчелеем принял решение о том, чтобы взять за основу башкирского литературного языка куваканское наречие[23].\n",
      "В литературный язык варианты множественного числа внесли из куваканского диалекта.\n",
      "[1, 0, 0, 0, 0, 1, 1, 0, 1, 1, 1, 0, 0, 0, 0, 0, 0, 0, 1, 1, 1, 1, 0, 0, 0, 0, 1, 0, 1, 0, 0, 1, 0, 0, 0, 0, 1, 1, 0, 0, 1, 1, 1, 0, 0, 1, 0, 0, 0, 1, 1, 0, 1, 0, 1, 0, 0, 0, 1, 0, 0, 1, 1, 1, 0, 1]\n"
     ]
    },
    {
     "name": "stderr",
     "output_type": "stream",
     "text": [
      "367it [21:39,  3.92s/it, BLEU2=0.261, BLEU1=0.317, ExactMatch=0.00997, METEOR=0.501, BertScore=nan, StubScore=0.424]"
     ]
    },
    {
     "name": "stdout",
     "output_type": "stream",
     "text": [
      "True\n",
      "1. [0.149] 2 марта 1924 года на заседании комиссии при Академии Башнаркомпроса было решено заимствовать словообразовательные аффиксы из куваканского диалекта и юрматинского диалекта.\n",
      "Словообразующие аффиксы заимствовали из юрматынского диалекта.\n",
      "[1, 0, 0, 0, 0, 1, 1, 0, 1, 1, 1, 0, 0, 0, 0, 0, 0, 0, 1, 1, 1, 1, 0, 0, 0, 0, 1, 0, 1, 0, 0, 1, 0, 0, 0, 0, 1, 1, 0, 0, 1, 1, 1, 0, 0, 1, 0, 0, 0, 1, 1, 0, 1, 0, 1, 0, 0, 0, 1, 0, 0, 1, 1, 1, 0, 1]\n"
     ]
    },
    {
     "name": "stderr",
     "output_type": "stream",
     "text": [
      "368it [21:40,  3.11s/it, BLEU2=0.261, BLEU1=0.317, ExactMatch=0.00993, METEOR=0.502, BertScore=nan, StubScore=0.424]"
     ]
    },
    {
     "name": "stdout",
     "output_type": "stream",
     "text": [
      "True\n",
      "Северо-западные башкиры предпочли использовать татарский язык.\n",
      "Татарский диалект предпочли использовать северо-западные башкиры.\n",
      "[1, 0, 0, 0, 0, 1, 1, 0, 1, 1, 1, 0, 0, 0, 0, 0, 0, 0, 1, 1, 1, 1, 0, 0, 0, 0, 1, 0, 1, 0, 0, 1, 0, 0, 0, 0, 1, 1, 0, 0, 1, 1, 1, 0, 0, 1, 0, 0, 0, 1, 1, 0, 1, 0, 1, 0, 0, 0, 1, 0, 0, 1, 1, 1, 0, 1]\n"
     ]
    },
    {
     "name": "stderr",
     "output_type": "stream",
     "text": [
      "369it [21:41,  2.54s/it, BLEU2=0.26, BLEU1=0.317, ExactMatch=0.0099, METEOR=0.501, BertScore=nan, StubScore=0.424]  "
     ]
    },
    {
     "name": "stdout",
     "output_type": "stream",
     "text": [
      "True\n",
      "Когда было принято решение о внесении изменений в литературный язык?\n",
      "2 марта 1924 года было решено привнести изменения в литературный язык.\n",
      "[1, 0, 0, 0, 0, 1, 1, 0, 1, 1, 1, 0, 0, 0, 0, 0, 0, 0, 1, 1, 1, 1, 0, 0, 0, 0, 1, 0, 1, 0, 0, 1, 0, 0, 0, 0, 1, 1, 0, 0, 1, 1, 1, 0, 0, 1, 0, 0, 0, 1, 1, 0, 1, 0, 1, 0, 0, 0, 1, 0, 0, 1, 1, 1, 0, 1]\n"
     ]
    },
    {
     "name": "stderr",
     "output_type": "stream",
     "text": [
      "370it [21:42,  2.01s/it, BLEU2=0.26, BLEU1=0.316, ExactMatch=0.00987, METEOR=0.501, BertScore=nan, StubScore=0.424]"
     ]
    },
    {
     "name": "stdout",
     "output_type": "stream",
     "text": [
      "True\n",
      "2 марта 1932 года.\n",
      "2 марта 1932 года является датой преобразования посёлка в город Сокол.\n",
      "[1, 0, 0, 0, 0, 1, 1, 0, 1, 1, 1, 0, 0, 0, 0, 0, 0, 0, 1, 1, 1, 1, 0, 0, 0, 0, 1, 0, 1, 0, 0, 1, 0, 0, 0, 0, 1, 1, 0, 0, 1, 1, 1, 0, 0, 1, 0, 0, 0, 1, 1, 0, 1, 0, 1, 0, 0, 0, 1, 0, 0, 1, 1, 1, 0, 1]\n"
     ]
    },
    {
     "name": "stderr",
     "output_type": "stream",
     "text": [
      "371it [21:43,  1.68s/it, BLEU2=0.259, BLEU1=0.316, ExactMatch=0.00984, METEOR=0.501, BertScore=nan, StubScore=0.424]"
     ]
    },
    {
     "name": "stdout",
     "output_type": "stream",
     "text": [
      "True\n",
      "1 июня 1932 года.\n",
      "1 июня 1932 года является датой присоединения завода Свердлова к городу Сокол.\n",
      "[1, 0, 0, 0, 0, 1, 1, 0, 1, 1, 1, 0, 0, 0, 0, 0, 0, 0, 1, 1, 1, 1, 0, 0, 0, 0, 1, 0, 1, 0, 0, 1, 0, 0, 0, 0, 1, 1, 0, 0, 1, 1, 1, 0, 0, 1, 0, 0, 0, 1, 1, 0, 1, 0, 1, 0, 0, 0, 1, 0, 0, 1, 1, 1, 0, 1]\n"
     ]
    },
    {
     "name": "stderr",
     "output_type": "stream",
     "text": [
      "372it [21:46,  2.01s/it, BLEU2=0.26, BLEU1=0.316, ExactMatch=0.0098, METEOR=0.502, BertScore=nan, StubScore=0.424]  "
     ]
    },
    {
     "name": "stdout",
     "output_type": "stream",
     "text": [
      "True\n",
      "1 июня 1932 года в черту города Сокол была интегрирована железнодорожная станция Сухона с поселком (Печаткино).\n",
      "в границу города Сокол была интегрирована станция Сухона.\n",
      "[1, 0, 0, 0, 0, 1, 1, 0, 1, 1, 1, 0, 0, 0, 0, 0, 0, 0, 1, 1, 1, 1, 0, 0, 0, 0, 1, 0, 1, 0, 0, 1, 0, 0, 0, 0, 1, 1, 0, 0, 1, 1, 1, 0, 0, 1, 0, 0, 0, 1, 1, 0, 1, 0, 1, 0, 0, 0, 1, 0, 0, 1, 1, 1, 0, 1]\n"
     ]
    },
    {
     "name": "stderr",
     "output_type": "stream",
     "text": [
      "373it [21:48,  2.22s/it, BLEU2=0.26, BLEU1=0.317, ExactMatch=0.00977, METEOR=0.502, BertScore=nan, StubScore=0.424]"
     ]
    },
    {
     "name": "stdout",
     "output_type": "stream",
     "text": [
      "True\n",
      "Деревня, которая была включена в состав города Сокол вместе с лесопильным заводом № 40 с поселком (Малютино), называется Малютино.\n",
      "Вместе с лесопильным заводом № 40 с поселком (Малютино) в состав города Сокола было включено село Воскресенье.\n",
      "[1, 0, 0, 0, 0, 1, 1, 0, 1, 1, 1, 0, 0, 0, 0, 0, 0, 0, 1, 1, 1, 1, 0, 0, 0, 0, 1, 0, 1, 0, 0, 1, 0, 0, 0, 0, 1, 1, 0, 0, 1, 1, 1, 0, 0, 1, 0, 0, 0, 1, 1, 0, 1, 0, 1, 0, 0, 0, 1, 0, 0, 1, 1, 1, 0, 1]\n"
     ]
    },
    {
     "name": "stderr",
     "output_type": "stream",
     "text": [
      "374it [21:52,  2.59s/it, BLEU2=0.26, BLEU1=0.317, ExactMatch=0.00974, METEOR=0.503, BertScore=nan, StubScore=0.424]"
     ]
    },
    {
     "name": "stdout",
     "output_type": "stream",
     "text": [
      "True\n",
      "1 марта 1932 года посёлок был преобразован в город Сокол по решению Президиума Центрального исполнительного комитета (ЦИК) Всесоюзного центрального исполнительного комитета (ВЦИК).\n",
      "Постановлением Президиума ВЦИК посёлок был преобразован в город Сокол.\n",
      "[1, 0, 0, 0, 0, 1, 1, 0, 1, 1, 1, 0, 0, 0, 0, 0, 0, 0, 1, 1, 1, 1, 0, 0, 0, 0, 1, 0, 1, 0, 0, 1, 0, 0, 0, 0, 1, 1, 0, 0, 1, 1, 1, 0, 0, 1, 0, 0, 0, 1, 1, 0, 1, 0, 1, 0, 0, 0, 1, 0, 0, 1, 1, 1, 0, 1]\n"
     ]
    },
    {
     "name": "stderr",
     "output_type": "stream",
     "text": [
      "375it [21:55,  2.68s/it, BLEU2=0.26, BLEU1=0.317, ExactMatch=0.00971, METEOR=0.504, BertScore=nan, StubScore=0.424]"
     ]
    },
    {
     "name": "stdout",
     "output_type": "stream",
     "text": [
      "True\n",
      "В русском лагере Шейх Али-хан был пленником младшего сына кубинского хана Фатали-хана, Гасан-хана.\n",
      "Шейх Али-хан в русском лагере был почётным пленником .\n",
      "[1, 0, 0, 0, 0, 1, 1, 0, 1, 1, 1, 0, 0, 0, 0, 0, 0, 0, 1, 1, 1, 1, 0, 0, 0, 0, 1, 0, 1, 0, 0, 1, 0, 0, 0, 0, 1, 1, 0, 0, 1, 1, 1, 0, 0, 1, 0, 0, 0, 1, 1, 0, 1, 0, 1, 0, 0, 0, 1, 0, 0, 1, 1, 1, 0, 1]\n"
     ]
    },
    {
     "name": "stderr",
     "output_type": "stream",
     "text": [
      "376it [21:56,  2.17s/it, BLEU2=0.26, BLEU1=0.317, ExactMatch=0.00968, METEOR=0.503, BertScore=nan, StubScore=0.424]"
     ]
    },
    {
     "name": "stdout",
     "output_type": "stream",
     "text": [
      "True\n",
      "12 мая 1796 года.\n",
      "2 мая 1796 Валериан Зубов подошел к Дербенту.\n",
      "[1, 0, 0, 0, 0, 1, 1, 0, 1, 1, 1, 0, 0, 0, 0, 0, 0, 0, 1, 1, 1, 1, 0, 0, 0, 0, 1, 0, 1, 0, 0, 1, 0, 0, 0, 0, 1, 1, 0, 0, 1, 1, 1, 0, 0, 1, 0, 0, 0, 1, 1, 0, 1, 0, 1, 0, 0, 0, 1, 0, 0, 1, 1, 1, 0, 1]\n",
      "False\n",
      "У меня нет ответа на ваш вопрос.\n",
      "10 мая на крепостной стене был выкинут белый флаг.\n"
     ]
    },
    {
     "name": "stderr",
     "output_type": "stream",
     "text": [
      "377it [21:58,  2.13s/it, BLEU2=0.26, BLEU1=0.317, ExactMatch=0.00968, METEOR=0.503, BertScore=nan, StubScore=0.433]"
     ]
    },
    {
     "name": "stdout",
     "output_type": "stream",
     "text": [
      "[1, 0, 0, 0, 0, 1, 1, 0, 1, 1, 1, 0, 0, 0, 0, 0, 0, 0, 1, 1, 1, 1, 0, 0, 0, 0, 1, 0, 1, 0, 0, 1, 0, 0, 0, 0, 1, 1, 0, 0, 1, 1, 1, 0, 0, 1, 0, 0, 0, 1, 1, 0, 1, 0, 1, 0, 0, 0, 1, 0, 0, 1, 1, 1, 0, 1, 1]\n"
     ]
    },
    {
     "name": "stderr",
     "output_type": "stream",
     "text": [
      "378it [22:00,  2.35s/it, BLEU2=0.26, BLEU1=0.317, ExactMatch=0.00965, METEOR=0.504, BertScore=nan, StubScore=0.433]"
     ]
    },
    {
     "name": "stdout",
     "output_type": "stream",
     "text": [
      "True\n",
      "В 1799 году младший сын кубинского хана Фатали-хана был провозглашен дербентским ханом.\n",
      "В 1799 году дербентским ханом провозгласили младшего сына кубинского хана Фатали-хана — Гасана.\n",
      "[1, 0, 0, 0, 0, 1, 1, 0, 1, 1, 1, 0, 0, 0, 0, 0, 0, 0, 1, 1, 1, 1, 0, 0, 0, 0, 1, 0, 1, 0, 0, 1, 0, 0, 0, 0, 1, 1, 0, 0, 1, 1, 1, 0, 0, 1, 0, 0, 0, 1, 1, 0, 1, 0, 1, 0, 0, 0, 1, 0, 0, 1, 1, 1, 0, 1, 1]\n"
     ]
    },
    {
     "name": "stderr",
     "output_type": "stream",
     "text": [
      "379it [22:01,  1.82s/it, BLEU2=0.26, BLEU1=0.316, ExactMatch=0.00962, METEOR=0.502, BertScore=nan, StubScore=0.433]"
     ]
    },
    {
     "name": "stdout",
     "output_type": "stream",
     "text": [
      "True\n",
      "Шейх Али Хан\n",
      "После белого флага в русский лагерь явился Хан Шейх Али-хан.\n",
      "[1, 0, 0, 0, 0, 1, 1, 0, 1, 1, 1, 0, 0, 0, 0, 0, 0, 0, 1, 1, 1, 1, 0, 0, 0, 0, 1, 0, 1, 0, 0, 1, 0, 0, 0, 0, 1, 1, 0, 0, 1, 1, 1, 0, 0, 1, 0, 0, 0, 1, 1, 0, 1, 0, 1, 0, 0, 0, 1, 0, 0, 1, 1, 1, 0, 1, 1]\n"
     ]
    },
    {
     "name": "stderr",
     "output_type": "stream",
     "text": [
      "380it [22:05,  2.32s/it, BLEU2=0.259, BLEU1=0.316, ExactMatch=0.00958, METEOR=0.502, BertScore=nan, StubScore=0.433]"
     ]
    },
    {
     "name": "stdout",
     "output_type": "stream",
     "text": [
      "True\n",
      "1. [0.11] Колхицин, колцемид, винбластин, винкристин, аценафтен, нокодазол, метанол и другие статмокинетические яды.\n",
      "Повреждение митотического аппарата происходит вследствие воздействия статмокинетических ядов (колхицина, колцемида, винбластина, винкристина, аценафтена, нокодазол, метанола и др.).\n",
      "[1, 0, 0, 0, 0, 1, 1, 0, 1, 1, 1, 0, 0, 0, 0, 0, 0, 0, 1, 1, 1, 1, 0, 0, 0, 0, 1, 0, 1, 0, 0, 1, 0, 0, 0, 0, 1, 1, 0, 0, 1, 1, 1, 0, 0, 1, 0, 0, 0, 1, 1, 0, 1, 0, 1, 0, 0, 0, 1, 0, 0, 1, 1, 1, 0, 1, 1]\n"
     ]
    },
    {
     "name": "stderr",
     "output_type": "stream",
     "text": [
      "381it [22:05,  1.71s/it, BLEU2=0.258, BLEU1=0.315, ExactMatch=0.00955, METEOR=0.5, BertScore=nan, StubScore=0.433]  "
     ]
    },
    {
     "name": "stdout",
     "output_type": "stream",
     "text": [
      "True\n",
      "1.\n",
      "В результате воздействия статмокинетических ядов митоз задерживается на стадии метафазы.\n",
      "[1, 0, 0, 0, 0, 1, 1, 0, 1, 1, 1, 0, 0, 0, 0, 0, 0, 0, 1, 1, 1, 1, 0, 0, 0, 0, 1, 0, 1, 0, 0, 1, 0, 0, 0, 0, 1, 1, 0, 0, 1, 1, 1, 0, 0, 1, 0, 0, 0, 1, 1, 0, 1, 0, 1, 0, 0, 0, 1, 0, 0, 1, 1, 1, 0, 1, 1]\n"
     ]
    },
    {
     "name": "stderr",
     "output_type": "stream",
     "text": [
      "382it [22:11,  3.13s/it, BLEU2=0.257, BLEU1=0.314, ExactMatch=0.00952, METEOR=0.5, BertScore=nan, StubScore=0.433]"
     ]
    },
    {
     "name": "stdout",
     "output_type": "stream",
     "text": [
      "True\n",
      "1. [0.095] Колхициновый митоз или К-митоз - это одна из форм патологии митоза, связанная с повреждением митотического аппарата из-за воздействия статмокинетических ядов (колхицина, колцемида, винбластина, винкристина, аценафтена, нокодазола, метанола и др.).\n",
      "Колхициновый митоз связан с повреждением митотического аппарата.\n",
      "[1, 0, 0, 0, 0, 1, 1, 0, 1, 1, 1, 0, 0, 0, 0, 0, 0, 0, 1, 1, 1, 1, 0, 0, 0, 0, 1, 0, 1, 0, 0, 1, 0, 0, 0, 0, 1, 1, 0, 0, 1, 1, 1, 0, 0, 1, 0, 0, 0, 1, 1, 0, 1, 0, 1, 0, 0, 0, 1, 0, 0, 1, 1, 1, 0, 1, 1]\n",
      "False\n",
      "1. [0.109] Хромосомные и хроматидные мосты являются следствием фрагментации хромосом. При воссоединении фрагментов, содержащих центромер, образуется дицентрическая хромосома, которая в ходе анафазы растягивается между противоположными полюсами деления, образуя мост.\n",
      "\n",
      "2. [0.129] Хромосомные перестройки (хромосомные аберрации) - это мутации, которые нарушают структуру хромосом. Они могут возникнуть спонтанно или в результате внешних воздействий (ионизирующее излучение, химические мутагены, вирусная инфекция и т. д.). В результате хромосомной перестройки может быть потерян или дублирован фрагмент хромосомы (делеция и дупликация, соответственно); участок хромосомы может быть перенесен на другую хромосому (транслокация) или он может изменить свою ориентацию в составе хромосомы на 180° (инверсия). Существуют и другие хромосомные перестройки.\n",
      "\n",
      "3. [0.135] 4) Фрагментация и пульверизация хромосом возникает в опухолевых клетках, при вирусной инфекции, в результате воздействия на нормальные клетки ионизирующего излучения или мутагенов. Фрагменты могут быть одиночными, парными и множественными. Те из них, которые лишены центромерного участка, не участвуют в метакинезе, и, соответственно, не расходятся к полюсам деления в анафазе. При массовой фрагментации хромосом (пульверизация) большинство фрагментов также беспорядочно рассеиваются в цитоплазме и не участвуют в метакинезе.\n",
      "В результате фрагментации или отставания хромосом образуются микроядра.\n"
     ]
    },
    {
     "name": "stderr",
     "output_type": "stream",
     "text": [
      "383it [22:42, 11.37s/it, BLEU2=0.257, BLEU1=0.314, ExactMatch=0.00952, METEOR=0.5, BertScore=nan, StubScore=0.426]"
     ]
    },
    {
     "name": "stdout",
     "output_type": "stream",
     "text": [
      "[1, 0, 0, 0, 0, 1, 1, 0, 1, 1, 1, 0, 0, 0, 0, 0, 0, 0, 1, 1, 1, 1, 0, 0, 0, 0, 1, 0, 1, 0, 0, 1, 0, 0, 0, 0, 1, 1, 0, 0, 1, 1, 1, 0, 0, 1, 0, 0, 0, 1, 1, 0, 1, 0, 1, 0, 0, 0, 1, 0, 0, 1, 1, 1, 0, 1, 1, 0]\n"
     ]
    },
    {
     "name": "stderr",
     "output_type": "stream",
     "text": [
      "384it [23:07, 15.59s/it, BLEU2=0.257, BLEU1=0.313, ExactMatch=0.00949, METEOR=0.5, BertScore=nan, StubScore=0.426]"
     ]
    },
    {
     "name": "stdout",
     "output_type": "stream",
     "text": [
      "True\n",
      "1. [0.159] Колхицин митоз или К-митоз - это одна из форм патологии митоза, связанная с повреждением митотического аппарата из-за воздействия статмокинетических ядов (колхицина, колцемида, винбластина, винкристина, аценафтена, нокодазола, метанола и т. д.). В результате воздействия статмокинетических ядов митоз задерживается на стадии метафазы в связи с дезорганизацией различных компонентов митотического веретена - центриолей, микротрубочек, кинетохоров. Повреждения также затрагивают клеточное ядро, плазмалемму, различные внутриклеточные органоиды (митохондрии, хлоропласты, аппарат Гольджи). Действие статмокинетических ядов усиливает спирализацию хромосом - они становятся короче и толще, а иногда даже набухают и слипаются. Это приводит к хромосомным аберрациям, образованию микроядер из-за фрагментации или отставания хромосом и развитию анеуплоидии.\n",
      "Действие статмокинетических ядов усиливает спирализацию хромосом.\n",
      "[1, 0, 0, 0, 0, 1, 1, 0, 1, 1, 1, 0, 0, 0, 0, 0, 0, 0, 1, 1, 1, 1, 0, 0, 0, 0, 1, 0, 1, 0, 0, 1, 0, 0, 0, 0, 1, 1, 0, 0, 1, 1, 1, 0, 0, 1, 0, 0, 0, 1, 1, 0, 1, 0, 1, 0, 0, 0, 1, 0, 0, 1, 1, 1, 0, 1, 1, 0]\n"
     ]
    },
    {
     "name": "stderr",
     "output_type": "stream",
     "text": [
      "385it [23:33, 18.76s/it, BLEU2=0.256, BLEU1=0.313, ExactMatch=0.00946, METEOR=0.499, BertScore=nan, StubScore=0.426]"
     ]
    },
    {
     "name": "stdout",
     "output_type": "stream",
     "text": [
      "True\n",
      "1. [0.135] 2. [0.135] Лавкрафт писал художественную литературу еще в детстве (Зверь в пещере (1905), Алхимик (1908)), но позже предпочел поэзию и эссе. Вернулся к этому несерьезному жанру в 1917 году с рассказами \"Дагон\", затем \"Гробница\". \"Дагон\" стал его первым опубликованным произведением, появившимся в 1923 году в журнале \"Weird Tales\". В то же время Лавкрафт начал свою переписку, ставшую в итоге одной из самых объемных в XX веке. Среди его корреспондентов были Форрест Аккерман, Роберт Блох и Роберт Говард.\n",
      "\n",
      "3. [0.137] Вернувшись в Провиденс, Лавкрафт жил в большом деревянном доме викторианской эпохи по адресу Барнс-стрит, 10 вплоть до 1933 года (этот адрес является адресом дома доктора Уиллета в повести \"Случай Чарльза Декстера Варда\"). Этот период, возможно, наиболее интересный и продуктивный в жизни писателя. Он много путешествует по Новой Англии, посещает Квебек, Филадельфию, по-прежнему ведет активную переписку. Самые важные произведения Лавкрафта (иногда называемые \"старшими текстами\"), начиная с \"Зова Ктулху\" (1926), написаны именно в это время[6].\n",
      "12 книг Лавкрафта было издано в издательствах Москвы, Киева, Екатеринбурга и Нижнего Новгорода.\n",
      "[1, 0, 0, 0, 0, 1, 1, 0, 1, 1, 1, 0, 0, 0, 0, 0, 0, 0, 1, 1, 1, 1, 0, 0, 0, 0, 1, 0, 1, 0, 0, 1, 0, 0, 0, 0, 1, 1, 0, 0, 1, 1, 1, 0, 0, 1, 0, 0, 0, 1, 1, 0, 1, 0, 1, 0, 0, 0, 1, 0, 0, 1, 1, 1, 0, 1, 1, 0]\n"
     ]
    },
    {
     "name": "stderr",
     "output_type": "stream",
     "text": [
      "386it [23:35, 13.50s/it, BLEU2=0.258, BLEU1=0.315, ExactMatch=0.0126, METEOR=0.5, BertScore=nan, StubScore=0.426]   "
     ]
    },
    {
     "name": "stdout",
     "output_type": "stream",
     "text": [
      "True\n",
      "Коллектив переводчиков из Екатеринбурга сформировался вокруг литературного агентства Kubin Ltd.\n",
      "Коллектив переводчиков из Екатеринбурга сформировался вокруг литературного агентства Kubin Ltd.\n",
      "[1, 0, 0, 0, 0, 1, 1, 0, 1, 1, 1, 0, 0, 0, 0, 0, 0, 0, 1, 1, 1, 1, 0, 0, 0, 0, 1, 0, 1, 0, 0, 1, 0, 0, 0, 0, 1, 1, 0, 0, 1, 1, 1, 0, 0, 1, 0, 0, 0, 1, 1, 0, 1, 0, 1, 0, 0, 0, 1, 0, 0, 1, 1, 1, 0, 1, 1, 0]\n",
      "False\n",
      "[0.189] Члены АБТ-ACTE Russia - это менеджеры по путешествиям, административные директора и специалисты по закупкам международных и российских корпораций, а партнерами являются ведущие поставщики бизнес-услуг по путешествиям. В числе ключевых направлений деятельности ассоциации - развитие собственной программы сертификации в области гостиничных услуг \"Сертификация бизнес- и конференц-отелей\" и обучение по программам \"Специалист по деловым поездкам\", \"Менеджер по путешествиям\" и \"Краткосрочные образовательные программы\". Сертификация бизнес- и конференц-отелей была создана АБТ-ACTE Russia в 2012 году с целью помочь бизнес-путешественникам выбрать наиболее подходящее средство размещения или место проведения MICE-мероприятий. В числе критериев, по которым независимые эксперты проводят инспекцию отелей, - качество приема мобильной связи, наличие высокоскоростного доступа в интернет и функционального бизнес-центра.\n",
      "Команда переводчиков из Екатеринбурга ответственна за издание 7-томной Энциклопедии читателя.\n"
     ]
    },
    {
     "name": "stderr",
     "output_type": "stream",
     "text": [
      "387it [23:51, 14.39s/it, BLEU2=0.258, BLEU1=0.315, ExactMatch=0.0126, METEOR=0.5, BertScore=nan, StubScore=0.42] "
     ]
    },
    {
     "name": "stdout",
     "output_type": "stream",
     "text": [
      "[1, 0, 0, 0, 0, 1, 1, 0, 1, 1, 1, 0, 0, 0, 0, 0, 0, 0, 1, 1, 1, 1, 0, 0, 0, 0, 1, 0, 1, 0, 0, 1, 0, 0, 0, 0, 1, 1, 0, 0, 1, 1, 1, 0, 0, 1, 0, 0, 0, 1, 1, 0, 1, 0, 1, 0, 0, 0, 1, 0, 0, 1, 1, 1, 0, 1, 1, 0, 0]\n"
     ]
    },
    {
     "name": "stderr",
     "output_type": "stream",
     "text": [
      "388it [23:55, 11.12s/it, BLEU2=0.258, BLEU1=0.315, ExactMatch=0.0125, METEOR=0.501, BertScore=nan, StubScore=0.42]"
     ]
    },
    {
     "name": "stdout",
     "output_type": "stream",
     "text": [
      "True\n",
      "В 1991-1993 годах коллектив переводчиков из Екатеринбурга, сформировавшийся вокруг литературного агентства Kubin Ltd, подготовил полное 4-томное собрание сочинений Лавкрафта для издательства \"Фолиум\".\n",
      "Коллектив переводчиков из Екатеринбурга подготовил для издательства Форум полное 4-томное собрание сочинений Лавкрафта.\n",
      "[1, 0, 0, 0, 0, 1, 1, 0, 1, 1, 1, 0, 0, 0, 0, 0, 0, 0, 1, 1, 1, 1, 0, 0, 0, 0, 1, 0, 1, 0, 0, 1, 0, 0, 0, 0, 1, 1, 0, 0, 1, 1, 1, 0, 0, 1, 0, 0, 0, 1, 1, 0, 1, 0, 1, 0, 0, 0, 1, 0, 0, 1, 1, 1, 0, 1, 1, 0, 0]\n"
     ]
    },
    {
     "name": "stderr",
     "output_type": "stream",
     "text": [
      "389it [23:57,  8.43s/it, BLEU2=0.26, BLEU1=0.317, ExactMatch=0.0125, METEOR=0.503, BertScore=nan, StubScore=0.42] "
     ]
    },
    {
     "name": "stdout",
     "output_type": "stream",
     "text": [
      "True\n",
      "Игорь Богданов, Василий Дорогокупля, Фёдор Еремеев и Олег Мичковский опубликовали 12 книг Лавкрафта.\n",
      "Игорь Богданов, Василий Дорогокупля, Фёдор Еремеев и Олег Мичковский издали 12 книг Лавкрафта.\n",
      "[1, 0, 0, 0, 0, 1, 1, 0, 1, 1, 1, 0, 0, 0, 0, 0, 0, 0, 1, 1, 1, 1, 0, 0, 0, 0, 1, 0, 1, 0, 0, 1, 0, 0, 0, 0, 1, 1, 0, 0, 1, 1, 1, 0, 0, 1, 0, 0, 0, 1, 1, 0, 1, 0, 1, 0, 0, 0, 1, 0, 0, 1, 1, 1, 0, 1, 1, 0, 0]\n",
      "True\n",
      "В\n",
      "Республиканские войска при осаде Алькасара состояли из анархистов и марксистов.\n"
     ]
    },
    {
     "name": "stderr",
     "output_type": "stream",
     "text": [
      "390it [23:57,  5.96s/it, BLEU2=0.26, BLEU1=0.316, ExactMatch=0.0125, METEOR=0.501, BertScore=nan, StubScore=0.42]"
     ]
    },
    {
     "name": "stdout",
     "output_type": "stream",
     "text": [
      "[1, 0, 0, 0, 0, 1, 1, 0, 1, 1, 1, 0, 0, 0, 0, 0, 0, 0, 1, 1, 1, 1, 0, 0, 0, 0, 1, 0, 1, 0, 0, 1, 0, 0, 0, 0, 1, 1, 0, 0, 1, 1, 1, 0, 0, 1, 0, 0, 0, 1, 1, 0, 1, 0, 1, 0, 0, 0, 1, 0, 0, 1, 1, 1, 0, 1, 1, 0, 0]\n"
     ]
    },
    {
     "name": "stderr",
     "output_type": "stream",
     "text": [
      "391it [23:58,  4.59s/it, BLEU2=0.26, BLEU1=0.317, ExactMatch=0.0124, METEOR=0.501, BertScore=nan, StubScore=0.42]"
     ]
    },
    {
     "name": "stdout",
     "output_type": "stream",
     "text": [
      "True\n",
      "Оборона Алькасара продолжалась 70 дней.\n",
      "Оборона Алькасара длилась 70 суток.\n",
      "[1, 0, 0, 0, 0, 1, 1, 0, 1, 1, 1, 0, 0, 0, 0, 0, 0, 0, 1, 1, 1, 1, 0, 0, 0, 0, 1, 0, 1, 0, 0, 1, 0, 0, 0, 0, 1, 1, 0, 0, 1, 1, 1, 0, 0, 1, 0, 0, 0, 1, 1, 0, 1, 0, 1, 0, 0, 0, 1, 0, 0, 1, 1, 1, 0, 1, 1, 0, 0]\n"
     ]
    },
    {
     "name": "stderr",
     "output_type": "stream",
     "text": [
      "393it [24:01,  2.78s/it, BLEU2=0.261, BLEU1=0.317, ExactMatch=0.0123, METEOR=0.501, BertScore=nan, StubScore=0.42]"
     ]
    },
    {
     "name": "stdout",
     "output_type": "stream",
     "text": [
      "True\n",
      "Оборона Алькасара началась во время гражданской войны в Испании 20 июля 1936 года.\n",
      "Оборона Алькасара в ходе гражданской войны в Испании началась 20 июля 1936 года.\n",
      "[1, 0, 0, 0, 0, 1, 1, 0, 1, 1, 1, 0, 0, 0, 0, 0, 0, 0, 1, 1, 1, 1, 0, 0, 0, 0, 1, 0, 1, 0, 0, 1, 0, 0, 0, 0, 1, 1, 0, 0, 1, 1, 1, 0, 0, 1, 0, 0, 0, 1, 1, 0, 1, 0, 1, 0, 0, 0, 1, 0, 0, 1, 1, 1, 0, 1, 1, 0, 0]\n",
      "True\n",
      "1\n",
      "Во время обороны Алькасара курсантами военного училища командовал Москардо.\n",
      "[1, 0, 0, 0, 0, 1, 1, 0, 1, 1, 1, 0, 0, 0, 0, 0, 0, 0, 1, 1, 1, 1, 0, 0, 0, 0, 1, 0, 1, 0, 0, 1, 0, 0, 0, 0, 1, 1, 0, 0, 1, 1, 1, 0, 0, 1, 0, 0, 0, 1, 1, 0, 1, 0, 1, 0, 0, 0, 1, 0, 0, 1, 1, 1, 0, 1, 1, 0, 0]\n"
     ]
    },
    {
     "name": "stderr",
     "output_type": "stream",
     "text": [
      "394it [24:01,  2.01s/it, BLEU2=0.26, BLEU1=0.316, ExactMatch=0.0123, METEOR=0.499, BertScore=nan, StubScore=0.42] "
     ]
    },
    {
     "name": "stdout",
     "output_type": "stream",
     "text": [
      "True\n",
      "1\n",
      "Алькасар обороняли сторонники Франко.\n",
      "[1, 0, 0, 0, 0, 1, 1, 0, 1, 1, 1, 0, 0, 0, 0, 0, 0, 0, 1, 1, 1, 1, 0, 0, 0, 0, 1, 0, 1, 0, 0, 1, 0, 0, 0, 0, 1, 1, 0, 0, 1, 1, 1, 0, 0, 1, 0, 0, 0, 1, 1, 0, 1, 0, 1, 0, 0, 0, 1, 0, 0, 1, 1, 1, 0, 1, 1, 0, 0]\n",
      "False\n",
      "У меня нет ответа на ваш вопрос.\n",
      "Легендарное телешоу называлась Top of the Pops.\n"
     ]
    },
    {
     "name": "stderr",
     "output_type": "stream",
     "text": [
      "395it [24:03,  2.02s/it, BLEU2=0.26, BLEU1=0.316, ExactMatch=0.0123, METEOR=0.499, BertScore=nan, StubScore=0.429]"
     ]
    },
    {
     "name": "stdout",
     "output_type": "stream",
     "text": [
      "[1, 0, 0, 0, 0, 1, 1, 0, 1, 1, 1, 0, 0, 0, 0, 0, 0, 0, 1, 1, 1, 1, 0, 0, 0, 0, 1, 0, 1, 0, 0, 1, 0, 0, 0, 0, 1, 1, 0, 0, 1, 1, 1, 0, 0, 1, 0, 0, 0, 1, 1, 0, 1, 0, 1, 0, 0, 0, 1, 0, 0, 1, 1, 1, 0, 1, 1, 0, 0, 1]\n"
     ]
    },
    {
     "name": "stderr",
     "output_type": "stream",
     "text": [
      "396it [24:08,  2.87s/it, BLEU2=0.259, BLEU1=0.316, ExactMatch=0.0123, METEOR=0.498, BertScore=nan, StubScore=0.429]"
     ]
    },
    {
     "name": "stdout",
     "output_type": "stream",
     "text": [
      "True\n",
      "1. [0.178] 21 декабря 2011 года на телеканале BBC 2 была показана видеозапись выступления Боуи в легендарном телешоу Top of the Pops, которое, как считалось, было безвозвратно утеряно.\n",
      "Запись телешоу показал Би-Би-Си 2\n",
      "[1, 0, 0, 0, 0, 1, 1, 0, 1, 1, 1, 0, 0, 0, 0, 0, 0, 0, 1, 1, 1, 1, 0, 0, 0, 0, 1, 0, 1, 0, 0, 1, 0, 0, 0, 0, 1, 1, 0, 0, 1, 1, 1, 0, 0, 1, 0, 0, 0, 1, 1, 0, 1, 0, 1, 0, 0, 0, 1, 0, 0, 1, 1, 1, 0, 1, 1, 0, 0, 1]\n"
     ]
    },
    {
     "name": "stderr",
     "output_type": "stream",
     "text": [
      "397it [24:11,  2.92s/it, BLEU2=0.26, BLEU1=0.317, ExactMatch=0.0122, METEOR=0.499, BertScore=nan, StubScore=0.429] "
     ]
    },
    {
     "name": "stdout",
     "output_type": "stream",
     "text": [
      "True\n",
      "21 декабря 2011 года на телеканале BBC 2 была показана видеозапись выступления Боуи на легендарном телешоу Top of the Pops.\n",
      "Видеозапись выступления Боуи на легендарном телешоу Top of the Pops была показана 21 декабря 2011 года.\n",
      "[1, 0, 0, 0, 0, 1, 1, 0, 1, 1, 1, 0, 0, 0, 0, 0, 0, 0, 1, 1, 1, 1, 0, 0, 0, 0, 1, 0, 1, 0, 0, 1, 0, 0, 0, 0, 1, 1, 0, 0, 1, 1, 1, 0, 0, 1, 0, 0, 0, 1, 1, 0, 1, 0, 1, 0, 0, 0, 1, 0, 0, 1, 1, 1, 0, 1, 1, 0, 0, 1]\n"
     ]
    },
    {
     "name": "stderr",
     "output_type": "stream",
     "text": [
      "398it [24:14,  2.88s/it, BLEU2=0.261, BLEU1=0.318, ExactMatch=0.0122, METEOR=0.501, BertScore=nan, StubScore=0.429]"
     ]
    },
    {
     "name": "stdout",
     "output_type": "stream",
     "text": [
      "True\n",
      "Запись выступления Боуи на легендарном телешоу Top of the Pops была сделана 4 января 1973 года.\n",
      "Запись выступления Боуи на легендарном телешоу была сделана 4 января 1973 года.\n",
      "[1, 0, 0, 0, 0, 1, 1, 0, 1, 1, 1, 0, 0, 0, 0, 0, 0, 0, 1, 1, 1, 1, 0, 0, 0, 0, 1, 0, 1, 0, 0, 1, 0, 0, 0, 0, 1, 1, 0, 0, 1, 1, 1, 0, 0, 1, 0, 0, 0, 1, 1, 0, 1, 0, 1, 0, 0, 0, 1, 0, 0, 1, 1, 1, 0, 1, 1, 0, 0, 1]\n",
      "False\n",
      "В 1937 году Би-би-си вела прямую телевизионную трансляцию теннисного матча между Банни Остин и ирландцем Джорджем Роджерсом.\n",
      "Оператором Би-Би-Си был Джон Хеншелл.\n"
     ]
    },
    {
     "name": "stderr",
     "output_type": "stream",
     "text": [
      "399it [24:19,  3.66s/it, BLEU2=0.261, BLEU1=0.318, ExactMatch=0.0122, METEOR=0.501, BertScore=nan, StubScore=0.423]"
     ]
    },
    {
     "name": "stdout",
     "output_type": "stream",
     "text": [
      "[1, 0, 0, 0, 0, 1, 1, 0, 1, 1, 1, 0, 0, 0, 0, 0, 0, 0, 1, 1, 1, 1, 0, 0, 0, 0, 1, 0, 1, 0, 0, 1, 0, 0, 0, 0, 1, 1, 0, 0, 1, 1, 1, 0, 0, 1, 0, 0, 0, 1, 1, 0, 1, 0, 1, 0, 0, 0, 1, 0, 0, 1, 1, 1, 0, 1, 1, 0, 0, 1, 0]\n",
      "False\n",
      "У меня нет ответа на ваш вопрос.\n",
      "О том что испытывает непрестанную боль, ужас и ярость при чтении каждой газеты, осенью 1918 года Бунин сообщил в письме Абраму Дорману.\n"
     ]
    },
    {
     "name": "stderr",
     "output_type": "stream",
     "text": [
      "400it [24:21,  3.18s/it, BLEU2=0.261, BLEU1=0.318, ExactMatch=0.0122, METEOR=0.501, BertScore=nan, StubScore=0.431]"
     ]
    },
    {
     "name": "stdout",
     "output_type": "stream",
     "text": [
      "[1, 0, 0, 0, 0, 1, 1, 0, 1, 1, 1, 0, 0, 0, 0, 0, 0, 0, 1, 1, 1, 1, 0, 0, 0, 0, 1, 0, 1, 0, 0, 1, 0, 0, 0, 0, 1, 1, 0, 0, 1, 1, 1, 0, 0, 1, 0, 0, 0, 1, 1, 0, 1, 0, 1, 0, 0, 0, 1, 0, 0, 1, 1, 1, 0, 1, 1, 0, 0, 1, 0, 1]\n",
      "False\n",
      "У меня нет ответа на ваш вопрос.\n",
      "После проживания на даче, чета Буниных переместилась в особняк Евгения Буковецкого.\n"
     ]
    },
    {
     "name": "stderr",
     "output_type": "stream",
     "text": [
      "401it [24:23,  2.82s/it, BLEU2=0.261, BLEU1=0.318, ExactMatch=0.0122, METEOR=0.501, BertScore=nan, StubScore=0.438]"
     ]
    },
    {
     "name": "stdout",
     "output_type": "stream",
     "text": [
      "[1, 0, 0, 0, 0, 1, 1, 0, 1, 1, 1, 0, 0, 0, 0, 0, 0, 0, 1, 1, 1, 1, 0, 0, 0, 0, 1, 0, 1, 0, 0, 1, 0, 0, 0, 0, 1, 1, 0, 0, 1, 1, 1, 0, 0, 1, 0, 0, 0, 1, 1, 0, 1, 0, 1, 0, 0, 0, 1, 0, 0, 1, 1, 1, 0, 1, 1, 0, 0, 1, 0, 1, 1]\n"
     ]
    },
    {
     "name": "stderr",
     "output_type": "stream",
     "text": [
      "402it [24:25,  2.47s/it, BLEU2=0.262, BLEU1=0.318, ExactMatch=0.0122, METEOR=0.5, BertScore=nan, StubScore=0.438]  "
     ]
    },
    {
     "name": "stdout",
     "output_type": "stream",
     "text": [
      "True\n",
      "В каком городе Иван Алексеевич и Вера Николаевна проводили лето в 1918 году?\n",
      "Дача, в которой жили Иван Алексеевич и Вера Николаевна располагалась за Большим Фонтаном.\n",
      "[1, 0, 0, 0, 0, 1, 1, 0, 1, 1, 1, 0, 0, 0, 0, 0, 0, 0, 1, 1, 1, 1, 0, 0, 0, 0, 1, 0, 1, 0, 0, 1, 0, 0, 0, 0, 1, 1, 0, 0, 1, 1, 1, 0, 0, 1, 0, 0, 0, 1, 1, 0, 1, 0, 1, 0, 0, 0, 1, 0, 0, 1, 1, 1, 0, 1, 1, 0, 0, 1, 0, 1, 1]\n"
     ]
    },
    {
     "name": "stderr",
     "output_type": "stream",
     "text": [
      "403it [24:27,  2.23s/it, BLEU2=0.263, BLEU1=0.32, ExactMatch=0.0121, METEOR=0.501, BertScore=nan, StubScore=0.438]"
     ]
    },
    {
     "name": "stdout",
     "output_type": "stream",
     "text": [
      "True\n",
      "Иван Алексеевич и Вера Николаевна покинули Москву 21 мая 1918 года.\n",
      "Иван Алексеевич и Вера Николаевна уехали из Москвы 21 мая 1918 года.\n",
      "[1, 0, 0, 0, 0, 1, 1, 0, 1, 1, 1, 0, 0, 0, 0, 0, 0, 0, 1, 1, 1, 1, 0, 0, 0, 0, 1, 0, 1, 0, 0, 1, 0, 0, 0, 0, 1, 1, 0, 0, 1, 1, 1, 0, 0, 1, 0, 0, 0, 1, 1, 0, 1, 0, 1, 0, 0, 0, 1, 0, 0, 1, 1, 1, 0, 1, 1, 0, 0, 1, 0, 1, 1]\n"
     ]
    },
    {
     "name": "stderr",
     "output_type": "stream",
     "text": [
      "404it [24:29,  2.28s/it, BLEU2=0.263, BLEU1=0.32, ExactMatch=0.0121, METEOR=0.502, BertScore=nan, StubScore=0.438]"
     ]
    },
    {
     "name": "stdout",
     "output_type": "stream",
     "text": [
      "True\n",
      "1. [0.108] Иван Алексеевич и Вера Николаевна отправились в Одессу после отъезда из Москвы.\n",
      "Иван Алексеевич и Вера Николаевна после отьезда из Москвы направились до Одессы.\n",
      "[1, 0, 0, 0, 0, 1, 1, 0, 1, 1, 1, 0, 0, 0, 0, 0, 0, 0, 1, 1, 1, 1, 0, 0, 0, 0, 1, 0, 1, 0, 0, 1, 0, 0, 0, 0, 1, 1, 0, 0, 1, 1, 1, 0, 0, 1, 0, 0, 0, 1, 1, 0, 1, 0, 1, 0, 0, 0, 1, 0, 0, 1, 1, 1, 0, 1, 1, 0, 0, 1, 0, 1, 1]\n"
     ]
    },
    {
     "name": "stderr",
     "output_type": "stream",
     "text": [
      "405it [24:31,  2.31s/it, BLEU2=0.263, BLEU1=0.32, ExactMatch=0.012, METEOR=0.502, BertScore=nan, StubScore=0.438] "
     ]
    },
    {
     "name": "stdout",
     "output_type": "stream",
     "text": [
      "True\n",
      "Мадонна использовала ненормативную лексику в адрес противников Марша женщин, который был организован в знак протеста против Дональда Трампа.\n",
      "Мадонна нецензурно выражалась в адрес в адреса противников Марша женщин.\n",
      "[1, 0, 0, 0, 0, 1, 1, 0, 1, 1, 1, 0, 0, 0, 0, 0, 0, 0, 1, 1, 1, 1, 0, 0, 0, 0, 1, 0, 1, 0, 0, 1, 0, 0, 0, 0, 1, 1, 0, 0, 1, 1, 1, 0, 0, 1, 0, 0, 0, 1, 1, 0, 1, 0, 1, 0, 0, 0, 1, 0, 0, 1, 1, 1, 0, 1, 1, 0, 0, 1, 0, 1, 1]\n"
     ]
    },
    {
     "name": "stderr",
     "output_type": "stream",
     "text": [
      "406it [24:32,  1.86s/it, BLEU2=0.263, BLEU1=0.32, ExactMatch=0.012, METEOR=0.502, BertScore=nan, StubScore=0.438]"
     ]
    },
    {
     "name": "stdout",
     "output_type": "stream",
     "text": [
      "True\n",
      "21 января 2017 года.\n",
      "Массовая акция протеста против Дональда Трампа была 21 января 2017 года.\n",
      "[1, 0, 0, 0, 0, 1, 1, 0, 1, 1, 1, 0, 0, 0, 0, 0, 0, 0, 1, 1, 1, 1, 0, 0, 0, 0, 1, 0, 1, 0, 0, 1, 0, 0, 0, 0, 1, 1, 0, 0, 1, 1, 1, 0, 0, 1, 0, 0, 0, 1, 1, 0, 1, 0, 1, 0, 0, 0, 1, 0, 0, 1, 1, 1, 0, 1, 1, 0, 0, 1, 0, 1, 1]\n",
      "False\n",
      "Мадонна столкнулась с критикой за свое творчество 1990-х годов, которое было воспринято негативно прессой и общественным мнением.\n",
      "Мадонну критиковали за мат и высказанные вслух антипатриотичные размышления о взрыве Белого дома.\n"
     ]
    },
    {
     "name": "stderr",
     "output_type": "stream",
     "text": [
      "407it [24:37,  2.63s/it, BLEU2=0.263, BLEU1=0.32, ExactMatch=0.012, METEOR=0.502, BertScore=nan, StubScore=0.432]"
     ]
    },
    {
     "name": "stdout",
     "output_type": "stream",
     "text": [
      "[1, 0, 0, 0, 0, 1, 1, 0, 1, 1, 1, 0, 0, 0, 0, 0, 0, 0, 1, 1, 1, 1, 0, 0, 0, 0, 1, 0, 1, 0, 0, 1, 0, 0, 0, 0, 1, 1, 0, 0, 1, 1, 1, 0, 0, 1, 0, 0, 0, 1, 1, 0, 1, 0, 1, 0, 0, 0, 1, 0, 0, 1, 1, 1, 0, 1, 1, 0, 0, 1, 0, 1, 1, 0]\n",
      "False\n",
      "У меня нет ответа на ваш вопрос.\n",
      "В выступлении поле речи были песни Express Yourself и Human Nature.\n"
     ]
    },
    {
     "name": "stderr",
     "output_type": "stream",
     "text": [
      "408it [24:38,  2.38s/it, BLEU2=0.263, BLEU1=0.32, ExactMatch=0.012, METEOR=0.502, BertScore=nan, StubScore=0.44] "
     ]
    },
    {
     "name": "stdout",
     "output_type": "stream",
     "text": [
      "[1, 0, 0, 0, 0, 1, 1, 0, 1, 1, 1, 0, 0, 0, 0, 0, 0, 0, 1, 1, 1, 1, 0, 0, 0, 0, 1, 0, 1, 0, 0, 1, 0, 0, 0, 0, 1, 1, 0, 0, 1, 1, 1, 0, 0, 1, 0, 0, 0, 1, 1, 0, 1, 0, 1, 0, 0, 0, 1, 0, 0, 1, 1, 1, 0, 1, 1, 0, 0, 1, 0, 1, 1, 0, 1]\n"
     ]
    },
    {
     "name": "stderr",
     "output_type": "stream",
     "text": [
      "409it [24:39,  1.86s/it, BLEU2=0.262, BLEU1=0.319, ExactMatch=0.012, METEOR=0.5, BertScore=nan, StubScore=0.44] "
     ]
    },
    {
     "name": "stdout",
     "output_type": "stream",
     "text": [
      "True\n",
      "1. [0.139]\n",
      "Массовая акция протеста была против Дональда Трампа.\n",
      "[1, 0, 0, 0, 0, 1, 1, 0, 1, 1, 1, 0, 0, 0, 0, 0, 0, 0, 1, 1, 1, 1, 0, 0, 0, 0, 1, 0, 1, 0, 0, 1, 0, 0, 0, 0, 1, 1, 0, 0, 1, 1, 1, 0, 0, 1, 0, 0, 0, 1, 1, 0, 1, 0, 1, 0, 0, 0, 1, 0, 0, 1, 1, 1, 0, 1, 1, 0, 0, 1, 0, 1, 1, 0, 1]\n"
     ]
    },
    {
     "name": "stderr",
     "output_type": "stream",
     "text": [
      "410it [24:41,  1.97s/it, BLEU2=0.261, BLEU1=0.318, ExactMatch=0.0119, METEOR=0.5, BertScore=nan, StubScore=0.44]"
     ]
    },
    {
     "name": "stdout",
     "output_type": "stream",
     "text": [
      "True\n",
      "12 октября 2001 года были утверждены герб и флаг Белозерского муниципального района и города Белозерска.\n",
      "Герб города Белозерска утвержден 22 мая 1972 года.\n",
      "[1, 0, 0, 0, 0, 1, 1, 0, 1, 1, 1, 0, 0, 0, 0, 0, 0, 0, 1, 1, 1, 1, 0, 0, 0, 0, 1, 0, 1, 0, 0, 1, 0, 0, 0, 0, 1, 1, 0, 0, 1, 1, 1, 0, 0, 1, 0, 0, 0, 1, 1, 0, 1, 0, 1, 0, 0, 0, 1, 0, 0, 1, 1, 1, 0, 1, 1, 0, 0, 1, 0, 1, 1, 0, 1]\n"
     ]
    },
    {
     "name": "stderr",
     "output_type": "stream",
     "text": [
      "411it [24:43,  2.04s/it, BLEU2=0.262, BLEU1=0.319, ExactMatch=0.0119, METEOR=0.501, BertScore=nan, StubScore=0.44]"
     ]
    },
    {
     "name": "stdout",
     "output_type": "stream",
     "text": [
      "True\n",
      "12 октября 2001 года были утверждены герб и флаг Белозерского муниципального района и города Белозерска.\n",
      "Герб и флаг Белозерского муниципального района были утверждены 12 октября 2001 года.\n",
      "[1, 0, 0, 0, 0, 1, 1, 0, 1, 1, 1, 0, 0, 0, 0, 0, 0, 0, 1, 1, 1, 1, 0, 0, 0, 0, 1, 0, 1, 0, 0, 1, 0, 0, 0, 0, 1, 1, 0, 0, 1, 1, 1, 0, 0, 1, 0, 0, 0, 1, 1, 0, 1, 0, 1, 0, 0, 0, 1, 0, 0, 1, 1, 1, 0, 1, 1, 0, 0, 1, 0, 1, 1, 0, 1]\n"
     ]
    },
    {
     "name": "stderr",
     "output_type": "stream",
     "text": [
      "412it [24:45,  1.94s/it, BLEU2=0.264, BLEU1=0.321, ExactMatch=0.0119, METEOR=0.503, BertScore=nan, StubScore=0.44]"
     ]
    },
    {
     "name": "stdout",
     "output_type": "stream",
     "text": [
      "True\n",
      "Автор реконструкции герба Белозерского муниципального района и города Белозерска - Олег Свириденко.\n",
      "Автор реконструкции герба Белозерского муниципального района и города Белозерска Олег Свириденко.\n",
      "[1, 0, 0, 0, 0, 1, 1, 0, 1, 1, 1, 0, 0, 0, 0, 0, 0, 0, 1, 1, 1, 1, 0, 0, 0, 0, 1, 0, 1, 0, 0, 1, 0, 0, 0, 0, 1, 1, 0, 0, 1, 1, 1, 0, 0, 1, 0, 0, 0, 1, 1, 0, 1, 0, 1, 0, 0, 0, 1, 0, 0, 1, 1, 1, 0, 1, 1, 0, 0, 1, 0, 1, 1, 0, 1]\n"
     ]
    },
    {
     "name": "stderr",
     "output_type": "stream",
     "text": [
      "413it [24:48,  2.10s/it, BLEU2=0.264, BLEU1=0.321, ExactMatch=0.0118, METEOR=0.502, BertScore=nan, StubScore=0.44]"
     ]
    },
    {
     "name": "stdout",
     "output_type": "stream",
     "text": [
      "True\n",
      "[0.176] Автор герба — архитектор, главный инженер отдела капитального строительства Севмаша Н. С. Яковлев.\n",
      "Автор герба Белозерска П. Горячев.\n",
      "[1, 0, 0, 0, 0, 1, 1, 0, 1, 1, 1, 0, 0, 0, 0, 0, 0, 0, 1, 1, 1, 1, 0, 0, 0, 0, 1, 0, 1, 0, 0, 1, 0, 0, 0, 0, 1, 1, 0, 0, 1, 1, 1, 0, 0, 1, 0, 0, 0, 1, 1, 0, 1, 0, 1, 0, 0, 0, 1, 0, 0, 1, 1, 1, 0, 1, 1, 0, 0, 1, 0, 1, 1, 0, 1]\n",
      "False\n",
      "У меня нет ответа на ваш вопрос.\n",
      "В Государственный Геральдический регистр Российской Федерации герб внесён под № 1222.\n"
     ]
    },
    {
     "name": "stderr",
     "output_type": "stream",
     "text": [
      "414it [24:50,  2.08s/it, BLEU2=0.264, BLEU1=0.321, ExactMatch=0.0118, METEOR=0.502, BertScore=nan, StubScore=0.447]"
     ]
    },
    {
     "name": "stdout",
     "output_type": "stream",
     "text": [
      "[1, 0, 0, 0, 0, 1, 1, 0, 1, 1, 1, 0, 0, 0, 0, 0, 0, 0, 1, 1, 1, 1, 0, 0, 0, 0, 1, 0, 1, 0, 0, 1, 0, 0, 0, 0, 1, 1, 0, 0, 1, 1, 1, 0, 0, 1, 0, 0, 0, 1, 1, 0, 1, 0, 1, 0, 0, 0, 1, 0, 0, 1, 1, 1, 0, 1, 1, 0, 0, 1, 0, 1, 1, 0, 1, 1]\n"
     ]
    },
    {
     "name": "stderr",
     "output_type": "stream",
     "text": [
      "415it [24:52,  2.16s/it, BLEU2=0.264, BLEU1=0.321, ExactMatch=0.0118, METEOR=0.504, BertScore=nan, StubScore=0.447]"
     ]
    },
    {
     "name": "stdout",
     "output_type": "stream",
     "text": [
      "True\n",
      "Группа \"Машина времени\" приняла участие в Международном фестивале \"Музыканты мира - детям Чернобыля\" в Минске в 1991 году.\n",
      "В Международном фестивале Музыканты мира детям Чернобыля в Минске группа Машина времени приняла участие в 1991 году.\n",
      "[1, 0, 0, 0, 0, 1, 1, 0, 1, 1, 1, 0, 0, 0, 0, 0, 0, 0, 1, 1, 1, 1, 0, 0, 0, 0, 1, 0, 1, 0, 0, 1, 0, 0, 0, 0, 1, 1, 0, 0, 1, 1, 1, 0, 0, 1, 0, 0, 0, 1, 1, 0, 1, 0, 1, 0, 0, 0, 1, 0, 0, 1, 1, 1, 0, 1, 1, 0, 0, 1, 0, 1, 1, 0, 1, 1]\n"
     ]
    },
    {
     "name": "stderr",
     "output_type": "stream",
     "text": [
      "416it [24:53,  1.75s/it, BLEU2=0.264, BLEU1=0.321, ExactMatch=0.0118, METEOR=0.503, BertScore=nan, StubScore=0.447]"
     ]
    },
    {
     "name": "stdout",
     "output_type": "stream",
     "text": [
      "True\n",
      "Макаревич поддержал Бориса Ельцина.\n",
      "Выступая на баррикадах 20 августа 1991 года перед защитниками Белого дома, Макаревич поддержал Бориса Ельцина.\n",
      "[1, 0, 0, 0, 0, 1, 1, 0, 1, 1, 1, 0, 0, 0, 0, 0, 0, 0, 1, 1, 1, 1, 0, 0, 0, 0, 1, 0, 1, 0, 0, 1, 0, 0, 0, 0, 1, 1, 0, 0, 1, 1, 1, 0, 0, 1, 0, 0, 0, 1, 1, 0, 1, 0, 1, 0, 0, 0, 1, 0, 0, 1, 1, 1, 0, 1, 1, 0, 0, 1, 0, 1, 1, 0, 1, 1]\n"
     ]
    },
    {
     "name": "stderr",
     "output_type": "stream",
     "text": [
      "417it [24:54,  1.66s/it, BLEU2=0.264, BLEU1=0.322, ExactMatch=0.0117, METEOR=0.504, BertScore=nan, StubScore=0.447]"
     ]
    },
    {
     "name": "stdout",
     "output_type": "stream",
     "text": [
      "True\n",
      "В 1991 году Александр Кутиков стал продюсером группы \"Машина времени\".\n",
      "В 1991 году продюсером группы Машина времени стал Александр Кутиков.\n",
      "[1, 0, 0, 0, 0, 1, 1, 0, 1, 1, 1, 0, 0, 0, 0, 0, 0, 0, 1, 1, 1, 1, 0, 0, 0, 0, 1, 0, 1, 0, 0, 1, 0, 0, 0, 0, 1, 1, 0, 0, 1, 1, 1, 0, 0, 1, 0, 0, 0, 1, 1, 0, 1, 0, 1, 0, 0, 0, 1, 0, 0, 1, 1, 1, 0, 1, 1, 0, 0, 1, 0, 1, 1, 0, 1, 1]\n"
     ]
    },
    {
     "name": "stderr",
     "output_type": "stream",
     "text": [
      "418it [24:56,  1.66s/it, BLEU2=0.264, BLEU1=0.322, ExactMatch=0.0117, METEOR=0.504, BertScore=nan, StubScore=0.447]"
     ]
    },
    {
     "name": "stdout",
     "output_type": "stream",
     "text": [
      "True\n",
      "Машина времени не зависела от какой-либо конкретной государственной монополии до 1991 года.\n",
      "Группа Машина времени до 1991 года зависила от государственного монополиста фирмы Мелодия.\n",
      "[1, 0, 0, 0, 0, 1, 1, 0, 1, 1, 1, 0, 0, 0, 0, 0, 0, 0, 1, 1, 1, 1, 0, 0, 0, 0, 1, 0, 1, 0, 0, 1, 0, 0, 0, 0, 1, 1, 0, 0, 1, 1, 1, 0, 0, 1, 0, 0, 0, 1, 1, 0, 1, 0, 1, 0, 0, 0, 1, 0, 0, 1, 1, 1, 0, 1, 1, 0, 0, 1, 0, 1, 1, 0, 1, 1]\n"
     ]
    },
    {
     "name": "stderr",
     "output_type": "stream",
     "text": [
      "419it [24:58,  1.71s/it, BLEU2=0.266, BLEU1=0.323, ExactMatch=0.0117, METEOR=0.505, BertScore=nan, StubScore=0.447]"
     ]
    },
    {
     "name": "stdout",
     "output_type": "stream",
     "text": [
      "True\n",
      "Машина времени приняла участие в Благотворительной акции солидарности с программой \"Взгляд\" в 1991 году.\n",
      "В 1991 году группа Машина времени приняла участие в Благотворительной акции солидарности с программой Взгляд.\n",
      "[1, 0, 0, 0, 0, 1, 1, 0, 1, 1, 1, 0, 0, 0, 0, 0, 0, 0, 1, 1, 1, 1, 0, 0, 0, 0, 1, 0, 1, 0, 0, 1, 0, 0, 0, 0, 1, 1, 0, 0, 1, 1, 1, 0, 0, 1, 0, 0, 0, 1, 1, 0, 1, 0, 1, 0, 0, 0, 1, 0, 0, 1, 1, 1, 0, 1, 1, 0, 0, 1, 0, 1, 1, 0, 1, 1]\n"
     ]
    },
    {
     "name": "stderr",
     "output_type": "stream",
     "text": [
      "420it [25:10,  5.01s/it, BLEU2=0.265, BLEU1=0.322, ExactMatch=0.0116, METEOR=0.505, BertScore=nan, StubScore=0.447]"
     ]
    },
    {
     "name": "stdout",
     "output_type": "stream",
     "text": [
      "True\n",
      "1. [0.106] 23 июня 1894 года старания Кубертена увенчались успехом. На конгрессе в Сорбонне было принято историческое решение: поскольку нет никаких сомнений в преимуществах, которые дает возрождение Олимпийских игр, как в спортивном, так и в международном плане, давайте возродим эти игры на основе, которые соответствуют требованиям современной жизни. Также был создан Международный олимпийский комитет (МОК), в котором Кубертен занял должность генерального секретаря. Было решено проводить игры каждые четыре года. После обсуждения конгресс поддержал предложение друга Кубертена Деметриуса Викеласа о проведении первых современных Олимпийских игр в Афинах, в знак преемственности играм древности. Деметриус Викелас был избран президентом Олимпийского комитета.\n",
      "Решение по возрождению Олимпийских игр было принято на конгрессе в Сорбонне.\n",
      "[1, 0, 0, 0, 0, 1, 1, 0, 1, 1, 1, 0, 0, 0, 0, 0, 0, 0, 1, 1, 1, 1, 0, 0, 0, 0, 1, 0, 1, 0, 0, 1, 0, 0, 0, 0, 1, 1, 0, 0, 1, 1, 1, 0, 0, 1, 0, 0, 0, 1, 1, 0, 1, 0, 1, 0, 0, 0, 1, 0, 0, 1, 1, 1, 0, 1, 1, 0, 0, 1, 0, 1, 1, 0, 1, 1]\n"
     ]
    },
    {
     "name": "stderr",
     "output_type": "stream",
     "text": [
      "421it [25:11,  3.74s/it, BLEU2=0.266, BLEU1=0.324, ExactMatch=0.0116, METEOR=0.506, BertScore=nan, StubScore=0.447]"
     ]
    },
    {
     "name": "stdout",
     "output_type": "stream",
     "text": [
      "True\n",
      "Олимпийские игры проводятся каждые четыре года.\n",
      "Олимпийские игры проходят каждые четыре года.\n",
      "[1, 0, 0, 0, 0, 1, 1, 0, 1, 1, 1, 0, 0, 0, 0, 0, 0, 0, 1, 1, 1, 1, 0, 0, 0, 0, 1, 0, 1, 0, 0, 1, 0, 0, 0, 0, 1, 1, 0, 0, 1, 1, 1, 0, 0, 1, 0, 0, 0, 1, 1, 0, 1, 0, 1, 0, 0, 0, 1, 0, 0, 1, 1, 1, 0, 1, 1, 0, 0, 1, 0, 1, 1, 0, 1, 1]\n"
     ]
    },
    {
     "name": "stderr",
     "output_type": "stream",
     "text": [
      "422it [25:13,  3.13s/it, BLEU2=0.267, BLEU1=0.325, ExactMatch=0.0116, METEOR=0.507, BertScore=nan, StubScore=0.447]"
     ]
    },
    {
     "name": "stdout",
     "output_type": "stream",
     "text": [
      "True\n",
      "23 июня 1894 года усилия Кубертена по возрождению Олимпийских игр увенчались успехом.\n",
      "Старания Кубертена по возрождению Олимпийских игр увенчались успехом 23 июня 1894.\n",
      "[1, 0, 0, 0, 0, 1, 1, 0, 1, 1, 1, 0, 0, 0, 0, 0, 0, 0, 1, 1, 1, 1, 0, 0, 0, 0, 1, 0, 1, 0, 0, 1, 0, 0, 0, 0, 1, 1, 0, 0, 1, 1, 1, 0, 0, 1, 0, 0, 0, 1, 1, 0, 1, 0, 1, 0, 0, 0, 1, 0, 0, 1, 1, 1, 0, 1, 1, 0, 0, 1, 0, 1, 1, 0, 1, 1]\n"
     ]
    },
    {
     "name": "stderr",
     "output_type": "stream",
     "text": [
      "423it [25:14,  2.52s/it, BLEU2=0.267, BLEU1=0.326, ExactMatch=0.0115, METEOR=0.508, BertScore=nan, StubScore=0.447]"
     ]
    },
    {
     "name": "stdout",
     "output_type": "stream",
     "text": [
      "True\n",
      "Деметриус Викелас был избран президентом Олимпийского комитета.\n",
      "Президентом Олимпийского комитета был избран Деметриус Викелас.\n",
      "[1, 0, 0, 0, 0, 1, 1, 0, 1, 1, 1, 0, 0, 0, 0, 0, 0, 0, 1, 1, 1, 1, 0, 0, 0, 0, 1, 0, 1, 0, 0, 1, 0, 0, 0, 0, 1, 1, 0, 0, 1, 1, 1, 0, 0, 1, 0, 0, 0, 1, 1, 0, 1, 0, 1, 0, 0, 0, 1, 0, 0, 1, 1, 1, 0, 1, 1, 0, 0, 1, 0, 1, 1, 0, 1, 1]\n"
     ]
    },
    {
     "name": "stderr",
     "output_type": "stream",
     "text": [
      "424it [25:15,  1.94s/it, BLEU2=0.267, BLEU1=0.325, ExactMatch=0.0115, METEOR=0.507, BertScore=nan, StubScore=0.447]"
     ]
    },
    {
     "name": "stdout",
     "output_type": "stream",
     "text": [
      "True\n",
      "Пьер де Кубертен.\n",
      "Первым должность генерального секретаря МОК занял Кубертен.\n",
      "[1, 0, 0, 0, 0, 1, 1, 0, 1, 1, 1, 0, 0, 0, 0, 0, 0, 0, 1, 1, 1, 1, 0, 0, 0, 0, 1, 0, 1, 0, 0, 1, 0, 0, 0, 0, 1, 1, 0, 0, 1, 1, 1, 0, 0, 1, 0, 0, 0, 1, 1, 0, 1, 0, 1, 0, 0, 0, 1, 0, 0, 1, 1, 1, 0, 1, 1, 0, 0, 1, 0, 1, 1, 0, 1, 1]\n"
     ]
    },
    {
     "name": "stderr",
     "output_type": "stream",
     "text": [
      "425it [25:16,  1.64s/it, BLEU2=0.266, BLEU1=0.324, ExactMatch=0.0115, METEOR=0.507, BertScore=nan, StubScore=0.447]"
     ]
    },
    {
     "name": "stdout",
     "output_type": "stream",
     "text": [
      "True\n",
      "7 июня 1905 года.\n",
      "Норвежское правительство передало свои полномочия стортингу 7 июня.\n",
      "[1, 0, 0, 0, 0, 1, 1, 0, 1, 1, 1, 0, 0, 0, 0, 0, 0, 0, 1, 1, 1, 1, 0, 0, 0, 0, 1, 0, 1, 0, 0, 1, 0, 0, 0, 0, 1, 1, 0, 0, 1, 1, 1, 0, 0, 1, 0, 0, 0, 1, 1, 0, 1, 0, 1, 0, 0, 0, 1, 0, 0, 1, 1, 1, 0, 1, 1, 0, 0, 1, 0, 1, 1, 0, 1, 1]\n"
     ]
    },
    {
     "name": "stderr",
     "output_type": "stream",
     "text": [
      "426it [25:17,  1.68s/it, BLEU2=0.266, BLEU1=0.325, ExactMatch=0.0114, METEOR=0.508, BertScore=nan, StubScore=0.447]"
     ]
    },
    {
     "name": "stdout",
     "output_type": "stream",
     "text": [
      "True\n",
      "Кабинет министров Норвегии подал в отставку 27 мая 1907 года.\n",
      "Норвежский кабинет министров подал в отставку 27 мая.\n",
      "[1, 0, 0, 0, 0, 1, 1, 0, 1, 1, 1, 0, 0, 0, 0, 0, 0, 0, 1, 1, 1, 1, 0, 0, 0, 0, 1, 0, 1, 0, 0, 1, 0, 0, 0, 0, 1, 1, 0, 0, 1, 1, 1, 0, 0, 1, 0, 0, 0, 1, 1, 0, 1, 0, 1, 0, 0, 0, 1, 0, 0, 1, 1, 1, 0, 1, 1, 0, 0, 1, 0, 1, 1, 0, 1, 1]\n"
     ]
    },
    {
     "name": "stderr",
     "output_type": "stream",
     "text": [
      "427it [25:19,  1.71s/it, BLEU2=0.266, BLEU1=0.325, ExactMatch=0.0114, METEOR=0.507, BertScore=nan, StubScore=0.447]"
     ]
    },
    {
     "name": "stdout",
     "output_type": "stream",
     "text": [
      "True\n",
      "Стортинг принял решение о создании отдельной норвежской консульской службы 23 мая.\n",
      "Стортинг постановил создать отдельную норвежскую консульскую службу 23 мая.\n",
      "[1, 0, 0, 0, 0, 1, 1, 0, 1, 1, 1, 0, 0, 0, 0, 0, 0, 0, 1, 1, 1, 1, 0, 0, 0, 0, 1, 0, 1, 0, 0, 1, 0, 0, 0, 0, 1, 1, 0, 0, 1, 1, 1, 0, 0, 1, 0, 0, 0, 1, 1, 0, 1, 0, 1, 0, 0, 0, 1, 0, 0, 1, 1, 1, 0, 1, 1, 0, 0, 1, 0, 1, 1, 0, 1, 1]\n"
     ]
    },
    {
     "name": "stderr",
     "output_type": "stream",
     "text": [
      "428it [25:20,  1.43s/it, BLEU2=0.265, BLEU1=0.324, ExactMatch=0.0114, METEOR=0.506, BertScore=nan, StubScore=0.447]"
     ]
    },
    {
     "name": "stdout",
     "output_type": "stream",
     "text": [
      "True\n",
      "У меня нет ответа на ваш вопрос.\n",
      "Король Оскар II отказался ратифицировать закон.\n",
      "[1, 0, 0, 0, 0, 1, 1, 0, 1, 1, 1, 0, 0, 0, 0, 0, 0, 0, 1, 1, 1, 1, 0, 0, 0, 0, 1, 0, 1, 0, 0, 1, 0, 0, 0, 0, 1, 1, 0, 0, 1, 1, 1, 0, 0, 1, 0, 0, 0, 1, 1, 0, 1, 0, 1, 0, 0, 0, 1, 0, 0, 1, 1, 1, 0, 1, 1, 0, 0, 1, 0, 1, 1, 0, 1, 1]\n"
     ]
    },
    {
     "name": "stderr",
     "output_type": "stream",
     "text": [
      "429it [25:23,  1.82s/it, BLEU2=0.266, BLEU1=0.325, ExactMatch=0.0113, METEOR=0.507, BertScore=nan, StubScore=0.447]"
     ]
    },
    {
     "name": "stdout",
     "output_type": "stream",
     "text": [
      "True\n",
      "Стортинг направил в Стокгольм отчет о произошедшем, а также просьбу, чтобы король Норвегии стал одним из принцев Бернадоттов.\n",
      "Стортинг направил в Стокгольм отчёт о произошедшем и просьбу, чтобы королём Норвегии стал один из принцев Бернадотов.\n",
      "[1, 0, 0, 0, 0, 1, 1, 0, 1, 1, 1, 0, 0, 0, 0, 0, 0, 0, 1, 1, 1, 1, 0, 0, 0, 0, 1, 0, 1, 0, 0, 1, 0, 0, 0, 0, 1, 1, 0, 0, 1, 1, 1, 0, 0, 1, 0, 0, 0, 1, 1, 0, 1, 0, 1, 0, 0, 0, 1, 0, 0, 1, 1, 1, 0, 1, 1, 0, 0, 1, 0, 1, 1, 0, 1, 1]\n"
     ]
    },
    {
     "name": "stderr",
     "output_type": "stream",
     "text": [
      "430it [25:24,  1.73s/it, BLEU2=0.266, BLEU1=0.325, ExactMatch=0.0113, METEOR=0.507, BertScore=nan, StubScore=0.447]"
     ]
    },
    {
     "name": "stdout",
     "output_type": "stream",
     "text": [
      "True\n",
      "Венесуэла обещала увеличить поставки нефти в Китай до 1 миллиона баррелей в день.\n",
      "Венесуэла гарантировала поставлять в Китай до 1 млн баррели нефти в сутки.\n",
      "[1, 0, 0, 0, 0, 1, 1, 0, 1, 1, 1, 0, 0, 0, 0, 0, 0, 0, 1, 1, 1, 1, 0, 0, 0, 0, 1, 0, 1, 0, 0, 1, 0, 0, 0, 0, 1, 1, 0, 0, 1, 1, 1, 0, 0, 1, 0, 0, 0, 1, 1, 0, 1, 0, 1, 0, 0, 0, 1, 0, 0, 1, 1, 1, 0, 1, 1, 0, 0, 1, 0, 1, 1, 0, 1, 1]\n"
     ]
    },
    {
     "name": "stderr",
     "output_type": "stream",
     "text": [
      "431it [25:28,  2.24s/it, BLEU2=0.266, BLEU1=0.325, ExactMatch=0.0113, METEOR=0.507, BertScore=nan, StubScore=0.447]"
     ]
    },
    {
     "name": "stdout",
     "output_type": "stream",
     "text": [
      "True\n",
      "Основная цель плана по расширению Панамского канала заключается в модернизации канала для пропуска нефтяных танкеров водоизмещением до 130 000 тонн, что значительно сократит время доставки венесуэльской нефти в Китай.\n",
      "Основная задача плана о расширении Панамского канала заключается в снижении времени доставки венесуэльской нефти в Китай.\n",
      "[1, 0, 0, 0, 0, 1, 1, 0, 1, 1, 1, 0, 0, 0, 0, 0, 0, 0, 1, 1, 1, 1, 0, 0, 0, 0, 1, 0, 1, 0, 0, 1, 0, 0, 0, 0, 1, 1, 0, 0, 1, 1, 1, 0, 0, 1, 0, 0, 0, 1, 1, 0, 1, 0, 1, 0, 0, 0, 1, 0, 0, 1, 1, 1, 0, 1, 1, 0, 0, 1, 0, 1, 1, 0, 1, 1]\n"
     ]
    },
    {
     "name": "stderr",
     "output_type": "stream",
     "text": [
      "432it [25:31,  2.61s/it, BLEU2=0.266, BLEU1=0.325, ExactMatch=0.0112, METEOR=0.507, BertScore=nan, StubScore=0.447]"
     ]
    },
    {
     "name": "stdout",
     "output_type": "stream",
     "text": [
      "True\n",
      "1. [0.116] 23 октября 2006 года в Панаме подвели итоги референдума о расширении Панамского канала, который поддержали 79% населения.\n",
      "79 % населения приняло план о расширении Панамского канала.\n",
      "[1, 0, 0, 0, 0, 1, 1, 0, 1, 1, 1, 0, 0, 0, 0, 0, 0, 0, 1, 1, 1, 1, 0, 0, 0, 0, 1, 0, 1, 0, 0, 1, 0, 0, 0, 0, 1, 1, 0, 0, 1, 1, 1, 0, 0, 1, 0, 0, 0, 1, 1, 0, 1, 0, 1, 0, 0, 0, 1, 0, 0, 1, 1, 1, 0, 1, 1, 0, 0, 1, 0, 1, 1, 0, 1, 1]\n"
     ]
    },
    {
     "name": "stderr",
     "output_type": "stream",
     "text": [
      "433it [25:33,  2.39s/it, BLEU2=0.267, BLEU1=0.326, ExactMatch=0.0112, METEOR=0.509, BertScore=nan, StubScore=0.447]"
     ]
    },
    {
     "name": "stdout",
     "output_type": "stream",
     "text": [
      "True\n",
      "Референдум о расширении Панамского канала завершился 23 октября 2006 года.\n",
      "23 октября 2006 года завершился референдум о расширении Панамского канала.\n",
      "[1, 0, 0, 0, 0, 1, 1, 0, 1, 1, 1, 0, 0, 0, 0, 0, 0, 0, 1, 1, 1, 1, 0, 0, 0, 0, 1, 0, 1, 0, 0, 1, 0, 0, 0, 0, 1, 1, 0, 0, 1, 1, 1, 0, 0, 1, 0, 0, 0, 1, 1, 0, 1, 0, 1, 0, 0, 0, 1, 0, 0, 1, 1, 1, 0, 1, 1, 0, 0, 1, 0, 1, 1, 0, 1, 1]\n"
     ]
    },
    {
     "name": "stderr",
     "output_type": "stream",
     "text": [
      "434it [25:40,  3.93s/it, BLEU2=0.266, BLEU1=0.325, ExactMatch=0.0112, METEOR=0.508, BertScore=nan, StubScore=0.447]"
     ]
    },
    {
     "name": "stdout",
     "output_type": "stream",
     "text": [
      "True\n",
      "1. [0.113] 23 октября 2006 года в Панаме подвели итоги референдума о расширении Панамского канала, которое поддержали 79% населения. Принятие этого плана поддержали китайские бизнес-структуры, управляющие каналом. Расширение должно было сократить время доставки венесуэльской нефти в Китай. Венесуэла пообещала увеличить поставки нефти в Китай до 1 млн баррелей в день.\n",
      "Расширение Панамского канала стало возможным благодаря усилиям китайских бизнес-структур, управляющих каналом, и обещанию Венесуэлы увеличить поставки нефти в Китай к 2016 году.\n",
      "[1, 0, 0, 0, 0, 1, 1, 0, 1, 1, 1, 0, 0, 0, 0, 0, 0, 0, 1, 1, 1, 1, 0, 0, 0, 0, 1, 0, 1, 0, 0, 1, 0, 0, 0, 0, 1, 1, 0, 0, 1, 1, 1, 0, 0, 1, 0, 0, 0, 1, 1, 0, 1, 0, 1, 0, 0, 0, 1, 0, 0, 1, 1, 1, 0, 1, 1, 0, 0, 1, 0, 1, 1, 0, 1, 1]\n"
     ]
    },
    {
     "name": "stderr",
     "output_type": "stream",
     "text": [
      "435it [25:45,  4.04s/it, BLEU2=0.267, BLEU1=0.326, ExactMatch=0.0111, METEOR=0.508, BertScore=nan, StubScore=0.447]"
     ]
    },
    {
     "name": "stdout",
     "output_type": "stream",
     "text": [
      "True\n",
      "Архивная запись Дэвида Боуи, которая была сделана в качестве промо-материала к альбому Pin Ups, впервые была показана на BBC Radio 6 23 октября 2013 года.\n",
      "23 октября 2013 года, на радиостанции BBC Radio 6 состоялась премьера архивной записи Дэвида Боуи, которую записали как промоматериал к альбому Pin Ups.\n",
      "[1, 0, 0, 0, 0, 1, 1, 0, 1, 1, 1, 0, 0, 0, 0, 0, 0, 0, 1, 1, 1, 1, 0, 0, 0, 0, 1, 0, 1, 0, 0, 1, 0, 0, 0, 0, 1, 1, 0, 0, 1, 1, 1, 0, 0, 1, 0, 0, 0, 1, 1, 0, 1, 0, 1, 0, 0, 0, 1, 0, 0, 1, 1, 1, 0, 1, 1, 0, 0, 1, 0, 1, 1, 0, 1, 1]\n"
     ]
    },
    {
     "name": "stderr",
     "output_type": "stream",
     "text": [
      "436it [25:48,  3.90s/it, BLEU2=0.267, BLEU1=0.326, ExactMatch=0.0111, METEOR=0.509, BertScore=nan, StubScore=0.447]"
     ]
    },
    {
     "name": "stdout",
     "output_type": "stream",
     "text": [
      "True\n",
      "Найджел Рив, куратор бэк-каталога Дэвида Боуи, обнаружил архивную запись, которая была сделана в качестве промо-материала к альбому Pin Ups.\n",
      "Найджел Рив, куратор бэк-каталога Боуи, нашел архивную запись Дэвида Боуи, которую записали как промоматериал к альбому Pin Ups.\n",
      "[1, 0, 0, 0, 0, 1, 1, 0, 1, 1, 1, 0, 0, 0, 0, 0, 0, 0, 1, 1, 1, 1, 0, 0, 0, 0, 1, 0, 1, 0, 0, 1, 0, 0, 0, 0, 1, 1, 0, 0, 1, 1, 1, 0, 0, 1, 0, 0, 0, 1, 1, 0, 1, 0, 1, 0, 0, 0, 1, 0, 0, 1, 1, 1, 0, 1, 1, 0, 0, 1, 0, 1, 1, 0, 1, 1]\n"
     ]
    },
    {
     "name": "stderr",
     "output_type": "stream",
     "text": [
      "437it [25:49,  2.95s/it, BLEU2=0.266, BLEU1=0.326, ExactMatch=0.0111, METEOR=0.508, BertScore=nan, StubScore=0.447]"
     ]
    },
    {
     "name": "stdout",
     "output_type": "stream",
     "text": [
      "True\n",
      "Радиостанция BBC Radio 6.\n",
      "На радиостанции BBC Radio 6 впервые разместили архивную запись Дэвида Боуи, которую записали как промоматериал к альбому Pin Ups.\n",
      "[1, 0, 0, 0, 0, 1, 1, 0, 1, 1, 1, 0, 0, 0, 0, 0, 0, 0, 1, 1, 1, 1, 0, 0, 0, 0, 1, 0, 1, 0, 0, 1, 0, 0, 0, 0, 1, 1, 0, 0, 1, 1, 1, 0, 0, 1, 0, 0, 0, 1, 1, 0, 1, 0, 1, 0, 0, 0, 1, 0, 0, 1, 1, 1, 0, 1, 1, 0, 0, 1, 0, 1, 1, 0, 1, 1]\n"
     ]
    },
    {
     "name": "stderr",
     "output_type": "stream",
     "text": [
      "438it [25:53,  3.23s/it, BLEU2=0.266, BLEU1=0.326, ExactMatch=0.011, METEOR=0.508, BertScore=nan, StubScore=0.447] "
     ]
    },
    {
     "name": "stdout",
     "output_type": "stream",
     "text": [
      "True\n",
      "В радиопередаче, записанной Дэвидом Боуи в 1973 году в качестве промо-материала к альбому Pin Ups, было исполнено пять песен.\n",
      "Пять песен в исполнении Дэвида Боуи включает в себя шуточная радиопередача, записанная музыкантом в 1973 году как промоматериал к альбому Pin Ups.\n",
      "[1, 0, 0, 0, 0, 1, 1, 0, 1, 1, 1, 0, 0, 0, 0, 0, 0, 0, 1, 1, 1, 1, 0, 0, 0, 0, 1, 0, 1, 0, 0, 1, 0, 0, 0, 0, 1, 1, 0, 0, 1, 1, 1, 0, 0, 1, 0, 0, 0, 1, 1, 0, 1, 0, 1, 0, 0, 0, 1, 0, 0, 1, 1, 1, 0, 1, 1, 0, 0, 1, 0, 1, 1, 0, 1, 1]\n"
     ]
    },
    {
     "name": "stderr",
     "output_type": "stream",
     "text": [
      "439it [25:57,  3.63s/it, BLEU2=0.267, BLEU1=0.327, ExactMatch=0.011, METEOR=0.509, BertScore=nan, StubScore=0.447]"
     ]
    },
    {
     "name": "stdout",
     "output_type": "stream",
     "text": [
      "True\n",
      "На подкассете, на которой хранилась радиопередача, записанная музыкантом в 1973 году в качестве промо-материала к альбому Pin Ups, было написано просто \"Radio show\".\n",
      "На подкассетнике, на котором хранилась радиопередача, записанная музыкантом в 1973 году как промоматериал к альбому Pin Ups, было написано \"Радиошоу\".\n",
      "[1, 0, 0, 0, 0, 1, 1, 0, 1, 1, 1, 0, 0, 0, 0, 0, 0, 0, 1, 1, 1, 1, 0, 0, 0, 0, 1, 0, 1, 0, 0, 1, 0, 0, 0, 0, 1, 1, 0, 0, 1, 1, 1, 0, 0, 1, 0, 0, 0, 1, 1, 0, 1, 0, 1, 0, 0, 0, 1, 0, 0, 1, 1, 1, 0, 1, 1, 0, 0, 1, 0, 1, 1, 0, 1, 1]\n"
     ]
    },
    {
     "name": "stderr",
     "output_type": "stream",
     "text": [
      "440it [25:59,  2.94s/it, BLEU2=0.267, BLEU1=0.326, ExactMatch=0.011, METEOR=0.508, BertScore=nan, StubScore=0.447]"
     ]
    },
    {
     "name": "stdout",
     "output_type": "stream",
     "text": [
      "True\n",
      "Название пилотного эпизода \"Звёздный путь\" - \"Клетка\".\n",
      "Пилотный эпизод Звёздного пути назывался The Cage (Клетка).\n",
      "[1, 0, 0, 0, 0, 1, 1, 0, 1, 1, 1, 0, 0, 0, 0, 0, 0, 0, 1, 1, 1, 1, 0, 0, 0, 0, 1, 0, 1, 0, 0, 1, 0, 0, 0, 0, 1, 1, 0, 0, 1, 1, 1, 0, 0, 1, 0, 0, 0, 1, 1, 0, 1, 0, 1, 0, 0, 0, 1, 0, 0, 1, 1, 1, 0, 1, 1, 0, 0, 1, 0, 1, 1, 0, 1, 1]\n"
     ]
    },
    {
     "name": "stderr",
     "output_type": "stream",
     "text": [
      "441it [26:01,  2.62s/it, BLEU2=0.267, BLEU1=0.327, ExactMatch=0.011, METEOR=0.508, BertScore=nan, StubScore=0.447]"
     ]
    },
    {
     "name": "stdout",
     "output_type": "stream",
     "text": [
      "True\n",
      "26 августа 1965 года NBC заказала второй пилотный эпизод \"Звёздный путь: Фаза II\".\n",
      "26 августа 1965 года NBC заказывала второй пилотный эпизод Звёздного пути.\n",
      "[1, 0, 0, 0, 0, 1, 1, 0, 1, 1, 1, 0, 0, 0, 0, 0, 0, 0, 1, 1, 1, 1, 0, 0, 0, 0, 1, 0, 1, 0, 0, 1, 0, 0, 0, 0, 1, 1, 0, 0, 1, 1, 1, 0, 0, 1, 0, 0, 0, 1, 1, 0, 1, 0, 1, 0, 0, 0, 1, 0, 0, 1, 1, 1, 0, 1, 1, 0, 0, 1, 0, 1, 1, 0, 1, 1]\n"
     ]
    },
    {
     "name": "stderr",
     "output_type": "stream",
     "text": [
      "442it [26:03,  2.39s/it, BLEU2=0.267, BLEU1=0.326, ExactMatch=0.0109, METEOR=0.508, BertScore=nan, StubScore=0.447]"
     ]
    },
    {
     "name": "stdout",
     "output_type": "stream",
     "text": [
      "True\n",
      "11-й полнометражный фильм \"Звёздный путь\" вышел 7 мая 2009 года.\n",
      "24 июня 1964 года вышел пилотный эпизод сериала Звёздный путь: Оригинальный сериал.\n",
      "[1, 0, 0, 0, 0, 1, 1, 0, 1, 1, 1, 0, 0, 0, 0, 0, 0, 0, 1, 1, 1, 1, 0, 0, 0, 0, 1, 0, 1, 0, 0, 1, 0, 0, 0, 0, 1, 1, 0, 0, 1, 1, 1, 0, 0, 1, 0, 0, 0, 1, 1, 0, 1, 0, 1, 0, 0, 0, 1, 0, 0, 1, 1, 1, 0, 1, 1, 0, 0, 1, 0, 1, 1, 0, 1, 1]\n"
     ]
    },
    {
     "name": "stderr",
     "output_type": "stream",
     "text": [
      "443it [26:04,  2.21s/it, BLEU2=0.266, BLEU1=0.326, ExactMatch=0.0109, METEOR=0.507, BertScore=nan, StubScore=0.447]"
     ]
    },
    {
     "name": "stdout",
     "output_type": "stream",
     "text": [
      "True\n",
      "В пилотной серии \"Звёздный путь\" роль капитана Кристофера Пайка исполнил Джеффри Хантер.\n",
      "Пилотная серия Звёздного пути вышла с Джеффри Хантером в роли капитана Кристофера Пайка.\n",
      "[1, 0, 0, 0, 0, 1, 1, 0, 1, 1, 1, 0, 0, 0, 0, 0, 0, 0, 1, 1, 1, 1, 0, 0, 0, 0, 1, 0, 1, 0, 0, 1, 0, 0, 0, 0, 1, 1, 0, 0, 1, 1, 1, 0, 0, 1, 0, 0, 0, 1, 1, 0, 1, 0, 1, 0, 0, 0, 1, 0, 0, 1, 1, 1, 0, 1, 1, 0, 0, 1, 0, 1, 1, 0, 1, 1]\n"
     ]
    },
    {
     "name": "stderr",
     "output_type": "stream",
     "text": [
      "444it [26:07,  2.21s/it, BLEU2=0.266, BLEU1=0.326, ExactMatch=0.0109, METEOR=0.508, BertScore=nan, StubScore=0.447]"
     ]
    },
    {
     "name": "stdout",
     "output_type": "stream",
     "text": [
      "True\n",
      "Беккерель сообщил о своем открытии на заседании Парижской академии наук 2 марта 1896 года.\n",
      "Беккерель доложил о своём открытии на заседании Парижской Академии наук.\n",
      "[1, 0, 0, 0, 0, 1, 1, 0, 1, 1, 1, 0, 0, 0, 0, 0, 0, 0, 1, 1, 1, 1, 0, 0, 0, 0, 1, 0, 1, 0, 0, 1, 0, 0, 0, 0, 1, 1, 0, 0, 1, 1, 1, 0, 0, 1, 0, 0, 0, 1, 1, 0, 1, 0, 1, 0, 0, 0, 1, 0, 0, 1, 1, 1, 0, 1, 1, 0, 0, 1, 0, 1, 1, 0, 1, 1]\n",
      "False\n",
      "У меня нет ответа на ваш вопрос.\n",
      "Очередной опыт с небольшими изменениями был подготовлен в лаборатории Беккереля.\n"
     ]
    },
    {
     "name": "stderr",
     "output_type": "stream",
     "text": [
      "445it [26:08,  2.06s/it, BLEU2=0.266, BLEU1=0.326, ExactMatch=0.0109, METEOR=0.508, BertScore=nan, StubScore=0.455]"
     ]
    },
    {
     "name": "stdout",
     "output_type": "stream",
     "text": [
      "[1, 0, 0, 0, 0, 1, 1, 0, 1, 1, 1, 0, 0, 0, 0, 0, 0, 0, 1, 1, 1, 1, 0, 0, 0, 0, 1, 0, 1, 0, 0, 1, 0, 0, 0, 0, 1, 1, 0, 0, 1, 1, 1, 0, 0, 1, 0, 0, 0, 1, 1, 0, 1, 0, 1, 0, 0, 0, 1, 0, 0, 1, 1, 1, 0, 1, 1, 0, 0, 1, 0, 1, 1, 0, 1, 1, 1]\n",
      "False\n",
      "В тексте 3.\n",
      "24 февраля 1896 года на заседании Французской академии наук было сделано сообщение об излучении, производимых фосфоресценцией.\n"
     ]
    },
    {
     "name": "stderr",
     "output_type": "stream",
     "text": [
      "446it [26:10,  1.92s/it, BLEU2=0.266, BLEU1=0.326, ExactMatch=0.0109, METEOR=0.508, BertScore=nan, StubScore=0.449]"
     ]
    },
    {
     "name": "stdout",
     "output_type": "stream",
     "text": [
      "[1, 0, 0, 0, 0, 1, 1, 0, 1, 1, 1, 0, 0, 0, 0, 0, 0, 0, 1, 1, 1, 1, 0, 0, 0, 0, 1, 0, 1, 0, 0, 1, 0, 0, 0, 0, 1, 1, 0, 0, 1, 1, 1, 0, 0, 1, 0, 0, 0, 1, 1, 0, 1, 0, 1, 0, 0, 0, 1, 0, 0, 1, 1, 1, 0, 1, 1, 0, 0, 1, 0, 1, 1, 0, 1, 1, 1, 0]\n"
     ]
    },
    {
     "name": "stderr",
     "output_type": "stream",
     "text": [
      "447it [26:11,  1.82s/it, BLEU2=0.268, BLEU1=0.327, ExactMatch=0.0108, METEOR=0.509, BertScore=nan, StubScore=0.449]"
     ]
    },
    {
     "name": "stdout",
     "output_type": "stream",
     "text": [
      "True\n",
      "Беккерель проявил пластинку, на которой лежала урановая соль, 1 марта.\n",
      "1 марта Беккерель проявил пластинку, на которой лежала урановая соль.\n",
      "[1, 0, 0, 0, 0, 1, 1, 0, 1, 1, 1, 0, 0, 0, 0, 0, 0, 0, 1, 1, 1, 1, 0, 0, 0, 0, 1, 0, 1, 0, 0, 1, 0, 0, 0, 0, 1, 1, 0, 0, 1, 1, 1, 0, 0, 1, 0, 0, 0, 1, 1, 0, 1, 0, 1, 0, 0, 0, 1, 0, 0, 1, 1, 1, 0, 1, 1, 0, 0, 1, 0, 1, 1, 0, 1, 1, 1, 0]\n"
     ]
    },
    {
     "name": "stderr",
     "output_type": "stream",
     "text": [
      "448it [26:25,  5.22s/it, BLEU2=0.267, BLEU1=0.326, ExactMatch=0.0108, METEOR=0.509, BertScore=nan, StubScore=0.449]"
     ]
    },
    {
     "name": "stdout",
     "output_type": "stream",
     "text": [
      "True\n",
      "26 и 27 февраля 1896 года в лаборатории Беккереля был проведен опыт с небольшими изменениями, но из-за облачной погоды он был отложен. Не дожидаясь хорошей погоды, 1 марта Беккерель проявил пластину, на которой лежала урановая соль, так и не подвергшаяся воздействию солнечного света. Она, естественно, не фосфоресцировала, но отпечаток на пластинке получился. Уже 2 марта Беккерель сделал доклад об этом открытии на заседании Парижской академии наук, озаглавив свою работу \"О невидимом излучении, испускаемом фосфоресцирующими телами\" [2].\n",
      "24 февраля 1896 года было сделано сообщение Об излучении, производимых фосфоресценцией.\n",
      "[1, 0, 0, 0, 0, 1, 1, 0, 1, 1, 1, 0, 0, 0, 0, 0, 0, 0, 1, 1, 1, 1, 0, 0, 0, 0, 1, 0, 1, 0, 0, 1, 0, 0, 0, 0, 1, 1, 0, 0, 1, 1, 1, 0, 0, 1, 0, 0, 0, 1, 1, 0, 1, 0, 1, 0, 0, 0, 1, 0, 0, 1, 1, 1, 0, 1, 1, 0, 0, 1, 0, 1, 1, 0, 1, 1, 1, 0]\n"
     ]
    },
    {
     "name": "stderr",
     "output_type": "stream",
     "text": [
      "449it [26:28,  4.69s/it, BLEU2=0.267, BLEU1=0.326, ExactMatch=0.0108, METEOR=0.508, BertScore=nan, StubScore=0.449]"
     ]
    },
    {
     "name": "stdout",
     "output_type": "stream",
     "text": [
      "True\n",
      "24 февраля 2015 года международное рейтинговое агентство Standard & Poor's понизило долгосрочный и краткосрочный кредитный рейтинг ПАО КБ УБРиР до уровня B- и C соответственно и изменило прогноз на стабильный.\n",
      "Cуверенный кредитный рейтинг Российской Федерации по обязательствам в иностранной валюте на момент 24 февраля 2015 г. был понижен до уровня BB+/B.\n",
      "[1, 0, 0, 0, 0, 1, 1, 0, 1, 1, 1, 0, 0, 0, 0, 0, 0, 0, 1, 1, 1, 1, 0, 0, 0, 0, 1, 0, 1, 0, 0, 1, 0, 0, 0, 0, 1, 1, 0, 0, 1, 1, 1, 0, 0, 1, 0, 0, 0, 1, 1, 0, 1, 0, 1, 0, 0, 0, 1, 0, 0, 1, 1, 1, 0, 1, 1, 0, 0, 1, 0, 1, 1, 0, 1, 1, 1, 0]\n"
     ]
    },
    {
     "name": "stderr",
     "output_type": "stream",
     "text": [
      "450it [26:32,  4.55s/it, BLEU2=0.266, BLEU1=0.326, ExactMatch=0.0108, METEOR=0.507, BertScore=nan, StubScore=0.449]"
     ]
    },
    {
     "name": "stdout",
     "output_type": "stream",
     "text": [
      "True\n",
      "16 апреля 2014 года международное рейтинговое агентство Standard & Poor’s понизило долгосрочный и краткосрочный кредитный рейтинг ПАО КБ УБРиР до уровня B- и C соответственно и изменило прогноз на стабильный.\n",
      "Оценка отраслевых и страновых рисков банковского сектора Российской Федерации была понижена до 8.\n",
      "[1, 0, 0, 0, 0, 1, 1, 0, 1, 1, 1, 0, 0, 0, 0, 0, 0, 0, 1, 1, 1, 1, 0, 0, 0, 0, 1, 0, 1, 0, 0, 1, 0, 0, 0, 0, 1, 1, 0, 0, 1, 1, 1, 0, 0, 1, 0, 0, 0, 1, 1, 0, 1, 0, 1, 0, 0, 0, 1, 0, 0, 1, 1, 1, 0, 1, 1, 0, 0, 1, 0, 1, 1, 0, 1, 1, 1, 0]\n"
     ]
    },
    {
     "name": "stderr",
     "output_type": "stream",
     "text": [
      "451it [26:36,  4.42s/it, BLEU2=0.267, BLEU1=0.327, ExactMatch=0.0107, METEOR=0.508, BertScore=nan, StubScore=0.449]"
     ]
    },
    {
     "name": "stdout",
     "output_type": "stream",
     "text": [
      "True\n",
      "24 февраля 2015 года международное рейтинговое агентство Standard & Poor's понизило долгосрочный и краткосрочный кредитный рейтинг ПАО КБ УБРиР до уровня B- и C соответственно и изменило прогноз на стабильный.\n",
      "Международное рейтинговое агентство S&P 24 февраля 2015 г. понизило долгосрочный и краткосрочный кредитный рейтинг ПАО КБ УБРиР до уровня B- и C соответственно и изменило прогноз на Стабильный.\n",
      "[1, 0, 0, 0, 0, 1, 1, 0, 1, 1, 1, 0, 0, 0, 0, 0, 0, 0, 1, 1, 1, 1, 0, 0, 0, 0, 1, 0, 1, 0, 0, 1, 0, 0, 0, 0, 1, 1, 0, 0, 1, 1, 1, 0, 0, 1, 0, 0, 0, 1, 1, 0, 1, 0, 1, 0, 0, 0, 1, 0, 0, 1, 1, 1, 0, 1, 1, 0, 0, 1, 0, 1, 1, 0, 1, 1, 1, 0]\n"
     ]
    },
    {
     "name": "stderr",
     "output_type": "stream",
     "text": [
      "452it [26:37,  3.31s/it, BLEU2=0.267, BLEU1=0.326, ExactMatch=0.0107, METEOR=0.507, BertScore=nan, StubScore=0.449]"
     ]
    },
    {
     "name": "stdout",
     "output_type": "stream",
     "text": [
      "True\n",
      "24 февраля 2015 года.\n",
      "24 февраля 2015 г. международное рейтинговое Standard & Poor’s понизило долгосрочный и краткосрочный кредитный рейтинг ПАО КБ УБРиР до уровня B- и C соответственно и изменило прогноз на Стабильный.\n",
      "[1, 0, 0, 0, 0, 1, 1, 0, 1, 1, 1, 0, 0, 0, 0, 0, 0, 0, 1, 1, 1, 1, 0, 0, 0, 0, 1, 0, 1, 0, 0, 1, 0, 0, 0, 0, 1, 1, 0, 0, 1, 1, 1, 0, 0, 1, 0, 0, 0, 1, 1, 0, 1, 0, 1, 0, 0, 0, 1, 0, 0, 1, 1, 1, 0, 1, 1, 0, 0, 1, 0, 1, 1, 0, 1, 1, 1, 0]\n"
     ]
    },
    {
     "name": "stderr",
     "output_type": "stream",
     "text": [
      "453it [26:45,  4.75s/it, BLEU2=0.267, BLEU1=0.327, ExactMatch=0.0107, METEOR=0.508, BertScore=nan, StubScore=0.449]"
     ]
    },
    {
     "name": "stdout",
     "output_type": "stream",
     "text": [
      "True\n",
      "16 апреля 2014 года международное рейтинговое агентство Standard & Poor’s понизило долгосрочный и краткосрочный кредитный рейтинг ПАО КБ УБРиР до уровня B- и C соответственно и изменило прогноз на стабильный. Пересмотр рейтинга был вызван снижением суверенного кредитного рейтинга Российской Федерации по обязательствам в иностранной валюте до BB+/B, снижением оценки отраслевых и страновых рисков банковского сектора Российской Федерации до 8 и снижением базовой оценки банков, работающих в Российской Федерации, до bb-.\n",
      "Пересмотр рейтинга международным рейтинговым агентством Standard & Poor’s по отношению к ПАО КБ УБРиР обусловлен понижением суверенного кредитного рейтинга Российской Федерации по обязательствам в иностранной валюте до BB+/B, понижением оценки отраслевых и страновых рисков банковского сектора Российской Федерации до 8 и понижением базового уровня рейтинга банков, действующих в Российской Федерации, до bb-.\n",
      "[1, 0, 0, 0, 0, 1, 1, 0, 1, 1, 1, 0, 0, 0, 0, 0, 0, 0, 1, 1, 1, 1, 0, 0, 0, 0, 1, 0, 1, 0, 0, 1, 0, 0, 0, 0, 1, 1, 0, 0, 1, 1, 1, 0, 0, 1, 0, 0, 0, 1, 1, 0, 1, 0, 1, 0, 0, 0, 1, 0, 0, 1, 1, 1, 0, 1, 1, 0, 0, 1, 0, 1, 1, 0, 1, 1, 1, 0]\n"
     ]
    },
    {
     "name": "stderr",
     "output_type": "stream",
     "text": [
      "454it [26:47,  3.79s/it, BLEU2=0.267, BLEU1=0.326, ExactMatch=0.0106, METEOR=0.507, BertScore=nan, StubScore=0.449]"
     ]
    },
    {
     "name": "stdout",
     "output_type": "stream",
     "text": [
      "True\n",
      "Лицензирование предпринимательской деятельности появилось в России 25 декабря 1990 года.\n",
      "1990 в РФ появиась лицензия на предпринимательскую деятельность.\n",
      "[1, 0, 0, 0, 0, 1, 1, 0, 1, 1, 1, 0, 0, 0, 0, 0, 0, 0, 1, 1, 1, 1, 0, 0, 0, 0, 1, 0, 1, 0, 0, 1, 0, 0, 0, 0, 1, 1, 0, 0, 1, 1, 1, 0, 0, 1, 0, 0, 0, 1, 1, 0, 1, 0, 1, 0, 0, 0, 1, 0, 0, 1, 1, 1, 0, 1, 1, 0, 0, 1, 0, 1, 1, 0, 1, 1, 1, 0]\n"
     ]
    },
    {
     "name": "stderr",
     "output_type": "stream",
     "text": [
      "455it [26:48,  2.90s/it, BLEU2=0.266, BLEU1=0.325, ExactMatch=0.0106, METEOR=0.506, BertScore=nan, StubScore=0.449]"
     ]
    },
    {
     "name": "stdout",
     "output_type": "stream",
     "text": [
      "True\n",
      "16 апреля 2012 года.\n",
      "25 декабря 1990 года - точная дата, когда появилось понятие о лицензировании предпринимательской деятельности.\n",
      "[1, 0, 0, 0, 0, 1, 1, 0, 1, 1, 1, 0, 0, 0, 0, 0, 0, 0, 1, 1, 1, 1, 0, 0, 0, 0, 1, 0, 1, 0, 0, 1, 0, 0, 0, 0, 1, 1, 0, 0, 1, 1, 1, 0, 0, 1, 0, 0, 0, 1, 1, 0, 1, 0, 1, 0, 0, 0, 1, 0, 0, 1, 1, 1, 0, 1, 1, 0, 0, 1, 0, 1, 1, 0, 1, 1, 1, 0]\n"
     ]
    },
    {
     "name": "stderr",
     "output_type": "stream",
     "text": [
      "456it [26:49,  2.51s/it, BLEU2=0.266, BLEU1=0.326, ExactMatch=0.0106, METEOR=0.506, BertScore=nan, StubScore=0.449]"
     ]
    },
    {
     "name": "stdout",
     "output_type": "stream",
     "text": [
      "True\n",
      "4 пункт статьи 21 Закона РСФСР об предприятиях и предпринимательской деятельности.\n",
      "4 пункт ст. 21 Закона РСФСР О предприятиях и предпринимательской деятельности назывался \"Лицензирование отдельных видов предпринимательской деятельности\".\n",
      "[1, 0, 0, 0, 0, 1, 1, 0, 1, 1, 1, 0, 0, 0, 0, 0, 0, 0, 1, 1, 1, 1, 0, 0, 0, 0, 1, 0, 1, 0, 0, 1, 0, 0, 0, 0, 1, 1, 0, 0, 1, 1, 1, 0, 0, 1, 0, 0, 0, 1, 1, 0, 1, 0, 1, 0, 0, 0, 1, 0, 0, 1, 1, 1, 0, 1, 1, 0, 0, 1, 0, 1, 1, 0, 1, 1, 1, 0]\n"
     ]
    },
    {
     "name": "stderr",
     "output_type": "stream",
     "text": [
      "457it [26:56,  3.66s/it, BLEU2=0.266, BLEU1=0.326, ExactMatch=0.0106, METEOR=0.506, BertScore=nan, StubScore=0.449]"
     ]
    },
    {
     "name": "stdout",
     "output_type": "stream",
     "text": [
      "True\n",
      "1. [0.069] 25 декабря 1990 года появилось понятие лицензирования предпринимательской деятельности. Согласно 4 пункту статьи 21 Закона РСФСР \"О предприятиях и предпринимательской деятельности\" начала действовать норма, предусматривающая такое лицензирование. Предполагалось, что перечень видов предпринимательской деятельности, подлежащих лицензированию, будет определен правительством Российской Федерации.\n",
      "Предполагалось, что перечень видов предпринимательской деятельности, подлежащих лицензированию после 25 декабря 1990 в РСФСР будет определен Правительством Российской Федерации.\n",
      "[1, 0, 0, 0, 0, 1, 1, 0, 1, 1, 1, 0, 0, 0, 0, 0, 0, 0, 1, 1, 1, 1, 0, 0, 0, 0, 1, 0, 1, 0, 0, 1, 0, 0, 0, 0, 1, 1, 0, 0, 1, 1, 1, 0, 0, 1, 0, 0, 0, 1, 1, 0, 1, 0, 1, 0, 0, 0, 1, 0, 0, 1, 1, 1, 0, 1, 1, 0, 0, 1, 0, 1, 1, 0, 1, 1, 1, 0]\n"
     ]
    },
    {
     "name": "stderr",
     "output_type": "stream",
     "text": [
      "458it [27:03,  4.86s/it, BLEU2=0.266, BLEU1=0.326, ExactMatch=0.0105, METEOR=0.507, BertScore=nan, StubScore=0.449]"
     ]
    },
    {
     "name": "stdout",
     "output_type": "stream",
     "text": [
      "True\n",
      "1. [0.116] 25 декабря 1990 года появилось понятие лицензирования предпринимательской деятельности. Согласно 4 пункту статьи 21 Закона РСФСР \"О предприятиях и предпринимательской деятельности\" начала действовать норма, предусматривающая такое лицензирование. Эта норма устанавливала, что отдельные виды деятельности предпринимателей в Российской Федерации могут осуществляться только на основании лицензии (специального разрешения компетентных органов). Предполагалось, что перечень видов предпринимательской деятельности, подлежащих лицензированию, будет определяться Правительством Российской Федерации.\n",
      "Согласно 4 пункту ст. 21 Закона РСФСР О предприятиях и предпринимательской деятельности предпринимательская деятельность в Российской Федерации должна была осуществляться на основании лицензии (специального разрешения компетентных органов).\n",
      "[1, 0, 0, 0, 0, 1, 1, 0, 1, 1, 1, 0, 0, 0, 0, 0, 0, 0, 1, 1, 1, 1, 0, 0, 0, 0, 1, 0, 1, 0, 0, 1, 0, 0, 0, 0, 1, 1, 0, 0, 1, 1, 1, 0, 0, 1, 0, 0, 0, 1, 1, 0, 1, 0, 1, 0, 0, 0, 1, 0, 0, 1, 1, 1, 0, 1, 1, 0, 0, 1, 0, 1, 1, 0, 1, 1, 1, 0]\n"
     ]
    },
    {
     "name": "stderr",
     "output_type": "stream",
     "text": [
      "459it [27:05,  4.01s/it, BLEU2=0.267, BLEU1=0.327, ExactMatch=0.0105, METEOR=0.507, BertScore=nan, StubScore=0.449]"
     ]
    },
    {
     "name": "stdout",
     "output_type": "stream",
     "text": [
      "True\n",
      "Игорь Хомич работал в группе Калинов Мост во время записи альбома \"Sva\".\n",
      "В период записи альбома SWA Игорь Хомич работал в группе Калинов Мост.\n",
      "[1, 0, 0, 0, 0, 1, 1, 0, 1, 1, 1, 0, 0, 0, 0, 0, 0, 0, 1, 1, 1, 1, 0, 0, 0, 0, 1, 0, 1, 0, 0, 1, 0, 0, 0, 0, 1, 1, 0, 0, 1, 1, 1, 0, 0, 1, 0, 0, 0, 1, 1, 0, 1, 0, 1, 0, 0, 0, 1, 0, 0, 1, 1, 1, 0, 1, 1, 0, 0, 1, 0, 1, 1, 0, 1, 1, 1, 0]\n",
      "False\n",
      "Вопрос: Кто покинул группу \"Машина времени\" вместе с С. Кавагоэ?\n",
      "25 июня 2012 Е. Маргулис покинул группу Машина времени.\n"
     ]
    },
    {
     "name": "stderr",
     "output_type": "stream",
     "text": [
      "460it [27:09,  4.02s/it, BLEU2=0.267, BLEU1=0.327, ExactMatch=0.0105, METEOR=0.507, BertScore=nan, StubScore=0.443]"
     ]
    },
    {
     "name": "stdout",
     "output_type": "stream",
     "text": [
      "[1, 0, 0, 0, 0, 1, 1, 0, 1, 1, 1, 0, 0, 0, 0, 0, 0, 0, 1, 1, 1, 1, 0, 0, 0, 0, 1, 0, 1, 0, 0, 1, 0, 0, 0, 0, 1, 1, 0, 0, 1, 1, 1, 0, 0, 1, 0, 0, 0, 1, 1, 0, 1, 0, 1, 0, 0, 0, 1, 0, 0, 1, 1, 1, 0, 1, 1, 0, 0, 1, 0, 1, 1, 0, 1, 1, 1, 0, 0]\n",
      "False\n",
      "Я не могу ответить на ваш вопрос, так как в предоставленных текстах не упоминается Игорь Хомич или его участие в группе \"Машина времени\".\n",
      "Первые выступления группы Машина времени при участии Игоря Хомича состоялись 1 сентября 2012 г.\n"
     ]
    },
    {
     "name": "stderr",
     "output_type": "stream",
     "text": [
      "461it [27:14,  4.15s/it, BLEU2=0.267, BLEU1=0.327, ExactMatch=0.0105, METEOR=0.507, BertScore=nan, StubScore=0.438]"
     ]
    },
    {
     "name": "stdout",
     "output_type": "stream",
     "text": [
      "[1, 0, 0, 0, 0, 1, 1, 0, 1, 1, 1, 0, 0, 0, 0, 0, 0, 0, 1, 1, 1, 1, 0, 0, 0, 0, 1, 0, 1, 0, 0, 1, 0, 0, 0, 0, 1, 1, 0, 0, 1, 1, 1, 0, 0, 1, 0, 0, 0, 1, 1, 0, 1, 0, 1, 0, 0, 0, 1, 0, 0, 1, 1, 1, 0, 1, 1, 0, 0, 1, 0, 1, 1, 0, 1, 1, 1, 0, 0, 0]\n"
     ]
    },
    {
     "name": "stderr",
     "output_type": "stream",
     "text": [
      "462it [27:16,  3.59s/it, BLEU2=0.268, BLEU1=0.327, ExactMatch=0.0105, METEOR=0.509, BertScore=nan, StubScore=0.438]"
     ]
    },
    {
     "name": "stdout",
     "output_type": "stream",
     "text": [
      "True\n",
      "Игорь Хомич занял вакантное место гитариста в группе \"Машина времени\" после ухода Маргулиса.\n",
      "Вакантное место гитариста в группе Машина времени после ухода Маргулиса занял Игорь Хомич.\n",
      "[1, 0, 0, 0, 0, 1, 1, 0, 1, 1, 1, 0, 0, 0, 0, 0, 0, 0, 1, 1, 1, 1, 0, 0, 0, 0, 1, 0, 1, 0, 0, 1, 0, 0, 0, 0, 1, 1, 0, 0, 1, 1, 1, 0, 0, 1, 0, 0, 0, 1, 1, 0, 1, 0, 1, 0, 0, 0, 1, 0, 0, 1, 1, 1, 0, 1, 1, 0, 0, 1, 0, 1, 1, 0, 1, 1, 1, 0, 0, 0]\n"
     ]
    },
    {
     "name": "stderr",
     "output_type": "stream",
     "text": [
      "463it [27:18,  3.12s/it, BLEU2=0.268, BLEU1=0.328, ExactMatch=0.0104, METEOR=0.509, BertScore=nan, StubScore=0.438]"
     ]
    },
    {
     "name": "stdout",
     "output_type": "stream",
     "text": [
      "True\n",
      "Евгений Маргулис покинул группу \"Машина времени\" 25 июня 2012 года.\n",
      "25 июня 2012 года группу Машина времени покинул Е. Маргулис.\n",
      "[1, 0, 0, 0, 0, 1, 1, 0, 1, 1, 1, 0, 0, 0, 0, 0, 0, 0, 1, 1, 1, 1, 0, 0, 0, 0, 1, 0, 1, 0, 0, 1, 0, 0, 0, 0, 1, 1, 0, 0, 1, 1, 1, 0, 0, 1, 0, 0, 0, 1, 1, 0, 1, 0, 1, 0, 0, 0, 1, 0, 0, 1, 1, 1, 0, 1, 1, 0, 0, 1, 0, 1, 1, 0, 1, 1, 1, 0, 0, 0]\n"
     ]
    },
    {
     "name": "stderr",
     "output_type": "stream",
     "text": [
      "464it [27:20,  2.67s/it, BLEU2=0.267, BLEU1=0.327, ExactMatch=0.0104, METEOR=0.509, BertScore=nan, StubScore=0.438]"
     ]
    },
    {
     "name": "stdout",
     "output_type": "stream",
     "text": [
      "True\n",
      "Провал в грунте на железнодорожной станции Березники имел глубину 20 метров.\n",
      "На территории вокзала образовался новый провал земляного полотна глубиной 20 метров.\n",
      "[1, 0, 0, 0, 0, 1, 1, 0, 1, 1, 1, 0, 0, 0, 0, 0, 0, 0, 1, 1, 1, 1, 0, 0, 0, 0, 1, 0, 1, 0, 0, 1, 0, 0, 0, 0, 1, 1, 0, 0, 1, 1, 1, 0, 0, 1, 0, 0, 0, 1, 1, 0, 1, 0, 1, 0, 0, 0, 1, 0, 0, 1, 1, 1, 0, 1, 1, 0, 0, 1, 0, 1, 1, 0, 1, 1, 1, 0, 0, 0]\n"
     ]
    },
    {
     "name": "stderr",
     "output_type": "stream",
     "text": [
      "465it [27:22,  2.48s/it, BLEU2=0.267, BLEU1=0.327, ExactMatch=0.0104, METEOR=0.508, BertScore=nan, StubScore=0.438]"
     ]
    },
    {
     "name": "stdout",
     "output_type": "stream",
     "text": [
      "True\n",
      "Провал грунта на железнодорожной станции Березники имел размеры 100 на 40 метров.\n",
      "Провал был шириной около 50 метров и протяжённостью около 50 метров.\n",
      "[1, 0, 0, 0, 0, 1, 1, 0, 1, 1, 1, 0, 0, 0, 0, 0, 0, 0, 1, 1, 1, 1, 0, 0, 0, 0, 1, 0, 1, 0, 0, 1, 0, 0, 0, 0, 1, 1, 0, 0, 1, 1, 1, 0, 0, 1, 0, 0, 0, 1, 1, 0, 1, 0, 1, 0, 0, 0, 1, 0, 0, 1, 1, 1, 0, 1, 1, 0, 0, 1, 0, 1, 1, 0, 1, 1, 1, 0, 0, 0]\n"
     ]
    },
    {
     "name": "stderr",
     "output_type": "stream",
     "text": [
      "466it [27:23,  2.23s/it, BLEU2=0.267, BLEU1=0.328, ExactMatch=0.0104, METEOR=0.509, BertScore=nan, StubScore=0.438]"
     ]
    },
    {
     "name": "stdout",
     "output_type": "stream",
     "text": [
      "True\n",
      "Провал грунта на территории вокзала образовался 25 ноября 2010 года.\n",
      "25 ноября 2010 на территории вокзала образовался новый провал земляного полотна.\n",
      "[1, 0, 0, 0, 0, 1, 1, 0, 1, 1, 1, 0, 0, 0, 0, 0, 0, 0, 1, 1, 1, 1, 0, 0, 0, 0, 1, 0, 1, 0, 0, 1, 0, 0, 0, 0, 1, 1, 0, 0, 1, 1, 1, 0, 0, 1, 0, 0, 0, 1, 1, 0, 1, 0, 1, 0, 0, 0, 1, 0, 0, 1, 1, 1, 0, 1, 1, 0, 0, 1, 0, 1, 1, 0, 1, 1, 1, 0, 0, 0]\n"
     ]
    },
    {
     "name": "stderr",
     "output_type": "stream",
     "text": [
      "467it [27:25,  1.95s/it, BLEU2=0.267, BLEU1=0.328, ExactMatch=0.0103, METEOR=0.509, BertScore=nan, StubScore=0.438]"
     ]
    },
    {
     "name": "stdout",
     "output_type": "stream",
     "text": [
      "True\n",
      "Провал образовался недалеко от железнодорожного вокзала в городе Березники.\n",
      "Провал образовался на станции Березники.\n",
      "[1, 0, 0, 0, 0, 1, 1, 0, 1, 1, 1, 0, 0, 0, 0, 0, 0, 0, 1, 1, 1, 1, 0, 0, 0, 0, 1, 0, 1, 0, 0, 1, 0, 0, 0, 0, 1, 1, 0, 0, 1, 1, 1, 0, 0, 1, 0, 0, 0, 1, 1, 0, 1, 0, 1, 0, 0, 0, 1, 0, 0, 1, 1, 1, 0, 1, 1, 0, 0, 1, 0, 1, 1, 0, 1, 1, 1, 0, 0, 0]\n"
     ]
    },
    {
     "name": "stderr",
     "output_type": "stream",
     "text": [
      "468it [27:42,  6.63s/it, BLEU2=0.267, BLEU1=0.327, ExactMatch=0.0103, METEOR=0.508, BertScore=nan, StubScore=0.438]"
     ]
    },
    {
     "name": "stdout",
     "output_type": "stream",
     "text": [
      "True\n",
      "1. [0.177] 25 ноября 2010 года в городе на территории железнодорожного вокзала образовался новый провал земляного полотна глубиной 20 метров, шириной 50 метров и длиной 50 метров. В него провалился один из железнодорожных вагонов.\n",
      "\n",
      "2. [0.177] В 1993 году на Курейской плотине резко увеличился фильтрационный расход через насыпь. Произошло вымывание мелкозернистого грунта, на откосах появился и стал расти провал, грозящий катастрофическим прорывом воды через считанные часы.\n",
      "\n",
      "3. [0.181] В середине октября 2006 года одна из шахт БКРУ-1 ОАО \"Уралкалий\" была затоплена. В середине лета (в конце июля 2007 года) над выработками образовался провал.\n",
      "В него провалился один из вагонов железнодорожного состава.\n",
      "[1, 0, 0, 0, 0, 1, 1, 0, 1, 1, 1, 0, 0, 0, 0, 0, 0, 0, 1, 1, 1, 1, 0, 0, 0, 0, 1, 0, 1, 0, 0, 1, 0, 0, 0, 0, 1, 1, 0, 0, 1, 1, 1, 0, 0, 1, 0, 0, 0, 1, 1, 0, 1, 0, 1, 0, 0, 0, 1, 0, 0, 1, 1, 1, 0, 1, 1, 0, 0, 1, 0, 1, 1, 0, 1, 1, 1, 0, 0, 0]\n"
     ]
    },
    {
     "name": "stderr",
     "output_type": "stream",
     "text": [
      "469it [27:44,  5.12s/it, BLEU2=0.268, BLEU1=0.328, ExactMatch=0.0103, METEOR=0.509, BertScore=nan, StubScore=0.438]"
     ]
    },
    {
     "name": "stdout",
     "output_type": "stream",
     "text": [
      "True\n",
      "Омская губерния РСФСР существовала в 1919-1925 годах.\n",
      "Омская губерния РСФСР существовала в 1919—1925 гг.\n",
      "[1, 0, 0, 0, 0, 1, 1, 0, 1, 1, 1, 0, 0, 0, 0, 0, 0, 0, 1, 1, 1, 1, 0, 0, 0, 0, 1, 0, 1, 0, 0, 1, 0, 0, 0, 0, 1, 1, 0, 0, 1, 1, 1, 0, 0, 1, 0, 0, 0, 1, 1, 0, 1, 0, 1, 0, 0, 0, 1, 0, 0, 1, 1, 1, 0, 1, 1, 0, 0, 1, 0, 1, 1, 0, 1, 1, 1, 0, 0, 0]\n"
     ]
    },
    {
     "name": "stderr",
     "output_type": "stream",
     "text": [
      "470it [27:46,  4.30s/it, BLEU2=0.268, BLEU1=0.329, ExactMatch=0.0103, METEOR=0.51, BertScore=nan, StubScore=0.438] "
     ]
    },
    {
     "name": "stdout",
     "output_type": "stream",
     "text": [
      "True\n",
      "В городе Петропавловск вышло постановление Чрезвычайной Полномочной Комиссии КазЦИК о приеме и организации Акмолинской губернии с административным центром.\n",
      "Постановление Чрезвычайной полномочной комиссии КазЦИК о приёме и организации Акмолинской губернии с административным центром вышло в городе Петропавловск.\n",
      "[1, 0, 0, 0, 0, 1, 1, 0, 1, 1, 1, 0, 0, 0, 0, 0, 0, 0, 1, 1, 1, 1, 0, 0, 0, 0, 1, 0, 1, 0, 0, 1, 0, 0, 0, 0, 1, 1, 0, 0, 1, 1, 1, 0, 0, 1, 0, 0, 0, 1, 1, 0, 1, 0, 1, 0, 0, 0, 1, 0, 0, 1, 1, 1, 0, 1, 1, 0, 0, 1, 0, 1, 1, 0, 1, 1, 1, 0, 0, 0]\n"
     ]
    },
    {
     "name": "stderr",
     "output_type": "stream",
     "text": [
      "471it [27:51,  4.44s/it, BLEU2=0.268, BLEU1=0.328, ExactMatch=0.0102, METEOR=0.509, BertScore=nan, StubScore=0.438]"
     ]
    },
    {
     "name": "stdout",
     "output_type": "stream",
     "text": [
      "True\n",
      "[0.138] 26 августа 1920 года был подписан указ ВЦИК и СНК РСФСР об образовании Автономной Киргизской Республики (1920-1925 годы), которая позже стала известна как Казахская АССР.\n",
      "Впоследствии Автономную Киргизскую республику назвали как казакская АССР.\n",
      "[1, 0, 0, 0, 0, 1, 1, 0, 1, 1, 1, 0, 0, 0, 0, 0, 0, 0, 1, 1, 1, 1, 0, 0, 0, 0, 1, 0, 1, 0, 0, 1, 0, 0, 0, 0, 1, 1, 0, 0, 1, 1, 1, 0, 0, 1, 0, 0, 0, 1, 1, 0, 1, 0, 1, 0, 0, 0, 1, 0, 0, 1, 1, 1, 0, 1, 1, 0, 0, 1, 0, 1, 1, 0, 1, 1, 1, 0, 0, 0]\n"
     ]
    },
    {
     "name": "stderr",
     "output_type": "stream",
     "text": [
      "472it [27:55,  4.40s/it, BLEU2=0.269, BLEU1=0.329, ExactMatch=0.0102, METEOR=0.51, BertScore=nan, StubScore=0.438] "
     ]
    },
    {
     "name": "stdout",
     "output_type": "stream",
     "text": [
      "True\n",
      "1. [0.109] 26 августа 1920 года был подписан указ ВЦИК и СНК РСФСР об образовании Автономной Киргизской республики (1920-1925 годы).\n",
      "26 августа 1920 года был подписан декрет ВЦИК и СНК РСФСР об образовании Автономной Киргизской республики.\n",
      "[1, 0, 0, 0, 0, 1, 1, 0, 1, 1, 1, 0, 0, 0, 0, 0, 0, 0, 1, 1, 1, 1, 0, 0, 0, 0, 1, 0, 1, 0, 0, 1, 0, 0, 0, 0, 1, 1, 0, 0, 1, 1, 1, 0, 0, 1, 0, 0, 0, 1, 1, 0, 1, 0, 1, 0, 0, 0, 1, 0, 0, 1, 1, 1, 0, 1, 1, 0, 0, 1, 0, 1, 1, 0, 1, 1, 1, 0, 0, 0]\n"
     ]
    },
    {
     "name": "stderr",
     "output_type": "stream",
     "text": [
      "473it [27:56,  3.20s/it, BLEU2=0.268, BLEU1=0.328, ExactMatch=0.0102, METEOR=0.509, BertScore=nan, StubScore=0.438]"
     ]
    },
    {
     "name": "stdout",
     "output_type": "stream",
     "text": [
      "True\n",
      "1921\n",
      "26 апреля 1921 года вышло постановление Чрезвычайной полномочной комиссии КазЦИК о приёме и организации Акмолинской губернии с административным центром в городе Петропавловск.\n",
      "[1, 0, 0, 0, 0, 1, 1, 0, 1, 1, 1, 0, 0, 0, 0, 0, 0, 0, 1, 1, 1, 1, 0, 0, 0, 0, 1, 0, 1, 0, 0, 1, 0, 0, 0, 0, 1, 1, 0, 0, 1, 1, 1, 0, 0, 1, 0, 0, 0, 1, 1, 0, 1, 0, 1, 0, 0, 0, 1, 0, 0, 1, 1, 1, 0, 1, 1, 0, 0, 1, 0, 1, 1, 0, 1, 1, 1, 0, 0, 0]\n"
     ]
    },
    {
     "name": "stderr",
     "output_type": "stream",
     "text": [
      "474it [27:57,  2.65s/it, BLEU2=0.267, BLEU1=0.328, ExactMatch=0.0102, METEOR=0.508, BertScore=nan, StubScore=0.438]"
     ]
    },
    {
     "name": "stdout",
     "output_type": "stream",
     "text": [
      "True\n",
      "Маркиз де Лафайет получил звание бригадного генерала.\n",
      "Маркизу де Ла Файету присвоили чин Генерал-майора.\n",
      "[1, 0, 0, 0, 0, 1, 1, 0, 1, 1, 1, 0, 0, 0, 0, 0, 0, 0, 1, 1, 1, 1, 0, 0, 0, 0, 1, 0, 1, 0, 0, 1, 0, 0, 0, 0, 1, 1, 0, 0, 1, 1, 1, 0, 0, 1, 0, 0, 0, 1, 1, 0, 1, 0, 1, 0, 0, 0, 1, 0, 0, 1, 1, 1, 0, 1, 1, 0, 0, 1, 0, 1, 1, 0, 1, 1, 1, 0, 0, 0]\n"
     ]
    },
    {
     "name": "stderr",
     "output_type": "stream",
     "text": [
      "475it [27:59,  2.50s/it, BLEU2=0.268, BLEU1=0.329, ExactMatch=0.0101, METEOR=0.509, BertScore=nan, StubScore=0.438]"
     ]
    },
    {
     "name": "stdout",
     "output_type": "stream",
     "text": [
      "True\n",
      "Конгресс принял услуги маркиза де Лафайета 31 июля 1777 года.\n",
      "Конгресс постановил принять услуги маркиза де Ла Файета 31 июля 1777 года.\n",
      "[1, 0, 0, 0, 0, 1, 1, 0, 1, 1, 1, 0, 0, 0, 0, 0, 0, 0, 1, 1, 1, 1, 0, 0, 0, 0, 1, 0, 1, 0, 0, 1, 0, 0, 0, 0, 1, 1, 0, 0, 1, 1, 1, 0, 0, 1, 0, 0, 0, 1, 1, 0, 1, 0, 1, 0, 0, 0, 1, 0, 0, 1, 1, 1, 0, 1, 1, 0, 0, 1, 0, 1, 1, 0, 1, 1, 1, 0, 0, 0]\n"
     ]
    },
    {
     "name": "stderr",
     "output_type": "stream",
     "text": [
      "476it [28:03,  2.93s/it, BLEU2=0.268, BLEU1=0.329, ExactMatch=0.0101, METEOR=0.509, BertScore=nan, StubScore=0.438]"
     ]
    },
    {
     "name": "stdout",
     "output_type": "stream",
     "text": [
      "True\n",
      "Маркиз де Лафайет ступил на американскую землю 15 июня 1777 года в заливе Джорджиан, недалеко от Чарльстона, Южная Каролина.\n",
      "15 июня 1777 года маркиз де Ла Файе ступил на американскую землю.\n",
      "[1, 0, 0, 0, 0, 1, 1, 0, 1, 1, 1, 0, 0, 0, 0, 0, 0, 0, 1, 1, 1, 1, 0, 0, 0, 0, 1, 0, 1, 0, 0, 1, 0, 0, 0, 0, 1, 1, 0, 0, 1, 1, 1, 0, 0, 1, 0, 0, 0, 1, 1, 0, 1, 0, 1, 0, 0, 0, 1, 0, 0, 1, 1, 1, 0, 1, 1, 0, 0, 1, 0, 1, 1, 0, 1, 1, 1, 0, 0, 0]\n"
     ]
    },
    {
     "name": "stderr",
     "output_type": "stream",
     "text": [
      "477it [28:06,  2.82s/it, BLEU2=0.268, BLEU1=0.329, ExactMatch=0.0101, METEOR=0.509, BertScore=nan, StubScore=0.438]"
     ]
    },
    {
     "name": "stdout",
     "output_type": "stream",
     "text": [
      "True\n",
      "Маркиз де Лафайет отплыл к берегам Америки 26 апреля 1777 года.\n",
      "26 апреля 1777 года маркиз де Ла Файет с другими 15 французскими офицерами отплыл на корабле Виктуар из испанского порта Пасахес к берегам Америки.\n",
      "[1, 0, 0, 0, 0, 1, 1, 0, 1, 1, 1, 0, 0, 0, 0, 0, 0, 0, 1, 1, 1, 1, 0, 0, 0, 0, 1, 0, 1, 0, 0, 1, 0, 0, 0, 0, 1, 1, 0, 0, 1, 1, 1, 0, 0, 1, 0, 0, 0, 1, 1, 0, 1, 0, 1, 0, 0, 0, 1, 0, 0, 1, 1, 1, 0, 1, 1, 0, 0, 1, 0, 1, 1, 0, 1, 1, 1, 0, 0, 0]\n"
     ]
    },
    {
     "name": "stderr",
     "output_type": "stream",
     "text": [
      "478it [28:08,  2.69s/it, BLEU2=0.269, BLEU1=0.33, ExactMatch=0.0101, METEOR=0.51, BertScore=nan, StubScore=0.438]  "
     ]
    },
    {
     "name": "stdout",
     "output_type": "stream",
     "text": [
      "True\n",
      "Маркиз де Лафайет прибыл в Филадельфию 27 июля 1777 года.\n",
      "Маркиз де Ла Файет прибыл в Филадельфию 27 июля 1777 года.\n",
      "[1, 0, 0, 0, 0, 1, 1, 0, 1, 1, 1, 0, 0, 0, 0, 0, 0, 0, 1, 1, 1, 1, 0, 0, 0, 0, 1, 0, 1, 0, 0, 1, 0, 0, 0, 0, 1, 1, 0, 0, 1, 1, 1, 0, 0, 1, 0, 0, 0, 1, 1, 0, 1, 0, 1, 0, 0, 0, 1, 0, 0, 1, 1, 1, 0, 1, 1, 0, 0, 1, 0, 1, 1, 0, 1, 1, 1, 0, 0, 0]\n"
     ]
    },
    {
     "name": "stderr",
     "output_type": "stream",
     "text": [
      "479it [28:10,  2.52s/it, BLEU2=0.27, BLEU1=0.331, ExactMatch=0.01, METEOR=0.511, BertScore=nan, StubScore=0.438] "
     ]
    },
    {
     "name": "stdout",
     "output_type": "stream",
     "text": [
      "True\n",
      "В 1957-1963 годах в Виттенберге велось активное строительство жилья.\n",
      "В 1957—1963 годах в Виттенберге велось активное жилищное строительство.\n",
      "[1, 0, 0, 0, 0, 1, 1, 0, 1, 1, 1, 0, 0, 0, 0, 0, 0, 0, 1, 1, 1, 1, 0, 0, 0, 0, 1, 0, 1, 0, 0, 1, 0, 0, 0, 0, 1, 1, 0, 0, 1, 1, 1, 0, 0, 1, 0, 0, 0, 1, 1, 0, 1, 0, 1, 0, 0, 0, 1, 0, 0, 1, 1, 1, 0, 1, 1, 0, 0, 1, 0, 1, 1, 0, 1, 1, 1, 0, 0, 0]\n"
     ]
    },
    {
     "name": "stderr",
     "output_type": "stream",
     "text": [
      "480it [28:13,  2.59s/it, BLEU2=0.27, BLEU1=0.331, ExactMatch=0.01, METEOR=0.511, BertScore=nan, StubScore=0.438]"
     ]
    },
    {
     "name": "stdout",
     "output_type": "stream",
     "text": [
      "True\n",
      "5 декабря 1989 года в рамках Горбачевского одностороннего вывода советских войск из Виттенберга была выведена 6-я гвардейская танковая дивизия Вооруженных Сил СССР.\n",
      "Из Виттенберга была выведена 6-я гвардейская танковая дивизия ВС СССР.\n",
      "[1, 0, 0, 0, 0, 1, 1, 0, 1, 1, 1, 0, 0, 0, 0, 0, 0, 0, 1, 1, 1, 1, 0, 0, 0, 0, 1, 0, 1, 0, 0, 1, 0, 0, 0, 0, 1, 1, 0, 0, 1, 1, 1, 0, 0, 1, 0, 0, 0, 1, 1, 0, 1, 0, 1, 0, 0, 0, 1, 0, 0, 1, 1, 1, 0, 1, 1, 0, 0, 1, 0, 1, 1, 0, 1, 1, 1, 0, 0, 0]\n"
     ]
    },
    {
     "name": "stderr",
     "output_type": "stream",
     "text": [
      "481it [28:18,  3.48s/it, BLEU2=0.269, BLEU1=0.33, ExactMatch=0.00998, METEOR=0.51, BertScore=nan, StubScore=0.438]"
     ]
    },
    {
     "name": "stdout",
     "output_type": "stream",
     "text": [
      "True\n",
      "В послевоенные годы в Виттенберге произошла массовая миграция немецких беженцев из потерянных для Германии территорий к востоку от Одера-Нейсе, а также из Судет. Это вызвало сильную нехватку жилья. В 1957-63 годах велось активное жилищное строительство.\n",
      "Советские власти в Виттенберге организовали работы по восстановлению взорванного моста через Эльбу.\n",
      "[1, 0, 0, 0, 0, 1, 1, 0, 1, 1, 1, 0, 0, 0, 0, 0, 0, 0, 1, 1, 1, 1, 0, 0, 0, 0, 1, 0, 1, 0, 0, 1, 0, 0, 0, 0, 1, 1, 0, 0, 1, 1, 1, 0, 0, 1, 0, 0, 0, 1, 1, 0, 1, 0, 1, 0, 0, 0, 1, 0, 0, 1, 1, 1, 0, 1, 1, 0, 0, 1, 0, 1, 1, 0, 1, 1, 1, 0, 0, 0]\n"
     ]
    },
    {
     "name": "stderr",
     "output_type": "stream",
     "text": [
      "482it [28:20,  2.98s/it, BLEU2=0.27, BLEU1=0.331, ExactMatch=0.00995, METEOR=0.511, BertScore=nan, StubScore=0.438]"
     ]
    },
    {
     "name": "stdout",
     "output_type": "stream",
     "text": [
      "True\n",
      "Виттенберг был занят Красной Армией 26 апреля 1945 года.\n",
      "26 апреля 1945 года Виттенберг был занят Красной армией.\n",
      "[1, 0, 0, 0, 0, 1, 1, 0, 1, 1, 1, 0, 0, 0, 0, 0, 0, 0, 1, 1, 1, 1, 0, 0, 0, 0, 1, 0, 1, 0, 0, 1, 0, 0, 0, 0, 1, 1, 0, 0, 1, 1, 1, 0, 0, 1, 0, 0, 0, 1, 1, 0, 1, 0, 1, 0, 0, 0, 1, 0, 0, 1, 1, 1, 0, 1, 1, 0, 0, 1, 0, 1, 1, 0, 1, 1, 1, 0, 0, 0]\n"
     ]
    },
    {
     "name": "stderr",
     "output_type": "stream",
     "text": [
      "483it [28:22,  2.69s/it, BLEU2=0.272, BLEU1=0.332, ExactMatch=0.00993, METEOR=0.512, BertScore=nan, StubScore=0.438]"
     ]
    },
    {
     "name": "stdout",
     "output_type": "stream",
     "text": [
      "True\n",
      "Работы по восстановлению взорванного моста через Эльбу в Виттенберге были организованы советскими войсками.\n",
      "Работы по восстановлению взорванного моста через Эльбу в Виттенберге были организованы силами инженерных войск РККА.\n",
      "[1, 0, 0, 0, 0, 1, 1, 0, 1, 1, 1, 0, 0, 0, 0, 0, 0, 0, 1, 1, 1, 1, 0, 0, 0, 0, 1, 0, 1, 0, 0, 1, 0, 0, 0, 0, 1, 1, 0, 0, 1, 1, 1, 0, 0, 1, 0, 0, 0, 1, 1, 0, 1, 0, 1, 0, 0, 0, 1, 0, 0, 1, 1, 1, 0, 1, 1, 0, 0, 1, 0, 1, 1, 0, 1, 1, 1, 0, 0, 0]\n"
     ]
    },
    {
     "name": "stderr",
     "output_type": "stream",
     "text": [
      "484it [28:24,  2.46s/it, BLEU2=0.271, BLEU1=0.332, ExactMatch=0.0099, METEOR=0.513, BertScore=nan, StubScore=0.438] "
     ]
    },
    {
     "name": "stdout",
     "output_type": "stream",
     "text": [
      "True\n",
      "В 2011 году в Спитаке была открыта больница имени Нансена.\n",
      "Больница имени Нансена была открыта в Спитаке.\n",
      "[1, 0, 0, 0, 0, 1, 1, 0, 1, 1, 1, 0, 0, 0, 0, 0, 0, 0, 1, 1, 1, 1, 0, 0, 0, 0, 1, 0, 1, 0, 0, 1, 0, 0, 0, 0, 1, 1, 0, 0, 1, 1, 1, 0, 0, 1, 0, 0, 0, 1, 1, 0, 1, 0, 1, 0, 0, 0, 1, 0, 0, 1, 1, 1, 0, 1, 1, 0, 0, 1, 0, 1, 1, 0, 1, 1, 1, 0, 0, 0]\n"
     ]
    },
    {
     "name": "stderr",
     "output_type": "stream",
     "text": [
      "485it [28:26,  2.28s/it, BLEU2=0.273, BLEU1=0.334, ExactMatch=0.0123, METEOR=0.514, BertScore=nan, StubScore=0.438]"
     ]
    },
    {
     "name": "stdout",
     "output_type": "stream",
     "text": [
      "True\n",
      "В рамках мероприятия в Ереване был открыт памятник Фритьофу Нансену.\n",
      "В рамках мероприятия в Ереване был открыт памятник Фритьофу Нансену.\n",
      "[1, 0, 0, 0, 0, 1, 1, 0, 1, 1, 1, 0, 0, 0, 0, 0, 0, 0, 1, 1, 1, 1, 0, 0, 0, 0, 1, 0, 1, 0, 0, 1, 0, 0, 0, 0, 1, 1, 0, 0, 1, 1, 1, 0, 0, 1, 0, 0, 0, 1, 1, 0, 1, 0, 1, 0, 0, 0, 1, 0, 0, 1, 1, 1, 0, 1, 1, 0, 0, 1, 0, 1, 1, 0, 1, 1, 1, 0, 0, 0]\n"
     ]
    },
    {
     "name": "stderr",
     "output_type": "stream",
     "text": [
      "486it [28:30,  2.84s/it, BLEU2=0.274, BLEU1=0.335, ExactMatch=0.0123, METEOR=0.515, BertScore=nan, StubScore=0.438]"
     ]
    },
    {
     "name": "stdout",
     "output_type": "stream",
     "text": [
      "True\n",
      "14 апреля 2012 года было объявлено о том, что в Армении в городе Гюмри будет открыт дом-музей, посвященный норвежскому гуманисту Фритьофу Нансену.\n",
      "26 января 2011 года было объявлено о том, что в Армении в городе Гюмри будет открыт дом-музей, посвящённый норвежскому гуманисту.\n",
      "[1, 0, 0, 0, 0, 1, 1, 0, 1, 1, 1, 0, 0, 0, 0, 0, 0, 0, 1, 1, 1, 1, 0, 0, 0, 0, 1, 0, 1, 0, 0, 1, 0, 0, 0, 0, 1, 1, 0, 0, 1, 1, 1, 0, 0, 1, 0, 0, 0, 1, 1, 0, 1, 0, 1, 0, 0, 0, 1, 0, 0, 1, 1, 1, 0, 1, 1, 0, 0, 1, 0, 1, 1, 0, 1, 1, 1, 0, 0, 0]\n"
     ]
    },
    {
     "name": "stderr",
     "output_type": "stream",
     "text": [
      "487it [28:33,  2.75s/it, BLEU2=0.274, BLEU1=0.336, ExactMatch=0.0123, METEOR=0.515, BertScore=nan, StubScore=0.438]"
     ]
    },
    {
     "name": "stdout",
     "output_type": "stream",
     "text": [
      "True\n",
      "В ноябре 2011 года в Армении широко отмечали 150-летие Нансена.\n",
      "В 2011 году в Армении широко праздновалось 150-летие Фритьофа Нансена.\n",
      "[1, 0, 0, 0, 0, 1, 1, 0, 1, 1, 1, 0, 0, 0, 0, 0, 0, 0, 1, 1, 1, 1, 0, 0, 0, 0, 1, 0, 1, 0, 0, 1, 0, 0, 0, 0, 1, 1, 0, 0, 1, 1, 1, 0, 0, 1, 0, 0, 0, 1, 1, 0, 1, 0, 1, 0, 0, 0, 1, 0, 0, 1, 1, 1, 0, 1, 1, 0, 0, 1, 0, 1, 1, 0, 1, 1, 1, 0, 0, 0]\n"
     ]
    },
    {
     "name": "stderr",
     "output_type": "stream",
     "text": [
      "488it [28:35,  2.64s/it, BLEU2=0.275, BLEU1=0.336, ExactMatch=0.0123, METEOR=0.515, BertScore=nan, StubScore=0.438]"
     ]
    },
    {
     "name": "stdout",
     "output_type": "stream",
     "text": [
      "True\n",
      "Президент Армении вручил Марит Грев паспорт с особым проживанием в Республике Армения.\n",
      "После открытия памятника Фритьофу Нансену президент Армении вручил Марит Грев паспорт статуса специального проживания в Республике Армения.\n",
      "[1, 0, 0, 0, 0, 1, 1, 0, 1, 1, 1, 0, 0, 0, 0, 0, 0, 0, 1, 1, 1, 1, 0, 0, 0, 0, 1, 0, 1, 0, 0, 1, 0, 0, 0, 0, 1, 1, 0, 0, 1, 1, 1, 0, 0, 1, 0, 0, 0, 1, 1, 0, 1, 0, 1, 0, 0, 0, 1, 0, 0, 1, 1, 1, 0, 1, 1, 0, 0, 1, 0, 1, 1, 0, 1, 1, 1, 0, 0, 0]\n"
     ]
    },
    {
     "name": "stderr",
     "output_type": "stream",
     "text": [
      "489it [28:37,  2.32s/it, BLEU2=0.277, BLEU1=0.338, ExactMatch=0.0147, METEOR=0.517, BertScore=nan, StubScore=0.438]"
     ]
    },
    {
     "name": "stdout",
     "output_type": "stream",
     "text": [
      "True\n",
      "Брюллов посетил Испанию в 1850 году.\n",
      "Брюллов посетил Испанию в 1850 году.\n",
      "[1, 0, 0, 0, 0, 1, 1, 0, 1, 1, 1, 0, 0, 0, 0, 0, 0, 0, 1, 1, 1, 1, 0, 0, 0, 0, 1, 0, 1, 0, 0, 1, 0, 0, 0, 0, 1, 1, 0, 0, 1, 1, 1, 0, 0, 1, 0, 0, 0, 1, 1, 0, 1, 0, 1, 0, 0, 0, 1, 0, 0, 1, 1, 1, 0, 1, 1, 0, 0, 1, 0, 1, 1, 0, 1, 1, 1, 0, 0, 0]\n"
     ]
    },
    {
     "name": "stderr",
     "output_type": "stream",
     "text": [
      "490it [28:39,  2.37s/it, BLEU2=0.277, BLEU1=0.338, ExactMatch=0.0146, METEOR=0.517, BertScore=nan, StubScore=0.438]"
     ]
    },
    {
     "name": "stdout",
     "output_type": "stream",
     "text": [
      "True\n",
      "Последний шедевр художника Брюллова - \"Портрет Микеланджело Ланчи\", созданный в 1851 году.\n",
      "Последним шедевром художника стал портрет его старого знакомого археолога Микеланджело Ланчи, созданный в 1851 году.\n",
      "[1, 0, 0, 0, 0, 1, 1, 0, 1, 1, 1, 0, 0, 0, 0, 0, 0, 0, 1, 1, 1, 1, 0, 0, 0, 0, 1, 0, 1, 0, 0, 1, 0, 0, 0, 0, 1, 1, 0, 0, 1, 1, 1, 0, 0, 1, 0, 0, 0, 1, 1, 0, 1, 0, 1, 0, 0, 0, 1, 0, 0, 1, 1, 1, 0, 1, 1, 0, 0, 1, 0, 1, 1, 0, 1, 1, 1, 0, 0, 0]\n"
     ]
    },
    {
     "name": "stderr",
     "output_type": "stream",
     "text": [
      "491it [28:41,  2.21s/it, BLEU2=0.278, BLEU1=0.339, ExactMatch=0.017, METEOR=0.518, BertScore=nan, StubScore=0.438] "
     ]
    },
    {
     "name": "stdout",
     "output_type": "stream",
     "text": [
      "True\n",
      "Брюллов покинул Россию по настоянию врачей 27 апреля 1849 года.\n",
      "Брюллов покинул Россию по настоянию врачей 27 апреля 1849 года.\n",
      "[1, 0, 0, 0, 0, 1, 1, 0, 1, 1, 1, 0, 0, 0, 0, 0, 0, 0, 1, 1, 1, 1, 0, 0, 0, 0, 1, 0, 1, 0, 0, 1, 0, 0, 0, 0, 1, 1, 0, 0, 1, 1, 1, 0, 0, 1, 0, 0, 0, 1, 1, 0, 1, 0, 1, 0, 0, 0, 1, 0, 0, 1, 1, 1, 0, 1, 1, 0, 0, 1, 0, 1, 1, 0, 1, 1, 1, 0, 0, 0]\n"
     ]
    },
    {
     "name": "stderr",
     "output_type": "stream",
     "text": [
      "492it [28:43,  2.15s/it, BLEU2=0.279, BLEU1=0.34, ExactMatch=0.017, METEOR=0.519, BertScore=nan, StubScore=0.438] "
     ]
    },
    {
     "name": "stdout",
     "output_type": "stream",
     "text": [
      "True\n",
      "Брюллов отправился на остров Мадейра лечиться 27 апреля 1849 года.\n",
      "27 апреля 1849 года Брюллов отправился лечится на остров Мадейра.\n",
      "[1, 0, 0, 0, 0, 1, 1, 0, 1, 1, 1, 0, 0, 0, 0, 0, 0, 0, 1, 1, 1, 1, 0, 0, 0, 0, 1, 0, 1, 0, 0, 1, 0, 0, 0, 0, 1, 1, 0, 0, 1, 1, 1, 0, 0, 1, 0, 0, 0, 1, 1, 0, 1, 0, 1, 0, 0, 0, 1, 0, 0, 1, 1, 1, 0, 1, 1, 0, 0, 1, 0, 1, 1, 0, 1, 1, 1, 0, 0, 0]\n"
     ]
    },
    {
     "name": "stderr",
     "output_type": "stream",
     "text": [
      "493it [28:45,  2.20s/it, BLEU2=0.281, BLEU1=0.342, ExactMatch=0.0194, METEOR=0.52, BertScore=nan, StubScore=0.438]"
     ]
    },
    {
     "name": "stdout",
     "output_type": "stream",
     "text": [
      "True\n",
      "В 1850 году Брюллов познакомился с соратником Гарибальди А. Титтони.\n",
      "В 1850 году Брюллов познакомился с соратником Гарибальди А. Титтони.\n",
      "[1, 0, 0, 0, 0, 1, 1, 0, 1, 1, 1, 0, 0, 0, 0, 0, 0, 0, 1, 1, 1, 1, 0, 0, 0, 0, 1, 0, 1, 0, 0, 1, 0, 0, 0, 0, 1, 1, 0, 0, 1, 1, 1, 0, 0, 1, 0, 0, 0, 1, 1, 0, 1, 0, 1, 0, 0, 0, 1, 0, 0, 1, 1, 1, 0, 1, 1, 0, 0, 1, 0, 1, 1, 0, 1, 1, 1, 0, 0, 0]\n"
     ]
    },
    {
     "name": "stderr",
     "output_type": "stream",
     "text": [
      "494it [28:47,  2.04s/it, BLEU2=0.281, BLEU1=0.342, ExactMatch=0.0193, METEOR=0.521, BertScore=nan, StubScore=0.438]"
     ]
    },
    {
     "name": "stdout",
     "output_type": "stream",
     "text": [
      "True\n",
      "В ссылке Грин написал \"Жизнь Гнора\" и \"Синий каскад Теллури\".\n",
      "В ссылке Грин написал Жизнь Гнора и Синий каскад Теллури.\n",
      "[1, 0, 0, 0, 0, 1, 1, 0, 1, 1, 1, 0, 0, 0, 0, 0, 0, 0, 1, 1, 1, 1, 0, 0, 0, 0, 1, 0, 1, 0, 0, 1, 0, 0, 0, 0, 1, 1, 0, 0, 1, 1, 1, 0, 0, 1, 0, 0, 0, 1, 1, 0, 1, 0, 1, 0, 0, 0, 1, 0, 0, 1, 1, 1, 0, 1, 1, 0, 0, 1, 0, 1, 1, 0, 1, 1, 1, 0, 0, 0]\n"
     ]
    },
    {
     "name": "stderr",
     "output_type": "stream",
     "text": [
      "495it [28:50,  2.44s/it, BLEU2=0.28, BLEU1=0.342, ExactMatch=0.0193, METEOR=0.52, BertScore=nan, StubScore=0.438]  "
     ]
    },
    {
     "name": "stdout",
     "output_type": "stream",
     "text": [
      "True\n",
      "В романе \"Дьявол в оранжевом\" и \"Зурбаганский стрелок\" Грин окончательно формирует черты вымышленной страны, которую литературовед К. Зелинский назвал Гринландия.\n",
      "Вымышленная страна, сформированная в произведениях А. Грина названа Гринландия.\n",
      "[1, 0, 0, 0, 0, 1, 1, 0, 1, 1, 1, 0, 0, 0, 0, 0, 0, 0, 1, 1, 1, 1, 0, 0, 0, 0, 1, 0, 1, 0, 0, 1, 0, 0, 0, 0, 1, 1, 0, 0, 1, 1, 1, 0, 0, 1, 0, 0, 0, 1, 1, 0, 1, 0, 1, 0, 0, 0, 1, 0, 0, 1, 1, 1, 0, 1, 1, 0, 0, 1, 0, 1, 1, 0, 1, 1, 1, 0, 0, 0]\n"
     ]
    },
    {
     "name": "stderr",
     "output_type": "stream",
     "text": [
      "496it [28:51,  2.00s/it, BLEU2=0.28, BLEU1=0.341, ExactMatch=0.0192, METEOR=0.52, BertScore=nan, StubScore=0.438]"
     ]
    },
    {
     "name": "stdout",
     "output_type": "stream",
     "text": [
      "True\n",
      "27 июля 1910 года.\n",
      "27 июля 1910 года полиция наконец обнаружила, что писатель Грин — это беглый ссыльный Гриневский.\n",
      "[1, 0, 0, 0, 0, 1, 1, 0, 1, 1, 1, 0, 0, 0, 0, 0, 0, 0, 1, 1, 1, 1, 0, 0, 0, 0, 1, 0, 1, 0, 0, 1, 0, 0, 0, 0, 1, 1, 0, 0, 1, 1, 1, 0, 0, 1, 0, 0, 0, 1, 1, 0, 1, 0, 1, 0, 0, 0, 1, 0, 0, 1, 1, 1, 0, 1, 1, 0, 0, 1, 0, 1, 1, 0, 1, 1, 1, 0, 0, 0]\n"
     ]
    },
    {
     "name": "stderr",
     "output_type": "stream",
     "text": [
      "497it [28:53,  1.87s/it, BLEU2=0.28, BLEU1=0.341, ExactMatch=0.0192, METEOR=0.52, BertScore=nan, StubScore=0.438]"
     ]
    },
    {
     "name": "stdout",
     "output_type": "stream",
     "text": [
      "True\n",
      "В мае 1912 года Гриневские вернулись в Санкт-Петербург.\n",
      "В мае 1912 года семья Гриневских вернулась в Санкт-Петербург после ссылки.\n",
      "[1, 0, 0, 0, 0, 1, 1, 0, 1, 1, 1, 0, 0, 0, 0, 0, 0, 0, 1, 1, 1, 1, 0, 0, 0, 0, 1, 0, 1, 0, 0, 1, 0, 0, 0, 0, 1, 1, 0, 0, 1, 1, 1, 0, 0, 1, 0, 0, 0, 1, 1, 0, 1, 0, 1, 0, 0, 0, 1, 0, 0, 1, 1, 1, 0, 1, 1, 0, 0, 1, 0, 1, 1, 0, 1, 1, 1, 0, 0, 0]\n"
     ]
    },
    {
     "name": "stderr",
     "output_type": "stream",
     "text": [
      "498it [28:55,  1.86s/it, BLEU2=0.281, BLEU1=0.342, ExactMatch=0.0191, METEOR=0.52, BertScore=nan, StubScore=0.438]"
     ]
    },
    {
     "name": "stdout",
     "output_type": "stream",
     "text": [
      "True\n",
      "В 1910 году писатель Александр Грин был сослан в Пинегу, Архангельскую губернию.\n",
      "После третьего ареста писатель Александр Грин был сослан в Пинегу Архангельской губернии.\n",
      "[1, 0, 0, 0, 0, 1, 1, 0, 1, 1, 1, 0, 0, 0, 0, 0, 0, 0, 1, 1, 1, 1, 0, 0, 0, 0, 1, 0, 1, 0, 0, 1, 0, 0, 0, 0, 1, 1, 0, 0, 1, 1, 1, 0, 0, 1, 0, 0, 0, 1, 1, 0, 1, 0, 1, 0, 0, 0, 1, 0, 0, 1, 1, 1, 0, 1, 1, 0, 0, 1, 0, 1, 1, 0, 1, 1, 1, 0, 0, 0]\n"
     ]
    },
    {
     "name": "stderr",
     "output_type": "stream",
     "text": [
      "499it [28:55,  1.40s/it, BLEU2=0.28, BLEU1=0.341, ExactMatch=0.0191, METEOR=0.519, BertScore=nan, StubScore=0.438]"
     ]
    },
    {
     "name": "stdout",
     "output_type": "stream",
     "text": [
      "True\n",
      "Нансен\n",
      "О том, что айсберги могут переносить значительные количества минерального материала, дающего представление о геологическом строении неисследованных областей Гренландии, обнаружил Фритьоф Нансен.\n",
      "[1, 0, 0, 0, 0, 1, 1, 0, 1, 1, 1, 0, 0, 0, 0, 0, 0, 0, 1, 1, 1, 1, 0, 0, 0, 0, 1, 0, 1, 0, 0, 1, 0, 0, 0, 0, 1, 1, 0, 0, 1, 1, 1, 0, 0, 1, 0, 0, 0, 1, 1, 0, 1, 0, 1, 0, 0, 0, 1, 0, 0, 1, 1, 1, 0, 1, 1, 0, 0, 1, 0, 1, 1, 0, 1, 1, 1, 0, 0, 0]\n"
     ]
    },
    {
     "name": "stderr",
     "output_type": "stream",
     "text": [
      "500it [28:56,  3.47s/it, BLEU2=0.279, BLEU1=0.34, ExactMatch=0.019, METEOR=0.518, BertScore=nan, StubScore=0.438] "
     ]
    },
    {
     "name": "stdout",
     "output_type": "stream",
     "text": [
      "True\n",
      "27 июня.\n",
      "27 июня Викинг Нансена оказался затёрт сплошными ледовыми полями, начался незапланированный дрейф.\n",
      "[1, 0, 0, 0, 0, 1, 1, 0, 1, 1, 1, 0, 0, 0, 0, 0, 0, 0, 1, 1, 1, 1, 0, 0, 0, 0, 1, 0, 1, 0, 0, 1, 0, 0, 0, 0, 1, 1, 0, 0, 1, 1, 1, 0, 0, 1, 0, 0, 0, 1, 1, 0, 1, 0, 1, 0, 0, 0, 1, 0, 0, 1, 1, 1, 0, 1, 1, 0, 0, 1, 0, 1, 1, 0, 1, 1, 1, 0, 0, 0]\n"
     ]
    },
    {
     "name": "stderr",
     "output_type": "stream",
     "text": [
      "\n"
     ]
    }
   ],
   "source": [
    "reader_scores, reader_cache = evaluate_reader(benchmarks_df, READER, reader_metrics, contexts, show_step=1, cache_relevant_flags=cache_relevant_flags)"
   ]
  },
  {
   "cell_type": "code",
   "execution_count": 32,
   "metadata": {},
   "outputs": [],
   "source": [
    "save_rag_trial_log(SAVE_LOGDIR, reader_scores, retriever_scores, \n",
    "                   SAVE_HYPERPARAMS, SAVE_READERCACHE, SAVE_RETRIEVERCACHE,\n",
    "                   reader_cache, retriever_cache_ids, BENCHMARKS_INFO, BENCHMARKS_MAXSIZE,\n",
    "                   READER_PARAMS, RETRIEVER_PARAMS, ADDITIONAL_PARAMS)"
   ]
  },
  {
   "cell_type": "code",
   "execution_count": 33,
   "metadata": {},
   "outputs": [
    {
     "name": "stderr",
     "output_type": "stream",
     "text": [
      "Traceback (most recent call last):\n",
      "  File \"/opt/conda/lib/python3.10/runpy.py\", line 196, in _run_module_as_main\n",
      "    return _run_code(code, main_globals, None,\n",
      "  File \"/opt/conda/lib/python3.10/runpy.py\", line 86, in _run_code\n",
      "    exec(code, run_globals)\n",
      "  File \"/trinity/home/team06/workspace/mikhail_workspace/mikhail_venv/lib/python3.10/site-packages/ipykernel_launcher.py\", line 18, in <module>\n",
      "    app.launch_new_instance()\n",
      "  File \"/trinity/home/team06/workspace/mikhail_workspace/mikhail_venv/lib/python3.10/site-packages/traitlets/config/application.py\", line 1075, in launch_instance\n",
      "    app.start()\n",
      "  File \"/trinity/home/team06/workspace/mikhail_workspace/mikhail_venv/lib/python3.10/site-packages/ipykernel/kernelapp.py\", line 739, in start\n",
      "    self.io_loop.start()\n",
      "  File \"/trinity/home/team06/workspace/mikhail_workspace/mikhail_venv/lib/python3.10/site-packages/tornado/platform/asyncio.py\", line 205, in start\n",
      "    self.asyncio_loop.run_forever()\n",
      "  File \"/opt/conda/lib/python3.10/asyncio/base_events.py\", line 603, in run_forever\n",
      "    self._run_once()\n",
      "  File \"/opt/conda/lib/python3.10/asyncio/base_events.py\", line 1868, in _run_once\n",
      "    event_list = self._selector.select(timeout)\n",
      "  File \"/opt/conda/lib/python3.10/selectors.py\", line 469, in select\n",
      "    fd_event_list = self._selector.poll(timeout, max_ev)\n",
      "  File \"/trinity/home/team06/workspace/mikhail_workspace/mikhail_venv/lib/python3.10/site-packages/torch/utils/data/_utils/signal_handling.py\", line 67, in handler\n",
      "    _error_if_any_worker_fails()\n",
      "RuntimeError: DataLoader worker (pid 1037648) exited unexpectedly with exit code 1. Details are lost due to multiprocessing. Rerunning with num_workers=0 may give better error trace.\n"
     ]
    }
   ],
   "source": [
    "import gc\n",
    "import torch\n",
    "\n",
    "gc.collect()\n",
    "torch.cuda.empty_cache()"
   ]
  },
  {
   "cell_type": "code",
   "execution_count": null,
   "metadata": {},
   "outputs": [],
   "source": []
  }
 ],
 "metadata": {
  "kernelspec": {
   "display_name": "mikhail_venv",
   "language": "python",
   "name": "mikhail_venv"
  },
  "language_info": {
   "codemirror_mode": {
    "name": "ipython",
    "version": 3
   },
   "file_extension": ".py",
   "mimetype": "text/x-python",
   "name": "python",
   "nbconvert_exporter": "python",
   "pygments_lexer": "ipython3",
   "version": "3.10.9"
  }
 },
 "nbformat": 4,
 "nbformat_minor": 4
}
