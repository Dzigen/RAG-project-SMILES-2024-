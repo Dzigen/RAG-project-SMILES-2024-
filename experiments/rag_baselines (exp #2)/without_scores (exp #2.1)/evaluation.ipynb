{
 "cells": [
  {
   "cell_type": "code",
   "execution_count": 3,
   "metadata": {},
   "outputs": [
    {
     "name": "stderr",
     "output_type": "stream",
     "text": [
      "/trinity/home/team06/workspace/mikhail_workspace/mikhail_venv/lib/python3.10/site-packages/tqdm/auto.py:21: TqdmWarning: IProgress not found. Please update jupyter and ipywidgets. See https://ipywidgets.readthedocs.io/en/stable/user_install.html\n",
      "  from .autonotebook import tqdm as notebook_tqdm\n"
     ]
    },
    {
     "ename": "SyntaxError",
     "evalue": "invalid syntax (evaluate_parts.py, line 62)",
     "output_type": "error",
     "traceback": [
      "Traceback \u001b[0;36m(most recent call last)\u001b[0m:\n",
      "\u001b[0m  File \u001b[1;32m~/mikhail_workspace/mikhail_venv/lib/python3.10/site-packages/IPython/core/interactiveshell.py:3577\u001b[0m in \u001b[1;35mrun_code\u001b[0m\n    exec(code_obj, self.user_global_ns, self.user_ns)\u001b[0m\n",
      "\u001b[0m  Cell \u001b[1;32mIn[3], line 17\u001b[0m\n    from src.utils import ReaderMetrics, RetrieverMetrics, save_rag_trial_log, prepare_thresholdretriever_configs, prepare_reader_configs, load_benchmarks_df\u001b[0m\n",
      "\u001b[0;36m  File \u001b[0;32m~/mikhail_workspace/rag_project/src/utils/__init__.py:4\u001b[0;36m\n\u001b[0;31m    from .evaluate_parts import evaluate_retriever, evaluate_reader\u001b[0;36m\n",
      "\u001b[0;36m  File \u001b[0;32m~/mikhail_workspace/rag_project/src/utils/evaluate_parts.py:62\u001b[0;36m\u001b[0m\n\u001b[0;31m    if (cur_q_idx % show_step == 0:\u001b[0m\n\u001b[0m                                  ^\u001b[0m\n\u001b[0;31mSyntaxError\u001b[0m\u001b[0;31m:\u001b[0m invalid syntax\n"
     ]
    }
   ],
   "source": [
    "import sys\n",
    "#BASE_DIR = \"/home/dzigen/Desktop/ITMO/smiles2024/RAG-project-SMILES-2024-\"\n",
    "BASE_DIR = \"/trinity/home/team06/workspace/mikhail_workspace/rag_project\"\n",
    "sys.path.insert(0, BASE_DIR)\n",
    "\n",
    "import pandas as pd \n",
    "import ast\n",
    "import numpy as np\n",
    "import json\n",
    "from tqdm import tqdm\n",
    "from IPython.display import clear_output\n",
    "import os\n",
    "\n",
    "from src.Retriever import ThresholdRetriever\n",
    "from src.Reader import LLM_Model\n",
    "from src.Scorer import SimilarityScorerConfig\n",
    "from src.utils import ReaderMetrics, RetrieverMetrics, save_rag_trial_log, prepare_thresholdretriever_configs, prepare_reader_configs, load_benchmarks_df\n",
    "from src.utils import evaluate_retriever, evaluate_reader"
   ]
  },
  {
   "cell_type": "code",
   "execution_count": 2,
   "metadata": {},
   "outputs": [],
   "source": [
    "# !!! TO CHANGE !!!\n",
    "TRIAL = 3\n",
    "BENCHMARKS_MAXSIZE = 500\n",
    "BENCHMARKS_INFO = {'mtssquad': {'db': 'v2', 'table': 'v1'}}\n",
    "\n",
    "# Retriever part\n",
    "RETRIEVER_PARAMS = {\n",
    "    \"model_path\": f\"{BASE_DIR}/models/intfloat/multilingual-e5-small\",\n",
    "    \"densedb_kwargs\": {'metadata': {\"hnsw:space\": \"ip\"}},\n",
    "    \"model_kwargs\": {'device':'cuda'},\n",
    "    \"encode_kwargs\": {'normalize_embeddings': True, 'prompt': 'query: '},\n",
    "    \"params\": {'fetch_k': 50, 'threshold': 0.23, 'max_k': 3}\n",
    "}\n",
    "\n",
    "# Reader part\n",
    "READER_PARAMS = {\n",
    "    'prompts': {\n",
    "        \"assistant\": 'Отвечай на вопросы, используя информацию из текстов в списке ниже. Если ты не уверена в релевантности данных текстов по отношению к заданному вопросу, то сгенерируй следующий ответ: \"У меня нет ответа на ваш вопрос.\".',\n",
    "        \"system\": \"Ты вопросно-ответная система. Все ответы генерируй на русском языке. По вопросам отвечай кратко, чётко и конкретно. Не генерируй излишнюю информацию.\",\n",
    "    },\n",
    "    'gen': {'max_new_tokens': 512, 'eos_token_id': 79097},\n",
    "    'data_operate': {'batch_size': 1}\n",
    "    }\n",
    "\n",
    "ADDITIONAL_PARAMS = {\n",
    "    'topk_score_list': 3\n",
    "}\n",
    "\n",
    "BERTSCORE_MODEL_PATH = \"ru_electra_medium\"\n",
    "\n",
    "# !!! TO CHANGE !!!\n",
    "\n",
    "SAVE_LOGDIR = f'./logs/trial{TRIAL}'\n",
    "SAVE_HYPERPARAMS = f'{SAVE_LOGDIR}/hyperparams.json'\n",
    "SAVE_READERCACHE = f'{SAVE_LOGDIR}/reader_cache.json'\n",
    "SAVE_RETRIEVERCACHE = f'{SAVE_LOGDIR}/retriever_cache.json'"
   ]
  },
  {
   "cell_type": "markdown",
   "metadata": {},
   "source": [
    "##### Configure Retriever-part"
   ]
  },
  {
   "cell_type": "code",
   "execution_count": 3,
   "metadata": {},
   "outputs": [],
   "source": [
    "retrievers_config, benchmarks_path = prepare_thresholdretriever_configs(BASE_DIR, BENCHMARKS_INFO, RETRIEVER_PARAMS)\n",
    "retriever_metrics = RetrieverMetrics()"
   ]
  },
  {
   "cell_type": "code",
   "execution_count": 4,
   "metadata": {},
   "outputs": [],
   "source": [
    "benchmarks_df = load_benchmarks_df(benchmarks_path, BENCHMARKS_MAXSIZE)"
   ]
  },
  {
   "cell_type": "markdown",
   "metadata": {},
   "source": [
    "##### Configure Reader-part"
   ]
  },
  {
   "cell_type": "code",
   "execution_count": 6,
   "metadata": {},
   "outputs": [
    {
     "name": "stderr",
     "output_type": "stream",
     "text": [
      "Loading checkpoint shards: 100%|██████████| 4/4 [03:21<00:00, 50.45s/it]\n"
     ]
    }
   ],
   "source": [
    "reader_config = prepare_reader_configs(READER_PARAMS)\n",
    "READER = LLM_Model(reader_config)"
   ]
  },
  {
   "cell_type": "code",
   "execution_count": 10,
   "metadata": {},
   "outputs": [
    {
     "name": "stdout",
     "output_type": "stream",
     "text": [
      "Loading Meteor...\n",
      "Loading ExactMatch\n"
     ]
    }
   ],
   "source": [
    "sim_score_config = SimilarityScorerConfig()\n",
    "reader_metrics = ReaderMetrics(BASE_DIR, BERTSCORE_MODEL_PATH, sim_score_config, READER)"
   ]
  },
  {
   "cell_type": "code",
   "execution_count": 12,
   "metadata": {},
   "outputs": [
    {
     "name": "stderr",
     "output_type": "stream",
     "text": [
      "No sentence-transformers model found with name /trinity/home/team06/workspace/mikhail_workspace/rag_project/models/intfloat/multilingual-e5-small. Creating a new one with mean pooling.\n"
     ]
    }
   ],
   "source": [
    "RETRIEVERS = {name: ThresholdRetriever(config) for name, config in retrievers_config.items()}"
   ]
  },
  {
   "cell_type": "markdown",
   "metadata": {},
   "source": [
    "##### Evaluating pipeline"
   ]
  },
  {
   "cell_type": "code",
   "execution_count": 14,
   "metadata": {},
   "outputs": [
    {
     "name": "stdout",
     "output_type": "stream",
     "text": [
      "mtssquad\n"
     ]
    },
    {
     "name": "stderr",
     "output_type": "stream",
     "text": [
      "100%|██████████| 500/500 [00:08<00:00, 61.27it/s, MRR=0.778, mAP=0.778, Recall=0.839, Precision=0.28, F1=0.419, NoRelContextScore=nan] \n"
     ]
    }
   ],
   "source": [
    "retriever_scores, retriever_cache_ids, predicted_chunks, cache_relevant_flags = evaluate_retriever(benchmarks_df, RETRIEVERS, retriever_metrics,\n",
    "                                                                            show_step=5, topk_score_list=ADDITIONAL_PARAMS['topk_score_list'])"
   ]
  },
  {
   "cell_type": "code",
   "execution_count": 15,
   "metadata": {},
   "outputs": [],
   "source": [
    "contexts = {name: [reader_config.prompts.assistant + \"\\n\\n\" + \"\\n\\n\".join([f'{i+1}. {doc[1]}' for i, doc in enumerate(docs)]) \n",
    "                                                                      for docs in chunks] for name, chunks in predicted_chunks.items()}"
   ]
  },
  {
   "cell_type": "code",
   "execution_count": 18,
   "metadata": {
    "scrolled": true
   },
   "outputs": [
    {
     "name": "stderr",
     "output_type": "stream",
     "text": [
      "0it [00:00, ?it/s]"
     ]
    },
    {
     "name": "stdout",
     "output_type": "stream",
     "text": [
      "False\n",
      "Нет, Мадонна не просила изменить аранжировку песни.\n",
      "Да, по просьбе Мадонны заменили аранжировщика Каминса на более опытного штатного аранжировщика Warner Bros. Records Регги Лукаса.\n"
     ]
    },
    {
     "name": "stderr",
     "output_type": "stream",
     "text": [
      "1it [00:04,  4.50s/it, BLEU2=nan, BLEU1=nan, ExactMatch=nan, METEOR=nan, BertScore=nan, StubScore=0]"
     ]
    },
    {
     "name": "stdout",
     "output_type": "stream",
     "text": [
      "[0]\n",
      "False\n",
      "Первый сингл Мадонны был \"Everybody\", выпущенный в 1982 году на лейбле Sire.\n",
      "Песню Мадонны \"Everybody\" выпускают в качестве сингла.\n"
     ]
    },
    {
     "name": "stderr",
     "output_type": "stream",
     "text": [
      "2it [00:08,  4.23s/it, BLEU2=nan, BLEU1=nan, ExactMatch=nan, METEOR=nan, BertScore=nan, StubScore=0]"
     ]
    },
    {
     "name": "stdout",
     "output_type": "stream",
     "text": [
      "[0, 0]\n",
      "True\n",
      "\"Everybody\" поднимается на 3-е место в чарте Hot Dance Club Songs.\n",
      "На 3-е место Everybody поднимается в чарте Hot Dance Club Songs.\n"
     ]
    },
    {
     "name": "stderr",
     "output_type": "stream",
     "text": [
      "3it [00:11,  3.68s/it, BLEU2=0.701, BLEU1=0.818, ExactMatch=0, METEOR=0.965, BertScore=nan, StubScore=0]"
     ]
    },
    {
     "name": "stdout",
     "output_type": "stream",
     "text": [
      "[0, 0]\n"
     ]
    },
    {
     "name": "stderr",
     "output_type": "stream",
     "text": [
      "4it [00:14,  3.53s/it, BLEU2=0.398, BLEU1=0.467, ExactMatch=0, METEOR=0.741, BertScore=nan, StubScore=0]"
     ]
    },
    {
     "name": "stdout",
     "output_type": "stream",
     "text": [
      "True\n",
      "При нулевом бюджете на продвижение, обложка сингла \"Everybody\" группы Madonna не содержит фотографии певицы, чтобы не отпугнуть цветную аудиторию, которая может подумать, что она негритянская диско-соул-певица.\n",
      "Чтобы не отпугнуть цветную аудиторию якобы негритянской диско-соул-певицы.\n",
      "[0, 0]\n"
     ]
    },
    {
     "name": "stderr",
     "output_type": "stream",
     "text": [
      "5it [00:18,  3.52s/it, BLEU2=0.266, BLEU1=0.334, ExactMatch=0, METEOR=0.538, BertScore=nan, StubScore=0]"
     ]
    },
    {
     "name": "stdout",
     "output_type": "stream",
     "text": [
      "True\n",
      "Обложка альбома \"Everybody\" не имеет фотографии Мадонны, потому что она хотела избежать отталкивания цветной аудитории, которая могла бы подумать, что она негритянка, и не хотела тратить деньги на раскрутку.\n",
      "При нулевом бюджете на раскрутку фото певицы решают не помещать на обложке.\n",
      "[0, 0]\n"
     ]
    },
    {
     "name": "stderr",
     "output_type": "stream",
     "text": [
      "6it [00:20,  2.91s/it, BLEU2=0.265, BLEU1=0.332, ExactMatch=0, METEOR=0.572, BertScore=nan, StubScore=0]"
     ]
    },
    {
     "name": "stdout",
     "output_type": "stream",
     "text": [
      "True\n",
      "Альбом \"The Times They Are A-Changing\" был выпущен в начале 1964 года.\n",
      "В начале 1964 года вышел новый альбом протестных песен Дилана The Times They Are A-Changing.\n",
      "[0, 0]\n"
     ]
    },
    {
     "name": "stderr",
     "output_type": "stream",
     "text": [
      "7it [00:21,  2.52s/it, BLEU2=0.245, BLEU1=0.32, ExactMatch=0, METEOR=0.555, BertScore=nan, StubScore=0] "
     ]
    },
    {
     "name": "stdout",
     "output_type": "stream",
     "text": [
      "True\n",
      "Любители фолк-музыки в США были сильно впечатлены альбомом Freewheelin' Bob Dylan.\n",
      "Freewheelin’ Bob Dylan произвёл большое впечатление на любителей фолк-музыки в США.\n",
      "[0, 0]\n"
     ]
    },
    {
     "name": "stderr",
     "output_type": "stream",
     "text": [
      "8it [00:25,  2.78s/it, BLEU2=0.26, BLEU1=0.336, ExactMatch=0, METEOR=0.55, BertScore=nan, StubScore=0] "
     ]
    },
    {
     "name": "stdout",
     "output_type": "stream",
     "text": [
      "True\n",
      "Джордж Харрисон заявил, что Битлз прослушали альбом Freewheelin' Bob Dylan до дыр.\n",
      "Кумиры британской публики The Beatles заслушали альбом Freewheelin Bob Dylan до дыр.\n",
      "[0, 0]\n",
      "False\n",
      "Битлз стали примером для подражания, экспериментируя с песнями и усложняя свой репертуар.\n",
      "По примеру Дилана битлы стали экспериментировать с песнями и усложнять свой репертуар.\n"
     ]
    },
    {
     "name": "stderr",
     "output_type": "stream",
     "text": [
      "9it [00:28,  3.09s/it, BLEU2=0.26, BLEU1=0.336, ExactMatch=0, METEOR=0.55, BertScore=nan, StubScore=0]"
     ]
    },
    {
     "name": "stdout",
     "output_type": "stream",
     "text": [
      "[0, 0, 0]\n"
     ]
    },
    {
     "name": "stderr",
     "output_type": "stream",
     "text": [
      "10it [00:31,  2.78s/it, BLEU2=0.279, BLEU1=0.347, ExactMatch=0, METEOR=0.601, BertScore=nan, StubScore=0]"
     ]
    },
    {
     "name": "stdout",
     "output_type": "stream",
     "text": [
      "True\n",
      "Слова песен Дилана становятся все более литературными и утонченными под влиянием чтения Джона Китса и Артюра Рембо.\n",
      "Под влиянием чтения Джона Китса и Артюра Рембо.\n",
      "[0, 0, 0]\n"
     ]
    },
    {
     "name": "stderr",
     "output_type": "stream",
     "text": [
      "11it [00:32,  2.46s/it, BLEU2=0.264, BLEU1=0.327, ExactMatch=0, METEOR=0.597, BertScore=nan, StubScore=0]"
     ]
    },
    {
     "name": "stdout",
     "output_type": "stream",
     "text": [
      "True\n",
      "Первый англоязычный театр, который получил награду Канадского института искусств молодежи, - это Театр для молодежи Манитобы.\n",
      "Манитобский театр юного зрителя получил награду Канадского Института Искусств Молодёжи.\n",
      "[0, 0, 0]\n"
     ]
    },
    {
     "name": "stderr",
     "output_type": "stream",
     "text": [
      "12it [00:33,  2.09s/it, BLEU2=0.28, BLEU1=0.346, ExactMatch=0, METEOR=0.596, BertScore=nan, StubScore=0] "
     ]
    },
    {
     "name": "stdout",
     "output_type": "stream",
     "text": [
      "True\n",
      "Название старейшего франкоязычного театра в Канаде - Le Cercle Molière.\n",
      "Старейший франкоязычный театр в Канаде называется Le Cercle Molière.\n",
      "[0, 0, 0]\n"
     ]
    },
    {
     "name": "stderr",
     "output_type": "stream",
     "text": [
      "13it [00:36,  2.22s/it, BLEU2=0.288, BLEU1=0.353, ExactMatch=0, METEOR=0.604, BertScore=nan, StubScore=0]"
     ]
    },
    {
     "name": "stdout",
     "output_type": "stream",
     "text": [
      "True\n",
      "Театр, который является старейшим в Канаде англоязычным региональным театром, - это Театр Манитобы (основан в 1958 году).\n",
      "Театральный центр Манитобы является старейшим в Канаде англоязычным региональным театром.\n",
      "[0, 0, 0]\n",
      "False\n",
      "Первые телеграфные столбы были установлены в 1832 году, когда российский ученый Павел Львович Шиллинг создал первый электромагнитный телеграф.\n",
      "Нет информации\n"
     ]
    },
    {
     "name": "stderr",
     "output_type": "stream",
     "text": [
      "14it [00:41,  3.00s/it, BLEU2=0.288, BLEU1=0.353, ExactMatch=0, METEOR=0.604, BertScore=nan, StubScore=0]"
     ]
    },
    {
     "name": "stdout",
     "output_type": "stream",
     "text": [
      "[0, 0, 0, 0]\n"
     ]
    },
    {
     "name": "stderr",
     "output_type": "stream",
     "text": [
      "15it [00:42,  2.55s/it, BLEU2=0.302, BLEU1=0.362, ExactMatch=0, METEOR=0.599, BertScore=nan, StubScore=0]"
     ]
    },
    {
     "name": "stdout",
     "output_type": "stream",
     "text": [
      "True\n",
      "Художественная галерея Виннипега насчитывает более 20 000 произведений.\n",
      "Художественная галерея Виннипега насчитывает более 20 тысяч работ манитобских и канадских художников.\n",
      "[0, 0, 0, 0]\n"
     ]
    },
    {
     "name": "stderr",
     "output_type": "stream",
     "text": [
      "16it [00:44,  2.15s/it, BLEU2=0.316, BLEU1=0.377, ExactMatch=0, METEOR=0.603, BertScore=nan, StubScore=0]"
     ]
    },
    {
     "name": "stdout",
     "output_type": "stream",
     "text": [
      "True\n",
      "В Театре для молодежи Манитобы ставятся пьесы для детей и подростков.\n",
      "В Манитобском театре юного зрителя играют пьесы для детей и подростков.\n",
      "[0, 0, 0, 0]\n"
     ]
    },
    {
     "name": "stderr",
     "output_type": "stream",
     "text": [
      "17it [00:45,  1.99s/it, BLEU2=0.323, BLEU1=0.39, ExactMatch=0, METEOR=0.623, BertScore=nan, StubScore=0] "
     ]
    },
    {
     "name": "stdout",
     "output_type": "stream",
     "text": [
      "True\n",
      "Платон изображен в образе Леонардо да Винчи на фреске \"Афинская школа\".\n",
      "На фреске Афинская школа Платон написан в образе Леонардо да Винчи.\n",
      "[0, 0, 0, 0]\n"
     ]
    },
    {
     "name": "stderr",
     "output_type": "stream",
     "text": [
      "18it [00:46,  1.78s/it, BLEU2=0.3, BLEU1=0.362, ExactMatch=0, METEOR=0.583, BertScore=nan, StubScore=0] "
     ]
    },
    {
     "name": "stdout",
     "output_type": "stream",
     "text": [
      "True\n",
      "Рафаэль изобразил себя в образе философа Платона в композиции \"Афинская школа\".\n",
      "Птолемей очень похож на автора фрески.\n",
      "[0, 0, 0, 0]\n"
     ]
    },
    {
     "name": "stderr",
     "output_type": "stream",
     "text": [
      "19it [00:56,  4.02s/it, BLEU2=0.29, BLEU1=0.354, ExactMatch=0, METEOR=0.572, BertScore=nan, StubScore=0]"
     ]
    },
    {
     "name": "stdout",
     "output_type": "stream",
     "text": [
      "True\n",
      "На фреске \"Афинская школа\" изображены древние философы, многие из которых изображены с чертами своих современников, такие как Леонардо да Винчи, изображенный как Платон, и Микеланджело, изображенный как Гераклит. На картине представлены мудрецы со всего мира, участвующие в дебатах на различные темы. Среди них Сократ, изображенный с миской, сидит на ступенях, и астрологи, геометры, чертящие фигуры и символы циркулем на табличках, также изображены.\n",
      "На фреске Афинская школа представлены древние философы, многим из которых Рафаэль придал черты своих современников, например, Платон написан в образе Леонардо да Винчи, Гераклит в образе Микеланджело, а стоящий у правого края Птолемей очень похож на автора фрески.\n",
      "[0, 0, 0, 0]\n"
     ]
    },
    {
     "name": "stderr",
     "output_type": "stream",
     "text": [
      "20it [00:57,  3.18s/it, BLEU2=0.323, BLEU1=0.388, ExactMatch=0, METEOR=0.593, BertScore=nan, StubScore=0]"
     ]
    },
    {
     "name": "stdout",
     "output_type": "stream",
     "text": [
      "True\n",
      "На фреске \"Афинская школа\" Рафаэля изображено около 50 персонажей.\n",
      "На фреске \"Афинская школа\" Рафаэля присутствует около 50 персонажей.\n",
      "[0, 0, 0, 0]\n"
     ]
    },
    {
     "name": "stderr",
     "output_type": "stream",
     "text": [
      "21it [00:58,  2.55s/it, BLEU2=0.304, BLEU1=0.365, ExactMatch=0, METEOR=0.568, BertScore=nan, StubScore=0]"
     ]
    },
    {
     "name": "stdout",
     "output_type": "stream",
     "text": [
      "True\n",
      "Рафаэль использовал черты Микеланджело при написании Гераклита.\n",
      "Гераклит написан в образе Микеланджело.\n",
      "[0, 0, 0, 0]\n"
     ]
    },
    {
     "name": "stderr",
     "output_type": "stream",
     "text": [
      "22it [01:00,  2.36s/it, BLEU2=0.313, BLEU1=0.377, ExactMatch=0, METEOR=0.574, BertScore=nan, StubScore=0]"
     ]
    },
    {
     "name": "stdout",
     "output_type": "stream",
     "text": [
      "True\n",
      "Бхагавад-гита учит, что корень всех страданий - это возбужденный эгоистическими желаниями ум.\n",
      "Кришна учит, что корнем всех страданий является возбуждённый эгоистическими желаниями ум.\n",
      "[0, 0, 0, 0]\n"
     ]
    },
    {
     "name": "stderr",
     "output_type": "stream",
     "text": [
      "23it [01:01,  1.97s/it, BLEU2=0.349, BLEU1=0.41, ExactMatch=0.0526, METEOR=0.596, BertScore=nan, StubScore=0]"
     ]
    },
    {
     "name": "stdout",
     "output_type": "stream",
     "text": [
      "True\n",
      "Согласно Бхагавад-гите, все действия должны быть посвящены Богу.\n",
      "Согласно Бхагавад-гите, все действия должны быть посвящены Богу.\n",
      "[0, 0, 0, 0]\n"
     ]
    },
    {
     "name": "stderr",
     "output_type": "stream",
     "text": [
      "24it [01:03,  2.01s/it, BLEU2=0.344, BLEU1=0.405, ExactMatch=0.05, METEOR=0.598, BertScore=nan, StubScore=0] "
     ]
    },
    {
     "name": "stdout",
     "output_type": "stream",
     "text": [
      "True\n",
      "Согласно Бхагавадгите, пламя желаний можно усмирить, контролируя ум через самодисциплину и участие в возвышенных духовных практиках.\n",
      "Согласно Бхагавадгите, усмирить пламя желаний можно посредством самодисциплины.\n",
      "[0, 0, 0, 0]\n"
     ]
    },
    {
     "name": "stderr",
     "output_type": "stream",
     "text": [
      "25it [01:05,  1.90s/it, BLEU2=0.362, BLEU1=0.422, ExactMatch=0.0476, METEOR=0.611, BertScore=nan, StubScore=0]"
     ]
    },
    {
     "name": "stdout",
     "output_type": "stream",
     "text": [
      "True\n",
      "Бхагавад-гита описывает йогу как контроль ума, искусство деятельности и осознание высшей природы души.\n",
      "Бхагавадгита описывает йогу как контроль ума, искусство деятельности, осознание высшей природы души.\n",
      "[0, 0, 0, 0]\n"
     ]
    },
    {
     "name": "stderr",
     "output_type": "stream",
     "text": [
      "26it [01:07,  2.01s/it, BLEU2=0.382, BLEU1=0.441, ExactMatch=0.0455, METEOR=0.623, BertScore=nan, StubScore=0]"
     ]
    },
    {
     "name": "stdout",
     "output_type": "stream",
     "text": [
      "True\n",
      "Согласно Бхагавад-гите, высшая цель - это освобождение ума и разума от материальной деятельности и их сосредоточение на духовном уровне через посвящение всех действий Богу.\n",
      "Согласно Бхагавад-гите, высшей целью является освобождение ума и разума от материальной деятельности и их сосредоточение на духовном уровне через посвящение всех действий Богу.\n",
      "[0, 0, 0, 0]\n",
      "False\n",
      "В России много населенных пунктов, особенно в Северо-Западном регионе.\n",
      "В области земель Колхиды.\n"
     ]
    },
    {
     "name": "stderr",
     "output_type": "stream",
     "text": [
      "27it [01:10,  2.32s/it, BLEU2=0.382, BLEU1=0.441, ExactMatch=0.0455, METEOR=0.623, BertScore=nan, StubScore=0]"
     ]
    },
    {
     "name": "stdout",
     "output_type": "stream",
     "text": [
      "[0, 0, 0, 0, 0]\n"
     ]
    },
    {
     "name": "stderr",
     "output_type": "stream",
     "text": [
      "28it [01:11,  1.93s/it, BLEU2=0.379, BLEU1=0.439, ExactMatch=0.0435, METEOR=0.626, BertScore=nan, StubScore=0]"
     ]
    },
    {
     "name": "stdout",
     "output_type": "stream",
     "text": [
      "True\n",
      "На греческом языке укрепление называлось Котиаион.\n",
      "Укрепление на греческом языке в то время называлось Котиаион.\n",
      "[0, 0, 0, 0, 0]\n"
     ]
    },
    {
     "name": "stderr",
     "output_type": "stream",
     "text": [
      "29it [01:12,  1.76s/it, BLEU2=0.363, BLEU1=0.428, ExactMatch=0.0417, METEOR=0.621, BertScore=nan, StubScore=0]"
     ]
    },
    {
     "name": "stdout",
     "output_type": "stream",
     "text": [
      "True\n",
      "Река, протекающая через Кутаиси, называется Рион.\n",
      "В Кутаиси протекает река Рион.\n",
      "[0, 0, 0, 0, 0]\n"
     ]
    },
    {
     "name": "stderr",
     "output_type": "stream",
     "text": [
      "30it [01:13,  1.51s/it, BLEU2=0.367, BLEU1=0.433, ExactMatch=0.04, METEOR=0.63, BertScore=nan, StubScore=0]   "
     ]
    },
    {
     "name": "stdout",
     "output_type": "stream",
     "text": [
      "True\n",
      "В охране вместе с лазами принимали участие римские солдаты.\n",
      "Римские воины принимали участие в охране вместе с лазами.\n",
      "[0, 0, 0, 0, 0]\n"
     ]
    },
    {
     "name": "stderr",
     "output_type": "stream",
     "text": [
      "31it [01:15,  1.58s/it, BLEU2=0.371, BLEU1=0.436, ExactMatch=0.0385, METEOR=0.639, BertScore=nan, StubScore=0]"
     ]
    },
    {
     "name": "stdout",
     "output_type": "stream",
     "text": [
      "True\n",
      "Фильм \"Абсолютные новички\" вышел в 1986 году.\n",
      "Рок-музыкальный фильм Абсолютные новички вышел в 1986 году.\n",
      "[0, 0, 0, 0, 0]\n"
     ]
    },
    {
     "name": "stderr",
     "output_type": "stream",
     "text": [
      "32it [01:18,  1.85s/it, BLEU2=0.377, BLEU1=0.444, ExactMatch=0.037, METEOR=0.64, BertScore=nan, StubScore=0]  "
     ]
    },
    {
     "name": "stdout",
     "output_type": "stream",
     "text": [
      "True\n",
      "Дэвид Боуи сыграл короля гоблинов Джарета в фильме \"Лабиринт\" в 1986 году.\n",
      "Дэвид Боуи снялся в роли короля гоблинов Джарета в фильме Лабиринт.\n",
      "[0, 0, 0, 0, 0]\n"
     ]
    },
    {
     "name": "stderr",
     "output_type": "stream",
     "text": [
      "33it [01:20,  1.92s/it, BLEU2=0.388, BLEU1=0.457, ExactMatch=0.0357, METEOR=0.652, BertScore=nan, StubScore=0]"
     ]
    },
    {
     "name": "stdout",
     "output_type": "stream",
     "text": [
      "True\n",
      "Фильм Мартина Скорсезе \"Последнее искушение Христа\" вышел в 1988 году.\n",
      "Фильм Мартина Скорсезе Последнее искушение Христа вышел в 1988 году.\n",
      "[0, 0, 0, 0, 0]\n"
     ]
    },
    {
     "name": "stderr",
     "output_type": "stream",
     "text": [
      "34it [01:23,  2.21s/it, BLEU2=0.389, BLEU1=0.459, ExactMatch=0.0345, METEOR=0.662, BertScore=nan, StubScore=0]"
     ]
    },
    {
     "name": "stdout",
     "output_type": "stream",
     "text": [
      "True\n",
      "Дэвид Боуи сыграл Понтия Пилата в фильме Мартина Скорсезе \"Последнее искушение Христа\" в 1988 году.\n",
      "В фильме Мартина Скорсезе Последнее искушение Христа Дэвид Боуи сыграл Понтия Пилата.\n",
      "[0, 0, 0, 0, 0]\n"
     ]
    },
    {
     "name": "stderr",
     "output_type": "stream",
     "text": [
      "35it [01:26,  2.54s/it, BLEU2=0.401, BLEU1=0.472, ExactMatch=0.0333, METEOR=0.668, BertScore=nan, StubScore=0]"
     ]
    },
    {
     "name": "stdout",
     "output_type": "stream",
     "text": [
      "True\n",
      "Дэвид Боуи рассматривался на роль Джокера в фильме Тима Бертона и Сэма Хэмма \"Бэтмен\" в 1989 году.\n",
      "Дэвида Боуи рассматривали на роль Джокера в фильме Тима Бёртона и Сэма Хэмма \"Бэтмен\" в 1989 году.\n",
      "[0, 0, 0, 0, 0]\n"
     ]
    },
    {
     "name": "stderr",
     "output_type": "stream",
     "text": [
      "36it [01:26,  1.86s/it, BLEU2=0.388, BLEU1=0.456, ExactMatch=0.0323, METEOR=0.648, BertScore=nan, StubScore=0]"
     ]
    },
    {
     "name": "stdout",
     "output_type": "stream",
     "text": [
      "True\n",
      "Георгики\n",
      "Георгики считаются самым совершенным по чистоте и поэтической законченности стиха произведением.\n",
      "[0, 0, 0, 0, 0]\n"
     ]
    },
    {
     "name": "stderr",
     "output_type": "stream",
     "text": [
      "37it [01:28,  1.77s/it, BLEU2=0.376, BLEU1=0.447, ExactMatch=0.0312, METEOR=0.636, BertScore=nan, StubScore=0]"
     ]
    },
    {
     "name": "stdout",
     "output_type": "stream",
     "text": [
      "True\n",
      "Георгики Вергилия выступают против распространения атеизма и поддерживают идею высшей силы, управляющей людьми.\n",
      "Георгики служат протестом против республики атеизма.\n",
      "[0, 0, 0, 0, 0]\n"
     ]
    },
    {
     "name": "stderr",
     "output_type": "stream",
     "text": [
      "38it [01:29,  1.61s/it, BLEU2=0.369, BLEU1=0.438, ExactMatch=0.0303, METEOR=0.625, BertScore=nan, StubScore=0]"
     ]
    },
    {
     "name": "stdout",
     "output_type": "stream",
     "text": [
      "True\n",
      "Поэт часто сравнивает детали сельскохозяйственной жизни с военной жизнью.\n",
      "Земледелие в глазах Вергилия - святая война людей против земли, и он часто сравнивает подробности земледельческого быта с военной жизнью.\n",
      "[0, 0, 0, 0, 0]\n"
     ]
    },
    {
     "name": "stderr",
     "output_type": "stream",
     "text": [
      "39it [01:30,  1.50s/it, BLEU2=0.358, BLEU1=0.43, ExactMatch=0.0294, METEOR=0.612, BertScore=nan, StubScore=0] "
     ]
    },
    {
     "name": "stdout",
     "output_type": "stream",
     "text": [
      "True\n",
      "Персонаж Вергилия наиболее ярко проявился в \"Георгиках\".\n",
      "Характер поэта глубже всего отразился в Георгиках.\n",
      "[0, 0, 0, 0, 0]\n"
     ]
    },
    {
     "name": "stderr",
     "output_type": "stream",
     "text": [
      "40it [01:31,  1.37s/it, BLEU2=0.361, BLEU1=0.433, ExactMatch=0.0286, METEOR=0.614, BertScore=nan, StubScore=0]"
     ]
    },
    {
     "name": "stdout",
     "output_type": "stream",
     "text": [
      "True\n",
      "В глазах Вергилия, труд - это священная война людей против земли.\n",
      "Земледелие, в глазах Вергилия, есть святая война людей против земли.\n",
      "[0, 0, 0, 0, 0]\n",
      "False\n",
      "А.Ф. Самойлов ввел понятие \"воспроизводственной концепции\" в области экономики.\n",
      "А.Ф. Самойлов ввел понятие \"власть воли\".\n"
     ]
    },
    {
     "name": "stderr",
     "output_type": "stream",
     "text": [
      "41it [01:35,  2.01s/it, BLEU2=0.361, BLEU1=0.433, ExactMatch=0.0286, METEOR=0.614, BertScore=nan, StubScore=0]"
     ]
    },
    {
     "name": "stdout",
     "output_type": "stream",
     "text": [
      "[0, 0, 0, 0, 0, 0]\n"
     ]
    },
    {
     "name": "stderr",
     "output_type": "stream",
     "text": [
      "42it [01:40,  2.97s/it, BLEU2=0.364, BLEU1=0.436, ExactMatch=0.0278, METEOR=0.622, BertScore=nan, StubScore=0]"
     ]
    },
    {
     "name": "stdout",
     "output_type": "stream",
     "text": [
      "True\n",
      "Резкое ограничение параметров жизни или даже отсутствие жизни означает нахождение в состоянии комы.\n",
      "Состояние комы означает резкое ограничение параметров жизни или даже отсутствие жизни.\n",
      "[0, 0, 0, 0, 0, 0]\n"
     ]
    },
    {
     "name": "stderr",
     "output_type": "stream",
     "text": [
      "43it [01:42,  2.62s/it, BLEU2=0.36, BLEU1=0.431, ExactMatch=0.027, METEOR=0.613, BertScore=nan, StubScore=0]  "
     ]
    },
    {
     "name": "stdout",
     "output_type": "stream",
     "text": [
      "True\n",
      "Жизнь определяется несколькими факторами, включая состояние внешней среды, власть воли индивидуума, внутренние вегетативные начала организма и неподвластные воле способности.\n",
      "Причинами, от которых зависит жизнь, являются: состояние внешней среды, власти воли индивидуума, внутренних вегетативных начал организма, неподвластных власти воли.\n",
      "[0, 0, 0, 0, 0, 0]\n"
     ]
    },
    {
     "name": "stderr",
     "output_type": "stream",
     "text": [
      "44it [01:46,  3.11s/it, BLEU2=0.352, BLEU1=0.421, ExactMatch=0.0263, METEOR=0.601, BertScore=nan, StubScore=0]"
     ]
    },
    {
     "name": "stdout",
     "output_type": "stream",
     "text": [
      "True\n",
      "Жизнь - это активная форма существования материи, характеризующаяся различными физическими и химическими процессами, происходящими в живых организмах. Это включает в себя способность живых организмов приспосабливаться к окружающей среде, общаться, вести себя и мыслить в различных сферах. Образ жизни человека представляет собой устоявшиеся формы его индивидуальной и коллективной жизнедеятельности, типичные для конкретно-исторических социально-экономических отношений.\n",
      "Жизнь - это замкнутый круг рефлекторной деятельности, который зависит от состояния внешней среды, власти воли индивидуума, внутренних вегетативных начал организма, неподвластных власти воли.\n",
      "[0, 0, 0, 0, 0, 0]\n",
      "False\n",
      "У меня нет ответа на ваш вопрос.\n",
      "Уолтера Кёнига не пригласили для озвучивания персонажа в фильме.\n"
     ]
    },
    {
     "name": "stderr",
     "output_type": "stream",
     "text": [
      "45it [01:48,  2.71s/it, BLEU2=0.352, BLEU1=0.421, ExactMatch=0.0263, METEOR=0.601, BertScore=nan, StubScore=0.143]"
     ]
    },
    {
     "name": "stdout",
     "output_type": "stream",
     "text": [
      "[0, 0, 0, 0, 0, 0, 1]\n"
     ]
    },
    {
     "name": "stderr",
     "output_type": "stream",
     "text": [
      "46it [01:51,  2.98s/it, BLEU2=0.349, BLEU1=0.418, ExactMatch=0.0256, METEOR=0.604, BertScore=nan, StubScore=0.143]"
     ]
    },
    {
     "name": "stdout",
     "output_type": "stream",
     "text": [
      "True\n",
      "Звёздный путь: Анимационный сериал (англ. Star Trek: The Animated Series) - это анимационный фильм, созданный Filmation на основе оригинального сериала Звёздный путь и включающий два сезона (22 получасовых эпизода).\n",
      "На английском Звёздный путь: Анимационный сериал звучит Star Trek: The Animated Series.\n",
      "[0, 0, 0, 0, 0, 0, 1]\n",
      "False\n",
      "В предоставленном тексте не упоминается конкретный сценарий или проект, над которым работали люди. Однако в нем говорится о работе братьев Люмьер, Луи и Огюста, вместе с их младшим братом Огюстом над изобретением техники под названием синематограф. Они также работали с инженером Жюлем Карпантье над созданием первого проекционного аппарата для демонстрации их фильмов.\n",
      "Известные зарубежные фантасты того времени были подключены к работе над сценарием.\n"
     ]
    },
    {
     "name": "stderr",
     "output_type": "stream",
     "text": [
      "47it [01:59,  4.49s/it, BLEU2=0.349, BLEU1=0.418, ExactMatch=0.0256, METEOR=0.604, BertScore=nan, StubScore=0.125]"
     ]
    },
    {
     "name": "stdout",
     "output_type": "stream",
     "text": [
      "[0, 0, 0, 0, 0, 0, 1, 0]\n"
     ]
    },
    {
     "name": "stderr",
     "output_type": "stream",
     "text": [
      "48it [02:02,  3.93s/it, BLEU2=0.345, BLEU1=0.413, ExactMatch=0.025, METEOR=0.606, BertScore=nan, StubScore=0.125] "
     ]
    },
    {
     "name": "stdout",
     "output_type": "stream",
     "text": [
      "True\n",
      "Звёздный путь: Анимационный сериал был создан на основе оригинального сериала Звёздного пути и включал в себя два сезона, в общей сложности 22 эпизода.\n",
      "Звёздный путь: Анимационный сериал создан по мотивам Оригинального сериала.\n",
      "[0, 0, 0, 0, 0, 0, 1, 0]\n"
     ]
    },
    {
     "name": "stderr",
     "output_type": "stream",
     "text": [
      "49it [02:03,  3.03s/it, BLEU2=0.346, BLEU1=0.413, ExactMatch=0.0244, METEOR=0.604, BertScore=nan, StubScore=0.125]"
     ]
    },
    {
     "name": "stdout",
     "output_type": "stream",
     "text": [
      "True\n",
      "Звёздный путь: Анимационный сериал состоит из двух сезонов.\n",
      "Звёздный путь: Анимационный сериал включает в себя два сезона.\n",
      "[0, 0, 0, 0, 0, 0, 1, 0]\n"
     ]
    },
    {
     "name": "stderr",
     "output_type": "stream",
     "text": [
      "50it [02:04,  2.47s/it, BLEU2=0.351, BLEU1=0.417, ExactMatch=0.0238, METEOR=0.607, BertScore=nan, StubScore=0.125]"
     ]
    },
    {
     "name": "stdout",
     "output_type": "stream",
     "text": [
      "True\n",
      "Имя звездолета исследовательской миссии в Star Trek: Phase II - USS Enterprise.\n",
      "Звездолет исследовательской миссии в Star Trek: Phase II называется Энтерпрайз.\n",
      "[0, 0, 0, 0, 0, 0, 1, 0]\n"
     ]
    },
    {
     "name": "stderr",
     "output_type": "stream",
     "text": [
      "51it [02:05,  2.13s/it, BLEU2=0.354, BLEU1=0.42, ExactMatch=0.0233, METEOR=0.61, BertScore=nan, StubScore=0.125]  "
     ]
    },
    {
     "name": "stdout",
     "output_type": "stream",
     "text": [
      "True\n",
      "Компания, которая задумала Star Trek: Phase II, была Paramount Television Network.\n",
      "Star Trek: Phase II был задуман компанией Paramount Television Network.\n",
      "[0, 0, 0, 0, 0, 0, 1, 0]\n"
     ]
    },
    {
     "name": "stderr",
     "output_type": "stream",
     "text": [
      "52it [02:09,  2.49s/it, BLEU2=0.351, BLEU1=0.416, ExactMatch=0.0227, METEOR=0.612, BertScore=nan, StubScore=0.125]"
     ]
    },
    {
     "name": "stdout",
     "output_type": "stream",
     "text": [
      "True\n",
      "Фаза 2 должна была стать продолжением оригинального сериала \"Звёздный путь\" и рассказать о ещё одной пятилетней миссии на корабле \"Энтерпрайз\". Экипаж, за исключением Спока, должен был остаться прежним.\n",
      "Согласно сценарию, Фаза 2 должна была стать продолжением Оригинального сериала.\n",
      "[0, 0, 0, 0, 0, 0, 1, 0]\n"
     ]
    },
    {
     "name": "stderr",
     "output_type": "stream",
     "text": [
      "53it [02:10,  2.21s/it, BLEU2=0.362, BLEU1=0.427, ExactMatch=0.0222, METEOR=0.62, BertScore=nan, StubScore=0.125] "
     ]
    },
    {
     "name": "stdout",
     "output_type": "stream",
     "text": [
      "True\n",
      "Сценарий для 12 эпизодов Star Trek: Phase II был готов в 1978 году.\n",
      "Сценарий 12 эпизодов Star Trek: Phase II был готов в 1978 году.\n",
      "[0, 0, 0, 0, 0, 0, 1, 0]\n"
     ]
    },
    {
     "name": "stderr",
     "output_type": "stream",
     "text": [
      "54it [02:12,  1.99s/it, BLEU2=0.354, BLEU1=0.42, ExactMatch=0.0217, METEOR=0.617, BertScore=nan, StubScore=0.125]"
     ]
    },
    {
     "name": "stdout",
     "output_type": "stream",
     "text": [
      "True\n",
      "Листья чая, цветки зверобоя и шафран используются для окрашивания меда.\n",
      "Для окрашивания искусственного мёда.\n",
      "[0, 0, 0, 0, 0, 0, 1, 0]\n"
     ]
    },
    {
     "name": "stderr",
     "output_type": "stream",
     "text": [
      "55it [02:13,  1.86s/it, BLEU2=0.35, BLEU1=0.419, ExactMatch=0.0213, METEOR=0.613, BertScore=nan, StubScore=0.125]"
     ]
    },
    {
     "name": "stdout",
     "output_type": "stream",
     "text": [
      "True\n",
      "Искусственный мед также может быть произведен из арбузного, дынного сока и других сахаросодержащих веществ.\n",
      "Ещё искусственный мёд производят из сока арбузов, дыни и других сахаристых веществ.\n",
      "[0, 0, 0, 0, 0, 0, 1, 0]\n"
     ]
    },
    {
     "name": "stderr",
     "output_type": "stream",
     "text": [
      "56it [02:15,  1.94s/it, BLEU2=0.356, BLEU1=0.424, ExactMatch=0.0208, METEOR=0.618, BertScore=nan, StubScore=0.125]"
     ]
    },
    {
     "name": "stdout",
     "output_type": "stream",
     "text": [
      "True\n",
      "При добавлении небольшого количества натурального пчелиного мёда к искусственному мёду, он будет иметь слабый аромат и содержать небольшое количество ферментов.\n",
      "При добавлении натурального пчелиного мёда искусственный мёд будет иметь слабый аромат и содержать небольшое количество ферментов.\n",
      "[0, 0, 0, 0, 0, 0, 1, 0]\n"
     ]
    },
    {
     "name": "stderr",
     "output_type": "stream",
     "text": [
      "57it [02:20,  2.65s/it, BLEU2=0.352, BLEU1=0.42, ExactMatch=0.0204, METEOR=0.615, BertScore=nan, StubScore=0.125] "
     ]
    },
    {
     "name": "stdout",
     "output_type": "stream",
     "text": [
      "True\n",
      "Искусственный мед производится путем инверсии сахарозы в слабокислой среде, обычно с добавлением лимонной кислоты и других ароматизаторов меда. Процесс включает использование сахарозы, полученной из свекловичного или тростникового сахара, кукурузы, арбузного или дынного сока, среди других источников сахара.\n",
      "При помощи инверсии сахарозы в слабокислой среде (добавки лимонной кислоты и пр.).\n",
      "[0, 0, 0, 0, 0, 0, 1, 0]\n"
     ]
    },
    {
     "name": "stderr",
     "output_type": "stream",
     "text": [
      "58it [02:21,  2.26s/it, BLEU2=0.354, BLEU1=0.422, ExactMatch=0.02, METEOR=0.616, BertScore=nan, StubScore=0.125] "
     ]
    },
    {
     "name": "stdout",
     "output_type": "stream",
     "text": [
      "True\n",
      "Искусственный мед не содержит ферментов и не обладает ароматом, характерным для натурального меда.\n",
      "Искусственный мёд не имеет ферментов и не обладает ароматом, свойственным натуральному.\n",
      "[0, 0, 0, 0, 0, 0, 1, 0]\n"
     ]
    },
    {
     "name": "stderr",
     "output_type": "stream",
     "text": [
      "59it [02:24,  2.57s/it, BLEU2=0.353, BLEU1=0.42, ExactMatch=0.0196, METEOR=0.617, BertScore=nan, StubScore=0.125]"
     ]
    },
    {
     "name": "stdout",
     "output_type": "stream",
     "text": [
      "True\n",
      "\"История Рима\", опубликованная в трех томах в 1854, 1855 и 1856 годах, описывает римскую историю до падения республики и начала правления Юлия Цезаря.\n",
      "В Истории Рима описана римская история до падения республики и начала правления Юлия Цезаря ?\n",
      "[0, 0, 0, 0, 0, 0, 1, 0]\n"
     ]
    },
    {
     "name": "stderr",
     "output_type": "stream",
     "text": [
      "60it [02:25,  1.95s/it, BLEU2=0.355, BLEU1=0.425, ExactMatch=0.0192, METEOR=0.62, BertScore=nan, StubScore=0.125]"
     ]
    },
    {
     "name": "stdout",
     "output_type": "stream",
     "text": [
      "True\n",
      "История Рима была опубликована в трех томах.\n",
      "История Рима опубликована в четырёх томах.\n",
      "[0, 0, 0, 0, 0, 0, 1, 0]\n"
     ]
    },
    {
     "name": "stderr",
     "output_type": "stream",
     "text": [
      "You seem to be using the pipelines sequentially on GPU. In order to maximize efficiency please use a dataset\n"
     ]
    },
    {
     "name": "stdout",
     "output_type": "stream",
     "text": [
      "False\n",
      "В данном тексте нет информации о том, к кому Моммзен испытывал уважение.\n",
      "Моммзен очень уважал Цезаря.\n"
     ]
    },
    {
     "name": "stderr",
     "output_type": "stream",
     "text": [
      "61it [02:28,  2.34s/it, BLEU2=0.355, BLEU1=0.425, ExactMatch=0.0192, METEOR=0.62, BertScore=nan, StubScore=0.111]"
     ]
    },
    {
     "name": "stdout",
     "output_type": "stream",
     "text": [
      "[0, 0, 0, 0, 0, 0, 1, 0, 0]\n"
     ]
    },
    {
     "name": "stderr",
     "output_type": "stream",
     "text": [
      "62it [02:29,  1.94s/it, BLEU2=0.367, BLEU1=0.436, ExactMatch=0.0377, METEOR=0.627, BertScore=nan, StubScore=0.111]"
     ]
    },
    {
     "name": "stdout",
     "output_type": "stream",
     "text": [
      "True\n",
      "Моммзен сравнил политику Древнего Рима с состоянием государства в его время.\n",
      "Моммзен сравнил политику Древнего Рима с состоянием государства в его время.\n",
      "[0, 0, 0, 0, 0, 0, 1, 0, 0]\n"
     ]
    },
    {
     "name": "stderr",
     "output_type": "stream",
     "text": [
      "63it [02:36,  3.46s/it, BLEU2=0.36, BLEU1=0.428, ExactMatch=0.037, METEOR=0.619, BertScore=nan, StubScore=0.111]  "
     ]
    },
    {
     "name": "stdout",
     "output_type": "stream",
     "text": [
      "True\n",
      "Пятый том \"Истории Рима\" Моммзена, изначально называвшийся \"Лика\", считается самым важным томом, так как он описывает взросление и взросление главного героя, Алексея Арсеньева, через любовь. Этот опыт формирует из него художника и поэта. Пятый том объединяет черты женщин, которых Бунин любил в разные периоды своей жизни, включая его первую жену Анну Цакни и Варвару Пащенко, которая, по предположению, была прототипом Лики.\n",
      "В пятом томе Истории Рима Моммзена описывались римские провинции во время ранней империи.\n",
      "[0, 0, 0, 0, 0, 0, 1, 0, 0]\n"
     ]
    },
    {
     "name": "stderr",
     "output_type": "stream",
     "text": [
      "64it [02:38,  2.91s/it, BLEU2=0.357, BLEU1=0.424, ExactMatch=0.0364, METEOR=0.622, BertScore=nan, StubScore=0.111]"
     ]
    },
    {
     "name": "stdout",
     "output_type": "stream",
     "text": [
      "True\n",
      "Один из анилина, который давал синевато-красный оттенок, - это фуксин.\n",
      "Фуксин давал синевато-красный оттенок.\n",
      "[0, 0, 0, 0, 0, 0, 1, 0, 0]\n",
      "False\n",
      "Ультрамарин - это пигмент, который был синтезирован в 13 веке.\n",
      "В Средние века был синтезирован ультрамарин.\n"
     ]
    },
    {
     "name": "stderr",
     "output_type": "stream",
     "text": [
      "65it [02:41,  3.13s/it, BLEU2=0.357, BLEU1=0.424, ExactMatch=0.0364, METEOR=0.622, BertScore=nan, StubScore=0.1]  "
     ]
    },
    {
     "name": "stdout",
     "output_type": "stream",
     "text": [
      "[0, 0, 0, 0, 0, 0, 1, 0, 0, 0]\n",
      "False\n",
      "Натуральный индиго происходит из растения, называемого индигофера.\n",
      "Натуральное индиго было привезено из Америки.\n"
     ]
    },
    {
     "name": "stderr",
     "output_type": "stream",
     "text": [
      "66it [02:45,  3.27s/it, BLEU2=0.357, BLEU1=0.424, ExactMatch=0.0364, METEOR=0.622, BertScore=nan, StubScore=0.0909]"
     ]
    },
    {
     "name": "stdout",
     "output_type": "stream",
     "text": [
      "[0, 0, 0, 0, 0, 0, 1, 0, 0, 0, 0]\n"
     ]
    },
    {
     "name": "stderr",
     "output_type": "stream",
     "text": [
      "67it [02:47,  2.86s/it, BLEU2=0.364, BLEU1=0.432, ExactMatch=0.0357, METEOR=0.628, BertScore=nan, StubScore=0.0909]"
     ]
    },
    {
     "name": "stdout",
     "output_type": "stream",
     "text": [
      "True\n",
      "В конце XIX века после появления анилиновых красителей живописная палитра обогатилась несколькими синими красителями.\n",
      "После появления анилиновых красителей в конце XIX века живописная палитра обогатилась несколькими синими красителями.\n",
      "[0, 0, 0, 0, 0, 0, 1, 0, 0, 0, 0]\n"
     ]
    },
    {
     "name": "stderr",
     "output_type": "stream",
     "text": [
      "68it [02:48,  2.36s/it, BLEU2=0.364, BLEU1=0.432, ExactMatch=0.0351, METEOR=0.632, BertScore=nan, StubScore=0.0909]"
     ]
    },
    {
     "name": "stdout",
     "output_type": "stream",
     "text": [
      "True\n",
      "Практически единственным природным синим пигментом была ляпис-лазурь.\n",
      "Ляпис-лазурь являлась практически единственным природным синим пигментом.\n",
      "[0, 0, 0, 0, 0, 0, 1, 0, 0, 0, 0]\n"
     ]
    },
    {
     "name": "stderr",
     "output_type": "stream",
     "text": [
      "69it [02:49,  2.01s/it, BLEU2=0.361, BLEU1=0.429, ExactMatch=0.0345, METEOR=0.627, BertScore=nan, StubScore=0.0909]"
     ]
    },
    {
     "name": "stdout",
     "output_type": "stream",
     "text": [
      "True\n",
      "На северо-восточном углу кладбища в Клайпеде сохранились несколько могильных плит.\n",
      "В северо-восточном углу клайпедского кладбища уцелели могилы немцев и мемелендеров.\n",
      "[0, 0, 0, 0, 0, 0, 1, 0, 0, 0, 0]\n"
     ]
    },
    {
     "name": "stderr",
     "output_type": "stream",
     "text": [
      "70it [02:52,  2.12s/it, BLEU2=0.364, BLEU1=0.432, ExactMatch=0.0339, METEOR=0.63, BertScore=nan, StubScore=0.0909] "
     ]
    },
    {
     "name": "stdout",
     "output_type": "stream",
     "text": [
      "True\n",
      "Уникальные железные кресты, которые были украдены мародерами с разрушенного кладбища, были возвращены государству и сейчас находятся в Музее кузнечного дела.\n",
      "Уникальные железные кресты, которые были вынесены мародерами с разрушенного кладбища, находятся в Музее кузнечных изделий.\n",
      "[0, 0, 0, 0, 0, 0, 1, 0, 0, 0, 0]\n"
     ]
    },
    {
     "name": "stderr",
     "output_type": "stream",
     "text": [
      "71it [02:53,  2.00s/it, BLEU2=0.358, BLEU1=0.43, ExactMatch=0.0333, METEOR=0.631, BertScore=nan, StubScore=0.0909]"
     ]
    },
    {
     "name": "stdout",
     "output_type": "stream",
     "text": [
      "True\n",
      "До 1977 года на одном из кладбищ в Клайпеде хоронили немцев и мемеленцев.\n",
      "Немцев и мемелендеров хоронили на кладбищах до 1977 года.\n",
      "[0, 0, 0, 0, 0, 0, 1, 0, 0, 0, 0]\n"
     ]
    },
    {
     "name": "stderr",
     "output_type": "stream",
     "text": [
      "72it [02:55,  1.84s/it, BLEU2=0.354, BLEU1=0.426, ExactMatch=0.0328, METEOR=0.626, BertScore=nan, StubScore=0.0909]"
     ]
    },
    {
     "name": "stdout",
     "output_type": "stream",
     "text": [
      "True\n",
      "Намерения восстановить разрушенное кладбище отложены из-за нехватки средств.\n",
      "За отсутствием средств властям Клайпеды сегодня не удается восстановить разрушенное кладбище.\n",
      "[0, 0, 0, 0, 0, 0, 1, 0, 0, 0, 0]\n",
      "False\n",
      "Некоторые музыканты, которые помогли сформировать английский рок, включают в себя:\n",
      "\n",
      "1. Джимми Хендрикс - его уникальный подход к гитарной музыке оказал влияние на развитие хард-рока.\n",
      "2. Led Zeppelin - эта группа, наряду с другими, такими как Deep Purple, Black Sabbath и Queen, сыграла значительную роль в развитии и популярности хард-рока.\n",
      "3. The Beatles - их эксперименты с сочетанием традиционной рок-музыки с элементами классической и восточной музыки заложили основу для жанра прогрессивного рока.\n",
      "4. Pink Floyd - эта группа, наряду с другими, такими как Genesis и Uriah Heep, объединила прогрессивный рок с элементами прогрессивного рока, создавая сложные музыкальные структуры и включая в свою музыку различные стили.\n",
      "5. Джими Уэйн - как основатель группы Moody Blues, он сыграл значительную роль в развитии прогрессивного рока, смешивая рок с европейской классикой и создавая продолжительные композиции с продуманными структурами.\n",
      "\n",
      "Эти музыканты, а также многие другие, внесли свой вклад в формирование английского рока и его различных поджанров, таких как хард-рок и прогрессивный рок.\n",
      "Клифф Ричард, Лонни Донеган, Джонни Кидд сформировали английский рок.\n"
     ]
    },
    {
     "name": "stderr",
     "output_type": "stream",
     "text": [
      "73it [03:21,  9.23s/it, BLEU2=0.354, BLEU1=0.426, ExactMatch=0.0328, METEOR=0.626, BertScore=nan, StubScore=0.0833]"
     ]
    },
    {
     "name": "stdout",
     "output_type": "stream",
     "text": [
      "[0, 0, 0, 0, 0, 0, 1, 0, 0, 0, 0, 0]\n"
     ]
    },
    {
     "name": "stderr",
     "output_type": "stream",
     "text": [
      "74it [03:25,  7.50s/it, BLEU2=0.349, BLEU1=0.419, ExactMatch=0.0323, METEOR=0.617, BertScore=nan, StubScore=0.0833]"
     ]
    },
    {
     "name": "stdout",
     "output_type": "stream",
     "text": [
      "True\n",
      "Название первой группы, которая сформулировала русский рок, - \"Time Machines\" (на латинице, во множественном числе, в честь \"The Beatles\", \"The Rolling Stones\" и других западных групп).\n",
      "Группа называется Машина времени.\n",
      "[0, 0, 0, 0, 0, 0, 1, 0, 0, 0, 0, 0]\n",
      "False\n",
      "Настоящее начало русского рока можно проследить до 1970-х годов, когда появились различные группы и исполнители, которые помогли определить жанр. Некоторые из ключевых фигур и групп, связанных с зарождением русского рока, включают:\n",
      "\n",
      "1. Группа \"Машина Времени\" (Time Machine) - Образована в 1972 году, эта группа считается одной из самых влиятельных и популярных в истории русского рока. Они известны своими хитами, такими как \"Поворот\" (The Turn) и \"Мой друг\" (My Friend).\n",
      "\n",
      "2. Группа \"Аквариум\" (The Aquarium) - Образована в 1972 году, \"Аквариум\" под руководством Бориса Гребенщикова стал одной из самых значимых и инновационных групп в русском роке. Их музыка сочетает в себе элементы рока, фолка и психоделии, и они выпустили множество альбомов, получивших признание критиков.\n",
      "\n",
      "3. Группа \"Ария\" - Образована в 1975 году, \"Ария\" была одной из первых хэви-металлических групп в русском роке. Они известны своими энергичными выступлениями и песнями с мощным вокалом и гитарными соло.\n",
      "\n",
      "4. Группа \"Кино\" - Образована в 1982 году, \"Кино\" под руководством Виктора Цоя стала одной из самых популярных и влиятельных групп в русском роке. Их музыка сочетает в себе элементы панка, новой волны и рока, и их тексты часто затрагивают темы отчуждения и нонконформизма.\n",
      "\n",
      "5. Группа \"Наутилус-Помпилиус\" - Образована в 1986 году, \"Наутилус-Помпилиус\" была одной из самых успешных и популярных групп в русском роке 1980-х и 1990-х годов. Их музыка сочетает в себе элементы прогрессивного рока, фолка и мировой музыки, и их тексты часто затрагивают темы политики и социальных комментариев.\n",
      "\n",
      "Эти группы и исполнители, а также многие другие, помогли определить и популяризировать жанр русского рока, который с тех пор оказал значительное влияние на музыкальную сцену страны.\n",
      "Машина времени дала начало настоящему русскому року.\n"
     ]
    },
    {
     "name": "stderr",
     "output_type": "stream",
     "text": [
      "75it [04:17, 20.77s/it, BLEU2=0.349, BLEU1=0.419, ExactMatch=0.0323, METEOR=0.617, BertScore=nan, StubScore=0.154] "
     ]
    },
    {
     "name": "stdout",
     "output_type": "stream",
     "text": [
      "[0, 0, 0, 0, 0, 0, 1, 0, 0, 0, 0, 0, 1]\n",
      "False\n",
      "Машина времени смогла найти и ухватить успех и популярность в период 1976-1986 годов. Они стали популярными не только в Москве, но и по всей стране, и даже участвовали в новогодних огоньках.\n",
      "Темой или пафосом русского рока стало то, что удалось найти, ухватить Машине времени.\n"
     ]
    },
    {
     "name": "stderr",
     "output_type": "stream",
     "text": [
      "76it [04:22, 16.26s/it, BLEU2=0.349, BLEU1=0.419, ExactMatch=0.0323, METEOR=0.617, BertScore=nan, StubScore=0.143]"
     ]
    },
    {
     "name": "stdout",
     "output_type": "stream",
     "text": [
      "[0, 0, 0, 0, 0, 0, 1, 0, 0, 0, 0, 0, 1, 0]\n"
     ]
    },
    {
     "name": "stderr",
     "output_type": "stream",
     "text": [
      "77it [04:28, 13.22s/it, BLEU2=0.346, BLEU1=0.417, ExactMatch=0.0317, METEOR=0.617, BertScore=nan, StubScore=0.143]"
     ]
    },
    {
     "name": "stdout",
     "output_type": "stream",
     "text": [
      "True\n",
      "Рокеры в Москве, России и Прибалтике в СССР до Машины Времени занимались в основном эпигонством, то есть они пытались копировать или подражать звучанию и стилю известных групп, таких как The Beatles и Rolling Stones. Они не смогли найти тему или пафос русского рока, которые позже определила Машина Времени, ставшая уникальной группой в отечественной рок-музыке.\n",
      "Рокеры в Москве, и в России, и в Прибалтике в СССР до Машины времени занимались более или менее эпигонством.\n",
      "[0, 0, 0, 0, 0, 0, 1, 0, 0, 0, 0, 0, 1, 0]\n"
     ]
    },
    {
     "name": "stderr",
     "output_type": "stream",
     "text": [
      "78it [04:31, 10.05s/it, BLEU2=0.345, BLEU1=0.415, ExactMatch=0.0312, METEOR=0.62, BertScore=nan, StubScore=0.143] "
     ]
    },
    {
     "name": "stdout",
     "output_type": "stream",
     "text": [
      "True\n",
      "У Микеланджело была круглая голова с квадратным лбом, морщинистая, с сильно выраженными бровями.\n",
      "У Микеланджело была круглая голова.\n",
      "[0, 0, 0, 0, 0, 0, 1, 0, 0, 0, 0, 0, 1, 0]\n"
     ]
    },
    {
     "name": "stderr",
     "output_type": "stream",
     "text": [
      "79it [04:32,  7.40s/it, BLEU2=0.349, BLEU1=0.421, ExactMatch=0.0308, METEOR=0.623, BertScore=nan, StubScore=0.143]"
     ]
    },
    {
     "name": "stdout",
     "output_type": "stream",
     "text": [
      "True\n",
      "У Микеланджело были редкие бакенбарды.\n",
      "У Микеланджело были жиденькие бакенбарды.\n",
      "[0, 0, 0, 0, 0, 0, 1, 0, 0, 0, 0, 0, 1, 0]\n"
     ]
    },
    {
     "name": "stderr",
     "output_type": "stream",
     "text": [
      "80it [04:33,  5.51s/it, BLEU2=0.346, BLEU1=0.418, ExactMatch=0.0303, METEOR=0.62, BertScore=nan, StubScore=0.143] "
     ]
    },
    {
     "name": "stdout",
     "output_type": "stream",
     "text": [
      "True\n",
      "Усеянные желтыми и голубыми пятнышками.\n",
      "Желтыми и голубыми крапинками были усеяны глаза Микеланджело.\n",
      "[0, 0, 0, 0, 0, 0, 1, 0, 0, 0, 0, 0, 1, 0]\n"
     ]
    },
    {
     "name": "stderr",
     "output_type": "stream",
     "text": [
      "81it [04:36,  4.58s/it, BLEU2=0.349, BLEU1=0.42, ExactMatch=0.0299, METEOR=0.622, BertScore=nan, StubScore=0.143]"
     ]
    },
    {
     "name": "stdout",
     "output_type": "stream",
     "text": [
      "True\n",
      "У Микеланджело были светло-карие глаза, которые постоянно меняли цвет, с желтыми и голубыми пятнами.\n",
      "У Микеланджело были светло-карие глаза, усеянные желтыми и голубыми крапинками.\n",
      "[0, 0, 0, 0, 0, 0, 1, 0, 0, 0, 0, 0, 1, 0]\n"
     ]
    },
    {
     "name": "stderr",
     "output_type": "stream",
     "text": [
      "82it [04:38,  3.76s/it, BLEU2=0.348, BLEU1=0.418, ExactMatch=0.0294, METEOR=0.625, BertScore=nan, StubScore=0.143]"
     ]
    },
    {
     "name": "stdout",
     "output_type": "stream",
     "text": [
      "True\n",
      "Цвет глаз Микеланджело постоянно менялся, с желтыми и голубыми пятнами.\n",
      "Цвет глаз Микеланджело менялся постоянно.\n",
      "[0, 0, 0, 0, 0, 0, 1, 0, 0, 0, 0, 0, 1, 0]\n"
     ]
    },
    {
     "name": "stderr",
     "output_type": "stream",
     "text": [
      "83it [04:42,  3.98s/it, BLEU2=0.343, BLEU1=0.412, ExactMatch=0.029, METEOR=0.617, BertScore=nan, StubScore=0.143] "
     ]
    },
    {
     "name": "stdout",
     "output_type": "stream",
     "text": [
      "True\n",
      "Ранние композиции \"Машины\" имели хорошо отлаженную аранжировку, включающую куплеты, и различные музыкальные стили, такие как рок, кантри, городские романсы, традиционная музыка, и даже элементы эстрадной музыки ВИА.\n",
      "Оформленная аранжировка была найдена в ранних композициях „Машины“.\n",
      "[0, 0, 0, 0, 0, 0, 1, 0, 0, 0, 0, 0, 1, 0]\n"
     ]
    },
    {
     "name": "stderr",
     "output_type": "stream",
     "text": [
      "84it [04:47,  4.10s/it, BLEU2=0.339, BLEU1=0.408, ExactMatch=0.0286, METEOR=0.612, BertScore=nan, StubScore=0.143]"
     ]
    },
    {
     "name": "stdout",
     "output_type": "stream",
     "text": [
      "True\n",
      "Ранние композиции \"Машины\" были оформлены как готовые изделия, с полностью оформленной аранжировкой, взаимодействием куплетов и профессиональной вокальной подачей. Они представляли собой смесь влияния блюз-рока, кантри и махрового кантри.\n",
      "Ранние композиции „Машины“ были готовым продуктом.\n",
      "[0, 0, 0, 0, 0, 0, 1, 0, 0, 0, 0, 0, 1, 0]\n"
     ]
    },
    {
     "name": "stderr",
     "output_type": "stream",
     "text": [
      "85it [04:49,  3.73s/it, BLEU2=0.335, BLEU1=0.405, ExactMatch=0.0282, METEOR=0.608, BertScore=nan, StubScore=0.143]"
     ]
    },
    {
     "name": "stdout",
     "output_type": "stream",
     "text": [
      "True\n",
      "Ранние вещицы \"Машины\" выглядели как полноценные композиции, с оформленной аранжировкой, взаимодействием куплетов и хорошо исполненной вокальной подачей.\n",
      "Ранние вещицы „Машины“ формально выглядели зрелыми композициями.\n",
      "[0, 0, 0, 0, 0, 0, 1, 0, 0, 0, 0, 0, 1, 0]\n"
     ]
    },
    {
     "name": "stderr",
     "output_type": "stream",
     "text": [
      "86it [04:50,  2.75s/it, BLEU2=0.331, BLEU1=0.399, ExactMatch=0.0278, METEOR=0.601, BertScore=nan, StubScore=0.143]"
     ]
    },
    {
     "name": "stdout",
     "output_type": "stream",
     "text": [
      "True\n",
      "Машина Времени.\n",
      "Андрей во многом „задал фасон“ всего русского рока.\n",
      "[0, 0, 0, 0, 0, 0, 1, 0, 0, 0, 0, 0, 1, 0]\n"
     ]
    },
    {
     "name": "stderr",
     "output_type": "stream",
     "text": [
      "87it [04:53,  2.76s/it, BLEU2=0.332, BLEU1=0.4, ExactMatch=0.0274, METEOR=0.598, BertScore=nan, StubScore=0.143]  "
     ]
    },
    {
     "name": "stdout",
     "output_type": "stream",
     "text": [
      "True\n",
      "Ранние композиции \"Продавец счастья\", \"Солдат\" и \"Миллионеры\" были сформированы как зрелые композиции группой \"Машина времени\".\n",
      "Ранние композиции \"Машины времени\" - \"Продавец счастья\", \"Солдат\" и \"Миллионеры\" - формально выглядели зрелыми композициями.\n",
      "[0, 0, 0, 0, 0, 0, 1, 0, 0, 0, 0, 0, 1, 0]\n"
     ]
    },
    {
     "name": "stderr",
     "output_type": "stream",
     "text": [
      "88it [04:53,  2.10s/it, BLEU2=0.327, BLEU1=0.394, ExactMatch=0.027, METEOR=0.591, BertScore=nan, StubScore=0.143]"
     ]
    },
    {
     "name": "stdout",
     "output_type": "stream",
     "text": [
      "True\n",
      "Национальный и Пеньяроль.\n",
      "Команда Насьональ является лидером Уругвайского футбола.\n",
      "[0, 0, 0, 0, 0, 0, 1, 0, 0, 0, 0, 0, 1, 0]\n"
     ]
    },
    {
     "name": "stderr",
     "output_type": "stream",
     "text": [
      "89it [04:55,  2.00s/it, BLEU2=0.324, BLEU1=0.391, ExactMatch=0.0267, METEOR=0.586, BertScore=nan, StubScore=0.143]"
     ]
    },
    {
     "name": "stdout",
     "output_type": "stream",
     "text": [
      "True\n",
      "Пеньярол имеет наибольшее количество участий в финалах Кубка Либертадорес, с 12 из них.\n",
      "Команда Пеньяроль является рекордсменом по числу участий в финале\n",
      "[0, 0, 0, 0, 0, 0, 1, 0, 0, 0, 0, 0, 1, 0]\n"
     ]
    },
    {
     "name": "stderr",
     "output_type": "stream",
     "text": [
      "90it [04:56,  1.57s/it, BLEU2=0.32, BLEU1=0.386, ExactMatch=0.0263, METEOR=0.579, BertScore=nan, StubScore=0.143] "
     ]
    },
    {
     "name": "stdout",
     "output_type": "stream",
     "text": [
      "True\n",
      "Национальный и Пеньяроль.\n",
      "Команда Насьональ возглавляет сводную Кубка Либертадорес за всю историю турнира.\n",
      "[0, 0, 0, 0, 0, 0, 1, 0, 0, 0, 0, 0, 1, 0]\n"
     ]
    },
    {
     "name": "stderr",
     "output_type": "stream",
     "text": [
      "91it [04:57,  1.54s/it, BLEU2=0.318, BLEU1=0.384, ExactMatch=0.026, METEOR=0.58, BertScore=nan, StubScore=0.143] "
     ]
    },
    {
     "name": "stdout",
     "output_type": "stream",
     "text": [
      "True\n",
      "Националь и Пеньяроль выиграли в общей сложности 94 чемпионата Уругвая из 114.\n",
      "Команды выиграли 94 чемпионата Уругвая.\n",
      "[0, 0, 0, 0, 0, 0, 1, 0, 0, 0, 0, 0, 1, 0]\n"
     ]
    },
    {
     "name": "stderr",
     "output_type": "stream",
     "text": [
      "92it [04:58,  1.34s/it, BLEU2=0.318, BLEU1=0.384, ExactMatch=0.0256, METEOR=0.581, BertScore=nan, StubScore=0.143]"
     ]
    },
    {
     "name": "stdout",
     "output_type": "stream",
     "text": [
      "True\n",
      "В Уругвае было 114 футбольных чемпионатов.\n",
      "Всего в Уругвае было 114 чемпионатов по футболу.\n",
      "[0, 0, 0, 0, 0, 0, 1, 0, 0, 0, 0, 0, 1, 0]\n"
     ]
    },
    {
     "name": "stderr",
     "output_type": "stream",
     "text": [
      "93it [05:01,  1.79s/it, BLEU2=0.317, BLEU1=0.383, ExactMatch=0.0253, METEOR=0.578, BertScore=nan, StubScore=0.143]"
     ]
    },
    {
     "name": "stdout",
     "output_type": "stream",
     "text": [
      "True\n",
      "Национальное Рейтинговое Агентство отмечает улучшение качества активов, увеличение диверсификации портфеля заемщиков и направлений инвестирования, а также повышение эффективности бизнеса в ПАО КБ \"Уральский банк реконструкции и развития\".\n",
      "Национальное Рейтинговое Агентство отмечает улучшение показателей качества кредитов, сохранение невысокого уровня просроченной задолженности и ограниченную концентрацию портфеля на крупных заемщиках.\n",
      "[0, 0, 0, 0, 0, 0, 1, 0, 0, 0, 0, 0, 1, 0]\n"
     ]
    },
    {
     "name": "stderr",
     "output_type": "stream",
     "text": [
      "94it [05:03,  1.80s/it, BLEU2=0.324, BLEU1=0.39, ExactMatch=0.025, METEOR=0.583, BertScore=nan, StubScore=0.143]  "
     ]
    },
    {
     "name": "stdout",
     "output_type": "stream",
     "text": [
      "True\n",
      "Национальное Рейтинговое Агентство подтвердило рейтинг кредитоспособности ПАО КБ Уральский банк реконструкции и развития на уровне \"AA\" по национальной шкале.\n",
      "Национальное Рейтинговое Агентство подтвердило рейтинг кредитоспособности ПАО КБ Уральский банк реконструкции и развития на уровне АА по национальной шкале.\n",
      "[0, 0, 0, 0, 0, 0, 1, 0, 0, 0, 0, 0, 1, 0]\n"
     ]
    },
    {
     "name": "stderr",
     "output_type": "stream",
     "text": [
      "95it [05:04,  1.81s/it, BLEU2=0.322, BLEU1=0.388, ExactMatch=0.0247, METEOR=0.585, BertScore=nan, StubScore=0.143]"
     ]
    },
    {
     "name": "stdout",
     "output_type": "stream",
     "text": [
      "True\n",
      "Национальное Рейтинговое Агентство подтвердило рейтинг кредитоспособности ПАО КБ Уральский банк реконструкции и развития на уровне \"АА\" по национальной шкале.\n",
      "На уровне АА по национальной шкале.\n",
      "[0, 0, 0, 0, 0, 0, 1, 0, 0, 0, 0, 0, 1, 0]\n"
     ]
    },
    {
     "name": "stderr",
     "output_type": "stream",
     "text": [
      "96it [05:06,  1.88s/it, BLEU2=0.327, BLEU1=0.393, ExactMatch=0.0244, METEOR=0.59, BertScore=nan, StubScore=0.143] "
     ]
    },
    {
     "name": "stdout",
     "output_type": "stream",
     "text": [
      "True\n",
      "Национальное Рейтинговое Агентство подтвердило рейтинг кредитоспособности ПАО КБ \"Уральский банк реконструкции и развития\" на уровне АА по национальной шкале.\n",
      "Национальное Рейтинговое Агентство подтвердило рейтинг ПАО КБ Уральский банк реконструкции и развития на уровне АА по национальной шкале.\n",
      "[0, 0, 0, 0, 0, 0, 1, 0, 0, 0, 0, 0, 1, 0]\n"
     ]
    },
    {
     "name": "stderr",
     "output_type": "stream",
     "text": [
      "97it [05:16,  4.13s/it, BLEU2=0.324, BLEU1=0.39, ExactMatch=0.0241, METEOR=0.587, BertScore=nan, StubScore=0.143]"
     ]
    },
    {
     "name": "stdout",
     "output_type": "stream",
     "text": [
      "True\n",
      "Согласно информации из текста 1, факторы, которые положительно влияют на рейтинг банка, включают в себя:\n",
      "\n",
      "1. Успешную реализацию принятой долгосрочной стратегии.\n",
      "2. Сбалансированную структуру активов и обязательств.\n",
      "3. Высокую диверсификацию клиентской базы.\n",
      "4. Укрепление рыночных позиций.\n",
      "5. Рост эффективности бизнеса.\n",
      "6. Качество активов банка остается стабильным и улучшается.\n",
      "7. Диверсификация портфеля по заемщикам и направлениям инвестирования.\n",
      "8. Увеличение процентной маржи.\n",
      "9. Успешное снижение доли просроченной задолженности.\n",
      "10. Низкий уровень просроченной задолженности.\n",
      "11. Ограниченная концентрация портфеля на крупных заемщиках.\n",
      "12. Адекватная и достаточная текущая ликвидность.\n",
      "Успешная реализация принятой долгосрочной стратегии, сбалансированная структура активов и обязательств, высокая диверсификация клиентской базы, усиливающиеся рыночные позиции и растущая эффективность бизнеса.\n",
      "[0, 0, 0, 0, 0, 0, 1, 0, 0, 0, 0, 0, 1, 0]\n"
     ]
    },
    {
     "name": "stderr",
     "output_type": "stream",
     "text": [
      "98it [05:34,  8.28s/it, BLEU2=0.32, BLEU1=0.385, ExactMatch=0.0238, METEOR=0.582, BertScore=nan, StubScore=0.143]"
     ]
    },
    {
     "name": "stdout",
     "output_type": "stream",
     "text": [
      "True\n",
      "После завершения работы над своим последним крупным произведением, романом \"Обрыв\", Иван Александрович Гончаров столкнулся с трудной жизнью. Он был болен и одинок, часто впадал в депрессию. Несмотря на то, что он когда-то мечтал написать еще один роман, если здоровье позволит, он не приступил к этому из-за физических и моральных трудностей.\n",
      "\n",
      "Гончаров был известен своими романами, изображающими дореформенную Россию, которую он хорошо знал и понимал. Однако он признавал, что ему было сложнее понять процессы, происходившие в последующие годы, и не имел сил погрузиться в их изучение.\n",
      "\n",
      "В 1862 году Гончаров был приглашен на должность редактора газеты \"Северная почта\", а затем стал членом совета по делам печати. Он вернулся к цензурной деятельности, на этот раз с явно консервативной позицией. Он активно защищал правительственные устои и критиковал нигилизм, материализм, социализм и коммунизм. Однако в 1867 году он ушел в отставку по собственному желанию, выйдя на пенсию.\n",
      "После окончания работы над произведением жизнь Гончарова сложилась очень трудно.\n",
      "[0, 0, 0, 0, 0, 0, 1, 0, 0, 0, 0, 0, 1, 0]\n"
     ]
    },
    {
     "name": "stderr",
     "output_type": "stream",
     "text": [
      "99it [05:35,  6.06s/it, BLEU2=0.316, BLEU1=0.381, ExactMatch=0.0235, METEOR=0.577, BertScore=nan, StubScore=0.143]"
     ]
    },
    {
     "name": "stdout",
     "output_type": "stream",
     "text": [
      "True\n",
      "Последний крупный художественный труд Гончарова - это роман \"Обрыв\".\n",
      "Обрыв стал последним.\n",
      "[0, 0, 0, 0, 0, 0, 1, 0, 0, 0, 0, 0, 1, 0]\n"
     ]
    },
    {
     "name": "stderr",
     "output_type": "stream",
     "text": [
      "100it [05:41,  6.27s/it, BLEU2=0.313, BLEU1=0.376, ExactMatch=0.0233, METEOR=0.572, BertScore=nan, StubScore=0.143]"
     ]
    },
    {
     "name": "stdout",
     "output_type": "stream",
     "text": [
      "True\n",
      "Романы Гончарова были посвящены различным аспектам истории России и её развития. Первый роман, \"Обыкновенная история\", отражал конфликт между реализмом и романтизмом, который был существенной коллизией русской жизни. Второй роман, \"Обломов\", изображал угасание крепостничества через образ главного героя, Ильи Обломова. Наконец, третий роман, \"Обрыв\", завершал трилогию и представлял собой образ Райского, который символизировал угасание эпохи крепостничества.\n",
      "Изображению дореформенной России, которую Гончаров хорошо знал и понимал.\n",
      "[0, 0, 0, 0, 0, 0, 1, 0, 0, 0, 0, 0, 1, 0]\n"
     ]
    },
    {
     "name": "stderr",
     "output_type": "stream",
     "text": [
      "101it [05:44,  5.04s/it, BLEU2=0.31, BLEU1=0.373, ExactMatch=0.023, METEOR=0.568, BertScore=nan, StubScore=0.143]  "
     ]
    },
    {
     "name": "stdout",
     "output_type": "stream",
     "text": [
      "True\n",
      "Официальные органы получают и используют финансовые средства для выполнения своих соответствующих функций, которые включают в себя формирование и использование государственных ресурсов, поддержание баланса доходов и расходов, а также обеспечение административного контроля.\n",
      "Деятельность официальных органов по получению и применению финансовых средств осуществляется для выполнения надлежащих функций.\n",
      "[0, 0, 0, 0, 0, 0, 1, 0, 0, 0, 0, 0, 1, 0]\n"
     ]
    },
    {
     "name": "stderr",
     "output_type": "stream",
     "text": [
      "102it [05:45,  3.91s/it, BLEU2=0.313, BLEU1=0.376, ExactMatch=0.0227, METEOR=0.57, BertScore=nan, StubScore=0.143]"
     ]
    },
    {
     "name": "stdout",
     "output_type": "stream",
     "text": [
      "True\n",
      "Некоторые авторы утверждают, что предмет общественных финансов находится на границе между экономикой и политикой.\n",
      "Согласно некоторым авторам, предмет общественных финансов лежит на границе между экономикой и политикой.\n",
      "[0, 0, 0, 0, 0, 0, 1, 0, 0, 0, 0, 0, 1, 0]\n"
     ]
    },
    {
     "name": "stderr",
     "output_type": "stream",
     "text": [
      "103it [05:46,  3.15s/it, BLEU2=0.311, BLEU1=0.375, ExactMatch=0.0225, METEOR=0.569, BertScore=nan, StubScore=0.143]"
     ]
    },
    {
     "name": "stdout",
     "output_type": "stream",
     "text": [
      "True\n",
      "Общественные финансы связаны с деятельностью государственных или местных органов власти, которые получают и используют средства для выполнения своих функций.\n",
      "Общественные финансы связываются с деятельностью государства или местной власти.\n",
      "[0, 0, 0, 0, 0, 0, 1, 0, 0, 0, 0, 0, 1, 0]\n"
     ]
    },
    {
     "name": "stderr",
     "output_type": "stream",
     "text": [
      "104it [05:52,  3.79s/it, BLEU2=0.308, BLEU1=0.372, ExactMatch=0.0222, METEOR=0.565, BertScore=nan, StubScore=0.143]"
     ]
    },
    {
     "name": "stdout",
     "output_type": "stream",
     "text": [
      "True\n",
      "В конце XIX века русский витраж претерпел значительные изменения. В это время начали появляться новые технологии и техники, такие как использование множества разнообразных цветов и фактур стекла. Кроме того, в русском языке появились новые термины, такие как \"витраж\", что указывает на то, что в этот период произошло значительное развитие и эволюция в области русского витража.\n",
      "Русский витраж претерпел особые изменения в конце девятнадцатого века.\n",
      "[0, 0, 0, 0, 0, 0, 1, 0, 0, 0, 0, 0, 1, 0]\n"
     ]
    },
    {
     "name": "stderr",
     "output_type": "stream",
     "text": [
      "105it [05:55,  3.64s/it, BLEU2=0.308, BLEU1=0.371, ExactMatch=0.022, METEOR=0.564, BertScore=nan, StubScore=0.143] "
     ]
    },
    {
     "name": "stdout",
     "output_type": "stream",
     "text": [
      "True\n",
      "Современное витражное стекло может быть изготовлено с использованием различных техник и иметь различные свойства. Оно может быть прозрачным или непрозрачным, однотонным или смесью различных цветов и текстур. Оно также может быть гладким или иметь различные текстуры поверхности.\n",
      "Современное витражное стекло может быть прозрачным и глухим, однородного цвета и смесью различных цветов и оттенков одного цвета, гладким и с разнообразной фактурой.\n",
      "[0, 0, 0, 0, 0, 0, 1, 0, 0, 0, 0, 0, 1, 0]\n"
     ]
    },
    {
     "name": "stderr",
     "output_type": "stream",
     "text": [
      "106it [05:57,  3.14s/it, BLEU2=0.307, BLEU1=0.371, ExactMatch=0.0217, METEOR=0.563, BertScore=nan, StubScore=0.143]"
     ]
    },
    {
     "name": "stdout",
     "output_type": "stream",
     "text": [
      "True\n",
      "Символ русского витража XIX века выражал идеи богатства страны, национальной идентичности и включенности России в общеевропейскую культуру.\n",
      "Символом русского витража 19-ого века стала многофигурная композиция в огромном окне-экране главного фасада Торгового дома братьев Елисеевых на Невском проспекте. Она выражала идеи богатства страны, национальной самобытности и включенности России в общеевропейскую культуру.\n",
      "[0, 0, 0, 0, 0, 0, 1, 0, 0, 0, 0, 0, 1, 0]\n"
     ]
    },
    {
     "name": "stderr",
     "output_type": "stream",
     "text": [
      "107it [06:01,  3.61s/it, BLEU2=0.307, BLEU1=0.37, ExactMatch=0.0215, METEOR=0.565, BertScore=nan, StubScore=0.143] "
     ]
    },
    {
     "name": "stdout",
     "output_type": "stream",
     "text": [
      "True\n",
      "Программным произведением, отражающим русское витражное искусство в XIX веке, было художественное остекление Торгового дома братьев Елисеевых на Невском проспекте. Витражная композиция в огромном окне-экране главного фасада выражала идеи богатства страны, национальной идентичности и включенности России в общеевропейскую культуру.\n",
      "Художественное остекление Торгового дома братьев Елисеевых на Невском проспекте отразило русское витражное искусство в 19-ом веке.\n",
      "[0, 0, 0, 0, 0, 0, 1, 0, 0, 0, 0, 0, 1, 0]\n",
      "False\n",
      "В 19 веке значительный вклад в развитие русского витража внес Императорский стекольный завод. По указанию императора Николая I завод начал исследовать и осваивать технику изготовления витражей. Первоначально они производили одноцветные стеклянные пластины без росписи, но позже начали создавать витражи, используя набор однотонных стекол, образующих простой геометрический узор.\n",
      "Джон Ла Фарж и Луис Тиффани внесли значительный вклад в развитие русского витража в 19-ом веке.\n"
     ]
    },
    {
     "name": "stderr",
     "output_type": "stream",
     "text": [
      "108it [06:10,  4.95s/it, BLEU2=0.307, BLEU1=0.37, ExactMatch=0.0215, METEOR=0.565, BertScore=nan, StubScore=0.133]"
     ]
    },
    {
     "name": "stdout",
     "output_type": "stream",
     "text": [
      "[0, 0, 0, 0, 0, 0, 1, 0, 0, 0, 0, 0, 1, 0, 0]\n"
     ]
    },
    {
     "name": "stderr",
     "output_type": "stream",
     "text": [
      "109it [06:11,  3.90s/it, BLEU2=0.305, BLEU1=0.369, ExactMatch=0.0213, METEOR=0.565, BertScore=nan, StubScore=0.133]"
     ]
    },
    {
     "name": "stdout",
     "output_type": "stream",
     "text": [
      "True\n",
      "По теории Монтеня, преподавание должно проводиться двумя способами: через беседу и с помощью книг.\n",
      "То путём собеседования, то с помощью книг должно проводится преподавание, по теории Монтеня.\n",
      "[0, 0, 0, 0, 0, 0, 1, 0, 0, 0, 0, 0, 1, 0, 0]\n",
      "False\n",
      "В тексте не упоминается конкретный человек или организация, которая будет указывать, какие авторы книг необходимы для чтения. Однако в тексте говорится о том, что Государственная Дума России приняла закон, который приравнивает блогеров и популярных пользователей социальных сетей к средствам массовой информации, и создаётся реестр авторов с определенными требованиями. Это подразумевает, что власти или соответствующие организации могут иметь некоторое влияние на определение авторов, которые считаются важными для чтения.\n",
      "Наставник будет указывать необходимых для прочтения авторов книг.\n"
     ]
    },
    {
     "name": "stderr",
     "output_type": "stream",
     "text": [
      "110it [06:19,  4.97s/it, BLEU2=0.305, BLEU1=0.369, ExactMatch=0.0213, METEOR=0.565, BertScore=nan, StubScore=0.125]"
     ]
    },
    {
     "name": "stdout",
     "output_type": "stream",
     "text": [
      "[0, 0, 0, 0, 0, 0, 1, 0, 0, 0, 0, 0, 1, 0, 0, 0]\n"
     ]
    },
    {
     "name": "stderr",
     "output_type": "stream",
     "text": [
      "111it [06:21,  4.19s/it, BLEU2=0.308, BLEU1=0.372, ExactMatch=0.0211, METEOR=0.568, BertScore=nan, StubScore=0.125]"
     ]
    },
    {
     "name": "stdout",
     "output_type": "stream",
     "text": [
      "True\n",
      "Согласно Мишелю Монтеню, юношу следует ознакомить с основами логики, физики, геометрии и риторики.\n",
      "Необходимо ознакомить юношу с основами логики, физики, геометрии и риторики.\n",
      "[0, 0, 0, 0, 0, 0, 1, 0, 0, 0, 0, 0, 1, 0, 0, 0]\n"
     ]
    },
    {
     "name": "stderr",
     "output_type": "stream",
     "text": [
      "112it [06:23,  3.42s/it, BLEU2=0.307, BLEU1=0.371, ExactMatch=0.0208, METEOR=0.568, BertScore=nan, StubScore=0.125]"
     ]
    },
    {
     "name": "stdout",
     "output_type": "stream",
     "text": [
      "True\n",
      "Душа обучаемого должна быть привита благородному любопытству, как это описано в тексте 1.\n",
      "Благородная любознательность должна быть привита душе обучаемого.\n",
      "[0, 0, 0, 0, 0, 0, 1, 0, 0, 0, 0, 0, 1, 0, 0, 0]\n",
      "False\n",
      "В статье рассматривается педагогическая теория, разработанная Джоном Локком.\n",
      "В статье рассматривалась педагогическая теория Мишеля Монтеня.\n"
     ]
    },
    {
     "name": "stderr",
     "output_type": "stream",
     "text": [
      "113it [06:26,  3.39s/it, BLEU2=0.307, BLEU1=0.371, ExactMatch=0.0208, METEOR=0.568, BertScore=nan, StubScore=0.118]"
     ]
    },
    {
     "name": "stdout",
     "output_type": "stream",
     "text": [
      "[0, 0, 0, 0, 0, 0, 1, 0, 0, 0, 0, 0, 1, 0, 0, 0, 0]\n"
     ]
    },
    {
     "name": "stderr",
     "output_type": "stream",
     "text": [
      "114it [06:27,  2.84s/it, BLEU2=0.309, BLEU1=0.373, ExactMatch=0.0206, METEOR=0.569, BertScore=nan, StubScore=0.118]"
     ]
    },
    {
     "name": "stdout",
     "output_type": "stream",
     "text": [
      "True\n",
      "Существуют несколько типов элементов вторичной структуры, включая стебель-петли, петли и псевдоузлы.\n",
      "Бывают типы элементов вторичной структуры: стебель-петли, петли и псевдоузлы.\n",
      "[0, 0, 0, 0, 0, 0, 1, 0, 0, 0, 0, 0, 1, 0, 0, 0, 0]\n"
     ]
    },
    {
     "name": "stderr",
     "output_type": "stream",
     "text": [
      "115it [06:29,  2.57s/it, BLEU2=0.308, BLEU1=0.373, ExactMatch=0.0204, METEOR=0.57, BertScore=nan, StubScore=0.118] "
     ]
    },
    {
     "name": "stdout",
     "output_type": "stream",
     "text": [
      "True\n",
      "Существуют эффективные программы, такие как mfold, которые могут предсказывать вторичные структуры как РНК, так и белков.\n",
      "Для предсказания вторичной структуры РНК и белков существуют эффективные программы, такие как mfold.\n",
      "[0, 0, 0, 0, 0, 0, 1, 0, 0, 0, 0, 0, 1, 0, 0, 0, 0]\n"
     ]
    },
    {
     "name": "stderr",
     "output_type": "stream",
     "text": [
      "116it [06:32,  2.74s/it, BLEU2=0.308, BLEU1=0.372, ExactMatch=0.0202, METEOR=0.572, BertScore=nan, StubScore=0.118]"
     ]
    },
    {
     "name": "stdout",
     "output_type": "stream",
     "text": [
      "True\n",
      "Рабочая форма одноцепочечной молекулы РНК обладает структурой, похожей на структуру белков, с третичной структурой, образованной элементами вторичной структуры, такими как стебель-петли, петли и псевдоузлы.\n",
      "Рабочая форма одноцепочечной молекулы РНК обладает третичной структурой.\n",
      "[0, 0, 0, 0, 0, 0, 1, 0, 0, 0, 0, 0, 1, 0, 0, 0, 0]\n"
     ]
    },
    {
     "name": "stderr",
     "output_type": "stream",
     "text": [
      "117it [06:34,  2.39s/it, BLEU2=0.309, BLEU1=0.373, ExactMatch=0.02, METEOR=0.573, BertScore=nan, StubScore=0.118]  "
     ]
    },
    {
     "name": "stdout",
     "output_type": "stream",
     "text": [
      "True\n",
      "Третичная структура белка формируется на основе элементов вторичной структуры, образованных водородными связями внутри одной молекулы.\n",
      "На основе элементов вторичной структуры, образуемой с помощью водородных связей внутри одной молекулы.\n",
      "[0, 0, 0, 0, 0, 0, 1, 0, 0, 0, 0, 0, 1, 0, 0, 0, 0]\n"
     ]
    },
    {
     "name": "stderr",
     "output_type": "stream",
     "text": [
      "118it [06:34,  1.79s/it, BLEU2=0.306, BLEU1=0.369, ExactMatch=0.0198, METEOR=0.568, BertScore=nan, StubScore=0.118]"
     ]
    },
    {
     "name": "stdout",
     "output_type": "stream",
     "text": [
      "True\n",
      "Вторичная структура.\n",
      "Стебель-петли, петли и псевдоузлы типы элементов вторичной структуры РНК.\n",
      "[0, 0, 0, 0, 0, 0, 1, 0, 0, 0, 0, 0, 1, 0, 0, 0, 0]\n"
     ]
    },
    {
     "name": "stderr",
     "output_type": "stream",
     "text": [
      "119it [06:35,  1.51s/it, BLEU2=0.303, BLEU1=0.365, ExactMatch=0.0196, METEOR=0.565, BertScore=nan, StubScore=0.118]"
     ]
    },
    {
     "name": "stdout",
     "output_type": "stream",
     "text": [
      "True\n",
      "Герцен был назван \"предтечей народничества\".\n",
      "Народники называли Герцена основоположником, предтечей народничества.\n",
      "[0, 0, 0, 0, 0, 0, 1, 0, 0, 0, 0, 0, 1, 0, 0, 0, 0]\n"
     ]
    },
    {
     "name": "stderr",
     "output_type": "stream",
     "text": [
      "120it [06:38,  1.97s/it, BLEU2=0.305, BLEU1=0.368, ExactMatch=0.0194, METEOR=0.568, BertScore=nan, StubScore=0.118]"
     ]
    },
    {
     "name": "stdout",
     "output_type": "stream",
     "text": [
      "True\n",
      "Одной из главных целей крестьянского социализма, как сформулировал Герцен, было освобождение крестьян от земли без выкупа, ликвидация помещичьего землевладения, введение крестьянского общинного самоуправления, независимого от местных властей, и демократизация страны.\n",
      "Одной из главных целей крестьянского социализма было освобождение крестьян с землей без выкупа, ликвидация помещичьего землевладения и введение крестьянского общинного самоуправления, независимого от местных властей.\n",
      "[0, 0, 0, 0, 0, 0, 1, 0, 0, 0, 0, 0, 1, 0, 0, 0, 0]\n"
     ]
    },
    {
     "name": "stderr",
     "output_type": "stream",
     "text": [
      "121it [06:39,  1.64s/it, BLEU2=0.306, BLEU1=0.369, ExactMatch=0.0192, METEOR=0.567, BertScore=nan, StubScore=0.118]"
     ]
    },
    {
     "name": "stdout",
     "output_type": "stream",
     "text": [
      "True\n",
      "Русский социализм Герцена был назван \"крестьянским социализмом\".\n",
      "Русский социализм Герцена получил название крестьянского социализма.\n",
      "[0, 0, 0, 0, 0, 0, 1, 0, 0, 0, 0, 0, 1, 0, 0, 0, 0]\n",
      "False\n",
      "В 1870-х годах термин \"народничество\" применялся к различным течениям общественного движения. Одним из таких течений было демократическое движение, которое включало в себя различные группы и отдельных лиц, таких как Каблиц-Юзов, который назвал свои взгляды \"Основами народничества\".\n",
      "Предтечей народничества называли Александра Герцена.\n"
     ]
    },
    {
     "name": "stderr",
     "output_type": "stream",
     "text": [
      "122it [06:47,  3.55s/it, BLEU2=0.306, BLEU1=0.369, ExactMatch=0.0192, METEOR=0.567, BertScore=nan, StubScore=0.111]"
     ]
    },
    {
     "name": "stdout",
     "output_type": "stream",
     "text": [
      "[0, 0, 0, 0, 0, 0, 1, 0, 0, 0, 0, 0, 1, 0, 0, 0, 0, 0]\n"
     ]
    },
    {
     "name": "stderr",
     "output_type": "stream",
     "text": [
      "123it [06:50,  3.32s/it, BLEU2=0.305, BLEU1=0.367, ExactMatch=0.019, METEOR=0.567, BertScore=nan, StubScore=0.111] "
     ]
    },
    {
     "name": "stdout",
     "output_type": "stream",
     "text": [
      "True\n",
      "Русский социализм Герцен был направлен на освобождение крестьян от землевладения без выкупа, ликвидацию помещичьего землевладения, введение крестьянского общинного самоуправления, независимого от местных властей, и демократизацию страны.\n",
      "Русский социализм Герцена был направлен на крестьянство.\n",
      "[0, 0, 0, 0, 0, 0, 1, 0, 0, 0, 0, 0, 1, 0, 0, 0, 0, 0]\n"
     ]
    },
    {
     "name": "stderr",
     "output_type": "stream",
     "text": [
      "124it [06:51,  2.73s/it, BLEU2=0.304, BLEU1=0.366, ExactMatch=0.0189, METEOR=0.565, BertScore=nan, StubScore=0.111]"
     ]
    },
    {
     "name": "stdout",
     "output_type": "stream",
     "text": [
      "True\n",
      "Секретные материалы - это научно-фантастический телесериал.\n",
      "Телесериал Секретные материалы относится к жанру научной фантастики.\n",
      "[0, 0, 0, 0, 0, 0, 1, 0, 0, 0, 0, 0, 1, 0, 0, 0, 0, 0]\n"
     ]
    },
    {
     "name": "stderr",
     "output_type": "stream",
     "text": [
      "125it [06:53,  2.45s/it, BLEU2=0.306, BLEU1=0.368, ExactMatch=0.0187, METEOR=0.567, BertScore=nan, StubScore=0.111]"
     ]
    },
    {
     "name": "stdout",
     "output_type": "stream",
     "text": [
      "True\n",
      "Сериал \"Секретные материалы\" стартовал 10 сентября 1993 года.\n",
      "Показ телесериала Секретные материалы стартовал 10 сентября 1993 года.\n",
      "[0, 0, 0, 0, 0, 0, 1, 0, 0, 0, 0, 0, 1, 0, 0, 0, 0, 0]\n"
     ]
    },
    {
     "name": "stderr",
     "output_type": "stream",
     "text": [
      "126it [06:55,  2.15s/it, BLEU2=0.303, BLEU1=0.366, ExactMatch=0.0185, METEOR=0.564, BertScore=nan, StubScore=0.111]"
     ]
    },
    {
     "name": "stdout",
     "output_type": "stream",
     "text": [
      "True\n",
      "В \"Секретных материалах\" было снято 202 эпизода.\n",
      "Было отснято 202 серии телесериала Секретные материалы.\n",
      "[0, 0, 0, 0, 0, 0, 1, 0, 0, 0, 0, 0, 1, 0, 0, 0, 0, 0]\n"
     ]
    },
    {
     "name": "stderr",
     "output_type": "stream",
     "text": [
      "127it [06:56,  1.90s/it, BLEU2=0.302, BLEU1=0.365, ExactMatch=0.0183, METEOR=0.563, BertScore=nan, StubScore=0.111]"
     ]
    },
    {
     "name": "stdout",
     "output_type": "stream",
     "text": [
      "True\n",
      "Фрэнк Спотниц написал около 50 эпизодов сериала.\n",
      "Около 50 эпизодов было написано Фрэнком Спотницом.\n",
      "[0, 0, 0, 0, 0, 0, 1, 0, 0, 0, 0, 0, 1, 0, 0, 0, 0, 0]\n"
     ]
    },
    {
     "name": "stderr",
     "output_type": "stream",
     "text": [
      "128it [06:57,  1.74s/it, BLEU2=0.305, BLEU1=0.368, ExactMatch=0.0182, METEOR=0.566, BertScore=nan, StubScore=0.111]"
     ]
    },
    {
     "name": "stdout",
     "output_type": "stream",
     "text": [
      "True\n",
      "Сериал \"Секретные материалы\" стал хитом на канале Fox.\n",
      "Сериал \"Секретные материалы\" стал хитом канал Fox.\n",
      "[0, 0, 0, 0, 0, 0, 1, 0, 0, 0, 0, 0, 1, 0, 0, 0, 0, 0]\n",
      "False\n",
      "Культурные мероприятия, такие как концерты, а также световые и звуковые шоу, проходят в различных местах по всему миру. Некоторые примеры включают:\n",
      "\n",
      "1. Концертные залы: Эти специализированные места предназначены для музыкальных и других живых выступлений. Примеры включают Карнеги-холл в Нью-Йорке, Королевский Альберт-холл в Лондоне и Сиднейский оперный театр в Австралии.\n",
      "\n",
      "2. Арены и стадионы: Большие площадки, такие как спортивные арены и стадионы, часто используются для масштабных мероприятий, включая концерты и музыкальные фестивали. Примеры включают стадион Уэмбли в Лондоне, стадион MetLife в Нью-Йорке и Олимпийский стадион в Пекине.\n",
      "\n",
      "3. Открытые площадки: Парки, скверы и другие открытые пространства могут быть использованы для проведения мероприятий, таких как концерты под открытым небом, кинопоказы и другие представления. Примеры включают Центральный парк в Нью-Йорке, парк Зарядье в Москве и парк искусств \"Музеон\" в Москве.\n",
      "\n",
      "4. Музеи и галереи: Многие музеи и галереи имеют пространства для временных выставок и мероприятий, включая концерты и другие культурные мероприятия. Примеры включают Музей современного искусства в Нью-Йорке, Тейт Модерн в Лондоне и Центр Жоржа Помпиду в Париже.\n",
      "\n",
      "5. Оперные театры и театры: Оперные театры и театры предназначены для оперных, балетных и других театральных представлений. Примеры включают Метрополитен-опера в Нью-Йорке, Королевский оперный театр в Лондоне и Мариинский театр в Санкт-Петербурге.\n",
      "\n",
      "6. Фестивали и ярмарки: Фестивали и ярмарки часто проводятся в городах по всему миру и могут включать концерты, световые и звуковые шоу. Примеры включают Гластонберийский фестиваль в Великобритании, Coachella в США и фестиваль Tomorrowland в Бельгии.\n",
      "\n",
      "7. Церкви и соборы: Некоторые церкви и соборы используются для концертов и других культурных мероприятий. Примеры включают Вестминстерское аббатство в Лондоне, собор Святого Павла в Лондоне и собор Святого Марка в Венеции.\n",
      "\n",
      "Это всего лишь несколько примеров из множества мест, где проходят культурные мероприятия, такие как концерты, а также световые и звуковые шоу. В зависимости от конкретного мероприятия и местоположения могут быть и другие варианты.\n",
      "Культурные мероприятия проходят в старой венецианской крепости Палео Фрурио.\n"
     ]
    },
    {
     "name": "stderr",
     "output_type": "stream",
     "text": [
      "129it [07:37, 13.06s/it, BLEU2=0.305, BLEU1=0.368, ExactMatch=0.0182, METEOR=0.566, BertScore=nan, StubScore=0.158]"
     ]
    },
    {
     "name": "stdout",
     "output_type": "stream",
     "text": [
      "[0, 0, 0, 0, 0, 0, 1, 0, 0, 0, 0, 0, 1, 0, 0, 0, 0, 0, 1]\n",
      "False\n",
      "В тексте не упоминается конкретный интерьер, который был отреставрирован. Поэтому я не могу дать ответ на ваш вопрос.\n",
      "Отреставрированный интерьер используется для проведения культурных мероприятий, таких как концерты, и звуковых и световых шоу.\n"
     ]
    },
    {
     "name": "stderr",
     "output_type": "stream",
     "text": [
      "130it [07:40, 10.26s/it, BLEU2=0.305, BLEU1=0.368, ExactMatch=0.0182, METEOR=0.566, BertScore=nan, StubScore=0.15] "
     ]
    },
    {
     "name": "stdout",
     "output_type": "stream",
     "text": [
      "[0, 0, 0, 0, 0, 0, 1, 0, 0, 0, 0, 0, 1, 0, 0, 0, 0, 0, 1, 0]\n",
      "False\n",
      "У основания креста находится крест, который является символом христианского распятия Иисуса Христа.\n",
      "У подножия креста расположена церковь св. Георгия.\n"
     ]
    },
    {
     "name": "stderr",
     "output_type": "stream",
     "text": [
      "131it [07:44,  8.22s/it, BLEU2=0.305, BLEU1=0.368, ExactMatch=0.0182, METEOR=0.566, BertScore=nan, StubScore=0.143]"
     ]
    },
    {
     "name": "stdout",
     "output_type": "stream",
     "text": [
      "[0, 0, 0, 0, 0, 0, 1, 0, 0, 0, 0, 0, 1, 0, 0, 0, 0, 0, 1, 0, 0]\n",
      "False\n",
      "Керкира - это русское произношение греческого слова \"Κερκύρια\", которое относится к острову Корфу, расположенному в Ионическом море.\n",
      "Нет информациия\n"
     ]
    },
    {
     "name": "stderr",
     "output_type": "stream",
     "text": [
      "132it [07:48,  6.88s/it, BLEU2=0.305, BLEU1=0.368, ExactMatch=0.0182, METEOR=0.566, BertScore=nan, StubScore=0.182]"
     ]
    },
    {
     "name": "stdout",
     "output_type": "stream",
     "text": [
      "[0, 0, 0, 0, 0, 0, 1, 0, 0, 0, 0, 0, 1, 0, 0, 0, 0, 0, 1, 0, 0, 1]\n"
     ]
    },
    {
     "name": "stderr",
     "output_type": "stream",
     "text": [
      "133it [07:49,  5.13s/it, BLEU2=0.302, BLEU1=0.365, ExactMatch=0.018, METEOR=0.562, BertScore=nan, StubScore=0.182] "
     ]
    },
    {
     "name": "stdout",
     "output_type": "stream",
     "text": [
      "True\n",
      "В октябре 1963 года.\n",
      "Первая слава к The Beatles пришла в Ливерпуле.\n",
      "[0, 0, 0, 0, 0, 0, 1, 0, 0, 0, 0, 0, 1, 0, 0, 0, 0, 0, 1, 0, 0, 1]\n"
     ]
    },
    {
     "name": "stderr",
     "output_type": "stream",
     "text": [
      "134it [07:51,  4.26s/it, BLEU2=0.301, BLEU1=0.363, ExactMatch=0.0179, METEOR=0.559, BertScore=nan, StubScore=0.182]"
     ]
    },
    {
     "name": "stdout",
     "output_type": "stream",
     "text": [
      "True\n",
      "В 1967 году Пол Маккартни взял на себя руководство группой The Beatles после смерти их менеджера Брайана Эпштейна.\n",
      "Лидером группы The Beatles стал Леннон.\n",
      "[0, 0, 0, 0, 0, 0, 1, 0, 0, 0, 0, 0, 1, 0, 0, 0, 0, 0, 1, 0, 0, 1]\n"
     ]
    },
    {
     "name": "stderr",
     "output_type": "stream",
     "text": [
      "135it [07:52,  3.24s/it, BLEU2=0.298, BLEU1=0.36, ExactMatch=0.0177, METEOR=0.556, BertScore=nan, StubScore=0.182] "
     ]
    },
    {
     "name": "stdout",
     "output_type": "stream",
     "text": [
      "True\n",
      "В середине 1950-х годов.\n",
      "The Beatles прославились в Ливерпуле весной 1963.\n",
      "[0, 0, 0, 0, 0, 0, 1, 0, 0, 0, 0, 0, 1, 0, 0, 0, 0, 0, 1, 0, 0, 1]\n"
     ]
    },
    {
     "name": "stderr",
     "output_type": "stream",
     "text": [
      "136it [07:53,  2.66s/it, BLEU2=0.301, BLEU1=0.363, ExactMatch=0.0175, METEOR=0.558, BertScore=nan, StubScore=0.182]"
     ]
    },
    {
     "name": "stdout",
     "output_type": "stream",
     "text": [
      "True\n",
      "В 1964 году к Битлз пришла мировая слава.\n",
      "В 1964 году к The Beatles пришла мировая слава.\n",
      "[0, 0, 0, 0, 0, 0, 1, 0, 0, 0, 0, 0, 1, 0, 0, 0, 0, 0, 1, 0, 0, 1]\n"
     ]
    },
    {
     "name": "stderr",
     "output_type": "stream",
     "text": [
      "137it [07:54,  2.14s/it, BLEU2=0.299, BLEU1=0.36, ExactMatch=0.0174, METEOR=0.555, BertScore=nan, StubScore=0.182] "
     ]
    },
    {
     "name": "stdout",
     "output_type": "stream",
     "text": [
      "True\n",
      "Октябрь 1963 года.\n",
      "В октябре 1963 года о The Beatles знала уже вся Британия.\n",
      "[0, 0, 0, 0, 0, 0, 1, 0, 0, 0, 0, 0, 1, 0, 0, 0, 0, 0, 1, 0, 0, 1]\n"
     ]
    },
    {
     "name": "stderr",
     "output_type": "stream",
     "text": [
      "138it [07:57,  2.29s/it, BLEU2=0.303, BLEU1=0.364, ExactMatch=0.0172, METEOR=0.557, BertScore=nan, StubScore=0.182]"
     ]
    },
    {
     "name": "stdout",
     "output_type": "stream",
     "text": [
      "True\n",
      "Торонто провел свою первую игру в сезоне 1917/18 против Монреаль Уондерерс 19 декабря 1917 года.\n",
      "Торонто провел свою первую игру в Национальной хоккейной лиге в сезоне 1917/18 против Монреаль Уондерерс 19 декабря 1917 года.\n",
      "[0, 0, 0, 0, 0, 0, 1, 0, 0, 0, 0, 0, 1, 0, 0, 0, 0, 0, 1, 0, 0, 1]\n",
      "False\n",
      "В статье не приводится информация о том, какие команды остались в лиге.\n",
      "Монреаль Канадиенс, Оттава Сенаторз и Торонто остались в лиге.\n"
     ]
    },
    {
     "name": "stderr",
     "output_type": "stream",
     "text": [
      "139it [08:00,  2.57s/it, BLEU2=0.303, BLEU1=0.364, ExactMatch=0.0172, METEOR=0.557, BertScore=nan, StubScore=0.174]"
     ]
    },
    {
     "name": "stdout",
     "output_type": "stream",
     "text": [
      "[0, 0, 0, 0, 0, 0, 1, 0, 0, 0, 0, 0, 1, 0, 0, 0, 0, 0, 1, 0, 0, 1, 0]\n"
     ]
    },
    {
     "name": "stderr",
     "output_type": "stream",
     "text": [
      "140it [08:03,  2.63s/it, BLEU2=0.305, BLEU1=0.366, ExactMatch=0.0171, METEOR=0.559, BertScore=nan, StubScore=0.174]"
     ]
    },
    {
     "name": "stdout",
     "output_type": "stream",
     "text": [
      "True\n",
      "Первая игра Торонто в Национальной хоккейной лиге (НХЛ) в сезоне 1917-18 годов состоялась 19 декабря 1917 года.\n",
      "Первая игра Торонто в Национальной хоккейной лиге в сезоне 1917/18 была 19 декабря 1917.\n",
      "[0, 0, 0, 0, 0, 0, 1, 0, 0, 0, 0, 0, 1, 0, 0, 0, 0, 0, 1, 0, 0, 1, 0]\n"
     ]
    },
    {
     "name": "stderr",
     "output_type": "stream",
     "text": [
      "141it [08:05,  2.48s/it, BLEU2=0.308, BLEU1=0.369, ExactMatch=0.0169, METEOR=0.562, BertScore=nan, StubScore=0.174]"
     ]
    },
    {
     "name": "stdout",
     "output_type": "stream",
     "text": [
      "True\n",
      "Торонто забил 9 шайб в игре против Монреаль Уондерерс 19 декабря 1917 года.\n",
      "В игре против Монреаль Уондерерс 19 декабря 1917 Торонто забил девять шайб.\n",
      "[0, 0, 0, 0, 0, 0, 1, 0, 0, 0, 0, 0, 1, 0, 0, 0, 0, 0, 1, 0, 0, 1, 0]\n"
     ]
    },
    {
     "name": "stderr",
     "output_type": "stream",
     "text": [
      "142it [08:06,  2.25s/it, BLEU2=0.312, BLEU1=0.373, ExactMatch=0.0168, METEOR=0.565, BertScore=nan, StubScore=0.174]"
     ]
    },
    {
     "name": "stdout",
     "output_type": "stream",
     "text": [
      "True\n",
      "Торонто провел свою первую игру в Национальной хоккейной лиге в сезоне 1917-18.\n",
      "Торонто провел первую игру в Национальной хоккейной лиге в сезоне 1917/18.\n",
      "[0, 0, 0, 0, 0, 0, 1, 0, 0, 0, 0, 0, 1, 0, 0, 0, 0, 0, 1, 0, 0, 1, 0]\n"
     ]
    },
    {
     "name": "stderr",
     "output_type": "stream",
     "text": [
      "143it [08:08,  2.15s/it, BLEU2=0.314, BLEU1=0.376, ExactMatch=0.0167, METEOR=0.567, BertScore=nan, StubScore=0.174]"
     ]
    },
    {
     "name": "stdout",
     "output_type": "stream",
     "text": [
      "True\n",
      "Тяжелый звук краут-рока, наряду с работами Брайана Ино, оказал значительное влияние на рок-музыку.\n",
      "Тяжелое звучание краут-рока, наряду с работами Брайана Ино, оказало большое влияние на рок-музыку.\n",
      "[0, 0, 0, 0, 0, 0, 1, 0, 0, 0, 0, 0, 1, 0, 0, 0, 0, 0, 1, 0, 0, 1, 0]\n"
     ]
    },
    {
     "name": "stderr",
     "output_type": "stream",
     "text": [
      "144it [08:10,  1.86s/it, BLEU2=0.318, BLEU1=0.38, ExactMatch=0.0165, METEOR=0.57, BertScore=nan, StubScore=0.174]  "
     ]
    },
    {
     "name": "stdout",
     "output_type": "stream",
     "text": [
      "True\n",
      "Брайан Ино был клавишником группы Roxy Music.\n",
      "Брайан Ино был клавишником Roxy Music.\n",
      "[0, 0, 0, 0, 0, 0, 1, 0, 0, 0, 0, 0, 1, 0, 0, 0, 0, 0, 1, 0, 0, 1, 0]\n"
     ]
    },
    {
     "name": "stderr",
     "output_type": "stream",
     "text": [
      "145it [08:12,  1.94s/it, BLEU2=0.32, BLEU1=0.382, ExactMatch=0.0164, METEOR=0.573, BertScore=nan, StubScore=0.174]"
     ]
    },
    {
     "name": "stdout",
     "output_type": "stream",
     "text": [
      "True\n",
      "Фильм \"Заводной апельсин\" был выпущен с саундтреком американского композитора Венди Карлоза в 1971 году.\n",
      "Фильм Заводной апельсин был выпущен в 1971 году с саундтреком американского композитора Венди Карлоса.\n",
      "[0, 0, 0, 0, 0, 0, 1, 0, 0, 0, 0, 0, 1, 0, 0, 0, 0, 0, 1, 0, 0, 1, 0]\n"
     ]
    },
    {
     "name": "stderr",
     "output_type": "stream",
     "text": [
      "146it [08:14,  2.02s/it, BLEU2=0.322, BLEU1=0.384, ExactMatch=0.0163, METEOR=0.575, BertScore=nan, StubScore=0.174]"
     ]
    },
    {
     "name": "stdout",
     "output_type": "stream",
     "text": [
      "True\n",
      "Фильм, который был выпущен в 1971 году с саундтреком американского композитора Венди Карлоза, - \"Заводной апельсин\".\n",
      "Фильм Заводной апельсин в 1971 году был выпущен с саундтреком американского композитора Венди Карлоса.\n",
      "[0, 0, 0, 0, 0, 0, 1, 0, 0, 0, 0, 0, 1, 0, 0, 0, 0, 0, 1, 0, 0, 1, 0]\n"
     ]
    },
    {
     "name": "stderr",
     "output_type": "stream",
     "text": [
      "147it [08:16,  2.07s/it, BLEU2=0.322, BLEU1=0.385, ExactMatch=0.0161, METEOR=0.577, BertScore=nan, StubScore=0.174]"
     ]
    },
    {
     "name": "stdout",
     "output_type": "stream",
     "text": [
      "True\n",
      "Саймон Рейнольдс, музыкальный журналист, назвал саундтрек из фильма \"Заводной апельсин\" источником вдохновения.\n",
      "Музыкальный журналист Саймон Рейнольдс назвал саундтрек из фильма Заводной апельсин своим вдохновением.\n",
      "[0, 0, 0, 0, 0, 0, 1, 0, 0, 0, 0, 0, 1, 0, 0, 0, 0, 0, 1, 0, 0, 1, 0]\n",
      "False\n",
      "Да, \"Машина времени\" была активной в 1980 году.\n",
      "Да, уже была группа „Машина времени“ в 1980-м году.\n"
     ]
    },
    {
     "name": "stderr",
     "output_type": "stream",
     "text": [
      "148it [08:20,  2.61s/it, BLEU2=0.322, BLEU1=0.385, ExactMatch=0.0161, METEOR=0.577, BertScore=nan, StubScore=0.167]"
     ]
    },
    {
     "name": "stdout",
     "output_type": "stream",
     "text": [
      "[0, 0, 0, 0, 0, 0, 1, 0, 0, 0, 0, 0, 1, 0, 0, 0, 0, 0, 1, 0, 0, 1, 0, 0]\n",
      "False\n",
      "У меня нет ответа на ваш вопрос.\n",
      "„Локомотив ГТ“ разъезжал с концертами.\n"
     ]
    },
    {
     "name": "stderr",
     "output_type": "stream",
     "text": [
      "149it [08:22,  2.42s/it, BLEU2=0.322, BLEU1=0.385, ExactMatch=0.0161, METEOR=0.577, BertScore=nan, StubScore=0.2]  "
     ]
    },
    {
     "name": "stdout",
     "output_type": "stream",
     "text": [
      "[0, 0, 0, 0, 0, 0, 1, 0, 0, 0, 0, 0, 1, 0, 0, 0, 0, 0, 1, 0, 0, 1, 0, 0, 1]\n",
      "False\n",
      "\"Машина времени\" была уже сформирована в 1972 году.\n",
      "Шел 1980-й год.\n"
     ]
    },
    {
     "name": "stderr",
     "output_type": "stream",
     "text": [
      "150it [08:26,  2.76s/it, BLEU2=0.322, BLEU1=0.385, ExactMatch=0.0161, METEOR=0.577, BertScore=nan, StubScore=0.192]"
     ]
    },
    {
     "name": "stdout",
     "output_type": "stream",
     "text": [
      "[0, 0, 0, 0, 0, 0, 1, 0, 0, 0, 0, 0, 1, 0, 0, 0, 0, 0, 1, 0, 0, 1, 0, 0, 1, 0]\n",
      "False\n",
      "В 1980 году музыка была разнообразной и развивалась в различных направлениях. Некоторые популярные жанры включали рок, панк, альтернативный рок, синти-поп и пост-панк. В 1980-х годах появились эксперименты с поиском новых звучаний электрогитары, такие группы, как Joy Division и Sonic Youth, внесли свой вклад в развитие рок-гитары. Кроме того, в 1980-х годах появились несколько популярных синти-поп групп, таких как Pet Shop Boys, Depeche Mode и Talk Talk.\n",
      "В 1980 году слушали западную музыку.\n"
     ]
    },
    {
     "name": "stderr",
     "output_type": "stream",
     "text": [
      "151it [08:36,  5.14s/it, BLEU2=0.322, BLEU1=0.385, ExactMatch=0.0161, METEOR=0.577, BertScore=nan, StubScore=0.222]"
     ]
    },
    {
     "name": "stdout",
     "output_type": "stream",
     "text": [
      "[0, 0, 0, 0, 0, 0, 1, 0, 0, 0, 0, 0, 1, 0, 0, 0, 0, 0, 1, 0, 0, 1, 0, 0, 1, 0, 1]\n",
      "False\n",
      "\"Машина времени\" была советской рок-группой, которая существует уже более четырех десятилетий. Они начали как советские \"Битлз\" и со временем превратились в российских \"Роллинг Стоунз\". Их музыка стала саундтреком к истории Советского Союза и России второй половины прошлого века. Они известны своим уникальным подходом к рок-музыке, ориентированным на собственный репертуар, и своими социально значимыми и остроумными текстами.\n",
      "Это был такой ВИА, только немного позлее и чуть-чуть помоднее, чем ряд других.\n"
     ]
    },
    {
     "name": "stderr",
     "output_type": "stream",
     "text": [
      "152it [08:46,  6.62s/it, BLEU2=0.322, BLEU1=0.385, ExactMatch=0.0161, METEOR=0.577, BertScore=nan, StubScore=0.214]"
     ]
    },
    {
     "name": "stdout",
     "output_type": "stream",
     "text": [
      "[0, 0, 0, 0, 0, 0, 1, 0, 0, 0, 0, 0, 1, 0, 0, 0, 0, 0, 1, 0, 0, 1, 0, 0, 1, 0, 1, 0]\n"
     ]
    },
    {
     "name": "stderr",
     "output_type": "stream",
     "text": [
      "153it [08:47,  4.82s/it, BLEU2=0.32, BLEU1=0.382, ExactMatch=0.016, METEOR=0.575, BertScore=nan, StubScore=0.214]  "
     ]
    },
    {
     "name": "stdout",
     "output_type": "stream",
     "text": [
      "True\n",
      "28 июля 2017 года.\n",
      "28 июля 2017 года у Югры была отозвана лицензия на осуществление банковских операций.\n",
      "[0, 0, 0, 0, 0, 0, 1, 0, 0, 0, 0, 0, 1, 0, 0, 0, 0, 0, 1, 0, 0, 1, 0, 0, 1, 0, 1, 0]\n"
     ]
    },
    {
     "name": "stderr",
     "output_type": "stream",
     "text": [
      "154it [08:48,  3.69s/it, BLEU2=0.321, BLEU1=0.384, ExactMatch=0.0159, METEOR=0.577, BertScore=nan, StubScore=0.214]"
     ]
    },
    {
     "name": "stdout",
     "output_type": "stream",
     "text": [
      "True\n",
      "Штаб-квартира банка \"Югра\" находится в Москве, Россия.\n",
      "Штаб-квартира банка Югра находится в Москве.\n",
      "[0, 0, 0, 0, 0, 0, 1, 0, 0, 0, 0, 0, 1, 0, 0, 0, 0, 0, 1, 0, 0, 1, 0, 0, 1, 0, 1, 0]\n"
     ]
    },
    {
     "name": "stderr",
     "output_type": "stream",
     "text": [
      "155it [08:49,  3.00s/it, BLEU2=0.324, BLEU1=0.387, ExactMatch=0.0157, METEOR=0.58, BertScore=nan, StubScore=0.214] "
     ]
    },
    {
     "name": "stdout",
     "output_type": "stream",
     "text": [
      "True\n",
      "По размеру активов на июль 2016 года Югра занимала 30-е место среди российских банков.\n",
      "По размеру активов среди российских банков на июль 2016 года Югра занимал 30-е место.\n",
      "[0, 0, 0, 0, 0, 0, 1, 0, 0, 0, 0, 0, 1, 0, 0, 0, 0, 0, 1, 0, 0, 1, 0, 0, 1, 0, 1, 0]\n",
      "False\n",
      "Полное название Югра - Югра.\n",
      "Полное наименование — Публичное акционерное общество банк Югра.\n"
     ]
    },
    {
     "name": "stderr",
     "output_type": "stream",
     "text": [
      "156it [08:53,  3.08s/it, BLEU2=0.324, BLEU1=0.387, ExactMatch=0.0157, METEOR=0.58, BertScore=nan, StubScore=0.241]"
     ]
    },
    {
     "name": "stdout",
     "output_type": "stream",
     "text": [
      "[0, 0, 0, 0, 0, 0, 1, 0, 0, 0, 0, 0, 1, 0, 0, 0, 0, 0, 1, 0, 0, 1, 0, 0, 1, 0, 1, 0, 1]\n",
      "False\n",
      "Ягура был четвертым Хокаге деревни Ниндзя. Он был бывшим Джиндзюрией Треххвоста и был известен тем, что полностью контролировал своего биджу. Во время его правления деревня была известна как Деревня Кровавого Тумана из-за жестокого выпускного экзамена, на котором один ниндзя сражался с другим до смерти. В какой-то момент было обнаружено, что Ягура управляется кем-то с помощью генджуцу. Позже выяснилось, что Тоби был ответственен за это, используя ширагану.\n",
      "Это российский частный банк.\n"
     ]
    },
    {
     "name": "stderr",
     "output_type": "stream",
     "text": [
      "157it [09:05,  5.87s/it, BLEU2=0.324, BLEU1=0.387, ExactMatch=0.0157, METEOR=0.58, BertScore=nan, StubScore=0.233]"
     ]
    },
    {
     "name": "stdout",
     "output_type": "stream",
     "text": [
      "[0, 0, 0, 0, 0, 0, 1, 0, 0, 0, 0, 0, 1, 0, 0, 0, 0, 0, 1, 0, 0, 1, 0, 0, 1, 0, 1, 0, 1, 0]\n"
     ]
    },
    {
     "name": "stderr",
     "output_type": "stream",
     "text": [
      "158it [09:10,  5.74s/it, BLEU2=0.321, BLEU1=0.384, ExactMatch=0.0156, METEOR=0.577, BertScore=nan, StubScore=0.233]"
     ]
    },
    {
     "name": "stdout",
     "output_type": "stream",
     "text": [
      "True\n",
      "Макаревич пел в стиле, который можно охарактеризовать как смесь рока, кантри, городских романсов и традиционной музыки. Его поэтическая стихия была более склонной к литературной песне, с рефлексивными, эмоциональными текстами, которые не соответствовали ритму и темпу рок-музыки так же, как у Высоцкого.\n",
      "Макаревич пел честно и последовательно о самом злободневном.\n",
      "[0, 0, 0, 0, 0, 0, 1, 0, 0, 0, 0, 0, 1, 0, 0, 0, 0, 0, 1, 0, 0, 1, 0, 0, 1, 0, 1, 0, 1, 0]\n",
      "False\n",
      "Какой тип музыкального стиля характеризуется усложнением музыкальных форм и творческим обогащением рока через диалог с другими жанрами музыкального искусства, такими как академическая музыка, джаз, фолк и авангард?\n",
      "Сейчас нужен более жёсткий, энергичный музыкальный язык.\n"
     ]
    },
    {
     "name": "stderr",
     "output_type": "stream",
     "text": [
      "159it [09:16,  5.60s/it, BLEU2=0.321, BLEU1=0.384, ExactMatch=0.0156, METEOR=0.577, BertScore=nan, StubScore=0.226]"
     ]
    },
    {
     "name": "stdout",
     "output_type": "stream",
     "text": [
      "[0, 0, 0, 0, 0, 0, 1, 0, 0, 0, 0, 0, 1, 0, 0, 0, 0, 0, 1, 0, 0, 1, 0, 0, 1, 0, 1, 0, 1, 0, 0]\n"
     ]
    },
    {
     "name": "stderr",
     "output_type": "stream",
     "text": [
      "160it [09:20,  5.27s/it, BLEU2=0.32, BLEU1=0.382, ExactMatch=0.0155, METEOR=0.575, BertScore=nan, StubScore=0.226] "
     ]
    },
    {
     "name": "stdout",
     "output_type": "stream",
     "text": [
      "True\n",
      "Макаревич пел о различных темах, включая социальные вопросы, личностный рост, любовь и отношения, а также о личном опыте. Его тексты часто были интроспективными, рефлексивными и литературными, больше напоминая традиционную поэзию, чем рок-песни.\n",
      "Макаревич пел о самом злободневном.\n",
      "[0, 0, 0, 0, 0, 0, 1, 0, 0, 0, 0, 0, 1, 0, 0, 0, 0, 0, 1, 0, 0, 1, 0, 0, 1, 0, 1, 0, 1, 0, 0]\n"
     ]
    },
    {
     "name": "stderr",
     "output_type": "stream",
     "text": [
      "161it [09:21,  4.05s/it, BLEU2=0.321, BLEU1=0.384, ExactMatch=0.0154, METEOR=0.576, BertScore=nan, StubScore=0.226]"
     ]
    },
    {
     "name": "stdout",
     "output_type": "stream",
     "text": [
      "True\n",
      "Рок-музыка не имеет ничего общего с бессмысленной пустой эстрадой.\n",
      "Рок-музыка, в доказательстве Макаревича, ничего общего не имеет с бессмысленной пустой эстрадой.\n",
      "[0, 0, 0, 0, 0, 0, 1, 0, 0, 0, 0, 0, 1, 0, 0, 0, 0, 0, 1, 0, 0, 1, 0, 0, 1, 0, 1, 0, 1, 0, 0]\n",
      "False\n",
      "Для определения, чей опыт незаменим для начинающих рок-музыкантов, давайте рассмотрим информацию, представленную в текстах.\n",
      "\n",
      "Текст 1 говорит о прогрессивном роке, который характеризуется усложнением музыкальных форм и творческим обогащением рока через диалог с другими музыкальными жанрами. Однако в этом тексте не упоминается конкретный опыт или человек, который был бы незаменим для начинающих рок-музыкантов.\n",
      "\n",
      "Текст 2 упоминает группы, такие как Blood, Sweat and Tears, Chicago и другие, которые взяли за основу звучание биг-бэнда, ритм-энд-блюз и различные направления рок-музыки. В этом тексте также говорится о группах фьюжн, которые сосредоточились на импровизации и оттачивании исполнительской техники. Опять же, в этом тексте не упоминается конкретный опыт или человек, который был бы незаменим для начинающих рок-музыкантов.\n",
      "\n",
      "Текст 3 говорит о пост-панке и о том, как некоторые артисты, изначально вдохновленные панком, в конечном итоге стали разочарованы стилем и движением, ища способы порвать с музыкальной традицией и бросить вызов аудитории. В этом тексте не упоминается конкретный опыт или человек, который был бы незаменим для начинающих рок-музыкантов.\n",
      "\n",
      "Исходя из предоставленной информации, ни один из текстов не упоминает конкретного опыта или человека, который был бы незаменим для начинающих рок-музыкантов.\n",
      "Опыт „Машины времени“ незаменим для начинающих рок-музыкантов.\n"
     ]
    },
    {
     "name": "stderr",
     "output_type": "stream",
     "text": [
      "162it [09:50, 11.31s/it, BLEU2=0.321, BLEU1=0.384, ExactMatch=0.0154, METEOR=0.576, BertScore=nan, StubScore=0.25] "
     ]
    },
    {
     "name": "stdout",
     "output_type": "stream",
     "text": [
      "[0, 0, 0, 0, 0, 0, 1, 0, 0, 0, 0, 0, 1, 0, 0, 0, 0, 0, 1, 0, 0, 1, 0, 0, 1, 0, 1, 0, 1, 0, 0, 1]\n"
     ]
    },
    {
     "name": "stderr",
     "output_type": "stream",
     "text": [
      "163it [09:52,  8.69s/it, BLEU2=0.321, BLEU1=0.384, ExactMatch=0.0153, METEOR=0.575, BertScore=nan, StubScore=0.25]"
     ]
    },
    {
     "name": "stdout",
     "output_type": "stream",
     "text": [
      "True\n",
      "\"Опыт мисс Энн Дафффилд\" написан в стиле Шерлока Холмса.\n",
      "Рассказ „The Singularge Experience of Miss Anne Duffield“ написан в стиле Шерлока Холмса.\n",
      "[0, 0, 0, 0, 0, 0, 1, 0, 0, 0, 0, 0, 1, 0, 0, 0, 0, 0, 1, 0, 0, 1, 0, 0, 1, 0, 1, 0, 1, 0, 0, 1]\n",
      "False\n",
      "В XIX веке книги на судне в Литве были написаны на двух языках: на литовском языке латиницей и на литовском языке с использованием готического шрифта и местных орфограмм.\n",
      "Половина книг на судне была на французском, половина — на английском языках.\n"
     ]
    },
    {
     "name": "stderr",
     "output_type": "stream",
     "text": [
      "164it [09:58,  7.82s/it, BLEU2=0.321, BLEU1=0.384, ExactMatch=0.0153, METEOR=0.575, BertScore=nan, StubScore=0.242]"
     ]
    },
    {
     "name": "stdout",
     "output_type": "stream",
     "text": [
      "[0, 0, 0, 0, 0, 0, 1, 0, 0, 0, 0, 0, 1, 0, 0, 0, 0, 0, 1, 0, 0, 1, 0, 0, 1, 0, 1, 0, 1, 0, 0, 1, 0]\n"
     ]
    },
    {
     "name": "stderr",
     "output_type": "stream",
     "text": [
      "165it [10:00,  6.08s/it, BLEU2=0.322, BLEU1=0.384, ExactMatch=0.0152, METEOR=0.574, BertScore=nan, StubScore=0.242]"
     ]
    },
    {
     "name": "stdout",
     "output_type": "stream",
     "text": [
      "True\n",
      "Джон Леннон провел три недели на Таити, читая рассказы о Шерлоке Холмсе.\n",
      "Джон Леннон провел три недели на Таити за чтением рассказов про Шерлока Холмса.\n",
      "[0, 0, 0, 0, 0, 0, 1, 0, 0, 0, 0, 0, 1, 0, 0, 0, 0, 0, 1, 0, 0, 1, 0, 0, 1, 0, 1, 0, 1, 0, 0, 1, 0]\n"
     ]
    },
    {
     "name": "stderr",
     "output_type": "stream",
     "text": [
      "166it [10:03,  5.10s/it, BLEU2=0.323, BLEU1=0.384, ExactMatch=0.015, METEOR=0.576, BertScore=nan, StubScore=0.242] "
     ]
    },
    {
     "name": "stdout",
     "output_type": "stream",
     "text": [
      "True\n",
      "Джон Леннон написал рассказ под названием \"The Singular Experience of Miss Anne Duffield\", который является стилизацией в стиле Шерлока Холмса.\n",
      "Джон Леннон написал рассказ „The Singularge Experience of Miss Anne Duffield“.\n",
      "[0, 0, 0, 0, 0, 0, 1, 0, 0, 0, 0, 0, 1, 0, 0, 0, 0, 0, 1, 0, 0, 1, 0, 0, 1, 0, 1, 0, 1, 0, 0, 1, 0]\n"
     ]
    },
    {
     "name": "stderr",
     "output_type": "stream",
     "text": [
      "167it [10:03,  3.73s/it, BLEU2=0.32, BLEU1=0.383, ExactMatch=0.0149, METEOR=0.574, BertScore=nan, StubScore=0.242]"
     ]
    },
    {
     "name": "stdout",
     "output_type": "stream",
     "text": [
      "True\n",
      "Джон Леннон\n",
      "Это вспоминал Джон Леннон.\n",
      "[0, 0, 0, 0, 0, 0, 1, 0, 0, 0, 0, 0, 1, 0, 0, 0, 0, 0, 1, 0, 0, 1, 0, 0, 1, 0, 1, 0, 1, 0, 0, 1, 0]\n"
     ]
    },
    {
     "name": "stderr",
     "output_type": "stream",
     "text": [
      "168it [10:05,  2.96s/it, BLEU2=0.32, BLEU1=0.384, ExactMatch=0.0148, METEOR=0.574, BertScore=nan, StubScore=0.242]"
     ]
    },
    {
     "name": "stdout",
     "output_type": "stream",
     "text": [
      "True\n",
      "Машина времени впервые гастролировала в крупном городе Ленинграде в 1981 году.\n",
      "Первые большие гастроли группы Машина времени были в городе Ленинград в 1981 году.\n",
      "[0, 0, 0, 0, 0, 0, 1, 0, 0, 0, 0, 0, 1, 0, 0, 0, 0, 0, 1, 0, 0, 1, 0, 0, 1, 0, 1, 0, 1, 0, 0, 1, 0]\n"
     ]
    },
    {
     "name": "stderr",
     "output_type": "stream",
     "text": [
      "169it [10:08,  3.19s/it, BLEU2=0.319, BLEU1=0.383, ExactMatch=0.0147, METEOR=0.573, BertScore=nan, StubScore=0.242]"
     ]
    },
    {
     "name": "stdout",
     "output_type": "stream",
     "text": [
      "True\n",
      "Автор текста описывает концерт группы \"Машина времени\" в 1981 году как \"полный шок\", \"произведение искусства\" и как нечто, что \"олицетворяет мечту, к которой я стремился\".\n",
      "Автор текста описывает свое впечатление от концерта группы Машина времени в 81-м году как \"совершеннейший шок\", потому что он увидел не просто рок-концерт, не просто какое-то музыкальное представление, а это было \"какое-то вообще произведение искусства\".\n",
      "[0, 0, 0, 0, 0, 0, 1, 0, 0, 0, 0, 0, 1, 0, 0, 0, 0, 0, 1, 0, 0, 1, 0, 0, 1, 0, 1, 0, 1, 0, 0, 1, 0]\n"
     ]
    },
    {
     "name": "stderr",
     "output_type": "stream",
     "text": [
      "170it [10:10,  2.67s/it, BLEU2=0.319, BLEU1=0.383, ExactMatch=0.0146, METEOR=0.572, BertScore=nan, StubScore=0.242]"
     ]
    },
    {
     "name": "stdout",
     "output_type": "stream",
     "text": [
      "True\n",
      "Машина времени впервые отправилась в большие гастроли по Ленинграду в 1977 году.\n",
      "В 81-м году у группы Машина времени были первые большие гастроли в Ленинграде.\n",
      "[0, 0, 0, 0, 0, 0, 1, 0, 0, 0, 0, 0, 1, 0, 0, 0, 0, 0, 1, 0, 0, 1, 0, 0, 1, 0, 1, 0, 1, 0, 0, 1, 0]\n",
      "False\n",
      "В тексте не упоминается, откуда были друзья автора, которые ходили с ним на концерт.\n",
      "Товарищи автора, ходившие с ним на концерт были из театрального института.\n"
     ]
    },
    {
     "name": "stderr",
     "output_type": "stream",
     "text": [
      "171it [10:14,  3.01s/it, BLEU2=0.319, BLEU1=0.383, ExactMatch=0.0146, METEOR=0.572, BertScore=nan, StubScore=0.235]"
     ]
    },
    {
     "name": "stdout",
     "output_type": "stream",
     "text": [
      "[0, 0, 0, 0, 0, 0, 1, 0, 0, 0, 0, 0, 1, 0, 0, 0, 0, 0, 1, 0, 0, 1, 0, 0, 1, 0, 1, 0, 1, 0, 0, 1, 0, 0]\n",
      "False\n",
      "Концерт 1981 года группы \"Машина времени\" стал для автора ключевым событием, поскольку он стал поворотным моментом в их карьере и ознаменовал начало их популярности и успеха.\n",
      "Концерт 81 года группы Машина времени для автора определил его жизненный путь, так как он впервые увидел людей, играющих на гитарах и поющих песни, и они олицетворяли собой некую мечту, к которой он стремился.\n"
     ]
    },
    {
     "name": "stderr",
     "output_type": "stream",
     "text": [
      "172it [10:19,  3.67s/it, BLEU2=0.319, BLEU1=0.383, ExactMatch=0.0146, METEOR=0.572, BertScore=nan, StubScore=0.257]"
     ]
    },
    {
     "name": "stdout",
     "output_type": "stream",
     "text": [
      "[0, 0, 0, 0, 0, 0, 1, 0, 0, 0, 0, 0, 1, 0, 0, 0, 0, 0, 1, 0, 0, 1, 0, 0, 1, 0, 1, 0, 1, 0, 0, 1, 0, 0, 1]\n",
      "False\n",
      "Ранние песни Макаревича включали \"Право, кого ты хотел удивить?\", \"Кого ты хотел удивить?\", \"Свеча\", \"Будет день\", \"Хрустальный город\", \"Поворот\", \"Это случилось со мной\", \"Незаметно\", \"Снова в школу\", \"Не хочу быть королем\", \"Я хочу быть с тобой\", \"Не надо печалиться\", \"Я хочу, чтобы ты был счастлив\", \"Я хочу, чтобы ты был счастлив\", \"Я хочу, чтобы ты был счастлив\", \"Я хочу, чтобы ты был счастлив\", \"Я хочу, чтобы ты был счастлив\", \"Я хочу, чтобы ты был счастлив\", \"Я хочу, чтобы ты был счастлив\", \"Я хочу, чтобы ты был счастлив\", \"Я хочу, чтобы ты был счастлив\", \"Я хочу, чтобы ты был счастлив\", \"Я хочу, чтобы ты был счастлив\", \"Я хочу, чтобы ты был счастлив\", \"Я хочу, чтобы ты был счастлив\", \"Я хочу, чтобы ты был счастлив\", \"Я хочу, чтобы ты был счастлив\", \"Я хочу, чтобы ты был счастлив\", \"Я хочу, чтобы ты был счастлив\", \"Я хочу, чтобы ты был счастлив\", \"Я хочу, чтобы ты был счастлив\", \"Я хочу, чтобы ты был счастлив\", \"Я хочу, чтобы ты был счастлив\", \"Я хочу, чтобы ты был счастлив\", \"Я хочу, чтобы ты был счастлив\", \"Я хочу, чтобы ты был счастлив\", \"Я хочу, чтобы ты был счастлив\", \"Я хочу, чтобы ты был счастлив\", \"Я хочу, чтобы ты был счастлив\", \"Я хочу, чтобы ты был счастлив\", \"Я хочу, чтобы ты был счастлив\", \"Я хочу, чтобы ты был счастлив\", \"Я хочу, чтобы ты был счастлив\", \"Я хочу, чтобы ты был счастлив\", \"Я хочу, чтобы ты был счастлив\", \"Я хочу, чтобы ты был счастлив\", \"Я хочу, чтобы ты был счастлив\", \"Я хочу, чтобы ты был счастлив\", \"Я хочу, быть с тобой\", \"Я хочу, чтобы ты был счастлив\", \"Я хочу, чтобы ты был счастлив\", \"Я хочу, чтобы ты был счастлив\", \"Я хочу, чтобы ты был счастлив\", \"Я хочу, чтобы ты был счастлив\", \"Я хочу, чтобы ты был счастлив\", \"Я хочу, чтобы ты был счастлив\", \"Я хочу, чтобы ты был счастлив\", \"Я хочу, чтобы ты был счастлив\", \"Я хочу, чтобы ты был счастлив\", \"Я хочу, чтобы ты был счастлив\",\n",
      "Ранние песни Макаревича были в основном чисто лирическими или шуточными.\n"
     ]
    },
    {
     "name": "stderr",
     "output_type": "stream",
     "text": [
      "173it [11:05, 16.53s/it, BLEU2=0.319, BLEU1=0.383, ExactMatch=0.0146, METEOR=0.572, BertScore=nan, StubScore=0.25] "
     ]
    },
    {
     "name": "stdout",
     "output_type": "stream",
     "text": [
      "[0, 0, 0, 0, 0, 0, 1, 0, 0, 0, 0, 0, 1, 0, 0, 0, 0, 0, 1, 0, 0, 1, 0, 0, 1, 0, 1, 0, 1, 0, 0, 1, 0, 0, 1, 0]\n"
     ]
    },
    {
     "name": "stderr",
     "output_type": "stream",
     "text": [
      "174it [11:09, 12.76s/it, BLEU2=0.317, BLEU1=0.381, ExactMatch=0.0145, METEOR=0.571, BertScore=nan, StubScore=0.25]"
     ]
    },
    {
     "name": "stdout",
     "output_type": "stream",
     "text": [
      "True\n",
      "\"Машина времени\" ориентировалась на собственный репертуар и отличалась от других любительских групп тем, что не исполняла англоязычные хиты, а сосредотачивалась на передаче смысла песен и стимулировании аудитории к размышлениям и обсуждениям.\n",
      "„Машина времени“ ориентировалась на собственный репертуар.\n",
      "[0, 0, 0, 0, 0, 0, 1, 0, 0, 0, 0, 0, 1, 0, 0, 0, 0, 0, 1, 0, 0, 1, 0, 0, 1, 0, 1, 0, 1, 0, 0, 1, 0, 0, 1, 0]\n",
      "False\n",
      "Машина времени стала уникальным явлением в отечественной рок-музыке, существуя уже четыре десятилетия и путешествуя через различные эпохи. Они начали как советские \"Битлз\" и превратились в российских \"Роллинг Стоунз\", став брендом, связывающим поколения. Их дискография, наполненная множеством хитов, стала саундтреком к истории России второй половины прошлого века. Группа олицетворяет гуманистический подход к рок-музыке, который впервые был воплощен \"Битлз\", и их музыка оказала неизгладимое влияние на российскую рок-сцену.\n",
      "\"Машина времени\" стала заметным явлением на нашей эстраде благодаря своему уникальному подходу к исполнению и собственному репертуару.\n"
     ]
    },
    {
     "name": "stderr",
     "output_type": "stream",
     "text": [
      "175it [11:20, 12.17s/it, BLEU2=0.317, BLEU1=0.381, ExactMatch=0.0145, METEOR=0.571, BertScore=nan, StubScore=0.27]"
     ]
    },
    {
     "name": "stdout",
     "output_type": "stream",
     "text": [
      "[0, 0, 0, 0, 0, 0, 1, 0, 0, 0, 0, 0, 1, 0, 0, 0, 0, 0, 1, 0, 0, 1, 0, 0, 1, 0, 1, 0, 1, 0, 0, 1, 0, 0, 1, 0, 1]\n"
     ]
    },
    {
     "name": "stderr",
     "output_type": "stream",
     "text": [
      "176it [11:26, 10.21s/it, BLEU2=0.316, BLEU1=0.379, ExactMatch=0.0144, METEOR=0.572, BertScore=nan, StubScore=0.27]"
     ]
    },
    {
     "name": "stdout",
     "output_type": "stream",
     "text": [
      "True\n",
      "\"Машина времени\" заставляла свою аудиторию задуматься, спорить и, возможно, даже переосмысливать темы, затронутые в их песнях. Их подход был направлен не только на развлечение, но и на то, чтобы донести до слушателей смысл и проблематику музыки, поощряя критическое мышление и убеждение в способности человека стать прекрасным.\n",
      "\"Машина времени\" заставляла аудиторию задуматься, и, возможно, даже поспорить.\n",
      "[0, 0, 0, 0, 0, 0, 1, 0, 0, 0, 0, 0, 1, 0, 0, 0, 0, 0, 1, 0, 0, 1, 0, 0, 1, 0, 1, 0, 1, 0, 0, 1, 0, 0, 1, 0, 1]\n"
     ]
    },
    {
     "name": "stderr",
     "output_type": "stream",
     "text": [
      "177it [11:27,  7.62s/it, BLEU2=0.313, BLEU1=0.379, ExactMatch=0.0143, METEOR=0.569, BertScore=nan, StubScore=0.27]"
     ]
    },
    {
     "name": "stdout",
     "output_type": "stream",
     "text": [
      "True\n",
      "Группа \"Машина времени\" не исполняла англоязычные кавер-версии.\n",
      "Ансамбль не исполнял англоязычные шлягеры.\n",
      "[0, 0, 0, 0, 0, 0, 1, 0, 0, 0, 0, 0, 1, 0, 0, 0, 0, 0, 1, 0, 0, 1, 0, 0, 1, 0, 1, 0, 1, 0, 0, 1, 0, 0, 1, 0, 1]\n",
      "False\n",
      "Песни группы \"Машина времени\" исполнялись в стиле рок.\n",
      "Группа Машина времени исполняла песни в манере фолк-рок.\n"
     ]
    },
    {
     "name": "stderr",
     "output_type": "stream",
     "text": [
      "178it [11:30,  6.28s/it, BLEU2=0.313, BLEU1=0.379, ExactMatch=0.0143, METEOR=0.569, BertScore=nan, StubScore=0.263]"
     ]
    },
    {
     "name": "stdout",
     "output_type": "stream",
     "text": [
      "[0, 0, 0, 0, 0, 0, 1, 0, 0, 0, 0, 0, 1, 0, 0, 0, 0, 0, 1, 0, 0, 1, 0, 0, 1, 0, 1, 0, 1, 0, 0, 1, 0, 0, 1, 0, 1, 0]\n",
      "False\n",
      "Название группы, которая наиболее близко воспроизвела англоязычные кавер-версии песен зарубежных групп и исполнителей, - это Time Machines.\n",
      "Максимально близкое к оригиналу воспроизведение англоязычных композиций зарубежных групп и исполнителей называлось \"фирмой\".\n"
     ]
    },
    {
     "name": "stderr",
     "output_type": "stream",
     "text": [
      "179it [11:35,  5.68s/it, BLEU2=0.313, BLEU1=0.379, ExactMatch=0.0143, METEOR=0.569, BertScore=nan, StubScore=0.256]"
     ]
    },
    {
     "name": "stdout",
     "output_type": "stream",
     "text": [
      "[0, 0, 0, 0, 0, 0, 1, 0, 0, 0, 0, 0, 1, 0, 0, 0, 0, 0, 1, 0, 0, 1, 0, 0, 1, 0, 1, 0, 1, 0, 0, 1, 0, 0, 1, 0, 1, 0, 0]\n"
     ]
    },
    {
     "name": "stderr",
     "output_type": "stream",
     "text": [
      "180it [11:35,  4.08s/it, BLEU2=0.311, BLEU1=0.376, ExactMatch=0.0142, METEOR=0.566, BertScore=nan, StubScore=0.256]"
     ]
    },
    {
     "name": "stdout",
     "output_type": "stream",
     "text": [
      "True\n",
      "Машина времени\n",
      "Группа \"Машина времени\", одной из первых, стала исполнять cвои cобcтвенные пеcни на руccком языке.\n",
      "[0, 0, 0, 0, 0, 0, 1, 0, 0, 0, 0, 0, 1, 0, 0, 0, 0, 0, 1, 0, 0, 1, 0, 0, 1, 0, 1, 0, 1, 0, 0, 1, 0, 0, 1, 0, 1, 0, 0]\n"
     ]
    },
    {
     "name": "stderr",
     "output_type": "stream",
     "text": [
      "181it [11:36,  3.14s/it, BLEU2=0.309, BLEU1=0.373, ExactMatch=0.0141, METEOR=0.562, BertScore=nan, StubScore=0.256]"
     ]
    },
    {
     "name": "stdout",
     "output_type": "stream",
     "text": [
      "True\n",
      "Середина 1970-х.\n",
      "К середине 70-х общий техничеcкий и профеccиональный уровень многих отечеcтвенных рок-музыкантов начал заметно повышаться.\n",
      "[0, 0, 0, 0, 0, 0, 1, 0, 0, 0, 0, 0, 1, 0, 0, 0, 0, 0, 1, 0, 0, 1, 0, 0, 1, 0, 1, 0, 1, 0, 0, 1, 0, 0, 1, 0, 1, 0, 0]\n"
     ]
    },
    {
     "name": "stderr",
     "output_type": "stream",
     "text": [
      "182it [11:38,  2.83s/it, BLEU2=0.308, BLEU1=0.373, ExactMatch=0.014, METEOR=0.561, BertScore=nan, StubScore=0.256] "
     ]
    },
    {
     "name": "stdout",
     "output_type": "stream",
     "text": [
      "True\n",
      "Андрей Макаревич был лидером московской школы, который был близок к поэтической лирике с уклоном в символизм.\n",
      "Лидеры моcковcкой школы, такие как А. Градский или А. Макаревич, были ближе к поэтичеcкой лирике c уклоном в символизм.\n",
      "[0, 0, 0, 0, 0, 0, 1, 0, 0, 0, 0, 0, 1, 0, 0, 0, 0, 0, 1, 0, 0, 1, 0, 0, 1, 0, 1, 0, 1, 0, 0, 1, 0, 0, 1, 0, 1, 0, 0]\n",
      "False\n",
      "Инструментальный базис песен \"Машины времени\" был важен по нескольким причинам. Во-первых, он обеспечивал прочную музыкальную основу для текстов и вокала. Во-вторых, он помогал создать уникальное звучание, отличающее группу от других рок-групп того времени. В-третьих, он позволял ансамблю экспериментировать с различными музыкальными стилями и техниками, что способствовало их эволюции как музыкантов. В целом, инструментальный базис был неотъемлемой частью музыки \"Машины времени\" и сыграл значительную роль в их успехе и влиянии на последующие рок-группы.\n",
      "Чтобы довести до сознания слушателей „текстовую“ надстройку.\n"
     ]
    },
    {
     "name": "stderr",
     "output_type": "stream",
     "text": [
      "183it [11:50,  5.60s/it, BLEU2=0.308, BLEU1=0.373, ExactMatch=0.014, METEOR=0.561, BertScore=nan, StubScore=0.25] "
     ]
    },
    {
     "name": "stdout",
     "output_type": "stream",
     "text": [
      "[0, 0, 0, 0, 0, 0, 1, 0, 0, 0, 0, 0, 1, 0, 0, 0, 0, 0, 1, 0, 0, 1, 0, 0, 1, 0, 1, 0, 1, 0, 0, 1, 0, 0, 1, 0, 1, 0, 0, 0]\n"
     ]
    },
    {
     "name": "stderr",
     "output_type": "stream",
     "text": [
      "184it [11:52,  4.54s/it, BLEU2=0.308, BLEU1=0.373, ExactMatch=0.0139, METEOR=0.562, BertScore=nan, StubScore=0.25]"
     ]
    },
    {
     "name": "stdout",
     "output_type": "stream",
     "text": [
      "True\n",
      "Поэтическая стихия Макаревича ближе к литературной песне (Окуджава, Н. Матвеева), чем к року.\n",
      "Поэтическая стихия Макаревича близка к литературной песне.\n",
      "[0, 0, 0, 0, 0, 0, 1, 0, 0, 0, 0, 0, 1, 0, 0, 0, 0, 0, 1, 0, 0, 1, 0, 0, 1, 0, 1, 0, 1, 0, 0, 1, 0, 0, 1, 0, 1, 0, 0, 0]\n",
      "False\n",
      "Машина времени сыграла значительную роль в истории советской и российской рок-музыки, став уникальным явлением, которое существует уже четыре десятилетия. Они начали как советские \"Битлз\" и превратились в российских \"Роллинг Стоунз\", а их дискография стала саундтреком к истории второй половины прошлого века. Группа имела возможность записывать новые песни и гастролировать по стране благодаря поддержке Росконцерта, что позволило им приобрести оборудование и содержать большой штат. Несмотря на то, что им приходилось исполнять песни советских композиторов, Машина Времени оставалась популярной и даже появлялась в новогодних огоньках.\n",
      "Музыка у Машины времени играет явно подчиненную роль.\n"
     ]
    },
    {
     "name": "stderr",
     "output_type": "stream",
     "text": [
      "185it [12:05,  7.06s/it, BLEU2=0.308, BLEU1=0.373, ExactMatch=0.0139, METEOR=0.562, BertScore=nan, StubScore=0.268]"
     ]
    },
    {
     "name": "stdout",
     "output_type": "stream",
     "text": [
      "[0, 0, 0, 0, 0, 0, 1, 0, 0, 0, 0, 0, 1, 0, 0, 0, 0, 0, 1, 0, 0, 1, 0, 0, 1, 0, 1, 0, 1, 0, 0, 1, 0, 0, 1, 0, 1, 0, 0, 0, 1]\n"
     ]
    },
    {
     "name": "stderr",
     "output_type": "stream",
     "text": [
      "186it [12:07,  5.51s/it, BLEU2=0.308, BLEU1=0.372, ExactMatch=0.0138, METEOR=0.563, BertScore=nan, StubScore=0.268]"
     ]
    },
    {
     "name": "stdout",
     "output_type": "stream",
     "text": [
      "True\n",
      "Резкие, эмоциональные, конкретные стихи В. Высоцкого соответствуют ритму и темпу рок-музыки.\n",
      "Стихи В. Высоцкого соответствуют рок-музыке.\n",
      "[0, 0, 0, 0, 0, 0, 1, 0, 0, 0, 0, 0, 1, 0, 0, 0, 0, 0, 1, 0, 0, 1, 0, 0, 1, 0, 1, 0, 1, 0, 0, 1, 0, 0, 1, 0, 1, 0, 0, 0, 1]\n",
      "False\n",
      "\"Машина времени\" часто подвергается критике за то, что является группой, которая не изменилась и не развивалась со временем.\n",
      "Музыкальная стихия \"Машины времени\" - не чистый рок, а некая смесь рока, кантри, \"городских романсов\" и даже традиционной, образца \"Самоцветов\", ВИА-эстрады.\n"
     ]
    },
    {
     "name": "stderr",
     "output_type": "stream",
     "text": [
      "187it [12:11,  5.07s/it, BLEU2=0.308, BLEU1=0.372, ExactMatch=0.0138, METEOR=0.563, BertScore=nan, StubScore=0.262]"
     ]
    },
    {
     "name": "stdout",
     "output_type": "stream",
     "text": [
      "[0, 0, 0, 0, 0, 0, 1, 0, 0, 0, 0, 0, 1, 0, 0, 0, 0, 0, 1, 0, 0, 1, 0, 0, 1, 0, 1, 0, 1, 0, 0, 1, 0, 0, 1, 0, 1, 0, 0, 0, 1, 0]\n",
      "False\n",
      "К сегодняшнему дню Макар и его товарищи превратились в отдельных музыкантов и артистов, которые продолжают свою карьеру в музыкальной индустрии. Андрей Макаревич, лидер группы, в основном занимается сольной карьерой, а также является лидером группы \"Макар\". Другие участники, такие как Александр Кутиков, Алексей Романов, Сергей Кавагоэ, Валерий Енин, Сергей Савин, Сергей Северин, Александр Бутузов, Сергей Короткин и Владимир Заборовский, также занимаются своими собственными музыкальными проектами и карьерами.\n",
      "Макар с товарищами к сегодняшнему дню превратились в российских „роллингов“.\n"
     ]
    },
    {
     "name": "stderr",
     "output_type": "stream",
     "text": [
      "188it [12:21,  6.62s/it, BLEU2=0.308, BLEU1=0.372, ExactMatch=0.0138, METEOR=0.563, BertScore=nan, StubScore=0.256]"
     ]
    },
    {
     "name": "stdout",
     "output_type": "stream",
     "text": [
      "[0, 0, 0, 0, 0, 0, 1, 0, 0, 0, 0, 0, 1, 0, 0, 0, 0, 0, 1, 0, 0, 1, 0, 0, 1, 0, 1, 0, 1, 0, 0, 1, 0, 0, 1, 0, 1, 0, 0, 0, 1, 0, 0]\n",
      "False\n",
      "Машина Времени начиналась как любительская группа в Москве в 1971 году. Состав группы был нестабильным, и менялся несколько раз. Первоначальными участниками были Андрей Макаревич (гитара и вокал), Сергей Кавагоэ (гитара и ударные) и Александр Кутиков (бас-гитара). Они играли в различных местах, включая бит-клубы и клубы министерства мясной и молочной промышленности СССР. Группа стала более известной после участия в фестивалях, таких как Таллинский фестиваль песни молодежи 1976 года, и начала гастролировать в Ленинграде благодаря знакомству с Борисом Гребенщиковым.\n",
      "Деятельность участники группы Машина времени начинали как советские „битлы“.\n"
     ]
    },
    {
     "name": "stderr",
     "output_type": "stream",
     "text": [
      "189it [12:36,  8.89s/it, BLEU2=0.308, BLEU1=0.372, ExactMatch=0.0138, METEOR=0.563, BertScore=nan, StubScore=0.25] "
     ]
    },
    {
     "name": "stdout",
     "output_type": "stream",
     "text": [
      "[0, 0, 0, 0, 0, 0, 1, 0, 0, 0, 0, 0, 1, 0, 0, 0, 0, 0, 1, 0, 0, 1, 0, 0, 1, 0, 1, 0, 1, 0, 0, 1, 0, 0, 1, 0, 1, 0, 0, 0, 1, 0, 0, 0]\n"
     ]
    },
    {
     "name": "stderr",
     "output_type": "stream",
     "text": [
      "190it [12:36,  6.51s/it, BLEU2=0.305, BLEU1=0.372, ExactMatch=0.0137, METEOR=0.562, BertScore=nan, StubScore=0.25]"
     ]
    },
    {
     "name": "stdout",
     "output_type": "stream",
     "text": [
      "True\n",
      "Машина времени - ровесница телепрограммы \"Время\".\n",
      "Телепрограмма „Время“ ровесница группы Машина времени.\n",
      "[0, 0, 0, 0, 0, 0, 1, 0, 0, 0, 0, 0, 1, 0, 0, 0, 0, 0, 1, 0, 0, 1, 0, 0, 1, 0, 1, 0, 1, 0, 0, 1, 0, 0, 1, 0, 1, 0, 0, 0, 1, 0, 0, 0]\n",
      "False\n",
      "Группа \"Машина времени\" была создана в 1972 году. Чтобы рассчитать количество лет с момента образования группы до настоящего времени, вычтите год образования из текущего года. Например, если текущий год - 2022, то годы существования группы будут рассчитаны следующим образом: 2022 - 1972 = 50 лет.\n",
      "Группе Машина времени четыре десятилетия.\n"
     ]
    },
    {
     "name": "stderr",
     "output_type": "stream",
     "text": [
      "191it [12:44,  6.90s/it, BLEU2=0.305, BLEU1=0.372, ExactMatch=0.0137, METEOR=0.562, BertScore=nan, StubScore=0.244]"
     ]
    },
    {
     "name": "stdout",
     "output_type": "stream",
     "text": [
      "[0, 0, 0, 0, 0, 0, 1, 0, 0, 0, 0, 0, 1, 0, 0, 0, 0, 0, 1, 0, 0, 1, 0, 0, 1, 0, 1, 0, 1, 0, 0, 1, 0, 0, 1, 0, 1, 0, 0, 0, 1, 0, 0, 0, 0]\n",
      "False\n",
      "В 1969 году группа записала первую сессию Time Machines, состоящую из одиннадцати англоязычных песен, написанных участниками группы.\n",
      "Дискография и хиты группы \"Машина времени\" стали саундтреком к советско-российской истории второй половины прошлого века.\n"
     ]
    },
    {
     "name": "stderr",
     "output_type": "stream",
     "text": [
      "192it [12:49,  6.20s/it, BLEU2=0.305, BLEU1=0.372, ExactMatch=0.0137, METEOR=0.562, BertScore=nan, StubScore=0.239]"
     ]
    },
    {
     "name": "stdout",
     "output_type": "stream",
     "text": [
      "[0, 0, 0, 0, 0, 0, 1, 0, 0, 0, 0, 0, 1, 0, 0, 0, 0, 0, 1, 0, 0, 1, 0, 0, 1, 0, 1, 0, 1, 0, 0, 1, 0, 0, 1, 0, 1, 0, 0, 0, 1, 0, 0, 0, 0, 0]\n"
     ]
    },
    {
     "name": "stderr",
     "output_type": "stream",
     "text": [
      "193it [12:51,  4.97s/it, BLEU2=0.307, BLEU1=0.373, ExactMatch=0.0136, METEOR=0.564, BertScore=nan, StubScore=0.239]"
     ]
    },
    {
     "name": "stdout",
     "output_type": "stream",
     "text": [
      "True\n",
      "В течение более полугода, с 23 марта по 23 сентября, вся Россия облекается в белый цвет снежного покрова.\n",
      "В течение более полугода вся Россия облекается в белый цвет снежного савана.\n",
      "[0, 0, 0, 0, 0, 0, 1, 0, 0, 0, 0, 0, 1, 0, 0, 0, 0, 0, 1, 0, 0, 1, 0, 0, 1, 0, 1, 0, 1, 0, 0, 1, 0, 0, 1, 0, 1, 0, 0, 0, 1, 0, 0, 0, 0, 0]\n"
     ]
    },
    {
     "name": "stderr",
     "output_type": "stream",
     "text": [
      "194it [12:53,  4.19s/it, BLEU2=0.31, BLEU1=0.376, ExactMatch=0.0135, METEOR=0.565, BertScore=nan, StubScore=0.239] "
     ]
    },
    {
     "name": "stdout",
     "output_type": "stream",
     "text": [
      "True\n",
      "Особое совещание под председательством К. Н. Посьета в 1896 году обсуждало вопрос о российском национальном флаге.\n",
      "Особое совещание под председательством К. Н. Посьета в 1896 году было для обсуждения вопроса о российском национальном флаге.\n",
      "[0, 0, 0, 0, 0, 0, 1, 0, 0, 0, 0, 0, 1, 0, 0, 0, 0, 0, 1, 0, 0, 1, 0, 0, 1, 0, 1, 0, 1, 0, 0, 1, 0, 0, 1, 0, 1, 0, 0, 0, 1, 0, 0, 0, 0, 0]\n"
     ]
    },
    {
     "name": "stderr",
     "output_type": "stream",
     "text": [
      "195it [12:55,  3.31s/it, BLEU2=0.309, BLEU1=0.375, ExactMatch=0.0134, METEOR=0.564, BertScore=nan, StubScore=0.239]"
     ]
    },
    {
     "name": "stdout",
     "output_type": "stream",
     "text": [
      "True\n",
      "Исходя из пословиц, видно, что народ уважал белый цвет.\n",
      "Исходя из поговорок видно уважение народа к белому цвету.\n",
      "[0, 0, 0, 0, 0, 0, 1, 0, 0, 0, 0, 0, 1, 0, 0, 0, 0, 0, 1, 0, 0, 1, 0, 0, 1, 0, 1, 0, 1, 0, 0, 1, 0, 0, 1, 0, 1, 0, 0, 0, 1, 0, 0, 0, 0, 0]\n"
     ]
    },
    {
     "name": "stderr",
     "output_type": "stream",
     "text": [
      "196it [12:56,  2.80s/it, BLEU2=0.309, BLEU1=0.376, ExactMatch=0.0133, METEOR=0.565, BertScore=nan, StubScore=0.239]"
     ]
    },
    {
     "name": "stdout",
     "output_type": "stream",
     "text": [
      "True\n",
      "Цвета, которые необходимо использовать для эмблематического представления внешнего вида России, - белый, синий и красный.\n",
      "Для эмблематического выражения наружного вида России необходимо употребить цвета: белый, синий и красный.\n",
      "[0, 0, 0, 0, 0, 0, 1, 0, 0, 0, 0, 0, 1, 0, 0, 0, 0, 0, 1, 0, 0, 1, 0, 0, 1, 0, 1, 0, 1, 0, 0, 1, 0, 0, 1, 0, 1, 0, 0, 0, 1, 0, 0, 0, 0, 0]\n"
     ]
    },
    {
     "name": "stderr",
     "output_type": "stream",
     "text": [
      "197it [13:02,  3.75s/it, BLEU2=0.307, BLEU1=0.374, ExactMatch=0.0132, METEOR=0.562, BertScore=nan, StubScore=0.239]"
     ]
    },
    {
     "name": "stdout",
     "output_type": "stream",
     "text": [
      "True\n",
      "Уважение народа к белому цвету, поговорки, такие как \"Русский белый царь\", \"Белая земля - земля церковная\", \"На белой Руси не без добрых людей\", \"Без правды жить, бела света бежать\", а также белый цвет снега, который покрывает Россию более полугода, все вместе указывают на то, что для эмблематического выражения внешнего вида России необходимо использовать цвета: белый, синий и красный.\n",
      "Белый цвет снежного савана, в который вся Россия облекается в течение более полугода.\n",
      "[0, 0, 0, 0, 0, 0, 1, 0, 0, 0, 0, 0, 1, 0, 0, 0, 0, 0, 1, 0, 0, 1, 0, 0, 1, 0, 1, 0, 1, 0, 0, 1, 0, 0, 1, 0, 1, 0, 0, 0, 1, 0, 0, 0, 0, 0]\n",
      "False\n",
      "Человеческие души естественным образом тянутся к пути, присущему их материальному я, и противному их абсолютному я, как описано в тексте 1.\n",
      "К простому человеческому добру и платят долгой и искренней памятью его носителям.\n"
     ]
    },
    {
     "name": "stderr",
     "output_type": "stream",
     "text": [
      "198it [13:06,  3.90s/it, BLEU2=0.307, BLEU1=0.374, ExactMatch=0.0132, METEOR=0.562, BertScore=nan, StubScore=0.234]"
     ]
    },
    {
     "name": "stdout",
     "output_type": "stream",
     "text": [
      "[0, 0, 0, 0, 0, 0, 1, 0, 0, 0, 0, 0, 1, 0, 0, 0, 0, 0, 1, 0, 0, 1, 0, 0, 1, 0, 1, 0, 1, 0, 0, 1, 0, 0, 1, 0, 1, 0, 0, 0, 1, 0, 0, 0, 0, 0, 0]\n",
      "False\n",
      "Песня Андрея Макаревича о непостоянстве называется \"This Happened to Me\".\n",
      "Песня А. Макаревича о непостоянстве называется \" Я с детства склонен к перемене мест\".\n"
     ]
    },
    {
     "name": "stderr",
     "output_type": "stream",
     "text": [
      "199it [13:10,  3.84s/it, BLEU2=0.307, BLEU1=0.374, ExactMatch=0.0132, METEOR=0.562, BertScore=nan, StubScore=0.229]"
     ]
    },
    {
     "name": "stdout",
     "output_type": "stream",
     "text": [
      "[0, 0, 0, 0, 0, 0, 1, 0, 0, 0, 0, 0, 1, 0, 0, 0, 0, 0, 1, 0, 0, 1, 0, 0, 1, 0, 1, 0, 1, 0, 0, 1, 0, 0, 1, 0, 1, 0, 0, 0, 1, 0, 0, 0, 0, 0, 0, 0]\n"
     ]
    },
    {
     "name": "stderr",
     "output_type": "stream",
     "text": [
      "200it [13:15,  4.06s/it, BLEU2=0.306, BLEU1=0.372, ExactMatch=0.0132, METEOR=0.563, BertScore=nan, StubScore=0.229]"
     ]
    },
    {
     "name": "stdout",
     "output_type": "stream",
     "text": [
      "True\n",
      "Леннон и Маккартни привнесли гуманистическое искусство в рок-культуру, которое было отмечено последовательным внедрением его принципов в рок-культуру. Они были первыми, кто интегрировал эти принципы в рок-культуру, обеспечив себе бессмертие и породив благодарных последователей.\n",
      "Леннон и Маккартни привнесли в рок-культуру гуманистическое искусство.\n",
      "[0, 0, 0, 0, 0, 0, 1, 0, 0, 0, 0, 0, 1, 0, 0, 0, 0, 0, 1, 0, 0, 1, 0, 0, 1, 0, 1, 0, 1, 0, 0, 1, 0, 0, 1, 0, 1, 0, 0, 0, 1, 0, 0, 0, 0, 0, 0, 0]\n"
     ]
    },
    {
     "name": "stderr",
     "output_type": "stream",
     "text": [
      "201it [13:17,  3.57s/it, BLEU2=0.305, BLEU1=0.371, ExactMatch=0.0131, METEOR=0.562, BertScore=nan, StubScore=0.229]"
     ]
    },
    {
     "name": "stdout",
     "output_type": "stream",
     "text": [
      "True\n",
      "\"Машина времени\" до сих пор придерживается гуманистического подхода, который был одной из основных характеристик эпохи Битлз.\n",
      "Музыкальное наследие „Машины времени“ привержено до сих пор гуманизму.\n",
      "[0, 0, 0, 0, 0, 0, 1, 0, 0, 0, 0, 0, 1, 0, 0, 0, 0, 0, 1, 0, 0, 1, 0, 0, 1, 0, 1, 0, 1, 0, 0, 1, 0, 0, 1, 0, 1, 0, 0, 0, 1, 0, 0, 0, 0, 0, 0, 0]\n"
     ]
    },
    {
     "name": "stderr",
     "output_type": "stream",
     "text": [
      "202it [13:19,  3.15s/it, BLEU2=0.303, BLEU1=0.37, ExactMatch=0.013, METEOR=0.56, BertScore=nan, StubScore=0.229]   "
     ]
    },
    {
     "name": "stdout",
     "output_type": "stream",
     "text": [
      "True\n",
      "\"Машина времени\" была возведена на пьедестал в нашей рок-культуре благодаря интеграции гуманистического искусства.\n",
      "На „неприкасаемый“ пьедестал возвела „Машину времени“ интеграция в нашу рок-культуру гумманистического искусства.\n",
      "[0, 0, 0, 0, 0, 0, 1, 0, 0, 0, 0, 0, 1, 0, 0, 0, 0, 0, 1, 0, 0, 1, 0, 0, 1, 0, 1, 0, 1, 0, 0, 1, 0, 0, 1, 0, 1, 0, 0, 0, 1, 0, 0, 0, 0, 0, 0, 0]\n"
     ]
    },
    {
     "name": "stderr",
     "output_type": "stream",
     "text": [
      "203it [13:21,  2.74s/it, BLEU2=0.304, BLEU1=0.371, ExactMatch=0.0129, METEOR=0.56, BertScore=nan, StubScore=0.229]"
     ]
    },
    {
     "name": "stdout",
     "output_type": "stream",
     "text": [
      "True\n",
      "Сериал, основанный на фильмах о Шерлоке Холмсе, был снят в 2000 году.\n",
      "Телесериал по мотивам фильма о Шерлоке Холмсе снят в 2000 году.\n",
      "[0, 0, 0, 0, 0, 0, 1, 0, 0, 0, 0, 0, 1, 0, 0, 0, 0, 0, 1, 0, 0, 1, 0, 0, 1, 0, 1, 0, 1, 0, 0, 1, 0, 0, 1, 0, 1, 0, 0, 0, 1, 0, 0, 0, 0, 0, 0, 0]\n"
     ]
    },
    {
     "name": "stderr",
     "output_type": "stream",
     "text": [
      "204it [13:23,  2.46s/it, BLEU2=0.305, BLEU1=0.373, ExactMatch=0.0128, METEOR=0.562, BertScore=nan, StubScore=0.229]"
     ]
    },
    {
     "name": "stdout",
     "output_type": "stream",
     "text": [
      "True\n",
      "Василий Ливанов был награжден Орденом Британской империи за роли в фильмах о Шерлоке Холмсе.\n",
      "Василий Ливанов за роли в фильмах о Шерлоке Холмсе отмечен орденом Британской империи.\n",
      "[0, 0, 0, 0, 0, 0, 1, 0, 0, 0, 0, 0, 1, 0, 0, 0, 0, 0, 1, 0, 0, 1, 0, 0, 1, 0, 1, 0, 1, 0, 0, 1, 0, 0, 1, 0, 1, 0, 0, 0, 1, 0, 0, 0, 0, 0, 0, 0]\n"
     ]
    },
    {
     "name": "stderr",
     "output_type": "stream",
     "text": [
      "205it [13:25,  2.39s/it, BLEU2=0.305, BLEU1=0.373, ExactMatch=0.0127, METEOR=0.563, BertScore=nan, StubScore=0.229]"
     ]
    },
    {
     "name": "stdout",
     "output_type": "stream",
     "text": [
      "True\n",
      "Название телесериала, основанного на фильме о Шерлоке Холмсе, - \"Воспоминания о Шерлоке Холмсе\".\n",
      "Телесериал, снятый по мотивам фильма о Шерлоке Холмсе носит название \"Воспоминания о Шерлоке Холмсе\".\n",
      "[0, 0, 0, 0, 0, 0, 1, 0, 0, 0, 0, 0, 1, 0, 0, 0, 0, 0, 1, 0, 0, 1, 0, 0, 1, 0, 1, 0, 1, 0, 0, 1, 0, 0, 1, 0, 1, 0, 0, 0, 1, 0, 0, 0, 0, 0, 0, 0]\n"
     ]
    },
    {
     "name": "stderr",
     "output_type": "stream",
     "text": [
      "206it [13:28,  2.42s/it, BLEU2=0.307, BLEU1=0.375, ExactMatch=0.0127, METEOR=0.565, BertScore=nan, StubScore=0.229]"
     ]
    },
    {
     "name": "stdout",
     "output_type": "stream",
     "text": [
      "True\n",
      "Василий Ливанов был награжден Орденом Британской империи 23 февраля 2006 года за роли в фильмах о Шерлоке Холмсе.\n",
      "Василий Ливанов награждён орденом Британской империи за роли в фильмах о Шерлоке Холмсе 23 февраля 2006 года.\n",
      "[0, 0, 0, 0, 0, 0, 1, 0, 0, 0, 0, 0, 1, 0, 0, 0, 0, 0, 1, 0, 0, 1, 0, 0, 1, 0, 1, 0, 1, 0, 0, 1, 0, 0, 1, 0, 1, 0, 0, 0, 1, 0, 0, 0, 0, 0, 0, 0]\n"
     ]
    },
    {
     "name": "stderr",
     "output_type": "stream",
     "text": [
      "207it [13:29,  2.18s/it, BLEU2=0.31, BLEU1=0.378, ExactMatch=0.0126, METEOR=0.568, BertScore=nan, StubScore=0.229] "
     ]
    },
    {
     "name": "stdout",
     "output_type": "stream",
     "text": [
      "True\n",
      "В советских фильмах о Шерлоке Холмсе главные роли исполнили Василий Ливанов и Виталий Соломин.\n",
      "Василий Ливанов и Виталий Соломин исполнили главные роли в советских фильмах о Шерлоке Холмсе.\n",
      "[0, 0, 0, 0, 0, 0, 1, 0, 0, 0, 0, 0, 1, 0, 0, 0, 0, 0, 1, 0, 0, 1, 0, 0, 1, 0, 1, 0, 1, 0, 0, 1, 0, 0, 1, 0, 1, 0, 0, 0, 1, 0, 0, 0, 0, 0, 0, 0]\n"
     ]
    },
    {
     "name": "stderr",
     "output_type": "stream",
     "text": [
      "208it [13:40,  4.76s/it, BLEU2=0.308, BLEU1=0.376, ExactMatch=0.0125, METEOR=0.566, BertScore=nan, StubScore=0.229]"
     ]
    },
    {
     "name": "stdout",
     "output_type": "stream",
     "text": [
      "True\n",
      "В тексте упоминаются внутренние части кратеров Эндимион, Юлий Цезарь, Витрувий, Питат, Гиппас, Тарутий, Теофил, Паррот, Флемстид, Архимед, Птолемей, Коперник, Араго, Буллиальд, Пикар, Тимохарис, Аристид, Вихман, Кеплер, Эвклид, Годен, Коперник, Прокл, Гиппарх, Местинг А, Мерсенн и Аристарх.\n",
      "Внутренние части и центральный пик кратера Аристарх.\n",
      "[0, 0, 0, 0, 0, 0, 1, 0, 0, 0, 0, 0, 1, 0, 0, 0, 0, 0, 1, 0, 0, 1, 0, 0, 1, 0, 1, 0, 1, 0, 0, 1, 0, 0, 1, 0, 1, 0, 0, 0, 1, 0, 0, 0, 0, 0, 0, 0]\n"
     ]
    },
    {
     "name": "stderr",
     "output_type": "stream",
     "text": [
      "209it [13:42,  3.92s/it, BLEU2=0.307, BLEU1=0.376, ExactMatch=0.0124, METEOR=0.567, BertScore=nan, StubScore=0.229]"
     ]
    },
    {
     "name": "stdout",
     "output_type": "stream",
     "text": [
      "True\n",
      "Часть кратера Архимед, упомянутая в тексте под 3½°, является внутренней частью кратера.\n",
      "Внутренняя часть кратера Архимед упоминается в тексте под 3½°.\n",
      "[0, 0, 0, 0, 0, 0, 1, 0, 0, 0, 0, 0, 1, 0, 0, 0, 0, 0, 1, 0, 0, 1, 0, 0, 1, 0, 1, 0, 1, 0, 0, 1, 0, 0, 1, 0, 1, 0, 0, 0, 1, 0, 0, 0, 0, 0, 0, 0]\n"
     ]
    },
    {
     "name": "stderr",
     "output_type": "stream",
     "text": [
      "210it [13:44,  3.50s/it, BLEU2=0.308, BLEU1=0.377, ExactMatch=0.0123, METEOR=0.569, BertScore=nan, StubScore=0.229]"
     ]
    },
    {
     "name": "stdout",
     "output_type": "stream",
     "text": [
      "True\n",
      "Пик, упомянутый в тексте вместе с кратерами Теэтет и Зонгрен, - это Пик Ла-Гира.\n",
      "Ла-Гира упоминается в тексте вместе с кратерами Теэтет и Зонгрен.\n",
      "[0, 0, 0, 0, 0, 0, 1, 0, 0, 0, 0, 0, 1, 0, 0, 0, 0, 0, 1, 0, 0, 1, 0, 0, 1, 0, 1, 0, 1, 0, 0, 1, 0, 0, 1, 0, 1, 0, 0, 0, 1, 0, 0, 0, 0, 0, 0, 0]\n"
     ]
    },
    {
     "name": "stderr",
     "output_type": "stream",
     "text": [
      "211it [13:47,  3.20s/it, BLEU2=0.309, BLEU1=0.377, ExactMatch=0.0123, METEOR=0.57, BertScore=nan, StubScore=0.229] "
     ]
    },
    {
     "name": "stdout",
     "output_type": "stream",
     "text": [
      "True\n",
      "Второй кратер, упомянутый в тексте вместе с кратером Гримальди, - это кратер Дарвина.\n",
      "Риччоли упоминается в тексте вместе с кратером Гримальди.\n",
      "[0, 0, 0, 0, 0, 0, 1, 0, 0, 0, 0, 0, 1, 0, 0, 0, 0, 0, 1, 0, 0, 1, 0, 0, 1, 0, 1, 0, 1, 0, 0, 1, 0, 0, 1, 0, 1, 0, 0, 0, 1, 0, 0, 0, 0, 0, 0, 0]\n"
     ]
    },
    {
     "name": "stderr",
     "output_type": "stream",
     "text": [
      "212it [13:49,  2.99s/it, BLEU2=0.308, BLEU1=0.375, ExactMatch=0.0122, METEOR=0.569, BertScore=nan, StubScore=0.229]"
     ]
    },
    {
     "name": "stdout",
     "output_type": "stream",
     "text": [
      "True\n",
      "В тексте на странице 4½° упоминается поверхность вокруг кратеров Аристилл, Центральный бассейн, а также вокруг кратеров Коперник.\n",
      "Поверхность вокруг кратеров Аристилл, Центрального залива.\n",
      "[0, 0, 0, 0, 0, 0, 1, 0, 0, 0, 0, 0, 1, 0, 0, 0, 0, 0, 1, 0, 0, 1, 0, 0, 1, 0, 1, 0, 1, 0, 0, 1, 0, 0, 1, 0, 1, 0, 0, 0, 1, 0, 0, 0, 0, 0, 0, 0]\n"
     ]
    },
    {
     "name": "stderr",
     "output_type": "stream",
     "text": [
      "213it [13:50,  2.34s/it, BLEU2=0.307, BLEU1=0.374, ExactMatch=0.0121, METEOR=0.568, BertScore=nan, StubScore=0.229]"
     ]
    },
    {
     "name": "stdout",
     "output_type": "stream",
     "text": [
      "True\n",
      "1 апреля 1778 года\n",
      "Ла Файет присоединился 1 апреля 1778 года к главным силам Вашингтона.\n",
      "[0, 0, 0, 0, 0, 0, 1, 0, 0, 0, 0, 0, 1, 0, 0, 0, 0, 0, 1, 0, 0, 1, 0, 0, 1, 0, 1, 0, 1, 0, 0, 1, 0, 0, 1, 0, 1, 0, 0, 0, 1, 0, 0, 0, 0, 0, 0, 0]\n"
     ]
    },
    {
     "name": "stderr",
     "output_type": "stream",
     "text": [
      "214it [13:52,  2.18s/it, BLEU2=0.307, BLEU1=0.375, ExactMatch=0.012, METEOR=0.568, BertScore=nan, StubScore=0.229] "
     ]
    },
    {
     "name": "stdout",
     "output_type": "stream",
     "text": [
      "True\n",
      "Лафайет присоединился к главным силам Вашингтона в Вэлли-оф-Джэдж.\n",
      "Ла Файет присоединился в Вэлли-Фодж к главным силам Вашингтона.\n",
      "[0, 0, 0, 0, 0, 0, 1, 0, 0, 0, 0, 0, 1, 0, 0, 0, 0, 0, 1, 0, 0, 1, 0, 0, 1, 0, 1, 0, 1, 0, 0, 1, 0, 0, 1, 0, 1, 0, 0, 0, 1, 0, 0, 0, 0, 0, 0, 0]\n"
     ]
    },
    {
     "name": "stderr",
     "output_type": "stream",
     "text": [
      "215it [13:53,  1.82s/it, BLEU2=0.306, BLEU1=0.373, ExactMatch=0.012, METEOR=0.566, BertScore=nan, StubScore=0.229]"
     ]
    },
    {
     "name": "stdout",
     "output_type": "stream",
     "text": [
      "True\n",
      "18 мая 1778 года.\n",
      "18 мая 1778 года Вашингтон доверил Ла Файету руководство операцией, имевшей целью провести разведку боем в районе Филадельфии\n",
      "[0, 0, 0, 0, 0, 0, 1, 0, 0, 0, 0, 0, 1, 0, 0, 0, 0, 0, 1, 0, 0, 1, 0, 0, 1, 0, 1, 0, 1, 0, 0, 1, 0, 0, 1, 0, 1, 0, 0, 0, 1, 0, 0, 0, 0, 0, 0, 0]\n"
     ]
    },
    {
     "name": "stderr",
     "output_type": "stream",
     "text": [
      "216it [13:56,  2.18s/it, BLEU2=0.304, BLEU1=0.372, ExactMatch=0.0119, METEOR=0.567, BertScore=nan, StubScore=0.229]"
     ]
    },
    {
     "name": "stdout",
     "output_type": "stream",
     "text": [
      "True\n",
      "Нет, генерал Потер не прибыл к назначенному сроку для соединения с Ла Файетом в районе Баннер-Хилла (Пенсильвания).\n",
      "Генерал Потер опоздал к назначенному сроку.\n",
      "[0, 0, 0, 0, 0, 0, 1, 0, 0, 0, 0, 0, 1, 0, 0, 0, 0, 0, 1, 0, 0, 1, 0, 0, 1, 0, 1, 0, 1, 0, 0, 1, 0, 0, 1, 0, 1, 0, 0, 0, 1, 0, 0, 0, 0, 0, 0, 0]\n"
     ]
    },
    {
     "name": "stderr",
     "output_type": "stream",
     "text": [
      "217it [13:58,  2.01s/it, BLEU2=0.304, BLEU1=0.372, ExactMatch=0.0118, METEOR=0.566, BertScore=nan, StubScore=0.229]"
     ]
    },
    {
     "name": "stdout",
     "output_type": "stream",
     "text": [
      "True\n",
      "20 мая в дивизии Лафайета было 3 500 человек.\n",
      "2500 человек при 5 орудиях было в дивизии Ла Файета 20 мая.\n",
      "[0, 0, 0, 0, 0, 0, 1, 0, 0, 0, 0, 0, 1, 0, 0, 0, 0, 0, 1, 0, 0, 1, 0, 0, 1, 0, 1, 0, 1, 0, 0, 1, 0, 0, 1, 0, 1, 0, 0, 0, 1, 0, 0, 0, 0, 0, 0, 0]\n"
     ]
    },
    {
     "name": "stderr",
     "output_type": "stream",
     "text": [
      "218it [13:59,  1.90s/it, BLEU2=0.304, BLEU1=0.373, ExactMatch=0.0118, METEOR=0.568, BertScore=nan, StubScore=0.229]"
     ]
    },
    {
     "name": "stdout",
     "output_type": "stream",
     "text": [
      "True\n",
      "Газета \"Северный рабочий\" из Северодвинска объявила конкурс на создание флага и герба города в 2014 году.\n",
      "Газета Северный рабочий в 2014 году объявила состязание на создание флага и герба города.\n",
      "[0, 0, 0, 0, 0, 0, 1, 0, 0, 0, 0, 0, 1, 0, 0, 0, 0, 0, 1, 0, 0, 1, 0, 0, 1, 0, 1, 0, 1, 0, 0, 1, 0, 0, 1, 0, 1, 0, 0, 0, 1, 0, 0, 0, 0, 0, 0, 0]\n"
     ]
    },
    {
     "name": "stderr",
     "output_type": "stream",
     "text": [
      "219it [14:02,  2.01s/it, BLEU2=0.305, BLEU1=0.373, ExactMatch=0.0117, METEOR=0.57, BertScore=nan, StubScore=0.229] "
     ]
    },
    {
     "name": "stdout",
     "output_type": "stream",
     "text": [
      "True\n",
      "Комиссия, принимающая идеи для создания флага и герба города Северодвинска в 2014 году, была создана городским управлением культуры и общественных связей.\n",
      "Комиссия была создана городским управлением культуры и общественных связей.\n",
      "[0, 0, 0, 0, 0, 0, 1, 0, 0, 0, 0, 0, 1, 0, 0, 0, 0, 0, 1, 0, 0, 1, 0, 0, 1, 0, 1, 0, 1, 0, 0, 1, 0, 0, 1, 0, 1, 0, 0, 0, 1, 0, 0, 0, 0, 0, 0, 0]\n"
     ]
    },
    {
     "name": "stderr",
     "output_type": "stream",
     "text": [
      "220it [14:04,  2.05s/it, BLEU2=0.305, BLEU1=0.373, ExactMatch=0.0116, METEOR=0.571, BertScore=nan, StubScore=0.229]"
     ]
    },
    {
     "name": "stdout",
     "output_type": "stream",
     "text": [
      "True\n",
      "Решение о проведении конкурса на разработку герба и флага города Северодвинска было принято депутатами Северодвинска на их последней сессии перед летними каникулами в 2014 году.\n",
      "Решение об организации конкурса по созданию герба и флага города Северодвинска в 2014 году было принято депутатами Северодвинска.\n",
      "[0, 0, 0, 0, 0, 0, 1, 0, 0, 0, 0, 0, 1, 0, 0, 0, 0, 0, 1, 0, 0, 1, 0, 0, 1, 0, 1, 0, 1, 0, 0, 1, 0, 0, 1, 0, 1, 0, 0, 0, 1, 0, 0, 0, 0, 0, 0, 0]\n"
     ]
    },
    {
     "name": "stderr",
     "output_type": "stream",
     "text": [
      "221it [14:05,  1.74s/it, BLEU2=0.304, BLEU1=0.372, ExactMatch=0.0116, METEOR=0.569, BertScore=nan, StubScore=0.229]"
     ]
    },
    {
     "name": "stdout",
     "output_type": "stream",
     "text": [
      "True\n",
      "Когда был проведен конкурс на создание герба и флага города Северодвинска?\n",
      "Конкурс по созданию герба и флага города Северодвинска проходил с 14 июля по 14 октября 2014 года.\n",
      "[0, 0, 0, 0, 0, 0, 1, 0, 0, 0, 0, 0, 1, 0, 0, 0, 0, 0, 1, 0, 0, 1, 0, 0, 1, 0, 1, 0, 1, 0, 0, 1, 0, 0, 1, 0, 1, 0, 0, 0, 1, 0, 0, 0, 0, 0, 0, 0]\n"
     ]
    },
    {
     "name": "stderr",
     "output_type": "stream",
     "text": [
      "222it [14:09,  2.37s/it, BLEU2=0.304, BLEU1=0.373, ExactMatch=0.0115, METEOR=0.57, BertScore=nan, StubScore=0.229] "
     ]
    },
    {
     "name": "stdout",
     "output_type": "stream",
     "text": [
      "True\n",
      "В 2014 году в Северодвинске было проведено соревнование по созданию герба и флага. Соревнование было организовано городской администрацией культуры и общественных связей, и в нем могли принять участие как отдельные художники, так и коллективы.\n",
      "В конкурсе по созданию герба и флага Северодвинска в 2014 году приняли участие как отдельные творцы, так и коллективы.\n",
      "[0, 0, 0, 0, 0, 0, 1, 0, 0, 0, 0, 0, 1, 0, 0, 0, 0, 0, 1, 0, 0, 1, 0, 0, 1, 0, 1, 0, 1, 0, 0, 1, 0, 0, 1, 0, 1, 0, 0, 0, 1, 0, 0, 0, 0, 0, 0, 0]\n"
     ]
    },
    {
     "name": "stderr",
     "output_type": "stream",
     "text": [
      "223it [14:29,  7.68s/it, BLEU2=0.303, BLEU1=0.371, ExactMatch=0.0114, METEOR=0.568, BertScore=nan, StubScore=0.229]"
     ]
    },
    {
     "name": "stdout",
     "output_type": "stream",
     "text": [
      "True\n",
      "Первый мая отмечается как национальный праздник в нескольких странах, включая Австрию, Албанию, Аргентину, Армению, Арубу, Бангладеш, Беларусь, Бельгию, Болгарию, Боснию и Герцеговину, Бразилию, Вьетнам, Гонконг, Доминиканскую Республику, Египет, Замбию, Замбию, Индию, Иорданию, Казахстан, Камерун, Кению, Киргизию, Китай, Колумбию, Коста-Рику, Кот-д'Ивуар, Кубу, Латвию, Литву, Малайзию, Маврикий, Мексику, Молдову, Норвегию, Пакистан, Парагвай, Перу, Польшу, Португалию, Россию, Румынию, Сербию, Сингапур, Сирию, Словакию, Словению, Таиланд, Турцию, Украину, Уругвай, Филиппины, Финляндию, Францию, Хорватию, Чили, Черногорию, Чехию, Швецию, Южную Корею, Южную Африку, Южную Корею, Эстонию, Эквадор и Эстонию.\n",
      "1 мая отмечается в перечне стран как национальный праздник.\n",
      "[0, 0, 0, 0, 0, 0, 1, 0, 0, 0, 0, 0, 1, 0, 0, 0, 0, 0, 1, 0, 0, 1, 0, 0, 1, 0, 1, 0, 1, 0, 0, 1, 0, 0, 1, 0, 1, 0, 0, 0, 1, 0, 0, 0, 0, 0, 0, 0]\n"
     ]
    },
    {
     "name": "stderr",
     "output_type": "stream",
     "text": [
      "224it [14:30,  5.85s/it, BLEU2=0.306, BLEU1=0.374, ExactMatch=0.0114, METEOR=0.57, BertScore=nan, StubScore=0.229] "
     ]
    },
    {
     "name": "stdout",
     "output_type": "stream",
     "text": [
      "True\n",
      "Греция, Гондурас и Германия отмечают 1 мая как национальный праздник.\n",
      "Да, Греция, Гондурас и Германия отмечают 1 мая как национальный праздник.\n",
      "[0, 0, 0, 0, 0, 0, 1, 0, 0, 0, 0, 0, 1, 0, 0, 0, 0, 0, 1, 0, 0, 1, 0, 0, 1, 0, 1, 0, 1, 0, 0, 1, 0, 0, 1, 0, 1, 0, 0, 0, 1, 0, 0, 0, 0, 0, 0, 0]\n"
     ]
    },
    {
     "name": "stderr",
     "output_type": "stream",
     "text": [
      "225it [14:32,  4.61s/it, BLEU2=0.306, BLEU1=0.375, ExactMatch=0.0113, METEOR=0.571, BertScore=nan, StubScore=0.229]"
     ]
    },
    {
     "name": "stdout",
     "output_type": "stream",
     "text": [
      "True\n",
      "Да, 1 мая отмечается как национальный праздник в КНДР, на Кубе и в Филиппинах.\n",
      "Да, КНДР, Куба и Филиппины отмечают 1 мая как национальный праздник.\n",
      "[0, 0, 0, 0, 0, 0, 1, 0, 0, 0, 0, 0, 1, 0, 0, 0, 0, 0, 1, 0, 0, 1, 0, 0, 1, 0, 1, 0, 1, 0, 0, 1, 0, 0, 1, 0, 1, 0, 0, 0, 1, 0, 0, 0, 0, 0, 0, 0]\n"
     ]
    },
    {
     "name": "stderr",
     "output_type": "stream",
     "text": [
      "226it [14:34,  3.70s/it, BLEU2=0.306, BLEU1=0.376, ExactMatch=0.0112, METEOR=0.571, BertScore=nan, StubScore=0.229]"
     ]
    },
    {
     "name": "stdout",
     "output_type": "stream",
     "text": [
      "True\n",
      "Да, 1 мая отмечается как национальный праздник в Чили, Хорватии и Российской Федерации.\n",
      "Да, Чили, Хорватия и Российская Федерация отмечают 1 мая как национальный праздник.\n",
      "[0, 0, 0, 0, 0, 0, 1, 0, 0, 0, 0, 0, 1, 0, 0, 0, 0, 0, 1, 0, 0, 1, 0, 0, 1, 0, 1, 0, 1, 0, 0, 1, 0, 0, 1, 0, 1, 0, 0, 0, 1, 0, 0, 0, 0, 0, 0, 0]\n"
     ]
    },
    {
     "name": "stderr",
     "output_type": "stream",
     "text": [
      "227it [14:35,  3.13s/it, BLEU2=0.306, BLEU1=0.376, ExactMatch=0.0112, METEOR=0.571, BertScore=nan, StubScore=0.229]"
     ]
    },
    {
     "name": "stdout",
     "output_type": "stream",
     "text": [
      "True\n",
      "Да, 1 мая отмечается как национальный праздник в Южной Корее, Эквадоре и Шри-Ланке.\n",
      "Да, Южная Корея, Эквадор и Шри-Ланка отмечают 1 мая как национальный праздник.\n",
      "[0, 0, 0, 0, 0, 0, 1, 0, 0, 0, 0, 0, 1, 0, 0, 0, 0, 0, 1, 0, 0, 1, 0, 0, 1, 0, 1, 0, 1, 0, 0, 1, 0, 0, 1, 0, 1, 0, 0, 0, 1, 0, 0, 0, 0, 0, 0, 0]\n"
     ]
    },
    {
     "name": "stderr",
     "output_type": "stream",
     "text": [
      "228it [14:38,  2.89s/it, BLEU2=0.308, BLEU1=0.378, ExactMatch=0.0111, METEOR=0.573, BertScore=nan, StubScore=0.229]"
     ]
    },
    {
     "name": "stdout",
     "output_type": "stream",
     "text": [
      "True\n",
      "Мадонна впервые публично раскритиковала убийство леопарда сыновьями Трампа за два месяца до президентских выборов в США.\n",
      "За два месяц до президентских выборов в США Мадонна впервые публично раскритиковала убийство леопарда сыновьями Трампа.\n",
      "[0, 0, 0, 0, 0, 0, 1, 0, 0, 0, 0, 0, 1, 0, 0, 0, 0, 0, 1, 0, 0, 1, 0, 0, 1, 0, 1, 0, 1, 0, 0, 1, 0, 0, 1, 0, 1, 0, 0, 0, 1, 0, 0, 0, 0, 0, 0, 0]\n"
     ]
    },
    {
     "name": "stderr",
     "output_type": "stream",
     "text": [
      "229it [14:42,  3.29s/it, BLEU2=0.308, BLEU1=0.378, ExactMatch=0.011, METEOR=0.574, BertScore=nan, StubScore=0.229] "
     ]
    },
    {
     "name": "stdout",
     "output_type": "stream",
     "text": [
      "True\n",
      "1 сентября 2016 года Мадонна публично раскритиковала убийство леопарда сыновьями Трампа и призвала своих подписчиков в Instagram голосовать за Хиллари Клинтон, свою дальнюю кузину по матери.\n",
      "Мадонна призвала голосовать за Хиллари Клинтон 1 сентября 2016 года в своём Instagram-аккаунте.\n",
      "[0, 0, 0, 0, 0, 0, 1, 0, 0, 0, 0, 0, 1, 0, 0, 0, 0, 0, 1, 0, 0, 1, 0, 0, 1, 0, 1, 0, 1, 0, 0, 1, 0, 0, 1, 0, 1, 0, 0, 0, 1, 0, 0, 0, 0, 0, 0, 0]\n"
     ]
    },
    {
     "name": "stderr",
     "output_type": "stream",
     "text": [
      "230it [14:44,  2.89s/it, BLEU2=0.309, BLEU1=0.38, ExactMatch=0.011, METEOR=0.575, BertScore=nan, StubScore=0.229] "
     ]
    },
    {
     "name": "stdout",
     "output_type": "stream",
     "text": [
      "True\n",
      "Некоторые политики восприняли слова Мадонны как серьезное предвыборное обещание, данное во время ее концерта в Нью-Йорке.\n",
      "Некоторые политики с подачи СМИ восприняли шуточные слова Мадонны как серьёзное предвыборное обещание, данное якобы во время её концерта в Нью-Йорке.\n",
      "[0, 0, 0, 0, 0, 0, 1, 0, 0, 0, 0, 0, 1, 0, 0, 0, 0, 0, 1, 0, 0, 1, 0, 0, 1, 0, 1, 0, 1, 0, 0, 1, 0, 0, 1, 0, 1, 0, 0, 0, 1, 0, 0, 0, 0, 0, 0, 0]\n"
     ]
    },
    {
     "name": "stderr",
     "output_type": "stream",
     "text": [
      "231it [14:46,  2.61s/it, BLEU2=0.311, BLEU1=0.381, ExactMatch=0.0109, METEOR=0.577, BertScore=nan, StubScore=0.229]"
     ]
    },
    {
     "name": "stdout",
     "output_type": "stream",
     "text": [
      "True\n",
      "Мадонна дала концерт в поддержку своего кандидата в президенты США 6 ноября 2016 года в Нью-Йорке.\n",
      "6 ноября Мадонна дала концерт в поддержку своего кандидата в президенты США.\n",
      "[0, 0, 0, 0, 0, 0, 1, 0, 0, 0, 0, 0, 1, 0, 0, 0, 0, 0, 1, 0, 0, 1, 0, 0, 1, 0, 1, 0, 1, 0, 0, 1, 0, 0, 1, 0, 1, 0, 0, 0, 1, 0, 0, 0, 0, 0, 0, 0]\n"
     ]
    },
    {
     "name": "stderr",
     "output_type": "stream",
     "text": [
      "232it [14:49,  2.91s/it, BLEU2=0.309, BLEU1=0.38, ExactMatch=0.0109, METEOR=0.575, BertScore=nan, StubScore=0.229] "
     ]
    },
    {
     "name": "stdout",
     "output_type": "stream",
     "text": [
      "True\n",
      "Альбом Elton John's Christmas Party изначально был выпущен ограниченным тиражом для продажи в кофейнях Starbucks. Два доллара с каждой проданной копии шли в его фонд по борьбе со СПИДом.\n",
      "Сборник Elton John s Christmas Party первоначально продавался через сеть кафе Старбакс.\n",
      "[0, 0, 0, 0, 0, 0, 1, 0, 0, 0, 0, 0, 1, 0, 0, 0, 0, 0, 1, 0, 0, 1, 0, 0, 1, 0, 1, 0, 1, 0, 0, 1, 0, 0, 1, 0, 1, 0, 0, 0, 1, 0, 0, 0, 0, 0, 0, 0]\n"
     ]
    },
    {
     "name": "stderr",
     "output_type": "stream",
     "text": [
      "233it [14:51,  2.60s/it, BLEU2=0.311, BLEU1=0.382, ExactMatch=0.0108, METEOR=0.577, BertScore=nan, StubScore=0.229]"
     ]
    },
    {
     "name": "stdout",
     "output_type": "stream",
     "text": [
      "True\n",
      "Альбом Elton John's Christmas Party был выпущен в широкую продажу 10 октября 2006 года.\n",
      "Альбом Elton John s Christmas Party поступил в широкую продажу 10 октября 2006 года.\n",
      "[0, 0, 0, 0, 0, 0, 1, 0, 0, 0, 0, 0, 1, 0, 0, 0, 0, 0, 1, 0, 0, 1, 0, 0, 1, 0, 1, 0, 1, 0, 0, 1, 0, 0, 1, 0, 1, 0, 0, 0, 1, 0, 0, 0, 0, 0, 0, 0]\n"
     ]
    },
    {
     "name": "stderr",
     "output_type": "stream",
     "text": [
      "234it [14:52,  2.09s/it, BLEU2=0.31, BLEU1=0.381, ExactMatch=0.0108, METEOR=0.576, BertScore=nan, StubScore=0.229] "
     ]
    },
    {
     "name": "stdout",
     "output_type": "stream",
     "text": [
      "True\n",
      "10 ноября 2005 года.\n",
      "Сборник Elton John s Christmas Party вышел 10 ноября 2005.\n",
      "[0, 0, 0, 0, 0, 0, 1, 0, 0, 0, 0, 0, 1, 0, 0, 0, 0, 0, 1, 0, 0, 1, 0, 0, 1, 0, 1, 0, 1, 0, 0, 1, 0, 0, 1, 0, 1, 0, 0, 0, 1, 0, 0, 0, 0, 0, 0, 0]\n"
     ]
    },
    {
     "name": "stderr",
     "output_type": "stream",
     "text": [
      "235it [14:55,  2.22s/it, BLEU2=0.31, BLEU1=0.38, ExactMatch=0.0107, METEOR=0.576, BertScore=nan, StubScore=0.229] "
     ]
    },
    {
     "name": "stdout",
     "output_type": "stream",
     "text": [
      "True\n",
      "Два доллара от каждой продажи сборника \"Elton John's Christmas Party\" шли в его благотворительный фонд по борьбе со СПИДом (Elton John AIDS Foundation).\n",
      "В благотворительную организацию по борьбе со СПИДом Elton John AIDS Foundation.\n",
      "[0, 0, 0, 0, 0, 0, 1, 0, 0, 0, 0, 0, 1, 0, 0, 0, 0, 0, 1, 0, 0, 1, 0, 0, 1, 0, 1, 0, 1, 0, 0, 1, 0, 0, 1, 0, 1, 0, 0, 0, 1, 0, 0, 0, 0, 0, 0, 0]\n"
     ]
    },
    {
     "name": "stderr",
     "output_type": "stream",
     "text": [
      "236it [14:56,  1.94s/it, BLEU2=0.308, BLEU1=0.378, ExactMatch=0.0106, METEOR=0.574, BertScore=nan, StubScore=0.229]"
     ]
    },
    {
     "name": "stdout",
     "output_type": "stream",
     "text": [
      "True\n",
      "В Elton John's Christmas Party было 21 композиция.\n",
      "В сборник Elton John s Christmas Party, выпущенный 10 ноября 2005 года, входили 21 композиция. Однако 6 песен из первоначального списка (куда входила 21 композиция) были исключены.\n",
      "[0, 0, 0, 0, 0, 0, 1, 0, 0, 0, 0, 0, 1, 0, 0, 0, 0, 0, 1, 0, 0, 1, 0, 0, 1, 0, 1, 0, 1, 0, 0, 1, 0, 0, 1, 0, 1, 0, 0, 0, 1, 0, 0, 0, 0, 0, 0, 0]\n"
     ]
    },
    {
     "name": "stderr",
     "output_type": "stream",
     "text": [
      "237it [15:02,  3.10s/it, BLEU2=0.307, BLEU1=0.376, ExactMatch=0.0106, METEOR=0.573, BertScore=nan, StubScore=0.229]"
     ]
    },
    {
     "name": "stdout",
     "output_type": "stream",
     "text": [
      "True\n",
      "В 11-м фильме \"Звёздный путь\" \"Звёздный путь\" (2009) Нерон путешествует во времени из будущего, чтобы убить молодого Кирка и Спока, что приводит к изменению судьбы главных персонажей. Это событие делает фильм не приквелом к оригинальному сериалу, а скорее историей, происходящей в альтернативной временной линии.\n",
      "Меняет судьбы главных героев.\n",
      "[0, 0, 0, 0, 0, 0, 1, 0, 0, 0, 0, 0, 1, 0, 0, 0, 0, 0, 1, 0, 0, 1, 0, 0, 1, 0, 1, 0, 1, 0, 0, 1, 0, 0, 1, 0, 1, 0, 0, 0, 1, 0, 0, 0, 0, 0, 0, 0]\n"
     ]
    },
    {
     "name": "stderr",
     "output_type": "stream",
     "text": [
      "238it [15:06,  3.30s/it, BLEU2=0.306, BLEU1=0.376, ExactMatch=0.0105, METEOR=0.573, BertScore=nan, StubScore=0.229]"
     ]
    },
    {
     "name": "stdout",
     "output_type": "stream",
     "text": [
      "True\n",
      "Основной сюжетной линией одиннадцатого фильма \"Звёздный путь\" является начало карьеры Джеймса Кирка и Спока, а также события, связанные с прыжком Нерона из будущего, что приводит к изменениям в судьбах главных героев и созданию альтернативной временной линии.\n",
      "Главная сюжетная линия одиннадцатого фильма \"Звёздный путь\" связана с прыжком из будущего Нерона, который меняет судьбы главных героев.\n",
      "[0, 0, 0, 0, 0, 0, 1, 0, 0, 0, 0, 0, 1, 0, 0, 0, 0, 0, 1, 0, 0, 1, 0, 0, 1, 0, 1, 0, 1, 0, 0, 1, 0, 0, 1, 0, 1, 0, 0, 0, 1, 0, 0, 0, 0, 0, 0, 0]\n"
     ]
    },
    {
     "name": "stderr",
     "output_type": "stream",
     "text": [
      "239it [15:12,  4.23s/it, BLEU2=0.304, BLEU1=0.374, ExactMatch=0.0105, METEOR=0.571, BertScore=nan, StubScore=0.229]"
     ]
    },
    {
     "name": "stdout",
     "output_type": "stream",
     "text": [
      "True\n",
      "В 11-м фильме \"Звёздный путь\" \"Звёздный путь\" (2009) события происходят в альтернативной временной линии из-за нарушения временного континуума. Это происходит потому, что Нерон путешествует во времени, чтобы изменить будущее, чтобы его собственный временной контур совпал с его собственным. В результате главные герои сталкиваются с другой временной линией, где их судьбы отличаются от оригинальной временной линии.\n",
      "Их будущее сложится иначе и не сможет совпасть с тем будущим, откуда пришёл Нерон.\n",
      "[0, 0, 0, 0, 0, 0, 1, 0, 0, 0, 0, 0, 1, 0, 0, 0, 0, 0, 1, 0, 0, 1, 0, 0, 1, 0, 1, 0, 1, 0, 0, 1, 0, 0, 1, 0, 1, 0, 0, 0, 1, 0, 0, 0, 0, 0, 0, 0]\n"
     ]
    },
    {
     "name": "stderr",
     "output_type": "stream",
     "text": [
      "240it [15:14,  3.68s/it, BLEU2=0.305, BLEU1=0.374, ExactMatch=0.0104, METEOR=0.571, BertScore=nan, StubScore=0.229]"
     ]
    },
    {
     "name": "stdout",
     "output_type": "stream",
     "text": [
      "True\n",
      "11-й полнометражный фильм \"Звёздный путь\" (англ. Star Trek) вышел на экраны 7 мая 2009 года.\n",
      "Премьера 11-го полнометражного фильма Звёздный путь (англ. Star Trek) состоялась 7 мая 2009 года.\n",
      "[0, 0, 0, 0, 0, 0, 1, 0, 0, 0, 0, 0, 1, 0, 0, 0, 0, 0, 1, 0, 0, 1, 0, 0, 1, 0, 1, 0, 1, 0, 0, 1, 0, 0, 1, 0, 1, 0, 0, 0, 1, 0, 0, 0, 0, 0, 0, 0]\n"
     ]
    },
    {
     "name": "stderr",
     "output_type": "stream",
     "text": [
      "241it [15:16,  3.11s/it, BLEU2=0.306, BLEU1=0.376, ExactMatch=0.0104, METEOR=0.573, BertScore=nan, StubScore=0.229]"
     ]
    },
    {
     "name": "stdout",
     "output_type": "stream",
     "text": [
      "True\n",
      "Сценарий к одиннадцатому полнометражному фильму \"Звёздный путь\" написали Роберто Орси и Алекс Курцман.\n",
      "Роберто Орси и Алекс Курцман написали сценарий к одиннадцатому полнометражному фильму Звёздный путь.\n",
      "[0, 0, 0, 0, 0, 0, 1, 0, 0, 0, 0, 0, 1, 0, 0, 0, 0, 0, 1, 0, 0, 1, 0, 0, 1, 0, 1, 0, 1, 0, 0, 1, 0, 0, 1, 0, 1, 0, 0, 0, 1, 0, 0, 0, 0, 0, 0, 0]\n"
     ]
    },
    {
     "name": "stderr",
     "output_type": "stream",
     "text": [
      "242it [15:17,  2.57s/it, BLEU2=0.305, BLEU1=0.374, ExactMatch=0.0103, METEOR=0.572, BertScore=nan, StubScore=0.229]"
     ]
    },
    {
     "name": "stdout",
     "output_type": "stream",
     "text": [
      "True\n",
      "11-13 (24-26) октября 1917 года.\n",
      "Большевизированный Петросовет провел областной I Съезд Советов Северной области 11—13 (24—26) октября 1917.\n",
      "[0, 0, 0, 0, 0, 0, 1, 0, 0, 0, 0, 0, 1, 0, 0, 0, 0, 0, 1, 0, 0, 1, 0, 0, 1, 0, 1, 0, 1, 0, 0, 1, 0, 0, 1, 0, 1, 0, 0, 0, 1, 0, 0, 0, 0, 0, 0, 0]\n"
     ]
    },
    {
     "name": "stderr",
     "output_type": "stream",
     "text": [
      "243it [15:19,  2.23s/it, BLEU2=0.305, BLEU1=0.375, ExactMatch=0.0103, METEOR=0.573, BertScore=nan, StubScore=0.229]"
     ]
    },
    {
     "name": "stdout",
     "output_type": "stream",
     "text": [
      "True\n",
      "I областной съезд Советов Северной области включал делегатов из Балтийского флота, Петрограда и Финляндии.\n",
      "Делегаты Балтийского флота, Петрограда и Финляндии были включены в областной I Съезд Советов Северной области.\n",
      "[0, 0, 0, 0, 0, 0, 1, 0, 0, 0, 0, 0, 1, 0, 0, 0, 0, 0, 1, 0, 0, 1, 0, 0, 1, 0, 1, 0, 1, 0, 0, 1, 0, 0, 1, 0, 1, 0, 0, 0, 1, 0, 0, 0, 0, 0, 0, 0]\n"
     ]
    },
    {
     "name": "stderr",
     "output_type": "stream",
     "text": [
      "244it [15:21,  2.28s/it, BLEU2=0.307, BLEU1=0.377, ExactMatch=0.0102, METEOR=0.575, BertScore=nan, StubScore=0.229]"
     ]
    },
    {
     "name": "stdout",
     "output_type": "stream",
     "text": [
      "True\n",
      "Эсеро-меньшевистский Центральный исполнительный комитет (ВЦИК) объявил областной I Съезд Советов Северной области незаконным.\n",
      "Эсеро-меньшевистский ВЦИК объявил областной I Съезд Советов Северной области незаконным.\n",
      "[0, 0, 0, 0, 0, 0, 1, 0, 0, 0, 0, 0, 1, 0, 0, 0, 0, 0, 1, 0, 0, 1, 0, 0, 1, 0, 1, 0, 1, 0, 0, 1, 0, 0, 1, 0, 1, 0, 0, 0, 1, 0, 0, 0, 0, 0, 0, 0]\n"
     ]
    },
    {
     "name": "stderr",
     "output_type": "stream",
     "text": [
      "245it [15:24,  2.50s/it, BLEU2=0.307, BLEU1=0.376, ExactMatch=0.0102, METEOR=0.576, BertScore=nan, StubScore=0.229]"
     ]
    },
    {
     "name": "stdout",
     "output_type": "stream",
     "text": [
      "True\n",
      "11-13 (24-26) октября 1917 года большевизированный Петросовет провел областной I Съезд Советов Северной области, в который вошли делегаты Балтийского флота, Петрограда и Финляндии.\n",
      "Большевизированный петросовет 11—13 (24—26) октября 1917 провел областной I Съезд Советов Северной области.\n",
      "[0, 0, 0, 0, 0, 0, 1, 0, 0, 0, 0, 0, 1, 0, 0, 0, 0, 0, 1, 0, 0, 1, 0, 0, 1, 0, 1, 0, 1, 0, 0, 1, 0, 0, 1, 0, 1, 0, 0, 0, 1, 0, 0, 0, 0, 0, 0, 0]\n"
     ]
    },
    {
     "name": "stderr",
     "output_type": "stream",
     "text": [
      "246it [15:27,  2.48s/it, BLEU2=0.308, BLEU1=0.378, ExactMatch=0.0101, METEOR=0.578, BertScore=nan, StubScore=0.229]"
     ]
    },
    {
     "name": "stdout",
     "output_type": "stream",
     "text": [
      "True\n",
      "31 декабря 1796 года (11 января 1797 года) было утверждено новое административно-территориальное деление Курской губернии.\n",
      "Новое административно-территориальное деление Курской губернии было утверждено 31 декабря 1796 (11 января 1797) года.\n",
      "[0, 0, 0, 0, 0, 0, 1, 0, 0, 0, 0, 0, 1, 0, 0, 0, 0, 0, 1, 0, 0, 1, 0, 0, 1, 0, 1, 0, 1, 0, 0, 1, 0, 0, 1, 0, 1, 0, 0, 0, 1, 0, 0, 0, 0, 0, 0, 0]\n"
     ]
    },
    {
     "name": "stderr",
     "output_type": "stream",
     "text": [
      "247it [15:28,  2.06s/it, BLEU2=0.307, BLEU1=0.376, ExactMatch=0.0101, METEOR=0.577, BertScore=nan, StubScore=0.229]"
     ]
    },
    {
     "name": "stdout",
     "output_type": "stream",
     "text": [
      "True\n",
      "12 (23) декабря 1796 года.\n",
      "Указом императора Павла I большинство наместничеств, в том числе и Курское, были упразднены в 12 (23) декабря 1796 года.\n",
      "[0, 0, 0, 0, 0, 0, 1, 0, 0, 0, 0, 0, 1, 0, 0, 0, 0, 0, 1, 0, 0, 1, 0, 0, 1, 0, 1, 0, 1, 0, 0, 1, 0, 0, 1, 0, 1, 0, 0, 0, 1, 0, 0, 0, 0, 0, 0, 0]\n"
     ]
    },
    {
     "name": "stderr",
     "output_type": "stream",
     "text": [
      "248it [15:30,  2.12s/it, BLEU2=0.306, BLEU1=0.376, ExactMatch=0.01, METEOR=0.576, BertScore=nan, StubScore=0.229]  "
     ]
    },
    {
     "name": "stdout",
     "output_type": "stream",
     "text": [
      "True\n",
      "После Великих реформ количество уездов в Харьковском наместничестве сократилось с 12 до 10.\n",
      "Общее число уездов Харьковского наместничества сократилось до 10.\n",
      "[0, 0, 0, 0, 0, 0, 1, 0, 0, 0, 0, 0, 1, 0, 0, 0, 0, 0, 1, 0, 0, 1, 0, 0, 1, 0, 1, 0, 1, 0, 0, 1, 0, 0, 1, 0, 1, 0, 0, 0, 1, 0, 0, 0, 0, 0, 0, 0]\n"
     ]
    },
    {
     "name": "stderr",
     "output_type": "stream",
     "text": [
      "249it [15:32,  1.99s/it, BLEU2=0.305, BLEU1=0.375, ExactMatch=0.00995, METEOR=0.575, BertScore=nan, StubScore=0.229]"
     ]
    },
    {
     "name": "stdout",
     "output_type": "stream",
     "text": [
      "True\n",
      "Курская губерния получила территории из упраздненного Харьковского наместничества, включая города Хотмыжск и Мирополье.\n",
      "К Курской губернии отошёл территории упразднённого Харьковского наместничества.\n",
      "[0, 0, 0, 0, 0, 0, 1, 0, 0, 0, 0, 0, 1, 0, 0, 0, 0, 0, 1, 0, 0, 1, 0, 0, 1, 0, 1, 0, 1, 0, 0, 1, 0, 0, 1, 0, 1, 0, 0, 0, 1, 0, 0, 0, 0, 0, 0, 0]\n"
     ]
    },
    {
     "name": "stderr",
     "output_type": "stream",
     "text": [
      "250it [15:33,  1.79s/it, BLEU2=0.307, BLEU1=0.377, ExactMatch=0.0099, METEOR=0.576, BertScore=nan, StubScore=0.229] "
     ]
    },
    {
     "name": "stdout",
     "output_type": "stream",
     "text": [
      "True\n",
      "Срок выполнения нового разделения на губернии был установлен до мая 1797 года.\n",
      "Срок исполнения нового разделения на губернии был до мая 1797 года.\n",
      "[0, 0, 0, 0, 0, 0, 1, 0, 0, 0, 0, 0, 1, 0, 0, 0, 0, 0, 1, 0, 0, 1, 0, 0, 1, 0, 1, 0, 1, 0, 0, 1, 0, 0, 1, 0, 1, 0, 0, 0, 1, 0, 0, 0, 0, 0, 0, 0]\n"
     ]
    },
    {
     "name": "stderr",
     "output_type": "stream",
     "text": [
      "251it [15:35,  1.69s/it, BLEU2=0.31, BLEU1=0.38, ExactMatch=0.00985, METEOR=0.578, BertScore=nan, StubScore=0.229] "
     ]
    },
    {
     "name": "stdout",
     "output_type": "stream",
     "text": [
      "True\n",
      "Первый пилотируемый космический корабль, созданный С. П. Королёвым, назывался \"Восток-1\".\n",
      "Первый пилотируемый космический корабль, созданный С. П. Королёвым, назывался Восток-1.\n",
      "[0, 0, 0, 0, 0, 0, 1, 0, 0, 0, 0, 0, 1, 0, 0, 0, 0, 0, 1, 0, 0, 1, 0, 0, 1, 0, 1, 0, 1, 0, 0, 1, 0, 0, 1, 0, 1, 0, 0, 0, 1, 0, 0, 0, 0, 0, 0, 0]\n"
     ]
    },
    {
     "name": "stderr",
     "output_type": "stream",
     "text": [
      "252it [15:35,  1.42s/it, BLEU2=0.309, BLEU1=0.378, ExactMatch=0.0098, METEOR=0.577, BertScore=nan, StubScore=0.229]"
     ]
    },
    {
     "name": "stdout",
     "output_type": "stream",
     "text": [
      "True\n",
      "12 апреля 1961 года.\n",
      "12 апреля 1961 г С. П. Королёв снова поражает мировую общественность.\n",
      "[0, 0, 0, 0, 0, 0, 1, 0, 0, 0, 0, 0, 1, 0, 0, 0, 0, 0, 1, 0, 0, 1, 0, 0, 1, 0, 1, 0, 1, 0, 0, 1, 0, 0, 1, 0, 1, 0, 0, 0, 1, 0, 0, 0, 0, 0, 0, 0]\n"
     ]
    },
    {
     "name": "stderr",
     "output_type": "stream",
     "text": [
      "253it [15:36,  1.31s/it, BLEU2=0.31, BLEU1=0.379, ExactMatch=0.00976, METEOR=0.578, BertScore=nan, StubScore=0.229]"
     ]
    },
    {
     "name": "stdout",
     "output_type": "stream",
     "text": [
      "True\n",
      "Первым человеком в СССР, который полетел в космос, был Юрий Алексеевич Гагарин.\n",
      "Юрия Алексеевича Гагарина был первым человеком в СССР, который полетел в космос.\n",
      "[0, 0, 0, 0, 0, 0, 1, 0, 0, 0, 0, 0, 1, 0, 0, 0, 0, 0, 1, 0, 0, 1, 0, 0, 1, 0, 1, 0, 1, 0, 0, 1, 0, 0, 1, 0, 1, 0, 0, 0, 1, 0, 0, 0, 0, 0, 0, 0]\n"
     ]
    },
    {
     "name": "stderr",
     "output_type": "stream",
     "text": [
      "254it [15:39,  1.62s/it, BLEU2=0.309, BLEU1=0.379, ExactMatch=0.00971, METEOR=0.578, BertScore=nan, StubScore=0.229]"
     ]
    },
    {
     "name": "stdout",
     "output_type": "stream",
     "text": [
      "True\n",
      "Первый космонавт СССР, Юрий Алексеевич Гагарин, отправился в первый в мире пилотируемый космический полет на корабле \"Восток-1\" 12 апреля 1961 года.\n",
      "Юрий Гагарин отправился в космос на корабле \"Восток-1\" по околоземной орбите.\n",
      "[0, 0, 0, 0, 0, 0, 1, 0, 0, 0, 0, 0, 1, 0, 0, 0, 0, 0, 1, 0, 0, 1, 0, 0, 1, 0, 1, 0, 1, 0, 0, 1, 0, 0, 1, 0, 1, 0, 0, 0, 1, 0, 0, 0, 0, 0, 0, 0]\n"
     ]
    },
    {
     "name": "stderr",
     "output_type": "stream",
     "text": [
      "255it [15:40,  1.62s/it, BLEU2=0.308, BLEU1=0.378, ExactMatch=0.00966, METEOR=0.578, BertScore=nan, StubScore=0.229]"
     ]
    },
    {
     "name": "stdout",
     "output_type": "stream",
     "text": [
      "True\n",
      "Первый космический корабль, созданный С. П. Королёвым, \"Восток-1\", сделал один виток вокруг Земли.\n",
      "Один витков сделал Первый космический корабль С.П.Королева.\n",
      "[0, 0, 0, 0, 0, 0, 1, 0, 0, 0, 0, 0, 1, 0, 0, 0, 0, 0, 1, 0, 0, 1, 0, 0, 1, 0, 1, 0, 1, 0, 0, 1, 0, 0, 1, 0, 1, 0, 0, 0, 1, 0, 0, 0, 0, 0, 0, 0]\n"
     ]
    },
    {
     "name": "stderr",
     "output_type": "stream",
     "text": [
      "256it [15:41,  1.43s/it, BLEU2=0.309, BLEU1=0.379, ExactMatch=0.00962, METEOR=0.579, BertScore=nan, StubScore=0.229]"
     ]
    },
    {
     "name": "stdout",
     "output_type": "stream",
     "text": [
      "True\n",
      "Машина времени начала запись нового альбома в 2001 году.\n",
      "Машина времени приступила в 2001 году к записи нового альбома.\n",
      "[0, 0, 0, 0, 0, 0, 1, 0, 0, 0, 0, 0, 1, 0, 0, 0, 0, 0, 1, 0, 0, 1, 0, 0, 1, 0, 1, 0, 1, 0, 0, 1, 0, 0, 1, 0, 1, 0, 0, 0, 1, 0, 0, 0, 0, 0, 0, 0]\n"
     ]
    },
    {
     "name": "stderr",
     "output_type": "stream",
     "text": [
      "257it [15:43,  1.42s/it, BLEU2=0.307, BLEU1=0.377, ExactMatch=0.00957, METEOR=0.577, BertScore=nan, StubScore=0.229]"
     ]
    },
    {
     "name": "stdout",
     "output_type": "stream",
     "text": [
      "True\n",
      "Альбом \"Back to the Light\" был переименован в \"Place Des Lumines\".\n",
      "Название альбома \"Спиной к концу света\" было изменено на \"Место, где свет\".\n",
      "[0, 0, 0, 0, 0, 0, 1, 0, 0, 0, 0, 0, 1, 0, 0, 0, 0, 0, 1, 0, 0, 1, 0, 0, 1, 0, 1, 0, 1, 0, 0, 1, 0, 0, 1, 0, 1, 0, 0, 0, 1, 0, 0, 0, 0, 0, 0, 0]\n"
     ]
    },
    {
     "name": "stderr",
     "output_type": "stream",
     "text": [
      "258it [15:44,  1.47s/it, BLEU2=0.308, BLEU1=0.379, ExactMatch=0.00952, METEOR=0.578, BertScore=nan, StubScore=0.229]"
     ]
    },
    {
     "name": "stdout",
     "output_type": "stream",
     "text": [
      "True\n",
      "Презентация нового веб-проекта группы \"Машина времени\" состоялась 27 февраля 2001 года.\n",
      "Презентация нового Web-проекта группы Машина времени состоялась 27 февраля 2001 года.\n",
      "[0, 0, 0, 0, 0, 0, 1, 0, 0, 0, 0, 0, 1, 0, 0, 0, 0, 0, 1, 0, 0, 1, 0, 0, 1, 0, 1, 0, 1, 0, 0, 1, 0, 0, 1, 0, 1, 0, 0, 0, 1, 0, 0, 0, 0, 0, 0, 0]\n"
     ]
    },
    {
     "name": "stderr",
     "output_type": "stream",
     "text": [
      "259it [15:45,  1.20s/it, BLEU2=0.307, BLEU1=0.377, ExactMatch=0.00948, METEOR=0.577, BertScore=nan, StubScore=0.229]"
     ]
    },
    {
     "name": "stdout",
     "output_type": "stream",
     "text": [
      "True\n",
      "Макаревич и Державин.\n",
      "Макаревич и Державин появлялись на форуме сайта первые полгода.\n",
      "[0, 0, 0, 0, 0, 0, 1, 0, 0, 0, 0, 0, 1, 0, 0, 0, 0, 0, 1, 0, 0, 1, 0, 0, 1, 0, 1, 0, 1, 0, 0, 1, 0, 0, 1, 0, 1, 0, 0, 0, 1, 0, 0, 0, 0, 0, 0, 0]\n"
     ]
    },
    {
     "name": "stderr",
     "output_type": "stream",
     "text": [
      "260it [15:48,  1.73s/it, BLEU2=0.309, BLEU1=0.379, ExactMatch=0.00943, METEOR=0.578, BertScore=nan, StubScore=0.229]"
     ]
    },
    {
     "name": "stdout",
     "output_type": "stream",
     "text": [
      "True\n",
      "Официальный сайт группы \"Машина времени\" должен был стать единственным местом, где можно было получить достоверную и свежую информацию о группе и ее участниках. Он также должен был стать единственным официальным посредником между группой и прессой.\n",
      "Официальный сайт группы Машина времени будет единственным местом, где можно получить достоверную и свежую информацию о группе и её музыкантах, а также единственным официальным посредником между группой и прессой.\n",
      "[0, 0, 0, 0, 0, 0, 1, 0, 0, 0, 0, 0, 1, 0, 0, 0, 0, 0, 1, 0, 0, 1, 0, 0, 1, 0, 1, 0, 1, 0, 0, 1, 0, 0, 1, 0, 1, 0, 0, 0, 1, 0, 0, 0, 0, 0, 0, 0]\n",
      "False\n",
      "Нансен останавливался в здании школы в течение шести лет, с 1887 по 1893 год.\n",
      "В течении недельного визита в Дагестан Нансен останавливался в здании школы.\n"
     ]
    },
    {
     "name": "stderr",
     "output_type": "stream",
     "text": [
      "261it [15:52,  2.47s/it, BLEU2=0.309, BLEU1=0.379, ExactMatch=0.00943, METEOR=0.578, BertScore=nan, StubScore=0.224]"
     ]
    },
    {
     "name": "stdout",
     "output_type": "stream",
     "text": [
      "[0, 0, 0, 0, 0, 0, 1, 0, 0, 0, 0, 0, 1, 0, 0, 0, 0, 0, 1, 0, 0, 1, 0, 0, 1, 0, 1, 0, 1, 0, 0, 1, 0, 0, 1, 0, 1, 0, 0, 0, 1, 0, 0, 0, 0, 0, 0, 0, 0]\n"
     ]
    },
    {
     "name": "stderr",
     "output_type": "stream",
     "text": [
      "262it [15:57,  3.08s/it, BLEU2=0.309, BLEU1=0.379, ExactMatch=0.00939, METEOR=0.58, BertScore=nan, StubScore=0.224] "
     ]
    },
    {
     "name": "stdout",
     "output_type": "stream",
     "text": [
      "True\n",
      "Фритьоф Нансен подробно описал свой визит в Дагестан в своей книге \"Через Кавказ на Волгу\" (норвежский: Gjennem Kaukasus til Volga), которая была опубликована в 1929 году на норвежском, немецком и английском языках.\n",
      "В книге \"Через Кавказ на Волгу\" Фритьоф Нансен подробно описал свой визит в Дагестан.\n",
      "[0, 0, 0, 0, 0, 0, 1, 0, 0, 0, 0, 0, 1, 0, 0, 0, 0, 0, 1, 0, 0, 1, 0, 0, 1, 0, 1, 0, 1, 0, 0, 1, 0, 0, 1, 0, 1, 0, 0, 0, 1, 0, 0, 0, 0, 0, 0, 0, 0]\n"
     ]
    },
    {
     "name": "stderr",
     "output_type": "stream",
     "text": [
      "263it [15:59,  3.01s/it, BLEU2=0.308, BLEU1=0.378, ExactMatch=0.00935, METEOR=0.578, BertScore=nan, StubScore=0.224]"
     ]
    },
    {
     "name": "stdout",
     "output_type": "stream",
     "text": [
      "True\n",
      "Фритьоф Нансен считал Дагестан очень интересной страной с большими экономическими возможностями. Он посетил Дагестан в 1925 году и описал свой визит в книге \"Через Кавказ на Волгу\".\n",
      "Отзывы Нансена о Дагестане были положительными, так как он описывал его как интересную страну с большими экономическими возможностями.\n",
      "[0, 0, 0, 0, 0, 0, 1, 0, 0, 0, 0, 0, 1, 0, 0, 0, 0, 0, 1, 0, 0, 1, 0, 0, 1, 0, 1, 0, 1, 0, 0, 1, 0, 0, 1, 0, 1, 0, 0, 0, 1, 0, 0, 0, 0, 0, 0, 0, 0]\n"
     ]
    },
    {
     "name": "stderr",
     "output_type": "stream",
     "text": [
      "264it [16:00,  2.31s/it, BLEU2=0.307, BLEU1=0.376, ExactMatch=0.0093, METEOR=0.577, BertScore=nan, StubScore=0.224] "
     ]
    },
    {
     "name": "stdout",
     "output_type": "stream",
     "text": [
      "True\n",
      "14 апреля 2012 года.\n",
      "Указ об открытии мемориальной плиты на школе в Махачкале подписан 14 апреля 2012 года.\n",
      "[0, 0, 0, 0, 0, 0, 1, 0, 0, 0, 0, 0, 1, 0, 0, 0, 0, 0, 1, 0, 0, 1, 0, 0, 1, 0, 1, 0, 1, 0, 0, 1, 0, 0, 1, 0, 1, 0, 0, 0, 1, 0, 0, 0, 0, 0, 0, 0, 0]\n"
     ]
    },
    {
     "name": "stderr",
     "output_type": "stream",
     "text": [
      "265it [16:02,  2.23s/it, BLEU2=0.308, BLEU1=0.378, ExactMatch=0.00926, METEOR=0.579, BertScore=nan, StubScore=0.224]"
     ]
    },
    {
     "name": "stdout",
     "output_type": "stream",
     "text": [
      "True\n",
      "Фритьоф Нансен остановился в доме № 10 по улице Горького в Махачкале в 1925 году.\n",
      "В здании № 10 по улице Горького в Махачкале в 1925 году останавливался Фритьоф Нансен.\n",
      "[0, 0, 0, 0, 0, 0, 1, 0, 0, 0, 0, 0, 1, 0, 0, 0, 0, 0, 1, 0, 0, 1, 0, 0, 1, 0, 1, 0, 1, 0, 0, 1, 0, 0, 1, 0, 1, 0, 0, 0, 1, 0, 0, 0, 0, 0, 0, 0, 0]\n"
     ]
    },
    {
     "name": "stderr",
     "output_type": "stream",
     "text": [
      "266it [16:06,  2.72s/it, BLEU2=0.308, BLEU1=0.377, ExactMatch=0.00922, METEOR=0.579, BertScore=nan, StubScore=0.224]"
     ]
    },
    {
     "name": "stdout",
     "output_type": "stream",
     "text": [
      "True\n",
      "Прах музыканта был кремирован в Нью-Йорке и захоронен в секретном месте, известном только его семье. Позже выяснилось, что прах был захоронен на острове Бали, и церемония прошла в соответствии с буддийским ритуалом.\n",
      "Прах Дэвида Боуи был захоронен на острове Бали в соответствии с буддийским ритуалом.\n",
      "[0, 0, 0, 0, 0, 0, 1, 0, 0, 0, 0, 0, 1, 0, 0, 0, 0, 0, 1, 0, 0, 1, 0, 0, 1, 0, 1, 0, 1, 0, 0, 1, 0, 0, 1, 0, 1, 0, 0, 0, 1, 0, 0, 0, 0, 0, 0, 0, 0]\n",
      "False\n",
      "Для ответа на этот вопрос мне нужно знать, о каком музыканте и их смерти идет речь. Пожалуйста, укажите имя музыканта, и я посмотрю информацию в чарте Billboard.\n",
      "Продажи песен и альбомов музыканта в США, за первую неделю после смерти, по информации Billboard, выросли более чем на 5000%.\n"
     ]
    },
    {
     "name": "stderr",
     "output_type": "stream",
     "text": [
      "267it [16:11,  3.51s/it, BLEU2=0.308, BLEU1=0.377, ExactMatch=0.00922, METEOR=0.579, BertScore=nan, StubScore=0.24] "
     ]
    },
    {
     "name": "stdout",
     "output_type": "stream",
     "text": [
      "[0, 0, 0, 0, 0, 0, 1, 0, 0, 0, 0, 0, 1, 0, 0, 0, 0, 0, 1, 0, 0, 1, 0, 0, 1, 0, 1, 0, 1, 0, 0, 1, 0, 0, 1, 0, 1, 0, 0, 0, 1, 0, 0, 0, 0, 0, 0, 0, 0, 1]\n"
     ]
    },
    {
     "name": "stderr",
     "output_type": "stream",
     "text": [
      "268it [16:19,  4.87s/it, BLEU2=0.308, BLEU1=0.376, ExactMatch=0.00917, METEOR=0.58, BertScore=nan, StubScore=0.24] "
     ]
    },
    {
     "name": "stdout",
     "output_type": "stream",
     "text": [
      "True\n",
      "После смерти певца его тело было кремировано на частной церемонии в Нью-Йорке. Его прах был захоронен в секретном месте, известном только его семье, и церемония прошла в соответствии с буддийским ритуалом. Дэвид хотел, чтобы его помнили за его поступки при жизни, а не как памятник. Он также хотел, чтобы его наследие было сохранено, и не хотел, чтобы его жизнь была увековечена в виде надгробия. Кроме того, есть информация, что существует большая коллекция неизданных работ Боуи, которая будет выпускаться в течение многих лет.\n",
      "После смерти певца появилась информация, что существует большая коллекция его неизданных произведений, которая будет выпускаться в течение многих лет.\n",
      "[0, 0, 0, 0, 0, 0, 1, 0, 0, 0, 0, 0, 1, 0, 0, 0, 0, 0, 1, 0, 0, 1, 0, 0, 1, 0, 1, 0, 1, 0, 0, 1, 0, 0, 1, 0, 1, 0, 0, 0, 1, 0, 0, 0, 0, 0, 0, 0, 0, 1]\n"
     ]
    },
    {
     "name": "stderr",
     "output_type": "stream",
     "text": [
      "269it [16:20,  3.69s/it, BLEU2=0.307, BLEU1=0.375, ExactMatch=0.00913, METEOR=0.579, BertScore=nan, StubScore=0.24]"
     ]
    },
    {
     "name": "stdout",
     "output_type": "stream",
     "text": [
      "True\n",
      "14 января 2016 года.\n",
      "14 января 2016 года тело певца было кремировано в ходе частной церемонии в Нью-Йорке.\n",
      "[0, 0, 0, 0, 0, 0, 1, 0, 0, 0, 0, 0, 1, 0, 0, 0, 0, 0, 1, 0, 0, 1, 0, 0, 1, 0, 1, 0, 1, 0, 0, 1, 0, 0, 1, 0, 1, 0, 0, 0, 1, 0, 0, 0, 0, 0, 0, 0, 0, 1]\n"
     ]
    },
    {
     "name": "stderr",
     "output_type": "stream",
     "text": [
      "270it [16:25,  3.92s/it, BLEU2=0.305, BLEU1=0.374, ExactMatch=0.00909, METEOR=0.577, BertScore=nan, StubScore=0.24]"
     ]
    },
    {
     "name": "stdout",
     "output_type": "stream",
     "text": [
      "True\n",
      "Место захоронения праха Дэвида Боуи находится на секретном месте, известном только его семье. Он был кремирован 14 января 2016 года в Нью-Йорке и похоронен на Бали, согласно буддийскому ритуалу.\n",
      "Это место известно только его родственникам.\n",
      "[0, 0, 0, 0, 0, 0, 1, 0, 0, 0, 0, 0, 1, 0, 0, 0, 0, 0, 1, 0, 0, 1, 0, 0, 1, 0, 1, 0, 1, 0, 0, 1, 0, 0, 1, 0, 1, 0, 0, 0, 1, 0, 0, 0, 0, 0, 0, 0, 0, 1]\n"
     ]
    },
    {
     "name": "stderr",
     "output_type": "stream",
     "text": [
      "271it [16:25,  2.90s/it, BLEU2=0.304, BLEU1=0.373, ExactMatch=0.00905, METEOR=0.577, BertScore=nan, StubScore=0.24]"
     ]
    },
    {
     "name": "stdout",
     "output_type": "stream",
     "text": [
      "True\n",
      "Покровский и Плонский.\n",
      "Поручик Покровский и корнет Плонский обнаружили вражеский аэроплан.\n",
      "[0, 0, 0, 0, 0, 0, 1, 0, 0, 0, 0, 0, 1, 0, 0, 0, 0, 0, 1, 0, 0, 1, 0, 0, 1, 0, 1, 0, 1, 0, 0, 1, 0, 0, 1, 0, 1, 0, 0, 0, 1, 0, 0, 0, 0, 0, 0, 0, 0, 1]\n"
     ]
    },
    {
     "name": "stderr",
     "output_type": "stream",
     "text": [
      "272it [16:27,  2.42s/it, BLEU2=0.306, BLEU1=0.374, ExactMatch=0.00901, METEOR=0.577, BertScore=nan, StubScore=0.24]"
     ]
    },
    {
     "name": "stdout",
     "output_type": "stream",
     "text": [
      "True\n",
      "Лётчики 15-го июля во время разведки имели только пистолеты Маузер.\n",
      "У лётчиков 15-го июля во время разведки были только пистолеты Маузер.\n",
      "[0, 0, 0, 0, 0, 0, 1, 0, 0, 0, 0, 0, 1, 0, 0, 0, 0, 0, 1, 0, 0, 1, 0, 0, 1, 0, 1, 0, 1, 0, 0, 1, 0, 0, 1, 0, 1, 0, 0, 0, 1, 0, 0, 0, 0, 0, 0, 0, 0, 1]\n"
     ]
    },
    {
     "name": "stderr",
     "output_type": "stream",
     "text": [
      "273it [16:29,  2.41s/it, BLEU2=0.306, BLEU1=0.374, ExactMatch=0.00897, METEOR=0.578, BertScore=nan, StubScore=0.24]"
     ]
    },
    {
     "name": "stdout",
     "output_type": "stream",
     "text": [
      "True\n",
      "15 июля во время разведки к востоку от Золотой Липы летчики 2-го Сибирского корпусного авиаотряда поручик Покровский и корнет Плонский заметили вражеский самолет.\n",
      "Поручик Покровский и корнет Плонский увидел вражеский аэроплан во время розведки.\n",
      "[0, 0, 0, 0, 0, 0, 1, 0, 0, 0, 0, 0, 1, 0, 0, 0, 0, 0, 1, 0, 0, 1, 0, 0, 1, 0, 1, 0, 1, 0, 0, 1, 0, 0, 1, 0, 1, 0, 0, 0, 1, 0, 0, 0, 0, 0, 0, 0, 0, 1]\n"
     ]
    },
    {
     "name": "stderr",
     "output_type": "stream",
     "text": [
      "274it [16:31,  2.32s/it, BLEU2=0.305, BLEU1=0.374, ExactMatch=0.00893, METEOR=0.577, BertScore=nan, StubScore=0.24]"
     ]
    },
    {
     "name": "stdout",
     "output_type": "stream",
     "text": [
      "True\n",
      "Поручик Покровский и корнет Плонский были награждены орденом Святого Георгия 4-й степени.\n",
      "Наградили поручика Покровского и корнета Плонского орденами Св. Георгия 4-й степени.\n",
      "[0, 0, 0, 0, 0, 0, 1, 0, 0, 0, 0, 0, 1, 0, 0, 0, 0, 0, 1, 0, 0, 1, 0, 0, 1, 0, 1, 0, 1, 0, 0, 1, 0, 0, 1, 0, 1, 0, 0, 0, 1, 0, 0, 0, 0, 0, 0, 0, 0, 1]\n"
     ]
    },
    {
     "name": "stderr",
     "output_type": "stream",
     "text": [
      "275it [16:33,  2.17s/it, BLEU2=0.304, BLEU1=0.372, ExactMatch=0.00889, METEOR=0.575, BertScore=nan, StubScore=0.24]"
     ]
    },
    {
     "name": "stdout",
     "output_type": "stream",
     "text": [
      "True\n",
      "Лётчики, которые атаковали и заставили австрийский аэроплан опуститься, были награждены орденом Святого Георгия 4-й степени.\n",
      "Австрийский аэроплан Авиатик (бортовой номер 31-13) достался призом в совершенно неповрежденном состоянии вместе с двумя лётчиками из 7-й авиароты.\n",
      "[0, 0, 0, 0, 0, 0, 1, 0, 0, 0, 0, 0, 1, 0, 0, 0, 0, 0, 1, 0, 0, 1, 0, 0, 1, 0, 1, 0, 1, 0, 0, 1, 0, 0, 1, 0, 1, 0, 0, 0, 1, 0, 0, 0, 0, 0, 0, 0, 0, 1]\n"
     ]
    },
    {
     "name": "stderr",
     "output_type": "stream",
     "text": [
      "276it [16:34,  1.77s/it, BLEU2=0.303, BLEU1=0.371, ExactMatch=0.00885, METEOR=0.573, BertScore=nan, StubScore=0.24]"
     ]
    },
    {
     "name": "stdout",
     "output_type": "stream",
     "text": [
      "True\n",
      "16 апреля 1962 года.\n",
      "Постановление ЦК КПСС и Совета министров СССР о разработке ракетно-космического комплекса Союз вышло 16 апреля 1962 году.\n",
      "[0, 0, 0, 0, 0, 0, 1, 0, 0, 0, 0, 0, 1, 0, 0, 0, 0, 0, 1, 0, 0, 1, 0, 0, 1, 0, 1, 0, 1, 0, 0, 1, 0, 0, 1, 0, 1, 0, 0, 0, 1, 0, 0, 0, 0, 0, 0, 0, 0, 1]\n"
     ]
    },
    {
     "name": "stderr",
     "output_type": "stream",
     "text": [
      "277it [16:42,  3.69s/it, BLEU2=0.302, BLEU1=0.369, ExactMatch=0.00881, METEOR=0.571, BertScore=nan, StubScore=0.24]"
     ]
    },
    {
     "name": "stdout",
     "output_type": "stream",
     "text": [
      "True\n",
      "Ракета-космический комплекс \"Союз\" разрабатывался для различных целей, включая пилотируемые облеты Луны, лунные программы, такие как \"Север\", и высадку на Луну в рамках комплекса \"Л3\". Кроме того, он использовался для разработки трехместного орбитального корабля \"Союз-ОК\", который предназначался для отработки маневров, стыковки и проведения экспериментов на околоземной орбите. Позже на основе проекта \"Союз-ОК\" были разработаны военные корабли \"Союз-Р\" и \"Союз-ВИ\".\n",
      "Ракетно-космического комплекса Союз разрабатывался для пилотируемого облёта Луны.\n",
      "[0, 0, 0, 0, 0, 0, 1, 0, 0, 0, 0, 0, 1, 0, 0, 0, 0, 0, 1, 0, 0, 1, 0, 0, 1, 0, 1, 0, 1, 0, 0, 1, 0, 0, 1, 0, 1, 0, 0, 0, 1, 0, 0, 0, 0, 0, 0, 0, 0, 1]\n"
     ]
    },
    {
     "name": "stderr",
     "output_type": "stream",
     "text": [
      "278it [16:46,  3.71s/it, BLEU2=0.3, BLEU1=0.368, ExactMatch=0.00877, METEOR=0.57, BertScore=nan, StubScore=0.24]   "
     ]
    },
    {
     "name": "stdout",
     "output_type": "stream",
     "text": [
      "True\n",
      "На основе проекта 7К-ОК был создан военный корабль под названием \"Союз-Р\" (Разведчик), а затем на его основе был разработан \"Союз-ВИ\" (Военный исследователь).\n",
      "На базе 7К начали делать 7К-ОК — многоцелевой трёхместный орбитальный корабль (ОК).\n",
      "[0, 0, 0, 0, 0, 0, 1, 0, 0, 0, 0, 0, 1, 0, 0, 0, 0, 0, 1, 0, 0, 1, 0, 0, 1, 0, 1, 0, 1, 0, 0, 1, 0, 0, 1, 0, 1, 0, 0, 0, 1, 0, 0, 0, 0, 0, 0, 0, 0, 1]\n"
     ]
    },
    {
     "name": "stderr",
     "output_type": "stream",
     "text": [
      "279it [16:47,  3.03s/it, BLEU2=0.3, BLEU1=0.368, ExactMatch=0.00873, METEOR=0.569, BertScore=nan, StubScore=0.24]"
     ]
    },
    {
     "name": "stdout",
     "output_type": "stream",
     "text": [
      "True\n",
      "Программа, которая планировалась для облета Луны после закрытия программы А, называлась \"Программа Север\".\n",
      "По программе Север планировался облет Луны после закрытия проекта А.\n",
      "[0, 0, 0, 0, 0, 0, 1, 0, 0, 0, 0, 0, 1, 0, 0, 0, 0, 0, 1, 0, 0, 1, 0, 0, 1, 0, 1, 0, 1, 0, 0, 1, 0, 0, 1, 0, 1, 0, 0, 0, 1, 0, 0, 0, 0, 0, 0, 0, 0, 1]\n"
     ]
    },
    {
     "name": "stderr",
     "output_type": "stream",
     "text": [
      "280it [16:50,  3.09s/it, BLEU2=0.3, BLEU1=0.368, ExactMatch=0.0087, METEOR=0.57, BertScore=nan, StubScore=0.24]  "
     ]
    },
    {
     "name": "stdout",
     "output_type": "stream",
     "text": [
      "True\n",
      "Сначала предполагалось, что связка из космического корабля и разгонных блоков 7К, 9К, 11К должна была отправиться на Луну в рамках программы А.\n",
      "Связка из 7К, 9К, 11К должна была отправиться к Луне по программе А.\n",
      "[0, 0, 0, 0, 0, 0, 1, 0, 0, 0, 0, 0, 1, 0, 0, 0, 0, 0, 1, 0, 0, 1, 0, 0, 1, 0, 1, 0, 1, 0, 0, 1, 0, 0, 1, 0, 1, 0, 0, 0, 1, 0, 0, 0, 0, 0, 0, 0, 0, 1]\n"
     ]
    },
    {
     "name": "stderr",
     "output_type": "stream",
     "text": [
      "281it [16:52,  2.52s/it, BLEU2=0.301, BLEU1=0.368, ExactMatch=0.00866, METEOR=0.571, BertScore=nan, StubScore=0.24]"
     ]
    },
    {
     "name": "stdout",
     "output_type": "stream",
     "text": [
      "True\n",
      "Ялмар Йохансен считался самым опытным лыжником и каюром в экспедиции.\n",
      "Самым опытным лыжником и каюром в экспедиции считали Ялмара Йохансена.\n",
      "[0, 0, 0, 0, 0, 0, 1, 0, 0, 0, 0, 0, 1, 0, 0, 0, 0, 0, 1, 0, 0, 1, 0, 0, 1, 0, 1, 0, 1, 0, 0, 1, 0, 0, 1, 0, 1, 0, 0, 0, 1, 0, 0, 0, 0, 0, 0, 0, 0, 1]\n"
     ]
    },
    {
     "name": "stderr",
     "output_type": "stream",
     "text": [
      "282it [16:54,  2.55s/it, BLEU2=0.303, BLEU1=0.37, ExactMatch=0.00862, METEOR=0.572, BertScore=nan, StubScore=0.24] "
     ]
    },
    {
     "name": "stdout",
     "output_type": "stream",
     "text": [
      "True\n",
      "В ноябре 1894 года Фрам находился в 750 км от мыса Флигели и примерно в 780 км от Северного полюса.\n",
      "Фрам в ноябре 1894 года находился в 750 км от мыса Флигели и на расстоянии примерно 780 км от Северного полюса.\n",
      "[0, 0, 0, 0, 0, 0, 1, 0, 0, 0, 0, 0, 1, 0, 0, 0, 0, 0, 1, 0, 0, 1, 0, 0, 1, 0, 1, 0, 1, 0, 0, 1, 0, 0, 1, 0, 1, 0, 0, 0, 1, 0, 0, 0, 0, 0, 0, 0, 0, 1]\n",
      "False\n",
      "В тексте не указано конкретное время, отведенное для достижения полюса.\n",
      "Для достижения полюса отводилось 50 суток.\n"
     ]
    },
    {
     "name": "stderr",
     "output_type": "stream",
     "text": [
      "283it [16:57,  2.73s/it, BLEU2=0.303, BLEU1=0.37, ExactMatch=0.00862, METEOR=0.572, BertScore=nan, StubScore=0.235]"
     ]
    },
    {
     "name": "stdout",
     "output_type": "stream",
     "text": [
      "[0, 0, 0, 0, 0, 0, 1, 0, 0, 0, 0, 0, 1, 0, 0, 0, 0, 0, 1, 0, 0, 1, 0, 0, 1, 0, 1, 0, 1, 0, 0, 1, 0, 0, 1, 0, 1, 0, 0, 0, 1, 0, 0, 0, 0, 0, 0, 0, 0, 1, 0]\n"
     ]
    },
    {
     "name": "stderr",
     "output_type": "stream",
     "text": [
      "284it [16:58,  2.20s/it, BLEU2=0.306, BLEU1=0.373, ExactMatch=0.0129, METEOR=0.574, BertScore=nan, StubScore=0.235]"
     ]
    },
    {
     "name": "stdout",
     "output_type": "stream",
     "text": [
      "True\n",
      "Нансен планировал отправить в поход 28 собак.\n",
      "Нансен планировал отправить в поход 28 собак.\n",
      "[0, 0, 0, 0, 0, 0, 1, 0, 0, 0, 0, 0, 1, 0, 0, 0, 0, 0, 1, 0, 0, 1, 0, 0, 1, 0, 1, 0, 1, 0, 0, 1, 0, 0, 1, 0, 1, 0, 0, 0, 1, 0, 0, 0, 0, 0, 0, 0, 0, 1, 0]\n"
     ]
    },
    {
     "name": "stderr",
     "output_type": "stream",
     "text": [
      "285it [17:00,  2.07s/it, BLEU2=0.307, BLEU1=0.374, ExactMatch=0.0128, METEOR=0.575, BertScore=nan, StubScore=0.235]"
     ]
    },
    {
     "name": "stdout",
     "output_type": "stream",
     "text": [
      "True\n",
      "16 ноября 1894 года Нансен объявил команде, что покинет судно в будущем году.\n",
      "Нансен объявил команде, что покидает судно в будущем году.\n",
      "[0, 0, 0, 0, 0, 0, 1, 0, 0, 0, 0, 0, 1, 0, 0, 0, 0, 0, 1, 0, 0, 1, 0, 0, 1, 0, 1, 0, 1, 0, 0, 1, 0, 0, 1, 0, 1, 0, 0, 0, 1, 0, 0, 0, 0, 0, 0, 0, 0, 1, 0]\n"
     ]
    },
    {
     "name": "stderr",
     "output_type": "stream",
     "text": [
      "286it [17:01,  1.78s/it, BLEU2=0.307, BLEU1=0.375, ExactMatch=0.0128, METEOR=0.575, BertScore=nan, StubScore=0.235]"
     ]
    },
    {
     "name": "stdout",
     "output_type": "stream",
     "text": [
      "True\n",
      "Нефтеюганский район был образован в 1980 году.\n",
      "Нефтеюганский район с центром в городе Нефтеюганске был образован в 1980 году.\n",
      "[0, 0, 0, 0, 0, 0, 1, 0, 0, 0, 0, 0, 1, 0, 0, 0, 0, 0, 1, 0, 0, 1, 0, 0, 1, 0, 1, 0, 1, 0, 0, 1, 0, 0, 1, 0, 1, 0, 0, 0, 1, 0, 0, 0, 0, 0, 0, 0, 0, 1, 0]\n"
     ]
    },
    {
     "name": "stderr",
     "output_type": "stream",
     "text": [
      "287it [17:03,  1.68s/it, BLEU2=0.307, BLEU1=0.374, ExactMatch=0.0127, METEOR=0.574, BertScore=nan, StubScore=0.235]"
     ]
    },
    {
     "name": "stdout",
     "output_type": "stream",
     "text": [
      "True\n",
      "Член Политбюро ЦК КПСС, Председатель Совета Министров СССР Алексей Николаевич Косыгин.\n",
      "В январе 1968 года город Нефтеюганск встречал особого гостя — члена Политбюро ЦК КПСС, Председателя Совета Министров СССР Алексея Николаевича Косыгина.\n",
      "[0, 0, 0, 0, 0, 0, 1, 0, 0, 0, 0, 0, 1, 0, 0, 0, 0, 0, 1, 0, 0, 1, 0, 0, 1, 0, 1, 0, 1, 0, 0, 1, 0, 0, 1, 0, 1, 0, 0, 0, 1, 0, 0, 0, 0, 0, 0, 0, 0, 1, 0]\n"
     ]
    },
    {
     "name": "stderr",
     "output_type": "stream",
     "text": [
      "288it [17:03,  1.42s/it, BLEU2=0.306, BLEU1=0.372, ExactMatch=0.0127, METEOR=0.573, BertScore=nan, StubScore=0.235]"
     ]
    },
    {
     "name": "stdout",
     "output_type": "stream",
     "text": [
      "True\n",
      "16 октября 1967 года.\n",
      "Президиум Верховного Совета РСФСР издал Указ О преобразовании рабочего посёлка Нефтеюганск Сургутского района Ханты-Мансийского национального округа, Тюменской области в город окружного подчинения 16 октября 1967 года.\n",
      "[0, 0, 0, 0, 0, 0, 1, 0, 0, 0, 0, 0, 1, 0, 0, 0, 0, 0, 1, 0, 0, 1, 0, 0, 1, 0, 1, 0, 1, 0, 0, 1, 0, 0, 1, 0, 1, 0, 0, 0, 1, 0, 0, 0, 0, 0, 0, 0, 0, 1, 0]\n"
     ]
    },
    {
     "name": "stderr",
     "output_type": "stream",
     "text": [
      "289it [17:05,  1.51s/it, BLEU2=0.307, BLEU1=0.374, ExactMatch=0.0126, METEOR=0.574, BertScore=nan, StubScore=0.235]"
     ]
    },
    {
     "name": "stdout",
     "output_type": "stream",
     "text": [
      "True\n",
      "Первые каменные дома были построены в Нефтеюганске в конце 1960-х годов.\n",
      "Первые каменные дома в Нефтеюганске были построены в конце 1960-х.\n",
      "[0, 0, 0, 0, 0, 0, 1, 0, 0, 0, 0, 0, 1, 0, 0, 0, 0, 0, 1, 0, 0, 1, 0, 0, 1, 0, 1, 0, 1, 0, 0, 1, 0, 0, 1, 0, 1, 0, 0, 0, 1, 0, 0, 0, 0, 0, 0, 0, 0, 1, 0]\n"
     ]
    },
    {
     "name": "stderr",
     "output_type": "stream",
     "text": [
      "290it [17:07,  1.56s/it, BLEU2=0.307, BLEU1=0.374, ExactMatch=0.0126, METEOR=0.575, BertScore=nan, StubScore=0.235]"
     ]
    },
    {
     "name": "stdout",
     "output_type": "stream",
     "text": [
      "True\n",
      "Мост, открытый в 1984 году, находится на протоке Юганская Обь.\n",
      "Мост в 1984 году был открыт через протоку Юганская Обь.\n",
      "[0, 0, 0, 0, 0, 0, 1, 0, 0, 0, 0, 0, 1, 0, 0, 0, 0, 0, 1, 0, 0, 1, 0, 0, 1, 0, 1, 0, 1, 0, 0, 1, 0, 0, 1, 0, 1, 0, 0, 0, 1, 0, 0, 0, 0, 0, 0, 0, 0, 1, 0]\n"
     ]
    },
    {
     "name": "stderr",
     "output_type": "stream",
     "text": [
      "291it [17:08,  1.43s/it, BLEU2=0.306, BLEU1=0.373, ExactMatch=0.0125, METEOR=0.573, BertScore=nan, StubScore=0.235]"
     ]
    },
    {
     "name": "stdout",
     "output_type": "stream",
     "text": [
      "True\n",
      "В каких городах народники-деревенщики организовали кружки?\n",
      "Народники-деревенщики организовали кружки в Петербурге, Москве, Туле и Харькове.\n",
      "[0, 0, 0, 0, 0, 0, 1, 0, 0, 0, 0, 0, 1, 0, 0, 0, 0, 0, 1, 0, 0, 1, 0, 0, 1, 0, 1, 0, 1, 0, 0, 1, 0, 0, 1, 0, 1, 0, 0, 0, 1, 0, 0, 0, 0, 0, 0, 0, 0, 1, 0]\n",
      "False\n",
      "Группа \"Освобождение труда\" была создана в 1883 году.\n",
      "Группа Освобождение труда была создана в 1883 году.\n"
     ]
    },
    {
     "name": "stderr",
     "output_type": "stream",
     "text": [
      "292it [17:12,  2.11s/it, BLEU2=0.306, BLEU1=0.373, ExactMatch=0.0125, METEOR=0.573, BertScore=nan, StubScore=0.231]"
     ]
    },
    {
     "name": "stdout",
     "output_type": "stream",
     "text": [
      "[0, 0, 0, 0, 0, 0, 1, 0, 0, 0, 0, 0, 1, 0, 0, 0, 0, 0, 1, 0, 0, 1, 0, 0, 1, 0, 1, 0, 1, 0, 0, 1, 0, 0, 1, 0, 1, 0, 0, 0, 1, 0, 0, 0, 0, 0, 0, 0, 0, 1, 0, 0]\n"
     ]
    },
    {
     "name": "stderr",
     "output_type": "stream",
     "text": [
      "293it [17:13,  2.01s/it, BLEU2=0.307, BLEU1=0.375, ExactMatch=0.0124, METEOR=0.575, BertScore=nan, StubScore=0.231]"
     ]
    },
    {
     "name": "stdout",
     "output_type": "stream",
     "text": [
      "True\n",
      "Газета для рабочих и крестьян, изданная в смоленской типографии, называлась \"Зерно\".\n",
      "Газета для рабочих и крестьян, издаваемая в смоленской типографии называлась Зерно.\n",
      "[0, 0, 0, 0, 0, 0, 1, 0, 0, 0, 0, 0, 1, 0, 0, 0, 0, 0, 1, 0, 0, 1, 0, 0, 1, 0, 1, 0, 1, 0, 0, 1, 0, 0, 1, 0, 1, 0, 0, 0, 1, 0, 0, 0, 0, 0, 0, 0, 0, 1, 0, 0]\n"
     ]
    },
    {
     "name": "stderr",
     "output_type": "stream",
     "text": [
      "294it [17:15,  1.86s/it, BLEU2=0.307, BLEU1=0.374, ExactMatch=0.0124, METEOR=0.574, BertScore=nan, StubScore=0.231]"
     ]
    },
    {
     "name": "stdout",
     "output_type": "stream",
     "text": [
      "True\n",
      "Плеханов, Засулич, Дейч и Стефанович эмигрировали в Швейцарию.\n",
      "Плеханов, Засулич, Дейч и Стефанович эмигрировали в Швейцарию, где, ознакомившись с марксистскими идеями, создали в 1883 в Женеве группу Освобождение труда.\n",
      "[0, 0, 0, 0, 0, 0, 1, 0, 0, 0, 0, 0, 1, 0, 0, 0, 0, 0, 1, 0, 0, 1, 0, 0, 1, 0, 1, 0, 1, 0, 0, 1, 0, 0, 1, 0, 1, 0, 0, 0, 1, 0, 0, 0, 0, 0, 0, 0, 0, 1, 0, 0]\n"
     ]
    },
    {
     "name": "stderr",
     "output_type": "stream",
     "text": [
      "295it [17:21,  3.04s/it, BLEU2=0.306, BLEU1=0.373, ExactMatch=0.0123, METEOR=0.573, BertScore=nan, StubScore=0.231]"
     ]
    },
    {
     "name": "stdout",
     "output_type": "stream",
     "text": [
      "True\n",
      "Типография в Смоленске была разгромлена после того, как группа 16 отколовшихся от Земли и воли народников-деревенщиков (Плеханов, Засулич, Дейч, Аптекман, Я. В. Стефанович и др.) получила часть денег и типографию в Смоленске, издав для рабочих и крестьян газету \"Зерно\" (1880-1881).\n",
      "Типография в Смоленске была разгромлена.\n",
      "[0, 0, 0, 0, 0, 0, 1, 0, 0, 0, 0, 0, 1, 0, 0, 0, 0, 0, 1, 0, 0, 1, 0, 0, 1, 0, 1, 0, 1, 0, 0, 1, 0, 0, 1, 0, 1, 0, 0, 0, 1, 0, 0, 0, 0, 0, 0, 0, 0, 1, 0, 0]\n"
     ]
    },
    {
     "name": "stderr",
     "output_type": "stream",
     "text": [
      "296it [17:25,  3.33s/it, BLEU2=0.304, BLEU1=0.372, ExactMatch=0.0123, METEOR=0.572, BertScore=nan, StubScore=0.231]"
     ]
    },
    {
     "name": "stdout",
     "output_type": "stream",
     "text": [
      "True\n",
      "Н.Н. Муравьев был встречен в Усть-Зейской станице с торжеством. Архиепископ Иннокентий провел благодарственный молебен, и на следующий день был организован прием, посвященный подписанию договора. Муравьев поздравил всех присутствующих, выразив радость от того, что Амур стал частью России.\n",
      "Встретили Н.Н. Муравьёва в Усть-Зейскую станице немедленным служением благодарственного молебна Архиепископом Иннокентием.\n",
      "[0, 0, 0, 0, 0, 0, 1, 0, 0, 0, 0, 0, 1, 0, 0, 0, 0, 0, 1, 0, 0, 1, 0, 0, 1, 0, 1, 0, 1, 0, 0, 1, 0, 0, 1, 0, 1, 0, 0, 0, 1, 0, 0, 0, 0, 0, 0, 0, 0, 1, 0, 0]\n"
     ]
    },
    {
     "name": "stderr",
     "output_type": "stream",
     "text": [
      "297it [17:30,  3.83s/it, BLEU2=0.305, BLEU1=0.373, ExactMatch=0.0122, METEOR=0.572, BertScore=nan, StubScore=0.231]"
     ]
    },
    {
     "name": "stdout",
     "output_type": "stream",
     "text": [
      "True\n",
      "Во время торжественного приема, устроенного в честь подписания договора, Н.Н. Муравьев поздравил всех присутствующих такими словами: \"Товарищи! Поздравляю вас! Не напрасно мы трудились: Амур стал достоянием России. Святая православная церковь молится за вас! Россия - благодарит! Да здравствует император Александр и да процветает под его кровом вновь приобретенная страна\".\n",
      "Н.Н. Муравьёв во время торжественного приёма, устроенного по поводу подписания договора произнес: \"Товарищи! Поздравляю вас! Не тщетно трудились мы: Амур сделался достоянием России. Святая православная церковь молится за вас! Россия — благодарит! Да здравствует император Александр и процветает под кровом его вновь приобретённая страна. Ура!\"\n",
      "[0, 0, 0, 0, 0, 0, 1, 0, 0, 0, 0, 0, 1, 0, 0, 0, 0, 0, 1, 0, 0, 1, 0, 0, 1, 0, 1, 0, 1, 0, 0, 1, 0, 0, 1, 0, 1, 0, 0, 0, 1, 0, 0, 0, 0, 0, 0, 0, 0, 1, 0, 0]\n"
     ]
    },
    {
     "name": "stderr",
     "output_type": "stream",
     "text": [
      "298it [17:31,  3.13s/it, BLEU2=0.306, BLEU1=0.374, ExactMatch=0.0122, METEOR=0.573, BertScore=nan, StubScore=0.231]"
     ]
    },
    {
     "name": "stdout",
     "output_type": "stream",
     "text": [
      "True\n",
      "Н.Н. Муравьев вернулся в Усть-Зейскую станицу 18 (30) мая.\n",
      "Н.Н. Муравьёв вернулся в Усть-Зейскую станицу 17 (29) мая.\n",
      "[0, 0, 0, 0, 0, 0, 1, 0, 0, 0, 0, 0, 1, 0, 0, 0, 0, 0, 1, 0, 0, 1, 0, 0, 1, 0, 1, 0, 1, 0, 0, 1, 0, 0, 1, 0, 1, 0, 0, 0, 1, 0, 0, 0, 0, 0, 0, 0, 0, 1, 0, 0]\n"
     ]
    },
    {
     "name": "stderr",
     "output_type": "stream",
     "text": [
      "299it [17:32,  2.41s/it, BLEU2=0.307, BLEU1=0.375, ExactMatch=0.0121, METEOR=0.573, BertScore=nan, StubScore=0.231]"
     ]
    },
    {
     "name": "stdout",
     "output_type": "stream",
     "text": [
      "True\n",
      "Торжественный прием был устроен по поводу подписания договора.\n",
      "Прием Н.Н. Муравьёва устроен по поводу подписания договора.\n",
      "[0, 0, 0, 0, 0, 0, 1, 0, 0, 0, 0, 0, 1, 0, 0, 0, 0, 0, 1, 0, 0, 1, 0, 0, 1, 0, 1, 0, 1, 0, 0, 1, 0, 0, 1, 0, 1, 0, 0, 0, 1, 0, 0, 0, 0, 0, 0, 0, 0, 1, 0, 0]\n"
     ]
    },
    {
     "name": "stderr",
     "output_type": "stream",
     "text": [
      "300it [17:33,  1.98s/it, BLEU2=0.307, BLEU1=0.375, ExactMatch=0.0121, METEOR=0.573, BertScore=nan, StubScore=0.231]"
     ]
    },
    {
     "name": "stdout",
     "output_type": "stream",
     "text": [
      "True\n",
      "Н. Н. Муравьёв был назначен во время правления императора Александра.\n",
      "Миссия Н.Н. Муравьёва. Проходила во времена правления императора Александра.\n",
      "[0, 0, 0, 0, 0, 0, 1, 0, 0, 0, 0, 0, 1, 0, 0, 0, 0, 0, 1, 0, 0, 1, 0, 0, 1, 0, 1, 0, 1, 0, 0, 1, 0, 0, 1, 0, 1, 0, 0, 0, 1, 0, 0, 0, 0, 0, 0, 0, 0, 1, 0, 0]\n",
      "False\n",
      "У меня нет ответа на ваш вопрос.\n",
      "В декабре 1923 года Ш. Х. Сюнчелей возглавлял Академический центр при СНК Башкирской АССР.\n"
     ]
    },
    {
     "name": "stderr",
     "output_type": "stream",
     "text": [
      "301it [17:35,  1.94s/it, BLEU2=0.307, BLEU1=0.375, ExactMatch=0.0121, METEOR=0.573, BertScore=nan, StubScore=0.245]"
     ]
    },
    {
     "name": "stdout",
     "output_type": "stream",
     "text": [
      "[0, 0, 0, 0, 0, 0, 1, 0, 0, 0, 0, 0, 1, 0, 0, 0, 0, 0, 1, 0, 0, 1, 0, 0, 1, 0, 1, 0, 1, 0, 0, 1, 0, 0, 1, 0, 1, 0, 0, 0, 1, 0, 0, 0, 0, 0, 0, 0, 0, 1, 0, 0, 1]\n"
     ]
    },
    {
     "name": "stderr",
     "output_type": "stream",
     "text": [
      "302it [17:37,  1.90s/it, BLEU2=0.309, BLEU1=0.377, ExactMatch=0.012, METEOR=0.574, BertScore=nan, StubScore=0.245] "
     ]
    },
    {
     "name": "stdout",
     "output_type": "stream",
     "text": [
      "True\n",
      "Постановление \"О литературном языке башкирского языка\" было издано 20 февраля 1924 года.\n",
      "Постановление \"О литературном языке башкир\" было издано 20 февраля 1924 года.\n",
      "[0, 0, 0, 0, 0, 0, 1, 0, 0, 0, 0, 0, 1, 0, 0, 0, 0, 0, 1, 0, 0, 1, 0, 0, 1, 0, 1, 0, 1, 0, 0, 1, 0, 0, 1, 0, 1, 0, 0, 0, 1, 0, 0, 0, 0, 0, 0, 0, 0, 1, 0, 0, 1]\n"
     ]
    },
    {
     "name": "stderr",
     "output_type": "stream",
     "text": [
      "303it [17:37,  1.58s/it, BLEU2=0.308, BLEU1=0.375, ExactMatch=0.012, METEOR=0.572, BertScore=nan, StubScore=0.245]"
     ]
    },
    {
     "name": "stdout",
     "output_type": "stream",
     "text": [
      "True\n",
      "20 февраля 1924 года.\n",
      "Решение о взятии куваканского наречия за основу башкирского литературного языка было принято 17 декабря 1923 года.\n",
      "[0, 0, 0, 0, 0, 0, 1, 0, 0, 0, 0, 0, 1, 0, 0, 0, 0, 0, 1, 0, 0, 1, 0, 0, 1, 0, 1, 0, 1, 0, 0, 1, 0, 0, 1, 0, 1, 0, 0, 0, 1, 0, 0, 0, 0, 0, 0, 0, 0, 1, 0, 0, 1]\n",
      "False\n",
      "В 1922 году была создана специальная комиссия по разработке алфавита и орфографии литературного башкирского языка. В её состав входили С. Уфалы, Ш. Худайбердин, Г. Шонаси, С. Рамиев, Х. Каримов, Ш. Манатов, Д. Юлтый. 18 февраля 1923 года СНК БАССР была создана Центральная комиссия по реализации башкирского языка под руководством Ш. А. Худайбердина, которая занималась разработкой литературного языка.\n",
      "Автором постановления \"О литературном языке башкир\" является Башнаркомпрос.\n"
     ]
    },
    {
     "name": "stderr",
     "output_type": "stream",
     "text": [
      "304it [17:48,  4.29s/it, BLEU2=0.308, BLEU1=0.375, ExactMatch=0.012, METEOR=0.572, BertScore=nan, StubScore=0.241]"
     ]
    },
    {
     "name": "stdout",
     "output_type": "stream",
     "text": [
      "[0, 0, 0, 0, 0, 0, 1, 0, 0, 0, 0, 0, 1, 0, 0, 0, 0, 0, 1, 0, 0, 1, 0, 0, 1, 0, 1, 0, 1, 0, 0, 1, 0, 0, 1, 0, 1, 0, 0, 0, 1, 0, 0, 0, 0, 0, 0, 0, 0, 1, 0, 0, 1, 0]\n",
      "False\n",
      "С. Рамиев\n",
      "Башкирский литературный язык сформировался на основе куваканского и юрматынского диалектов.\n"
     ]
    },
    {
     "name": "stderr",
     "output_type": "stream",
     "text": [
      "305it [17:51,  3.77s/it, BLEU2=0.308, BLEU1=0.375, ExactMatch=0.012, METEOR=0.572, BertScore=nan, StubScore=0.236]"
     ]
    },
    {
     "name": "stdout",
     "output_type": "stream",
     "text": [
      "[0, 0, 0, 0, 0, 0, 1, 0, 0, 0, 0, 0, 1, 0, 0, 0, 0, 0, 1, 0, 0, 1, 0, 0, 1, 0, 1, 0, 1, 0, 0, 1, 0, 0, 1, 0, 1, 0, 0, 0, 1, 0, 0, 0, 0, 0, 0, 0, 0, 1, 0, 0, 1, 0, 0]\n",
      "False\n",
      "Длина телефильма может варьироваться в зависимости от его содержания и требований телеканала. Телефильмы обычно имеют продолжительность от 30 минут до 90 минут, хотя некоторые могут быть длиннее. Продолжительность также может зависеть от количества серий в телефильме.\n",
      "Длительность телеверсии — 52 минуты.\n"
     ]
    },
    {
     "name": "stderr",
     "output_type": "stream",
     "text": [
      "306it [17:58,  4.73s/it, BLEU2=0.308, BLEU1=0.375, ExactMatch=0.012, METEOR=0.572, BertScore=nan, StubScore=0.232]"
     ]
    },
    {
     "name": "stdout",
     "output_type": "stream",
     "text": [
      "[0, 0, 0, 0, 0, 0, 1, 0, 0, 0, 0, 0, 1, 0, 0, 0, 0, 0, 1, 0, 0, 1, 0, 0, 1, 0, 1, 0, 1, 0, 0, 1, 0, 0, 1, 0, 1, 0, 0, 0, 1, 0, 0, 0, 0, 0, 0, 0, 0, 1, 0, 0, 1, 0, 0, 0]\n"
     ]
    },
    {
     "name": "stderr",
     "output_type": "stream",
     "text": [
      "307it [17:59,  3.83s/it, BLEU2=0.307, BLEU1=0.375, ExactMatch=0.012, METEOR=0.573, BertScore=nan, StubScore=0.232]"
     ]
    },
    {
     "name": "stdout",
     "output_type": "stream",
     "text": [
      "True\n",
      "Песня, которую исполнили по просьбе фанатов, - \"My Death\", это песня Жака Бреля.\n",
      "По просьбе фанатов была исполнена песня Жака Бреля My Death.\n",
      "[0, 0, 0, 0, 0, 0, 1, 0, 0, 0, 0, 0, 1, 0, 0, 0, 0, 0, 1, 0, 0, 1, 0, 0, 1, 0, 1, 0, 1, 0, 0, 1, 0, 0, 1, 0, 1, 0, 0, 0, 1, 0, 0, 0, 0, 0, 0, 0, 0, 1, 0, 0, 1, 0, 0, 0]\n"
     ]
    },
    {
     "name": "stderr",
     "output_type": "stream",
     "text": [
      "308it [18:00,  2.94s/it, BLEU2=0.31, BLEU1=0.377, ExactMatch=0.0159, METEOR=0.575, BertScore=nan, StubScore=0.232]"
     ]
    },
    {
     "name": "stdout",
     "output_type": "stream",
     "text": [
      "True\n",
      "Концерт был записан телеканалом ОРТ.\n",
      "Концерт был записан телеканалом ОРТ.\n",
      "[0, 0, 0, 0, 0, 0, 1, 0, 0, 0, 0, 0, 1, 0, 0, 0, 0, 0, 1, 0, 0, 1, 0, 0, 1, 0, 1, 0, 1, 0, 0, 1, 0, 0, 1, 0, 1, 0, 0, 0, 1, 0, 0, 0, 0, 0, 0, 0, 0, 1, 0, 0, 1, 0, 0, 0]\n"
     ]
    },
    {
     "name": "stderr",
     "output_type": "stream",
     "text": [
      "309it [18:02,  2.48s/it, BLEU2=0.312, BLEU1=0.38, ExactMatch=0.0198, METEOR=0.576, BertScore=nan, StubScore=0.232]"
     ]
    },
    {
     "name": "stdout",
     "output_type": "stream",
     "text": [
      "True\n",
      "Концерт, на котором пел Дэвид Боуи, состоялся 18 июня.\n",
      "Концерт, на котором пел Дэвид Боуи, состоялся 18 июня.\n",
      "[0, 0, 0, 0, 0, 0, 1, 0, 0, 0, 0, 0, 1, 0, 0, 0, 0, 0, 1, 0, 0, 1, 0, 0, 1, 0, 1, 0, 1, 0, 0, 1, 0, 0, 1, 0, 1, 0, 0, 0, 1, 0, 0, 0, 0, 0, 0, 0, 0, 1, 0, 0, 1, 0, 0, 0]\n"
     ]
    },
    {
     "name": "stderr",
     "output_type": "stream",
     "text": [
      "310it [18:07,  3.25s/it, BLEU2=0.311, BLEU1=0.378, ExactMatch=0.0197, METEOR=0.575, BertScore=nan, StubScore=0.232]"
     ]
    },
    {
     "name": "stdout",
     "output_type": "stream",
     "text": [
      "True\n",
      "\"My Death\" была исполнена во время тура Дэвида Боуи 1973 года \"The Ziggy Stardust Tour\", а также во время его американского тура 1986 года и тура 1987 года с группой Grateful Dead.\n",
      "My Death исполнялась на концертах тура Outside.\n",
      "[0, 0, 0, 0, 0, 0, 1, 0, 0, 0, 0, 0, 1, 0, 0, 0, 0, 0, 1, 0, 0, 1, 0, 0, 1, 0, 1, 0, 1, 0, 0, 1, 0, 0, 1, 0, 1, 0, 0, 0, 1, 0, 0, 0, 0, 0, 0, 0, 0, 1, 0, 0, 1, 0, 0, 0]\n"
     ]
    },
    {
     "name": "stderr",
     "output_type": "stream",
     "text": [
      "311it [18:08,  2.63s/it, BLEU2=0.31, BLEU1=0.378, ExactMatch=0.0196, METEOR=0.575, BertScore=nan, StubScore=0.232] "
     ]
    },
    {
     "name": "stdout",
     "output_type": "stream",
     "text": [
      "True\n",
      "Название гостиницы, где располагалось издательство \"Скорпион\", было \"Метрополь\".\n",
      "Гостиница, где размещалось издательство Скорпион, называлась Метрополь.\n",
      "[0, 0, 0, 0, 0, 0, 1, 0, 0, 0, 0, 0, 1, 0, 0, 0, 0, 0, 1, 0, 0, 1, 0, 0, 1, 0, 1, 0, 1, 0, 0, 1, 0, 0, 1, 0, 1, 0, 0, 0, 1, 0, 0, 0, 0, 0, 0, 0, 0, 1, 0, 0, 1, 0, 0, 0]\n"
     ]
    },
    {
     "name": "stderr",
     "output_type": "stream",
     "text": [
      "312it [18:09,  2.07s/it, BLEU2=0.31, BLEU1=0.377, ExactMatch=0.0195, METEOR=0.574, BertScore=nan, StubScore=0.232]"
     ]
    },
    {
     "name": "stdout",
     "output_type": "stream",
     "text": [
      "True\n",
      "18 октября 1903 года.\n",
      "Голосование комиссии по присуждению Пушкинской премии состоялось 18 октября 1903 года.\n",
      "[0, 0, 0, 0, 0, 0, 1, 0, 0, 0, 0, 0, 1, 0, 0, 0, 0, 0, 1, 0, 0, 1, 0, 0, 1, 0, 1, 0, 1, 0, 0, 1, 0, 0, 1, 0, 1, 0, 0, 0, 1, 0, 0, 0, 0, 0, 0, 0, 0, 1, 0, 0, 1, 0, 0, 0]\n",
      "False\n",
      "Второй вопрос не ясен. Пожалуйста, уточните ваш вопрос.\n",
      "Вторая часть премии досталась переводчику Петру Вейнбергу.\n"
     ]
    },
    {
     "name": "stderr",
     "output_type": "stream",
     "text": [
      "313it [18:12,  2.37s/it, BLEU2=0.31, BLEU1=0.377, ExactMatch=0.0195, METEOR=0.574, BertScore=nan, StubScore=0.246]"
     ]
    },
    {
     "name": "stdout",
     "output_type": "stream",
     "text": [
      "[0, 0, 0, 0, 0, 0, 1, 0, 0, 0, 0, 0, 1, 0, 0, 0, 0, 0, 1, 0, 0, 1, 0, 0, 1, 0, 1, 0, 1, 0, 0, 1, 0, 0, 1, 0, 1, 0, 0, 0, 1, 0, 0, 0, 0, 0, 0, 0, 0, 1, 0, 0, 1, 0, 0, 0, 1]\n"
     ]
    },
    {
     "name": "stderr",
     "output_type": "stream",
     "text": [
      "314it [18:13,  2.16s/it, BLEU2=0.309, BLEU1=0.377, ExactMatch=0.0195, METEOR=0.575, BertScore=nan, StubScore=0.246]"
     ]
    },
    {
     "name": "stdout",
     "output_type": "stream",
     "text": [
      "True\n",
      "Бунин получил восемь избирательных голосов на голосовании комиссии по присуждению Пушкинской премии 18 октября 1903 года.\n",
      "Бунин получил восемь избирательных голосов.\n",
      "[0, 0, 0, 0, 0, 0, 1, 0, 0, 0, 0, 0, 1, 0, 0, 0, 0, 0, 1, 0, 0, 1, 0, 0, 1, 0, 1, 0, 1, 0, 0, 1, 0, 0, 1, 0, 1, 0, 0, 0, 1, 0, 0, 0, 0, 0, 0, 0, 0, 1, 0, 0, 1, 0, 0, 0, 1]\n"
     ]
    },
    {
     "name": "stderr",
     "output_type": "stream",
     "text": [
      "315it [18:14,  1.75s/it, BLEU2=0.308, BLEU1=0.376, ExactMatch=0.0194, METEOR=0.573, BertScore=nan, StubScore=0.246]"
     ]
    },
    {
     "name": "stdout",
     "output_type": "stream",
     "text": [
      "True\n",
      "Что сделало Бунина известным литератором?\n",
      "Репутацию Бунина как литератора укрепила Пушкинская премия.\n",
      "[0, 0, 0, 0, 0, 0, 1, 0, 0, 0, 0, 0, 1, 0, 0, 0, 0, 0, 1, 0, 0, 1, 0, 0, 1, 0, 1, 0, 1, 0, 0, 1, 0, 0, 1, 0, 1, 0, 0, 0, 1, 0, 0, 0, 0, 0, 0, 0, 0, 1, 0, 0, 1, 0, 0, 0, 1]\n"
     ]
    },
    {
     "name": "stderr",
     "output_type": "stream",
     "text": [
      "316it [18:15,  1.52s/it, BLEU2=0.311, BLEU1=0.378, ExactMatch=0.0232, METEOR=0.575, BertScore=nan, StubScore=0.246]"
     ]
    },
    {
     "name": "stdout",
     "output_type": "stream",
     "text": [
      "True\n",
      "Слушание дела началось 3 апреля.\n",
      "Слушание дела началось 3 апреля.\n",
      "[0, 0, 0, 0, 0, 0, 1, 0, 0, 0, 0, 0, 1, 0, 0, 0, 0, 0, 1, 0, 0, 1, 0, 0, 1, 0, 1, 0, 1, 0, 0, 1, 0, 0, 1, 0, 1, 0, 0, 0, 1, 0, 0, 0, 0, 0, 0, 0, 0, 1, 0, 0, 1, 0, 0, 0, 1]\n"
     ]
    },
    {
     "name": "stderr",
     "output_type": "stream",
     "text": [
      "317it [18:17,  1.52s/it, BLEU2=0.313, BLEU1=0.38, ExactMatch=0.0269, METEOR=0.576, BertScore=nan, StubScore=0.246] "
     ]
    },
    {
     "name": "stdout",
     "output_type": "stream",
     "text": [
      "True\n",
      "Оскар Уайльд обвинил маркиза Куинсберри в клевете.\n",
      "Оскар Уайльд обвинил маркиза Куинсберри в клевете.\n",
      "[0, 0, 0, 0, 0, 0, 1, 0, 0, 0, 0, 0, 1, 0, 0, 0, 0, 0, 1, 0, 0, 1, 0, 0, 1, 0, 1, 0, 1, 0, 0, 1, 0, 0, 1, 0, 1, 0, 0, 0, 1, 0, 0, 0, 0, 0, 0, 0, 0, 1, 0, 0, 1, 0, 0, 0, 1]\n"
     ]
    },
    {
     "name": "stderr",
     "output_type": "stream",
     "text": [
      "318it [18:18,  1.39s/it, BLEU2=0.313, BLEU1=0.379, ExactMatch=0.0268, METEOR=0.576, BertScore=nan, StubScore=0.246]"
     ]
    },
    {
     "name": "stdout",
     "output_type": "stream",
     "text": [
      "True\n",
      "18 февраля 1895 года.\n",
      "Куинсберри написал записку Оскару Уайльду в клубе Элбемарл 18 февраля 1895 года.\n",
      "[0, 0, 0, 0, 0, 0, 1, 0, 0, 0, 0, 0, 1, 0, 0, 0, 0, 0, 1, 0, 0, 1, 0, 0, 1, 0, 1, 0, 1, 0, 0, 1, 0, 0, 1, 0, 1, 0, 0, 0, 1, 0, 0, 0, 0, 0, 0, 0, 0, 1, 0, 0, 1, 0, 0, 0, 1]\n"
     ]
    },
    {
     "name": "stderr",
     "output_type": "stream",
     "text": [
      "319it [18:19,  1.29s/it, BLEU2=0.312, BLEU1=0.379, ExactMatch=0.0267, METEOR=0.575, BertScore=nan, StubScore=0.246]"
     ]
    },
    {
     "name": "stdout",
     "output_type": "stream",
     "text": [
      "True\n",
      "18 февраля 1895 года.\n",
      "Оскар Уайльд получил записку Куинсберри 28 февраля 1895 года.\n",
      "[0, 0, 0, 0, 0, 0, 1, 0, 0, 0, 0, 0, 1, 0, 0, 0, 0, 0, 1, 0, 0, 1, 0, 0, 1, 0, 1, 0, 1, 0, 0, 1, 0, 0, 1, 0, 1, 0, 0, 0, 1, 0, 0, 0, 0, 0, 0, 0, 0, 1, 0, 0, 1, 0, 0, 0, 1]\n"
     ]
    },
    {
     "name": "stderr",
     "output_type": "stream",
     "text": [
      "320it [18:20,  1.36s/it, BLEU2=0.314, BLEU1=0.38, ExactMatch=0.0266, METEOR=0.576, BertScore=nan, StubScore=0.246] "
     ]
    },
    {
     "name": "stdout",
     "output_type": "stream",
     "text": [
      "True\n",
      "В зале суда присутствовали только мужчины из-за безнравственности рассматриваемых доказательств.\n",
      "В зале суда присутствовали только мужчины по причине безнравственности рассматриваемых доказательств.\n",
      "[0, 0, 0, 0, 0, 0, 1, 0, 0, 0, 0, 0, 1, 0, 0, 0, 0, 0, 1, 0, 0, 1, 0, 0, 1, 0, 1, 0, 1, 0, 0, 1, 0, 0, 1, 0, 1, 0, 0, 0, 1, 0, 0, 0, 0, 0, 0, 0, 0, 1, 0, 0, 1, 0, 0, 0, 1]\n"
     ]
    },
    {
     "name": "stderr",
     "output_type": "stream",
     "text": [
      "321it [18:21,  1.15s/it, BLEU2=0.313, BLEU1=0.379, ExactMatch=0.0265, METEOR=0.575, BertScore=nan, StubScore=0.246]"
     ]
    },
    {
     "name": "stdout",
     "output_type": "stream",
     "text": [
      "True\n",
      "1870-е годы.\n",
      "Беспредельное народолюбие выдвигают на первый план 1870-е годы.\n",
      "[0, 0, 0, 0, 0, 0, 1, 0, 0, 0, 0, 0, 1, 0, 0, 0, 0, 0, 1, 0, 0, 1, 0, 0, 1, 0, 1, 0, 1, 0, 0, 1, 0, 0, 1, 0, 1, 0, 0, 0, 1, 0, 0, 0, 0, 0, 0, 0, 0, 1, 0, 0, 1, 0, 0, 0, 1]\n"
     ]
    },
    {
     "name": "stderr",
     "output_type": "stream",
     "text": [
      "322it [18:22,  1.11s/it, BLEU2=0.313, BLEU1=0.379, ExactMatch=0.0264, METEOR=0.575, BertScore=nan, StubScore=0.246]"
     ]
    },
    {
     "name": "stdout",
     "output_type": "stream",
     "text": [
      "True\n",
      "Большое общество пропаганды возглавлял Михаил Александрович Натансон.\n",
      "Большое общество пропаганды возглавлялось М. А. Натансоном.\n",
      "[0, 0, 0, 0, 0, 0, 1, 0, 0, 0, 0, 0, 1, 0, 0, 0, 0, 0, 1, 0, 0, 1, 0, 0, 1, 0, 1, 0, 1, 0, 0, 1, 0, 0, 1, 0, 1, 0, 0, 0, 1, 0, 0, 0, 0, 0, 0, 0, 0, 1, 0, 0, 1, 0, 0, 0, 1]\n"
     ]
    },
    {
     "name": "stderr",
     "output_type": "stream",
     "text": [
      "323it [18:24,  1.26s/it, BLEU2=0.313, BLEU1=0.379, ExactMatch=0.0263, METEOR=0.574, BertScore=nan, StubScore=0.246]"
     ]
    },
    {
     "name": "stdout",
     "output_type": "stream",
     "text": [
      "True\n",
      "Кружки народничества начали действовать в крупных городах России в конце 1860-х годов.\n",
      "Несколько десятков народнических кружков в крупных городах России действовало с конца 1860-х.\n",
      "[0, 0, 0, 0, 0, 0, 1, 0, 0, 0, 0, 0, 1, 0, 0, 0, 0, 0, 1, 0, 0, 1, 0, 0, 1, 0, 1, 0, 1, 0, 0, 1, 0, 0, 1, 0, 1, 0, 0, 0, 1, 0, 0, 0, 0, 0, 0, 0, 0, 1, 0, 0, 1, 0, 0, 0, 1]\n"
     ]
    },
    {
     "name": "stderr",
     "output_type": "stream",
     "text": [
      "324it [18:25,  1.28s/it, BLEU2=0.313, BLEU1=0.379, ExactMatch=0.0262, METEOR=0.574, BertScore=nan, StubScore=0.246]"
     ]
    },
    {
     "name": "stdout",
     "output_type": "stream",
     "text": [
      "True\n",
      "С. Л. Перовская создала один из народнических кружков.\n",
      "Создателем одного из народнических кружков был С. Л. Перовской.\n",
      "[0, 0, 0, 0, 0, 0, 1, 0, 0, 0, 0, 0, 1, 0, 0, 0, 0, 0, 1, 0, 0, 1, 0, 0, 1, 0, 1, 0, 1, 0, 0, 1, 0, 0, 1, 0, 1, 0, 0, 0, 1, 0, 0, 0, 0, 0, 0, 0, 0, 1, 0, 0, 1, 0, 0, 0, 1]\n"
     ]
    },
    {
     "name": "stderr",
     "output_type": "stream",
     "text": [
      "325it [18:31,  2.76s/it, BLEU2=0.312, BLEU1=0.378, ExactMatch=0.0261, METEOR=0.573, BertScore=nan, StubScore=0.246]"
     ]
    },
    {
     "name": "stdout",
     "output_type": "stream",
     "text": [
      "True\n",
      "\"Кающиеся дворяне\" - это термин, используемый для описания людей, которые чувствуют себя виноватыми за свои действия и пытаются исправить свои прошлые ошибки. Этот термин происходит из 1870-х годов, когда многие дворяне в России стали посвящать свою жизнь помощи крестьянам и пытались загладить вину своих предков перед народом. Термин \"кающиеся дворяне\" был популяризирован Николаем Михайловичем Михайловским, русским литературным критиком.\n",
      "Выражение \"кающиеся дворяне\" принадлежит Николаю Константиновичу Михайловскому.\n",
      "[0, 0, 0, 0, 0, 0, 1, 0, 0, 0, 0, 0, 1, 0, 0, 0, 0, 0, 1, 0, 0, 1, 0, 0, 1, 0, 1, 0, 1, 0, 0, 1, 0, 0, 1, 0, 1, 0, 0, 0, 1, 0, 0, 0, 0, 0, 0, 0, 0, 1, 0, 0, 1, 0, 0, 0, 1]\n"
     ]
    },
    {
     "name": "stderr",
     "output_type": "stream",
     "text": [
      "326it [18:33,  2.39s/it, BLEU2=0.313, BLEU1=0.379, ExactMatch=0.026, METEOR=0.574, BertScore=nan, StubScore=0.246] "
     ]
    },
    {
     "name": "stdout",
     "output_type": "stream",
     "text": [
      "True\n",
      "Шаляпин получил сольную партию в опере \"Галька\" Станислава Монюшко.\n",
      "Шаляпин поучил сольную партию в опере Монюшко Галька.\n",
      "[0, 0, 0, 0, 0, 0, 1, 0, 0, 0, 0, 0, 1, 0, 0, 0, 0, 0, 1, 0, 0, 1, 0, 0, 1, 0, 1, 0, 1, 0, 0, 1, 0, 0, 1, 0, 1, 0, 0, 0, 1, 0, 0, 0, 0, 0, 0, 0, 0, 1, 0, 0, 1, 0, 0, 0, 1]\n"
     ]
    },
    {
     "name": "stderr",
     "output_type": "stream",
     "text": [
      "327it [18:34,  2.00s/it, BLEU2=0.313, BLEU1=0.379, ExactMatch=0.0259, METEOR=0.573, BertScore=nan, StubScore=0.246]"
     ]
    },
    {
     "name": "stdout",
     "output_type": "stream",
     "text": [
      "True\n",
      "Шаляпин начал работать в хоре оперетты в Уфе.\n",
      "В Уфе он начинал работать в хоре опереточной труппы.\n",
      "[0, 0, 0, 0, 0, 0, 1, 0, 0, 0, 0, 0, 1, 0, 0, 0, 0, 0, 1, 0, 0, 1, 0, 0, 1, 0, 1, 0, 1, 0, 0, 1, 0, 0, 1, 0, 1, 0, 0, 0, 1, 0, 0, 0, 0, 0, 0, 0, 0, 1, 0, 0, 1, 0, 0, 0, 1]\n"
     ]
    },
    {
     "name": "stderr",
     "output_type": "stream",
     "text": [
      "328it [18:34,  1.61s/it, BLEU2=0.312, BLEU1=0.378, ExactMatch=0.0258, METEOR=0.573, BertScore=nan, StubScore=0.246]"
     ]
    },
    {
     "name": "stdout",
     "output_type": "stream",
     "text": [
      "True\n",
      "19 сентября 1890 года.\n",
      "Шаляпин переехал из Казани в Уфу 19 сентября 1890 года.\n",
      "[0, 0, 0, 0, 0, 0, 1, 0, 0, 0, 0, 0, 1, 0, 0, 0, 0, 0, 1, 0, 0, 1, 0, 0, 1, 0, 1, 0, 1, 0, 0, 1, 0, 0, 1, 0, 1, 0, 0, 0, 1, 0, 0, 0, 0, 0, 0, 0, 0, 1, 0, 0, 1, 0, 0, 0, 1]\n"
     ]
    },
    {
     "name": "stderr",
     "output_type": "stream",
     "text": [
      "329it [18:36,  1.65s/it, BLEU2=0.313, BLEU1=0.379, ExactMatch=0.0257, METEOR=0.573, BertScore=nan, StubScore=0.246]"
     ]
    },
    {
     "name": "stdout",
     "output_type": "stream",
     "text": [
      "True\n",
      "Шаляпин начал работать в хоре оперетты под руководством С. Я. Семёнова-Самарского.\n",
      "Шаляпин начинал работать в хоре опереточной труппы под руководством С. Я. Семёнова-Самарского.\n",
      "[0, 0, 0, 0, 0, 0, 1, 0, 0, 0, 0, 0, 1, 0, 0, 0, 0, 0, 1, 0, 0, 1, 0, 0, 1, 0, 1, 0, 1, 0, 0, 1, 0, 0, 1, 0, 1, 0, 0, 0, 1, 0, 0, 0, 0, 0, 0, 0, 0, 1, 0, 0, 1, 0, 0, 0, 1]\n"
     ]
    },
    {
     "name": "stderr",
     "output_type": "stream",
     "text": [
      "330it [18:40,  2.42s/it, BLEU2=0.313, BLEU1=0.379, ExactMatch=0.0256, METEOR=0.573, BertScore=nan, StubScore=0.246]"
     ]
    },
    {
     "name": "stdout",
     "output_type": "stream",
     "text": [
      "True\n",
      "Шаляпин упал на сцене, потому что сел не на тот стул, не заметив его. Он был настолько сосредоточен на выступлении, что не обращал внимания на расположение кресел на сцене. С тех пор он всегда внимательно следил за расстановкой кресел, чтобы больше не промахнуться.\n",
      "Шаляпин упал на сцене, потому что сел мимо стула.\n",
      "[0, 0, 0, 0, 0, 0, 1, 0, 0, 0, 0, 0, 1, 0, 0, 0, 0, 0, 1, 0, 0, 1, 0, 0, 1, 0, 1, 0, 1, 0, 0, 1, 0, 0, 1, 0, 1, 0, 0, 0, 1, 0, 0, 0, 0, 0, 0, 0, 0, 1, 0, 0, 1, 0, 0, 0, 1]\n",
      "False\n",
      "Альбом, о котором идет речь в тексте, называется \"Aladdin Sane\".\n",
      "Альбом назывался The Captain & The Kid.\n"
     ]
    },
    {
     "name": "stderr",
     "output_type": "stream",
     "text": [
      "331it [18:44,  2.91s/it, BLEU2=0.313, BLEU1=0.379, ExactMatch=0.0256, METEOR=0.573, BertScore=nan, StubScore=0.241]"
     ]
    },
    {
     "name": "stdout",
     "output_type": "stream",
     "text": [
      "[0, 0, 0, 0, 0, 0, 1, 0, 0, 0, 0, 0, 1, 0, 0, 0, 0, 0, 1, 0, 0, 1, 0, 0, 1, 0, 1, 0, 1, 0, 0, 1, 0, 0, 1, 0, 1, 0, 0, 0, 1, 0, 0, 0, 0, 0, 0, 0, 0, 1, 0, 0, 1, 0, 0, 0, 1, 0]\n",
      "False\n",
      "У меня нет ответа на ваш вопрос.\n",
      "Мировые продажи альбома на настоящий момент составляют примерно 3,5 млн копий.\n"
     ]
    },
    {
     "name": "stderr",
     "output_type": "stream",
     "text": [
      "332it [18:46,  2.60s/it, BLEU2=0.313, BLEU1=0.379, ExactMatch=0.0256, METEOR=0.573, BertScore=nan, StubScore=0.254]"
     ]
    },
    {
     "name": "stdout",
     "output_type": "stream",
     "text": [
      "[0, 0, 0, 0, 0, 0, 1, 0, 0, 0, 0, 0, 1, 0, 0, 0, 0, 0, 1, 0, 0, 1, 0, 0, 1, 0, 1, 0, 1, 0, 0, 1, 0, 0, 1, 0, 1, 0, 0, 0, 1, 0, 0, 0, 0, 0, 0, 0, 0, 1, 0, 0, 1, 0, 0, 0, 1, 0, 1]\n"
     ]
    },
    {
     "name": "stderr",
     "output_type": "stream",
     "text": [
      "333it [18:48,  2.29s/it, BLEU2=0.314, BLEU1=0.38, ExactMatch=0.0255, METEOR=0.573, BertScore=nan, StubScore=0.254] "
     ]
    },
    {
     "name": "stdout",
     "output_type": "stream",
     "text": [
      "True\n",
      "Элтон Джон и Берни Топин выпустили свой следующий совместный диск в 1970 году.\n",
      "Элтон Джон и Берни Топин выпустили очередной совместный диск 19 сентября 2006 года.\n",
      "[0, 0, 0, 0, 0, 0, 1, 0, 0, 0, 0, 0, 1, 0, 0, 0, 0, 0, 1, 0, 0, 1, 0, 0, 1, 0, 1, 0, 1, 0, 0, 1, 0, 0, 1, 0, 1, 0, 0, 0, 1, 0, 0, 0, 0, 0, 0, 0, 0, 1, 0, 0, 1, 0, 0, 0, 1, 0, 1]\n",
      "False\n",
      "В альбоме \"Toy\" было запланировано 13 песен, но он так и не был выпущен.\n",
      "В альбоме было 10 песен.\n"
     ]
    },
    {
     "name": "stderr",
     "output_type": "stream",
     "text": [
      "334it [18:52,  2.86s/it, BLEU2=0.314, BLEU1=0.38, ExactMatch=0.0255, METEOR=0.573, BertScore=nan, StubScore=0.25] "
     ]
    },
    {
     "name": "stdout",
     "output_type": "stream",
     "text": [
      "[0, 0, 0, 0, 0, 0, 1, 0, 0, 0, 0, 0, 1, 0, 0, 0, 0, 0, 1, 0, 0, 1, 0, 0, 1, 0, 1, 0, 1, 0, 0, 1, 0, 0, 1, 0, 1, 0, 0, 0, 1, 0, 0, 0, 0, 0, 0, 0, 0, 1, 0, 0, 1, 0, 0, 0, 1, 0, 1, 0]\n",
      "False\n",
      "В тексте не указано, что было помещено на диск.\n",
      "На диск были помещены одновременно фотографии Элтона Джона и Берни Топина.\n"
     ]
    },
    {
     "name": "stderr",
     "output_type": "stream",
     "text": [
      "335it [18:55,  2.96s/it, BLEU2=0.314, BLEU1=0.38, ExactMatch=0.0255, METEOR=0.573, BertScore=nan, StubScore=0.246]"
     ]
    },
    {
     "name": "stdout",
     "output_type": "stream",
     "text": [
      "[0, 0, 0, 0, 0, 0, 1, 0, 0, 0, 0, 0, 1, 0, 0, 0, 0, 0, 1, 0, 0, 1, 0, 0, 1, 0, 1, 0, 1, 0, 0, 1, 0, 0, 1, 0, 1, 0, 0, 0, 1, 0, 0, 0, 0, 0, 0, 0, 0, 1, 0, 0, 1, 0, 0, 0, 1, 0, 1, 0, 0]\n"
     ]
    },
    {
     "name": "stderr",
     "output_type": "stream",
     "text": [
      "336it [18:57,  2.63s/it, BLEU2=0.314, BLEU1=0.38, ExactMatch=0.0255, METEOR=0.573, BertScore=nan, StubScore=0.246]"
     ]
    },
    {
     "name": "stdout",
     "output_type": "stream",
     "text": [
      "True\n",
      "Пруст работал над сборником \"Против Сент-Бева\" весной и летом 1908 года.\n",
      "Сборник над которым работал Пруст весной и летом 1908 года назывался \"Против Сент-Бёва\".\n",
      "[0, 0, 0, 0, 0, 0, 1, 0, 0, 0, 0, 0, 1, 0, 0, 0, 0, 0, 1, 0, 0, 1, 0, 0, 1, 0, 1, 0, 1, 0, 0, 1, 0, 0, 1, 0, 1, 0, 0, 0, 1, 0, 0, 0, 0, 0, 0, 0, 0, 1, 0, 0, 1, 0, 0, 0, 1, 0, 1, 0, 0]\n"
     ]
    },
    {
     "name": "stderr",
     "output_type": "stream",
     "text": [
      "337it [18:58,  2.20s/it, BLEU2=0.314, BLEU1=0.381, ExactMatch=0.0254, METEOR=0.574, BertScore=nan, StubScore=0.246]"
     ]
    },
    {
     "name": "stdout",
     "output_type": "stream",
     "text": [
      "True\n",
      "1908 год был самым важным годом для становления Пруста как писателя.\n",
      "Самым важным для формирования Пруста как писателя был 1908 год.\n",
      "[0, 0, 0, 0, 0, 0, 1, 0, 0, 0, 0, 0, 1, 0, 0, 0, 0, 0, 1, 0, 0, 1, 0, 0, 1, 0, 1, 0, 1, 0, 0, 1, 0, 0, 1, 0, 1, 0, 0, 0, 1, 0, 0, 0, 0, 0, 0, 0, 0, 1, 0, 0, 1, 0, 0, 0, 1, 0, 1, 0, 0]\n"
     ]
    },
    {
     "name": "stderr",
     "output_type": "stream",
     "text": [
      "338it [19:01,  2.46s/it, BLEU2=0.314, BLEU1=0.381, ExactMatch=0.0253, METEOR=0.575, BertScore=nan, StubScore=0.246]"
     ]
    },
    {
     "name": "stdout",
     "output_type": "stream",
     "text": [
      "True\n",
      "Пруст хотел опубликовать в различных журналах пародии на других писателей, чтобы отточить свой собственный стиль. Эти упражнения в подражании позволили ему усовершенствовать свои навыки письма и развить свой уникальный подход.\n",
      "Публикуя в различных журналах пародии на других писателей, Пруст хотел отточить свой собственный стиль.\n",
      "[0, 0, 0, 0, 0, 0, 1, 0, 0, 0, 0, 0, 1, 0, 0, 0, 0, 0, 1, 0, 0, 1, 0, 0, 1, 0, 1, 0, 1, 0, 0, 1, 0, 0, 1, 0, 1, 0, 0, 0, 1, 0, 0, 0, 0, 0, 0, 0, 0, 1, 0, 0, 1, 0, 0, 0, 1, 0, 1, 0, 0]\n"
     ]
    },
    {
     "name": "stderr",
     "output_type": "stream",
     "text": [
      "339it [19:03,  2.21s/it, BLEU2=0.316, BLEU1=0.383, ExactMatch=0.0252, METEOR=0.577, BertScore=nan, StubScore=0.246]"
     ]
    },
    {
     "name": "stdout",
     "output_type": "stream",
     "text": [
      "True\n",
      "В первой половине 1908 года Пруст опубликовал в различных журналах пародии на других писателей.\n",
      "В первой половине года Пруст опубликовал в различных журналах пародии на других писателей.\n",
      "[0, 0, 0, 0, 0, 0, 1, 0, 0, 0, 0, 0, 1, 0, 0, 0, 0, 0, 1, 0, 0, 1, 0, 0, 1, 0, 1, 0, 1, 0, 0, 1, 0, 0, 1, 0, 1, 0, 0, 0, 1, 0, 0, 0, 0, 0, 0, 0, 0, 1, 0, 0, 1, 0, 0, 0, 1, 0, 1, 0, 0]\n"
     ]
    },
    {
     "name": "stderr",
     "output_type": "stream",
     "text": [
      "340it [19:03,  1.69s/it, BLEU2=0.315, BLEU1=0.382, ExactMatch=0.0251, METEOR=0.575, BertScore=nan, StubScore=0.246]"
     ]
    },
    {
     "name": "stdout",
     "output_type": "stream",
     "text": [
      "True\n",
      "1956\n",
      "Совместно с Independent Television Network Би-би-си стало вещать в 1956 году.\n",
      "[0, 0, 0, 0, 0, 0, 1, 0, 0, 0, 0, 0, 1, 0, 0, 0, 0, 0, 1, 0, 0, 1, 0, 0, 1, 0, 1, 0, 1, 0, 0, 1, 0, 0, 1, 0, 1, 0, 0, 0, 1, 0, 0, 0, 0, 0, 0, 0, 0, 1, 0, 0, 1, 0, 0, 0, 1, 0, 1, 0, 0]\n"
     ]
    },
    {
     "name": "stderr",
     "output_type": "stream",
     "text": [
      "341it [19:04,  1.30s/it, BLEU2=0.314, BLEU1=0.38, ExactMatch=0.025, METEOR=0.573, BertScore=nan, StubScore=0.246]  "
     ]
    },
    {
     "name": "stdout",
     "output_type": "stream",
     "text": [
      "True\n",
      "1937\n",
      "Первая телевизионная трансляция теннисного мачта на уимблдоне была в 1937 году.\n",
      "[0, 0, 0, 0, 0, 0, 1, 0, 0, 0, 0, 0, 1, 0, 0, 0, 0, 0, 1, 0, 0, 1, 0, 0, 1, 0, 1, 0, 1, 0, 0, 1, 0, 0, 1, 0, 1, 0, 0, 0, 1, 0, 0, 0, 0, 0, 0, 0, 0, 1, 0, 0, 1, 0, 0, 0, 1, 0, 1, 0, 0]\n"
     ]
    },
    {
     "name": "stderr",
     "output_type": "stream",
     "text": [
      "342it [19:07,  1.80s/it, BLEU2=0.313, BLEU1=0.38, ExactMatch=0.0249, METEOR=0.572, BertScore=nan, StubScore=0.246]"
     ]
    },
    {
     "name": "stdout",
     "output_type": "stream",
     "text": [
      "True\n",
      "Би-би-си вела прямую телевизионную трансляцию матча первого раунда между Банни Остин и ирландцем Джорджем Роджерсом.\n",
      "Первую трансляцию теннисного матча вела Би-би-си.\n",
      "[0, 0, 0, 0, 0, 0, 1, 0, 0, 0, 0, 0, 1, 0, 0, 0, 0, 0, 1, 0, 0, 1, 0, 0, 1, 0, 1, 0, 1, 0, 0, 1, 0, 0, 1, 0, 1, 0, 0, 0, 1, 0, 0, 0, 0, 0, 0, 0, 0, 1, 0, 0, 1, 0, 0, 0, 1, 0, 1, 0, 0]\n",
      "False\n",
      "В 1939 году абсолютными чемпионами мира по легкой атлетике стали:\n",
      "\n",
      "1. Мужчины - Эмиль Затопек (Чехословакия)\n",
      "2. Женщины - Дора Ратьен (Чехословакия)\n",
      "\n",
      "Эмиль Затопек выиграл три золотые медали в беге на 1500 м, 5000 м и 10 000 м, а Дора Ратьен победила в беге на 100 м, 200 м и 800 м.\n",
      "Абсолютными чемпионами в 1939 году стали Элис Марбл и Бобби Риггс.\n"
     ]
    },
    {
     "name": "stderr",
     "output_type": "stream",
     "text": [
      "343it [19:18,  4.74s/it, BLEU2=0.313, BLEU1=0.38, ExactMatch=0.0249, METEOR=0.572, BertScore=nan, StubScore=0.242]"
     ]
    },
    {
     "name": "stdout",
     "output_type": "stream",
     "text": [
      "[0, 0, 0, 0, 0, 0, 1, 0, 0, 0, 0, 0, 1, 0, 0, 0, 0, 0, 1, 0, 0, 1, 0, 0, 1, 0, 1, 0, 1, 0, 0, 1, 0, 0, 1, 0, 1, 0, 0, 0, 1, 0, 0, 0, 0, 0, 0, 0, 0, 1, 0, 0, 1, 0, 0, 0, 1, 0, 1, 0, 0, 0]\n"
     ]
    },
    {
     "name": "stderr",
     "output_type": "stream",
     "text": [
      "344it [19:20,  3.93s/it, BLEU2=0.312, BLEU1=0.379, ExactMatch=0.0248, METEOR=0.57, BertScore=nan, StubScore=0.242]"
     ]
    },
    {
     "name": "stdout",
     "output_type": "stream",
     "text": [
      "True\n",
      "1937 год стал первым годом, когда теннисный матч транслировался по телевидению.\n",
      "Впервые Би-би-си транслировался матч между Банни Остином и ирландцем Джорджем Роджерсом.\n",
      "[0, 0, 0, 0, 0, 0, 1, 0, 0, 0, 0, 0, 1, 0, 0, 0, 0, 0, 1, 0, 0, 1, 0, 0, 1, 0, 1, 0, 1, 0, 0, 1, 0, 0, 1, 0, 1, 0, 0, 0, 1, 0, 0, 0, 0, 0, 0, 0, 0, 1, 0, 0, 1, 0, 0, 0, 1, 0, 1, 0, 0, 0]\n"
     ]
    },
    {
     "name": "stderr",
     "output_type": "stream",
     "text": [
      "345it [19:22,  3.34s/it, BLEU2=0.313, BLEU1=0.38, ExactMatch=0.0247, METEOR=0.571, BertScore=nan, StubScore=0.242]"
     ]
    },
    {
     "name": "stdout",
     "output_type": "stream",
     "text": [
      "True\n",
      "В 1974 году Шукшин принял приглашение сниматься в фильме у режиссёра Георгия Данелии.\n",
      "В 1974 году Шукшин принял приглашение сниматься в фильме С. Ф. Бондарчука.\n",
      "[0, 0, 0, 0, 0, 0, 1, 0, 0, 0, 0, 0, 1, 0, 0, 0, 0, 0, 1, 0, 0, 1, 0, 0, 1, 0, 1, 0, 1, 0, 0, 1, 0, 0, 1, 0, 1, 0, 0, 0, 1, 0, 0, 0, 0, 0, 0, 0, 0, 1, 0, 0, 1, 0, 0, 0, 1, 0, 1, 0, 0, 0]\n",
      "False\n",
      "У меня нет ответа на ваш вопрос.\n",
      "Сборник рассказов, опубликованный в 1973-1974 годах называется характеры.\n"
     ]
    },
    {
     "name": "stderr",
     "output_type": "stream",
     "text": [
      "346it [19:24,  2.93s/it, BLEU2=0.313, BLEU1=0.38, ExactMatch=0.0247, METEOR=0.571, BertScore=nan, StubScore=0.254]"
     ]
    },
    {
     "name": "stdout",
     "output_type": "stream",
     "text": [
      "[0, 0, 0, 0, 0, 0, 1, 0, 0, 0, 0, 0, 1, 0, 0, 0, 0, 0, 1, 0, 0, 1, 0, 0, 1, 0, 1, 0, 1, 0, 0, 1, 0, 0, 1, 0, 1, 0, 0, 0, 1, 0, 0, 0, 0, 0, 0, 0, 0, 1, 0, 0, 1, 0, 0, 0, 1, 0, 1, 0, 0, 0, 1]\n"
     ]
    },
    {
     "name": "stderr",
     "output_type": "stream",
     "text": [
      "347it [19:26,  2.67s/it, BLEU2=0.313, BLEU1=0.38, ExactMatch=0.0246, METEOR=0.572, BertScore=nan, StubScore=0.254]"
     ]
    },
    {
     "name": "stdout",
     "output_type": "stream",
     "text": [
      "True\n",
      "Фильм Шукшина, выпущенный в 1973-1974 годах, назывался \"Калина красная\".\n",
      "Фильм Шукшина \"Калина красная\" вышел в 1973-1974 годах.\n",
      "[0, 0, 0, 0, 0, 0, 1, 0, 0, 0, 0, 0, 1, 0, 0, 0, 0, 0, 1, 0, 0, 1, 0, 0, 1, 0, 1, 0, 1, 0, 0, 1, 0, 0, 1, 0, 1, 0, 0, 0, 1, 0, 0, 0, 0, 0, 0, 0, 0, 1, 0, 0, 1, 0, 0, 0, 1, 0, 1, 0, 0, 0, 1]\n"
     ]
    },
    {
     "name": "stderr",
     "output_type": "stream",
     "text": [
      "348it [19:29,  2.65s/it, BLEU2=0.312, BLEU1=0.38, ExactMatch=0.0246, METEOR=0.572, BertScore=nan, StubScore=0.254]"
     ]
    },
    {
     "name": "stdout",
     "output_type": "stream",
     "text": [
      "True\n",
      "Фильм, выпущенный в 1973-1974 годах, назывался \"Калина красная\" и получил первый приз на Венецианском кинофестивале.\n",
      "Фильм, вышедший в 1973-1974 годах получил первый приз ВКФ.\n",
      "[0, 0, 0, 0, 0, 0, 1, 0, 0, 0, 0, 0, 1, 0, 0, 0, 0, 0, 1, 0, 0, 1, 0, 0, 1, 0, 1, 0, 1, 0, 0, 1, 0, 0, 1, 0, 1, 0, 0, 0, 1, 0, 0, 0, 0, 0, 0, 0, 0, 1, 0, 0, 1, 0, 0, 0, 1, 0, 1, 0, 0, 0, 1]\n"
     ]
    },
    {
     "name": "stderr",
     "output_type": "stream",
     "text": [
      "349it [19:32,  2.86s/it, BLEU2=0.312, BLEU1=0.38, ExactMatch=0.0245, METEOR=0.572, BertScore=nan, StubScore=0.254]"
     ]
    },
    {
     "name": "stdout",
     "output_type": "stream",
     "text": [
      "True\n",
      "Пьеса, которую режиссер Г. А. Товстоногов готовил к постановке на сцене Ленинградского академического драматического театра имени А. М. Горького (ЛАБДТ), называлась \"Энергичные люди\".\n",
      "На сцене ЛАБДТ режиссёр Г. А. Товстоногов готовил постановку пьесы Энергичные люди.\n",
      "[0, 0, 0, 0, 0, 0, 1, 0, 0, 0, 0, 0, 1, 0, 0, 0, 0, 0, 1, 0, 0, 1, 0, 0, 1, 0, 1, 0, 1, 0, 0, 1, 0, 0, 1, 0, 1, 0, 0, 0, 1, 0, 0, 0, 0, 0, 0, 0, 0, 1, 0, 0, 1, 0, 0, 0, 1, 0, 1, 0, 0, 0, 1]\n"
     ]
    },
    {
     "name": "stderr",
     "output_type": "stream",
     "text": [
      "350it [19:34,  2.44s/it, BLEU2=0.311, BLEU1=0.379, ExactMatch=0.0244, METEOR=0.572, BertScore=nan, StubScore=0.254]"
     ]
    },
    {
     "name": "stdout",
     "output_type": "stream",
     "text": [
      "True\n",
      "Стивен Спилберг стал соучредителем кинокомпании Amblin Entertainment в 1984 году.\n",
      "Спилберг создал компанию Amblin Entertainment.\n",
      "[0, 0, 0, 0, 0, 0, 1, 0, 0, 0, 0, 0, 1, 0, 0, 0, 0, 0, 1, 0, 0, 1, 0, 0, 1, 0, 1, 0, 1, 0, 0, 1, 0, 0, 1, 0, 1, 0, 0, 0, 1, 0, 0, 0, 0, 0, 0, 0, 0, 1, 0, 0, 1, 0, 0, 0, 1, 0, 1, 0, 0, 0, 1]\n"
     ]
    },
    {
     "name": "stderr",
     "output_type": "stream",
     "text": [
      "351it [19:36,  2.22s/it, BLEU2=0.312, BLEU1=0.38, ExactMatch=0.0243, METEOR=0.573, BertScore=nan, StubScore=0.254] "
     ]
    },
    {
     "name": "stdout",
     "output_type": "stream",
     "text": [
      "True\n",
      "Назад в будущее и Кто подставил кролика Роджера были сняты под руководством Роберта Земекиса.\n",
      "Фильмы Назад в будущее и Кто подставил кролика Роджера были сняты Робертом Земекисом.\n",
      "[0, 0, 0, 0, 0, 0, 1, 0, 0, 0, 0, 0, 1, 0, 0, 0, 0, 0, 1, 0, 0, 1, 0, 0, 1, 0, 1, 0, 1, 0, 0, 1, 0, 0, 1, 0, 1, 0, 0, 0, 1, 0, 0, 0, 0, 0, 0, 0, 0, 1, 0, 0, 1, 0, 0, 0, 1, 0, 1, 0, 0, 0, 1]\n"
     ]
    },
    {
     "name": "stderr",
     "output_type": "stream",
     "text": [
      "352it [19:37,  2.08s/it, BLEU2=0.313, BLEU1=0.381, ExactMatch=0.0242, METEOR=0.574, BertScore=nan, StubScore=0.254]"
     ]
    },
    {
     "name": "stdout",
     "output_type": "stream",
     "text": [
      "True\n",
      "Кинокомпания Amblin Entertainment была основана в 1984 году Стивеном Спилбергом.\n",
      "Кинокомпания Amblin Entertainment появилась в 1984 году.\n",
      "[0, 0, 0, 0, 0, 0, 1, 0, 0, 0, 0, 0, 1, 0, 0, 0, 0, 0, 1, 0, 0, 1, 0, 0, 1, 0, 1, 0, 1, 0, 0, 1, 0, 0, 1, 0, 1, 0, 0, 0, 1, 0, 0, 0, 0, 0, 0, 0, 0, 1, 0, 0, 1, 0, 0, 0, 1, 0, 1, 0, 0, 0, 1]\n"
     ]
    },
    {
     "name": "stderr",
     "output_type": "stream",
     "text": [
      "353it [19:38,  1.70s/it, BLEU2=0.312, BLEU1=0.38, ExactMatch=0.0241, METEOR=0.573, BertScore=nan, StubScore=0.254] "
     ]
    },
    {
     "name": "stdout",
     "output_type": "stream",
     "text": [
      "True\n",
      "Стивен Спилберг участвовал в производстве более ста фильмов.\n",
      "При участии Спилберга было выпущено более ста фильмов\n",
      "[0, 0, 0, 0, 0, 0, 1, 0, 0, 0, 0, 0, 1, 0, 0, 0, 0, 0, 1, 0, 0, 1, 0, 0, 1, 0, 1, 0, 1, 0, 0, 1, 0, 0, 1, 0, 1, 0, 0, 0, 1, 0, 0, 0, 0, 0, 0, 0, 0, 1, 0, 0, 1, 0, 0, 0, 1, 0, 1, 0, 0, 0, 1]\n"
     ]
    },
    {
     "name": "stderr",
     "output_type": "stream",
     "text": [
      "354it [19:43,  2.72s/it, BLEU2=0.312, BLEU1=0.38, ExactMatch=0.0241, METEOR=0.572, BertScore=nan, StubScore=0.254]"
     ]
    },
    {
     "name": "stdout",
     "output_type": "stream",
     "text": [
      "True\n",
      "1980-е годы были временем экспериментов и создания фильмов другого плана для Стивена Спилберга. Он также активно занимался продюсированием, владея кинокомпанией Amblin Entertainment, которая помогла выйти на широкий экран фильмам, таким как \"Назад в будущее\", \"Люди в чёрном\" и \"Маска Зорро\".\n",
      "1980-е годы для Спилберга были площадкой для новых экспериментов и создания картин совсем другого плана.\n",
      "[0, 0, 0, 0, 0, 0, 1, 0, 0, 0, 0, 0, 1, 0, 0, 0, 0, 0, 1, 0, 0, 1, 0, 0, 1, 0, 1, 0, 1, 0, 0, 1, 0, 0, 1, 0, 1, 0, 0, 0, 1, 0, 0, 0, 0, 0, 0, 0, 0, 1, 0, 0, 1, 0, 0, 0, 1, 0, 1, 0, 0, 0, 1]\n"
     ]
    },
    {
     "name": "stderr",
     "output_type": "stream",
     "text": [
      "355it [19:45,  2.59s/it, BLEU2=0.312, BLEU1=0.38, ExactMatch=0.024, METEOR=0.573, BertScore=nan, StubScore=0.254] "
     ]
    },
    {
     "name": "stdout",
     "output_type": "stream",
     "text": [
      "True\n",
      "В каком стиле была организована праздничная вечеринка по случаю 50-летия Элтона Джона?\n",
      "Праздничная вечеринка по случаю пятидесятилетия Элтона Джона была организована в стиле Людовика IV.\n",
      "[0, 0, 0, 0, 0, 0, 1, 0, 0, 0, 0, 0, 1, 0, 0, 0, 0, 0, 1, 0, 0, 1, 0, 0, 1, 0, 1, 0, 1, 0, 0, 1, 0, 0, 1, 0, 1, 0, 0, 0, 1, 0, 0, 0, 0, 0, 0, 0, 0, 1, 0, 0, 1, 0, 0, 0, 1, 0, 1, 0, 0, 0, 1]\n"
     ]
    },
    {
     "name": "stderr",
     "output_type": "stream",
     "text": [
      "356it [19:48,  2.59s/it, BLEU2=0.312, BLEU1=0.381, ExactMatch=0.0239, METEOR=0.574, BertScore=nan, StubScore=0.254]"
     ]
    },
    {
     "name": "stdout",
     "output_type": "stream",
     "text": [
      "True\n",
      "Элтон Джон потерял двух близких друзей в конце 1997 года: дизайнера Джанни Версаче и принцессу Диану.\n",
      "В конце 1997 года Элтон Джон потерял двух очень близких друзей: Джанни Версачи и принцессу Диану.\n",
      "[0, 0, 0, 0, 0, 0, 1, 0, 0, 0, 0, 0, 1, 0, 0, 0, 0, 0, 1, 0, 0, 1, 0, 0, 1, 0, 1, 0, 1, 0, 0, 1, 0, 0, 1, 0, 1, 0, 0, 0, 1, 0, 0, 0, 0, 0, 0, 0, 0, 1, 0, 0, 1, 0, 0, 0, 1, 0, 1, 0, 0, 0, 1]\n"
     ]
    },
    {
     "name": "stderr",
     "output_type": "stream",
     "text": [
      "357it [19:50,  2.34s/it, BLEU2=0.314, BLEU1=0.383, ExactMatch=0.0238, METEOR=0.575, BertScore=nan, StubScore=0.254]"
     ]
    },
    {
     "name": "stdout",
     "output_type": "stream",
     "text": [
      "True\n",
      "1997 год стал для Элтона Джона годом взлетов и падений.\n",
      "1997 год стал для Элтона Джона годом взлетов и неприятностей.\n",
      "[0, 0, 0, 0, 0, 0, 1, 0, 0, 0, 0, 0, 1, 0, 0, 0, 0, 0, 1, 0, 0, 1, 0, 0, 1, 0, 1, 0, 1, 0, 0, 1, 0, 0, 1, 0, 1, 0, 0, 0, 1, 0, 0, 0, 0, 0, 0, 0, 0, 1, 0, 0, 1, 0, 0, 0, 1, 0, 1, 0, 0, 0, 1]\n"
     ]
    },
    {
     "name": "stderr",
     "output_type": "stream",
     "text": [
      "358it [19:51,  1.96s/it, BLEU2=0.313, BLEU1=0.382, ExactMatch=0.0237, METEOR=0.573, BertScore=nan, StubScore=0.254]"
     ]
    },
    {
     "name": "stdout",
     "output_type": "stream",
     "text": [
      "True\n",
      "17 января 1997 года.\n",
      "17 января 1997 года Элтон Джон с тремя оставшимися членами группы Queen принял участие в представлении, которое было вторым и последним случаем после смерти Фредди Меркьюри, когда остальные члены группы Queen собрались вместе на сцене.\n",
      "[0, 0, 0, 0, 0, 0, 1, 0, 0, 0, 0, 0, 1, 0, 0, 0, 0, 0, 1, 0, 0, 1, 0, 0, 1, 0, 1, 0, 1, 0, 0, 1, 0, 0, 1, 0, 1, 0, 0, 0, 1, 0, 0, 0, 0, 0, 0, 0, 0, 1, 0, 0, 1, 0, 0, 0, 1, 0, 1, 0, 0, 0, 1]\n"
     ]
    },
    {
     "name": "stderr",
     "output_type": "stream",
     "text": [
      "359it [19:54,  2.34s/it, BLEU2=0.313, BLEU1=0.381, ExactMatch=0.0236, METEOR=0.572, BertScore=nan, StubScore=0.254]"
     ]
    },
    {
     "name": "stdout",
     "output_type": "stream",
     "text": [
      "True\n",
      "17 января 1997 года Элтон Джон устроил вечеринку по случаю своего 50-летия, на которой присутствовало 500 самых близких друзей.\n",
      "500 друзей Элтона Джона приняли участие в вечеринке по случаю его 50-летнего юбилея.\n",
      "[0, 0, 0, 0, 0, 0, 1, 0, 0, 0, 0, 0, 1, 0, 0, 0, 0, 0, 1, 0, 0, 1, 0, 0, 1, 0, 1, 0, 1, 0, 0, 1, 0, 0, 1, 0, 1, 0, 0, 0, 1, 0, 0, 0, 0, 0, 0, 0, 0, 1, 0, 0, 1, 0, 0, 0, 1, 0, 1, 0, 0, 0, 1]\n"
     ]
    },
    {
     "name": "stderr",
     "output_type": "stream",
     "text": [
      "360it [19:58,  2.78s/it, BLEU2=0.313, BLEU1=0.381, ExactMatch=0.0236, METEOR=0.573, BertScore=nan, StubScore=0.254]"
     ]
    },
    {
     "name": "stdout",
     "output_type": "stream",
     "text": [
      "True\n",
      "В Сирии и Египте мечеть и аудитория расположены в открытых ложах, выходящих на внутренний двор, в то время как в Средней Азии мечеть и аудитория расположены в корпусе здания, по обе стороны от портала (находящегося на оси главного фасада).\n",
      "В Средней Азии мечеть и аудитория расположены в корпусе здания, по обе стороны портала (находящегося на оси главного фасада).\n",
      "[0, 0, 0, 0, 0, 0, 1, 0, 0, 0, 0, 0, 1, 0, 0, 0, 0, 0, 1, 0, 0, 1, 0, 0, 1, 0, 1, 0, 1, 0, 0, 1, 0, 0, 1, 0, 1, 0, 0, 0, 1, 0, 0, 0, 0, 0, 0, 0, 0, 1, 0, 0, 1, 0, 0, 0, 1, 0, 1, 0, 0, 0, 1]\n"
     ]
    },
    {
     "name": "stderr",
     "output_type": "stream",
     "text": [
      "361it [20:00,  2.52s/it, BLEU2=0.313, BLEU1=0.381, ExactMatch=0.0235, METEOR=0.573, BertScore=nan, StubScore=0.254]"
     ]
    },
    {
     "name": "stdout",
     "output_type": "stream",
     "text": [
      "True\n",
      "Крыша двора медресе в Малой Азии покрыта стропильными крышами с черепицей.\n",
      "В Малой Азии дворик медресе обычно покрывается большим куполом.\n",
      "[0, 0, 0, 0, 0, 0, 1, 0, 0, 0, 0, 0, 1, 0, 0, 0, 0, 0, 1, 0, 0, 1, 0, 0, 1, 0, 1, 0, 1, 0, 0, 1, 0, 0, 1, 0, 1, 0, 0, 0, 1, 0, 0, 0, 0, 0, 0, 0, 0, 1, 0, 0, 1, 0, 0, 0, 1, 0, 1, 0, 0, 0, 1]\n",
      "False\n",
      "Своды в Азии служат естественными границами и географическими особенностями, разделяющими различные регионы и страны. Они также играют важную роль в формировании климата, топографии и экосистем этих регионов.\n",
      "Своды в Азии служат перекрытиями.\n"
     ]
    },
    {
     "name": "stderr",
     "output_type": "stream",
     "text": [
      "362it [20:05,  3.20s/it, BLEU2=0.313, BLEU1=0.381, ExactMatch=0.0235, METEOR=0.573, BertScore=nan, StubScore=0.25] "
     ]
    },
    {
     "name": "stdout",
     "output_type": "stream",
     "text": [
      "[0, 0, 0, 0, 0, 0, 1, 0, 0, 0, 0, 0, 1, 0, 0, 0, 0, 0, 1, 0, 0, 1, 0, 0, 1, 0, 1, 0, 1, 0, 0, 1, 0, 0, 1, 0, 1, 0, 0, 0, 1, 0, 0, 0, 0, 0, 0, 0, 0, 1, 0, 0, 1, 0, 0, 0, 1, 0, 1, 0, 0, 0, 1, 0]\n",
      "False\n",
      "В Северной Африке в качестве перекрытий используются купольные конструкции под названием гумбаз. Эти конструкции широко применялись при строительстве различных сооружений, таких как сардобы, караван-сараи, мавзолеи, усыпальницы, бани и другие. Искусство строительства купольных перекрытий достигло исключительного совершенства в Азии, а затем проникло в некоторые районы Африки.\n",
      "В Северной Африке в качестве перекрытий используются стропильные крыши с черепичными кровлями.\n"
     ]
    },
    {
     "name": "stderr",
     "output_type": "stream",
     "text": [
      "363it [20:13,  4.84s/it, BLEU2=0.313, BLEU1=0.381, ExactMatch=0.0235, METEOR=0.573, BertScore=nan, StubScore=0.246]"
     ]
    },
    {
     "name": "stdout",
     "output_type": "stream",
     "text": [
      "[0, 0, 0, 0, 0, 0, 1, 0, 0, 0, 0, 0, 1, 0, 0, 0, 0, 0, 1, 0, 0, 1, 0, 0, 1, 0, 1, 0, 1, 0, 0, 1, 0, 0, 1, 0, 1, 0, 0, 0, 1, 0, 0, 0, 0, 0, 0, 0, 0, 1, 0, 0, 1, 0, 0, 0, 1, 0, 1, 0, 0, 0, 1, 0, 0]\n"
     ]
    },
    {
     "name": "stderr",
     "output_type": "stream",
     "text": [
      "364it [20:15,  3.87s/it, BLEU2=0.313, BLEU1=0.381, ExactMatch=0.0234, METEOR=0.573, BertScore=nan, StubScore=0.246]"
     ]
    },
    {
     "name": "stdout",
     "output_type": "stream",
     "text": [
      "True\n",
      "1-2-этажное здание медресе включает в себя общежитие, мечеть и аудиторию.\n",
      "1—2-этажное здание медресе включает расположенные вокруг прямоугольного двора общежитие, мечеть, аудиторию.\n",
      "[0, 0, 0, 0, 0, 0, 1, 0, 0, 0, 0, 0, 1, 0, 0, 0, 0, 0, 1, 0, 0, 1, 0, 0, 1, 0, 1, 0, 1, 0, 0, 1, 0, 0, 1, 0, 1, 0, 0, 0, 1, 0, 0, 0, 0, 0, 0, 0, 0, 1, 0, 0, 1, 0, 0, 0, 1, 0, 1, 0, 0, 0, 1, 0, 0]\n",
      "False\n",
      "Нет, не все слова и обороты заимствованы из диалектов. В финском языке также есть много слов, которые не имеют славянских корней.\n",
      "Слова и обороты у диалектов заимствовались с небольшими лингвистическими исключениями.\n"
     ]
    },
    {
     "name": "stderr",
     "output_type": "stream",
     "text": [
      "365it [20:19,  3.95s/it, BLEU2=0.313, BLEU1=0.381, ExactMatch=0.0234, METEOR=0.573, BertScore=nan, StubScore=0.242]"
     ]
    },
    {
     "name": "stdout",
     "output_type": "stream",
     "text": [
      "[0, 0, 0, 0, 0, 0, 1, 0, 0, 0, 0, 0, 1, 0, 0, 0, 0, 0, 1, 0, 0, 1, 0, 0, 1, 0, 1, 0, 1, 0, 0, 1, 0, 0, 1, 0, 1, 0, 0, 0, 1, 0, 0, 0, 0, 0, 0, 0, 0, 1, 0, 0, 1, 0, 0, 0, 1, 0, 1, 0, 0, 0, 1, 0, 0, 0]\n"
     ]
    },
    {
     "name": "stderr",
     "output_type": "stream",
     "text": [
      "366it [20:23,  4.08s/it, BLEU2=0.312, BLEU1=0.381, ExactMatch=0.0233, METEOR=0.573, BertScore=nan, StubScore=0.242]"
     ]
    },
    {
     "name": "stdout",
     "output_type": "stream",
     "text": [
      "True\n",
      "1 марта 1924 года комиссия при Академическом центре Башнаркомпроса решила заимствовать четыре варианта множественного числа из куваканского диалекта в литературный язык: -зар/-зар, -тар/-тэр, -дар/-дэр, -лар/-лэр.\n",
      "В литературный язык варианты множественного числа внесли из куваканского диалекта.\n",
      "[0, 0, 0, 0, 0, 0, 1, 0, 0, 0, 0, 0, 1, 0, 0, 0, 0, 0, 1, 0, 0, 1, 0, 0, 1, 0, 1, 0, 1, 0, 0, 1, 0, 0, 1, 0, 1, 0, 0, 0, 1, 0, 0, 0, 0, 0, 0, 0, 0, 1, 0, 0, 1, 0, 0, 0, 1, 0, 1, 0, 0, 0, 1, 0, 0, 0]\n"
     ]
    },
    {
     "name": "stderr",
     "output_type": "stream",
     "text": [
      "367it [20:24,  3.09s/it, BLEU2=0.311, BLEU1=0.379, ExactMatch=0.0233, METEOR=0.571, BertScore=nan, StubScore=0.242]"
     ]
    },
    {
     "name": "stdout",
     "output_type": "stream",
     "text": [
      "True\n",
      "1. Куваканский диалект.\n",
      "Словообразующие аффиксы заимствовали из юрматынского диалекта.\n",
      "[0, 0, 0, 0, 0, 0, 1, 0, 0, 0, 0, 0, 1, 0, 0, 0, 0, 0, 1, 0, 0, 1, 0, 0, 1, 0, 1, 0, 1, 0, 0, 1, 0, 0, 1, 0, 1, 0, 0, 0, 1, 0, 0, 0, 0, 0, 0, 0, 0, 1, 0, 0, 1, 0, 0, 0, 1, 0, 1, 0, 0, 0, 1, 0, 0, 0]\n"
     ]
    },
    {
     "name": "stderr",
     "output_type": "stream",
     "text": [
      "368it [20:25,  2.47s/it, BLEU2=0.311, BLEU1=0.379, ExactMatch=0.0232, METEOR=0.572, BertScore=nan, StubScore=0.242]"
     ]
    },
    {
     "name": "stdout",
     "output_type": "stream",
     "text": [
      "True\n",
      "Северо-западные башкиры предпочли использовать татарский язык.\n",
      "Татарский диалект предпочли использовать северо-западные башкиры.\n",
      "[0, 0, 0, 0, 0, 0, 1, 0, 0, 0, 0, 0, 1, 0, 0, 0, 0, 0, 1, 0, 0, 1, 0, 0, 1, 0, 1, 0, 1, 0, 0, 1, 0, 0, 1, 0, 1, 0, 0, 0, 1, 0, 0, 0, 0, 0, 0, 0, 0, 1, 0, 0, 1, 0, 0, 0, 1, 0, 1, 0, 0, 0, 1, 0, 0, 0]\n"
     ]
    },
    {
     "name": "stderr",
     "output_type": "stream",
     "text": [
      "369it [20:26,  2.07s/it, BLEU2=0.31, BLEU1=0.379, ExactMatch=0.0231, METEOR=0.571, BertScore=nan, StubScore=0.242] "
     ]
    },
    {
     "name": "stdout",
     "output_type": "stream",
     "text": [
      "True\n",
      "Когда было принято решение о внесении изменений в литературный язык?\n",
      "2 марта 1924 года было решено привнести изменения в литературный язык.\n",
      "[0, 0, 0, 0, 0, 0, 1, 0, 0, 0, 0, 0, 1, 0, 0, 0, 0, 0, 1, 0, 0, 1, 0, 0, 1, 0, 1, 0, 1, 0, 0, 1, 0, 0, 1, 0, 1, 0, 0, 0, 1, 0, 0, 0, 0, 0, 0, 0, 0, 1, 0, 0, 1, 0, 0, 0, 1, 0, 1, 0, 0, 0, 1, 0, 0, 0]\n"
     ]
    },
    {
     "name": "stderr",
     "output_type": "stream",
     "text": [
      "370it [20:27,  1.67s/it, BLEU2=0.31, BLEU1=0.378, ExactMatch=0.023, METEOR=0.571, BertScore=nan, StubScore=0.242] "
     ]
    },
    {
     "name": "stdout",
     "output_type": "stream",
     "text": [
      "True\n",
      "2 марта 1932 года.\n",
      "2 марта 1932 года является датой преобразования посёлка в город Сокол.\n",
      "[0, 0, 0, 0, 0, 0, 1, 0, 0, 0, 0, 0, 1, 0, 0, 0, 0, 0, 1, 0, 0, 1, 0, 0, 1, 0, 1, 0, 1, 0, 0, 1, 0, 0, 1, 0, 1, 0, 0, 0, 1, 0, 0, 0, 0, 0, 0, 0, 0, 1, 0, 0, 1, 0, 0, 0, 1, 0, 1, 0, 0, 0, 1, 0, 0, 0]\n"
     ]
    },
    {
     "name": "stderr",
     "output_type": "stream",
     "text": [
      "371it [20:28,  1.39s/it, BLEU2=0.309, BLEU1=0.377, ExactMatch=0.023, METEOR=0.57, BertScore=nan, StubScore=0.242]"
     ]
    },
    {
     "name": "stdout",
     "output_type": "stream",
     "text": [
      "True\n",
      "1 июня 1932 года.\n",
      "1 июня 1932 года является датой присоединения завода Свердлова к городу Сокол.\n",
      "[0, 0, 0, 0, 0, 0, 1, 0, 0, 0, 0, 0, 1, 0, 0, 0, 0, 0, 1, 0, 0, 1, 0, 0, 1, 0, 1, 0, 1, 0, 0, 1, 0, 0, 1, 0, 1, 0, 0, 0, 1, 0, 0, 0, 0, 0, 0, 0, 0, 1, 0, 0, 1, 0, 0, 0, 1, 0, 1, 0, 0, 0, 1, 0, 0, 0]\n"
     ]
    },
    {
     "name": "stderr",
     "output_type": "stream",
     "text": [
      "372it [20:29,  1.28s/it, BLEU2=0.31, BLEU1=0.378, ExactMatch=0.0229, METEOR=0.571, BertScore=nan, StubScore=0.242]"
     ]
    },
    {
     "name": "stdout",
     "output_type": "stream",
     "text": [
      "True\n",
      "Станция Сухона была интегрирована в границу города Сокол.\n",
      "в границу города Сокол была интегрирована станция Сухона.\n",
      "[0, 0, 0, 0, 0, 0, 1, 0, 0, 0, 0, 0, 1, 0, 0, 0, 0, 0, 1, 0, 0, 1, 0, 0, 1, 0, 1, 0, 1, 0, 0, 1, 0, 0, 1, 0, 1, 0, 0, 0, 1, 0, 0, 0, 0, 0, 0, 0, 0, 1, 0, 0, 1, 0, 0, 0, 1, 0, 1, 0, 0, 0, 1, 0, 0, 0]\n"
     ]
    },
    {
     "name": "stderr",
     "output_type": "stream",
     "text": [
      "373it [20:31,  1.64s/it, BLEU2=0.31, BLEU1=0.378, ExactMatch=0.0228, METEOR=0.572, BertScore=nan, StubScore=0.242]"
     ]
    },
    {
     "name": "stdout",
     "output_type": "stream",
     "text": [
      "True\n",
      "Деревня, которая была включена в состав города Сокол вместе с лесопильным заводом № 40 с поселком (Малютино), называется Малютино.\n",
      "Вместе с лесопильным заводом № 40 с поселком (Малютино) в состав города Сокола было включено село Воскресенье.\n",
      "[0, 0, 0, 0, 0, 0, 1, 0, 0, 0, 0, 0, 1, 0, 0, 0, 0, 0, 1, 0, 0, 1, 0, 0, 1, 0, 1, 0, 1, 0, 0, 1, 0, 0, 1, 0, 1, 0, 0, 0, 1, 0, 0, 0, 0, 0, 0, 0, 0, 1, 0, 0, 1, 0, 0, 0, 1, 0, 1, 0, 0, 0, 1, 0, 0, 0]\n"
     ]
    },
    {
     "name": "stderr",
     "output_type": "stream",
     "text": [
      "374it [20:34,  1.85s/it, BLEU2=0.31, BLEU1=0.379, ExactMatch=0.0227, METEOR=0.572, BertScore=nan, StubScore=0.242]"
     ]
    },
    {
     "name": "stdout",
     "output_type": "stream",
     "text": [
      "True\n",
      "Постановлением Президиума Центрального исполнительного комитета (ЦИК) от 2 марта 1932 года поселок был преобразован в город Сокол.\n",
      "Постановлением Президиума ВЦИК посёлок был преобразован в город Сокол.\n",
      "[0, 0, 0, 0, 0, 0, 1, 0, 0, 0, 0, 0, 1, 0, 0, 0, 0, 0, 1, 0, 0, 1, 0, 0, 1, 0, 1, 0, 1, 0, 0, 1, 0, 0, 1, 0, 1, 0, 0, 0, 1, 0, 0, 0, 0, 0, 0, 0, 0, 1, 0, 0, 1, 0, 0, 0, 1, 0, 1, 0, 0, 0, 1, 0, 0, 0]\n"
     ]
    },
    {
     "name": "stderr",
     "output_type": "stream",
     "text": [
      "375it [20:36,  1.98s/it, BLEU2=0.31, BLEU1=0.379, ExactMatch=0.0227, METEOR=0.573, BertScore=nan, StubScore=0.242]"
     ]
    },
    {
     "name": "stdout",
     "output_type": "stream",
     "text": [
      "True\n",
      "Шейх Али-хан был пленником в русском лагере, который позже стал ханом Дербента.\n",
      "Шейх Али-хан в русском лагере был почётным пленником .\n",
      "[0, 0, 0, 0, 0, 0, 1, 0, 0, 0, 0, 0, 1, 0, 0, 0, 0, 0, 1, 0, 0, 1, 0, 0, 1, 0, 1, 0, 1, 0, 0, 1, 0, 0, 1, 0, 1, 0, 0, 0, 1, 0, 0, 0, 0, 0, 0, 0, 0, 1, 0, 0, 1, 0, 0, 0, 1, 0, 1, 0, 0, 0, 1, 0, 0, 0]\n"
     ]
    },
    {
     "name": "stderr",
     "output_type": "stream",
     "text": [
      "376it [20:37,  1.63s/it, BLEU2=0.31, BLEU1=0.378, ExactMatch=0.0226, METEOR=0.572, BertScore=nan, StubScore=0.242]"
     ]
    },
    {
     "name": "stdout",
     "output_type": "stream",
     "text": [
      "True\n",
      "10 мая 1796 года.\n",
      "2 мая 1796 Валериан Зубов подошел к Дербенту.\n",
      "[0, 0, 0, 0, 0, 0, 1, 0, 0, 0, 0, 0, 1, 0, 0, 0, 0, 0, 1, 0, 0, 1, 0, 0, 1, 0, 1, 0, 1, 0, 0, 1, 0, 0, 1, 0, 1, 0, 0, 0, 1, 0, 0, 0, 0, 0, 0, 0, 0, 1, 0, 0, 1, 0, 0, 0, 1, 0, 1, 0, 0, 0, 1, 0, 0, 0]\n",
      "False\n",
      "У меня нет ответа на ваш вопрос.\n",
      "10 мая на крепостной стене был выкинут белый флаг.\n"
     ]
    },
    {
     "name": "stderr",
     "output_type": "stream",
     "text": [
      "377it [20:39,  1.74s/it, BLEU2=0.31, BLEU1=0.378, ExactMatch=0.0226, METEOR=0.572, BertScore=nan, StubScore=0.254]"
     ]
    },
    {
     "name": "stdout",
     "output_type": "stream",
     "text": [
      "[0, 0, 0, 0, 0, 0, 1, 0, 0, 0, 0, 0, 1, 0, 0, 0, 0, 0, 1, 0, 0, 1, 0, 0, 1, 0, 1, 0, 1, 0, 0, 1, 0, 0, 1, 0, 1, 0, 0, 0, 1, 0, 0, 0, 0, 0, 0, 0, 0, 1, 0, 0, 1, 0, 0, 0, 1, 0, 1, 0, 0, 0, 1, 0, 0, 0, 1]\n"
     ]
    },
    {
     "name": "stderr",
     "output_type": "stream",
     "text": [
      "378it [20:42,  2.10s/it, BLEU2=0.31, BLEU1=0.379, ExactMatch=0.0225, METEOR=0.572, BertScore=nan, StubScore=0.254]"
     ]
    },
    {
     "name": "stdout",
     "output_type": "stream",
     "text": [
      "True\n",
      "В 1799 году младший сын кубинского хана Фатали-хана, Гасан, был провозглашен ханом Дербента.\n",
      "В 1799 году дербентским ханом провозгласили младшего сына кубинского хана Фатали-хана — Гасана.\n",
      "[0, 0, 0, 0, 0, 0, 1, 0, 0, 0, 0, 0, 1, 0, 0, 0, 0, 0, 1, 0, 0, 1, 0, 0, 1, 0, 1, 0, 1, 0, 0, 1, 0, 0, 1, 0, 1, 0, 0, 0, 1, 0, 0, 0, 0, 0, 0, 0, 0, 1, 0, 0, 1, 0, 0, 0, 1, 0, 1, 0, 0, 0, 1, 0, 0, 0, 1]\n"
     ]
    },
    {
     "name": "stderr",
     "output_type": "stream",
     "text": [
      "379it [20:43,  2.00s/it, BLEU2=0.31, BLEU1=0.379, ExactMatch=0.0224, METEOR=0.572, BertScore=nan, StubScore=0.254]"
     ]
    },
    {
     "name": "stdout",
     "output_type": "stream",
     "text": [
      "True\n",
      "Шейх Али Хан явился в русский лагерь после того, как был выставлен белый флаг.\n",
      "После белого флага в русский лагерь явился Хан Шейх Али-хан.\n",
      "[0, 0, 0, 0, 0, 0, 1, 0, 0, 0, 0, 0, 1, 0, 0, 0, 0, 0, 1, 0, 0, 1, 0, 0, 1, 0, 1, 0, 1, 0, 0, 1, 0, 0, 1, 0, 1, 0, 0, 0, 1, 0, 0, 0, 0, 0, 0, 0, 0, 1, 0, 0, 1, 0, 0, 0, 1, 0, 1, 0, 0, 0, 1, 0, 0, 0, 1]\n"
     ]
    },
    {
     "name": "stderr",
     "output_type": "stream",
     "text": [
      "380it [20:56,  5.07s/it, BLEU2=0.309, BLEU1=0.378, ExactMatch=0.0224, METEOR=0.571, BertScore=nan, StubScore=0.254]"
     ]
    },
    {
     "name": "stdout",
     "output_type": "stream",
     "text": [
      "True\n",
      "Статокинетические яды, такие как колхицин, колцемид, винбластин, винкристин, аценафтен, нокодазол, метанол и другие, могут вызвать повреждение митотического аппарата. Эти яды вызывают задержку митоза на стадии метафазы, дезорганизуют различные компоненты митотического веретена деления, такие как центриоли, микротрубочки и кинетохоры, а также влияют на клеточное ядро, плазмалемму и другие внутриклеточные органоиды. В результате действия этих ядов хромосомы спирализуются, становятся короче и толще, а в некоторых случаях даже набухают и сливаются. Это приводит к хромосомным аберрациям, образованию микроядер и развитию анеуплоидии.\n",
      "Повреждение митотического аппарата происходит вследствие воздействия статмокинетических ядов (колхицина, колцемида, винбластина, винкристина, аценафтена, нокодазол, метанола и др.).\n",
      "[0, 0, 0, 0, 0, 0, 1, 0, 0, 0, 0, 0, 1, 0, 0, 0, 0, 0, 1, 0, 0, 1, 0, 0, 1, 0, 1, 0, 1, 0, 0, 1, 0, 0, 1, 0, 1, 0, 0, 0, 1, 0, 0, 0, 0, 0, 0, 0, 0, 1, 0, 0, 1, 0, 0, 0, 1, 0, 1, 0, 0, 0, 1, 0, 0, 0, 1]\n"
     ]
    },
    {
     "name": "stderr",
     "output_type": "stream",
     "text": [
      "381it [20:57,  4.06s/it, BLEU2=0.309, BLEU1=0.378, ExactMatch=0.0223, METEOR=0.572, BertScore=nan, StubScore=0.254]"
     ]
    },
    {
     "name": "stdout",
     "output_type": "stream",
     "text": [
      "True\n",
      "Митоз задерживается на стадии метафазы в результате воздействия статмокинетических ядов.\n",
      "В результате воздействия статмокинетических ядов митоз задерживается на стадии метафазы.\n",
      "[0, 0, 0, 0, 0, 0, 1, 0, 0, 0, 0, 0, 1, 0, 0, 0, 0, 0, 1, 0, 0, 1, 0, 0, 1, 0, 1, 0, 1, 0, 0, 1, 0, 0, 1, 0, 1, 0, 0, 0, 1, 0, 0, 0, 0, 0, 0, 0, 0, 1, 0, 0, 1, 0, 0, 0, 1, 0, 1, 0, 0, 0, 1, 0, 0, 0, 1]\n"
     ]
    },
    {
     "name": "stderr",
     "output_type": "stream",
     "text": [
      "382it [20:58,  3.14s/it, BLEU2=0.312, BLEU1=0.38, ExactMatch=0.0254, METEOR=0.573, BertScore=nan, StubScore=0.254] "
     ]
    },
    {
     "name": "stdout",
     "output_type": "stream",
     "text": [
      "True\n",
      "Колхициновый митоз связан с повреждением митотического аппарата.\n",
      "Колхициновый митоз связан с повреждением митотического аппарата.\n",
      "[0, 0, 0, 0, 0, 0, 1, 0, 0, 0, 0, 0, 1, 0, 0, 0, 0, 0, 1, 0, 0, 1, 0, 0, 1, 0, 1, 0, 1, 0, 0, 1, 0, 0, 1, 0, 1, 0, 0, 0, 1, 0, 0, 0, 0, 0, 0, 0, 0, 1, 0, 0, 1, 0, 0, 0, 1, 0, 1, 0, 0, 0, 1, 0, 0, 0, 1]\n",
      "False\n",
      "4) Фрагментация и пульверизация хромосом возникает в опухолевых клетках, при вирусной инфекции, в результате воздействия на нормальные клетки ионизирующего излучения или мутагенов.\n",
      "В результате фрагментации или отставания хромосом образуются микроядра.\n"
     ]
    },
    {
     "name": "stderr",
     "output_type": "stream",
     "text": [
      "383it [21:03,  3.53s/it, BLEU2=0.312, BLEU1=0.38, ExactMatch=0.0254, METEOR=0.573, BertScore=nan, StubScore=0.25] "
     ]
    },
    {
     "name": "stdout",
     "output_type": "stream",
     "text": [
      "[0, 0, 0, 0, 0, 0, 1, 0, 0, 0, 0, 0, 1, 0, 0, 0, 0, 0, 1, 0, 0, 1, 0, 0, 1, 0, 1, 0, 1, 0, 0, 1, 0, 0, 1, 0, 1, 0, 0, 0, 1, 0, 0, 0, 0, 0, 0, 0, 0, 1, 0, 0, 1, 0, 0, 0, 1, 0, 1, 0, 0, 0, 1, 0, 0, 0, 1, 0]\n"
     ]
    },
    {
     "name": "stderr",
     "output_type": "stream",
     "text": [
      "384it [21:11,  5.02s/it, BLEU2=0.311, BLEU1=0.379, ExactMatch=0.0253, METEOR=0.572, BertScore=nan, StubScore=0.25]"
     ]
    },
    {
     "name": "stdout",
     "output_type": "stream",
     "text": [
      "True\n",
      "Стамокинетические яды усиливают свое действие из-за дезорганизации различных компонентов митотического веретена деления, таких как центриоли, микротрубочки и кинетохоры, а также повреждений, затрагивающих клеточное ядро, плазматическую мембрану и различные внутриклеточные органоиды. Это приводит к хромосомным аберрациям, образованию микроядер и развитию анеуплоидии.\n",
      "Действие статмокинетических ядов усиливает спирализацию хромосом.\n",
      "[0, 0, 0, 0, 0, 0, 1, 0, 0, 0, 0, 0, 1, 0, 0, 0, 0, 0, 1, 0, 0, 1, 0, 0, 1, 0, 1, 0, 1, 0, 0, 1, 0, 0, 1, 0, 1, 0, 0, 0, 1, 0, 0, 0, 0, 0, 0, 0, 0, 1, 0, 0, 1, 0, 0, 0, 1, 0, 1, 0, 0, 0, 1, 0, 0, 0, 1, 0]\n"
     ]
    },
    {
     "name": "stderr",
     "output_type": "stream",
     "text": [
      "385it [21:13,  3.92s/it, BLEU2=0.312, BLEU1=0.381, ExactMatch=0.0252, METEOR=0.573, BertScore=nan, StubScore=0.25]"
     ]
    },
    {
     "name": "stdout",
     "output_type": "stream",
     "text": [
      "True\n",
      "12 книг Лавкрафта были изданы в издательствах Москвы, Киева, Екатеринбурга и Нижнего Новгорода.\n",
      "12 книг Лавкрафта было издано в издательствах Москвы, Киева, Екатеринбурга и Нижнего Новгорода.\n",
      "[0, 0, 0, 0, 0, 0, 1, 0, 0, 0, 0, 0, 1, 0, 0, 0, 0, 0, 1, 0, 0, 1, 0, 0, 1, 0, 1, 0, 1, 0, 0, 1, 0, 0, 1, 0, 1, 0, 0, 0, 1, 0, 0, 0, 0, 0, 0, 0, 0, 1, 0, 0, 1, 0, 0, 0, 1, 0, 1, 0, 0, 0, 1, 0, 0, 0, 1, 0]\n"
     ]
    },
    {
     "name": "stderr",
     "output_type": "stream",
     "text": [
      "386it [21:14,  3.06s/it, BLEU2=0.314, BLEU1=0.383, ExactMatch=0.0283, METEOR=0.574, BertScore=nan, StubScore=0.25]"
     ]
    },
    {
     "name": "stdout",
     "output_type": "stream",
     "text": [
      "True\n",
      "Коллектив переводчиков из Екатеринбурга сформировался вокруг литературного агентства Kubin Ltd.\n",
      "Коллектив переводчиков из Екатеринбурга сформировался вокруг литературного агентства Kubin Ltd.\n",
      "[0, 0, 0, 0, 0, 0, 1, 0, 0, 0, 0, 0, 1, 0, 0, 0, 0, 0, 1, 0, 0, 1, 0, 0, 1, 0, 1, 0, 1, 0, 0, 1, 0, 0, 1, 0, 1, 0, 0, 0, 1, 0, 0, 0, 0, 0, 0, 0, 0, 1, 0, 0, 1, 0, 0, 0, 1, 0, 1, 0, 0, 0, 1, 0, 0, 0, 1, 0]\n",
      "False\n",
      "Переводчики из Екатеринбурга несут ответственность за перевод и интерпретацию текста с одного языка на другой, обеспечивая точную передачу смысла и контекста. Они работают в различных областях, таких как техническая документация, юридические тексты, литература и другие виды коммуникации, чтобы гарантировать, что смысл и намерение исходного текста будут сохранены в переводе.\n",
      "Команда переводчиков из Екатеринбурга ответственна за издание 7-томной Энциклопедии читателя.\n"
     ]
    },
    {
     "name": "stderr",
     "output_type": "stream",
     "text": [
      "387it [21:20,  3.99s/it, BLEU2=0.314, BLEU1=0.383, ExactMatch=0.0283, METEOR=0.574, BertScore=nan, StubScore=0.246]"
     ]
    },
    {
     "name": "stdout",
     "output_type": "stream",
     "text": [
      "[0, 0, 0, 0, 0, 0, 1, 0, 0, 0, 0, 0, 1, 0, 0, 0, 0, 0, 1, 0, 0, 1, 0, 0, 1, 0, 1, 0, 1, 0, 0, 1, 0, 0, 1, 0, 1, 0, 0, 0, 1, 0, 0, 0, 0, 0, 0, 0, 0, 1, 0, 0, 1, 0, 0, 0, 1, 0, 1, 0, 0, 0, 1, 0, 0, 0, 1, 0, 0]\n"
     ]
    },
    {
     "name": "stderr",
     "output_type": "stream",
     "text": [
      "388it [21:22,  3.47s/it, BLEU2=0.315, BLEU1=0.384, ExactMatch=0.0282, METEOR=0.575, BertScore=nan, StubScore=0.246]"
     ]
    },
    {
     "name": "stdout",
     "output_type": "stream",
     "text": [
      "True\n",
      "Коллектив переводчиков из Екатеринбурга подготовил полное 4-томное собрание сочинений Лавкрафта для издательства \"Фолиум\" (1991-1993).\n",
      "Коллектив переводчиков из Екатеринбурга подготовил для издательства Форум полное 4-томное собрание сочинений Лавкрафта.\n",
      "[0, 0, 0, 0, 0, 0, 1, 0, 0, 0, 0, 0, 1, 0, 0, 0, 0, 0, 1, 0, 0, 1, 0, 0, 1, 0, 1, 0, 1, 0, 0, 1, 0, 0, 1, 0, 1, 0, 0, 0, 1, 0, 0, 0, 0, 0, 0, 0, 0, 1, 0, 0, 1, 0, 0, 0, 1, 0, 1, 0, 0, 0, 1, 0, 0, 0, 1, 0, 0]\n"
     ]
    },
    {
     "name": "stderr",
     "output_type": "stream",
     "text": [
      "389it [21:28,  4.30s/it, BLEU2=0.315, BLEU1=0.384, ExactMatch=0.0281, METEOR=0.575, BertScore=nan, StubScore=0.246]"
     ]
    },
    {
     "name": "stdout",
     "output_type": "stream",
     "text": [
      "True\n",
      "Игорь Богданов, Василий Дорогокупля, Фёдор Еремеев и Олег Мичковский, сформировавшие группу переводчиков из Екатеринбурга, подготовили полное 4-томное собрание сочинений Лавкрафта для издательства \"Фолиум\" (1991-1993). Они издали 12 книг Лавкрафта в издательствах Москвы, Киева, Екатеринбурга и Нижнего Новгорода. Таким образом, они издали 12 книг Лавкрафта.\n",
      "Игорь Богданов, Василий Дорогокупля, Фёдор Еремеев и Олег Мичковский издали 12 книг Лавкрафта.\n",
      "[0, 0, 0, 0, 0, 0, 1, 0, 0, 0, 0, 0, 1, 0, 0, 0, 0, 0, 1, 0, 0, 1, 0, 0, 1, 0, 1, 0, 1, 0, 0, 1, 0, 0, 1, 0, 1, 0, 0, 0, 1, 0, 0, 0, 0, 0, 0, 0, 0, 1, 0, 0, 1, 0, 0, 0, 1, 0, 1, 0, 0, 0, 1, 0, 0, 0, 1, 0, 0]\n"
     ]
    },
    {
     "name": "stderr",
     "output_type": "stream",
     "text": [
      "390it [21:30,  3.51s/it, BLEU2=0.317, BLEU1=0.385, ExactMatch=0.028, METEOR=0.576, BertScore=nan, StubScore=0.246] "
     ]
    },
    {
     "name": "stdout",
     "output_type": "stream",
     "text": [
      "True\n",
      "Войска республиканцев при осаде Алькасара состояли из анархистов и марксистов.\n",
      "Республиканские войска при осаде Алькасара состояли из анархистов и марксистов.\n",
      "[0, 0, 0, 0, 0, 0, 1, 0, 0, 0, 0, 0, 1, 0, 0, 0, 0, 0, 1, 0, 0, 1, 0, 0, 1, 0, 1, 0, 1, 0, 0, 1, 0, 0, 1, 0, 1, 0, 0, 0, 1, 0, 0, 0, 0, 0, 0, 0, 0, 1, 0, 0, 1, 0, 0, 0, 1, 0, 1, 0, 0, 0, 1, 0, 0, 0, 1, 0, 0]\n"
     ]
    },
    {
     "name": "stderr",
     "output_type": "stream",
     "text": [
      "391it [21:31,  2.86s/it, BLEU2=0.317, BLEU1=0.385, ExactMatch=0.028, METEOR=0.576, BertScore=nan, StubScore=0.246]"
     ]
    },
    {
     "name": "stdout",
     "output_type": "stream",
     "text": [
      "True\n",
      "Оборона Алькасара продолжалась 70 дней.\n",
      "Оборона Алькасара длилась 70 суток.\n",
      "[0, 0, 0, 0, 0, 0, 1, 0, 0, 0, 0, 0, 1, 0, 0, 0, 0, 0, 1, 0, 0, 1, 0, 0, 1, 0, 1, 0, 1, 0, 0, 1, 0, 0, 1, 0, 1, 0, 0, 0, 1, 0, 0, 0, 0, 0, 0, 0, 0, 1, 0, 0, 1, 0, 0, 0, 1, 0, 1, 0, 0, 0, 1, 0, 0, 0, 1, 0, 0]\n"
     ]
    },
    {
     "name": "stderr",
     "output_type": "stream",
     "text": [
      "392it [21:33,  2.59s/it, BLEU2=0.317, BLEU1=0.386, ExactMatch=0.0279, METEOR=0.577, BertScore=nan, StubScore=0.246]"
     ]
    },
    {
     "name": "stdout",
     "output_type": "stream",
     "text": [
      "True\n",
      "Оборона Алькасара началась 18 июля 1936 года во время гражданской войны в Испании.\n",
      "Оборона Алькасара в ходе гражданской войны в Испании началась 20 июля 1936 года.\n",
      "[0, 0, 0, 0, 0, 0, 1, 0, 0, 0, 0, 0, 1, 0, 0, 0, 0, 0, 1, 0, 0, 1, 0, 0, 1, 0, 1, 0, 1, 0, 0, 1, 0, 0, 1, 0, 1, 0, 0, 0, 1, 0, 0, 0, 0, 0, 0, 0, 0, 1, 0, 0, 1, 0, 0, 0, 1, 0, 1, 0, 0, 0, 1, 0, 0, 0, 1, 0, 0]\n"
     ]
    },
    {
     "name": "stderr",
     "output_type": "stream",
     "text": [
      "393it [21:35,  2.18s/it, BLEU2=0.318, BLEU1=0.387, ExactMatch=0.0278, METEOR=0.578, BertScore=nan, StubScore=0.246]"
     ]
    },
    {
     "name": "stdout",
     "output_type": "stream",
     "text": [
      "True\n",
      "Полковник Москардо командовал курсантами военного училища во время обороны Алькасара.\n",
      "Во время обороны Алькасара курсантами военного училища командовал Москардо.\n",
      "[0, 0, 0, 0, 0, 0, 1, 0, 0, 0, 0, 0, 1, 0, 0, 0, 0, 0, 1, 0, 0, 1, 0, 0, 1, 0, 1, 0, 1, 0, 0, 1, 0, 0, 1, 0, 1, 0, 0, 0, 1, 0, 0, 0, 0, 0, 0, 0, 0, 1, 0, 0, 1, 0, 0, 0, 1, 0, 1, 0, 0, 0, 1, 0, 0, 0, 1, 0, 0]\n"
     ]
    },
    {
     "name": "stderr",
     "output_type": "stream",
     "text": [
      "394it [21:36,  1.84s/it, BLEU2=0.317, BLEU1=0.386, ExactMatch=0.0277, METEOR=0.578, BertScore=nan, StubScore=0.246]"
     ]
    },
    {
     "name": "stdout",
     "output_type": "stream",
     "text": [
      "True\n",
      "Сторонники Франко обороняли Алькасар.\n",
      "Алькасар обороняли сторонники Франко.\n",
      "[0, 0, 0, 0, 0, 0, 1, 0, 0, 0, 0, 0, 1, 0, 0, 0, 0, 0, 1, 0, 0, 1, 0, 0, 1, 0, 1, 0, 1, 0, 0, 1, 0, 0, 1, 0, 1, 0, 0, 0, 1, 0, 0, 0, 0, 0, 0, 0, 0, 1, 0, 0, 1, 0, 0, 0, 1, 0, 1, 0, 0, 0, 1, 0, 0, 0, 1, 0, 0]\n",
      "False\n",
      "У меня нет ответа на ваш вопрос.\n",
      "Легендарное телешоу называлась Top of the Pops.\n"
     ]
    },
    {
     "name": "stderr",
     "output_type": "stream",
     "text": [
      "395it [21:38,  1.90s/it, BLEU2=0.317, BLEU1=0.386, ExactMatch=0.0277, METEOR=0.578, BertScore=nan, StubScore=0.257]"
     ]
    },
    {
     "name": "stdout",
     "output_type": "stream",
     "text": [
      "[0, 0, 0, 0, 0, 0, 1, 0, 0, 0, 0, 0, 1, 0, 0, 0, 0, 0, 1, 0, 0, 1, 0, 0, 1, 0, 1, 0, 1, 0, 0, 1, 0, 0, 1, 0, 1, 0, 0, 0, 1, 0, 0, 0, 0, 0, 0, 0, 0, 1, 0, 0, 1, 0, 0, 0, 1, 0, 1, 0, 0, 0, 1, 0, 0, 0, 1, 0, 0, 1]\n"
     ]
    },
    {
     "name": "stderr",
     "output_type": "stream",
     "text": [
      "396it [21:39,  1.75s/it, BLEU2=0.316, BLEU1=0.386, ExactMatch=0.0276, METEOR=0.579, BertScore=nan, StubScore=0.257]"
     ]
    },
    {
     "name": "stdout",
     "output_type": "stream",
     "text": [
      "True\n",
      "Канал, который показал запись телешоу, был Би-Би-Си 2.\n",
      "Запись телешоу показал Би-Би-Си 2\n",
      "[0, 0, 0, 0, 0, 0, 1, 0, 0, 0, 0, 0, 1, 0, 0, 0, 0, 0, 1, 0, 0, 1, 0, 0, 1, 0, 1, 0, 1, 0, 0, 1, 0, 0, 1, 0, 1, 0, 0, 0, 1, 0, 0, 0, 0, 0, 0, 0, 0, 1, 0, 0, 1, 0, 0, 0, 1, 0, 1, 0, 0, 0, 1, 0, 0, 0, 1, 0, 0, 1]\n"
     ]
    },
    {
     "name": "stderr",
     "output_type": "stream",
     "text": [
      "397it [21:42,  2.08s/it, BLEU2=0.317, BLEU1=0.387, ExactMatch=0.0275, METEOR=0.58, BertScore=nan, StubScore=0.257] "
     ]
    },
    {
     "name": "stdout",
     "output_type": "stream",
     "text": [
      "True\n",
      "Видеозапись выступления Боуи на легендарном телешоу Top of the Pops была показана 21 декабря 2011 года на BBC Two.\n",
      "Видеозапись выступления Боуи на легендарном телешоу Top of the Pops была показана 21 декабря 2011 года.\n",
      "[0, 0, 0, 0, 0, 0, 1, 0, 0, 0, 0, 0, 1, 0, 0, 0, 0, 0, 1, 0, 0, 1, 0, 0, 1, 0, 1, 0, 1, 0, 0, 1, 0, 0, 1, 0, 1, 0, 0, 0, 1, 0, 0, 0, 0, 0, 0, 0, 0, 1, 0, 0, 1, 0, 0, 0, 1, 0, 1, 0, 0, 0, 1, 0, 0, 0, 1, 0, 0, 1]\n"
     ]
    },
    {
     "name": "stderr",
     "output_type": "stream",
     "text": [
      "398it [21:44,  2.21s/it, BLEU2=0.318, BLEU1=0.388, ExactMatch=0.0274, METEOR=0.582, BertScore=nan, StubScore=0.257]"
     ]
    },
    {
     "name": "stdout",
     "output_type": "stream",
     "text": [
      "True\n",
      "Запись выступления Боуи на легендарном телешоу Top of the Pops была сделана 4 января 1973 года.\n",
      "Запись выступления Боуи на легендарном телешоу была сделана 4 января 1973 года.\n",
      "[0, 0, 0, 0, 0, 0, 1, 0, 0, 0, 0, 0, 1, 0, 0, 0, 0, 0, 1, 0, 0, 1, 0, 0, 1, 0, 1, 0, 1, 0, 0, 1, 0, 0, 1, 0, 1, 0, 0, 0, 1, 0, 0, 0, 0, 0, 0, 0, 0, 1, 0, 0, 1, 0, 0, 0, 1, 0, 1, 0, 0, 0, 1, 0, 0, 0, 1, 0, 0, 1]\n",
      "False\n",
      "Оператор BBC был Би-би-си.\n",
      "Оператором Би-Би-Си был Джон Хеншелл.\n"
     ]
    },
    {
     "name": "stderr",
     "output_type": "stream",
     "text": [
      "399it [21:47,  2.43s/it, BLEU2=0.318, BLEU1=0.388, ExactMatch=0.0274, METEOR=0.582, BertScore=nan, StubScore=0.254]"
     ]
    },
    {
     "name": "stdout",
     "output_type": "stream",
     "text": [
      "[0, 0, 0, 0, 0, 0, 1, 0, 0, 0, 0, 0, 1, 0, 0, 0, 0, 0, 1, 0, 0, 1, 0, 0, 1, 0, 1, 0, 1, 0, 0, 1, 0, 0, 1, 0, 1, 0, 0, 0, 1, 0, 0, 0, 0, 0, 0, 0, 0, 1, 0, 0, 1, 0, 0, 0, 1, 0, 1, 0, 0, 0, 1, 0, 0, 0, 1, 0, 0, 1, 0]\n",
      "False\n",
      "У меня нет ответа на ваш вопрос.\n",
      "О том что испытывает непрестанную боль, ужас и ярость при чтении каждой газеты, осенью 1918 года Бунин сообщил в письме Абраму Дорману.\n"
     ]
    },
    {
     "name": "stderr",
     "output_type": "stream",
     "text": [
      "400it [21:49,  2.31s/it, BLEU2=0.318, BLEU1=0.388, ExactMatch=0.0274, METEOR=0.582, BertScore=nan, StubScore=0.264]"
     ]
    },
    {
     "name": "stdout",
     "output_type": "stream",
     "text": [
      "[0, 0, 0, 0, 0, 0, 1, 0, 0, 0, 0, 0, 1, 0, 0, 0, 0, 0, 1, 0, 0, 1, 0, 0, 1, 0, 1, 0, 1, 0, 0, 1, 0, 0, 1, 0, 1, 0, 0, 0, 1, 0, 0, 0, 0, 0, 0, 0, 0, 1, 0, 0, 1, 0, 0, 0, 1, 0, 1, 0, 0, 0, 1, 0, 0, 0, 1, 0, 0, 1, 0, 1]\n",
      "False\n",
      "Иван Алексеевич Бунин\n",
      "После проживания на даче, чета Буниных переместилась в особняк Евгения Буковецкого.\n"
     ]
    },
    {
     "name": "stderr",
     "output_type": "stream",
     "text": [
      "401it [21:52,  2.38s/it, BLEU2=0.318, BLEU1=0.388, ExactMatch=0.0274, METEOR=0.582, BertScore=nan, StubScore=0.26] "
     ]
    },
    {
     "name": "stdout",
     "output_type": "stream",
     "text": [
      "[0, 0, 0, 0, 0, 0, 1, 0, 0, 0, 0, 0, 1, 0, 0, 0, 0, 0, 1, 0, 0, 1, 0, 0, 1, 0, 1, 0, 1, 0, 0, 1, 0, 0, 1, 0, 1, 0, 0, 0, 1, 0, 0, 0, 0, 0, 0, 0, 0, 1, 0, 0, 1, 0, 0, 0, 1, 0, 1, 0, 0, 0, 1, 0, 0, 0, 1, 0, 0, 1, 0, 1, 0]\n"
     ]
    },
    {
     "name": "stderr",
     "output_type": "stream",
     "text": [
      "402it [21:54,  2.17s/it, BLEU2=0.319, BLEU1=0.389, ExactMatch=0.0274, METEOR=0.581, BertScore=nan, StubScore=0.26]"
     ]
    },
    {
     "name": "stdout",
     "output_type": "stream",
     "text": [
      "True\n",
      "Иван Алексеевич и Вера Николаевна жили в даче в Силламяэ, расположенном на западном побережье Нарвского залива.\n",
      "Дача, в которой жили Иван Алексеевич и Вера Николаевна располагалась за Большим Фонтаном.\n",
      "[0, 0, 0, 0, 0, 0, 1, 0, 0, 0, 0, 0, 1, 0, 0, 0, 0, 0, 1, 0, 0, 1, 0, 0, 1, 0, 1, 0, 1, 0, 0, 1, 0, 0, 1, 0, 1, 0, 0, 0, 1, 0, 0, 0, 0, 0, 0, 0, 0, 1, 0, 0, 1, 0, 0, 0, 1, 0, 1, 0, 0, 0, 1, 0, 0, 0, 1, 0, 0, 1, 0, 1, 0]\n"
     ]
    },
    {
     "name": "stderr",
     "output_type": "stream",
     "text": [
      "403it [21:55,  1.94s/it, BLEU2=0.32, BLEU1=0.39, ExactMatch=0.0273, METEOR=0.582, BertScore=nan, StubScore=0.26]  "
     ]
    },
    {
     "name": "stdout",
     "output_type": "stream",
     "text": [
      "True\n",
      "Иван Алексеевич и Вера Николаевна покинули Москву 21 мая 1918 года.\n",
      "Иван Алексеевич и Вера Николаевна уехали из Москвы 21 мая 1918 года.\n",
      "[0, 0, 0, 0, 0, 0, 1, 0, 0, 0, 0, 0, 1, 0, 0, 0, 0, 0, 1, 0, 0, 1, 0, 0, 1, 0, 1, 0, 1, 0, 0, 1, 0, 0, 1, 0, 1, 0, 0, 0, 1, 0, 0, 0, 0, 0, 0, 0, 0, 1, 0, 0, 1, 0, 0, 0, 1, 0, 1, 0, 0, 0, 1, 0, 0, 0, 1, 0, 0, 1, 0, 1, 0]\n"
     ]
    },
    {
     "name": "stderr",
     "output_type": "stream",
     "text": [
      "404it [21:56,  1.77s/it, BLEU2=0.32, BLEU1=0.39, ExactMatch=0.0272, METEOR=0.582, BertScore=nan, StubScore=0.26]"
     ]
    },
    {
     "name": "stdout",
     "output_type": "stream",
     "text": [
      "True\n",
      "Иван Алексеевич и Вера Николаевна отправились в Одессу после отъезда из Москвы.\n",
      "Иван Алексеевич и Вера Николаевна после отьезда из Москвы направились до Одессы.\n",
      "[0, 0, 0, 0, 0, 0, 1, 0, 0, 0, 0, 0, 1, 0, 0, 0, 0, 0, 1, 0, 0, 1, 0, 0, 1, 0, 1, 0, 1, 0, 0, 1, 0, 0, 1, 0, 1, 0, 0, 0, 1, 0, 0, 0, 0, 0, 0, 0, 0, 1, 0, 0, 1, 0, 0, 0, 1, 0, 1, 0, 0, 0, 1, 0, 0, 0, 1, 0, 0, 1, 0, 1, 0]\n"
     ]
    },
    {
     "name": "stderr",
     "output_type": "stream",
     "text": [
      "405it [21:59,  1.87s/it, BLEU2=0.32, BLEU1=0.39, ExactMatch=0.0271, METEOR=0.582, BertScore=nan, StubScore=0.26]"
     ]
    },
    {
     "name": "stdout",
     "output_type": "stream",
     "text": [
      "True\n",
      "Мадонна использовала ненормативную лексику в адрес противников Марша женщин, который состоялся 21 января 2017 года.\n",
      "Мадонна нецензурно выражалась в адрес в адреса противников Марша женщин.\n",
      "[0, 0, 0, 0, 0, 0, 1, 0, 0, 0, 0, 0, 1, 0, 0, 0, 0, 0, 1, 0, 0, 1, 0, 0, 1, 0, 1, 0, 1, 0, 0, 1, 0, 0, 1, 0, 1, 0, 0, 0, 1, 0, 0, 0, 0, 0, 0, 0, 0, 1, 0, 0, 1, 0, 0, 0, 1, 0, 1, 0, 0, 0, 1, 0, 0, 0, 1, 0, 0, 1, 0, 1, 0]\n"
     ]
    },
    {
     "name": "stderr",
     "output_type": "stream",
     "text": [
      "406it [21:59,  1.51s/it, BLEU2=0.319, BLEU1=0.389, ExactMatch=0.027, METEOR=0.582, BertScore=nan, StubScore=0.26]"
     ]
    },
    {
     "name": "stdout",
     "output_type": "stream",
     "text": [
      "True\n",
      "21 января 2017 года.\n",
      "Массовая акция протеста против Дональда Трампа была 21 января 2017 года.\n",
      "[0, 0, 0, 0, 0, 0, 1, 0, 0, 0, 0, 0, 1, 0, 0, 0, 0, 0, 1, 0, 0, 1, 0, 0, 1, 0, 1, 0, 1, 0, 0, 1, 0, 0, 1, 0, 1, 0, 0, 0, 1, 0, 0, 0, 0, 0, 0, 0, 0, 1, 0, 0, 1, 0, 0, 0, 1, 0, 1, 0, 0, 0, 1, 0, 0, 0, 1, 0, 0, 1, 0, 1, 0]\n",
      "False\n",
      "Мадонна столкнулась с критикой за свое творчество 1990-х годов, которое было воспринято негативно прессой и общественным мнением.\n",
      "Мадонну критиковали за мат и высказанные вслух антипатриотичные размышления о взрыве Белого дома.\n"
     ]
    },
    {
     "name": "stderr",
     "output_type": "stream",
     "text": [
      "407it [22:03,  2.31s/it, BLEU2=0.319, BLEU1=0.389, ExactMatch=0.027, METEOR=0.582, BertScore=nan, StubScore=0.257]"
     ]
    },
    {
     "name": "stdout",
     "output_type": "stream",
     "text": [
      "[0, 0, 0, 0, 0, 0, 1, 0, 0, 0, 0, 0, 1, 0, 0, 0, 0, 0, 1, 0, 0, 1, 0, 0, 1, 0, 1, 0, 1, 0, 0, 1, 0, 0, 1, 0, 1, 0, 0, 0, 1, 0, 0, 0, 0, 0, 0, 0, 0, 1, 0, 0, 1, 0, 0, 0, 1, 0, 1, 0, 0, 0, 1, 0, 0, 0, 1, 0, 0, 1, 0, 1, 0, 0]\n",
      "False\n",
      "У меня нет ответа на ваш вопрос.\n",
      "В выступлении поле речи были песни Express Yourself и Human Nature.\n"
     ]
    },
    {
     "name": "stderr",
     "output_type": "stream",
     "text": [
      "408it [22:05,  2.16s/it, BLEU2=0.319, BLEU1=0.389, ExactMatch=0.027, METEOR=0.582, BertScore=nan, StubScore=0.267]"
     ]
    },
    {
     "name": "stdout",
     "output_type": "stream",
     "text": [
      "[0, 0, 0, 0, 0, 0, 1, 0, 0, 0, 0, 0, 1, 0, 0, 0, 0, 0, 1, 0, 0, 1, 0, 0, 1, 0, 1, 0, 1, 0, 0, 1, 0, 0, 1, 0, 1, 0, 0, 0, 1, 0, 0, 0, 0, 0, 0, 0, 0, 1, 0, 0, 1, 0, 0, 0, 1, 0, 1, 0, 0, 0, 1, 0, 0, 0, 1, 0, 0, 1, 0, 1, 0, 0, 1]\n"
     ]
    },
    {
     "name": "stderr",
     "output_type": "stream",
     "text": [
      "409it [22:06,  1.73s/it, BLEU2=0.32, BLEU1=0.389, ExactMatch=0.0269, METEOR=0.581, BertScore=nan, StubScore=0.267]"
     ]
    },
    {
     "name": "stdout",
     "output_type": "stream",
     "text": [
      "True\n",
      "Массовый протест был против Дональда Трампа.\n",
      "Массовая акция протеста была против Дональда Трампа.\n",
      "[0, 0, 0, 0, 0, 0, 1, 0, 0, 0, 0, 0, 1, 0, 0, 0, 0, 0, 1, 0, 0, 1, 0, 0, 1, 0, 1, 0, 1, 0, 0, 1, 0, 0, 1, 0, 1, 0, 0, 0, 1, 0, 0, 0, 0, 0, 0, 0, 0, 1, 0, 0, 1, 0, 0, 0, 1, 0, 1, 0, 0, 0, 1, 0, 0, 0, 1, 0, 0, 1, 0, 1, 0, 0, 1]\n"
     ]
    },
    {
     "name": "stderr",
     "output_type": "stream",
     "text": [
      "410it [22:07,  1.64s/it, BLEU2=0.321, BLEU1=0.391, ExactMatch=0.0269, METEOR=0.582, BertScore=nan, StubScore=0.267]"
     ]
    },
    {
     "name": "stdout",
     "output_type": "stream",
     "text": [
      "True\n",
      "Герб города Белозерск был утвержден 22 мая 1972 года.\n",
      "Герб города Белозерска утвержден 22 мая 1972 года.\n",
      "[0, 0, 0, 0, 0, 0, 1, 0, 0, 0, 0, 0, 1, 0, 0, 0, 0, 0, 1, 0, 0, 1, 0, 0, 1, 0, 1, 0, 1, 0, 0, 1, 0, 0, 1, 0, 1, 0, 0, 0, 1, 0, 0, 0, 0, 0, 0, 0, 0, 1, 0, 0, 1, 0, 0, 0, 1, 0, 1, 0, 0, 0, 1, 0, 0, 0, 1, 0, 0, 1, 0, 1, 0, 0, 1]\n"
     ]
    },
    {
     "name": "stderr",
     "output_type": "stream",
     "text": [
      "411it [22:09,  1.71s/it, BLEU2=0.321, BLEU1=0.391, ExactMatch=0.0268, METEOR=0.583, BertScore=nan, StubScore=0.267]"
     ]
    },
    {
     "name": "stdout",
     "output_type": "stream",
     "text": [
      "True\n",
      "12 октября 2001 года были утверждены герб и флаг Белозерского муниципального района и города Белозерска.\n",
      "Герб и флаг Белозерского муниципального района были утверждены 12 октября 2001 года.\n",
      "[0, 0, 0, 0, 0, 0, 1, 0, 0, 0, 0, 0, 1, 0, 0, 0, 0, 0, 1, 0, 0, 1, 0, 0, 1, 0, 1, 0, 1, 0, 0, 1, 0, 0, 1, 0, 1, 0, 0, 0, 1, 0, 0, 0, 0, 0, 0, 0, 0, 1, 0, 0, 1, 0, 0, 0, 1, 0, 1, 0, 0, 0, 1, 0, 0, 0, 1, 0, 0, 1, 0, 1, 0, 0, 1]\n"
     ]
    },
    {
     "name": "stderr",
     "output_type": "stream",
     "text": [
      "412it [22:11,  1.63s/it, BLEU2=0.323, BLEU1=0.393, ExactMatch=0.0267, METEOR=0.584, BertScore=nan, StubScore=0.267]"
     ]
    },
    {
     "name": "stdout",
     "output_type": "stream",
     "text": [
      "True\n",
      "Автор реконструкции герба Белозерского муниципального района и города Белозерска - Олег Свириденко.\n",
      "Автор реконструкции герба Белозерского муниципального района и города Белозерска Олег Свириденко.\n",
      "[0, 0, 0, 0, 0, 0, 1, 0, 0, 0, 0, 0, 1, 0, 0, 0, 0, 0, 1, 0, 0, 1, 0, 0, 1, 0, 1, 0, 1, 0, 0, 1, 0, 0, 1, 0, 1, 0, 0, 0, 1, 0, 0, 0, 0, 0, 0, 0, 0, 1, 0, 0, 1, 0, 0, 0, 1, 0, 1, 0, 0, 0, 1, 0, 0, 0, 1, 0, 0, 1, 0, 1, 0, 0, 1]\n"
     ]
    },
    {
     "name": "stderr",
     "output_type": "stream",
     "text": [
      "413it [22:12,  1.68s/it, BLEU2=0.323, BLEU1=0.392, ExactMatch=0.0266, METEOR=0.584, BertScore=nan, StubScore=0.267]"
     ]
    },
    {
     "name": "stdout",
     "output_type": "stream",
     "text": [
      "True\n",
      "Автор герба Белозерска - архитектор, главный инженер отдела капитального строительства Севмаша Н. С. Яковлев.\n",
      "Автор герба Белозерска П. Горячев.\n",
      "[0, 0, 0, 0, 0, 0, 1, 0, 0, 0, 0, 0, 1, 0, 0, 0, 0, 0, 1, 0, 0, 1, 0, 0, 1, 0, 1, 0, 1, 0, 0, 1, 0, 0, 1, 0, 1, 0, 0, 0, 1, 0, 0, 0, 0, 0, 0, 0, 0, 1, 0, 0, 1, 0, 0, 0, 1, 0, 1, 0, 0, 0, 1, 0, 0, 0, 1, 0, 0, 1, 0, 1, 0, 0, 1]\n",
      "False\n",
      "Я не могу найти конкретную информацию о том, под каким номером герб города внесен в Государственный геральдический регистр Российской Федерации.\n",
      "В Государственный Геральдический регистр Российской Федерации герб внесён под № 1222.\n"
     ]
    },
    {
     "name": "stderr",
     "output_type": "stream",
     "text": [
      "414it [22:17,  2.40s/it, BLEU2=0.323, BLEU1=0.392, ExactMatch=0.0266, METEOR=0.584, BertScore=nan, StubScore=0.263]"
     ]
    },
    {
     "name": "stdout",
     "output_type": "stream",
     "text": [
      "[0, 0, 0, 0, 0, 0, 1, 0, 0, 0, 0, 0, 1, 0, 0, 0, 0, 0, 1, 0, 0, 1, 0, 0, 1, 0, 1, 0, 1, 0, 0, 1, 0, 0, 1, 0, 1, 0, 0, 0, 1, 0, 0, 0, 0, 0, 0, 0, 0, 1, 0, 0, 1, 0, 0, 0, 1, 0, 1, 0, 0, 0, 1, 0, 0, 0, 1, 0, 0, 1, 0, 1, 0, 0, 1, 0]\n"
     ]
    },
    {
     "name": "stderr",
     "output_type": "stream",
     "text": [
      "415it [22:19,  2.28s/it, BLEU2=0.323, BLEU1=0.393, ExactMatch=0.0265, METEOR=0.585, BertScore=nan, StubScore=0.263]"
     ]
    },
    {
     "name": "stdout",
     "output_type": "stream",
     "text": [
      "True\n",
      "Группа \"Машина времени\" приняла участие в Международном фестивале \"Музыканты мира - детям Чернобыля\" в Минске в 1991 году.\n",
      "В Международном фестивале Музыканты мира детям Чернобыля в Минске группа Машина времени приняла участие в 1991 году.\n",
      "[0, 0, 0, 0, 0, 0, 1, 0, 0, 0, 0, 0, 1, 0, 0, 0, 0, 0, 1, 0, 0, 1, 0, 0, 1, 0, 1, 0, 1, 0, 0, 1, 0, 0, 1, 0, 1, 0, 0, 0, 1, 0, 0, 0, 0, 0, 0, 0, 0, 1, 0, 0, 1, 0, 0, 0, 1, 0, 1, 0, 0, 0, 1, 0, 0, 0, 1, 0, 0, 1, 0, 1, 0, 0, 1, 0]\n"
     ]
    },
    {
     "name": "stderr",
     "output_type": "stream",
     "text": [
      "416it [22:21,  2.27s/it, BLEU2=0.324, BLEU1=0.394, ExactMatch=0.0265, METEOR=0.586, BertScore=nan, StubScore=0.263]"
     ]
    },
    {
     "name": "stdout",
     "output_type": "stream",
     "text": [
      "True\n",
      "Макаревич поддержал Бориса Ельцина, когда выступал на баррикадах 20 августа 1991 года перед защитниками Белого дома.\n",
      "Выступая на баррикадах 20 августа 1991 года перед защитниками Белого дома, Макаревич поддержал Бориса Ельцина.\n",
      "[0, 0, 0, 0, 0, 0, 1, 0, 0, 0, 0, 0, 1, 0, 0, 0, 0, 0, 1, 0, 0, 1, 0, 0, 1, 0, 1, 0, 1, 0, 0, 1, 0, 0, 1, 0, 1, 0, 0, 0, 1, 0, 0, 0, 0, 0, 0, 0, 0, 1, 0, 0, 1, 0, 0, 0, 1, 0, 1, 0, 0, 0, 1, 0, 0, 0, 1, 0, 0, 1, 0, 1, 0, 0, 1, 0]\n"
     ]
    },
    {
     "name": "stderr",
     "output_type": "stream",
     "text": [
      "417it [22:22,  1.96s/it, BLEU2=0.325, BLEU1=0.395, ExactMatch=0.0264, METEOR=0.587, BertScore=nan, StubScore=0.263]"
     ]
    },
    {
     "name": "stdout",
     "output_type": "stream",
     "text": [
      "True\n",
      "В 1991 году Александр Кутиков стал продюсером группы \"Машина времени\".\n",
      "В 1991 году продюсером группы Машина времени стал Александр Кутиков.\n",
      "[0, 0, 0, 0, 0, 0, 1, 0, 0, 0, 0, 0, 1, 0, 0, 0, 0, 0, 1, 0, 0, 1, 0, 0, 1, 0, 1, 0, 1, 0, 0, 1, 0, 0, 1, 0, 1, 0, 0, 0, 1, 0, 0, 0, 0, 0, 0, 0, 0, 1, 0, 0, 1, 0, 0, 0, 1, 0, 1, 0, 0, 0, 1, 0, 0, 0, 1, 0, 0, 1, 0, 1, 0, 0, 1, 0]\n"
     ]
    },
    {
     "name": "stderr",
     "output_type": "stream",
     "text": [
      "418it [22:24,  1.84s/it, BLEU2=0.325, BLEU1=0.395, ExactMatch=0.0263, METEOR=0.587, BertScore=nan, StubScore=0.263]"
     ]
    },
    {
     "name": "stdout",
     "output_type": "stream",
     "text": [
      "True\n",
      "Машина времени зависела от государственного монополистического предприятия под названием Мелодия до 1991 года.\n",
      "Группа Машина времени до 1991 года зависила от государственного монополиста фирмы Мелодия.\n",
      "[0, 0, 0, 0, 0, 0, 1, 0, 0, 0, 0, 0, 1, 0, 0, 0, 0, 0, 1, 0, 0, 1, 0, 0, 1, 0, 1, 0, 1, 0, 0, 1, 0, 0, 1, 0, 1, 0, 0, 0, 1, 0, 0, 0, 0, 0, 0, 0, 0, 1, 0, 0, 1, 0, 0, 0, 1, 0, 1, 0, 0, 0, 1, 0, 0, 0, 1, 0, 0, 1, 0, 1, 0, 0, 1, 0]\n"
     ]
    },
    {
     "name": "stderr",
     "output_type": "stream",
     "text": [
      "419it [22:25,  1.77s/it, BLEU2=0.326, BLEU1=0.396, ExactMatch=0.0262, METEOR=0.588, BertScore=nan, StubScore=0.263]"
     ]
    },
    {
     "name": "stdout",
     "output_type": "stream",
     "text": [
      "True\n",
      "Машина времени приняла участие в Благотворительной акции солидарности с программой \"Взгляд\" в 1991 году.\n",
      "В 1991 году группа Машина времени приняла участие в Благотворительной акции солидарности с программой Взгляд.\n",
      "[0, 0, 0, 0, 0, 0, 1, 0, 0, 0, 0, 0, 1, 0, 0, 0, 0, 0, 1, 0, 0, 1, 0, 0, 1, 0, 1, 0, 1, 0, 0, 1, 0, 0, 1, 0, 1, 0, 0, 0, 1, 0, 0, 0, 0, 0, 0, 0, 0, 1, 0, 0, 1, 0, 0, 0, 1, 0, 1, 0, 0, 0, 1, 0, 0, 0, 1, 0, 0, 1, 0, 1, 0, 0, 1, 0]\n"
     ]
    },
    {
     "name": "stderr",
     "output_type": "stream",
     "text": [
      "420it [22:27,  1.88s/it, BLEU2=0.326, BLEU1=0.396, ExactMatch=0.0262, METEOR=0.589, BertScore=nan, StubScore=0.263]"
     ]
    },
    {
     "name": "stdout",
     "output_type": "stream",
     "text": [
      "True\n",
      "Решение о возрождении Олимпийских игр было принято на Конгрессе в Сорбонне в Париже, Франция, 23 июня 1894 года.\n",
      "Решение по возрождению Олимпийских игр было принято на конгрессе в Сорбонне.\n",
      "[0, 0, 0, 0, 0, 0, 1, 0, 0, 0, 0, 0, 1, 0, 0, 0, 0, 0, 1, 0, 0, 1, 0, 0, 1, 0, 1, 0, 1, 0, 0, 1, 0, 0, 1, 0, 1, 0, 0, 0, 1, 0, 0, 0, 0, 0, 0, 0, 0, 1, 0, 0, 1, 0, 0, 0, 1, 0, 1, 0, 0, 0, 1, 0, 0, 0, 1, 0, 0, 1, 0, 1, 0, 0, 1, 0]\n"
     ]
    },
    {
     "name": "stderr",
     "output_type": "stream",
     "text": [
      "421it [22:28,  1.52s/it, BLEU2=0.327, BLEU1=0.397, ExactMatch=0.0261, METEOR=0.589, BertScore=nan, StubScore=0.263]"
     ]
    },
    {
     "name": "stdout",
     "output_type": "stream",
     "text": [
      "True\n",
      "Олимпийские игры проводятся каждые четыре года.\n",
      "Олимпийские игры проходят каждые четыре года.\n",
      "[0, 0, 0, 0, 0, 0, 1, 0, 0, 0, 0, 0, 1, 0, 0, 0, 0, 0, 1, 0, 0, 1, 0, 0, 1, 0, 1, 0, 1, 0, 0, 1, 0, 0, 1, 0, 1, 0, 0, 0, 1, 0, 0, 0, 0, 0, 0, 0, 0, 1, 0, 0, 1, 0, 0, 0, 1, 0, 1, 0, 0, 0, 1, 0, 0, 0, 1, 0, 0, 1, 0, 1, 0, 0, 1, 0]\n"
     ]
    },
    {
     "name": "stderr",
     "output_type": "stream",
     "text": [
      "422it [22:30,  1.59s/it, BLEU2=0.328, BLEU1=0.398, ExactMatch=0.026, METEOR=0.59, BertScore=nan, StubScore=0.263]  "
     ]
    },
    {
     "name": "stdout",
     "output_type": "stream",
     "text": [
      "True\n",
      "Пытки Кубертена по возрождению Олимпийских игр увенчались успехом 23 июня 1894 года.\n",
      "Старания Кубертена по возрождению Олимпийских игр увенчались успехом 23 июня 1894.\n",
      "[0, 0, 0, 0, 0, 0, 1, 0, 0, 0, 0, 0, 1, 0, 0, 0, 0, 0, 1, 0, 0, 1, 0, 0, 1, 0, 1, 0, 1, 0, 0, 1, 0, 0, 1, 0, 1, 0, 0, 0, 1, 0, 0, 0, 0, 0, 0, 0, 0, 1, 0, 0, 1, 0, 0, 0, 1, 0, 1, 0, 0, 0, 1, 0, 0, 0, 1, 0, 0, 1, 0, 1, 0, 0, 1, 0]\n"
     ]
    },
    {
     "name": "stderr",
     "output_type": "stream",
     "text": [
      "423it [22:31,  1.40s/it, BLEU2=0.328, BLEU1=0.399, ExactMatch=0.0259, METEOR=0.591, BertScore=nan, StubScore=0.263]"
     ]
    },
    {
     "name": "stdout",
     "output_type": "stream",
     "text": [
      "True\n",
      "Деметриус Викелас был избран президентом Олимпийского комитета.\n",
      "Президентом Олимпийского комитета был избран Деметриус Викелас.\n",
      "[0, 0, 0, 0, 0, 0, 1, 0, 0, 0, 0, 0, 1, 0, 0, 0, 0, 0, 1, 0, 0, 1, 0, 0, 1, 0, 1, 0, 1, 0, 0, 1, 0, 0, 1, 0, 1, 0, 0, 0, 1, 0, 0, 0, 0, 0, 0, 0, 0, 1, 0, 0, 1, 0, 0, 0, 1, 0, 1, 0, 0, 0, 1, 0, 0, 0, 1, 0, 0, 1, 0, 1, 0, 0, 1, 0]\n"
     ]
    },
    {
     "name": "stderr",
     "output_type": "stream",
     "text": [
      "424it [22:31,  1.13s/it, BLEU2=0.327, BLEU1=0.398, ExactMatch=0.0259, METEOR=0.59, BertScore=nan, StubScore=0.263] "
     ]
    },
    {
     "name": "stdout",
     "output_type": "stream",
     "text": [
      "True\n",
      "Пьер де Кубертен.\n",
      "Первым должность генерального секретаря МОК занял Кубертен.\n",
      "[0, 0, 0, 0, 0, 0, 1, 0, 0, 0, 0, 0, 1, 0, 0, 0, 0, 0, 1, 0, 0, 1, 0, 0, 1, 0, 1, 0, 1, 0, 0, 1, 0, 0, 1, 0, 1, 0, 0, 0, 1, 0, 0, 0, 0, 0, 0, 0, 0, 1, 0, 0, 1, 0, 0, 0, 1, 0, 1, 0, 0, 0, 1, 0, 0, 0, 1, 0, 0, 1, 0, 1, 0, 0, 1, 0]\n"
     ]
    },
    {
     "name": "stderr",
     "output_type": "stream",
     "text": [
      "425it [22:33,  1.18s/it, BLEU2=0.328, BLEU1=0.399, ExactMatch=0.0258, METEOR=0.591, BertScore=nan, StubScore=0.263]"
     ]
    },
    {
     "name": "stdout",
     "output_type": "stream",
     "text": [
      "True\n",
      "Правительство Норвегии передало свои полномочия стортингу 7 июня.\n",
      "Норвежское правительство передало свои полномочия стортингу 7 июня.\n",
      "[0, 0, 0, 0, 0, 0, 1, 0, 0, 0, 0, 0, 1, 0, 0, 0, 0, 0, 1, 0, 0, 1, 0, 0, 1, 0, 1, 0, 1, 0, 0, 1, 0, 0, 1, 0, 1, 0, 0, 0, 1, 0, 0, 0, 0, 0, 0, 0, 0, 1, 0, 0, 1, 0, 0, 0, 1, 0, 1, 0, 0, 0, 1, 0, 0, 0, 1, 0, 0, 1, 0, 1, 0, 0, 1, 0]\n"
     ]
    },
    {
     "name": "stderr",
     "output_type": "stream",
     "text": [
      "426it [22:34,  1.30s/it, BLEU2=0.328, BLEU1=0.399, ExactMatch=0.0257, METEOR=0.592, BertScore=nan, StubScore=0.263]"
     ]
    },
    {
     "name": "stdout",
     "output_type": "stream",
     "text": [
      "True\n",
      "Кабинет министров Норвегии подал в отставку 27 мая 1907 года.\n",
      "Норвежский кабинет министров подал в отставку 27 мая.\n",
      "[0, 0, 0, 0, 0, 0, 1, 0, 0, 0, 0, 0, 1, 0, 0, 0, 0, 0, 1, 0, 0, 1, 0, 0, 1, 0, 1, 0, 1, 0, 0, 1, 0, 0, 1, 0, 1, 0, 0, 0, 1, 0, 0, 0, 0, 0, 0, 0, 0, 1, 0, 0, 1, 0, 0, 0, 1, 0, 1, 0, 0, 0, 1, 0, 0, 0, 1, 0, 0, 1, 0, 1, 0, 0, 1, 0]\n"
     ]
    },
    {
     "name": "stderr",
     "output_type": "stream",
     "text": [
      "427it [22:36,  1.40s/it, BLEU2=0.328, BLEU1=0.399, ExactMatch=0.0256, METEOR=0.591, BertScore=nan, StubScore=0.263]"
     ]
    },
    {
     "name": "stdout",
     "output_type": "stream",
     "text": [
      "True\n",
      "Стортинг принял решение о создании отдельной норвежской консульской службы 23 мая.\n",
      "Стортинг постановил создать отдельную норвежскую консульскую службу 23 мая.\n",
      "[0, 0, 0, 0, 0, 0, 1, 0, 0, 0, 0, 0, 1, 0, 0, 0, 0, 0, 1, 0, 0, 1, 0, 0, 1, 0, 1, 0, 1, 0, 0, 1, 0, 0, 1, 0, 1, 0, 0, 0, 1, 0, 0, 0, 0, 0, 0, 0, 0, 1, 0, 0, 1, 0, 0, 0, 1, 0, 1, 0, 0, 0, 1, 0, 0, 0, 1, 0, 0, 1, 0, 1, 0, 0, 1, 0]\n"
     ]
    },
    {
     "name": "stderr",
     "output_type": "stream",
     "text": [
      "428it [22:37,  1.26s/it, BLEU2=0.328, BLEU1=0.399, ExactMatch=0.0256, METEOR=0.591, BertScore=nan, StubScore=0.263]"
     ]
    },
    {
     "name": "stdout",
     "output_type": "stream",
     "text": [
      "True\n",
      "Нет, король Оскар II не ратифицировал закон.\n",
      "Король Оскар II отказался ратифицировать закон.\n",
      "[0, 0, 0, 0, 0, 0, 1, 0, 0, 0, 0, 0, 1, 0, 0, 0, 0, 0, 1, 0, 0, 1, 0, 0, 1, 0, 1, 0, 1, 0, 0, 1, 0, 0, 1, 0, 1, 0, 0, 0, 1, 0, 0, 0, 0, 0, 0, 0, 0, 1, 0, 0, 1, 0, 0, 0, 1, 0, 1, 0, 0, 0, 1, 0, 0, 0, 1, 0, 0, 1, 0, 1, 0, 0, 1, 0]\n"
     ]
    },
    {
     "name": "stderr",
     "output_type": "stream",
     "text": [
      "429it [22:39,  1.61s/it, BLEU2=0.328, BLEU1=0.4, ExactMatch=0.0255, METEOR=0.592, BertScore=nan, StubScore=0.263]  "
     ]
    },
    {
     "name": "stdout",
     "output_type": "stream",
     "text": [
      "True\n",
      "Стортинг направил в Стокгольм отчет о произошедшем, а также просьбу, чтобы король Норвегии стал одним из принцев Бернадоттов.\n",
      "Стортинг направил в Стокгольм отчёт о произошедшем и просьбу, чтобы королём Норвегии стал один из принцев Бернадотов.\n",
      "[0, 0, 0, 0, 0, 0, 1, 0, 0, 0, 0, 0, 1, 0, 0, 0, 0, 0, 1, 0, 0, 1, 0, 0, 1, 0, 1, 0, 1, 0, 0, 1, 0, 0, 1, 0, 1, 0, 0, 0, 1, 0, 0, 0, 0, 0, 0, 0, 0, 1, 0, 0, 1, 0, 0, 0, 1, 0, 1, 0, 0, 0, 1, 0, 0, 0, 1, 0, 0, 1, 0, 1, 0, 0, 1, 0]\n"
     ]
    },
    {
     "name": "stderr",
     "output_type": "stream",
     "text": [
      "430it [22:40,  1.54s/it, BLEU2=0.328, BLEU1=0.4, ExactMatch=0.0254, METEOR=0.592, BertScore=nan, StubScore=0.263]"
     ]
    },
    {
     "name": "stdout",
     "output_type": "stream",
     "text": [
      "True\n",
      "Венесуэла обещала увеличить поставки нефти в Китай до 1 миллиона баррелей в день.\n",
      "Венесуэла гарантировала поставлять в Китай до 1 млн баррели нефти в сутки.\n",
      "[0, 0, 0, 0, 0, 0, 1, 0, 0, 0, 0, 0, 1, 0, 0, 0, 0, 0, 1, 0, 0, 1, 0, 0, 1, 0, 1, 0, 1, 0, 0, 1, 0, 0, 1, 0, 1, 0, 0, 0, 1, 0, 0, 0, 0, 0, 0, 0, 0, 1, 0, 0, 1, 0, 0, 0, 1, 0, 1, 0, 0, 0, 1, 0, 0, 0, 1, 0, 0, 1, 0, 1, 0, 0, 1, 0]\n"
     ]
    },
    {
     "name": "stderr",
     "output_type": "stream",
     "text": [
      "431it [22:44,  2.24s/it, BLEU2=0.328, BLEU1=0.4, ExactMatch=0.0254, METEOR=0.591, BertScore=nan, StubScore=0.263]"
     ]
    },
    {
     "name": "stdout",
     "output_type": "stream",
     "text": [
      "True\n",
      "Основная цель плана по расширению Панамского канала заключается в модернизации канала для пропуска нефтяных танкеров водоизмещением до 130 000 тонн, что значительно сократит время доставки венесуэльской нефти в Китай. Это позволит увеличить грузопоток через канал и увеличить доходы бюджета Панамы.\n",
      "Основная задача плана о расширении Панамского канала заключается в снижении времени доставки венесуэльской нефти в Китай.\n",
      "[0, 0, 0, 0, 0, 0, 1, 0, 0, 0, 0, 0, 1, 0, 0, 0, 0, 0, 1, 0, 0, 1, 0, 0, 1, 0, 1, 0, 1, 0, 0, 1, 0, 0, 1, 0, 1, 0, 0, 0, 1, 0, 0, 0, 0, 0, 0, 0, 0, 1, 0, 0, 1, 0, 0, 0, 1, 0, 1, 0, 0, 0, 1, 0, 0, 0, 1, 0, 0, 1, 0, 1, 0, 0, 1, 0]\n"
     ]
    },
    {
     "name": "stderr",
     "output_type": "stream",
     "text": [
      "432it [22:45,  1.89s/it, BLEU2=0.328, BLEU1=0.4, ExactMatch=0.0253, METEOR=0.592, BertScore=nan, StubScore=0.263]"
     ]
    },
    {
     "name": "stdout",
     "output_type": "stream",
     "text": [
      "True\n",
      "79% населения Панамы поддержали план расширения Панамского канала.\n",
      "79 % населения приняло план о расширении Панамского канала.\n",
      "[0, 0, 0, 0, 0, 0, 1, 0, 0, 0, 0, 0, 1, 0, 0, 0, 0, 0, 1, 0, 0, 1, 0, 0, 1, 0, 1, 0, 1, 0, 0, 1, 0, 0, 1, 0, 1, 0, 0, 0, 1, 0, 0, 0, 0, 0, 0, 0, 0, 1, 0, 0, 1, 0, 0, 0, 1, 0, 1, 0, 0, 0, 1, 0, 0, 0, 1, 0, 0, 1, 0, 1, 0, 0, 1, 0]\n"
     ]
    },
    {
     "name": "stderr",
     "output_type": "stream",
     "text": [
      "433it [22:47,  1.80s/it, BLEU2=0.328, BLEU1=0.401, ExactMatch=0.0252, METEOR=0.593, BertScore=nan, StubScore=0.263]"
     ]
    },
    {
     "name": "stdout",
     "output_type": "stream",
     "text": [
      "True\n",
      "Референдум о расширении Панамского канала завершился 23 октября 2006 года.\n",
      "23 октября 2006 года завершился референдум о расширении Панамского канала.\n",
      "[0, 0, 0, 0, 0, 0, 1, 0, 0, 0, 0, 0, 1, 0, 0, 0, 0, 0, 1, 0, 0, 1, 0, 0, 1, 0, 1, 0, 1, 0, 0, 1, 0, 0, 1, 0, 1, 0, 0, 0, 1, 0, 0, 0, 0, 0, 0, 0, 0, 1, 0, 0, 1, 0, 0, 0, 1, 0, 1, 0, 0, 0, 1, 0, 0, 0, 1, 0, 0, 1, 0, 1, 0, 0, 1, 0]\n"
     ]
    },
    {
     "name": "stderr",
     "output_type": "stream",
     "text": [
      "434it [22:53,  3.12s/it, BLEU2=0.328, BLEU1=0.4, ExactMatch=0.0251, METEOR=0.592, BertScore=nan, StubScore=0.263]  "
     ]
    },
    {
     "name": "stdout",
     "output_type": "stream",
     "text": [
      "True\n",
      "Поводом для поддержки плана расширения Панамского канала было желание сократить время доставки венесуэльской нефти в Китай. Расширение должно было обеспечить прохождение нефтяных танкеров водоизмещением до 130 000 тонн через канал, что позволило бы увеличить поставки нефти из Венесуэлы в Китай до 1 миллиона баррелей в день. Это было важным фактором для китайских бизнес-структур, управляющих каналом.\n",
      "Расширение Панамского канала стало возможным благодаря усилиям китайских бизнес-структур, управляющих каналом, и обещанию Венесуэлы увеличить поставки нефти в Китай к 2016 году.\n",
      "[0, 0, 0, 0, 0, 0, 1, 0, 0, 0, 0, 0, 1, 0, 0, 0, 0, 0, 1, 0, 0, 1, 0, 0, 1, 0, 1, 0, 1, 0, 0, 1, 0, 0, 1, 0, 1, 0, 0, 0, 1, 0, 0, 0, 0, 0, 0, 0, 0, 1, 0, 0, 1, 0, 0, 0, 1, 0, 1, 0, 0, 0, 1, 0, 0, 0, 1, 0, 0, 1, 0, 1, 0, 0, 1, 0]\n"
     ]
    },
    {
     "name": "stderr",
     "output_type": "stream",
     "text": [
      "435it [22:57,  3.34s/it, BLEU2=0.328, BLEU1=0.4, ExactMatch=0.0251, METEOR=0.592, BertScore=nan, StubScore=0.263]"
     ]
    },
    {
     "name": "stdout",
     "output_type": "stream",
     "text": [
      "True\n",
      "Архивная запись Дэвида Боуи, которая была сделана в качестве промо-материала к альбому Pin Ups, впервые была показана на BBC Radio 6 23 октября 2013 года.\n",
      "23 октября 2013 года, на радиостанции BBC Radio 6 состоялась премьера архивной записи Дэвида Боуи, которую записали как промоматериал к альбому Pin Ups.\n",
      "[0, 0, 0, 0, 0, 0, 1, 0, 0, 0, 0, 0, 1, 0, 0, 0, 0, 0, 1, 0, 0, 1, 0, 0, 1, 0, 1, 0, 1, 0, 0, 1, 0, 0, 1, 0, 1, 0, 0, 0, 1, 0, 0, 0, 0, 0, 0, 0, 0, 1, 0, 0, 1, 0, 0, 0, 1, 0, 1, 0, 0, 0, 1, 0, 0, 0, 1, 0, 0, 1, 0, 1, 0, 0, 1, 0]\n"
     ]
    },
    {
     "name": "stderr",
     "output_type": "stream",
     "text": [
      "436it [23:01,  3.38s/it, BLEU2=0.329, BLEU1=0.402, ExactMatch=0.025, METEOR=0.593, BertScore=nan, StubScore=0.263]"
     ]
    },
    {
     "name": "stdout",
     "output_type": "stream",
     "text": [
      "True\n",
      "Найджел Рив, куратор бэк-каталога Боуи, обнаружил архивную запись Дэвида Боуи, которая была записана как промоматериал к альбому Pin Ups.\n",
      "Найджел Рив, куратор бэк-каталога Боуи, нашел архивную запись Дэвида Боуи, которую записали как промоматериал к альбому Pin Ups.\n",
      "[0, 0, 0, 0, 0, 0, 1, 0, 0, 0, 0, 0, 1, 0, 0, 0, 0, 0, 1, 0, 0, 1, 0, 0, 1, 0, 1, 0, 1, 0, 0, 1, 0, 0, 1, 0, 1, 0, 0, 0, 1, 0, 0, 0, 0, 0, 0, 0, 0, 1, 0, 0, 1, 0, 0, 0, 1, 0, 1, 0, 0, 0, 1, 0, 0, 0, 1, 0, 0, 1, 0, 1, 0, 0, 1, 0]\n"
     ]
    },
    {
     "name": "stderr",
     "output_type": "stream",
     "text": [
      "437it [23:01,  2.58s/it, BLEU2=0.328, BLEU1=0.4, ExactMatch=0.0249, METEOR=0.592, BertScore=nan, StubScore=0.263] "
     ]
    },
    {
     "name": "stdout",
     "output_type": "stream",
     "text": [
      "True\n",
      "Радиостанция BBC Radio 6.\n",
      "На радиостанции BBC Radio 6 впервые разместили архивную запись Дэвида Боуи, которую записали как промоматериал к альбому Pin Ups.\n",
      "[0, 0, 0, 0, 0, 0, 1, 0, 0, 0, 0, 0, 1, 0, 0, 0, 0, 0, 1, 0, 0, 1, 0, 0, 1, 0, 1, 0, 1, 0, 0, 1, 0, 0, 1, 0, 1, 0, 0, 0, 1, 0, 0, 0, 0, 0, 0, 0, 0, 1, 0, 0, 1, 0, 0, 0, 1, 0, 1, 0, 0, 0, 1, 0, 0, 0, 1, 0, 0, 1, 0, 1, 0, 0, 1, 0]\n"
     ]
    },
    {
     "name": "stderr",
     "output_type": "stream",
     "text": [
      "438it [23:05,  3.03s/it, BLEU2=0.329, BLEU1=0.401, ExactMatch=0.0249, METEOR=0.593, BertScore=nan, StubScore=0.263]"
     ]
    },
    {
     "name": "stdout",
     "output_type": "stream",
     "text": [
      "True\n",
      "Шуточная радиопередача, записанная Дэвидом Боуи в 1973 году в качестве промо-материала к альбому Pin Ups, включает в себя пять песен в исполнении Боуи.\n",
      "Пять песен в исполнении Дэвида Боуи включает в себя шуточная радиопередача, записанная музыкантом в 1973 году как промоматериал к альбому Pin Ups.\n",
      "[0, 0, 0, 0, 0, 0, 1, 0, 0, 0, 0, 0, 1, 0, 0, 0, 0, 0, 1, 0, 0, 1, 0, 0, 1, 0, 1, 0, 1, 0, 0, 1, 0, 0, 1, 0, 1, 0, 0, 0, 1, 0, 0, 0, 0, 0, 0, 0, 0, 1, 0, 0, 1, 0, 0, 0, 1, 0, 1, 0, 0, 0, 1, 0, 0, 0, 1, 0, 0, 1, 0, 1, 0, 0, 1, 0]\n"
     ]
    },
    {
     "name": "stderr",
     "output_type": "stream",
     "text": [
      "439it [23:09,  3.33s/it, BLEU2=0.329, BLEU1=0.402, ExactMatch=0.0248, METEOR=0.593, BertScore=nan, StubScore=0.263]"
     ]
    },
    {
     "name": "stdout",
     "output_type": "stream",
     "text": [
      "True\n",
      "Надпись на кассете, где хранилась радиопередача, записанная музыкантом в 1973 году в качестве промо-материала к альбому Pin Ups, была \"Radio Show\".\n",
      "На подкассетнике, на котором хранилась радиопередача, записанная музыкантом в 1973 году как промоматериал к альбому Pin Ups, было написано \"Радиошоу\".\n",
      "[0, 0, 0, 0, 0, 0, 1, 0, 0, 0, 0, 0, 1, 0, 0, 0, 0, 0, 1, 0, 0, 1, 0, 0, 1, 0, 1, 0, 1, 0, 0, 1, 0, 0, 1, 0, 1, 0, 0, 0, 1, 0, 0, 0, 0, 0, 0, 0, 0, 1, 0, 0, 1, 0, 0, 0, 1, 0, 1, 0, 0, 0, 1, 0, 0, 0, 1, 0, 0, 1, 0, 1, 0, 0, 1, 0]\n"
     ]
    },
    {
     "name": "stderr",
     "output_type": "stream",
     "text": [
      "440it [23:11,  2.71s/it, BLEU2=0.328, BLEU1=0.4, ExactMatch=0.0247, METEOR=0.591, BertScore=nan, StubScore=0.263]  "
     ]
    },
    {
     "name": "stdout",
     "output_type": "stream",
     "text": [
      "True\n",
      "Название пилотного эпизода \"Звёздный путь\" - \"Клетка\".\n",
      "Пилотный эпизод Звёздного пути назывался The Cage (Клетка).\n",
      "[0, 0, 0, 0, 0, 0, 1, 0, 0, 0, 0, 0, 1, 0, 0, 0, 0, 0, 1, 0, 0, 1, 0, 0, 1, 0, 1, 0, 1, 0, 0, 1, 0, 0, 1, 0, 1, 0, 0, 0, 1, 0, 0, 0, 0, 0, 0, 0, 0, 1, 0, 0, 1, 0, 0, 0, 1, 0, 1, 0, 0, 0, 1, 0, 0, 0, 1, 0, 0, 1, 0, 1, 0, 0, 1, 0]\n"
     ]
    },
    {
     "name": "stderr",
     "output_type": "stream",
     "text": [
      "441it [23:12,  2.42s/it, BLEU2=0.329, BLEU1=0.401, ExactMatch=0.0247, METEOR=0.592, BertScore=nan, StubScore=0.263]"
     ]
    },
    {
     "name": "stdout",
     "output_type": "stream",
     "text": [
      "True\n",
      "26 августа 1965 года NBC заказала второй пилотный эпизод \"Звёздный путь: Оригинальный сериал\".\n",
      "26 августа 1965 года NBC заказывала второй пилотный эпизод Звёздного пути.\n",
      "[0, 0, 0, 0, 0, 0, 1, 0, 0, 0, 0, 0, 1, 0, 0, 0, 0, 0, 1, 0, 0, 1, 0, 0, 1, 0, 1, 0, 1, 0, 0, 1, 0, 0, 1, 0, 1, 0, 0, 0, 1, 0, 0, 0, 0, 0, 0, 0, 0, 1, 0, 0, 1, 0, 0, 0, 1, 0, 1, 0, 0, 0, 1, 0, 0, 0, 1, 0, 0, 1, 0, 1, 0, 0, 1, 0]\n"
     ]
    },
    {
     "name": "stderr",
     "output_type": "stream",
     "text": [
      "442it [23:14,  2.33s/it, BLEU2=0.33, BLEU1=0.402, ExactMatch=0.0246, METEOR=0.593, BertScore=nan, StubScore=0.263] "
     ]
    },
    {
     "name": "stdout",
     "output_type": "stream",
     "text": [
      "True\n",
      "Пилотный эпизод сериала \"Звёздный путь: Оригинальный сериал\" вышел 24 июня 1964 года.\n",
      "24 июня 1964 года вышел пилотный эпизод сериала Звёздный путь: Оригинальный сериал.\n",
      "[0, 0, 0, 0, 0, 0, 1, 0, 0, 0, 0, 0, 1, 0, 0, 0, 0, 0, 1, 0, 0, 1, 0, 0, 1, 0, 1, 0, 1, 0, 0, 1, 0, 0, 1, 0, 1, 0, 0, 0, 1, 0, 0, 0, 0, 0, 0, 0, 0, 1, 0, 0, 1, 0, 0, 0, 1, 0, 1, 0, 0, 0, 1, 0, 0, 0, 1, 0, 0, 1, 0, 1, 0, 0, 1, 0]\n"
     ]
    },
    {
     "name": "stderr",
     "output_type": "stream",
     "text": [
      "443it [23:15,  1.81s/it, BLEU2=0.329, BLEU1=0.401, ExactMatch=0.0245, METEOR=0.591, BertScore=nan, StubScore=0.263]"
     ]
    },
    {
     "name": "stdout",
     "output_type": "stream",
     "text": [
      "True\n",
      "Джеффри Хантер.\n",
      "Пилотная серия Звёздного пути вышла с Джеффри Хантером в роли капитана Кристофера Пайка.\n",
      "[0, 0, 0, 0, 0, 0, 1, 0, 0, 0, 0, 0, 1, 0, 0, 0, 0, 0, 1, 0, 0, 1, 0, 0, 1, 0, 1, 0, 1, 0, 0, 1, 0, 0, 1, 0, 1, 0, 0, 0, 1, 0, 0, 0, 0, 0, 0, 0, 0, 1, 0, 0, 1, 0, 0, 0, 1, 0, 1, 0, 0, 0, 1, 0, 0, 0, 1, 0, 0, 1, 0, 1, 0, 0, 1, 0]\n"
     ]
    },
    {
     "name": "stderr",
     "output_type": "stream",
     "text": [
      "444it [23:16,  1.63s/it, BLEU2=0.329, BLEU1=0.401, ExactMatch=0.0245, METEOR=0.591, BertScore=nan, StubScore=0.263]"
     ]
    },
    {
     "name": "stdout",
     "output_type": "stream",
     "text": [
      "True\n",
      "Беккерель сообщил о своем открытии на заседании Академии наук в Париже.\n",
      "Беккерель доложил о своём открытии на заседании Парижской Академии наук.\n",
      "[0, 0, 0, 0, 0, 0, 1, 0, 0, 0, 0, 0, 1, 0, 0, 0, 0, 0, 1, 0, 0, 1, 0, 0, 1, 0, 1, 0, 1, 0, 0, 1, 0, 0, 1, 0, 1, 0, 0, 0, 1, 0, 0, 0, 0, 0, 0, 0, 0, 1, 0, 0, 1, 0, 0, 0, 1, 0, 1, 0, 0, 0, 1, 0, 0, 0, 1, 0, 0, 1, 0, 1, 0, 0, 1, 0]\n",
      "False\n",
      "В тексте не упоминается конкретный опыт с небольшими изменениями. Поэтому у меня нет ответа на ваш вопрос.\n",
      "Очередной опыт с небольшими изменениями был подготовлен в лаборатории Беккереля.\n"
     ]
    },
    {
     "name": "stderr",
     "output_type": "stream",
     "text": [
      "445it [23:20,  2.16s/it, BLEU2=0.329, BLEU1=0.401, ExactMatch=0.0245, METEOR=0.591, BertScore=nan, StubScore=0.26] "
     ]
    },
    {
     "name": "stdout",
     "output_type": "stream",
     "text": [
      "[0, 0, 0, 0, 0, 0, 1, 0, 0, 0, 0, 0, 1, 0, 0, 0, 0, 0, 1, 0, 0, 1, 0, 0, 1, 0, 1, 0, 1, 0, 0, 1, 0, 0, 1, 0, 1, 0, 0, 0, 1, 0, 0, 0, 0, 0, 0, 0, 0, 1, 0, 0, 1, 0, 0, 0, 1, 0, 1, 0, 0, 0, 1, 0, 0, 0, 1, 0, 0, 1, 0, 1, 0, 0, 1, 0, 0]\n",
      "False\n",
      "Сообщение было сделано по телефону.\n",
      "24 февраля 1896 года на заседании Французской академии наук было сделано сообщение об излучении, производимых фосфоресценцией.\n"
     ]
    },
    {
     "name": "stderr",
     "output_type": "stream",
     "text": [
      "446it [23:22,  2.34s/it, BLEU2=0.329, BLEU1=0.401, ExactMatch=0.0245, METEOR=0.591, BertScore=nan, StubScore=0.269]"
     ]
    },
    {
     "name": "stdout",
     "output_type": "stream",
     "text": [
      "[0, 0, 0, 0, 0, 0, 1, 0, 0, 0, 0, 0, 1, 0, 0, 0, 0, 0, 1, 0, 0, 1, 0, 0, 1, 0, 1, 0, 1, 0, 0, 1, 0, 0, 1, 0, 1, 0, 0, 0, 1, 0, 0, 0, 0, 0, 0, 0, 0, 1, 0, 0, 1, 0, 0, 0, 1, 0, 1, 0, 0, 0, 1, 0, 0, 0, 1, 0, 0, 1, 0, 1, 0, 0, 1, 0, 0, 1]\n"
     ]
    },
    {
     "name": "stderr",
     "output_type": "stream",
     "text": [
      "447it [23:24,  2.05s/it, BLEU2=0.33, BLEU1=0.402, ExactMatch=0.0244, METEOR=0.592, BertScore=nan, StubScore=0.269] "
     ]
    },
    {
     "name": "stdout",
     "output_type": "stream",
     "text": [
      "True\n",
      "Беккерель проявил пластинку, на которой лежала урановая соль, 1 марта.\n",
      "1 марта Беккерель проявил пластинку, на которой лежала урановая соль.\n",
      "[0, 0, 0, 0, 0, 0, 1, 0, 0, 0, 0, 0, 1, 0, 0, 0, 0, 0, 1, 0, 0, 1, 0, 0, 1, 0, 1, 0, 1, 0, 0, 1, 0, 0, 1, 0, 1, 0, 0, 0, 1, 0, 0, 0, 0, 0, 0, 0, 0, 1, 0, 0, 1, 0, 0, 0, 1, 0, 1, 0, 0, 0, 1, 0, 0, 0, 1, 0, 0, 1, 0, 1, 0, 0, 1, 0, 0, 1]\n"
     ]
    },
    {
     "name": "stderr",
     "output_type": "stream",
     "text": [
      "448it [23:27,  2.30s/it, BLEU2=0.33, BLEU1=0.402, ExactMatch=0.0243, METEOR=0.593, BertScore=nan, StubScore=0.269]"
     ]
    },
    {
     "name": "stdout",
     "output_type": "stream",
     "text": [
      "True\n",
      "26 и 27 февраля 1896 года в лаборатории Беккереля было сделано сообщение об излучении, производимом фосфоресценцией.\n",
      "24 февраля 1896 года было сделано сообщение Об излучении, производимых фосфоресценцией.\n",
      "[0, 0, 0, 0, 0, 0, 1, 0, 0, 0, 0, 0, 1, 0, 0, 0, 0, 0, 1, 0, 0, 1, 0, 0, 1, 0, 1, 0, 1, 0, 0, 1, 0, 0, 1, 0, 1, 0, 0, 0, 1, 0, 0, 0, 0, 0, 0, 0, 0, 1, 0, 0, 1, 0, 0, 0, 1, 0, 1, 0, 0, 0, 1, 0, 0, 0, 1, 0, 0, 1, 0, 1, 0, 0, 1, 0, 0, 1]\n"
     ]
    },
    {
     "name": "stderr",
     "output_type": "stream",
     "text": [
      "449it [23:30,  2.55s/it, BLEU2=0.329, BLEU1=0.402, ExactMatch=0.0243, METEOR=0.592, BertScore=nan, StubScore=0.269]"
     ]
    },
    {
     "name": "stdout",
     "output_type": "stream",
     "text": [
      "True\n",
      "24 февраля 2015 года международное рейтинговое агентство Standard & Poor's понизило долгосрочный и краткосрочный кредитный рейтинг ПАО КБ \"УБРиР\" до уровня B- и C соответственно и изменило прогноз на стабильный.\n",
      "Cуверенный кредитный рейтинг Российской Федерации по обязательствам в иностранной валюте на момент 24 февраля 2015 г. был понижен до уровня BB+/B.\n",
      "[0, 0, 0, 0, 0, 0, 1, 0, 0, 0, 0, 0, 1, 0, 0, 0, 0, 0, 1, 0, 0, 1, 0, 0, 1, 0, 1, 0, 1, 0, 0, 1, 0, 0, 1, 0, 1, 0, 0, 0, 1, 0, 0, 0, 0, 0, 0, 0, 0, 1, 0, 0, 1, 0, 0, 0, 1, 0, 1, 0, 0, 0, 1, 0, 0, 0, 1, 0, 0, 1, 0, 1, 0, 0, 1, 0, 0, 1]\n"
     ]
    },
    {
     "name": "stderr",
     "output_type": "stream",
     "text": [
      "450it [23:31,  2.18s/it, BLEU2=0.331, BLEU1=0.403, ExactMatch=0.0242, METEOR=0.593, BertScore=nan, StubScore=0.269]"
     ]
    },
    {
     "name": "stdout",
     "output_type": "stream",
     "text": [
      "True\n",
      "Оценка отраслевых и страновых рисков банковского сектора Российской Федерации была снижена до 8.\n",
      "Оценка отраслевых и страновых рисков банковского сектора Российской Федерации была понижена до 8.\n",
      "[0, 0, 0, 0, 0, 0, 1, 0, 0, 0, 0, 0, 1, 0, 0, 0, 0, 0, 1, 0, 0, 1, 0, 0, 1, 0, 1, 0, 1, 0, 0, 1, 0, 0, 1, 0, 1, 0, 0, 0, 1, 0, 0, 0, 0, 0, 0, 0, 0, 1, 0, 0, 1, 0, 0, 0, 1, 0, 1, 0, 0, 0, 1, 0, 0, 0, 1, 0, 0, 1, 0, 1, 0, 0, 1, 0, 0, 1]\n"
     ]
    },
    {
     "name": "stderr",
     "output_type": "stream",
     "text": [
      "451it [23:35,  2.57s/it, BLEU2=0.332, BLEU1=0.405, ExactMatch=0.0241, METEOR=0.594, BertScore=nan, StubScore=0.269]"
     ]
    },
    {
     "name": "stdout",
     "output_type": "stream",
     "text": [
      "True\n",
      "24 февраля 2015 года международное рейтинговое агентство Standard & Poor's понизило долгосрочный и краткосрочный кредитный рейтинг ПАО КБ УБРиР до уровня B- и C соответственно и изменило прогноз на стабильный.\n",
      "Международное рейтинговое агентство S&P 24 февраля 2015 г. понизило долгосрочный и краткосрочный кредитный рейтинг ПАО КБ УБРиР до уровня B- и C соответственно и изменило прогноз на Стабильный.\n",
      "[0, 0, 0, 0, 0, 0, 1, 0, 0, 0, 0, 0, 1, 0, 0, 0, 0, 0, 1, 0, 0, 1, 0, 0, 1, 0, 1, 0, 1, 0, 0, 1, 0, 0, 1, 0, 1, 0, 0, 0, 1, 0, 0, 0, 0, 0, 0, 0, 0, 1, 0, 0, 1, 0, 0, 0, 1, 0, 1, 0, 0, 0, 1, 0, 0, 0, 1, 0, 0, 1, 0, 1, 0, 0, 1, 0, 0, 1]\n"
     ]
    },
    {
     "name": "stderr",
     "output_type": "stream",
     "text": [
      "452it [23:37,  2.66s/it, BLEU2=0.333, BLEU1=0.406, ExactMatch=0.0241, METEOR=0.595, BertScore=nan, StubScore=0.269]"
     ]
    },
    {
     "name": "stdout",
     "output_type": "stream",
     "text": [
      "True\n",
      "24 февраля 2015 года международное рейтинговое агентство Standard & Poor's понизило долгосрочный и краткосрочный кредитный рейтинг ПАО КБ УБРиР до уровня B- и C соответственно и изменило прогноз на стабильный.\n",
      "24 февраля 2015 г. международное рейтинговое Standard & Poor’s понизило долгосрочный и краткосрочный кредитный рейтинг ПАО КБ УБРиР до уровня B- и C соответственно и изменило прогноз на Стабильный.\n",
      "[0, 0, 0, 0, 0, 0, 1, 0, 0, 0, 0, 0, 1, 0, 0, 0, 0, 0, 1, 0, 0, 1, 0, 0, 1, 0, 1, 0, 1, 0, 0, 1, 0, 0, 1, 0, 1, 0, 0, 0, 1, 0, 0, 0, 0, 0, 0, 0, 0, 1, 0, 0, 1, 0, 0, 0, 1, 0, 1, 0, 0, 0, 1, 0, 0, 0, 1, 0, 0, 1, 0, 1, 0, 0, 1, 0, 0, 1]\n"
     ]
    },
    {
     "name": "stderr",
     "output_type": "stream",
     "text": [
      "453it [23:45,  4.00s/it, BLEU2=0.334, BLEU1=0.406, ExactMatch=0.024, METEOR=0.595, BertScore=nan, StubScore=0.269] "
     ]
    },
    {
     "name": "stdout",
     "output_type": "stream",
     "text": [
      "True\n",
      "16 апреля 2014 года международное рейтинговое агентство Standard & Poor's понизило долгосрочный и краткосрочный кредитный рейтинг ПАО КБ УБРиР до уровня B- и C соответственно и изменило прогноз на стабильный. Пересмотр рейтинга был вызван снижением суверенного кредитного рейтинга Российской Федерации по обязательствам в иностранной валюте до BB+/B, снижением оценки отраслевых и страновых рисков банковского сектора Российской Федерации до 8 и снижением базовой оценки банков, работающих в Российской Федерации, до bb-.\n",
      "Пересмотр рейтинга международным рейтинговым агентством Standard & Poor’s по отношению к ПАО КБ УБРиР обусловлен понижением суверенного кредитного рейтинга Российской Федерации по обязательствам в иностранной валюте до BB+/B, понижением оценки отраслевых и страновых рисков банковского сектора Российской Федерации до 8 и понижением базового уровня рейтинга банков, действующих в Российской Федерации, до bb-.\n",
      "[0, 0, 0, 0, 0, 0, 1, 0, 0, 0, 0, 0, 1, 0, 0, 0, 0, 0, 1, 0, 0, 1, 0, 0, 1, 0, 1, 0, 1, 0, 0, 1, 0, 0, 1, 0, 1, 0, 0, 0, 1, 0, 0, 0, 0, 0, 0, 0, 0, 1, 0, 0, 1, 0, 0, 0, 1, 0, 1, 0, 0, 0, 1, 0, 0, 0, 1, 0, 0, 1, 0, 1, 0, 0, 1, 0, 0, 1]\n"
     ]
    },
    {
     "name": "stderr",
     "output_type": "stream",
     "text": [
      "454it [23:46,  3.19s/it, BLEU2=0.333, BLEU1=0.406, ExactMatch=0.0239, METEOR=0.594, BertScore=nan, StubScore=0.269]"
     ]
    },
    {
     "name": "stdout",
     "output_type": "stream",
     "text": [
      "True\n",
      "Лицензирование предпринимательской деятельности появилось в России 25 декабря 1990 года.\n",
      "1990 в РФ появиась лицензия на предпринимательскую деятельность.\n",
      "[0, 0, 0, 0, 0, 0, 1, 0, 0, 0, 0, 0, 1, 0, 0, 0, 0, 0, 1, 0, 0, 1, 0, 0, 1, 0, 1, 0, 1, 0, 0, 1, 0, 0, 1, 0, 1, 0, 0, 0, 1, 0, 0, 0, 0, 0, 0, 0, 0, 1, 0, 0, 1, 0, 0, 0, 1, 0, 1, 0, 0, 0, 1, 0, 0, 0, 1, 0, 0, 1, 0, 1, 0, 0, 1, 0, 0, 1]\n"
     ]
    },
    {
     "name": "stderr",
     "output_type": "stream",
     "text": [
      "455it [23:47,  2.44s/it, BLEU2=0.332, BLEU1=0.405, ExactMatch=0.0239, METEOR=0.593, BertScore=nan, StubScore=0.269]"
     ]
    },
    {
     "name": "stdout",
     "output_type": "stream",
     "text": [
      "True\n",
      "25 декабря 1990 года.\n",
      "25 декабря 1990 года - точная дата, когда появилось понятие о лицензировании предпринимательской деятельности.\n",
      "[0, 0, 0, 0, 0, 0, 1, 0, 0, 0, 0, 0, 1, 0, 0, 0, 0, 0, 1, 0, 0, 1, 0, 0, 1, 0, 1, 0, 1, 0, 0, 1, 0, 0, 1, 0, 1, 0, 0, 0, 1, 0, 0, 0, 0, 0, 0, 0, 0, 1, 0, 0, 1, 0, 0, 0, 1, 0, 1, 0, 0, 0, 1, 0, 0, 0, 1, 0, 0, 1, 0, 1, 0, 0, 1, 0, 0, 1]\n"
     ]
    },
    {
     "name": "stderr",
     "output_type": "stream",
     "text": [
      "456it [23:48,  2.17s/it, BLEU2=0.332, BLEU1=0.405, ExactMatch=0.0238, METEOR=0.593, BertScore=nan, StubScore=0.269]"
     ]
    },
    {
     "name": "stdout",
     "output_type": "stream",
     "text": [
      "True\n",
      "4 пункт статьи 21 Закона РСФСР О предприятиях и предпринимательской деятельности.\n",
      "4 пункт ст. 21 Закона РСФСР О предприятиях и предпринимательской деятельности назывался \"Лицензирование отдельных видов предпринимательской деятельности\".\n",
      "[0, 0, 0, 0, 0, 0, 1, 0, 0, 0, 0, 0, 1, 0, 0, 0, 0, 0, 1, 0, 0, 1, 0, 0, 1, 0, 1, 0, 1, 0, 0, 1, 0, 0, 1, 0, 1, 0, 0, 0, 1, 0, 0, 0, 0, 0, 0, 0, 0, 1, 0, 0, 1, 0, 0, 0, 1, 0, 1, 0, 0, 0, 1, 0, 0, 0, 1, 0, 0, 1, 0, 1, 0, 0, 1, 0, 0, 1]\n"
     ]
    },
    {
     "name": "stderr",
     "output_type": "stream",
     "text": [
      "457it [23:51,  2.22s/it, BLEU2=0.333, BLEU1=0.406, ExactMatch=0.0237, METEOR=0.594, BertScore=nan, StubScore=0.269]"
     ]
    },
    {
     "name": "stdout",
     "output_type": "stream",
     "text": [
      "True\n",
      "Перечень видов предпринимательской деятельности, подлежащих лицензированию после 25 декабря 1990 года в РСФСР, должен был быть определен правительством Российской Федерации.\n",
      "Предполагалось, что перечень видов предпринимательской деятельности, подлежащих лицензированию после 25 декабря 1990 в РСФСР будет определен Правительством Российской Федерации.\n",
      "[0, 0, 0, 0, 0, 0, 1, 0, 0, 0, 0, 0, 1, 0, 0, 0, 0, 0, 1, 0, 0, 1, 0, 0, 1, 0, 1, 0, 1, 0, 0, 1, 0, 0, 1, 0, 1, 0, 0, 0, 1, 0, 0, 0, 0, 0, 0, 0, 0, 1, 0, 0, 1, 0, 0, 0, 1, 0, 1, 0, 0, 0, 1, 0, 0, 0, 1, 0, 0, 1, 0, 1, 0, 0, 1, 0, 0, 1]\n"
     ]
    },
    {
     "name": "stderr",
     "output_type": "stream",
     "text": [
      "458it [23:55,  2.86s/it, BLEU2=0.333, BLEU1=0.405, ExactMatch=0.0237, METEOR=0.594, BertScore=nan, StubScore=0.269]"
     ]
    },
    {
     "name": "stdout",
     "output_type": "stream",
     "text": [
      "True\n",
      "Лицензирование предпринимательской деятельности в РСФСР началось 25 декабря 1990 года, когда вступила в силу статья 21 Закона РСФСР \"О предприятиях и предпринимательской деятельности\". Эта норма предусматривала, что отдельные виды предпринимательской деятельности в Российской Федерации могут осуществляться только при наличии специального разрешения (лицензии), выданного компетентными органами.\n",
      "Согласно 4 пункту ст. 21 Закона РСФСР О предприятиях и предпринимательской деятельности предпринимательская деятельность в Российской Федерации должна была осуществляться на основании лицензии (специального разрешения компетентных органов).\n",
      "[0, 0, 0, 0, 0, 0, 1, 0, 0, 0, 0, 0, 1, 0, 0, 0, 0, 0, 1, 0, 0, 1, 0, 0, 1, 0, 1, 0, 1, 0, 0, 1, 0, 0, 1, 0, 1, 0, 0, 0, 1, 0, 0, 0, 0, 0, 0, 0, 0, 1, 0, 0, 1, 0, 0, 0, 1, 0, 1, 0, 0, 0, 1, 0, 0, 0, 1, 0, 0, 1, 0, 1, 0, 0, 1, 0, 0, 1]\n"
     ]
    },
    {
     "name": "stderr",
     "output_type": "stream",
     "text": [
      "459it [23:57,  2.55s/it, BLEU2=0.333, BLEU1=0.406, ExactMatch=0.0236, METEOR=0.594, BertScore=nan, StubScore=0.269]"
     ]
    },
    {
     "name": "stdout",
     "output_type": "stream",
     "text": [
      "True\n",
      "Игорь Хомич работал в группе Калинов Мост во время записи альбома \"Sva\".\n",
      "В период записи альбома SWA Игорь Хомич работал в группе Калинов Мост.\n",
      "[0, 0, 0, 0, 0, 0, 1, 0, 0, 0, 0, 0, 1, 0, 0, 0, 0, 0, 1, 0, 0, 1, 0, 0, 1, 0, 1, 0, 1, 0, 0, 1, 0, 0, 1, 0, 1, 0, 0, 0, 1, 0, 0, 0, 0, 0, 0, 0, 0, 1, 0, 0, 1, 0, 0, 0, 1, 0, 1, 0, 0, 0, 1, 0, 0, 0, 1, 0, 0, 1, 0, 1, 0, 0, 1, 0, 0, 1]\n",
      "False\n",
      "Е. Маргулис покинул группу \"Машина времени\" в 1979 году.\n",
      "25 июня 2012 Е. Маргулис покинул группу Машина времени.\n"
     ]
    },
    {
     "name": "stderr",
     "output_type": "stream",
     "text": [
      "460it [24:01,  2.96s/it, BLEU2=0.333, BLEU1=0.406, ExactMatch=0.0236, METEOR=0.594, BertScore=nan, StubScore=0.266]"
     ]
    },
    {
     "name": "stdout",
     "output_type": "stream",
     "text": [
      "[0, 0, 0, 0, 0, 0, 1, 0, 0, 0, 0, 0, 1, 0, 0, 0, 0, 0, 1, 0, 0, 1, 0, 0, 1, 0, 1, 0, 1, 0, 0, 1, 0, 0, 1, 0, 1, 0, 0, 0, 1, 0, 0, 0, 0, 0, 0, 0, 0, 1, 0, 0, 1, 0, 0, 0, 1, 0, 1, 0, 0, 0, 1, 0, 0, 0, 1, 0, 0, 1, 0, 1, 0, 0, 1, 0, 0, 1, 0]\n",
      "False\n",
      "Машина времени впервые выступила с участием Игоря Хомича в 1979 году.\n",
      "Первые выступления группы Машина времени при участии Игоря Хомича состоялись 1 сентября 2012 г.\n"
     ]
    },
    {
     "name": "stderr",
     "output_type": "stream",
     "text": [
      "461it [24:04,  3.12s/it, BLEU2=0.333, BLEU1=0.406, ExactMatch=0.0236, METEOR=0.594, BertScore=nan, StubScore=0.263]"
     ]
    },
    {
     "name": "stdout",
     "output_type": "stream",
     "text": [
      "[0, 0, 0, 0, 0, 0, 1, 0, 0, 0, 0, 0, 1, 0, 0, 0, 0, 0, 1, 0, 0, 1, 0, 0, 1, 0, 1, 0, 1, 0, 0, 1, 0, 0, 1, 0, 1, 0, 0, 0, 1, 0, 0, 0, 0, 0, 0, 0, 0, 1, 0, 0, 1, 0, 0, 0, 1, 0, 1, 0, 0, 0, 1, 0, 0, 0, 1, 0, 0, 1, 0, 1, 0, 0, 1, 0, 0, 1, 0, 0]\n"
     ]
    },
    {
     "name": "stderr",
     "output_type": "stream",
     "text": [
      "462it [24:06,  2.83s/it, BLEU2=0.334, BLEU1=0.406, ExactMatch=0.0236, METEOR=0.595, BertScore=nan, StubScore=0.263]"
     ]
    },
    {
     "name": "stdout",
     "output_type": "stream",
     "text": [
      "True\n",
      "Игорь Хомич занял вакантное место гитариста в группе \"Машина времени\" после ухода Маргулиса.\n",
      "Вакантное место гитариста в группе Машина времени после ухода Маргулиса занял Игорь Хомич.\n",
      "[0, 0, 0, 0, 0, 0, 1, 0, 0, 0, 0, 0, 1, 0, 0, 0, 0, 0, 1, 0, 0, 1, 0, 0, 1, 0, 1, 0, 1, 0, 0, 1, 0, 0, 1, 0, 1, 0, 0, 0, 1, 0, 0, 0, 0, 0, 0, 0, 0, 1, 0, 0, 1, 0, 0, 0, 1, 0, 1, 0, 0, 0, 1, 0, 0, 0, 1, 0, 0, 1, 0, 1, 0, 0, 1, 0, 0, 1, 0, 0]\n"
     ]
    },
    {
     "name": "stderr",
     "output_type": "stream",
     "text": [
      "463it [24:08,  2.54s/it, BLEU2=0.334, BLEU1=0.407, ExactMatch=0.0235, METEOR=0.595, BertScore=nan, StubScore=0.263]"
     ]
    },
    {
     "name": "stdout",
     "output_type": "stream",
     "text": [
      "True\n",
      "Евгений Маргулис покинул группу \"Машина времени\" 25 июня 2012 года.\n",
      "25 июня 2012 года группу Машина времени покинул Е. Маргулис.\n",
      "[0, 0, 0, 0, 0, 0, 1, 0, 0, 0, 0, 0, 1, 0, 0, 0, 0, 0, 1, 0, 0, 1, 0, 0, 1, 0, 1, 0, 1, 0, 0, 1, 0, 0, 1, 0, 1, 0, 0, 0, 1, 0, 0, 0, 0, 0, 0, 0, 0, 1, 0, 0, 1, 0, 0, 0, 1, 0, 1, 0, 0, 0, 1, 0, 0, 0, 1, 0, 0, 1, 0, 1, 0, 0, 1, 0, 0, 1, 0, 0]\n"
     ]
    },
    {
     "name": "stderr",
     "output_type": "stream",
     "text": [
      "464it [24:09,  2.17s/it, BLEU2=0.333, BLEU1=0.406, ExactMatch=0.0234, METEOR=0.595, BertScore=nan, StubScore=0.263]"
     ]
    },
    {
     "name": "stdout",
     "output_type": "stream",
     "text": [
      "True\n",
      "Провал грунта на железнодорожной станции Березники имел глубину 20 метров.\n",
      "На территории вокзала образовался новый провал земляного полотна глубиной 20 метров.\n",
      "[0, 0, 0, 0, 0, 0, 1, 0, 0, 0, 0, 0, 1, 0, 0, 0, 0, 0, 1, 0, 0, 1, 0, 0, 1, 0, 1, 0, 1, 0, 0, 1, 0, 0, 1, 0, 1, 0, 0, 0, 1, 0, 0, 0, 0, 0, 0, 0, 0, 1, 0, 0, 1, 0, 0, 0, 1, 0, 1, 0, 0, 0, 1, 0, 0, 0, 1, 0, 0, 1, 0, 1, 0, 0, 1, 0, 0, 1, 0, 0]\n"
     ]
    },
    {
     "name": "stderr",
     "output_type": "stream",
     "text": [
      "465it [24:12,  2.28s/it, BLEU2=0.333, BLEU1=0.406, ExactMatch=0.0234, METEOR=0.594, BertScore=nan, StubScore=0.263]"
     ]
    },
    {
     "name": "stdout",
     "output_type": "stream",
     "text": [
      "True\n",
      "Провал грунта на железнодорожной станции Березники имел размеры 20 метров в глубину, 50 метров в ширину и 50 метров в длину.\n",
      "Провал был шириной около 50 метров и протяжённостью около 50 метров.\n",
      "[0, 0, 0, 0, 0, 0, 1, 0, 0, 0, 0, 0, 1, 0, 0, 0, 0, 0, 1, 0, 0, 1, 0, 0, 1, 0, 1, 0, 1, 0, 0, 1, 0, 0, 1, 0, 1, 0, 0, 0, 1, 0, 0, 0, 0, 0, 0, 0, 0, 1, 0, 0, 1, 0, 0, 0, 1, 0, 1, 0, 0, 0, 1, 0, 0, 0, 1, 0, 0, 1, 0, 1, 0, 0, 1, 0, 0, 1, 0, 0]\n"
     ]
    },
    {
     "name": "stderr",
     "output_type": "stream",
     "text": [
      "466it [24:13,  2.02s/it, BLEU2=0.333, BLEU1=0.406, ExactMatch=0.0233, METEOR=0.595, BertScore=nan, StubScore=0.263]"
     ]
    },
    {
     "name": "stdout",
     "output_type": "stream",
     "text": [
      "True\n",
      "Провал грунта на территории вокзала образовался 25 ноября 2010 года.\n",
      "25 ноября 2010 на территории вокзала образовался новый провал земляного полотна.\n",
      "[0, 0, 0, 0, 0, 0, 1, 0, 0, 0, 0, 0, 1, 0, 0, 0, 0, 0, 1, 0, 0, 1, 0, 0, 1, 0, 1, 0, 1, 0, 0, 1, 0, 0, 1, 0, 1, 0, 0, 0, 1, 0, 0, 0, 0, 0, 0, 0, 0, 1, 0, 0, 1, 0, 0, 0, 1, 0, 1, 0, 0, 0, 1, 0, 0, 0, 1, 0, 0, 1, 0, 1, 0, 0, 1, 0, 0, 1, 0, 0]\n"
     ]
    },
    {
     "name": "stderr",
     "output_type": "stream",
     "text": [
      "467it [24:14,  1.76s/it, BLEU2=0.333, BLEU1=0.406, ExactMatch=0.0233, METEOR=0.595, BertScore=nan, StubScore=0.263]"
     ]
    },
    {
     "name": "stdout",
     "output_type": "stream",
     "text": [
      "True\n",
      "Провал образовался недалеко от железнодорожного вокзала в городе Березники.\n",
      "Провал образовался на станции Березники.\n",
      "[0, 0, 0, 0, 0, 0, 1, 0, 0, 0, 0, 0, 1, 0, 0, 0, 0, 0, 1, 0, 0, 1, 0, 0, 1, 0, 1, 0, 1, 0, 0, 1, 0, 0, 1, 0, 1, 0, 0, 0, 1, 0, 0, 0, 0, 0, 0, 0, 0, 1, 0, 0, 1, 0, 0, 0, 1, 0, 1, 0, 0, 0, 1, 0, 0, 0, 1, 0, 0, 1, 0, 1, 0, 0, 1, 0, 0, 1, 0, 0]\n"
     ]
    },
    {
     "name": "stderr",
     "output_type": "stream",
     "text": [
      "468it [24:24,  4.02s/it, BLEU2=0.332, BLEU1=0.405, ExactMatch=0.0232, METEOR=0.594, BertScore=nan, StubScore=0.263]"
     ]
    },
    {
     "name": "stdout",
     "output_type": "stream",
     "text": [
      "True\n",
      "1. В 2010 году в городе на территории железнодорожного вокзала образовался провал глубиной 20 метров, шириной 50 метров и длиной 50 метров.\n",
      "2. В 1993 году на Курейской плотине резко увеличился фильтрационный расход через насыпь, что привело к образованию провала.\n",
      "3. В середине октября 2006 года одна из шахт БКРУ-1 на Уралкалии затонула, а в середине лета (в конце июля 2007 года) над выработками образовался провал.\n",
      "В него провалился один из вагонов железнодорожного состава.\n",
      "[0, 0, 0, 0, 0, 0, 1, 0, 0, 0, 0, 0, 1, 0, 0, 0, 0, 0, 1, 0, 0, 1, 0, 0, 1, 0, 1, 0, 1, 0, 0, 1, 0, 0, 1, 0, 1, 0, 0, 0, 1, 0, 0, 0, 0, 0, 0, 0, 0, 1, 0, 0, 1, 0, 0, 0, 1, 0, 1, 0, 0, 0, 1, 0, 0, 0, 1, 0, 0, 1, 0, 1, 0, 0, 1, 0, 0, 1, 0, 0]\n"
     ]
    },
    {
     "name": "stderr",
     "output_type": "stream",
     "text": [
      "469it [24:25,  3.27s/it, BLEU2=0.332, BLEU1=0.405, ExactMatch=0.0231, METEOR=0.594, BertScore=nan, StubScore=0.263]"
     ]
    },
    {
     "name": "stdout",
     "output_type": "stream",
     "text": [
      "True\n",
      "Омская губерния РСФСР существовала с 1919 по 1925 год.\n",
      "Омская губерния РСФСР существовала в 1919—1925 гг.\n",
      "[0, 0, 0, 0, 0, 0, 1, 0, 0, 0, 0, 0, 1, 0, 0, 0, 0, 0, 1, 0, 0, 1, 0, 0, 1, 0, 1, 0, 1, 0, 0, 1, 0, 0, 1, 0, 1, 0, 0, 0, 1, 0, 0, 0, 0, 0, 0, 0, 0, 1, 0, 0, 1, 0, 0, 0, 1, 0, 1, 0, 0, 0, 1, 0, 0, 0, 1, 0, 0, 1, 0, 1, 0, 0, 1, 0, 0, 1, 0, 0]\n"
     ]
    },
    {
     "name": "stderr",
     "output_type": "stream",
     "text": [
      "470it [24:26,  2.44s/it, BLEU2=0.331, BLEU1=0.404, ExactMatch=0.0231, METEOR=0.592, BertScore=nan, StubScore=0.263]"
     ]
    },
    {
     "name": "stdout",
     "output_type": "stream",
     "text": [
      "True\n",
      "1921 год.\n",
      "Постановление Чрезвычайной полномочной комиссии КазЦИК о приёме и организации Акмолинской губернии с административным центром вышло в городе Петропавловск.\n",
      "[0, 0, 0, 0, 0, 0, 1, 0, 0, 0, 0, 0, 1, 0, 0, 0, 0, 0, 1, 0, 0, 1, 0, 0, 1, 0, 1, 0, 1, 0, 0, 1, 0, 0, 1, 0, 1, 0, 0, 0, 1, 0, 0, 0, 0, 0, 0, 0, 0, 1, 0, 0, 1, 0, 0, 0, 1, 0, 1, 0, 0, 0, 1, 0, 0, 0, 1, 0, 0, 1, 0, 1, 0, 0, 1, 0, 0, 1, 0, 0]\n"
     ]
    },
    {
     "name": "stderr",
     "output_type": "stream",
     "text": [
      "471it [24:27,  2.12s/it, BLEU2=0.331, BLEU1=0.403, ExactMatch=0.023, METEOR=0.591, BertScore=nan, StubScore=0.263] "
     ]
    },
    {
     "name": "stdout",
     "output_type": "stream",
     "text": [
      "True\n",
      "Автономная Киргизская область позже была переименована в Казахскую АССР.\n",
      "Впоследствии Автономную Киргизскую республику назвали как казакская АССР.\n",
      "[0, 0, 0, 0, 0, 0, 1, 0, 0, 0, 0, 0, 1, 0, 0, 0, 0, 0, 1, 0, 0, 1, 0, 0, 1, 0, 1, 0, 1, 0, 0, 1, 0, 0, 1, 0, 1, 0, 0, 0, 1, 0, 0, 0, 0, 0, 0, 0, 0, 1, 0, 0, 1, 0, 0, 0, 1, 0, 1, 0, 0, 0, 1, 0, 0, 0, 1, 0, 0, 1, 0, 1, 0, 0, 1, 0, 0, 1, 0, 0]\n"
     ]
    },
    {
     "name": "stderr",
     "output_type": "stream",
     "text": [
      "472it [24:30,  2.18s/it, BLEU2=0.332, BLEU1=0.404, ExactMatch=0.023, METEOR=0.592, BertScore=nan, StubScore=0.263]"
     ]
    },
    {
     "name": "stdout",
     "output_type": "stream",
     "text": [
      "True\n",
      "Декрет ВЦИК и СНК РСФСР об образовании Автономной Киргизской республики был подписан 26 августа 1920 года.\n",
      "26 августа 1920 года был подписан декрет ВЦИК и СНК РСФСР об образовании Автономной Киргизской республики.\n",
      "[0, 0, 0, 0, 0, 0, 1, 0, 0, 0, 0, 0, 1, 0, 0, 0, 0, 0, 1, 0, 0, 1, 0, 0, 1, 0, 1, 0, 1, 0, 0, 1, 0, 0, 1, 0, 1, 0, 0, 0, 1, 0, 0, 0, 0, 0, 0, 0, 0, 1, 0, 0, 1, 0, 0, 0, 1, 0, 1, 0, 0, 0, 1, 0, 0, 0, 1, 0, 0, 1, 0, 1, 0, 0, 1, 0, 0, 1, 0, 0]\n"
     ]
    },
    {
     "name": "stderr",
     "output_type": "stream",
     "text": [
      "473it [24:32,  2.36s/it, BLEU2=0.332, BLEU1=0.405, ExactMatch=0.0229, METEOR=0.593, BertScore=nan, StubScore=0.263]"
     ]
    },
    {
     "name": "stdout",
     "output_type": "stream",
     "text": [
      "True\n",
      "Постановление Чрезвычайной Полномочной Комиссии КазЦИК о принятии и организации Акмолинской губернии с административным центром в городе Петропавловск было выпущено 26 апреля 1921 года.\n",
      "26 апреля 1921 года вышло постановление Чрезвычайной полномочной комиссии КазЦИК о приёме и организации Акмолинской губернии с административным центром в городе Петропавловск.\n",
      "[0, 0, 0, 0, 0, 0, 1, 0, 0, 0, 0, 0, 1, 0, 0, 0, 0, 0, 1, 0, 0, 1, 0, 0, 1, 0, 1, 0, 1, 0, 0, 1, 0, 0, 1, 0, 1, 0, 0, 0, 1, 0, 0, 0, 0, 0, 0, 0, 0, 1, 0, 0, 1, 0, 0, 0, 1, 0, 1, 0, 0, 0, 1, 0, 0, 0, 1, 0, 0, 1, 0, 1, 0, 0, 1, 0, 0, 1, 0, 0]\n"
     ]
    },
    {
     "name": "stderr",
     "output_type": "stream",
     "text": [
      "474it [24:34,  2.03s/it, BLEU2=0.331, BLEU1=0.404, ExactMatch=0.0228, METEOR=0.592, BertScore=nan, StubScore=0.263]"
     ]
    },
    {
     "name": "stdout",
     "output_type": "stream",
     "text": [
      "True\n",
      "Маркиз де Лафайет получил звание бригадного генерала.\n",
      "Маркизу де Ла Файету присвоили чин Генерал-майора.\n",
      "[0, 0, 0, 0, 0, 0, 1, 0, 0, 0, 0, 0, 1, 0, 0, 0, 0, 0, 1, 0, 0, 1, 0, 0, 1, 0, 1, 0, 1, 0, 0, 1, 0, 0, 1, 0, 1, 0, 0, 0, 1, 0, 0, 0, 0, 0, 0, 0, 0, 1, 0, 0, 1, 0, 0, 0, 1, 0, 1, 0, 0, 0, 1, 0, 0, 0, 1, 0, 0, 1, 0, 1, 0, 0, 1, 0, 0, 1, 0, 0]\n"
     ]
    },
    {
     "name": "stderr",
     "output_type": "stream",
     "text": [
      "475it [24:35,  2.00s/it, BLEU2=0.332, BLEU1=0.405, ExactMatch=0.0228, METEOR=0.592, BertScore=nan, StubScore=0.263]"
     ]
    },
    {
     "name": "stdout",
     "output_type": "stream",
     "text": [
      "True\n",
      "Конгресс принял услуги маркиза де Лафайета 31 июля 1777 года.\n",
      "Конгресс постановил принять услуги маркиза де Ла Файета 31 июля 1777 года.\n",
      "[0, 0, 0, 0, 0, 0, 1, 0, 0, 0, 0, 0, 1, 0, 0, 0, 0, 0, 1, 0, 0, 1, 0, 0, 1, 0, 1, 0, 1, 0, 0, 1, 0, 0, 1, 0, 1, 0, 0, 0, 1, 0, 0, 0, 0, 0, 0, 0, 0, 1, 0, 0, 1, 0, 0, 0, 1, 0, 1, 0, 0, 0, 1, 0, 0, 0, 1, 0, 0, 1, 0, 1, 0, 0, 1, 0, 0, 1, 0, 0]\n"
     ]
    },
    {
     "name": "stderr",
     "output_type": "stream",
     "text": [
      "476it [24:39,  2.50s/it, BLEU2=0.332, BLEU1=0.405, ExactMatch=0.0227, METEOR=0.592, BertScore=nan, StubScore=0.263]"
     ]
    },
    {
     "name": "stdout",
     "output_type": "stream",
     "text": [
      "True\n",
      "Маркиз де Лафайет ступил на американскую землю 15 июня 1777 года в бухте Джорджтаун, недалеко от Чарльстона, Южная Каролина.\n",
      "15 июня 1777 года маркиз де Ла Файе ступил на американскую землю.\n",
      "[0, 0, 0, 0, 0, 0, 1, 0, 0, 0, 0, 0, 1, 0, 0, 0, 0, 0, 1, 0, 0, 1, 0, 0, 1, 0, 1, 0, 1, 0, 0, 1, 0, 0, 1, 0, 1, 0, 0, 0, 1, 0, 0, 0, 0, 0, 0, 0, 0, 1, 0, 0, 1, 0, 0, 0, 1, 0, 1, 0, 0, 0, 1, 0, 0, 0, 1, 0, 0, 1, 0, 1, 0, 0, 1, 0, 0, 1, 0, 0]\n"
     ]
    },
    {
     "name": "stderr",
     "output_type": "stream",
     "text": [
      "477it [24:42,  2.47s/it, BLEU2=0.331, BLEU1=0.405, ExactMatch=0.0227, METEOR=0.592, BertScore=nan, StubScore=0.263]"
     ]
    },
    {
     "name": "stdout",
     "output_type": "stream",
     "text": [
      "True\n",
      "Маркиз де Лафайет отплыл к берегам Америки 26 апреля 1777 года.\n",
      "26 апреля 1777 года маркиз де Ла Файет с другими 15 французскими офицерами отплыл на корабле Виктуар из испанского порта Пасахес к берегам Америки.\n",
      "[0, 0, 0, 0, 0, 0, 1, 0, 0, 0, 0, 0, 1, 0, 0, 0, 0, 0, 1, 0, 0, 1, 0, 0, 1, 0, 1, 0, 1, 0, 0, 1, 0, 0, 1, 0, 1, 0, 0, 0, 1, 0, 0, 0, 0, 0, 0, 0, 0, 1, 0, 0, 1, 0, 0, 0, 1, 0, 1, 0, 0, 0, 1, 0, 0, 0, 1, 0, 0, 1, 0, 1, 0, 0, 1, 0, 0, 1, 0, 0]\n"
     ]
    },
    {
     "name": "stderr",
     "output_type": "stream",
     "text": [
      "478it [24:44,  2.38s/it, BLEU2=0.332, BLEU1=0.406, ExactMatch=0.0226, METEOR=0.593, BertScore=nan, StubScore=0.263]"
     ]
    },
    {
     "name": "stdout",
     "output_type": "stream",
     "text": [
      "True\n",
      "Маркиз де Лафайет прибыл в Филадельфию 27 июля 1777 года.\n",
      "Маркиз де Ла Файет прибыл в Филадельфию 27 июля 1777 года.\n",
      "[0, 0, 0, 0, 0, 0, 1, 0, 0, 0, 0, 0, 1, 0, 0, 0, 0, 0, 1, 0, 0, 1, 0, 0, 1, 0, 1, 0, 1, 0, 0, 1, 0, 0, 1, 0, 1, 0, 0, 0, 1, 0, 0, 0, 0, 0, 0, 0, 0, 1, 0, 0, 1, 0, 0, 0, 1, 0, 1, 0, 0, 0, 1, 0, 0, 0, 1, 0, 0, 1, 0, 1, 0, 0, 1, 0, 0, 1, 0, 0]\n"
     ]
    },
    {
     "name": "stderr",
     "output_type": "stream",
     "text": [
      "479it [24:46,  2.31s/it, BLEU2=0.332, BLEU1=0.405, ExactMatch=0.0226, METEOR=0.593, BertScore=nan, StubScore=0.263]"
     ]
    },
    {
     "name": "stdout",
     "output_type": "stream",
     "text": [
      "True\n",
      "Активное жилищное строительство в Виттенберге велось с 1957 по 1963 год.\n",
      "В 1957—1963 годах в Виттенберге велось активное жилищное строительство.\n",
      "[0, 0, 0, 0, 0, 0, 1, 0, 0, 0, 0, 0, 1, 0, 0, 0, 0, 0, 1, 0, 0, 1, 0, 0, 1, 0, 1, 0, 1, 0, 0, 1, 0, 0, 1, 0, 1, 0, 0, 0, 1, 0, 0, 0, 0, 0, 0, 0, 0, 1, 0, 0, 1, 0, 0, 0, 1, 0, 1, 0, 0, 0, 1, 0, 0, 0, 1, 0, 0, 1, 0, 1, 0, 0, 1, 0, 0, 1, 0, 0]\n"
     ]
    },
    {
     "name": "stderr",
     "output_type": "stream",
     "text": [
      "480it [24:48,  2.28s/it, BLEU2=0.332, BLEU1=0.405, ExactMatch=0.0225, METEOR=0.593, BertScore=nan, StubScore=0.263]"
     ]
    },
    {
     "name": "stdout",
     "output_type": "stream",
     "text": [
      "True\n",
      "6-я гвардейская танковая дивизия была выведена из Виттенберга 5 декабря 1989 года в рамках Горбачевского одностороннего вывода советских войск.\n",
      "Из Виттенберга была выведена 6-я гвардейская танковая дивизия ВС СССР.\n",
      "[0, 0, 0, 0, 0, 0, 1, 0, 0, 0, 0, 0, 1, 0, 0, 0, 0, 0, 1, 0, 0, 1, 0, 0, 1, 0, 1, 0, 1, 0, 0, 1, 0, 0, 1, 0, 1, 0, 0, 0, 1, 0, 0, 0, 0, 0, 0, 0, 0, 1, 0, 0, 1, 0, 0, 0, 1, 0, 1, 0, 0, 0, 1, 0, 0, 0, 1, 0, 0, 1, 0, 1, 0, 0, 1, 0, 0, 1, 0, 0]\n"
     ]
    },
    {
     "name": "stderr",
     "output_type": "stream",
     "text": [
      "481it [24:53,  2.98s/it, BLEU2=0.331, BLEU1=0.405, ExactMatch=0.0224, METEOR=0.592, BertScore=nan, StubScore=0.263]"
     ]
    },
    {
     "name": "stdout",
     "output_type": "stream",
     "text": [
      "True\n",
      "В послевоенные годы в Виттенберге произошла массовая миграция немецких беженцев из потерянных для Германии территорий к востоку от Одера-Нейсе, а также из Судет. Это привело к острой нехватке жилья, и в 1957-63 годах велось активное строительство домов.\n",
      "Советские власти в Виттенберге организовали работы по восстановлению взорванного моста через Эльбу.\n",
      "[0, 0, 0, 0, 0, 0, 1, 0, 0, 0, 0, 0, 1, 0, 0, 0, 0, 0, 1, 0, 0, 1, 0, 0, 1, 0, 1, 0, 1, 0, 0, 1, 0, 0, 1, 0, 1, 0, 0, 0, 1, 0, 0, 0, 0, 0, 0, 0, 0, 1, 0, 0, 1, 0, 0, 0, 1, 0, 1, 0, 0, 0, 1, 0, 0, 0, 1, 0, 0, 1, 0, 1, 0, 0, 1, 0, 0, 1, 0, 0]\n"
     ]
    },
    {
     "name": "stderr",
     "output_type": "stream",
     "text": [
      "482it [24:54,  2.54s/it, BLEU2=0.332, BLEU1=0.405, ExactMatch=0.0224, METEOR=0.593, BertScore=nan, StubScore=0.263]"
     ]
    },
    {
     "name": "stdout",
     "output_type": "stream",
     "text": [
      "True\n",
      "Виттенберг был занят Красной Армией 26 апреля 1945 года.\n",
      "26 апреля 1945 года Виттенберг был занят Красной армией.\n",
      "[0, 0, 0, 0, 0, 0, 1, 0, 0, 0, 0, 0, 1, 0, 0, 0, 0, 0, 1, 0, 0, 1, 0, 0, 1, 0, 1, 0, 1, 0, 0, 1, 0, 0, 1, 0, 1, 0, 0, 0, 1, 0, 0, 0, 0, 0, 0, 0, 0, 1, 0, 0, 1, 0, 0, 0, 1, 0, 1, 0, 0, 0, 1, 0, 0, 0, 1, 0, 0, 1, 0, 1, 0, 0, 1, 0, 0, 1, 0, 0]\n"
     ]
    },
    {
     "name": "stderr",
     "output_type": "stream",
     "text": [
      "483it [24:56,  2.32s/it, BLEU2=0.333, BLEU1=0.406, ExactMatch=0.0223, METEOR=0.593, BertScore=nan, StubScore=0.263]"
     ]
    },
    {
     "name": "stdout",
     "output_type": "stream",
     "text": [
      "True\n",
      "Работы по восстановлению взорванного моста через Эльбу в Виттенберге были организованы советскими войсками.\n",
      "Работы по восстановлению взорванного моста через Эльбу в Виттенберге были организованы силами инженерных войск РККА.\n",
      "[0, 0, 0, 0, 0, 0, 1, 0, 0, 0, 0, 0, 1, 0, 0, 0, 0, 0, 1, 0, 0, 1, 0, 0, 1, 0, 1, 0, 1, 0, 0, 1, 0, 0, 1, 0, 1, 0, 0, 0, 1, 0, 0, 0, 0, 0, 0, 0, 0, 1, 0, 0, 1, 0, 0, 0, 1, 0, 1, 0, 0, 0, 1, 0, 0, 0, 1, 0, 0, 1, 0, 1, 0, 0, 1, 0, 0, 1, 0, 0]\n"
     ]
    },
    {
     "name": "stderr",
     "output_type": "stream",
     "text": [
      "484it [24:57,  1.96s/it, BLEU2=0.333, BLEU1=0.406, ExactMatch=0.0223, METEOR=0.594, BertScore=nan, StubScore=0.263]"
     ]
    },
    {
     "name": "stdout",
     "output_type": "stream",
     "text": [
      "True\n",
      "В Спитаке была открыта больница имени Нансена.\n",
      "Больница имени Нансена была открыта в Спитаке.\n",
      "[0, 0, 0, 0, 0, 0, 1, 0, 0, 0, 0, 0, 1, 0, 0, 0, 0, 0, 1, 0, 0, 1, 0, 0, 1, 0, 1, 0, 1, 0, 0, 1, 0, 0, 1, 0, 1, 0, 0, 0, 1, 0, 0, 0, 0, 0, 0, 0, 0, 1, 0, 0, 1, 0, 0, 0, 1, 0, 1, 0, 0, 0, 1, 0, 0, 0, 1, 0, 0, 1, 0, 1, 0, 0, 1, 0, 0, 1, 0, 0]\n"
     ]
    },
    {
     "name": "stderr",
     "output_type": "stream",
     "text": [
      "485it [24:59,  1.88s/it, BLEU2=0.335, BLEU1=0.408, ExactMatch=0.0247, METEOR=0.595, BertScore=nan, StubScore=0.263]"
     ]
    },
    {
     "name": "stdout",
     "output_type": "stream",
     "text": [
      "True\n",
      "В рамках мероприятия в Ереване был открыт памятник Фритьофу Нансену.\n",
      "В рамках мероприятия в Ереване был открыт памятник Фритьофу Нансену.\n",
      "[0, 0, 0, 0, 0, 0, 1, 0, 0, 0, 0, 0, 1, 0, 0, 0, 0, 0, 1, 0, 0, 1, 0, 0, 1, 0, 1, 0, 1, 0, 0, 1, 0, 0, 1, 0, 1, 0, 0, 0, 1, 0, 0, 0, 0, 0, 0, 0, 0, 1, 0, 0, 1, 0, 0, 0, 1, 0, 1, 0, 0, 0, 1, 0, 0, 0, 1, 0, 0, 1, 0, 1, 0, 0, 1, 0, 0, 1, 0, 0]\n"
     ]
    },
    {
     "name": "stderr",
     "output_type": "stream",
     "text": [
      "486it [25:02,  2.24s/it, BLEU2=0.336, BLEU1=0.409, ExactMatch=0.0246, METEOR=0.596, BertScore=nan, StubScore=0.263]"
     ]
    },
    {
     "name": "stdout",
     "output_type": "stream",
     "text": [
      "True\n",
      "26 января 2011 года было объявлено о том, что в Армении в городе Гюмри будет открыт дом-музей, посвященный норвежскому гуманисту.\n",
      "26 января 2011 года было объявлено о том, что в Армении в городе Гюмри будет открыт дом-музей, посвящённый норвежскому гуманисту.\n",
      "[0, 0, 0, 0, 0, 0, 1, 0, 0, 0, 0, 0, 1, 0, 0, 0, 0, 0, 1, 0, 0, 1, 0, 0, 1, 0, 1, 0, 1, 0, 0, 1, 0, 0, 1, 0, 1, 0, 0, 0, 1, 0, 0, 0, 0, 0, 0, 0, 0, 1, 0, 0, 1, 0, 0, 0, 1, 0, 1, 0, 0, 0, 1, 0, 0, 0, 1, 0, 0, 1, 0, 1, 0, 0, 1, 0, 0, 1, 0, 0]\n"
     ]
    },
    {
     "name": "stderr",
     "output_type": "stream",
     "text": [
      "487it [25:04,  2.29s/it, BLEU2=0.336, BLEU1=0.41, ExactMatch=0.0246, METEOR=0.596, BertScore=nan, StubScore=0.263] "
     ]
    },
    {
     "name": "stdout",
     "output_type": "stream",
     "text": [
      "True\n",
      "В ноябре 2011 года в Армении широко отмечали 150-летие Нансена.\n",
      "В 2011 году в Армении широко праздновалось 150-летие Фритьофа Нансена.\n",
      "[0, 0, 0, 0, 0, 0, 1, 0, 0, 0, 0, 0, 1, 0, 0, 0, 0, 0, 1, 0, 0, 1, 0, 0, 1, 0, 1, 0, 1, 0, 0, 1, 0, 0, 1, 0, 1, 0, 0, 0, 1, 0, 0, 0, 0, 0, 0, 0, 0, 1, 0, 0, 1, 0, 0, 0, 1, 0, 1, 0, 0, 0, 1, 0, 0, 0, 1, 0, 0, 1, 0, 1, 0, 0, 1, 0, 0, 1, 0, 0]\n"
     ]
    },
    {
     "name": "stderr",
     "output_type": "stream",
     "text": [
      "488it [25:06,  2.24s/it, BLEU2=0.337, BLEU1=0.41, ExactMatch=0.0245, METEOR=0.596, BertScore=nan, StubScore=0.263]"
     ]
    },
    {
     "name": "stdout",
     "output_type": "stream",
     "text": [
      "True\n",
      "Президент Армении вручил Марит Грев паспорт с особым статусом проживания в Республике Армения.\n",
      "После открытия памятника Фритьофу Нансену президент Армении вручил Марит Грев паспорт статуса специального проживания в Республике Армения.\n",
      "[0, 0, 0, 0, 0, 0, 1, 0, 0, 0, 0, 0, 1, 0, 0, 0, 0, 0, 1, 0, 0, 1, 0, 0, 1, 0, 1, 0, 1, 0, 0, 1, 0, 0, 1, 0, 1, 0, 0, 0, 1, 0, 0, 0, 0, 0, 0, 0, 0, 1, 0, 0, 1, 0, 0, 0, 1, 0, 1, 0, 0, 0, 1, 0, 0, 0, 1, 0, 0, 1, 0, 1, 0, 0, 1, 0, 0, 1, 0, 0]\n"
     ]
    },
    {
     "name": "stderr",
     "output_type": "stream",
     "text": [
      "489it [25:08,  2.00s/it, BLEU2=0.338, BLEU1=0.411, ExactMatch=0.0269, METEOR=0.597, BertScore=nan, StubScore=0.263]"
     ]
    },
    {
     "name": "stdout",
     "output_type": "stream",
     "text": [
      "True\n",
      "Брюллов посетил Испанию в 1850 году.\n",
      "Брюллов посетил Испанию в 1850 году.\n",
      "[0, 0, 0, 0, 0, 0, 1, 0, 0, 0, 0, 0, 1, 0, 0, 0, 0, 0, 1, 0, 0, 1, 0, 0, 1, 0, 1, 0, 1, 0, 0, 1, 0, 0, 1, 0, 1, 0, 0, 0, 1, 0, 0, 0, 0, 0, 0, 0, 0, 1, 0, 0, 1, 0, 0, 0, 1, 0, 1, 0, 0, 0, 1, 0, 0, 0, 1, 0, 0, 1, 0, 1, 0, 0, 1, 0, 0, 1, 0, 0]\n"
     ]
    },
    {
     "name": "stderr",
     "output_type": "stream",
     "text": [
      "490it [25:10,  2.16s/it, BLEU2=0.339, BLEU1=0.413, ExactMatch=0.0268, METEOR=0.598, BertScore=nan, StubScore=0.263]"
     ]
    },
    {
     "name": "stdout",
     "output_type": "stream",
     "text": [
      "True\n",
      "Последним шедевром художника Брюллова стал портрет его старого знакомого, археолога Микеланджело Ланчи, созданный в 1851 году.\n",
      "Последним шедевром художника стал портрет его старого знакомого археолога Микеланджело Ланчи, созданный в 1851 году.\n",
      "[0, 0, 0, 0, 0, 0, 1, 0, 0, 0, 0, 0, 1, 0, 0, 0, 0, 0, 1, 0, 0, 1, 0, 0, 1, 0, 1, 0, 1, 0, 0, 1, 0, 0, 1, 0, 1, 0, 0, 0, 1, 0, 0, 0, 0, 0, 0, 0, 0, 1, 0, 0, 1, 0, 0, 0, 1, 0, 1, 0, 0, 0, 1, 0, 0, 0, 1, 0, 0, 1, 0, 1, 0, 0, 1, 0, 0, 1, 0, 0]\n"
     ]
    },
    {
     "name": "stderr",
     "output_type": "stream",
     "text": [
      "491it [25:12,  1.97s/it, BLEU2=0.341, BLEU1=0.414, ExactMatch=0.0292, METEOR=0.599, BertScore=nan, StubScore=0.263]"
     ]
    },
    {
     "name": "stdout",
     "output_type": "stream",
     "text": [
      "True\n",
      "Брюллов покинул Россию по настоянию врачей 27 апреля 1849 года.\n",
      "Брюллов покинул Россию по настоянию врачей 27 апреля 1849 года.\n",
      "[0, 0, 0, 0, 0, 0, 1, 0, 0, 0, 0, 0, 1, 0, 0, 0, 0, 0, 1, 0, 0, 1, 0, 0, 1, 0, 1, 0, 1, 0, 0, 1, 0, 0, 1, 0, 1, 0, 0, 0, 1, 0, 0, 0, 0, 0, 0, 0, 0, 1, 0, 0, 1, 0, 0, 0, 1, 0, 1, 0, 0, 0, 1, 0, 0, 0, 1, 0, 0, 1, 0, 1, 0, 0, 1, 0, 0, 1, 0, 0]\n"
     ]
    },
    {
     "name": "stderr",
     "output_type": "stream",
     "text": [
      "492it [25:13,  1.85s/it, BLEU2=0.342, BLEU1=0.415, ExactMatch=0.0291, METEOR=0.6, BertScore=nan, StubScore=0.263]  "
     ]
    },
    {
     "name": "stdout",
     "output_type": "stream",
     "text": [
      "True\n",
      "27 апреля 1849 года Брюллов отправился на остров Мадейра лечиться.\n",
      "27 апреля 1849 года Брюллов отправился лечится на остров Мадейра.\n",
      "[0, 0, 0, 0, 0, 0, 1, 0, 0, 0, 0, 0, 1, 0, 0, 0, 0, 0, 1, 0, 0, 1, 0, 0, 1, 0, 1, 0, 1, 0, 0, 1, 0, 0, 1, 0, 1, 0, 0, 0, 1, 0, 0, 0, 0, 0, 0, 0, 0, 1, 0, 0, 1, 0, 0, 0, 1, 0, 1, 0, 0, 0, 1, 0, 0, 0, 1, 0, 0, 1, 0, 1, 0, 0, 1, 0, 0, 1, 0, 0]\n"
     ]
    },
    {
     "name": "stderr",
     "output_type": "stream",
     "text": [
      "493it [25:16,  1.92s/it, BLEU2=0.344, BLEU1=0.416, ExactMatch=0.0315, METEOR=0.601, BertScore=nan, StubScore=0.263]"
     ]
    },
    {
     "name": "stdout",
     "output_type": "stream",
     "text": [
      "True\n",
      "В 1850 году Брюллов познакомился с соратником Гарибальди А. Титтони.\n",
      "В 1850 году Брюллов познакомился с соратником Гарибальди А. Титтони.\n",
      "[0, 0, 0, 0, 0, 0, 1, 0, 0, 0, 0, 0, 1, 0, 0, 0, 0, 0, 1, 0, 0, 1, 0, 0, 1, 0, 1, 0, 1, 0, 0, 1, 0, 0, 1, 0, 1, 0, 0, 0, 1, 0, 0, 0, 0, 0, 0, 0, 0, 1, 0, 0, 1, 0, 0, 0, 1, 0, 1, 0, 0, 0, 1, 0, 0, 0, 1, 0, 0, 1, 0, 1, 0, 0, 1, 0, 0, 1, 0, 0]\n"
     ]
    },
    {
     "name": "stderr",
     "output_type": "stream",
     "text": [
      "494it [25:17,  1.80s/it, BLEU2=0.344, BLEU1=0.417, ExactMatch=0.0314, METEOR=0.602, BertScore=nan, StubScore=0.263]"
     ]
    },
    {
     "name": "stdout",
     "output_type": "stream",
     "text": [
      "True\n",
      "В ссылке Александр Грин написал \"Жизнь Гнора\" и \"Синий каскад Теллури\".\n",
      "В ссылке Грин написал Жизнь Гнора и Синий каскад Теллури.\n",
      "[0, 0, 0, 0, 0, 0, 1, 0, 0, 0, 0, 0, 1, 0, 0, 0, 0, 0, 1, 0, 0, 1, 0, 0, 1, 0, 1, 0, 1, 0, 0, 1, 0, 0, 1, 0, 1, 0, 0, 0, 1, 0, 0, 0, 0, 0, 0, 0, 0, 1, 0, 0, 1, 0, 0, 0, 1, 0, 1, 0, 0, 0, 1, 0, 0, 0, 1, 0, 0, 1, 0, 1, 0, 0, 1, 0, 0, 1, 0, 0]\n"
     ]
    },
    {
     "name": "stderr",
     "output_type": "stream",
     "text": [
      "495it [25:19,  1.91s/it, BLEU2=0.343, BLEU1=0.416, ExactMatch=0.0313, METEOR=0.6, BertScore=nan, StubScore=0.263]  "
     ]
    },
    {
     "name": "stdout",
     "output_type": "stream",
     "text": [
      "True\n",
      "Слово \"Гринландия\" - это название вымышленной страны, созданной Александром Грином, как утверждает литературовед К. Зелинский.\n",
      "Вымышленная страна, сформированная в произведениях А. Грина названа Гринландия.\n",
      "[0, 0, 0, 0, 0, 0, 1, 0, 0, 0, 0, 0, 1, 0, 0, 0, 0, 0, 1, 0, 0, 1, 0, 0, 1, 0, 1, 0, 1, 0, 0, 1, 0, 0, 1, 0, 1, 0, 0, 0, 1, 0, 0, 0, 0, 0, 0, 0, 0, 1, 0, 0, 1, 0, 0, 0, 1, 0, 1, 0, 0, 0, 1, 0, 0, 0, 1, 0, 0, 1, 0, 1, 0, 0, 1, 0, 0, 1, 0, 0]\n"
     ]
    },
    {
     "name": "stderr",
     "output_type": "stream",
     "text": [
      "496it [25:21,  1.94s/it, BLEU2=0.343, BLEU1=0.416, ExactMatch=0.0312, METEOR=0.601, BertScore=nan, StubScore=0.263]"
     ]
    },
    {
     "name": "stdout",
     "output_type": "stream",
     "text": [
      "True\n",
      "Полиция узнала, что писатель Грин - это беглый ссыльный Гриневский 27 июля 1910 года.\n",
      "27 июля 1910 года полиция наконец обнаружила, что писатель Грин — это беглый ссыльный Гриневский.\n",
      "[0, 0, 0, 0, 0, 0, 1, 0, 0, 0, 0, 0, 1, 0, 0, 0, 0, 0, 1, 0, 0, 1, 0, 0, 1, 0, 1, 0, 1, 0, 0, 1, 0, 0, 1, 0, 1, 0, 0, 0, 1, 0, 0, 0, 0, 0, 0, 0, 0, 1, 0, 0, 1, 0, 0, 0, 1, 0, 1, 0, 0, 0, 1, 0, 0, 0, 1, 0, 0, 1, 0, 1, 0, 0, 1, 0, 0, 1, 0, 0]\n"
     ]
    },
    {
     "name": "stderr",
     "output_type": "stream",
     "text": [
      "497it [25:24,  2.17s/it, BLEU2=0.343, BLEU1=0.416, ExactMatch=0.0312, METEOR=0.6, BertScore=nan, StubScore=0.263]  "
     ]
    },
    {
     "name": "stdout",
     "output_type": "stream",
     "text": [
      "True\n",
      "Александр Гриневский вернулся в Санкт-Петербург вместе со своей женой Верой осенью 1911 года после того, как его срок ссылки был сокращен до двух лет.\n",
      "В мае 1912 года семья Гриневских вернулась в Санкт-Петербург после ссылки.\n",
      "[0, 0, 0, 0, 0, 0, 1, 0, 0, 0, 0, 0, 1, 0, 0, 0, 0, 0, 1, 0, 0, 1, 0, 0, 1, 0, 1, 0, 1, 0, 0, 1, 0, 0, 1, 0, 1, 0, 0, 0, 1, 0, 0, 0, 0, 0, 0, 0, 0, 1, 0, 0, 1, 0, 0, 0, 1, 0, 1, 0, 0, 0, 1, 0, 0, 0, 1, 0, 0, 1, 0, 1, 0, 0, 1, 0, 0, 1, 0, 0]\n"
     ]
    },
    {
     "name": "stderr",
     "output_type": "stream",
     "text": [
      "498it [25:25,  1.96s/it, BLEU2=0.343, BLEU1=0.416, ExactMatch=0.0311, METEOR=0.601, BertScore=nan, StubScore=0.263]"
     ]
    },
    {
     "name": "stdout",
     "output_type": "stream",
     "text": [
      "True\n",
      "Александр Грин был сослан в Пинегу, Архангельскую губернию, после третьего ареста.\n",
      "После третьего ареста писатель Александр Грин был сослан в Пинегу Архангельской губернии.\n",
      "[0, 0, 0, 0, 0, 0, 1, 0, 0, 0, 0, 0, 1, 0, 0, 0, 0, 0, 1, 0, 0, 1, 0, 0, 1, 0, 1, 0, 1, 0, 0, 1, 0, 0, 1, 0, 1, 0, 0, 0, 1, 0, 0, 0, 0, 0, 0, 0, 0, 1, 0, 0, 1, 0, 0, 0, 1, 0, 1, 0, 0, 0, 1, 0, 0, 0, 1, 0, 0, 1, 0, 1, 0, 0, 1, 0, 0, 1, 0, 0]\n"
     ]
    },
    {
     "name": "stderr",
     "output_type": "stream",
     "text": [
      "499it [25:28,  2.07s/it, BLEU2=0.343, BLEU1=0.416, ExactMatch=0.031, METEOR=0.601, BertScore=nan, StubScore=0.263] "
     ]
    },
    {
     "name": "stdout",
     "output_type": "stream",
     "text": [
      "True\n",
      "Нансен обнаружил, что айсберги могут переносить минеральный материал, который может дать представление о геологическом строении неисследованных областей Гренландии.\n",
      "О том, что айсберги могут переносить значительные количества минерального материала, дающего представление о геологическом строении неисследованных областей Гренландии, обнаружил Фритьоф Нансен.\n",
      "[0, 0, 0, 0, 0, 0, 1, 0, 0, 0, 0, 0, 1, 0, 0, 0, 0, 0, 1, 0, 0, 1, 0, 0, 1, 0, 1, 0, 1, 0, 0, 1, 0, 0, 1, 0, 1, 0, 0, 0, 1, 0, 0, 0, 0, 0, 0, 0, 0, 1, 0, 0, 1, 0, 0, 0, 1, 0, 1, 0, 0, 0, 1, 0, 0, 0, 1, 0, 0, 1, 0, 1, 0, 0, 1, 0, 0, 1, 0, 0]\n"
     ]
    },
    {
     "name": "stderr",
     "output_type": "stream",
     "text": [
      "500it [25:29,  3.06s/it, BLEU2=0.343, BLEU1=0.416, ExactMatch=0.031, METEOR=0.6, BertScore=nan, StubScore=0.263]  "
     ]
    },
    {
     "name": "stdout",
     "output_type": "stream",
     "text": [
      "True\n",
      "27 июня Викинг оказался заперт в сплошных льдах и начался дрейф.\n",
      "27 июня Викинг Нансена оказался затёрт сплошными ледовыми полями, начался незапланированный дрейф.\n",
      "[0, 0, 0, 0, 0, 0, 1, 0, 0, 0, 0, 0, 1, 0, 0, 0, 0, 0, 1, 0, 0, 1, 0, 0, 1, 0, 1, 0, 1, 0, 0, 1, 0, 0, 1, 0, 1, 0, 0, 0, 1, 0, 0, 0, 0, 0, 0, 0, 0, 1, 0, 0, 1, 0, 0, 0, 1, 0, 1, 0, 0, 0, 1, 0, 0, 0, 1, 0, 0, 1, 0, 1, 0, 0, 1, 0, 0, 1, 0, 0]\n"
     ]
    },
    {
     "name": "stderr",
     "output_type": "stream",
     "text": [
      "\n"
     ]
    }
   ],
   "source": [
    "reader_scores, reader_cache = evaluate_reader(benchmarks_df, READER, reader_metrics, contexts, show_step=1, cache_relevant_flags=cache_relevant_flags)"
   ]
  },
  {
   "cell_type": "code",
   "execution_count": 19,
   "metadata": {},
   "outputs": [],
   "source": [
    "save_rag_trial_log(SAVE_LOGDIR, reader_scores, retriever_scores, \n",
    "                   SAVE_HYPERPARAMS, SAVE_READERCACHE, SAVE_RETRIEVERCACHE,\n",
    "                   reader_cache, retriever_cache_ids, BENCHMARKS_INFO, BENCHMARKS_MAXSIZE,\n",
    "                   READER_PARAMS, RETRIEVER_PARAMS, ADDITIONAL_PARAMS)"
   ]
  },
  {
   "cell_type": "code",
   "execution_count": null,
   "metadata": {},
   "outputs": [],
   "source": []
  }
 ],
 "metadata": {
  "kernelspec": {
   "display_name": "mikhail_venv",
   "language": "python",
   "name": "mikhail_venv"
  },
  "language_info": {
   "codemirror_mode": {
    "name": "ipython",
    "version": 3
   },
   "file_extension": ".py",
   "mimetype": "text/x-python",
   "name": "python",
   "nbconvert_exporter": "python",
   "pygments_lexer": "ipython3",
   "version": "3.10.9"
  }
 },
 "nbformat": 4,
 "nbformat_minor": 4
}
