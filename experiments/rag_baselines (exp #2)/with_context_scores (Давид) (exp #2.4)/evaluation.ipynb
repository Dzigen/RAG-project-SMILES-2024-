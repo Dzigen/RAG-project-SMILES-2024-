{
 "cells": [
  {
   "cell_type": "code",
   "execution_count": 1,
   "metadata": {},
   "outputs": [
    {
     "name": "stderr",
     "output_type": "stream",
     "text": [
      "/trinity/home/team06/workspace/mikhail_workspace/mikhail_venv/lib/python3.10/site-packages/tqdm/auto.py:21: TqdmWarning: IProgress not found. Please update jupyter and ipywidgets. See https://ipywidgets.readthedocs.io/en/stable/user_install.html\n",
      "  from .autonotebook import tqdm as notebook_tqdm\n"
     ]
    }
   ],
   "source": [
    "import sys\n",
    "#BASE_DIR = \"/home/dzigen/Desktop/ITMO/smiles2024/RAG-project-SMILES-2024-\"\n",
    "BASE_DIR = \"/trinity/home/team06/workspace/mikhail_workspace/rag_project\"\n",
    "sys.path.insert(0, BASE_DIR)\n",
    "\n",
    "import pandas as pd \n",
    "import ast\n",
    "import numpy as np\n",
    "import json\n",
    "from tqdm import tqdm\n",
    "from IPython.display import clear_output\n",
    "import os\n",
    "from typing import Dict, List\n",
    "\n",
    "from src.Retriever import ThresholdRetriever\n",
    "from src.Scorer import SimilarityScorerConfig\n",
    "from src.Reader import LLM_Model\n",
    "from src.utils import ReaderMetrics, RetrieverMetrics, save_rag_trial_log, prepare_thresholdretriever_configs, prepare_reader_configs, load_benchmarks_df\n",
    "from src.utils import evaluate_retriever, evaluate_reader"
   ]
  },
  {
   "cell_type": "code",
   "execution_count": 2,
   "metadata": {},
   "outputs": [],
   "source": [
    "# !!! TO CHANGE !!!\n",
    "TRIAL = 1\n",
    "BENCHMARKS_MAXSIZE = 500\n",
    "BENCHMARKS_INFO = {'mtssquad': {'db': 'v3', 'table': 'v2'}}\n",
    "\n",
    "# Retriever part\n",
    "RETRIEVER_PARAMS = {\n",
    "    \"model_path\": f\"{BASE_DIR}/models/intfloat/multilingual-e5-small\",\n",
    "    \"densedb_kwargs\": {'metadata': {\"hnsw:space\": \"ip\"}},\n",
    "    \"model_kwargs\": {'device':'cuda'},\n",
    "    \"encode_kwargs\": {'normalize_embeddings': True, 'prompt': 'query: '},\n",
    "    \"params\": {'fetch_k': 50, 'threshold': 0.23, 'max_k': 3}\n",
    "}\n",
    "\n",
    "# Reader part\n",
    "READER_PARAMS = {\n",
    "    'prompts': {\n",
    "        \"assistant\": 'Отвечай на вопросы, используя информацию из текстов в списке ниже. Каждому тексту в начале в квадратных скобках поставлена в соответствие вещественная оценка его сложности: чем меньше оценка тем сложнее для понимания контекст. Используй эту информацию. Выбирай тексты c достаточно высокими оценками для генерации ответа на их основе. Если на основании указанных оценок близости ты не уверена в релевантности данных текстов по отношению к заданному вопросу, то сгенерируй следующий ответ: \"У меня нет ответа на ваш вопрос.\".',\n",
    "        \"system\": \"Ты вопросно-ответная система. Все ответы генерируй на русском языке. По вопросам отвечай кратко, чётко и конкретно. Не генерируй излишнюю информацию.\",\n",
    "    },\n",
    "    'gen': {'max_new_tokens': 512, 'eos_token_id': 79097},\n",
    "    'data_operate': {'batch_size': 1}\n",
    "    }\n",
    "\n",
    "ADDITIONAL_PARAMS = {\n",
    "    'topk_score_list': 3\n",
    "}\n",
    "\n",
    "BERTSCORE_MODEL_PATH = \"ru_electra_medium\"\n",
    "# !!! TO CHANGE !!!\n",
    "\n",
    "SAVE_LOGDIR = f'./logs/trial{TRIAL}'\n",
    "SAVE_HYPERPARAMS = f'{SAVE_LOGDIR}/hyperparams.json'\n",
    "SAVE_READERCACHE = f'{SAVE_LOGDIR}/reader_cache.json'\n",
    "SAVE_RETRIEVERCACHE = f'{SAVE_LOGDIR}/retriever_cache.json'"
   ]
  },
  {
   "cell_type": "markdown",
   "metadata": {},
   "source": [
    "##### Configure Retriever-part"
   ]
  },
  {
   "cell_type": "code",
   "execution_count": 3,
   "metadata": {},
   "outputs": [],
   "source": [
    "retrievers_config, benchmarks_path = prepare_thresholdretriever_configs(BASE_DIR, BENCHMARKS_INFO, RETRIEVER_PARAMS)\n",
    "retriever_metrics = RetrieverMetrics()"
   ]
  },
  {
   "cell_type": "code",
   "execution_count": 4,
   "metadata": {},
   "outputs": [],
   "source": [
    "benchmarks_df = load_benchmarks_df(benchmarks_path, BENCHMARKS_MAXSIZE)"
   ]
  },
  {
   "cell_type": "markdown",
   "metadata": {},
   "source": [
    "##### Configure Reader-part"
   ]
  },
  {
   "cell_type": "code",
   "execution_count": 5,
   "metadata": {},
   "outputs": [
    {
     "name": "stderr",
     "output_type": "stream",
     "text": [
      "Loading checkpoint shards: 100%|██████████| 4/4 [03:33<00:00, 53.35s/it]\n"
     ]
    }
   ],
   "source": [
    "reader_config = prepare_reader_configs(READER_PARAMS)\n",
    "READER = LLM_Model(reader_config)"
   ]
  },
  {
   "cell_type": "code",
   "execution_count": 6,
   "metadata": {},
   "outputs": [
    {
     "name": "stdout",
     "output_type": "stream",
     "text": [
      "Loading Meteor...\n",
      "Loading ExactMatch\n"
     ]
    }
   ],
   "source": [
    "sim_score_config = SimilarityScorerConfig()\n",
    "reader_metrics = ReaderMetrics(BASE_DIR, BERTSCORE_MODEL_PATH, sim_score_config, READER)"
   ]
  },
  {
   "cell_type": "code",
   "execution_count": 7,
   "metadata": {},
   "outputs": [
    {
     "name": "stderr",
     "output_type": "stream",
     "text": [
      "No sentence-transformers model found with name /trinity/home/team06/workspace/mikhail_workspace/rag_project/models/intfloat/multilingual-e5-small. Creating a new one with mean pooling.\n"
     ]
    }
   ],
   "source": [
    "RETRIEVERS = {name: ThresholdRetriever(config) for name, config in retrievers_config.items()}"
   ]
  },
  {
   "cell_type": "markdown",
   "metadata": {},
   "source": [
    "##### Evaluating pipeline"
   ]
  },
  {
   "cell_type": "code",
   "execution_count": 8,
   "metadata": {
    "scrolled": true
   },
   "outputs": [
    {
     "name": "stdout",
     "output_type": "stream",
     "text": [
      "mtssquad\n"
     ]
    },
    {
     "name": "stderr",
     "output_type": "stream",
     "text": [
      "  0%|          | 0/500 [00:00<?, ?it/s]/trinity/home/team06/workspace/mikhail_workspace/rag_project/src/utils/evaluation_metrics.py:42: RuntimeWarning: invalid value encountered in scalar divide\n",
      "  return (2 * self.precision(pred_cands, gold_cands, k) * self.recall(pred_cands, gold_cands, k)) / (self.precision(pred_cands, gold_cands, k) + self.recall(pred_cands, gold_cands, k))\n",
      "/trinity/home/team06/workspace/mikhail_workspace/mikhail_venv/lib/python3.10/site-packages/numpy/core/fromnumeric.py:3504: RuntimeWarning: Mean of empty slice.\n",
      "  return _methods._mean(a, axis=axis, dtype=dtype,\n",
      "/trinity/home/team06/workspace/mikhail_workspace/mikhail_venv/lib/python3.10/site-packages/numpy/core/_methods.py:129: RuntimeWarning: invalid value encountered in scalar divide\n",
      "  ret = ret.dtype.type(ret / rcount)\n",
      "100%|██████████| 500/500 [00:12<00:00, 40.41it/s, MRR=0.778, mAP=0.778, Recall=0.839, Precision=0.28, F1=0.419, NoRelContextScore=nan] \n"
     ]
    }
   ],
   "source": [
    "retriever_scores, retriever_cache_ids, predicted_chunks, cache_relevant_flags = evaluate_retriever(\n",
    "    benchmarks_df, RETRIEVERS, retriever_metrics, show_step=5, topk_score_list=ADDITIONAL_PARAMS['topk_score_list'])"
   ]
  },
  {
   "cell_type": "code",
   "execution_count": 18,
   "metadata": {},
   "outputs": [],
   "source": [
    "contexts = {name: [reader_config.prompts.assistant + \"\\n\\n\" + \"\\n\\n\".join([f'{i+1}. [{round(doc[2][\"david_score\"], 3)}] {doc[1]}' for i, doc in enumerate(docs)]) \n",
    "                                                                      for docs in chunks] for name, chunks in predicted_chunks.items()}"
   ]
  },
  {
   "cell_type": "code",
   "execution_count": 20,
   "metadata": {
    "scrolled": true
   },
   "outputs": [
    {
     "name": "stderr",
     "output_type": "stream",
     "text": [
      "0it [00:00, ?it/s]"
     ]
    },
    {
     "name": "stdout",
     "output_type": "stream",
     "text": [
      "answer raw len:  0 1\n"
     ]
    },
    {
     "name": "stderr",
     "output_type": "stream",
     "text": [
      "1it [00:15, 15.40s/it, BLEU2=nan, BLEU1=nan, ExactMatch=nan, METEOR=nan, BertScore=nan, StubScore=0]"
     ]
    },
    {
     "name": "stdout",
     "output_type": "stream",
     "text": [
      "sim raw len:  1\n",
      "False\n",
      "В 1983 году Мадонна попросила Мартина \"Зоопарка\" Парриша изменить аранжировку песни \"Holiday\", добавив бас-гитару, чтобы сделать её более подходящей для радио.\n",
      "Да, по просьбе Мадонны заменили аранжировщика Каминса на более опытного штатного аранжировщика Warner Bros. Records Регги Лукаса.\n",
      "[0]\n",
      "answer raw len:  1 1\n"
     ]
    },
    {
     "name": "stderr",
     "output_type": "stream",
     "text": [
      "2it [00:20,  9.10s/it, BLEU2=nan, BLEU1=nan, ExactMatch=nan, METEOR=nan, BertScore=nan, StubScore=0]"
     ]
    },
    {
     "name": "stdout",
     "output_type": "stream",
     "text": [
      "sim raw len:  1\n",
      "False\n",
      "Песня Мадонны, которая была выпущена как сингл, - \"Everybody\", которая была выпущена в 1982 году на лейбле Sire.\n",
      "Песню Мадонны \"Everybody\" выпускают в качестве сингла.\n",
      "[0, 0]\n"
     ]
    },
    {
     "name": "stderr",
     "output_type": "stream",
     "text": [
      "3it [00:21,  5.69s/it, BLEU2=0.798, BLEU1=0.909, ExactMatch=0, METEOR=0.992, BertScore=nan, StubScore=0]"
     ]
    },
    {
     "name": "stdout",
     "output_type": "stream",
     "text": [
      "answer raw len:  2 1\n",
      "True\n",
      "Everybody поднимается на 3-е место в чарте Hot Dance Club Songs.\n",
      "На 3-е место Everybody поднимается в чарте Hot Dance Club Songs.\n",
      "[0, 0]\n",
      "answer raw len:  3 1\n"
     ]
    },
    {
     "name": "stderr",
     "output_type": "stream",
     "text": [
      "4it [00:25,  5.10s/it, BLEU2=0.453, BLEU1=0.52, ExactMatch=0, METEOR=0.766, BertScore=nan, StubScore=0] "
     ]
    },
    {
     "name": "stdout",
     "output_type": "stream",
     "text": [
      "True\n",
      "При нулевом бюджете на продвижение, фото певицы не публикуют на обложке, чтобы не отпугнуть цветную аудиторию, которая может подумать, что она негритянская диско-соул-певица.\n",
      "Чтобы не отпугнуть цветную аудиторию якобы негритянской диско-соул-певицы.\n",
      "[0, 0]\n"
     ]
    },
    {
     "name": "stderr",
     "output_type": "stream",
     "text": [
      "5it [00:27,  3.84s/it, BLEU2=0.302, BLEU1=0.458, ExactMatch=0, METEOR=0.588, BertScore=nan, StubScore=0]"
     ]
    },
    {
     "name": "stdout",
     "output_type": "stream",
     "text": [
      "answer raw len:  4 1\n",
      "True\n",
      "Фотографии певицы не были размещены на обложке из-за нулевого бюджета на рекламу.\n",
      "При нулевом бюджете на раскрутку фото певицы решают не помещать на обложке.\n",
      "[0, 0]\n"
     ]
    },
    {
     "name": "stderr",
     "output_type": "stream",
     "text": [
      "6it [00:29,  3.23s/it, BLEU2=0.292, BLEU1=0.424, ExactMatch=0, METEOR=0.61, BertScore=nan, StubScore=0] "
     ]
    },
    {
     "name": "stdout",
     "output_type": "stream",
     "text": [
      "answer raw len:  5 1\n",
      "True\n",
      "Альбом \"The Times They Are A-Changing\" был выпущен в начале 1964 года.\n",
      "В начале 1964 года вышел новый альбом протестных песен Дилана The Times They Are A-Changing.\n",
      "[0, 0]\n"
     ]
    },
    {
     "name": "stderr",
     "output_type": "stream",
     "text": [
      "7it [00:31,  2.94s/it, BLEU2=0.234, BLEU1=0.355, ExactMatch=0, METEOR=0.535, BertScore=nan, StubScore=0]"
     ]
    },
    {
     "name": "stdout",
     "output_type": "stream",
     "text": [
      "answer raw len:  6 1\n",
      "True\n",
      "Джордж Харрисон, гитарист группы The Beatles, был сильно впечатлен альбомом Freewheelin' Bob Dylan.\n",
      "Freewheelin’ Bob Dylan произвёл большое впечатление на любителей фолк-музыки в США.\n",
      "[0, 0]\n"
     ]
    },
    {
     "name": "stderr",
     "output_type": "stream",
     "text": [
      "8it [00:35,  3.09s/it, BLEU2=0.195, BLEU1=0.337, ExactMatch=0, METEOR=0.524, BertScore=nan, StubScore=0]"
     ]
    },
    {
     "name": "stdout",
     "output_type": "stream",
     "text": [
      "answer raw len:  7 1\n",
      "True\n",
      "Джордж Харрисон, по его словам, \"переслушал до дыр\" альбом Freewheelin' Bob Dylan.\n",
      "Кумиры британской публики The Beatles заслушали альбом Freewheelin Bob Dylan до дыр.\n",
      "[0, 0]\n",
      "answer raw len:  8 1\n"
     ]
    },
    {
     "name": "stderr",
     "output_type": "stream",
     "text": [
      "9it [00:40,  3.89s/it, BLEU2=0.195, BLEU1=0.337, ExactMatch=0, METEOR=0.524, BertScore=nan, StubScore=0]"
     ]
    },
    {
     "name": "stdout",
     "output_type": "stream",
     "text": [
      "sim raw len:  1\n",
      "False\n",
      "Некоторые группы, такие как Blood, Sweat and Tears, Chicago и другие, взяли за основу звучание биг-бэндов, ритм-энд-блюз и различные направления рок-музыки.\n",
      "По примеру Дилана битлы стали экспериментировать с песнями и усложнять свой репертуар.\n",
      "[0, 0, 0]\n"
     ]
    },
    {
     "name": "stderr",
     "output_type": "stream",
     "text": [
      "10it [00:43,  3.45s/it, BLEU2=0.223, BLEU1=0.348, ExactMatch=0, METEOR=0.579, BertScore=nan, StubScore=0]"
     ]
    },
    {
     "name": "stdout",
     "output_type": "stream",
     "text": [
      "answer raw len:  9 1\n",
      "True\n",
      "Слова песен Дилана становятся все более литературными и утонченными под влиянием чтения Джона Китса и Артюра Рембо.\n",
      "Под влиянием чтения Джона Китса и Артюра Рембо.\n",
      "[0, 0, 0]\n"
     ]
    },
    {
     "name": "stderr",
     "output_type": "stream",
     "text": [
      "11it [00:44,  2.58s/it, BLEU2=0.195, BLEU1=0.305, ExactMatch=0, METEOR=0.519, BertScore=nan, StubScore=0]"
     ]
    },
    {
     "name": "stdout",
     "output_type": "stream",
     "text": [
      "answer raw len:  10 1\n",
      "True\n",
      "Театр для молодежи Манитобы.\n",
      "Манитобский театр юного зрителя получил награду Канадского Института Искусств Молодёжи.\n",
      "[0, 0, 0]\n"
     ]
    },
    {
     "name": "stderr",
     "output_type": "stream",
     "text": [
      "12it [00:45,  2.23s/it, BLEU2=0.219, BLEU1=0.326, ExactMatch=0, METEOR=0.526, BertScore=nan, StubScore=0]"
     ]
    },
    {
     "name": "stdout",
     "output_type": "stream",
     "text": [
      "answer raw len:  11 1\n",
      "True\n",
      "Название старейшего франкоязычного театра в Канаде - Le Cercle Molière.\n",
      "Старейший франкоязычный театр в Канаде называется Le Cercle Molière.\n",
      "[0, 0, 0]\n"
     ]
    },
    {
     "name": "stderr",
     "output_type": "stream",
     "text": [
      "13it [00:47,  2.15s/it, BLEU2=0.241, BLEU1=0.34, ExactMatch=0, METEOR=0.542, BertScore=nan, StubScore=0] "
     ]
    },
    {
     "name": "stdout",
     "output_type": "stream",
     "text": [
      "answer raw len:  12 1\n",
      "True\n",
      "Театр, который является старейшим в Канаде англоязычным региональным театром, - это Театр Виннипега.\n",
      "Театральный центр Манитобы является старейшим в Канаде англоязычным региональным театром.\n",
      "[0, 0, 0]\n",
      "answer raw len:  13 1\n"
     ]
    },
    {
     "name": "stderr",
     "output_type": "stream",
     "text": [
      "14it [00:52,  3.11s/it, BLEU2=0.241, BLEU1=0.34, ExactMatch=0, METEOR=0.542, BertScore=nan, StubScore=0]"
     ]
    },
    {
     "name": "stdout",
     "output_type": "stream",
     "text": [
      "sim raw len:  1\n",
      "False\n",
      "Первые телеграфные столбы были установлены в 1832 году, когда российский ученый Павел Львович Шиллинг создал первый электромагнитный телеграф.\n",
      "Нет информации\n",
      "[0, 0, 0, 0]\n"
     ]
    },
    {
     "name": "stderr",
     "output_type": "stream",
     "text": [
      "15it [00:54,  2.71s/it, BLEU2=0.259, BLEU1=0.35, ExactMatch=0, METEOR=0.543, BertScore=nan, StubScore=0]"
     ]
    },
    {
     "name": "stdout",
     "output_type": "stream",
     "text": [
      "answer raw len:  14 1\n",
      "True\n",
      "Художественная галерея Виннипега насчитывает более 20 000 картин.\n",
      "Художественная галерея Виннипега насчитывает более 20 тысяч работ манитобских и канадских художников.\n",
      "[0, 0, 0, 0]\n"
     ]
    },
    {
     "name": "stderr",
     "output_type": "stream",
     "text": [
      "16it [00:56,  2.33s/it, BLEU2=0.277, BLEU1=0.366, ExactMatch=0, METEOR=0.552, BertScore=nan, StubScore=0]"
     ]
    },
    {
     "name": "stdout",
     "output_type": "stream",
     "text": [
      "answer raw len:  15 1\n",
      "True\n",
      "В Театре для молодежи Манитобы ставятся пьесы для детей и подростков.\n",
      "В Манитобском театре юного зрителя играют пьесы для детей и подростков.\n",
      "[0, 0, 0, 0]\n"
     ]
    },
    {
     "name": "stderr",
     "output_type": "stream",
     "text": [
      "17it [00:56,  1.85s/it, BLEU2=0.273, BLEU1=0.357, ExactMatch=0, METEOR=0.55, BertScore=nan, StubScore=0] "
     ]
    },
    {
     "name": "stdout",
     "output_type": "stream",
     "text": [
      "answer raw len:  16 1\n",
      "True\n",
      "В образе Леонардо да Винчи.\n",
      "На фреске Афинская школа Платон написан в образе Леонардо да Винчи.\n",
      "[0, 0, 0, 0]\n"
     ]
    },
    {
     "name": "stderr",
     "output_type": "stream",
     "text": [
      "18it [00:57,  1.49s/it, BLEU2=0.254, BLEU1=0.342, ExactMatch=0, METEOR=0.52, BertScore=nan, StubScore=0]"
     ]
    },
    {
     "name": "stdout",
     "output_type": "stream",
     "text": [
      "answer raw len:  17 1\n",
      "True\n",
      "У меня нет ответа на ваш вопрос.\n",
      "Птолемей очень похож на автора фрески.\n",
      "[0, 0, 0, 0]\n"
     ]
    },
    {
     "name": "stderr",
     "output_type": "stream",
     "text": [
      "19it [01:07,  4.05s/it, BLEU2=0.247, BLEU1=0.335, ExactMatch=0, METEOR=0.513, BertScore=nan, StubScore=0]"
     ]
    },
    {
     "name": "stdout",
     "output_type": "stream",
     "text": [
      "answer raw len:  18 1\n",
      "True\n",
      "На фреске \"Афинская школа\" изображены древние философы, многие из которых изображены с чертами своих современников, такие как Леонардо да Винчи, изображенный как Платон, и Микеланджело, изображенный как Гераклит. На картине представлены мудрецы со всего мира, участвующие в дебатах на различные темы. Среди них Диоген, изображенный с миской, сидящий на ступенях, и астрономы и геометры, рисующие фигуры и символы с помощью циркулей на табличках.\n",
      "На фреске Афинская школа представлены древние философы, многим из которых Рафаэль придал черты своих современников, например, Платон написан в образе Леонардо да Винчи, Гераклит в образе Микеланджело, а стоящий у правого края Птолемей очень похож на автора фрески.\n",
      "[0, 0, 0, 0]\n"
     ]
    },
    {
     "name": "stderr",
     "output_type": "stream",
     "text": [
      "20it [01:08,  3.27s/it, BLEU2=0.283, BLEU1=0.369, ExactMatch=0, METEOR=0.538, BertScore=nan, StubScore=0]"
     ]
    },
    {
     "name": "stdout",
     "output_type": "stream",
     "text": [
      "answer raw len:  19 1\n",
      "True\n",
      "На фреске \"Афинская школа\" Рафаэля изображено около 50 персонажей.\n",
      "На фреске \"Афинская школа\" Рафаэля присутствует около 50 персонажей.\n",
      "[0, 0, 0, 0]\n"
     ]
    },
    {
     "name": "stderr",
     "output_type": "stream",
     "text": [
      "21it [01:10,  2.78s/it, BLEU2=0.266, BLEU1=0.348, ExactMatch=0, METEOR=0.511, BertScore=nan, StubScore=0]"
     ]
    },
    {
     "name": "stdout",
     "output_type": "stream",
     "text": [
      "answer raw len:  20 1\n",
      "True\n",
      "Рафаэль использовал черты Леонардо да Винчи при написании Платона на фреске \"Афинская школа\".\n",
      "Гераклит написан в образе Микеланджело.\n",
      "[0, 0, 0, 0]\n"
     ]
    },
    {
     "name": "stderr",
     "output_type": "stream",
     "text": [
      "22it [01:12,  2.63s/it, BLEU2=0.277, BLEU1=0.361, ExactMatch=0, METEOR=0.52, BertScore=nan, StubScore=0] "
     ]
    },
    {
     "name": "stdout",
     "output_type": "stream",
     "text": [
      "answer raw len:  21 1\n",
      "True\n",
      "Бхагавад-гита учит, что корень всех страданий - это возбужденный эгоистическими желаниями ум.\n",
      "Кришна учит, что корнем всех страданий является возбуждённый эгоистическими желаниями ум.\n",
      "[0, 0, 0, 0]\n"
     ]
    },
    {
     "name": "stderr",
     "output_type": "stream",
     "text": [
      "23it [01:14,  2.21s/it, BLEU2=0.315, BLEU1=0.394, ExactMatch=0.0526, METEOR=0.545, BertScore=nan, StubScore=0]"
     ]
    },
    {
     "name": "stdout",
     "output_type": "stream",
     "text": [
      "answer raw len:  22 1\n",
      "True\n",
      "Согласно Бхагавад-гите, все действия должны быть посвящены Богу.\n",
      "Согласно Бхагавад-гите, все действия должны быть посвящены Богу.\n",
      "[0, 0, 0, 0]\n"
     ]
    },
    {
     "name": "stderr",
     "output_type": "stream",
     "text": [
      "24it [01:16,  2.26s/it, BLEU2=0.312, BLEU1=0.39, ExactMatch=0.05, METEOR=0.55, BertScore=nan, StubScore=0]    "
     ]
    },
    {
     "name": "stdout",
     "output_type": "stream",
     "text": [
      "answer raw len:  23 1\n",
      "True\n",
      "Согласно Бхагавадгите, пламя желаний можно усмирить, контролируя ум через самодисциплину и участие в возвышающей духовной деятельности.\n",
      "Согласно Бхагавадгите, усмирить пламя желаний можно посредством самодисциплины.\n",
      "[0, 0, 0, 0]\n"
     ]
    },
    {
     "name": "stderr",
     "output_type": "stream",
     "text": [
      "25it [01:18,  2.17s/it, BLEU2=0.331, BLEU1=0.408, ExactMatch=0.0476, METEOR=0.565, BertScore=nan, StubScore=0]"
     ]
    },
    {
     "name": "stdout",
     "output_type": "stream",
     "text": [
      "answer raw len:  24 1\n",
      "True\n",
      "Бхагавад-гита описывает йогу как контроль ума, искусство деятельности и осознание высшей природы души.\n",
      "Бхагавадгита описывает йогу как контроль ума, искусство деятельности, осознание высшей природы души.\n",
      "[0, 0, 0, 0]\n"
     ]
    },
    {
     "name": "stderr",
     "output_type": "stream",
     "text": [
      "26it [01:20,  2.30s/it, BLEU2=0.353, BLEU1=0.428, ExactMatch=0.0455, METEOR=0.579, BertScore=nan, StubScore=0]"
     ]
    },
    {
     "name": "stdout",
     "output_type": "stream",
     "text": [
      "answer raw len:  25 1\n",
      "True\n",
      "Согласно Бхагавад-гите, высшая цель - это освобождение ума и разума от материальной деятельности и их сосредоточение на духовном уровне через посвящение всех действий Богу.\n",
      "Согласно Бхагавад-гите, высшей целью является освобождение ума и разума от материальной деятельности и их сосредоточение на духовном уровне через посвящение всех действий Богу.\n",
      "[0, 0, 0, 0]\n",
      "answer raw len:  26 1\n"
     ]
    },
    {
     "name": "stderr",
     "output_type": "stream",
     "text": [
      "27it [01:24,  2.54s/it, BLEU2=0.353, BLEU1=0.428, ExactMatch=0.0455, METEOR=0.579, BertScore=nan, StubScore=0]"
     ]
    },
    {
     "name": "stdout",
     "output_type": "stream",
     "text": [
      "sim raw len:  1\n",
      "False\n",
      "В Ингушетии, Россия, находится много населенных пунктов.\n",
      "В области земель Колхиды.\n",
      "[0, 0, 0, 0, 0]\n"
     ]
    },
    {
     "name": "stderr",
     "output_type": "stream",
     "text": [
      "28it [01:25,  2.12s/it, BLEU2=0.351, BLEU1=0.427, ExactMatch=0.0435, METEOR=0.584, BertScore=nan, StubScore=0]"
     ]
    },
    {
     "name": "stdout",
     "output_type": "stream",
     "text": [
      "answer raw len:  27 1\n",
      "True\n",
      "На греческом языке укрепление называлось Котиаион.\n",
      "Укрепление на греческом языке в то время называлось Котиаион.\n",
      "[0, 0, 0, 0, 0]\n"
     ]
    },
    {
     "name": "stderr",
     "output_type": "stream",
     "text": [
      "29it [01:26,  1.92s/it, BLEU2=0.336, BLEU1=0.409, ExactMatch=0.0417, METEOR=0.569, BertScore=nan, StubScore=0]"
     ]
    },
    {
     "name": "stdout",
     "output_type": "stream",
     "text": [
      "answer raw len:  28 1\n",
      "True\n",
      "Река, протекающая через Кутаиси, называется Риони.\n",
      "В Кутаиси протекает река Рион.\n",
      "[0, 0, 0, 0, 0]\n"
     ]
    },
    {
     "name": "stderr",
     "output_type": "stream",
     "text": [
      "30it [01:28,  1.77s/it, BLEU2=0.334, BLEU1=0.407, ExactMatch=0.04, METEOR=0.579, BertScore=nan, StubScore=0]  "
     ]
    },
    {
     "name": "stdout",
     "output_type": "stream",
     "text": [
      "answer raw len:  29 1\n",
      "True\n",
      "В охране вместе с лазами принимали участие римские солдаты, хотя их было очень мало.\n",
      "Римские воины принимали участие в охране вместе с лазами.\n",
      "[0, 0, 0, 0, 0]\n"
     ]
    },
    {
     "name": "stderr",
     "output_type": "stream",
     "text": [
      "31it [01:29,  1.81s/it, BLEU2=0.339, BLEU1=0.41, ExactMatch=0.0385, METEOR=0.59, BertScore=nan, StubScore=0]"
     ]
    },
    {
     "name": "stdout",
     "output_type": "stream",
     "text": [
      "answer raw len:  30 1\n",
      "True\n",
      "Фильм \"Абсолютные новички\" вышел в 1986 году.\n",
      "Рок-музыкальный фильм Абсолютные новички вышел в 1986 году.\n",
      "[0, 0, 0, 0, 0]\n"
     ]
    },
    {
     "name": "stderr",
     "output_type": "stream",
     "text": [
      "32it [01:33,  2.28s/it, BLEU2=0.341, BLEU1=0.412, ExactMatch=0.037, METEOR=0.592, BertScore=nan, StubScore=0]"
     ]
    },
    {
     "name": "stdout",
     "output_type": "stream",
     "text": [
      "answer raw len:  31 1\n",
      "True\n",
      "Дэвид Боуи сыграл короля гоблинов Джарета в фильме \"Лабиринт\", который был снят Джимом Хенсоном в 1986 году.\n",
      "Дэвид Боуи снялся в роли короля гоблинов Джарета в фильме Лабиринт.\n",
      "[0, 0, 0, 0, 0]\n"
     ]
    },
    {
     "name": "stderr",
     "output_type": "stream",
     "text": [
      "33it [01:35,  2.28s/it, BLEU2=0.352, BLEU1=0.426, ExactMatch=0.0357, METEOR=0.605, BertScore=nan, StubScore=0]"
     ]
    },
    {
     "name": "stdout",
     "output_type": "stream",
     "text": [
      "answer raw len:  32 1\n",
      "True\n",
      "Фильм Мартина Скорсезе \"Последнее искушение Христа\" вышел в 1988 году.\n",
      "Фильм Мартина Скорсезе Последнее искушение Христа вышел в 1988 году.\n",
      "[0, 0, 0, 0, 0]\n"
     ]
    },
    {
     "name": "stderr",
     "output_type": "stream",
     "text": [
      "34it [01:38,  2.55s/it, BLEU2=0.355, BLEU1=0.43, ExactMatch=0.0345, METEOR=0.617, BertScore=nan, StubScore=0] "
     ]
    },
    {
     "name": "stdout",
     "output_type": "stream",
     "text": [
      "answer raw len:  33 1\n",
      "True\n",
      "Дэвид Боуи сыграл Понтия Пилата в фильме Мартина Скорсезе \"Последнее искушение Христа\" в 1988 году.\n",
      "В фильме Мартина Скорсезе Последнее искушение Христа Дэвид Боуи сыграл Понтия Пилата.\n",
      "[0, 0, 0, 0, 0]\n"
     ]
    },
    {
     "name": "stderr",
     "output_type": "stream",
     "text": [
      "35it [01:43,  3.23s/it, BLEU2=0.361, BLEU1=0.435, ExactMatch=0.0333, METEOR=0.62, BertScore=nan, StubScore=0]"
     ]
    },
    {
     "name": "stdout",
     "output_type": "stream",
     "text": [
      "answer raw len:  34 1\n",
      "True\n",
      "Дэвид Боуи рассматривался на роль Джокера в фильме Тима Бертона и Сэма Хэмма \"Бэтмен\" в 1989 году. Однако роль в итоге досталась Джеку Николсону.\n",
      "Дэвида Боуи рассматривали на роль Джокера в фильме Тима Бёртона и Сэма Хэмма \"Бэтмен\" в 1989 году.\n",
      "[0, 0, 0, 0, 0]\n"
     ]
    },
    {
     "name": "stderr",
     "output_type": "stream",
     "text": [
      "36it [01:45,  2.78s/it, BLEU2=0.361, BLEU1=0.436, ExactMatch=0.0323, METEOR=0.622, BertScore=nan, StubScore=0]"
     ]
    },
    {
     "name": "stdout",
     "output_type": "stream",
     "text": [
      "answer raw len:  35 1\n",
      "True\n",
      "Самым совершенным произведением Вергилия по чистоте и поэтической завершенности является \"Георгики\".\n",
      "Георгики считаются самым совершенным по чистоте и поэтической законченности стиха произведением.\n",
      "[0, 0, 0, 0, 0]\n"
     ]
    },
    {
     "name": "stderr",
     "output_type": "stream",
     "text": [
      "37it [01:46,  2.15s/it, BLEU2=0.35, BLEU1=0.422, ExactMatch=0.0312, METEOR=0.605, BertScore=nan, StubScore=0] "
     ]
    },
    {
     "name": "stdout",
     "output_type": "stream",
     "text": [
      "answer raw len:  36 1\n",
      "True\n",
      "У меня нет ответа на ваш вопрос.\n",
      "Георгики служат протестом против республики атеизма.\n",
      "[0, 0, 0, 0, 0]\n"
     ]
    },
    {
     "name": "stderr",
     "output_type": "stream",
     "text": [
      "38it [01:47,  1.91s/it, BLEU2=0.344, BLEU1=0.414, ExactMatch=0.0303, METEOR=0.595, BertScore=nan, StubScore=0]"
     ]
    },
    {
     "name": "stdout",
     "output_type": "stream",
     "text": [
      "answer raw len:  37 1\n",
      "True\n",
      "Поэт часто сравнивает детали сельскохозяйственной жизни с военной жизнью.\n",
      "Земледелие в глазах Вергилия - святая война людей против земли, и он часто сравнивает подробности земледельческого быта с военной жизнью.\n",
      "[0, 0, 0, 0, 0]\n"
     ]
    },
    {
     "name": "stderr",
     "output_type": "stream",
     "text": [
      "39it [01:48,  1.78s/it, BLEU2=0.333, BLEU1=0.406, ExactMatch=0.0294, METEOR=0.583, BertScore=nan, StubScore=0]"
     ]
    },
    {
     "name": "stdout",
     "output_type": "stream",
     "text": [
      "answer raw len:  38 1\n",
      "True\n",
      "Персонаж Вергилия наиболее ярко проявился в \"Георгиках\".\n",
      "Характер поэта глубже всего отразился в Георгиках.\n",
      "[0, 0, 0, 0, 0]\n"
     ]
    },
    {
     "name": "stderr",
     "output_type": "stream",
     "text": [
      "40it [01:50,  1.64s/it, BLEU2=0.337, BLEU1=0.41, ExactMatch=0.0286, METEOR=0.586, BertScore=nan, StubScore=0] "
     ]
    },
    {
     "name": "stdout",
     "output_type": "stream",
     "text": [
      "answer raw len:  39 1\n",
      "True\n",
      "В глазах Вергилия, земляделие - это священная война людей против земли.\n",
      "Земледелие, в глазах Вергилия, есть святая война людей против земли.\n",
      "[0, 0, 0, 0, 0]\n",
      "answer raw len:  40 1\n"
     ]
    },
    {
     "name": "stderr",
     "output_type": "stream",
     "text": [
      "41it [01:52,  1.71s/it, BLEU2=0.337, BLEU1=0.41, ExactMatch=0.0286, METEOR=0.586, BertScore=nan, StubScore=0.167]"
     ]
    },
    {
     "name": "stdout",
     "output_type": "stream",
     "text": [
      "sim raw len:  1\n",
      "False\n",
      "У меня нет ответа на ваш вопрос.\n",
      "А.Ф. Самойлов ввел понятие \"власть воли\".\n",
      "[0, 0, 0, 0, 0, 1]\n"
     ]
    },
    {
     "name": "stderr",
     "output_type": "stream",
     "text": [
      "42it [01:52,  1.37s/it, BLEU2=0.328, BLEU1=0.399, ExactMatch=0.0278, METEOR=0.571, BertScore=nan, StubScore=0.167]"
     ]
    },
    {
     "name": "stdout",
     "output_type": "stream",
     "text": [
      "answer raw len:  41 1\n",
      "True\n",
      "У меня нет ответа на ваш вопрос.\n",
      "Состояние комы означает резкое ограничение параметров жизни или даже отсутствие жизни.\n",
      "[0, 0, 0, 0, 0, 1]\n"
     ]
    },
    {
     "name": "stderr",
     "output_type": "stream",
     "text": [
      "43it [01:57,  2.39s/it, BLEU2=0.324, BLEU1=0.395, ExactMatch=0.027, METEOR=0.571, BertScore=nan, StubScore=0.167] "
     ]
    },
    {
     "name": "stdout",
     "output_type": "stream",
     "text": [
      "answer raw len:  42 1\n",
      "True\n",
      "Жизнь - это замкнутый круг рефлекторной деятельности. Разрыв этого круга в любом месте (состояние комы) означает резкое ограничение параметров жизни или даже отсутствие жизни. Причины, от которых зависит жизнь, включают состояние внешней среды, власть воли индивидуума и внутренние вегетативные начала организма, неподвластные власти воли.\n",
      "Причинами, от которых зависит жизнь, являются: состояние внешней среды, власти воли индивидуума, внутренних вегетативных начал организма, неподвластных власти воли.\n",
      "[0, 0, 0, 0, 0, 1]\n"
     ]
    },
    {
     "name": "stderr",
     "output_type": "stream",
     "text": [
      "44it [02:01,  2.92s/it, BLEU2=0.317, BLEU1=0.386, ExactMatch=0.0263, METEOR=0.56, BertScore=nan, StubScore=0.167]"
     ]
    },
    {
     "name": "stdout",
     "output_type": "stream",
     "text": [
      "answer raw len:  43 1\n",
      "True\n",
      "Жизнь - это активная форма существования материи, характеризующаяся различными процессами, происходящими в клетке, такими как обмен веществ и деление. Это совокупность физических и химических процессов, которые позволяют живым организмам приспосабливаться к окружающей среде и формировать разнообразие живых существ. Основной атрибут живой материи - это генетическая информация, используемая для репликации.\n",
      "Жизнь - это замкнутый круг рефлекторной деятельности, который зависит от состояния внешней среды, власти воли индивидуума, внутренних вегетативных начал организма, неподвластных власти воли.\n",
      "[0, 0, 0, 0, 0, 1]\n",
      "answer raw len:  44 1\n"
     ]
    },
    {
     "name": "stderr",
     "output_type": "stream",
     "text": [
      "45it [02:03,  2.60s/it, BLEU2=0.317, BLEU1=0.386, ExactMatch=0.0263, METEOR=0.56, BertScore=nan, StubScore=0.286]"
     ]
    },
    {
     "name": "stdout",
     "output_type": "stream",
     "text": [
      "sim raw len:  1\n",
      "False\n",
      "У меня нет ответа на ваш вопрос.\n",
      "Уолтера Кёнига не пригласили для озвучивания персонажа в фильме.\n",
      "[0, 0, 0, 0, 0, 1, 1]\n"
     ]
    },
    {
     "name": "stderr",
     "output_type": "stream",
     "text": [
      "46it [02:07,  3.06s/it, BLEU2=0.314, BLEU1=0.383, ExactMatch=0.0256, METEOR=0.564, BertScore=nan, StubScore=0.286]"
     ]
    },
    {
     "name": "stdout",
     "output_type": "stream",
     "text": [
      "answer raw len:  45 1\n",
      "True\n",
      "Звёздный путь: Анимационный сериал (Star Trek: The Animated Series) - это анимационный сериал, созданный Filmation, вдохновленный Оригинальным сериалом Звёздного пути и включающий два сезона, состоящий из 22 эпизодов.\n",
      "На английском Звёздный путь: Анимационный сериал звучит Star Trek: The Animated Series.\n",
      "[0, 0, 0, 0, 0, 1, 1]\n",
      "answer raw len:  46 1\n"
     ]
    },
    {
     "name": "stderr",
     "output_type": "stream",
     "text": [
      "47it [02:15,  4.62s/it, BLEU2=0.314, BLEU1=0.383, ExactMatch=0.0256, METEOR=0.564, BertScore=nan, StubScore=0.25] "
     ]
    },
    {
     "name": "stdout",
     "output_type": "stream",
     "text": [
      "sim raw len:  1\n",
      "False\n",
      "В тексте не упоминается конкретный сценарий, над которым работали люди. Однако в тексте говорится о работе братьев Люмьер над киносъёмкой и их аппарате \"Синематограф\". Они работали вместе со своим братом Огюстом и инженером Жюлем Карпантье, который сконструировал первый проекционный аппарат для демонстрации их фильмов.\n",
      "Известные зарубежные фантасты того времени были подключены к работе над сценарием.\n",
      "[0, 0, 0, 0, 0, 1, 1, 0]\n"
     ]
    },
    {
     "name": "stderr",
     "output_type": "stream",
     "text": [
      "48it [02:18,  4.12s/it, BLEU2=0.311, BLEU1=0.378, ExactMatch=0.025, METEOR=0.565, BertScore=nan, StubScore=0.25] "
     ]
    },
    {
     "name": "stdout",
     "output_type": "stream",
     "text": [
      "answer raw len:  47 1\n",
      "True\n",
      "Звёздный путь: Анимационный сериал был создан на основе оригинального сериала Звёздного пути и включал в себя двухсезонный анимационный фильм, состоящий из 22 эпизодов.\n",
      "Звёздный путь: Анимационный сериал создан по мотивам Оригинального сериала.\n",
      "[0, 0, 0, 0, 0, 1, 1, 0]\n"
     ]
    },
    {
     "name": "stderr",
     "output_type": "stream",
     "text": [
      "49it [02:19,  3.21s/it, BLEU2=0.313, BLEU1=0.38, ExactMatch=0.0244, METEOR=0.564, BertScore=nan, StubScore=0.25]"
     ]
    },
    {
     "name": "stdout",
     "output_type": "stream",
     "text": [
      "answer raw len:  48 1\n",
      "True\n",
      "Звёздный путь: Анимационный сериал состоит из двух сезонов.\n",
      "Звёздный путь: Анимационный сериал включает в себя два сезона.\n",
      "[0, 0, 0, 0, 0, 1, 1, 0]\n"
     ]
    },
    {
     "name": "stderr",
     "output_type": "stream",
     "text": [
      "50it [02:21,  2.60s/it, BLEU2=0.319, BLEU1=0.385, ExactMatch=0.0238, METEOR=0.568, BertScore=nan, StubScore=0.25]"
     ]
    },
    {
     "name": "stdout",
     "output_type": "stream",
     "text": [
      "answer raw len:  49 1\n",
      "True\n",
      "Имя звездолета исследовательской миссии в Star Trek: Phase II - USS Enterprise.\n",
      "Звездолет исследовательской миссии в Star Trek: Phase II называется Энтерпрайз.\n",
      "[0, 0, 0, 0, 0, 1, 1, 0]\n"
     ]
    },
    {
     "name": "stderr",
     "output_type": "stream",
     "text": [
      "51it [02:22,  2.15s/it, BLEU2=0.321, BLEU1=0.387, ExactMatch=0.0233, METEOR=0.572, BertScore=nan, StubScore=0.25]"
     ]
    },
    {
     "name": "stdout",
     "output_type": "stream",
     "text": [
      "answer raw len:  50 1\n",
      "True\n",
      "Компания Paramount Television Network задумала Star Trek: Phase II.\n",
      "Star Trek: Phase II был задуман компанией Paramount Television Network.\n",
      "[0, 0, 0, 0, 0, 1, 1, 0]\n"
     ]
    },
    {
     "name": "stderr",
     "output_type": "stream",
     "text": [
      "52it [02:24,  2.27s/it, BLEU2=0.32, BLEU1=0.385, ExactMatch=0.0227, METEOR=0.575, BertScore=nan, StubScore=0.25] "
     ]
    },
    {
     "name": "stdout",
     "output_type": "stream",
     "text": [
      "answer raw len:  51 1\n",
      "True\n",
      "Фаза 2 должна была стать продолжением оригинального сериала \"Звёздный путь\" и рассказать о ещё одной пятилетней исследовательской миссии корабля \"Энтерпрайз\".\n",
      "Согласно сценарию, Фаза 2 должна была стать продолжением Оригинального сериала.\n",
      "[0, 0, 0, 0, 0, 1, 1, 0]\n"
     ]
    },
    {
     "name": "stderr",
     "output_type": "stream",
     "text": [
      "53it [02:26,  2.09s/it, BLEU2=0.324, BLEU1=0.391, ExactMatch=0.0222, METEOR=0.583, BertScore=nan, StubScore=0.25]"
     ]
    },
    {
     "name": "stdout",
     "output_type": "stream",
     "text": [
      "answer raw len:  52 1\n",
      "True\n",
      "В 1978 году был готов сценарий для 12 эпизодов Star Trek: Phase II.\n",
      "Сценарий 12 эпизодов Star Trek: Phase II был готов в 1978 году.\n",
      "[0, 0, 0, 0, 0, 1, 1, 0]\n"
     ]
    },
    {
     "name": "stderr",
     "output_type": "stream",
     "text": [
      "54it [02:27,  1.94s/it, BLEU2=0.317, BLEU1=0.384, ExactMatch=0.0217, METEOR=0.58, BertScore=nan, StubScore=0.25] "
     ]
    },
    {
     "name": "stdout",
     "output_type": "stream",
     "text": [
      "answer raw len:  53 1\n",
      "True\n",
      "Листья чая, цветки зверобоя и шафран используются для окрашивания меда.\n",
      "Для окрашивания искусственного мёда.\n",
      "[0, 0, 0, 0, 0, 1, 1, 0]\n"
     ]
    },
    {
     "name": "stderr",
     "output_type": "stream",
     "text": [
      "55it [02:29,  1.90s/it, BLEU2=0.317, BLEU1=0.385, ExactMatch=0.0213, METEOR=0.581, BertScore=nan, StubScore=0.25]"
     ]
    },
    {
     "name": "stdout",
     "output_type": "stream",
     "text": [
      "answer raw len:  54 1\n",
      "True\n",
      "Искусственный мед также может быть произведен из сока арбуза, дыни и других сахаросодержащих веществ.\n",
      "Ещё искусственный мёд производят из сока арбузов, дыни и других сахаристых веществ.\n",
      "[0, 0, 0, 0, 0, 1, 1, 0]\n"
     ]
    },
    {
     "name": "stderr",
     "output_type": "stream",
     "text": [
      "56it [02:32,  2.08s/it, BLEU2=0.324, BLEU1=0.392, ExactMatch=0.0208, METEOR=0.587, BertScore=nan, StubScore=0.25]"
     ]
    },
    {
     "name": "stdout",
     "output_type": "stream",
     "text": [
      "answer raw len:  55 1\n",
      "True\n",
      "При добавлении небольшого количества натурального пчелиного мёда к искусственному мёду, он будет иметь слабый аромат и содержать небольшое количество ферментов.\n",
      "При добавлении натурального пчелиного мёда искусственный мёд будет иметь слабый аромат и содержать небольшое количество ферментов.\n",
      "[0, 0, 0, 0, 0, 1, 1, 0]\n"
     ]
    },
    {
     "name": "stderr",
     "output_type": "stream",
     "text": [
      "57it [02:38,  3.44s/it, BLEU2=0.319, BLEU1=0.386, ExactMatch=0.0204, METEOR=0.583, BertScore=nan, StubScore=0.25]"
     ]
    },
    {
     "name": "stdout",
     "output_type": "stream",
     "text": [
      "answer raw len:  56 1\n",
      "True\n",
      "Искусственный мёд производится через процесс, называемый инверсией сахарозы. Этот процесс включает в себя инвертирование сахарозы, которая является сахаром, содержащимся в сахарной свекле или тростнике, в глюкозу и фруктозу. Инверсия выполняется в слабокислой среде, обычно с добавлением лимонной кислоты и других добавок. После инвертирования сахарозы её можно использовать для производства искусственного мёда.\n",
      "При помощи инверсии сахарозы в слабокислой среде (добавки лимонной кислоты и пр.).\n",
      "[0, 0, 0, 0, 0, 1, 1, 0]\n"
     ]
    },
    {
     "name": "stderr",
     "output_type": "stream",
     "text": [
      "58it [02:40,  2.92s/it, BLEU2=0.324, BLEU1=0.391, ExactMatch=0.02, METEOR=0.586, BertScore=nan, StubScore=0.25]  "
     ]
    },
    {
     "name": "stdout",
     "output_type": "stream",
     "text": [
      "answer raw len:  57 1\n",
      "True\n",
      "Искусственный мёд не содержит ферментов и не обладает ароматом, характерным для натурального мёда.\n",
      "Искусственный мёд не имеет ферментов и не обладает ароматом, свойственным натуральному.\n",
      "[0, 0, 0, 0, 0, 1, 1, 0]\n"
     ]
    },
    {
     "name": "stderr",
     "output_type": "stream",
     "text": [
      "59it [02:44,  3.09s/it, BLEU2=0.323, BLEU1=0.39, ExactMatch=0.0196, METEOR=0.588, BertScore=nan, StubScore=0.25]"
     ]
    },
    {
     "name": "stdout",
     "output_type": "stream",
     "text": [
      "answer raw len:  58 1\n",
      "True\n",
      "История Рима, опубликованная в трех томах в 1854, 1855 и 1856 годах, описывает историю Рима до падения республики и начала правления Юлия Цезаря.\n",
      "В Истории Рима описана римская история до падения республики и начала правления Юлия Цезаря ?\n",
      "[0, 0, 0, 0, 0, 1, 1, 0]\n"
     ]
    },
    {
     "name": "stderr",
     "output_type": "stream",
     "text": [
      "60it [02:46,  2.83s/it, BLEU2=0.321, BLEU1=0.388, ExactMatch=0.0192, METEOR=0.587, BertScore=nan, StubScore=0.25]"
     ]
    },
    {
     "name": "stdout",
     "output_type": "stream",
     "text": [
      "answer raw len:  59 1\n",
      "True\n",
      "[72.455] История Рима была опубликована в трех томах в 1854, 1855 и 1856 годах.\n",
      "История Рима опубликована в четырёх томах.\n",
      "[0, 0, 0, 0, 0, 1, 1, 0]\n",
      "answer raw len:  60 1\n"
     ]
    },
    {
     "name": "stderr",
     "output_type": "stream",
     "text": [
      "61it [02:48,  2.55s/it, BLEU2=0.321, BLEU1=0.388, ExactMatch=0.0192, METEOR=0.587, BertScore=nan, StubScore=0.333]"
     ]
    },
    {
     "name": "stdout",
     "output_type": "stream",
     "text": [
      "sim raw len:  1\n",
      "False\n",
      "У меня нет ответа на ваш вопрос.\n",
      "Моммзен очень уважал Цезаря.\n",
      "[0, 0, 0, 0, 0, 1, 1, 0, 1]\n"
     ]
    },
    {
     "name": "stderr",
     "output_type": "stream",
     "text": [
      "62it [02:49,  2.10s/it, BLEU2=0.334, BLEU1=0.399, ExactMatch=0.0377, METEOR=0.594, BertScore=nan, StubScore=0.333]"
     ]
    },
    {
     "name": "stdout",
     "output_type": "stream",
     "text": [
      "answer raw len:  61 1\n",
      "True\n",
      "Моммзен сравнил политику Древнего Рима с состоянием государства в его время.\n",
      "Моммзен сравнил политику Древнего Рима с состоянием государства в его время.\n",
      "[0, 0, 0, 0, 0, 1, 1, 0, 1]\n"
     ]
    },
    {
     "name": "stderr",
     "output_type": "stream",
     "text": [
      "63it [02:50,  1.93s/it, BLEU2=0.342, BLEU1=0.408, ExactMatch=0.037, METEOR=0.6, BertScore=nan, StubScore=0.333]   "
     ]
    },
    {
     "name": "stdout",
     "output_type": "stream",
     "text": [
      "answer raw len:  62 1\n",
      "True\n",
      "В пятом томе истории Рима Моммзена описывались римские провинции во времена ранней империи.\n",
      "В пятом томе Истории Рима Моммзена описывались римские провинции во время ранней империи.\n",
      "[0, 0, 0, 0, 0, 1, 1, 0, 1]\n"
     ]
    },
    {
     "name": "stderr",
     "output_type": "stream",
     "text": [
      "64it [02:52,  1.84s/it, BLEU2=0.339, BLEU1=0.404, ExactMatch=0.0364, METEOR=0.604, BertScore=nan, StubScore=0.333]"
     ]
    },
    {
     "name": "stdout",
     "output_type": "stream",
     "text": [
      "answer raw len:  63 1\n",
      "True\n",
      "Один из анилина, который давал синевато-красный оттенок, - фуксин.\n",
      "Фуксин давал синевато-красный оттенок.\n",
      "[0, 0, 0, 0, 0, 1, 1, 0, 1]\n"
     ]
    },
    {
     "name": "stderr",
     "output_type": "stream",
     "text": [
      "You seem to be using the pipelines sequentially on GPU. In order to maximize efficiency please use a dataset\n"
     ]
    },
    {
     "name": "stdout",
     "output_type": "stream",
     "text": [
      "answer raw len:  64 1\n"
     ]
    },
    {
     "name": "stderr",
     "output_type": "stream",
     "text": [
      "65it [02:56,  2.46s/it, BLEU2=0.339, BLEU1=0.404, ExactMatch=0.0364, METEOR=0.604, BertScore=nan, StubScore=0.3]  "
     ]
    },
    {
     "name": "stdout",
     "output_type": "stream",
     "text": [
      "sim raw len:  1\n",
      "False\n",
      "Ультрамарин - это пигмент, который был синтезирован в 13 веке.\n",
      "В Средние века был синтезирован ультрамарин.\n",
      "[0, 0, 0, 0, 0, 1, 1, 0, 1, 0]\n",
      "answer raw len:  65 1\n"
     ]
    },
    {
     "name": "stderr",
     "output_type": "stream",
     "text": [
      "66it [02:58,  2.31s/it, BLEU2=0.339, BLEU1=0.404, ExactMatch=0.0364, METEOR=0.604, BertScore=nan, StubScore=0.364]"
     ]
    },
    {
     "name": "stdout",
     "output_type": "stream",
     "text": [
      "sim raw len:  1\n",
      "False\n",
      "У меня нет ответа на ваш вопрос.\n",
      "Натуральное индиго было привезено из Америки.\n",
      "[0, 0, 0, 0, 0, 1, 1, 0, 1, 0, 1]\n"
     ]
    },
    {
     "name": "stderr",
     "output_type": "stream",
     "text": [
      "67it [03:00,  2.34s/it, BLEU2=0.344, BLEU1=0.41, ExactMatch=0.0357, METEOR=0.611, BertScore=nan, StubScore=0.364] "
     ]
    },
    {
     "name": "stdout",
     "output_type": "stream",
     "text": [
      "answer raw len:  66 1\n",
      "True\n",
      "В конце XIX века, после появления анилиновых красителей, живописная палитра обогатилась несколькими синими красителями.\n",
      "После появления анилиновых красителей в конце XIX века живописная палитра обогатилась несколькими синими красителями.\n",
      "[0, 0, 0, 0, 0, 1, 1, 0, 1, 0, 1]\n"
     ]
    },
    {
     "name": "stderr",
     "output_type": "stream",
     "text": [
      "68it [03:01,  2.01s/it, BLEU2=0.344, BLEU1=0.41, ExactMatch=0.0351, METEOR=0.615, BertScore=nan, StubScore=0.364]"
     ]
    },
    {
     "name": "stdout",
     "output_type": "stream",
     "text": [
      "answer raw len:  67 1\n",
      "True\n",
      "Практически единственным природным синим пигментом была ляпис-лазурь.\n",
      "Ляпис-лазурь являлась практически единственным природным синим пигментом.\n",
      "[0, 0, 0, 0, 0, 1, 1, 0, 1, 0, 1]\n"
     ]
    },
    {
     "name": "stderr",
     "output_type": "stream",
     "text": [
      "69it [03:03,  1.91s/it, BLEU2=0.341, BLEU1=0.407, ExactMatch=0.0345, METEOR=0.61, BertScore=nan, StubScore=0.364]"
     ]
    },
    {
     "name": "stdout",
     "output_type": "stream",
     "text": [
      "answer raw len:  68 1\n",
      "True\n",
      "На северо-восточном углу кладбища в Клайпеде сохранились несколько надгробий с железных крестов.\n",
      "В северо-восточном углу клайпедского кладбища уцелели могилы немцев и мемелендеров.\n",
      "[0, 0, 0, 0, 0, 1, 1, 0, 1, 0, 1]\n"
     ]
    },
    {
     "name": "stderr",
     "output_type": "stream",
     "text": [
      "70it [03:06,  2.30s/it, BLEU2=0.343, BLEU1=0.409, ExactMatch=0.0339, METEOR=0.613, BertScore=nan, StubScore=0.364]"
     ]
    },
    {
     "name": "stdout",
     "output_type": "stream",
     "text": [
      "answer raw len:  69 1\n",
      "True\n",
      "Уникальные железные кресты, которые были украдены мародерами с разрушенного кладбища, были возвращены государству после обретения независимости и сейчас находятся в Музее кузнечного дела.\n",
      "Уникальные железные кресты, которые были вынесены мародерами с разрушенного кладбища, находятся в Музее кузнечных изделий.\n",
      "[0, 0, 0, 0, 0, 1, 1, 0, 1, 0, 1]\n"
     ]
    },
    {
     "name": "stderr",
     "output_type": "stream",
     "text": [
      "71it [03:08,  2.20s/it, BLEU2=0.337, BLEU1=0.408, ExactMatch=0.0333, METEOR=0.614, BertScore=nan, StubScore=0.364]"
     ]
    },
    {
     "name": "stdout",
     "output_type": "stream",
     "text": [
      "answer raw len:  70 1\n",
      "True\n",
      "До 1977 года на одном из кладбищ в Клайпеде хоронили немцев и мемеленцев.\n",
      "Немцев и мемелендеров хоронили на кладбищах до 1977 года.\n",
      "[0, 0, 0, 0, 0, 1, 1, 0, 1, 0, 1]\n"
     ]
    },
    {
     "name": "stderr",
     "output_type": "stream",
     "text": [
      "72it [03:09,  1.78s/it, BLEU2=0.332, BLEU1=0.401, ExactMatch=0.0328, METEOR=0.604, BertScore=nan, StubScore=0.364]"
     ]
    },
    {
     "name": "stdout",
     "output_type": "stream",
     "text": [
      "answer raw len:  71 1\n",
      "True\n",
      "У меня нет ответа на ваш вопрос.\n",
      "За отсутствием средств властям Клайпеды сегодня не удается восстановить разрушенное кладбище.\n",
      "[0, 0, 0, 0, 0, 1, 1, 0, 1, 0, 1]\n",
      "answer raw len:  72 1\n"
     ]
    },
    {
     "name": "stderr",
     "output_type": "stream",
     "text": [
      "73it [03:17,  3.57s/it, BLEU2=0.332, BLEU1=0.401, ExactMatch=0.0328, METEOR=0.604, BertScore=nan, StubScore=0.333]"
     ]
    },
    {
     "name": "stdout",
     "output_type": "stream",
     "text": [
      "sim raw len:  1\n",
      "False\n",
      "В предоставленном тексте не упоминаются конкретные музыканты, которые сформировали английский рок. Однако в нем упоминаются группы, такие как Led Zeppelin, Deep Purple, Black Sabbath и другие, которые внесли свой вклад в развитие хард-рока, поджанра рок-музыки.\n",
      "Клифф Ричард, Лонни Донеган, Джонни Кидд сформировали английский рок.\n",
      "[0, 0, 0, 0, 0, 1, 1, 0, 1, 0, 1, 0]\n"
     ]
    },
    {
     "name": "stderr",
     "output_type": "stream",
     "text": [
      "74it [03:17,  2.65s/it, BLEU2=0.326, BLEU1=0.397, ExactMatch=0.0323, METEOR=0.601, BertScore=nan, StubScore=0.333]"
     ]
    },
    {
     "name": "stdout",
     "output_type": "stream",
     "text": [
      "answer raw len:  73 1\n",
      "True\n",
      "Машина Времени\n",
      "Группа называется Машина времени.\n",
      "[0, 0, 0, 0, 0, 1, 1, 0, 1, 0, 1, 0]\n",
      "answer raw len:  74 1\n"
     ]
    },
    {
     "name": "stderr",
     "output_type": "stream",
     "text": [
      "75it [03:19,  2.45s/it, BLEU2=0.326, BLEU1=0.397, ExactMatch=0.0323, METEOR=0.601, BertScore=nan, StubScore=0.385]"
     ]
    },
    {
     "name": "stdout",
     "output_type": "stream",
     "text": [
      "sim raw len:  1\n",
      "False\n",
      "У меня нет ответа на ваш вопрос.\n",
      "Машина времени дала начало настоящему русскому року.\n",
      "[0, 0, 0, 0, 0, 1, 1, 0, 1, 0, 1, 0, 1]\n",
      "answer raw len:  75 1\n"
     ]
    },
    {
     "name": "stderr",
     "output_type": "stream",
     "text": [
      "76it [03:27,  4.06s/it, BLEU2=0.326, BLEU1=0.397, ExactMatch=0.0323, METEOR=0.601, BertScore=nan, StubScore=0.357]"
     ]
    },
    {
     "name": "stdout",
     "output_type": "stream",
     "text": [
      "sim raw len:  1\n",
      "False\n",
      "Машина времени смогла найти и ухватить успех и популярность в период с 1976 по 1986 год. Они стали лауреатами фестиваля Таллинские песни молодежи в 1976 году и начали гастролировать в Ленинграде благодаря знакомству с Борисом Гребенщиковым.\n",
      "Темой или пафосом русского рока стало то, что удалось найти, ухватить Машине времени.\n",
      "[0, 0, 0, 0, 0, 1, 1, 0, 1, 0, 1, 0, 1, 0]\n"
     ]
    },
    {
     "name": "stderr",
     "output_type": "stream",
     "text": [
      "77it [03:34,  5.00s/it, BLEU2=0.324, BLEU1=0.395, ExactMatch=0.0317, METEOR=0.601, BertScore=nan, StubScore=0.357]"
     ]
    },
    {
     "name": "stdout",
     "output_type": "stream",
     "text": [
      "answer raw len:  76 1\n",
      "True\n",
      "Рокеры в Москве, России и Прибалтике в СССР до Машины Времени занимались в основном эпигонством, то есть они пытались копировать и подражать звучанию и стилю известных групп, таких как The Beatles и Rolling Stones. Они не смогли найти тему или пафос русского рока, которые позже определила Машина Времени, ставшая уникальной группой в отечественной рок-музыке.\n",
      "Рокеры в Москве, и в России, и в Прибалтике в СССР до Машины времени занимались более или менее эпигонством.\n",
      "[0, 0, 0, 0, 0, 1, 1, 0, 1, 0, 1, 0, 1, 0]\n"
     ]
    },
    {
     "name": "stderr",
     "output_type": "stream",
     "text": [
      "78it [03:38,  4.76s/it, BLEU2=0.321, BLEU1=0.392, ExactMatch=0.0312, METEOR=0.603, BertScore=nan, StubScore=0.357]"
     ]
    },
    {
     "name": "stdout",
     "output_type": "stream",
     "text": [
      "answer raw len:  77 1\n",
      "True\n",
      "У Микеланджело была круглая голова с квадратным лбом, морщинистой кожей, сильно выступающими бровями и черными, довольно редкими волосами, которые слегка завивались.\n",
      "У Микеланджело была круглая голова.\n",
      "[0, 0, 0, 0, 0, 1, 1, 0, 1, 0, 1, 0, 1, 0]\n"
     ]
    },
    {
     "name": "stderr",
     "output_type": "stream",
     "text": [
      "79it [03:41,  4.02s/it, BLEU2=0.321, BLEU1=0.391, ExactMatch=0.0308, METEOR=0.604, BertScore=nan, StubScore=0.357]"
     ]
    },
    {
     "name": "stdout",
     "output_type": "stream",
     "text": [
      "answer raw len:  78 1\n",
      "True\n",
      "У Микеланджело были тонкие бакенбарды и раздвоенная, негустая бородка.\n",
      "У Микеланджело были жиденькие бакенбарды.\n",
      "[0, 0, 0, 0, 0, 1, 1, 0, 1, 0, 1, 0, 1, 0]\n"
     ]
    },
    {
     "name": "stderr",
     "output_type": "stream",
     "text": [
      "80it [03:43,  3.49s/it, BLEU2=0.319, BLEU1=0.39, ExactMatch=0.0303, METEOR=0.604, BertScore=nan, StubScore=0.357] "
     ]
    },
    {
     "name": "stdout",
     "output_type": "stream",
     "text": [
      "answer raw len:  79 1\n",
      "True\n",
      "У Микеланджело были светло-карие глаза, усеянные желтыми и голубыми пятнами.\n",
      "Желтыми и голубыми крапинками были усеяны глаза Микеланджело.\n",
      "[0, 0, 0, 0, 0, 1, 1, 0, 1, 0, 1, 0, 1, 0]\n"
     ]
    },
    {
     "name": "stderr",
     "output_type": "stream",
     "text": [
      "81it [03:46,  3.23s/it, BLEU2=0.322, BLEU1=0.393, ExactMatch=0.0299, METEOR=0.607, BertScore=nan, StubScore=0.357]"
     ]
    },
    {
     "name": "stdout",
     "output_type": "stream",
     "text": [
      "answer raw len:  80 1\n",
      "True\n",
      "У Микеланджело были светло-карие глаза, которые постоянно меняли цвет, с желтыми и голубыми пятнами.\n",
      "У Микеланджело были светло-карие глаза, усеянные желтыми и голубыми крапинками.\n",
      "[0, 0, 0, 0, 0, 1, 1, 0, 1, 0, 1, 0, 1, 0]\n"
     ]
    },
    {
     "name": "stderr",
     "output_type": "stream",
     "text": [
      "82it [03:48,  2.87s/it, BLEU2=0.321, BLEU1=0.391, ExactMatch=0.0294, METEOR=0.609, BertScore=nan, StubScore=0.357]"
     ]
    },
    {
     "name": "stdout",
     "output_type": "stream",
     "text": [
      "answer raw len:  81 1\n",
      "True\n",
      "Цвет глаз Микеланджело постоянно менялся, с желтыми и голубыми пятнами.\n",
      "Цвет глаз Микеланджело менялся постоянно.\n",
      "[0, 0, 0, 0, 0, 1, 1, 0, 1, 0, 1, 0, 1, 0]\n"
     ]
    },
    {
     "name": "stderr",
     "output_type": "stream",
     "text": [
      "83it [03:52,  3.16s/it, BLEU2=0.316, BLEU1=0.385, ExactMatch=0.029, METEOR=0.602, BertScore=nan, StubScore=0.357] "
     ]
    },
    {
     "name": "stdout",
     "output_type": "stream",
     "text": [
      "answer raw len:  82 1\n",
      "True\n",
      "Ранние композиции \"Машины\" имели хорошо проработанную аранжировку, включающую различные музыкальные элементы, такие как рок, кантри, городские романсы и традиционная эстрада.\n",
      "Оформленная аранжировка была найдена в ранних композициях „Машины“.\n",
      "[0, 0, 0, 0, 0, 1, 1, 0, 1, 0, 1, 0, 1, 0]\n"
     ]
    },
    {
     "name": "stderr",
     "output_type": "stream",
     "text": [
      "84it [03:58,  4.04s/it, BLEU2=0.312, BLEU1=0.381, ExactMatch=0.0286, METEOR=0.597, BertScore=nan, StubScore=0.357]"
     ]
    },
    {
     "name": "stdout",
     "output_type": "stream",
     "text": [
      "answer raw len:  83 1\n",
      "True\n",
      "Ранние композиции \"Машины\" были оформлены как готовые изделия, с полностью оформленной аранжировкой, взаимодействием куплетов и профессиональной вокальной подачей. Они включали в себя элементы кантри, блюз-рока и фолка, с расстроенным банджо и меланхоличными балладами.\n",
      "Ранние композиции „Машины“ были готовым продуктом.\n",
      "[0, 0, 0, 0, 0, 1, 1, 0, 1, 0, 1, 0, 1, 0]\n"
     ]
    },
    {
     "name": "stderr",
     "output_type": "stream",
     "text": [
      "85it [04:01,  3.79s/it, BLEU2=0.31, BLEU1=0.378, ExactMatch=0.0282, METEOR=0.594, BertScore=nan, StubScore=0.357] "
     ]
    },
    {
     "name": "stdout",
     "output_type": "stream",
     "text": [
      "answer raw len:  84 1\n",
      "True\n",
      "Ранние вещицы \"Машины\" выглядели как полностью оформленные произведения, с аранжировками, взаимодействием куплетов и хорошо исполненной вокальной подачей.\n",
      "Ранние вещицы „Машины“ формально выглядели зрелыми композициями.\n",
      "[0, 0, 0, 0, 0, 1, 1, 0, 1, 0, 1, 0, 1, 0]\n"
     ]
    },
    {
     "name": "stderr",
     "output_type": "stream",
     "text": [
      "86it [04:01,  2.81s/it, BLEU2=0.305, BLEU1=0.373, ExactMatch=0.0278, METEOR=0.586, BertScore=nan, StubScore=0.357]"
     ]
    },
    {
     "name": "stdout",
     "output_type": "stream",
     "text": [
      "answer raw len:  85 1\n",
      "True\n",
      "Машина Времени.\n",
      "Андрей во многом „задал фасон“ всего русского рока.\n",
      "[0, 0, 0, 0, 0, 1, 1, 0, 1, 0, 1, 0, 1, 0]\n"
     ]
    },
    {
     "name": "stderr",
     "output_type": "stream",
     "text": [
      "87it [04:04,  2.73s/it, BLEU2=0.306, BLEU1=0.374, ExactMatch=0.0274, METEOR=0.586, BertScore=nan, StubScore=0.357]"
     ]
    },
    {
     "name": "stdout",
     "output_type": "stream",
     "text": [
      "answer raw len:  86 1\n",
      "True\n",
      "Ранние композиции \"Продавец счастья\", \"Солдат\" и \"Миллионеры\" были сформированы Андреем Макаревичем.\n",
      "Ранние композиции \"Машины времени\" - \"Продавец счастья\", \"Солдат\" и \"Миллионеры\" - формально выглядели зрелыми композициями.\n",
      "[0, 0, 0, 0, 0, 1, 1, 0, 1, 0, 1, 0, 1, 0]\n"
     ]
    },
    {
     "name": "stderr",
     "output_type": "stream",
     "text": [
      "88it [04:05,  2.30s/it, BLEU2=0.305, BLEU1=0.374, ExactMatch=0.027, METEOR=0.589, BertScore=nan, StubScore=0.357] "
     ]
    },
    {
     "name": "stdout",
     "output_type": "stream",
     "text": [
      "answer raw len:  87 1\n",
      "True\n",
      "Национальная футбольная команда Уругвая является лидером уругвайского футбола.\n",
      "Команда Насьональ является лидером Уругвайского футбола.\n",
      "[0, 0, 0, 0, 0, 1, 1, 0, 1, 0, 1, 0, 1, 0]\n"
     ]
    },
    {
     "name": "stderr",
     "output_type": "stream",
     "text": [
      "89it [04:07,  2.01s/it, BLEU2=0.304, BLEU1=0.372, ExactMatch=0.0267, METEOR=0.586, BertScore=nan, StubScore=0.357]"
     ]
    },
    {
     "name": "stdout",
     "output_type": "stream",
     "text": [
      "answer raw len:  88 1\n",
      "True\n",
      "Пеньярол имеет наибольшее количество участий в финале, с 12.\n",
      "Команда Пеньяроль является рекордсменом по числу участий в финале\n",
      "[0, 0, 0, 0, 0, 1, 1, 0, 1, 0, 1, 0, 1, 0]\n"
     ]
    },
    {
     "name": "stderr",
     "output_type": "stream",
     "text": [
      "90it [04:08,  1.84s/it, BLEU2=0.309, BLEU1=0.377, ExactMatch=0.0263, METEOR=0.59, BertScore=nan, StubScore=0.357] "
     ]
    },
    {
     "name": "stdout",
     "output_type": "stream",
     "text": [
      "answer raw len:  89 1\n",
      "True\n",
      "Национальная команда Уругвая возглавляет сводную Кубка Либертадорес за всю историю турнира.\n",
      "Команда Насьональ возглавляет сводную Кубка Либертадорес за всю историю турнира.\n",
      "[0, 0, 0, 0, 0, 1, 1, 0, 1, 0, 1, 0, 1, 0]\n"
     ]
    },
    {
     "name": "stderr",
     "output_type": "stream",
     "text": [
      "91it [04:13,  2.95s/it, BLEU2=0.306, BLEU1=0.373, ExactMatch=0.026, METEOR=0.588, BertScore=nan, StubScore=0.357]"
     ]
    },
    {
     "name": "stdout",
     "output_type": "stream",
     "text": [
      "answer raw len:  90 1\n",
      "True\n",
      "На основе предоставленной информации в тексте [81.11] Насьональ и Пеньяроль являются лидерами уругвайского футбола и имеют общую историю успеха. В тексте говорится, что эти две команды выиграли 94 чемпионата Уругвая из 114. Следовательно, общее количество чемпионатов Уругвая, выигранных этими двумя командами, составляет 94.\n",
      "Команды выиграли 94 чемпионата Уругвая.\n",
      "[0, 0, 0, 0, 0, 1, 1, 0, 1, 0, 1, 0, 1, 0]\n"
     ]
    },
    {
     "name": "stderr",
     "output_type": "stream",
     "text": [
      "92it [04:15,  2.37s/it, BLEU2=0.306, BLEU1=0.373, ExactMatch=0.0256, METEOR=0.588, BertScore=nan, StubScore=0.357]"
     ]
    },
    {
     "name": "stdout",
     "output_type": "stream",
     "text": [
      "answer raw len:  91 1\n",
      "True\n",
      "В Уругвае было 114 футбольных чемпионатов.\n",
      "Всего в Уругвае было 114 чемпионатов по футболу.\n",
      "[0, 0, 0, 0, 0, 1, 1, 0, 1, 0, 1, 0, 1, 0]\n"
     ]
    },
    {
     "name": "stderr",
     "output_type": "stream",
     "text": [
      "93it [04:17,  2.47s/it, BLEU2=0.305, BLEU1=0.372, ExactMatch=0.0253, METEOR=0.586, BertScore=nan, StubScore=0.357]"
     ]
    },
    {
     "name": "stdout",
     "output_type": "stream",
     "text": [
      "answer raw len:  92 1\n",
      "True\n",
      "Национальное Рейтинговое Агентство отмечает улучшение качества активов, увеличение диверсификации портфеля заемщиков и направлений инвестирования, а также рост процентной маржи в ПАО КБ Уральский банк реконструкции и развития.\n",
      "Национальное Рейтинговое Агентство отмечает улучшение показателей качества кредитов, сохранение невысокого уровня просроченной задолженности и ограниченную концентрацию портфеля на крупных заемщиках.\n",
      "[0, 0, 0, 0, 0, 1, 1, 0, 1, 0, 1, 0, 1, 0]\n"
     ]
    },
    {
     "name": "stderr",
     "output_type": "stream",
     "text": [
      "94it [04:18,  1.87s/it, BLEU2=0.301, BLEU1=0.367, ExactMatch=0.025, METEOR=0.58, BertScore=nan, StubScore=0.357]  "
     ]
    },
    {
     "name": "stdout",
     "output_type": "stream",
     "text": [
      "answer raw len:  93 1\n",
      "True\n",
      "Национальное Рейтинговое Агентство\n",
      "Национальное Рейтинговое Агентство подтвердило рейтинг кредитоспособности ПАО КБ Уральский банк реконструкции и развития на уровне АА по национальной шкале.\n",
      "[0, 0, 0, 0, 0, 1, 1, 0, 1, 0, 1, 0, 1, 0]\n"
     ]
    },
    {
     "name": "stderr",
     "output_type": "stream",
     "text": [
      "95it [04:20,  2.06s/it, BLEU2=0.299, BLEU1=0.365, ExactMatch=0.0247, METEOR=0.583, BertScore=nan, StubScore=0.357]"
     ]
    },
    {
     "name": "stdout",
     "output_type": "stream",
     "text": [
      "answer raw len:  94 1\n",
      "True\n",
      "[86.361] Национальное Рейтинговое Агентство подтвердило рейтинг кредитоспособности ПАО КБ Уральский банк реконструкции и развития на уровне \"АА\" по национальной шкале.\n",
      "На уровне АА по национальной шкале.\n",
      "[0, 0, 0, 0, 0, 1, 1, 0, 1, 0, 1, 0, 1, 0]\n"
     ]
    },
    {
     "name": "stderr",
     "output_type": "stream",
     "text": [
      "96it [04:21,  1.63s/it, BLEU2=0.298, BLEU1=0.363, ExactMatch=0.0244, METEOR=0.58, BertScore=nan, StubScore=0.357] "
     ]
    },
    {
     "name": "stdout",
     "output_type": "stream",
     "text": [
      "answer raw len:  95 1\n",
      "True\n",
      "ПАО КБ Уральский банк реконструкции и развития\n",
      "Национальное Рейтинговое Агентство подтвердило рейтинг ПАО КБ Уральский банк реконструкции и развития на уровне АА по национальной шкале.\n",
      "[0, 0, 0, 0, 0, 1, 1, 0, 1, 0, 1, 0, 1, 0]\n"
     ]
    },
    {
     "name": "stderr",
     "output_type": "stream",
     "text": [
      "97it [04:29,  3.72s/it, BLEU2=0.295, BLEU1=0.36, ExactMatch=0.0241, METEOR=0.578, BertScore=nan, StubScore=0.357]"
     ]
    },
    {
     "name": "stdout",
     "output_type": "stream",
     "text": [
      "answer raw len:  96 1\n",
      "True\n",
      "Согласно тексту 1, факторы, которые положительно влияют на рейтинг банка, включают в себя:\n",
      "\n",
      "1. Успешную реализацию принятой долгосрочной стратегии.\n",
      "2. Сбалансированную структуру активов и обязательств.\n",
      "3. Высокую диверсификацию клиентской базы.\n",
      "4. Укрепляющиеся позиции на рынке.\n",
      "5. Рост эффективности бизнеса.\n",
      "6. Качество активов банка остается стабильным и улучшается.\n",
      "7. Диверсификация портфеля по заемщикам и направлениям инвестирования.\n",
      "8. Увеличение процентной маржи.\n",
      "9. Успешное снижение доли просроченной задолженности.\n",
      "10. Сохранение адекватной и достаточной текущей ликвидности.\n",
      "Успешная реализация принятой долгосрочной стратегии, сбалансированная структура активов и обязательств, высокая диверсификация клиентской базы, усиливающиеся рыночные позиции и растущая эффективность бизнеса.\n",
      "[0, 0, 0, 0, 0, 1, 1, 0, 1, 0, 1, 0, 1, 0]\n"
     ]
    },
    {
     "name": "stderr",
     "output_type": "stream",
     "text": [
      "98it [04:39,  5.53s/it, BLEU2=0.292, BLEU1=0.356, ExactMatch=0.0238, METEOR=0.573, BertScore=nan, StubScore=0.357]"
     ]
    },
    {
     "name": "stdout",
     "output_type": "stream",
     "text": [
      "answer raw len:  97 1\n",
      "True\n",
      "После завершения работы над своим последним крупным произведением, романом \"Обрыв\", жизнь Ивана Александровича Гончарова стала трудной. Он был болен и одинок, часто впадал в депрессию. Несмотря на то, что он когда-то мечтал написать еще один роман, если здоровье позволит, он не приступил к этому из-за медленного темпа работы и трудностей с пониманием современных событий. Гончаров ушел в отставку с должности цензора и стал членом совета по делам печати, где активно защищал правительственные устои от нигилизма и других прогрессивных идей.\n",
      "После окончания работы над произведением жизнь Гончарова сложилась очень трудно.\n",
      "[0, 0, 0, 0, 0, 1, 1, 0, 1, 0, 1, 0, 1, 0]\n"
     ]
    },
    {
     "name": "stderr",
     "output_type": "stream",
     "text": [
      "99it [04:40,  4.18s/it, BLEU2=0.288, BLEU1=0.352, ExactMatch=0.0235, METEOR=0.569, BertScore=nan, StubScore=0.357]"
     ]
    },
    {
     "name": "stdout",
     "output_type": "stream",
     "text": [
      "answer raw len:  98 1\n",
      "True\n",
      "Последний крупный художественный труд Гончарова - это роман \"Обрыв\".\n",
      "Обрыв стал последним.\n",
      "[0, 0, 0, 0, 0, 1, 1, 0, 1, 0, 1, 0, 1, 0]\n"
     ]
    },
    {
     "name": "stderr",
     "output_type": "stream",
     "text": [
      "100it [04:47,  5.03s/it, BLEU2=0.285, BLEU1=0.348, ExactMatch=0.0233, METEOR=0.564, BertScore=nan, StubScore=0.357]"
     ]
    },
    {
     "name": "stdout",
     "output_type": "stream",
     "text": [
      "answer raw len:  99 1\n",
      "True\n",
      "Романы Гончарова были посвящены различным аспектам исторического развития России. Первый роман, \"Обыкновенная история\", отражал конфликт между реализмом и романтизмом, который был существенной коллизией русской жизни. Второй роман, \"Обломов\", изображал угасание эпохи крепостничества через образ Обломова. Наконец, третий роман, \"Обрыв\", завершил трилогию, представляя образ Райского и отражая переходный период в истории России.\n",
      "Изображению дореформенной России, которую Гончаров хорошо знал и понимал.\n",
      "[0, 0, 0, 0, 0, 1, 1, 0, 1, 0, 1, 0, 1, 0]\n"
     ]
    },
    {
     "name": "stderr",
     "output_type": "stream",
     "text": [
      "101it [04:50,  4.32s/it, BLEU2=0.282, BLEU1=0.345, ExactMatch=0.023, METEOR=0.56, BertScore=nan, StubScore=0.357]  "
     ]
    },
    {
     "name": "stdout",
     "output_type": "stream",
     "text": [
      "answer raw len:  100 1\n",
      "True\n",
      "Официальные органы получают и используют финансовые средства для выполнения своих соответствующих функций, которые включают в себя получение и применение средств, необходимых для выполнения своих обязанностей, поддержание баланса доходов и расходов, а также осуществление административного контроля.\n",
      "Деятельность официальных органов по получению и применению финансовых средств осуществляется для выполнения надлежащих функций.\n",
      "[0, 0, 0, 0, 0, 1, 1, 0, 1, 0, 1, 0, 1, 0]\n"
     ]
    },
    {
     "name": "stderr",
     "output_type": "stream",
     "text": [
      "102it [04:51,  3.40s/it, BLEU2=0.289, BLEU1=0.352, ExactMatch=0.0227, METEOR=0.564, BertScore=nan, StubScore=0.357]"
     ]
    },
    {
     "name": "stdout",
     "output_type": "stream",
     "text": [
      "answer raw len:  101 1\n",
      "True\n",
      "Согласно некоторым авторам, предмет общественных финансов находится на границе между экономикой и политикой.\n",
      "Согласно некоторым авторам, предмет общественных финансов лежит на границе между экономикой и политикой.\n",
      "[0, 0, 0, 0, 0, 1, 1, 0, 1, 0, 1, 0, 1, 0]\n"
     ]
    },
    {
     "name": "stderr",
     "output_type": "stream",
     "text": [
      "103it [04:53,  2.81s/it, BLEU2=0.288, BLEU1=0.351, ExactMatch=0.0225, METEOR=0.564, BertScore=nan, StubScore=0.357]"
     ]
    },
    {
     "name": "stdout",
     "output_type": "stream",
     "text": [
      "answer raw len:  102 1\n",
      "True\n",
      "Общественные финансы связаны с деятельностью государственных или местных органов власти, которые получают и используют средства для выполнения своих обязанностей.\n",
      "Общественные финансы связываются с деятельностью государства или местной власти.\n",
      "[0, 0, 0, 0, 0, 1, 1, 0, 1, 0, 1, 0, 1, 0]\n"
     ]
    },
    {
     "name": "stderr",
     "output_type": "stream",
     "text": [
      "104it [04:56,  2.88s/it, BLEU2=0.285, BLEU1=0.348, ExactMatch=0.0222, METEOR=0.563, BertScore=nan, StubScore=0.357]"
     ]
    },
    {
     "name": "stdout",
     "output_type": "stream",
     "text": [
      "answer raw len:  103 1\n",
      "True\n",
      "В конце XIX века русский витраж претерпел значительные изменения. В это время начали использовать новые техники, такие как окрашивание стекла, и витражи стали более разнообразными и сложными.\n",
      "Русский витраж претерпел особые изменения в конце девятнадцатого века.\n",
      "[0, 0, 0, 0, 0, 1, 1, 0, 1, 0, 1, 0, 1, 0]\n"
     ]
    },
    {
     "name": "stderr",
     "output_type": "stream",
     "text": [
      "105it [04:59,  2.89s/it, BLEU2=0.286, BLEU1=0.349, ExactMatch=0.022, METEOR=0.562, BertScore=nan, StubScore=0.357] "
     ]
    },
    {
     "name": "stdout",
     "output_type": "stream",
     "text": [
      "answer raw len:  104 1\n",
      "True\n",
      "Современное витражное стекло может быть изготовлено с использованием различных техник и иметь различные свойства. Оно может быть прозрачным или непрозрачным, однотонным или смесью различных цветов и текстур.\n",
      "Современное витражное стекло может быть прозрачным и глухим, однородного цвета и смесью различных цветов и оттенков одного цвета, гладким и с разнообразной фактурой.\n",
      "[0, 0, 0, 0, 0, 1, 1, 0, 1, 0, 1, 0, 1, 0]\n"
     ]
    },
    {
     "name": "stderr",
     "output_type": "stream",
     "text": [
      "106it [05:05,  4.02s/it, BLEU2=0.289, BLEU1=0.352, ExactMatch=0.0217, METEOR=0.565, BertScore=nan, StubScore=0.357]"
     ]
    },
    {
     "name": "stdout",
     "output_type": "stream",
     "text": [
      "answer raw len:  105 1\n",
      "True\n",
      "[86.37] Программным произведением русского витражного искусства, наиболее полно воплотившим дух времени, стало художественное остекление Торгового дома братьев Елисеевых на Невском проспекте (сохранился лишь небольшой фрагмент). Многофигурная витражная композиция в огромном окне-экране главного фасада выражала идеи богатства страны, национальной самобытности и включенности России в общеевропейскую культуру.\n",
      "Символом русского витража 19-ого века стала многофигурная композиция в огромном окне-экране главного фасада Торгового дома братьев Елисеевых на Невском проспекте. Она выражала идеи богатства страны, национальной самобытности и включенности России в общеевропейскую культуру.\n",
      "[0, 0, 0, 0, 0, 1, 1, 0, 1, 0, 1, 0, 1, 0]\n"
     ]
    },
    {
     "name": "stderr",
     "output_type": "stream",
     "text": [
      "107it [05:08,  3.54s/it, BLEU2=0.291, BLEU1=0.354, ExactMatch=0.0215, METEOR=0.568, BertScore=nan, StubScore=0.357]"
     ]
    },
    {
     "name": "stdout",
     "output_type": "stream",
     "text": [
      "answer raw len:  106 1\n",
      "True\n",
      "Программным произведением, отражающим русское витражное искусство в XIX веке, было художественное остекление Торгового дома братьев Елисеевых на Невском проспекте.\n",
      "Художественное остекление Торгового дома братьев Елисеевых на Невском проспекте отразило русское витражное искусство в 19-ом веке.\n",
      "[0, 0, 0, 0, 0, 1, 1, 0, 1, 0, 1, 0, 1, 0]\n",
      "answer raw len:  107 1\n"
     ]
    },
    {
     "name": "stderr",
     "output_type": "stream",
     "text": [
      "108it [05:38, 11.53s/it, BLEU2=0.291, BLEU1=0.354, ExactMatch=0.0215, METEOR=0.568, BertScore=nan, StubScore=0.333]"
     ]
    },
    {
     "name": "stdout",
     "output_type": "stream",
     "text": [
      "sim raw len:  1\n",
      "False\n",
      "В 19 веке русский витраж значительно развивался благодаря усилиям различных людей и организаций. Некоторые из них включают:\n",
      "\n",
      "1. Императорский стекольный завод: этот придворный завод сыграл значительную роль в развитии русского витража. Первоначально он производил одноцветные стеклянные пластины без росписи, но позже начал выпускать разноцветные стекла и витражи.\n",
      "\n",
      "2. Николай I: как император России, Николай I способствовал развитию русского витража, поддерживая Императорский стекольный завод и поощряя использование витражей в различных зданиях.\n",
      "\n",
      "3. Карл Фридрих Шинкель (Karl Friedrich Schinkel): немецкий архитектор и дизайнер, Шинкель оказал влияние на развитие русского витража благодаря своим проектам и архитектурным идеям.\n",
      "\n",
      "4. Александр Менелас (Alexander Menaslas): русский архитектор, Менелас работал над несколькими зданиями с витражами, включая церковь Александра Невского в Александрии.\n",
      "\n",
      "5. Игнатий Шарлемань (Ignatius Charlemagne): русский художник и дизайнер, Шарлемань участвовал в производстве и установке витражей в различных зданиях в России.\n",
      "\n",
      "6. Другие мастера и ремесленники: многие художники, дизайнеры и мастера работали над созданием и производством витражей в России в 19 веке, способствуя развитию и популярности этого вида искусства.\n",
      "Джон Ла Фарж и Луис Тиффани внесли значительный вклад в развитие русского витража в 19-ом веке.\n",
      "[0, 0, 0, 0, 0, 1, 1, 0, 1, 0, 1, 0, 1, 0, 0]\n"
     ]
    },
    {
     "name": "stderr",
     "output_type": "stream",
     "text": [
      "109it [05:39,  8.53s/it, BLEU2=0.29, BLEU1=0.353, ExactMatch=0.0213, METEOR=0.568, BertScore=nan, StubScore=0.333] "
     ]
    },
    {
     "name": "stdout",
     "output_type": "stream",
     "text": [
      "answer raw len:  108 1\n",
      "True\n",
      "По теории Монтеня, преподавание должно проводиться двумя способами: через беседы и с помощью книг.\n",
      "То путём собеседования, то с помощью книг должно проводится преподавание, по теории Монтеня.\n",
      "[0, 0, 0, 0, 0, 1, 1, 0, 1, 0, 1, 0, 1, 0, 0]\n",
      "answer raw len:  109 1\n"
     ]
    },
    {
     "name": "stderr",
     "output_type": "stream",
     "text": [
      "110it [05:46,  7.91s/it, BLEU2=0.29, BLEU1=0.353, ExactMatch=0.0213, METEOR=0.568, BertScore=nan, StubScore=0.312]"
     ]
    },
    {
     "name": "stdout",
     "output_type": "stream",
     "text": [
      "sim raw len:  1\n",
      "False\n",
      "В тексте 2 говорится о том, что будет создан специальный реестр авторов, чьи площадки ежедневно посещают более 3000 человек. Эти авторы будут проинформированы о том, что они обязаны проверять достоверность информации, соблюдать правила предвыборной агитации и маркировать свои издания в соответствии с возрастными категориями.\n",
      "Наставник будет указывать необходимых для прочтения авторов книг.\n",
      "[0, 0, 0, 0, 0, 1, 1, 0, 1, 0, 1, 0, 1, 0, 0, 0]\n"
     ]
    },
    {
     "name": "stderr",
     "output_type": "stream",
     "text": [
      "111it [05:47,  6.03s/it, BLEU2=0.29, BLEU1=0.353, ExactMatch=0.0211, METEOR=0.568, BertScore=nan, StubScore=0.312]"
     ]
    },
    {
     "name": "stdout",
     "output_type": "stream",
     "text": [
      "answer raw len:  110 1\n",
      "True\n",
      "Основы логики, физики, геометрии и риторики должны быть изучены молодым человеком.\n",
      "Необходимо ознакомить юношу с основами логики, физики, геометрии и риторики.\n",
      "[0, 0, 0, 0, 0, 1, 1, 0, 1, 0, 1, 0, 1, 0, 0, 0]\n"
     ]
    },
    {
     "name": "stderr",
     "output_type": "stream",
     "text": [
      "112it [05:49,  4.71s/it, BLEU2=0.289, BLEU1=0.352, ExactMatch=0.0208, METEOR=0.567, BertScore=nan, StubScore=0.312]"
     ]
    },
    {
     "name": "stdout",
     "output_type": "stream",
     "text": [
      "answer raw len:  111 1\n",
      "True\n",
      "Душа обучаемого должна быть привита благородным любопытством, как упоминается в тексте 1.\n",
      "Благородная любознательность должна быть привита душе обучаемого.\n",
      "[0, 0, 0, 0, 0, 1, 1, 0, 1, 0, 1, 0, 1, 0, 0, 0]\n",
      "answer raw len:  112 1\n"
     ]
    },
    {
     "name": "stderr",
     "output_type": "stream",
     "text": [
      "113it [05:54,  4.70s/it, BLEU2=0.289, BLEU1=0.352, ExactMatch=0.0208, METEOR=0.567, BertScore=nan, StubScore=0.294]"
     ]
    },
    {
     "name": "stdout",
     "output_type": "stream",
     "text": [
      "sim raw len:  1\n",
      "False\n",
      "В статье рассматривается педагогическая теория, разработанная Гумбольдтом, в частности его теория эпоса в книге \"О Германе и Доротее\".\n",
      "В статье рассматривалась педагогическая теория Мишеля Монтеня.\n",
      "[0, 0, 0, 0, 0, 1, 1, 0, 1, 0, 1, 0, 1, 0, 0, 0, 0]\n"
     ]
    },
    {
     "name": "stderr",
     "output_type": "stream",
     "text": [
      "114it [05:55,  3.70s/it, BLEU2=0.292, BLEU1=0.356, ExactMatch=0.0206, METEOR=0.57, BertScore=nan, StubScore=0.294] "
     ]
    },
    {
     "name": "stdout",
     "output_type": "stream",
     "text": [
      "answer raw len:  113 1\n",
      "True\n",
      "Типы элементов вторичной структуры включают стебель-петли, петли и псевдоузлы.\n",
      "Бывают типы элементов вторичной структуры: стебель-петли, петли и псевдоузлы.\n",
      "[0, 0, 0, 0, 0, 1, 1, 0, 1, 0, 1, 0, 1, 0, 0, 0, 0]\n"
     ]
    },
    {
     "name": "stderr",
     "output_type": "stream",
     "text": [
      "115it [05:57,  3.22s/it, BLEU2=0.295, BLEU1=0.358, ExactMatch=0.0204, METEOR=0.574, BertScore=nan, StubScore=0.294]"
     ]
    },
    {
     "name": "stdout",
     "output_type": "stream",
     "text": [
      "answer raw len:  114 1\n",
      "True\n",
      "[74.14] Эффективные программы для предсказания вторичной структуры РНК и белков включают в себя программы, такие как mfold.\n",
      "Для предсказания вторичной структуры РНК и белков существуют эффективные программы, такие как mfold.\n",
      "[0, 0, 0, 0, 0, 1, 1, 0, 1, 0, 1, 0, 1, 0, 0, 0, 0]\n"
     ]
    },
    {
     "name": "stderr",
     "output_type": "stream",
     "text": [
      "116it [06:00,  3.25s/it, BLEU2=0.294, BLEU1=0.356, ExactMatch=0.0202, METEOR=0.574, BertScore=nan, StubScore=0.294]"
     ]
    },
    {
     "name": "stdout",
     "output_type": "stream",
     "text": [
      "answer raw len:  115 1\n",
      "True\n",
      "Рабочая форма одноцепочечной молекулы РНК обладает структурой, которая включает в себя различные элементы вторичной структуры, такие как стебель-петли, петли и псевдоузлы. Эти элементы образуются за счет водородных связей внутри молекулы РНК.\n",
      "Рабочая форма одноцепочечной молекулы РНК обладает третичной структурой.\n",
      "[0, 0, 0, 0, 0, 1, 1, 0, 1, 0, 1, 0, 1, 0, 0, 0, 0]\n"
     ]
    },
    {
     "name": "stderr",
     "output_type": "stream",
     "text": [
      "117it [06:02,  2.76s/it, BLEU2=0.295, BLEU1=0.357, ExactMatch=0.02, METEOR=0.575, BertScore=nan, StubScore=0.294]  "
     ]
    },
    {
     "name": "stdout",
     "output_type": "stream",
     "text": [
      "answer raw len:  116 1\n",
      "True\n",
      "Третичная структура белка формируется на основе элементов вторичной структуры, образованных водородными связями внутри одной молекулы.\n",
      "На основе элементов вторичной структуры, образуемой с помощью водородных связей внутри одной молекулы.\n",
      "[0, 0, 0, 0, 0, 1, 1, 0, 1, 0, 1, 0, 1, 0, 0, 0, 0]\n"
     ]
    },
    {
     "name": "stderr",
     "output_type": "stream",
     "text": [
      "118it [06:02,  2.04s/it, BLEU2=0.292, BLEU1=0.354, ExactMatch=0.0198, METEOR=0.569, BertScore=nan, StubScore=0.294]"
     ]
    },
    {
     "name": "stdout",
     "output_type": "stream",
     "text": [
      "answer raw len:  117 1\n",
      "True\n",
      "Вторичная структура.\n",
      "Стебель-петли, петли и псевдоузлы типы элементов вторичной структуры РНК.\n",
      "[0, 0, 0, 0, 0, 1, 1, 0, 1, 0, 1, 0, 1, 0, 0, 0, 0]\n"
     ]
    },
    {
     "name": "stderr",
     "output_type": "stream",
     "text": [
      "119it [06:03,  1.70s/it, BLEU2=0.289, BLEU1=0.35, ExactMatch=0.0196, METEOR=0.567, BertScore=nan, StubScore=0.294] "
     ]
    },
    {
     "name": "stdout",
     "output_type": "stream",
     "text": [
      "answer raw len:  118 1\n",
      "True\n",
      "Герцен был назван \"предтечей народничества\".\n",
      "Народники называли Герцена основоположником, предтечей народничества.\n",
      "[0, 0, 0, 0, 0, 1, 1, 0, 1, 0, 1, 0, 1, 0, 0, 0, 0]\n"
     ]
    },
    {
     "name": "stderr",
     "output_type": "stream",
     "text": [
      "120it [06:06,  2.01s/it, BLEU2=0.293, BLEU1=0.355, ExactMatch=0.0194, METEOR=0.57, BertScore=nan, StubScore=0.294]"
     ]
    },
    {
     "name": "stdout",
     "output_type": "stream",
     "text": [
      "answer raw len:  119 1\n",
      "True\n",
      "Одной из главных целей крестьянского социализма было освобождение крестьян от земли без выкупа, ликвидация помещичьего землевладения, введение крестьянского общинного самоуправления, независимого от местных властей, и демократизация страны.\n",
      "Одной из главных целей крестьянского социализма было освобождение крестьян с землей без выкупа, ликвидация помещичьего землевладения и введение крестьянского общинного самоуправления, независимого от местных властей.\n",
      "[0, 0, 0, 0, 0, 1, 1, 0, 1, 0, 1, 0, 1, 0, 0, 0, 0]\n"
     ]
    },
    {
     "name": "stderr",
     "output_type": "stream",
     "text": [
      "121it [06:07,  1.71s/it, BLEU2=0.297, BLEU1=0.358, ExactMatch=0.0192, METEOR=0.571, BertScore=nan, StubScore=0.294]"
     ]
    },
    {
     "name": "stdout",
     "output_type": "stream",
     "text": [
      "answer raw len:  120 1\n",
      "True\n",
      "Русский социализм Герцена получил название \"крестьянский социализм\".\n",
      "Русский социализм Герцена получил название крестьянского социализма.\n",
      "[0, 0, 0, 0, 0, 1, 1, 0, 1, 0, 1, 0, 1, 0, 0, 0, 0]\n",
      "answer raw len:  121 1\n"
     ]
    },
    {
     "name": "stderr",
     "output_type": "stream",
     "text": [
      "122it [06:16,  3.93s/it, BLEU2=0.297, BLEU1=0.358, ExactMatch=0.0192, METEOR=0.571, BertScore=nan, StubScore=0.278]"
     ]
    },
    {
     "name": "stdout",
     "output_type": "stream",
     "text": [
      "sim raw len:  1\n",
      "False\n",
      "В 1870-х годах термин \"народничество\" относился к различным течениям общественного движения. В начале 1880-х годов этот термин использовался для описания различных групп, которые интересовались простым народом. В этом контексте термин \"народник\" применялся к тем, кто выступал за права и интересы крестьян и рабочих.\n",
      "Предтечей народничества называли Александра Герцена.\n",
      "[0, 0, 0, 0, 0, 1, 1, 0, 1, 0, 1, 0, 1, 0, 0, 0, 0, 0]\n"
     ]
    },
    {
     "name": "stderr",
     "output_type": "stream",
     "text": [
      "123it [06:20,  3.83s/it, BLEU2=0.295, BLEU1=0.356, ExactMatch=0.019, METEOR=0.57, BertScore=nan, StubScore=0.278]  "
     ]
    },
    {
     "name": "stdout",
     "output_type": "stream",
     "text": [
      "answer raw len:  122 1\n",
      "True\n",
      "Русский социализм Герцен был направлен на освобождение крестьян от земли без выкупа, ликвидацию помещичьего землевладения, введение крестьянского общинного самоуправления, независимого от местных властей, демократизацию страны, развитие индивидуальных прав и сохранение неделимости земли.\n",
      "Русский социализм Герцена был направлен на крестьянство.\n",
      "[0, 0, 0, 0, 0, 1, 1, 0, 1, 0, 1, 0, 1, 0, 0, 0, 0, 0]\n"
     ]
    },
    {
     "name": "stderr",
     "output_type": "stream",
     "text": [
      "124it [06:21,  3.16s/it, BLEU2=0.298, BLEU1=0.359, ExactMatch=0.0189, METEOR=0.573, BertScore=nan, StubScore=0.278]"
     ]
    },
    {
     "name": "stdout",
     "output_type": "stream",
     "text": [
      "answer raw len:  123 1\n",
      "True\n",
      "Сериал \"Секретные материалы\" относится к жанру научной фантастики.\n",
      "Телесериал Секретные материалы относится к жанру научной фантастики.\n",
      "[0, 0, 0, 0, 0, 1, 1, 0, 1, 0, 1, 0, 1, 0, 0, 0, 0, 0]\n"
     ]
    },
    {
     "name": "stderr",
     "output_type": "stream",
     "text": [
      "125it [06:23,  2.77s/it, BLEU2=0.3, BLEU1=0.36, ExactMatch=0.0187, METEOR=0.575, BertScore=nan, StubScore=0.278]   "
     ]
    },
    {
     "name": "stdout",
     "output_type": "stream",
     "text": [
      "answer raw len:  124 1\n",
      "True\n",
      "Сериал \"Секретные материалы\" стартовал 10 сентября 1993 года.\n",
      "Показ телесериала Секретные материалы стартовал 10 сентября 1993 года.\n",
      "[0, 0, 0, 0, 0, 1, 1, 0, 1, 0, 1, 0, 1, 0, 0, 0, 0, 0]\n"
     ]
    },
    {
     "name": "stderr",
     "output_type": "stream",
     "text": [
      "126it [06:25,  2.42s/it, BLEU2=0.298, BLEU1=0.358, ExactMatch=0.0185, METEOR=0.574, BertScore=nan, StubScore=0.278]"
     ]
    },
    {
     "name": "stdout",
     "output_type": "stream",
     "text": [
      "answer raw len:  125 1\n",
      "True\n",
      "В сериале \"Секретные материалы\" было снято 202 эпизода.\n",
      "Было отснято 202 серии телесериала Секретные материалы.\n",
      "[0, 0, 0, 0, 0, 1, 1, 0, 1, 0, 1, 0, 1, 0, 0, 0, 0, 0]\n"
     ]
    },
    {
     "name": "stderr",
     "output_type": "stream",
     "text": [
      "127it [06:28,  2.62s/it, BLEU2=0.295, BLEU1=0.355, ExactMatch=0.0183, METEOR=0.569, BertScore=nan, StubScore=0.278]"
     ]
    },
    {
     "name": "stdout",
     "output_type": "stream",
     "text": [
      "answer raw len:  126 1\n",
      "True\n",
      "[82.036] В сериале \"Коломбо\" Фрэнк Спотниц написал первый эпизод нового сериала \"Убийство по книге\".\n",
      "Около 50 эпизодов было написано Фрэнком Спотницом.\n",
      "[0, 0, 0, 0, 0, 1, 1, 0, 1, 0, 1, 0, 1, 0, 0, 0, 0, 0]\n"
     ]
    },
    {
     "name": "stderr",
     "output_type": "stream",
     "text": [
      "128it [06:29,  2.26s/it, BLEU2=0.298, BLEU1=0.359, ExactMatch=0.0182, METEOR=0.572, BertScore=nan, StubScore=0.278]"
     ]
    },
    {
     "name": "stdout",
     "output_type": "stream",
     "text": [
      "answer raw len:  127 1\n",
      "True\n",
      "Сериал \"Секретные материалы\" стал хитом на канале Fox.\n",
      "Сериал \"Секретные материалы\" стал хитом канал Fox.\n",
      "[0, 0, 0, 0, 0, 1, 1, 0, 1, 0, 1, 0, 1, 0, 0, 0, 0, 0]\n",
      "answer raw len:  128 1\n"
     ]
    },
    {
     "name": "stderr",
     "output_type": "stream",
     "text": [
      "129it [07:00, 10.65s/it, BLEU2=0.298, BLEU1=0.359, ExactMatch=0.0182, METEOR=0.572, BertScore=nan, StubScore=0.316]"
     ]
    },
    {
     "name": "stdout",
     "output_type": "stream",
     "text": [
      "sim raw len:  1\n",
      "False\n",
      "Культурные мероприятия, такие как концерты, световые и звуковые шоу, проходят в различных местах по всему миру. Некоторые примеры включают:\n",
      "\n",
      "1. [87.726] В городе Иркутске, Россия, проходят регулярные историко-культурные фестивали, такие как Декабристские вечера, Дни русской духовности и культуры \"Сияние России\", фестиваль современной драматургии имени А. Вампилова, фестиваль академической музыки \"Звезды на Байкале\", международный музыкальный фестиваль \"Джаз на Байкале\", международный фестиваль документального и научно-популярного кино \"Человек и природа\", Международный фестиваль кузнечного ремесла \"Гефест\", фестиваль автотюнинга \"БайкалМоторШоу\", карнавал \"Шагаем вместе\".\n",
      "\n",
      "2. [84.77] В городе Рязани, Россия, проходят различные фестивали и мероприятия, такие как праздничные гуляния, музыкальные и исторические фестивали, спортивные фестивали и эстафеты. Префектуры городских округов организуют праздники улиц и дворов.\n",
      "\n",
      "3. [79.211] В городе Клайпеда, Литва, есть 9 профессиональных и любительских театров, более 10 выставочных залов и галерей, 11 оркестров, 47 музыкальных ансамблей, джазовый клуб, различные культурные центры и студии. Уникальные музеи, такие как Морской музей и шоу дельфинов, Музей часов и Музей кузнечного дела, Картинная галерея, Исторический музей Малой Литвы и Клайпедский замок, рассказывают о перипетиях истории.\n",
      "\n",
      "Эти места предлагают разнообразные культурные мероприятия, включая концерты, световые и звуковые шоу, а также другие виды развлечений и исторических впечатлений.\n",
      "Культурные мероприятия проходят в старой венецианской крепости Палео Фрурио.\n",
      "[0, 0, 0, 0, 0, 1, 1, 0, 1, 0, 1, 0, 1, 0, 0, 0, 0, 0, 1]\n",
      "answer raw len:  129 1\n"
     ]
    },
    {
     "name": "stderr",
     "output_type": "stream",
     "text": [
      "130it [07:03,  8.56s/it, BLEU2=0.298, BLEU1=0.359, ExactMatch=0.0182, METEOR=0.572, BertScore=nan, StubScore=0.3]  "
     ]
    },
    {
     "name": "stdout",
     "output_type": "stream",
     "text": [
      "sim raw len:  1\n",
      "False\n",
      "В каком году был построен и открыт для публики первый в мире подземный железнодорожный вокзал?\n",
      "Отреставрированный интерьер используется для проведения культурных мероприятий, таких как концерты, и звуковых и световых шоу.\n",
      "[0, 0, 0, 0, 0, 1, 1, 0, 1, 0, 1, 0, 1, 0, 0, 0, 0, 0, 1, 0]\n",
      "answer raw len:  130 1\n"
     ]
    },
    {
     "name": "stderr",
     "output_type": "stream",
     "text": [
      "131it [07:05,  6.55s/it, BLEU2=0.298, BLEU1=0.359, ExactMatch=0.0182, METEOR=0.572, BertScore=nan, StubScore=0.333]"
     ]
    },
    {
     "name": "stdout",
     "output_type": "stream",
     "text": [
      "sim raw len:  1\n",
      "False\n",
      "У меня нет ответа на ваш вопрос.\n",
      "У подножия креста расположена церковь св. Георгия.\n",
      "[0, 0, 0, 0, 0, 1, 1, 0, 1, 0, 1, 0, 1, 0, 0, 0, 0, 0, 1, 0, 1]\n",
      "answer raw len:  131 1\n"
     ]
    },
    {
     "name": "stderr",
     "output_type": "stream",
     "text": [
      "132it [07:10,  6.09s/it, BLEU2=0.298, BLEU1=0.359, ExactMatch=0.0182, METEOR=0.572, BertScore=nan, StubScore=0.364]"
     ]
    },
    {
     "name": "stdout",
     "output_type": "stream",
     "text": [
      "sim raw len:  1\n",
      "False\n",
      "Керкира, также известная как Коркира, - это название греческого острова, расположенного в Ионическом море. Это островное государство, которое имеет паромное сообщение с Италией, материковой Грецией и некоторыми Ионическими островами.\n",
      "Нет информациия\n",
      "[0, 0, 0, 0, 0, 1, 1, 0, 1, 0, 1, 0, 1, 0, 0, 0, 0, 0, 1, 0, 1, 1]\n"
     ]
    },
    {
     "name": "stderr",
     "output_type": "stream",
     "text": [
      "133it [07:11,  4.59s/it, BLEU2=0.296, BLEU1=0.355, ExactMatch=0.018, METEOR=0.568, BertScore=nan, StubScore=0.364] "
     ]
    },
    {
     "name": "stdout",
     "output_type": "stream",
     "text": [
      "answer raw len:  132 1\n",
      "True\n",
      "В октябре 1963 года.\n",
      "Первая слава к The Beatles пришла в Ливерпуле.\n",
      "[0, 0, 0, 0, 0, 1, 1, 0, 1, 0, 1, 0, 1, 0, 0, 0, 0, 0, 1, 0, 1, 1]\n"
     ]
    },
    {
     "name": "stderr",
     "output_type": "stream",
     "text": [
      "134it [07:14,  4.00s/it, BLEU2=0.294, BLEU1=0.353, ExactMatch=0.0179, METEOR=0.565, BertScore=nan, StubScore=0.364]"
     ]
    },
    {
     "name": "stdout",
     "output_type": "stream",
     "text": [
      "answer raw len:  133 1\n",
      "True\n",
      "В 1967 году Пол Маккартни взял на себя руководство группой The Beatles после смерти их менеджера Брайана Эпштейна.\n",
      "Лидером группы The Beatles стал Леннон.\n",
      "[0, 0, 0, 0, 0, 1, 1, 0, 1, 0, 1, 0, 1, 0, 0, 0, 0, 0, 1, 0, 1, 1]\n"
     ]
    },
    {
     "name": "stderr",
     "output_type": "stream",
     "text": [
      "135it [07:15,  3.10s/it, BLEU2=0.291, BLEU1=0.35, ExactMatch=0.0177, METEOR=0.562, BertScore=nan, StubScore=0.364] "
     ]
    },
    {
     "name": "stdout",
     "output_type": "stream",
     "text": [
      "answer raw len:  134 1\n",
      "True\n",
      "В середине 1950-х годов.\n",
      "The Beatles прославились в Ливерпуле весной 1963.\n",
      "[0, 0, 0, 0, 0, 1, 1, 0, 1, 0, 1, 0, 1, 0, 0, 0, 0, 0, 1, 0, 1, 1]\n"
     ]
    },
    {
     "name": "stderr",
     "output_type": "stream",
     "text": [
      "136it [07:16,  2.62s/it, BLEU2=0.297, BLEU1=0.356, ExactMatch=0.0263, METEOR=0.565, BertScore=nan, StubScore=0.364]"
     ]
    },
    {
     "name": "stdout",
     "output_type": "stream",
     "text": [
      "answer raw len:  135 1\n",
      "True\n",
      "В 1964 году к The Beatles пришла мировая слава.\n",
      "В 1964 году к The Beatles пришла мировая слава.\n",
      "[0, 0, 0, 0, 0, 1, 1, 0, 1, 0, 1, 0, 1, 0, 0, 0, 0, 0, 1, 0, 1, 1]\n"
     ]
    },
    {
     "name": "stderr",
     "output_type": "stream",
     "text": [
      "137it [07:17,  2.13s/it, BLEU2=0.295, BLEU1=0.353, ExactMatch=0.0261, METEOR=0.562, BertScore=nan, StubScore=0.364]"
     ]
    },
    {
     "name": "stdout",
     "output_type": "stream",
     "text": [
      "answer raw len:  136 1\n",
      "True\n",
      "Октябрь 1963 года.\n",
      "В октябре 1963 года о The Beatles знала уже вся Британия.\n",
      "[0, 0, 0, 0, 0, 1, 1, 0, 1, 0, 1, 0, 1, 0, 0, 0, 0, 0, 1, 0, 1, 1]\n"
     ]
    },
    {
     "name": "stderr",
     "output_type": "stream",
     "text": [
      "138it [07:20,  2.42s/it, BLEU2=0.299, BLEU1=0.356, ExactMatch=0.0259, METEOR=0.565, BertScore=nan, StubScore=0.364]"
     ]
    },
    {
     "name": "stdout",
     "output_type": "stream",
     "text": [
      "answer raw len:  137 1\n",
      "True\n",
      "Торонто провел свою первую игру в сезоне 1917/18 против Монреаль Уондерерс 19 декабря 1917 года.\n",
      "Торонто провел свою первую игру в Национальной хоккейной лиге в сезоне 1917/18 против Монреаль Уондерерс 19 декабря 1917 года.\n",
      "[0, 0, 0, 0, 0, 1, 1, 0, 1, 0, 1, 0, 1, 0, 0, 0, 0, 0, 1, 0, 1, 1]\n",
      "answer raw len:  138 1\n"
     ]
    },
    {
     "name": "stderr",
     "output_type": "stream",
     "text": [
      "139it [07:24,  2.70s/it, BLEU2=0.299, BLEU1=0.356, ExactMatch=0.0259, METEOR=0.565, BertScore=nan, StubScore=0.348]"
     ]
    },
    {
     "name": "stdout",
     "output_type": "stream",
     "text": [
      "sim raw len:  1\n",
      "False\n",
      "В статье не приводится информация о том, какие команды остались в лиге.\n",
      "Монреаль Канадиенс, Оттава Сенаторз и Торонто остались в лиге.\n",
      "[0, 0, 0, 0, 0, 1, 1, 0, 1, 0, 1, 0, 1, 0, 0, 0, 0, 0, 1, 0, 1, 1, 0]\n"
     ]
    },
    {
     "name": "stderr",
     "output_type": "stream",
     "text": [
      "140it [07:27,  2.74s/it, BLEU2=0.303, BLEU1=0.36, ExactMatch=0.0256, METEOR=0.568, BertScore=nan, StubScore=0.348] "
     ]
    },
    {
     "name": "stdout",
     "output_type": "stream",
     "text": [
      "answer raw len:  139 1\n",
      "True\n",
      "Первая игра Торонто в Национальной хоккейной лиге в сезоне 1917/18 состоялась 19 декабря 1917 года.\n",
      "Первая игра Торонто в Национальной хоккейной лиге в сезоне 1917/18 была 19 декабря 1917.\n",
      "[0, 0, 0, 0, 0, 1, 1, 0, 1, 0, 1, 0, 1, 0, 0, 0, 0, 0, 1, 0, 1, 1, 0]\n"
     ]
    },
    {
     "name": "stderr",
     "output_type": "stream",
     "text": [
      "141it [07:29,  2.67s/it, BLEU2=0.305, BLEU1=0.363, ExactMatch=0.0254, METEOR=0.571, BertScore=nan, StubScore=0.348]"
     ]
    },
    {
     "name": "stdout",
     "output_type": "stream",
     "text": [
      "answer raw len:  140 1\n",
      "True\n",
      "Торонто забил 9 шайб в игре против Монреаль Уондерерс 19 декабря 1917 года.\n",
      "В игре против Монреаль Уондерерс 19 декабря 1917 Торонто забил девять шайб.\n",
      "[0, 0, 0, 0, 0, 1, 1, 0, 1, 0, 1, 0, 1, 0, 0, 0, 0, 0, 1, 0, 1, 1, 0]\n"
     ]
    },
    {
     "name": "stderr",
     "output_type": "stream",
     "text": [
      "142it [07:31,  2.44s/it, BLEU2=0.309, BLEU1=0.367, ExactMatch=0.0252, METEOR=0.573, BertScore=nan, StubScore=0.348]"
     ]
    },
    {
     "name": "stdout",
     "output_type": "stream",
     "text": [
      "answer raw len:  141 1\n",
      "True\n",
      "Торонто провел свою первую игру в Национальной хоккейной лиге в сезоне 1917-18.\n",
      "Торонто провел первую игру в Национальной хоккейной лиге в сезоне 1917/18.\n",
      "[0, 0, 0, 0, 0, 1, 1, 0, 1, 0, 1, 0, 1, 0, 0, 0, 0, 0, 1, 0, 1, 1, 0]\n"
     ]
    },
    {
     "name": "stderr",
     "output_type": "stream",
     "text": [
      "143it [07:33,  2.30s/it, BLEU2=0.312, BLEU1=0.37, ExactMatch=0.025, METEOR=0.575, BertScore=nan, StubScore=0.348]  "
     ]
    },
    {
     "name": "stdout",
     "output_type": "stream",
     "text": [
      "answer raw len:  142 1\n",
      "True\n",
      "Тяжелый звук краут-рока, наряду с работами Брайана Ино, оказал значительное влияние на рок-музыку.\n",
      "Тяжелое звучание краут-рока, наряду с работами Брайана Ино, оказало большое влияние на рок-музыку.\n",
      "[0, 0, 0, 0, 0, 1, 1, 0, 1, 0, 1, 0, 1, 0, 0, 0, 0, 0, 1, 0, 1, 1, 0]\n"
     ]
    },
    {
     "name": "stderr",
     "output_type": "stream",
     "text": [
      "144it [07:34,  1.99s/it, BLEU2=0.316, BLEU1=0.374, ExactMatch=0.0248, METEOR=0.578, BertScore=nan, StubScore=0.348]"
     ]
    },
    {
     "name": "stdout",
     "output_type": "stream",
     "text": [
      "answer raw len:  143 1\n",
      "True\n",
      "Брайан Ино был клавишником группы Roxy Music.\n",
      "Брайан Ино был клавишником Roxy Music.\n",
      "[0, 0, 0, 0, 0, 1, 1, 0, 1, 0, 1, 0, 1, 0, 0, 0, 0, 0, 1, 0, 1, 1, 0]\n"
     ]
    },
    {
     "name": "stderr",
     "output_type": "stream",
     "text": [
      "145it [07:37,  2.05s/it, BLEU2=0.318, BLEU1=0.376, ExactMatch=0.0246, METEOR=0.581, BertScore=nan, StubScore=0.348]"
     ]
    },
    {
     "name": "stdout",
     "output_type": "stream",
     "text": [
      "answer raw len:  144 1\n",
      "True\n",
      "Фильм \"Заводной апельсин\" был выпущен с саундтреком американского композитора Венди Карлоза в 1971 году.\n",
      "Фильм Заводной апельсин был выпущен в 1971 году с саундтреком американского композитора Венди Карлоса.\n",
      "[0, 0, 0, 0, 0, 1, 1, 0, 1, 0, 1, 0, 1, 0, 0, 0, 0, 0, 1, 0, 1, 1, 0]\n"
     ]
    },
    {
     "name": "stderr",
     "output_type": "stream",
     "text": [
      "146it [07:39,  2.16s/it, BLEU2=0.32, BLEU1=0.378, ExactMatch=0.0244, METEOR=0.583, BertScore=nan, StubScore=0.348] "
     ]
    },
    {
     "name": "stdout",
     "output_type": "stream",
     "text": [
      "answer raw len:  145 1\n",
      "True\n",
      "Фильм, который был выпущен в 1971 году с саундтреком американского композитора Венди Карлоза, - \"Заводной апельсин\".\n",
      "Фильм Заводной апельсин в 1971 году был выпущен с саундтреком американского композитора Венди Карлоса.\n",
      "[0, 0, 0, 0, 0, 1, 1, 0, 1, 0, 1, 0, 1, 0, 0, 0, 0, 0, 1, 0, 1, 1, 0]\n"
     ]
    },
    {
     "name": "stderr",
     "output_type": "stream",
     "text": [
      "147it [07:41,  2.25s/it, BLEU2=0.32, BLEU1=0.379, ExactMatch=0.0242, METEOR=0.584, BertScore=nan, StubScore=0.348]"
     ]
    },
    {
     "name": "stdout",
     "output_type": "stream",
     "text": [
      "answer raw len:  146 1\n",
      "True\n",
      "Саймон Рейнольдс, музыкальный журналист, назвал саундтрек из фильма \"Заводной апельсин\" источником вдохновения.\n",
      "Музыкальный журналист Саймон Рейнольдс назвал саундтрек из фильма Заводной апельсин своим вдохновением.\n",
      "[0, 0, 0, 0, 0, 1, 1, 0, 1, 0, 1, 0, 1, 0, 0, 0, 0, 0, 1, 0, 1, 1, 0]\n",
      "answer raw len:  147 1\n"
     ]
    },
    {
     "name": "stderr",
     "output_type": "stream",
     "text": [
      "148it [07:45,  2.75s/it, BLEU2=0.32, BLEU1=0.379, ExactMatch=0.0242, METEOR=0.584, BertScore=nan, StubScore=0.333]"
     ]
    },
    {
     "name": "stdout",
     "output_type": "stream",
     "text": [
      "sim raw len:  1\n",
      "False\n",
      "Да, \"Машина времени\" была группой в 1980 году.\n",
      "Да, уже была группа „Машина времени“ в 1980-м году.\n",
      "[0, 0, 0, 0, 0, 1, 1, 0, 1, 0, 1, 0, 1, 0, 0, 0, 0, 0, 1, 0, 1, 1, 0, 0]\n",
      "answer raw len:  148 1\n"
     ]
    },
    {
     "name": "stderr",
     "output_type": "stream",
     "text": [
      "149it [07:47,  2.55s/it, BLEU2=0.32, BLEU1=0.379, ExactMatch=0.0242, METEOR=0.584, BertScore=nan, StubScore=0.36] "
     ]
    },
    {
     "name": "stdout",
     "output_type": "stream",
     "text": [
      "sim raw len:  1\n",
      "False\n",
      "У меня нет ответа на ваш вопрос.\n",
      "„Локомотив ГТ“ разъезжал с концертами.\n",
      "[0, 0, 0, 0, 0, 1, 1, 0, 1, 0, 1, 0, 1, 0, 0, 0, 0, 0, 1, 0, 1, 1, 0, 0, 1]\n",
      "answer raw len:  149 1\n"
     ]
    },
    {
     "name": "stderr",
     "output_type": "stream",
     "text": [
      "150it [07:51,  2.89s/it, BLEU2=0.32, BLEU1=0.379, ExactMatch=0.0242, METEOR=0.584, BertScore=nan, StubScore=0.346]"
     ]
    },
    {
     "name": "stdout",
     "output_type": "stream",
     "text": [
      "sim raw len:  1\n",
      "False\n",
      "\"Машина времени\" была уже сформирована в 1972 году.\n",
      "Шел 1980-й год.\n",
      "[0, 0, 0, 0, 0, 1, 1, 0, 1, 0, 1, 0, 1, 0, 0, 0, 0, 0, 1, 0, 1, 1, 0, 0, 1, 0]\n",
      "answer raw len:  150 1\n"
     ]
    },
    {
     "name": "stderr",
     "output_type": "stream",
     "text": [
      "151it [08:05,  6.13s/it, BLEU2=0.32, BLEU1=0.379, ExactMatch=0.0242, METEOR=0.584, BertScore=nan, StubScore=0.333]"
     ]
    },
    {
     "name": "stdout",
     "output_type": "stream",
     "text": [
      "sim raw len:  1\n",
      "False\n",
      "В 1980 году музыка была разнообразной и развивалась в различных направлениях. Некоторые популярные жанры включали панк-рок, альтернативный рок, синти-поп и пост-панк. Панк-рок и альтернативный рок были известны своими экспериментами с звучанием электрогитары, создавая атмосферные звуковые ландшафты и используя нетрадиционные настройки и техники игры. С другой стороны, синти-поп был ритмичным и легким жанром электронной музыки, который использовал звук синтезаторов и был тесно связан с пост-панком Новой волны. Популярные синти-поп группы включали Pet Shop Boys, Depeche Mode и Talk Talk.\n",
      "В 1980 году слушали западную музыку.\n",
      "[0, 0, 0, 0, 0, 1, 1, 0, 1, 0, 1, 0, 1, 0, 0, 0, 0, 0, 1, 0, 1, 1, 0, 0, 1, 0, 0]\n",
      "answer raw len:  151 1\n"
     ]
    },
    {
     "name": "stderr",
     "output_type": "stream",
     "text": [
      "152it [08:18,  8.19s/it, BLEU2=0.32, BLEU1=0.379, ExactMatch=0.0242, METEOR=0.584, BertScore=nan, StubScore=0.321]"
     ]
    },
    {
     "name": "stdout",
     "output_type": "stream",
     "text": [
      "sim raw len:  1\n",
      "False\n",
      "\"Машина времени\" была рок-группой, которая начала свое существование в 1972 году в Москве. Они были известны своим самостоятельным подходом к музыке, исполняя собственные композиции вместо кавер-версий популярных англоязычных хитов. Со временем их музыка эволюционировала от лирических и юмористических песен к более серьезным темам, затрагивающим социальные и моральные проблемы. Группа стала культовой в российской рок-музыке, их дискография насчитывает множество хитов, которые стали саундтреком к истории страны.\n",
      "Это был такой ВИА, только немного позлее и чуть-чуть помоднее, чем ряд других.\n",
      "[0, 0, 0, 0, 0, 1, 1, 0, 1, 0, 1, 0, 1, 0, 0, 0, 0, 0, 1, 0, 1, 1, 0, 0, 1, 0, 0, 0]\n"
     ]
    },
    {
     "name": "stderr",
     "output_type": "stream",
     "text": [
      "153it [08:19,  6.17s/it, BLEU2=0.32, BLEU1=0.379, ExactMatch=0.024, METEOR=0.585, BertScore=nan, StubScore=0.321] "
     ]
    },
    {
     "name": "stdout",
     "output_type": "stream",
     "text": [
      "answer raw len:  152 1\n",
      "True\n",
      "Банк \"Югра\" лишился лицензии на осуществление банковских операций 28 июля 2017 года.\n",
      "28 июля 2017 года у Югры была отозвана лицензия на осуществление банковских операций.\n",
      "[0, 0, 0, 0, 0, 1, 1, 0, 1, 0, 1, 0, 1, 0, 0, 0, 0, 0, 1, 0, 1, 1, 0, 0, 1, 0, 0, 0]\n"
     ]
    },
    {
     "name": "stderr",
     "output_type": "stream",
     "text": [
      "154it [08:26,  6.47s/it, BLEU2=0.324, BLEU1=0.383, ExactMatch=0.0238, METEOR=0.588, BertScore=nan, StubScore=0.321]"
     ]
    },
    {
     "name": "stdout",
     "output_type": "stream",
     "text": [
      "answer raw len:  153 1\n",
      "True\n",
      "Штаб-квартира банка \"Югра\" находится в Москве.\n",
      "Штаб-квартира банка Югра находится в Москве.\n",
      "[0, 0, 0, 0, 0, 1, 1, 0, 1, 0, 1, 0, 1, 0, 0, 0, 0, 0, 1, 0, 1, 1, 0, 0, 1, 0, 0, 0]\n"
     ]
    },
    {
     "name": "stderr",
     "output_type": "stream",
     "text": [
      "155it [08:28,  5.03s/it, BLEU2=0.326, BLEU1=0.385, ExactMatch=0.0236, METEOR=0.591, BertScore=nan, StubScore=0.321]"
     ]
    },
    {
     "name": "stdout",
     "output_type": "stream",
     "text": [
      "answer raw len:  154 1\n",
      "True\n",
      "Банк \"Югра\" занимал 30-е место по размеру активов среди российских банков на июль 2016 года.\n",
      "По размеру активов среди российских банков на июль 2016 года Югра занимал 30-е место.\n",
      "[0, 0, 0, 0, 0, 1, 1, 0, 1, 0, 1, 0, 1, 0, 0, 0, 0, 0, 1, 0, 1, 1, 0, 0, 1, 0, 0, 0]\n",
      "answer raw len:  155 1\n"
     ]
    },
    {
     "name": "stderr",
     "output_type": "stream",
     "text": [
      "156it [08:30,  4.25s/it, BLEU2=0.326, BLEU1=0.385, ExactMatch=0.0236, METEOR=0.591, BertScore=nan, StubScore=0.345]"
     ]
    },
    {
     "name": "stdout",
     "output_type": "stream",
     "text": [
      "sim raw len:  1\n",
      "False\n",
      "У меня нет ответа на ваш вопрос.\n",
      "Полное наименование — Публичное акционерное общество банк Югра.\n",
      "[0, 0, 0, 0, 0, 1, 1, 0, 1, 0, 1, 0, 1, 0, 0, 0, 0, 0, 1, 0, 1, 1, 0, 0, 1, 0, 0, 0, 1]\n",
      "answer raw len:  156 1\n"
     ]
    },
    {
     "name": "stderr",
     "output_type": "stream",
     "text": [
      "157it [08:45,  7.32s/it, BLEU2=0.326, BLEU1=0.385, ExactMatch=0.0236, METEOR=0.591, BertScore=nan, StubScore=0.333]"
     ]
    },
    {
     "name": "stdout",
     "output_type": "stream",
     "text": [
      "sim raw len:  1\n",
      "False\n",
      "Ягура был четвертым Хогэ, или Джинтури, в деревне Хогэ, и был известен как Четвёртый Мидзукаге. Он был одним из немногих, кто полностью контролировал своего биджу. Во время его правления деревня стала известна как Деревня Кровавого Тумана из-за жестокого выпускного экзамена в Академии ниндзя, где один ниндзя сражался с другим до смерти. В один момент было обнаружено, что Ягура кем-то управляется с помощью генджуцу. Позже выяснилось, что Тоби был тем, кто управлял им с помощью ширагана.\n",
      "Это российский частный банк.\n",
      "[0, 0, 0, 0, 0, 1, 1, 0, 1, 0, 1, 0, 1, 0, 0, 0, 0, 0, 1, 0, 1, 1, 0, 0, 1, 0, 0, 0, 1, 0]\n"
     ]
    },
    {
     "name": "stderr",
     "output_type": "stream",
     "text": [
      "158it [08:55,  8.08s/it, BLEU2=0.324, BLEU1=0.383, ExactMatch=0.0234, METEOR=0.589, BertScore=nan, StubScore=0.333]"
     ]
    },
    {
     "name": "stdout",
     "output_type": "stream",
     "text": [
      "answer raw len:  157 1\n",
      "True\n",
      "Я и мои сверстники росли на песнях Андрея Макаревича. Для нас \"Машина времени\" - это не только музыка, но и социальный феномен. Макаревич пел честно и последовательно о самом насущном и доказал, что рок-музыка ничего общего не имеет с бессмысленной поп-музыкой. Возможно, сегодня нужен другой музыкальный язык - более жесткий, энергичный... Но для тех, кто начинает играть рок сегодня, опыт \"Машины времени\" бесценен. Мы должны помнить и знать, что начинаем не на пустом месте, что есть традиции, корни.\n",
      "Макаревич пел честно и последовательно о самом злободневном.\n",
      "[0, 0, 0, 0, 0, 1, 1, 0, 1, 0, 1, 0, 1, 0, 0, 0, 0, 0, 1, 0, 1, 1, 0, 0, 1, 0, 0, 0, 1, 0]\n",
      "answer raw len:  158 1\n"
     ]
    },
    {
     "name": "stderr",
     "output_type": "stream",
     "text": [
      "159it [09:20, 13.12s/it, BLEU2=0.324, BLEU1=0.383, ExactMatch=0.0234, METEOR=0.589, BertScore=nan, StubScore=0.323]"
     ]
    },
    {
     "name": "stdout",
     "output_type": "stream",
     "text": [
      "sim raw len:  1\n",
      "False\n",
      "[78.578] Полифония[1][2][3][4][5][6] (лат. polyphonia, от др.-греч. πολυ- + φωνή — буквально: многозвучие от др.-греч. πολυ-, πολύς — много + φωνή — звук ) в теории музыки — склад многоголосной музыки, определяющийся функциональным равноправием отдельных голосов (мелодических линий, мелодий в широком смысле) многоголосной фактуры. В музыкальной пьесе полифонического склада (например, в каноне Жоскена Депре, в фуге И. С. Баха) голоса равноправны в композиционно-техническом (одинаковые для всех голосов приёмы мотивно-мелодической разработки) и логическом (равноправные носители музыкальной мысли ) отношениях. Словом полифония также именуется музыкально-теоретическая дисциплина, которая преподаётся в курсах среднего и высшего музыкального образования для композиторов и музыковедов. Главная задача дисциплины полифонии — практическое изучение полифонических композиций.\n",
      "Сейчас нужен более жёсткий, энергичный музыкальный язык.\n",
      "[0, 0, 0, 0, 0, 1, 1, 0, 1, 0, 1, 0, 1, 0, 0, 0, 0, 0, 1, 0, 1, 1, 0, 0, 1, 0, 0, 0, 1, 0, 0]\n"
     ]
    },
    {
     "name": "stderr",
     "output_type": "stream",
     "text": [
      "160it [09:23, 10.24s/it, BLEU2=0.322, BLEU1=0.381, ExactMatch=0.0233, METEOR=0.588, BertScore=nan, StubScore=0.323]"
     ]
    },
    {
     "name": "stdout",
     "output_type": "stream",
     "text": [
      "answer raw len:  159 1\n",
      "True\n",
      "Макаревич пел о различных темах, включая социальные вопросы, самопознание и личные переживания. Его песни часто затрагивали актуальные проблемы и демонстрировали его способность использовать музыку как средство передачи своих мыслей и эмоций.\n",
      "Макаревич пел о самом злободневном.\n",
      "[0, 0, 0, 0, 0, 1, 1, 0, 1, 0, 1, 0, 1, 0, 0, 0, 0, 0, 1, 0, 1, 1, 0, 0, 1, 0, 0, 0, 1, 0, 0]\n"
     ]
    },
    {
     "name": "stderr",
     "output_type": "stream",
     "text": [
      "161it [09:25,  7.55s/it, BLEU2=0.324, BLEU1=0.383, ExactMatch=0.0231, METEOR=0.589, BertScore=nan, StubScore=0.323]"
     ]
    },
    {
     "name": "stdout",
     "output_type": "stream",
     "text": [
      "answer raw len:  160 1\n",
      "True\n",
      "Рок-музыка не имеет ничего общего с бессмысленной пустой эстрадой.\n",
      "Рок-музыка, в доказательстве Макаревича, ничего общего не имеет с бессмысленной пустой эстрадой.\n",
      "[0, 0, 0, 0, 0, 1, 1, 0, 1, 0, 1, 0, 1, 0, 0, 0, 0, 0, 1, 0, 1, 1, 0, 0, 1, 0, 0, 0, 1, 0, 0]\n",
      "answer raw len:  161 1\n"
     ]
    },
    {
     "name": "stderr",
     "output_type": "stream",
     "text": [
      "162it [09:27,  5.88s/it, BLEU2=0.324, BLEU1=0.383, ExactMatch=0.0231, METEOR=0.589, BertScore=nan, StubScore=0.344]"
     ]
    },
    {
     "name": "stdout",
     "output_type": "stream",
     "text": [
      "sim raw len:  1\n",
      "False\n",
      "У меня нет ответа на ваш вопрос.\n",
      "Опыт „Машины времени“ незаменим для начинающих рок-музыкантов.\n",
      "[0, 0, 0, 0, 0, 1, 1, 0, 1, 0, 1, 0, 1, 0, 0, 0, 0, 0, 1, 0, 1, 1, 0, 0, 1, 0, 0, 0, 1, 0, 0, 1]\n"
     ]
    },
    {
     "name": "stderr",
     "output_type": "stream",
     "text": [
      "163it [09:30,  5.19s/it, BLEU2=0.324, BLEU1=0.383, ExactMatch=0.0229, METEOR=0.587, BertScore=nan, StubScore=0.344]"
     ]
    },
    {
     "name": "stdout",
     "output_type": "stream",
     "text": [
      "answer raw len:  162 1\n",
      "True\n",
      "\"Опыт мисс Энн Дафффилд\" написан в стиле Шерлока Холмса.\n",
      "Рассказ „The Singularge Experience of Miss Anne Duffield“ написан в стиле Шерлока Холмса.\n",
      "[0, 0, 0, 0, 0, 1, 1, 0, 1, 0, 1, 0, 1, 0, 0, 0, 0, 0, 1, 0, 1, 1, 0, 0, 1, 0, 0, 0, 1, 0, 0, 1]\n",
      "answer raw len:  163 1\n"
     ]
    },
    {
     "name": "stderr",
     "output_type": "stream",
     "text": [
      "164it [09:35,  5.24s/it, BLEU2=0.324, BLEU1=0.383, ExactMatch=0.0229, METEOR=0.587, BertScore=nan, StubScore=0.333]"
     ]
    },
    {
     "name": "stdout",
     "output_type": "stream",
     "text": [
      "sim raw len:  1\n",
      "False\n",
      "В XIX веке книги на судне в Литве были написаны на двух языках: на литовском с латиницей и на литовском с кириллицей.\n",
      "Половина книг на судне была на французском, половина — на английском языках.\n",
      "[0, 0, 0, 0, 0, 1, 1, 0, 1, 0, 1, 0, 1, 0, 0, 0, 0, 0, 1, 0, 1, 1, 0, 0, 1, 0, 0, 0, 1, 0, 0, 1, 0]\n"
     ]
    },
    {
     "name": "stderr",
     "output_type": "stream",
     "text": [
      "165it [09:38,  4.30s/it, BLEU2=0.325, BLEU1=0.383, ExactMatch=0.0227, METEOR=0.587, BertScore=nan, StubScore=0.333]"
     ]
    },
    {
     "name": "stdout",
     "output_type": "stream",
     "text": [
      "answer raw len:  164 1\n",
      "True\n",
      "Джон Леннон провел три недели на Таити, читая рассказы о Шерлоке Холмсе.\n",
      "Джон Леннон провел три недели на Таити за чтением рассказов про Шерлока Холмса.\n",
      "[0, 0, 0, 0, 0, 1, 1, 0, 1, 0, 1, 0, 1, 0, 0, 0, 0, 0, 1, 0, 1, 1, 0, 0, 1, 0, 0, 0, 1, 0, 0, 1, 0]\n"
     ]
    },
    {
     "name": "stderr",
     "output_type": "stream",
     "text": [
      "166it [09:41,  3.92s/it, BLEU2=0.324, BLEU1=0.382, ExactMatch=0.0226, METEOR=0.585, BertScore=nan, StubScore=0.333]"
     ]
    },
    {
     "name": "stdout",
     "output_type": "stream",
     "text": [
      "answer raw len:  165 1\n",
      "True\n",
      "Джон Леннон написал рассказ о Шемроке Уомблсе после трех недель чтения на Таити о Шерлоке Холмсе.\n",
      "Джон Леннон написал рассказ „The Singularge Experience of Miss Anne Duffield“.\n",
      "[0, 0, 0, 0, 0, 1, 1, 0, 1, 0, 1, 0, 1, 0, 0, 0, 0, 0, 1, 0, 1, 1, 0, 0, 1, 0, 0, 0, 1, 0, 0, 1, 0]\n"
     ]
    },
    {
     "name": "stderr",
     "output_type": "stream",
     "text": [
      "167it [09:41,  2.94s/it, BLEU2=0.324, BLEU1=0.382, ExactMatch=0.0224, METEOR=0.585, BertScore=nan, StubScore=0.333]"
     ]
    },
    {
     "name": "stdout",
     "output_type": "stream",
     "text": [
      "answer raw len:  166 1\n",
      "True\n",
      "Джон Леннон.\n",
      "Это вспоминал Джон Леннон.\n",
      "[0, 0, 0, 0, 0, 1, 1, 0, 1, 0, 1, 0, 1, 0, 0, 0, 0, 0, 1, 0, 1, 1, 0, 0, 1, 0, 0, 0, 1, 0, 0, 1, 0]\n"
     ]
    },
    {
     "name": "stderr",
     "output_type": "stream",
     "text": [
      "168it [09:43,  2.46s/it, BLEU2=0.325, BLEU1=0.383, ExactMatch=0.0222, METEOR=0.585, BertScore=nan, StubScore=0.333]"
     ]
    },
    {
     "name": "stdout",
     "output_type": "stream",
     "text": [
      "answer raw len:  167 1\n",
      "True\n",
      "Машина времени впервые гастролировала в крупном городе Ленинграде в 1981 году.\n",
      "Первые большие гастроли группы Машина времени были в городе Ленинград в 1981 году.\n",
      "[0, 0, 0, 0, 0, 1, 1, 0, 1, 0, 1, 0, 1, 0, 0, 0, 0, 0, 1, 0, 1, 1, 0, 0, 1, 0, 0, 0, 1, 0, 0, 1, 0]\n"
     ]
    },
    {
     "name": "stderr",
     "output_type": "stream",
     "text": [
      "169it [09:48,  3.41s/it, BLEU2=0.323, BLEU1=0.382, ExactMatch=0.0221, METEOR=0.584, BertScore=nan, StubScore=0.333]"
     ]
    },
    {
     "name": "stdout",
     "output_type": "stream",
     "text": [
      "answer raw len:  168 1\n",
      "True\n",
      "Автор текста описывает концерт группы \"Машина времени\" в 81-м году как \"произведение искусства\", которое оставило на них \"совершенный шок\". Они увидели музыкантов, играющих на гитарах и поющих песни, которые что-то означали, и это определило их жизненный путь.\n",
      "Автор текста описывает свое впечатление от концерта группы Машина времени в 81-м году как \"совершеннейший шок\", потому что он увидел не просто рок-концерт, не просто какое-то музыкальное представление, а это было \"какое-то вообще произведение искусства\".\n",
      "[0, 0, 0, 0, 0, 1, 1, 0, 1, 0, 1, 0, 1, 0, 0, 0, 0, 0, 1, 0, 1, 1, 0, 0, 1, 0, 0, 0, 1, 0, 0, 1, 0]\n"
     ]
    },
    {
     "name": "stderr",
     "output_type": "stream",
     "text": [
      "170it [09:50,  2.88s/it, BLEU2=0.324, BLEU1=0.383, ExactMatch=0.0219, METEOR=0.584, BertScore=nan, StubScore=0.333]"
     ]
    },
    {
     "name": "stdout",
     "output_type": "stream",
     "text": [
      "answer raw len:  169 1\n",
      "True\n",
      "Машина времени имела свои первые большие гастроли в Ленинграде в 1981 году.\n",
      "В 81-м году у группы Машина времени были первые большие гастроли в Ленинграде.\n",
      "[0, 0, 0, 0, 0, 1, 1, 0, 1, 0, 1, 0, 1, 0, 0, 0, 0, 0, 1, 0, 1, 1, 0, 0, 1, 0, 0, 0, 1, 0, 0, 1, 0]\n",
      "answer raw len:  170 1\n"
     ]
    },
    {
     "name": "stderr",
     "output_type": "stream",
     "text": [
      "171it [09:54,  3.18s/it, BLEU2=0.324, BLEU1=0.383, ExactMatch=0.0219, METEOR=0.584, BertScore=nan, StubScore=0.324]"
     ]
    },
    {
     "name": "stdout",
     "output_type": "stream",
     "text": [
      "sim raw len:  1\n",
      "False\n",
      "В тексте не упоминается, откуда были друзья автора, которые ходили с ним на концерт.\n",
      "Товарищи автора, ходившие с ним на концерт были из театрального института.\n",
      "[0, 0, 0, 0, 0, 1, 1, 0, 1, 0, 1, 0, 1, 0, 0, 0, 0, 0, 1, 0, 1, 1, 0, 0, 1, 0, 0, 0, 1, 0, 0, 1, 0, 0]\n",
      "answer raw len:  171 1\n"
     ]
    },
    {
     "name": "stderr",
     "output_type": "stream",
     "text": [
      "172it [10:03,  5.00s/it, BLEU2=0.324, BLEU1=0.383, ExactMatch=0.0219, METEOR=0.584, BertScore=nan, StubScore=0.314]"
     ]
    },
    {
     "name": "stdout",
     "output_type": "stream",
     "text": [
      "sim raw len:  1\n",
      "False\n",
      "В 1981 году группа \"Машина времени\" дала концерт, который оказал значительное влияние на автора. Автор вспоминает, что на этом концерте он впервые осознал, что рок-музыка может быть не только развлечением, но и способом выразить социальные и политические проблемы. Автор также отмечает, что этот концерт стал поворотным моментом в карьере группы, поскольку они начали получать больше поддержки от государства и стали более популярными.\n",
      "Концерт 81 года группы Машина времени для автора определил его жизненный путь, так как он впервые увидел людей, играющих на гитарах и поющих песни, и они олицетворяли собой некую мечту, к которой он стремился.\n",
      "[0, 0, 0, 0, 0, 1, 1, 0, 1, 0, 1, 0, 1, 0, 0, 0, 0, 0, 1, 0, 1, 1, 0, 0, 1, 0, 0, 0, 1, 0, 0, 1, 0, 0, 0]\n",
      "answer raw len:  172 1\n"
     ]
    },
    {
     "name": "stderr",
     "output_type": "stream",
     "text": [
      "173it [10:54, 18.69s/it, BLEU2=0.324, BLEU1=0.383, ExactMatch=0.0219, METEOR=0.584, BertScore=nan, StubScore=0.306]"
     ]
    },
    {
     "name": "stdout",
     "output_type": "stream",
     "text": [
      "sim raw len:  1\n",
      "False\n",
      "Ранние песни Макаревича включали \"Право, кого ты хотел удивить?\", \"Кого ты хотел удивить?\", \"Свеча\", \"Будет день\", \"Хрустальный город\", \"Поворот\", \"Не спеши\", \"Удивительный день\", \"Нежный дождь\", \"Сентиментальный вальс\", \"Снова в школу\", \"Снова в школу\", \"Снова в школу\", \"Снова в школу\", \"Снова в школу\", \"Снова в школу\", \"Снова в школу\", \"Снова в школу\", \"Снова в школу\", \"Снова в школу\", \"Снова в школу\", \"Снова в школу\", \"Снова в школу\", \"Снова в школу\", \"Снова в школу\", \"Снова в школу\", \"Снова в школу\", \"Снова в школу\", \"Снова в школу\", \"Снова в школу\", \"Снова в школу\", \"Снова в школу\", \"Снова в школу\", \"Снова в школу\", \"Снова в школу\", \"Снова в школу\", \"Снова в школу\", \"Снова в школу\", \"Снова в школу\", \"Снова в школу\", \"Снова в школу\", \"Снова в школу\", \"Снова в школу\", \"Снова в школу\", \"Снова в школу\", \"Снова в школу\", \"Снова в школу\", \"Снова в школу\", \"Снова в школу\", \"Снова в школу\", \"Снова в школу\", \"Снова в школу\", \"Снова в школу\", \"Снова в школу\", \"Снова в школу\", \"Снова в школу\", \"Снова в школу\", \"Снова в школу\", \"Снова в школу\", \"Снова в школу\", \"Снова в школу\", \"Снова в школу\", \"Снова в школу\", \"Снова в школу\", \"Снова в школу\", \"Снова в школу\", \"Снова в школу\", \"Снова в школу\", \"Снова в школу\", \"Снова в школу\", \"Снова в школу\", \"Снова в школу\", \"Снова в школу\", \"Снова в школу\", \"Снова в школу\", \"Снова в школу\", \"Снова в школу\", \"Снова в школу\", \"Снова в школу\", \"Снова в школу\", \"Снова в школу\", \"Снова в школу\", \"Снова в школу\", \"Снова в школу\",\n",
      "Ранние песни Макаревича были в основном чисто лирическими или шуточными.\n",
      "[0, 0, 0, 0, 0, 1, 1, 0, 1, 0, 1, 0, 1, 0, 0, 0, 0, 0, 1, 0, 1, 1, 0, 0, 1, 0, 0, 0, 1, 0, 0, 1, 0, 0, 0, 0]\n"
     ]
    },
    {
     "name": "stderr",
     "output_type": "stream",
     "text": [
      "174it [10:58, 14.52s/it, BLEU2=0.322, BLEU1=0.38, ExactMatch=0.0217, METEOR=0.584, BertScore=nan, StubScore=0.306] "
     ]
    },
    {
     "name": "stdout",
     "output_type": "stream",
     "text": [
      "answer raw len:  173 1\n",
      "True\n",
      "\"Машина времени\" ориентировалась на собственный репертуар и самостоятельный подход, отличающий их от многих любительских групп Москвы. Они стремились донести до аудитории смысл песен и вызвать размышления и дискуссии, вместо того чтобы просто развлекать их знакомыми рок-боевиками.\n",
      "„Машина времени“ ориентировалась на собственный репертуар.\n",
      "[0, 0, 0, 0, 0, 1, 1, 0, 1, 0, 1, 0, 1, 0, 0, 0, 0, 0, 1, 0, 1, 1, 0, 0, 1, 0, 0, 0, 1, 0, 0, 1, 0, 0, 0, 0]\n",
      "answer raw len:  174 1\n"
     ]
    },
    {
     "name": "stderr",
     "output_type": "stream",
     "text": [
      "175it [11:22, 17.12s/it, BLEU2=0.322, BLEU1=0.38, ExactMatch=0.0217, METEOR=0.584, BertScore=nan, StubScore=0.297]"
     ]
    },
    {
     "name": "stdout",
     "output_type": "stream",
     "text": [
      "sim raw len:  1\n",
      "False\n",
      "Машина времени стала уникальным явлением в отечественной рок-музыке, существуя уже четыре десятилетия и путешествуя через различные эпохи. Они начали как советские \"Битлз\" и превратились в российских \"Роллинг Стоунз\", став брендом, связывающим поколения. Их дискография, наполненная множеством хитов, стала саундтреком к советской и российской истории второй половины прошлого века.\n",
      "\n",
      "Истоки группы уходят в битловскую эпоху, и их творчество всегда отличалось гуманизмом, который был главной характеристикой творчества Леннона и Маккартни. Этот гуманистический подход обеспечил им бессмертие и породил благодарных последователей.\n",
      "\n",
      "Машина времени оказала значительное влияние на российскую рок-музыку, став \"неприкасаемым\" символом в этом жанре. Их песни о самом злободневном и насущном доказали, что рок-музыка не имеет ничего общего с пустой эстрадой. Хотя сегодня может потребоваться другой музыкальный язык, опыт Машины времени остается важным для тех, кто начинает играть рок, поскольку он напоминает им, что они не начинают с чистого листа, и что есть традиции и корни, на которые можно опираться.\n",
      "\"Машина времени\" стала заметным явлением на нашей эстраде благодаря своему уникальному подходу к исполнению и собственному репертуару.\n",
      "[0, 0, 0, 0, 0, 1, 1, 0, 1, 0, 1, 0, 1, 0, 0, 0, 0, 0, 1, 0, 1, 1, 0, 0, 1, 0, 0, 0, 1, 0, 0, 1, 0, 0, 0, 0, 0]\n"
     ]
    },
    {
     "name": "stderr",
     "output_type": "stream",
     "text": [
      "176it [11:26, 13.42s/it, BLEU2=0.321, BLEU1=0.379, ExactMatch=0.0216, METEOR=0.584, BertScore=nan, StubScore=0.297]"
     ]
    },
    {
     "name": "stdout",
     "output_type": "stream",
     "text": [
      "answer raw len:  175 1\n",
      "True\n",
      "\"Машина времени\" заставляла свою аудиторию задуматься, поспорить и определить свое место в жизни. Их песни затрагивали острые и актуальные проблемы, критикуя карьеризм, приспособленчество и социальную пассивность, в то же время утверждая человеческое и духовное начало.\n",
      "\"Машина времени\" заставляла аудиторию задуматься, и, возможно, даже поспорить.\n",
      "[0, 0, 0, 0, 0, 1, 1, 0, 1, 0, 1, 0, 1, 0, 0, 0, 0, 0, 1, 0, 1, 1, 0, 0, 1, 0, 0, 0, 1, 0, 0, 1, 0, 0, 0, 0, 0]\n"
     ]
    },
    {
     "name": "stderr",
     "output_type": "stream",
     "text": [
      "177it [11:28,  9.86s/it, BLEU2=0.318, BLEU1=0.378, ExactMatch=0.0214, METEOR=0.582, BertScore=nan, StubScore=0.297]"
     ]
    },
    {
     "name": "stdout",
     "output_type": "stream",
     "text": [
      "answer raw len:  176 1\n",
      "True\n",
      "Группа \"Машина времени\" не исполняла англоязычные хиты.\n",
      "Ансамбль не исполнял англоязычные шлягеры.\n",
      "[0, 0, 0, 0, 0, 1, 1, 0, 1, 0, 1, 0, 1, 0, 0, 0, 0, 0, 1, 0, 1, 1, 0, 0, 1, 0, 0, 0, 1, 0, 0, 1, 0, 0, 0, 0, 0]\n",
      "answer raw len:  177 1\n"
     ]
    },
    {
     "name": "stderr",
     "output_type": "stream",
     "text": [
      "178it [11:30,  7.46s/it, BLEU2=0.318, BLEU1=0.378, ExactMatch=0.0214, METEOR=0.582, BertScore=nan, StubScore=0.316]"
     ]
    },
    {
     "name": "stdout",
     "output_type": "stream",
     "text": [
      "sim raw len:  1\n",
      "False\n",
      "У меня нет ответа на ваш вопрос.\n",
      "Группа Машина времени исполняла песни в манере фолк-рок.\n",
      "[0, 0, 0, 0, 0, 1, 1, 0, 1, 0, 1, 0, 1, 0, 0, 0, 0, 0, 1, 0, 1, 1, 0, 0, 1, 0, 0, 0, 1, 0, 0, 1, 0, 0, 0, 0, 0, 1]\n",
      "answer raw len:  178 1\n"
     ]
    },
    {
     "name": "stderr",
     "output_type": "stream",
     "text": [
      "179it [11:35,  6.79s/it, BLEU2=0.318, BLEU1=0.378, ExactMatch=0.0214, METEOR=0.582, BertScore=nan, StubScore=0.308]"
     ]
    },
    {
     "name": "stdout",
     "output_type": "stream",
     "text": [
      "sim raw len:  1\n",
      "False\n",
      "Название группы, исполнявшей кавер-версии песен англоязычных групп и исполнителей, а также собственные песни на английском языке, написанные в подражание, - \"Time Machines\".\n",
      "Максимально близкое к оригиналу воспроизведение англоязычных композиций зарубежных групп и исполнителей называлось \"фирмой\".\n",
      "[0, 0, 0, 0, 0, 1, 1, 0, 1, 0, 1, 0, 1, 0, 0, 0, 0, 0, 1, 0, 1, 1, 0, 0, 1, 0, 0, 0, 1, 0, 0, 1, 0, 0, 0, 0, 0, 1, 0]\n"
     ]
    },
    {
     "name": "stderr",
     "output_type": "stream",
     "text": [
      "180it [11:35,  4.88s/it, BLEU2=0.316, BLEU1=0.375, ExactMatch=0.0213, METEOR=0.578, BertScore=nan, StubScore=0.308]"
     ]
    },
    {
     "name": "stdout",
     "output_type": "stream",
     "text": [
      "answer raw len:  179 1\n",
      "True\n",
      "Машина времени\n",
      "Группа \"Машина времени\", одной из первых, стала исполнять cвои cобcтвенные пеcни на руccком языке.\n",
      "[0, 0, 0, 0, 0, 1, 1, 0, 1, 0, 1, 0, 1, 0, 0, 0, 0, 0, 1, 0, 1, 1, 0, 0, 1, 0, 0, 0, 1, 0, 0, 1, 0, 0, 0, 0, 0, 1, 0]\n"
     ]
    },
    {
     "name": "stderr",
     "output_type": "stream",
     "text": [
      "181it [11:38,  4.24s/it, BLEU2=0.318, BLEU1=0.378, ExactMatch=0.0211, METEOR=0.579, BertScore=nan, StubScore=0.308]"
     ]
    },
    {
     "name": "stdout",
     "output_type": "stream",
     "text": [
      "answer raw len:  180 1\n",
      "True\n",
      "К середине 70-х годов технический и профессиональный уровень многих отечественных рок-музыкантов начал заметно повышаться.\n",
      "К середине 70-х общий техничеcкий и профеccиональный уровень многих отечеcтвенных рок-музыкантов начал заметно повышаться.\n",
      "[0, 0, 0, 0, 0, 1, 1, 0, 1, 0, 1, 0, 1, 0, 0, 0, 0, 0, 1, 0, 1, 1, 0, 0, 1, 0, 0, 0, 1, 0, 0, 1, 0, 0, 0, 0, 0, 1, 0]\n"
     ]
    },
    {
     "name": "stderr",
     "output_type": "stream",
     "text": [
      "182it [11:40,  3.66s/it, BLEU2=0.317, BLEU1=0.377, ExactMatch=0.021, METEOR=0.578, BertScore=nan, StubScore=0.308] "
     ]
    },
    {
     "name": "stdout",
     "output_type": "stream",
     "text": [
      "answer raw len:  181 1\n",
      "True\n",
      "Андрей Макаревич был лидером московской школы, который был близок к поэтической лирике с уклоном в символизм.\n",
      "Лидеры моcковcкой школы, такие как А. Градский или А. Макаревич, были ближе к поэтичеcкой лирике c уклоном в символизм.\n",
      "[0, 0, 0, 0, 0, 1, 1, 0, 1, 0, 1, 0, 1, 0, 0, 0, 0, 0, 1, 0, 1, 1, 0, 0, 1, 0, 0, 0, 1, 0, 0, 1, 0, 0, 0, 0, 0, 1, 0]\n",
      "answer raw len:  182 1\n"
     ]
    },
    {
     "name": "stderr",
     "output_type": "stream",
     "text": [
      "183it [11:52,  5.92s/it, BLEU2=0.317, BLEU1=0.377, ExactMatch=0.021, METEOR=0.578, BertScore=nan, StubScore=0.325]"
     ]
    },
    {
     "name": "stdout",
     "output_type": "stream",
     "text": [
      "sim raw len:  1\n",
      "False\n",
      "В песнях \"Машины времени\" инструментальный базис используется для передачи смысла и эмоций, выраженных в текстах песен. Ансамбль не исполнял англоязычные хиты и ориентировался исключительно на свой собственный репертуар, что позволило им выделиться среди многих любительских рок-групп того времени. Их инструментальный базис, в сочетании с их текстами, способствовал созданию ощущения, что их музыка не просто развлечение, но и пища для размышлений и обсуждения.\n",
      "Чтобы довести до сознания слушателей „текстовую“ надстройку.\n",
      "[0, 0, 0, 0, 0, 1, 1, 0, 1, 0, 1, 0, 1, 0, 0, 0, 0, 0, 1, 0, 1, 1, 0, 0, 1, 0, 0, 0, 1, 0, 0, 1, 0, 0, 0, 0, 0, 1, 0, 1]\n"
     ]
    },
    {
     "name": "stderr",
     "output_type": "stream",
     "text": [
      "184it [11:54,  4.78s/it, BLEU2=0.317, BLEU1=0.377, ExactMatch=0.0208, METEOR=0.579, BertScore=nan, StubScore=0.325]"
     ]
    },
    {
     "name": "stdout",
     "output_type": "stream",
     "text": [
      "answer raw len:  183 1\n",
      "True\n",
      "Поэтическая стихия Макаревича ближе к литературной песне (Окуджава, Н. Матвеева), чем к року.\n",
      "Поэтическая стихия Макаревича близка к литературной песне.\n",
      "[0, 0, 0, 0, 0, 1, 1, 0, 1, 0, 1, 0, 1, 0, 0, 0, 0, 0, 1, 0, 1, 1, 0, 0, 1, 0, 0, 0, 1, 0, 0, 1, 0, 0, 0, 0, 0, 1, 0, 1]\n",
      "answer raw len:  184 1\n"
     ]
    },
    {
     "name": "stderr",
     "output_type": "stream",
     "text": [
      "185it [12:10,  8.12s/it, BLEU2=0.317, BLEU1=0.377, ExactMatch=0.0208, METEOR=0.579, BertScore=nan, StubScore=0.317]"
     ]
    },
    {
     "name": "stdout",
     "output_type": "stream",
     "text": [
      "sim raw len:  1\n",
      "False\n",
      "Машина времени сыграла значительную роль в формировании российской рок-культуры и оставила неизгладимый след в истории отечественной музыки. Их музыка стала саундтреком к советской эпохе, и их песни были популярны по всей стране. Группа смогла записать новые песни и много гастролировать в период с 1981 по 1986 год, несмотря на двойственное положение в музыкальной индустрии. Они были поддержаны Росконцертом и имели возможность приобрести оборудование и содержать большой штат. Кроме того, они регулярно участвовали в новогодних огоньках и записали музыку для различных фильмов и мультсериалов. В целом, музыка Машины времени стала символом и брендом, связывающим поколения и путешествующим во времени.\n",
      "Музыка у Машины времени играет явно подчиненную роль.\n",
      "[0, 0, 0, 0, 0, 1, 1, 0, 1, 0, 1, 0, 1, 0, 0, 0, 0, 0, 1, 0, 1, 1, 0, 0, 1, 0, 0, 0, 1, 0, 0, 1, 0, 0, 0, 0, 0, 1, 0, 1, 0]\n"
     ]
    },
    {
     "name": "stderr",
     "output_type": "stream",
     "text": [
      "186it [12:12,  6.35s/it, BLEU2=0.316, BLEU1=0.377, ExactMatch=0.0207, METEOR=0.579, BertScore=nan, StubScore=0.317]"
     ]
    },
    {
     "name": "stdout",
     "output_type": "stream",
     "text": [
      "answer raw len:  185 1\n",
      "True\n",
      "Резкие, эмоциональные, конкретные стихи В. Высоцкого соответствуют ритму и темпу рок-музыки.\n",
      "Стихи В. Высоцкого соответствуют рок-музыке.\n",
      "[0, 0, 0, 0, 0, 1, 1, 0, 1, 0, 1, 0, 1, 0, 0, 0, 0, 0, 1, 0, 1, 1, 0, 0, 1, 0, 0, 0, 1, 0, 0, 1, 0, 0, 0, 0, 0, 1, 0, 1, 0]\n",
      "answer raw len:  186 1\n"
     ]
    },
    {
     "name": "stderr",
     "output_type": "stream",
     "text": [
      "187it [12:14,  5.02s/it, BLEU2=0.316, BLEU1=0.377, ExactMatch=0.0207, METEOR=0.579, BertScore=nan, StubScore=0.333]"
     ]
    },
    {
     "name": "stdout",
     "output_type": "stream",
     "text": [
      "sim raw len:  1\n",
      "False\n",
      "У меня нет ответа на ваш вопрос.\n",
      "Музыкальная стихия \"Машины времени\" - не чистый рок, а некая смесь рока, кантри, \"городских романсов\" и даже традиционной, образца \"Самоцветов\", ВИА-эстрады.\n",
      "[0, 0, 0, 0, 0, 1, 1, 0, 1, 0, 1, 0, 1, 0, 0, 0, 0, 0, 1, 0, 1, 1, 0, 0, 1, 0, 0, 0, 1, 0, 0, 1, 0, 0, 0, 0, 0, 1, 0, 1, 0, 1]\n",
      "answer raw len:  187 1\n"
     ]
    },
    {
     "name": "stderr",
     "output_type": "stream",
     "text": [
      "188it [12:16,  4.12s/it, BLEU2=0.316, BLEU1=0.377, ExactMatch=0.0207, METEOR=0.579, BertScore=nan, StubScore=0.349]"
     ]
    },
    {
     "name": "stdout",
     "output_type": "stream",
     "text": [
      "sim raw len:  1\n",
      "False\n",
      "У меня нет ответа на ваш вопрос.\n",
      "Макар с товарищами к сегодняшнему дню превратились в российских „роллингов“.\n",
      "[0, 0, 0, 0, 0, 1, 1, 0, 1, 0, 1, 0, 1, 0, 0, 0, 0, 0, 1, 0, 1, 1, 0, 0, 1, 0, 0, 0, 1, 0, 0, 1, 0, 0, 0, 0, 0, 1, 0, 1, 0, 1, 1]\n",
      "answer raw len:  188 1\n"
     ]
    },
    {
     "name": "stderr",
     "output_type": "stream",
     "text": [
      "189it [12:25,  5.77s/it, BLEU2=0.316, BLEU1=0.377, ExactMatch=0.0207, METEOR=0.579, BertScore=nan, StubScore=0.341]"
     ]
    },
    {
     "name": "stdout",
     "output_type": "stream",
     "text": [
      "sim raw len:  1\n",
      "False\n",
      "Машина времени начиналась как любительская группа, состав участников которой часто менялся. Осенью 1971 года Сергей Кавагоэ пригласил Александра Кутикова на замену ушедшего в армию Игоря Мазаева. Позже Кутиков пригласил Михаила Капитановского на барабаны, заменив Юрия Борзова. В этом составе группа добилась успеха в бит-клубе.\n",
      "Деятельность участники группы Машина времени начинали как советские „битлы“.\n",
      "[0, 0, 0, 0, 0, 1, 1, 0, 1, 0, 1, 0, 1, 0, 0, 0, 0, 0, 1, 0, 1, 1, 0, 0, 1, 0, 0, 0, 1, 0, 0, 1, 0, 0, 0, 0, 0, 1, 0, 1, 0, 1, 1, 0]\n"
     ]
    },
    {
     "name": "stderr",
     "output_type": "stream",
     "text": [
      "190it [12:27,  4.64s/it, BLEU2=0.314, BLEU1=0.375, ExactMatch=0.0205, METEOR=0.578, BertScore=nan, StubScore=0.341]"
     ]
    },
    {
     "name": "stdout",
     "output_type": "stream",
     "text": [
      "answer raw len:  189 1\n",
      "True\n",
      "\"Время\" - это телевизионная программа, которая является ровесником группы \"Машина времени\".\n",
      "Телепрограмма „Время“ ровесница группы Машина времени.\n",
      "[0, 0, 0, 0, 0, 1, 1, 0, 1, 0, 1, 0, 1, 0, 0, 0, 0, 0, 1, 0, 1, 1, 0, 0, 1, 0, 0, 0, 1, 0, 0, 1, 0, 0, 0, 0, 0, 1, 0, 1, 0, 1, 1, 0]\n",
      "answer raw len:  190 1\n"
     ]
    },
    {
     "name": "stderr",
     "output_type": "stream",
     "text": [
      "191it [12:31,  4.33s/it, BLEU2=0.314, BLEU1=0.375, ExactMatch=0.0205, METEOR=0.578, BertScore=nan, StubScore=0.333]"
     ]
    },
    {
     "name": "stdout",
     "output_type": "stream",
     "text": [
      "sim raw len:  1\n",
      "False\n",
      "Группа \"Машина времени\" была создана в 1972 году.\n",
      "Группе Машина времени четыре десятилетия.\n",
      "[0, 0, 0, 0, 0, 1, 1, 0, 1, 0, 1, 0, 1, 0, 0, 0, 0, 0, 1, 0, 1, 1, 0, 0, 1, 0, 0, 0, 1, 0, 0, 1, 0, 0, 0, 0, 0, 1, 0, 1, 0, 1, 1, 0, 0]\n",
      "answer raw len:  191 1\n"
     ]
    },
    {
     "name": "stderr",
     "output_type": "stream",
     "text": [
      "192it [12:43,  6.57s/it, BLEU2=0.314, BLEU1=0.375, ExactMatch=0.0205, METEOR=0.578, BertScore=nan, StubScore=0.348]"
     ]
    },
    {
     "name": "stdout",
     "output_type": "stream",
     "text": [
      "sim raw len:  1\n",
      "False\n",
      "В 1969 году группа записала альбом Time Machines, состоящий из одиннадцати англоязычных песен, написанных участниками группы. Они также исполняли кавер-версии песен английских и американских групп, а также собственные песни, написанные на английском языке. Со временем в их репертуаре появились песни на русском языке, тексты для которых написал А. Макаревич. Большое влияние на стилистику группы оказали принципы движения хиппи, которые стали популярными среди части советской молодежи в начале 1970-х годов.\n",
      "Дискография и хиты группы \"Машина времени\" стали саундтреком к советско-российской истории второй половины прошлого века.\n",
      "[0, 0, 0, 0, 0, 1, 1, 0, 1, 0, 1, 0, 1, 0, 0, 0, 0, 0, 1, 0, 1, 1, 0, 0, 1, 0, 0, 0, 1, 0, 0, 1, 0, 0, 0, 0, 0, 1, 0, 1, 0, 1, 1, 0, 0, 1]\n"
     ]
    },
    {
     "name": "stderr",
     "output_type": "stream",
     "text": [
      "193it [12:44,  4.83s/it, BLEU2=0.312, BLEU1=0.372, ExactMatch=0.0204, METEOR=0.574, BertScore=nan, StubScore=0.348]"
     ]
    },
    {
     "name": "stdout",
     "output_type": "stream",
     "text": [
      "answer raw len:  192 1\n",
      "True\n",
      "У меня нет ответа на ваш вопрос.\n",
      "В течение более полугода вся Россия облекается в белый цвет снежного савана.\n",
      "[0, 0, 0, 0, 0, 1, 1, 0, 1, 0, 1, 0, 1, 0, 0, 0, 0, 0, 1, 0, 1, 1, 0, 0, 1, 0, 0, 0, 1, 0, 0, 1, 0, 0, 0, 0, 0, 1, 0, 1, 0, 1, 1, 0, 0, 1]\n"
     ]
    },
    {
     "name": "stderr",
     "output_type": "stream",
     "text": [
      "194it [12:46,  4.19s/it, BLEU2=0.315, BLEU1=0.375, ExactMatch=0.0203, METEOR=0.576, BertScore=nan, StubScore=0.348]"
     ]
    },
    {
     "name": "stdout",
     "output_type": "stream",
     "text": [
      "answer raw len:  193 1\n",
      "True\n",
      "Особое совещание под председательством К. Н. Посьета в 1896 году обсуждало вопрос о российском национальном флаге.\n",
      "Особое совещание под председательством К. Н. Посьета в 1896 году было для обсуждения вопроса о российском национальном флаге.\n",
      "[0, 0, 0, 0, 0, 1, 1, 0, 1, 0, 1, 0, 1, 0, 0, 0, 0, 0, 1, 0, 1, 1, 0, 0, 1, 0, 0, 0, 1, 0, 0, 1, 0, 0, 0, 0, 0, 1, 0, 1, 0, 1, 1, 0, 0, 1]\n"
     ]
    },
    {
     "name": "stderr",
     "output_type": "stream",
     "text": [
      "195it [12:48,  3.37s/it, BLEU2=0.314, BLEU1=0.375, ExactMatch=0.0201, METEOR=0.577, BertScore=nan, StubScore=0.348]"
     ]
    },
    {
     "name": "stdout",
     "output_type": "stream",
     "text": [
      "answer raw len:  194 1\n",
      "True\n",
      "Уважение к белому цвету, исходя из пословиц, видно.\n",
      "Исходя из поговорок видно уважение народа к белому цвету.\n",
      "[0, 0, 0, 0, 0, 1, 1, 0, 1, 0, 1, 0, 1, 0, 0, 0, 0, 0, 1, 0, 1, 1, 0, 0, 1, 0, 0, 0, 1, 0, 0, 1, 0, 0, 0, 0, 0, 1, 0, 1, 0, 1, 1, 0, 0, 1]\n"
     ]
    },
    {
     "name": "stderr",
     "output_type": "stream",
     "text": [
      "196it [12:50,  2.88s/it, BLEU2=0.314, BLEU1=0.375, ExactMatch=0.02, METEOR=0.577, BertScore=nan, StubScore=0.348]  "
     ]
    },
    {
     "name": "stdout",
     "output_type": "stream",
     "text": [
      "answer raw len:  195 1\n",
      "True\n",
      "Цвета, необходимые для эмблематического представления внешнего вида России, - белый, синий и красный.\n",
      "Для эмблематического выражения наружного вида России необходимо употребить цвета: белый, синий и красный.\n",
      "[0, 0, 0, 0, 0, 1, 1, 0, 1, 0, 1, 0, 1, 0, 0, 0, 0, 0, 1, 0, 1, 1, 0, 0, 1, 0, 0, 0, 1, 0, 0, 1, 0, 0, 0, 0, 0, 1, 0, 1, 0, 1, 1, 0, 0, 1]\n"
     ]
    },
    {
     "name": "stderr",
     "output_type": "stream",
     "text": [
      "197it [12:52,  2.82s/it, BLEU2=0.312, BLEU1=0.373, ExactMatch=0.0199, METEOR=0.574, BertScore=nan, StubScore=0.348]"
     ]
    },
    {
     "name": "stdout",
     "output_type": "stream",
     "text": [
      "answer raw len:  196 1\n",
      "True\n",
      "Какой цвет был выбран для эмблематического выражения внешнего вида России на основе решения Особого совещания под председательством К.Н. Посьета в 1896 году?\n",
      "Белый цвет снежного савана, в который вся Россия облекается в течение более полугода.\n",
      "[0, 0, 0, 0, 0, 1, 1, 0, 1, 0, 1, 0, 1, 0, 0, 0, 0, 0, 1, 0, 1, 1, 0, 0, 1, 0, 0, 0, 1, 0, 0, 1, 0, 0, 0, 0, 0, 1, 0, 1, 0, 1, 1, 0, 0, 1]\n",
      "answer raw len:  197 1\n"
     ]
    },
    {
     "name": "stderr",
     "output_type": "stream",
     "text": [
      "198it [12:57,  3.38s/it, BLEU2=0.312, BLEU1=0.373, ExactMatch=0.0199, METEOR=0.574, BertScore=nan, StubScore=0.34] "
     ]
    },
    {
     "name": "stdout",
     "output_type": "stream",
     "text": [
      "sim raw len:  1\n",
      "False\n",
      "Человеческие души естественным образом тяготеют к пути, присущему их материальному я, и противному их абсолютному я, как это описано в текстах Плотина.\n",
      "К простому человеческому добру и платят долгой и искренней памятью его носителям.\n",
      "[0, 0, 0, 0, 0, 1, 1, 0, 1, 0, 1, 0, 1, 0, 0, 0, 0, 0, 1, 0, 1, 1, 0, 0, 1, 0, 0, 0, 1, 0, 0, 1, 0, 0, 0, 0, 0, 1, 0, 1, 0, 1, 1, 0, 0, 1, 0]\n",
      "answer raw len:  198 1\n"
     ]
    },
    {
     "name": "stderr",
     "output_type": "stream",
     "text": [
      "199it [12:59,  3.04s/it, BLEU2=0.312, BLEU1=0.373, ExactMatch=0.0199, METEOR=0.574, BertScore=nan, StubScore=0.354]"
     ]
    },
    {
     "name": "stdout",
     "output_type": "stream",
     "text": [
      "sim raw len:  1\n",
      "False\n",
      "У меня нет ответа на ваш вопрос.\n",
      "Песня А. Макаревича о непостоянстве называется \" Я с детства склонен к перемене мест\".\n",
      "[0, 0, 0, 0, 0, 1, 1, 0, 1, 0, 1, 0, 1, 0, 0, 0, 0, 0, 1, 0, 1, 1, 0, 0, 1, 0, 0, 0, 1, 0, 0, 1, 0, 0, 0, 0, 0, 1, 0, 1, 0, 1, 1, 0, 0, 1, 0, 1]\n"
     ]
    },
    {
     "name": "stderr",
     "output_type": "stream",
     "text": [
      "200it [13:03,  3.18s/it, BLEU2=0.312, BLEU1=0.373, ExactMatch=0.0197, METEOR=0.575, BertScore=nan, StubScore=0.354]"
     ]
    },
    {
     "name": "stdout",
     "output_type": "stream",
     "text": [
      "answer raw len:  199 1\n",
      "True\n",
      "Леннон и Маккартни привнесли гуманистическое искусство в рок-культуру, которое было отмечено экспериментами, инновациями и приверженностью принципам, таким как доброта и искренность.\n",
      "Леннон и Маккартни привнесли в рок-культуру гуманистическое искусство.\n",
      "[0, 0, 0, 0, 0, 1, 1, 0, 1, 0, 1, 0, 1, 0, 0, 0, 0, 0, 1, 0, 1, 1, 0, 0, 1, 0, 0, 0, 1, 0, 0, 1, 0, 0, 0, 0, 0, 1, 0, 1, 0, 1, 1, 0, 0, 1, 0, 1]\n"
     ]
    },
    {
     "name": "stderr",
     "output_type": "stream",
     "text": [
      "201it [13:07,  3.55s/it, BLEU2=0.31, BLEU1=0.37, ExactMatch=0.0196, METEOR=0.572, BertScore=nan, StubScore=0.354]  "
     ]
    },
    {
     "name": "stdout",
     "output_type": "stream",
     "text": [
      "answer raw len:  200 1\n",
      "True\n",
      "Машина времени по-прежнему придерживается гуманистического принципа битловской эпохи, который включает в себя акцент на человеческом и духовном начале, оптимизм и убежденность в способности человека стать по-настоящему прекрасным.\n",
      "Музыкальное наследие „Машины времени“ привержено до сих пор гуманизму.\n",
      "[0, 0, 0, 0, 0, 1, 1, 0, 1, 0, 1, 0, 1, 0, 0, 0, 0, 0, 1, 0, 1, 1, 0, 0, 1, 0, 0, 0, 1, 0, 0, 1, 0, 0, 0, 0, 0, 1, 0, 1, 0, 1, 1, 0, 0, 1, 0, 1]\n"
     ]
    },
    {
     "name": "stderr",
     "output_type": "stream",
     "text": [
      "202it [13:17,  5.50s/it, BLEU2=0.308, BLEU1=0.368, ExactMatch=0.0195, METEOR=0.569, BertScore=nan, StubScore=0.354]"
     ]
    },
    {
     "name": "stdout",
     "output_type": "stream",
     "text": [
      "answer raw len:  201 1\n",
      "True\n",
      "\"Машина времени\" была возведена на пьедестал как \"неприкасаемая\" группа в нашей рок-культуре благодаря интеграции гуманистического искусства. Они были первыми, кто последовательно интегрировал принципы гуманизма в рок-культуру, обеспечивая себе бессмертие и порождая благодарных последователей. Их подход, ориентированный на собственный репертуар, отличал их от других любительских рок-групп Москвы, и они стремились донести до аудитории смысл проблемы, представленной в песне, побуждая их думать и спорить.\n",
      "На „неприкасаемый“ пьедестал возвела „Машину времени“ интеграция в нашу рок-культуру гумманистического искусства.\n",
      "[0, 0, 0, 0, 0, 1, 1, 0, 1, 0, 1, 0, 1, 0, 0, 0, 0, 0, 1, 0, 1, 1, 0, 0, 1, 0, 0, 0, 1, 0, 0, 1, 0, 0, 0, 0, 0, 1, 0, 1, 0, 1, 1, 0, 0, 1, 0, 1]\n"
     ]
    },
    {
     "name": "stderr",
     "output_type": "stream",
     "text": [
      "203it [13:19,  4.45s/it, BLEU2=0.309, BLEU1=0.37, ExactMatch=0.0194, METEOR=0.57, BertScore=nan, StubScore=0.354]  "
     ]
    },
    {
     "name": "stdout",
     "output_type": "stream",
     "text": [
      "answer raw len:  202 1\n",
      "True\n",
      "Телесериал \"Воспоминания о Шерлоке Холмсе\" был снят в 2000 году.\n",
      "Телесериал по мотивам фильма о Шерлоке Холмсе снят в 2000 году.\n",
      "[0, 0, 0, 0, 0, 1, 1, 0, 1, 0, 1, 0, 1, 0, 0, 0, 0, 0, 1, 0, 1, 1, 0, 0, 1, 0, 0, 0, 1, 0, 0, 1, 0, 0, 0, 0, 0, 1, 0, 1, 0, 1, 1, 0, 0, 1, 0, 1]\n"
     ]
    },
    {
     "name": "stderr",
     "output_type": "stream",
     "text": [
      "204it [13:20,  3.46s/it, BLEU2=0.308, BLEU1=0.369, ExactMatch=0.0192, METEOR=0.569, BertScore=nan, StubScore=0.354]"
     ]
    },
    {
     "name": "stdout",
     "output_type": "stream",
     "text": [
      "answer raw len:  203 1\n",
      "True\n",
      "Василий Ливанов был награжден Орденом Британской империи.\n",
      "Василий Ливанов за роли в фильмах о Шерлоке Холмсе отмечен орденом Британской империи.\n",
      "[0, 0, 0, 0, 0, 1, 1, 0, 1, 0, 1, 0, 1, 0, 0, 0, 0, 0, 1, 0, 1, 1, 0, 0, 1, 0, 0, 0, 1, 0, 0, 1, 0, 0, 0, 0, 0, 1, 0, 1, 0, 1, 1, 0, 0, 1, 0, 1]\n"
     ]
    },
    {
     "name": "stderr",
     "output_type": "stream",
     "text": [
      "205it [13:23,  3.16s/it, BLEU2=0.308, BLEU1=0.369, ExactMatch=0.0191, METEOR=0.57, BertScore=nan, StubScore=0.354] "
     ]
    },
    {
     "name": "stdout",
     "output_type": "stream",
     "text": [
      "answer raw len:  204 1\n",
      "True\n",
      "Название телесериала, основанного на фильмах о Шерлоке Холмсе, - \"Воспоминания о Шерлоке Холмсе\".\n",
      "Телесериал, снятый по мотивам фильма о Шерлоке Холмсе носит название \"Воспоминания о Шерлоке Холмсе\".\n",
      "[0, 0, 0, 0, 0, 1, 1, 0, 1, 0, 1, 0, 1, 0, 0, 0, 0, 0, 1, 0, 1, 1, 0, 0, 1, 0, 0, 0, 1, 0, 0, 1, 0, 0, 0, 0, 0, 1, 0, 1, 0, 1, 1, 0, 0, 1, 0, 1]\n"
     ]
    },
    {
     "name": "stderr",
     "output_type": "stream",
     "text": [
      "206it [13:25,  2.75s/it, BLEU2=0.309, BLEU1=0.37, ExactMatch=0.019, METEOR=0.57, BertScore=nan, StubScore=0.354]  "
     ]
    },
    {
     "name": "stdout",
     "output_type": "stream",
     "text": [
      "answer raw len:  205 1\n",
      "True\n",
      "Василий Ливанов был награжден Орденом Британской империи 23 февраля 2006 года.\n",
      "Василий Ливанов награждён орденом Британской империи за роли в фильмах о Шерлоке Холмсе 23 февраля 2006 года.\n",
      "[0, 0, 0, 0, 0, 1, 1, 0, 1, 0, 1, 0, 1, 0, 0, 0, 0, 0, 1, 0, 1, 1, 0, 0, 1, 0, 0, 0, 1, 0, 0, 1, 0, 0, 0, 0, 0, 1, 0, 1, 0, 1, 1, 0, 0, 1, 0, 1]\n"
     ]
    },
    {
     "name": "stderr",
     "output_type": "stream",
     "text": [
      "207it [13:26,  2.41s/it, BLEU2=0.311, BLEU1=0.372, ExactMatch=0.0189, METEOR=0.572, BertScore=nan, StubScore=0.354]"
     ]
    },
    {
     "name": "stdout",
     "output_type": "stream",
     "text": [
      "answer raw len:  206 1\n",
      "True\n",
      "В советских фильмах о Шерлоке Холмсе главные роли исполнили Василий Ливанов и Виталий Соломин.\n",
      "Василий Ливанов и Виталий Соломин исполнили главные роли в советских фильмах о Шерлоке Холмсе.\n",
      "[0, 0, 0, 0, 0, 1, 1, 0, 1, 0, 1, 0, 1, 0, 0, 0, 0, 0, 1, 0, 1, 1, 0, 0, 1, 0, 0, 0, 1, 0, 0, 1, 0, 0, 0, 0, 0, 1, 0, 1, 0, 1, 1, 0, 0, 1, 0, 1]\n"
     ]
    },
    {
     "name": "stderr",
     "output_type": "stream",
     "text": [
      "208it [13:35,  4.38s/it, BLEU2=0.309, BLEU1=0.37, ExactMatch=0.0187, METEOR=0.57, BertScore=nan, StubScore=0.354]  "
     ]
    },
    {
     "name": "stdout",
     "output_type": "stream",
     "text": [
      "answer raw len:  207 1\n",
      "True\n",
      "В тексте упоминаются внутренние части кратеров Эндимион, Юлий Цезарь, Витрувий, Питат, Гиппас, Тарутий, Теофил, Паррот, Флемстид, Архимед, Птолемей, Аристид, Вихман, Кеплер, Укерт, Эвклид, Прокл, Гиппарх, Местинг А и Мерсенн.\n",
      "Внутренние части и центральный пик кратера Аристарх.\n",
      "[0, 0, 0, 0, 0, 1, 1, 0, 1, 0, 1, 0, 1, 0, 0, 0, 0, 0, 1, 0, 1, 1, 0, 0, 1, 0, 0, 0, 1, 0, 0, 1, 0, 0, 0, 0, 0, 1, 0, 1, 0, 1, 1, 0, 0, 1, 0, 1]\n"
     ]
    },
    {
     "name": "stderr",
     "output_type": "stream",
     "text": [
      "209it [13:39,  4.09s/it, BLEU2=0.308, BLEU1=0.37, ExactMatch=0.0186, METEOR=0.571, BertScore=nan, StubScore=0.354]"
     ]
    },
    {
     "name": "stdout",
     "output_type": "stream",
     "text": [
      "answer raw len:  208 1\n",
      "True\n",
      "Часть кратера Архимед, упомянутая в тексте под 3½°, - это внутренние части кратеров Тарутий, Теофил, Паррот и Флемстид.\n",
      "Внутренняя часть кратера Архимед упоминается в тексте под 3½°.\n",
      "[0, 0, 0, 0, 0, 1, 1, 0, 1, 0, 1, 0, 1, 0, 0, 0, 0, 0, 1, 0, 1, 1, 0, 0, 1, 0, 0, 0, 1, 0, 0, 1, 0, 0, 0, 0, 0, 1, 0, 1, 0, 1, 1, 0, 0, 1, 0, 1]\n"
     ]
    },
    {
     "name": "stderr",
     "output_type": "stream",
     "text": [
      "210it [13:41,  3.50s/it, BLEU2=0.311, BLEU1=0.372, ExactMatch=0.0185, METEOR=0.573, BertScore=nan, StubScore=0.354]"
     ]
    },
    {
     "name": "stdout",
     "output_type": "stream",
     "text": [
      "answer raw len:  209 1\n",
      "True\n",
      "Пик Ласирис упоминается в тексте вместе с кратерами Теэтет и Зонгрен.\n",
      "Ла-Гира упоминается в тексте вместе с кратерами Теэтет и Зонгрен.\n",
      "[0, 0, 0, 0, 0, 1, 1, 0, 1, 0, 1, 0, 1, 0, 0, 0, 0, 0, 1, 0, 1, 1, 0, 0, 1, 0, 0, 0, 1, 0, 0, 1, 0, 0, 0, 0, 0, 1, 0, 1, 0, 1, 1, 0, 0, 1, 0, 1]\n"
     ]
    },
    {
     "name": "stderr",
     "output_type": "stream",
     "text": [
      "211it [13:44,  3.30s/it, BLEU2=0.311, BLEU1=0.372, ExactMatch=0.0184, METEOR=0.574, BertScore=nan, StubScore=0.354]"
     ]
    },
    {
     "name": "stdout",
     "output_type": "stream",
     "text": [
      "answer raw len:  210 1\n",
      "True\n",
      "Второй кратер, упомянутый в тексте вместе с кратером Гримальди, - это кратер Риччиолли.\n",
      "Риччоли упоминается в тексте вместе с кратером Гримальди.\n",
      "[0, 0, 0, 0, 0, 1, 1, 0, 1, 0, 1, 0, 1, 0, 0, 0, 0, 0, 1, 0, 1, 1, 0, 0, 1, 0, 0, 0, 1, 0, 0, 1, 0, 0, 0, 0, 0, 1, 0, 1, 0, 1, 1, 0, 0, 1, 0, 1]\n"
     ]
    },
    {
     "name": "stderr",
     "output_type": "stream",
     "text": [
      "212it [13:46,  3.08s/it, BLEU2=0.311, BLEU1=0.371, ExactMatch=0.0183, METEOR=0.574, BertScore=nan, StubScore=0.354]"
     ]
    },
    {
     "name": "stdout",
     "output_type": "stream",
     "text": [
      "answer raw len:  211 1\n",
      "True\n",
      "В тексте с оценкой 4.5° упоминаются поверхности вокруг кратеров Аристилл, Центральный бассейн и Коперник.\n",
      "Поверхность вокруг кратеров Аристилл, Центрального залива.\n",
      "[0, 0, 0, 0, 0, 1, 1, 0, 1, 0, 1, 0, 1, 0, 0, 0, 0, 0, 1, 0, 1, 1, 0, 0, 1, 0, 0, 0, 1, 0, 0, 1, 0, 0, 0, 0, 0, 1, 0, 1, 0, 1, 1, 0, 0, 1, 0, 1]\n"
     ]
    },
    {
     "name": "stderr",
     "output_type": "stream",
     "text": [
      "213it [13:47,  2.42s/it, BLEU2=0.31, BLEU1=0.37, ExactMatch=0.0182, METEOR=0.573, BertScore=nan, StubScore=0.354]  "
     ]
    },
    {
     "name": "stdout",
     "output_type": "stream",
     "text": [
      "answer raw len:  212 1\n",
      "True\n",
      "1 апреля 1778 года\n",
      "Ла Файет присоединился 1 апреля 1778 года к главным силам Вашингтона.\n",
      "[0, 0, 0, 0, 0, 1, 1, 0, 1, 0, 1, 0, 1, 0, 0, 0, 0, 0, 1, 0, 1, 1, 0, 0, 1, 0, 0, 0, 1, 0, 0, 1, 0, 0, 0, 0, 0, 1, 0, 1, 0, 1, 1, 0, 0, 1, 0, 1]\n"
     ]
    },
    {
     "name": "stderr",
     "output_type": "stream",
     "text": [
      "214it [13:48,  1.96s/it, BLEU2=0.308, BLEU1=0.368, ExactMatch=0.0181, METEOR=0.569, BertScore=nan, StubScore=0.354]"
     ]
    },
    {
     "name": "stdout",
     "output_type": "stream",
     "text": [
      "answer raw len:  213 1\n",
      "True\n",
      "1 апреля 1778 года\n",
      "Ла Файет присоединился в Вэлли-Фодж к главным силам Вашингтона.\n",
      "[0, 0, 0, 0, 0, 1, 1, 0, 1, 0, 1, 0, 1, 0, 0, 0, 0, 0, 1, 0, 1, 1, 0, 0, 1, 0, 0, 0, 1, 0, 0, 1, 0, 0, 0, 0, 0, 1, 0, 1, 0, 1, 1, 0, 0, 1, 0, 1]\n"
     ]
    },
    {
     "name": "stderr",
     "output_type": "stream",
     "text": [
      "215it [13:49,  1.69s/it, BLEU2=0.306, BLEU1=0.366, ExactMatch=0.018, METEOR=0.567, BertScore=nan, StubScore=0.354] "
     ]
    },
    {
     "name": "stdout",
     "output_type": "stream",
     "text": [
      "answer raw len:  214 1\n",
      "True\n",
      "18 мая 1778 года.\n",
      "18 мая 1778 года Вашингтон доверил Ла Файету руководство операцией, имевшей целью провести разведку боем в районе Филадельфии\n",
      "[0, 0, 0, 0, 0, 1, 1, 0, 1, 0, 1, 0, 1, 0, 0, 0, 0, 0, 1, 0, 1, 1, 0, 0, 1, 0, 0, 0, 1, 0, 0, 1, 0, 0, 0, 0, 0, 1, 0, 1, 0, 1, 1, 0, 0, 1, 0, 1]\n"
     ]
    },
    {
     "name": "stderr",
     "output_type": "stream",
     "text": [
      "216it [13:50,  1.45s/it, BLEU2=0.304, BLEU1=0.364, ExactMatch=0.0179, METEOR=0.564, BertScore=nan, StubScore=0.354]"
     ]
    },
    {
     "name": "stdout",
     "output_type": "stream",
     "text": [
      "answer raw len:  215 1\n",
      "True\n",
      "У меня нет ответа на ваш вопрос.\n",
      "Генерал Потер опоздал к назначенному сроку.\n",
      "[0, 0, 0, 0, 0, 1, 1, 0, 1, 0, 1, 0, 1, 0, 0, 0, 0, 0, 1, 0, 1, 1, 0, 0, 1, 0, 0, 0, 1, 0, 0, 1, 0, 0, 0, 0, 0, 1, 0, 1, 0, 1, 1, 0, 0, 1, 0, 1]\n"
     ]
    },
    {
     "name": "stderr",
     "output_type": "stream",
     "text": [
      "217it [13:52,  1.54s/it, BLEU2=0.303, BLEU1=0.363, ExactMatch=0.0178, METEOR=0.563, BertScore=nan, StubScore=0.354]"
     ]
    },
    {
     "name": "stdout",
     "output_type": "stream",
     "text": [
      "answer raw len:  216 1\n",
      "True\n",
      "20 мая в дивизии Лафайета было 3 500 человек.\n",
      "2500 человек при 5 орудиях было в дивизии Ла Файета 20 мая.\n",
      "[0, 0, 0, 0, 0, 1, 1, 0, 1, 0, 1, 0, 1, 0, 0, 0, 0, 0, 1, 0, 1, 1, 0, 0, 1, 0, 0, 0, 1, 0, 0, 1, 0, 0, 0, 0, 0, 1, 0, 1, 0, 1, 1, 0, 0, 1, 0, 1]\n"
     ]
    },
    {
     "name": "stderr",
     "output_type": "stream",
     "text": [
      "218it [13:53,  1.66s/it, BLEU2=0.304, BLEU1=0.364, ExactMatch=0.0176, METEOR=0.565, BertScore=nan, StubScore=0.354]"
     ]
    },
    {
     "name": "stdout",
     "output_type": "stream",
     "text": [
      "answer raw len:  217 1\n",
      "True\n",
      "Газета \"Северный рабочий\" из Северодвинска объявила конкурс на создание флага и герба города в июле 2014 года.\n",
      "Газета Северный рабочий в 2014 году объявила состязание на создание флага и герба города.\n",
      "[0, 0, 0, 0, 0, 1, 1, 0, 1, 0, 1, 0, 1, 0, 0, 0, 0, 0, 1, 0, 1, 1, 0, 0, 1, 0, 0, 0, 1, 0, 0, 1, 0, 0, 0, 0, 0, 1, 0, 1, 0, 1, 1, 0, 0, 1, 0, 1]\n"
     ]
    },
    {
     "name": "stderr",
     "output_type": "stream",
     "text": [
      "219it [13:56,  1.93s/it, BLEU2=0.304, BLEU1=0.365, ExactMatch=0.0175, METEOR=0.567, BertScore=nan, StubScore=0.354]"
     ]
    },
    {
     "name": "stdout",
     "output_type": "stream",
     "text": [
      "answer raw len:  218 1\n",
      "True\n",
      "Комиссия, принимающая идеи для создания флага и герба города Северодвинска в 2014 году, была создана городским управлением культуры и общественных связей.\n",
      "Комиссия была создана городским управлением культуры и общественных связей.\n",
      "[0, 0, 0, 0, 0, 1, 1, 0, 1, 0, 1, 0, 1, 0, 0, 0, 0, 0, 1, 0, 1, 1, 0, 0, 1, 0, 0, 0, 1, 0, 0, 1, 0, 0, 0, 0, 0, 1, 0, 1, 0, 1, 1, 0, 0, 1, 0, 1]\n"
     ]
    },
    {
     "name": "stderr",
     "output_type": "stream",
     "text": [
      "220it [13:59,  2.09s/it, BLEU2=0.305, BLEU1=0.366, ExactMatch=0.0174, METEOR=0.568, BertScore=nan, StubScore=0.354]"
     ]
    },
    {
     "name": "stdout",
     "output_type": "stream",
     "text": [
      "answer raw len:  219 1\n",
      "True\n",
      "Решение о проведении конкурса по созданию герба и флага города Северодвинска было принято депутатами города во время их последней сессии перед летними каникулами в 2014 году.\n",
      "Решение об организации конкурса по созданию герба и флага города Северодвинска в 2014 году было принято депутатами Северодвинска.\n",
      "[0, 0, 0, 0, 0, 1, 1, 0, 1, 0, 1, 0, 1, 0, 0, 0, 0, 0, 1, 0, 1, 1, 0, 0, 1, 0, 0, 0, 1, 0, 0, 1, 0, 0, 0, 0, 0, 1, 0, 1, 0, 1, 1, 0, 0, 1, 0, 1]\n"
     ]
    },
    {
     "name": "stderr",
     "output_type": "stream",
     "text": [
      "221it [14:02,  2.46s/it, BLEU2=0.307, BLEU1=0.367, ExactMatch=0.0173, METEOR=0.569, BertScore=nan, StubScore=0.354]"
     ]
    },
    {
     "name": "stdout",
     "output_type": "stream",
     "text": [
      "answer raw len:  220 1\n",
      "True\n",
      "В тексте говорится, что конкурс на создание герба и флага города Северодвинска проходил с 14 июля 2014 года по 14 октября 2014 года.\n",
      "Конкурс по созданию герба и флага города Северодвинска проходил с 14 июля по 14 октября 2014 года.\n",
      "[0, 0, 0, 0, 0, 1, 1, 0, 1, 0, 1, 0, 1, 0, 0, 0, 0, 0, 1, 0, 1, 1, 0, 0, 1, 0, 0, 0, 1, 0, 0, 1, 0, 0, 0, 0, 0, 1, 0, 1, 0, 1, 1, 0, 0, 1, 0, 1]\n"
     ]
    },
    {
     "name": "stderr",
     "output_type": "stream",
     "text": [
      "222it [14:05,  2.62s/it, BLEU2=0.306, BLEU1=0.367, ExactMatch=0.0172, METEOR=0.568, BertScore=nan, StubScore=0.354]"
     ]
    },
    {
     "name": "stdout",
     "output_type": "stream",
     "text": [
      "answer raw len:  221 1\n",
      "True\n",
      "В 2014 году в Северодвинске было проведено состязание по созданию герба и флага среди отдельных художников и коллективов. Конкурс был организован городским управлением культуры и общественных связей.\n",
      "В конкурсе по созданию герба и флага Северодвинска в 2014 году приняли участие как отдельные творцы, так и коллективы.\n",
      "[0, 0, 0, 0, 0, 1, 1, 0, 1, 0, 1, 0, 1, 0, 0, 0, 0, 0, 1, 0, 1, 1, 0, 0, 1, 0, 0, 0, 1, 0, 0, 1, 0, 0, 0, 0, 0, 1, 0, 1, 0, 1, 1, 0, 0, 1, 0, 1]\n"
     ]
    },
    {
     "name": "stderr",
     "output_type": "stream",
     "text": [
      "223it [14:26,  8.10s/it, BLEU2=0.305, BLEU1=0.365, ExactMatch=0.0171, METEOR=0.567, BertScore=nan, StubScore=0.354]"
     ]
    },
    {
     "name": "stdout",
     "output_type": "stream",
     "text": [
      "answer raw len:  222 1\n",
      "True\n",
      "1 мая отмечается как национальный праздник в нескольких странах, включая Австрию, Албанию, Аргентину, Армению, Арубу, Бангладеш, Бельгию, Болгарию, Боснию и Герцеговину, Бразилию, Вьетнам, Гонконг, Доминиканскую Республику, Египет, Замбию, Замбию, Индию, Иорданию, Казахстан, Камерун, Кению, Киргизию, Китай, Корею, Колумбию, Коста-Рику, Кубу, Латвию, Литву, Малайзию, Маврикий, Мексику, Молдову, Мьянму, Нигерию, Пакистан, Парагвай, Перу, Польшу, Португалию, Россию, Румынию, Сербию, Сингапур, Сирию, Словакию, Словению, Таиланд, Турцию, Украину, Уругвай, Филиппины, Финляндию, Францию, Хорватию, Чили, Черногорию, Чехию, Швецию, Эстонию, Южную Африку, Южную Корею, а также в некоторых частях Германии.\n",
      "1 мая отмечается в перечне стран как национальный праздник.\n",
      "[0, 0, 0, 0, 0, 1, 1, 0, 1, 0, 1, 0, 1, 0, 0, 0, 0, 0, 1, 0, 1, 1, 0, 0, 1, 0, 0, 0, 1, 0, 0, 1, 0, 0, 0, 0, 0, 1, 0, 1, 0, 1, 1, 0, 0, 1, 0, 1]\n"
     ]
    },
    {
     "name": "stderr",
     "output_type": "stream",
     "text": [
      "224it [14:27,  6.17s/it, BLEU2=0.308, BLEU1=0.368, ExactMatch=0.017, METEOR=0.569, BertScore=nan, StubScore=0.354] "
     ]
    },
    {
     "name": "stdout",
     "output_type": "stream",
     "text": [
      "answer raw len:  223 1\n",
      "True\n",
      "Греция, Гондурас и Германия отмечают 1 мая как национальный праздник.\n",
      "Да, Греция, Гондурас и Германия отмечают 1 мая как национальный праздник.\n",
      "[0, 0, 0, 0, 0, 1, 1, 0, 1, 0, 1, 0, 1, 0, 0, 0, 0, 0, 1, 0, 1, 1, 0, 0, 1, 0, 0, 0, 1, 0, 0, 1, 0, 0, 0, 0, 0, 1, 0, 1, 0, 1, 1, 0, 0, 1, 0, 1]\n"
     ]
    },
    {
     "name": "stderr",
     "output_type": "stream",
     "text": [
      "225it [14:29,  4.94s/it, BLEU2=0.308, BLEU1=0.369, ExactMatch=0.0169, METEOR=0.57, BertScore=nan, StubScore=0.354]"
     ]
    },
    {
     "name": "stdout",
     "output_type": "stream",
     "text": [
      "answer raw len:  224 1\n",
      "True\n",
      "Да, 1 мая отмечается как национальный праздник в КНДР, на Кубе и на Филиппинах.\n",
      "Да, КНДР, Куба и Филиппины отмечают 1 мая как национальный праздник.\n",
      "[0, 0, 0, 0, 0, 1, 1, 0, 1, 0, 1, 0, 1, 0, 0, 0, 0, 0, 1, 0, 1, 1, 0, 0, 1, 0, 0, 0, 1, 0, 0, 1, 0, 0, 0, 0, 0, 1, 0, 1, 0, 1, 1, 0, 0, 1, 0, 1]\n"
     ]
    },
    {
     "name": "stderr",
     "output_type": "stream",
     "text": [
      "226it [14:31,  3.94s/it, BLEU2=0.308, BLEU1=0.37, ExactMatch=0.0169, METEOR=0.57, BertScore=nan, StubScore=0.354] "
     ]
    },
    {
     "name": "stdout",
     "output_type": "stream",
     "text": [
      "answer raw len:  225 1\n",
      "True\n",
      "Да, 1 мая отмечается как национальный праздник в Чили, Хорватии и Российской Федерации.\n",
      "Да, Чили, Хорватия и Российская Федерация отмечают 1 мая как национальный праздник.\n",
      "[0, 0, 0, 0, 0, 1, 1, 0, 1, 0, 1, 0, 1, 0, 0, 0, 0, 0, 1, 0, 1, 1, 0, 0, 1, 0, 0, 0, 1, 0, 0, 1, 0, 0, 0, 0, 0, 1, 0, 1, 0, 1, 1, 0, 0, 1, 0, 1]\n"
     ]
    },
    {
     "name": "stderr",
     "output_type": "stream",
     "text": [
      "227it [14:33,  3.31s/it, BLEU2=0.312, BLEU1=0.374, ExactMatch=0.0223, METEOR=0.572, BertScore=nan, StubScore=0.354]"
     ]
    },
    {
     "name": "stdout",
     "output_type": "stream",
     "text": [
      "answer raw len:  226 1\n",
      "True\n",
      "Да, Южная Корея, Эквадор и Шри-Ланка отмечают 1 мая как национальный праздник.\n",
      "Да, Южная Корея, Эквадор и Шри-Ланка отмечают 1 мая как национальный праздник.\n",
      "[0, 0, 0, 0, 0, 1, 1, 0, 1, 0, 1, 0, 1, 0, 0, 0, 0, 0, 1, 0, 1, 1, 0, 0, 1, 0, 0, 0, 1, 0, 0, 1, 0, 0, 0, 0, 0, 1, 0, 1, 0, 1, 1, 0, 0, 1, 0, 1]\n"
     ]
    },
    {
     "name": "stderr",
     "output_type": "stream",
     "text": [
      "228it [14:36,  3.14s/it, BLEU2=0.314, BLEU1=0.376, ExactMatch=0.0222, METEOR=0.574, BertScore=nan, StubScore=0.354]"
     ]
    },
    {
     "name": "stdout",
     "output_type": "stream",
     "text": [
      "answer raw len:  227 1\n",
      "True\n",
      "Мадонна впервые публично раскритиковала убийство леопарда сыновьями Трампа за два месяца до президентских выборов в США.\n",
      "За два месяц до президентских выборов в США Мадонна впервые публично раскритиковала убийство леопарда сыновьями Трампа.\n",
      "[0, 0, 0, 0, 0, 1, 1, 0, 1, 0, 1, 0, 1, 0, 0, 0, 0, 0, 1, 0, 1, 1, 0, 0, 1, 0, 0, 0, 1, 0, 0, 1, 0, 0, 0, 0, 0, 1, 0, 1, 0, 1, 1, 0, 0, 1, 0, 1]\n"
     ]
    },
    {
     "name": "stderr",
     "output_type": "stream",
     "text": [
      "229it [14:40,  3.57s/it, BLEU2=0.314, BLEU1=0.376, ExactMatch=0.0221, METEOR=0.575, BertScore=nan, StubScore=0.354]"
     ]
    },
    {
     "name": "stdout",
     "output_type": "stream",
     "text": [
      "answer raw len:  228 1\n",
      "True\n",
      "1 сентября 2016 года Мадонна публично раскритиковала убийство леопарда сыновьями Трампа и призвала своих подписчиков в Instagram голосовать за Хиллари Клинтон, свою дальнюю кузину по матери.\n",
      "Мадонна призвала голосовать за Хиллари Клинтон 1 сентября 2016 года в своём Instagram-аккаунте.\n",
      "[0, 0, 0, 0, 0, 1, 1, 0, 1, 0, 1, 0, 1, 0, 0, 0, 0, 0, 1, 0, 1, 1, 0, 0, 1, 0, 0, 0, 1, 0, 0, 1, 0, 0, 0, 0, 0, 1, 0, 1, 0, 1, 1, 0, 0, 1, 0, 1]\n"
     ]
    },
    {
     "name": "stderr",
     "output_type": "stream",
     "text": [
      "230it [14:43,  3.19s/it, BLEU2=0.315, BLEU1=0.377, ExactMatch=0.022, METEOR=0.576, BertScore=nan, StubScore=0.354] "
     ]
    },
    {
     "name": "stdout",
     "output_type": "stream",
     "text": [
      "answer raw len:  229 1\n",
      "True\n",
      "Некоторые политики восприняли слова Мадонны как серьезное предвыборное обещание, данное во время ее концерта в Нью-Йорке.\n",
      "Некоторые политики с подачи СМИ восприняли шуточные слова Мадонны как серьёзное предвыборное обещание, данное якобы во время её концерта в Нью-Йорке.\n",
      "[0, 0, 0, 0, 0, 1, 1, 0, 1, 0, 1, 0, 1, 0, 0, 0, 0, 0, 1, 0, 1, 1, 0, 0, 1, 0, 0, 0, 1, 0, 0, 1, 0, 0, 0, 0, 0, 1, 0, 1, 0, 1, 1, 0, 0, 1, 0, 1]\n"
     ]
    },
    {
     "name": "stderr",
     "output_type": "stream",
     "text": [
      "231it [14:44,  2.82s/it, BLEU2=0.317, BLEU1=0.379, ExactMatch=0.0219, METEOR=0.578, BertScore=nan, StubScore=0.354]"
     ]
    },
    {
     "name": "stdout",
     "output_type": "stream",
     "text": [
      "answer raw len:  230 1\n",
      "True\n",
      "Мадонна дала концерт в поддержку своего кандидата в президенты США 6 ноября 2016 года.\n",
      "6 ноября Мадонна дала концерт в поддержку своего кандидата в президенты США.\n",
      "[0, 0, 0, 0, 0, 1, 1, 0, 1, 0, 1, 0, 1, 0, 0, 0, 0, 0, 1, 0, 1, 1, 0, 0, 1, 0, 0, 0, 1, 0, 0, 1, 0, 0, 0, 0, 0, 1, 0, 1, 0, 1, 1, 0, 0, 1, 0, 1]\n"
     ]
    },
    {
     "name": "stderr",
     "output_type": "stream",
     "text": [
      "232it [14:46,  2.53s/it, BLEU2=0.317, BLEU1=0.38, ExactMatch=0.0217, METEOR=0.578, BertScore=nan, StubScore=0.354] "
     ]
    },
    {
     "name": "stdout",
     "output_type": "stream",
     "text": [
      "answer raw len:  231 1\n",
      "True\n",
      "Альбом Elton John's Christmas Party изначально был выпущен через сеть кофеен Starbucks.\n",
      "Сборник Elton John s Christmas Party первоначально продавался через сеть кафе Старбакс.\n",
      "[0, 0, 0, 0, 0, 1, 1, 0, 1, 0, 1, 0, 1, 0, 0, 0, 0, 0, 1, 0, 1, 1, 0, 0, 1, 0, 0, 0, 1, 0, 0, 1, 0, 0, 0, 0, 0, 1, 0, 1, 0, 1, 1, 0, 0, 1, 0, 1]\n"
     ]
    },
    {
     "name": "stderr",
     "output_type": "stream",
     "text": [
      "233it [14:47,  2.02s/it, BLEU2=0.316, BLEU1=0.378, ExactMatch=0.0216, METEOR=0.576, BertScore=nan, StubScore=0.354]"
     ]
    },
    {
     "name": "stdout",
     "output_type": "stream",
     "text": [
      "answer raw len:  232 1\n",
      "True\n",
      "10 октября 2006 года.\n",
      "Альбом Elton John s Christmas Party поступил в широкую продажу 10 октября 2006 года.\n",
      "[0, 0, 0, 0, 0, 1, 1, 0, 1, 0, 1, 0, 1, 0, 0, 0, 0, 0, 1, 0, 1, 1, 0, 0, 1, 0, 0, 0, 1, 0, 0, 1, 0, 0, 0, 0, 0, 1, 0, 1, 0, 1, 1, 0, 0, 1, 0, 1]\n"
     ]
    },
    {
     "name": "stderr",
     "output_type": "stream",
     "text": [
      "234it [14:48,  1.71s/it, BLEU2=0.314, BLEU1=0.377, ExactMatch=0.0215, METEOR=0.575, BertScore=nan, StubScore=0.354]"
     ]
    },
    {
     "name": "stdout",
     "output_type": "stream",
     "text": [
      "answer raw len:  233 1\n",
      "True\n",
      "10 ноября 2005 года.\n",
      "Сборник Elton John s Christmas Party вышел 10 ноября 2005.\n",
      "[0, 0, 0, 0, 0, 1, 1, 0, 1, 0, 1, 0, 1, 0, 0, 0, 0, 0, 1, 0, 1, 1, 0, 0, 1, 0, 0, 0, 1, 0, 0, 1, 0, 0, 0, 0, 0, 1, 0, 1, 0, 1, 1, 0, 0, 1, 0, 1]\n"
     ]
    },
    {
     "name": "stderr",
     "output_type": "stream",
     "text": [
      "235it [14:51,  1.98s/it, BLEU2=0.314, BLEU1=0.376, ExactMatch=0.0214, METEOR=0.576, BertScore=nan, StubScore=0.354]"
     ]
    },
    {
     "name": "stdout",
     "output_type": "stream",
     "text": [
      "answer raw len:  234 1\n",
      "True\n",
      "Два доллара от каждой продажи сборника \"Elton John's Christmas Party\" шли в его фонд по борьбе со СПИДом (Elton John AIDS Foundation).\n",
      "В благотворительную организацию по борьбе со СПИДом Elton John AIDS Foundation.\n",
      "[0, 0, 0, 0, 0, 1, 1, 0, 1, 0, 1, 0, 1, 0, 0, 0, 0, 0, 1, 0, 1, 1, 0, 0, 1, 0, 0, 0, 1, 0, 0, 1, 0, 0, 0, 0, 0, 1, 0, 1, 0, 1, 1, 0, 0, 1, 0, 1]\n"
     ]
    },
    {
     "name": "stderr",
     "output_type": "stream",
     "text": [
      "236it [14:52,  1.82s/it, BLEU2=0.312, BLEU1=0.374, ExactMatch=0.0213, METEOR=0.574, BertScore=nan, StubScore=0.354]"
     ]
    },
    {
     "name": "stdout",
     "output_type": "stream",
     "text": [
      "answer raw len:  235 1\n",
      "True\n",
      "В Elton John's Christmas Party было 21 композиция.\n",
      "В сборник Elton John s Christmas Party, выпущенный 10 ноября 2005 года, входили 21 композиция. Однако 6 песен из первоначального списка (куда входила 21 композиция) были исключены.\n",
      "[0, 0, 0, 0, 0, 1, 1, 0, 1, 0, 1, 0, 1, 0, 0, 0, 0, 0, 1, 0, 1, 1, 0, 0, 1, 0, 0, 0, 1, 0, 0, 1, 0, 0, 0, 0, 0, 1, 0, 1, 0, 1, 1, 0, 0, 1, 0, 1]\n"
     ]
    },
    {
     "name": "stderr",
     "output_type": "stream",
     "text": [
      "237it [14:55,  2.25s/it, BLEU2=0.311, BLEU1=0.373, ExactMatch=0.0212, METEOR=0.573, BertScore=nan, StubScore=0.354]"
     ]
    },
    {
     "name": "stdout",
     "output_type": "stream",
     "text": [
      "answer raw len:  236 1\n",
      "True\n",
      "Нерон прыгает во времени из будущего, чтобы изменить судьбы главных персонажей 11-го фильма \"Звёздный путь\", заставляя их будущее совпадать с тем, откуда он прибыл.\n",
      "Меняет судьбы главных героев.\n",
      "[0, 0, 0, 0, 0, 1, 1, 0, 1, 0, 1, 0, 1, 0, 0, 0, 0, 0, 1, 0, 1, 1, 0, 0, 1, 0, 0, 0, 1, 0, 0, 1, 0, 0, 0, 0, 0, 1, 0, 1, 0, 1, 1, 0, 0, 1, 0, 1]\n"
     ]
    },
    {
     "name": "stderr",
     "output_type": "stream",
     "text": [
      "238it [14:59,  2.58s/it, BLEU2=0.31, BLEU1=0.372, ExactMatch=0.0211, METEOR=0.573, BertScore=nan, StubScore=0.354] "
     ]
    },
    {
     "name": "stdout",
     "output_type": "stream",
     "text": [
      "answer raw len:  237 1\n",
      "True\n",
      "Основной сюжетной линией одиннадцатого фильма \"Звёздный путь\" является начало карьеры Джеймса Кирка и Спока, а также события, связанные с прыжком Нерона из будущего, что приводит к созданию альтернативной временной линии.\n",
      "Главная сюжетная линия одиннадцатого фильма \"Звёздный путь\" связана с прыжком из будущего Нерона, который меняет судьбы главных героев.\n",
      "[0, 0, 0, 0, 0, 1, 1, 0, 1, 0, 1, 0, 1, 0, 0, 0, 0, 0, 1, 0, 1, 1, 0, 0, 1, 0, 0, 0, 1, 0, 0, 1, 0, 0, 0, 0, 0, 1, 0, 1, 0, 1, 1, 0, 0, 1, 0, 1]\n"
     ]
    },
    {
     "name": "stderr",
     "output_type": "stream",
     "text": [
      "239it [15:06,  3.84s/it, BLEU2=0.309, BLEU1=0.371, ExactMatch=0.0209, METEOR=0.572, BertScore=nan, StubScore=0.354]"
     ]
    },
    {
     "name": "stdout",
     "output_type": "stream",
     "text": [
      "answer raw len:  238 1\n",
      "True\n",
      "В 11-м фильме \"Звёздный путь\" \"Звёздный путь\" (2009) персонажи сталкиваются с последствиями нарушения временного континуума. Нерон, путешествуя во времени, меняет их будущее, что приводит к альтернативной временной линии. Это означает, что события в фильме не совпадают с тем будущим, откуда прибыл Нерон, и персонажи должны ориентироваться в этом новом будущем.\n",
      "Их будущее сложится иначе и не сможет совпасть с тем будущим, откуда пришёл Нерон.\n",
      "[0, 0, 0, 0, 0, 1, 1, 0, 1, 0, 1, 0, 1, 0, 0, 0, 0, 0, 1, 0, 1, 1, 0, 0, 1, 0, 0, 0, 1, 0, 0, 1, 0, 0, 0, 0, 0, 1, 0, 1, 0, 1, 1, 0, 0, 1, 0, 1]\n"
     ]
    },
    {
     "name": "stderr",
     "output_type": "stream",
     "text": [
      "240it [15:08,  3.39s/it, BLEU2=0.309, BLEU1=0.371, ExactMatch=0.0208, METEOR=0.572, BertScore=nan, StubScore=0.354]"
     ]
    },
    {
     "name": "stdout",
     "output_type": "stream",
     "text": [
      "answer raw len:  239 1\n",
      "True\n",
      "11-й полнометражный фильм \"Звёздный путь\" (Star Trek) вышел на экраны 7 мая 2009 года.\n",
      "Премьера 11-го полнометражного фильма Звёздный путь (англ. Star Trek) состоялась 7 мая 2009 года.\n",
      "[0, 0, 0, 0, 0, 1, 1, 0, 1, 0, 1, 0, 1, 0, 0, 0, 0, 0, 1, 0, 1, 1, 0, 0, 1, 0, 0, 0, 1, 0, 0, 1, 0, 0, 0, 0, 0, 1, 0, 1, 0, 1, 1, 0, 0, 1, 0, 1]\n"
     ]
    },
    {
     "name": "stderr",
     "output_type": "stream",
     "text": [
      "241it [15:10,  3.00s/it, BLEU2=0.311, BLEU1=0.372, ExactMatch=0.0207, METEOR=0.574, BertScore=nan, StubScore=0.354]"
     ]
    },
    {
     "name": "stdout",
     "output_type": "stream",
     "text": [
      "answer raw len:  240 1\n",
      "True\n",
      "Сценарий к одиннадцатому полнометражному фильму \"Звёздный путь\" написали Роберто Орси и Алекс Курцман.\n",
      "Роберто Орси и Алекс Курцман написали сценарий к одиннадцатому полнометражному фильму Звёздный путь.\n",
      "[0, 0, 0, 0, 0, 1, 1, 0, 1, 0, 1, 0, 1, 0, 0, 0, 0, 0, 1, 0, 1, 1, 0, 0, 1, 0, 0, 0, 1, 0, 0, 1, 0, 0, 0, 0, 0, 1, 0, 1, 0, 1, 1, 0, 0, 1, 0, 1]\n"
     ]
    },
    {
     "name": "stderr",
     "output_type": "stream",
     "text": [
      "242it [15:12,  2.56s/it, BLEU2=0.309, BLEU1=0.371, ExactMatch=0.0206, METEOR=0.573, BertScore=nan, StubScore=0.354]"
     ]
    },
    {
     "name": "stdout",
     "output_type": "stream",
     "text": [
      "answer raw len:  241 1\n",
      "True\n",
      "11-13 (24-26) октября 1917 года.\n",
      "Большевизированный Петросовет провел областной I Съезд Советов Северной области 11—13 (24—26) октября 1917.\n",
      "[0, 0, 0, 0, 0, 1, 1, 0, 1, 0, 1, 0, 1, 0, 0, 0, 0, 0, 1, 0, 1, 1, 0, 0, 1, 0, 0, 0, 1, 0, 0, 1, 0, 0, 0, 0, 0, 1, 0, 1, 0, 1, 1, 0, 0, 1, 0, 1]\n"
     ]
    },
    {
     "name": "stderr",
     "output_type": "stream",
     "text": [
      "243it [15:16,  3.22s/it, BLEU2=0.309, BLEU1=0.371, ExactMatch=0.0205, METEOR=0.574, BertScore=nan, StubScore=0.354]"
     ]
    },
    {
     "name": "stdout",
     "output_type": "stream",
     "text": [
      "answer raw len:  242 1\n",
      "True\n",
      "На [95.797] 11-13 (24-26) октября 1917 большевизированный Петросовет провел областной I Съезд Советов Северной области, в который вошли делегаты Балтийского флота, Петрограда и Финляндии.\n",
      "Делегаты Балтийского флота, Петрограда и Финляндии были включены в областной I Съезд Советов Северной области.\n",
      "[0, 0, 0, 0, 0, 1, 1, 0, 1, 0, 1, 0, 1, 0, 0, 0, 0, 0, 1, 0, 1, 1, 0, 0, 1, 0, 0, 0, 1, 0, 0, 1, 0, 0, 0, 0, 0, 1, 0, 1, 0, 1, 1, 0, 0, 1, 0, 1]\n"
     ]
    },
    {
     "name": "stderr",
     "output_type": "stream",
     "text": [
      "244it [15:20,  3.28s/it, BLEU2=0.31, BLEU1=0.371, ExactMatch=0.0204, METEOR=0.576, BertScore=nan, StubScore=0.354] "
     ]
    },
    {
     "name": "stdout",
     "output_type": "stream",
     "text": [
      "answer raw len:  243 1\n",
      "True\n",
      "По мнению Ричарда Пайпса, эсеро-меньшевистский Центральный исполнительный комитет (ВЦИК) объявил областной I Съезд Советов Северной области незаконным.\n",
      "Эсеро-меньшевистский ВЦИК объявил областной I Съезд Советов Северной области незаконным.\n",
      "[0, 0, 0, 0, 0, 1, 1, 0, 1, 0, 1, 0, 1, 0, 0, 0, 0, 0, 1, 0, 1, 1, 0, 0, 1, 0, 0, 0, 1, 0, 0, 1, 0, 0, 0, 0, 0, 1, 0, 1, 0, 1, 1, 0, 0, 1, 0, 1]\n"
     ]
    },
    {
     "name": "stderr",
     "output_type": "stream",
     "text": [
      "245it [15:22,  3.06s/it, BLEU2=0.311, BLEU1=0.373, ExactMatch=0.0203, METEOR=0.577, BertScore=nan, StubScore=0.354]"
     ]
    },
    {
     "name": "stdout",
     "output_type": "stream",
     "text": [
      "answer raw len:  244 1\n",
      "True\n",
      "Большевизированный Петросовет провел областной I Съезд Советов Северной области 11-13 (24-26) октября 1917 года.\n",
      "Большевизированный петросовет 11—13 (24—26) октября 1917 провел областной I Съезд Советов Северной области.\n",
      "[0, 0, 0, 0, 0, 1, 1, 0, 1, 0, 1, 0, 1, 0, 0, 0, 0, 0, 1, 0, 1, 1, 0, 0, 1, 0, 0, 0, 1, 0, 0, 1, 0, 0, 0, 0, 0, 1, 0, 1, 0, 1, 1, 0, 0, 1, 0, 1]\n"
     ]
    },
    {
     "name": "stderr",
     "output_type": "stream",
     "text": [
      "246it [15:25,  2.89s/it, BLEU2=0.312, BLEU1=0.374, ExactMatch=0.0202, METEOR=0.579, BertScore=nan, StubScore=0.354]"
     ]
    },
    {
     "name": "stdout",
     "output_type": "stream",
     "text": [
      "answer raw len:  245 1\n",
      "True\n",
      "31 декабря 1796 года (11 января 1797 года) было утверждено новое административно-территориальное деление Курской губернии.\n",
      "Новое административно-территориальное деление Курской губернии было утверждено 31 декабря 1796 (11 января 1797) года.\n",
      "[0, 0, 0, 0, 0, 1, 1, 0, 1, 0, 1, 0, 1, 0, 0, 0, 0, 0, 1, 0, 1, 1, 0, 0, 1, 0, 0, 0, 1, 0, 0, 1, 0, 0, 0, 0, 0, 1, 0, 1, 0, 1, 1, 0, 0, 1, 0, 1]\n"
     ]
    },
    {
     "name": "stderr",
     "output_type": "stream",
     "text": [
      "247it [15:27,  2.71s/it, BLEU2=0.313, BLEU1=0.375, ExactMatch=0.0201, METEOR=0.579, BertScore=nan, StubScore=0.354]"
     ]
    },
    {
     "name": "stdout",
     "output_type": "stream",
     "text": [
      "answer raw len:  246 1\n",
      "True\n",
      "12 (23) декабря 1796 года указом императора Павла I было упразднено большинство наместничеств, включая Курское.\n",
      "Указом императора Павла I большинство наместничеств, в том числе и Курское, были упразднены в 12 (23) декабря 1796 года.\n",
      "[0, 0, 0, 0, 0, 1, 1, 0, 1, 0, 1, 0, 1, 0, 0, 0, 0, 0, 1, 0, 1, 1, 0, 0, 1, 0, 0, 0, 1, 0, 0, 1, 0, 0, 0, 0, 0, 1, 0, 1, 0, 1, 1, 0, 0, 1, 0, 1]\n"
     ]
    },
    {
     "name": "stderr",
     "output_type": "stream",
     "text": [
      "248it [15:30,  2.90s/it, BLEU2=0.311, BLEU1=0.373, ExactMatch=0.02, METEOR=0.577, BertScore=nan, StubScore=0.354]  "
     ]
    },
    {
     "name": "stdout",
     "output_type": "stream",
     "text": [
      "answer raw len:  247 1\n",
      "True\n",
      "После Великих реформ помещичьи усадьбы в уездах пришли в упадок, земледелие в уезде было заброшено из-за плохого качества земли.\n",
      "Общее число уездов Харьковского наместничества сократилось до 10.\n",
      "[0, 0, 0, 0, 0, 1, 1, 0, 1, 0, 1, 0, 1, 0, 0, 0, 0, 0, 1, 0, 1, 1, 0, 0, 1, 0, 0, 0, 1, 0, 0, 1, 0, 0, 0, 0, 0, 1, 0, 1, 0, 1, 1, 0, 0, 1, 0, 1]\n"
     ]
    },
    {
     "name": "stderr",
     "output_type": "stream",
     "text": [
      "249it [15:33,  2.92s/it, BLEU2=0.31, BLEU1=0.371, ExactMatch=0.0199, METEOR=0.575, BertScore=nan, StubScore=0.354]"
     ]
    },
    {
     "name": "stdout",
     "output_type": "stream",
     "text": [
      "answer raw len:  248 1\n",
      "True\n",
      "В 1796 году, после указа императора Павла I, Курская губерния получила территории из упраздненного Харьковского наместничества, включая города Хотмыжск и Мирополье.\n",
      "К Курской губернии отошёл территории упразднённого Харьковского наместничества.\n",
      "[0, 0, 0, 0, 0, 1, 1, 0, 1, 0, 1, 0, 1, 0, 0, 0, 0, 0, 1, 0, 1, 1, 0, 0, 1, 0, 0, 0, 1, 0, 0, 1, 0, 0, 0, 0, 0, 1, 0, 1, 0, 1, 1, 0, 0, 1, 0, 1]\n"
     ]
    },
    {
     "name": "stderr",
     "output_type": "stream",
     "text": [
      "250it [15:36,  2.79s/it, BLEU2=0.308, BLEU1=0.37, ExactMatch=0.0198, METEOR=0.574, BertScore=nan, StubScore=0.354]"
     ]
    },
    {
     "name": "stdout",
     "output_type": "stream",
     "text": [
      "answer raw len:  249 1\n",
      "True\n",
      "31 декабря 1796 года (11 января 1797 года) было утверждено новое административно-территориальное деление Курской губернии.\n",
      "Срок исполнения нового разделения на губернии был до мая 1797 года.\n",
      "[0, 0, 0, 0, 0, 1, 1, 0, 1, 0, 1, 0, 1, 0, 0, 0, 0, 0, 1, 0, 1, 1, 0, 0, 1, 0, 0, 0, 1, 0, 0, 1, 0, 0, 0, 0, 0, 1, 0, 1, 0, 1, 1, 0, 0, 1, 0, 1]\n"
     ]
    },
    {
     "name": "stderr",
     "output_type": "stream",
     "text": [
      "251it [15:38,  2.46s/it, BLEU2=0.311, BLEU1=0.373, ExactMatch=0.0197, METEOR=0.576, BertScore=nan, StubScore=0.354]"
     ]
    },
    {
     "name": "stdout",
     "output_type": "stream",
     "text": [
      "answer raw len:  250 1\n",
      "True\n",
      "Первый пилотируемый космический корабль, созданный С. П. Королёвым, назывался \"Восток-1\".\n",
      "Первый пилотируемый космический корабль, созданный С. П. Королёвым, назывался Восток-1.\n",
      "[0, 0, 0, 0, 0, 1, 1, 0, 1, 0, 1, 0, 1, 0, 0, 0, 0, 0, 1, 0, 1, 1, 0, 0, 1, 0, 0, 0, 1, 0, 0, 1, 0, 0, 0, 0, 0, 1, 0, 1, 0, 1, 1, 0, 0, 1, 0, 1]\n"
     ]
    },
    {
     "name": "stderr",
     "output_type": "stream",
     "text": [
      "252it [15:38,  1.97s/it, BLEU2=0.31, BLEU1=0.371, ExactMatch=0.0196, METEOR=0.574, BertScore=nan, StubScore=0.354] "
     ]
    },
    {
     "name": "stdout",
     "output_type": "stream",
     "text": [
      "answer raw len:  251 1\n",
      "True\n",
      "12 апреля 1961 года.\n",
      "12 апреля 1961 г С. П. Королёв снова поражает мировую общественность.\n",
      "[0, 0, 0, 0, 0, 1, 1, 0, 1, 0, 1, 0, 1, 0, 0, 0, 0, 0, 1, 0, 1, 1, 0, 0, 1, 0, 0, 0, 1, 0, 0, 1, 0, 0, 0, 0, 0, 1, 0, 1, 0, 1, 1, 0, 0, 1, 0, 1]\n"
     ]
    },
    {
     "name": "stderr",
     "output_type": "stream",
     "text": [
      "253it [15:43,  2.79s/it, BLEU2=0.309, BLEU1=0.37, ExactMatch=0.0195, METEOR=0.574, BertScore=nan, StubScore=0.354]"
     ]
    },
    {
     "name": "stdout",
     "output_type": "stream",
     "text": [
      "answer raw len:  252 1\n",
      "True\n",
      "[88.084] 12 апреля 1961 года С. П. Королёв снова удивляет мир. Создав первый пилотируемый космический корабль \"Восток-1\", он реализует первый в мире полёт человека в космос - гражданина СССР Юрия Алексеевича Гагарина - на околоземной орбите.\n",
      "Юрия Алексеевича Гагарина был первым человеком в СССР, который полетел в космос.\n",
      "[0, 0, 0, 0, 0, 1, 1, 0, 1, 0, 1, 0, 1, 0, 0, 0, 0, 0, 1, 0, 1, 1, 0, 0, 1, 0, 0, 0, 1, 0, 0, 1, 0, 0, 0, 0, 0, 1, 0, 1, 0, 1, 1, 0, 0, 1, 0, 1]\n"
     ]
    },
    {
     "name": "stderr",
     "output_type": "stream",
     "text": [
      "254it [15:47,  2.99s/it, BLEU2=0.308, BLEU1=0.369, ExactMatch=0.0194, METEOR=0.573, BertScore=nan, StubScore=0.354]"
     ]
    },
    {
     "name": "stdout",
     "output_type": "stream",
     "text": [
      "answer raw len:  253 1\n",
      "True\n",
      "12 апреля 1961 года первый космонавт СССР, Юрий Алексеевич Гагарин, отправился в исторический орбитальный полет вокруг Земли на борту космического корабля \"Восток-1\", разработанного под руководством Сергея Павловича Королёва.\n",
      "Юрий Гагарин отправился в космос на корабле \"Восток-1\" по околоземной орбите.\n",
      "[0, 0, 0, 0, 0, 1, 1, 0, 1, 0, 1, 0, 1, 0, 0, 0, 0, 0, 1, 0, 1, 1, 0, 0, 1, 0, 0, 0, 1, 0, 0, 1, 0, 0, 0, 0, 0, 1, 0, 1, 0, 1, 1, 0, 0, 1, 0, 1]\n"
     ]
    },
    {
     "name": "stderr",
     "output_type": "stream",
     "text": [
      "255it [15:48,  2.60s/it, BLEU2=0.308, BLEU1=0.369, ExactMatch=0.0193, METEOR=0.573, BertScore=nan, StubScore=0.354]"
     ]
    },
    {
     "name": "stdout",
     "output_type": "stream",
     "text": [
      "answer raw len:  254 1\n",
      "True\n",
      "Первый космический корабль С.П. Королёва, \"Восток-1\", сделал один виток вокруг Земли.\n",
      "Один витков сделал Первый космический корабль С.П.Королева.\n",
      "[0, 0, 0, 0, 0, 1, 1, 0, 1, 0, 1, 0, 1, 0, 0, 0, 0, 0, 1, 0, 1, 1, 0, 0, 1, 0, 0, 0, 1, 0, 0, 1, 0, 0, 0, 0, 0, 1, 0, 1, 0, 1, 1, 0, 0, 1, 0, 1]\n"
     ]
    },
    {
     "name": "stderr",
     "output_type": "stream",
     "text": [
      "256it [15:49,  2.16s/it, BLEU2=0.308, BLEU1=0.37, ExactMatch=0.0192, METEOR=0.574, BertScore=nan, StubScore=0.354] "
     ]
    },
    {
     "name": "stdout",
     "output_type": "stream",
     "text": [
      "answer raw len:  255 1\n",
      "True\n",
      "Машина времени начала запись нового альбома в 2001 году.\n",
      "Машина времени приступила в 2001 году к записи нового альбома.\n",
      "[0, 0, 0, 0, 0, 1, 1, 0, 1, 0, 1, 0, 1, 0, 0, 0, 0, 0, 1, 0, 1, 1, 0, 0, 1, 0, 0, 0, 1, 0, 0, 1, 0, 0, 0, 0, 0, 1, 0, 1, 0, 1, 1, 0, 0, 1, 0, 1]\n"
     ]
    },
    {
     "name": "stderr",
     "output_type": "stream",
     "text": [
      "257it [15:51,  2.06s/it, BLEU2=0.306, BLEU1=0.368, ExactMatch=0.0191, METEOR=0.572, BertScore=nan, StubScore=0.354]"
     ]
    },
    {
     "name": "stdout",
     "output_type": "stream",
     "text": [
      "answer raw len:  256 1\n",
      "True\n",
      "Альбом \"Back to the Light\" был переименован в \"Place Where the Light's Out\".\n",
      "Название альбома \"Спиной к концу света\" было изменено на \"Место, где свет\".\n",
      "[0, 0, 0, 0, 0, 1, 1, 0, 1, 0, 1, 0, 1, 0, 0, 0, 0, 0, 1, 0, 1, 1, 0, 0, 1, 0, 0, 0, 1, 0, 0, 1, 0, 0, 0, 0, 0, 1, 0, 1, 0, 1, 1, 0, 0, 1, 0, 1]\n"
     ]
    },
    {
     "name": "stderr",
     "output_type": "stream",
     "text": [
      "258it [15:53,  1.98s/it, BLEU2=0.308, BLEU1=0.37, ExactMatch=0.019, METEOR=0.574, BertScore=nan, StubScore=0.354]  "
     ]
    },
    {
     "name": "stdout",
     "output_type": "stream",
     "text": [
      "answer raw len:  257 1\n",
      "True\n",
      "Презентация нового веб-проекта группы \"Машина времени\" состоялась 27 февраля 2001 года.\n",
      "Презентация нового Web-проекта группы Машина времени состоялась 27 февраля 2001 года.\n",
      "[0, 0, 0, 0, 0, 1, 1, 0, 1, 0, 1, 0, 1, 0, 0, 0, 0, 0, 1, 0, 1, 1, 0, 0, 1, 0, 0, 0, 1, 0, 0, 1, 0, 0, 0, 0, 0, 1, 0, 1, 0, 1, 1, 0, 0, 1, 0, 1]\n"
     ]
    },
    {
     "name": "stderr",
     "output_type": "stream",
     "text": [
      "259it [15:54,  1.59s/it, BLEU2=0.307, BLEU1=0.368, ExactMatch=0.019, METEOR=0.573, BertScore=nan, StubScore=0.354]"
     ]
    },
    {
     "name": "stdout",
     "output_type": "stream",
     "text": [
      "answer raw len:  258 1\n",
      "True\n",
      "Макаревич и Державин.\n",
      "Макаревич и Державин появлялись на форуме сайта первые полгода.\n",
      "[0, 0, 0, 0, 0, 1, 1, 0, 1, 0, 1, 0, 1, 0, 0, 0, 0, 0, 1, 0, 1, 1, 0, 0, 1, 0, 0, 0, 1, 0, 0, 1, 0, 0, 0, 0, 0, 1, 0, 1, 0, 1, 1, 0, 0, 1, 0, 1]\n"
     ]
    },
    {
     "name": "stderr",
     "output_type": "stream",
     "text": [
      "260it [15:57,  2.07s/it, BLEU2=0.308, BLEU1=0.37, ExactMatch=0.0189, METEOR=0.574, BertScore=nan, StubScore=0.354]"
     ]
    },
    {
     "name": "stdout",
     "output_type": "stream",
     "text": [
      "answer raw len:  259 1\n",
      "True\n",
      "Официальный сайт группы \"Машина времени\" должен был стать единственным местом, где можно было получить достоверную и свежую информацию о группе и ее участниках, а также единственным официальным посредником между группой и прессой.\n",
      "Официальный сайт группы Машина времени будет единственным местом, где можно получить достоверную и свежую информацию о группе и её музыкантах, а также единственным официальным посредником между группой и прессой.\n",
      "[0, 0, 0, 0, 0, 1, 1, 0, 1, 0, 1, 0, 1, 0, 0, 0, 0, 0, 1, 0, 1, 1, 0, 0, 1, 0, 0, 0, 1, 0, 0, 1, 0, 0, 0, 0, 0, 1, 0, 1, 0, 1, 1, 0, 0, 1, 0, 1]\n",
      "answer raw len:  260 1\n"
     ]
    },
    {
     "name": "stderr",
     "output_type": "stream",
     "text": [
      "261it [16:02,  2.92s/it, BLEU2=0.308, BLEU1=0.37, ExactMatch=0.0189, METEOR=0.574, BertScore=nan, StubScore=0.347]"
     ]
    },
    {
     "name": "stdout",
     "output_type": "stream",
     "text": [
      "sim raw len:  1\n",
      "False\n",
      "Нансен останавливался в здании школы в течение шести лет, с 1887 по 1893 год.\n",
      "В течении недельного визита в Дагестан Нансен останавливался в здании школы.\n",
      "[0, 0, 0, 0, 0, 1, 1, 0, 1, 0, 1, 0, 1, 0, 0, 0, 0, 0, 1, 0, 1, 1, 0, 0, 1, 0, 0, 0, 1, 0, 0, 1, 0, 0, 0, 0, 0, 1, 0, 1, 0, 1, 1, 0, 0, 1, 0, 1, 0]\n"
     ]
    },
    {
     "name": "stderr",
     "output_type": "stream",
     "text": [
      "262it [16:07,  3.57s/it, BLEU2=0.309, BLEU1=0.37, ExactMatch=0.0188, METEOR=0.576, BertScore=nan, StubScore=0.347]"
     ]
    },
    {
     "name": "stdout",
     "output_type": "stream",
     "text": [
      "answer raw len:  261 1\n",
      "True\n",
      "Фритьоф Нансен подробно описал свой визит в Дагестан в книге \"Через Кавказ на Волгу\" (норвежский: Gjennem Kaukasus til Volga), которая была опубликована в 1929 году на норвежском, немецком и английском языках.\n",
      "В книге \"Через Кавказ на Волгу\" Фритьоф Нансен подробно описал свой визит в Дагестан.\n",
      "[0, 0, 0, 0, 0, 1, 1, 0, 1, 0, 1, 0, 1, 0, 0, 0, 0, 0, 1, 0, 1, 1, 0, 0, 1, 0, 0, 0, 1, 0, 0, 1, 0, 0, 0, 0, 0, 1, 0, 1, 0, 1, 1, 0, 0, 1, 0, 1, 0]\n"
     ]
    },
    {
     "name": "stderr",
     "output_type": "stream",
     "text": [
      "263it [16:08,  2.70s/it, BLEU2=0.307, BLEU1=0.368, ExactMatch=0.0187, METEOR=0.573, BertScore=nan, StubScore=0.347]"
     ]
    },
    {
     "name": "stdout",
     "output_type": "stream",
     "text": [
      "answer raw len:  262 1\n",
      "True\n",
      "У меня нет ответа на ваш вопрос.\n",
      "Отзывы Нансена о Дагестане были положительными, так как он описывал его как интересную страну с большими экономическими возможностями.\n",
      "[0, 0, 0, 0, 0, 1, 1, 0, 1, 0, 1, 0, 1, 0, 0, 0, 0, 0, 1, 0, 1, 1, 0, 0, 1, 0, 0, 0, 1, 0, 0, 1, 0, 0, 0, 0, 0, 1, 0, 1, 0, 1, 1, 0, 0, 1, 0, 1, 0]\n"
     ]
    },
    {
     "name": "stderr",
     "output_type": "stream",
     "text": [
      "264it [16:08,  2.13s/it, BLEU2=0.306, BLEU1=0.367, ExactMatch=0.0186, METEOR=0.572, BertScore=nan, StubScore=0.347]"
     ]
    },
    {
     "name": "stdout",
     "output_type": "stream",
     "text": [
      "answer raw len:  263 1\n",
      "True\n",
      "14 апреля 2012 года.\n",
      "Указ об открытии мемориальной плиты на школе в Махачкале подписан 14 апреля 2012 года.\n",
      "[0, 0, 0, 0, 0, 1, 1, 0, 1, 0, 1, 0, 1, 0, 0, 0, 0, 0, 1, 0, 1, 1, 0, 0, 1, 0, 0, 0, 1, 0, 0, 1, 0, 0, 0, 0, 0, 1, 0, 1, 0, 1, 1, 0, 0, 1, 0, 1, 0]\n",
      "answer raw len:  264 1\n",
      "True\n",
      "Фритьоф Нансен остановился в доме № 10 по улице Горького в Махачкале в 1925 году.\n",
      "В здании № 10 по улице Горького в Махачкале в 1925 году останавливался Фритьоф Нансен.\n",
      "[0, 0, 0, 0, 0, 1, 1, 0, 1, 0, 1, 0, 1, 0, 0, 0, 0, 0, 1, 0, 1, 1, 0, 0, 1, 0, 0, 0, 1, 0, 0, 1, 0, 0, 0, 0, 0, 1, 0, 1, 0, 1, 1, 0, 0, 1, 0, 1, 0]\n"
     ]
    },
    {
     "name": "stderr",
     "output_type": "stream",
     "text": [
      "266it [16:17,  3.36s/it, BLEU2=0.307, BLEU1=0.368, ExactMatch=0.0184, METEOR=0.573, BertScore=nan, StubScore=0.347]"
     ]
    },
    {
     "name": "stdout",
     "output_type": "stream",
     "text": [
      "answer raw len:  265 1\n",
      "True\n",
      "14 января 2016 года тело певца было кремировано в ходе частной церемонии в Нью-Йорке[148]. Прах музыканта был похоронен в секретном месте, известном только его родственникам (позже стало известно, что это Бали, церемония прошла в соответствии с буддийским ритуалом)[149].\n",
      "Прах Дэвида Боуи был захоронен на острове Бали в соответствии с буддийским ритуалом.\n",
      "[0, 0, 0, 0, 0, 1, 1, 0, 1, 0, 1, 0, 1, 0, 0, 0, 0, 0, 1, 0, 1, 1, 0, 0, 1, 0, 0, 0, 1, 0, 0, 1, 0, 0, 0, 0, 0, 1, 0, 1, 0, 1, 1, 0, 0, 1, 0, 1, 0]\n",
      "answer raw len:  266 1\n"
     ]
    },
    {
     "name": "stderr",
     "output_type": "stream",
     "text": [
      "267it [16:43, 10.28s/it, BLEU2=0.307, BLEU1=0.368, ExactMatch=0.0184, METEOR=0.573, BertScore=nan, StubScore=0.34] "
     ]
    },
    {
     "name": "stdout",
     "output_type": "stream",
     "text": [
      "sim raw len:  1\n",
      "False\n",
      "Для ответа на этот вопрос я проанализирую предоставленную информацию и определю, какие музыканты недавно скончались, и как их продажи альбомов и синглов изменились в первую неделю после их смерти.\n",
      "\n",
      "1. [88.273] В 2000-х годах снижение продаж физических музыкальных носителей и увеличение роли Интернета в продвижении музыки привели к тому, что целый ряд новых инди-исполнителей добились успеха.\n",
      "\n",
      "2. [84.295] Популярность ню-метала растет, когда альбом Life Is Peachy (1996) группы Korn достигает 3-й строчки чарта Billboard 200 и продается тиражом 106 000 копий за первую неделю.\n",
      "\n",
      "3. [86.696] Первый музыкальный хит-парад был опубликован 4 января 1936 года в американском журнале Billboard.\n",
      "\n",
      "Исходя из предоставленной информации, нет упоминания о смерти музыканта или о продажах альбомов и синглов в первую неделю после смерти. Поэтому у меня нет ответа на ваш вопрос.\n",
      "Продажи песен и альбомов музыканта в США, за первую неделю после смерти, по информации Billboard, выросли более чем на 5000%.\n",
      "[0, 0, 0, 0, 0, 1, 1, 0, 1, 0, 1, 0, 1, 0, 0, 0, 0, 0, 1, 0, 1, 1, 0, 0, 1, 0, 0, 0, 1, 0, 0, 1, 0, 0, 0, 0, 0, 1, 0, 1, 0, 1, 1, 0, 0, 1, 0, 1, 0, 0]\n"
     ]
    },
    {
     "name": "stderr",
     "output_type": "stream",
     "text": [
      "268it [16:52,  9.76s/it, BLEU2=0.306, BLEU1=0.367, ExactMatch=0.0183, METEOR=0.573, BertScore=nan, StubScore=0.34]"
     ]
    },
    {
     "name": "stdout",
     "output_type": "stream",
     "text": [
      "answer raw len:  267 1\n",
      "True\n",
      "После смерти певца его тело было кремировано на частной церемонии в Нью-Йорке, а его прах был захоронен в секретном месте, известном только его родственникам. Он был похоронен на острове Бали, и церемония прошла в соответствии с буддийским ритуалом. Дэвид хотел, чтобы его помнили за его поступки при жизни, а не как памятник. Он не хотел, чтобы его жизнь была увековечена чем-то вроде надгробия. Кроме того, есть большая коллекция неизданных работ Боуи, которая будет выпускаться в течение многих лет.\n",
      "После смерти певца появилась информация, что существует большая коллекция его неизданных произведений, которая будет выпускаться в течение многих лет.\n",
      "[0, 0, 0, 0, 0, 1, 1, 0, 1, 0, 1, 0, 1, 0, 0, 0, 0, 0, 1, 0, 1, 1, 0, 0, 1, 0, 0, 0, 1, 0, 0, 1, 0, 0, 0, 0, 0, 1, 0, 1, 0, 1, 1, 0, 0, 1, 0, 1, 0, 0]\n"
     ]
    },
    {
     "name": "stderr",
     "output_type": "stream",
     "text": [
      "269it [16:53,  7.15s/it, BLEU2=0.305, BLEU1=0.365, ExactMatch=0.0183, METEOR=0.572, BertScore=nan, StubScore=0.34]"
     ]
    },
    {
     "name": "stdout",
     "output_type": "stream",
     "text": [
      "answer raw len:  268 1\n",
      "True\n",
      "14 января 2016 года.\n",
      "14 января 2016 года тело певца было кремировано в ходе частной церемонии в Нью-Йорке.\n",
      "[0, 0, 0, 0, 0, 1, 1, 0, 1, 0, 1, 0, 1, 0, 0, 0, 0, 0, 1, 0, 1, 1, 0, 0, 1, 0, 0, 0, 1, 0, 0, 1, 0, 0, 0, 0, 0, 1, 0, 1, 0, 1, 1, 0, 0, 1, 0, 1, 0, 0]\n"
     ]
    },
    {
     "name": "stderr",
     "output_type": "stream",
     "text": [
      "270it [16:55,  5.70s/it, BLEU2=0.304, BLEU1=0.364, ExactMatch=0.0182, METEOR=0.571, BertScore=nan, StubScore=0.34]"
     ]
    },
    {
     "name": "stdout",
     "output_type": "stream",
     "text": [
      "answer raw len:  269 1\n",
      "True\n",
      "Место захоронения праха Дэвида Боуи - это секретное место, известное только его семье, и это остров Бали.\n",
      "Это место известно только его родственникам.\n",
      "[0, 0, 0, 0, 0, 1, 1, 0, 1, 0, 1, 0, 1, 0, 0, 0, 0, 0, 1, 0, 1, 1, 0, 0, 1, 0, 0, 0, 1, 0, 0, 1, 0, 0, 0, 0, 0, 1, 0, 1, 0, 1, 1, 0, 0, 1, 0, 1, 0, 0]\n"
     ]
    },
    {
     "name": "stderr",
     "output_type": "stream",
     "text": [
      "271it [16:57,  4.49s/it, BLEU2=0.304, BLEU1=0.365, ExactMatch=0.0181, METEOR=0.573, BertScore=nan, StubScore=0.34]"
     ]
    },
    {
     "name": "stdout",
     "output_type": "stream",
     "text": [
      "answer raw len:  270 1\n",
      "True\n",
      "Лётчики, которые обнаружили вражеский аэроплан, были поручик Покровский и корнет Плонский.\n",
      "Поручик Покровский и корнет Плонский обнаружили вражеский аэроплан.\n",
      "[0, 0, 0, 0, 0, 1, 1, 0, 1, 0, 1, 0, 1, 0, 0, 0, 0, 0, 1, 0, 1, 1, 0, 0, 1, 0, 0, 0, 1, 0, 0, 1, 0, 0, 0, 0, 0, 1, 0, 1, 0, 1, 1, 0, 0, 1, 0, 1, 0, 0]\n"
     ]
    },
    {
     "name": "stderr",
     "output_type": "stream",
     "text": [
      "272it [16:58,  3.56s/it, BLEU2=0.305, BLEU1=0.365, ExactMatch=0.018, METEOR=0.574, BertScore=nan, StubScore=0.34] "
     ]
    },
    {
     "name": "stdout",
     "output_type": "stream",
     "text": [
      "answer raw len:  271 1\n",
      "True\n",
      "15 июля во время разведки у пилотов было только оружие - пистолеты Маузер.\n",
      "У лётчиков 15-го июля во время разведки были только пистолеты Маузер.\n",
      "[0, 0, 0, 0, 0, 1, 1, 0, 1, 0, 1, 0, 1, 0, 0, 0, 0, 0, 1, 0, 1, 1, 0, 0, 1, 0, 0, 0, 1, 0, 0, 1, 0, 0, 0, 0, 0, 1, 0, 1, 0, 1, 1, 0, 0, 1, 0, 1, 0, 0]\n"
     ]
    },
    {
     "name": "stderr",
     "output_type": "stream",
     "text": [
      "273it [17:01,  3.22s/it, BLEU2=0.305, BLEU1=0.366, ExactMatch=0.0179, METEOR=0.574, BertScore=nan, StubScore=0.34]"
     ]
    },
    {
     "name": "stdout",
     "output_type": "stream",
     "text": [
      "answer raw len:  272 1\n",
      "True\n",
      "Поручик Покровский и корнет Плонский, оба из 2-го Сибирского корпусного авиаотряда, увидели вражеский аэроплан во время разведки.\n",
      "Поручик Покровский и корнет Плонский увидел вражеский аэроплан во время розведки.\n",
      "[0, 0, 0, 0, 0, 1, 1, 0, 1, 0, 1, 0, 1, 0, 0, 0, 0, 0, 1, 0, 1, 1, 0, 0, 1, 0, 0, 0, 1, 0, 0, 1, 0, 0, 0, 0, 0, 1, 0, 1, 0, 1, 1, 0, 0, 1, 0, 1, 0, 0]\n"
     ]
    },
    {
     "name": "stderr",
     "output_type": "stream",
     "text": [
      "274it [17:05,  3.45s/it, BLEU2=0.304, BLEU1=0.365, ExactMatch=0.0179, METEOR=0.573, BertScore=nan, StubScore=0.34]"
     ]
    },
    {
     "name": "stdout",
     "output_type": "stream",
     "text": [
      "answer raw len:  273 1\n",
      "True\n",
      "Поручик Покровский и корнет Плонский были награждены орденом Святого Георгия 4-й степени за атаку и принуждение к посадке австрийского самолета во время разведки 15 июля.\n",
      "Наградили поручика Покровского и корнета Плонского орденами Св. Георгия 4-й степени.\n",
      "[0, 0, 0, 0, 0, 1, 1, 0, 1, 0, 1, 0, 1, 0, 0, 0, 0, 0, 1, 0, 1, 1, 0, 0, 1, 0, 0, 0, 1, 0, 0, 1, 0, 0, 0, 0, 0, 1, 0, 1, 0, 1, 1, 0, 0, 1, 0, 1, 0, 0]\n"
     ]
    },
    {
     "name": "stderr",
     "output_type": "stream",
     "text": [
      "275it [17:07,  3.04s/it, BLEU2=0.303, BLEU1=0.363, ExactMatch=0.0178, METEOR=0.571, BertScore=nan, StubScore=0.34]"
     ]
    },
    {
     "name": "stdout",
     "output_type": "stream",
     "text": [
      "answer raw len:  274 1\n",
      "True\n",
      "Лётчики, которые атаковали и заставили австрийский аэроплан опуститься, были награждены орденом Святого Георгия 4-й степени.\n",
      "Австрийский аэроплан Авиатик (бортовой номер 31-13) достался призом в совершенно неповрежденном состоянии вместе с двумя лётчиками из 7-й авиароты.\n",
      "[0, 0, 0, 0, 0, 1, 1, 0, 1, 0, 1, 0, 1, 0, 0, 0, 0, 0, 1, 0, 1, 1, 0, 0, 1, 0, 0, 0, 1, 0, 0, 1, 0, 0, 0, 0, 0, 1, 0, 1, 0, 1, 1, 0, 0, 1, 0, 1, 0, 0]\n"
     ]
    },
    {
     "name": "stderr",
     "output_type": "stream",
     "text": [
      "276it [17:08,  2.42s/it, BLEU2=0.302, BLEU1=0.362, ExactMatch=0.0177, METEOR=0.57, BertScore=nan, StubScore=0.34] "
     ]
    },
    {
     "name": "stdout",
     "output_type": "stream",
     "text": [
      "answer raw len:  275 1\n",
      "True\n",
      "16 апреля 1962 года.\n",
      "Постановление ЦК КПСС и Совета министров СССР о разработке ракетно-космического комплекса Союз вышло 16 апреля 1962 году.\n",
      "[0, 0, 0, 0, 0, 1, 1, 0, 1, 0, 1, 0, 1, 0, 0, 0, 0, 0, 1, 0, 1, 1, 0, 0, 1, 0, 0, 0, 1, 0, 0, 1, 0, 0, 0, 0, 0, 1, 0, 1, 0, 1, 1, 0, 0, 1, 0, 1, 0, 0]\n"
     ]
    },
    {
     "name": "stderr",
     "output_type": "stream",
     "text": [
      "277it [17:11,  2.72s/it, BLEU2=0.301, BLEU1=0.361, ExactMatch=0.0176, METEOR=0.569, BertScore=nan, StubScore=0.34]"
     ]
    },
    {
     "name": "stdout",
     "output_type": "stream",
     "text": [
      "answer raw len:  276 1\n",
      "True\n",
      "Ракета-космический комплекс \"Союз\" разрабатывался для пилотируемого облета Луны в рамках постановления ЦК КПСС и Совета министров СССР от 16 апреля 1962 года.\n",
      "Ракетно-космического комплекса Союз разрабатывался для пилотируемого облёта Луны.\n",
      "[0, 0, 0, 0, 0, 1, 1, 0, 1, 0, 1, 0, 1, 0, 0, 0, 0, 0, 1, 0, 1, 1, 0, 0, 1, 0, 0, 0, 1, 0, 0, 1, 0, 0, 0, 0, 0, 1, 0, 1, 0, 1, 1, 0, 0, 1, 0, 1, 0, 0]\n"
     ]
    },
    {
     "name": "stderr",
     "output_type": "stream",
     "text": [
      "278it [17:15,  2.99s/it, BLEU2=0.299, BLEU1=0.36, ExactMatch=0.0175, METEOR=0.568, BertScore=nan, StubScore=0.34] "
     ]
    },
    {
     "name": "stdout",
     "output_type": "stream",
     "text": [
      "answer raw len:  277 1\n",
      "True\n",
      "На основе проекта 7К-ОК разрабатывался военный корабль \"Союз-Р\" (Разведчик), а затем на его основе - \"Союз-ВИ\" (Военный исследователь).\n",
      "На базе 7К начали делать 7К-ОК — многоцелевой трёхместный орбитальный корабль (ОК).\n",
      "[0, 0, 0, 0, 0, 1, 1, 0, 1, 0, 1, 0, 1, 0, 0, 0, 0, 0, 1, 0, 1, 1, 0, 0, 1, 0, 0, 0, 1, 0, 0, 1, 0, 0, 0, 0, 0, 1, 0, 1, 0, 1, 1, 0, 0, 1, 0, 1, 0, 0]\n"
     ]
    },
    {
     "name": "stderr",
     "output_type": "stream",
     "text": [
      "279it [17:16,  2.60s/it, BLEU2=0.299, BLEU1=0.359, ExactMatch=0.0175, METEOR=0.567, BertScore=nan, StubScore=0.34]"
     ]
    },
    {
     "name": "stdout",
     "output_type": "stream",
     "text": [
      "answer raw len:  278 1\n",
      "True\n",
      "Программа, которая планировалась для облета Луны после закрытия программы А, называлась \"Программа Север\".\n",
      "По программе Север планировался облет Луны после закрытия проекта А.\n",
      "[0, 0, 0, 0, 0, 1, 1, 0, 1, 0, 1, 0, 1, 0, 0, 0, 0, 0, 1, 0, 1, 1, 0, 0, 1, 0, 0, 0, 1, 0, 0, 1, 0, 0, 0, 0, 0, 1, 0, 1, 0, 1, 1, 0, 0, 1, 0, 1, 0, 0]\n"
     ]
    },
    {
     "name": "stderr",
     "output_type": "stream",
     "text": [
      "280it [17:17,  2.07s/it, BLEU2=0.298, BLEU1=0.358, ExactMatch=0.0174, METEOR=0.565, BertScore=nan, StubScore=0.34]"
     ]
    },
    {
     "name": "stdout",
     "output_type": "stream",
     "text": [
      "answer raw len:  279 1\n",
      "True\n",
      "У меня нет ответа на ваш вопрос.\n",
      "Связка из 7К, 9К, 11К должна была отправиться к Луне по программе А.\n",
      "[0, 0, 0, 0, 0, 1, 1, 0, 1, 0, 1, 0, 1, 0, 0, 0, 0, 0, 1, 0, 1, 1, 0, 0, 1, 0, 0, 0, 1, 0, 0, 1, 0, 0, 0, 0, 0, 1, 0, 1, 0, 1, 1, 0, 0, 1, 0, 1, 0, 0]\n"
     ]
    },
    {
     "name": "stderr",
     "output_type": "stream",
     "text": [
      "281it [17:19,  1.86s/it, BLEU2=0.298, BLEU1=0.358, ExactMatch=0.0173, METEOR=0.566, BertScore=nan, StubScore=0.34]"
     ]
    },
    {
     "name": "stdout",
     "output_type": "stream",
     "text": [
      "answer raw len:  280 1\n",
      "True\n",
      "Ялмар Йохансен считался самым опытным лыжником и каюром в экспедиции.\n",
      "Самым опытным лыжником и каюром в экспедиции считали Ялмара Йохансена.\n",
      "[0, 0, 0, 0, 0, 1, 1, 0, 1, 0, 1, 0, 1, 0, 0, 0, 0, 0, 1, 0, 1, 1, 0, 0, 1, 0, 0, 0, 1, 0, 0, 1, 0, 0, 0, 0, 0, 1, 0, 1, 0, 1, 1, 0, 0, 1, 0, 1, 0, 0]\n"
     ]
    },
    {
     "name": "stderr",
     "output_type": "stream",
     "text": [
      "282it [17:21,  2.12s/it, BLEU2=0.3, BLEU1=0.361, ExactMatch=0.0172, METEOR=0.567, BertScore=nan, StubScore=0.34]  "
     ]
    },
    {
     "name": "stdout",
     "output_type": "stream",
     "text": [
      "answer raw len:  281 1\n",
      "True\n",
      "В ноябре 1894 года Фрам находился в 750 км от мыса Флигели и примерно в 780 км от Северного полюса.\n",
      "Фрам в ноябре 1894 года находился в 750 км от мыса Флигели и на расстоянии примерно 780 км от Северного полюса.\n",
      "[0, 0, 0, 0, 0, 1, 1, 0, 1, 0, 1, 0, 1, 0, 0, 0, 0, 0, 1, 0, 1, 1, 0, 0, 1, 0, 0, 0, 1, 0, 0, 1, 0, 0, 0, 0, 0, 1, 0, 1, 0, 1, 1, 0, 0, 1, 0, 1, 0, 0]\n",
      "answer raw len:  282 1\n"
     ]
    },
    {
     "name": "stderr",
     "output_type": "stream",
     "text": [
      "283it [17:25,  2.47s/it, BLEU2=0.3, BLEU1=0.361, ExactMatch=0.0172, METEOR=0.567, BertScore=nan, StubScore=0.333]"
     ]
    },
    {
     "name": "stdout",
     "output_type": "stream",
     "text": [
      "sim raw len:  1\n",
      "False\n",
      "В тексте не указано конкретное время, отведенное для достижения полюса.\n",
      "Для достижения полюса отводилось 50 суток.\n",
      "[0, 0, 0, 0, 0, 1, 1, 0, 1, 0, 1, 0, 1, 0, 0, 0, 0, 0, 1, 0, 1, 1, 0, 0, 1, 0, 0, 0, 1, 0, 0, 1, 0, 0, 0, 0, 0, 1, 0, 1, 0, 1, 1, 0, 0, 1, 0, 1, 0, 0, 0]\n"
     ]
    },
    {
     "name": "stderr",
     "output_type": "stream",
     "text": [
      "284it [17:26,  2.07s/it, BLEU2=0.301, BLEU1=0.362, ExactMatch=0.0172, METEOR=0.569, BertScore=nan, StubScore=0.333]"
     ]
    },
    {
     "name": "stdout",
     "output_type": "stream",
     "text": [
      "answer raw len:  283 1\n",
      "True\n",
      "Нансен планировал отправить 28 собак в поход.\n",
      "Нансен планировал отправить в поход 28 собак.\n",
      "[0, 0, 0, 0, 0, 1, 1, 0, 1, 0, 1, 0, 1, 0, 0, 0, 0, 0, 1, 0, 1, 1, 0, 0, 1, 0, 0, 0, 1, 0, 0, 1, 0, 0, 0, 0, 0, 1, 0, 1, 0, 1, 1, 0, 0, 1, 0, 1, 0, 0, 0]\n"
     ]
    },
    {
     "name": "stderr",
     "output_type": "stream",
     "text": [
      "285it [17:28,  2.07s/it, BLEU2=0.302, BLEU1=0.363, ExactMatch=0.0171, METEOR=0.57, BertScore=nan, StubScore=0.333] "
     ]
    },
    {
     "name": "stdout",
     "output_type": "stream",
     "text": [
      "answer raw len:  284 1\n",
      "True\n",
      "16 ноября 1894 года Нансен объявил команде, что покинет судно в будущем году.\n",
      "Нансен объявил команде, что покидает судно в будущем году.\n",
      "[0, 0, 0, 0, 0, 1, 1, 0, 1, 0, 1, 0, 1, 0, 0, 0, 0, 0, 1, 0, 1, 1, 0, 0, 1, 0, 0, 0, 1, 0, 0, 1, 0, 0, 0, 0, 0, 1, 0, 1, 0, 1, 1, 0, 0, 1, 0, 1, 0, 0, 0]\n"
     ]
    },
    {
     "name": "stderr",
     "output_type": "stream",
     "text": [
      "286it [17:29,  1.84s/it, BLEU2=0.303, BLEU1=0.364, ExactMatch=0.017, METEOR=0.57, BertScore=nan, StubScore=0.333] "
     ]
    },
    {
     "name": "stdout",
     "output_type": "stream",
     "text": [
      "answer raw len:  285 1\n",
      "True\n",
      "Нефтеюганский район был образован в 1980 году.\n",
      "Нефтеюганский район с центром в городе Нефтеюганске был образован в 1980 году.\n",
      "[0, 0, 0, 0, 0, 1, 1, 0, 1, 0, 1, 0, 1, 0, 0, 0, 0, 0, 1, 0, 1, 1, 0, 0, 1, 0, 0, 0, 1, 0, 0, 1, 0, 0, 0, 0, 0, 1, 0, 1, 0, 1, 1, 0, 0, 1, 0, 1, 0, 0, 0]\n"
     ]
    },
    {
     "name": "stderr",
     "output_type": "stream",
     "text": [
      "287it [17:32,  2.24s/it, BLEU2=0.306, BLEU1=0.366, ExactMatch=0.0169, METEOR=0.572, BertScore=nan, StubScore=0.333]"
     ]
    },
    {
     "name": "stdout",
     "output_type": "stream",
     "text": [
      "answer raw len:  286 1\n",
      "True\n",
      "В январе 1968 года город Нефтеюганск встречал особого гостя - члена Политбюро ЦК КПСС, Председателя Совета Министров СССР Алексея Николаевича Косыгина.\n",
      "В январе 1968 года город Нефтеюганск встречал особого гостя — члена Политбюро ЦК КПСС, Председателя Совета Министров СССР Алексея Николаевича Косыгина.\n",
      "[0, 0, 0, 0, 0, 1, 1, 0, 1, 0, 1, 0, 1, 0, 0, 0, 0, 0, 1, 0, 1, 1, 0, 0, 1, 0, 0, 0, 1, 0, 0, 1, 0, 0, 0, 0, 0, 1, 0, 1, 0, 1, 1, 0, 0, 1, 0, 1, 0, 0, 0]\n"
     ]
    },
    {
     "name": "stderr",
     "output_type": "stream",
     "text": [
      "288it [17:33,  1.86s/it, BLEU2=0.304, BLEU1=0.365, ExactMatch=0.0169, METEOR=0.57, BertScore=nan, StubScore=0.333] "
     ]
    },
    {
     "name": "stdout",
     "output_type": "stream",
     "text": [
      "answer raw len:  287 1\n",
      "True\n",
      "16 октября 1967 года.\n",
      "Президиум Верховного Совета РСФСР издал Указ О преобразовании рабочего посёлка Нефтеюганск Сургутского района Ханты-Мансийского национального округа, Тюменской области в город окружного подчинения 16 октября 1967 года.\n",
      "[0, 0, 0, 0, 0, 1, 1, 0, 1, 0, 1, 0, 1, 0, 0, 0, 0, 0, 1, 0, 1, 1, 0, 0, 1, 0, 0, 0, 1, 0, 0, 1, 0, 0, 0, 0, 0, 1, 0, 1, 0, 1, 1, 0, 0, 1, 0, 1, 0, 0, 0]\n"
     ]
    },
    {
     "name": "stderr",
     "output_type": "stream",
     "text": [
      "289it [17:35,  1.90s/it, BLEU2=0.306, BLEU1=0.367, ExactMatch=0.0168, METEOR=0.572, BertScore=nan, StubScore=0.333]"
     ]
    },
    {
     "name": "stdout",
     "output_type": "stream",
     "text": [
      "answer raw len:  288 1\n",
      "True\n",
      "Первые каменные дома в Нефтеюганске были построены в конце 1960-х годов.\n",
      "Первые каменные дома в Нефтеюганске были построены в конце 1960-х.\n",
      "[0, 0, 0, 0, 0, 1, 1, 0, 1, 0, 1, 0, 1, 0, 0, 0, 0, 0, 1, 0, 1, 1, 0, 0, 1, 0, 0, 0, 1, 0, 0, 1, 0, 0, 0, 0, 0, 1, 0, 1, 0, 1, 1, 0, 0, 1, 0, 1, 0, 0, 0]\n"
     ]
    },
    {
     "name": "stderr",
     "output_type": "stream",
     "text": [
      "290it [17:37,  1.92s/it, BLEU2=0.306, BLEU1=0.367, ExactMatch=0.0167, METEOR=0.572, BertScore=nan, StubScore=0.333]"
     ]
    },
    {
     "name": "stdout",
     "output_type": "stream",
     "text": [
      "answer raw len:  289 1\n",
      "True\n",
      "Мост, открытый в 1984 году, находится в протоке Юганская Обь.\n",
      "Мост в 1984 году был открыт через протоку Юганская Обь.\n",
      "[0, 0, 0, 0, 0, 1, 1, 0, 1, 0, 1, 0, 1, 0, 0, 0, 0, 0, 1, 0, 1, 1, 0, 0, 1, 0, 0, 0, 1, 0, 0, 1, 0, 0, 0, 0, 0, 1, 0, 1, 0, 1, 1, 0, 0, 1, 0, 1, 0, 0, 0]\n"
     ]
    },
    {
     "name": "stderr",
     "output_type": "stream",
     "text": [
      "291it [17:38,  1.70s/it, BLEU2=0.305, BLEU1=0.366, ExactMatch=0.0167, METEOR=0.571, BertScore=nan, StubScore=0.333]"
     ]
    },
    {
     "name": "stdout",
     "output_type": "stream",
     "text": [
      "answer raw len:  290 1\n",
      "True\n",
      "В каких городах народники-деревенщики организовали кружки?\n",
      "Народники-деревенщики организовали кружки в Петербурге, Москве, Туле и Харькове.\n",
      "[0, 0, 0, 0, 0, 1, 1, 0, 1, 0, 1, 0, 1, 0, 0, 0, 0, 0, 1, 0, 1, 1, 0, 0, 1, 0, 0, 0, 1, 0, 0, 1, 0, 0, 0, 0, 0, 1, 0, 1, 0, 1, 1, 0, 0, 1, 0, 1, 0, 0, 0]\n",
      "answer raw len:  291 1\n"
     ]
    },
    {
     "name": "stderr",
     "output_type": "stream",
     "text": [
      "292it [17:42,  2.33s/it, BLEU2=0.305, BLEU1=0.366, ExactMatch=0.0167, METEOR=0.571, BertScore=nan, StubScore=0.327]"
     ]
    },
    {
     "name": "stdout",
     "output_type": "stream",
     "text": [
      "sim raw len:  1\n",
      "False\n",
      "В 1883 году была создана группа \"Освобождение труда\".\n",
      "Группа Освобождение труда была создана в 1883 году.\n",
      "[0, 0, 0, 0, 0, 1, 1, 0, 1, 0, 1, 0, 1, 0, 0, 0, 0, 0, 1, 0, 1, 1, 0, 0, 1, 0, 0, 0, 1, 0, 0, 1, 0, 0, 0, 0, 0, 1, 0, 1, 0, 1, 1, 0, 0, 1, 0, 1, 0, 0, 0, 0]\n"
     ]
    },
    {
     "name": "stderr",
     "output_type": "stream",
     "text": [
      "293it [17:44,  2.24s/it, BLEU2=0.306, BLEU1=0.366, ExactMatch=0.0166, METEOR=0.572, BertScore=nan, StubScore=0.327]"
     ]
    },
    {
     "name": "stdout",
     "output_type": "stream",
     "text": [
      "answer raw len:  292 1\n",
      "True\n",
      "Название газеты для рабочих и крестьян, изданной в смоленской типографии, было \"Зерно\".\n",
      "Газета для рабочих и крестьян, издаваемая в смоленской типографии называлась Зерно.\n",
      "[0, 0, 0, 0, 0, 1, 1, 0, 1, 0, 1, 0, 1, 0, 0, 0, 0, 0, 1, 0, 1, 1, 0, 0, 1, 0, 0, 0, 1, 0, 0, 1, 0, 0, 0, 0, 0, 1, 0, 1, 0, 1, 1, 0, 0, 1, 0, 1, 0, 0, 0, 0]\n"
     ]
    },
    {
     "name": "stderr",
     "output_type": "stream",
     "text": [
      "294it [17:46,  2.04s/it, BLEU2=0.305, BLEU1=0.366, ExactMatch=0.0165, METEOR=0.571, BertScore=nan, StubScore=0.327]"
     ]
    },
    {
     "name": "stdout",
     "output_type": "stream",
     "text": [
      "answer raw len:  293 1\n",
      "True\n",
      "Плеханов, Засулич, Дейч и Стефанович эмигрировали в Швейцарию.\n",
      "Плеханов, Засулич, Дейч и Стефанович эмигрировали в Швейцарию, где, ознакомившись с марксистскими идеями, создали в 1883 в Женеве группу Освобождение труда.\n",
      "[0, 0, 0, 0, 0, 1, 1, 0, 1, 0, 1, 0, 1, 0, 0, 0, 0, 0, 1, 0, 1, 1, 0, 0, 1, 0, 0, 0, 1, 0, 0, 1, 0, 0, 0, 0, 0, 1, 0, 1, 0, 1, 1, 0, 0, 1, 0, 1, 0, 0, 0, 0]\n"
     ]
    },
    {
     "name": "stderr",
     "output_type": "stream",
     "text": [
      "295it [17:49,  2.48s/it, BLEU2=0.304, BLEU1=0.365, ExactMatch=0.0165, METEOR=0.57, BertScore=nan, StubScore=0.327] "
     ]
    },
    {
     "name": "stdout",
     "output_type": "stream",
     "text": [
      "answer raw len:  294 1\n",
      "True\n",
      "Типография в Смоленске была захвачена и разгромлена группой отколовшихся от общества и воли народников, известных как \"Черный передел\", которые получили часть денег и типографию в Смоленске.\n",
      "Типография в Смоленске была разгромлена.\n",
      "[0, 0, 0, 0, 0, 1, 1, 0, 1, 0, 1, 0, 1, 0, 0, 0, 0, 0, 1, 0, 1, 1, 0, 0, 1, 0, 0, 0, 1, 0, 0, 1, 0, 0, 0, 0, 0, 1, 0, 1, 0, 1, 1, 0, 0, 1, 0, 1, 0, 0, 0, 0]\n"
     ]
    },
    {
     "name": "stderr",
     "output_type": "stream",
     "text": [
      "296it [17:54,  3.12s/it, BLEU2=0.303, BLEU1=0.363, ExactMatch=0.0164, METEOR=0.569, BertScore=nan, StubScore=0.327]"
     ]
    },
    {
     "name": "stdout",
     "output_type": "stream",
     "text": [
      "answer raw len:  295 1\n",
      "True\n",
      "В Усть-Зейской станице Н. Н. Муравьев был встречен с торжеством. Архиепископ Иннокентий отслужил благодарственный молебен, и на следующий день был устроен прием, посвященный подписанию договора. Муравьев поздравил участников, поздравив их с успешным присоединением Амура к России.\n",
      "Встретили Н.Н. Муравьёва в Усть-Зейскую станице немедленным служением благодарственного молебна Архиепископом Иннокентием.\n",
      "[0, 0, 0, 0, 0, 1, 1, 0, 1, 0, 1, 0, 1, 0, 0, 0, 0, 0, 1, 0, 1, 1, 0, 0, 1, 0, 0, 0, 1, 0, 0, 1, 0, 0, 0, 0, 0, 1, 0, 1, 0, 1, 1, 0, 0, 1, 0, 1, 0, 0, 0, 0]\n"
     ]
    },
    {
     "name": "stderr",
     "output_type": "stream",
     "text": [
      "297it [18:00,  3.88s/it, BLEU2=0.304, BLEU1=0.364, ExactMatch=0.0163, METEOR=0.569, BertScore=nan, StubScore=0.327]"
     ]
    },
    {
     "name": "stdout",
     "output_type": "stream",
     "text": [
      "answer raw len:  296 1\n",
      "True\n",
      "Во время торжественного приема, устроенного в честь подписания договора, Н. Н. Муравьев поздравил всех присутствующих такими словами: \"Товарищи! Поздравляю вас! Не напрасно мы трудились: Амур стал достоянием России. Святая православная церковь молится за вас! Россия - благодарит! Да здравствует император Александр и да процветает под его кровом вновь приобретенная страна. Ура!\"\n",
      "Н.Н. Муравьёв во время торжественного приёма, устроенного по поводу подписания договора произнес: \"Товарищи! Поздравляю вас! Не тщетно трудились мы: Амур сделался достоянием России. Святая православная церковь молится за вас! Россия — благодарит! Да здравствует император Александр и процветает под кровом его вновь приобретённая страна. Ура!\"\n",
      "[0, 0, 0, 0, 0, 1, 1, 0, 1, 0, 1, 0, 1, 0, 0, 0, 0, 0, 1, 0, 1, 1, 0, 0, 1, 0, 0, 0, 1, 0, 0, 1, 0, 0, 0, 0, 0, 1, 0, 1, 0, 1, 1, 0, 0, 1, 0, 1, 0, 0, 0, 0]\n"
     ]
    },
    {
     "name": "stderr",
     "output_type": "stream",
     "text": [
      "298it [18:00,  2.89s/it, BLEU2=0.303, BLEU1=0.363, ExactMatch=0.0163, METEOR=0.569, BertScore=nan, StubScore=0.327]"
     ]
    },
    {
     "name": "stdout",
     "output_type": "stream",
     "text": [
      "answer raw len:  297 1\n",
      "True\n",
      "17 (29) мая.\n",
      "Н.Н. Муравьёв вернулся в Усть-Зейскую станицу 17 (29) мая.\n",
      "[0, 0, 0, 0, 0, 1, 1, 0, 1, 0, 1, 0, 1, 0, 0, 0, 0, 0, 1, 0, 1, 1, 0, 0, 1, 0, 0, 0, 1, 0, 0, 1, 0, 0, 0, 0, 0, 1, 0, 1, 0, 1, 1, 0, 0, 1, 0, 1, 0, 0, 0, 0]\n"
     ]
    },
    {
     "name": "stderr",
     "output_type": "stream",
     "text": [
      "299it [18:02,  2.60s/it, BLEU2=0.302, BLEU1=0.363, ExactMatch=0.0162, METEOR=0.569, BertScore=nan, StubScore=0.327]"
     ]
    },
    {
     "name": "stdout",
     "output_type": "stream",
     "text": [
      "answer raw len:  298 1\n",
      "True\n",
      "Торжественный прием, устроенный Н. Н. Муравьевым, был по поводу подписания договора, который передал реку Амур и ее берега России.\n",
      "Прием Н.Н. Муравьёва устроен по поводу подписания договора.\n",
      "[0, 0, 0, 0, 0, 1, 1, 0, 1, 0, 1, 0, 1, 0, 0, 0, 0, 0, 1, 0, 1, 1, 0, 0, 1, 0, 0, 0, 1, 0, 0, 1, 0, 0, 0, 0, 0, 1, 0, 1, 0, 1, 1, 0, 0, 1, 0, 1, 0, 0, 0, 0]\n"
     ]
    },
    {
     "name": "stderr",
     "output_type": "stream",
     "text": [
      "300it [18:06,  2.83s/it, BLEU2=0.302, BLEU1=0.362, ExactMatch=0.0161, METEOR=0.568, BertScore=nan, StubScore=0.327]"
     ]
    },
    {
     "name": "stdout",
     "output_type": "stream",
     "text": [
      "answer raw len:  299 1\n",
      "True\n",
      "[92.632] В 1858 году, во время правления императора Александра II, Н. Н. Муравьёв был назначен генерал-губернатором для документальной фиксации территорий вдоль Амура и заключения договора с Китаем.\n",
      "Миссия Н.Н. Муравьёва. Проходила во времена правления императора Александра.\n",
      "[0, 0, 0, 0, 0, 1, 1, 0, 1, 0, 1, 0, 1, 0, 0, 0, 0, 0, 1, 0, 1, 1, 0, 0, 1, 0, 0, 0, 1, 0, 0, 1, 0, 0, 0, 0, 0, 1, 0, 1, 0, 1, 1, 0, 0, 1, 0, 1, 0, 0, 0, 0]\n",
      "answer raw len:  300 1\n"
     ]
    },
    {
     "name": "stderr",
     "output_type": "stream",
     "text": [
      "301it [18:07,  2.53s/it, BLEU2=0.302, BLEU1=0.362, ExactMatch=0.0161, METEOR=0.568, BertScore=nan, StubScore=0.34] "
     ]
    },
    {
     "name": "stdout",
     "output_type": "stream",
     "text": [
      "sim raw len:  1\n",
      "False\n",
      "У меня нет ответа на ваш вопрос.\n",
      "В декабре 1923 года Ш. Х. Сюнчелей возглавлял Академический центр при СНК Башкирской АССР.\n",
      "[0, 0, 0, 0, 0, 1, 1, 0, 1, 0, 1, 0, 1, 0, 0, 0, 0, 0, 1, 0, 1, 1, 0, 0, 1, 0, 0, 0, 1, 0, 0, 1, 0, 0, 0, 0, 0, 1, 0, 1, 0, 1, 1, 0, 0, 1, 0, 1, 0, 0, 0, 0, 1]\n"
     ]
    },
    {
     "name": "stderr",
     "output_type": "stream",
     "text": [
      "302it [18:09,  2.40s/it, BLEU2=0.303, BLEU1=0.363, ExactMatch=0.0161, METEOR=0.569, BertScore=nan, StubScore=0.34]"
     ]
    },
    {
     "name": "stdout",
     "output_type": "stream",
     "text": [
      "answer raw len:  301 1\n",
      "True\n",
      "Постановление \"О литературном языке башкирского языка\" было издано 20 февраля 1924 года.\n",
      "Постановление \"О литературном языке башкир\" было издано 20 февраля 1924 года.\n",
      "[0, 0, 0, 0, 0, 1, 1, 0, 1, 0, 1, 0, 1, 0, 0, 0, 0, 0, 1, 0, 1, 1, 0, 0, 1, 0, 0, 0, 1, 0, 0, 1, 0, 0, 0, 0, 0, 1, 0, 1, 0, 1, 1, 0, 0, 1, 0, 1, 0, 0, 0, 0, 1]\n"
     ]
    },
    {
     "name": "stderr",
     "output_type": "stream",
     "text": [
      "303it [18:10,  1.98s/it, BLEU2=0.302, BLEU1=0.362, ExactMatch=0.016, METEOR=0.568, BertScore=nan, StubScore=0.34] "
     ]
    },
    {
     "name": "stdout",
     "output_type": "stream",
     "text": [
      "answer raw len:  302 1\n",
      "True\n",
      "17 декабря 1923 года.\n",
      "Решение о взятии куваканского наречия за основу башкирского литературного языка было принято 17 декабря 1923 года.\n",
      "[0, 0, 0, 0, 0, 1, 1, 0, 1, 0, 1, 0, 1, 0, 0, 0, 0, 0, 1, 0, 1, 1, 0, 0, 1, 0, 0, 0, 1, 0, 0, 1, 0, 0, 0, 0, 0, 1, 0, 1, 0, 1, 1, 0, 0, 1, 0, 1, 0, 0, 0, 0, 1]\n",
      "answer raw len:  303 1\n"
     ]
    },
    {
     "name": "stderr",
     "output_type": "stream",
     "text": [
      "304it [18:26,  6.06s/it, BLEU2=0.302, BLEU1=0.362, ExactMatch=0.016, METEOR=0.568, BertScore=nan, StubScore=0.333]"
     ]
    },
    {
     "name": "stdout",
     "output_type": "stream",
     "text": [
      "sim raw len:  1\n",
      "False\n",
      "[83.193] В 1922 году была создана специальная комиссия по разработке алфавита и орфографии литературного башкирского языка, в состав которой входили С. Уфалы, Ш. Худайбердин, Г. Шонаси, С. Рамиев, Х. Каримов, Ш. Манатов, Д. Юлтый. 18 февраля 1923 года согласно декрету СНК БАССР была создана Центральная комиссия по реализации башкирского языка под руководством Ш. А. Худайбердина, занимавшаяся, в том числе, и решением вопроса о создании литературного языка. Сам Ш. А. Худайбердин был сторонником признания литературной нормой юрматинского диалекта.\n",
      "Автором постановления \"О литературном языке башкир\" является Башнаркомпрос.\n",
      "[0, 0, 0, 0, 0, 1, 1, 0, 1, 0, 1, 0, 1, 0, 0, 0, 0, 0, 1, 0, 1, 1, 0, 0, 1, 0, 0, 0, 1, 0, 0, 1, 0, 0, 0, 0, 0, 1, 0, 1, 0, 1, 1, 0, 0, 1, 0, 1, 0, 0, 0, 0, 1, 0]\n",
      "answer raw len:  304 1\n"
     ]
    },
    {
     "name": "stderr",
     "output_type": "stream",
     "text": [
      "305it [18:42,  8.93s/it, BLEU2=0.302, BLEU1=0.362, ExactMatch=0.016, METEOR=0.568, BertScore=nan, StubScore=0.327]"
     ]
    },
    {
     "name": "stdout",
     "output_type": "stream",
     "text": [
      "sim raw len:  1\n",
      "False\n",
      "[83.193] В 1922 году была создана специальная комиссия по разработке алфавита и орфографии литературного башкирского языка, в состав которой входили С. Уфалы, Ш. Худайбердин, Г. Шонаси, С. Рамиев, Х. Каримов, Ш. Манатов, Д. Юлтый. 18 февраля 1923 года согласно декрету СНК БАССР была создана Центральная комиссия по реализации башкирского языка под руководством Ш. А. Худайбердина, занимавшаяся, в том числе, и решением вопроса о создании литературного языка. Сам Ш. А. Худайбердин был сторонником признания литературной нормой юрматинского диалекта.\n",
      "Башкирский литературный язык сформировался на основе куваканского и юрматынского диалектов.\n",
      "[0, 0, 0, 0, 0, 1, 1, 0, 1, 0, 1, 0, 1, 0, 0, 0, 0, 0, 1, 0, 1, 1, 0, 0, 1, 0, 0, 0, 1, 0, 0, 1, 0, 0, 0, 0, 0, 1, 0, 1, 0, 1, 1, 0, 0, 1, 0, 1, 0, 0, 0, 0, 1, 0, 0]\n",
      "answer raw len:  305 1\n"
     ]
    },
    {
     "name": "stderr",
     "output_type": "stream",
     "text": [
      "306it [18:46,  7.49s/it, BLEU2=0.302, BLEU1=0.362, ExactMatch=0.016, METEOR=0.568, BertScore=nan, StubScore=0.321]"
     ]
    },
    {
     "name": "stdout",
     "output_type": "stream",
     "text": [
      "sim raw len:  1\n",
      "False\n",
      "Телевизионная версия \"The Greatest Showman\" длится 1 час 52 минуты.\n",
      "Длительность телеверсии — 52 минуты.\n",
      "[0, 0, 0, 0, 0, 1, 1, 0, 1, 0, 1, 0, 1, 0, 0, 0, 0, 0, 1, 0, 1, 1, 0, 0, 1, 0, 0, 0, 1, 0, 0, 1, 0, 0, 0, 0, 0, 1, 0, 1, 0, 1, 1, 0, 0, 1, 0, 1, 0, 0, 0, 0, 1, 0, 0, 0]\n"
     ]
    },
    {
     "name": "stderr",
     "output_type": "stream",
     "text": [
      "307it [18:48,  5.90s/it, BLEU2=0.301, BLEU1=0.361, ExactMatch=0.0159, METEOR=0.569, BertScore=nan, StubScore=0.321]"
     ]
    },
    {
     "name": "stdout",
     "output_type": "stream",
     "text": [
      "answer raw len:  306 1\n",
      "True\n",
      "Песня, которую исполнили по просьбе фанатов, - \"My Death\", это кавер на песню Жака Бреля.\n",
      "По просьбе фанатов была исполнена песня Жака Бреля My Death.\n",
      "[0, 0, 0, 0, 0, 1, 1, 0, 1, 0, 1, 0, 1, 0, 0, 0, 0, 0, 1, 0, 1, 1, 0, 0, 1, 0, 0, 0, 1, 0, 0, 1, 0, 0, 0, 0, 0, 1, 0, 1, 0, 1, 1, 0, 0, 1, 0, 1, 0, 0, 0, 0, 1, 0, 0, 0]\n"
     ]
    },
    {
     "name": "stderr",
     "output_type": "stream",
     "text": [
      "308it [18:51,  4.98s/it, BLEU2=0.3, BLEU1=0.36, ExactMatch=0.0159, METEOR=0.567, BertScore=nan, StubScore=0.321]   "
     ]
    },
    {
     "name": "stdout",
     "output_type": "stream",
     "text": [
      "answer raw len:  307 1\n",
      "True\n",
      "18 июня состоялся концерт. Канал ОРТ записал телеверсию концерта, которая длилась 52 минуты, что на 25 минут короче полной версии.\n",
      "Концерт был записан телеканалом ОРТ.\n",
      "[0, 0, 0, 0, 0, 1, 1, 0, 1, 0, 1, 0, 1, 0, 0, 0, 0, 0, 1, 0, 1, 1, 0, 0, 1, 0, 0, 0, 1, 0, 0, 1, 0, 0, 0, 0, 0, 1, 0, 1, 0, 1, 1, 0, 0, 1, 0, 1, 0, 0, 0, 0, 1, 0, 0, 0]\n"
     ]
    },
    {
     "name": "stderr",
     "output_type": "stream",
     "text": [
      "309it [18:51,  3.62s/it, BLEU2=0.299, BLEU1=0.359, ExactMatch=0.0158, METEOR=0.566, BertScore=nan, StubScore=0.321]"
     ]
    },
    {
     "name": "stdout",
     "output_type": "stream",
     "text": [
      "answer raw len:  308 1\n",
      "True\n",
      "18 июня.\n",
      "Концерт, на котором пел Дэвид Боуи, состоялся 18 июня.\n",
      "[0, 0, 0, 0, 0, 1, 1, 0, 1, 0, 1, 0, 1, 0, 0, 0, 0, 0, 1, 0, 1, 1, 0, 0, 1, 0, 0, 0, 1, 0, 0, 1, 0, 0, 0, 0, 0, 1, 0, 1, 0, 1, 1, 0, 0, 1, 0, 1, 0, 0, 0, 0, 1, 0, 0, 0]\n"
     ]
    },
    {
     "name": "stderr",
     "output_type": "stream",
     "text": [
      "310it [18:52,  2.78s/it, BLEU2=0.298, BLEU1=0.358, ExactMatch=0.0157, METEOR=0.564, BertScore=nan, StubScore=0.321]"
     ]
    },
    {
     "name": "stdout",
     "output_type": "stream",
     "text": [
      "answer raw len:  309 1\n",
      "True\n",
      "У меня нет ответа на ваш вопрос.\n",
      "My Death исполнялась на концертах тура Outside.\n",
      "[0, 0, 0, 0, 0, 1, 1, 0, 1, 0, 1, 0, 1, 0, 0, 0, 0, 0, 1, 0, 1, 1, 0, 0, 1, 0, 0, 0, 1, 0, 0, 1, 0, 0, 0, 0, 0, 1, 0, 1, 0, 1, 1, 0, 0, 1, 0, 1, 0, 0, 0, 0, 1, 0, 0, 0]\n"
     ]
    },
    {
     "name": "stderr",
     "output_type": "stream",
     "text": [
      "311it [18:53,  2.36s/it, BLEU2=0.297, BLEU1=0.357, ExactMatch=0.0157, METEOR=0.564, BertScore=nan, StubScore=0.321]"
     ]
    },
    {
     "name": "stdout",
     "output_type": "stream",
     "text": [
      "answer raw len:  310 1\n",
      "True\n",
      "Название гостиницы, где располагалось издательство \"Скорпион\", было \"Метрополь\".\n",
      "Гостиница, где размещалось издательство Скорпион, называлась Метрополь.\n",
      "[0, 0, 0, 0, 0, 1, 1, 0, 1, 0, 1, 0, 1, 0, 0, 0, 0, 0, 1, 0, 1, 1, 0, 0, 1, 0, 0, 0, 1, 0, 0, 1, 0, 0, 0, 0, 0, 1, 0, 1, 0, 1, 1, 0, 0, 1, 0, 1, 0, 0, 0, 0, 1, 0, 0, 0]\n"
     ]
    },
    {
     "name": "stderr",
     "output_type": "stream",
     "text": [
      "312it [18:54,  1.90s/it, BLEU2=0.296, BLEU1=0.357, ExactMatch=0.0156, METEOR=0.563, BertScore=nan, StubScore=0.321]"
     ]
    },
    {
     "name": "stdout",
     "output_type": "stream",
     "text": [
      "answer raw len:  311 1\n",
      "True\n",
      "18 октября 1903 года.\n",
      "Голосование комиссии по присуждению Пушкинской премии состоялось 18 октября 1903 года.\n",
      "[0, 0, 0, 0, 0, 1, 1, 0, 1, 0, 1, 0, 1, 0, 0, 0, 0, 0, 1, 0, 1, 1, 0, 0, 1, 0, 0, 0, 1, 0, 0, 1, 0, 0, 0, 0, 0, 1, 0, 1, 0, 1, 1, 0, 0, 1, 0, 1, 0, 0, 0, 0, 1, 0, 0, 0]\n",
      "answer raw len:  312 1\n"
     ]
    },
    {
     "name": "stderr",
     "output_type": "stream",
     "text": [
      "313it [18:58,  2.31s/it, BLEU2=0.296, BLEU1=0.357, ExactMatch=0.0156, METEOR=0.563, BertScore=nan, StubScore=0.316]"
     ]
    },
    {
     "name": "stdout",
     "output_type": "stream",
     "text": [
      "sim raw len:  1\n",
      "False\n",
      "Второй частью Нобелевской премии по литературе был удостоен Боб Дилан.\n",
      "Вторая часть премии досталась переводчику Петру Вейнбергу.\n",
      "[0, 0, 0, 0, 0, 1, 1, 0, 1, 0, 1, 0, 1, 0, 0, 0, 0, 0, 1, 0, 1, 1, 0, 0, 1, 0, 0, 0, 1, 0, 0, 1, 0, 0, 0, 0, 0, 1, 0, 1, 0, 1, 1, 0, 0, 1, 0, 1, 0, 0, 0, 0, 1, 0, 0, 0, 0]\n"
     ]
    },
    {
     "name": "stderr",
     "output_type": "stream",
     "text": [
      "314it [18:58,  1.79s/it, BLEU2=0.299, BLEU1=0.359, ExactMatch=0.0195, METEOR=0.565, BertScore=nan, StubScore=0.316]"
     ]
    },
    {
     "name": "stdout",
     "output_type": "stream",
     "text": [
      "answer raw len:  313 1\n",
      "True\n",
      "Бунин получил восемь избирательных голосов.\n",
      "Бунин получил восемь избирательных голосов.\n",
      "[0, 0, 0, 0, 0, 1, 1, 0, 1, 0, 1, 0, 1, 0, 0, 0, 0, 0, 1, 0, 1, 1, 0, 0, 1, 0, 0, 0, 1, 0, 0, 1, 0, 0, 0, 0, 0, 1, 0, 1, 0, 1, 1, 0, 0, 1, 0, 1, 0, 0, 0, 0, 1, 0, 0, 0, 0]\n"
     ]
    },
    {
     "name": "stderr",
     "output_type": "stream",
     "text": [
      "315it [18:59,  1.55s/it, BLEU2=0.299, BLEU1=0.359, ExactMatch=0.0194, METEOR=0.564, BertScore=nan, StubScore=0.316]"
     ]
    },
    {
     "name": "stdout",
     "output_type": "stream",
     "text": [
      "answer raw len:  314 1\n",
      "True\n",
      "Что способствовало укреплению репутации Бунина как литератора?\n",
      "Репутацию Бунина как литератора укрепила Пушкинская премия.\n",
      "[0, 0, 0, 0, 0, 1, 1, 0, 1, 0, 1, 0, 1, 0, 0, 0, 0, 0, 1, 0, 1, 1, 0, 0, 1, 0, 0, 0, 1, 0, 0, 1, 0, 0, 0, 0, 0, 1, 0, 1, 0, 1, 1, 0, 0, 1, 0, 1, 0, 0, 0, 0, 1, 0, 0, 0, 0]\n"
     ]
    },
    {
     "name": "stderr",
     "output_type": "stream",
     "text": [
      "316it [19:00,  1.21s/it, BLEU2=0.298, BLEU1=0.358, ExactMatch=0.0193, METEOR=0.564, BertScore=nan, StubScore=0.316]"
     ]
    },
    {
     "name": "stdout",
     "output_type": "stream",
     "text": [
      "answer raw len:  315 1\n",
      "True\n",
      "3 апреля.\n",
      "Слушание дела началось 3 апреля.\n",
      "[0, 0, 0, 0, 0, 1, 1, 0, 1, 0, 1, 0, 1, 0, 0, 0, 0, 0, 1, 0, 1, 1, 0, 0, 1, 0, 0, 0, 1, 0, 0, 1, 0, 0, 0, 0, 0, 1, 0, 1, 0, 1, 1, 0, 0, 1, 0, 1, 0, 0, 0, 0, 1, 0, 0, 0, 0]\n"
     ]
    },
    {
     "name": "stderr",
     "output_type": "stream",
     "text": [
      "317it [19:01,  1.32s/it, BLEU2=0.301, BLEU1=0.361, ExactMatch=0.0231, METEOR=0.566, BertScore=nan, StubScore=0.316]"
     ]
    },
    {
     "name": "stdout",
     "output_type": "stream",
     "text": [
      "answer raw len:  316 1\n",
      "True\n",
      "Оскар Уайльд обвинил маркиза Куинсберри в клевете.\n",
      "Оскар Уайльд обвинил маркиза Куинсберри в клевете.\n",
      "[0, 0, 0, 0, 0, 1, 1, 0, 1, 0, 1, 0, 1, 0, 0, 0, 0, 0, 1, 0, 1, 1, 0, 0, 1, 0, 0, 0, 1, 0, 0, 1, 0, 0, 0, 0, 0, 1, 0, 1, 0, 1, 1, 0, 0, 1, 0, 1, 0, 0, 0, 0, 1, 0, 0, 0, 0]\n"
     ]
    },
    {
     "name": "stderr",
     "output_type": "stream",
     "text": [
      "318it [19:02,  1.25s/it, BLEU2=0.3, BLEU1=0.36, ExactMatch=0.023, METEOR=0.565, BertScore=nan, StubScore=0.316]    "
     ]
    },
    {
     "name": "stdout",
     "output_type": "stream",
     "text": [
      "answer raw len:  317 1\n",
      "True\n",
      "18 февраля 1895 года.\n",
      "Куинсберри написал записку Оскару Уайльду в клубе Элбемарл 18 февраля 1895 года.\n",
      "[0, 0, 0, 0, 0, 1, 1, 0, 1, 0, 1, 0, 1, 0, 0, 0, 0, 0, 1, 0, 1, 1, 0, 0, 1, 0, 0, 0, 1, 0, 0, 1, 0, 0, 0, 0, 0, 1, 0, 1, 0, 1, 1, 0, 0, 1, 0, 1, 0, 0, 0, 0, 1, 0, 0, 0, 0]\n"
     ]
    },
    {
     "name": "stderr",
     "output_type": "stream",
     "text": [
      "319it [19:03,  1.20s/it, BLEU2=0.3, BLEU1=0.359, ExactMatch=0.0229, METEOR=0.565, BertScore=nan, StubScore=0.316]"
     ]
    },
    {
     "name": "stdout",
     "output_type": "stream",
     "text": [
      "answer raw len:  318 1\n",
      "True\n",
      "18 февраля 1895 года.\n",
      "Оскар Уайльд получил записку Куинсберри 28 февраля 1895 года.\n",
      "[0, 0, 0, 0, 0, 1, 1, 0, 1, 0, 1, 0, 1, 0, 0, 0, 0, 0, 1, 0, 1, 1, 0, 0, 1, 0, 0, 0, 1, 0, 0, 1, 0, 0, 0, 0, 0, 1, 0, 1, 0, 1, 1, 0, 0, 1, 0, 1, 0, 0, 0, 0, 1, 0, 0, 0, 0]\n"
     ]
    },
    {
     "name": "stderr",
     "output_type": "stream",
     "text": [
      "320it [19:05,  1.34s/it, BLEU2=0.302, BLEU1=0.361, ExactMatch=0.0228, METEOR=0.566, BertScore=nan, StubScore=0.316]"
     ]
    },
    {
     "name": "stdout",
     "output_type": "stream",
     "text": [
      "answer raw len:  319 1\n",
      "True\n",
      "В зале суда присутствовали только мужчины из-за безнравственности рассматриваемых доказательств.\n",
      "В зале суда присутствовали только мужчины по причине безнравственности рассматриваемых доказательств.\n",
      "[0, 0, 0, 0, 0, 1, 1, 0, 1, 0, 1, 0, 1, 0, 0, 0, 0, 0, 1, 0, 1, 1, 0, 0, 1, 0, 0, 0, 1, 0, 0, 1, 0, 0, 0, 0, 0, 1, 0, 1, 0, 1, 1, 0, 0, 1, 0, 1, 0, 0, 0, 0, 1, 0, 0, 0, 0]\n"
     ]
    },
    {
     "name": "stderr",
     "output_type": "stream",
     "text": [
      "321it [19:06,  1.15s/it, BLEU2=0.301, BLEU1=0.36, ExactMatch=0.0227, METEOR=0.564, BertScore=nan, StubScore=0.316] "
     ]
    },
    {
     "name": "stdout",
     "output_type": "stream",
     "text": [
      "answer raw len:  320 1\n",
      "True\n",
      "1870-е годы\n",
      "Беспредельное народолюбие выдвигают на первый план 1870-е годы.\n",
      "[0, 0, 0, 0, 0, 1, 1, 0, 1, 0, 1, 0, 1, 0, 0, 0, 0, 0, 1, 0, 1, 1, 0, 0, 1, 0, 0, 0, 1, 0, 0, 1, 0, 0, 0, 0, 0, 1, 0, 1, 0, 1, 1, 0, 0, 1, 0, 1, 0, 0, 0, 0, 1, 0, 0, 0, 0]\n"
     ]
    },
    {
     "name": "stderr",
     "output_type": "stream",
     "text": [
      "322it [19:07,  1.34s/it, BLEU2=0.301, BLEU1=0.36, ExactMatch=0.0226, METEOR=0.564, BertScore=nan, StubScore=0.316]"
     ]
    },
    {
     "name": "stdout",
     "output_type": "stream",
     "text": [
      "answer raw len:  321 1\n",
      "True\n",
      "[86.803] Большое общество пропаганды возглавлял Михаил Александрович Натансон.\n",
      "Большое общество пропаганды возглавлялось М. А. Натансоном.\n",
      "[0, 0, 0, 0, 0, 1, 1, 0, 1, 0, 1, 0, 1, 0, 0, 0, 0, 0, 1, 0, 1, 1, 0, 0, 1, 0, 0, 0, 1, 0, 0, 1, 0, 0, 0, 0, 0, 1, 0, 1, 0, 1, 1, 0, 0, 1, 0, 1, 0, 0, 0, 0, 1, 0, 0, 0, 0]\n"
     ]
    },
    {
     "name": "stderr",
     "output_type": "stream",
     "text": [
      "323it [19:09,  1.53s/it, BLEU2=0.301, BLEU1=0.361, ExactMatch=0.0226, METEOR=0.565, BertScore=nan, StubScore=0.316]"
     ]
    },
    {
     "name": "stdout",
     "output_type": "stream",
     "text": [
      "answer raw len:  322 1\n",
      "True\n",
      "В 1870-х годах в крупных городах России действовало несколько десятков народнических кружков.\n",
      "Несколько десятков народнических кружков в крупных городах России действовало с конца 1860-х.\n",
      "[0, 0, 0, 0, 0, 1, 1, 0, 1, 0, 1, 0, 1, 0, 0, 0, 0, 0, 1, 0, 1, 1, 0, 0, 1, 0, 0, 0, 1, 0, 0, 1, 0, 0, 0, 0, 0, 1, 0, 1, 0, 1, 1, 0, 0, 1, 0, 1, 0, 0, 0, 0, 1, 0, 0, 0, 0]\n"
     ]
    },
    {
     "name": "stderr",
     "output_type": "stream",
     "text": [
      "324it [19:12,  1.75s/it, BLEU2=0.302, BLEU1=0.361, ExactMatch=0.0225, METEOR=0.565, BertScore=nan, StubScore=0.316]"
     ]
    },
    {
     "name": "stdout",
     "output_type": "stream",
     "text": [
      "answer raw len:  323 1\n",
      "True\n",
      "Один из народнических кружков был создан С. Л. Перовской в 1871 году.\n",
      "Создателем одного из народнических кружков был С. Л. Перовской.\n",
      "[0, 0, 0, 0, 0, 1, 1, 0, 1, 0, 1, 0, 1, 0, 0, 0, 0, 0, 1, 0, 1, 1, 0, 0, 1, 0, 0, 0, 1, 0, 0, 1, 0, 0, 0, 0, 0, 1, 0, 1, 0, 1, 1, 0, 0, 1, 0, 1, 0, 0, 0, 0, 1, 0, 0, 0, 0]\n"
     ]
    },
    {
     "name": "stderr",
     "output_type": "stream",
     "text": [
      "325it [19:13,  1.62s/it, BLEU2=0.304, BLEU1=0.363, ExactMatch=0.0224, METEOR=0.567, BertScore=nan, StubScore=0.316]"
     ]
    },
    {
     "name": "stdout",
     "output_type": "stream",
     "text": [
      "answer raw len:  324 1\n",
      "True\n",
      "Выражение \"покаянные дворяне\" принадлежит Николаю Константиновичу Михайловскому.\n",
      "Выражение \"кающиеся дворяне\" принадлежит Николаю Константиновичу Михайловскому.\n",
      "[0, 0, 0, 0, 0, 1, 1, 0, 1, 0, 1, 0, 1, 0, 0, 0, 0, 0, 1, 0, 1, 1, 0, 0, 1, 0, 0, 0, 1, 0, 0, 1, 0, 0, 0, 0, 0, 1, 0, 1, 0, 1, 1, 0, 0, 1, 0, 1, 0, 0, 0, 0, 1, 0, 0, 0, 0]\n"
     ]
    },
    {
     "name": "stderr",
     "output_type": "stream",
     "text": [
      "326it [19:15,  1.67s/it, BLEU2=0.304, BLEU1=0.364, ExactMatch=0.0223, METEOR=0.567, BertScore=nan, StubScore=0.316]"
     ]
    },
    {
     "name": "stdout",
     "output_type": "stream",
     "text": [
      "answer raw len:  325 1\n",
      "True\n",
      "Шаляпин получил сольную партию в опере \"Галька\" Станислава Монюшко.\n",
      "Шаляпин поучил сольную партию в опере Монюшко Галька.\n",
      "[0, 0, 0, 0, 0, 1, 1, 0, 1, 0, 1, 0, 1, 0, 0, 0, 0, 0, 1, 0, 1, 1, 0, 0, 1, 0, 0, 0, 1, 0, 0, 1, 0, 0, 0, 0, 0, 1, 0, 1, 0, 1, 1, 0, 0, 1, 0, 1, 0, 0, 0, 0, 1, 0, 0, 0, 0]\n"
     ]
    },
    {
     "name": "stderr",
     "output_type": "stream",
     "text": [
      "327it [19:16,  1.51s/it, BLEU2=0.304, BLEU1=0.364, ExactMatch=0.0222, METEOR=0.566, BertScore=nan, StubScore=0.316]"
     ]
    },
    {
     "name": "stdout",
     "output_type": "stream",
     "text": [
      "answer raw len:  326 1\n",
      "True\n",
      "Шаляпин начал работать в хоре оперетты в Уфе.\n",
      "В Уфе он начинал работать в хоре опереточной труппы.\n",
      "[0, 0, 0, 0, 0, 1, 1, 0, 1, 0, 1, 0, 1, 0, 0, 0, 0, 0, 1, 0, 1, 1, 0, 0, 1, 0, 0, 0, 1, 0, 0, 1, 0, 0, 0, 0, 0, 1, 0, 1, 0, 1, 1, 0, 0, 1, 0, 1, 0, 0, 0, 0, 1, 0, 0, 0, 0]\n"
     ]
    },
    {
     "name": "stderr",
     "output_type": "stream",
     "text": [
      "328it [19:17,  1.30s/it, BLEU2=0.304, BLEU1=0.363, ExactMatch=0.0221, METEOR=0.566, BertScore=nan, StubScore=0.316]"
     ]
    },
    {
     "name": "stdout",
     "output_type": "stream",
     "text": [
      "answer raw len:  327 1\n",
      "True\n",
      "19 сентября 1890 года.\n",
      "Шаляпин переехал из Казани в Уфу 19 сентября 1890 года.\n",
      "[0, 0, 0, 0, 0, 1, 1, 0, 1, 0, 1, 0, 1, 0, 0, 0, 0, 0, 1, 0, 1, 1, 0, 0, 1, 0, 0, 0, 1, 0, 0, 1, 0, 0, 0, 0, 0, 1, 0, 1, 0, 1, 1, 0, 0, 1, 0, 1, 0, 0, 0, 0, 1, 0, 0, 0, 0]\n"
     ]
    },
    {
     "name": "stderr",
     "output_type": "stream",
     "text": [
      "329it [19:19,  1.53s/it, BLEU2=0.305, BLEU1=0.365, ExactMatch=0.0221, METEOR=0.567, BertScore=nan, StubScore=0.316]"
     ]
    },
    {
     "name": "stdout",
     "output_type": "stream",
     "text": [
      "answer raw len:  328 1\n",
      "True\n",
      "Шаляпин начал работать в хоре оперетты под руководством С. Я. Семёнова-Самарского.\n",
      "Шаляпин начинал работать в хоре опереточной труппы под руководством С. Я. Семёнова-Самарского.\n",
      "[0, 0, 0, 0, 0, 1, 1, 0, 1, 0, 1, 0, 1, 0, 0, 0, 0, 0, 1, 0, 1, 1, 0, 0, 1, 0, 0, 0, 1, 0, 0, 1, 0, 0, 0, 0, 0, 1, 0, 1, 0, 1, 1, 0, 0, 1, 0, 1, 0, 0, 0, 0, 1, 0, 0, 0, 0]\n"
     ]
    },
    {
     "name": "stderr",
     "output_type": "stream",
     "text": [
      "330it [19:24,  2.58s/it, BLEU2=0.305, BLEU1=0.364, ExactMatch=0.022, METEOR=0.567, BertScore=nan, StubScore=0.316] "
     ]
    },
    {
     "name": "stdout",
     "output_type": "stream",
     "text": [
      "answer raw len:  329 1\n",
      "True\n",
      "Шаляпин упал на сцене, потому что сел на стул не на месте, когда исполнял роль в опере. Он был в спектакле \"Трубадур\" и заменил заболевшего артиста. Этот инцидент заставил его быть очень осторожным с креслами на сцене, опасаясь повторить ошибку.\n",
      "Шаляпин упал на сцене, потому что сел мимо стула.\n",
      "[0, 0, 0, 0, 0, 1, 1, 0, 1, 0, 1, 0, 1, 0, 0, 0, 0, 0, 1, 0, 1, 1, 0, 0, 1, 0, 0, 0, 1, 0, 0, 1, 0, 0, 0, 0, 0, 1, 0, 1, 0, 1, 1, 0, 0, 1, 0, 1, 0, 0, 0, 0, 1, 0, 0, 0, 0]\n",
      "answer raw len:  330 1\n"
     ]
    },
    {
     "name": "stderr",
     "output_type": "stream",
     "text": [
      "331it [19:27,  2.81s/it, BLEU2=0.305, BLEU1=0.364, ExactMatch=0.022, METEOR=0.567, BertScore=nan, StubScore=0.31] "
     ]
    },
    {
     "name": "stdout",
     "output_type": "stream",
     "text": [
      "sim raw len:  1\n",
      "False\n",
      "Альбом называется \"Aladdin Sane\".\n",
      "Альбом назывался The Captain & The Kid.\n",
      "[0, 0, 0, 0, 0, 1, 1, 0, 1, 0, 1, 0, 1, 0, 0, 0, 0, 0, 1, 0, 1, 1, 0, 0, 1, 0, 0, 0, 1, 0, 0, 1, 0, 0, 0, 0, 0, 1, 0, 1, 0, 1, 1, 0, 0, 1, 0, 1, 0, 0, 0, 0, 1, 0, 0, 0, 0, 0]\n",
      "answer raw len:  331 1\n"
     ]
    },
    {
     "name": "stderr",
     "output_type": "stream",
     "text": [
      "332it [19:29,  2.55s/it, BLEU2=0.305, BLEU1=0.364, ExactMatch=0.022, METEOR=0.567, BertScore=nan, StubScore=0.322]"
     ]
    },
    {
     "name": "stdout",
     "output_type": "stream",
     "text": [
      "sim raw len:  1\n",
      "False\n",
      "У меня нет ответа на ваш вопрос.\n",
      "Мировые продажи альбома на настоящий момент составляют примерно 3,5 млн копий.\n",
      "[0, 0, 0, 0, 0, 1, 1, 0, 1, 0, 1, 0, 1, 0, 0, 0, 0, 0, 1, 0, 1, 1, 0, 0, 1, 0, 0, 0, 1, 0, 0, 1, 0, 0, 0, 0, 0, 1, 0, 1, 0, 1, 1, 0, 0, 1, 0, 1, 0, 0, 0, 0, 1, 0, 0, 0, 0, 0, 1]\n"
     ]
    },
    {
     "name": "stderr",
     "output_type": "stream",
     "text": [
      "333it [19:31,  2.35s/it, BLEU2=0.306, BLEU1=0.366, ExactMatch=0.0219, METEOR=0.568, BertScore=nan, StubScore=0.322]"
     ]
    },
    {
     "name": "stdout",
     "output_type": "stream",
     "text": [
      "answer raw len:  332 1\n",
      "True\n",
      "Элтон Джон и Берни Топин выпустили еще один совместный диск 19 сентября 2006 года.\n",
      "Элтон Джон и Берни Топин выпустили очередной совместный диск 19 сентября 2006 года.\n",
      "[0, 0, 0, 0, 0, 1, 1, 0, 1, 0, 1, 0, 1, 0, 0, 0, 0, 0, 1, 0, 1, 1, 0, 0, 1, 0, 0, 0, 1, 0, 0, 1, 0, 0, 0, 0, 0, 1, 0, 1, 0, 1, 1, 0, 0, 1, 0, 1, 0, 0, 0, 0, 1, 0, 0, 0, 0, 0, 1]\n",
      "answer raw len:  333 1\n"
     ]
    },
    {
     "name": "stderr",
     "output_type": "stream",
     "text": [
      "334it [19:36,  3.17s/it, BLEU2=0.306, BLEU1=0.366, ExactMatch=0.0219, METEOR=0.568, BertScore=nan, StubScore=0.317]"
     ]
    },
    {
     "name": "stdout",
     "output_type": "stream",
     "text": [
      "sim raw len:  1\n",
      "False\n",
      "В альбоме \"Toy\" было запланировано 13 песен, но он так и не был выпущен, поэтому песни так и не были опубликованы.\n",
      "В альбоме было 10 песен.\n",
      "[0, 0, 0, 0, 0, 1, 1, 0, 1, 0, 1, 0, 1, 0, 0, 0, 0, 0, 1, 0, 1, 1, 0, 0, 1, 0, 0, 0, 1, 0, 0, 1, 0, 0, 0, 0, 0, 1, 0, 1, 0, 1, 1, 0, 0, 1, 0, 1, 0, 0, 0, 0, 1, 0, 0, 0, 0, 0, 1, 0]\n",
      "answer raw len:  334 1\n"
     ]
    },
    {
     "name": "stderr",
     "output_type": "stream",
     "text": [
      "335it [19:38,  2.78s/it, BLEU2=0.306, BLEU1=0.366, ExactMatch=0.0219, METEOR=0.568, BertScore=nan, StubScore=0.328]"
     ]
    },
    {
     "name": "stdout",
     "output_type": "stream",
     "text": [
      "sim raw len:  1\n",
      "False\n",
      "У меня нет ответа на ваш вопрос.\n",
      "На диск были помещены одновременно фотографии Элтона Джона и Берни Топина.\n",
      "[0, 0, 0, 0, 0, 1, 1, 0, 1, 0, 1, 0, 1, 0, 0, 0, 0, 0, 1, 0, 1, 1, 0, 0, 1, 0, 0, 0, 1, 0, 0, 1, 0, 0, 0, 0, 0, 1, 0, 1, 0, 1, 1, 0, 0, 1, 0, 1, 0, 0, 0, 0, 1, 0, 0, 0, 0, 0, 1, 0, 1]\n"
     ]
    },
    {
     "name": "stderr",
     "output_type": "stream",
     "text": [
      "336it [19:40,  2.52s/it, BLEU2=0.307, BLEU1=0.367, ExactMatch=0.0218, METEOR=0.568, BertScore=nan, StubScore=0.328]"
     ]
    },
    {
     "name": "stdout",
     "output_type": "stream",
     "text": [
      "answer raw len:  335 1\n",
      "True\n",
      "Пруст работал над сборником \"Против Сент-Бева\" весной и летом 1908 года.\n",
      "Сборник над которым работал Пруст весной и летом 1908 года назывался \"Против Сент-Бёва\".\n",
      "[0, 0, 0, 0, 0, 1, 1, 0, 1, 0, 1, 0, 1, 0, 0, 0, 0, 0, 1, 0, 1, 1, 0, 0, 1, 0, 0, 0, 1, 0, 0, 1, 0, 0, 0, 0, 0, 1, 0, 1, 0, 1, 1, 0, 0, 1, 0, 1, 0, 0, 0, 0, 1, 0, 0, 0, 0, 0, 1, 0, 1]\n"
     ]
    },
    {
     "name": "stderr",
     "output_type": "stream",
     "text": [
      "337it [19:41,  2.10s/it, BLEU2=0.308, BLEU1=0.368, ExactMatch=0.0217, METEOR=0.57, BertScore=nan, StubScore=0.328] "
     ]
    },
    {
     "name": "stdout",
     "output_type": "stream",
     "text": [
      "answer raw len:  336 1\n",
      "True\n",
      "1908 год был важным для формирования Пруста как писателя.\n",
      "Самым важным для формирования Пруста как писателя был 1908 год.\n",
      "[0, 0, 0, 0, 0, 1, 1, 0, 1, 0, 1, 0, 1, 0, 0, 0, 0, 0, 1, 0, 1, 1, 0, 0, 1, 0, 0, 0, 1, 0, 0, 1, 0, 0, 0, 0, 0, 1, 0, 1, 0, 1, 1, 0, 0, 1, 0, 1, 0, 0, 0, 0, 1, 0, 0, 0, 0, 0, 1, 0, 1]\n"
     ]
    },
    {
     "name": "stderr",
     "output_type": "stream",
     "text": [
      "338it [19:43,  2.00s/it, BLEU2=0.309, BLEU1=0.37, ExactMatch=0.0217, METEOR=0.571, BertScore=nan, StubScore=0.328]"
     ]
    },
    {
     "name": "stdout",
     "output_type": "stream",
     "text": [
      "answer raw len:  337 1\n",
      "True\n",
      "Пруст хотел опубликовать в различных журналах пародии на других писателей, чтобы отточить свой собственный стиль.\n",
      "Публикуя в различных журналах пародии на других писателей, Пруст хотел отточить свой собственный стиль.\n",
      "[0, 0, 0, 0, 0, 1, 1, 0, 1, 0, 1, 0, 1, 0, 0, 0, 0, 0, 1, 0, 1, 1, 0, 0, 1, 0, 0, 0, 1, 0, 0, 1, 0, 0, 0, 0, 0, 1, 0, 1, 0, 1, 1, 0, 0, 1, 0, 1, 0, 0, 0, 0, 1, 0, 0, 0, 0, 0, 1, 0, 1]\n"
     ]
    },
    {
     "name": "stderr",
     "output_type": "stream",
     "text": [
      "339it [19:44,  1.91s/it, BLEU2=0.311, BLEU1=0.372, ExactMatch=0.0216, METEOR=0.572, BertScore=nan, StubScore=0.328]"
     ]
    },
    {
     "name": "stdout",
     "output_type": "stream",
     "text": [
      "answer raw len:  338 1\n",
      "True\n",
      "В первой половине 1908 года Пруст опубликовал в различных журналах пародии на других писателей.\n",
      "В первой половине года Пруст опубликовал в различных журналах пародии на других писателей.\n",
      "[0, 0, 0, 0, 0, 1, 1, 0, 1, 0, 1, 0, 1, 0, 0, 0, 0, 0, 1, 0, 1, 1, 0, 0, 1, 0, 0, 0, 1, 0, 0, 1, 0, 0, 0, 0, 0, 1, 0, 1, 0, 1, 1, 0, 0, 1, 0, 1, 0, 0, 0, 0, 1, 0, 0, 0, 0, 0, 1, 0, 1]\n"
     ]
    },
    {
     "name": "stderr",
     "output_type": "stream",
     "text": [
      "340it [19:45,  1.49s/it, BLEU2=0.31, BLEU1=0.37, ExactMatch=0.0215, METEOR=0.571, BertScore=nan, StubScore=0.328]  "
     ]
    },
    {
     "name": "stdout",
     "output_type": "stream",
     "text": [
      "answer raw len:  339 1\n",
      "True\n",
      "1956\n",
      "Совместно с Independent Television Network Би-би-си стало вещать в 1956 году.\n",
      "[0, 0, 0, 0, 0, 1, 1, 0, 1, 0, 1, 0, 1, 0, 0, 0, 0, 0, 1, 0, 1, 1, 0, 0, 1, 0, 0, 0, 1, 0, 0, 1, 0, 0, 0, 0, 0, 1, 0, 1, 0, 1, 1, 0, 0, 1, 0, 1, 0, 0, 0, 0, 1, 0, 0, 0, 0, 0, 1, 0, 1]\n"
     ]
    },
    {
     "name": "stderr",
     "output_type": "stream",
     "text": [
      "341it [19:45,  1.18s/it, BLEU2=0.309, BLEU1=0.369, ExactMatch=0.0214, METEOR=0.569, BertScore=nan, StubScore=0.328]"
     ]
    },
    {
     "name": "stdout",
     "output_type": "stream",
     "text": [
      "answer raw len:  340 1\n",
      "True\n",
      "1937\n",
      "Первая телевизионная трансляция теннисного мачта на уимблдоне была в 1937 году.\n",
      "[0, 0, 0, 0, 0, 1, 1, 0, 1, 0, 1, 0, 1, 0, 0, 0, 0, 0, 1, 0, 1, 1, 0, 0, 1, 0, 0, 0, 1, 0, 0, 1, 0, 0, 0, 0, 0, 1, 0, 1, 0, 1, 1, 0, 0, 1, 0, 1, 0, 0, 0, 0, 1, 0, 0, 0, 0, 0, 1, 0, 1]\n"
     ]
    },
    {
     "name": "stderr",
     "output_type": "stream",
     "text": [
      "342it [19:47,  1.21s/it, BLEU2=0.309, BLEU1=0.369, ExactMatch=0.0214, METEOR=0.57, BertScore=nan, StubScore=0.328] "
     ]
    },
    {
     "name": "stdout",
     "output_type": "stream",
     "text": [
      "answer raw len:  341 1\n",
      "True\n",
      "Би-би-си вела первую трансляцию теннисного матча.\n",
      "Первую трансляцию теннисного матча вела Би-би-си.\n",
      "[0, 0, 0, 0, 0, 1, 1, 0, 1, 0, 1, 0, 1, 0, 0, 0, 0, 0, 1, 0, 1, 1, 0, 0, 1, 0, 0, 0, 1, 0, 0, 1, 0, 0, 0, 0, 0, 1, 0, 1, 0, 1, 1, 0, 0, 1, 0, 1, 0, 0, 0, 0, 1, 0, 0, 0, 0, 0, 1, 0, 1]\n",
      "answer raw len:  342 1\n"
     ]
    },
    {
     "name": "stderr",
     "output_type": "stream",
     "text": [
      "343it [19:49,  1.43s/it, BLEU2=0.309, BLEU1=0.369, ExactMatch=0.0214, METEOR=0.57, BertScore=nan, StubScore=0.339]"
     ]
    },
    {
     "name": "stdout",
     "output_type": "stream",
     "text": [
      "sim raw len:  1\n",
      "False\n",
      "У меня нет ответа на ваш вопрос.\n",
      "Абсолютными чемпионами в 1939 году стали Элис Марбл и Бобби Риггс.\n",
      "[0, 0, 0, 0, 0, 1, 1, 0, 1, 0, 1, 0, 1, 0, 0, 0, 0, 0, 1, 0, 1, 1, 0, 0, 1, 0, 0, 0, 1, 0, 0, 1, 0, 0, 0, 0, 0, 1, 0, 1, 0, 1, 1, 0, 0, 1, 0, 1, 0, 0, 0, 0, 1, 0, 0, 0, 0, 0, 1, 0, 1, 1]\n"
     ]
    },
    {
     "name": "stderr",
     "output_type": "stream",
     "text": [
      "344it [19:50,  1.48s/it, BLEU2=0.308, BLEU1=0.368, ExactMatch=0.0213, METEOR=0.568, BertScore=nan, StubScore=0.339]"
     ]
    },
    {
     "name": "stdout",
     "output_type": "stream",
     "text": [
      "answer raw len:  343 1\n",
      "True\n",
      "В 1937 году BBC впервые транслировала теннисный матч.\n",
      "Впервые Би-би-си транслировался матч между Банни Остином и ирландцем Джорджем Роджерсом.\n",
      "[0, 0, 0, 0, 0, 1, 1, 0, 1, 0, 1, 0, 1, 0, 0, 0, 0, 0, 1, 0, 1, 1, 0, 0, 1, 0, 0, 0, 1, 0, 0, 1, 0, 0, 0, 0, 0, 1, 0, 1, 0, 1, 1, 0, 0, 1, 0, 1, 0, 0, 0, 0, 1, 0, 0, 0, 0, 0, 1, 0, 1, 1]\n"
     ]
    },
    {
     "name": "stderr",
     "output_type": "stream",
     "text": [
      "345it [19:53,  1.75s/it, BLEU2=0.309, BLEU1=0.369, ExactMatch=0.0212, METEOR=0.569, BertScore=nan, StubScore=0.339]"
     ]
    },
    {
     "name": "stdout",
     "output_type": "stream",
     "text": [
      "answer raw len:  344 1\n",
      "True\n",
      "В 1974 году Шукшин принял приглашение сниматься в фильме у режиссёра Сергея Фёдоровича Бондарчука.\n",
      "В 1974 году Шукшин принял приглашение сниматься в фильме С. Ф. Бондарчука.\n",
      "[0, 0, 0, 0, 0, 1, 1, 0, 1, 0, 1, 0, 1, 0, 0, 0, 0, 0, 1, 0, 1, 1, 0, 0, 1, 0, 0, 0, 1, 0, 0, 1, 0, 0, 0, 0, 0, 1, 0, 1, 0, 1, 1, 0, 0, 1, 0, 1, 0, 0, 0, 0, 1, 0, 0, 0, 0, 0, 1, 0, 1, 1]\n",
      "answer raw len:  345 1\n"
     ]
    },
    {
     "name": "stderr",
     "output_type": "stream",
     "text": [
      "346it [19:55,  1.85s/it, BLEU2=0.309, BLEU1=0.369, ExactMatch=0.0212, METEOR=0.569, BertScore=nan, StubScore=0.349]"
     ]
    },
    {
     "name": "stdout",
     "output_type": "stream",
     "text": [
      "sim raw len:  1\n",
      "False\n",
      "У меня нет ответа на ваш вопрос.\n",
      "Сборник рассказов, опубликованный в 1973-1974 годах называется характеры.\n",
      "[0, 0, 0, 0, 0, 1, 1, 0, 1, 0, 1, 0, 1, 0, 0, 0, 0, 0, 1, 0, 1, 1, 0, 0, 1, 0, 0, 0, 1, 0, 0, 1, 0, 0, 0, 0, 0, 1, 0, 1, 0, 1, 1, 0, 0, 1, 0, 1, 0, 0, 0, 0, 1, 0, 0, 0, 0, 0, 1, 0, 1, 1, 1]\n"
     ]
    },
    {
     "name": "stderr",
     "output_type": "stream",
     "text": [
      "347it [19:57,  2.02s/it, BLEU2=0.309, BLEU1=0.37, ExactMatch=0.0211, METEOR=0.57, BertScore=nan, StubScore=0.349]  "
     ]
    },
    {
     "name": "stdout",
     "output_type": "stream",
     "text": [
      "answer raw len:  346 1\n",
      "True\n",
      "Фильм Шукшина, выпущенный в 1973-1974 годах, назывался \"Калина красная\".\n",
      "Фильм Шукшина \"Калина красная\" вышел в 1973-1974 годах.\n",
      "[0, 0, 0, 0, 0, 1, 1, 0, 1, 0, 1, 0, 1, 0, 0, 0, 0, 0, 1, 0, 1, 1, 0, 0, 1, 0, 0, 0, 1, 0, 0, 1, 0, 0, 0, 0, 0, 1, 0, 1, 0, 1, 1, 0, 0, 1, 0, 1, 0, 0, 0, 0, 1, 0, 0, 0, 0, 0, 1, 0, 1, 1, 1]\n"
     ]
    },
    {
     "name": "stderr",
     "output_type": "stream",
     "text": [
      "348it [20:00,  2.34s/it, BLEU2=0.309, BLEU1=0.37, ExactMatch=0.0211, METEOR=0.571, BertScore=nan, StubScore=0.349]"
     ]
    },
    {
     "name": "stdout",
     "output_type": "stream",
     "text": [
      "answer raw len:  347 1\n",
      "True\n",
      "Фильм, выпущенный в 1973-1974 годах, назывался \"Калина красная\" и получил первый приз на Всесоюзном кинофестивале.\n",
      "Фильм, вышедший в 1973-1974 годах получил первый приз ВКФ.\n",
      "[0, 0, 0, 0, 0, 1, 1, 0, 1, 0, 1, 0, 1, 0, 0, 0, 0, 0, 1, 0, 1, 1, 0, 0, 1, 0, 0, 0, 1, 0, 0, 1, 0, 0, 0, 0, 0, 1, 0, 1, 0, 1, 1, 0, 0, 1, 0, 1, 0, 0, 0, 0, 1, 0, 0, 0, 0, 0, 1, 0, 1, 1, 1]\n"
     ]
    },
    {
     "name": "stderr",
     "output_type": "stream",
     "text": [
      "349it [20:04,  2.82s/it, BLEU2=0.309, BLEU1=0.369, ExactMatch=0.021, METEOR=0.571, BertScore=nan, StubScore=0.349]"
     ]
    },
    {
     "name": "stdout",
     "output_type": "stream",
     "text": [
      "answer raw len:  348 1\n",
      "True\n",
      "Пьеса, которую режиссер Г. А. Товстоногов готовил к постановке на сцене Ленинградского академического драматического театра имени А. М. Горького (ЛАБДТ), называлась \"Энергичные люди\".\n",
      "На сцене ЛАБДТ режиссёр Г. А. Товстоногов готовил постановку пьесы Энергичные люди.\n",
      "[0, 0, 0, 0, 0, 1, 1, 0, 1, 0, 1, 0, 1, 0, 0, 0, 0, 0, 1, 0, 1, 1, 0, 0, 1, 0, 0, 0, 1, 0, 0, 1, 0, 0, 0, 0, 0, 1, 0, 1, 0, 1, 1, 0, 0, 1, 0, 1, 0, 0, 0, 0, 1, 0, 0, 0, 0, 0, 1, 0, 1, 1, 1]\n"
     ]
    },
    {
     "name": "stderr",
     "output_type": "stream",
     "text": [
      "350it [20:06,  2.49s/it, BLEU2=0.308, BLEU1=0.369, ExactMatch=0.0209, METEOR=0.57, BertScore=nan, StubScore=0.349]"
     ]
    },
    {
     "name": "stdout",
     "output_type": "stream",
     "text": [
      "answer raw len:  349 1\n",
      "True\n",
      "Стивен Спилберг стал соучредителем кинокомпании Amblin Entertainment в 1984 году.\n",
      "Спилберг создал компанию Amblin Entertainment.\n",
      "[0, 0, 0, 0, 0, 1, 1, 0, 1, 0, 1, 0, 1, 0, 0, 0, 0, 0, 1, 0, 1, 1, 0, 0, 1, 0, 0, 0, 1, 0, 0, 1, 0, 0, 0, 0, 0, 1, 0, 1, 0, 1, 1, 0, 0, 1, 0, 1, 0, 0, 0, 0, 1, 0, 0, 0, 0, 0, 1, 0, 1, 1, 1]\n"
     ]
    },
    {
     "name": "stderr",
     "output_type": "stream",
     "text": [
      "351it [20:08,  2.35s/it, BLEU2=0.307, BLEU1=0.368, ExactMatch=0.0208, METEOR=0.571, BertScore=nan, StubScore=0.349]"
     ]
    },
    {
     "name": "stdout",
     "output_type": "stream",
     "text": [
      "answer raw len:  350 1\n",
      "True\n",
      "Спилберг снял фильмы \"Назад в будущее\" и \"Кто подставил кролика Роджера\".\n",
      "Фильмы Назад в будущее и Кто подставил кролика Роджера были сняты Робертом Земекисом.\n",
      "[0, 0, 0, 0, 0, 1, 1, 0, 1, 0, 1, 0, 1, 0, 0, 0, 0, 0, 1, 0, 1, 1, 0, 0, 1, 0, 0, 0, 1, 0, 0, 1, 0, 0, 0, 0, 0, 1, 0, 1, 0, 1, 1, 0, 0, 1, 0, 1, 0, 0, 0, 0, 1, 0, 0, 0, 0, 0, 1, 0, 1, 1, 1]\n"
     ]
    },
    {
     "name": "stderr",
     "output_type": "stream",
     "text": [
      "352it [20:09,  2.09s/it, BLEU2=0.308, BLEU1=0.37, ExactMatch=0.0208, METEOR=0.572, BertScore=nan, StubScore=0.349] "
     ]
    },
    {
     "name": "stdout",
     "output_type": "stream",
     "text": [
      "answer raw len:  351 1\n",
      "True\n",
      "Кинокомпания Amblin Entertainment была основана в 1984 году.\n",
      "Кинокомпания Amblin Entertainment появилась в 1984 году.\n",
      "[0, 0, 0, 0, 0, 1, 1, 0, 1, 0, 1, 0, 1, 0, 0, 0, 0, 0, 1, 0, 1, 1, 0, 0, 1, 0, 0, 0, 1, 0, 0, 1, 0, 0, 0, 0, 0, 1, 0, 1, 0, 1, 1, 0, 0, 1, 0, 1, 0, 0, 0, 0, 1, 0, 0, 0, 0, 0, 1, 0, 1, 1, 1]\n"
     ]
    },
    {
     "name": "stderr",
     "output_type": "stream",
     "text": [
      "353it [20:10,  1.74s/it, BLEU2=0.308, BLEU1=0.369, ExactMatch=0.0207, METEOR=0.571, BertScore=nan, StubScore=0.349]"
     ]
    },
    {
     "name": "stdout",
     "output_type": "stream",
     "text": [
      "answer raw len:  352 1\n",
      "True\n",
      "Стивен Спилберг участвовал в производстве более ста фильмов.\n",
      "При участии Спилберга было выпущено более ста фильмов\n",
      "[0, 0, 0, 0, 0, 1, 1, 0, 1, 0, 1, 0, 1, 0, 0, 0, 0, 0, 1, 0, 1, 1, 0, 0, 1, 0, 0, 0, 1, 0, 0, 1, 0, 0, 0, 0, 0, 1, 0, 1, 0, 1, 1, 0, 0, 1, 0, 1, 0, 0, 0, 0, 1, 0, 0, 0, 0, 0, 1, 0, 1, 1, 1]\n"
     ]
    },
    {
     "name": "stderr",
     "output_type": "stream",
     "text": [
      "354it [21:00, 16.11s/it, BLEU2=0.307, BLEU1=0.368, ExactMatch=0.0206, METEOR=0.569, BertScore=nan, StubScore=0.349]"
     ]
    },
    {
     "name": "stdout",
     "output_type": "stream",
     "text": [
      "answer raw len:  353 1\n",
      "True\n",
      "1980-е годы были временем экспериментов и создания фильмов с другим настроем для Стивена Спилберга. Он также активно занимался продюсированием в этот период, став владельцем кинокомпании Amblin Entertainment в 1984 году. Через эту компанию он помогал другим режиссерам, таким как Джо Данте, Джон Лэндис, Тоуб Хупер, Роберт Земекис и Дж. Миллер, выпускать фильмы, которые стали широко известными. Некоторые из этих фильмов включают \"Назад в будущее\", \"Кто подставил кролика Роджера\", \"Гремлины\", \"Бурное небо\", \"Люди в чёрном\", \"Близкие контакты третьей степени\", \"Инопланетянин: Тайна и чудо\", \"Парк Юрского периода\", \"Список Шон\", \"Спасти рядового Райана\", \"Амистад\", \"Спасти рядового Райана\", \"Бункер\", \"Война миров\", \"Терминал\", \"Поймай того орла\", \"Мунлайт\", \"Последний бойскаут\", \"Империя Солнца\", \"Индиана Джонс и Королевство хрустального черепа\", \"Индиана Джонс и последний крестовый поход\", \"Инопланетянин: К нам\", \"Спасти рядового Райана\", \"Бункер\", \"Война миров\", \"Терминал\", \"Поймай того орла\", \"Мунлайт\", \"Последний бойскаут\", \"Империя Солнца\", \"Индиана Джонс и Королевство хрустального черепа\", \"Индиана Джонс и последний крестовый поход\", \"Инопланетянин: К нам\", \"Спасти рядового Райана\", \"Бункер\", \"Война миров\", \"Терминал\", \"Поймай того орла\", \"Мунлайт\", \"Последний бойскаут\", \"Империя Солнца\", \"Индиана Джонс и Королевство хрустального черепа\", \"Индиана Джонс и последний крестовый поход\", \"Инопланетянин: К нам\", \"Спасти рядового Райана\", \"Бункер\", \"Война миров\", \"Терминал\", \"Поймай того орла\", \"Мунлайт\", \"Последний бойскаут\", \"Империя Солнца\", \"Индиана Джонс и Королевство хрустального черепа\", \"Индиана Джонс и последний крестовый поход\", \"Инопланетянин: К нам\", \"С\n",
      "1980-е годы для Спилберга были площадкой для новых экспериментов и создания картин совсем другого плана.\n",
      "[0, 0, 0, 0, 0, 1, 1, 0, 1, 0, 1, 0, 1, 0, 0, 0, 0, 0, 1, 0, 1, 1, 0, 0, 1, 0, 0, 0, 1, 0, 0, 1, 0, 0, 0, 0, 0, 1, 0, 1, 0, 1, 1, 0, 0, 1, 0, 1, 0, 0, 0, 0, 1, 0, 0, 0, 0, 0, 1, 0, 1, 1, 1]\n"
     ]
    },
    {
     "name": "stderr",
     "output_type": "stream",
     "text": [
      "355it [21:03, 12.03s/it, BLEU2=0.307, BLEU1=0.369, ExactMatch=0.0205, METEOR=0.569, BertScore=nan, StubScore=0.349]"
     ]
    },
    {
     "name": "stdout",
     "output_type": "stream",
     "text": [
      "answer raw len:  354 1\n",
      "True\n",
      "В каком стиле была организована праздничная вечеринка Элтона Джона в честь его 50-летия?\n",
      "Праздничная вечеринка по случаю пятидесятилетия Элтона Джона была организована в стиле Людовика IV.\n",
      "[0, 0, 0, 0, 0, 1, 1, 0, 1, 0, 1, 0, 1, 0, 0, 0, 0, 0, 1, 0, 1, 1, 0, 0, 1, 0, 0, 0, 1, 0, 0, 1, 0, 0, 0, 0, 0, 1, 0, 1, 0, 1, 1, 0, 0, 1, 0, 1, 0, 0, 0, 0, 1, 0, 0, 0, 0, 0, 1, 0, 1, 1, 1]\n"
     ]
    },
    {
     "name": "stderr",
     "output_type": "stream",
     "text": [
      "356it [21:05,  9.29s/it, BLEU2=0.308, BLEU1=0.37, ExactMatch=0.0205, METEOR=0.57, BertScore=nan, StubScore=0.349]  "
     ]
    },
    {
     "name": "stdout",
     "output_type": "stream",
     "text": [
      "answer raw len:  355 1\n",
      "True\n",
      "Элтон Джон потерял двух близких друзей в конце 1997 года: дизайнера Джанни Версаче и принцессу Диану.\n",
      "В конце 1997 года Элтон Джон потерял двух очень близких друзей: Джанни Версачи и принцессу Диану.\n",
      "[0, 0, 0, 0, 0, 1, 1, 0, 1, 0, 1, 0, 1, 0, 0, 0, 0, 0, 1, 0, 1, 1, 0, 0, 1, 0, 0, 0, 1, 0, 0, 1, 0, 0, 0, 0, 0, 1, 0, 1, 0, 1, 1, 0, 0, 1, 0, 1, 0, 0, 0, 0, 1, 0, 0, 0, 0, 0, 1, 0, 1, 1, 1]\n"
     ]
    },
    {
     "name": "stderr",
     "output_type": "stream",
     "text": [
      "357it [21:07,  7.06s/it, BLEU2=0.31, BLEU1=0.372, ExactMatch=0.0204, METEOR=0.571, BertScore=nan, StubScore=0.349]"
     ]
    },
    {
     "name": "stdout",
     "output_type": "stream",
     "text": [
      "answer raw len:  356 1\n",
      "True\n",
      "1997 год стал для Элтона Джона годом взлетов и падений.\n",
      "1997 год стал для Элтона Джона годом взлетов и неприятностей.\n",
      "[0, 0, 0, 0, 0, 1, 1, 0, 1, 0, 1, 0, 1, 0, 0, 0, 0, 0, 1, 0, 1, 1, 0, 0, 1, 0, 0, 0, 1, 0, 0, 1, 0, 0, 0, 0, 0, 1, 0, 1, 0, 1, 1, 0, 0, 1, 0, 1, 0, 0, 0, 0, 1, 0, 0, 0, 0, 0, 1, 0, 1, 1, 1]\n"
     ]
    },
    {
     "name": "stderr",
     "output_type": "stream",
     "text": [
      "358it [21:08,  5.29s/it, BLEU2=0.308, BLEU1=0.37, ExactMatch=0.0203, METEOR=0.57, BertScore=nan, StubScore=0.349] "
     ]
    },
    {
     "name": "stdout",
     "output_type": "stream",
     "text": [
      "answer raw len:  357 1\n",
      "True\n",
      "17 января 1997 года.\n",
      "17 января 1997 года Элтон Джон с тремя оставшимися членами группы Queen принял участие в представлении, которое было вторым и последним случаем после смерти Фредди Меркьюри, когда остальные члены группы Queen собрались вместе на сцене.\n",
      "[0, 0, 0, 0, 0, 1, 1, 0, 1, 0, 1, 0, 1, 0, 0, 0, 0, 0, 1, 0, 1, 1, 0, 0, 1, 0, 0, 0, 1, 0, 0, 1, 0, 0, 0, 0, 0, 1, 0, 1, 0, 1, 1, 0, 0, 1, 0, 1, 0, 0, 0, 0, 1, 0, 0, 0, 0, 0, 1, 0, 1, 1, 1]\n"
     ]
    },
    {
     "name": "stderr",
     "output_type": "stream",
     "text": [
      "359it [21:10,  4.28s/it, BLEU2=0.309, BLEU1=0.371, ExactMatch=0.0203, METEOR=0.57, BertScore=nan, StubScore=0.349]"
     ]
    },
    {
     "name": "stdout",
     "output_type": "stream",
     "text": [
      "answer raw len:  358 1\n",
      "True\n",
      "На вечеринке по случаю пятидесятилетия Элтона Джона присутствовало 500 близких друзей.\n",
      "500 друзей Элтона Джона приняли участие в вечеринке по случаю его 50-летнего юбилея.\n",
      "[0, 0, 0, 0, 0, 1, 1, 0, 1, 0, 1, 0, 1, 0, 0, 0, 0, 0, 1, 0, 1, 1, 0, 0, 1, 0, 0, 0, 1, 0, 0, 1, 0, 0, 0, 0, 0, 1, 0, 1, 0, 1, 1, 0, 0, 1, 0, 1, 0, 0, 0, 0, 1, 0, 0, 0, 0, 0, 1, 0, 1, 1, 1]\n"
     ]
    },
    {
     "name": "stderr",
     "output_type": "stream",
     "text": [
      "360it [21:14,  4.04s/it, BLEU2=0.309, BLEU1=0.371, ExactMatch=0.0202, METEOR=0.571, BertScore=nan, StubScore=0.349]"
     ]
    },
    {
     "name": "stdout",
     "output_type": "stream",
     "text": [
      "answer raw len:  359 1\n",
      "True\n",
      "В Центральной Азии мечеть и аудитория расположены в корпусе здания, по обе стороны от портала (находящегося на оси главного фасада), в Сирии и Египте они занимают открытые во двор лоджии.\n",
      "В Средней Азии мечеть и аудитория расположены в корпусе здания, по обе стороны портала (находящегося на оси главного фасада).\n",
      "[0, 0, 0, 0, 0, 1, 1, 0, 1, 0, 1, 0, 1, 0, 0, 0, 0, 0, 1, 0, 1, 1, 0, 0, 1, 0, 0, 0, 1, 0, 0, 1, 0, 0, 0, 0, 0, 1, 0, 1, 0, 1, 1, 0, 0, 1, 0, 1, 0, 0, 0, 0, 1, 0, 0, 0, 0, 0, 1, 0, 1, 1, 1]\n"
     ]
    },
    {
     "name": "stderr",
     "output_type": "stream",
     "text": [
      "361it [21:15,  3.27s/it, BLEU2=0.31, BLEU1=0.372, ExactMatch=0.0201, METEOR=0.571, BertScore=nan, StubScore=0.349] "
     ]
    },
    {
     "name": "stdout",
     "output_type": "stream",
     "text": [
      "answer raw len:  360 1\n",
      "True\n",
      "В Малой Азии дворик медресе покрыт большими куполами.\n",
      "В Малой Азии дворик медресе обычно покрывается большим куполом.\n",
      "[0, 0, 0, 0, 0, 1, 1, 0, 1, 0, 1, 0, 1, 0, 0, 0, 0, 0, 1, 0, 1, 1, 0, 0, 1, 0, 0, 0, 1, 0, 0, 1, 0, 0, 0, 0, 0, 1, 0, 1, 0, 1, 1, 0, 0, 1, 0, 1, 0, 0, 0, 0, 1, 0, 0, 0, 0, 0, 1, 0, 1, 1, 1]\n",
      "answer raw len:  361 1\n"
     ]
    },
    {
     "name": "stderr",
     "output_type": "stream",
     "text": [
      "362it [21:19,  3.46s/it, BLEU2=0.31, BLEU1=0.372, ExactMatch=0.0201, METEOR=0.571, BertScore=nan, StubScore=0.344]"
     ]
    },
    {
     "name": "stdout",
     "output_type": "stream",
     "text": [
      "sim raw len:  1\n",
      "False\n",
      "Своды в Азии служат естественными границами и географическими особенностями, разделяющими различные регионы и страны.\n",
      "Своды в Азии служат перекрытиями.\n",
      "[0, 0, 0, 0, 0, 1, 1, 0, 1, 0, 1, 0, 1, 0, 0, 0, 0, 0, 1, 0, 1, 1, 0, 0, 1, 0, 0, 0, 1, 0, 0, 1, 0, 0, 0, 0, 0, 1, 0, 1, 0, 1, 1, 0, 0, 1, 0, 1, 0, 0, 0, 0, 1, 0, 0, 0, 0, 0, 1, 0, 1, 1, 1, 0]\n",
      "answer raw len:  362 1\n"
     ]
    },
    {
     "name": "stderr",
     "output_type": "stream",
     "text": [
      "363it [21:25,  4.21s/it, BLEU2=0.31, BLEU1=0.372, ExactMatch=0.0201, METEOR=0.571, BertScore=nan, StubScore=0.338]"
     ]
    },
    {
     "name": "stdout",
     "output_type": "stream",
     "text": [
      "sim raw len:  1\n",
      "False\n",
      "В Северной Африке купольные конструкции под названием гумбаз широко использовались для строительства различных сооружений, таких как сардобы, караван-сараи, мавзолеи, усыпальницы, бани и другие.\n",
      "В Северной Африке в качестве перекрытий используются стропильные крыши с черепичными кровлями.\n",
      "[0, 0, 0, 0, 0, 1, 1, 0, 1, 0, 1, 0, 1, 0, 0, 0, 0, 0, 1, 0, 1, 1, 0, 0, 1, 0, 0, 0, 1, 0, 0, 1, 0, 0, 0, 0, 0, 1, 0, 1, 0, 1, 1, 0, 0, 1, 0, 1, 0, 0, 0, 0, 1, 0, 0, 0, 0, 0, 1, 0, 1, 1, 1, 0, 0]\n"
     ]
    },
    {
     "name": "stderr",
     "output_type": "stream",
     "text": [
      "364it [21:28,  3.68s/it, BLEU2=0.31, BLEU1=0.372, ExactMatch=0.0201, METEOR=0.572, BertScore=nan, StubScore=0.338]"
     ]
    },
    {
     "name": "stdout",
     "output_type": "stream",
     "text": [
      "answer raw len:  363 1\n",
      "True\n",
      "1-2-этажное здание медресе включает в себя общежитие, мечеть и аудиторию, расположенные вокруг прямоугольного двора.\n",
      "1—2-этажное здание медресе включает расположенные вокруг прямоугольного двора общежитие, мечеть, аудиторию.\n",
      "[0, 0, 0, 0, 0, 1, 1, 0, 1, 0, 1, 0, 1, 0, 0, 0, 0, 0, 1, 0, 1, 1, 0, 0, 1, 0, 0, 0, 1, 0, 0, 1, 0, 0, 0, 0, 0, 1, 0, 1, 0, 1, 1, 0, 0, 1, 0, 1, 0, 0, 0, 0, 1, 0, 0, 0, 0, 0, 1, 0, 1, 1, 1, 0, 0]\n",
      "answer raw len:  364 1\n"
     ]
    },
    {
     "name": "stderr",
     "output_type": "stream",
     "text": [
      "365it [21:30,  3.18s/it, BLEU2=0.31, BLEU1=0.372, ExactMatch=0.0201, METEOR=0.572, BertScore=nan, StubScore=0.348]"
     ]
    },
    {
     "name": "stdout",
     "output_type": "stream",
     "text": [
      "sim raw len:  1\n",
      "False\n",
      "У меня нет ответа на ваш вопрос.\n",
      "Слова и обороты у диалектов заимствовались с небольшими лингвистическими исключениями.\n",
      "[0, 0, 0, 0, 0, 1, 1, 0, 1, 0, 1, 0, 1, 0, 0, 0, 0, 0, 1, 0, 1, 1, 0, 0, 1, 0, 0, 0, 1, 0, 0, 1, 0, 0, 0, 0, 0, 1, 0, 1, 0, 1, 1, 0, 0, 1, 0, 1, 0, 0, 0, 0, 1, 0, 0, 0, 0, 0, 1, 0, 1, 1, 1, 0, 0, 1]\n"
     ]
    },
    {
     "name": "stderr",
     "output_type": "stream",
     "text": [
      "366it [21:38,  4.71s/it, BLEU2=0.31, BLEU1=0.371, ExactMatch=0.02, METEOR=0.571, BertScore=nan, StubScore=0.348]  "
     ]
    },
    {
     "name": "stdout",
     "output_type": "stream",
     "text": [
      "answer raw len:  365 1\n",
      "True\n",
      "[85.899] 2 марта 1924 года комиссия при Академии наук Башнаркомпроса решила заимствовать четыре варианта множественного числа из куваканского диалекта: -цар/-цэр, -тар/-тэр, -дар/-дэр, -лар/-лэр, а также заимствовать словообразовательные аффиксы из юрматинского диалекта: -лык/-лек, -ла/-лэ и т. д.\n",
      "В литературный язык варианты множественного числа внесли из куваканского диалекта.\n",
      "[0, 0, 0, 0, 0, 1, 1, 0, 1, 0, 1, 0, 1, 0, 0, 0, 0, 0, 1, 0, 1, 1, 0, 0, 1, 0, 0, 0, 1, 0, 0, 1, 0, 0, 0, 0, 0, 1, 0, 1, 0, 1, 1, 0, 0, 1, 0, 1, 0, 0, 0, 0, 1, 0, 0, 0, 0, 0, 1, 0, 1, 1, 1, 0, 0, 1]\n"
     ]
    },
    {
     "name": "stderr",
     "output_type": "stream",
     "text": [
      "367it [21:42,  4.52s/it, BLEU2=0.308, BLEU1=0.371, ExactMatch=0.0199, METEOR=0.57, BertScore=nan, StubScore=0.348]"
     ]
    },
    {
     "name": "stdout",
     "output_type": "stream",
     "text": [
      "answer raw len:  366 1\n",
      "True\n",
      "2 марта 1924 года на заседании комиссии при Академии Башнаркомпроса было решено заимствовать словообразовательные аффиксы из куваканского диалекта и юрматинского диалекта.\n",
      "Словообразующие аффиксы заимствовали из юрматынского диалекта.\n",
      "[0, 0, 0, 0, 0, 1, 1, 0, 1, 0, 1, 0, 1, 0, 0, 0, 0, 0, 1, 0, 1, 1, 0, 0, 1, 0, 0, 0, 1, 0, 0, 1, 0, 0, 0, 0, 0, 1, 0, 1, 0, 1, 1, 0, 0, 1, 0, 1, 0, 0, 0, 0, 1, 0, 0, 0, 0, 0, 1, 0, 1, 1, 1, 0, 0, 1]\n"
     ]
    },
    {
     "name": "stderr",
     "output_type": "stream",
     "text": [
      "368it [21:43,  3.51s/it, BLEU2=0.308, BLEU1=0.37, ExactMatch=0.0199, METEOR=0.571, BertScore=nan, StubScore=0.348]"
     ]
    },
    {
     "name": "stdout",
     "output_type": "stream",
     "text": [
      "answer raw len:  367 1\n",
      "True\n",
      "Северо-западные башкиры предпочли использовать татарский язык.\n",
      "Татарский диалект предпочли использовать северо-западные башкиры.\n",
      "[0, 0, 0, 0, 0, 1, 1, 0, 1, 0, 1, 0, 1, 0, 0, 0, 0, 0, 1, 0, 1, 1, 0, 0, 1, 0, 0, 0, 1, 0, 0, 1, 0, 0, 0, 0, 0, 1, 0, 1, 0, 1, 1, 0, 0, 1, 0, 1, 0, 0, 0, 0, 1, 0, 0, 0, 0, 0, 1, 0, 1, 1, 1, 0, 0, 1]\n"
     ]
    },
    {
     "name": "stderr",
     "output_type": "stream",
     "text": [
      "369it [21:44,  2.81s/it, BLEU2=0.308, BLEU1=0.37, ExactMatch=0.0198, METEOR=0.57, BertScore=nan, StubScore=0.348] "
     ]
    },
    {
     "name": "stdout",
     "output_type": "stream",
     "text": [
      "answer raw len:  368 1\n",
      "True\n",
      "Когда было принято решение о внесении изменений в литературный язык?\n",
      "2 марта 1924 года было решено привнести изменения в литературный язык.\n",
      "[0, 0, 0, 0, 0, 1, 1, 0, 1, 0, 1, 0, 1, 0, 0, 0, 0, 0, 1, 0, 1, 1, 0, 0, 1, 0, 0, 0, 1, 0, 0, 1, 0, 0, 0, 0, 0, 1, 0, 1, 0, 1, 1, 0, 0, 1, 0, 1, 0, 0, 0, 0, 1, 0, 0, 0, 0, 0, 1, 0, 1, 1, 1, 0, 0, 1]\n"
     ]
    },
    {
     "name": "stderr",
     "output_type": "stream",
     "text": [
      "370it [21:45,  2.19s/it, BLEU2=0.307, BLEU1=0.369, ExactMatch=0.0197, METEOR=0.569, BertScore=nan, StubScore=0.348]"
     ]
    },
    {
     "name": "stdout",
     "output_type": "stream",
     "text": [
      "answer raw len:  369 1\n",
      "True\n",
      "2 марта 1932 года.\n",
      "2 марта 1932 года является датой преобразования посёлка в город Сокол.\n",
      "[0, 0, 0, 0, 0, 1, 1, 0, 1, 0, 1, 0, 1, 0, 0, 0, 0, 0, 1, 0, 1, 1, 0, 0, 1, 0, 0, 0, 1, 0, 0, 1, 0, 0, 0, 0, 0, 1, 0, 1, 0, 1, 1, 0, 0, 1, 0, 1, 0, 0, 0, 0, 1, 0, 0, 0, 0, 0, 1, 0, 1, 1, 1, 0, 0, 1]\n"
     ]
    },
    {
     "name": "stderr",
     "output_type": "stream",
     "text": [
      "371it [21:58,  5.48s/it, BLEU2=0.307, BLEU1=0.369, ExactMatch=0.0197, METEOR=0.569, BertScore=nan, StubScore=0.348]"
     ]
    },
    {
     "name": "stdout",
     "output_type": "stream",
     "text": [
      "answer raw len:  370 1\n",
      "True\n",
      "Соответствующая информация из текста: \"1 июня 1932 года в черту города включены завод Свердлова с поселком (Печаткино), лесопильный завод № 40 с поселком (Малютино), лесопогрузочный пункт Севлеспрома с железнодорожной веткой, завод по производству сухого молока с пионерским поселком, село Воскресенье, деревни Бердинка, Енца, Пирогово, Лещевка, Россоха, Анциферовка, Шатенево и Овсецово.\"\n",
      "\n",
      "Таким образом, дата присоединения завода Свердлова к городу Сокол - 1 июня 1932 года.\n",
      "1 июня 1932 года является датой присоединения завода Свердлова к городу Сокол.\n",
      "[0, 0, 0, 0, 0, 1, 1, 0, 1, 0, 1, 0, 1, 0, 0, 0, 0, 0, 1, 0, 1, 1, 0, 0, 1, 0, 0, 0, 1, 0, 0, 1, 0, 0, 0, 0, 0, 1, 0, 1, 0, 1, 1, 0, 0, 1, 0, 1, 0, 0, 0, 0, 1, 0, 0, 0, 0, 0, 1, 0, 1, 1, 1, 0, 0, 1]\n"
     ]
    },
    {
     "name": "stderr",
     "output_type": "stream",
     "text": [
      "372it [21:59,  4.20s/it, BLEU2=0.307, BLEU1=0.369, ExactMatch=0.0196, METEOR=0.57, BertScore=nan, StubScore=0.348] "
     ]
    },
    {
     "name": "stdout",
     "output_type": "stream",
     "text": [
      "answer raw len:  371 1\n",
      "True\n",
      "Станция Сухона была интегрирована в границу города Сокол.\n",
      "в границу города Сокол была интегрирована станция Сухона.\n",
      "[0, 0, 0, 0, 0, 1, 1, 0, 1, 0, 1, 0, 1, 0, 0, 0, 0, 0, 1, 0, 1, 1, 0, 0, 1, 0, 0, 0, 1, 0, 0, 1, 0, 0, 0, 0, 0, 1, 0, 1, 0, 1, 1, 0, 0, 1, 0, 1, 0, 0, 0, 0, 1, 0, 0, 0, 0, 0, 1, 0, 1, 1, 1, 0, 0, 1]\n"
     ]
    },
    {
     "name": "stderr",
     "output_type": "stream",
     "text": [
      "373it [22:02,  3.71s/it, BLEU2=0.308, BLEU1=0.37, ExactMatch=0.0195, METEOR=0.571, BertScore=nan, StubScore=0.348]"
     ]
    },
    {
     "name": "stdout",
     "output_type": "stream",
     "text": [
      "answer raw len:  372 1\n",
      "True\n",
      "Деревня, которая была включена в состав города Сокол вместе с лесопильным заводом № 40 с поселком (Малютино), называется Малютино.\n",
      "Вместе с лесопильным заводом № 40 с поселком (Малютино) в состав города Сокола было включено село Воскресенье.\n",
      "[0, 0, 0, 0, 0, 1, 1, 0, 1, 0, 1, 0, 1, 0, 0, 0, 0, 0, 1, 0, 1, 1, 0, 0, 1, 0, 0, 0, 1, 0, 0, 1, 0, 0, 0, 0, 0, 1, 0, 1, 0, 1, 1, 0, 0, 1, 0, 1, 0, 0, 0, 0, 1, 0, 0, 0, 0, 0, 1, 0, 1, 1, 1, 0, 0, 1]\n"
     ]
    },
    {
     "name": "stderr",
     "output_type": "stream",
     "text": [
      "374it [22:04,  3.32s/it, BLEU2=0.308, BLEU1=0.369, ExactMatch=0.0195, METEOR=0.57, BertScore=nan, StubScore=0.348]"
     ]
    },
    {
     "name": "stdout",
     "output_type": "stream",
     "text": [
      "answer raw len:  373 1\n",
      "True\n",
      "[83.553] 2 марта 1932 года поселком было принято решение о преобразовании в город Сокол.\n",
      "Постановлением Президиума ВЦИК посёлок был преобразован в город Сокол.\n",
      "[0, 0, 0, 0, 0, 1, 1, 0, 1, 0, 1, 0, 1, 0, 0, 0, 0, 0, 1, 0, 1, 1, 0, 0, 1, 0, 0, 0, 1, 0, 0, 1, 0, 0, 0, 0, 0, 1, 0, 1, 0, 1, 1, 0, 0, 1, 0, 1, 0, 0, 0, 0, 1, 0, 0, 0, 0, 0, 1, 0, 1, 1, 1, 0, 0, 1]\n"
     ]
    },
    {
     "name": "stderr",
     "output_type": "stream",
     "text": [
      "375it [22:07,  3.18s/it, BLEU2=0.307, BLEU1=0.37, ExactMatch=0.0194, METEOR=0.571, BertScore=nan, StubScore=0.348]"
     ]
    },
    {
     "name": "stdout",
     "output_type": "stream",
     "text": [
      "answer raw len:  374 1\n",
      "True\n",
      "В русском лагере Шейх Али-хан был пленником младшего сына кубинского хана Фатали-хана, Гасан-хана.\n",
      "Шейх Али-хан в русском лагере был почётным пленником .\n",
      "[0, 0, 0, 0, 0, 1, 1, 0, 1, 0, 1, 0, 1, 0, 0, 0, 0, 0, 1, 0, 1, 1, 0, 0, 1, 0, 0, 0, 1, 0, 0, 1, 0, 0, 0, 0, 0, 1, 0, 1, 0, 1, 1, 0, 0, 1, 0, 1, 0, 0, 0, 0, 1, 0, 0, 0, 0, 0, 1, 0, 1, 1, 1, 0, 0, 1]\n"
     ]
    },
    {
     "name": "stderr",
     "output_type": "stream",
     "text": [
      "376it [22:08,  2.52s/it, BLEU2=0.307, BLEU1=0.369, ExactMatch=0.0194, METEOR=0.57, BertScore=nan, StubScore=0.348]"
     ]
    },
    {
     "name": "stdout",
     "output_type": "stream",
     "text": [
      "answer raw len:  375 1\n",
      "True\n",
      "10 мая 1796 года.\n",
      "2 мая 1796 Валериан Зубов подошел к Дербенту.\n",
      "[0, 0, 0, 0, 0, 1, 1, 0, 1, 0, 1, 0, 1, 0, 0, 0, 0, 0, 1, 0, 1, 1, 0, 0, 1, 0, 0, 0, 1, 0, 0, 1, 0, 0, 0, 0, 0, 1, 0, 1, 0, 1, 1, 0, 0, 1, 0, 1, 0, 0, 0, 0, 1, 0, 0, 0, 0, 0, 1, 0, 1, 1, 1, 0, 0, 1]\n",
      "answer raw len:  376 1\n"
     ]
    },
    {
     "name": "stderr",
     "output_type": "stream",
     "text": [
      "377it [22:10,  2.41s/it, BLEU2=0.307, BLEU1=0.369, ExactMatch=0.0194, METEOR=0.57, BertScore=nan, StubScore=0.358]"
     ]
    },
    {
     "name": "stdout",
     "output_type": "stream",
     "text": [
      "sim raw len:  1\n",
      "False\n",
      "У меня нет ответа на ваш вопрос.\n",
      "10 мая на крепостной стене был выкинут белый флаг.\n",
      "[0, 0, 0, 0, 0, 1, 1, 0, 1, 0, 1, 0, 1, 0, 0, 0, 0, 0, 1, 0, 1, 1, 0, 0, 1, 0, 0, 0, 1, 0, 0, 1, 0, 0, 0, 0, 0, 1, 0, 1, 0, 1, 1, 0, 0, 1, 0, 1, 0, 0, 0, 0, 1, 0, 0, 0, 0, 0, 1, 0, 1, 1, 1, 0, 0, 1, 1]\n"
     ]
    },
    {
     "name": "stderr",
     "output_type": "stream",
     "text": [
      "378it [22:13,  2.53s/it, BLEU2=0.307, BLEU1=0.37, ExactMatch=0.0193, METEOR=0.57, BertScore=nan, StubScore=0.358] "
     ]
    },
    {
     "name": "stdout",
     "output_type": "stream",
     "text": [
      "answer raw len:  377 1\n",
      "True\n",
      "В 1799 году младший сын кубинского хана Фатали-хана был провозглашен дербентским ханом.\n",
      "В 1799 году дербентским ханом провозгласили младшего сына кубинского хана Фатали-хана — Гасана.\n",
      "[0, 0, 0, 0, 0, 1, 1, 0, 1, 0, 1, 0, 1, 0, 0, 0, 0, 0, 1, 0, 1, 1, 0, 0, 1, 0, 0, 0, 1, 0, 0, 1, 0, 0, 0, 0, 0, 1, 0, 1, 0, 1, 1, 0, 0, 1, 0, 1, 0, 0, 0, 0, 1, 0, 0, 0, 0, 0, 1, 0, 1, 1, 1, 0, 0, 1, 1]\n"
     ]
    },
    {
     "name": "stderr",
     "output_type": "stream",
     "text": [
      "379it [22:14,  1.95s/it, BLEU2=0.306, BLEU1=0.369, ExactMatch=0.0192, METEOR=0.569, BertScore=nan, StubScore=0.358]"
     ]
    },
    {
     "name": "stdout",
     "output_type": "stream",
     "text": [
      "answer raw len:  378 1\n",
      "True\n",
      "Шейх Али Хан\n",
      "После белого флага в русский лагерь явился Хан Шейх Али-хан.\n",
      "[0, 0, 0, 0, 0, 1, 1, 0, 1, 0, 1, 0, 1, 0, 0, 0, 0, 0, 1, 0, 1, 1, 0, 0, 1, 0, 0, 0, 1, 0, 0, 1, 0, 0, 0, 0, 0, 1, 0, 1, 0, 1, 1, 0, 0, 1, 0, 1, 0, 0, 0, 0, 1, 0, 0, 0, 0, 0, 1, 0, 1, 1, 1, 0, 0, 1, 1]\n"
     ]
    },
    {
     "name": "stderr",
     "output_type": "stream",
     "text": [
      "380it [22:15,  1.76s/it, BLEU2=0.305, BLEU1=0.368, ExactMatch=0.0192, METEOR=0.567, BertScore=nan, StubScore=0.358]"
     ]
    },
    {
     "name": "stdout",
     "output_type": "stream",
     "text": [
      "answer raw len:  379 1\n",
      "True\n",
      "Влияние колхициновых ядов приводит к повреждению митотического аппарата.\n",
      "Повреждение митотического аппарата происходит вследствие воздействия статмокинетических ядов (колхицина, колцемида, винбластина, винкристина, аценафтена, нокодазол, метанола и др.).\n",
      "[0, 0, 0, 0, 0, 1, 1, 0, 1, 0, 1, 0, 1, 0, 0, 0, 0, 0, 1, 0, 1, 1, 0, 0, 1, 0, 0, 0, 1, 0, 0, 1, 0, 0, 0, 0, 0, 1, 0, 1, 0, 1, 1, 0, 0, 1, 0, 1, 0, 0, 0, 0, 1, 0, 0, 0, 0, 0, 1, 0, 1, 1, 1, 0, 0, 1, 1]\n"
     ]
    },
    {
     "name": "stderr",
     "output_type": "stream",
     "text": [
      "381it [22:17,  1.86s/it, BLEU2=0.306, BLEU1=0.368, ExactMatch=0.0191, METEOR=0.568, BertScore=nan, StubScore=0.358]"
     ]
    },
    {
     "name": "stdout",
     "output_type": "stream",
     "text": [
      "answer raw len:  380 1\n",
      "True\n",
      "Митоз задерживается на стадии метафазы из-за воздействия статмокинетических ядов.\n",
      "В результате воздействия статмокинетических ядов митоз задерживается на стадии метафазы.\n",
      "[0, 0, 0, 0, 0, 1, 1, 0, 1, 0, 1, 0, 1, 0, 0, 0, 0, 0, 1, 0, 1, 1, 0, 0, 1, 0, 0, 0, 1, 0, 0, 1, 0, 0, 0, 0, 0, 1, 0, 1, 0, 1, 1, 0, 0, 1, 0, 1, 0, 0, 0, 0, 1, 0, 0, 0, 0, 0, 1, 0, 1, 1, 1, 0, 0, 1, 1]\n"
     ]
    },
    {
     "name": "stderr",
     "output_type": "stream",
     "text": [
      "382it [22:18,  1.65s/it, BLEU2=0.308, BLEU1=0.37, ExactMatch=0.0222, METEOR=0.569, BertScore=nan, StubScore=0.358] "
     ]
    },
    {
     "name": "stdout",
     "output_type": "stream",
     "text": [
      "answer raw len:  381 1\n",
      "True\n",
      "Колхициновый митоз связан с повреждением митотического аппарата.\n",
      "Колхициновый митоз связан с повреждением митотического аппарата.\n",
      "[0, 0, 0, 0, 0, 1, 1, 0, 1, 0, 1, 0, 1, 0, 0, 0, 0, 0, 1, 0, 1, 1, 0, 0, 1, 0, 0, 0, 1, 0, 0, 1, 0, 0, 0, 0, 0, 1, 0, 1, 0, 1, 1, 0, 0, 1, 0, 1, 0, 0, 0, 0, 1, 0, 0, 0, 0, 0, 1, 0, 1, 1, 1, 0, 0, 1, 1]\n",
      "answer raw len:  382 1\n"
     ]
    },
    {
     "name": "stderr",
     "output_type": "stream",
     "text": [
      "383it [22:28,  3.96s/it, BLEU2=0.308, BLEU1=0.37, ExactMatch=0.0222, METEOR=0.569, BertScore=nan, StubScore=0.353]"
     ]
    },
    {
     "name": "stdout",
     "output_type": "stream",
     "text": [
      "sim raw len:  1\n",
      "False\n",
      "Хромосомные и хроматидные мосты образуются в результате фрагментации хромосом. При фрагментации хромосом образуются фрагменты, которые могут быть одиночными, парными или множественными. Если эти фрагменты лишены центромера, они не участвуют в метакинезе и не расходятся к полюсам деления во время анафазы. При массовой фрагментации хромосом (пульверизации) большинство фрагментов беспорядочно рассеиваются в цитоплазме и не участвуют в метакинезе.\n",
      "В результате фрагментации или отставания хромосом образуются микроядра.\n",
      "[0, 0, 0, 0, 0, 1, 1, 0, 1, 0, 1, 0, 1, 0, 0, 0, 0, 0, 1, 0, 1, 1, 0, 0, 1, 0, 0, 0, 1, 0, 0, 1, 0, 0, 0, 0, 0, 1, 0, 1, 0, 1, 1, 0, 0, 1, 0, 1, 0, 0, 0, 0, 1, 0, 0, 0, 0, 0, 1, 0, 1, 1, 1, 0, 0, 1, 1, 0]\n"
     ]
    },
    {
     "name": "stderr",
     "output_type": "stream",
     "text": [
      "384it [22:35,  5.10s/it, BLEU2=0.307, BLEU1=0.369, ExactMatch=0.0222, METEOR=0.568, BertScore=nan, StubScore=0.353]"
     ]
    },
    {
     "name": "stdout",
     "output_type": "stream",
     "text": [
      "answer raw len:  383 1\n",
      "True\n",
      "Стамокинетические яды усиливают свое действие из-за дезорганизации различных компонентов митотического веретена деления, таких как центриоли, микротрубочки и кинетохоры, вызванные их воздействием. Это приводит к хромосомным аберрациям, фрагментации и образованию микроядер, что в конечном итоге приводит к анеуплоидии.\n",
      "Действие статмокинетических ядов усиливает спирализацию хромосом.\n",
      "[0, 0, 0, 0, 0, 1, 1, 0, 1, 0, 1, 0, 1, 0, 0, 0, 0, 0, 1, 0, 1, 1, 0, 0, 1, 0, 0, 0, 1, 0, 0, 1, 0, 0, 0, 0, 0, 1, 0, 1, 0, 1, 1, 0, 0, 1, 0, 1, 0, 0, 0, 0, 1, 0, 0, 0, 0, 0, 1, 0, 1, 1, 1, 0, 0, 1, 1, 0]\n"
     ]
    },
    {
     "name": "stderr",
     "output_type": "stream",
     "text": [
      "385it [22:37,  4.00s/it, BLEU2=0.308, BLEU1=0.371, ExactMatch=0.0221, METEOR=0.569, BertScore=nan, StubScore=0.353]"
     ]
    },
    {
     "name": "stdout",
     "output_type": "stream",
     "text": [
      "answer raw len:  384 1\n",
      "True\n",
      "12 книг Лавкрафта были изданы в издательствах Москвы, Киева, Екатеринбурга и Нижнего Новгорода.\n",
      "12 книг Лавкрафта было издано в издательствах Москвы, Киева, Екатеринбурга и Нижнего Новгорода.\n",
      "[0, 0, 0, 0, 0, 1, 1, 0, 1, 0, 1, 0, 1, 0, 0, 0, 0, 0, 1, 0, 1, 1, 0, 0, 1, 0, 0, 0, 1, 0, 0, 1, 0, 0, 0, 0, 0, 1, 0, 1, 0, 1, 1, 0, 0, 1, 0, 1, 0, 0, 0, 0, 1, 0, 0, 0, 0, 0, 1, 0, 1, 1, 1, 0, 0, 1, 1, 0]\n"
     ]
    },
    {
     "name": "stderr",
     "output_type": "stream",
     "text": [
      "386it [22:38,  3.17s/it, BLEU2=0.311, BLEU1=0.373, ExactMatch=0.0252, METEOR=0.57, BertScore=nan, StubScore=0.353] "
     ]
    },
    {
     "name": "stdout",
     "output_type": "stream",
     "text": [
      "answer raw len:  385 1\n",
      "True\n",
      "Коллектив переводчиков из Екатеринбурга сформировался вокруг литературного агентства Kubin Ltd.\n",
      "Коллектив переводчиков из Екатеринбурга сформировался вокруг литературного агентства Kubin Ltd.\n",
      "[0, 0, 0, 0, 0, 1, 1, 0, 1, 0, 1, 0, 1, 0, 0, 0, 0, 0, 1, 0, 1, 1, 0, 0, 1, 0, 0, 0, 1, 0, 0, 1, 0, 0, 0, 0, 0, 1, 0, 1, 0, 1, 1, 0, 0, 1, 0, 1, 0, 0, 0, 0, 1, 0, 0, 0, 0, 0, 1, 0, 1, 1, 1, 0, 0, 1, 1, 0]\n",
      "answer raw len:  386 1\n"
     ]
    },
    {
     "name": "stderr",
     "output_type": "stream",
     "text": [
      "387it [22:43,  3.80s/it, BLEU2=0.311, BLEU1=0.373, ExactMatch=0.0252, METEOR=0.57, BertScore=nan, StubScore=0.348]"
     ]
    },
    {
     "name": "stdout",
     "output_type": "stream",
     "text": [
      "sim raw len:  1\n",
      "False\n",
      "[81.581] Переводческая деятельность включает в себя интерпретацию смысла текста с одного языка (исходного языка [ИЯ]) и создание нового эквивалентного текста на другом языке (целевом языке [ПЯ]).\n",
      "Команда переводчиков из Екатеринбурга ответственна за издание 7-томной Энциклопедии читателя.\n",
      "[0, 0, 0, 0, 0, 1, 1, 0, 1, 0, 1, 0, 1, 0, 0, 0, 0, 0, 1, 0, 1, 1, 0, 0, 1, 0, 0, 0, 1, 0, 0, 1, 0, 0, 0, 0, 0, 1, 0, 1, 0, 1, 1, 0, 0, 1, 0, 1, 0, 0, 0, 0, 1, 0, 0, 0, 0, 0, 1, 0, 1, 1, 1, 0, 0, 1, 1, 0, 0]\n"
     ]
    },
    {
     "name": "stderr",
     "output_type": "stream",
     "text": [
      "388it [22:46,  3.45s/it, BLEU2=0.312, BLEU1=0.374, ExactMatch=0.0251, METEOR=0.571, BertScore=nan, StubScore=0.348]"
     ]
    },
    {
     "name": "stdout",
     "output_type": "stream",
     "text": [
      "answer raw len:  387 1\n",
      "True\n",
      "Коллектив переводчиков из Екатеринбурга подготовил полное 4-томное собрание сочинений Лавкрафта для издательства \"Фолиум\" (1991-1993).\n",
      "Коллектив переводчиков из Екатеринбурга подготовил для издательства Форум полное 4-томное собрание сочинений Лавкрафта.\n",
      "[0, 0, 0, 0, 0, 1, 1, 0, 1, 0, 1, 0, 1, 0, 0, 0, 0, 0, 1, 0, 1, 1, 0, 0, 1, 0, 0, 0, 1, 0, 0, 1, 0, 0, 0, 0, 0, 1, 0, 1, 0, 1, 1, 0, 0, 1, 0, 1, 0, 0, 0, 0, 1, 0, 0, 0, 0, 0, 1, 0, 1, 1, 1, 0, 0, 1, 1, 0, 0]\n"
     ]
    },
    {
     "name": "stderr",
     "output_type": "stream",
     "text": [
      "389it [22:48,  3.08s/it, BLEU2=0.314, BLEU1=0.376, ExactMatch=0.0281, METEOR=0.572, BertScore=nan, StubScore=0.348]"
     ]
    },
    {
     "name": "stdout",
     "output_type": "stream",
     "text": [
      "answer raw len:  388 1\n",
      "True\n",
      "Игорь Богданов, Василий Дорогокупля, Фёдор Еремеев и Олег Мичковский издали 12 книг Лавкрафта.\n",
      "Игорь Богданов, Василий Дорогокупля, Фёдор Еремеев и Олег Мичковский издали 12 книг Лавкрафта.\n",
      "[0, 0, 0, 0, 0, 1, 1, 0, 1, 0, 1, 0, 1, 0, 0, 0, 0, 0, 1, 0, 1, 1, 0, 0, 1, 0, 0, 0, 1, 0, 0, 1, 0, 0, 0, 0, 0, 1, 0, 1, 0, 1, 1, 0, 0, 1, 0, 1, 0, 0, 0, 0, 1, 0, 0, 0, 0, 0, 1, 0, 1, 1, 1, 0, 0, 1, 1, 0, 0]\n"
     ]
    },
    {
     "name": "stderr",
     "output_type": "stream",
     "text": [
      "390it [22:50,  2.80s/it, BLEU2=0.314, BLEU1=0.376, ExactMatch=0.028, METEOR=0.573, BertScore=nan, StubScore=0.348] "
     ]
    },
    {
     "name": "stdout",
     "output_type": "stream",
     "text": [
      "answer raw len:  389 1\n",
      "True\n",
      "Войска республиканцев, осаждавшие Алькасар, состояли из анархистов и марксистов.\n",
      "Республиканские войска при осаде Алькасара состояли из анархистов и марксистов.\n",
      "[0, 0, 0, 0, 0, 1, 1, 0, 1, 0, 1, 0, 1, 0, 0, 0, 0, 0, 1, 0, 1, 1, 0, 0, 1, 0, 0, 0, 1, 0, 0, 1, 0, 0, 0, 0, 0, 1, 0, 1, 0, 1, 1, 0, 0, 1, 0, 1, 0, 0, 0, 0, 1, 0, 0, 0, 0, 0, 1, 0, 1, 1, 1, 0, 0, 1, 1, 0, 0]\n"
     ]
    },
    {
     "name": "stderr",
     "output_type": "stream",
     "text": [
      "391it [22:52,  2.38s/it, BLEU2=0.315, BLEU1=0.377, ExactMatch=0.028, METEOR=0.572, BertScore=nan, StubScore=0.348]"
     ]
    },
    {
     "name": "stdout",
     "output_type": "stream",
     "text": [
      "answer raw len:  390 1\n",
      "True\n",
      "Оборона Алькасара продолжалась 70 дней.\n",
      "Оборона Алькасара длилась 70 суток.\n",
      "[0, 0, 0, 0, 0, 1, 1, 0, 1, 0, 1, 0, 1, 0, 0, 0, 0, 0, 1, 0, 1, 1, 0, 0, 1, 0, 0, 0, 1, 0, 0, 1, 0, 0, 0, 0, 0, 1, 0, 1, 0, 1, 1, 0, 0, 1, 0, 1, 0, 0, 0, 0, 1, 0, 0, 0, 0, 0, 1, 0, 1, 1, 1, 0, 0, 1, 1, 0, 0]\n"
     ]
    },
    {
     "name": "stderr",
     "output_type": "stream",
     "text": [
      "392it [22:54,  2.30s/it, BLEU2=0.315, BLEU1=0.378, ExactMatch=0.0279, METEOR=0.573, BertScore=nan, StubScore=0.348]"
     ]
    },
    {
     "name": "stdout",
     "output_type": "stream",
     "text": [
      "answer raw len:  391 1\n",
      "True\n",
      "Оборона Алькасара началась 18 июля 1936 года во время гражданской войны в Испании.\n",
      "Оборона Алькасара в ходе гражданской войны в Испании началась 20 июля 1936 года.\n",
      "[0, 0, 0, 0, 0, 1, 1, 0, 1, 0, 1, 0, 1, 0, 0, 0, 0, 0, 1, 0, 1, 1, 0, 0, 1, 0, 0, 0, 1, 0, 0, 1, 0, 0, 0, 0, 0, 1, 0, 1, 0, 1, 1, 0, 0, 1, 0, 1, 0, 0, 0, 0, 1, 0, 0, 0, 0, 0, 1, 0, 1, 1, 1, 0, 0, 1, 1, 0, 0]\n"
     ]
    },
    {
     "name": "stderr",
     "output_type": "stream",
     "text": [
      "393it [22:56,  2.19s/it, BLEU2=0.315, BLEU1=0.378, ExactMatch=0.0278, METEOR=0.574, BertScore=nan, StubScore=0.348]"
     ]
    },
    {
     "name": "stdout",
     "output_type": "stream",
     "text": [
      "answer raw len:  392 1\n",
      "True\n",
      "[96.833] Полковник Москардо командовал курсантами военного училища во время обороны Алькасара.\n",
      "Во время обороны Алькасара курсантами военного училища командовал Москардо.\n",
      "[0, 0, 0, 0, 0, 1, 1, 0, 1, 0, 1, 0, 1, 0, 0, 0, 0, 0, 1, 0, 1, 1, 0, 0, 1, 0, 0, 0, 1, 0, 0, 1, 0, 0, 0, 0, 0, 1, 0, 1, 0, 1, 1, 0, 0, 1, 0, 1, 0, 0, 0, 0, 1, 0, 0, 0, 0, 0, 1, 0, 1, 1, 1, 0, 0, 1, 1, 0, 0]\n"
     ]
    },
    {
     "name": "stderr",
     "output_type": "stream",
     "text": [
      "394it [22:57,  1.86s/it, BLEU2=0.314, BLEU1=0.378, ExactMatch=0.0277, METEOR=0.575, BertScore=nan, StubScore=0.348]"
     ]
    },
    {
     "name": "stdout",
     "output_type": "stream",
     "text": [
      "answer raw len:  393 1\n",
      "True\n",
      "Сторонники Франко обороняли Алькасар.\n",
      "Алькасар обороняли сторонники Франко.\n",
      "[0, 0, 0, 0, 0, 1, 1, 0, 1, 0, 1, 0, 1, 0, 0, 0, 0, 0, 1, 0, 1, 1, 0, 0, 1, 0, 0, 0, 1, 0, 0, 1, 0, 0, 0, 0, 0, 1, 0, 1, 0, 1, 1, 0, 0, 1, 0, 1, 0, 0, 0, 0, 1, 0, 0, 0, 0, 0, 1, 0, 1, 1, 1, 0, 0, 1, 1, 0, 0]\n",
      "answer raw len:  394 1\n"
     ]
    },
    {
     "name": "stderr",
     "output_type": "stream",
     "text": [
      "395it [22:59,  1.92s/it, BLEU2=0.314, BLEU1=0.378, ExactMatch=0.0277, METEOR=0.575, BertScore=nan, StubScore=0.357]"
     ]
    },
    {
     "name": "stdout",
     "output_type": "stream",
     "text": [
      "sim raw len:  1\n",
      "False\n",
      "У меня нет ответа на ваш вопрос.\n",
      "Легендарное телешоу называлась Top of the Pops.\n",
      "[0, 0, 0, 0, 0, 1, 1, 0, 1, 0, 1, 0, 1, 0, 0, 0, 0, 0, 1, 0, 1, 1, 0, 0, 1, 0, 0, 0, 1, 0, 0, 1, 0, 0, 0, 0, 0, 1, 0, 1, 0, 1, 1, 0, 0, 1, 0, 1, 0, 0, 0, 0, 1, 0, 0, 0, 0, 0, 1, 0, 1, 1, 1, 0, 0, 1, 1, 0, 0, 1]\n"
     ]
    },
    {
     "name": "stderr",
     "output_type": "stream",
     "text": [
      "396it [23:01,  2.02s/it, BLEU2=0.313, BLEU1=0.377, ExactMatch=0.0276, METEOR=0.573, BertScore=nan, StubScore=0.357]"
     ]
    },
    {
     "name": "stdout",
     "output_type": "stream",
     "text": [
      "answer raw len:  395 1\n",
      "True\n",
      "Телевизионное шоу \"Challenge of the Scrapheap\" транслировалось на 4 канале Британского телевидения.\n",
      "Запись телешоу показал Би-Би-Си 2\n",
      "[0, 0, 0, 0, 0, 1, 1, 0, 1, 0, 1, 0, 1, 0, 0, 0, 0, 0, 1, 0, 1, 1, 0, 0, 1, 0, 0, 0, 1, 0, 0, 1, 0, 0, 0, 0, 0, 1, 0, 1, 0, 1, 1, 0, 0, 1, 0, 1, 0, 0, 0, 0, 1, 0, 0, 0, 0, 0, 1, 0, 1, 1, 1, 0, 0, 1, 1, 0, 0, 1]\n"
     ]
    },
    {
     "name": "stderr",
     "output_type": "stream",
     "text": [
      "397it [23:04,  2.31s/it, BLEU2=0.315, BLEU1=0.378, ExactMatch=0.0275, METEOR=0.574, BertScore=nan, StubScore=0.357]"
     ]
    },
    {
     "name": "stdout",
     "output_type": "stream",
     "text": [
      "answer raw len:  396 1\n",
      "True\n",
      "Видеозапись выступления Боуи на легендарном телешоу Top of the Pops была показана 21 декабря 2011 года на BBC Two.\n",
      "Видеозапись выступления Боуи на легендарном телешоу Top of the Pops была показана 21 декабря 2011 года.\n",
      "[0, 0, 0, 0, 0, 1, 1, 0, 1, 0, 1, 0, 1, 0, 0, 0, 0, 0, 1, 0, 1, 1, 0, 0, 1, 0, 0, 0, 1, 0, 0, 1, 0, 0, 0, 0, 0, 1, 0, 1, 0, 1, 1, 0, 0, 1, 0, 1, 0, 0, 0, 0, 1, 0, 0, 0, 0, 0, 1, 0, 1, 1, 1, 0, 0, 1, 1, 0, 0, 1]\n"
     ]
    },
    {
     "name": "stderr",
     "output_type": "stream",
     "text": [
      "398it [23:07,  2.46s/it, BLEU2=0.316, BLEU1=0.379, ExactMatch=0.0274, METEOR=0.575, BertScore=nan, StubScore=0.357]"
     ]
    },
    {
     "name": "stdout",
     "output_type": "stream",
     "text": [
      "answer raw len:  397 1\n",
      "True\n",
      "Запись выступления Боуи на легендарном телешоу Top of the Pops была сделана 4 января 1973 года.\n",
      "Запись выступления Боуи на легендарном телешоу была сделана 4 января 1973 года.\n",
      "[0, 0, 0, 0, 0, 1, 1, 0, 1, 0, 1, 0, 1, 0, 0, 0, 0, 0, 1, 0, 1, 1, 0, 0, 1, 0, 0, 0, 1, 0, 0, 1, 0, 0, 0, 0, 0, 1, 0, 1, 0, 1, 1, 0, 0, 1, 0, 1, 0, 0, 0, 0, 1, 0, 0, 0, 0, 0, 1, 0, 1, 1, 1, 0, 0, 1, 1, 0, 0, 1]\n",
      "answer raw len:  398 1\n"
     ]
    },
    {
     "name": "stderr",
     "output_type": "stream",
     "text": [
      "399it [23:13,  3.42s/it, BLEU2=0.316, BLEU1=0.379, ExactMatch=0.0274, METEOR=0.575, BertScore=nan, StubScore=0.352]"
     ]
    },
    {
     "name": "stdout",
     "output_type": "stream",
     "text": [
      "sim raw len:  1\n",
      "False\n",
      "В 1937 году Би-би-си вела прямую телевизионную трансляцию теннисного матча между Банни Остин и ирландцем Джорджем Роджерсом.\n",
      "Оператором Би-Би-Си был Джон Хеншелл.\n",
      "[0, 0, 0, 0, 0, 1, 1, 0, 1, 0, 1, 0, 1, 0, 0, 0, 0, 0, 1, 0, 1, 1, 0, 0, 1, 0, 0, 0, 1, 0, 0, 1, 0, 0, 0, 0, 0, 1, 0, 1, 0, 1, 1, 0, 0, 1, 0, 1, 0, 0, 0, 0, 1, 0, 0, 0, 0, 0, 1, 0, 1, 1, 1, 0, 0, 1, 1, 0, 0, 1, 0]\n",
      "answer raw len:  399 1\n"
     ]
    },
    {
     "name": "stderr",
     "output_type": "stream",
     "text": [
      "400it [23:15,  3.00s/it, BLEU2=0.316, BLEU1=0.379, ExactMatch=0.0274, METEOR=0.575, BertScore=nan, StubScore=0.361]"
     ]
    },
    {
     "name": "stdout",
     "output_type": "stream",
     "text": [
      "sim raw len:  1\n",
      "False\n",
      "У меня нет ответа на ваш вопрос.\n",
      "О том что испытывает непрестанную боль, ужас и ярость при чтении каждой газеты, осенью 1918 года Бунин сообщил в письме Абраму Дорману.\n",
      "[0, 0, 0, 0, 0, 1, 1, 0, 1, 0, 1, 0, 1, 0, 0, 0, 0, 0, 1, 0, 1, 1, 0, 0, 1, 0, 0, 0, 1, 0, 0, 1, 0, 0, 0, 0, 0, 1, 0, 1, 0, 1, 1, 0, 0, 1, 0, 1, 0, 0, 0, 0, 1, 0, 0, 0, 0, 0, 1, 0, 1, 1, 1, 0, 0, 1, 1, 0, 0, 1, 0, 1]\n",
      "answer raw len:  400 1\n"
     ]
    },
    {
     "name": "stderr",
     "output_type": "stream",
     "text": [
      "401it [23:17,  2.74s/it, BLEU2=0.316, BLEU1=0.379, ExactMatch=0.0274, METEOR=0.575, BertScore=nan, StubScore=0.37] "
     ]
    },
    {
     "name": "stdout",
     "output_type": "stream",
     "text": [
      "sim raw len:  1\n",
      "False\n",
      "У меня нет ответа на ваш вопрос.\n",
      "После проживания на даче, чета Буниных переместилась в особняк Евгения Буковецкого.\n",
      "[0, 0, 0, 0, 0, 1, 1, 0, 1, 0, 1, 0, 1, 0, 0, 0, 0, 0, 1, 0, 1, 1, 0, 0, 1, 0, 0, 0, 1, 0, 0, 1, 0, 0, 0, 0, 0, 1, 0, 1, 0, 1, 1, 0, 0, 1, 0, 1, 0, 0, 0, 0, 1, 0, 0, 0, 0, 0, 1, 0, 1, 1, 1, 0, 0, 1, 1, 0, 0, 1, 0, 1, 1]\n"
     ]
    },
    {
     "name": "stderr",
     "output_type": "stream",
     "text": [
      "402it [23:19,  2.61s/it, BLEU2=0.316, BLEU1=0.379, ExactMatch=0.0274, METEOR=0.575, BertScore=nan, StubScore=0.37]"
     ]
    },
    {
     "name": "stdout",
     "output_type": "stream",
     "text": [
      "answer raw len:  401 1\n",
      "True\n",
      "Дача, где жили Иван Алексеевич и Вера Николаевна, находилась в Силламяэ, расположенном в западной части Нарвского побережья.\n",
      "Дача, в которой жили Иван Алексеевич и Вера Николаевна располагалась за Большим Фонтаном.\n",
      "[0, 0, 0, 0, 0, 1, 1, 0, 1, 0, 1, 0, 1, 0, 0, 0, 0, 0, 1, 0, 1, 1, 0, 0, 1, 0, 0, 0, 1, 0, 0, 1, 0, 0, 0, 0, 0, 1, 0, 1, 0, 1, 1, 0, 0, 1, 0, 1, 0, 0, 0, 0, 1, 0, 0, 0, 0, 0, 1, 0, 1, 1, 1, 0, 0, 1, 1, 0, 0, 1, 0, 1, 1]\n"
     ]
    },
    {
     "name": "stderr",
     "output_type": "stream",
     "text": [
      "403it [23:21,  2.32s/it, BLEU2=0.317, BLEU1=0.38, ExactMatch=0.0273, METEOR=0.576, BertScore=nan, StubScore=0.37] "
     ]
    },
    {
     "name": "stdout",
     "output_type": "stream",
     "text": [
      "answer raw len:  402 1\n",
      "True\n",
      "Иван Алексеевич и Вера Николаевна покинули Москву 21 мая 1918 года.\n",
      "Иван Алексеевич и Вера Николаевна уехали из Москвы 21 мая 1918 года.\n",
      "[0, 0, 0, 0, 0, 1, 1, 0, 1, 0, 1, 0, 1, 0, 0, 0, 0, 0, 1, 0, 1, 1, 0, 0, 1, 0, 0, 0, 1, 0, 0, 1, 0, 0, 0, 0, 0, 1, 0, 1, 0, 1, 1, 0, 0, 1, 0, 1, 0, 0, 0, 0, 1, 0, 0, 0, 0, 0, 1, 0, 1, 1, 1, 0, 0, 1, 1, 0, 0, 1, 0, 1, 1]\n"
     ]
    },
    {
     "name": "stderr",
     "output_type": "stream",
     "text": [
      "404it [23:22,  2.06s/it, BLEU2=0.318, BLEU1=0.381, ExactMatch=0.0272, METEOR=0.576, BertScore=nan, StubScore=0.37]"
     ]
    },
    {
     "name": "stdout",
     "output_type": "stream",
     "text": [
      "answer raw len:  403 1\n",
      "True\n",
      "Иван Алексеевич и Вера Николаевна отправились в Одессу после отъезда из Москвы.\n",
      "Иван Алексеевич и Вера Николаевна после отьезда из Москвы направились до Одессы.\n",
      "[0, 0, 0, 0, 0, 1, 1, 0, 1, 0, 1, 0, 1, 0, 0, 0, 0, 0, 1, 0, 1, 1, 0, 0, 1, 0, 0, 0, 1, 0, 0, 1, 0, 0, 0, 0, 0, 1, 0, 1, 0, 1, 1, 0, 0, 1, 0, 1, 0, 0, 0, 0, 1, 0, 0, 0, 0, 0, 1, 0, 1, 1, 1, 0, 0, 1, 1, 0, 0, 1, 0, 1, 1]\n"
     ]
    },
    {
     "name": "stderr",
     "output_type": "stream",
     "text": [
      "405it [23:24,  2.01s/it, BLEU2=0.317, BLEU1=0.381, ExactMatch=0.0271, METEOR=0.576, BertScore=nan, StubScore=0.37]"
     ]
    },
    {
     "name": "stdout",
     "output_type": "stream",
     "text": [
      "answer raw len:  404 1\n",
      "True\n",
      "Мадонна использовала ненормативную лексику в адрес противников Марша женщин, которые были против её выступления.\n",
      "Мадонна нецензурно выражалась в адрес в адреса противников Марша женщин.\n",
      "[0, 0, 0, 0, 0, 1, 1, 0, 1, 0, 1, 0, 1, 0, 0, 0, 0, 0, 1, 0, 1, 1, 0, 0, 1, 0, 0, 0, 1, 0, 0, 1, 0, 0, 0, 0, 0, 1, 0, 1, 0, 1, 1, 0, 0, 1, 0, 1, 0, 0, 0, 0, 1, 0, 0, 0, 0, 0, 1, 0, 1, 1, 1, 0, 0, 1, 1, 0, 0, 1, 0, 1, 1]\n"
     ]
    },
    {
     "name": "stderr",
     "output_type": "stream",
     "text": [
      "406it [23:26,  1.88s/it, BLEU2=0.318, BLEU1=0.381, ExactMatch=0.027, METEOR=0.576, BertScore=nan, StubScore=0.37] "
     ]
    },
    {
     "name": "stdout",
     "output_type": "stream",
     "text": [
      "answer raw len:  405 1\n",
      "True\n",
      "Массовый митинг против Дональда Трампа состоялся 21 января 2017 года.\n",
      "Массовая акция протеста против Дональда Трампа была 21 января 2017 года.\n",
      "[0, 0, 0, 0, 0, 1, 1, 0, 1, 0, 1, 0, 1, 0, 0, 0, 0, 0, 1, 0, 1, 1, 0, 0, 1, 0, 0, 0, 1, 0, 0, 1, 0, 0, 0, 0, 0, 1, 0, 1, 0, 1, 1, 0, 0, 1, 0, 1, 0, 0, 0, 0, 1, 0, 0, 0, 0, 0, 1, 0, 1, 1, 1, 0, 0, 1, 1, 0, 0, 1, 0, 1, 1]\n",
      "answer raw len:  406 1\n"
     ]
    },
    {
     "name": "stderr",
     "output_type": "stream",
     "text": [
      "407it [23:30,  2.71s/it, BLEU2=0.318, BLEU1=0.381, ExactMatch=0.027, METEOR=0.576, BertScore=nan, StubScore=0.365]"
     ]
    },
    {
     "name": "stdout",
     "output_type": "stream",
     "text": [
      "sim raw len:  1\n",
      "False\n",
      "Мадонна столкнулась с критикой за свои работы в 1990-х годах, которые были встречены отрицательными отзывами прессы и общественным осуждением.\n",
      "Мадонну критиковали за мат и высказанные вслух антипатриотичные размышления о взрыве Белого дома.\n",
      "[0, 0, 0, 0, 0, 1, 1, 0, 1, 0, 1, 0, 1, 0, 0, 0, 0, 0, 1, 0, 1, 1, 0, 0, 1, 0, 0, 0, 1, 0, 0, 1, 0, 0, 0, 0, 0, 1, 0, 1, 0, 1, 1, 0, 0, 1, 0, 1, 0, 0, 0, 0, 1, 0, 0, 0, 0, 0, 1, 0, 1, 1, 1, 0, 0, 1, 1, 0, 0, 1, 0, 1, 1, 0]\n",
      "answer raw len:  407 1\n"
     ]
    },
    {
     "name": "stderr",
     "output_type": "stream",
     "text": [
      "408it [23:32,  2.45s/it, BLEU2=0.318, BLEU1=0.381, ExactMatch=0.027, METEOR=0.576, BertScore=nan, StubScore=0.373]"
     ]
    },
    {
     "name": "stdout",
     "output_type": "stream",
     "text": [
      "sim raw len:  1\n",
      "False\n",
      "У меня нет ответа на ваш вопрос.\n",
      "В выступлении поле речи были песни Express Yourself и Human Nature.\n",
      "[0, 0, 0, 0, 0, 1, 1, 0, 1, 0, 1, 0, 1, 0, 0, 0, 0, 0, 1, 0, 1, 1, 0, 0, 1, 0, 0, 0, 1, 0, 0, 1, 0, 0, 0, 0, 0, 1, 0, 1, 0, 1, 1, 0, 0, 1, 0, 1, 0, 0, 0, 0, 1, 0, 0, 0, 0, 0, 1, 0, 1, 1, 1, 0, 0, 1, 1, 0, 0, 1, 0, 1, 1, 0, 1]\n"
     ]
    },
    {
     "name": "stderr",
     "output_type": "stream",
     "text": [
      "409it [23:33,  1.94s/it, BLEU2=0.318, BLEU1=0.382, ExactMatch=0.0269, METEOR=0.576, BertScore=nan, StubScore=0.373]"
     ]
    },
    {
     "name": "stdout",
     "output_type": "stream",
     "text": [
      "answer raw len:  408 1\n",
      "True\n",
      "Массовый протест был против Дональда Трампа.\n",
      "Массовая акция протеста была против Дональда Трампа.\n",
      "[0, 0, 0, 0, 0, 1, 1, 0, 1, 0, 1, 0, 1, 0, 0, 0, 0, 0, 1, 0, 1, 1, 0, 0, 1, 0, 0, 0, 1, 0, 0, 1, 0, 0, 0, 0, 0, 1, 0, 1, 0, 1, 1, 0, 0, 1, 0, 1, 0, 0, 0, 0, 1, 0, 0, 0, 0, 0, 1, 0, 1, 1, 1, 0, 0, 1, 1, 0, 0, 1, 0, 1, 1, 0, 1]\n"
     ]
    },
    {
     "name": "stderr",
     "output_type": "stream",
     "text": [
      "410it [23:35,  1.87s/it, BLEU2=0.319, BLEU1=0.383, ExactMatch=0.0269, METEOR=0.577, BertScore=nan, StubScore=0.373]"
     ]
    },
    {
     "name": "stdout",
     "output_type": "stream",
     "text": [
      "answer raw len:  409 1\n",
      "True\n",
      "Герб города Белозерск был утвержден 22 мая 1972 года.\n",
      "Герб города Белозерска утвержден 22 мая 1972 года.\n",
      "[0, 0, 0, 0, 0, 1, 1, 0, 1, 0, 1, 0, 1, 0, 0, 0, 0, 0, 1, 0, 1, 1, 0, 0, 1, 0, 0, 0, 1, 0, 0, 1, 0, 0, 0, 0, 0, 1, 0, 1, 0, 1, 1, 0, 0, 1, 0, 1, 0, 0, 0, 0, 1, 0, 0, 0, 0, 0, 1, 0, 1, 1, 1, 0, 0, 1, 1, 0, 0, 1, 0, 1, 1, 0, 1]\n"
     ]
    },
    {
     "name": "stderr",
     "output_type": "stream",
     "text": [
      "411it [23:37,  1.97s/it, BLEU2=0.32, BLEU1=0.383, ExactMatch=0.0268, METEOR=0.578, BertScore=nan, StubScore=0.373] "
     ]
    },
    {
     "name": "stdout",
     "output_type": "stream",
     "text": [
      "answer raw len:  410 1\n",
      "True\n",
      "21 октября 2001 года были утверждены герб и флаг Белозерского муниципального района и города Белозерска.\n",
      "Герб и флаг Белозерского муниципального района были утверждены 12 октября 2001 года.\n",
      "[0, 0, 0, 0, 0, 1, 1, 0, 1, 0, 1, 0, 1, 0, 0, 0, 0, 0, 1, 0, 1, 1, 0, 0, 1, 0, 0, 0, 1, 0, 0, 1, 0, 0, 0, 0, 0, 1, 0, 1, 0, 1, 1, 0, 0, 1, 0, 1, 0, 0, 0, 0, 1, 0, 0, 0, 0, 0, 1, 0, 1, 1, 1, 0, 0, 1, 1, 0, 0, 1, 0, 1, 1, 0, 1]\n"
     ]
    },
    {
     "name": "stderr",
     "output_type": "stream",
     "text": [
      "412it [23:39,  1.89s/it, BLEU2=0.322, BLEU1=0.385, ExactMatch=0.0267, METEOR=0.579, BertScore=nan, StubScore=0.373]"
     ]
    },
    {
     "name": "stdout",
     "output_type": "stream",
     "text": [
      "answer raw len:  411 1\n",
      "True\n",
      "Автор реконструкции герба Белозерского муниципального района и города Белозерска - Олег Свириденко.\n",
      "Автор реконструкции герба Белозерского муниципального района и города Белозерска Олег Свириденко.\n",
      "[0, 0, 0, 0, 0, 1, 1, 0, 1, 0, 1, 0, 1, 0, 0, 0, 0, 0, 1, 0, 1, 1, 0, 0, 1, 0, 0, 0, 1, 0, 0, 1, 0, 0, 0, 0, 0, 1, 0, 1, 0, 1, 1, 0, 0, 1, 0, 1, 0, 0, 0, 0, 1, 0, 0, 0, 0, 0, 1, 0, 1, 1, 1, 0, 0, 1, 1, 0, 0, 1, 0, 1, 1, 0, 1]\n"
     ]
    },
    {
     "name": "stderr",
     "output_type": "stream",
     "text": [
      "413it [23:41,  1.92s/it, BLEU2=0.321, BLEU1=0.385, ExactMatch=0.0266, METEOR=0.579, BertScore=nan, StubScore=0.373]"
     ]
    },
    {
     "name": "stdout",
     "output_type": "stream",
     "text": [
      "answer raw len:  412 1\n",
      "True\n",
      "Автор герба Белозерска - архитектор, главный инженер отдела капитального строительства Севмаша Н. С. Яковлев.\n",
      "Автор герба Белозерска П. Горячев.\n",
      "[0, 0, 0, 0, 0, 1, 1, 0, 1, 0, 1, 0, 1, 0, 0, 0, 0, 0, 1, 0, 1, 1, 0, 0, 1, 0, 0, 0, 1, 0, 0, 1, 0, 0, 0, 0, 0, 1, 0, 1, 0, 1, 1, 0, 0, 1, 0, 1, 0, 0, 0, 0, 1, 0, 0, 0, 0, 0, 1, 0, 1, 1, 1, 0, 0, 1, 1, 0, 0, 1, 0, 1, 1, 0, 1]\n",
      "answer raw len:  413 1\n"
     ]
    },
    {
     "name": "stderr",
     "output_type": "stream",
     "text": [
      "414it [23:43,  1.94s/it, BLEU2=0.321, BLEU1=0.385, ExactMatch=0.0266, METEOR=0.579, BertScore=nan, StubScore=0.382]"
     ]
    },
    {
     "name": "stdout",
     "output_type": "stream",
     "text": [
      "sim raw len:  1\n",
      "False\n",
      "У меня нет ответа на ваш вопрос.\n",
      "В Государственный Геральдический регистр Российской Федерации герб внесён под № 1222.\n",
      "[0, 0, 0, 0, 0, 1, 1, 0, 1, 0, 1, 0, 1, 0, 0, 0, 0, 0, 1, 0, 1, 1, 0, 0, 1, 0, 0, 0, 1, 0, 0, 1, 0, 0, 0, 0, 0, 1, 0, 1, 0, 1, 1, 0, 0, 1, 0, 1, 0, 0, 0, 0, 1, 0, 0, 0, 0, 0, 1, 0, 1, 1, 1, 0, 0, 1, 1, 0, 0, 1, 0, 1, 1, 0, 1, 1]\n"
     ]
    },
    {
     "name": "stderr",
     "output_type": "stream",
     "text": [
      "415it [23:45,  2.05s/it, BLEU2=0.322, BLEU1=0.385, ExactMatch=0.0265, METEOR=0.58, BertScore=nan, StubScore=0.382] "
     ]
    },
    {
     "name": "stdout",
     "output_type": "stream",
     "text": [
      "answer raw len:  414 1\n",
      "True\n",
      "Группа \"Машина времени\" приняла участие в Международном фестивале \"Музыканты мира - детям Чернобыля\" в Минске в 1991 году.\n",
      "В Международном фестивале Музыканты мира детям Чернобыля в Минске группа Машина времени приняла участие в 1991 году.\n",
      "[0, 0, 0, 0, 0, 1, 1, 0, 1, 0, 1, 0, 1, 0, 0, 0, 0, 0, 1, 0, 1, 1, 0, 0, 1, 0, 0, 0, 1, 0, 0, 1, 0, 0, 0, 0, 0, 1, 0, 1, 0, 1, 1, 0, 0, 1, 0, 1, 0, 0, 0, 0, 1, 0, 0, 0, 0, 0, 1, 0, 1, 1, 1, 0, 0, 1, 1, 0, 0, 1, 0, 1, 1, 0, 1, 1]\n"
     ]
    },
    {
     "name": "stderr",
     "output_type": "stream",
     "text": [
      "416it [23:46,  1.67s/it, BLEU2=0.321, BLEU1=0.384, ExactMatch=0.0265, METEOR=0.579, BertScore=nan, StubScore=0.382]"
     ]
    },
    {
     "name": "stdout",
     "output_type": "stream",
     "text": [
      "answer raw len:  415 1\n",
      "True\n",
      "Макаревич поддержал Бориса Ельцина.\n",
      "Выступая на баррикадах 20 августа 1991 года перед защитниками Белого дома, Макаревич поддержал Бориса Ельцина.\n",
      "[0, 0, 0, 0, 0, 1, 1, 0, 1, 0, 1, 0, 1, 0, 0, 0, 0, 0, 1, 0, 1, 1, 0, 0, 1, 0, 0, 0, 1, 0, 0, 1, 0, 0, 0, 0, 0, 1, 0, 1, 0, 1, 1, 0, 0, 1, 0, 1, 0, 0, 0, 0, 1, 0, 0, 0, 0, 0, 1, 0, 1, 1, 1, 0, 0, 1, 1, 0, 0, 1, 0, 1, 1, 0, 1, 1]\n"
     ]
    },
    {
     "name": "stderr",
     "output_type": "stream",
     "text": [
      "417it [23:47,  1.63s/it, BLEU2=0.321, BLEU1=0.385, ExactMatch=0.0264, METEOR=0.58, BertScore=nan, StubScore=0.382] "
     ]
    },
    {
     "name": "stdout",
     "output_type": "stream",
     "text": [
      "answer raw len:  416 1\n",
      "True\n",
      "Александр Кутиков стал продюсером группы \"Машина времени\" в 1991 году.\n",
      "В 1991 году продюсером группы Машина времени стал Александр Кутиков.\n",
      "[0, 0, 0, 0, 0, 1, 1, 0, 1, 0, 1, 0, 1, 0, 0, 0, 0, 0, 1, 0, 1, 1, 0, 0, 1, 0, 0, 0, 1, 0, 0, 1, 0, 0, 0, 0, 0, 1, 0, 1, 0, 1, 1, 0, 0, 1, 0, 1, 0, 0, 0, 0, 1, 0, 0, 0, 0, 0, 1, 0, 1, 1, 1, 0, 0, 1, 1, 0, 0, 1, 0, 1, 1, 0, 1, 1]\n"
     ]
    },
    {
     "name": "stderr",
     "output_type": "stream",
     "text": [
      "418it [23:51,  2.14s/it, BLEU2=0.32, BLEU1=0.384, ExactMatch=0.0263, METEOR=0.58, BertScore=nan, StubScore=0.382] "
     ]
    },
    {
     "name": "stdout",
     "output_type": "stream",
     "text": [
      "answer raw len:  417 1\n",
      "True\n",
      "Машина времени не зависела от какой-либо конкретной государственной монополии до 1991 года. Однако после 1991 года они больше не зависели от государственного монополиста, Мелодии.\n",
      "Группа Машина времени до 1991 года зависила от государственного монополиста фирмы Мелодия.\n",
      "[0, 0, 0, 0, 0, 1, 1, 0, 1, 0, 1, 0, 1, 0, 0, 0, 0, 0, 1, 0, 1, 1, 0, 0, 1, 0, 0, 0, 1, 0, 0, 1, 0, 0, 0, 0, 0, 1, 0, 1, 0, 1, 1, 0, 0, 1, 0, 1, 0, 0, 0, 0, 1, 0, 0, 0, 0, 0, 1, 0, 1, 1, 1, 0, 0, 1, 1, 0, 0, 1, 0, 1, 1, 0, 1, 1]\n"
     ]
    },
    {
     "name": "stderr",
     "output_type": "stream",
     "text": [
      "419it [23:52,  2.05s/it, BLEU2=0.321, BLEU1=0.385, ExactMatch=0.0262, METEOR=0.581, BertScore=nan, StubScore=0.382]"
     ]
    },
    {
     "name": "stdout",
     "output_type": "stream",
     "text": [
      "answer raw len:  418 1\n",
      "True\n",
      "Машина времени приняла участие в Благотворительной акции солидарности с программой \"Взгляд\" в 1991 году.\n",
      "В 1991 году группа Машина времени приняла участие в Благотворительной акции солидарности с программой Взгляд.\n",
      "[0, 0, 0, 0, 0, 1, 1, 0, 1, 0, 1, 0, 1, 0, 0, 0, 0, 0, 1, 0, 1, 1, 0, 0, 1, 0, 0, 0, 1, 0, 0, 1, 0, 0, 0, 0, 0, 1, 0, 1, 0, 1, 1, 0, 0, 1, 0, 1, 0, 0, 0, 0, 1, 0, 0, 0, 0, 0, 1, 0, 1, 1, 1, 0, 0, 1, 1, 0, 0, 1, 0, 1, 1, 0, 1, 1]\n"
     ]
    },
    {
     "name": "stderr",
     "output_type": "stream",
     "text": [
      "420it [23:58,  3.18s/it, BLEU2=0.321, BLEU1=0.385, ExactMatch=0.0262, METEOR=0.58, BertScore=nan, StubScore=0.382] "
     ]
    },
    {
     "name": "stdout",
     "output_type": "stream",
     "text": [
      "answer raw len:  419 1\n",
      "True\n",
      "[80.298] 23 июня 1894 года старания Кубертена увенчались успехом. На конгрессе в Сорбонне было принято историческое решение: поскольку нет сомнений в преимуществах, которые приносит возрождение Олимпийских игр, как в спортивном, так и в международном плане, Олимпийские игры должны быть возрождены на основе, которые соответствуют требованиям современной жизни.\n",
      "Решение по возрождению Олимпийских игр было принято на конгрессе в Сорбонне.\n",
      "[0, 0, 0, 0, 0, 1, 1, 0, 1, 0, 1, 0, 1, 0, 0, 0, 0, 0, 1, 0, 1, 1, 0, 0, 1, 0, 0, 0, 1, 0, 0, 1, 0, 0, 0, 0, 0, 1, 0, 1, 0, 1, 1, 0, 0, 1, 0, 1, 0, 0, 0, 0, 1, 0, 0, 0, 0, 0, 1, 0, 1, 1, 1, 0, 0, 1, 1, 0, 0, 1, 0, 1, 1, 0, 1, 1]\n"
     ]
    },
    {
     "name": "stderr",
     "output_type": "stream",
     "text": [
      "421it [23:59,  2.43s/it, BLEU2=0.322, BLEU1=0.386, ExactMatch=0.0261, METEOR=0.581, BertScore=nan, StubScore=0.382]"
     ]
    },
    {
     "name": "stdout",
     "output_type": "stream",
     "text": [
      "answer raw len:  420 1\n",
      "True\n",
      "Олимпийские игры проводятся каждые четыре года.\n",
      "Олимпийские игры проходят каждые четыре года.\n",
      "[0, 0, 0, 0, 0, 1, 1, 0, 1, 0, 1, 0, 1, 0, 0, 0, 0, 0, 1, 0, 1, 1, 0, 0, 1, 0, 0, 0, 1, 0, 0, 1, 0, 0, 0, 0, 0, 1, 0, 1, 0, 1, 1, 0, 0, 1, 0, 1, 0, 0, 0, 0, 1, 0, 0, 0, 0, 0, 1, 0, 1, 1, 1, 0, 0, 1, 1, 0, 0, 1, 0, 1, 1, 0, 1, 1]\n"
     ]
    },
    {
     "name": "stderr",
     "output_type": "stream",
     "text": [
      "422it [24:00,  1.95s/it, BLEU2=0.321, BLEU1=0.385, ExactMatch=0.026, METEOR=0.58, BertScore=nan, StubScore=0.382]  "
     ]
    },
    {
     "name": "stdout",
     "output_type": "stream",
     "text": [
      "answer raw len:  421 1\n",
      "True\n",
      "23 июня 1894 года.\n",
      "Старания Кубертена по возрождению Олимпийских игр увенчались успехом 23 июня 1894.\n",
      "[0, 0, 0, 0, 0, 1, 1, 0, 1, 0, 1, 0, 1, 0, 0, 0, 0, 0, 1, 0, 1, 1, 0, 0, 1, 0, 0, 0, 1, 0, 0, 1, 0, 0, 0, 0, 0, 1, 0, 1, 0, 1, 1, 0, 0, 1, 0, 1, 0, 0, 0, 0, 1, 0, 0, 0, 0, 0, 1, 0, 1, 1, 1, 0, 0, 1, 1, 0, 0, 1, 0, 1, 1, 0, 1, 1]\n"
     ]
    },
    {
     "name": "stderr",
     "output_type": "stream",
     "text": [
      "423it [24:01,  1.70s/it, BLEU2=0.321, BLEU1=0.386, ExactMatch=0.0259, METEOR=0.582, BertScore=nan, StubScore=0.382]"
     ]
    },
    {
     "name": "stdout",
     "output_type": "stream",
     "text": [
      "answer raw len:  422 1\n",
      "True\n",
      "Деметриус Викелас был избран президентом Олимпийского комитета.\n",
      "Президентом Олимпийского комитета был избран Деметриус Викелас.\n",
      "[0, 0, 0, 0, 0, 1, 1, 0, 1, 0, 1, 0, 1, 0, 0, 0, 0, 0, 1, 0, 1, 1, 0, 0, 1, 0, 0, 0, 1, 0, 0, 1, 0, 0, 0, 0, 0, 1, 0, 1, 0, 1, 1, 0, 0, 1, 0, 1, 0, 0, 0, 0, 1, 0, 0, 0, 0, 0, 1, 0, 1, 1, 1, 0, 0, 1, 1, 0, 0, 1, 0, 1, 1, 0, 1, 1]\n"
     ]
    },
    {
     "name": "stderr",
     "output_type": "stream",
     "text": [
      "424it [24:09,  3.50s/it, BLEU2=0.32, BLEU1=0.385, ExactMatch=0.0259, METEOR=0.581, BertScore=nan, StubScore=0.382] "
     ]
    },
    {
     "name": "stdout",
     "output_type": "stream",
     "text": [
      "answer raw len:  423 1\n",
      "True\n",
      "[80.298] 23 июня 1894 года старания Кубертена увенчались успехом. На конгрессе в Сорбонне было принято историческое решение: поскольку нет сомнений в преимуществах, которые приносит возрождение Олимпийских игр, как в спортивном, так и в международном плане, должны быть возрождены эти игры на основе, которые соответствуют требованиям современной жизни. Также был создан Международный олимпийский комитет (МОК), в котором Кубертен занял должность генерального секретаря.\n",
      "Первым должность генерального секретаря МОК занял Кубертен.\n",
      "[0, 0, 0, 0, 0, 1, 1, 0, 1, 0, 1, 0, 1, 0, 0, 0, 0, 0, 1, 0, 1, 1, 0, 0, 1, 0, 0, 0, 1, 0, 0, 1, 0, 0, 0, 0, 0, 1, 0, 1, 0, 1, 1, 0, 0, 1, 0, 1, 0, 0, 0, 0, 1, 0, 0, 0, 0, 0, 1, 0, 1, 1, 1, 0, 0, 1, 1, 0, 0, 1, 0, 1, 1, 0, 1, 1]\n"
     ]
    },
    {
     "name": "stderr",
     "output_type": "stream",
     "text": [
      "425it [24:09,  2.59s/it, BLEU2=0.319, BLEU1=0.383, ExactMatch=0.0258, METEOR=0.579, BertScore=nan, StubScore=0.382]"
     ]
    },
    {
     "name": "stdout",
     "output_type": "stream",
     "text": [
      "answer raw len:  424 1\n",
      "True\n",
      "27 мая.\n",
      "Норвежское правительство передало свои полномочия стортингу 7 июня.\n",
      "[0, 0, 0, 0, 0, 1, 1, 0, 1, 0, 1, 0, 1, 0, 0, 0, 0, 0, 1, 0, 1, 1, 0, 0, 1, 0, 0, 0, 1, 0, 0, 1, 0, 0, 0, 0, 0, 1, 0, 1, 0, 1, 1, 0, 0, 1, 0, 1, 0, 0, 0, 0, 1, 0, 0, 0, 0, 0, 1, 0, 1, 1, 1, 0, 0, 1, 1, 0, 0, 1, 0, 1, 1, 0, 1, 1]\n"
     ]
    },
    {
     "name": "stderr",
     "output_type": "stream",
     "text": [
      "426it [24:10,  2.18s/it, BLEU2=0.321, BLEU1=0.385, ExactMatch=0.0257, METEOR=0.58, BertScore=nan, StubScore=0.382] "
     ]
    },
    {
     "name": "stdout",
     "output_type": "stream",
     "text": [
      "answer raw len:  425 1\n",
      "True\n",
      "Норвежский кабинет министров подал в отставку 23 мая.\n",
      "Норвежский кабинет министров подал в отставку 27 мая.\n",
      "[0, 0, 0, 0, 0, 1, 1, 0, 1, 0, 1, 0, 1, 0, 0, 0, 0, 0, 1, 0, 1, 1, 0, 0, 1, 0, 0, 0, 1, 0, 0, 1, 0, 0, 0, 0, 0, 1, 0, 1, 0, 1, 1, 0, 0, 1, 0, 1, 0, 0, 0, 0, 1, 0, 0, 0, 0, 0, 1, 0, 1, 1, 1, 0, 0, 1, 1, 0, 0, 1, 0, 1, 1, 0, 1, 1]\n"
     ]
    },
    {
     "name": "stderr",
     "output_type": "stream",
     "text": [
      "427it [24:12,  2.04s/it, BLEU2=0.32, BLEU1=0.385, ExactMatch=0.0256, METEOR=0.58, BertScore=nan, StubScore=0.382] "
     ]
    },
    {
     "name": "stdout",
     "output_type": "stream",
     "text": [
      "answer raw len:  426 1\n",
      "True\n",
      "Стортинг принял решение о создании отдельной норвежской консульской службы 23 мая.\n",
      "Стортинг постановил создать отдельную норвежскую консульскую службу 23 мая.\n",
      "[0, 0, 0, 0, 0, 1, 1, 0, 1, 0, 1, 0, 1, 0, 0, 0, 0, 0, 1, 0, 1, 1, 0, 0, 1, 0, 0, 0, 1, 0, 0, 1, 0, 0, 0, 0, 0, 1, 0, 1, 0, 1, 1, 0, 0, 1, 0, 1, 0, 0, 0, 0, 1, 0, 0, 0, 0, 0, 1, 0, 1, 1, 1, 0, 0, 1, 1, 0, 0, 1, 0, 1, 1, 0, 1, 1]\n"
     ]
    },
    {
     "name": "stderr",
     "output_type": "stream",
     "text": [
      "428it [24:13,  1.75s/it, BLEU2=0.32, BLEU1=0.385, ExactMatch=0.0256, METEOR=0.58, BertScore=nan, StubScore=0.382]"
     ]
    },
    {
     "name": "stdout",
     "output_type": "stream",
     "text": [
      "answer raw len:  427 1\n",
      "True\n",
      "Нет, король Оскар II не ратифицировал закон.\n",
      "Король Оскар II отказался ратифицировать закон.\n",
      "[0, 0, 0, 0, 0, 1, 1, 0, 1, 0, 1, 0, 1, 0, 0, 0, 0, 0, 1, 0, 1, 1, 0, 0, 1, 0, 0, 0, 1, 0, 0, 1, 0, 0, 0, 0, 0, 1, 0, 1, 0, 1, 1, 0, 0, 1, 0, 1, 0, 0, 0, 0, 1, 0, 0, 0, 0, 0, 1, 0, 1, 1, 1, 0, 0, 1, 1, 0, 0, 1, 0, 1, 1, 0, 1, 1]\n"
     ]
    },
    {
     "name": "stderr",
     "output_type": "stream",
     "text": [
      "429it [24:16,  2.07s/it, BLEU2=0.321, BLEU1=0.385, ExactMatch=0.0255, METEOR=0.581, BertScore=nan, StubScore=0.382]"
     ]
    },
    {
     "name": "stdout",
     "output_type": "stream",
     "text": [
      "answer raw len:  428 1\n",
      "True\n",
      "Стортинг направил в Стокгольм отчет о произошедшем, а также просьбу, чтобы королем Норвегии стал один из принцев Бернадоттов.\n",
      "Стортинг направил в Стокгольм отчёт о произошедшем и просьбу, чтобы королём Норвегии стал один из принцев Бернадотов.\n",
      "[0, 0, 0, 0, 0, 1, 1, 0, 1, 0, 1, 0, 1, 0, 0, 0, 0, 0, 1, 0, 1, 1, 0, 0, 1, 0, 0, 0, 1, 0, 0, 1, 0, 0, 0, 0, 0, 1, 0, 1, 0, 1, 1, 0, 0, 1, 0, 1, 0, 0, 0, 0, 1, 0, 0, 0, 0, 0, 1, 0, 1, 1, 1, 0, 0, 1, 1, 0, 0, 1, 0, 1, 1, 0, 1, 1]\n"
     ]
    },
    {
     "name": "stderr",
     "output_type": "stream",
     "text": [
      "430it [24:17,  1.91s/it, BLEU2=0.321, BLEU1=0.386, ExactMatch=0.0254, METEOR=0.58, BertScore=nan, StubScore=0.382] "
     ]
    },
    {
     "name": "stdout",
     "output_type": "stream",
     "text": [
      "answer raw len:  429 1\n",
      "True\n",
      "Венесуэла обещала увеличить поставки нефти в Китай до 1 миллиона баррелей в день.\n",
      "Венесуэла гарантировала поставлять в Китай до 1 млн баррели нефти в сутки.\n",
      "[0, 0, 0, 0, 0, 1, 1, 0, 1, 0, 1, 0, 1, 0, 0, 0, 0, 0, 1, 0, 1, 1, 0, 0, 1, 0, 0, 0, 1, 0, 0, 1, 0, 0, 0, 0, 0, 1, 0, 1, 0, 1, 1, 0, 0, 1, 0, 1, 0, 0, 0, 0, 1, 0, 0, 0, 0, 0, 1, 0, 1, 1, 1, 0, 0, 1, 1, 0, 0, 1, 0, 1, 1, 0, 1, 1]\n"
     ]
    },
    {
     "name": "stderr",
     "output_type": "stream",
     "text": [
      "431it [24:21,  2.32s/it, BLEU2=0.321, BLEU1=0.386, ExactMatch=0.0254, METEOR=0.58, BertScore=nan, StubScore=0.382]"
     ]
    },
    {
     "name": "stdout",
     "output_type": "stream",
     "text": [
      "answer raw len:  430 1\n",
      "True\n",
      "Основная цель плана по расширению Панамского канала заключается в модернизации канала для пропуска нефтяных танкеров водоизмещением до 130 000 тонн, что значительно сократит время доставки венесуэльской нефти в Китай.\n",
      "Основная задача плана о расширении Панамского канала заключается в снижении времени доставки венесуэльской нефти в Китай.\n",
      "[0, 0, 0, 0, 0, 1, 1, 0, 1, 0, 1, 0, 1, 0, 0, 0, 0, 0, 1, 0, 1, 1, 0, 0, 1, 0, 0, 0, 1, 0, 0, 1, 0, 0, 0, 0, 0, 1, 0, 1, 0, 1, 1, 0, 0, 1, 0, 1, 0, 0, 0, 0, 1, 0, 0, 0, 0, 0, 1, 0, 1, 1, 1, 0, 0, 1, 1, 0, 0, 1, 0, 1, 1, 0, 1, 1]\n"
     ]
    },
    {
     "name": "stderr",
     "output_type": "stream",
     "text": [
      "432it [24:24,  2.71s/it, BLEU2=0.32, BLEU1=0.385, ExactMatch=0.0253, METEOR=0.581, BertScore=nan, StubScore=0.382]"
     ]
    },
    {
     "name": "stdout",
     "output_type": "stream",
     "text": [
      "answer raw len:  431 1\n",
      "True\n",
      "1. [82.552] 23 октября 2006 года в Панаме был проведен референдум о расширении Панамского канала, который был поддержан 79% населения.\n",
      "79 % населения приняло план о расширении Панамского канала.\n",
      "[0, 0, 0, 0, 0, 1, 1, 0, 1, 0, 1, 0, 1, 0, 0, 0, 0, 0, 1, 0, 1, 1, 0, 0, 1, 0, 0, 0, 1, 0, 0, 1, 0, 0, 0, 0, 0, 1, 0, 1, 0, 1, 1, 0, 0, 1, 0, 1, 0, 0, 0, 0, 1, 0, 0, 0, 0, 0, 1, 0, 1, 1, 1, 0, 0, 1, 1, 0, 0, 1, 0, 1, 1, 0, 1, 1]\n"
     ]
    },
    {
     "name": "stderr",
     "output_type": "stream",
     "text": [
      "433it [24:26,  2.44s/it, BLEU2=0.321, BLEU1=0.386, ExactMatch=0.0252, METEOR=0.582, BertScore=nan, StubScore=0.382]"
     ]
    },
    {
     "name": "stdout",
     "output_type": "stream",
     "text": [
      "answer raw len:  432 1\n",
      "True\n",
      "Референдум о расширении Панамского канала завершился 23 октября 2006 года.\n",
      "23 октября 2006 года завершился референдум о расширении Панамского канала.\n",
      "[0, 0, 0, 0, 0, 1, 1, 0, 1, 0, 1, 0, 1, 0, 0, 0, 0, 0, 1, 0, 1, 1, 0, 0, 1, 0, 0, 0, 1, 0, 0, 1, 0, 0, 0, 0, 0, 1, 0, 1, 0, 1, 1, 0, 0, 1, 0, 1, 0, 0, 0, 0, 1, 0, 0, 0, 0, 0, 1, 0, 1, 1, 1, 0, 0, 1, 1, 0, 0, 1, 0, 1, 1, 0, 1, 1]\n"
     ]
    },
    {
     "name": "stderr",
     "output_type": "stream",
     "text": [
      "434it [24:35,  4.28s/it, BLEU2=0.321, BLEU1=0.385, ExactMatch=0.0251, METEOR=0.581, BertScore=nan, StubScore=0.382]"
     ]
    },
    {
     "name": "stdout",
     "output_type": "stream",
     "text": [
      "answer raw len:  433 1\n",
      "True\n",
      "План расширения Панамского канала был поддержан из-за его потенциала сократить время доставки венесуэльской нефти в Китай. Расширение должно было увеличить пропускную способность канала, позволяя проходить нефтяным танкерам водоизмещением до 130 000 тонн, что привело бы к более эффективным маршрутам и увеличению грузопотока. Это было особенно выгодно для Венесуэлы, которая обещала увеличить поставки нефти в Китай до 1 миллиона баррелей в день.\n",
      "Расширение Панамского канала стало возможным благодаря усилиям китайских бизнес-структур, управляющих каналом, и обещанию Венесуэлы увеличить поставки нефти в Китай к 2016 году.\n",
      "[0, 0, 0, 0, 0, 1, 1, 0, 1, 0, 1, 0, 1, 0, 0, 0, 0, 0, 1, 0, 1, 1, 0, 0, 1, 0, 0, 0, 1, 0, 0, 1, 0, 0, 0, 0, 0, 1, 0, 1, 0, 1, 1, 0, 0, 1, 0, 1, 0, 0, 0, 0, 1, 0, 0, 0, 0, 0, 1, 0, 1, 1, 1, 0, 0, 1, 1, 0, 0, 1, 0, 1, 1, 0, 1, 1]\n"
     ]
    },
    {
     "name": "stderr",
     "output_type": "stream",
     "text": [
      "435it [24:39,  4.27s/it, BLEU2=0.321, BLEU1=0.386, ExactMatch=0.0251, METEOR=0.581, BertScore=nan, StubScore=0.382]"
     ]
    },
    {
     "name": "stdout",
     "output_type": "stream",
     "text": [
      "answer raw len:  434 1\n",
      "True\n",
      "Архивная запись Дэвида Боуи, которая была сделана в качестве промо-материала к альбому Pin Ups, впервые была показана на BBC Radio 6 23 октября 2013 года.\n",
      "23 октября 2013 года, на радиостанции BBC Radio 6 состоялась премьера архивной записи Дэвида Боуи, которую записали как промоматериал к альбому Pin Ups.\n",
      "[0, 0, 0, 0, 0, 1, 1, 0, 1, 0, 1, 0, 1, 0, 0, 0, 0, 0, 1, 0, 1, 1, 0, 0, 1, 0, 0, 0, 1, 0, 0, 1, 0, 0, 0, 0, 0, 1, 0, 1, 0, 1, 1, 0, 0, 1, 0, 1, 0, 0, 0, 0, 1, 0, 0, 0, 0, 0, 1, 0, 1, 1, 1, 0, 0, 1, 1, 0, 0, 1, 0, 1, 1, 0, 1, 1]\n"
     ]
    },
    {
     "name": "stderr",
     "output_type": "stream",
     "text": [
      "436it [24:42,  4.03s/it, BLEU2=0.321, BLEU1=0.386, ExactMatch=0.025, METEOR=0.582, BertScore=nan, StubScore=0.382] "
     ]
    },
    {
     "name": "stdout",
     "output_type": "stream",
     "text": [
      "answer raw len:  435 1\n",
      "True\n",
      "Найджел Рив, куратор бэк-каталога Дэвида Боуи, обнаружил архивную запись, которая была сделана в качестве промо-материала к альбому Pin Ups.\n",
      "Найджел Рив, куратор бэк-каталога Боуи, нашел архивную запись Дэвида Боуи, которую записали как промоматериал к альбому Pin Ups.\n",
      "[0, 0, 0, 0, 0, 1, 1, 0, 1, 0, 1, 0, 1, 0, 0, 0, 0, 0, 1, 0, 1, 1, 0, 0, 1, 0, 0, 0, 1, 0, 0, 1, 0, 0, 0, 0, 0, 1, 0, 1, 0, 1, 1, 0, 0, 1, 0, 1, 0, 0, 0, 0, 1, 0, 0, 0, 0, 0, 1, 0, 1, 1, 1, 0, 0, 1, 1, 0, 0, 1, 0, 1, 1, 0, 1, 1]\n"
     ]
    },
    {
     "name": "stderr",
     "output_type": "stream",
     "text": [
      "437it [24:43,  3.04s/it, BLEU2=0.32, BLEU1=0.385, ExactMatch=0.0249, METEOR=0.58, BertScore=nan, StubScore=0.382] "
     ]
    },
    {
     "name": "stdout",
     "output_type": "stream",
     "text": [
      "answer raw len:  436 1\n",
      "True\n",
      "Радиостанция BBC Radio 6.\n",
      "На радиостанции BBC Radio 6 впервые разместили архивную запись Дэвида Боуи, которую записали как промоматериал к альбому Pin Ups.\n",
      "[0, 0, 0, 0, 0, 1, 1, 0, 1, 0, 1, 0, 1, 0, 0, 0, 0, 0, 1, 0, 1, 1, 0, 0, 1, 0, 0, 0, 1, 0, 0, 1, 0, 0, 0, 0, 0, 1, 0, 1, 0, 1, 1, 0, 0, 1, 0, 1, 0, 0, 0, 0, 1, 0, 0, 0, 0, 0, 1, 0, 1, 1, 1, 0, 0, 1, 1, 0, 0, 1, 0, 1, 1, 0, 1, 1]\n"
     ]
    },
    {
     "name": "stderr",
     "output_type": "stream",
     "text": [
      "438it [24:47,  3.23s/it, BLEU2=0.32, BLEU1=0.385, ExactMatch=0.0249, METEOR=0.58, BertScore=nan, StubScore=0.382]"
     ]
    },
    {
     "name": "stdout",
     "output_type": "stream",
     "text": [
      "answer raw len:  437 1\n",
      "True\n",
      "В радиопередаче, записанной Дэвидом Боуи в 1973 году в качестве промоматериала к альбому Pin Ups, было исполнено пять песен.\n",
      "Пять песен в исполнении Дэвида Боуи включает в себя шуточная радиопередача, записанная музыкантом в 1973 году как промоматериал к альбому Pin Ups.\n",
      "[0, 0, 0, 0, 0, 1, 1, 0, 1, 0, 1, 0, 1, 0, 0, 0, 0, 0, 1, 0, 1, 1, 0, 0, 1, 0, 0, 0, 1, 0, 0, 1, 0, 0, 0, 0, 0, 1, 0, 1, 0, 1, 1, 0, 0, 1, 0, 1, 0, 0, 0, 0, 1, 0, 0, 0, 0, 0, 1, 0, 1, 1, 1, 0, 0, 1, 1, 0, 0, 1, 0, 1, 1, 0, 1, 1]\n"
     ]
    },
    {
     "name": "stderr",
     "output_type": "stream",
     "text": [
      "439it [24:51,  3.62s/it, BLEU2=0.321, BLEU1=0.386, ExactMatch=0.0248, METEOR=0.581, BertScore=nan, StubScore=0.382]"
     ]
    },
    {
     "name": "stdout",
     "output_type": "stream",
     "text": [
      "answer raw len:  438 1\n",
      "True\n",
      "На подкассете, на которой хранилась радиопередача, записанная музыкантом в 1973 году в качестве промо-материала к альбому Pin Ups, было написано просто \"Radio show\".\n",
      "На подкассетнике, на котором хранилась радиопередача, записанная музыкантом в 1973 году как промоматериал к альбому Pin Ups, было написано \"Радиошоу\".\n",
      "[0, 0, 0, 0, 0, 1, 1, 0, 1, 0, 1, 0, 1, 0, 0, 0, 0, 0, 1, 0, 1, 1, 0, 0, 1, 0, 0, 0, 1, 0, 0, 1, 0, 0, 0, 0, 0, 1, 0, 1, 0, 1, 1, 0, 0, 1, 0, 1, 0, 0, 0, 0, 1, 0, 0, 0, 0, 0, 1, 0, 1, 1, 1, 0, 0, 1, 1, 0, 0, 1, 0, 1, 1, 0, 1, 1]\n"
     ]
    },
    {
     "name": "stderr",
     "output_type": "stream",
     "text": [
      "440it [24:53,  2.94s/it, BLEU2=0.32, BLEU1=0.385, ExactMatch=0.0247, METEOR=0.579, BertScore=nan, StubScore=0.382] "
     ]
    },
    {
     "name": "stdout",
     "output_type": "stream",
     "text": [
      "answer raw len:  439 1\n",
      "True\n",
      "Название пилотного эпизода \"Звёздный путь\" - \"Клетка\".\n",
      "Пилотный эпизод Звёздного пути назывался The Cage (Клетка).\n",
      "[0, 0, 0, 0, 0, 1, 1, 0, 1, 0, 1, 0, 1, 0, 0, 0, 0, 0, 1, 0, 1, 1, 0, 0, 1, 0, 0, 0, 1, 0, 0, 1, 0, 0, 0, 0, 0, 1, 0, 1, 0, 1, 1, 0, 0, 1, 0, 1, 0, 0, 0, 0, 1, 0, 0, 0, 0, 0, 1, 0, 1, 1, 1, 0, 0, 1, 1, 0, 0, 1, 0, 1, 1, 0, 1, 1]\n"
     ]
    },
    {
     "name": "stderr",
     "output_type": "stream",
     "text": [
      "441it [24:55,  2.66s/it, BLEU2=0.321, BLEU1=0.385, ExactMatch=0.0247, METEOR=0.58, BertScore=nan, StubScore=0.382]"
     ]
    },
    {
     "name": "stdout",
     "output_type": "stream",
     "text": [
      "answer raw len:  440 1\n",
      "True\n",
      "26 августа 1965 года NBC заказала второй пилотный эпизод \"Звёздный путь: Оригинальный сериал\".\n",
      "26 августа 1965 года NBC заказывала второй пилотный эпизод Звёздного пути.\n",
      "[0, 0, 0, 0, 0, 1, 1, 0, 1, 0, 1, 0, 1, 0, 0, 0, 0, 0, 1, 0, 1, 1, 0, 0, 1, 0, 0, 0, 1, 0, 0, 1, 0, 0, 0, 0, 0, 1, 0, 1, 0, 1, 1, 0, 0, 1, 0, 1, 0, 0, 0, 0, 1, 0, 0, 0, 0, 0, 1, 0, 1, 1, 1, 0, 0, 1, 1, 0, 0, 1, 0, 1, 1, 0, 1, 1]\n"
     ]
    },
    {
     "name": "stderr",
     "output_type": "stream",
     "text": [
      "442it [24:55,  1.96s/it, BLEU2=0.32, BLEU1=0.384, ExactMatch=0.0246, METEOR=0.578, BertScore=nan, StubScore=0.382]"
     ]
    },
    {
     "name": "stdout",
     "output_type": "stream",
     "text": [
      "answer raw len:  441 1\n",
      "True\n",
      "11.\n",
      "24 июня 1964 года вышел пилотный эпизод сериала Звёздный путь: Оригинальный сериал.\n",
      "[0, 0, 0, 0, 0, 1, 1, 0, 1, 0, 1, 0, 1, 0, 0, 0, 0, 0, 1, 0, 1, 1, 0, 0, 1, 0, 0, 0, 1, 0, 0, 1, 0, 0, 0, 0, 0, 1, 0, 1, 0, 1, 1, 0, 0, 1, 0, 1, 0, 0, 0, 0, 1, 0, 0, 0, 0, 0, 1, 0, 1, 1, 1, 0, 0, 1, 1, 0, 0, 1, 0, 1, 1, 0, 1, 1]\n"
     ]
    },
    {
     "name": "stderr",
     "output_type": "stream",
     "text": [
      "443it [24:57,  1.92s/it, BLEU2=0.319, BLEU1=0.384, ExactMatch=0.0245, METEOR=0.578, BertScore=nan, StubScore=0.382]"
     ]
    },
    {
     "name": "stdout",
     "output_type": "stream",
     "text": [
      "answer raw len:  442 1\n",
      "True\n",
      "В пилотном эпизоде \"Звёздного пути\" роль капитана Кристофера Пайка исполнил Джеффри Хантер.\n",
      "Пилотная серия Звёздного пути вышла с Джеффри Хантером в роли капитана Кристофера Пайка.\n",
      "[0, 0, 0, 0, 0, 1, 1, 0, 1, 0, 1, 0, 1, 0, 0, 0, 0, 0, 1, 0, 1, 1, 0, 0, 1, 0, 0, 0, 1, 0, 0, 1, 0, 0, 0, 0, 0, 1, 0, 1, 0, 1, 1, 0, 0, 1, 0, 1, 0, 0, 0, 0, 1, 0, 0, 0, 0, 0, 1, 0, 1, 1, 1, 0, 0, 1, 1, 0, 0, 1, 0, 1, 1, 0, 1, 1]\n"
     ]
    },
    {
     "name": "stderr",
     "output_type": "stream",
     "text": [
      "444it [24:59,  1.96s/it, BLEU2=0.319, BLEU1=0.384, ExactMatch=0.0245, METEOR=0.579, BertScore=nan, StubScore=0.382]"
     ]
    },
    {
     "name": "stdout",
     "output_type": "stream",
     "text": [
      "answer raw len:  443 1\n",
      "True\n",
      "Беккерель сообщил о своем открытии на заседании Парижской академии наук 2 марта 1896 года.\n",
      "Беккерель доложил о своём открытии на заседании Парижской Академии наук.\n",
      "[0, 0, 0, 0, 0, 1, 1, 0, 1, 0, 1, 0, 1, 0, 0, 0, 0, 0, 1, 0, 1, 1, 0, 0, 1, 0, 0, 0, 1, 0, 0, 1, 0, 0, 0, 0, 0, 1, 0, 1, 0, 1, 1, 0, 0, 1, 0, 1, 0, 0, 0, 0, 1, 0, 0, 0, 0, 0, 1, 0, 1, 1, 1, 0, 0, 1, 1, 0, 0, 1, 0, 1, 1, 0, 1, 1]\n",
      "answer raw len:  444 1\n"
     ]
    },
    {
     "name": "stderr",
     "output_type": "stream",
     "text": [
      "445it [25:00,  1.84s/it, BLEU2=0.319, BLEU1=0.384, ExactMatch=0.0245, METEOR=0.579, BertScore=nan, StubScore=0.377]"
     ]
    },
    {
     "name": "stdout",
     "output_type": "stream",
     "text": [
      "sim raw len:  1\n",
      "False\n",
      "В тексте 3.\n",
      "Очередной опыт с небольшими изменениями был подготовлен в лаборатории Беккереля.\n",
      "[0, 0, 0, 0, 0, 1, 1, 0, 1, 0, 1, 0, 1, 0, 0, 0, 0, 0, 1, 0, 1, 1, 0, 0, 1, 0, 0, 0, 1, 0, 0, 1, 0, 0, 0, 0, 0, 1, 0, 1, 0, 1, 1, 0, 0, 1, 0, 1, 0, 0, 0, 0, 1, 0, 0, 0, 0, 0, 1, 0, 1, 1, 1, 0, 0, 1, 1, 0, 0, 1, 0, 1, 1, 0, 1, 1, 0]\n",
      "answer raw len:  445 1\n"
     ]
    },
    {
     "name": "stderr",
     "output_type": "stream",
     "text": [
      "446it [25:03,  2.16s/it, BLEU2=0.319, BLEU1=0.384, ExactMatch=0.0245, METEOR=0.579, BertScore=nan, StubScore=0.385]"
     ]
    },
    {
     "name": "stdout",
     "output_type": "stream",
     "text": [
      "sim raw len:  1\n",
      "False\n",
      "Сообщение было сделано по телефону.\n",
      "24 февраля 1896 года на заседании Французской академии наук было сделано сообщение об излучении, производимых фосфоресценцией.\n",
      "[0, 0, 0, 0, 0, 1, 1, 0, 1, 0, 1, 0, 1, 0, 0, 0, 0, 0, 1, 0, 1, 1, 0, 0, 1, 0, 0, 0, 1, 0, 0, 1, 0, 0, 0, 0, 0, 1, 0, 1, 0, 1, 1, 0, 0, 1, 0, 1, 0, 0, 0, 0, 1, 0, 0, 0, 0, 0, 1, 0, 1, 1, 1, 0, 0, 1, 1, 0, 0, 1, 0, 1, 1, 0, 1, 1, 0, 1]\n"
     ]
    },
    {
     "name": "stderr",
     "output_type": "stream",
     "text": [
      "447it [25:05,  2.02s/it, BLEU2=0.319, BLEU1=0.384, ExactMatch=0.0244, METEOR=0.578, BertScore=nan, StubScore=0.385]"
     ]
    },
    {
     "name": "stdout",
     "output_type": "stream",
     "text": [
      "answer raw len:  446 1\n",
      "True\n",
      "Беккерель проявил пластину с урановой солью 1 марта 1896 года.\n",
      "1 марта Беккерель проявил пластинку, на которой лежала урановая соль.\n",
      "[0, 0, 0, 0, 0, 1, 1, 0, 1, 0, 1, 0, 1, 0, 0, 0, 0, 0, 1, 0, 1, 1, 0, 0, 1, 0, 0, 0, 1, 0, 0, 1, 0, 0, 0, 0, 0, 1, 0, 1, 0, 1, 1, 0, 0, 1, 0, 1, 0, 0, 0, 0, 1, 0, 0, 0, 0, 0, 1, 0, 1, 1, 1, 0, 0, 1, 1, 0, 0, 1, 0, 1, 1, 0, 1, 1, 0, 1]\n"
     ]
    },
    {
     "name": "stderr",
     "output_type": "stream",
     "text": [
      "448it [25:06,  1.81s/it, BLEU2=0.319, BLEU1=0.384, ExactMatch=0.0243, METEOR=0.577, BertScore=nan, StubScore=0.385]"
     ]
    },
    {
     "name": "stdout",
     "output_type": "stream",
     "text": [
      "answer raw len:  447 1\n",
      "True\n",
      "26 и 27 февраля 1896 года.\n",
      "24 февраля 1896 года было сделано сообщение Об излучении, производимых фосфоресценцией.\n",
      "[0, 0, 0, 0, 0, 1, 1, 0, 1, 0, 1, 0, 1, 0, 0, 0, 0, 0, 1, 0, 1, 1, 0, 0, 1, 0, 0, 0, 1, 0, 0, 1, 0, 0, 0, 0, 0, 1, 0, 1, 0, 1, 1, 0, 0, 1, 0, 1, 0, 0, 0, 0, 1, 0, 0, 0, 0, 0, 1, 0, 1, 1, 1, 0, 0, 1, 1, 0, 0, 1, 0, 1, 1, 0, 1, 1, 0, 1]\n"
     ]
    },
    {
     "name": "stderr",
     "output_type": "stream",
     "text": [
      "449it [25:10,  2.31s/it, BLEU2=0.318, BLEU1=0.383, ExactMatch=0.0243, METEOR=0.577, BertScore=nan, StubScore=0.385]"
     ]
    },
    {
     "name": "stdout",
     "output_type": "stream",
     "text": [
      "answer raw len:  448 1\n",
      "True\n",
      "24 февраля 2015 года международное рейтинговое агентство Standard & Poor's понизило долгосрочный и краткосрочный кредитный рейтинг ПАО КБ УБРиР до уровня B- и C соответственно и изменило прогноз на стабильный.\n",
      "Cуверенный кредитный рейтинг Российской Федерации по обязательствам в иностранной валюте на момент 24 февраля 2015 г. был понижен до уровня BB+/B.\n",
      "[0, 0, 0, 0, 0, 1, 1, 0, 1, 0, 1, 0, 1, 0, 0, 0, 0, 0, 1, 0, 1, 1, 0, 0, 1, 0, 0, 0, 1, 0, 0, 1, 0, 0, 0, 0, 0, 1, 0, 1, 0, 1, 1, 0, 0, 1, 0, 1, 0, 0, 0, 0, 1, 0, 0, 0, 0, 0, 1, 0, 1, 1, 1, 0, 0, 1, 1, 0, 0, 1, 0, 1, 1, 0, 1, 1, 0, 1]\n"
     ]
    },
    {
     "name": "stderr",
     "output_type": "stream",
     "text": [
      "450it [25:11,  2.09s/it, BLEU2=0.319, BLEU1=0.384, ExactMatch=0.0242, METEOR=0.577, BertScore=nan, StubScore=0.385]"
     ]
    },
    {
     "name": "stdout",
     "output_type": "stream",
     "text": [
      "answer raw len:  449 1\n",
      "True\n",
      "Оценка отраслевых и страновых рисков для банковского сектора России была снижена до 8.\n",
      "Оценка отраслевых и страновых рисков банковского сектора Российской Федерации была понижена до 8.\n",
      "[0, 0, 0, 0, 0, 1, 1, 0, 1, 0, 1, 0, 1, 0, 0, 0, 0, 0, 1, 0, 1, 1, 0, 0, 1, 0, 0, 0, 1, 0, 0, 1, 0, 0, 0, 0, 0, 1, 0, 1, 0, 1, 1, 0, 0, 1, 0, 1, 0, 0, 0, 0, 1, 0, 0, 0, 0, 0, 1, 0, 1, 1, 1, 0, 0, 1, 1, 0, 0, 1, 0, 1, 1, 0, 1, 1, 0, 1]\n"
     ]
    },
    {
     "name": "stderr",
     "output_type": "stream",
     "text": [
      "451it [25:15,  2.69s/it, BLEU2=0.32, BLEU1=0.385, ExactMatch=0.0241, METEOR=0.578, BertScore=nan, StubScore=0.385] "
     ]
    },
    {
     "name": "stdout",
     "output_type": "stream",
     "text": [
      "answer raw len:  450 1\n",
      "True\n",
      "24 февраля 2015 года международное рейтинговое агентство Standard & Poor's понизило долгосрочный и краткосрочный кредитный рейтинг ПАО КБ УБРиР до уровня B- и C соответственно и изменило прогноз на стабильный.\n",
      "Международное рейтинговое агентство S&P 24 февраля 2015 г. понизило долгосрочный и краткосрочный кредитный рейтинг ПАО КБ УБРиР до уровня B- и C соответственно и изменило прогноз на Стабильный.\n",
      "[0, 0, 0, 0, 0, 1, 1, 0, 1, 0, 1, 0, 1, 0, 0, 0, 0, 0, 1, 0, 1, 1, 0, 0, 1, 0, 0, 0, 1, 0, 0, 1, 0, 0, 0, 0, 0, 1, 0, 1, 0, 1, 1, 0, 0, 1, 0, 1, 0, 0, 0, 0, 1, 0, 0, 0, 0, 0, 1, 0, 1, 1, 1, 0, 0, 1, 1, 0, 0, 1, 0, 1, 1, 0, 1, 1, 0, 1]\n"
     ]
    },
    {
     "name": "stderr",
     "output_type": "stream",
     "text": [
      "452it [25:16,  2.10s/it, BLEU2=0.319, BLEU1=0.384, ExactMatch=0.0241, METEOR=0.577, BertScore=nan, StubScore=0.385]"
     ]
    },
    {
     "name": "stdout",
     "output_type": "stream",
     "text": [
      "answer raw len:  451 1\n",
      "True\n",
      "24 февраля 2015 года.\n",
      "24 февраля 2015 г. международное рейтинговое Standard & Poor’s понизило долгосрочный и краткосрочный кредитный рейтинг ПАО КБ УБРиР до уровня B- и C соответственно и изменило прогноз на Стабильный.\n",
      "[0, 0, 0, 0, 0, 1, 1, 0, 1, 0, 1, 0, 1, 0, 0, 0, 0, 0, 1, 0, 1, 1, 0, 0, 1, 0, 0, 0, 1, 0, 0, 1, 0, 0, 0, 0, 0, 1, 0, 1, 0, 1, 1, 0, 0, 1, 0, 1, 0, 0, 0, 0, 1, 0, 0, 0, 0, 0, 1, 0, 1, 1, 1, 0, 0, 1, 1, 0, 0, 1, 0, 1, 1, 0, 1, 1, 0, 1]\n"
     ]
    },
    {
     "name": "stderr",
     "output_type": "stream",
     "text": [
      "453it [25:24,  3.85s/it, BLEU2=0.32, BLEU1=0.385, ExactMatch=0.024, METEOR=0.577, BertScore=nan, StubScore=0.385]  "
     ]
    },
    {
     "name": "stdout",
     "output_type": "stream",
     "text": [
      "answer raw len:  452 1\n",
      "True\n",
      "16 апреля 2014 года международное рейтинговое агентство Standard & Poor’s понизило долгосрочный и краткосрочный кредитный рейтинг ПАО КБ УБРиР до уровня B- и C соответственно и изменило прогноз на стабильный. Пересмотр рейтинга был вызван снижением суверенного кредитного рейтинга Российской Федерации по обязательствам в иностранной валюте до BB+/B, снижением оценки отраслевых и страновых рисков банковского сектора Российской Федерации до 8 и снижением базовой оценки банков, работающих в Российской Федерации, до bb-.\n",
      "Пересмотр рейтинга международным рейтинговым агентством Standard & Poor’s по отношению к ПАО КБ УБРиР обусловлен понижением суверенного кредитного рейтинга Российской Федерации по обязательствам в иностранной валюте до BB+/B, понижением оценки отраслевых и страновых рисков банковского сектора Российской Федерации до 8 и понижением базового уровня рейтинга банков, действующих в Российской Федерации, до bb-.\n",
      "[0, 0, 0, 0, 0, 1, 1, 0, 1, 0, 1, 0, 1, 0, 0, 0, 0, 0, 1, 0, 1, 1, 0, 0, 1, 0, 0, 0, 1, 0, 0, 1, 0, 0, 0, 0, 0, 1, 0, 1, 0, 1, 1, 0, 0, 1, 0, 1, 0, 0, 0, 0, 1, 0, 0, 0, 0, 0, 1, 0, 1, 1, 1, 0, 0, 1, 1, 0, 0, 1, 0, 1, 1, 0, 1, 1, 0, 1]\n"
     ]
    },
    {
     "name": "stderr",
     "output_type": "stream",
     "text": [
      "454it [25:26,  3.16s/it, BLEU2=0.319, BLEU1=0.384, ExactMatch=0.0239, METEOR=0.576, BertScore=nan, StubScore=0.385]"
     ]
    },
    {
     "name": "stdout",
     "output_type": "stream",
     "text": [
      "answer raw len:  453 1\n",
      "True\n",
      "Лицензирование предпринимательской деятельности появилось в России 25 декабря 1990 года.\n",
      "1990 в РФ появиась лицензия на предпринимательскую деятельность.\n",
      "[0, 0, 0, 0, 0, 1, 1, 0, 1, 0, 1, 0, 1, 0, 0, 0, 0, 0, 1, 0, 1, 1, 0, 0, 1, 0, 0, 0, 1, 0, 0, 1, 0, 0, 0, 0, 0, 1, 0, 1, 0, 1, 1, 0, 0, 1, 0, 1, 0, 0, 0, 0, 1, 0, 0, 0, 0, 0, 1, 0, 1, 1, 1, 0, 0, 1, 1, 0, 0, 1, 0, 1, 1, 0, 1, 1, 0, 1]\n"
     ]
    },
    {
     "name": "stderr",
     "output_type": "stream",
     "text": [
      "455it [25:26,  2.45s/it, BLEU2=0.318, BLEU1=0.383, ExactMatch=0.0239, METEOR=0.576, BertScore=nan, StubScore=0.385]"
     ]
    },
    {
     "name": "stdout",
     "output_type": "stream",
     "text": [
      "answer raw len:  454 1\n",
      "True\n",
      "25 декабря 1990 года.\n",
      "25 декабря 1990 года - точная дата, когда появилось понятие о лицензировании предпринимательской деятельности.\n",
      "[0, 0, 0, 0, 0, 1, 1, 0, 1, 0, 1, 0, 1, 0, 0, 0, 0, 0, 1, 0, 1, 1, 0, 0, 1, 0, 0, 0, 1, 0, 0, 1, 0, 0, 0, 0, 0, 1, 0, 1, 0, 1, 1, 0, 0, 1, 0, 1, 0, 0, 0, 0, 1, 0, 0, 0, 0, 0, 1, 0, 1, 1, 1, 0, 0, 1, 1, 0, 0, 1, 0, 1, 1, 0, 1, 1, 0, 1]\n"
     ]
    },
    {
     "name": "stderr",
     "output_type": "stream",
     "text": [
      "456it [25:28,  2.20s/it, BLEU2=0.318, BLEU1=0.384, ExactMatch=0.0238, METEOR=0.575, BertScore=nan, StubScore=0.385]"
     ]
    },
    {
     "name": "stdout",
     "output_type": "stream",
     "text": [
      "answer raw len:  455 1\n",
      "True\n",
      "4 пункт статьи 21 Закона РСФСР об предприятиях и предпринимательской деятельности.\n",
      "4 пункт ст. 21 Закона РСФСР О предприятиях и предпринимательской деятельности назывался \"Лицензирование отдельных видов предпринимательской деятельности\".\n",
      "[0, 0, 0, 0, 0, 1, 1, 0, 1, 0, 1, 0, 1, 0, 0, 0, 0, 0, 1, 0, 1, 1, 0, 0, 1, 0, 0, 0, 1, 0, 0, 1, 0, 0, 0, 0, 0, 1, 0, 1, 0, 1, 1, 0, 0, 1, 0, 1, 0, 0, 0, 0, 1, 0, 0, 0, 0, 0, 1, 0, 1, 1, 1, 0, 0, 1, 1, 0, 0, 1, 0, 1, 1, 0, 1, 1, 0, 1]\n"
     ]
    },
    {
     "name": "stderr",
     "output_type": "stream",
     "text": [
      "457it [25:29,  1.74s/it, BLEU2=0.318, BLEU1=0.383, ExactMatch=0.0237, METEOR=0.574, BertScore=nan, StubScore=0.385]"
     ]
    },
    {
     "name": "stdout",
     "output_type": "stream",
     "text": [
      "answer raw len:  456 1\n",
      "True\n",
      "У меня нет ответа на ваш вопрос.\n",
      "Предполагалось, что перечень видов предпринимательской деятельности, подлежащих лицензированию после 25 декабря 1990 в РСФСР будет определен Правительством Российской Федерации.\n",
      "[0, 0, 0, 0, 0, 1, 1, 0, 1, 0, 1, 0, 1, 0, 0, 0, 0, 0, 1, 0, 1, 1, 0, 0, 1, 0, 0, 0, 1, 0, 0, 1, 0, 0, 0, 0, 0, 1, 0, 1, 0, 1, 1, 0, 0, 1, 0, 1, 0, 0, 0, 0, 1, 0, 0, 0, 0, 0, 1, 0, 1, 1, 1, 0, 0, 1, 1, 0, 0, 1, 0, 1, 1, 0, 1, 1, 0, 1]\n"
     ]
    },
    {
     "name": "stderr",
     "output_type": "stream",
     "text": [
      "458it [26:10, 13.50s/it, BLEU2=0.317, BLEU1=0.382, ExactMatch=0.0237, METEOR=0.573, BertScore=nan, StubScore=0.385]"
     ]
    },
    {
     "name": "stdout",
     "output_type": "stream",
     "text": [
      "answer raw len:  457 1\n",
      "True\n",
      "1. [90.699] 25 декабря 1990 года появилось понятие лицензирования предпринимательской деятельности. Согласно 4 пункту статьи 21 Закона РСФСР \"О предприятиях и предпринимательской деятельности\" начала действовать норма, предусматривающая такое лицензирование. Эта норма устанавливала, что отдельные виды деятельности предпринимателей в Российской Федерации могут осуществляться только на основании лицензии (специального разрешения компетентных органов). Предполагалось, что перечень видов предпринимательской деятельности, подлежащих лицензированию, будет определяться Правительством Российской Федерации.\n",
      "\n",
      "2. [61.182] Федеральный закон \"О государственном регулировании торговой деятельности в Российской Федерации\" № 381-ФЗ от 28 декабря 2009 года (Закон о торговле) вступил в силу с 1 февраля 2010 года. Закон направлен на упорядочение отношений, связанных с организацией торговой деятельности на территории Российской Федерации, в целях создания прозрачного и предсказуемого порядка осуществления торговой деятельности, устранения недобросовестных практик и давления на контрагентов со стороны торговых сетей и поставщиков, а также устранения излишних административных барьеров в торговле, поддержки малого и среднего бизнеса в сфере торговли и производства продовольственных товаров.\n",
      "\n",
      "3. [75.368] Условия для обособления оперативного учёта от инвентарного сложились лишь в тот момент, когда усложнение технологических процессов на производстве в начале XX века привело к бурному развитию нормативного учёта затрат, калькуляции себестоимости и, как следствие, к появлению управленческого учёта. Как самостоятельная форма хозяйственного учёта оперативно-технический учёт впервые возник в СССР при попытках советских экономистов разработать принципиально новый метод управления издержками, коренным образом отличающийся от системы стандарт-кост, которая практиковалась в англо-саксонских странах. Это был нормативный учёт, изначально, с конца 1920-х гг. по 1938 г., применявшийся в массовом машиностроении в виде подетально-операционного метода калькулирования [3]. В таком значении оперативно-технический учёт указан в решениях XVI конференции ВКП(б) (1929 г.), когда было поставлено требование установления единства бухгалтерского, оперативного и статистического учёта [4]. В последующий советский период оперативный учёт охватывал регистрацию событий в хозяйственной жизни предприятий.\n",
      "Согласно 4 пункту ст. 21 Закона РСФСР О предприятиях и предпринимательской деятельности предпринимательская деятельность в Российской Федерации должна была осуществляться на основании лицензии (специального разрешения компетентных органов).\n",
      "[0, 0, 0, 0, 0, 1, 1, 0, 1, 0, 1, 0, 1, 0, 0, 0, 0, 0, 1, 0, 1, 1, 0, 0, 1, 0, 0, 0, 1, 0, 0, 1, 0, 0, 0, 0, 0, 1, 0, 1, 0, 1, 1, 0, 0, 1, 0, 1, 0, 0, 0, 0, 1, 0, 0, 0, 0, 0, 1, 0, 1, 1, 1, 0, 0, 1, 1, 0, 0, 1, 0, 1, 1, 0, 1, 1, 0, 1]\n"
     ]
    },
    {
     "name": "stderr",
     "output_type": "stream",
     "text": [
      "459it [26:12, 10.05s/it, BLEU2=0.318, BLEU1=0.382, ExactMatch=0.0236, METEOR=0.574, BertScore=nan, StubScore=0.385]"
     ]
    },
    {
     "name": "stdout",
     "output_type": "stream",
     "text": [
      "answer raw len:  458 1\n",
      "True\n",
      "Игорь Хомич работал в группе Калинов Мост во время записи альбома \"Sva\".\n",
      "В период записи альбома SWA Игорь Хомич работал в группе Калинов Мост.\n",
      "[0, 0, 0, 0, 0, 1, 1, 0, 1, 0, 1, 0, 1, 0, 0, 0, 0, 0, 1, 0, 1, 1, 0, 0, 1, 0, 0, 0, 1, 0, 0, 1, 0, 0, 0, 0, 0, 1, 0, 1, 0, 1, 1, 0, 0, 1, 0, 1, 0, 0, 0, 0, 1, 0, 0, 0, 0, 0, 1, 0, 1, 1, 1, 0, 0, 1, 1, 0, 0, 1, 0, 1, 1, 0, 1, 1, 0, 1]\n",
      "answer raw len:  459 1\n"
     ]
    },
    {
     "name": "stderr",
     "output_type": "stream",
     "text": [
      "460it [26:16,  8.26s/it, BLEU2=0.318, BLEU1=0.382, ExactMatch=0.0236, METEOR=0.574, BertScore=nan, StubScore=0.38] "
     ]
    },
    {
     "name": "stdout",
     "output_type": "stream",
     "text": [
      "sim raw len:  1\n",
      "False\n",
      "Е. Маргулис покинул группу \"Машина времени\" в 1979 году.\n",
      "25 июня 2012 Е. Маргулис покинул группу Машина времени.\n",
      "[0, 0, 0, 0, 0, 1, 1, 0, 1, 0, 1, 0, 1, 0, 0, 0, 0, 0, 1, 0, 1, 1, 0, 0, 1, 0, 0, 0, 1, 0, 0, 1, 0, 0, 0, 0, 0, 1, 0, 1, 0, 1, 1, 0, 0, 1, 0, 1, 0, 0, 0, 0, 1, 0, 0, 0, 0, 0, 1, 0, 1, 1, 1, 0, 0, 1, 1, 0, 0, 1, 0, 1, 1, 0, 1, 1, 0, 1, 0]\n",
      "answer raw len:  460 1\n"
     ]
    },
    {
     "name": "stderr",
     "output_type": "stream",
     "text": [
      "461it [26:20,  6.98s/it, BLEU2=0.318, BLEU1=0.382, ExactMatch=0.0236, METEOR=0.574, BertScore=nan, StubScore=0.375]"
     ]
    },
    {
     "name": "stdout",
     "output_type": "stream",
     "text": [
      "sim raw len:  1\n",
      "False\n",
      "Первый концерт группы \"Машина времени\" с участием Игоря Хомича состоялся в 1980 году.\n",
      "Первые выступления группы Машина времени при участии Игоря Хомича состоялись 1 сентября 2012 г.\n",
      "[0, 0, 0, 0, 0, 1, 1, 0, 1, 0, 1, 0, 1, 0, 0, 0, 0, 0, 1, 0, 1, 1, 0, 0, 1, 0, 0, 0, 1, 0, 0, 1, 0, 0, 0, 0, 0, 1, 0, 1, 0, 1, 1, 0, 0, 1, 0, 1, 0, 0, 0, 0, 1, 0, 0, 0, 0, 0, 1, 0, 1, 1, 1, 0, 0, 1, 1, 0, 0, 1, 0, 1, 1, 0, 1, 1, 0, 1, 0, 0]\n"
     ]
    },
    {
     "name": "stderr",
     "output_type": "stream",
     "text": [
      "462it [26:22,  5.57s/it, BLEU2=0.318, BLEU1=0.383, ExactMatch=0.0236, METEOR=0.575, BertScore=nan, StubScore=0.375]"
     ]
    },
    {
     "name": "stdout",
     "output_type": "stream",
     "text": [
      "answer raw len:  461 1\n",
      "True\n",
      "Игорь Хомич занял вакантное место гитариста в группе \"Машина времени\" после ухода Маргулиса.\n",
      "Вакантное место гитариста в группе Машина времени после ухода Маргулиса занял Игорь Хомич.\n",
      "[0, 0, 0, 0, 0, 1, 1, 0, 1, 0, 1, 0, 1, 0, 0, 0, 0, 0, 1, 0, 1, 1, 0, 0, 1, 0, 0, 0, 1, 0, 0, 1, 0, 0, 0, 0, 0, 1, 0, 1, 0, 1, 1, 0, 0, 1, 0, 1, 0, 0, 0, 0, 1, 0, 0, 0, 0, 0, 1, 0, 1, 1, 1, 0, 0, 1, 1, 0, 0, 1, 0, 1, 1, 0, 1, 1, 0, 1, 0, 0]\n"
     ]
    },
    {
     "name": "stderr",
     "output_type": "stream",
     "text": [
      "463it [26:24,  4.51s/it, BLEU2=0.318, BLEU1=0.383, ExactMatch=0.0235, METEOR=0.575, BertScore=nan, StubScore=0.375]"
     ]
    },
    {
     "name": "stdout",
     "output_type": "stream",
     "text": [
      "answer raw len:  462 1\n",
      "True\n",
      "Евгений Маргулис покинул группу \"Машина времени\" 25 июня 2012 года.\n",
      "25 июня 2012 года группу Машина времени покинул Е. Маргулис.\n",
      "[0, 0, 0, 0, 0, 1, 1, 0, 1, 0, 1, 0, 1, 0, 0, 0, 0, 0, 1, 0, 1, 1, 0, 0, 1, 0, 0, 0, 1, 0, 0, 1, 0, 0, 0, 0, 0, 1, 0, 1, 0, 1, 1, 0, 0, 1, 0, 1, 0, 0, 0, 0, 1, 0, 0, 0, 0, 0, 1, 0, 1, 1, 1, 0, 0, 1, 1, 0, 0, 1, 0, 1, 1, 0, 1, 1, 0, 1, 0, 0]\n"
     ]
    },
    {
     "name": "stderr",
     "output_type": "stream",
     "text": [
      "464it [26:27,  3.93s/it, BLEU2=0.317, BLEU1=0.383, ExactMatch=0.0234, METEOR=0.574, BertScore=nan, StubScore=0.375]"
     ]
    },
    {
     "name": "stdout",
     "output_type": "stream",
     "text": [
      "answer raw len:  463 1\n",
      "True\n",
      "Провал грунта на железнодорожной станции Березники имел глубину 20 метров, ширину 50 метров и длину 50 метров.\n",
      "На территории вокзала образовался новый провал земляного полотна глубиной 20 метров.\n",
      "[0, 0, 0, 0, 0, 1, 1, 0, 1, 0, 1, 0, 1, 0, 0, 0, 0, 0, 1, 0, 1, 1, 0, 0, 1, 0, 0, 0, 1, 0, 0, 1, 0, 0, 0, 0, 0, 1, 0, 1, 0, 1, 1, 0, 0, 1, 0, 1, 0, 0, 0, 0, 1, 0, 0, 0, 0, 0, 1, 0, 1, 1, 1, 0, 0, 1, 1, 0, 0, 1, 0, 1, 1, 0, 1, 1, 0, 1, 0, 0]\n"
     ]
    },
    {
     "name": "stderr",
     "output_type": "stream",
     "text": [
      "465it [26:29,  3.35s/it, BLEU2=0.316, BLEU1=0.382, ExactMatch=0.0234, METEOR=0.574, BertScore=nan, StubScore=0.375]"
     ]
    },
    {
     "name": "stdout",
     "output_type": "stream",
     "text": [
      "answer raw len:  464 1\n",
      "True\n",
      "Провал грунта на железнодорожной станции Березники имел размеры 100 на 40 метров.\n",
      "Провал был шириной около 50 метров и протяжённостью около 50 метров.\n",
      "[0, 0, 0, 0, 0, 1, 1, 0, 1, 0, 1, 0, 1, 0, 0, 0, 0, 0, 1, 0, 1, 1, 0, 0, 1, 0, 0, 0, 1, 0, 0, 1, 0, 0, 0, 0, 0, 1, 0, 1, 0, 1, 1, 0, 0, 1, 0, 1, 0, 0, 0, 0, 1, 0, 0, 0, 0, 0, 1, 0, 1, 1, 1, 0, 0, 1, 1, 0, 0, 1, 0, 1, 1, 0, 1, 1, 0, 1, 0, 0]\n"
     ]
    },
    {
     "name": "stderr",
     "output_type": "stream",
     "text": [
      "466it [26:30,  2.84s/it, BLEU2=0.317, BLEU1=0.383, ExactMatch=0.0233, METEOR=0.574, BertScore=nan, StubScore=0.375]"
     ]
    },
    {
     "name": "stdout",
     "output_type": "stream",
     "text": [
      "answer raw len:  465 1\n",
      "True\n",
      "Провал грунта на территории вокзала образовался 25 ноября 2010 года.\n",
      "25 ноября 2010 на территории вокзала образовался новый провал земляного полотна.\n",
      "[0, 0, 0, 0, 0, 1, 1, 0, 1, 0, 1, 0, 1, 0, 0, 0, 0, 0, 1, 0, 1, 1, 0, 0, 1, 0, 0, 0, 1, 0, 0, 1, 0, 0, 0, 0, 0, 1, 0, 1, 0, 1, 1, 0, 0, 1, 0, 1, 0, 0, 0, 0, 1, 0, 0, 0, 0, 0, 1, 0, 1, 1, 1, 0, 0, 1, 1, 0, 0, 1, 0, 1, 1, 0, 1, 1, 0, 1, 0, 0]\n"
     ]
    },
    {
     "name": "stderr",
     "output_type": "stream",
     "text": [
      "467it [26:31,  2.34s/it, BLEU2=0.317, BLEU1=0.383, ExactMatch=0.0233, METEOR=0.574, BertScore=nan, StubScore=0.375]"
     ]
    },
    {
     "name": "stdout",
     "output_type": "stream",
     "text": [
      "answer raw len:  466 1\n",
      "True\n",
      "Провал образовался недалеко от железнодорожного вокзала в городе Березники.\n",
      "Провал образовался на станции Березники.\n",
      "[0, 0, 0, 0, 0, 1, 1, 0, 1, 0, 1, 0, 1, 0, 0, 0, 0, 0, 1, 0, 1, 1, 0, 0, 1, 0, 0, 0, 1, 0, 0, 1, 0, 0, 0, 0, 0, 1, 0, 1, 0, 1, 1, 0, 0, 1, 0, 1, 0, 0, 0, 0, 1, 0, 0, 0, 0, 0, 1, 0, 1, 1, 1, 0, 0, 1, 1, 0, 0, 1, 0, 1, 1, 0, 1, 1, 0, 1, 0, 0]\n"
     ]
    },
    {
     "name": "stderr",
     "output_type": "stream",
     "text": [
      "468it [26:46,  6.13s/it, BLEU2=0.316, BLEU1=0.382, ExactMatch=0.0232, METEOR=0.573, BertScore=nan, StubScore=0.375]"
     ]
    },
    {
     "name": "stdout",
     "output_type": "stream",
     "text": [
      "answer raw len:  467 1\n",
      "True\n",
      "1. [70.808] 25 ноября 2010 года в городе на территории железнодорожного вокзала образовался новый провал глубиной 20 метров, шириной 50 метров и длиной 50 метров. В него провалился один из железнодорожных вагонов.\n",
      "\n",
      "2. [70.496] На Курейской плотине в 1993 году резко возрос фильтрационный расход через насыпь, что привело к вымыванию мелкозернистого грунта и образованию провала.\n",
      "\n",
      "3. [90.81] В середине октября 2006 года одна из шахт БКРУ-1 на Уралкалии затонула, а в середине лета (конец июля 2007 года) над выработками образовался провал.\n",
      "В него провалился один из вагонов железнодорожного состава.\n",
      "[0, 0, 0, 0, 0, 1, 1, 0, 1, 0, 1, 0, 1, 0, 0, 0, 0, 0, 1, 0, 1, 1, 0, 0, 1, 0, 0, 0, 1, 0, 0, 1, 0, 0, 0, 0, 0, 1, 0, 1, 0, 1, 1, 0, 0, 1, 0, 1, 0, 0, 0, 0, 1, 0, 0, 0, 0, 0, 1, 0, 1, 1, 1, 0, 0, 1, 1, 0, 0, 1, 0, 1, 1, 0, 1, 1, 0, 1, 0, 0]\n"
     ]
    },
    {
     "name": "stderr",
     "output_type": "stream",
     "text": [
      "469it [26:48,  4.76s/it, BLEU2=0.316, BLEU1=0.382, ExactMatch=0.0231, METEOR=0.573, BertScore=nan, StubScore=0.375]"
     ]
    },
    {
     "name": "stdout",
     "output_type": "stream",
     "text": [
      "answer raw len:  468 1\n",
      "True\n",
      "Омская губерния РСФСР существовала с 1919 по 1925 год.\n",
      "Омская губерния РСФСР существовала в 1919—1925 гг.\n",
      "[0, 0, 0, 0, 0, 1, 1, 0, 1, 0, 1, 0, 1, 0, 0, 0, 0, 0, 1, 0, 1, 1, 0, 0, 1, 0, 0, 0, 1, 0, 0, 1, 0, 0, 0, 0, 0, 1, 0, 1, 0, 1, 1, 0, 0, 1, 0, 1, 0, 0, 0, 0, 1, 0, 0, 0, 0, 0, 1, 0, 1, 1, 1, 0, 0, 1, 1, 0, 0, 1, 0, 1, 1, 0, 1, 1, 0, 1, 0, 0]\n"
     ]
    },
    {
     "name": "stderr",
     "output_type": "stream",
     "text": [
      "470it [26:50,  3.99s/it, BLEU2=0.317, BLEU1=0.383, ExactMatch=0.0231, METEOR=0.574, BertScore=nan, StubScore=0.375]"
     ]
    },
    {
     "name": "stdout",
     "output_type": "stream",
     "text": [
      "answer raw len:  469 1\n",
      "True\n",
      "В городе Петропавловск вышло постановление Чрезвычайной Полномочной Комиссии КазЦИК о приеме и организации Акмолинской губернии с административным центром.\n",
      "Постановление Чрезвычайной полномочной комиссии КазЦИК о приёме и организации Акмолинской губернии с административным центром вышло в городе Петропавловск.\n",
      "[0, 0, 0, 0, 0, 1, 1, 0, 1, 0, 1, 0, 1, 0, 0, 0, 0, 0, 1, 0, 1, 1, 0, 0, 1, 0, 0, 0, 1, 0, 0, 1, 0, 0, 0, 0, 0, 1, 0, 1, 0, 1, 1, 0, 0, 1, 0, 1, 0, 0, 0, 0, 1, 0, 0, 0, 0, 0, 1, 0, 1, 1, 1, 0, 0, 1, 1, 0, 0, 1, 0, 1, 1, 0, 1, 1, 0, 1, 0, 0]\n"
     ]
    },
    {
     "name": "stderr",
     "output_type": "stream",
     "text": [
      "471it [26:55,  4.25s/it, BLEU2=0.316, BLEU1=0.382, ExactMatch=0.023, METEOR=0.573, BertScore=nan, StubScore=0.375] "
     ]
    },
    {
     "name": "stdout",
     "output_type": "stream",
     "text": [
      "answer raw len:  470 1\n",
      "True\n",
      "[89.055] 26 августа 1920 года был подписан указ ВЦИК и СНК РСФСР об образовании Автономной Киргизской Республики (1920-1925 годы), которая позже стала известна как Казахская АССР.\n",
      "Впоследствии Автономную Киргизскую республику назвали как казакская АССР.\n",
      "[0, 0, 0, 0, 0, 1, 1, 0, 1, 0, 1, 0, 1, 0, 0, 0, 0, 0, 1, 0, 1, 1, 0, 0, 1, 0, 0, 0, 1, 0, 0, 1, 0, 0, 0, 0, 0, 1, 0, 1, 0, 1, 1, 0, 0, 1, 0, 1, 0, 0, 0, 0, 1, 0, 0, 0, 0, 0, 1, 0, 1, 1, 1, 0, 0, 1, 1, 0, 0, 1, 0, 1, 1, 0, 1, 1, 0, 1, 0, 0]\n"
     ]
    },
    {
     "name": "stderr",
     "output_type": "stream",
     "text": [
      "472it [26:58,  3.78s/it, BLEU2=0.317, BLEU1=0.383, ExactMatch=0.023, METEOR=0.575, BertScore=nan, StubScore=0.375]"
     ]
    },
    {
     "name": "stdout",
     "output_type": "stream",
     "text": [
      "answer raw len:  471 1\n",
      "True\n",
      "Декрет ВЦИК и СНК РСФСР об образовании Автономной Киргизской Республики был подписан 26 августа 1920 года.\n",
      "26 августа 1920 года был подписан декрет ВЦИК и СНК РСФСР об образовании Автономной Киргизской республики.\n",
      "[0, 0, 0, 0, 0, 1, 1, 0, 1, 0, 1, 0, 1, 0, 0, 0, 0, 0, 1, 0, 1, 1, 0, 0, 1, 0, 0, 0, 1, 0, 0, 1, 0, 0, 0, 0, 0, 1, 0, 1, 0, 1, 1, 0, 0, 1, 0, 1, 0, 0, 0, 0, 1, 0, 0, 0, 0, 0, 1, 0, 1, 1, 1, 0, 0, 1, 1, 0, 0, 1, 0, 1, 1, 0, 1, 1, 0, 1, 0, 0]\n"
     ]
    },
    {
     "name": "stderr",
     "output_type": "stream",
     "text": [
      "473it [27:01,  3.57s/it, BLEU2=0.318, BLEU1=0.384, ExactMatch=0.0229, METEOR=0.575, BertScore=nan, StubScore=0.375]"
     ]
    },
    {
     "name": "stdout",
     "output_type": "stream",
     "text": [
      "answer raw len:  472 1\n",
      "True\n",
      "Постановление Чрезвычайной Полномочной Комиссии КазЦИК о принятии и организации Акмолинской губернии с административным центром в городе Петропавловск было выпущено 26 апреля 1921 года.\n",
      "26 апреля 1921 года вышло постановление Чрезвычайной полномочной комиссии КазЦИК о приёме и организации Акмолинской губернии с административным центром в городе Петропавловск.\n",
      "[0, 0, 0, 0, 0, 1, 1, 0, 1, 0, 1, 0, 1, 0, 0, 0, 0, 0, 1, 0, 1, 1, 0, 0, 1, 0, 0, 0, 1, 0, 0, 1, 0, 0, 0, 0, 0, 1, 0, 1, 0, 1, 1, 0, 0, 1, 0, 1, 0, 0, 0, 0, 1, 0, 0, 0, 0, 0, 1, 0, 1, 1, 1, 0, 0, 1, 1, 0, 0, 1, 0, 1, 1, 0, 1, 1, 0, 1, 0, 0]\n"
     ]
    },
    {
     "name": "stderr",
     "output_type": "stream",
     "text": [
      "474it [27:02,  2.91s/it, BLEU2=0.317, BLEU1=0.383, ExactMatch=0.0228, METEOR=0.574, BertScore=nan, StubScore=0.375]"
     ]
    },
    {
     "name": "stdout",
     "output_type": "stream",
     "text": [
      "answer raw len:  473 1\n",
      "True\n",
      "Маркиз де Лафайет получил звание бригадного генерала.\n",
      "Маркизу де Ла Файету присвоили чин Генерал-майора.\n",
      "[0, 0, 0, 0, 0, 1, 1, 0, 1, 0, 1, 0, 1, 0, 0, 0, 0, 0, 1, 0, 1, 1, 0, 0, 1, 0, 0, 0, 1, 0, 0, 1, 0, 0, 0, 0, 0, 1, 0, 1, 0, 1, 1, 0, 0, 1, 0, 1, 0, 0, 0, 0, 1, 0, 0, 0, 0, 0, 1, 0, 1, 1, 1, 0, 0, 1, 1, 0, 0, 1, 0, 1, 1, 0, 1, 1, 0, 1, 0, 0]\n"
     ]
    },
    {
     "name": "stderr",
     "output_type": "stream",
     "text": [
      "475it [27:04,  2.68s/it, BLEU2=0.317, BLEU1=0.384, ExactMatch=0.0228, METEOR=0.575, BertScore=nan, StubScore=0.375]"
     ]
    },
    {
     "name": "stdout",
     "output_type": "stream",
     "text": [
      "answer raw len:  474 1\n",
      "True\n",
      "Конгресс принял услуги маркиза де Лафайета 31 июля 1777 года.\n",
      "Конгресс постановил принять услуги маркиза де Ла Файета 31 июля 1777 года.\n",
      "[0, 0, 0, 0, 0, 1, 1, 0, 1, 0, 1, 0, 1, 0, 0, 0, 0, 0, 1, 0, 1, 1, 0, 0, 1, 0, 0, 0, 1, 0, 0, 1, 0, 0, 0, 0, 0, 1, 0, 1, 0, 1, 1, 0, 0, 1, 0, 1, 0, 0, 0, 0, 1, 0, 0, 0, 0, 0, 1, 0, 1, 1, 1, 0, 0, 1, 1, 0, 0, 1, 0, 1, 1, 0, 1, 1, 0, 1, 0, 0]\n"
     ]
    },
    {
     "name": "stderr",
     "output_type": "stream",
     "text": [
      "476it [27:08,  3.11s/it, BLEU2=0.317, BLEU1=0.383, ExactMatch=0.0227, METEOR=0.575, BertScore=nan, StubScore=0.375]"
     ]
    },
    {
     "name": "stdout",
     "output_type": "stream",
     "text": [
      "answer raw len:  475 1\n",
      "True\n",
      "Маркиз де Лафайет ступил на американскую землю 26 апреля 1777 года в бухте Джорджтауна, недалеко от города Чарльстон, штат Южная Каролина.\n",
      "15 июня 1777 года маркиз де Ла Файе ступил на американскую землю.\n",
      "[0, 0, 0, 0, 0, 1, 1, 0, 1, 0, 1, 0, 1, 0, 0, 0, 0, 0, 1, 0, 1, 1, 0, 0, 1, 0, 0, 0, 1, 0, 0, 1, 0, 0, 0, 0, 0, 1, 0, 1, 0, 1, 1, 0, 0, 1, 0, 1, 0, 0, 0, 0, 1, 0, 0, 0, 0, 0, 1, 0, 1, 1, 1, 0, 0, 1, 1, 0, 0, 1, 0, 1, 1, 0, 1, 1, 0, 1, 0, 0]\n"
     ]
    },
    {
     "name": "stderr",
     "output_type": "stream",
     "text": [
      "477it [27:11,  2.92s/it, BLEU2=0.317, BLEU1=0.383, ExactMatch=0.0227, METEOR=0.574, BertScore=nan, StubScore=0.375]"
     ]
    },
    {
     "name": "stdout",
     "output_type": "stream",
     "text": [
      "answer raw len:  476 1\n",
      "True\n",
      "Маркиз де Лафайет отплыл к берегам Америки 26 апреля 1777 года.\n",
      "26 апреля 1777 года маркиз де Ла Файет с другими 15 французскими офицерами отплыл на корабле Виктуар из испанского порта Пасахес к берегам Америки.\n",
      "[0, 0, 0, 0, 0, 1, 1, 0, 1, 0, 1, 0, 1, 0, 0, 0, 0, 0, 1, 0, 1, 1, 0, 0, 1, 0, 0, 0, 1, 0, 0, 1, 0, 0, 0, 0, 0, 1, 0, 1, 0, 1, 1, 0, 0, 1, 0, 1, 0, 0, 0, 0, 1, 0, 0, 0, 0, 0, 1, 0, 1, 1, 1, 0, 0, 1, 1, 0, 0, 1, 0, 1, 1, 0, 1, 1, 0, 1, 0, 0]\n"
     ]
    },
    {
     "name": "stderr",
     "output_type": "stream",
     "text": [
      "478it [27:13,  2.77s/it, BLEU2=0.318, BLEU1=0.384, ExactMatch=0.0226, METEOR=0.575, BertScore=nan, StubScore=0.375]"
     ]
    },
    {
     "name": "stdout",
     "output_type": "stream",
     "text": [
      "answer raw len:  477 1\n",
      "True\n",
      "Маркиз де Лафайет прибыл в Филадельфию 27 июля 1777 года.\n",
      "Маркиз де Ла Файет прибыл в Филадельфию 27 июля 1777 года.\n",
      "[0, 0, 0, 0, 0, 1, 1, 0, 1, 0, 1, 0, 1, 0, 0, 0, 0, 0, 1, 0, 1, 1, 0, 0, 1, 0, 0, 0, 1, 0, 0, 1, 0, 0, 0, 0, 0, 1, 0, 1, 0, 1, 1, 0, 0, 1, 0, 1, 0, 0, 0, 0, 1, 0, 0, 0, 0, 0, 1, 0, 1, 1, 1, 0, 0, 1, 1, 0, 0, 1, 0, 1, 1, 0, 1, 1, 0, 1, 0, 0]\n"
     ]
    },
    {
     "name": "stderr",
     "output_type": "stream",
     "text": [
      "479it [27:16,  2.67s/it, BLEU2=0.317, BLEU1=0.384, ExactMatch=0.0226, METEOR=0.575, BertScore=nan, StubScore=0.375]"
     ]
    },
    {
     "name": "stdout",
     "output_type": "stream",
     "text": [
      "answer raw len:  478 1\n",
      "True\n",
      "Активное жилищное строительство велось в Виттенберге с 1957 по 1963 год.\n",
      "В 1957—1963 годах в Виттенберге велось активное жилищное строительство.\n",
      "[0, 0, 0, 0, 0, 1, 1, 0, 1, 0, 1, 0, 1, 0, 0, 0, 0, 0, 1, 0, 1, 1, 0, 0, 1, 0, 0, 0, 1, 0, 0, 1, 0, 0, 0, 0, 0, 1, 0, 1, 0, 1, 1, 0, 0, 1, 0, 1, 0, 0, 0, 0, 1, 0, 0, 0, 0, 0, 1, 0, 1, 1, 1, 0, 0, 1, 1, 0, 0, 1, 0, 1, 1, 0, 1, 1, 0, 1, 0, 0]\n"
     ]
    },
    {
     "name": "stderr",
     "output_type": "stream",
     "text": [
      "480it [27:19,  2.70s/it, BLEU2=0.317, BLEU1=0.384, ExactMatch=0.0225, METEOR=0.576, BertScore=nan, StubScore=0.375]"
     ]
    },
    {
     "name": "stdout",
     "output_type": "stream",
     "text": [
      "answer raw len:  479 1\n",
      "True\n",
      "5 декабря 1989 года в рамках Горбачевского одностороннего вывода советских войск из Виттенберга была выведена 6-я гвардейская танковая дивизия Вооруженных Сил СССР.\n",
      "Из Виттенберга была выведена 6-я гвардейская танковая дивизия ВС СССР.\n",
      "[0, 0, 0, 0, 0, 1, 1, 0, 1, 0, 1, 0, 1, 0, 0, 0, 0, 0, 1, 0, 1, 1, 0, 0, 1, 0, 0, 0, 1, 0, 0, 1, 0, 0, 0, 0, 0, 1, 0, 1, 0, 1, 1, 0, 0, 1, 0, 1, 0, 0, 0, 0, 1, 0, 0, 0, 0, 0, 1, 0, 1, 1, 1, 0, 0, 1, 1, 0, 0, 1, 0, 1, 1, 0, 1, 1, 0, 1, 0, 0]\n"
     ]
    },
    {
     "name": "stderr",
     "output_type": "stream",
     "text": [
      "481it [27:21,  2.62s/it, BLEU2=0.317, BLEU1=0.384, ExactMatch=0.0224, METEOR=0.576, BertScore=nan, StubScore=0.375]"
     ]
    },
    {
     "name": "stdout",
     "output_type": "stream",
     "text": [
      "answer raw len:  480 1\n",
      "True\n",
      "Советские власти организовали восстановительные работы в Виттенберге, включая восстановление взорванного моста через Эльбу с помощью инженерных войск Советской Армии.\n",
      "Советские власти в Виттенберге организовали работы по восстановлению взорванного моста через Эльбу.\n",
      "[0, 0, 0, 0, 0, 1, 1, 0, 1, 0, 1, 0, 1, 0, 0, 0, 0, 0, 1, 0, 1, 1, 0, 0, 1, 0, 0, 0, 1, 0, 0, 1, 0, 0, 0, 0, 0, 1, 0, 1, 0, 1, 1, 0, 0, 1, 0, 1, 0, 0, 0, 0, 1, 0, 0, 0, 0, 0, 1, 0, 1, 1, 1, 0, 0, 1, 1, 0, 0, 1, 0, 1, 1, 0, 1, 1, 0, 1, 0, 0]\n"
     ]
    },
    {
     "name": "stderr",
     "output_type": "stream",
     "text": [
      "482it [27:23,  2.37s/it, BLEU2=0.318, BLEU1=0.385, ExactMatch=0.0224, METEOR=0.577, BertScore=nan, StubScore=0.375]"
     ]
    },
    {
     "name": "stdout",
     "output_type": "stream",
     "text": [
      "answer raw len:  481 1\n",
      "True\n",
      "Виттенберг был занят Красной Армией 26 апреля 1945 года.\n",
      "26 апреля 1945 года Виттенберг был занят Красной армией.\n",
      "[0, 0, 0, 0, 0, 1, 1, 0, 1, 0, 1, 0, 1, 0, 0, 0, 0, 0, 1, 0, 1, 1, 0, 0, 1, 0, 0, 0, 1, 0, 0, 1, 0, 0, 0, 0, 0, 1, 0, 1, 0, 1, 1, 0, 0, 1, 0, 1, 0, 0, 0, 0, 1, 0, 0, 0, 0, 0, 1, 0, 1, 1, 1, 0, 0, 1, 1, 0, 0, 1, 0, 1, 1, 0, 1, 1, 0, 1, 0, 0]\n"
     ]
    },
    {
     "name": "stderr",
     "output_type": "stream",
     "text": [
      "483it [27:25,  2.27s/it, BLEU2=0.319, BLEU1=0.386, ExactMatch=0.0223, METEOR=0.578, BertScore=nan, StubScore=0.375]"
     ]
    },
    {
     "name": "stdout",
     "output_type": "stream",
     "text": [
      "answer raw len:  482 1\n",
      "True\n",
      "Работы по восстановлению взорванного моста через Эльбу в Виттенберге были организованы советскими войсками.\n",
      "Работы по восстановлению взорванного моста через Эльбу в Виттенберге были организованы силами инженерных войск РККА.\n",
      "[0, 0, 0, 0, 0, 1, 1, 0, 1, 0, 1, 0, 1, 0, 0, 0, 0, 0, 1, 0, 1, 1, 0, 0, 1, 0, 0, 0, 1, 0, 0, 1, 0, 0, 0, 0, 0, 1, 0, 1, 0, 1, 1, 0, 0, 1, 0, 1, 0, 0, 0, 0, 1, 0, 0, 0, 0, 0, 1, 0, 1, 1, 1, 0, 0, 1, 1, 0, 0, 1, 0, 1, 1, 0, 1, 1, 0, 1, 0, 0]\n"
     ]
    },
    {
     "name": "stderr",
     "output_type": "stream",
     "text": [
      "484it [27:27,  2.17s/it, BLEU2=0.319, BLEU1=0.386, ExactMatch=0.0223, METEOR=0.578, BertScore=nan, StubScore=0.375]"
     ]
    },
    {
     "name": "stdout",
     "output_type": "stream",
     "text": [
      "answer raw len:  483 1\n",
      "True\n",
      "В 2011 году в Спитаке была открыта больница имени Нансена.\n",
      "Больница имени Нансена была открыта в Спитаке.\n",
      "[0, 0, 0, 0, 0, 1, 1, 0, 1, 0, 1, 0, 1, 0, 0, 0, 0, 0, 1, 0, 1, 1, 0, 0, 1, 0, 0, 0, 1, 0, 0, 1, 0, 0, 0, 0, 0, 1, 0, 1, 0, 1, 1, 0, 0, 1, 0, 1, 0, 0, 0, 0, 1, 0, 0, 0, 0, 0, 1, 0, 1, 1, 1, 0, 0, 1, 1, 0, 0, 1, 0, 1, 1, 0, 1, 1, 0, 1, 0, 0]\n"
     ]
    },
    {
     "name": "stderr",
     "output_type": "stream",
     "text": [
      "485it [27:29,  2.07s/it, BLEU2=0.321, BLEU1=0.387, ExactMatch=0.0247, METEOR=0.579, BertScore=nan, StubScore=0.375]"
     ]
    },
    {
     "name": "stdout",
     "output_type": "stream",
     "text": [
      "answer raw len:  484 1\n",
      "True\n",
      "В рамках мероприятия в Ереване был открыт памятник Фритьофу Нансену.\n",
      "В рамках мероприятия в Ереване был открыт памятник Фритьофу Нансену.\n",
      "[0, 0, 0, 0, 0, 1, 1, 0, 1, 0, 1, 0, 1, 0, 0, 0, 0, 0, 1, 0, 1, 1, 0, 0, 1, 0, 0, 0, 1, 0, 0, 1, 0, 0, 0, 0, 0, 1, 0, 1, 0, 1, 1, 0, 0, 1, 0, 1, 0, 0, 0, 0, 1, 0, 0, 0, 0, 0, 1, 0, 1, 1, 1, 0, 0, 1, 1, 0, 0, 1, 0, 1, 1, 0, 1, 1, 0, 1, 0, 0]\n"
     ]
    },
    {
     "name": "stderr",
     "output_type": "stream",
     "text": [
      "486it [27:33,  2.69s/it, BLEU2=0.321, BLEU1=0.388, ExactMatch=0.0246, METEOR=0.58, BertScore=nan, StubScore=0.375] "
     ]
    },
    {
     "name": "stdout",
     "output_type": "stream",
     "text": [
      "answer raw len:  485 1\n",
      "True\n",
      "14 апреля 2012 года было объявлено о том, что в Армении в городе Гюмри будет открыт дом-музей, посвященный норвежскому гуманисту Фритьофу Нансену.\n",
      "26 января 2011 года было объявлено о том, что в Армении в городе Гюмри будет открыт дом-музей, посвящённый норвежскому гуманисту.\n",
      "[0, 0, 0, 0, 0, 1, 1, 0, 1, 0, 1, 0, 1, 0, 0, 0, 0, 0, 1, 0, 1, 1, 0, 0, 1, 0, 0, 0, 1, 0, 0, 1, 0, 0, 0, 0, 0, 1, 0, 1, 0, 1, 1, 0, 0, 1, 0, 1, 0, 0, 0, 0, 1, 0, 0, 0, 0, 0, 1, 0, 1, 1, 1, 0, 0, 1, 1, 0, 0, 1, 0, 1, 1, 0, 1, 1, 0, 1, 0, 0]\n"
     ]
    },
    {
     "name": "stderr",
     "output_type": "stream",
     "text": [
      "487it [27:35,  2.63s/it, BLEU2=0.322, BLEU1=0.389, ExactMatch=0.0246, METEOR=0.58, BertScore=nan, StubScore=0.375]"
     ]
    },
    {
     "name": "stdout",
     "output_type": "stream",
     "text": [
      "answer raw len:  486 1\n",
      "True\n",
      "В ноябре 2011 года в Армении широко отмечали 150-летие Нансена.\n",
      "В 2011 году в Армении широко праздновалось 150-летие Фритьофа Нансена.\n",
      "[0, 0, 0, 0, 0, 1, 1, 0, 1, 0, 1, 0, 1, 0, 0, 0, 0, 0, 1, 0, 1, 1, 0, 0, 1, 0, 0, 0, 1, 0, 0, 1, 0, 0, 0, 0, 0, 1, 0, 1, 0, 1, 1, 0, 0, 1, 0, 1, 0, 0, 0, 0, 1, 0, 0, 0, 0, 0, 1, 0, 1, 1, 1, 0, 0, 1, 1, 0, 0, 1, 0, 1, 1, 0, 1, 1, 0, 1, 0, 0]\n"
     ]
    },
    {
     "name": "stderr",
     "output_type": "stream",
     "text": [
      "488it [27:37,  2.51s/it, BLEU2=0.322, BLEU1=0.389, ExactMatch=0.0245, METEOR=0.58, BertScore=nan, StubScore=0.375]"
     ]
    },
    {
     "name": "stdout",
     "output_type": "stream",
     "text": [
      "answer raw len:  487 1\n",
      "True\n",
      "Президент Армении вручил Марит Грев паспорт с особым статусом проживания в Республике Армения.\n",
      "После открытия памятника Фритьофу Нансену президент Армении вручил Марит Грев паспорт статуса специального проживания в Республике Армения.\n",
      "[0, 0, 0, 0, 0, 1, 1, 0, 1, 0, 1, 0, 1, 0, 0, 0, 0, 0, 1, 0, 1, 1, 0, 0, 1, 0, 0, 0, 1, 0, 0, 1, 0, 0, 0, 0, 0, 1, 0, 1, 0, 1, 1, 0, 0, 1, 0, 1, 0, 0, 0, 0, 1, 0, 0, 0, 0, 0, 1, 0, 1, 1, 1, 0, 0, 1, 1, 0, 0, 1, 0, 1, 1, 0, 1, 1, 0, 1, 0, 0]\n"
     ]
    },
    {
     "name": "stderr",
     "output_type": "stream",
     "text": [
      "489it [27:39,  2.22s/it, BLEU2=0.324, BLEU1=0.391, ExactMatch=0.0269, METEOR=0.581, BertScore=nan, StubScore=0.375]"
     ]
    },
    {
     "name": "stdout",
     "output_type": "stream",
     "text": [
      "answer raw len:  488 1\n",
      "True\n",
      "Брюллов посетил Испанию в 1850 году.\n",
      "Брюллов посетил Испанию в 1850 году.\n",
      "[0, 0, 0, 0, 0, 1, 1, 0, 1, 0, 1, 0, 1, 0, 0, 0, 0, 0, 1, 0, 1, 1, 0, 0, 1, 0, 0, 0, 1, 0, 0, 1, 0, 0, 0, 0, 0, 1, 0, 1, 0, 1, 1, 0, 0, 1, 0, 1, 0, 0, 0, 0, 1, 0, 0, 0, 0, 0, 1, 0, 1, 1, 1, 0, 0, 1, 1, 0, 0, 1, 0, 1, 1, 0, 1, 1, 0, 1, 0, 0]\n"
     ]
    },
    {
     "name": "stderr",
     "output_type": "stream",
     "text": [
      "490it [27:41,  2.29s/it, BLEU2=0.324, BLEU1=0.391, ExactMatch=0.0268, METEOR=0.581, BertScore=nan, StubScore=0.375]"
     ]
    },
    {
     "name": "stdout",
     "output_type": "stream",
     "text": [
      "answer raw len:  489 1\n",
      "True\n",
      "Последний шедевр художника Брюллова - \"Портрет Микеланджело Ланчи\", созданный в 1851 году.\n",
      "Последним шедевром художника стал портрет его старого знакомого археолога Микеланджело Ланчи, созданный в 1851 году.\n",
      "[0, 0, 0, 0, 0, 1, 1, 0, 1, 0, 1, 0, 1, 0, 0, 0, 0, 0, 1, 0, 1, 1, 0, 0, 1, 0, 0, 0, 1, 0, 0, 1, 0, 0, 0, 0, 0, 1, 0, 1, 0, 1, 1, 0, 0, 1, 0, 1, 0, 0, 0, 0, 1, 0, 0, 0, 0, 0, 1, 0, 1, 1, 1, 0, 0, 1, 1, 0, 0, 1, 0, 1, 1, 0, 1, 1, 0, 1, 0, 0]\n"
     ]
    },
    {
     "name": "stderr",
     "output_type": "stream",
     "text": [
      "491it [27:43,  2.15s/it, BLEU2=0.325, BLEU1=0.392, ExactMatch=0.0292, METEOR=0.582, BertScore=nan, StubScore=0.375]"
     ]
    },
    {
     "name": "stdout",
     "output_type": "stream",
     "text": [
      "answer raw len:  490 1\n",
      "True\n",
      "Брюллов покинул Россию по настоянию врачей 27 апреля 1849 года.\n",
      "Брюллов покинул Россию по настоянию врачей 27 апреля 1849 года.\n",
      "[0, 0, 0, 0, 0, 1, 1, 0, 1, 0, 1, 0, 1, 0, 0, 0, 0, 0, 1, 0, 1, 1, 0, 0, 1, 0, 0, 0, 1, 0, 0, 1, 0, 0, 0, 0, 0, 1, 0, 1, 0, 1, 1, 0, 0, 1, 0, 1, 0, 0, 0, 0, 1, 0, 0, 0, 0, 0, 1, 0, 1, 1, 1, 0, 0, 1, 1, 0, 0, 1, 0, 1, 1, 0, 1, 1, 0, 1, 0, 0]\n"
     ]
    },
    {
     "name": "stderr",
     "output_type": "stream",
     "text": [
      "492it [27:45,  2.11s/it, BLEU2=0.326, BLEU1=0.393, ExactMatch=0.0291, METEOR=0.583, BertScore=nan, StubScore=0.375]"
     ]
    },
    {
     "name": "stdout",
     "output_type": "stream",
     "text": [
      "answer raw len:  491 1\n",
      "True\n",
      "Брюллов отправился на остров Мадейра лечиться 27 апреля 1849 года.\n",
      "27 апреля 1849 года Брюллов отправился лечится на остров Мадейра.\n",
      "[0, 0, 0, 0, 0, 1, 1, 0, 1, 0, 1, 0, 1, 0, 0, 0, 0, 0, 1, 0, 1, 1, 0, 0, 1, 0, 0, 0, 1, 0, 0, 1, 0, 0, 0, 0, 0, 1, 0, 1, 0, 1, 1, 0, 0, 1, 0, 1, 0, 0, 0, 0, 1, 0, 0, 0, 0, 0, 1, 0, 1, 1, 1, 0, 0, 1, 1, 0, 0, 1, 0, 1, 1, 0, 1, 1, 0, 1, 0, 0]\n"
     ]
    },
    {
     "name": "stderr",
     "output_type": "stream",
     "text": [
      "493it [27:48,  2.17s/it, BLEU2=0.327, BLEU1=0.394, ExactMatch=0.0315, METEOR=0.584, BertScore=nan, StubScore=0.375]"
     ]
    },
    {
     "name": "stdout",
     "output_type": "stream",
     "text": [
      "answer raw len:  492 1\n",
      "True\n",
      "В 1850 году Брюллов познакомился с соратником Гарибальди А. Титтони.\n",
      "В 1850 году Брюллов познакомился с соратником Гарибальди А. Титтони.\n",
      "[0, 0, 0, 0, 0, 1, 1, 0, 1, 0, 1, 0, 1, 0, 0, 0, 0, 0, 1, 0, 1, 1, 0, 0, 1, 0, 0, 0, 1, 0, 0, 1, 0, 0, 0, 0, 0, 1, 0, 1, 0, 1, 1, 0, 0, 1, 0, 1, 0, 0, 0, 0, 1, 0, 0, 0, 0, 0, 1, 0, 1, 1, 1, 0, 0, 1, 1, 0, 0, 1, 0, 1, 1, 0, 1, 1, 0, 1, 0, 0]\n"
     ]
    },
    {
     "name": "stderr",
     "output_type": "stream",
     "text": [
      "494it [27:49,  2.02s/it, BLEU2=0.327, BLEU1=0.394, ExactMatch=0.0314, METEOR=0.584, BertScore=nan, StubScore=0.375]"
     ]
    },
    {
     "name": "stdout",
     "output_type": "stream",
     "text": [
      "answer raw len:  493 1\n",
      "True\n",
      "Во время ссылки Александр Грин написал \"Жизнь Гнора\" и \"Синий каскад Теллури\".\n",
      "В ссылке Грин написал Жизнь Гнора и Синий каскад Теллури.\n",
      "[0, 0, 0, 0, 0, 1, 1, 0, 1, 0, 1, 0, 1, 0, 0, 0, 0, 0, 1, 0, 1, 1, 0, 0, 1, 0, 0, 0, 1, 0, 0, 1, 0, 0, 0, 0, 0, 1, 0, 1, 0, 1, 1, 0, 0, 1, 0, 1, 0, 0, 0, 0, 1, 0, 0, 0, 0, 0, 1, 0, 1, 1, 1, 0, 0, 1, 1, 0, 0, 1, 0, 1, 1, 0, 1, 1, 0, 1, 0, 0]\n"
     ]
    },
    {
     "name": "stderr",
     "output_type": "stream",
     "text": [
      "495it [27:52,  2.18s/it, BLEU2=0.326, BLEU1=0.393, ExactMatch=0.0313, METEOR=0.583, BertScore=nan, StubScore=0.375]"
     ]
    },
    {
     "name": "stdout",
     "output_type": "stream",
     "text": [
      "answer raw len:  494 1\n",
      "True\n",
      "Слово \"Гринландия\" - это название вымышленной страны, созданной писателем Грином, как упомянул литературовед К. Зелинский.\n",
      "Вымышленная страна, сформированная в произведениях А. Грина названа Гринландия.\n",
      "[0, 0, 0, 0, 0, 1, 1, 0, 1, 0, 1, 0, 1, 0, 0, 0, 0, 0, 1, 0, 1, 1, 0, 0, 1, 0, 0, 0, 1, 0, 0, 1, 0, 0, 0, 0, 0, 1, 0, 1, 0, 1, 1, 0, 0, 1, 0, 1, 0, 0, 0, 0, 1, 0, 0, 0, 0, 0, 1, 0, 1, 1, 1, 0, 0, 1, 1, 0, 0, 1, 0, 1, 1, 0, 1, 1, 0, 1, 0, 0]\n"
     ]
    },
    {
     "name": "stderr",
     "output_type": "stream",
     "text": [
      "496it [27:54,  2.24s/it, BLEU2=0.327, BLEU1=0.394, ExactMatch=0.0312, METEOR=0.584, BertScore=nan, StubScore=0.375]"
     ]
    },
    {
     "name": "stdout",
     "output_type": "stream",
     "text": [
      "answer raw len:  495 1\n",
      "True\n",
      "Полиция узнала, что писатель Грин - это беглый ссыльный Гриневский 27 июля 1910 года.\n",
      "27 июля 1910 года полиция наконец обнаружила, что писатель Грин — это беглый ссыльный Гриневский.\n",
      "[0, 0, 0, 0, 0, 1, 1, 0, 1, 0, 1, 0, 1, 0, 0, 0, 0, 0, 1, 0, 1, 1, 0, 0, 1, 0, 0, 0, 1, 0, 0, 1, 0, 0, 0, 0, 0, 1, 0, 1, 0, 1, 1, 0, 0, 1, 0, 1, 0, 0, 0, 0, 1, 0, 0, 0, 0, 0, 1, 0, 1, 1, 1, 0, 0, 1, 1, 0, 0, 1, 0, 1, 1, 0, 1, 1, 0, 1, 0, 0]\n"
     ]
    },
    {
     "name": "stderr",
     "output_type": "stream",
     "text": [
      "497it [27:56,  2.22s/it, BLEU2=0.326, BLEU1=0.394, ExactMatch=0.0312, METEOR=0.583, BertScore=nan, StubScore=0.375]"
     ]
    },
    {
     "name": "stdout",
     "output_type": "stream",
     "text": [
      "answer raw len:  496 1\n",
      "True\n",
      "Александр Гриневский вернулся в Санкт-Петербург вместе со своей женой Верой в мае 1912 года.\n",
      "В мае 1912 года семья Гриневских вернулась в Санкт-Петербург после ссылки.\n",
      "[0, 0, 0, 0, 0, 1, 1, 0, 1, 0, 1, 0, 1, 0, 0, 0, 0, 0, 1, 0, 1, 1, 0, 0, 1, 0, 0, 0, 1, 0, 0, 1, 0, 0, 0, 0, 0, 1, 0, 1, 0, 1, 1, 0, 0, 1, 0, 1, 0, 0, 0, 0, 1, 0, 0, 0, 0, 0, 1, 0, 1, 1, 1, 0, 0, 1, 1, 0, 0, 1, 0, 1, 1, 0, 1, 1, 0, 1, 0, 0]\n"
     ]
    },
    {
     "name": "stderr",
     "output_type": "stream",
     "text": [
      "498it [27:58,  2.04s/it, BLEU2=0.327, BLEU1=0.394, ExactMatch=0.0311, METEOR=0.584, BertScore=nan, StubScore=0.375]"
     ]
    },
    {
     "name": "stdout",
     "output_type": "stream",
     "text": [
      "answer raw len:  497 1\n",
      "True\n",
      "Александр Грин был сослан в Пинегу, Архангельскую губернию, после своего третьего ареста.\n",
      "После третьего ареста писатель Александр Грин был сослан в Пинегу Архангельской губернии.\n",
      "[0, 0, 0, 0, 0, 1, 1, 0, 1, 0, 1, 0, 1, 0, 0, 0, 0, 0, 1, 0, 1, 1, 0, 0, 1, 0, 0, 0, 1, 0, 0, 1, 0, 0, 0, 0, 0, 1, 0, 1, 0, 1, 1, 0, 0, 1, 0, 1, 0, 0, 0, 0, 1, 0, 0, 0, 0, 0, 1, 0, 1, 1, 1, 0, 0, 1, 1, 0, 0, 1, 0, 1, 1, 0, 1, 1, 0, 1, 0, 0]\n"
     ]
    },
    {
     "name": "stderr",
     "output_type": "stream",
     "text": [
      "499it [28:06,  3.79s/it, BLEU2=0.326, BLEU1=0.393, ExactMatch=0.031, METEOR=0.584, BertScore=nan, StubScore=0.375] "
     ]
    },
    {
     "name": "stdout",
     "output_type": "stream",
     "text": [
      "answer raw len:  498 1\n",
      "True\n",
      "[76.133] 27 июня Викинг оказался заперт в сплошных льдах, начался дрейф. Шхуна была снесена на запад, иногда оказывалась на расстоянии 12-13 миль от гренландского побережья. Исследуя айсберги в начале июля, Нансен обнаружил, что они могут переносить большие количества минерального материала, что дало представление о геологическом строении неизведанных областей Гренландии.\n",
      "О том, что айсберги могут переносить значительные количества минерального материала, дающего представление о геологическом строении неисследованных областей Гренландии, обнаружил Фритьоф Нансен.\n",
      "[0, 0, 0, 0, 0, 1, 1, 0, 1, 0, 1, 0, 1, 0, 0, 0, 0, 0, 1, 0, 1, 1, 0, 0, 1, 0, 0, 0, 1, 0, 0, 1, 0, 0, 0, 0, 0, 1, 0, 1, 0, 1, 1, 0, 0, 1, 0, 1, 0, 0, 0, 0, 1, 0, 0, 0, 0, 0, 1, 0, 1, 1, 1, 0, 0, 1, 1, 0, 0, 1, 0, 1, 1, 0, 1, 1, 0, 1, 0, 0]\n"
     ]
    },
    {
     "name": "stderr",
     "output_type": "stream",
     "text": [
      "500it [28:06,  3.37s/it, BLEU2=0.325, BLEU1=0.393, ExactMatch=0.031, METEOR=0.583, BertScore=nan, StubScore=0.375]"
     ]
    },
    {
     "name": "stdout",
     "output_type": "stream",
     "text": [
      "answer raw len:  499 1\n",
      "True\n",
      "27 июня.\n",
      "27 июня Викинг Нансена оказался затёрт сплошными ледовыми полями, начался незапланированный дрейф.\n",
      "[0, 0, 0, 0, 0, 1, 1, 0, 1, 0, 1, 0, 1, 0, 0, 0, 0, 0, 1, 0, 1, 1, 0, 0, 1, 0, 0, 0, 1, 0, 0, 1, 0, 0, 0, 0, 0, 1, 0, 1, 0, 1, 1, 0, 0, 1, 0, 1, 0, 0, 0, 0, 1, 0, 0, 0, 0, 0, 1, 0, 1, 1, 1, 0, 0, 1, 1, 0, 0, 1, 0, 1, 1, 0, 1, 1, 0, 1, 0, 0]\n"
     ]
    },
    {
     "name": "stderr",
     "output_type": "stream",
     "text": [
      "\n"
     ]
    }
   ],
   "source": [
    "reader_scores, reader_cache = evaluate_reader(benchmarks_df, READER, reader_metrics, contexts, show_step=1, cache_relevant_flags=cache_relevant_flags)"
   ]
  },
  {
   "cell_type": "code",
   "execution_count": 21,
   "metadata": {},
   "outputs": [],
   "source": [
    "save_rag_trial_log(SAVE_LOGDIR, reader_scores, retriever_scores, \n",
    "                   SAVE_HYPERPARAMS, SAVE_READERCACHE, SAVE_RETRIEVERCACHE,\n",
    "                   reader_cache, retriever_cache_ids, BENCHMARKS_INFO, BENCHMARKS_MAXSIZE,\n",
    "                   READER_PARAMS, RETRIEVER_PARAMS, ADDITIONAL_PARAMS)"
   ]
  },
  {
   "cell_type": "code",
   "execution_count": 22,
   "metadata": {},
   "outputs": [],
   "source": [
    "import gc\n",
    "import torch\n",
    "\n",
    "gc.collect()\n",
    "torch.cuda.empty_cache()"
   ]
  },
  {
   "cell_type": "code",
   "execution_count": null,
   "metadata": {},
   "outputs": [],
   "source": []
  }
 ],
 "metadata": {
  "kernelspec": {
   "display_name": "mikhail_venv",
   "language": "python",
   "name": "mikhail_venv"
  },
  "language_info": {
   "codemirror_mode": {
    "name": "ipython",
    "version": 3
   },
   "file_extension": ".py",
   "mimetype": "text/x-python",
   "name": "python",
   "nbconvert_exporter": "python",
   "pygments_lexer": "ipython3",
   "version": "3.10.9"
  }
 },
 "nbformat": 4,
 "nbformat_minor": 4
}
