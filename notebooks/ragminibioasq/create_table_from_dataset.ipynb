{
 "cells": [
  {
   "cell_type": "code",
   "execution_count": 1,
   "metadata": {},
   "outputs": [],
   "source": [
    "import pandas as pd\n",
    "from tqdm import tqdm\n",
    "import pandas as pd\n",
    "import ast\n",
    "import hashlib\n",
    "\n",
    "LOAD_DATASET_PATH = '../../data/ragminibioasq/base_dataset.csv'\n",
    "LOAD_PASSAGES_PATH = '../../data/ragminibioasq/base_passages_dataset.csv'\n",
    "\n",
    "SAVE_TABLE_PATH = '../../data/ragminibioasq/tables/v1/chunked_docs.csv'\n",
    "SAVE_BENCHMARK_PATH = '../../data/ragminibioasq/tables/v1/benchmark.csv'"
   ]
  },
  {
   "cell_type": "code",
   "execution_count": 2,
   "metadata": {},
   "outputs": [],
   "source": [
    "def print_df_stat(df):\n",
    "    print(\"===Статистика по исходному датасету===\")\n",
    "    print(\"Количество строк в датасете: \", df.shape[0])\n",
    "    print(\"Количество уникальных question-текстов: \", len(df['question'].unique()))\n",
    "    print(\"Количество уникальных answer-текстов: \", len(df['answer'].unique()))\n",
    "\n",
    "def get_md5_of_string(input_string):\n",
    "    return hashlib.md5(input_string.encode()).hexdigest()"
   ]
  },
  {
   "cell_type": "code",
   "execution_count": 3,
   "metadata": {},
   "outputs": [],
   "source": [
    "base_df = pd.read_csv(LOAD_DATASET_PATH, sep=';')\n",
    "base_df['relevant_passage_ids'] = base_df['relevant_passage_ids'].apply(lambda v: ast.literal_eval(v))\n",
    "\n",
    "passages_df = pd.read_csv(LOAD_PASSAGES_PATH, sep=';')"
   ]
  },
  {
   "cell_type": "markdown",
   "metadata": {},
   "source": [
    "#### Удаление дубликатов"
   ]
  },
  {
   "cell_type": "code",
   "execution_count": 4,
   "metadata": {},
   "outputs": [],
   "source": [
    "q_filtered_df = base_df.drop_duplicates(subset=['question']).reset_index(drop=True)"
   ]
  },
  {
   "cell_type": "code",
   "execution_count": 5,
   "metadata": {},
   "outputs": [
    {
     "name": "stdout",
     "output_type": "stream",
     "text": [
      "===Статистика по исходному датасету===\n",
      "Количество строк в датасете:  4719\n",
      "Количество уникальных question-текстов:  4719\n",
      "Количество уникальных answer-текстов:  4693\n"
     ]
    }
   ],
   "source": [
    "print_df_stat(q_filtered_df)"
   ]
  },
  {
   "cell_type": "markdown",
   "metadata": {},
   "source": [
    "#### Формирование таблицы с чанками для базы данных"
   ]
  },
  {
   "cell_type": "code",
   "execution_count": 7,
   "metadata": {},
   "outputs": [
    {
     "name": "stderr",
     "output_type": "stream",
     "text": [
      "100%|██████████| 4719/4719 [00:13<00:00, 342.68it/s]"
     ]
    },
    {
     "name": "stdout",
     "output_type": "stream",
     "text": [
      "all questions:  4719\n",
      "unique chunks:  27974\n"
     ]
    },
    {
     "name": "stderr",
     "output_type": "stream",
     "text": [
      "\n"
     ]
    }
   ],
   "source": [
    "# Создание таблицы для формирования бд\n",
    "tmp_data = []\n",
    "chunk_ids_seq = []\n",
    "unique_chunk_ids = []\n",
    "\n",
    "for i in tqdm(range(q_filtered_df.shape[0])):\n",
    "    cur_chunk_ids_seq = []\n",
    "    for base_id in q_filtered_df['relevant_passage_ids'][i]:\n",
    "        cur_chunk = passages_df[passages_df['id'] == base_id]['passage'].values[0] \n",
    "        \n",
    "        if pd.isna(cur_chunk):\n",
    "            #print(\"none-value found\")\n",
    "            continue\n",
    "\n",
    "        chunk_id = get_md5_of_string(cur_chunk)\n",
    "        cur_chunk_ids_seq.append(chunk_id)\n",
    "\n",
    "        if chunk_id not in unique_chunk_ids:\n",
    "            document = [chunk_id, cur_chunk, {'doc_id': chunk_id, 'chunk_id': chunk_id}]\n",
    "            unique_chunk_ids.append(chunk_id)\n",
    "            tmp_data.append(document)\n",
    "    chunk_ids_seq.append(cur_chunk_ids_seq)\n",
    "\n",
    "q_filtered_df['chunk_id'] = chunk_ids_seq\n",
    "table_df = pd.DataFrame(tmp_data, columns=['chunk_id','chunks', 'metadata'])\n",
    "\n",
    "print(\"all questions: \", q_filtered_df.shape[0])\n",
    "print(\"unique chunks: \", len(unique_chunk_ids))"
   ]
  },
  {
   "cell_type": "code",
   "execution_count": 8,
   "metadata": {},
   "outputs": [],
   "source": [
    "table_df.to_csv(SAVE_TABLE_PATH, sep=';', index=False)"
   ]
  },
  {
   "cell_type": "markdown",
   "metadata": {},
   "source": [
    "#### Формирование датасета с зависимостями на таблицу чанков"
   ]
  },
  {
   "cell_type": "code",
   "execution_count": 9,
   "metadata": {},
   "outputs": [
    {
     "name": "stderr",
     "output_type": "stream",
     "text": [
      "100%|██████████| 4719/4719 [00:00<00:00, 99843.22it/s]\n"
     ]
    }
   ],
   "source": [
    "tmp_data = []\n",
    "for i in tqdm(range(q_filtered_df.shape[0])):\n",
    "    tmp_data.append(\n",
    "        {'question': q_filtered_df['question'][i], 'answer': q_filtered_df['answer'][i], \n",
    "         'chunk_ids': list(set(q_filtered_df['chunk_id'][i]))})"
   ]
  },
  {
   "cell_type": "code",
   "execution_count": 10,
   "metadata": {},
   "outputs": [],
   "source": [
    "benchmark_df = pd.DataFrame(tmp_data)"
   ]
  },
  {
   "cell_type": "code",
   "execution_count": 11,
   "metadata": {},
   "outputs": [
    {
     "name": "stdout",
     "output_type": "stream",
     "text": [
      "before:  4719\n",
      "after:  4387\n"
     ]
    }
   ],
   "source": [
    "# Удаляем вопросы для которых не было контекстов\n",
    "\n",
    "print(\"before: \", benchmark_df.shape[0])\n",
    "\n",
    "to_drop_rows = []\n",
    "for i in range(benchmark_df.shape[0]):\n",
    "    if len(benchmark_df['chunk_ids'][i]) == 0:\n",
    "        to_drop_rows.append(i)\n",
    "\n",
    "benchmark_df.drop(to_drop_rows, axis=0, inplace=True)\n",
    "\n",
    "print(\"after: \", benchmark_df.shape[0])"
   ]
  },
  {
   "cell_type": "code",
   "execution_count": 12,
   "metadata": {},
   "outputs": [],
   "source": [
    "benchmark_df.to_csv(SAVE_BENCHMARK_PATH, sep=';', index=False)"
   ]
  },
  {
   "cell_type": "code",
   "execution_count": null,
   "metadata": {},
   "outputs": [],
   "source": []
  }
 ],
 "metadata": {
  "kernelspec": {
   "display_name": "base",
   "language": "python",
   "name": "python3"
  },
  "language_info": {
   "codemirror_mode": {
    "name": "ipython",
    "version": 3
   },
   "file_extension": ".py",
   "mimetype": "text/x-python",
   "name": "python",
   "nbconvert_exporter": "python",
   "pygments_lexer": "ipython3",
   "version": "3.11.4"
  },
  "orig_nbformat": 4
 },
 "nbformat": 4,
 "nbformat_minor": 2
}
