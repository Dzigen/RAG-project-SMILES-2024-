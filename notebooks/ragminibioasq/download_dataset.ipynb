{
 "cells": [
  {
   "cell_type": "code",
   "execution_count": 2,
   "metadata": {},
   "outputs": [],
   "source": [
    "import pandas as pd\n",
    "import numpy as np\n",
    "import ast\n",
    "\n",
    "DOWNLOAD_PASSAGES_URL = \"hf://datasets/rag-datasets/rag-mini-bioasq/data/passages.parquet/part.0.parquet\"\n",
    "DOWNLOAD_TEST_URL = \"hf://datasets/rag-datasets/rag-mini-bioasq/data/test.parquet/part.0.parquet\"\n",
    "\n",
    "SAVE_PATH = '../../data/ragminibioasq/base_dataset.csv'\n",
    "SAVE_PASSAGES_PATH = '../../data/ragminibioasq/base_passages_dataset.csv'"
   ]
  },
  {
   "cell_type": "code",
   "execution_count": 3,
   "metadata": {},
   "outputs": [],
   "source": [
    "def print_df_stat(df):\n",
    "    print(\"===Статистика по исходному датасету===\")\n",
    "    print(\"Количество строк в датасете: \", df.shape[0])\n",
    "    print(\"Количество уникальных question-текстов: \", len(df['question'].unique()))\n",
    "    print(\"Количество уникальных answer-текстов: \", len(df['answer'].unique()))\n",
    "\n",
    "    passages_len = list(map(len, df['relevant_passage_ids'].tolist()))\n",
    "    print(f\"Количество релевантных контектов: min - {min(passages_len)}; max - {max(passages_len)}; mean - {np.mean(passages_len)}; median - {np.median(passages_len)}\")\n",
    "\n",
    "def print_passages_df_stat(df):\n",
    "    print(\"Количество строк в датасете: \", df.shape[0])\n",
    "    print(\"Количество уникальных context-текстов: \", len(df['passage'].unique()))"
   ]
  },
  {
   "cell_type": "code",
   "execution_count": 9,
   "metadata": {},
   "outputs": [],
   "source": [
    "df_passages = pd.read_parquet(DOWNLOAD_PASSAGES_URL)"
   ]
  },
  {
   "cell_type": "code",
   "execution_count": 4,
   "metadata": {},
   "outputs": [],
   "source": [
    "df_test = pd.read_parquet(DOWNLOAD_TEST_URL)"
   ]
  },
  {
   "cell_type": "code",
   "execution_count": 6,
   "metadata": {},
   "outputs": [],
   "source": [
    "df_test['relevant_passage_ids'] = df_test['relevant_passage_ids'].apply(lambda v: ast.literal_eval(v))"
   ]
  },
  {
   "cell_type": "code",
   "execution_count": 7,
   "metadata": {},
   "outputs": [
    {
     "name": "stdout",
     "output_type": "stream",
     "text": [
      "===Статистика по исходному датасету===\n",
      "Количество строк в датасете:  4719\n",
      "Количество уникальных question-текстов:  4719\n",
      "Количество уникальных answer-текстов:  4693\n",
      "Количество релевантных контектов: min - 1; max - 157; mean - 9.02903157448612; median - 6.0\n"
     ]
    }
   ],
   "source": [
    "print_df_stat(df_test)"
   ]
  },
  {
   "cell_type": "code",
   "execution_count": 10,
   "metadata": {},
   "outputs": [
    {
     "name": "stdout",
     "output_type": "stream",
     "text": [
      "Количество строк в датасете:  40221\n",
      "Количество уникальных context-текстов:  27975\n"
     ]
    }
   ],
   "source": [
    "print_passages_df_stat(df_passages)"
   ]
  },
  {
   "cell_type": "code",
   "execution_count": 19,
   "metadata": {},
   "outputs": [],
   "source": [
    "df_passages.to_csv(SAVE_PASSAGES_PATH, sep=';')\n",
    "df_test.to_csv(SAVE_PATH, sep=';')"
   ]
  }
 ],
 "metadata": {
  "kernelspec": {
   "display_name": "base",
   "language": "python",
   "name": "python3"
  },
  "language_info": {
   "codemirror_mode": {
    "name": "ipython",
    "version": 3
   },
   "file_extension": ".py",
   "mimetype": "text/x-python",
   "name": "python",
   "nbconvert_exporter": "python",
   "pygments_lexer": "ipython3",
   "version": "3.11.4"
  },
  "orig_nbformat": 4
 },
 "nbformat": 4,
 "nbformat_minor": 2
}
