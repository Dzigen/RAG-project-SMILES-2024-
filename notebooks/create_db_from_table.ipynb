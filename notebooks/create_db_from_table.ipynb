{
 "cells": [
  {
   "cell_type": "code",
   "execution_count": 1,
   "metadata": {},
   "outputs": [],
   "source": [
    "import chromadb\n",
    "from chromadb import Documents, EmbeddingFunction, Embeddings\n",
    "import pandas as pd\n",
    "import json\n",
    "from langchain_huggingface import HuggingFaceEmbeddings\n",
    "from langchain_core.embeddings import Embeddings\n",
    "import pickle\n",
    "import ast\n",
    "from time import time\n",
    "\n",
    "BASE_DIR = \"/home/dzigen/Desktop/Projects/rag_project\""
   ]
  },
  {
   "cell_type": "code",
   "execution_count": 2,
   "metadata": {},
   "outputs": [],
   "source": [
    "class MyEmbeddingFunction(EmbeddingFunction):\n",
    "    def __init__(self, embedder):\n",
    "        self.embedder = embedder\n",
    "    def __call__(self, input: Documents) -> Embeddings:\n",
    "        return self.embedder.embed_documents(input)"
   ]
  },
  {
   "cell_type": "code",
   "execution_count": 3,
   "metadata": {},
   "outputs": [],
   "source": [
    "# !!! BELOW TO CHANGE !!! \n",
    "DATA_NAME = 'mtssquad'\n",
    "TABLE_VERSION = 'v3'\n",
    "DB_VERSION = 'v3'\n",
    "\n",
    "EMBEDDING_MODEL_PATH = f'/home/dzigen/Desktop/PersonalAI/Personal-AI/models/intfloat/multilingual-e5-small'\n",
    "MODEL_KWARGS = {'device': 'cuda'}\n",
    "ENCODE_KWARGS = {'normalize_embeddings': True, 'prompt': 'passage: '}\n",
    "CHROMA_KWARGS = {\"hnsw:space\": \"ip\"}\n",
    "# !!! ABOVE TO CHANGE !!!\n",
    "\n",
    "LOAD_DIR = f'../data/{DATA_NAME}/tables/{TABLE_VERSION}'\n",
    "DATASET_PATH = f'{LOAD_DIR}/chunked_docs.csv'\n",
    "SAVE_DIR = f\"../data/{DATA_NAME}/dbs/{DB_VERSION}\"\n",
    "DENSE_DB_SAVE_PATH = f'{SAVE_DIR}/densedb'\n",
    "DB_LOG_PATH = f'{SAVE_DIR}/operation_info.json' "
   ]
  },
  {
   "cell_type": "markdown",
   "metadata": {},
   "source": [
    "#### Preparing"
   ]
  },
  {
   "cell_type": "code",
   "execution_count": 4,
   "metadata": {},
   "outputs": [
    {
     "name": "stderr",
     "output_type": "stream",
     "text": [
      "No sentence-transformers model found with name /home/dzigen/Desktop/PersonalAI/Personal-AI/models/intfloat/multilingual-e5-small. Creating a new one with MEAN pooling.\n"
     ]
    }
   ],
   "source": [
    "embeddings = HuggingFaceEmbeddings(\n",
    "    model_name=EMBEDDING_MODEL_PATH,\n",
    "    model_kwargs=MODEL_KWARGS,\n",
    "    encode_kwargs=ENCODE_KWARGS \n",
    ")\n",
    "ef = MyEmbeddingFunction(embeddings)"
   ]
  },
  {
   "cell_type": "code",
   "execution_count": 5,
   "metadata": {},
   "outputs": [],
   "source": [
    "client = chromadb.PersistentClient(path=DENSE_DB_SAVE_PATH)\n",
    "collection = client.get_or_create_collection(name=DATA_NAME,  metadata=CHROMA_KWARGS, \n",
    "                                             embedding_function=ef)"
   ]
  },
  {
   "cell_type": "code",
   "execution_count": 6,
   "metadata": {},
   "outputs": [],
   "source": [
    "df = pd.read_csv(DATASET_PATH, sep=';')\n",
    "df['metadata'] = df['metadata'].map(lambda v: ast.literal_eval(v)) "
   ]
  },
  {
   "cell_type": "code",
   "execution_count": 7,
   "metadata": {},
   "outputs": [
    {
     "data": {
      "text/plain": [
       "{'doc_id': '0e410ba54401034d094c72346ca0b8fe',\n",
       " 'chunk_id': '0e410ba54401034d094c72346ca0b8fe',\n",
       " 'total_n_distance': 0.05,\n",
       " 'mean_dependency_distance': 0.0336}"
      ]
     },
     "execution_count": 7,
     "metadata": {},
     "output_type": "execute_result"
    }
   ],
   "source": [
    "df['metadata'][0]"
   ]
  },
  {
   "cell_type": "code",
   "execution_count": 8,
   "metadata": {},
   "outputs": [
    {
     "data": {
      "text/plain": [
       "9031"
      ]
     },
     "execution_count": 8,
     "metadata": {},
     "output_type": "execute_result"
    }
   ],
   "source": [
    "len(df['chunks'].dropna())"
   ]
  },
  {
   "cell_type": "markdown",
   "metadata": {},
   "source": [
    "#### Vectorizing "
   ]
  },
  {
   "cell_type": "code",
   "execution_count": 9,
   "metadata": {},
   "outputs": [],
   "source": [
    "vectorize_t_start = time()\n",
    "\n",
    "collection.add(\n",
    "    documents=df['chunks'].to_list(),\n",
    "    metadatas=df['metadata'].to_list(),\n",
    "    ids=list(map(lambda v: str(v['chunk_id']), df['metadata'].to_list()))\n",
    ")\n",
    "\n",
    "VECTORIZE_ELAPSED_TIME = round(time() - vectorize_t_start, 5)"
   ]
  },
  {
   "cell_type": "code",
   "execution_count": 10,
   "metadata": {},
   "outputs": [
    {
     "data": {
      "text/plain": [
       "9031"
      ]
     },
     "execution_count": 10,
     "metadata": {},
     "output_type": "execute_result"
    }
   ],
   "source": [
    "collection.count()"
   ]
  },
  {
   "cell_type": "markdown",
   "metadata": {},
   "source": [
    "#### Saving Log"
   ]
  },
  {
   "cell_type": "code",
   "execution_count": 11,
   "metadata": {},
   "outputs": [],
   "source": [
    "with open(DB_LOG_PATH, 'w') as fd:\n",
    "    fd.write(json.dumps({\n",
    "        \"data_name\": DATA_NAME,\n",
    "        \"table_version\": TABLE_VERSION,\n",
    "        \"db_version\": DB_VERSION, \"model_name\": EMBEDDING_MODEL_PATH,\n",
    "        \"encode_kwargs\": ENCODE_KWARGS, \"chroma_kwargs\": CHROMA_KWARGS,\n",
    "        \"vectorize_elapsed_sec_time\": VECTORIZE_ELAPSED_TIME}, indent=1))"
   ]
  },
  {
   "cell_type": "code",
   "execution_count": null,
   "metadata": {},
   "outputs": [],
   "source": []
  }
 ],
 "metadata": {
  "kernelspec": {
   "display_name": "base",
   "language": "python",
   "name": "python3"
  },
  "language_info": {
   "codemirror_mode": {
    "name": "ipython",
    "version": 3
   },
   "file_extension": ".py",
   "mimetype": "text/x-python",
   "name": "python",
   "nbconvert_exporter": "python",
   "pygments_lexer": "ipython3",
   "version": "3.11.4"
  }
 },
 "nbformat": 4,
 "nbformat_minor": 4
}
