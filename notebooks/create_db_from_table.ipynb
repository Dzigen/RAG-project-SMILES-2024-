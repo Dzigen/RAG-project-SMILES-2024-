{
 "cells": [
  {
   "cell_type": "code",
   "execution_count": 1,
   "metadata": {},
   "outputs": [],
   "source": [
    "import chromadb\n",
    "from chromadb import Documents, EmbeddingFunction, Embeddings\n",
    "import pandas as pd\n",
    "import json\n",
    "from langchain_huggingface import HuggingFaceEmbeddings\n",
    "from langchain_core.embeddings import Embeddings\n",
    "import pickle\n",
    "import ast\n",
    "from time import time"
   ]
  },
  {
   "cell_type": "code",
   "execution_count": 2,
   "metadata": {},
   "outputs": [],
   "source": [
    "class MyEmbeddingFunction(EmbeddingFunction):\n",
    "    def __init__(self, embedder):\n",
    "        self.embedder = embedder\n",
    "    def __call__(self, input: Documents) -> Embeddings:\n",
    "        return self.embedder.embed_documents(input)"
   ]
  },
  {
   "cell_type": "code",
   "execution_count": 3,
   "metadata": {},
   "outputs": [],
   "source": [
    "# !!! BELOW TO CHANGE !!! \n",
    "DATA_NAME = 'mtssquad'\n",
    "TABLE_VERSION = 'v1'\n",
    "DB_VERSION = 'v1'\n",
    "\n",
    "EMBEDDING_MODEL_PATH = '../../../../nlp_models/intfloat/multilingual-e5-small'\n",
    "MODEL_KWARGS = {'device': 'cuda'}\n",
    "ENCODE_KWARGS = {'normalize_embeddings': False, 'prompt': 'passage: '}\n",
    "CHROMA_KWARGS = {\"hnsw:space\": \"l2\"}\n",
    "# !!! ABOVE TO CHANGE !!!\n",
    "\n",
    "LOAD_DIR = f'../data/{DATA_NAME}/tables/{TABLE_VERSION}'\n",
    "DATASET_PATH = f'{LOAD_DIR}/chunked_docs.csv'\n",
    "SAVE_DIR = f\"../data/{DATA_NAME}/dbs/{DB_VERSION}\"\n",
    "DENSE_DB_SAVE_PATH = f'{SAVE_DIR}/densedb'\n",
    "DB_LOG_PATH = f'{SAVE_DIR}/operation_info.json' "
   ]
  },
  {
   "cell_type": "markdown",
   "metadata": {},
   "source": [
    "#### Preparing"
   ]
  },
  {
   "cell_type": "code",
   "execution_count": 4,
   "metadata": {},
   "outputs": [
    {
     "name": "stderr",
     "output_type": "stream",
     "text": [
      "/home/dzigen/Desktop/ITMO/smiles2024/RAG-project-SMILES-2024-/.nlp_venv/lib/python3.10/site-packages/sentence_transformers/cross_encoder/CrossEncoder.py:11: TqdmExperimentalWarning: Using `tqdm.autonotebook.tqdm` in notebook mode. Use `tqdm.tqdm` instead to force console mode (e.g. in jupyter console)\n",
      "  from tqdm.autonotebook import tqdm, trange\n",
      "No sentence-transformers model found with name ../../../../nlp_models/intfloat/multilingual-e5-small. Creating a new one with mean pooling.\n"
     ]
    }
   ],
   "source": [
    "embeddings = HuggingFaceEmbeddings(\n",
    "    model_name=EMBEDDING_MODEL_PATH,\n",
    "    model_kwargs=MODEL_KWARGS,\n",
    "    encode_kwargs=ENCODE_KWARGS \n",
    ")\n",
    "ef = MyEmbeddingFunction(embeddings)"
   ]
  },
  {
   "cell_type": "code",
   "execution_count": 5,
   "metadata": {},
   "outputs": [],
   "source": [
    "client = chromadb.PersistentClient(path=DENSE_DB_SAVE_PATH)\n",
    "collection = client.get_or_create_collection(name=DATA_NAME,  metadata=CHROMA_KWARGS, \n",
    "                                             embedding_function=ef)"
   ]
  },
  {
   "cell_type": "code",
   "execution_count": 6,
   "metadata": {},
   "outputs": [],
   "source": [
    "df = pd.read_csv(DATASET_PATH, sep=';')\n",
    "df['metadata'] = df['metadata'].map(lambda v: ast.literal_eval(v)) \n",
    "for i in range(df.shape[0]):\n",
    "    df['metadata'][i]['prev_chunk_id'] = 'None'\n",
    "    df['metadata'][i]['next_chunk_id'] = 'None'"
   ]
  },
  {
   "cell_type": "markdown",
   "metadata": {},
   "source": [
    "#### Vectorizing "
   ]
  },
  {
   "cell_type": "code",
   "execution_count": 7,
   "metadata": {},
   "outputs": [],
   "source": [
    "vectorize_t_start = time()\n",
    "\n",
    "collection.add(\n",
    "    documents=df['chunks'].to_list(),\n",
    "    metadatas=df['metadata'].to_list(),\n",
    "    ids=list(map(lambda v: str(v['chunk_id']), df['metadata'].to_list()))\n",
    ")\n",
    "\n",
    "VECTORIZE_ELAPSED_TIME = round(time() - vectorize_t_start, 5)"
   ]
  },
  {
   "cell_type": "code",
   "execution_count": 8,
   "metadata": {},
   "outputs": [
    {
     "data": {
      "text/plain": [
       "9028"
      ]
     },
     "execution_count": 8,
     "metadata": {},
     "output_type": "execute_result"
    }
   ],
   "source": [
    "collection.count()"
   ]
  },
  {
   "cell_type": "markdown",
   "metadata": {},
   "source": [
    "#### Saving Log"
   ]
  },
  {
   "cell_type": "code",
   "execution_count": 9,
   "metadata": {},
   "outputs": [],
   "source": [
    "with open(DB_LOG_PATH, 'w') as fd:\n",
    "    fd.write(json.dumps({\n",
    "        \"data_name\": DATA_NAME,\n",
    "        \"table_version\": TABLE_VERSION,\n",
    "        \"db_version\": DB_VERSION, \"model_name\": EMBEDDING_MODEL_PATH,\n",
    "        \"encode_kwargs\": ENCODE_KWARGS, \"chroma_kwargs\": CHROMA_KWARGS,\n",
    "        \"vectorize_elapsed_sec_time\": VECTORIZE_ELAPSED_TIME}, indent=1))"
   ]
  },
  {
   "cell_type": "code",
   "execution_count": null,
   "metadata": {},
   "outputs": [],
   "source": []
  }
 ],
 "metadata": {
  "kernelspec": {
   "display_name": ".nlp_venv",
   "language": "python",
   "name": "python3"
  },
  "language_info": {
   "codemirror_mode": {
    "name": "ipython",
    "version": 3
   },
   "file_extension": ".py",
   "mimetype": "text/x-python",
   "name": "python",
   "nbconvert_exporter": "python",
   "pygments_lexer": "ipython3",
   "version": "3.10.12"
  },
  "orig_nbformat": 4
 },
 "nbformat": 4,
 "nbformat_minor": 2
}
