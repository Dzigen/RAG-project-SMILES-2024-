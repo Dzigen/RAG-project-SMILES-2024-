{
 "cells": [
  {
   "cell_type": "code",
   "execution_count": 7,
   "id": "9b73e304-8e17-4377-98ec-1a89b421b2c9",
   "metadata": {},
   "outputs": [],
   "source": [
    "import pandas as pd\n",
    "import chromadb"
   ]
  },
  {
   "cell_type": "code",
   "execution_count": 8,
   "id": "9650c34d-12c8-4b16-9a61-7e27b917ab20",
   "metadata": {},
   "outputs": [],
   "source": [
    "densedb_path = '/trinity/home/team06/workspace/mikhail_workspace/rag_project/data/mtssquad/dbs/v1/densedb'\n",
    "densedb_kwargs = {'metadata': {\"hnsw:space\": \"ip\"}, 'name': 'mtssquad'}\n",
    "client = chromadb.PersistentClient(path=densedb_path)\n",
    "collection = client.get_or_create_collection(**densedb_kwargs)\n",
    "data = collection.get(include=['embeddings'])"
   ]
  },
  {
   "cell_type": "code",
   "execution_count": 9,
   "id": "10e1fbf6-4430-47c9-9d58-74c5f0423539",
   "metadata": {},
   "outputs": [
    {
     "data": {
      "text/plain": [
       "dict_keys(['ids', 'embeddings', 'metadatas', 'documents', 'uris', 'data', 'included'])"
      ]
     },
     "execution_count": 9,
     "metadata": {},
     "output_type": "execute_result"
    }
   ],
   "source": [
    "data.keys()"
   ]
  },
  {
   "cell_type": "code",
   "execution_count": 10,
   "id": "93861a29-bd3e-49b0-9b2f-ad305b6c4c77",
   "metadata": {},
   "outputs": [
    {
     "name": "stdout",
     "output_type": "stream",
     "text": [
      "9028 384\n"
     ]
    }
   ],
   "source": [
    "print(len(data['embeddings']), len(data['embeddings'][0]))"
   ]
  },
  {
   "cell_type": "code",
   "execution_count": null,
   "id": "23814bdd-35a6-4014-9241-794fd6febf5c",
   "metadata": {},
   "outputs": [],
   "source": []
  }
 ],
 "metadata": {
  "kernelspec": {
   "display_name": "mikhail_venv",
   "language": "python",
   "name": "mikhail_venv"
  },
  "language_info": {
   "codemirror_mode": {
    "name": "ipython",
    "version": 3
   },
   "file_extension": ".py",
   "mimetype": "text/x-python",
   "name": "python",
   "nbconvert_exporter": "python",
   "pygments_lexer": "ipython3",
   "version": "3.10.9"
  }
 },
 "nbformat": 4,
 "nbformat_minor": 5
}
