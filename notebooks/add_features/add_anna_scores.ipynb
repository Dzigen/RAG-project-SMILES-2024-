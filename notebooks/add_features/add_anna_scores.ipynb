{
 "cells": [
  {
   "cell_type": "code",
   "execution_count": 7,
   "id": "4181246d-6fe7-4477-9454-fe8efc6c222f",
   "metadata": {},
   "outputs": [],
   "source": [
    "import pandas as pd\n",
    "import ast"
   ]
  },
  {
   "cell_type": "markdown",
   "id": "d3676a19",
   "metadata": {},
   "source": [
    "### MTSSquad"
   ]
  },
  {
   "cell_type": "code",
   "execution_count": 8,
   "id": "288d6941-2657-426a-9326-a6e2174c54b7",
   "metadata": {},
   "outputs": [],
   "source": [
    "FEATURE_MAP_FILES = { \n",
    "    'total_n_distance': 'синт_зависимости_0_1.csv',\n",
    "    'mean_dependency_distance': 'MTS_dependency_distance.csv'\n",
    "}\n",
    "BENCHMARK_DF = '/home/dzigen/Desktop/Projects/rag_project/data/mtssquad/tables/v3/chunked_docs.csv'"
   ]
  },
  {
   "cell_type": "code",
   "execution_count": 9,
   "id": "d08bab66-82ad-4b27-9421-c7336cda79f2",
   "metadata": {},
   "outputs": [],
   "source": [
    "benchmark_df= pd.read_csv(BENCHMARK_DF, sep=';')\n",
    "benchmark_df['metadata'] = benchmark_df['metadata'].map(lambda v: ast.literal_eval(v))\n",
    "\n",
    "features1_df = pd.read_csv(FEATURE_MAP_FILES['total_n_distance'])\n",
    "features2_df = pd.read_csv(FEATURE_MAP_FILES['mean_dependency_distance'])"
   ]
  },
  {
   "cell_type": "code",
   "execution_count": 10,
   "id": "9cf8c14a-c56f-46e8-81b9-1ccee5e25d54",
   "metadata": {},
   "outputs": [],
   "source": [
    "dists_dict = {features1_df['context'][i]: features1_df['scaled_dependencies'][i] for i in range(features1_df.shape[0])}\n",
    "depend_dist_dict = {features2_df['context'][i]: features2_df['scaled_depend_dist'][i] for i in range(features2_df.shape[0])}"
   ]
  },
  {
   "cell_type": "code",
   "execution_count": 11,
   "id": "c0631caf-54da-441f-9180-12b7916e0059",
   "metadata": {},
   "outputs": [],
   "source": [
    "for i in range(benchmark_df.shape[0]):\n",
    "    cur_cntx = benchmark_df['chunks'][i]\n",
    "    cur_dd_score = depend_dist_dict[cur_cntx]\n",
    "    cur_d_score = dists_dict[cur_cntx]\n",
    "    benchmark_df['metadata'][i]['total_n_distance'] = cur_d_score\n",
    "    benchmark_df['metadata'][i]['mean_dependency_distance'] = cur_dd_score"
   ]
  },
  {
   "cell_type": "code",
   "execution_count": 12,
   "id": "4981577a-9473-46ce-8b38-fd4d74dec99e",
   "metadata": {},
   "outputs": [],
   "source": [
    "benchmark_df.to_csv(BENCHMARK_DF, sep=';', index=False)"
   ]
  },
  {
   "cell_type": "markdown",
   "id": "823d7617",
   "metadata": {},
   "source": [
    "###  RAGminiBIOASQ"
   ]
  },
  {
   "cell_type": "code",
   "execution_count": 2,
   "id": "15a4b46e-89b0-45ee-89d8-e60dde2c4ab0",
   "metadata": {},
   "outputs": [],
   "source": [
    "FEATURE_FILE= \"RagMini_dependency_distance_and_total_num.csv\"\n",
    "BENCHMARK_DF = '/home/dzigen/Desktop/Projects/rag_project/data/ragminibioasq/tables/v1/chunked_docs.csv'"
   ]
  },
  {
   "cell_type": "code",
   "execution_count": 3,
   "id": "b11797b2",
   "metadata": {},
   "outputs": [],
   "source": [
    "benchmark_df= pd.read_csv(BENCHMARK_DF, sep=';')\n",
    "benchmark_df['metadata'] = benchmark_df['metadata'].map(lambda v: ast.literal_eval(v))\n",
    "features_df = pd.read_csv(FEATURE_FILE)"
   ]
  },
  {
   "cell_type": "code",
   "execution_count": 4,
   "id": "68eb9f4e",
   "metadata": {},
   "outputs": [],
   "source": [
    "dists_dict = {features_df['passage'][i]: features_df['scaled_total_dep_num'][i] for i in range(features_df.shape[0])}\n",
    "depend_dist_dict = {features_df['passage'][i]: features_df['scaled_depend_dist'][i] for i in range(features_df.shape[0])}"
   ]
  },
  {
   "cell_type": "code",
   "execution_count": 5,
   "id": "5b72bce8",
   "metadata": {},
   "outputs": [],
   "source": [
    "for i in range(benchmark_df.shape[0]):\n",
    "    cur_cntx = benchmark_df['chunks'][i]\n",
    "    cur_dd_score = depend_dist_dict[cur_cntx]\n",
    "    cur_d_score = dists_dict[cur_cntx]\n",
    "    benchmark_df['metadata'][i]['total_n_distance'] = cur_d_score\n",
    "    benchmark_df['metadata'][i]['mean_dependency_distance'] = cur_dd_score"
   ]
  },
  {
   "cell_type": "code",
   "execution_count": 6,
   "id": "3debd7b2",
   "metadata": {},
   "outputs": [],
   "source": [
    "benchmark_df.to_csv(BENCHMARK_DF, sep=';', index=False)"
   ]
  },
  {
   "cell_type": "code",
   "execution_count": null,
   "id": "2b0f30ac",
   "metadata": {},
   "outputs": [],
   "source": []
  },
  {
   "cell_type": "code",
   "execution_count": null,
   "id": "a54bc9a9",
   "metadata": {},
   "outputs": [],
   "source": []
  }
 ],
 "metadata": {
  "kernelspec": {
   "display_name": "base",
   "language": "python",
   "name": "python3"
  },
  "language_info": {
   "codemirror_mode": {
    "name": "ipython",
    "version": 3
   },
   "file_extension": ".py",
   "mimetype": "text/x-python",
   "name": "python",
   "nbconvert_exporter": "python",
   "pygments_lexer": "ipython3",
   "version": "3.11.4"
  }
 },
 "nbformat": 4,
 "nbformat_minor": 5
}
