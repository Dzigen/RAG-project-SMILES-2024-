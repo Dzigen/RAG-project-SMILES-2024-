{
 "cells": [
  {
   "cell_type": "code",
   "execution_count": 1,
   "id": "326bf9ab-75c7-4f9a-961f-b43473357c5c",
   "metadata": {},
   "outputs": [],
   "source": [
    "import pandas as pd\n",
    "import ast"
   ]
  },
  {
   "cell_type": "code",
   "execution_count": 2,
   "id": "905269d1-3efb-42b9-9e47-8d000712e6b3",
   "metadata": {},
   "outputs": [],
   "source": [
    "FEATURES_FILE = 'scores.txt'\n",
    "BENCHMARK_DF = '/trinity/home/team06/workspace/mikhail_workspace/rag_project/data/mtssquad/tables/v2/chunked_docs.csv'\n",
    "BASE_DATASET = '/trinity/home/team06/workspace/mikhail_workspace/rag_project/data/mtssquad/base_dataset.csv'"
   ]
  },
  {
   "cell_type": "code",
   "execution_count": 3,
   "id": "e7a10466-0cca-450a-8b92-8840b499cdea",
   "metadata": {
    "scrolled": true
   },
   "outputs": [],
   "source": [
    "benchmark_df= pd.read_csv(BENCHMARK_DF, sep=';')\n",
    "benchmark_df['metadata'] = benchmark_df['metadata'].map(lambda v: ast.literal_eval(v))\n",
    "\n",
    "base_df = pd.read_csv(BASE_DATASET, sep=';')"
   ]
  },
  {
   "cell_type": "code",
   "execution_count": 4,
   "id": "740c941a-1e79-43c3-8de3-ff428afe5178",
   "metadata": {},
   "outputs": [],
   "source": [
    "with open(FEATURES_FILE, 'r', encoding='utf-8') as fd:\n",
    "    david_scores = list(map(lambda v: float(v.strip()), fd.readlines())) \n",
    "\n",
    "unique_contexts = base_df['context'].unique()\n",
    "\n",
    "scores_dict = {cntx: score for cntx, score in zip(unique_contexts, david_scores)}"
   ]
  },
  {
   "cell_type": "code",
   "execution_count": 5,
   "id": "25c464a4-a8d3-40ce-9a1c-f5f1fff1a399",
   "metadata": {},
   "outputs": [],
   "source": [
    "for i in range(benchmark_df.shape[0]):\n",
    "    cur_cntx = benchmark_df['chunks'][i]\n",
    "    cur_score = scores_dict[cur_cntx]\n",
    "    benchmark_df['metadata'][i]['david_score'] = cur_score\n"
   ]
  },
  {
   "cell_type": "code",
   "execution_count": 6,
   "id": "a5c24db4-9ce0-4be8-9f9e-5c71e9af8454",
   "metadata": {},
   "outputs": [],
   "source": [
    "benchmark_df.to_csv(BENCHMARK_DF, sep=';', index=False)"
   ]
  },
  {
   "cell_type": "code",
   "execution_count": null,
   "id": "85a63de8-f561-4ab8-99f3-48744f05151c",
   "metadata": {},
   "outputs": [],
   "source": []
  }
 ],
 "metadata": {
  "kernelspec": {
   "display_name": "mikhail_venv",
   "language": "python",
   "name": "mikhail_venv"
  },
  "language_info": {
   "codemirror_mode": {
    "name": "ipython",
    "version": 3
   },
   "file_extension": ".py",
   "mimetype": "text/x-python",
   "name": "python",
   "nbconvert_exporter": "python",
   "pygments_lexer": "ipython3",
   "version": "3.10.9"
  }
 },
 "nbformat": 4,
 "nbformat_minor": 5
}
