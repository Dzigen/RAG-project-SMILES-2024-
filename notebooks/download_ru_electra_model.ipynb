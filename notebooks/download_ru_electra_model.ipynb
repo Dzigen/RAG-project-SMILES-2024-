{
 "cells": [
  {
   "cell_type": "code",
   "execution_count": 1,
   "id": "7b80b4e8-136b-46ff-bb47-4ef55ea189a1",
   "metadata": {},
   "outputs": [
    {
     "name": "stderr",
     "output_type": "stream",
     "text": [
      "/trinity/home/team06/workspace/mikhail_workspace/mikhail_venv/lib/python3.10/site-packages/tqdm/auto.py:21: TqdmWarning: IProgress not found. Please update jupyter and ipywidgets. See https://ipywidgets.readthedocs.io/en/stable/user_install.html\n",
      "  from .autonotebook import tqdm as notebook_tqdm\n"
     ]
    }
   ],
   "source": [
    "from transformers import AutoModel, AutoTokenizer\n",
    "\n",
    "MODEL_NAME = \"ai-forever/ruElectra-medium\"\n",
    "MODEL_SAVE_PATH = '/trinity/home/team06/workspace/mikhail_workspace/rag_project/models/ru_electra_medium'"
   ]
  },
  {
   "cell_type": "code",
   "execution_count": 2,
   "id": "0e6ae3f1-d273-4c96-83af-70cf00083104",
   "metadata": {},
   "outputs": [
    {
     "name": "stderr",
     "output_type": "stream",
     "text": [
      "/trinity/home/team06/workspace/mikhail_workspace/mikhail_venv/lib/python3.10/site-packages/transformers/tokenization_utils_base.py:1601: FutureWarning: `clean_up_tokenization_spaces` was not set. It will be set to `True` by default. This behavior will be depracted in transformers v4.45, and will be then set to `False` by default. For more details check this issue: https://github.com/huggingface/transformers/issues/31884\n",
      "  warnings.warn(\n"
     ]
    }
   ],
   "source": [
    "model = AutoModel.from_pretrained(MODEL_NAME).to('cuda')\n",
    "tokenizer = AutoTokenizer.from_pretrained(MODEL_NAME)"
   ]
  },
  {
   "cell_type": "code",
   "execution_count": 4,
   "id": "80a93a9d-58a6-47c2-bb20-7a37a3cdab3c",
   "metadata": {},
   "outputs": [
    {
     "data": {
      "text/plain": [
       "('/trinity/home/team06/workspace/mikhail_workspace/rag_project/models/ru_electra_medium/tokenizer_config.json',\n",
       " '/trinity/home/team06/workspace/mikhail_workspace/rag_project/models/ru_electra_medium/special_tokens_map.json',\n",
       " '/trinity/home/team06/workspace/mikhail_workspace/rag_project/models/ru_electra_medium/vocab.txt',\n",
       " '/trinity/home/team06/workspace/mikhail_workspace/rag_project/models/ru_electra_medium/added_tokens.json',\n",
       " '/trinity/home/team06/workspace/mikhail_workspace/rag_project/models/ru_electra_medium/tokenizer.json')"
      ]
     },
     "execution_count": 4,
     "metadata": {},
     "output_type": "execute_result"
    }
   ],
   "source": [
    "model.save_pretrained(MODEL_SAVE_PATH, safe_serialization=False)\n",
    "tokenizer.save_pretrained(MODEL_SAVE_PATH)"
   ]
  },
  {
   "cell_type": "code",
   "execution_count": null,
   "id": "42f8b155-1a34-4fb2-ad9e-ee71a4dc13bd",
   "metadata": {},
   "outputs": [],
   "source": []
  }
 ],
 "metadata": {
  "kernelspec": {
   "display_name": "mikhail_venv",
   "language": "python",
   "name": "mikhail_venv"
  },
  "language_info": {
   "codemirror_mode": {
    "name": "ipython",
    "version": 3
   },
   "file_extension": ".py",
   "mimetype": "text/x-python",
   "name": "python",
   "nbconvert_exporter": "python",
   "pygments_lexer": "ipython3",
   "version": "3.10.9"
  }
 },
 "nbformat": 4,
 "nbformat_minor": 5
}
