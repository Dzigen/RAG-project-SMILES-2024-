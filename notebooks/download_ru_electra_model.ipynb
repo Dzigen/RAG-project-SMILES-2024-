{
 "cells": [
  {
   "cell_type": "code",
   "execution_count": 1,
   "id": "7b80b4e8-136b-46ff-bb47-4ef55ea189a1",
   "metadata": {},
   "outputs": [],
   "source": [
    "from transformers import AutoModel, AutoTokenizer\n",
    "\n",
    "MODEL_NAME = \"ai-forever/ruElectra-medium\"\n",
    "MODEL_SAVE_PATH = '../models/ru_electra_medium'"
   ]
  },
  {
   "cell_type": "code",
   "execution_count": 2,
   "id": "0e6ae3f1-d273-4c96-83af-70cf00083104",
   "metadata": {},
   "outputs": [
    {
     "data": {
      "application/vnd.jupyter.widget-view+json": {
       "model_id": "1777ec2351884af1a5043f7bec30c91e",
       "version_major": 2,
       "version_minor": 0
      },
      "text/plain": [
       "config.json:   0%|          | 0.00/734 [00:00<?, ?B/s]"
      ]
     },
     "metadata": {},
     "output_type": "display_data"
    },
    {
     "data": {
      "application/vnd.jupyter.widget-view+json": {
       "model_id": "99050141372a48e6894a7d7557652404",
       "version_major": 2,
       "version_minor": 0
      },
      "text/plain": [
       "pytorch_model.bin:   0%|          | 0.00/356M [00:00<?, ?B/s]"
      ]
     },
     "metadata": {},
     "output_type": "display_data"
    },
    {
     "name": "stderr",
     "output_type": "stream",
     "text": [
      "/home/dzigen/miniconda3/lib/python3.11/site-packages/torch/_utils.py:831: UserWarning: TypedStorage is deprecated. It will be removed in the future and UntypedStorage will be the only storage class. This should only matter to you if you are using storages directly.  To access UntypedStorage directly, use tensor.untyped_storage() instead of tensor.storage()\n",
      "  return self.fget.__get__(instance, owner)()\n"
     ]
    },
    {
     "data": {
      "application/vnd.jupyter.widget-view+json": {
       "model_id": "840fc098714743e0902ec5ddb6555992",
       "version_major": 2,
       "version_minor": 0
      },
      "text/plain": [
       "vocab.txt:   0%|          | 0.00/909k [00:00<?, ?B/s]"
      ]
     },
     "metadata": {},
     "output_type": "display_data"
    }
   ],
   "source": [
    "model = AutoModel.from_pretrained(MODEL_NAME).to('cuda')\n",
    "tokenizer = AutoTokenizer.from_pretrained(MODEL_NAME)"
   ]
  },
  {
   "cell_type": "code",
   "execution_count": 3,
   "id": "80a93a9d-58a6-47c2-bb20-7a37a3cdab3c",
   "metadata": {},
   "outputs": [
    {
     "data": {
      "text/plain": [
       "('../models/ru_electra_medium/tokenizer_config.json',\n",
       " '../models/ru_electra_medium/special_tokens_map.json',\n",
       " '../models/ru_electra_medium/vocab.txt',\n",
       " '../models/ru_electra_medium/added_tokens.json',\n",
       " '../models/ru_electra_medium/tokenizer.json')"
      ]
     },
     "execution_count": 3,
     "metadata": {},
     "output_type": "execute_result"
    }
   ],
   "source": [
    "model.save_pretrained(MODEL_SAVE_PATH, safe_serialization=False)\n",
    "tokenizer.save_pretrained(MODEL_SAVE_PATH)"
   ]
  },
  {
   "cell_type": "code",
   "execution_count": null,
   "id": "42f8b155-1a34-4fb2-ad9e-ee71a4dc13bd",
   "metadata": {},
   "outputs": [],
   "source": []
  }
 ],
 "metadata": {
  "kernelspec": {
   "display_name": "base",
   "language": "python",
   "name": "python3"
  },
  "language_info": {
   "codemirror_mode": {
    "name": "ipython",
    "version": 3
   },
   "file_extension": ".py",
   "mimetype": "text/x-python",
   "name": "python",
   "nbconvert_exporter": "python",
   "pygments_lexer": "ipython3",
   "version": "3.11.4"
  }
 },
 "nbformat": 4,
 "nbformat_minor": 5
}
