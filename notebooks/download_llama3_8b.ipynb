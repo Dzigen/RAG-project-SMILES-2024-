{
 "cells": [
  {
   "cell_type": "code",
   "execution_count": 1,
   "id": "819cb08b-0ccd-4c8d-9d77-fe15a96d3779",
   "metadata": {},
   "outputs": [],
   "source": [
    "from transformers import AutoTokenizer, AutoModelForCausalLM\n",
    "from transformers import  pipeline\n",
    "import torch\n",
    "import gc"
   ]
  },
  {
   "cell_type": "code",
   "execution_count": 2,
   "id": "505292e3-89ba-4679-b3b3-ae218e658ba8",
   "metadata": {
    "execution": {
     "iopub.execute_input": "2024-09-02T15:26:45.474149Z",
     "iopub.status.busy": "2024-09-02T15:26:45.473018Z",
     "iopub.status.idle": "2024-09-02T15:26:45.698670Z",
     "shell.execute_reply": "2024-09-02T15:26:45.697949Z",
     "shell.execute_reply.started": "2024-09-02T15:26:45.474101Z"
    }
   },
   "outputs": [],
   "source": [
    "gc.collect()\n",
    "torch.cuda.empty_cache()"
   ]
  },
  {
   "cell_type": "code",
   "execution_count": 3,
   "id": "3a55a85d-46a4-4b07-94a8-9dc445e4b02f",
   "metadata": {
    "execution": {
     "iopub.execute_input": "2024-09-02T15:26:47.023549Z",
     "iopub.status.busy": "2024-09-02T15:26:47.022557Z",
     "iopub.status.idle": "2024-09-02T15:26:47.040665Z",
     "shell.execute_reply": "2024-09-02T15:26:47.039761Z",
     "shell.execute_reply.started": "2024-09-02T15:26:47.023502Z"
    }
   },
   "outputs": [],
   "source": [
    "SAVE_MODEL_PATH = '../models/Undi95/Meta-Llama-3-8B-Instruct-hf'"
   ]
  },
  {
   "cell_type": "code",
   "execution_count": 4,
   "id": "a9e6b6e3-2763-4fc3-ba9c-d6d20f8bde25",
   "metadata": {
    "execution": {
     "iopub.execute_input": "2024-09-02T15:26:48.492198Z",
     "iopub.status.busy": "2024-09-02T15:26:48.490949Z",
     "iopub.status.idle": "2024-09-02T15:39:30.207398Z",
     "shell.execute_reply": "2024-09-02T15:39:30.204880Z",
     "shell.execute_reply.started": "2024-09-02T15:26:48.492150Z"
    }
   },
   "outputs": [
    {
     "data": {
      "application/vnd.jupyter.widget-view+json": {
       "model_id": "26f0fa90fdfe429581510c78ad02505f",
       "version_major": 2,
       "version_minor": 0
      },
      "text/plain": [
       "tokenizer_config.json:   0%|          | 0.00/51.0k [00:00<?, ?B/s]"
      ]
     },
     "metadata": {},
     "output_type": "display_data"
    },
    {
     "data": {
      "application/vnd.jupyter.widget-view+json": {
       "model_id": "bf53b9c08f35410e8a0b64c955ba6f8d",
       "version_major": 2,
       "version_minor": 0
      },
      "text/plain": [
       "tokenizer.json:   0%|          | 0.00/9.08M [00:00<?, ?B/s]"
      ]
     },
     "metadata": {},
     "output_type": "display_data"
    },
    {
     "data": {
      "application/vnd.jupyter.widget-view+json": {
       "model_id": "8c3699f312ce485bb9a10d3fd6dceb69",
       "version_major": 2,
       "version_minor": 0
      },
      "text/plain": [
       "special_tokens_map.json:   0%|          | 0.00/73.0 [00:00<?, ?B/s]"
      ]
     },
     "metadata": {},
     "output_type": "display_data"
    },
    {
     "name": "stderr",
     "output_type": "stream",
     "text": [
      "Special tokens have been added in the vocabulary, make sure the associated word embeddings are fine-tuned or trained.\n"
     ]
    },
    {
     "data": {
      "application/vnd.jupyter.widget-view+json": {
       "model_id": "59638af64b7b481d819eeef0d98c818a",
       "version_major": 2,
       "version_minor": 0
      },
      "text/plain": [
       "Downloading shards:   0%|          | 0/4 [00:00<?, ?it/s]"
      ]
     },
     "metadata": {},
     "output_type": "display_data"
    },
    {
     "data": {
      "application/vnd.jupyter.widget-view+json": {
       "model_id": "bc4087ee08384f62a601206f36f1aed4",
       "version_major": 2,
       "version_minor": 0
      },
      "text/plain": [
       "model-00002-of-00004.safetensors:   2%|2         | 115M/5.00G [00:00<?, ?B/s]"
      ]
     },
     "metadata": {},
     "output_type": "display_data"
    },
    {
     "data": {
      "application/vnd.jupyter.widget-view+json": {
       "model_id": "bda90da459834e45b83b0d1e697162dd",
       "version_major": 2,
       "version_minor": 0
      },
      "text/plain": [
       "model-00003-of-00004.safetensors:   0%|          | 0.00/4.92G [00:00<?, ?B/s]"
      ]
     },
     "metadata": {},
     "output_type": "display_data"
    },
    {
     "data": {
      "application/vnd.jupyter.widget-view+json": {
       "model_id": "08f34cd6c21243dd86f77defd4eb77b4",
       "version_major": 2,
       "version_minor": 0
      },
      "text/plain": [
       "model-00004-of-00004.safetensors:   0%|          | 0.00/1.17G [00:00<?, ?B/s]"
      ]
     },
     "metadata": {},
     "output_type": "display_data"
    },
    {
     "data": {
      "application/vnd.jupyter.widget-view+json": {
       "model_id": "51fc618dcbec4f00989fefb60e80e00c",
       "version_major": 2,
       "version_minor": 0
      },
      "text/plain": [
       "Loading checkpoint shards:   0%|          | 0/4 [00:00<?, ?it/s]"
      ]
     },
     "metadata": {},
     "output_type": "display_data"
    }
   ],
   "source": [
    "tokenizer = AutoTokenizer.from_pretrained(\"Undi95/Meta-Llama-3-8B-Instruct-hf\")\n",
    "\n",
    "model = AutoModelForCausalLM.from_pretrained(\"Undi95/Meta-Llama-3-8B-Instruct-hf\",\n",
    "                                             device_map=\"cpu\")"
   ]
  },
  {
   "cell_type": "code",
   "execution_count": null,
   "id": "b8a34947-f0b7-4273-85e3-3d11499198d6",
   "metadata": {
    "execution": {
     "iopub.status.busy": "2024-09-02T15:39:30.215438Z",
     "iopub.status.idle": "2024-09-02T15:39:30.216497Z",
     "shell.execute_reply": "2024-09-02T15:39:30.216217Z",
     "shell.execute_reply.started": "2024-09-02T15:39:30.216183Z"
    }
   },
   "outputs": [],
   "source": [
    "model.save_pretrained(SAVE_MODEL_PATH)\n",
    "tokenizer.save_pretrained(SAVE_MODEL_PATH)"
   ]
  },
  {
   "cell_type": "code",
   "execution_count": null,
   "id": "15ca6636-8770-4170-ad57-7ba3563ecf24",
   "metadata": {},
   "outputs": [],
   "source": []
  }
 ],
 "metadata": {
  "kernelspec": {
   "display_name": "DataSphere Kernel",
   "language": "python",
   "name": "python3"
  },
  "language_info": {
   "codemirror_mode": {
    "name": "ipython",
    "version": 3
   },
   "file_extension": ".py",
   "mimetype": "text/x-python",
   "name": "python",
   "nbconvert_exporter": "python",
   "pygments_lexer": "ipython3",
   "version": "3.11.4"
  }
 },
 "nbformat": 4,
 "nbformat_minor": 5
}
