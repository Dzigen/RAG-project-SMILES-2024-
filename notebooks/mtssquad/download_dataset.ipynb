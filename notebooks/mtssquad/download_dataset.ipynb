{
 "cells": [
  {
   "cell_type": "code",
   "execution_count": 15,
   "metadata": {},
   "outputs": [],
   "source": [
    "import pandas as pd\n",
    "\n",
    "DOWNLOAD_URL = \"hf://datasets/MTS-AI-SearchSkill/MTSBerquad/MTSBerquad_LFQA_Dataset.csv\"\n",
    "SAVE_PATH = '../../data/mtssquad/base_dataset.csv'"
   ]
  },
  {
   "cell_type": "code",
   "execution_count": null,
   "metadata": {},
   "outputs": [],
   "source": [
    "def print_df_stat(df):\n",
    "    print(\"===Статистика по исходному датасету===\")\n",
    "    print(\"Количество строк в датасете: \", df.shape[0])\n",
    "    print(\"Количество уникальных context-текстов: \", len(df['context'].unique()))\n",
    "    print(\"Количество уникальных question-текстов: \", len(df['question'].unique()))\n",
    "    print(\"Количество уникальных answer-текстов: \", len(df['answer'].unique()))"
   ]
  },
  {
   "cell_type": "code",
   "execution_count": 3,
   "metadata": {},
   "outputs": [],
   "source": [
    "df = pd.read_csv(DOWNLOAD_URL)"
   ]
  },
  {
   "cell_type": "code",
   "execution_count": 18,
   "metadata": {},
   "outputs": [
    {
     "name": "stdout",
     "output_type": "stream",
     "text": [
      "===Статистика по исходному датасету===\n",
      "Количество строк в датасете:  53167\n",
      "Количество уникальных context-текстов:  9032\n",
      "Количество уникальных question-текстов:  49908\n",
      "Количество уникальных answer-текстов:  47967\n"
     ]
    }
   ],
   "source": [
    "print_df_stat(df)"
   ]
  },
  {
   "cell_type": "code",
   "execution_count": 16,
   "metadata": {},
   "outputs": [],
   "source": [
    "df.to_csv(SAVE_PATH, sep=';', index=False)"
   ]
  },
  {
   "cell_type": "code",
   "execution_count": null,
   "metadata": {},
   "outputs": [],
   "source": []
  }
 ],
 "metadata": {
  "kernelspec": {
   "display_name": ".nlp_venv",
   "language": "python",
   "name": "python3"
  },
  "language_info": {
   "codemirror_mode": {
    "name": "ipython",
    "version": 3
   },
   "file_extension": ".py",
   "mimetype": "text/x-python",
   "name": "python",
   "nbconvert_exporter": "python",
   "pygments_lexer": "ipython3",
   "version": "3.10.12"
  },
  "orig_nbformat": 4
 },
 "nbformat": 4,
 "nbformat_minor": 2
}
