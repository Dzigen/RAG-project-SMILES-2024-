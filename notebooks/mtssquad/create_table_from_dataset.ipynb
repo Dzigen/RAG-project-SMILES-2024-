{
 "cells": [
  {
   "cell_type": "code",
   "execution_count": 27,
   "metadata": {
    "editable": true,
    "slideshow": {
     "slide_type": ""
    },
    "tags": []
   },
   "outputs": [],
   "source": [
    "import pandas as pd\n",
    "from tqdm import tqdm\n",
    "import pandas as pd\n",
    "import ast\n",
    "from collections import Counter\n",
    "import json\n",
    "import hashlib\n",
    "\n",
    "LOAD_PATH = '../../data/mtssquad/base_dataset.csv'\n",
    "SAVE_TABLE_PATH = '../../data/mtssquad/tables/v3/chunked_docs.csv'\n",
    "SAVE_BENCHMARK_PATH = '../../data/mtssquad/tables/v3/benchmark.csv'"
   ]
  },
  {
   "cell_type": "code",
   "execution_count": 28,
   "metadata": {},
   "outputs": [],
   "source": [
    "def print_df_stat(df):\n",
    "    print(\"===Статистика по исходному датасету===\")\n",
    "    print(\"Количество строк в датасете: \", df.shape[0])\n",
    "    print(\"Количество уникальных context-текстов: \", len(df['context'].unique()))\n",
    "    print(\"Количество уникальных question-текстов: \", len(df['question'].unique()))\n",
    "    print(\"Количество уникальных answer-текстов: \", len(df['answer'].unique()))\n",
    "\n",
    "def get_md5_of_string(input_string):\n",
    "    return hashlib.md5(input_string.encode()).hexdigest()"
   ]
  },
  {
   "cell_type": "code",
   "execution_count": 29,
   "metadata": {},
   "outputs": [],
   "source": [
    "base_df = pd.read_csv(LOAD_PATH, sep=';')"
   ]
  },
  {
   "cell_type": "markdown",
   "metadata": {},
   "source": [
    "##### Удаление дубликатов (questions)"
   ]
  },
  {
   "cell_type": "code",
   "execution_count": 30,
   "metadata": {},
   "outputs": [],
   "source": [
    "q_filtered_df = base_df.drop_duplicates(subset=['question']).reset_index(drop=True)"
   ]
  },
  {
   "cell_type": "code",
   "execution_count": 31,
   "metadata": {},
   "outputs": [
    {
     "name": "stdout",
     "output_type": "stream",
     "text": [
      "===Статистика по исходному датасету===\n",
      "Количество строк в датасете:  49908\n",
      "Количество уникальных context-текстов:  9031\n",
      "Количество уникальных question-текстов:  49908\n",
      "Количество уникальных answer-текстов:  46942\n"
     ]
    }
   ],
   "source": [
    "print_df_stat(q_filtered_df)"
   ]
  },
  {
   "cell_type": "markdown",
   "metadata": {},
   "source": [
    "##### Формирование таблицы с чанками для базы данных"
   ]
  },
  {
   "cell_type": "code",
   "execution_count": 32,
   "metadata": {},
   "outputs": [
    {
     "name": "stderr",
     "output_type": "stream",
     "text": [
      "100%|██████████| 49908/49908 [00:03<00:00, 16268.86it/s]"
     ]
    },
    {
     "name": "stdout",
     "output_type": "stream",
     "text": [
      "all chunks:  49908\n",
      "unique chunks:  9031\n"
     ]
    },
    {
     "name": "stderr",
     "output_type": "stream",
     "text": [
      "\n"
     ]
    }
   ],
   "source": [
    "# Создание таблицы для формирования бд\n",
    "tmp_data = []\n",
    "chunk_ids_seq = []\n",
    "unique_chunk_ids = []\n",
    "\n",
    "for i in tqdm(range(q_filtered_df.shape[0])):\n",
    "    chunk = q_filtered_df['context'][i]\n",
    "    if pd.isna(chunk):\n",
    "        continue\n",
    "\n",
    "    chunk_id = get_md5_of_string(chunk)\n",
    "    chunk_ids_seq.append([chunk_id])\n",
    "\n",
    "    if chunk_id not in unique_chunk_ids:\n",
    "        document = [chunk_id, chunk, {'doc_id': chunk_id, 'chunk_id': chunk_id}]\n",
    "        unique_chunk_ids.append(chunk_id)\n",
    "        tmp_data.append(document)\n",
    "\n",
    "q_filtered_df['chunk_id'] = chunk_ids_seq\n",
    "table_df = pd.DataFrame(tmp_data, columns=['chunk_id', 'chunks', 'metadata'])\n",
    "\n",
    "print(\"all chunks: \", q_filtered_df['context'].shape[0])\n",
    "print(\"unique chunks: \", len(unique_chunk_ids))"
   ]
  },
  {
   "cell_type": "code",
   "execution_count": 36,
   "metadata": {},
   "outputs": [],
   "source": [
    "table_df.to_csv(SAVE_TABLE_PATH, sep=';', index=False)"
   ]
  },
  {
   "cell_type": "markdown",
   "metadata": {},
   "source": [
    "#### Формирование датасета с зависимостями на таблицу чанков"
   ]
  },
  {
   "cell_type": "code",
   "execution_count": 37,
   "metadata": {},
   "outputs": [
    {
     "name": "stderr",
     "output_type": "stream",
     "text": [
      "100%|██████████| 49908/49908 [00:00<00:00, 89396.46it/s] \n"
     ]
    }
   ],
   "source": [
    "tmp_data = []\n",
    "for i in tqdm(range(q_filtered_df.shape[0])):\n",
    "    tmp_data.append(\n",
    "        {'question': q_filtered_df['question'][i], 'answer': q_filtered_df['answer'][i], \n",
    "         'chunk_ids': list(set(q_filtered_df['chunk_id'][i]))})"
   ]
  },
  {
   "cell_type": "code",
   "execution_count": 38,
   "metadata": {},
   "outputs": [],
   "source": [
    "benchmark_df = pd.DataFrame(tmp_data)"
   ]
  },
  {
   "cell_type": "code",
   "execution_count": 39,
   "metadata": {},
   "outputs": [
    {
     "data": {
      "text/plain": [
       "Counter({1: 49908})"
      ]
     },
     "execution_count": 39,
     "metadata": {},
     "output_type": "execute_result"
    }
   ],
   "source": [
    "Counter(list(map(len, benchmark_df['chunk_ids'])))"
   ]
  },
  {
   "cell_type": "code",
   "execution_count": 40,
   "metadata": {},
   "outputs": [],
   "source": [
    "benchmark_df.to_csv(SAVE_BENCHMARK_PATH, sep=';', index=False)"
   ]
  },
  {
   "cell_type": "code",
   "execution_count": null,
   "metadata": {},
   "outputs": [],
   "source": []
  }
 ],
 "metadata": {
  "kernelspec": {
   "display_name": "Python 3 (ipykernel)",
   "language": "python",
   "name": "python3"
  },
  "language_info": {
   "codemirror_mode": {
    "name": "ipython",
    "version": 3
   },
   "file_extension": ".py",
   "mimetype": "text/x-python",
   "name": "python",
   "nbconvert_exporter": "python",
   "pygments_lexer": "ipython3",
   "version": "3.11.4"
  }
 },
 "nbformat": 4,
 "nbformat_minor": 4
}
