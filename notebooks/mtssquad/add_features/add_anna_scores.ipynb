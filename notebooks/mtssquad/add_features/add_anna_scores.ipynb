{
 "cells": [
  {
   "cell_type": "code",
   "execution_count": 12,
   "id": "4181246d-6fe7-4477-9454-fe8efc6c222f",
   "metadata": {},
   "outputs": [],
   "source": [
    "import pandas as pd\n",
    "import ast"
   ]
  },
  {
   "cell_type": "code",
   "execution_count": 13,
   "id": "288d6941-2657-426a-9326-a6e2174c54b7",
   "metadata": {},
   "outputs": [],
   "source": [
    "FEATURES_FILE = 'синт_зависимости_0_1.csv'\n",
    "BENCHMARK_DF = '/trinity/home/team06/workspace/mikhail_workspace/rag_project/data/mtssquad/tables/v2/chunked_docs.csv'"
   ]
  },
  {
   "cell_type": "code",
   "execution_count": 14,
   "id": "d08bab66-82ad-4b27-9421-c7336cda79f2",
   "metadata": {},
   "outputs": [],
   "source": [
    "benchmark_df= pd.read_csv(BENCHMARK_DF, sep=';')\n",
    "benchmark_df['metadata'] = benchmark_df['metadata'].map(lambda v: ast.literal_eval(v))\n",
    "\n",
    "features_df = pd.read_csv(FEATURES_FILE)"
   ]
  },
  {
   "cell_type": "code",
   "execution_count": 15,
   "id": "9cf8c14a-c56f-46e8-81b9-1ccee5e25d54",
   "metadata": {},
   "outputs": [],
   "source": [
    "scores_dict = {features_df['context'][i]: features_df['scaled_dependencies'][i] for i in range(features_df.shape[0])}"
   ]
  },
  {
   "cell_type": "code",
   "execution_count": 16,
   "id": "c0631caf-54da-441f-9180-12b7916e0059",
   "metadata": {},
   "outputs": [],
   "source": [
    "for i in range(benchmark_df.shape[0]):\n",
    "    cur_cntx = benchmark_df['chunks'][i]\n",
    "    cur_score = scores_dict[cur_cntx]\n",
    "    benchmark_df['metadata'][i]['anna_score'] = cur_score"
   ]
  },
  {
   "cell_type": "code",
   "execution_count": 17,
   "id": "4981577a-9473-46ce-8b38-fd4d74dec99e",
   "metadata": {},
   "outputs": [],
   "source": [
    "benchmark_df.to_csv(BENCHMARK_DF, sep=';', index=False)"
   ]
  },
  {
   "cell_type": "code",
   "execution_count": null,
   "id": "15a4b46e-89b0-45ee-89d8-e60dde2c4ab0",
   "metadata": {},
   "outputs": [],
   "source": []
  }
 ],
 "metadata": {
  "kernelspec": {
   "display_name": "mikhail_venv",
   "language": "python",
   "name": "mikhail_venv"
  },
  "language_info": {
   "codemirror_mode": {
    "name": "ipython",
    "version": 3
   },
   "file_extension": ".py",
   "mimetype": "text/x-python",
   "name": "python",
   "nbconvert_exporter": "python",
   "pygments_lexer": "ipython3",
   "version": "3.10.9"
  }
 },
 "nbformat": 4,
 "nbformat_minor": 5
}
