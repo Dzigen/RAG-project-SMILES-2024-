{
 "cells": [
  {
   "cell_type": "code",
   "execution_count": 1,
   "id": "e5e0f869-c555-45d8-8587-a20c684717ee",
   "metadata": {},
   "outputs": [],
   "source": [
    "import sys\n",
    "#BASE_DIR = \"/home/dzigen/Desktop/ITMO/smiles2024/RAG-project-SMILES-2024-\"\n",
    "BASE_DIR = \"/trinity/home/team06/workspace/mikhail_workspace/rag_project\"\n",
    "sys.path.insert(0, BASE_DIR)"
   ]
  },
  {
   "cell_type": "code",
   "execution_count": 2,
   "id": "c20625f1-17fc-4296-9e6a-9acdac18cf9e",
   "metadata": {},
   "outputs": [
    {
     "name": "stderr",
     "output_type": "stream",
     "text": [
      "/trinity/home/team06/workspace/mikhail_workspace/mikhail_venv/lib/python3.10/site-packages/tqdm/auto.py:21: TqdmWarning: IProgress not found. Please update jupyter and ipywidgets. See https://ipywidgets.readthedocs.io/en/stable/user_install.html\n",
      "  from .autonotebook import tqdm as notebook_tqdm\n"
     ]
    }
   ],
   "source": [
    "from src.Scorer import LLM_SimilarityScorer, SimilarityScorerConfig\n",
    "from src.Reader import LLM_Model, LLM_Config"
   ]
  },
  {
   "cell_type": "code",
   "execution_count": 3,
   "id": "9bc93fae-9033-4643-9a03-bd0e85148d69",
   "metadata": {},
   "outputs": [
    {
     "name": "stderr",
     "output_type": "stream",
     "text": [
      "Loading checkpoint shards: 100%|██████████| 4/4 [03:28<00:00, 52.16s/it]\n"
     ]
    }
   ],
   "source": [
    "reader_config = LLM_Config()\n",
    "READER = LLM_Model(reader_config)"
   ]
  },
  {
   "cell_type": "code",
   "execution_count": 4,
   "id": "296d46b5-7087-4e89-8643-39a4b6f23763",
   "metadata": {},
   "outputs": [],
   "source": [
    "scorer_config = SimilarityScorerConfig(\n",
    "        system_prompt = '''Ты - экспертная система, задача которой - оценить похожесть (смысловую) двух текстов. На вход поступает два текста, твоя задача - вернуть одну из двух меток: \"{sim_label}\" - тексты содержат одинаковую семантическую информацию (равны по смыслу) и \"{dissim_label}\" - Тексты содержат разную сементическую информацию (отличаются по смыслу). Если в текстах идёт описание разные объектов/cущностей, то они разные: необходимо поставить метку \"{dissim_label}\". Не пиши ничего другого, кроме предсказываемой метки релевантности: только \"{sim_label}\" или \"{dissim_label}\".\n",
    "\n",
    "Примеры: \n",
    "\n",
    "Текст #1: У меня нет ответа на ваш вопрос.\n",
    "Текст #2: У меня нет ответа на ваш вопрос.\n",
    "Метка: {sim_label}\n",
    "\n",
    "Текст #1: У меня нет ответа на ваш вопрос.\n",
    "Текст #2: У меня есть ответ на ваш вопрос.\n",
    "Метка: {dissim_label}\n",
    "\n",
    "Текст #1: У меня нет ответа на ваш вопрос.\n",
    "Текст #2: У меня нет соответствующей информации для ответа на ваш вопрос.\n",
    "Метка: {sim_label}\n",
    "\n",
    "Текст #1: У меня нет ответа на ваш вопрос.\n",
    "Текст #2: У меня есть соответствующая информация для ответа на ваш вопрос. \n",
    "Метка: {dissim_label}\n",
    "\n",
    "Текст #1: У меня нет ответа на ваш вопрос.\n",
    "Текст #2: У меня нет информации, чтобы ответить на ваш вопрос.\n",
    "Метка: {sim_label}\n",
    "\n",
    "Текст #1: У меня нет ответа на ваш вопрос.\n",
    "Текст #2: У меня нет нужной информации для ответа на ваш вопрос.\n",
    "Метка: {sim_label}\n",
    "\n",
    "Текст #1: У меня нет ответа на ваш вопрос.\n",
    "Текст #2: У меня есть нужная информации для ответа на ваш вопрос.\n",
    "Метка: {dissim_label}\n",
    "\n",
    "Текст #1: У меня нет ответа на ваш вопрос.\n",
    "Текст #2: У меня нет необходимой информации для ответа на ваш вопрос.\n",
    "Метка: {sim_label}\n",
    "\n",
    "Текст #1: У меня нет ответа на ваш вопрос.\n",
    "Текст #2: У меня есть информации для ответа на ваш вопрос.\n",
    "Метка: {dissim_label}\n",
    "\n",
    "Текст #1: У меня нет ответа на ваш вопрос.\n",
    "Текст #2: Чай будет вкуснее, если его нагреть и добавить сахар.\n",
    "Метка: {dissim_label}\n",
    "\n",
    "Текст #1: У меня нет ответа на ваш вопрос.\n",
    "Текст #2: Дельфины живут в больших водоёмах.\n",
    "Метка: {dissim_label}''',\n",
    "    user_prompt_template = \"Текст #1: {txt1}\\nТекст #2: {txt2}\\nМетка: \"\n",
    ")"
   ]
  },
  {
   "cell_type": "code",
   "execution_count": 5,
   "id": "c83f91c9-4936-4707-b4ed-7acfba2fff5f",
   "metadata": {},
   "outputs": [],
   "source": [
    "SCORER = LLM_SimilarityScorer(scorer_config, READER)"
   ]
  },
  {
   "cell_type": "code",
   "execution_count": 6,
   "id": "f10c6d56-dd5e-475d-aa4c-51ad5d4d4840",
   "metadata": {},
   "outputs": [],
   "source": [
    "examples = [\n",
    "    ['Я могу ответить на твой вопрос', 'У меня нет необходимой информации для ответа на твой вопрос'],\n",
    "    ['У меня нет ответа на твой вопрос', 'У меня есть ответ на вопрос'],\n",
    "    ['Дельфины живут в воду', \"Чай вкуснее, если он горячий\"],\n",
    "    [\"Когда родился Александр Сергеевич Пушкин?\", \"Ф. М. Достоевский родился 30 октября (11 ноября) 1821 г. в семье врача московской Мариинской больницы для бедных Михаила Андреевича Достоевского.\"],\n",
    "    [\"Кто написал книгу 'Атлант расправил плечи'?\", \"«Атла́нт расправил плечи» (англ. Atlas Shrugged, дословно — «Атлант пожал плечами») — роман-антиутопия американской писательницы Айн Рэнд, впервые опубликованный в 1957 году. Является четвёртым и последним романом Рэнд, а также самым длинным.\"]\n",
    "]"
   ]
  },
  {
   "cell_type": "code",
   "execution_count": 7,
   "id": "89479be4-d56a-44da-807b-42a79b42aba2",
   "metadata": {},
   "outputs": [
    {
     "name": "stdout",
     "output_type": "stream",
     "text": [
      "\n",
      "EXAMPLE #1\n",
      "TEXT 1:\n",
      "Я могу ответить на твой вопрос\n",
      "TEXT 2:\n",
      "У меня нет необходимой информации для ответа на твой вопрос\n",
      "SCORE:\n",
      "разные\n",
      "\n",
      "EXAMPLE #1\n",
      "TEXT 1:\n",
      "У меня нет ответа на твой вопрос\n",
      "TEXT 2:\n",
      "У меня есть ответ на вопрос\n",
      "SCORE:\n",
      "разные\n",
      "\n",
      "EXAMPLE #1\n",
      "TEXT 1:\n",
      "Дельфины живут в воду\n",
      "TEXT 2:\n",
      "Чай вкуснее, если он горячий\n",
      "SCORE:\n",
      "разные\n",
      "\n",
      "EXAMPLE #1\n",
      "TEXT 1:\n",
      "Когда родился Александр Сергеевич Пушкин?\n",
      "TEXT 2:\n",
      "Ф. М. Достоевский родился 30 октября (11 ноября) 1821 г. в семье врача московской Мариинской больницы для бедных Михаила Андреевича Достоевского.\n",
      "SCORE:\n",
      "похожие\n",
      "\n",
      "EXAMPLE #1\n",
      "TEXT 1:\n",
      "Кто написал книгу 'Атлант расправил плечи'?\n",
      "TEXT 2:\n",
      "«Атла́нт расправил плечи» (англ. Atlas Shrugged, дословно — «Атлант пожал плечами») — роман-антиутопия американской писательницы Айн Рэнд, впервые опубликованный в 1957 году. Является четвёртым и последним романом Рэнд, а также самым длинным.\n",
      "SCORE:\n",
      "похожие\n"
     ]
    }
   ],
   "source": [
    "for i, example_pair in enumerate(examples):\n",
    "    print(\"\\nEXAMPLE #1\")\n",
    "    print(f\"TEXT 1:\\n{example_pair[0]}\")\n",
    "    print(f\"TEXT 2:\\n{example_pair[1]}\")\n",
    "    \n",
    "    predicted_score = SCORER.predict(example_pair[0], [example_pair[1]])\n",
    "    print(f\"SCORE:\\n{predicted_score[0]}\")"
   ]
  },
  {
   "cell_type": "code",
   "execution_count": null,
   "id": "4c939dc2-8133-47d1-8bd5-970695c36b8e",
   "metadata": {},
   "outputs": [],
   "source": []
  },
  {
   "cell_type": "code",
   "execution_count": null,
   "id": "9cb3e499-148f-4062-9437-adccd10a4159",
   "metadata": {},
   "outputs": [],
   "source": []
  }
 ],
 "metadata": {
  "kernelspec": {
   "display_name": "mikhail_venv",
   "language": "python",
   "name": "mikhail_venv"
  },
  "language_info": {
   "codemirror_mode": {
    "name": "ipython",
    "version": 3
   },
   "file_extension": ".py",
   "mimetype": "text/x-python",
   "name": "python",
   "nbconvert_exporter": "python",
   "pygments_lexer": "ipython3",
   "version": "3.10.9"
  }
 },
 "nbformat": 4,
 "nbformat_minor": 5
}
