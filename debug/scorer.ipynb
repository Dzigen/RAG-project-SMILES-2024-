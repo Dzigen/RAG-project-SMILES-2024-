{
 "cells": [
  {
   "cell_type": "code",
   "execution_count": 1,
   "id": "86e92136-bf07-4bd3-b82a-4fd21acff5e8",
   "metadata": {},
   "outputs": [],
   "source": [
    "import sys\n",
    "#BASE_DIR = \"/home/dzigen/Desktop/ITMO/smiles2024/RAG-project-SMILES-2024-\"\n",
    "BASE_DIR = \"/trinity/home/team06/workspace/mikhail_workspace/rag_project\"\n",
    "sys.path.insert(0, BASE_DIR)"
   ]
  },
  {
   "cell_type": "code",
   "execution_count": 2,
   "id": "a07f57da-3287-4ba2-939e-38479eb9671c",
   "metadata": {},
   "outputs": [
    {
     "name": "stderr",
     "output_type": "stream",
     "text": [
      "/trinity/home/team06/workspace/mikhail_workspace/mikhail_venv/lib/python3.10/site-packages/tqdm/auto.py:21: TqdmWarning: IProgress not found. Please update jupyter and ipywidgets. See https://ipywidgets.readthedocs.io/en/stable/user_install.html\n",
      "  from .autonotebook import tqdm as notebook_tqdm\n"
     ]
    }
   ],
   "source": [
    "from src.Scorer import LLM_UncertaintyScorer, UncertaintyScorerConfig\n",
    "from src.Reader import LLM_Model, LLM_Config"
   ]
  },
  {
   "cell_type": "code",
   "execution_count": null,
   "id": "74a41d11-bbf3-4df7-b1ca-2e4320253584",
   "metadata": {},
   "outputs": [],
   "source": [
    "reader_config = LLM_Config()\n",
    "READER = LLM_Model(reader_config)"
   ]
  },
  {
   "cell_type": "code",
   "execution_count": 3,
   "id": "bc5b5d5a-a1fc-4c7c-8a1e-7ee9331818b9",
   "metadata": {},
   "outputs": [],
   "source": [
    "\n",
    "scorer_config = UncertaintyScorerConfig(\n",
    "        system_prompt = '''Ты - экспертная система, задача которой - оценить релевантность документа по отношению к данному вопросу. На вход поступает вопрос и документ в текстовом формате, твоя задача - вернуть одну из двух меток: \"{cert_label}\" - в документе содержится информация, которая может быть использована для верного ответа на данный вопрос и \"{uncert_label}\" - в документе не содержится информации, которая может быть использована для верного ответа на данный вопрос. Не пиши ничего другого, кроме предсказываемой метки релевантности: \"{cert_label}\" либо \"{uncert_label}\".\n",
    "\n",
    "Примеры: \n",
    "\n",
    "Вопрос: Кто такой барсук?\n",
    "Документ: Барсу́к, или обыкнове́нный барсу́к (лат. Meles meles) — вид млекопитающих из рода барсуков семейства куньих.\n",
    "Метка: {cert_label}\n",
    "\n",
    "Вопрос: Где обитают дельфины?\n",
    "Документ: Розетки, рассчитанные на 220 Вольт, обычно используют для подключения различных электрических приборов, мощность которых не превышает 3,5 кВт.\n",
    "Метка: {uncert_label}\n",
    "\n",
    "Вопрос: Когда родился Александр Сергеевич Пушкин?\n",
    "Документ: Ива́н Серге́евич Турге́нев (28 октября (9 ноября) 1818, Орёл, Российская империя — 22 августа (3 сентября) 1883, Буживаль, Франция) — русский писатель-реалист, поэт, публицист, драматург, переводчик.\n",
    "Метка: {uncert_label}''',\n",
    "    user_prompt_template = \"Вопрос: {q}\\nДокумент: {c}\\nМетка: \"\n",
    ")"
   ]
  },
  {
   "cell_type": "code",
   "execution_count": 5,
   "id": "fa864b93-d7f8-4b8a-a958-c3bd3a57cf50",
   "metadata": {},
   "outputs": [],
   "source": [
    "SCORER = LLM_UncertaintyScorer(scorer_config, READER)"
   ]
  },
  {
   "cell_type": "code",
   "execution_count": 6,
   "id": "557cd0c9-c7f1-4ad2-80bc-f41f4f1fd87a",
   "metadata": {},
   "outputs": [],
   "source": [
    "examples = [\n",
    "    []\n",
    "    [\"Когда родился Александр Сергеевич Пушкин?\", \"Ф. М. Достоевский родился 30 октября (11 ноября) 1821 г. в семье врача московской Мариинской больницы для бедных Михаила Андреевича Достоевского.\"],\n",
    "    [\"Кто написал книгу 'Атлант расправил плечи'?\", \"«Атла́нт расправил плечи» (англ. Atlas Shrugged, дословно — «Атлант пожал плечами») — роман-антиутопия американской писательницы Айн Рэнд, впервые опубликованный в 1957 году. Является четвёртым и последним романом Рэнд, а также самым длинным.\"]\n",
    "]"
   ]
  },
  {
   "cell_type": "code",
   "execution_count": 8,
   "id": "7945d5e2-1848-4714-8b34-e46fba11ebdf",
   "metadata": {},
   "outputs": [
    {
     "name": "stdout",
     "output_type": "stream",
     "text": [
      "\n",
      "EXAMPLE #1\n",
      "QUERY:\n",
      "Когда родился Александр Сергеевич Пушкин?\n",
      "CONTEXT:\n",
      "Ф. М. Достоевский родился 30 октября (11 ноября) 1821 г. в семье врача московской Мариинской больницы для бедных Михаила Андреевича Достоевского.\n",
      "SCORE:\n",
      "нерелевантный\n",
      "\n",
      "EXAMPLE #1\n",
      "QUERY:\n",
      "Кто написал книгу 'Атлант расправил плечи'?\n",
      "CONTEXT:\n",
      "«Атла́нт расправил плечи» (англ. Atlas Shrugged, дословно — «Атлант пожал плечами») — роман-антиутопия американской писательницы Айн Рэнд, впервые опубликованный в 1957 году. Является четвёртым и последним романом Рэнд, а также самым длинным.\n",
      "SCORE:\n",
      "релевантный\n"
     ]
    }
   ],
   "source": [
    "for i, example_pair in enumerate(examples):\n",
    "    print(\"\\nEXAMPLE #1\")\n",
    "    print(f\"QUERY:\\n{example_pair[0]}\")\n",
    "    print(f\"CONTEXT:\\n{example_pair[1]}\")\n",
    "    \n",
    "    predicted_score = SCORER.predict(example_pair[0], [example_pair[1]])\n",
    "    print(f\"SCORE:\\n{predicted_score[0]}\")"
   ]
  },
  {
   "cell_type": "code",
   "execution_count": null,
   "id": "59bdb122-55a2-405c-b813-73fc91889f7d",
   "metadata": {},
   "outputs": [],
   "source": []
  }
 ],
 "metadata": {
  "kernelspec": {
   "display_name": "mikhail_venv",
   "language": "python",
   "name": "mikhail_venv"
  },
  "language_info": {
   "codemirror_mode": {
    "name": "ipython",
    "version": 3
   },
   "file_extension": ".py",
   "mimetype": "text/x-python",
   "name": "python",
   "nbconvert_exporter": "python",
   "pygments_lexer": "ipython3",
   "version": "3.10.9"
  }
 },
 "nbformat": 4,
 "nbformat_minor": 5
}
