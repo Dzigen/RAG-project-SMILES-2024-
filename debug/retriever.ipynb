{
 "cells": [
  {
   "cell_type": "code",
   "execution_count": 1,
   "metadata": {},
   "outputs": [],
   "source": [
    "import sys\n",
    "#BASE_DIR = \"/home/dzigen/Desktop/ITMO/smiles2024/RAG-project-SMILES-2024-\"\n",
    "BASE_DIR = \"/trinity/home/team06/workspace/mikhail_workspace/rag_project\"\n",
    "sys.path.insert(0, BASE_DIR)"
   ]
  },
  {
   "cell_type": "code",
   "execution_count": 2,
   "metadata": {},
   "outputs": [
    {
     "name": "stderr",
     "output_type": "stream",
     "text": [
      "/trinity/home/team06/workspace/mikhail_workspace/mikhail_venv/lib/python3.10/site-packages/tqdm/auto.py:21: TqdmWarning: IProgress not found. Please update jupyter and ipywidgets. See https://ipywidgets.readthedocs.io/en/stable/user_install.html\n",
      "  from .autonotebook import tqdm as notebook_tqdm\n"
     ]
    }
   ],
   "source": [
    "from src.Retriever import ThresholdRetriever, ThresholdRetrieverConfig\n",
    "\n",
    "from src.Retriever import RerankRetriever, RerankRetrieverConfig\n",
    "from src.Reader import LLM_Model, LLM_Config"
   ]
  },
  {
   "cell_type": "code",
   "execution_count": 3,
   "metadata": {},
   "outputs": [],
   "source": [
    "config = ThresholdRetrieverConfig()"
   ]
  },
  {
   "cell_type": "code",
   "execution_count": null,
   "metadata": {},
   "outputs": [],
   "source": [
    "retriever = ThresholdRetriever(config)"
   ]
  },
  {
   "cell_type": "code",
   "execution_count": 5,
   "metadata": {},
   "outputs": [],
   "source": [
    "output = retriever.invoke(\"Знаменитая певица\")"
   ]
  },
  {
   "cell_type": "code",
   "execution_count": null,
   "metadata": {},
   "outputs": [],
   "source": []
  },
  {
   "cell_type": "code",
   "execution_count": 3,
   "metadata": {},
   "outputs": [],
   "source": [
    "reader_config = LLM_Config()\n",
    "retriever_config = RerankRetrieverConfig()"
   ]
  },
  {
   "cell_type": "code",
   "execution_count": 4,
   "metadata": {},
   "outputs": [
    {
     "name": "stderr",
     "output_type": "stream",
     "text": [
      "Loading checkpoint shards: 100%|██████████| 4/4 [03:35<00:00, 53.80s/it]\n"
     ]
    }
   ],
   "source": [
    "reader = LLM_Model(reader_config)"
   ]
  },
  {
   "cell_type": "code",
   "execution_count": 28,
   "metadata": {},
   "outputs": [],
   "source": [
    "from typing import List\n",
    "\n",
    "class LLM_UncertaintyScorer:\n",
    "    def __init__(self, config: UncertaintyScorerConfig, reader: LLM_Model):\n",
    "        self.config = config\n",
    "        self.reader = reader\n",
    "        self.system_prompt = self.config.system_prompt.format(\n",
    "            cert_label=self.config.cert_label,uncert_label=self.config.uncert_label)\n",
    "\n",
    "    def predict(self, query: str, contexts: List[str]):\n",
    "        user_prompts = [self.config.user_prompt_template.format(q=query, c=cntx) for cntx in contexts]\n",
    "        output = self.reader.generate(user_prompts, system_prompt=self.system_prompt, \n",
    "                                      gen_params=self.config.gen, batch_size=self.config.batch_size)\n",
    "\n",
    "        predicted_scores = []\n",
    "        for raw_scores in output:\n",
    "            for raw_score in list(map(lambda v: v.lower(), raw_scores)):\n",
    "                print(raw_score)\n",
    "                cert_dist = distance(self.config.cert_label, raw_score)\n",
    "                unsert_dist = distance(self.config.uncert_label, raw_score)\n",
    "                predicted_scores.append(self.config.cert_label if cert_dist < unsert_dist else self.config.uncert_label)\n",
    "\n",
    "        return predicted_scores\n",
    "\n",
    "class RerankRetriever:\n",
    "    def __init__(self, config: RerankRetrieverConfig, reader: LLM_Model):\n",
    "        self.config = config\n",
    "        self.stage1_retriever = ThresholdRetriever(self.config.stage1_retriever_config)\n",
    "        self.scorer = LLM_UncertaintyScorer(self.config.scorer_config, reader)\n",
    "\n",
    "    def rerank(self, query: str, docs: List[List[object]]):\n",
    "        predicted_scores = self.scorer.predict(query, list(map(lambda doc: doc[1], docs)))\n",
    "        relevant_docs = [doc for i, doc in enumerate(docs) if predicted_scores[i] == self.scorer.config.cert_label]\n",
    "        return relevant_docs \n",
    "    \n",
    "    def invoke(self, query: str):\n",
    "        stage1_relevant_docs = self.stage1_retriever.invoke(query)\n",
    "        stage2_relevant_docs = self.rerank(query, stage1_relevant_docs)\n",
    "        return stage2_relevant_docs"
   ]
  },
  {
   "cell_type": "code",
   "execution_count": 33,
   "metadata": {},
   "outputs": [],
   "source": [
    "retriever_config.scorer_config.cert_label = \"1\"\n",
    "retriever_config.scorer_config.uncert_label = \"0\""
   ]
  },
  {
   "cell_type": "code",
   "execution_count": 34,
   "metadata": {},
   "outputs": [
    {
     "name": "stderr",
     "output_type": "stream",
     "text": [
      "No sentence-transformers model found with name /trinity/home/team06/workspace/mikhail_workspace/rag_project/models/intfloat/multilingual-e5-small. Creating a new one with mean pooling.\n"
     ]
    }
   ],
   "source": [
    "retriever = RerankRetriever(retriever_config, reader)"
   ]
  },
  {
   "cell_type": "code",
   "execution_count": 37,
   "metadata": {},
   "outputs": [
    {
     "name": "stdout",
     "output_type": "stream",
     "text": [
      "1\n",
      "0\n",
      "0\n",
      "0\n",
      "0\n",
      "0\n",
      "0\n",
      "1\n",
      "0\n",
      "0\n"
     ]
    }
   ],
   "source": [
    "output = retriever.invoke(\"Когда родился Александр Тургенев??\")"
   ]
  },
  {
   "cell_type": "code",
   "execution_count": 38,
   "metadata": {},
   "outputs": [
    {
     "data": {
      "text/plain": [
       "[[0.14319467544555664,\n",
       "  'Ива́н Серге́евич Турге́нев (28 октября (9 ноября) 1818, Орёл, Российская империя — 22 августа (3 сентября) 1883, Буживаль, Франция) — русский писатель-реалист, поэт, публицист, драматург, переводчик. Один из классиков русской литературы, внёсших наиболее значительный вклад в её развитие во второй половине XIX века. Член-корреспондент императорской Академии наук по разряду русского языка и словесности (1860), почётный доктор Оксфордского университета (1879), почётный член Московского университета (1880).',\n",
       "  {'chunk_id': 5700535745,\n",
       "   'doc_id': 5700535745,\n",
       "   'next_chunk_id': 'None',\n",
       "   'prev_chunk_id': 'None'}],\n",
       " [0.19038772583007812,\n",
       "  'В начале 1842 года он подал в Московский университет просьбу о допуске к экзамену на степень магистра философии, однако в то время штатного профессора философии в университете не было, и его просьбу отклонили. Не устроившись в Москве, Тургенев удовлетворительно выдержал экзамен на степень магистра по греческой и латинской филологии на латинском языке в Петербургском университете и написал диссертацию для словесного факультета. Но к этому времени тяга к научной деятельности остыла, всё более стало привлекать литературное творчество. Отказавшись от защиты диссертации, он прослужил до 1844 года в чине коллежского секретаря в Министерстве внутренних дел.',\n",
       "  {'chunk_id': 6595180199,\n",
       "   'doc_id': 6595180199,\n",
       "   'next_chunk_id': 'None',\n",
       "   'prev_chunk_id': 'None'}]]"
      ]
     },
     "execution_count": 38,
     "metadata": {},
     "output_type": "execute_result"
    }
   ],
   "source": [
    "output"
   ]
  }
 ],
 "metadata": {
  "kernelspec": {
   "display_name": "mikhail_venv",
   "language": "python",
   "name": "mikhail_venv"
  },
  "language_info": {
   "codemirror_mode": {
    "name": "ipython",
    "version": 3
   },
   "file_extension": ".py",
   "mimetype": "text/x-python",
   "name": "python",
   "nbconvert_exporter": "python",
   "pygments_lexer": "ipython3",
   "version": "3.10.9"
  }
 },
 "nbformat": 4,
 "nbformat_minor": 4
}
